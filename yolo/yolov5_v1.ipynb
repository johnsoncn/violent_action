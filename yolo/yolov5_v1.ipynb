{
 "cells": [
  {
   "cell_type": "markdown",
   "metadata": {},
   "source": [
    "# yolov5\n",
    "version 1\n",
    "\n",
    "author: nmc-costa\n",
    "\n",
    "info:\n"
   ]
  },
  {
   "cell_type": "markdown",
   "metadata": {
    "colab_type": "text",
    "id": "7mGmQbAO5pQb"
   },
   "source": [
    "# Setup\n",
    "Go to tutorial_yolov5.ipnb for full setup (like cloning the yolov5 repo, etc...)"
   ]
  },
  {
   "cell_type": "code",
   "execution_count": 1,
   "metadata": {},
   "outputs": [
    {
     "name": "stdout",
     "output_type": "stream",
     "text": [
      "Setup complete. Using torch 1.5.1 CPU\n"
     ]
    }
   ],
   "source": [
    "import os\n",
    "import torch\n",
    "from IPython.display import Image, clear_output  # to display images\n",
    "\n",
    "#script dir [in case you use cd]\n",
    "scriptdir=os.getcwd()\n",
    "\n",
    "#cuda or cpu version\n",
    "clear_output()\n",
    "print('Setup complete. Using torch %s %s' % (torch.__version__, torch.cuda.get_device_properties(0) if torch.cuda.is_available() else 'CPU'))"
   ]
  },
  {
   "cell_type": "code",
   "execution_count": 2,
   "metadata": {},
   "outputs": [],
   "source": [
    "#yolov5 repo [other ways: %cd yolov5; or pip install yolov5 module as \"editable\" using a setup.py file]\n",
    "import yolov5\n",
    "from yolov5.utils.google_utils import gdrive_download  # to download models/datasets\n",
    "#Dir\n",
    "yolov5_dir=os.path.join(scriptdir, 'yolov5')"
   ]
  },
  {
   "cell_type": "markdown",
   "metadata": {},
   "source": [
    "## init vars"
   ]
  },
  {
   "cell_type": "markdown",
   "metadata": {},
   "source": [
    "## input data"
   ]
  },
  {
   "cell_type": "markdown",
   "metadata": {},
   "source": [
    "#### Prepare the dataset for yolo format (CHECK OUT tutorial_customdata.ipynb)\n",
    "\n",
    "1. create yaml file (like coco_external) for the dataset\n",
    "\n",
    "Yolov5 algorithm parses yaml information: path to dataset(train, validation and test) - YOLO (darknet) format; number of classes and classes names\n",
    "\n",
    "Dataset Directory structure:\n",
    "- dataset:\n",
    "    - annotations:\n",
    "        - json file: instances_samefoldername.json\n",
    "    - images:\n",
    "        - samefoldername\n",
    "    - labels:\n",
    "        - samefoldername\n",
    "\n",
    "\n",
    "2. check yaml and dataset paths if they are correct\n",
    "\n",
    "3. based on the path and parameters yolov5 creates a torch dataloader (create_dataloader func) from the dataset images and labels\n"
   ]
  },
  {
   "cell_type": "code",
   "execution_count": 3,
   "metadata": {},
   "outputs": [],
   "source": [
    "#YAML Paths\n",
    "coco_yaml=os.path.join(scriptdir, 'coco_external.yaml')\n",
    "coco128_yaml=os.path.join(scriptdir, 'coco128_external.yaml')"
   ]
  },
  {
   "cell_type": "markdown",
   "metadata": {},
   "source": [
    "#### Dowload coco datasets in YOLOv5 (darknet) format\n",
    "Download COCO val 2017 dataset, 1GB, 5000 images, and test model accuracy. (use function gdrive_dowload)"
   ]
  },
  {
   "cell_type": "code",
   "execution_count": null,
   "metadata": {},
   "outputs": [],
   "source": [
    "# Download COCO val2017\n",
    "gdrive_download('1Y6Kou6kEB0ZEMCCpJSKStCor4KAReE43','coco2017val.zip')  # val2017 dataset\n",
    "!mv ./coco /Volumes/Seagate/p19/external_datasets/coco  # move folder"
   ]
  },
  {
   "cell_type": "markdown",
   "metadata": {},
   "source": [
    "##### OR\n",
    "Download coco128 a small tutorial dataset composed of the first 128 images"
   ]
  },
  {
   "cell_type": "code",
   "execution_count": 3,
   "metadata": {},
   "outputs": [
    {
     "name": "stdout",
     "output_type": "stream",
     "text": [
      "Downloading https://drive.google.com/uc?export=download&id=1n_oKgR81BJtqk75b00eAjdv03qVCQn2f as coco128.zip... unzipping... Done (12.2s)\n"
     ]
    }
   ],
   "source": [
    "# Download coco128\n",
    "gdrive_download('1n_oKgR81BJtqk75b00eAjdv03qVCQn2f','coco128.zip')  # coco128 dataset\n",
    "!mv ./coco128 /Volumes/Seagate/p19/external_datasets/coco128  # move folder"
   ]
  },
  {
   "cell_type": "markdown",
   "metadata": {},
   "source": [
    "## preprocessing"
   ]
  },
  {
   "cell_type": "markdown",
   "metadata": {},
   "source": [
    "## processing"
   ]
  },
  {
   "cell_type": "markdown",
   "metadata": {},
   "source": [
    "### Train\n",
    "Run the training command below to train `coco128.yaml` for 5 epochs. You can train YOLOv5s from scratch by passing `--cfg yolov5s.yaml --weights ''`, or train from a pretrained checkpoint by passing a matching weights file: `--cfg yolov5s.yaml --weights yolov5s.pt`."
   ]
  },
  {
   "cell_type": "code",
   "execution_count": null,
   "metadata": {},
   "outputs": [
    {
     "name": "stdout",
     "output_type": "stream",
     "text": [
      "/Users/nm.costa/Google_Drive/projects/bosch_P19/research/python_ws/violent_action/yolo/yolov5\n",
      "/Users/nm.costa/Google_Drive/projects/bosch_P19/research/python_ws/violent_action/yolo/yolov5\n",
      "Dockerfile           \u001b[34minference\u001b[m\u001b[m            train.py\n",
      "LICENSE              \u001b[34mmodels\u001b[m\u001b[m               tutorial.ipynb\n",
      "\u001b[31mREADME.md\u001b[m\u001b[m            \u001b[31mrequirements.txt\u001b[m\u001b[m     \u001b[34mutils\u001b[m\u001b[m\n",
      "\u001b[34mdata\u001b[m\u001b[m                 test.py              \u001b[34mweights\u001b[m\u001b[m\n",
      "detect.py            test_batch0_gt.jpg   yolov5s.pt\n",
      "hubconf.py           test_batch0_pred.jpg yolov5x.pt\n",
      "Apex recommended for faster mixed precision training: https://github.com/NVIDIA/apex\n",
      "remote: Enumerating objects: 74, done.\u001b[K\n",
      "remote: Counting objects: 100% (74/74), done.\u001b[K\n",
      "remote: Compressing objects: 100% (4/4), done.\u001b[K\n",
      "remote: Total 293 (delta 70), reused 70 (delta 70), pack-reused 219\u001b[K\n",
      "Receiving objects: 100% (293/293), 572.73 KiB | 1.21 MiB/s, done.\n",
      "Resolving deltas: 100% (154/154), completed with 24 local objects.\n",
      "From https://github.com/ultralytics/yolov5\n",
      "   a1c8406..1e95337  master               -> origin/master\n",
      " * [new branch]      glenn-jocher-patch-1 -> origin/glenn-jocher-patch-1\n",
      "Your branch is behind 'origin/master' by 75 commits, and can be fast-forwarded.\n",
      "  (use \"git pull\" to update your local branch)\n",
      "\n",
      "Namespace(batch_size=16, bucket='', cache_images=False, cfg='./models/yolov5s.yaml', data='/Users/nm.costa/Google_Drive/projects/bosch_P19/research/python_ws/violent_action/yolo/coco128_external.yaml', device='', epochs=5, evolve=False, hyp='', img_size=[640], multi_scale=False, name='', noautoanchor=False, nosave=False, notest=False, rect=False, resume=False, single_cls=False, weights='')\n",
      "Using CPU\n",
      "\n",
      "Start Tensorboard with \"tensorboard --logdir=runs\", view at http://localhost:6006/\n",
      "Hyperparameters {'optimizer': 'SGD', 'lr0': 0.01, 'momentum': 0.937, 'weight_decay': 0.0005, 'giou': 0.05, 'cls': 0.58, 'cls_pw': 1.0, 'obj': 1.0, 'obj_pw': 1.0, 'iou_t': 0.2, 'anchor_t': 4.0, 'fl_gamma': 0.0, 'hsv_h': 0.014, 'hsv_s': 0.68, 'hsv_v': 0.36, 'degrees': 0.0, 'translate': 0.0, 'scale': 0.5, 'shear': 0.0}\n",
      "\n",
      "                 from  n    params  module                                  arguments                     \n",
      "  0                -1  1      3520  models.common.Focus                     [3, 32, 3]                    \n",
      "  1                -1  1     18560  models.common.Conv                      [32, 64, 3, 2]                \n",
      "  2                -1  1     19904  models.common.BottleneckCSP             [64, 64, 1]                   \n",
      "  3                -1  1     73984  models.common.Conv                      [64, 128, 3, 2]               \n",
      "  4                -1  1    161152  models.common.BottleneckCSP             [128, 128, 3]                 \n",
      "  5                -1  1    295424  models.common.Conv                      [128, 256, 3, 2]              \n",
      "  6                -1  1    641792  models.common.BottleneckCSP             [256, 256, 3]                 \n",
      "  7                -1  1   1180672  models.common.Conv                      [256, 512, 3, 2]              \n",
      "  8                -1  1    656896  models.common.SPP                       [512, 512, [5, 9, 13]]        \n",
      "  9                -1  1   1248768  models.common.BottleneckCSP             [512, 512, 1, False]          \n",
      " 10                -1  1    131584  models.common.Conv                      [512, 256, 1, 1]              \n",
      " 11                -1  1         0  torch.nn.modules.upsampling.Upsample    [None, 2, 'nearest']          \n",
      " 12           [-1, 6]  1         0  models.common.Concat                    [1]                           \n",
      " 13                -1  1    378624  models.common.BottleneckCSP             [512, 256, 1, False]          \n",
      " 14                -1  1     33024  models.common.Conv                      [256, 128, 1, 1]              \n",
      " 15                -1  1         0  torch.nn.modules.upsampling.Upsample    [None, 2, 'nearest']          \n",
      " 16           [-1, 4]  1         0  models.common.Concat                    [1]                           \n",
      " 17                -1  1     95104  models.common.BottleneckCSP             [256, 128, 1, False]          \n",
      " 18                -1  1     32895  torch.nn.modules.conv.Conv2d            [128, 255, 1, 1]              \n",
      " 19                -2  1    147712  models.common.Conv                      [128, 128, 3, 2]              \n",
      " 20          [-1, 14]  1         0  models.common.Concat                    [1]                           \n",
      " 21                -1  1    313088  models.common.BottleneckCSP             [256, 256, 1, False]          \n",
      " 22                -1  1     65535  torch.nn.modules.conv.Conv2d            [256, 255, 1, 1]              \n",
      " 23                -2  1    590336  models.common.Conv                      [256, 256, 3, 2]              \n",
      " 24          [-1, 10]  1         0  models.common.Concat                    [1]                           \n",
      " 25                -1  1   1248768  models.common.BottleneckCSP             [512, 512, 1, False]          \n",
      " 26                -1  1    130815  torch.nn.modules.conv.Conv2d            [512, 255, 1, 1]              \n",
      " 27      [-1, 22, 18]  1         0  models.yolo.Detect                      [80, [[116, 90, 156, 198, 373, 326], [30, 61, 62, 45, 59, 119], [10, 13, 16, 30, 33, 23]]]\n",
      "Model Summary: 191 layers, 7.46816e+06 parameters, 7.46816e+06 gradients\n",
      "\n",
      "Optimizer groups: 62 .bias, 70 conv.weight, 59 other\n",
      "Scanning labels /Volumes/Seagate/p19/external_datasets/coco128/labels/train2017.\n",
      "Scanning labels /Volumes/Seagate/p19/external_datasets/coco128/labels/train2017.\n",
      "\n",
      "Analyzing anchors... Best Possible Recall (BPR) = 0.9946\n",
      "Image sizes 640 train, 640 test\n",
      "Using 4 dataloader workers\n",
      "Starting training for 5 epochs...\n",
      "\n",
      "     Epoch   gpu_mem      GIoU       obj       cls     total   targets  img_size\n",
      "       0/4        0G    0.1166   0.08665    0.1217    0.3249       239       640\n",
      "               Class      Images     Targets           P           R      mAP@.5\n",
      "                 all         128         929           0           0           0           0\n",
      "\n",
      "     Epoch   gpu_mem      GIoU       obj       cls     total   targets  img_size\n",
      "       1/4        0G    0.1172   0.07837    0.1209    0.3164       242       640"
     ]
    }
   ],
   "source": [
    "# Train YOLOv5s on coco128 for 5 epochs\n",
    "%cd $yolov5_dir\n",
    "!pwd #current directory\n",
    "!ls #list directory\n",
    "!python train.py --img 640 --batch 16 --epochs 5 --data $coco128_yaml --cfg ./models/yolov5s.yaml --weights yolov5s.pt"
   ]
  },
  {
   "cell_type": "markdown",
   "metadata": {},
   "source": [
    "## postprocessing"
   ]
  },
  {
   "cell_type": "markdown",
   "metadata": {},
   "source": [
    "## output data"
   ]
  },
  {
   "cell_type": "markdown",
   "metadata": {},
   "source": [
    "### Test"
   ]
  },
  {
   "cell_type": "code",
   "execution_count": 6,
   "metadata": {},
   "outputs": [
    {
     "name": "stdout",
     "output_type": "stream",
     "text": [
      "/Users/nm.costa/Google_Drive/projects/bosch_P19/research/python_ws/violent_action/yolo/yolov5\n",
      "Dockerfile       detect.py        \u001b[31mrequirements.txt\u001b[m\u001b[m \u001b[34mutils\u001b[m\u001b[m\n",
      "LICENSE          hubconf.py       test.py          \u001b[34mweights\u001b[m\u001b[m\n",
      "\u001b[31mREADME.md\u001b[m\u001b[m        \u001b[34minference\u001b[m\u001b[m        train.py         yolov5s.pt\n",
      "\u001b[34mdata\u001b[m\u001b[m             \u001b[34mmodels\u001b[m\u001b[m           tutorial.ipynb   yolov5x.pt\n",
      "Namespace(augment=False, batch_size=32, conf_thres=0.001, data='/Users/nm.costa/Google_Drive/projects/bosch_P19/research/python_ws/violent_action/yolo/coco128_external.yaml', device='', img_size=672, iou_thres=0.65, merge=False, save_json=False, single_cls=False, task='val', verbose=False, weights=['yolov5x.pt'])\n",
      "Using CPU\n",
      "\n",
      "Fusing layers... Model Summary: 284 layers, 8.89222e+07 parameters, 8.89222e+07 gradients\n",
      "Scanning images: 100%|████████████████████████| 128/128 [00:01<00:00, 87.50it/s]\n",
      "Scanning labels /Volumes/Seagate/p19/external_datasets/coco128/labels/train2017.\n",
      "               Class      Images     Targets           P           R      mAP@.5"
     ]
    }
   ],
   "source": [
    "# SHELL Ipython: Run YOLOv5x on COCO validation images\n",
    "%cd $yolov5_dir\n",
    "!pwd #current directory\n",
    "!ls #list directory\n",
    "!python test.py --weights yolov5x.pt --data $coco128_yaml --task 'val' --img 672"
   ]
  },
  {
   "cell_type": "code",
   "execution_count": 25,
   "metadata": {},
   "outputs": [
    {
     "data": {
      "text/plain": [
       "'/Users/nm.costa/Google_Drive/projects/bosch_P19/research/python_ws/violent_action/yolo/yolov5'"
      ]
     },
     "execution_count": 25,
     "metadata": {},
     "output_type": "execute_result"
    }
   ],
   "source": [
    "os.getcwd()"
   ]
  },
  {
   "cell_type": "markdown",
   "metadata": {},
   "source": [
    "## NOMENCLATURE"
   ]
  },
  {
   "cell_type": "code",
   "execution_count": null,
   "metadata": {},
   "outputs": [],
   "source": []
  }
 ],
 "metadata": {
  "kernelspec": {
   "display_name": "Python 3",
   "language": "python",
   "name": "python3"
  },
  "language_info": {
   "codemirror_mode": {
    "name": "ipython",
    "version": 3
   },
   "file_extension": ".py",
   "mimetype": "text/x-python",
   "name": "python",
   "nbconvert_exporter": "python",
   "pygments_lexer": "ipython3",
   "version": "3.7.7"
  }
 },
 "nbformat": 4,
 "nbformat_minor": 4
}
