{
 "cells": [
  {
   "cell_type": "markdown",
   "metadata": {},
   "source": [
    "# yolov5\n",
    "version 1\n",
    "\n",
    "author: nmc-costa\n",
    "\n",
    "info:\n"
   ]
  },
  {
   "cell_type": "markdown",
   "metadata": {
    "colab_type": "text",
    "id": "7mGmQbAO5pQb"
   },
   "source": [
    "# Setup\n",
    "Go to tutorial_yolov5.ipnb for full setup (like cloning the yolov5 repo, etc...)"
   ]
  },
  {
   "cell_type": "code",
   "execution_count": 7,
   "metadata": {},
   "outputs": [
    {
     "name": "stdout",
     "output_type": "stream",
     "text": [
      "OS: Windows-10-10.0.20185-SP0\n",
      "Setup complete. Using torch 1.5.1 _CudaDeviceProperties(name='GeForce GTX 1070', major=6, minor=1, total_memory=8192MB, multi_processor_count=16)\n"
     ]
    }
   ],
   "source": [
    "import os\n",
    "import sys\n",
    "import platform\n",
    "import torch\n",
    "from IPython.display import Image, clear_output  # to display images\n",
    "\n",
    "#script dir [in case you use cd]\n",
    "scriptdir=sys.path[0] #os.getcwd()\n",
    "\n",
    "#cuda or cpu version\n",
    "clear_output()\n",
    "print('OS: {}'.format(platform.platform()))\n",
    "#os.environ[\"CUDA_VISIBLE_DEVICES\"]=\"\" #force CPU\n",
    "print('Setup complete. Using torch %s %s' % (torch.__version__, torch.cuda.get_device_properties(0) if torch.cuda.is_available() else 'CPU'))"
   ]
  },
  {
   "cell_type": "code",
   "execution_count": 8,
   "metadata": {},
   "outputs": [
    {
     "name": "stdout",
     "output_type": "stream",
     "text": [
      "C:\\Users\\nmc_costa\\google_drive\\projects\\bosch_P19\\research\\python_ws\\violent_action\\yolo\n"
     ]
    }
   ],
   "source": [
    "print(scriptdir)"
   ]
  },
  {
   "cell_type": "code",
   "execution_count": 9,
   "metadata": {},
   "outputs": [],
   "source": [
    "#yolov5 repo [other ways: %cd yolov5; or pip install yolov5 module as \"editable\" using a setup.py file]\n",
    "import yolov5\n",
    "from yolov5.utils.google_utils import gdrive_download  # to download models/datasets\n",
    "#Dir\n",
    "yolov5_dir=os.path.join(scriptdir, 'yolov5')"
   ]
  },
  {
   "cell_type": "markdown",
   "metadata": {},
   "source": [
    "## init vars"
   ]
  },
  {
   "cell_type": "markdown",
   "metadata": {},
   "source": [
    "## input data"
   ]
  },
  {
   "cell_type": "markdown",
   "metadata": {},
   "source": [
    "#### Prepare the dataset for yolo format (CHECK OUT tutorial_customdata.ipynb)\n",
    "\n",
    "1. create yaml file (like coco_external) for the dataset\n",
    "\n",
    "Yolov5 algorithm parses yaml information: path to dataset(train, validation and test) - YOLO (darknet) format; number of classes and classes names\n",
    "\n",
    "Dataset Directory structure:\n",
    "- dataset:\n",
    "    - annotations:\n",
    "        - json file: instances_samefoldername.json\n",
    "    - images:\n",
    "        - samefoldername\n",
    "    - labels:\n",
    "        - samefoldername\n",
    "\n",
    "\n",
    "2. check yaml and dataset paths if they are correct\n",
    "\n",
    "3. based on the path and parameters yolov5 creates a torch dataloader (create_dataloader func) from the dataset images and labels\n"
   ]
  },
  {
   "cell_type": "code",
   "execution_count": 10,
   "metadata": {},
   "outputs": [],
   "source": [
    "#YAML Paths\n",
    "coco_yaml=os.path.join(scriptdir, 'coco_external.yaml')\n",
    "coco128_yaml=os.path.join(scriptdir, 'coco128_external.yaml')"
   ]
  },
  {
   "cell_type": "markdown",
   "metadata": {},
   "source": [
    "#### Dowload coco datasets in YOLOv5 (darknet) format\n",
    "Download COCO val 2017 dataset, 1GB, 5000 images, and test model accuracy. (use function gdrive_dowload)"
   ]
  },
  {
   "cell_type": "code",
   "execution_count": null,
   "metadata": {},
   "outputs": [],
   "source": [
    "# Download COCO val2017\n",
    "\"\"\"\n",
    "gdrive_download('1Y6Kou6kEB0ZEMCCpJSKStCor4KAReE43','coco2017val.zip')  # val2017 dataset\n",
    "!mv ./coco /Volumes/Seagate/p19/external_datasets/coco  # move folder\n",
    "\"\"\""
   ]
  },
  {
   "cell_type": "markdown",
   "metadata": {},
   "source": [
    "##### OR\n",
    "Download coco128 a small tutorial dataset composed of the first 128 images"
   ]
  },
  {
   "cell_type": "code",
   "execution_count": null,
   "metadata": {},
   "outputs": [],
   "source": [
    "# Download coco128\n",
    "\"\"\"\n",
    "gdrive_download('1n_oKgR81BJtqk75b00eAjdv03qVCQn2f','coco128.zip')  # coco128 dataset\n",
    "!mv ./coco128 /mnt/d/external_datasets/coco128_new  # move folder\n",
    "\"\"\""
   ]
  },
  {
   "cell_type": "markdown",
   "metadata": {},
   "source": [
    "## preprocessing"
   ]
  },
  {
   "cell_type": "markdown",
   "metadata": {},
   "source": [
    "## processing"
   ]
  },
  {
   "cell_type": "markdown",
   "metadata": {},
   "source": [
    "### Train\n",
    "Run the training command below to train `coco128.yaml` for 5 epochs. You can train YOLOv5s from scratch by passing `--cfg yolov5s.yaml --weights ''`, or train from a pretrained checkpoint by passing a matching weights file: `--cfg yolov5s.yaml --weights yolov5s.pt`."
   ]
  },
  {
   "cell_type": "code",
   "execution_count": 6,
   "metadata": {},
   "outputs": [
    {
     "data": {
      "text/plain": [
       "ERROR: Timed out waiting for TensorBoard to start. It may still be running as pid 2696."
      ]
     },
     "metadata": {},
     "output_type": "display_data"
    }
   ],
   "source": [
    "# Start tensorboard (optional)\n",
    "%load_ext tensorboard\n",
    "%tensorboard --logdir runs"
   ]
  },
  {
   "cell_type": "code",
   "execution_count": 11,
   "metadata": {},
   "outputs": [
    {
     "name": "stdout",
     "output_type": "stream",
     "text": [
      "C:\\Users\\nmc_costa\\google_drive\\projects\\bosch_P19\\research\\python_ws\\violent_action\\yolo\\yolov5\n",
      "/c/Users/nmc_costa/google_drive/projects/bosch_P19/research/python_ws/violent_action/yolo/yolov5\n",
      "Dockerfile\n",
      "LICENSE\n",
      "README.md\n",
      "__init__.py\n",
      "__pycache__\n",
      "__pycache__ (1)\n",
      "data\n",
      "detect.py\n",
      "hubconf.py\n",
      "inference\n",
      "models\n",
      "requirements.txt\n",
      "runs\n",
      "test.py\n",
      "train.py\n",
      "tutorial.ipynb\n",
      "utils\n",
      "weights\n",
      "yolov5s.pt\n",
      "yolov5x.pt\n",
      "Apex recommended for faster mixed precision training: https://github.com/NVIDIA/apex"
     ]
    },
    {
     "name": "stderr",
     "output_type": "stream",
     "text": [
      "\n",
      "  0%|          | 0/128 [00:00<?, ?it/s]\n",
      "Scanning labels D:\\external_datasets\\coco128\\labels\\train2017.cache (126 found, 0 missing, 2 empty, 0 duplicate, for 128 images): 100%|##########| 128/128 [00:00<00:00, 15932.78it/s]\n",
      "\n",
      "Caching images:   0%|          | 0/128 [00:00<?, ?it/s]\n",
      "Caching images (0.0GB):  11%|#         | 14/128 [00:00<00:00, 137.26it/s]\n",
      "Caching images (0.0GB):  23%|##2       | 29/128 [00:00<00:00, 140.83it/s]\n",
      "Caching images (0.0GB):  34%|###4      | 44/128 [00:00<00:00, 141.45it/s]\n",
      "Caching images (0.1GB):  48%|####8     | 62/128 [00:00<00:00, 150.03it/s]\n",
      "Caching images (0.1GB):  60%|######    | 77/128 [00:00<00:00, 147.80it/s]\n",
      "Caching images (0.1GB):  73%|#######3  | 94/128 [00:00<00:00, 153.41it/s]\n",
      "Caching images (0.1GB):  87%|########6 | 111/128 [00:00<00:00, 157.60it/s]\n"
     ]
    },
    {
     "name": "stdout",
     "output_type": "stream",
     "text": [
      "\n",
      "Apex recommended for faster mixed precision training: https://github.com/NVIDIA/apex\n",
      "Apex recommended for faster mixed precision training: https://github.com/NVIDIA/apex\n",
      "Apex recommended for faster mixed precision training: https://github.com/NVIDIA/apex\n",
      "Apex recommended for faster mixed precision training: https://github.com/NVIDIA/apex\n",
      "Apex recommended for faster mixed precision training: https://github.com/NVIDIA/apex\n",
      "Apex recommended for faster mixed precision training: https://github.com/NVIDIA/apex\n",
      "Apex recommended for faster mixed precision training: https://github.com/NVIDIA/apex\n",
      "Apex recommended for faster mixed precision training: https://github.com/NVIDIA/apex\n",
      "Apex recommended for faster mixed precision training: https://github.com/NVIDIA/apex\n",
      "Apex recommended for faster mixed precision training: https://github.com/NVIDIA/apex\n",
      "Apex recommended for faster mixed precision training: https://github.com/NVIDIA/apex\n",
      "Apex recommended for faster mixed precision training: https://github.com/NVIDIA/apex\n",
      "Apex recommended for faster mixed precision training: https://github.com/NVIDIA/apex\n",
      "Apex recommended for faster mixed precision training: https://github.com/NVIDIA/apex\n",
      "Apex recommended for faster mixed precision training: https://github.com/NVIDIA/apex\n",
      "Apex recommended for faster mixed precision training: https://github.com/NVIDIA/apex\n",
      "Apex recommended for faster mixed precision training: https://github.com/NVIDIA/apex\n",
      "Apex recommended for faster mixed precision training: https://github.com/NVIDIA/apex\n",
      "Apex recommended for faster mixed precision training: https://github.com/NVIDIA/apex\n",
      "Apex recommended for faster mixed precision training: https://github.com/NVIDIA/apex\n",
      "Apex recommended for faster mixed precision training: https://github.com/NVIDIA/apex\n",
      "Apex recommended for faster mixed precision training: https://github.com/NVIDIA/apex\n",
      "Apex recommended for faster mixed precision training: https://github.com/NVIDIA/apex\n",
      "Apex recommended for faster mixed precision training: https://github.com/NVIDIA/apex\n",
      "Apex recommended for faster mixed precision training: https://github.com/NVIDIA/apex\n",
      "Apex recommended for faster mixed precision training: https://github.com/NVIDIA/apex\n",
      "Apex recommended for faster mixed precision training: https://github.com/NVIDIA/apex\n",
      "Apex recommended for faster mixed precision training: https://github.com/NVIDIA/apex\n",
      "Apex recommended for faster mixed precision training: https://github.com/NVIDIA/apex\n",
      "Apex recommended for faster mixed precision training: https://github.com/NVIDIA/apex\n",
      "Apex recommended for faster mixed precision training: https://github.com/NVIDIA/apex\n",
      "Apex recommended for faster mixed precision training: https://github.com/NVIDIA/apex\n",
      "Apex recommended for faster mixed precision training: https://github.com/NVIDIA/apex\n",
      "Apex recommended for faster mixed precision training: https://github.com/NVIDIA/apex\n",
      "Apex recommended for faster mixed precision training: https://github.com/NVIDIA/apex\n",
      "Apex recommended for faster mixed precision training: https://github.com/NVIDIA/apex\n",
      "Apex recommended for faster mixed precision training: https://github.com/NVIDIA/apex\n",
      "Apex recommended for faster mixed precision training: https://github.com/NVIDIA/apex\n",
      "Apex recommended for faster mixed precision training: https://github.com/NVIDIA/apex\n",
      "Apex recommended for faster mixed precision training: https://github.com/NVIDIA/apex\n",
      "Apex recommended for faster mixed precision training: https://github.com/NVIDIA/apex\n",
      "Apex recommended for faster mixed precision training: https://github.com/NVIDIA/apex\n",
      "Apex recommended for faster mixed precision training: https://github.com/NVIDIA/apex\n",
      "Apex recommended for faster mixed precision training: https://github.com/NVIDIA/apex\n",
      "Apex recommended for faster mixed precision training: https://github.com/NVIDIA/apex\n",
      "Apex recommended for faster mixed precision training: https://github.com/NVIDIA/apex\n",
      "Apex recommended for faster mixed precision training: https://github.com/NVIDIA/apex"
     ]
    },
    {
     "name": "stderr",
     "output_type": "stream",
     "text": [
      "Caching images (0.1GB): 100%|##########| 128/128 [00:00<00:00, 159.75it/s]\n",
      "Caching images (0.1GB): 100%|##########| 128/128 [00:00<00:00, 155.90it/s]\n",
      "\n",
      "  0%|          | 0/128 [00:00<?, ?it/s]\n",
      "Scanning labels D:\\external_datasets\\coco128\\labels\\train2017.cache (126 found, 0 missing, 2 empty, 0 duplicate, for 128 images): 100%|##########| 128/128 [00:00<00:00, 18277.70it/s]\n",
      "\n",
      "Caching images:   0%|          | 0/128 [00:00<?, ?it/s]\n",
      "Caching images (0.0GB):  15%|#4        | 19/128 [00:00<00:00, 177.57it/s]\n",
      "Caching images (0.0GB):  28%|##8       | 36/128 [00:00<00:00, 173.62it/s]\n",
      "Caching images (0.0GB):  41%|####      | 52/128 [00:00<00:00, 167.17it/s]\n",
      "Caching images (0.1GB):  54%|#####3    | 69/128 [00:00<00:00, 167.02it/s]\n",
      "Caching images (0.1GB):  66%|######5   | 84/128 [00:00<00:00, 157.95it/s]\n",
      "Caching images (0.1GB):  76%|#######5  | 97/128 [00:00<00:00, 144.91it/s]\n",
      "Caching images (0.1GB):  88%|########7 | 112/128 [00:00<00:00, 146.40it/s]\n",
      "Caching images (0.1GB):  99%|#########9| 127/128 [00:00<00:00, 145.73it/s]\n",
      "Caching images (0.1GB): 100%|##########| 128/128 [00:00<00:00, 152.38it/s]\n",
      "\n",
      "  0%|          | 0/8 [00:00<?, ?it/s]\n",
      "       0/2     6.57G   0.04097   0.05921    0.0172    0.1174       138       640:   0%|          | 0/8 [00:04<?, ?it/s]\n",
      "       0/2     6.57G   0.04097   0.05921    0.0172    0.1174       138       640:  12%|#2        | 1/8 [00:05<00:38,  5.47s/it]\n",
      "       0/2     6.58G   0.04047   0.07697   0.02028    0.1377       166       640:  12%|#2        | 1/8 [00:06<00:38,  5.47s/it]\n",
      "       0/2     6.58G   0.04047   0.07697   0.02028    0.1377       166       640:  25%|##5       | 2/8 [00:07<00:26,  4.38s/it]\n",
      "       0/2     6.58G   0.04382   0.08005   0.02299    0.1469       260       640:  25%|##5       | 2/8 [00:08<00:26,  4.38s/it]\n",
      "       0/2     6.58G   0.04382   0.08005   0.02299    0.1469       260       640:  38%|###7      | 3/8 [00:09<00:18,  3.65s/it]\n",
      "       0/2     6.58G   0.04362   0.07641   0.02184    0.1419       209       640:  38%|###7      | 3/8 [00:10<00:18,  3.65s/it]\n",
      "       0/2     6.58G   0.04362   0.07641   0.02184    0.1419       209       640:  50%|#####     | 4/8 [00:10<00:11,  2.90s/it]\n",
      "       0/2     6.58G   0.04412   0.07411   0.02326    0.1415       159       640:  50%|#####     | 4/8 [00:10<00:11,  2.90s/it]\n",
      "       0/2     6.58G   0.04412   0.07411   0.02326    0.1415       159       640:  62%|######2   | 5/8 [00:10<00:06,  2.17s/it]\n",
      "       0/2     6.58G   0.04396   0.07699   0.02332    0.1443       262       640:  62%|######2   | 5/8 [00:11<00:06,  2.17s/it]\n",
      "       0/2     6.58G   0.04396   0.07699   0.02332    0.1443       262       640:  75%|#######5  | 6/8 [00:11<00:03,  1.66s/it]\n",
      "       0/2     6.58G    0.0429   0.07388   0.02317      0.14       151       640:  75%|#######5  | 6/8 [00:11<00:03,  1.66s/it]\n",
      "       0/2     6.58G    0.0429   0.07388   0.02317      0.14       151       640:  88%|########7 | 7/8 [00:11<00:01,  1.31s/it]\n",
      "       0/2     6.58G   0.04243   0.07376   0.02259    0.1388       171       640:  88%|########7 | 7/8 [00:12<00:01,  1.31s/it]\n",
      "       0/2     6.58G   0.04243   0.07376   0.02259    0.1388       171       640: 100%|##########| 8/8 [00:12<00:00,  1.06s/it]\n",
      "       0/2     6.58G   0.04243   0.07376   0.02259    0.1388       171       640: 100%|##########| 8/8 [00:12<00:00,  1.61s/it]\n",
      "\n",
      "               Class      Images     Targets           P           R      mAP@.5  mAP@.5:.95:   0%|          | 0/8 [00:00<?, ?it/s]\n",
      "               Class      Images     Targets           P           R      mAP@.5  mAP@.5:.95:  12%|#2        | 1/8 [00:24<02:52, 24.62s/it]\n",
      "               Class      Images     Targets           P           R      mAP@.5  mAP@.5:.95:  25%|##5       | 2/8 [00:25<01:44, 17.35s/it]\n",
      "               Class      Images     Targets           P           R      mAP@.5  mAP@.5:.95:  38%|###7      | 3/8 [00:25<01:01, 12.39s/it]\n",
      "               Class      Images     Targets           P           R      mAP@.5  mAP@.5:.95:  50%|#####     | 4/8 [00:26<00:35,  8.76s/it]\n",
      "               Class      Images     Targets           P           R      mAP@.5  mAP@.5:.95:  62%|######2   | 5/8 [00:26<00:18,  6.28s/it]\n",
      "               Class      Images     Targets           P           R      mAP@.5  mAP@.5:.95:  75%|#######5  | 6/8 [00:27<00:09,  4.69s/it]\n",
      "               Class      Images     Targets           P           R      mAP@.5  mAP@.5:.95:  88%|########7 | 7/8 [00:28<00:03,  3.53s/it]\n",
      "               Class      Images     Targets           P           R      mAP@.5  mAP@.5:.95: 100%|##########| 8/8 [00:29<00:00,  2.70s/it]\n",
      "               Class      Images     Targets           P           R      mAP@.5  mAP@.5:.95: 100%|##########| 8/8 [00:29<00:00,  3.71s/it]\n",
      "\n",
      "  0%|          | 0/8 [00:00<?, ?it/s]\n",
      "       1/2     5.79G   0.04743   0.07737   0.01954    0.1443       193       640:   0%|          | 0/8 [00:00<?, ?it/s]\n",
      "       1/2     5.79G   0.04743   0.07737   0.01954    0.1443       193       640:  12%|#2        | 1/8 [00:00<00:06,  1.02it/s]\n",
      "       1/2     5.79G    0.0456   0.07975   0.02124    0.1466       237       640:  12%|#2        | 1/8 [00:01<00:06,  1.02it/s]\n",
      "       1/2     5.79G    0.0456   0.07975   0.02124    0.1466       237       640:  25%|##5       | 2/8 [00:01<00:04,  1.20it/s]\n",
      "       1/2     5.79G   0.04519   0.07393   0.02034    0.1395       194       640:  25%|##5       | 2/8 [00:01<00:04,  1.20it/s]\n",
      "       1/2     5.79G   0.04519   0.07393   0.02034    0.1395       194       640:  38%|###7      | 3/8 [00:01<00:03,  1.38it/s]\n",
      "       1/2     5.79G   0.04619   0.07391   0.01967    0.1398       218       640:  38%|###7      | 3/8 [00:02<00:03,  1.38it/s]\n",
      "       1/2     5.79G   0.04619   0.07391   0.01967    0.1398       218       640:  50%|#####     | 4/8 [00:02<00:02,  1.53it/s]\n",
      "       1/2     5.79G   0.04514   0.07623   0.02018    0.1415       208       640:  50%|#####     | 4/8 [00:02<00:02,  1.53it/s]\n",
      "       1/2     5.79G   0.04514   0.07623   0.02018    0.1415       208       640:  62%|######2   | 5/8 [00:02<00:01,  1.66it/s]\n",
      "       1/2     5.79G   0.04425   0.07301   0.02125    0.1385       116       640:  62%|######2   | 5/8 [00:03<00:01,  1.66it/s]\n",
      "       1/2     5.79G   0.04425   0.07301   0.02125    0.1385       116       640:  75%|#######5  | 6/8 [00:03<00:01,  1.77it/s]\n",
      "       1/2     5.79G   0.04456    0.0732   0.02118    0.1389       201       640:  75%|#######5  | 6/8 [00:03<00:01,  1.77it/s]\n",
      "       1/2     5.79G   0.04456    0.0732   0.02118    0.1389       201       640:  88%|########7 | 7/8 [00:03<00:00,  1.86it/s]\n",
      "       1/2     5.79G   0.04447   0.07245   0.02084    0.1378       196       640:  88%|########7 | 7/8 [00:04<00:00,  1.86it/s]\n",
      "       1/2     5.79G   0.04447   0.07245   0.02084    0.1378       196       640: 100%|##########| 8/8 [00:04<00:00,  1.92it/s]\n",
      "       1/2     5.79G   0.04447   0.07245   0.02084    0.1378       196       640: 100%|##########| 8/8 [00:04<00:00,  1.64it/s]\n",
      "\n",
      "               Class      Images     Targets           P           R      mAP@.5  mAP@.5:.95:   0%|          | 0/8 [00:00<?, ?it/s]\n",
      "               Class      Images     Targets           P           R      mAP@.5  mAP@.5:.95:  12%|#2        | 1/8 [00:23<02:42, 23.25s/it]\n",
      "               Class      Images     Targets           P           R      mAP@.5  mAP@.5:.95:  25%|##5       | 2/8 [00:23<01:38, 16.39s/it]\n",
      "               Class      Images     Targets           P           R      mAP@.5  mAP@.5:.95:  38%|###7      | 3/8 [00:23<00:57, 11.56s/it]\n",
      "               Class      Images     Targets           P           R      mAP@.5  mAP@.5:.95:  50%|#####     | 4/8 [00:24<00:32,  8.17s/it]\n",
      "               Class      Images     Targets           P           R      mAP@.5  mAP@.5:.95:  62%|######2   | 5/8 [00:24<00:17,  5.86s/it]\n",
      "               Class      Images     Targets           P           R      mAP@.5  mAP@.5:.95:  75%|#######5  | 6/8 [00:24<00:08,  4.20s/it]\n",
      "               Class      Images     Targets           P           R      mAP@.5  mAP@.5:.95:  88%|########7 | 7/8 [00:25<00:03,  3.03s/it]\n",
      "               Class      Images     Targets           P           R      mAP@.5  mAP@.5:.95: 100%|##########| 8/8 [00:25<00:00,  2.20s/it]\n",
      "               Class      Images     Targets           P           R      mAP@.5  mAP@.5:.95: 100%|##########| 8/8 [00:26<00:00,  3.26s/it]\n",
      "\n",
      "  0%|          | 0/8 [00:00<?, ?it/s]\n",
      "       2/2     5.79G   0.04221   0.05519   0.01351    0.1109       143       640:   0%|          | 0/8 [00:00<?, ?it/s]\n",
      "       2/2     5.79G   0.04221   0.05519   0.01351    0.1109       143       640:  12%|#2        | 1/8 [00:00<00:06,  1.12it/s]\n",
      "       2/2     5.79G   0.04555   0.07989   0.01588    0.1413       264       640:  12%|#2        | 1/8 [00:01<00:06,  1.12it/s]\n",
      "       2/2     5.79G   0.04555   0.07989   0.01588    0.1413       264       640:  25%|##5       | 2/8 [00:01<00:04,  1.30it/s]\n",
      "       2/2     5.79G   0.04603   0.08575   0.01914    0.1509       255       640:  25%|##5       | 2/8 [00:01<00:04,  1.30it/s]\n",
      "       2/2     5.79G   0.04603   0.08575   0.01914    0.1509       255       640:  38%|###7      | 3/8 [00:01<00:03,  1.47it/s]\n",
      "       2/2     5.79G   0.04583   0.08977   0.01864    0.1542       280       640:  38%|###7      | 3/8 [00:02<00:03,  1.47it/s]\n",
      "       2/2     5.79G   0.04583   0.08977   0.01864    0.1542       280       640:  50%|#####     | 4/8 [00:02<00:02,  1.62it/s]\n",
      "       2/2     5.79G   0.04571   0.08807   0.01887    0.1526       185       640:  50%|#####     | 4/8 [00:02<00:02,  1.62it/s]\n",
      "       2/2     5.79G   0.04571   0.08807   0.01887    0.1526       185       640:  62%|######2   | 5/8 [00:02<00:01,  1.74it/s]\n",
      "       2/2     5.79G   0.04574   0.08672   0.01916    0.1516       239       640:  62%|######2   | 5/8 [00:03<00:01,  1.74it/s]\n",
      "       2/2     5.79G   0.04574   0.08672   0.01916    0.1516       239       640:  75%|#######5  | 6/8 [00:03<00:01,  1.82it/s]\n",
      "       2/2     5.79G   0.04597   0.08336    0.0193    0.1486       199       640:  75%|#######5  | 6/8 [00:03<00:01,  1.82it/s]\n",
      "       2/2     5.79G   0.04597   0.08336    0.0193    0.1486       199       640:  88%|########7 | 7/8 [00:03<00:00,  1.91it/s]\n",
      "       2/2     5.79G   0.04545   0.08168   0.01917    0.1463       200       640:  88%|########7 | 7/8 [00:04<00:00,  1.91it/s]\n",
      "       2/2     5.79G   0.04545   0.08168   0.01917    0.1463       200       640: 100%|##########| 8/8 [00:04<00:00,  1.96it/s]\n",
      "       2/2     5.79G   0.04545   0.08168   0.01917    0.1463       200       640: 100%|##########| 8/8 [00:04<00:00,  1.68it/s]\n",
      "\n",
      "               Class      Images     Targets           P           R      mAP@.5  mAP@.5:.95:   0%|          | 0/8 [00:00<?, ?it/s]\n",
      "               Class      Images     Targets           P           R      mAP@.5  mAP@.5:.95:  12%|#2        | 1/8 [00:22<02:37, 22.48s/it]\n",
      "               Class      Images     Targets           P           R      mAP@.5  mAP@.5:.95:  25%|##5       | 2/8 [00:22<01:35, 15.84s/it]\n",
      "               Class      Images     Targets           P           R      mAP@.5  mAP@.5:.95:  38%|###7      | 3/8 [00:23<00:55, 11.18s/it]\n",
      "               Class      Images     Targets           P           R      mAP@.5  mAP@.5:.95:  50%|#####     | 4/8 [00:23<00:31,  7.91s/it]\n",
      "               Class      Images     Targets           P           R      mAP@.5  mAP@.5:.95:  62%|######2   | 5/8 [00:23<00:17,  5.68s/it]\n",
      "               Class      Images     Targets           P           R      mAP@.5  mAP@.5:.95:  75%|#######5  | 6/8 [00:24<00:08,  4.08s/it]\n",
      "               Class      Images     Targets           P           R      mAP@.5  mAP@.5:.95:  88%|########7 | 7/8 [00:24<00:02,  2.94s/it]\n",
      "               Class      Images     Targets           P           R      mAP@.5  mAP@.5:.95: 100%|##########| 8/8 [00:24<00:00,  2.14s/it]\n",
      "               Class      Images     Targets           P           R      mAP@.5  mAP@.5:.95: 100%|##########| 8/8 [00:25<00:00,  3.16s/it]\n"
     ]
    },
    {
     "name": "stdout",
     "output_type": "stream",
     "text": [
      "\n",
      "Apex recommended for faster mixed precision training: https://github.com/NVIDIA/apex\n",
      "Namespace(batch_size=16, bucket='', cache_images=True, cfg='./models/yolov5s.yaml', data='C:\\\\Users\\\\nmc_costa\\\\google_drive\\\\projects\\\\bosch_P19\\\\research\\\\python_ws\\\\violent_action\\\\yolo\\\\coco128_external.yaml', device='', epochs=3, evolve=False, hyp='', img_size=[640], multi_scale=False, name='', noautoanchor=False, nosave=True, notest=False, rect=False, resume=False, single_cls=False, weights='yolov5s.pt')\n",
      "Using CUDA device0 _CudaDeviceProperties(name='GeForce GTX 1070', total_memory=8192MB)\n",
      "\n",
      "Start Tensorboard with \"tensorboard --logdir=runs\", view at http://localhost:6006/\n",
      "Hyperparameters {'optimizer': 'SGD', 'lr0': 0.01, 'momentum': 0.937, 'weight_decay': 0.0005, 'giou': 0.05, 'cls': 0.58, 'cls_pw': 1.0, 'obj': 1.0, 'obj_pw': 1.0, 'iou_t': 0.2, 'anchor_t': 4.0, 'fl_gamma': 0.0, 'hsv_h': 0.014, 'hsv_s': 0.68, 'hsv_v': 0.36, 'degrees': 0.0, 'translate': 0.0, 'scale': 0.5, 'shear': 0.0}\n",
      "\n",
      "                 from  n    params  module                                  arguments                     \n",
      "  0                -1  1      3520  models.common.Focus                     [3, 32, 3]                    \n",
      "  1                -1  1     18560  models.common.Conv                      [32, 64, 3, 2]                \n",
      "  2                -1  1     19904  models.common.BottleneckCSP             [64, 64, 1]                   \n",
      "  3                -1  1     73984  models.common.Conv                      [64, 128, 3, 2]               \n",
      "  4                -1  1    161152  models.common.BottleneckCSP             [128, 128, 3]                 \n",
      "  5                -1  1    295424  models.common.Conv                      [128, 256, 3, 2]              \n",
      "  6                -1  1    641792  models.common.BottleneckCSP             [256, 256, 3]                 \n",
      "  7                -1  1   1180672  models.common.Conv                      [256, 512, 3, 2]              \n",
      "  8                -1  1    656896  models.common.SPP                       [512, 512, [5, 9, 13]]        \n",
      "  9                -1  1   1248768  models.common.BottleneckCSP             [512, 512, 1, False]          \n",
      " 10                -1  1    131584  models.common.Conv                      [512, 256, 1, 1]              \n",
      " 11                -1  1         0  torch.nn.modules.upsampling.Upsample    [None, 2, 'nearest']          \n",
      " 12           [-1, 6]  1         0  models.common.Concat                    [1]                           \n",
      " 13                -1  1    378624  models.common.BottleneckCSP             [512, 256, 1, False]          \n",
      " 14                -1  1     33024  models.common.Conv                      [256, 128, 1, 1]              \n",
      " 15                -1  1         0  torch.nn.modules.upsampling.Upsample    [None, 2, 'nearest']          \n",
      " 16           [-1, 4]  1         0  models.common.Concat                    [1]                           \n",
      " 17                -1  1     95104  models.common.BottleneckCSP             [256, 128, 1, False]          \n",
      " 18                -1  1     32895  torch.nn.modules.conv.Conv2d            [128, 255, 1, 1]              \n",
      " 19                -2  1    147712  models.common.Conv                      [128, 128, 3, 2]              \n",
      " 20          [-1, 14]  1         0  models.common.Concat                    [1]                           \n",
      " 21                -1  1    313088  models.common.BottleneckCSP             [256, 256, 1, False]          \n",
      " 22                -1  1     65535  torch.nn.modules.conv.Conv2d            [256, 255, 1, 1]              \n",
      " 23                -2  1    590336  models.common.Conv                      [256, 256, 3, 2]              \n",
      " 24          [-1, 10]  1         0  models.common.Concat                    [1]                           \n",
      " 25                -1  1   1248768  models.common.BottleneckCSP             [512, 512, 1, False]          \n",
      " 26                -1  1    130815  torch.nn.modules.conv.Conv2d            [512, 255, 1, 1]              \n",
      " 27      [-1, 22, 18]  1         0  models.yolo.Detect                      [80, [[116, 90, 156, 198, 373, 326], [30, 61, 62, 45, 59, 119], [10, 13, 16, 30, 33, 23]]]\n",
      "Model Summary: 191 layers, 7.46816e+06 parameters, 7.46816e+06 gradients\n",
      "\n",
      "Optimizer groups: 62 .bias, 70 conv.weight, 59 other\n",
      "\n",
      "Analyzing anchors... Best Possible Recall (BPR) = 0.9946\n",
      "Image sizes 640 train, 640 test\n",
      "Using 8 dataloader workers\n",
      "Starting training for 3 epochs...\n",
      "\n",
      "     Epoch   gpu_mem      GIoU       obj       cls     total   targets  img_size\n",
      "                 all         128         929       0.338        0.76       0.692       0.449\n",
      "\n",
      "     Epoch   gpu_mem      GIoU       obj       cls     total   targets  img_size\n",
      "                 all         128         929       0.353       0.766        0.69       0.449\n",
      "\n",
      "     Epoch   gpu_mem      GIoU       obj       cls     total   targets  img_size\n",
      "                 all         128         929       0.355       0.765        0.69       0.451\n",
      "Optimizer stripped from runs\\exp0\\weights\\last.pt, 15.2MB\n",
      "3 epochs completed in 0.048 hours.\n",
      "\n"
     ]
    }
   ],
   "source": [
    "# Train YOLOv5s on coco128 for 5 epochs\n",
    "# WINDOWS BUG 1 # UPDATE: yolov5.utils.increment_dir function error in windows path -update try: except: n=0 #UPDATE removed\n",
    "# WINDOWS BUG 2 : zip() function gives a keyerror\n",
    "# CODE BUG  : they use 'opt' var declared in if __name__ == '__main__': as a global var : #WARNING can only debug inside script, or you need to recreate the opt as global in your script\n",
    "# pip install -e will be the last resort\n",
    "%cd $yolov5_dir\n",
    "!pwd\n",
    "!ls\n",
    "!python train.py --img 640 --batch 16 --epochs 3 --data $coco128_yaml --cfg ./models/yolov5s.yaml --weights yolov5s.pt --nosave --cache"
   ]
  },
  {
   "cell_type": "markdown",
   "metadata": {},
   "source": [
    "## postprocessing"
   ]
  },
  {
   "cell_type": "markdown",
   "metadata": {},
   "source": [
    "## output data"
   ]
  },
  {
   "cell_type": "markdown",
   "metadata": {},
   "source": [
    "### Test"
   ]
  },
  {
   "cell_type": "code",
   "execution_count": 5,
   "metadata": {},
   "outputs": [
    {
     "name": "stdout",
     "output_type": "stream",
     "text": [
      "C:\\Users\\nmc_costa\\google_drive\\projects\\bosch_P19\\research\\python_ws\\violent_action\\yolo\\yolov5\n",
      "/c/Users/nmc_costa/google_drive/projects/bosch_P19/research/python_ws/violent_action/yolo/yolov5\n",
      "Dockerfile\n",
      "LICENSE\n",
      "README.md\n",
      "__init__.py\n",
      "__pycache__\n",
      "__pycache__ (1)\n",
      "data\n",
      "detect.py\n",
      "hubconf.py\n",
      "inference\n",
      "models\n",
      "requirements.txt\n",
      "runs\n",
      "test.py\n",
      "train.py\n",
      "tutorial.ipynb\n",
      "utils\n",
      "weights\n",
      "yolov5s.pt\n",
      "yolov5x.pt\n",
      "Namespace(augment=False, batch_size=32, conf_thres=0.001, data='C:\\\\Users\\\\nmc_costa\\\\google_drive\\\\projects\\\\bosch_P19\\\\research\\\\python_ws\\\\violent_action\\\\yolo\\\\coco128_external.yaml', device='', img_size=672, iou_thres=0.65, merge=False, save_json=False, single_cls=False, task=\"'val'\", verbose=False, weights=['yolov5x.pt'])\n"
     ]
    }
   ],
   "source": [
    "# SHELL Ipython: Run YOLOv5x on COCO validation images\n",
    "%cd $yolov5_dir\n",
    "!pwd\n",
    "!ls\n",
    "!python test.py --weights yolov5x.pt --data $coco128_yaml --task 'val' --img 672"
   ]
  },
  {
   "cell_type": "markdown",
   "metadata": {},
   "source": [
    "## NOMENCLATURE"
   ]
  },
  {
   "cell_type": "code",
   "execution_count": null,
   "metadata": {},
   "outputs": [],
   "source": []
  },
  {
   "cell_type": "code",
   "execution_count": null,
   "metadata": {},
   "outputs": [],
   "source": []
  }
 ],
 "metadata": {
  "kernelspec": {
   "display_name": "Python 3",
   "language": "python",
   "name": "python3"
  },
  "language_info": {
   "codemirror_mode": {
    "name": "ipython",
    "version": 3
   },
   "file_extension": ".py",
   "mimetype": "text/x-python",
   "name": "python",
   "nbconvert_exporter": "python",
   "pygments_lexer": "ipython3",
   "version": "3.8.3"
  }
 },
 "nbformat": 4,
 "nbformat_minor": 4
}
