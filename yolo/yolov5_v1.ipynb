{
 "cells": [
  {
   "cell_type": "markdown",
   "metadata": {},
   "source": [
    "# yolov5\n",
    "version 1\n",
    "\n",
    "author: nmc-costa\n",
    "\n",
    "info:\n"
   ]
  },
  {
   "cell_type": "markdown",
   "metadata": {
    "colab_type": "text",
    "id": "7mGmQbAO5pQb"
   },
   "source": [
    "# Setup\n",
    "Go to tutorial_yolov5.ipnb for full setup (like cloning the yolov5 repo, etc...)"
   ]
  },
  {
   "cell_type": "code",
   "execution_count": 1,
   "metadata": {},
   "outputs": [
    {
     "name": "stdout",
     "output_type": "stream",
     "text": [
      "Setup complete. Using torch 1.5.1 _CudaDeviceProperties(name='GeForce GTX 1070', major=6, minor=1, total_memory=8192MB, multi_processor_count=16)\n"
     ]
    }
   ],
   "source": [
    "import os\n",
    "import sys\n",
    "import torch\n",
    "from IPython.display import Image, clear_output  # to display images\n",
    "\n",
    "#script dir [in case you use cd]\n",
    "scriptdir=sys.path[0] #os.getcwd()\n",
    "\n",
    "#cuda or cpu version\n",
    "clear_output()\n",
    "print('Setup complete. Using torch %s %s' % (torch.__version__, torch.cuda.get_device_properties(0) if torch.cuda.is_available() else 'CPU'))"
   ]
  },
  {
   "cell_type": "code",
   "execution_count": 2,
   "metadata": {},
   "outputs": [
    {
     "name": "stdout",
     "output_type": "stream",
     "text": [
      "C:\\Users\\nmc_costa\\google_drive\\projects\\bosch_P19\\research\\python_ws\\violent_action\\yolo\n"
     ]
    }
   ],
   "source": [
    "print(sys.path[0])"
   ]
  },
  {
   "cell_type": "code",
   "execution_count": 3,
   "metadata": {},
   "outputs": [],
   "source": [
    "#yolov5 repo [other ways: %cd yolov5; or pip install yolov5 module as \"editable\" using a setup.py file]\n",
    "import yolov5\n",
    "from yolov5.utils.google_utils import gdrive_download  # to download models/datasets\n",
    "#Dir\n",
    "yolov5_dir=os.path.join(scriptdir, 'yolov5')"
   ]
  },
  {
   "cell_type": "markdown",
   "metadata": {},
   "source": [
    "## init vars"
   ]
  },
  {
   "cell_type": "markdown",
   "metadata": {},
   "source": [
    "## input data"
   ]
  },
  {
   "cell_type": "markdown",
   "metadata": {},
   "source": [
    "#### Prepare the dataset for yolo format (CHECK OUT tutorial_customdata.ipynb)\n",
    "\n",
    "1. create yaml file (like coco_external) for the dataset\n",
    "\n",
    "Yolov5 algorithm parses yaml information: path to dataset(train, validation and test) - YOLO (darknet) format; number of classes and classes names\n",
    "\n",
    "Dataset Directory structure:\n",
    "- dataset:\n",
    "    - annotations:\n",
    "        - json file: instances_samefoldername.json\n",
    "    - images:\n",
    "        - samefoldername\n",
    "    - labels:\n",
    "        - samefoldername\n",
    "\n",
    "\n",
    "2. check yaml and dataset paths if they are correct\n",
    "\n",
    "3. based on the path and parameters yolov5 creates a torch dataloader (create_dataloader func) from the dataset images and labels\n"
   ]
  },
  {
   "cell_type": "code",
   "execution_count": 4,
   "metadata": {},
   "outputs": [],
   "source": [
    "#YAML Paths\n",
    "coco_yaml=os.path.join(scriptdir, 'coco_external.yaml')\n",
    "coco128_yaml=os.path.join(scriptdir, 'coco128_external.yaml')"
   ]
  },
  {
   "cell_type": "markdown",
   "metadata": {},
   "source": [
    "#### Dowload coco datasets in YOLOv5 (darknet) format\n",
    "Download COCO val 2017 dataset, 1GB, 5000 images, and test model accuracy. (use function gdrive_dowload)"
   ]
  },
  {
   "cell_type": "code",
   "execution_count": null,
   "metadata": {},
   "outputs": [],
   "source": [
    "# Download COCO val2017\n",
    "gdrive_download('1Y6Kou6kEB0ZEMCCpJSKStCor4KAReE43','coco2017val.zip')  # val2017 dataset\n",
    "!mv ./coco /Volumes/Seagate/p19/external_datasets/coco  # move folder"
   ]
  },
  {
   "cell_type": "markdown",
   "metadata": {},
   "source": [
    "##### OR\n",
    "Download coco128 a small tutorial dataset composed of the first 128 images"
   ]
  },
  {
   "cell_type": "code",
   "execution_count": 3,
   "metadata": {},
   "outputs": [
    {
     "name": "stdout",
     "output_type": "stream",
     "text": [
      "Downloading https://drive.google.com/uc?export=download&id=1n_oKgR81BJtqk75b00eAjdv03qVCQn2f as coco128.zip... unzipping... Done (12.2s)\n"
     ]
    }
   ],
   "source": [
    "# Download coco128\n",
    "gdrive_download('1n_oKgR81BJtqk75b00eAjdv03qVCQn2f','coco128.zip')  # coco128 dataset\n",
    "!mv ./coco128 /Volumes/Seagate/p19/external_datasets/coco128  # move folder"
   ]
  },
  {
   "cell_type": "markdown",
   "metadata": {},
   "source": [
    "## preprocessing"
   ]
  },
  {
   "cell_type": "markdown",
   "metadata": {},
   "source": [
    "## processing"
   ]
  },
  {
   "cell_type": "markdown",
   "metadata": {},
   "source": [
    "### Train\n",
    "Run the training command below to train `coco128.yaml` for 5 epochs. You can train YOLOv5s from scratch by passing `--cfg yolov5s.yaml --weights ''`, or train from a pretrained checkpoint by passing a matching weights file: `--cfg yolov5s.yaml --weights yolov5s.pt`."
   ]
  },
  {
   "cell_type": "code",
   "execution_count": null,
   "metadata": {},
   "outputs": [],
   "source": [
    "# Start tensorboard (optional)\n",
    "%load_ext tensorboard\n",
    "%tensorboard --logdir runs"
   ]
  },
  {
   "cell_type": "code",
   "execution_count": 11,
   "metadata": {},
   "outputs": [
    {
     "name": "stdout",
     "output_type": "stream",
     "text": [
      "C:\\Users\\nmc_costa\\google_drive\\projects\\bosch_P19\\research\\python_ws\\violent_action\\yolo\\yolov5\n",
      "/c/Users/nmc_costa/google_drive/projects/bosch_P19/research/python_ws/violent_action/yolo/yolov5\n",
      "Dockerfile\n",
      "LICENSE\n",
      "README.md\n",
      "__init__.py\n",
      "__pycache__\n",
      "data\n",
      "detect.py\n",
      "hubconf.py\n",
      "inference\n",
      "models\n",
      "requirements.txt\n",
      "runs\n",
      "test.py\n",
      "train.py\n",
      "tutorial.ipynb\n",
      "utils\n",
      "weights\n",
      "yolov5s.pt\n",
      "yolov5x.pt\n",
      "Apex recommended for faster mixed precision training: https://github.com/NVIDIA/apex\n",
      "Namespace(batch_size=16, bucket='', cache_images=False, cfg='./models/yolov5s.yaml', data='C:\\\\Users\\\\nmc_costa\\\\google_drive\\\\projects\\\\bosch_P19\\\\research\\\\python_ws\\\\violent_action\\\\yolo\\\\coco128_external.yaml', device='', epochs=5, evolve=False, hyp='', img_size=[640], multi_scale=False, name='', noautoanchor=False, nosave=False, notest=False, rect=False, resume=False, single_cls=False, weights='yolov5s.pt')\n",
      "Using CUDA device0 _CudaDeviceProperties(name='GeForce GTX 1070', total_memory=8192MB)\n",
      "\n"
     ]
    },
    {
     "name": "stderr",
     "output_type": "stream",
     "text": [
      "Traceback (most recent call last):\n",
      "  File \"train.py\", line 402, in <module>\n",
      "    tb_writer = SummaryWriter(log_dir=increment_dir('runs/exp', opt.name))\n",
      "  File \"C:\\Users\\nmc_costa\\google_drive\\projects\\bosch_P19\\research\\python_ws\\violent_action\\yolo\\yolov5\\utils\\utils.py\", line 908, in increment_dir\n",
      "    n = int(d[:d.find('_')] if '_' in d else d) + 1  # increment\n",
      "ValueError: invalid literal for int() with base 10: 'runs\\\\exp0'\n"
     ]
    }
   ],
   "source": [
    "# Train YOLOv5s on coco128 for 5 epochs\n",
    "# WINDOWS BUG 1 # UPDATE: yolov5.utils.increment_dir function error in windows path -update try: except: n=0 #UPDATE removed\n",
    "# WINDOWS BUG 2 : zip() function gives a keyerror\n",
    "# CODE BUG  : they use 'opt' var declared in if __name__ == '__main__': as a global var : #WARNING can only debug inside script, or you need to recreate the opt as global in your script\n",
    "# pip install -e will be the last resort\n",
    "%cd $yolov5_dir\n",
    "!pwd\n",
    "!ls\n",
    "!python train.py --img 640 --batch 16 --epochs 3 --data $coco128_yaml --cfg ./models/yolov5s.yaml --weights yolov5s.pt --nosave --cache"
   ]
  },
  {
   "cell_type": "markdown",
   "metadata": {},
   "source": [
    "## postprocessing"
   ]
  },
  {
   "cell_type": "markdown",
   "metadata": {},
   "source": [
    "## output data"
   ]
  },
  {
   "cell_type": "markdown",
   "metadata": {},
   "source": [
    "### Test"
   ]
  },
  {
   "cell_type": "code",
   "execution_count": 7,
   "metadata": {},
   "outputs": [
    {
     "name": "stdout",
     "output_type": "stream",
     "text": [
      "C:\\Users\\nmc_costa\\google_drive\\projects\\bosch_P19\\research\\python_ws\\violent_action\\yolo\\yolov5\n",
      "/c/Users/nmc_costa/google_drive/projects/bosch_P19/research/python_ws/violent_action/yolo/yolov5\n"
     ]
    },
    {
     "name": "stderr",
     "output_type": "stream",
     "text": [
      "pwd: ignoring non-option arguments\n",
      "ls: cannot access '#list': No such file or directory\n",
      "ls: cannot access 'directory': No such file or directory\n"
     ]
    },
    {
     "name": "stdout",
     "output_type": "stream",
     "text": [
      "Namespace(augment=False, batch_size=32, conf_thres=0.001, data='C:\\\\Users\\\\nmc_costa\\\\google_drive\\\\projects\\\\bosch_P19\\\\research\\\\python_ws\\\\violent_action\\\\yolo\\\\coco128_external.yaml', device='', img_size=672, iou_thres=0.65, merge=False, save_json=False, single_cls=False, task=\"'val'\", verbose=False, weights=['yolov5x.pt'])\n"
     ]
    }
   ],
   "source": [
    "# SHELL Ipython: Run YOLOv5x on COCO validation images\n",
    "%cd $yolov5_dir\n",
    "!pwd\n",
    "!ls\n",
    "!python test.py --weights yolov5x.pt --data $coco128_yaml --task 'val' --img 672"
   ]
  },
  {
   "cell_type": "code",
   "execution_count": 5,
   "metadata": {},
   "outputs": [
    {
     "data": {
      "text/plain": [
       "'C:\\\\Users\\\\nmc_costa\\\\google_drive\\\\projects\\\\bosch_P19\\\\research\\\\python_ws\\\\violent_action\\\\yolo\\\\yolov5'"
      ]
     },
     "execution_count": 5,
     "metadata": {},
     "output_type": "execute_result"
    }
   ],
   "source": [
    "os.getcwd()"
   ]
  },
  {
   "cell_type": "markdown",
   "metadata": {},
   "source": [
    "## NOMENCLATURE"
   ]
  },
  {
   "cell_type": "code",
   "execution_count": 10,
   "metadata": {},
   "outputs": [
    {
     "data": {
      "text/plain": [
       "'C:\\\\Users\\\\Nuno Costa\\\\google_drive\\\\projects\\\\bosch_P19\\\\research\\\\python_ws\\\\violent_action\\\\yolo\\\\coco128_external.yaml'"
      ]
     },
     "execution_count": 10,
     "metadata": {},
     "output_type": "execute_result"
    }
   ],
   "source": [
    "coco128_yaml"
   ]
  },
  {
   "cell_type": "code",
   "execution_count": 9,
   "metadata": {},
   "outputs": [],
   "source": [
    "a = (\"John\", \"Charles\", \"Mike\")\n",
    "b = (\"Jenny\", \"Christy\", \"Monica\")\n",
    "\n",
    "x = zip(a, b)"
   ]
  },
  {
   "cell_type": "code",
   "execution_count": 10,
   "metadata": {},
   "outputs": [
    {
     "data": {
      "text/plain": [
       "<zip at 0x21ec7988140>"
      ]
     },
     "execution_count": 10,
     "metadata": {},
     "output_type": "execute_result"
    }
   ],
   "source": [
    "x\n"
   ]
  },
  {
   "cell_type": "code",
   "execution_count": null,
   "metadata": {},
   "outputs": [],
   "source": []
  }
 ],
 "metadata": {
  "kernelspec": {
   "display_name": "Python 3",
   "language": "python",
   "name": "python3"
  },
  "language_info": {
   "codemirror_mode": {
    "name": "ipython",
    "version": 3
   },
   "file_extension": ".py",
   "mimetype": "text/x-python",
   "name": "python",
   "nbconvert_exporter": "python",
   "pygments_lexer": "ipython3",
   "version": "3.8.3"
  }
 },
 "nbformat": 4,
 "nbformat_minor": 4
}
