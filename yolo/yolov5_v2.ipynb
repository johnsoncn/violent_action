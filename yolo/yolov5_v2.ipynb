{
 "cells": [
  {
   "cell_type": "markdown",
   "metadata": {},
   "source": [
    "# yolov5\n",
    "version 2 test\n",
    "\n",
    "author: nmc-costa\n",
    "\n",
    "info: testing version 2\n"
   ]
  },
  {
   "cell_type": "markdown",
   "metadata": {
    "colab_type": "text",
    "id": "7mGmQbAO5pQb"
   },
   "source": [
    "# Setup\n",
    "Go to tutorial_yolov5.ipnb for full setup (like cloning the yolov5 repo, etc...)"
   ]
  },
  {
   "cell_type": "code",
   "execution_count": null,
   "metadata": {},
   "outputs": [],
   "source": [
    "import os\n",
    "import sys\n",
    "import platform\n",
    "import torch\n",
    "from IPython.display import Image, clear_output  # to display images\n",
    "\n",
    "#cuda or cpu version\n",
    "clear_output()\n",
    "print('OS: {}'.format(platform.platform()))\n",
    "print(\"Python: \" + sys.version)\n",
    "#os.environ[\"CUDA_VISIBLE_DEVICES\"]=\"\" #force CPU\n",
    "print('Setup complete. Using torch %s %s' % (torch.__version__, torch.cuda.get_device_properties(0) if torch.cuda.is_available() else 'CPU'))"
   ]
  },
  {
   "cell_type": "code",
   "execution_count": null,
   "metadata": {},
   "outputs": [],
   "source": [
    "#yolov5 repo [other ways: %cd yolov5; or pip install yolov5 module as \"editable\" using a setup.py file]\n",
    "import yolov5\n",
    "from yolov5.utils.google_utils import gdrive_download  # to download models/datasets\n"
   ]
  },
  {
   "cell_type": "markdown",
   "metadata": {},
   "source": [
    "## init vars"
   ]
  },
  {
   "cell_type": "code",
   "execution_count": null,
   "metadata": {},
   "outputs": [],
   "source": [
    "#script dir [in case you use cd]\n",
    "scriptdir=sys.path[0] #os.getcwd()\n",
    "\n",
    "#yolov5 Dir\n",
    "yolov5_dir=os.path.join(scriptdir, 'yolov5')\n",
    "print(yolov5_dir)"
   ]
  },
  {
   "cell_type": "markdown",
   "metadata": {},
   "source": [
    "## input data"
   ]
  },
  {
   "cell_type": "markdown",
   "metadata": {},
   "source": [
    "#### Prepare the dataset for yolo format (CHECK OUT https://github.com/ultralytics/yolov5/wiki/Train-Custom-Data ; https://medium.com/towards-artificial-intelligence/yolo-v5-is-here-custom-object-detection-tutorial-with-yolo-v5-12666ee1774e)\n",
    "\n",
    "##### 1. create dataset .yaml file (like coco_external)\n",
    "\n",
    "Yolov5 algorithm parses yaml information: path to dataset(train, validation and test) in YOLO (darknet) format (see below); number of classes and classes names\n",
    "\n",
    "##### 2. Create labels and organize dataset in YOLO format (USE $JSON2YOLO$ folder)\n",
    "\n",
    "Dataset Directory structure:\n",
    "- dataset:\n",
    "    - annotations:\n",
    "        - samefoldername.json (WARNING: use 'train', 'val', 'test')\n",
    "    - images:\n",
    "        - samefoldername\n",
    "    - labels:\n",
    "        - samefoldername\n",
    "\n",
    "Example :\n",
    "\n",
    "dataset/images/train/000000109622.jpg  # image\n",
    "\n",
    "dataset/labels/train/000000109622.txt  # label\n",
    "\n",
    "\n",
    "\n",
    "##### 3. Select a Model(yolov5s, yolov5x, ...) and update the number of classes to match the dataset\n",
    "\n",
    "Go to $./models$ folder and change the $nc: $ parameter "
   ]
  },
  {
   "cell_type": "code",
   "execution_count": null,
   "metadata": {},
   "outputs": [],
   "source": [
    "#YAML Paths\n",
    "yaml=os.path.join(scriptdir, 'coco128_external.yaml')"
   ]
  },
  {
   "cell_type": "markdown",
   "metadata": {},
   "source": [
    "## 1. Train\n",
    "Run the training command below to train for X epochs. \n",
    "\n",
    "EXAMPLE: You can train YOLOv5s from scratch by passing `--cfg yolov5s.yaml --weights ''`, or train from a pretrained checkpoint by passing a matching weights file: `--cfg yolov5s.yaml --weights yolov5s.pt`.\n",
    "\n",
    "Train function retrains the model with the new 'train' data and tests the model against the 'val' data\n",
    "\n",
    "All training results are saved to runs/exp0 for the first experiment, then runs/exp1, runs/exp2 etc. for subsequent experiments."
   ]
  },
  {
   "cell_type": "code",
   "execution_count": null,
   "metadata": {},
   "outputs": [],
   "source": [
    "# Clear any logs from previous runs\n",
    "#BUG WINDOWS runs/exp0 don't iterates to exp1,exp2,...\n",
    "logdir=os.path.join(yolov5_dir, 'runs/exp0')\n",
    "!rm -rfv $logdir"
   ]
  },
  {
   "cell_type": "code",
   "execution_count": null,
   "metadata": {},
   "outputs": [],
   "source": [
    "# Start tensorboard (optional)\n",
    "#BUG WINDOWS are not able to log information\n",
    "%cd $yolov5_dir\n",
    "\n",
    "%load_ext tensorboard\n",
    "%reload_ext tensorboard\n",
    "%tensorboard --logdir runs"
   ]
  },
  {
   "cell_type": "code",
   "execution_count": null,
   "metadata": {},
   "outputs": [],
   "source": [
    "# Train Models from scractch \n",
    "#(#WARNING: if using --cache parameter you need to be careful: in yolov5.utils.datasets gives keyerror; #SOLUTION delete cache in dataset folder or don't use --cache)\n",
    "%cd $yolov5_dir\n",
    "#!pwd\n",
    "# !ls\n",
    "!python train.py --img 640 --batch 8 --epochs 3 --data $yaml --cfg ./models/yolov5s.yaml --weights ''"
   ]
  },
  {
   "cell_type": "markdown",
   "metadata": {},
   "source": [
    "## 2. Output data (Visualize)"
   ]
  },
  {
   "cell_type": "markdown",
   "metadata": {},
   "source": [
    "View runs/exp0/train*.jpg images to see training images, labels and augmentation effects. A Mosaic Dataloader is used for training (shown below), a new concept developed by Ultralytics and first featured in YOLOv4. If your labels are not correct in these images then you have incorrectly labelled your data, and should revisit 2. Create Labels."
   ]
  },
  {
   "cell_type": "code",
   "execution_count": null,
   "metadata": {},
   "outputs": [],
   "source": [
    "Image(filename=os.path.join(yolov5_dir,'runs/exp0/train_batch0.jpg'), width=900)"
   ]
  },
  {
   "cell_type": "markdown",
   "metadata": {},
   "source": [
    "## 3. Inference (detect)"
   ]
  },
  {
   "cell_type": "code",
   "execution_count": null,
   "metadata": {},
   "outputs": [],
   "source": [
    "%cd $yolov5_dir\n",
    "!python detect.py --source D:/external_datasets/mlab_samples/VIDEOS --output  D:/external_datasets/mlab_samples/inference/yolov5/yolov5s_coco128test_augment --weights runs/exp0/weights/best.pt --conf 0.4 --augment"
   ]
  },
  {
   "cell_type": "markdown",
   "metadata": {},
   "source": [
    "## 4. (Re-) Test/validate"
   ]
  },
  {
   "cell_type": "markdown",
   "metadata": {},
   "source": [
    "(Re-) Test a model on dataset to determine trained accuracy (WARNING : Train already does this). Models are auto-downloaded from Google Drive. To show results by class use the --verbose flag."
   ]
  },
  {
   "cell_type": "code",
   "execution_count": null,
   "metadata": {},
   "outputs": [],
   "source": [
    "# SHELL Ipython: Run YOLOv5x on COCO validation images\n",
    "%cd $yolov5_dir\n",
    "#!pwd\n",
    "#!ls\n",
    "!python test.py --weights runs/exp0/weights/best.pt --data $yaml --task 'val' --img 672 --verbose"
   ]
  },
  {
   "cell_type": "code",
   "execution_count": null,
   "metadata": {},
   "outputs": [],
   "source": []
  }
 ],
 "metadata": {
  "kernelspec": {
   "display_name": "Python 3",
   "language": "python",
   "name": "python3"
  },
  "language_info": {
   "codemirror_mode": {
    "name": "ipython",
    "version": 3
   },
   "file_extension": ".py",
   "mimetype": "text/x-python",
   "name": "python",
   "nbconvert_exporter": "python",
   "pygments_lexer": "ipython3",
   "version": "3.8.3"
  }
 },
 "nbformat": 4,
 "nbformat_minor": 4
}
