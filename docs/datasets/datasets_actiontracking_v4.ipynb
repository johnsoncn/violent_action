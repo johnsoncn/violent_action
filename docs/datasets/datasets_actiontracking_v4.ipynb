{
 "cells": [
  {
   "cell_type": "markdown",
   "metadata": {},
   "source": [
    "# Datasets human action tracking\n",
    "### Version 4\n",
    "objectives: \n",
    "- object detection & tracking and human action recognition\n",
    "- human action recognition:identify and estimate human behavior\n",
    "- object detection/categorization/tracking: detect and classify items (e.g. knifes, hand-guns, or personal objects like a book, phone, bag)\n",
    "- sensors: RGB sensors (5 MP, 20fps), near infrared (NIR) and thermal\n",
    "- Violent action\n",
    "- Human-Object Interaction (HOI)\n",
    "\n",
    "Keywords: action, human, Human-Object Interaction, recognition, object, detection, tracking,dataset, challenge, benchmark"
   ]
  },
  {
   "cell_type": "markdown",
   "metadata": {},
   "source": [
    "# COCO : Common objects in context\n",
    "\n",
    "page: https://cocodataset.org/#home\n",
    "\n",
    "paper: https://arxiv.org/abs/1405.0312\n",
    "\n",
    "challenge: https://cocodataset.org/workshop/coco-lvis-eccv-2020.html"
   ]
  },
  {
   "cell_type": "code",
   "execution_count": 14,
   "metadata": {},
   "outputs": [
    {
     "data": {
      "text/html": [
       "<img src=\"https://cocodataset.org/images/coco-examples.jpg\"/>"
      ],
      "text/plain": [
       "<IPython.core.display.Image object>"
      ]
     },
     "execution_count": 14,
     "metadata": {},
     "output_type": "execute_result"
    }
   ],
   "source": [
    "from IPython.display import Image\n",
    "Image(url= \"https://cocodataset.org/images/coco-examples.jpg\")"
   ]
  },
  {
   "cell_type": "markdown",
   "metadata": {},
   "source": [
    "## ACTIVITYNET Challenge\n",
    "\n",
    "info: Each task is based on a recently compiled large-scale activity/action dataset, including: \n",
    "- Kinetics (Google DeepMind), \n",
    "- AVA (Berkeley and Google), \n",
    "- ActEV (NIST), \n",
    "- HACS (MIT), \n",
    "- ActivityNet Entities (University of Michigan, Facebook).\n",
    "\n",
    "year: 2020\n",
    "\n",
    "page: http://activity-net.org/challenges/2020/index.html\n",
    "\n",
    "paper: https://arxiv.org/abs/1712.09374\n",
    "\n",
    "\n",
    "### ActivityNet-entities dataset\n",
    "page: https://github.com/facebookresearch/ActivityNet-Entities\n",
    "\n",
    "\n"
   ]
  },
  {
   "cell_type": "code",
   "execution_count": 15,
   "metadata": {},
   "outputs": [
    {
     "data": {
      "text/html": [
       "<img src=\"https://github.com/facebookresearch/ActivityNet-Entities/raw/master/demo/dataset_teaser.png\"/>"
      ],
      "text/plain": [
       "<IPython.core.display.Image object>"
      ]
     },
     "execution_count": 15,
     "metadata": {},
     "output_type": "execute_result"
    }
   ],
   "source": [
    "from IPython.display import Image\n",
    "Image(url= \"https://github.com/facebookresearch/ActivityNet-Entities/raw/master/demo/dataset_teaser.png\")"
   ]
  },
  {
   "cell_type": "markdown",
   "metadata": {},
   "source": [
    "## TAO: A Large-Scale Benchmark for Tracking Any Object\n",
    "\n",
    "year: 2020\n",
    "\n",
    "page: http://taodataset.org/\n",
    "\n",
    "paper: https://arxiv.org/abs/2005.10356\n",
    "\n"
   ]
  },
  {
   "cell_type": "code",
   "execution_count": 16,
   "metadata": {},
   "outputs": [
    {
     "data": {
      "text/html": [
       "\n",
       "    <video alt=\"test\" controls>\n",
       "        <source src=\"http://taodataset.org/videos/sample/CLORP.mp4\" type=\"video/mp4\">\n",
       "    </video>\n"
      ],
      "text/plain": [
       "<IPython.core.display.HTML object>"
      ]
     },
     "execution_count": 16,
     "metadata": {},
     "output_type": "execute_result"
    }
   ],
   "source": [
    "from IPython.display import HTML\n",
    "\n",
    "HTML(\"\"\"\n",
    "    <video alt=\"test\" controls>\n",
    "        <source src=\"http://taodataset.org/videos/sample/CLORP.mp4\" type=\"video/mp4\">\n",
    "    </video>\n",
    "\"\"\")"
   ]
  },
  {
   "cell_type": "markdown",
   "metadata": {},
   "source": [
    "## 20BN-something-something Dataset V2\n",
    "\n",
    "year: 2017\n",
    "\n",
    "institution: \n",
    "\n",
    "page: https://20bn.com/datasets/something-something\n",
    "\n",
    "paper: https://arxiv.org/abs/1706.04261"
   ]
  },
  {
   "cell_type": "code",
   "execution_count": 17,
   "metadata": {},
   "outputs": [
    {
     "data": {
      "text/html": [
       "\n",
       "    <video alt=\"test\" controls>\n",
       "        <source src=\"https://20bn.com/assets/homepage/something-something-v2-34427c26692b8853088c431604216e565c00cfec81f1dfe5ed26e5d686f3d51b.mp4\" type=\"video/mp4\">\n",
       "    </video>\n"
      ],
      "text/plain": [
       "<IPython.core.display.HTML object>"
      ]
     },
     "execution_count": 17,
     "metadata": {},
     "output_type": "execute_result"
    }
   ],
   "source": [
    "from IPython.display import HTML\n",
    "\n",
    "HTML(\"\"\"\n",
    "    <video alt=\"test\" controls>\n",
    "        <source src=\"https://20bn.com/assets/homepage/something-something-v2-34427c26692b8853088c431604216e565c00cfec81f1dfe5ed26e5d686f3d51b.mp4\" type=\"video/mp4\">\n",
    "    </video>\n",
    "\"\"\")"
   ]
  },
  {
   "cell_type": "markdown",
   "metadata": {},
   "source": [
    "## HICO: A Benchmark for Recognizing Human-Object Interactions in Images\n",
    "year: 2015\n",
    "\n",
    "\n",
    "page: http://www-personal.umich.edu/~ywchao/hico/\n",
    "\n",
    "paper: http://www-personal.umich.edu/~ywchao/publications/chao_iccv2015.pdf\n",
    "http://www-personal.umich.edu/~ywchao/publications/chao_wacv2018.pdf\n"
   ]
  },
  {
   "cell_type": "code",
   "execution_count": 18,
   "metadata": {},
   "outputs": [
    {
     "data": {
      "text/html": [
       "<img src=\"http://www-personal.umich.edu/~ywchao/hico/figures/04_cutting_apple_14663_1.png\"/>"
      ],
      "text/plain": [
       "<IPython.core.display.Image object>"
      ]
     },
     "execution_count": 18,
     "metadata": {},
     "output_type": "execute_result"
    }
   ],
   "source": [
    "from IPython.display import Image\n",
    "Image(url=\"http://www-personal.umich.edu/~ywchao/hico/figures/04_cutting_apple_14663_1.png\" )\n",
    "    "
   ]
  },
  {
   "cell_type": "markdown",
   "metadata": {},
   "source": [
    "## Additional info\n",
    "\n",
    "\n",
    "#### reviews\n",
    "2018\n",
    "\n",
    "paper: Video benchmarks of human action datasets: a review\n",
    "https://www.researchgate.net/profile/Tej_Singh21/publication/327078109_Video_benchmarks_of_human_action_datasets_a_review/links/5b77b588299bf1d5a711cc6c/Video-benchmarks-of-human-action-datasets-a-review.pdf\n",
    "\n",
    "2013\n",
    "\n",
    "paper: A Critical Review of Action Recognition Benchmarks \n",
    "https://www.openu.ac.il/home/hassner/Events/ACTS13/papers/ACTS13Hassner.pdf\n",
    "review action recognition 2013"
   ]
  },
  {
   "cell_type": "code",
   "execution_count": null,
   "metadata": {},
   "outputs": [],
   "source": []
  },
  {
   "cell_type": "code",
   "execution_count": null,
   "metadata": {},
   "outputs": [],
   "source": []
  }
 ],
 "metadata": {
  "kernelspec": {
   "display_name": "Python 3",
   "language": "python",
   "name": "python3"
  },
  "language_info": {
   "codemirror_mode": {
    "name": "ipython",
    "version": 3
   },
   "file_extension": ".py",
   "mimetype": "text/x-python",
   "name": "python",
   "nbconvert_exporter": "python",
   "pygments_lexer": "ipython3",
   "version": "3.8.3"
  }
 },
 "nbformat": 4,
 "nbformat_minor": 4
}
