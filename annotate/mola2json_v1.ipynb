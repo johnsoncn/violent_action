{
 "cells": [
  {
   "cell_type": "markdown",
   "metadata": {},
   "source": [
    "# Create INCAR and INVICON MOLA JSON\n",
    "version: 1\n",
    "\n",
    "info:\n",
    "- Create standard MOLA JSON\n",
    "\n",
    "author: nuno costa"
   ]
  },
  {
   "cell_type": "markdown",
   "metadata": {},
   "source": [
    "## MOLA Annotations Data Format"
   ]
  },
  {
   "cell_type": "markdown",
   "metadata": {},
   "source": [
    "If you wish to combine multiple datasets, it is often useful to convert them into a unified data format. \n",
    "\n",
    "Objective: "
   ]
  },
  {
   "cell_type": "code",
   "execution_count": 2,
   "metadata": {},
   "outputs": [
    {
     "ename": "SyntaxError",
     "evalue": "invalid syntax (<ipython-input-2-580a7c10cdc0>, line 7)",
     "output_type": "error",
     "traceback": [
      "\u001b[1;36m  File \u001b[1;32m\"<ipython-input-2-580a7c10cdc0>\"\u001b[1;36m, line \u001b[1;32m7\u001b[0m\n\u001b[1;33m    \"categories\": [],\u001b[0m\n\u001b[1;37m    ^\u001b[0m\n\u001b[1;31mSyntaxError\u001b[0m\u001b[1;31m:\u001b[0m invalid syntax\n"
     ]
    }
   ],
   "source": [
    "\n",
    " #ANNOTATIONS FORMAT (BASED ON COCO)\n",
    "\n",
    " #Annotations format keys:\n",
    "\n",
    "{ \"info\": None, \n",
    "\"licenses\": [], #TODO\n",
    "\"categories\": [], \n",
    "\"images\": [],\n",
    "\"annotations\": [],\n",
    "\"videos\": [], \n",
    "\"video_annotations\": [], #TODO\n",
    "\"tracks\": [], #TODO - only for Object Tracking\n",
    "\"segment_info\": [], #TODO\n",
    "\"datasets\": [{'name': 'INCAR', 'id': 1}, {'name': 'INVICON', 'id': 2}] \n",
    "}\n",
    "\n",
    "#1 object definition:\n",
    "\n",
    "info: {\n",
    " \"year\": int, \n",
    " \"version\": str, \n",
    " \"description\": str, \n",
    " \"contributor\": str, \n",
    " \"url\": str, \n",
    " \"date_created\": datetime,\n",
    "}\n",
    "\n",
    "license: {\n",
    " \"id\": int, \n",
    " \"name\": str, \n",
    " \"url\": str,\n",
    "}\n",
    "\n",
    "category: {\n",
    " \"id\": int, \n",
    " \"name\": str, \n",
    " \"supercategory\": str,\n",
    "}\n",
    "\n",
    "image: {\n",
    " \"id\" : int,\n",
    " \"video_id\": int, \n",
    " \"file_name\" : str,\n",
    " \"license\" : int,\n",
    " # Redundant fields for COCO-compatibility\n",
    " \"width\": int,\n",
    " \"height\": int,\n",
    " \"frame_index\": int, #frame index from original video_id\n",
    " \"date_captured\": datetime,\n",
    "}\n",
    "\n",
    "annotation: { #rawframes annotation\n",
    " \"category_id\": int\n",
    " \"image_id\": int,\n",
    " #\"track_id\": int, # NOT FOR ACTION, ONLY FOR OBJECT TRACKING\n",
    " \"bbox\": [x,y,width,height],\n",
    " \"area\": float,\n",
    " \"label_frames\": int, # TOTAL NUMBER OF FRAMES OF LABEL category_id\n",
    " # Redundant field for compatibility with COCO scripts\n",
    " \"id\": int,\n",
    " \"iscrowd\": 0 or 1,  (iscrowd=1) are used to label large groups of objects (e.g. a crowd of people)\n",
    " \"segmentation\": RLE(iscrowd=1) or [polygon](iscrowd=0), \n",
    "\n",
    "}\n",
    "\n",
    "video: { \n",
    " \"id\": int,\n",
    " \"name\": str,\n",
    " \"width\" : int,\n",
    " \"height\" : int,\n",
    " \"total_frames\": int, # TOTAL NUMBER OF FRAMES OF THE VIDEO\n",
    " \"fps\": int,\n",
    " #\"metadata\": dict,  # Metadata about the video - NOT NECESSARY ADDITIONAL DICT\n",
    "}\n",
    "\n",
    "video_annotation: { #TODO\n",
    " \"id\": int,\n",
    " \"category_id\": int, #label\n",
    " \"video_id\": int,\n",
    " \"time_start\": int, #in frames, then it can be converted using the fps\n",
    " \"time_end\":int, #in frames\n",
    " \"label_frames\": int, # TOTAL NUMBER OF FRAMES OF LABEL category_id\n",
    "\n",
    "}\n",
    "\n",
    "\n",
    "\n",
    "segment: { #TODO\n",
    " \"id\": int, \n",
    " \"category_id\": int, \n",
    " \"area\": int, \n",
    " \"bbox\": [x,y,width,height], \n",
    " # Redundant field for compatibility with COCO scripts\n",
    " \"iscrowd\": 0 or 1,\n",
    "}\n",
    "\n",
    "\n",
    "track: { #DOES IT MAKE SENSE TO TRACT ACTIONS INSIDE THE VIDEO? NO- ONLY OBJECTS\n",
    " \"id\": int,\n",
    " \"category_id\": int,\n",
    " \"video_id\": int\n",
    "}"
   ]
  },
  {
   "cell_type": "markdown",
   "metadata": {},
   "source": [
    "## SETUP"
   ]
  },
  {
   "cell_type": "code",
   "execution_count": 38,
   "metadata": {},
   "outputs": [],
   "source": [
    "from annotate_v5 import *\n",
    "import platform \n",
    "import json\n",
    "import os"
   ]
  },
  {
   "cell_type": "code",
   "execution_count": 39,
   "metadata": {},
   "outputs": [
    {
     "name": "stdout",
     "output_type": "stream",
     "text": [
      "OS: Windows-10-10.0.21390-SP0\n",
      "root dir: D:/external_datasets/MOLA/\n",
      "OS separator: \\\n"
     ]
    }
   ],
   "source": [
    "#Define root dir dependent on OS\n",
    "rdir='D:/external_datasets/MOLA/' #WARNING needs to be root datasets \n",
    "print('OS: {}'.format(platform.platform()))\n",
    "if str(platform.platform()).upper().find('linux'.upper())>-1: rdir=\"/home/administrator/server_data_ext/Recordings/EASYRIDE/P19/\" #'/mnt/d/external_datasets/'\n",
    "print('root dir: {}'.format(rdir))\n",
    "print('OS separator: {}'.format(os.path.sep))"
   ]
  },
  {
   "cell_type": "markdown",
   "metadata": {},
   "source": [
    "# SINGLE CASE STUDY"
   ]
  },
  {
   "cell_type": "markdown",
   "metadata": {},
   "source": [
    "### INIT motionLAB JSON\n",
    "- uses annotate.init_json() function"
   ]
  },
  {
   "cell_type": "code",
   "execution_count": 40,
   "metadata": {},
   "outputs": [],
   "source": [
    "res={\n",
    "    'rgb': [2048, 1536], #w,h\n",
    "    'thermal': [640,512],\n",
    "    'pointcloud': [640,576],\n",
    "    'fps': 30\n",
    "}"
   ]
  },
  {
   "cell_type": "code",
   "execution_count": 41,
   "metadata": {},
   "outputs": [],
   "source": [
    "def init_json(file='mola.json'):\n",
    "    output = {\n",
    "        \"info\": None,\n",
    "        \"licenses\": [],\n",
    "        \"categories\": [],\n",
    "        \"videos\": [],\n",
    "        \"images\": [],\n",
    "        \"tracks\": [],\n",
    "        \"segment_info\": [],\n",
    "        \"annotations\": [],\n",
    "        \"video_annotations\": [],\n",
    "        \"datasets\": [] #[{'name': 'COCO', 'id': 1}, {'name': 'TAO', 'id': 2}]\n",
    "    }\n",
    "    output['info'] = {\n",
    "        \"description\": \"MOLA Dataset\",\n",
    "        \"url\": \"\",\n",
    "        \"version\": \"1\",\n",
    "        \"year\": 2021,\n",
    "        \"date_created\": datetime.datetime.utcnow().isoformat(' ')\n",
    "    }\n",
    "\n",
    "    with open(file, 'w') as f:\n",
    "        json.dump(output, f)\n",
    "    print(\"JSON INITIATED : {}\".format(file))"
   ]
  },
  {
   "cell_type": "code",
   "execution_count": 42,
   "metadata": {},
   "outputs": [
    {
     "name": "stdout",
     "output_type": "stream",
     "text": [
      "JSON INITIATED : D:/external_datasets/MOLA/INCAR/mola.json\n",
      "info 5\n",
      "licenses 0\n",
      "categories 0\n",
      "videos 0\n",
      "images 0\n",
      "tracks 0\n",
      "segment_info 0\n",
      "annotations 0\n",
      "video_annotations 0\n",
      "datasets 1\n"
     ]
    }
   ],
   "source": [
    "molafile=rdir+'INCAR/'+'mola.json'\n",
    "init_json(file=molafile)\n",
    "molajson =  json.load(open(molafile))\n",
    "molajson['datasets']=[{'name': 'INCAR', 'id': 1}]\n",
    "with open(molafile, 'w') as f:\n",
    "    json.dump(molajson, f)\n",
    "for k in molajson:\n",
    "    print(k, len(molajson[k]))"
   ]
  },
  {
   "cell_type": "markdown",
   "metadata": {},
   "source": [
    "### IMPORT JSON LABELS"
   ]
  },
  {
   "cell_type": "code",
   "execution_count": 43,
   "metadata": {},
   "outputs": [],
   "source": [
    "file=\"D:/external_datasets/MOLA/INCAR/20210506/Session 1/C8_P6_P5_1/gt/gt.json\"\n",
    "gt=json.load(open(file))\n",
    "mergedjson = json.load(open(rdir+'/annotations/splitann_mola_fix_equal_reorder_cleanclass_cleanimg/mix_coco_and_tao_aggressive/test.json')) #EXAMPLES"
   ]
  },
  {
   "cell_type": "code",
   "execution_count": 44,
   "metadata": {},
   "outputs": [],
   "source": [
    "def parse_path(path):\n",
    "    parsed_path = path.replace('\\\\', '/')\n",
    "    parsed_path = parsed_path.replace('\\ ', '/')\n",
    "    return parsed_path"
   ]
  },
  {
   "cell_type": "code",
   "execution_count": 45,
   "metadata": {},
   "outputs": [],
   "source": [
    "def fix_pahts(gt):\n",
    "    #fix gt datasource\n",
    "    paths=gt['gTruth']['DataSource']\n",
    "    if isinstance(paths, dict) and 'Source' in paths: paths=paths['Source']\n",
    "    originalpath=paths[0]\n",
    "    for p in paths:\n",
    "        if p.find(\"gt\") >-1 : \n",
    "            originalpath=p\n",
    "            break\n",
    "    originalpath=parse_path(originalpath)\n",
    "    paths=[parse_path(p) for p in paths]\n",
    "    paths = ['/'.join(originalpath.split('/')[:-1]+[p.split('/')[-1]]) if p.find(\"MATLAB\") > -1 else p for p in paths]  #remove MATLAB BUG: 'C:\\\\Tools\\\\MATLAB\\\\R2020a\\\\examples\\\\symbolic\\\\data\\\\196.png'\n",
    "    paths = ['/'.join(p.split('/')[-7:]) for p in paths] #remove root dir \n",
    "    gt['gTruth']['DataSource']=paths\n",
    "    return gt\n",
    "gt=fix_pahts(gt)"
   ]
  },
  {
   "cell_type": "markdown",
   "metadata": {},
   "source": [
    "#### CATEGORIES IMPORT"
   ]
  },
  {
   "cell_type": "code",
   "execution_count": 46,
   "metadata": {},
   "outputs": [
    {
     "data": {
      "text/plain": [
       "{'supercategory': 'sports', 'id': 1, 'name': 'aggressive', 'dataset': 1}"
      ]
     },
     "metadata": {},
     "output_type": "display_data"
    }
   ],
   "source": [
    "#EXAMPLE\n",
    "display(mergedjson[\"categories\"][0])"
   ]
  },
  {
   "cell_type": "code",
   "execution_count": 47,
   "metadata": {},
   "outputs": [
    {
     "data": {
      "text/plain": [
       "[{'Name': 'VIOLENT',\n",
       "  'Type': 'Scene',\n",
       "  'LabelColor': [0, 0.7241, 0.6552],\n",
       "  'Group': 'None',\n",
       "  'Description': ''}]"
      ]
     },
     "execution_count": 47,
     "metadata": {},
     "output_type": "execute_result"
    }
   ],
   "source": [
    "gt['gTruth']['LabelDefinitions']"
   ]
  },
  {
   "cell_type": "code",
   "execution_count": 48,
   "metadata": {},
   "outputs": [
    {
     "name": "stderr",
     "output_type": "stream",
     "text": [
      "100%|████████████████████████████████████████████████████████████████████████████████████████████| 1/1 [00:00<?, ?it/s]"
     ]
    },
    {
     "name": "stdout",
     "output_type": "stream",
     "text": [
      "\n",
      ">> categories:\n",
      " [{'name': 'VIOLENT', 'id': 1, 'dataset': 1}, {'name': 'NONVIOLENT', 'id': 2, 'dataset': 1}]\n"
     ]
    },
    {
     "name": "stderr",
     "output_type": "stream",
     "text": [
      "\n"
     ]
    }
   ],
   "source": [
    "def import_categories(molajson, gt, start_id=0):\n",
    "    # IMPORT categories name and id\n",
    "    cat_l=[]\n",
    "    cat_l_id=[]\n",
    "    cat_l_dset=[]\n",
    "    cat=gt['gTruth']['LabelDefinitions']\n",
    "    for i,c in enumerate(tqdm(cat)):\n",
    "        cat_l.append(c['Name'])\n",
    "        cat_l_id.append(start_id+i+1) # id start from 1\n",
    "        cat_l_dset.append(1) # dataset index\n",
    "        molajson['categories'].append({'name':cat_l[i],'id':cat_l_id[i],'dataset':cat_l_dset[i]})\n",
    "    # ADDITIONAL CATEGORIES: MANUAL\n",
    "    name='NONVIOLENT'\n",
    "    cid=len(cat_l)+1\n",
    "    dset=1\n",
    "    molajson['categories'].append({'name':name,'id':cid,'dataset':dset})\n",
    "    cat_l.append(name)\n",
    "    cat_l_id.append(cid)\n",
    "    cat_l_dset.append(dset)\n",
    "    print(\"\\n>> categories:\\n\", molajson['categories'][-2:])\n",
    "    return molajson, cat_l, cat_l_id, cat_l_dset\n",
    "molajson, cat_l, cat_l_id, cat_l_dset=import_categories(molajson, gt)"
   ]
  },
  {
   "cell_type": "markdown",
   "metadata": {},
   "source": [
    "#### VIDEO IMPORT "
   ]
  },
  {
   "cell_type": "code",
   "execution_count": 49,
   "metadata": {},
   "outputs": [
    {
     "name": "stdout",
     "output_type": "stream",
     "text": [
      "\n",
      ">> video:\n",
      " [{'name': 'INCAR/20210506/Session 1/C8_P6_P5_1/gt/INCAR_20210506_Session_1_C8_P6_P5_1_rgb.mp4', 'id': 1, 'width': 2048, 'height': 1536, 'sensor': 'rgb', 'fps': 30, 'total_frames': 590, 'dataset': 1}]\n"
     ]
    }
   ],
   "source": [
    "def import_videos(molajson, gt, res, start_id=0, sensor=\"rgb\", ext=\".mp4\"):\n",
    "    #single-level:\n",
    "    vid=start_id+1\n",
    "    video_l=[]\n",
    "    video_l_id=[]\n",
    "    total_frames=len(gt['gTruth']['DataSource'])\n",
    "    videon='_'.join(gt['gTruth']['DataSource'][0].split('/')[:-3])+'_'+sensor+ext #f'video_{vid}_{sensor}{ext}' \n",
    "    videon=videon.replace(' ','_') # remove trailing spaces in \"Session 1\"\n",
    "    video='/'.join(gt['gTruth']['DataSource'][0].split('/')[:-3])+'/'+'gt'+'/'+videon\n",
    "    video_l.append(video)\n",
    "    video_l_id.append(vid)\n",
    "    i=0 #no loop\n",
    "    molajson['videos'].append({'name':video_l[i],\n",
    "                               'id':video_l_id[i],\n",
    "                               'width': res[sensor][0],\n",
    "                               'height': res[sensor][1],\n",
    "                               'sensor': sensor,\n",
    "                               'fps': res['fps'],\n",
    "                               'total_frames': total_frames,\n",
    "                               'dataset':1})\n",
    "    print(\"\\n>> video:\\n\", molajson['videos'])\n",
    "    return molajson, video_l, video_l_id\n",
    "molajson, video_l, video_l_id=import_videos(molajson, gt, res)"
   ]
  },
  {
   "cell_type": "markdown",
   "metadata": {},
   "source": [
    "#### IMAGE IMPORT"
   ]
  },
  {
   "cell_type": "code",
   "execution_count": 50,
   "metadata": {},
   "outputs": [
    {
     "data": {
      "text/plain": [
       "{'license': 3,\n",
       " 'file_name': 'COCO/2017/images/train2017/000000391895.jpg',\n",
       " 'coco_url': 'http://images.cocodataset.org/train2017/000000391895.jpg',\n",
       " 'height': 360,\n",
       " 'width': 640,\n",
       " 'date_captured': '2013-11-14 11:18:45',\n",
       " 'flickr_url': 'http://farm9.staticflickr.com/8186/8119368305_4e622c8349_z.jpg',\n",
       " 'id': 1,\n",
       " 'caption': 'A man with a red helmet on a small moped on a dirt road. ',\n",
       " 'dataset': 1}"
      ]
     },
     "metadata": {},
     "output_type": "display_data"
    }
   ],
   "source": [
    "#EXAMPLE\n",
    "display(mergedjson[\"images\"][0])"
   ]
  },
  {
   "cell_type": "code",
   "execution_count": 51,
   "metadata": {},
   "outputs": [
    {
     "data": {
      "text/plain": [
       "'INCAR/20210506/Session 1/C8_P6_P5_1/gt/rgb/1.png'"
      ]
     },
     "execution_count": 51,
     "metadata": {},
     "output_type": "execute_result"
    }
   ],
   "source": [
    "gt['gTruth']['DataSource'][0]"
   ]
  },
  {
   "cell_type": "code",
   "execution_count": 52,
   "metadata": {},
   "outputs": [
    {
     "name": "stderr",
     "output_type": "stream",
     "text": [
      "100%|████████████████████████████████████████████████████████████████████████████| 590/590 [00:00<00:00, 295338.27it/s]"
     ]
    },
    {
     "name": "stdout",
     "output_type": "stream",
     "text": [
      "\n",
      ">> images:\n",
      " [{'file_name': 'INCAR/20210506/Session 1/C8_P6_P5_1/gt/rgb/589.png', 'id': 589, 'video_id': 1, 'caption': 'C8_P6_P5_1', 'width': 2048, 'height': 1536, 'frame_index': 589, 'date_captured': '20210506', 'dataset': 1}, {'file_name': 'INCAR/20210506/Session 1/C8_P6_P5_1/gt/rgb/590.png', 'id': 590, 'video_id': 1, 'caption': 'C8_P6_P5_1', 'width': 2048, 'height': 1536, 'frame_index': 590, 'date_captured': '20210506', 'dataset': 1}]\n"
     ]
    },
    {
     "name": "stderr",
     "output_type": "stream",
     "text": [
      "\n"
     ]
    }
   ],
   "source": [
    "def import_images(molajson, gt, res, start_id=0, video_id=1, sensor=\"rgb\"):\n",
    "    # images filepath and id\n",
    "    img_l=[]\n",
    "    img_l_id=[]\n",
    "    img=gt['gTruth']['DataSource']\n",
    "    for i,im in enumerate(tqdm(img)):\n",
    "        img_l.append(im)\n",
    "        img_l_id.append(start_id+i+1) # id start from 1\n",
    "        frame_index=img_l[i].split('/')[-1]\n",
    "        frame_index=int(frame_index.split('.')[0])\n",
    "        molajson['images'].append({'file_name':img_l[i],\n",
    "                                   'id':img_l_id[i],\n",
    "                                   'video_id':video_id,\n",
    "                                   'caption':img_l[i].split('/')[-4], # scenario\n",
    "                                   'width': res[sensor][0],\n",
    "                                   'height': res[sensor][1],\n",
    "                                   \"frame_index\": frame_index,\n",
    "                                   \"date_captured\": img_l[i].split('/')[-6],\n",
    "                                   'dataset':1})\n",
    "    print(\"\\n>> images:\\n\", molajson['images'][-2:])\n",
    "    return molajson, img_l, img_l_id\n",
    "molajson, img_l, img_l_id=import_images(molajson, gt, res, video_id=video_l_id[-1])"
   ]
  },
  {
   "cell_type": "markdown",
   "metadata": {},
   "source": [
    "#### CREATE ANNOTATIONS"
   ]
  },
  {
   "cell_type": "code",
   "execution_count": 53,
   "metadata": {},
   "outputs": [
    {
     "data": {
      "text/plain": [
       "{'segmentation': [[619, 463, 761, 463, 761, 535, 619, 535]],\n",
       " 'bbox': [619, 463, 142, 72],\n",
       " 'area': 10224,\n",
       " 'iscrowd': 0,\n",
       " 'id': 1243036,\n",
       " 'image_id': 146427,\n",
       " 'category_id': 1,\n",
       " 'track_id': 3385,\n",
       " '_scale_uuid': 'd83e8588-2744-4f9b-a14c-b6c8129cd696',\n",
       " 'scale_category': 'moving object',\n",
       " 'video_id': 626,\n",
       " 'dataset': 2}"
      ]
     },
     "metadata": {},
     "output_type": "display_data"
    }
   ],
   "source": [
    "#EXAMPLE\n",
    "display(mergedjson[\"annotations\"][1000])"
   ]
  },
  {
   "cell_type": "code",
   "execution_count": 54,
   "metadata": {},
   "outputs": [
    {
     "data": {
      "text/plain": [
       "{'VIOLENT': False}"
      ]
     },
     "execution_count": 54,
     "metadata": {},
     "output_type": "execute_result"
    }
   ],
   "source": [
    "gt['gTruth']['LabelData'][0]"
   ]
  },
  {
   "cell_type": "code",
   "execution_count": 55,
   "metadata": {},
   "outputs": [
    {
     "name": "stderr",
     "output_type": "stream",
     "text": [
      "100%|████████████████████████████████████████████████████████████████████████████| 590/590 [00:00<00:00, 147519.48it/s]"
     ]
    },
    {
     "name": "stdout",
     "output_type": "stream",
     "text": [
      "\n",
      ">> annotations:\n",
      " [{'id': 589, 'category_id': 1, 'image_id': 589, 'bbox': [0, 0, 2048, 1536], 'area': 3145728, 'label_frames': 232, 'iscrowd': 0, 'dataset': 1}, {'id': 590, 'category_id': 1, 'image_id': 590, 'bbox': [0, 0, 2048, 1536], 'area': 3145728, 'label_frames': 232, 'iscrowd': 0, 'dataset': 1}]\n"
     ]
    },
    {
     "name": "stderr",
     "output_type": "stream",
     "text": [
      "\n"
     ]
    }
   ],
   "source": [
    "def create_annotations(molajson, gt, res, cat_l, cat_l_id, cat_l_dset, img_l_id, start_id=0, sensor=\"rgb\"):\n",
    "    # annotations category_id, image_id, bbox, and dataset\n",
    "    ann_id=[]\n",
    "    ann_catid=[]\n",
    "    ann_imgid=[]\n",
    "    ann_bbox=[]\n",
    "    ann_dset=[]\n",
    "    labels=gt['gTruth']['LabelData']\n",
    "    frames_violent=[i+1 for i,l in enumerate(labels) if l[\"VIOLENT\"]]\n",
    "    frames_nonviolent=[i+1 for i,l in enumerate(labels) if not l[\"VIOLENT\"]]\n",
    "    for i,l in enumerate(tqdm(labels)):\n",
    "        annid=start_id+i+1\n",
    "        #specific - TODO unspecific\n",
    "        catidx=cat_l.index(\"VIOLENT\")\n",
    "        label_frames=frames_violent\n",
    "        if not l[\"VIOLENT\"]: \n",
    "            catidx=cat_l.index(\"NONVIOLENT\")\n",
    "            label_frames=frames_nonviolent\n",
    "        catid=cat_l_id[catidx]\n",
    "        dataset=cat_l_dset[catidx]\n",
    "        imgidx=i\n",
    "        imgid=img_l_id[imgidx]\n",
    "        bbox=[0, 0, res[sensor][0], res[sensor][1]] # [x,y,width,height], #default RGB\n",
    "        area=res[sensor][0]*res[sensor][1] #default RGB\n",
    "        ann_id.append(annid)\n",
    "        ann_catid.append(catid)\n",
    "        ann_imgid.append(imgid)\n",
    "        ann_bbox.append(bbox)\n",
    "        ann_dset.append(dataset)\n",
    "        molajson['annotations'].append({'id':annid,\n",
    "                                        'category_id':catid,\n",
    "                                        'image_id':imgid,\n",
    "                                        'bbox': bbox,\n",
    "                                        'area': area,\n",
    "                                        \"label_frames\": len(label_frames),\n",
    "                                        'iscrowd': 0,\n",
    "                                        'dataset':dataset})\n",
    "    print(\"\\n>> annotations:\\n\", molajson['annotations'][-2:])\n",
    "    return molajson, ann_id, ann_catid, ann_imgid, ann_bbox, ann_dset\n",
    "molajson, ann_id, ann_catid, ann_imgid, ann_bbox, ann_dset=create_annotations(molajson, gt,res, cat_l, cat_l_id, cat_l_dset, img_l_id)"
   ]
  },
  {
   "cell_type": "code",
   "execution_count": 56,
   "metadata": {},
   "outputs": [
    {
     "name": "stderr",
     "output_type": "stream",
     "text": [
      "100%|██████████████████████████████████████████████████████████████████████████████████| 2/2 [00:00<00:00, 1993.49it/s]"
     ]
    },
    {
     "name": "stdout",
     "output_type": "stream",
     "text": [
      "\n",
      ">> video_annotations:\n",
      " [{'id': 1, 'category_id': 1, 'video_id': 1, 'time_start': 359, 'time_end': 590, 'label_frames': 232, 'dataset': 1}, {'id': 2, 'category_id': 2, 'video_id': 1, 'time_start': 1, 'time_end': 358, 'label_frames': 358, 'dataset': 1}]\n"
     ]
    },
    {
     "name": "stderr",
     "output_type": "stream",
     "text": [
      "\n"
     ]
    }
   ],
   "source": [
    "def create_video_annotations(molajson, gt, res, cat_l, cat_l_id, cat_l_dset, video_l_id, start_id=0, sensor=\"rgb\"):\n",
    "    # annotations category_id, image_id, bbox, and dataset\n",
    "    ann_id=[]\n",
    "    ann_catid=[]\n",
    "    ann_videoid=[]\n",
    "    ann_dset=[]\n",
    "    labels=gt['gTruth']['LabelData']\n",
    "    frames_violent=[i+1 for i,l in enumerate(labels) if l[\"VIOLENT\"]]\n",
    "    frames_nonviolent=[i+1 for i,l in enumerate(labels) if not l[\"VIOLENT\"]]\n",
    "    for i,c in enumerate(tqdm(cat_l)):\n",
    "        annid=start_id+i+1\n",
    "        catidx=i\n",
    "        #specific - TODO unspecific\n",
    "        label_frames=frames_violent\n",
    "        if c==\"NONVIOLENT\": label_frames=frames_nonviolent\n",
    "        catid=cat_l_id[catidx]\n",
    "        dataset=cat_l_dset[catidx]\n",
    "        videoidx=0 #only one video per scenario\n",
    "        videoid=video_l_id[videoidx]\n",
    "        ann_id.append(annid)\n",
    "        ann_catid.append(catid)\n",
    "        ann_videoid.append(videoid)\n",
    "        ann_dset.append(dataset)\n",
    "        molajson['video_annotations'].append({'id':annid,\n",
    "                                        'category_id':catid,\n",
    "                                        'video_id':videoid,\n",
    "                                        'time_start': int(label_frames[0]), #in frames, then it can be converted using the fps\n",
    "                                        'time_end': int(label_frames[-1]), #in frames\n",
    "                                        \"label_frames\": len(label_frames),\n",
    "                                        'dataset':dataset})\n",
    "    print(\"\\n>> video_annotations:\\n\", molajson['video_annotations'][-2:])\n",
    "    return molajson, ann_id, ann_catid, ann_videoid, ann_dset\n",
    "molajson, ann_id, ann_catid, ann_videoid, ann_dset=create_video_annotations(molajson, gt,res, cat_l, cat_l_id, cat_l_dset, video_l_id)"
   ]
  },
  {
   "cell_type": "markdown",
   "metadata": {},
   "source": [
    "# MULTI CASE STUDY (For loop script)"
   ]
  },
  {
   "cell_type": "code",
   "execution_count": 57,
   "metadata": {
    "tags": []
   },
   "outputs": [
    {
     "name": "stderr",
     "output_type": "stream",
     "text": [
      "100%|██████████████████████████████████████████████████████████████████████████████████| 1/1 [00:00<00:00, 1000.55it/s]\n",
      "100%|████████████████████████████████████████████████████████████████████████████| 590/590 [00:00<00:00, 147633.90it/s]\n",
      "100%|████████████████████████████████████████████████████████████████████████████| 590/590 [00:00<00:00, 296826.12it/s]\n",
      "100%|████████████████████████████████████████████████████████████████████████████████████████████| 2/2 [00:00<?, ?it/s]\n"
     ]
    },
    {
     "name": "stdout",
     "output_type": "stream",
     "text": [
      ">>>\n",
      " EXTRACTING DATASET: INCAR\n",
      "JSON INITIATED : D:/external_datasets/MOLA/INCAR/mola.json\n",
      "\n",
      ">> categories:\n",
      " [{'name': 'VIOLENT', 'id': 1, 'dataset': 1}, {'name': 'NONVIOLENT', 'id': 2, 'dataset': 1}]\n",
      "\n",
      ">> video:\n",
      " [{'name': 'INCAR/20210506/Session 1/C8_P6_P5_1/gt/INCAR_20210506_Session_1_C8_P6_P5_1_rgb.mp4', 'id': 1, 'width': 2048, 'height': 1536, 'sensor': 'rgb', 'fps': 30, 'total_frames': 590, 'dataset': 1}]\n",
      "\n",
      ">> images:\n",
      " [{'file_name': 'INCAR/20210506/Session 1/C8_P6_P5_1/gt/rgb/589.png', 'id': 589, 'video_id': 1, 'caption': 'C8_P6_P5_1', 'width': 2048, 'height': 1536, 'frame_index': 589, 'date_captured': '20210506', 'dataset': 1}, {'file_name': 'INCAR/20210506/Session 1/C8_P6_P5_1/gt/rgb/590.png', 'id': 590, 'video_id': 1, 'caption': 'C8_P6_P5_1', 'width': 2048, 'height': 1536, 'frame_index': 590, 'date_captured': '20210506', 'dataset': 1}]\n",
      "\n",
      ">> annotations:\n",
      " [{'id': 589, 'category_id': 1, 'image_id': 589, 'bbox': [0, 0, 2048, 1536], 'area': 3145728, 'label_frames': 232, 'iscrowd': 0, 'dataset': 1}, {'id': 590, 'category_id': 1, 'image_id': 590, 'bbox': [0, 0, 2048, 1536], 'area': 3145728, 'label_frames': 232, 'iscrowd': 0, 'dataset': 1}]\n",
      "\n",
      ">> video_annotations:\n",
      " [{'id': 1, 'category_id': 1, 'video_id': 1, 'time_start': 359, 'time_end': 590, 'label_frames': 232, 'dataset': 1}, {'id': 2, 'category_id': 2, 'video_id': 1, 'time_start': 1, 'time_end': 358, 'label_frames': 358, 'dataset': 1}]\n"
     ]
    },
    {
     "name": "stderr",
     "output_type": "stream",
     "text": [
      "100%|████████████████████████████████████████████████████████████████████████████| 574/574 [00:00<00:00, 286747.32it/s]\n",
      "100%|████████████████████████████████████████████████████████████████████████████| 574/574 [00:00<00:00, 288430.63it/s]\n",
      "100%|████████████████████████████████████████████████████████████████████████████████████████████| 2/2 [00:00<?, ?it/s]"
     ]
    },
    {
     "name": "stdout",
     "output_type": "stream",
     "text": [
      "\n",
      ">> video:\n",
      " [{'name': 'INCAR/20210506/Session 1/C8_P6_P5_1/gt/INCAR_20210506_Session_1_C8_P6_P5_1_rgb.mp4', 'id': 1, 'width': 2048, 'height': 1536, 'sensor': 'rgb', 'fps': 30, 'total_frames': 590, 'dataset': 1}, {'name': 'INCAR/20210506/Session 1/C8_P6_P5_2/gt/INCAR_20210506_Session_1_C8_P6_P5_2_rgb.mp4', 'id': 2, 'width': 2048, 'height': 1536, 'sensor': 'rgb', 'fps': 30, 'total_frames': 574, 'dataset': 1}]\n",
      "\n",
      ">> images:\n",
      " [{'file_name': 'INCAR/20210506/Session 1/C8_P6_P5_2/gt/rgb/573.png', 'id': 1163, 'video_id': 2, 'caption': 'C8_P6_P5_2', 'width': 2048, 'height': 1536, 'frame_index': 573, 'date_captured': '20210506', 'dataset': 1}, {'file_name': 'INCAR/20210506/Session 1/C8_P6_P5_2/gt/rgb/574.png', 'id': 1164, 'video_id': 2, 'caption': 'C8_P6_P5_2', 'width': 2048, 'height': 1536, 'frame_index': 574, 'date_captured': '20210506', 'dataset': 1}]\n",
      "\n",
      ">> annotations:\n",
      " [{'id': 575, 'category_id': 1, 'image_id': 1163, 'bbox': [0, 0, 2048, 1536], 'area': 3145728, 'label_frames': 267, 'iscrowd': 0, 'dataset': 1}, {'id': 576, 'category_id': 1, 'image_id': 1164, 'bbox': [0, 0, 2048, 1536], 'area': 3145728, 'label_frames': 267, 'iscrowd': 0, 'dataset': 1}]\n",
      "\n",
      ">> video_annotations:\n",
      " [{'id': 1, 'category_id': 1, 'video_id': 2, 'time_start': 308, 'time_end': 574, 'label_frames': 267, 'dataset': 1}, {'id': 2, 'category_id': 2, 'video_id': 2, 'time_start': 1, 'time_end': 307, 'label_frames': 307, 'dataset': 1}]\n",
      "info 5\n",
      "licenses 0\n",
      "categories 2\n",
      "videos 2\n",
      "images 1164\n",
      "tracks 0"
     ]
    },
    {
     "name": "stderr",
     "output_type": "stream",
     "text": [
      "\n"
     ]
    },
    {
     "name": "stdout",
     "output_type": "stream",
     "text": [
      "\n",
      "segment_info 0\n",
      "annotations 1164\n",
      "video_annotations 4\n",
      "datasets 1\n",
      "\n",
      " >> SAVING...\n",
      "JSON SAVED : D:/external_datasets/MOLA/INCAR/mola.json \n",
      "\n",
      "info 5\n",
      "licenses 0\n",
      "categories 2\n",
      "videos 2\n",
      "images 1164\n",
      "tracks 0\n",
      "segment_info 0\n",
      "annotations 1164\n",
      "video_annotations 4\n",
      "datasets 1\n"
     ]
    }
   ],
   "source": [
    "datasets=['INCAR']\n",
    "rdir=rdir\n",
    "# FOR LOOP\"\n",
    "datasetsdir = os.listdir(rdir)\n",
    "missing_gt_json=[]\n",
    "missing_gt_mat=[]\n",
    "label_folder=\"gt\"\n",
    "label_fname=\"gt.json\"\n",
    "label_mat_fname=\"gt.m\"\n",
    "sensor=\"rgb\"\n",
    "ext=\".mp4\"\n",
    "for dataset in datasetsdir:\n",
    "    if dataset in datasets:\n",
    "        daysdir = os.path.join(rdir, dataset)\n",
    "        if not os.path.isdir(daysdir): continue  # test if is a folder\n",
    "        days = os.listdir(daysdir)\n",
    "        print(\">>>\\n EXTRACTING DATASET: \"+dataset)\n",
    "        #INIT JSON\n",
    "        molafile=rdir+dataset+'/'+'mola.json'\n",
    "        init_json(file=molafile)\n",
    "        molajson =  json.load(open(molafile))\n",
    "        molajson['datasets'] = [{'name': d, 'id': i+1} for i,d in enumerate(datasets)]\n",
    "        with open(molafile, 'w') as f:\n",
    "            json.dump(molajson, f)\n",
    "        #INIT VARS\n",
    "        imported_cats = False # import cats from each dataset\n",
    "        cat_start_id = 0\n",
    "        video_start_id = 0\n",
    "        img_start_id = 0\n",
    "        ann_start_id = 0\n",
    "        cat_l, cat_l_id, cat_l_dset = [], [], []\n",
    "        video_l, video_l_id = [], []\n",
    "        img_l, img_l_id = [], []\n",
    "        ann_id, ann_catid, ann_imgid, ann_bbox, ann_dset = [], [], [], [], []\n",
    "        #FOR LOOP\n",
    "        for day in days:\n",
    "            sessiondir = os.path.join(daysdir, day)\n",
    "            if not os.path.isdir(sessiondir): continue  # test if is a folder\n",
    "            sessions = os.listdir(sessiondir)\n",
    "            for session in sessions:\n",
    "                scenariosdir = os.path.join(sessiondir, session)\n",
    "                if not os.path.isdir(scenariosdir): continue  # test if is a folder\n",
    "                scenarios = os.listdir(scenariosdir)\n",
    "                for scenario in scenarios:\n",
    "                    imgdir = os.path.join(scenariosdir, scenario)\n",
    "                    if not os.path.isdir(imgdir): continue  # test if is a folder\n",
    "                    labeldir = os.path.join(imgdir, label_folder)\n",
    "                    # if not os.path.isdir(labeldir): continue #should exist\n",
    "                    filename = os.path.join(labeldir, label_fname)\n",
    "                    try:\n",
    "                        gt = json.load(open(filename))\n",
    "                    except:\n",
    "                        print(\">>>>>>>MISSING: \", filename)\n",
    "                        missing_files.append(filename)\n",
    "                        missing_gt_json.append(filename)\n",
    "                        if not os.path.isfile(filename.replace(label_fname, label_mat_fname)): missing_gt_mat.append(filename.replace(label_fname, label_mat_fname))\n",
    "                        continue\n",
    "                    # fix gt paths\n",
    "                    gt = fix_pahts(gt)\n",
    "                    # update molajson\n",
    "                    if not imported_cats:  # only imports one time\n",
    "                        molajson, cat_l, cat_l_id, cat_l_dset = import_categories(molajson, gt, start_id=cat_start_id)\n",
    "                        imported_cats = True        \n",
    "                    molajson, video_l, video_l_id=import_videos(molajson, gt, res,\n",
    "                                                                start_id=video_start_id,\n",
    "                                                                sensor=sensor,\n",
    "                                                                ext=ext)\n",
    "                    molajson, img_l, img_l_id=import_images(molajson, gt, res, \n",
    "                                                            start_id=img_start_id, \n",
    "                                                            video_id=video_l_id[-1])\n",
    "                    molajson, ann_id, ann_catid, ann_imgid, ann_bbox, ann_dset = create_annotations(molajson, gt, res,\n",
    "                                                                                                    cat_l, cat_l_id,\n",
    "                                                                                                    cat_l_dset, img_l_id,\n",
    "                                                                                                    start_id=ann_start_id,\n",
    "                                                                                                    sensor=sensor)\n",
    "                    molajson, ann_id, ann_catid, ann_videoid, ann_dset=create_video_annotations(molajson, gt,res, \n",
    "                                                                                                cat_l, cat_l_id, \n",
    "                                                                                                cat_l_dset, video_l_id)\n",
    "                    # update start ids to the last id\n",
    "                    cat_start_id = cat_l_id[-1]\n",
    "                    video_start_id = video_l_id[-1]\n",
    "                    img_start_id = img_l_id[-1]\n",
    "                    ann_start_id = ann_id[-1]\n",
    "\n",
    "        # results\n",
    "        for k in molajson:\n",
    "            print(k, len(molajson[k]))\n",
    "\n",
    "        # # Save\n",
    "        print('\\n >> SAVING...')\n",
    "        jsonfile=molafile\n",
    "        with open(jsonfile, 'w') as f:\n",
    "            json.dump(molajson, f)\n",
    "        with open(jsonfile.replace('.json', '_missing_gtmat.txt'),'w') as f:\n",
    "            f.write(str(missing_gt_mat))\n",
    "        with open(jsonfile.replace('.json', '_missing_gtjson.txt'),'w') as f:\n",
    "            f.write(str(missing_gt_mat))\n",
    "        print(\"JSON SAVED : {} \\n\".format(jsonfile))\n",
    "\n",
    "        #retest results\n",
    "        molajson =  json.load(open(molafile))\n",
    "        for k in molajson:\n",
    "            print(k, len(molajson[k]))"
   ]
  },
  {
   "cell_type": "code",
   "execution_count": 58,
   "metadata": {},
   "outputs": [
    {
     "name": "stdout",
     "output_type": "stream",
     "text": [
      "info 5\n",
      "licenses 0\n",
      "categories 2\n",
      "videos 2\n",
      "images 1164\n",
      "tracks 0\n",
      "segment_info 0\n",
      "annotations 1164\n",
      "video_annotations 4\n",
      "datasets 1\n"
     ]
    }
   ],
   "source": [
    "molafile=rdir+'INCAR/'+'mola.json'\n",
    "molajson =  json.load(open(molafile))\n",
    "for k in molajson:\n",
    "    print(k, len(molajson[k]))"
   ]
  },
  {
   "cell_type": "code",
   "execution_count": 59,
   "metadata": {},
   "outputs": [
    {
     "data": {
      "text/plain": [
       "[{'name': 'INCAR/20210506/Session 1/C8_P6_P5_1/gt/INCAR_20210506_Session_1_C8_P6_P5_1_rgb.mp4',\n",
       "  'id': 1,\n",
       "  'width': 2048,\n",
       "  'height': 1536,\n",
       "  'sensor': 'rgb',\n",
       "  'fps': 30,\n",
       "  'total_frames': 590,\n",
       "  'dataset': 1},\n",
       " {'name': 'INCAR/20210506/Session 1/C8_P6_P5_2/gt/INCAR_20210506_Session_1_C8_P6_P5_2_rgb.mp4',\n",
       "  'id': 2,\n",
       "  'width': 2048,\n",
       "  'height': 1536,\n",
       "  'sensor': 'rgb',\n",
       "  'fps': 30,\n",
       "  'total_frames': 574,\n",
       "  'dataset': 1}]"
      ]
     },
     "execution_count": 59,
     "metadata": {},
     "output_type": "execute_result"
    }
   ],
   "source": [
    "molajson[\"videos\"]"
   ]
  },
  {
   "cell_type": "code",
   "execution_count": 60,
   "metadata": {},
   "outputs": [
    {
     "data": {
      "text/plain": [
       "{'file_name': 'INCAR/20210506/Session 1/C8_P6_P5_1/gt/rgb/1.png',\n",
       " 'id': 1,\n",
       " 'video_id': 1,\n",
       " 'caption': 'C8_P6_P5_1',\n",
       " 'width': 2048,\n",
       " 'height': 1536,\n",
       " 'frame_index': 1,\n",
       " 'date_captured': '20210506',\n",
       " 'dataset': 1}"
      ]
     },
     "execution_count": 60,
     "metadata": {},
     "output_type": "execute_result"
    }
   ],
   "source": [
    "molajson[\"images\"][0]"
   ]
  },
  {
   "cell_type": "code",
   "execution_count": 61,
   "metadata": {},
   "outputs": [
    {
     "data": {
      "text/plain": [
       "{'file_name': 'INCAR/20210506/Session 1/C8_P6_P5_2/gt/rgb/574.png',\n",
       " 'id': 1164,\n",
       " 'video_id': 2,\n",
       " 'caption': 'C8_P6_P5_2',\n",
       " 'width': 2048,\n",
       " 'height': 1536,\n",
       " 'frame_index': 574,\n",
       " 'date_captured': '20210506',\n",
       " 'dataset': 1}"
      ]
     },
     "execution_count": 61,
     "metadata": {},
     "output_type": "execute_result"
    }
   ],
   "source": [
    "molajson[\"images\"][-1]"
   ]
  },
  {
   "cell_type": "code",
   "execution_count": 62,
   "metadata": {},
   "outputs": [
    {
     "data": {
      "text/plain": [
       "{'id': 576,\n",
       " 'category_id': 1,\n",
       " 'image_id': 1164,\n",
       " 'bbox': [0, 0, 2048, 1536],\n",
       " 'area': 3145728,\n",
       " 'label_frames': 267,\n",
       " 'iscrowd': 0,\n",
       " 'dataset': 1}"
      ]
     },
     "execution_count": 62,
     "metadata": {},
     "output_type": "execute_result"
    }
   ],
   "source": [
    "molajson[\"annotations\"][-1]"
   ]
  },
  {
   "cell_type": "code",
   "execution_count": 63,
   "metadata": {},
   "outputs": [
    {
     "data": {
      "text/plain": [
       "{'id': 1,\n",
       " 'category_id': 2,\n",
       " 'image_id': 1,\n",
       " 'bbox': [0, 0, 2048, 1536],\n",
       " 'area': 3145728,\n",
       " 'label_frames': 358,\n",
       " 'iscrowd': 0,\n",
       " 'dataset': 1}"
      ]
     },
     "execution_count": 63,
     "metadata": {},
     "output_type": "execute_result"
    }
   ],
   "source": [
    "molajson[\"annotations\"][0]"
   ]
  },
  {
   "cell_type": "code",
   "execution_count": 64,
   "metadata": {},
   "outputs": [
    {
     "data": {
      "text/plain": [
       "{'id': 358,\n",
       " 'category_id': 2,\n",
       " 'image_id': 358,\n",
       " 'bbox': [0, 0, 2048, 1536],\n",
       " 'area': 3145728,\n",
       " 'label_frames': 358,\n",
       " 'iscrowd': 0,\n",
       " 'dataset': 1}"
      ]
     },
     "execution_count": 64,
     "metadata": {},
     "output_type": "execute_result"
    }
   ],
   "source": [
    "molajson[\"annotations\"][357]"
   ]
  },
  {
   "cell_type": "code",
   "execution_count": null,
   "metadata": {},
   "outputs": [],
   "source": []
  }
 ],
 "metadata": {
  "kernelspec": {
   "display_name": "Python 3",
   "language": "python",
   "name": "python3"
  },
  "language_info": {
   "codemirror_mode": {
    "name": "ipython",
    "version": 3
   },
   "file_extension": ".py",
   "mimetype": "text/x-python",
   "name": "python",
   "nbconvert_exporter": "python",
   "pygments_lexer": "ipython3",
   "version": "3.8.3"
  }
 },
 "nbformat": 4,
 "nbformat_minor": 4
}
