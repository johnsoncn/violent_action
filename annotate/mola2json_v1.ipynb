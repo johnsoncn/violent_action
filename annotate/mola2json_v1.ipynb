{
 "cells": [
  {
   "cell_type": "markdown",
   "metadata": {},
   "source": [
    "# Create INCAR and INVICON MOLA JSON\n",
    "version: 1\n",
    "\n",
    "info:\n",
    "- Create standard MOLA JSON\n",
    "\n",
    "author: nuno costa"
   ]
  },
  {
   "cell_type": "markdown",
   "metadata": {},
   "source": [
    "## MOLA Annotations Data Format"
   ]
  },
  {
   "cell_type": "markdown",
   "metadata": {},
   "source": [
    "If you wish to combine multiple datasets, it is often useful to convert them into a unified data format. \n",
    "\n",
    "Objective: "
   ]
  },
  {
   "cell_type": "code",
   "execution_count": 2,
   "metadata": {},
   "outputs": [
    {
     "ename": "SyntaxError",
     "evalue": "invalid syntax (<ipython-input-2-580a7c10cdc0>, line 7)",
     "output_type": "error",
     "traceback": [
      "\u001b[1;36m  File \u001b[1;32m\"<ipython-input-2-580a7c10cdc0>\"\u001b[1;36m, line \u001b[1;32m7\u001b[0m\n\u001b[1;33m    \"categories\": [],\u001b[0m\n\u001b[1;37m    ^\u001b[0m\n\u001b[1;31mSyntaxError\u001b[0m\u001b[1;31m:\u001b[0m invalid syntax\n"
     ]
    }
   ],
   "source": [
    "\n",
    " #ANNOTATIONS FORMAT (BASED ON COCO)\n",
    "\n",
    " #Annotations format keys:\n",
    "\n",
    "{ \"info\": None, \n",
    "\"licenses\": [], #TODO\n",
    "\"categories\": [], \n",
    "\"images\": [],\n",
    "\"annotations\": [],\n",
    "\"videos\": [], \n",
    "\"video_annotations\": [], #TODO\n",
    "\"tracks\": [], #TODO - only for Object Tracking\n",
    "\"segment_info\": [], #TODO\n",
    "\"datasets\": [{'name': 'INCAR', 'id': 1}, {'name': 'INVICON', 'id': 2}] \n",
    "}\n",
    "\n",
    "#1 object definition:\n",
    "\n",
    "info: {\n",
    " \"year\": int, \n",
    " \"version\": str, \n",
    " \"description\": str, \n",
    " \"contributor\": str, \n",
    " \"url\": str, \n",
    " \"date_created\": datetime,\n",
    "}\n",
    "\n",
    "license: {\n",
    " \"id\": int, \n",
    " \"name\": str, \n",
    " \"url\": str,\n",
    "}\n",
    "\n",
    "category: {\n",
    " \"id\": int, \n",
    " \"name\": str, \n",
    " \"supercategory\": str,\n",
    " \"dataset\": int, #dataset_id\n",
    "}\n",
    "\n",
    "image: {\n",
    " \"id\" : int,\n",
    " \"video_id\": int, \n",
    " \"file_name\" : str,\n",
    " \"license\" : int,\n",
    " \"dataset\": int, #dataset_id\n",
    " # Redundant fields for COCO-compatibility\n",
    " \"width\": int,\n",
    " \"height\": int,\n",
    " \"frame_index\": int, #frame index from original video_id\n",
    " \"date_captured\": datetime,\n",
    "}\n",
    "\n",
    "annotation: { #rawframes annotation\n",
    " \"category_id\": int\n",
    " \"image_id\": int,\n",
    " #\"track_id\": int, # NOT FOR ACTION, ONLY FOR OBJECT TRACKING\n",
    " \"bbox\": [x,y,width,height],\n",
    " \"area\": float,\n",
    " \"dataset\": int, #dataset_id\n",
    " # Redundant field for compatibility with COCO scripts\n",
    " \"id\": int,\n",
    " \"iscrowd\": 0 or 1,  (iscrowd=1) are used to label large groups of objects (e.g. a crowd of people)\n",
    " \"segmentation\": RLE(iscrowd=1) or [polygon](iscrowd=0), \n",
    "\n",
    "}\n",
    "\n",
    "video: { \n",
    " \"id\": int,\n",
    " \"name\": str,\n",
    " \"width\" : int,\n",
    " \"height\" : int,\n",
    " \"total_frames\": int, # TOTAL NUMBER OF FRAMES OF THE VIDEO\n",
    " \"fps\": int,\n",
    " \"dataset\": int, #dataset_id\n",
    " #\"metadata\": dict,  # Metadata about the video - NOT NECESSARY ADDITIONAL DICT\n",
    "}\n",
    "\n",
    "video_annotation: { #TODO\n",
    " \"id\": int,\n",
    " \"category_id\": int, #label\n",
    " \"video_id\": int,\n",
    " \"frame_start\": int, #in frames, then it can be converted using the fps\n",
    " \"frame_end\":int, #in frames\n",
    " \"label_frames\": int, # TOTAL NUMBER OF FRAMES OF LABEL category_id\n",
    " \"dataset\": int, #dataset_id\n",
    "}\n",
    "\n",
    "\n",
    "\n",
    "segment: { #TODO\n",
    " \"id\": int, \n",
    " \"category_id\": int, \n",
    " \"area\": int, \n",
    " \"bbox\": [x,y,width,height], \n",
    " # Redundant field for compatibility with COCO scripts\n",
    " \"iscrowd\": 0 or 1,\n",
    "}\n",
    "\n",
    "\n",
    "track: { #DOES IT MAKE SENSE TO TRACT ACTIONS INSIDE THE VIDEO? NO- ONLY OBJECTS\n",
    " \"id\": int,\n",
    " \"category_id\": int,\n",
    " \"video_id\": int\n",
    "}"
   ]
  },
  {
   "cell_type": "markdown",
   "metadata": {},
   "source": [
    "## SETUP"
   ]
  },
  {
   "cell_type": "code",
   "execution_count": 8,
   "metadata": {},
   "outputs": [],
   "source": [
    "from annotate_v5 import *\n",
    "import platform \n",
    "import json\n",
    "import os\n",
    "from itertools import groupby"
   ]
  },
  {
   "cell_type": "code",
   "execution_count": 9,
   "metadata": {},
   "outputs": [
    {
     "name": "stdout",
     "output_type": "stream",
     "text": [
      "OS: Linux-5.4.0-80-generic-x86_64-with-glibc2.10\n",
      "root dir: /home/administrator/server_data_ext/Recordings/EASYRIDE/P19/\n",
      "OS separator: /\n"
     ]
    }
   ],
   "source": [
    "#Define root dir dependent on OS\n",
    "rdir='D:/external_datasets/MOLA/' #WARNING needs to be root datasets \n",
    "print('OS: {}'.format(platform.platform()))\n",
    "if str(platform.platform()).upper().find('linux'.upper())>-1: rdir=\"/home/administrator/server_data_ext/Recordings/EASYRIDE/P19/\" #'/mnt/d/external_datasets/'\n",
    "print('root dir: {}'.format(rdir))\n",
    "print('OS separator: {}'.format(os.path.sep))"
   ]
  },
  {
   "cell_type": "markdown",
   "metadata": {},
   "source": [
    "# SINGLE CASE STUDY"
   ]
  },
  {
   "cell_type": "markdown",
   "metadata": {},
   "source": [
    "### INIT motionLAB JSON\n",
    "- uses annotate.init_json() function"
   ]
  },
  {
   "cell_type": "code",
   "execution_count": 46,
   "metadata": {},
   "outputs": [],
   "source": [
    "res={\n",
    "    'rgb': [2048, 1536], #w,h\n",
    "    'thermal': [640,512],\n",
    "    'pointcloud': [640,576],\n",
    "    'fps': 30\n",
    "}"
   ]
  },
  {
   "cell_type": "code",
   "execution_count": 44,
   "metadata": {},
   "outputs": [],
   "source": [
    "def init_json(file='mola.json'):\n",
    "    output = {\n",
    "        \"info\": None,\n",
    "        \"licenses\": [],\n",
    "        \"categories\": [],\n",
    "        \"videos\": [],\n",
    "        \"images\": [],\n",
    "        \"tracks\": [],\n",
    "        \"segment_info\": [],\n",
    "        \"annotations\": [],\n",
    "        \"video_annotations\": [],\n",
    "        \"datasets\": [] #[{'name': 'COCO', 'id': 1}, {'name': 'TAO', 'id': 2}]\n",
    "    }\n",
    "    output['info'] = {\n",
    "        \"description\": \"MOLA Dataset\",\n",
    "        \"url\": \"\",\n",
    "        \"version\": \"1\",\n",
    "        \"year\": 2021,\n",
    "        \"date_created\": datetime.datetime.utcnow().isoformat(' ')\n",
    "    }\n",
    "\n",
    "    with open(file, 'w') as f:\n",
    "        json.dump(output, f)\n",
    "    print(\"JSON INITIATED : {}\".format(file))"
   ]
  },
  {
   "cell_type": "code",
   "execution_count": 45,
   "metadata": {},
   "outputs": [
    {
     "name": "stdout",
     "output_type": "stream",
     "text": [
      "JSON INITIATED : /home/administrator/server_data_ext/Recordings/EASYRIDE/P19/INCAR/mola.json\n",
      "info 5\n",
      "licenses 0\n",
      "categories 0\n",
      "videos 0\n",
      "images 0\n",
      "tracks 0\n",
      "segment_info 0\n",
      "annotations 0\n",
      "video_annotations 0\n",
      "datasets 1\n"
     ]
    }
   ],
   "source": [
    "molafile=rdir+'INCAR/'+'mola.json'\n",
    "init_json(file=molafile)\n",
    "molajson =  json.load(open(molafile))\n",
    "molajson['datasets']=[{'name': 'INCAR', 'id': 1}]\n",
    "with open(molafile, 'w') as f:\n",
    "    json.dump(molajson, f)\n",
    "for k in molajson:\n",
    "    print(k, len(molajson[k]))"
   ]
  },
  {
   "cell_type": "markdown",
   "metadata": {},
   "source": [
    "### IMPORT JSON LABELS"
   ]
  },
  {
   "cell_type": "code",
   "execution_count": 18,
   "metadata": {},
   "outputs": [
    {
     "ename": "FileNotFoundError",
     "evalue": "[Errno 2] No such file or directory: '/home/administrator/server_data_ext/Recordings/EASYRIDE/P19//annotations/splitann_mola_fix_equal_reorder_cleanclass_cleanimg/mix_coco_and_tao_aggressive/test.json'",
     "output_type": "error",
     "traceback": [
      "\u001b[0;31m---------------------------------------------------------------------------\u001b[0m",
      "\u001b[0;31mFileNotFoundError\u001b[0m                         Traceback (most recent call last)",
      "\u001b[0;32m<ipython-input-18-58dc8d6b8d9e>\u001b[0m in \u001b[0;36m<module>\u001b[0;34m\u001b[0m\n\u001b[1;32m      1\u001b[0m \u001b[0mfile\u001b[0m\u001b[0;34m=\u001b[0m\u001b[0mrdir\u001b[0m\u001b[0;34m+\u001b[0m\u001b[0;34m\"INCAR/20210506/Session 1/C8_P6_P5_1/gt/gt2.json\"\u001b[0m\u001b[0;34m\u001b[0m\u001b[0;34m\u001b[0m\u001b[0m\n\u001b[1;32m      2\u001b[0m \u001b[0mgt\u001b[0m\u001b[0;34m=\u001b[0m\u001b[0mjson\u001b[0m\u001b[0;34m.\u001b[0m\u001b[0mload\u001b[0m\u001b[0;34m(\u001b[0m\u001b[0mopen\u001b[0m\u001b[0;34m(\u001b[0m\u001b[0mfile\u001b[0m\u001b[0;34m)\u001b[0m\u001b[0;34m)\u001b[0m\u001b[0;34m\u001b[0m\u001b[0;34m\u001b[0m\u001b[0m\n\u001b[0;32m----> 3\u001b[0;31m \u001b[0mmergedjson\u001b[0m \u001b[0;34m=\u001b[0m \u001b[0mjson\u001b[0m\u001b[0;34m.\u001b[0m\u001b[0mload\u001b[0m\u001b[0;34m(\u001b[0m\u001b[0mopen\u001b[0m\u001b[0;34m(\u001b[0m\u001b[0mrdir\u001b[0m\u001b[0;34m+\u001b[0m\u001b[0;34m'/annotations/splitann_mola_fix_equal_reorder_cleanclass_cleanimg/mix_coco_and_tao_aggressive/test.json'\u001b[0m\u001b[0;34m)\u001b[0m\u001b[0;34m)\u001b[0m \u001b[0;31m#EXAMPLES\u001b[0m\u001b[0;34m\u001b[0m\u001b[0;34m\u001b[0m\u001b[0m\n\u001b[0m",
      "\u001b[0;31mFileNotFoundError\u001b[0m: [Errno 2] No such file or directory: '/home/administrator/server_data_ext/Recordings/EASYRIDE/P19//annotations/splitann_mola_fix_equal_reorder_cleanclass_cleanimg/mix_coco_and_tao_aggressive/test.json'"
     ]
    }
   ],
   "source": [
    "file=rdir+\"INCAR/20210506/Session 1/C8_P6_P5_1/gt/gt2.json\"\n",
    "gt=json.load(open(file))\n",
    "mergedjson = json.load(open(rdir+'/annotations/splitann_mola_fix_equal_reorder_cleanclass_cleanimg/mix_coco_and_tao_aggressive/test.json')) #EXAMPLES"
   ]
  },
  {
   "cell_type": "code",
   "execution_count": 43,
   "metadata": {},
   "outputs": [],
   "source": [
    "def parse_path(path):\n",
    "    parsed_path = path.replace('\\\\', '/')\n",
    "    parsed_path = parsed_path.replace('\\ ', '/')\n",
    "    return parsed_path"
   ]
  },
  {
   "cell_type": "code",
   "execution_count": 42,
   "metadata": {},
   "outputs": [],
   "source": [
    "def fix_pahts(gt):\n",
    "    #fix gt datasource\n",
    "    paths=gt['gTruth']['DataSource']\n",
    "    if isinstance(paths, dict) and 'Source' in paths: paths=paths['Source']\n",
    "    originalpath=paths[0]\n",
    "    for p in paths:\n",
    "        if p.find(\"gt\") >-1 : \n",
    "            originalpath=p\n",
    "            break\n",
    "    originalpath=parse_path(originalpath)\n",
    "    paths=[parse_path(p) for p in paths]\n",
    "    paths = ['/'.join(originalpath.split('/')[:-1]+[p.split('/')[-1]]) if p.find(\"MATLAB\") > -1 else p for p in paths]  #remove MATLAB BUG: 'C:\\\\Tools\\\\MATLAB\\\\R2020a\\\\examples\\\\symbolic\\\\data\\\\196.png'\n",
    "    paths = ['/'.join(p.split('/')[-7:]) for p in paths] #remove root dir \n",
    "    gt['gTruth']['DataSource']=paths\n",
    "    return gt\n",
    "gt=fix_pahts(gt)"
   ]
  },
  {
   "cell_type": "markdown",
   "metadata": {},
   "source": [
    "#### CATEGORIES IMPORT"
   ]
  },
  {
   "cell_type": "code",
   "execution_count": 21,
   "metadata": {},
   "outputs": [
    {
     "ename": "NameError",
     "evalue": "name 'mergedjson' is not defined",
     "output_type": "error",
     "traceback": [
      "\u001b[0;31m---------------------------------------------------------------------------\u001b[0m",
      "\u001b[0;31mNameError\u001b[0m                                 Traceback (most recent call last)",
      "\u001b[0;32m<ipython-input-21-90d1d3ee74b4>\u001b[0m in \u001b[0;36m<module>\u001b[0;34m\u001b[0m\n\u001b[1;32m      1\u001b[0m \u001b[0;31m#EXAMPLE\u001b[0m\u001b[0;34m\u001b[0m\u001b[0;34m\u001b[0m\u001b[0;34m\u001b[0m\u001b[0m\n\u001b[0;32m----> 2\u001b[0;31m \u001b[0mdisplay\u001b[0m\u001b[0;34m(\u001b[0m\u001b[0mmergedjson\u001b[0m\u001b[0;34m[\u001b[0m\u001b[0;34m\"categories\"\u001b[0m\u001b[0;34m]\u001b[0m\u001b[0;34m[\u001b[0m\u001b[0;36m0\u001b[0m\u001b[0;34m]\u001b[0m\u001b[0;34m)\u001b[0m\u001b[0;34m\u001b[0m\u001b[0;34m\u001b[0m\u001b[0m\n\u001b[0m",
      "\u001b[0;31mNameError\u001b[0m: name 'mergedjson' is not defined"
     ]
    }
   ],
   "source": [
    "#EXAMPLE\n",
    "display(mergedjson[\"categories\"][0])"
   ]
  },
  {
   "cell_type": "code",
   "execution_count": 22,
   "metadata": {},
   "outputs": [
    {
     "data": {
      "text/plain": [
       "[{'Name': 'VIOLENT',\n",
       "  'Type': 'Scene',\n",
       "  'LabelColor': [0, 0.7241, 0.6552],\n",
       "  'Group': 'None',\n",
       "  'Description': ''}]"
      ]
     },
     "execution_count": 22,
     "metadata": {},
     "output_type": "execute_result"
    }
   ],
   "source": [
    "gt['gTruth']['LabelDefinitions']"
   ]
  },
  {
   "cell_type": "code",
   "execution_count": 41,
   "metadata": {},
   "outputs": [
    {
     "name": "stderr",
     "output_type": "stream",
     "text": [
      "100%|██████████| 1/1 [00:00<00:00, 13273.11it/s]"
     ]
    },
    {
     "name": "stdout",
     "output_type": "stream",
     "text": [
      "\n",
      ">> categories:\n",
      " [{'name': 'VIOLENT', 'id': 1, 'dataset': 1}, {'name': 'NONVIOLENT', 'id': 2, 'dataset': 1}]\n"
     ]
    },
    {
     "name": "stderr",
     "output_type": "stream",
     "text": [
      "\n"
     ]
    }
   ],
   "source": [
    "def import_categories(molajson, gt, start_id=0):\n",
    "    dataset=molajson[\"datasets\"][0]['id']\n",
    "    # IMPORT categories name and id\n",
    "    cat_l=[]\n",
    "    cat_l_id=[]\n",
    "    cat_l_dset=[]\n",
    "    cat=gt['gTruth']['LabelDefinitions']\n",
    "    for i,c in enumerate(tqdm(cat)):\n",
    "        cat_l.append(c['Name'])\n",
    "        cat_l_id.append(start_id+i+1) # id start from 1\n",
    "        cat_l_dset.append(dataset) # dataset index\n",
    "        molajson['categories'].append({'name':cat_l[i],'id':cat_l_id[i],'dataset':cat_l_dset[i]})\n",
    "    # ADDITIONAL CATEGORIES: MANUAL\n",
    "    name='NONVIOLENT'\n",
    "    cid=len(cat_l)+1\n",
    "    molajson['categories'].append({'name':name,'id':cid,'dataset':dataset})\n",
    "    cat_l.append(name)\n",
    "    cat_l_id.append(cid)\n",
    "    cat_l_dset.append(dataset)\n",
    "    print(\"\\n>> categories:\\n\", molajson['categories'][-2:])\n",
    "    return molajson, cat_l, cat_l_id, cat_l_dset\n",
    "molajson, cat_l, cat_l_id, cat_l_dset=import_categories(molajson, gt)"
   ]
  },
  {
   "cell_type": "markdown",
   "metadata": {},
   "source": [
    "#### VIDEO IMPORT "
   ]
  },
  {
   "cell_type": "code",
   "execution_count": 40,
   "metadata": {
    "tags": []
   },
   "outputs": [
    {
     "name": "stdout",
     "output_type": "stream",
     "text": [
      "\n",
      ">> video:\n",
      " [{'name': 'INCAR/20210506/Session 1/C8_P6_P5_1/gt/INCAR_20210506_Session_1_C8_P6_P5_1_rgb.mp4', 'id': 1, 'width': 2048, 'height': 1536, 'sensor': 'rgb', 'fps': 30, 'total_frames': 590, 'dataset': 1}, {'name': 'INCAR/20210506/Session 1/C8_P6_P5_1/gt/INCAR_20210506_Session_1_C8_P6_P5_1_rgb.mp4', 'id': 1, 'width': 2048, 'height': 1536, 'sensor': 'rgb', 'fps': 30, 'total_frames': 590, 'dataset': 1}]\n"
     ]
    }
   ],
   "source": [
    "def import_videos(molajson, gt, res, start_id=0, sensor=\"rgb\", ext=\".mp4\"):\n",
    "    dataset=molajson[\"datasets\"][0]['id']\n",
    "    #single-level:\n",
    "    vid=start_id+1\n",
    "    video_l=[]\n",
    "    video_l_id=[]\n",
    "    total_frames=len(gt['gTruth']['DataSource'])\n",
    "    videon='_'.join(gt['gTruth']['DataSource'][0].split('/')[:-3])+'_'+sensor+ext #f'video_{vid}_{sensor}{ext}' \n",
    "    videon=videon.replace(' ','_') # remove trailing spaces in \"Session 1\"\n",
    "    video='/'.join(gt['gTruth']['DataSource'][0].split('/')[:-3])+'/'+'gt'+'/'+videon\n",
    "    video_l.append(video)\n",
    "    video_l_id.append(vid)\n",
    "    i=0 #no loop\n",
    "    molajson['videos'].append({'name':video_l[i],\n",
    "                               'id':video_l_id[i],\n",
    "                               'width': res[sensor][0],\n",
    "                               'height': res[sensor][1],\n",
    "                               'sensor': sensor,\n",
    "                               'fps': res['fps'],\n",
    "                               'total_frames': total_frames,\n",
    "                               'dataset':dataset})\n",
    "    print(\"\\n>> video:\\n\", molajson['videos'])\n",
    "    return molajson, video_l, video_l_id\n",
    "molajson, video_l, video_l_id=import_videos(molajson, gt, res)"
   ]
  },
  {
   "cell_type": "markdown",
   "metadata": {},
   "source": [
    "#### IMAGE IMPORT"
   ]
  },
  {
   "cell_type": "code",
   "execution_count": 50,
   "metadata": {},
   "outputs": [
    {
     "data": {
      "text/plain": [
       "{'license': 3,\n",
       " 'file_name': 'COCO/2017/images/train2017/000000391895.jpg',\n",
       " 'coco_url': 'http://images.cocodataset.org/train2017/000000391895.jpg',\n",
       " 'height': 360,\n",
       " 'width': 640,\n",
       " 'date_captured': '2013-11-14 11:18:45',\n",
       " 'flickr_url': 'http://farm9.staticflickr.com/8186/8119368305_4e622c8349_z.jpg',\n",
       " 'id': 1,\n",
       " 'caption': 'A man with a red helmet on a small moped on a dirt road. ',\n",
       " 'dataset': 1}"
      ]
     },
     "metadata": {},
     "output_type": "display_data"
    }
   ],
   "source": [
    "#EXAMPLE\n",
    "display(mergedjson[\"images\"][0])"
   ]
  },
  {
   "cell_type": "code",
   "execution_count": 25,
   "metadata": {},
   "outputs": [
    {
     "data": {
      "text/plain": [
       "'INCAR/20210506/Session 1/C8_P6_P5_1/gt/rgb/1.png'"
      ]
     },
     "execution_count": 25,
     "metadata": {},
     "output_type": "execute_result"
    }
   ],
   "source": [
    "gt['gTruth']['DataSource'][0]"
   ]
  },
  {
   "cell_type": "code",
   "execution_count": 39,
   "metadata": {},
   "outputs": [
    {
     "name": "stderr",
     "output_type": "stream",
     "text": [
      "100%|██████████| 590/590 [00:00<00:00, 397468.58it/s]"
     ]
    },
    {
     "name": "stdout",
     "output_type": "stream",
     "text": [
      "\n",
      ">> images:\n",
      " [{'file_name': 'INCAR/20210506/Session 1/C8_P6_P5_1/gt/rgb/589.png', 'id': 589, 'video_id': 1, 'caption': 'C8_P6_P5_1', 'width': 2048, 'height': 1536, 'frame_index': 589, 'date_captured': '20210506', 'dataset': 1}, {'file_name': 'INCAR/20210506/Session 1/C8_P6_P5_1/gt/rgb/590.png', 'id': 590, 'video_id': 1, 'caption': 'C8_P6_P5_1', 'width': 2048, 'height': 1536, 'frame_index': 590, 'date_captured': '20210506', 'dataset': 1}]\n"
     ]
    },
    {
     "name": "stderr",
     "output_type": "stream",
     "text": [
      "\n"
     ]
    }
   ],
   "source": [
    "def import_images(molajson, gt, res, start_id=0, video_id=1, sensor=\"rgb\"):\n",
    "    dataset=molajson[\"datasets\"][0]['id']\n",
    "    # images filepath and id\n",
    "    img_l=[]\n",
    "    img_l_id=[]\n",
    "    img=gt['gTruth']['DataSource']\n",
    "    for i,im in enumerate(tqdm(img)):\n",
    "        img_l.append(im)\n",
    "        img_l_id.append(start_id+i+1) # id start from 1\n",
    "        frame_index=img_l[i].split('/')[-1]\n",
    "        frame_index=int(frame_index.split('.')[0])\n",
    "        molajson['images'].append({'file_name':img_l[i],\n",
    "                                   'id':img_l_id[i],\n",
    "                                   'video_id':video_id,\n",
    "                                   'caption':img_l[i].split('/')[-4], # scenario\n",
    "                                   'width': res[sensor][0],\n",
    "                                   'height': res[sensor][1],\n",
    "                                   \"frame_index\": frame_index,\n",
    "                                   \"date_captured\": img_l[i].split('/')[-6],\n",
    "                                   'dataset':dataset})\n",
    "    print(\"\\n>> images:\\n\", molajson['images'][-2:])\n",
    "    return molajson, img_l, img_l_id\n",
    "molajson, img_l, img_l_id=import_images(molajson, gt, res, video_id=video_l_id[-1])"
   ]
  },
  {
   "cell_type": "markdown",
   "metadata": {},
   "source": [
    "#### CREATE ANNOTATIONS"
   ]
  },
  {
   "cell_type": "code",
   "execution_count": 53,
   "metadata": {},
   "outputs": [
    {
     "data": {
      "text/plain": [
       "{'segmentation': [[619, 463, 761, 463, 761, 535, 619, 535]],\n",
       " 'bbox': [619, 463, 142, 72],\n",
       " 'area': 10224,\n",
       " 'iscrowd': 0,\n",
       " 'id': 1243036,\n",
       " 'image_id': 146427,\n",
       " 'category_id': 1,\n",
       " 'track_id': 3385,\n",
       " '_scale_uuid': 'd83e8588-2744-4f9b-a14c-b6c8129cd696',\n",
       " 'scale_category': 'moving object',\n",
       " 'video_id': 626,\n",
       " 'dataset': 2}"
      ]
     },
     "metadata": {},
     "output_type": "display_data"
    }
   ],
   "source": [
    "#EXAMPLE\n",
    "display(mergedjson[\"annotations\"][1000])"
   ]
  },
  {
   "cell_type": "code",
   "execution_count": 27,
   "metadata": {},
   "outputs": [
    {
     "data": {
      "text/plain": [
       "{'VIOLENT': False}"
      ]
     },
     "execution_count": 27,
     "metadata": {},
     "output_type": "execute_result"
    }
   ],
   "source": [
    "gt['gTruth']['LabelData'][0]"
   ]
  },
  {
   "cell_type": "code",
   "execution_count": 38,
   "metadata": {},
   "outputs": [
    {
     "name": "stderr",
     "output_type": "stream",
     "text": [
      "100%|██████████| 590/590 [00:00<00:00, 385277.81it/s]"
     ]
    },
    {
     "name": "stdout",
     "output_type": "stream",
     "text": [
      "\n",
      ">> annotations:\n",
      " [{'id': 589, 'category_id': 1, 'image_id': 589, 'bbox': [0, 0, 2048, 1536], 'area': 3145728, 'iscrowd': 0, 'dataset': 1}, {'id': 590, 'category_id': 1, 'image_id': 590, 'bbox': [0, 0, 2048, 1536], 'area': 3145728, 'iscrowd': 0, 'dataset': 1}]\n"
     ]
    },
    {
     "name": "stderr",
     "output_type": "stream",
     "text": [
      "\n"
     ]
    }
   ],
   "source": [
    "def create_annotations(molajson, gt, res, cat_l, cat_l_id, cat_l_dset, img_l_id, start_id=0, sensor=\"rgb\"):\n",
    "    dataset=molajson[\"datasets\"][0]['id']\n",
    "    # annotations category_id, image_id, bbox, and dataset\n",
    "    ann_id=[]\n",
    "    ann_catid=[]\n",
    "    ann_imgid=[]\n",
    "    ann_bbox=[]\n",
    "    ann_dset=[]\n",
    "    labels=gt['gTruth']['LabelData']\n",
    "    for i,l in enumerate(tqdm(labels)):\n",
    "        annid=start_id+i+1\n",
    "        current_label=list(l.keys())[0]\n",
    "        if current_label=='VIOLENT' and not l[\"VIOLENT\"]: current_label=\"NONVIOLENT\" #specific rule of gt labelling\n",
    "        catidx=cat_l.index(current_label)\n",
    "        catid=cat_l_id[catidx]\n",
    "        imgidx=i #frame\n",
    "        imgid=img_l_id[imgidx]\n",
    "        bbox=[0, 0, res[sensor][0], res[sensor][1]] # [x,y,width,height], #default RGB\n",
    "        area=res[sensor][0]*res[sensor][1] #default RGB\n",
    "        ann_id.append(annid)\n",
    "        ann_catid.append(catid)\n",
    "        ann_imgid.append(imgid)\n",
    "        ann_bbox.append(bbox)\n",
    "        ann_dset.append(dataset)\n",
    "        molajson['annotations'].append({'id':annid,\n",
    "                                        'category_id':catid,\n",
    "                                        'image_id':imgid,\n",
    "                                        'bbox': bbox,\n",
    "                                        'area': area,\n",
    "                                        'iscrowd': 0,\n",
    "                                        'dataset':dataset})\n",
    "    print(\"\\n>> annotations:\\n\", molajson['annotations'][-2:])\n",
    "    return molajson, ann_id, ann_catid, ann_imgid, ann_bbox, ann_dset\n",
    "molajson, ann_id, ann_catid, ann_imgid, ann_bbox, ann_dset=create_annotations(molajson, gt,res, cat_l, cat_l_id, cat_l_dset, img_l_id)"
   ]
  },
  {
   "cell_type": "code",
   "execution_count": 36,
   "metadata": {},
   "outputs": [
    {
     "name": "stdout",
     "output_type": "stream",
     "text": [
      "\n",
      ">> annotations:\n",
      " [{'id': 586, 'category_id': 1, 'image_id': 586, 'bbox': [0, 0, 2048, 1536], 'area': 3145728, 'iscrowd': 0, 'dataset': 1}, {'id': 587, 'category_id': 1, 'image_id': 587, 'bbox': [0, 0, 2048, 1536], 'area': 3145728, 'iscrowd': 0, 'dataset': 1}, {'id': 588, 'category_id': 1, 'image_id': 588, 'bbox': [0, 0, 2048, 1536], 'area': 3145728, 'iscrowd': 0, 'dataset': 1}, {'id': 589, 'category_id': 1, 'image_id': 589, 'bbox': [0, 0, 2048, 1536], 'area': 3145728, 'iscrowd': 0, 'dataset': 1}, {'id': 590, 'category_id': 1, 'image_id': 590, 'bbox': [0, 0, 2048, 1536], 'area': 3145728, 'iscrowd': 0, 'dataset': 1}]\n"
     ]
    }
   ],
   "source": [
    "print(\"\\n>> annotations:\\n\", molajson['annotations'][-5:])"
   ]
  },
  {
   "cell_type": "code",
   "execution_count": 37,
   "metadata": {},
   "outputs": [
    {
     "name": "stderr",
     "output_type": "stream",
     "text": [
      "100%|██████████| 2/2 [00:00<00:00, 31775.03it/s]"
     ]
    },
    {
     "name": "stdout",
     "output_type": "stream",
     "text": [
      "\n",
      ">> video_annotations:\n",
      " [{'id': 1, 'category_id': 2, 'video_id': 1, 'frame_start': 1, 'frame_end': 358, 'label_frames': 358, 'dataset': 1}, {'id': 2, 'category_id': 1, 'video_id': 1, 'frame_start': 359, 'frame_end': 590, 'label_frames': 232, 'dataset': 1}]\n"
     ]
    },
    {
     "name": "stderr",
     "output_type": "stream",
     "text": [
      "\n"
     ]
    }
   ],
   "source": [
    "def create_video_annotations(molajson, gt, res, cat_l, cat_l_id, cat_l_dset, video_l_id, start_id=0, sensor=\"rgb\"):\n",
    "    dataset=molajson[\"datasets\"][0]['id']\n",
    "    # annotations category_id, image_id, bbox, and dataset\n",
    "    ann_id=[]\n",
    "    ann_catid=[]\n",
    "    ann_videoid=[]\n",
    "    ann_dset=[]\n",
    "    labels=gt['gTruth']['LabelData']\n",
    "    #extract frames and correspondent labels\n",
    "    labels_l=[]\n",
    "    frames_l=[]\n",
    "    previous_label=''\n",
    "    frames_per_label=[]\n",
    "    for i,l in enumerate(labels): #UNSPECIFIC LABEL EXTRACTOR\n",
    "        current_label=list(l.keys())[0]\n",
    "        if current_label=='VIOLENT' and not l[\"VIOLENT\"]: current_label=\"NONVIOLENT\" #specific rule of gt labelling\n",
    "        if previous_label != current_label or i+1>=len(labels):\n",
    "            if i+1>=len(labels): frames_per_label.append(i+1)\n",
    "            if frames_per_label: frames_l.append(frames_per_label)\n",
    "            if previous_label !='': labels_l.append(previous_label)\n",
    "            previous_label=current_label\n",
    "            frames_per_label=[]\n",
    "        frames_per_label.append(i+1)\n",
    "    #create video annotations\n",
    "    for i,c in enumerate(labels_l):\n",
    "        annid=start_id+i+1\n",
    "        catidx=cat_l.index(c)\n",
    "        label_frames=frames_l[i]\n",
    "        if not label_frames: continue #no frames\n",
    "        catid=cat_l_id[catidx] \n",
    "        videoidx=0 #only one video per scenario\n",
    "        videoid=video_l_id[videoidx]\n",
    "        ann_id.append(annid)\n",
    "        ann_catid.append(catid)\n",
    "        ann_videoid.append(videoid)\n",
    "        ann_dset.append(dataset)\n",
    "        molajson['video_annotations'].append({'id':annid,\n",
    "                                        'category_id':catid,\n",
    "                                        'video_id':videoid,\n",
    "                                        'frame_start': int(label_frames[0]), #in frames, then it can be converted using the fps\n",
    "                                        'frame_end': int(label_frames[-1]), #in frames\n",
    "                                        \"label_frames\": len(label_frames),\n",
    "                                        'dataset':dataset})\n",
    "    print(\"\\n>> video_annotations:\\n\", molajson['video_annotations'][-2:])\n",
    "    \"\"\"  \n",
    "    frames_violent=[i+1 for i,l in enumerate(labels) if l[\"VIOLENT\"]]\n",
    "    frames_nonviolent=[i+1 for i,l in enumerate(labels) if not l[\"VIOLENT\"]]\n",
    "    for i,c in enumerate(tqdm(cat_l)):\n",
    "        annid=start_id+i+1\n",
    "        catidx=i\n",
    "        #specific - TODO unspecific\n",
    "        label_frames=frames_violent\n",
    "        if c==\"NONVIOLENT\": label_frames=frames_nonviolent\n",
    "        if not label_frames: continue #no frames of this category, therefore video of this category\n",
    "        catid=cat_l_id[catidx]\n",
    "        #dataset=cat_l_dset[catidx]\n",
    "        videoidx=0 #only one video per scenario\n",
    "        videoid=video_l_id[videoidx]\n",
    "        ann_id.append(annid)\n",
    "        ann_catid.append(catid)\n",
    "        ann_videoid.append(videoid)\n",
    "        ann_dset.append(dataset)\n",
    "        molajson['video_annotations'].append({'id':annid,\n",
    "                                        'category_id':catid,\n",
    "                                        'video_id':videoid,\n",
    "                                        'frame_start': int(label_frames[0]), #in frames, then it can be converted using the fps\n",
    "                                        'frame_end': int(label_frames[-1]), #in frames\n",
    "                                        \"label_frames\": len(label_frames),\n",
    "                                        'dataset':dataset})\n",
    "    print(\"\\n>> video_annotations:\\n\", molajson['video_annotations'][-2:])\"\"\"\n",
    "    return molajson, ann_id, ann_catid, ann_videoid, ann_dset\n",
    "molajson, ann_id, ann_catid, ann_videoid, ann_dset=create_video_annotations(molajson, gt,res, cat_l, cat_l_id, cat_l_dset, video_l_id)"
   ]
  },
  {
   "cell_type": "markdown",
   "metadata": {},
   "source": [
    "# MULTI CASE STUDY (For loop script)"
   ]
  },
  {
   "cell_type": "code",
   "execution_count": null,
   "metadata": {
    "tags": []
   },
   "outputs": [],
   "source": [
    "datasets=['INCAR', 'INVICON']\n",
    "rdir=rdir\n",
    "# FOR LOOP\"\n",
    "datasetsdir = os.listdir(rdir)\n",
    "missing_gt_json=[]\n",
    "missing_gt_mat=[]\n",
    "label_folder=\"gt\"\n",
    "label_fname=\"gt2.json\"\n",
    "label_mat_fname=\"gt.m\"\n",
    "sensor=\"rgb\"\n",
    "ext=\".mp4\"\n",
    "did=1 #start dataset id\n",
    "for dataset in datasetsdir:\n",
    "    if dataset in datasets:\n",
    "        daysdir = os.path.join(rdir, dataset)\n",
    "        if not os.path.isdir(daysdir): continue  # test if is a folder\n",
    "        days = os.listdir(daysdir)\n",
    "        print(\">>>\\n EXTRACTING DATASET: \"+dataset)\n",
    "        #INIT JSON\n",
    "        molafile=rdir+dataset+'/'+'mola.json'\n",
    "        init_json(file=molafile)\n",
    "        molajson =  json.load(open(molafile))\n",
    "        molajson['datasets'] = [{'name': dataset, 'id': did}] #[{'name': d, 'id': i+1} for i,d in enumerate(datasets)]\n",
    "        did+=1 #nem dataset added\n",
    "        with open(molafile, 'w') as f:\n",
    "            json.dump(molajson, f)\n",
    "        #INIT VARS\n",
    "        imported_cats = False # import cats from each dataset\n",
    "        cat_start_id = 0\n",
    "        video_start_id = 0\n",
    "        img_start_id = 0\n",
    "        ann_start_id = 0\n",
    "        vid_ann_start_id = 0\n",
    "        cat_l, cat_l_id, cat_l_dset = [], [], []\n",
    "        video_l, video_l_id = [], []\n",
    "        img_l, img_l_id = [], []\n",
    "        ann_id, ann_catid, ann_imgid, ann_bbox, ann_dset = [], [], [], [], []\n",
    "        vid_ann_id, vid_ann_catid, ann_videoid, vid_ann_dset = [], [], [], []\n",
    "        #FOR LOOP\n",
    "        for day in days:\n",
    "            sessiondir = os.path.join(daysdir, day)\n",
    "            if not os.path.isdir(sessiondir): continue  # test if is a folder\n",
    "            sessions = os.listdir(sessiondir)\n",
    "            for session in sessions:\n",
    "                scenariosdir = os.path.join(sessiondir, session)\n",
    "                if not os.path.isdir(scenariosdir): continue  # test if is a folder\n",
    "                scenarios = os.listdir(scenariosdir)\n",
    "                for scenario in scenarios:\n",
    "                    imgdir = os.path.join(scenariosdir, scenario)\n",
    "                    if not os.path.isdir(imgdir): continue  # test if is a folder\n",
    "                    labeldir = os.path.join(imgdir, label_folder)\n",
    "                    # if not os.path.isdir(labeldir): continue #should exist\n",
    "                    filename = os.path.join(labeldir, label_fname)\n",
    "                    try:\n",
    "                        gt = json.load(open(filename))\n",
    "                        # fix gt paths\n",
    "                        gt = fix_pahts(gt) #gTruth can be also missing missing\n",
    "                    except:\n",
    "                        print(\">>>>>>>MISSING OR BUG gtFILE: \", filename)\n",
    "                        missing_gt_json.append(filename)\n",
    "                        if not os.path.isfile(filename.replace(label_fname, label_mat_fname)): missing_gt_mat.append(filename.replace(label_fname, label_mat_fname))\n",
    "                        continue\n",
    "                    # update molajson\n",
    "                    if not imported_cats:  # only imports one time\n",
    "                        molajson, cat_l, cat_l_id, cat_l_dset = import_categories(molajson, gt, start_id=cat_start_id)\n",
    "                        imported_cats = True        \n",
    "                    molajson, video_l, video_l_id=import_videos(molajson, gt, res,\n",
    "                                                                start_id=video_start_id,\n",
    "                                                                sensor=sensor,\n",
    "                                                                ext=ext)\n",
    "                    molajson, img_l, img_l_id=import_images(molajson, gt, res, \n",
    "                                                            start_id=img_start_id, \n",
    "                                                            video_id=video_l_id[-1])\n",
    "                    molajson, ann_id, ann_catid, ann_imgid, ann_bbox, ann_dset = create_annotations(molajson, gt, res,\n",
    "                                                                                                    cat_l, cat_l_id,\n",
    "                                                                                                    cat_l_dset, img_l_id,\n",
    "                                                                                                    start_id=ann_start_id,\n",
    "                                                                                                    sensor=sensor)\n",
    "                    molajson, vid_ann_id, vid_ann_catid, ann_videoid, vid_ann_dset=create_video_annotations(molajson, gt,res, \n",
    "                                                                                                cat_l, cat_l_id, \n",
    "                                                                                                cat_l_dset, video_l_id,\n",
    "                                                                                                start_id=vid_ann_start_id,\n",
    "                                                                                                sensor=sensor)\n",
    "                    # update start ids to the last id\n",
    "                    cat_start_id = cat_l_id[-1]\n",
    "                    video_start_id = video_l_id[-1]\n",
    "                    img_start_id = img_l_id[-1]\n",
    "                    ann_start_id = ann_id[-1]\n",
    "                    vid_ann_start_id = vid_ann_id[-1]\n",
    "\n",
    "        # results\n",
    "        for k in molajson:\n",
    "            print(k, len(molajson[k]))\n",
    "\n",
    "        # # Save\n",
    "        print('\\n >> SAVING...')\n",
    "        jsonfile=molafile\n",
    "        with open(jsonfile, 'w') as f:\n",
    "            json.dump(molajson, f)\n",
    "        with open(jsonfile.replace('.json', '_missing_gtmat.txt'),'w') as f:\n",
    "            f.write(str(missing_gt_mat))\n",
    "        with open(jsonfile.replace('.json', '_missing_gtjson.txt'),'w') as f:\n",
    "            f.write(str(missing_gt_json))\n",
    "        print(\"JSON SAVED : {} \\n\".format(jsonfile))\n",
    "\n",
    "        #retest results\n",
    "        molajson =  json.load(open(molafile))\n",
    "        for k in molajson:\n",
    "            print(k, len(molajson[k]))"
   ]
  },
  {
   "cell_type": "code",
   "execution_count": 53,
   "metadata": {
    "tags": []
   },
   "outputs": [
    {
     "name": "stdout",
     "output_type": "stream",
     "text": [
      "/home/administrator/server_data_ext/Recordings/EASYRIDE/P19/INCAR/mola.json\n",
      "info 5\n",
      "licenses 0\n",
      "categories 2\n",
      "videos 760\n",
      "images 443433\n",
      "tracks 0\n",
      "segment_info 0\n",
      "annotations 443433\n",
      "video_annotations 1595\n",
      "datasets 1\n"
     ]
    }
   ],
   "source": [
    "molafile=rdir+'INCAR/'+'mola.json'\n",
    "print(molafile)\n",
    "molajson =  json.load(open(molafile))\n",
    "for k in molajson:\n",
    "    print(k, len(molajson[k]))"
   ]
  },
  {
   "cell_type": "code",
   "execution_count": 49,
   "metadata": {},
   "outputs": [
    {
     "name": "stdout",
     "output_type": "stream",
     "text": [
      "info 5\n",
      "licenses 0\n",
      "categories 2\n",
      "videos 763\n",
      "images 388490\n",
      "tracks 0\n",
      "segment_info 0\n",
      "annotations 388490\n",
      "video_annotations 1524\n",
      "datasets 1\n"
     ]
    }
   ],
   "source": [
    "molafile=rdir+'INVICON/'+'mola.json'\n",
    "molajson =  json.load(open(molafile))\n",
    "for k in molajson:\n",
    "    print(k, len(molajson[k]))"
   ]
  },
  {
   "cell_type": "code",
   "execution_count": 54,
   "metadata": {},
   "outputs": [
    {
     "data": {
      "text/plain": [
       "{'name': 'INCAR', 'id': 1}"
      ]
     },
     "execution_count": 54,
     "metadata": {},
     "output_type": "execute_result"
    }
   ],
   "source": [
    "molajson[\"datasets\"][-1]"
   ]
  },
  {
   "cell_type": "code",
   "execution_count": 55,
   "metadata": {
    "tags": []
   },
   "outputs": [
    {
     "data": {
      "text/plain": [
       "{'name': 'NONVIOLENT', 'id': 2, 'dataset': 1}"
      ]
     },
     "execution_count": 55,
     "metadata": {},
     "output_type": "execute_result"
    }
   ],
   "source": [
    "molajson[\"categories\"][-1]"
   ]
  },
  {
   "cell_type": "code",
   "execution_count": 56,
   "metadata": {
    "tags": []
   },
   "outputs": [
    {
     "data": {
      "text/plain": [
       "{'name': 'INCAR/20210422/Session1/C1_P7_P8_2/gt/INCAR_20210422_Session1_C1_P7_P8_2_rgb.mp4',\n",
       " 'id': 14,\n",
       " 'width': 2048,\n",
       " 'height': 1536,\n",
       " 'sensor': 'rgb',\n",
       " 'fps': 30,\n",
       " 'total_frames': 590,\n",
       " 'dataset': 1}"
      ]
     },
     "execution_count": 56,
     "metadata": {},
     "output_type": "execute_result"
    }
   ],
   "source": [
    "molajson[\"videos\"][13]"
   ]
  },
  {
   "cell_type": "code",
   "execution_count": 57,
   "metadata": {},
   "outputs": [
    {
     "data": {
      "text/plain": [
       "{'file_name': 'INCAR/20210422/Session1/C10_P7_P8_1/gt/rgb/1.png',\n",
       " 'id': 1,\n",
       " 'video_id': 1,\n",
       " 'caption': 'C10_P7_P8_1',\n",
       " 'width': 2048,\n",
       " 'height': 1536,\n",
       " 'frame_index': 1,\n",
       " 'date_captured': '20210422',\n",
       " 'dataset': 1}"
      ]
     },
     "execution_count": 57,
     "metadata": {},
     "output_type": "execute_result"
    }
   ],
   "source": [
    "molajson[\"images\"][0]"
   ]
  },
  {
   "cell_type": "code",
   "execution_count": 58,
   "metadata": {},
   "outputs": [
    {
     "data": {
      "text/plain": [
       "{'file_name': 'INCAR/20210521/Session 2/C9_P4_P3_2/gt/rgb/566.png',\n",
       " 'id': 443433,\n",
       " 'video_id': 760,\n",
       " 'caption': 'C9_P4_P3_2',\n",
       " 'width': 2048,\n",
       " 'height': 1536,\n",
       " 'frame_index': 566,\n",
       " 'date_captured': '20210521',\n",
       " 'dataset': 1}"
      ]
     },
     "execution_count": 58,
     "metadata": {},
     "output_type": "execute_result"
    }
   ],
   "source": [
    "molajson[\"images\"][-1]"
   ]
  },
  {
   "cell_type": "code",
   "execution_count": 59,
   "metadata": {},
   "outputs": [
    {
     "data": {
      "text/plain": [
       "{'id': 443433,\n",
       " 'category_id': 1,\n",
       " 'image_id': 443433,\n",
       " 'bbox': [0, 0, 2048, 1536],\n",
       " 'area': 3145728,\n",
       " 'iscrowd': 0,\n",
       " 'dataset': 1}"
      ]
     },
     "execution_count": 59,
     "metadata": {},
     "output_type": "execute_result"
    }
   ],
   "source": [
    "molajson[\"annotations\"][-1]"
   ]
  },
  {
   "cell_type": "code",
   "execution_count": 60,
   "metadata": {},
   "outputs": [
    {
     "data": {
      "text/plain": [
       "{'id': 1,\n",
       " 'category_id': 2,\n",
       " 'image_id': 1,\n",
       " 'bbox': [0, 0, 2048, 1536],\n",
       " 'area': 3145728,\n",
       " 'iscrowd': 0,\n",
       " 'dataset': 1}"
      ]
     },
     "execution_count": 60,
     "metadata": {},
     "output_type": "execute_result"
    }
   ],
   "source": [
    "molajson[\"annotations\"][0]"
   ]
  },
  {
   "cell_type": "code",
   "execution_count": 64,
   "metadata": {},
   "outputs": [
    {
     "data": {
      "text/plain": [
       "{'id': 33,\n",
       " 'category_id': 1,\n",
       " 'video_id': 15,\n",
       " 'frame_start': 310,\n",
       " 'frame_end': 556,\n",
       " 'label_frames': 247,\n",
       " 'dataset': 1}"
      ]
     },
     "execution_count": 64,
     "metadata": {},
     "output_type": "execute_result"
    }
   ],
   "source": [
    "molajson[\"video_annotations\"][32]"
   ]
  },
  {
   "cell_type": "code",
   "execution_count": 67,
   "metadata": {},
   "outputs": [
    {
     "data": {
      "text/plain": [
       "{'id': 29,\n",
       " 'category_id': 2,\n",
       " 'video_id': 14,\n",
       " 'frame_start': 1,\n",
       " 'frame_end': 290,\n",
       " 'label_frames': 290,\n",
       " 'dataset': 1}"
      ]
     },
     "metadata": {},
     "output_type": "display_data"
    },
    {
     "data": {
      "text/plain": [
       "{'id': 31,\n",
       " 'category_id': 2,\n",
       " 'video_id': 14,\n",
       " 'frame_start': 565,\n",
       " 'frame_end': 590,\n",
       " 'label_frames': 26,\n",
       " 'dataset': 1}"
      ]
     },
     "metadata": {},
     "output_type": "display_data"
    }
   ],
   "source": [
    "# create video ann dict {video_id_category_id: video_annotations}\n",
    "videos_ann = {'%g' % x['id'] +'_'+'%g' % x['video_id'] +'_'+'%g' % x['category_id']: x for x in molajson['video_annotations']}\n",
    "k_14_2=[k for k in list(videos_ann.keys()) if k.find('_14_2')>-1]\n",
    "for k in k_14_2:\n",
    "    display(videos_ann[k])"
   ]
  },
  {
   "cell_type": "code",
   "execution_count": null,
   "metadata": {},
   "outputs": [],
   "source": []
  }
 ],
 "metadata": {
  "kernelspec": {
   "display_name": "Python 3",
   "language": "python",
   "name": "python3"
  },
  "language_info": {
   "codemirror_mode": {
    "name": "ipython",
    "version": 3
   },
   "file_extension": ".py",
   "mimetype": "text/x-python",
   "name": "python",
   "nbconvert_exporter": "python",
   "pygments_lexer": "ipython3",
   "version": "3.8.8"
  }
 },
 "nbformat": 4,
 "nbformat_minor": 4
}
