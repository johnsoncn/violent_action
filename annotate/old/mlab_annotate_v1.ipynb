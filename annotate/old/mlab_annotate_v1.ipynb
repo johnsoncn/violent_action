{
 "cells": [
  {
   "cell_type": "markdown",
   "metadata": {},
   "source": [
    "# motionLAB Annotations Data Format"
   ]
  },
  {
   "cell_type": "markdown",
   "metadata": {},
   "source": [
    "If you wish to combine multiple datasets, it is often useful to convert them into a unified data format. \n",
    "\n",
    "Objective: This script will allow you to merge the annotations into motionLab format (COCO-style annotation file) containing Image IDs in your data.json (general) file.\n",
    "\n",
    "Info: http://aidemos.cs.toronto.edu/nds/tutorial.html"
   ]
  },
  {
   "cell_type": "markdown",
   "metadata": {},
   "source": [
    "## Data Structure"
   ]
  },
  {
   "cell_type": "markdown",
   "metadata": {},
   "source": [
    "COCO format : https://cocodataset.org/#format-data ; https://www.immersivelimit.com/tutorials/create-coco-annotations-from-scratch"
   ]
  },
  {
   "cell_type": "code",
   "execution_count": 2,
   "metadata": {},
   "outputs": [],
   "source": [
    "import json\n",
    "import datetime"
   ]
  },
  {
   "cell_type": "markdown",
   "metadata": {},
   "source": [
    "#### 1. INIT JSON"
   ]
  },
  {
   "cell_type": "code",
   "execution_count": 41,
   "metadata": {},
   "outputs": [
    {
     "name": "stdout",
     "output_type": "stream",
     "text": [
      "JSON INITIATED : mlab.json\n"
     ]
    }
   ],
   "source": [
    "def init_json(file='mlab.json'):\n",
    "    output = {\n",
    "        \"info\": None,\n",
    "        \"licenses\": [],\n",
    "        \"categories\": [],\n",
    "        \"images\": [],\n",
    "        \"annotations\": []\n",
    "    }\n",
    "    \n",
    "    output['info']= {\n",
    "        \"description\": \"Mixed Dataset\",\n",
    "        \"url\": \"\",\n",
    "        \"version\": \"1\",\n",
    "        \"year\": 2020,\n",
    "        \"date_created\": datetime.datetime.utcnow().isoformat(' ')\n",
    "    }\n",
    "\n",
    "    \n",
    "    \n",
    "    with open(file, 'w') as f:\n",
    "        json.dump(output,f)\n",
    "    print(\"JSON INITIATED : {}\".format(file))\n",
    "\n",
    "init_json()"
   ]
  },
  {
   "cell_type": "markdown",
   "metadata": {},
   "source": [
    "#### 2. load and Merge JSON"
   ]
  },
  {
   "cell_type": "code",
   "execution_count": 41,
   "metadata": {},
   "outputs": [],
   "source": [
    "mlabjson=json.load(open('mlab.json'))\n",
    "cocojson=json.load(open('cocoval2017.json'))\n",
    "taojson=json.load(open('taotrainjson.json'))"
   ]
  },
  {
   "cell_type": "code",
   "execution_count": 21,
   "metadata": {},
   "outputs": [
    {
     "data": {
      "text/plain": [
       "0"
      ]
     },
     "execution_count": 21,
     "metadata": {},
     "output_type": "execute_result"
    }
   ],
   "source": [
    "def last_value(mlabjson, key=\"categories\", subkey=\"id\", initvalue=None):\n",
    "    last_value=initvalue\n",
    "    l=mlabjson[key]\n",
    "    if l:\n",
    "        last = mlabjson[key][-1]\n",
    "        if last[subkey]: last_value=last[subkey] \n",
    "    return last_value\n",
    "#TEST\n",
    "last_value(mlabjson, key=\"categories\", subkey=\"id\", initvalue=0)"
   ]
  },
  {
   "cell_type": "code",
   "execution_count": 39,
   "metadata": {},
   "outputs": [],
   "source": [
    "def merge_keys(mlabjson, newjson, key=\"images\", indexed_key='image_id', root_dir=None, dir_key=['file_name', 'video']): \n",
    "    #NOTE: root_dir format str: 'root/path/'\n",
    "    #NOTE: should update mlabjson and newjson\n",
    "    \n",
    "    #update newjson\n",
    "    mlab_last_id = last_value(mlabjson, key=key, subkey=\"id\", initvalue=0) #get last key value\n",
    "    for ik,k in enumerate(newjson[key]): #update keys and values\n",
    "        original_id=k['id']\n",
    "        new_id=mlab_last_id+(ik+1) \n",
    "        print('original id : {} > new id: {}'.format(original_id, new_id))\n",
    "        #update newjson id keys\n",
    "        newjson[key][ik]['id']=new_id  #update newjson id \n",
    "        for nj_k in newjson: #update newjson indexed keys id (inside other newjson keys) \n",
    "            if isinstance(newjson[nj_k], list) and isinstance(newjson[nj_k][0], dict) and newjson[nj_k][0].get(indexed_key, False):\n",
    "                for inj_v, nj_v in enumerate(newjson[nj_k]):\n",
    "                        if nj_v[indexed_key]==original_id:\n",
    "                            newjson[nj_k][inj_v][indexed_key] = new_id\n",
    "                \n",
    "        \"\"\"     \n",
    "        for idx_k in indexed_keys:  \n",
    "            idx_subk=indexed_keys.get(idx_k)\n",
    "            try:\n",
    "                if idx_subk in newjson[idx_k][0]:  \n",
    "                    for ian, an in enumerate(newjson[idx_k]):\n",
    "                        if an[idx_subk]==original_id:\n",
    "                            newjson[idx_k][ian][idx_subk] = new_id\n",
    "            except:\n",
    "                print(\"indexed key: {},  or subkey: {} missing from newjson\".format(idx_k, idx_subk))\n",
    "                pass\n",
    "        \"\"\"\n",
    "        #additional specific updates\n",
    "        if key=='images':  #update image filnemate root dir\n",
    "            if root_dir:        \n",
    "                for dk in dir_key:\n",
    "                    try:\n",
    "                        newjson[key][ik][dk]=root_dir+newjson[key][ik][dk]\n",
    "                    except:\n",
    "                        pass \n",
    "                \n",
    "    #update mlabjson\n",
    "    mlabjson[key]=mlabjson[key]+newjson[key] #merge newjson : + or .extend()\n",
    "    \n",
    "    return mlabjson, newjson"
   ]
  },
  {
   "cell_type": "markdown",
   "metadata": {},
   "source": [
    "##### Merging licenses (#WARNING update before images, videos, etc)"
   ]
  },
  {
   "cell_type": "code",
   "execution_count": 19,
   "metadata": {},
   "outputs": [
    {
     "name": "stdout",
     "output_type": "stream",
     "text": [
      "[{'url': 'http://creativecommons.org/licenses/by-nc-sa/2.0/', 'id': 1, 'name': 'Attribution-NonCommercial-ShareAlike License'}, {'url': 'http://creativecommons.org/licenses/by-nc/2.0/', 'id': 2, 'name': 'Attribution-NonCommercial License'}, {'url': 'http://creativecommons.org/licenses/by-nc-nd/2.0/', 'id': 3, 'name': 'Attribution-NonCommercial-NoDerivs License'}, {'url': 'http://creativecommons.org/licenses/by/2.0/', 'id': 4, 'name': 'Attribution License'}, {'url': 'http://creativecommons.org/licenses/by-sa/2.0/', 'id': 5, 'name': 'Attribution-ShareAlike License'}, {'url': 'http://creativecommons.org/licenses/by-nd/2.0/', 'id': 6, 'name': 'Attribution-NoDerivs License'}, {'url': 'http://flickr.com/commons/usage/', 'id': 7, 'name': 'No known copyright restrictions'}, {'url': 'http://www.usa.gov/copyright.shtml', 'id': 8, 'name': 'United States Government Work'}]\n",
      "['Unknown']\n"
     ]
    }
   ],
   "source": [
    "print(cocojson['licenses'])\n",
    "print(taojson['licenses'])"
   ]
  },
  {
   "cell_type": "code",
   "execution_count": 37,
   "metadata": {},
   "outputs": [
    {
     "name": "stdout",
     "output_type": "stream",
     "text": [
      "[{'url': 'http://creativecommons.org/licenses/by-nc-sa/2.0/', 'id': 1, 'name': 'Attribution-NonCommercial-ShareAlike License'}, {'url': 'http://creativecommons.org/licenses/by-nc/2.0/', 'id': 2, 'name': 'Attribution-NonCommercial License'}]\n",
      "original id : 1 > new id: 1\n",
      "original id : 2 > new id: 2\n",
      "[{'url': 'http://creativecommons.org/licenses/by-nc-sa/2.0/', 'id': 1, 'name': 'Attribution-NonCommercial-ShareAlike License'}, {'url': 'http://creativecommons.org/licenses/by-nc/2.0/', 'id': 2, 'name': 'Attribution-NonCommercial License'}]\n",
      "['Unknown']\n"
     ]
    },
    {
     "ename": "TypeError",
     "evalue": "string indices must be integers",
     "output_type": "error",
     "traceback": [
      "\u001b[1;31m---------------------------------------------------------------------------\u001b[0m",
      "\u001b[1;31mTypeError\u001b[0m                                 Traceback (most recent call last)",
      "\u001b[1;32m<ipython-input-37-c559c8d898de>\u001b[0m in \u001b[0;36m<module>\u001b[1;34m\u001b[0m\n\u001b[0;32m     10\u001b[0m \u001b[0mtaojson\u001b[0m\u001b[1;33m[\u001b[0m\u001b[0mkey\u001b[0m\u001b[1;33m]\u001b[0m\u001b[1;33m=\u001b[0m\u001b[0mtaojson\u001b[0m\u001b[1;33m[\u001b[0m\u001b[0mkey\u001b[0m\u001b[1;33m]\u001b[0m\u001b[1;33m[\u001b[0m\u001b[1;36m0\u001b[0m\u001b[1;33m:\u001b[0m\u001b[1;36m2\u001b[0m\u001b[1;33m]\u001b[0m\u001b[1;33m\u001b[0m\u001b[1;33m\u001b[0m\u001b[0m\n\u001b[0;32m     11\u001b[0m \u001b[0mprint\u001b[0m\u001b[1;33m(\u001b[0m\u001b[0mtaojson\u001b[0m\u001b[1;33m[\u001b[0m\u001b[0mkey\u001b[0m\u001b[1;33m]\u001b[0m\u001b[1;33m)\u001b[0m\u001b[1;33m\u001b[0m\u001b[1;33m\u001b[0m\u001b[0m\n\u001b[1;32m---> 12\u001b[1;33m \u001b[0mmlabjson\u001b[0m\u001b[1;33m,\u001b[0m \u001b[0mtaojson\u001b[0m\u001b[1;33m=\u001b[0m\u001b[0mmerge_keys\u001b[0m\u001b[1;33m(\u001b[0m\u001b[0mmlabjson\u001b[0m\u001b[1;33m,\u001b[0m \u001b[0mtaojson\u001b[0m\u001b[1;33m,\u001b[0m \u001b[0mkey\u001b[0m\u001b[1;33m=\u001b[0m\u001b[0mkey\u001b[0m\u001b[1;33m,\u001b[0m \u001b[0mindexed_key\u001b[0m\u001b[1;33m=\u001b[0m\u001b[0mindexed_key\u001b[0m\u001b[1;33m)\u001b[0m\u001b[1;33m\u001b[0m\u001b[1;33m\u001b[0m\u001b[0m\n\u001b[0m\u001b[0;32m     13\u001b[0m \u001b[0mprint\u001b[0m\u001b[1;33m(\u001b[0m\u001b[0mtaojson\u001b[0m\u001b[1;33m[\u001b[0m\u001b[0mkey\u001b[0m\u001b[1;33m]\u001b[0m\u001b[1;33m)\u001b[0m\u001b[1;33m\u001b[0m\u001b[1;33m\u001b[0m\u001b[0m\n\u001b[0;32m     14\u001b[0m \u001b[1;33m\u001b[0m\u001b[0m\n",
      "\u001b[1;32m<ipython-input-36-144a686850e3>\u001b[0m in \u001b[0;36mmerge_keys\u001b[1;34m(mlabjson, newjson, key, indexed_key, root_dir, dir_key)\u001b[0m\n\u001b[0;32m      6\u001b[0m     \u001b[0mmlab_last_id\u001b[0m \u001b[1;33m=\u001b[0m \u001b[0mlast_value\u001b[0m\u001b[1;33m(\u001b[0m\u001b[0mmlabjson\u001b[0m\u001b[1;33m,\u001b[0m \u001b[0mkey\u001b[0m\u001b[1;33m=\u001b[0m\u001b[0mkey\u001b[0m\u001b[1;33m,\u001b[0m \u001b[0msubkey\u001b[0m\u001b[1;33m=\u001b[0m\u001b[1;34m\"id\"\u001b[0m\u001b[1;33m,\u001b[0m \u001b[0minitvalue\u001b[0m\u001b[1;33m=\u001b[0m\u001b[1;36m0\u001b[0m\u001b[1;33m)\u001b[0m \u001b[1;31m#get last key value\u001b[0m\u001b[1;33m\u001b[0m\u001b[1;33m\u001b[0m\u001b[0m\n\u001b[0;32m      7\u001b[0m     \u001b[1;32mfor\u001b[0m \u001b[0mik\u001b[0m\u001b[1;33m,\u001b[0m\u001b[0mk\u001b[0m \u001b[1;32min\u001b[0m \u001b[0menumerate\u001b[0m\u001b[1;33m(\u001b[0m\u001b[0mnewjson\u001b[0m\u001b[1;33m[\u001b[0m\u001b[0mkey\u001b[0m\u001b[1;33m]\u001b[0m\u001b[1;33m)\u001b[0m\u001b[1;33m:\u001b[0m \u001b[1;31m#update keys and values\u001b[0m\u001b[1;33m\u001b[0m\u001b[1;33m\u001b[0m\u001b[0m\n\u001b[1;32m----> 8\u001b[1;33m         \u001b[0moriginal_id\u001b[0m\u001b[1;33m=\u001b[0m\u001b[0mk\u001b[0m\u001b[1;33m[\u001b[0m\u001b[1;34m'id'\u001b[0m\u001b[1;33m]\u001b[0m\u001b[1;33m\u001b[0m\u001b[1;33m\u001b[0m\u001b[0m\n\u001b[0m\u001b[0;32m      9\u001b[0m         \u001b[0mnew_id\u001b[0m\u001b[1;33m=\u001b[0m\u001b[0mmlab_last_id\u001b[0m\u001b[1;33m+\u001b[0m\u001b[1;33m(\u001b[0m\u001b[0mik\u001b[0m\u001b[1;33m+\u001b[0m\u001b[1;36m1\u001b[0m\u001b[1;33m)\u001b[0m\u001b[1;33m\u001b[0m\u001b[1;33m\u001b[0m\u001b[0m\n\u001b[0;32m     10\u001b[0m         \u001b[0mprint\u001b[0m\u001b[1;33m(\u001b[0m\u001b[1;34m'original id : {} > new id: {}'\u001b[0m\u001b[1;33m.\u001b[0m\u001b[0mformat\u001b[0m\u001b[1;33m(\u001b[0m\u001b[0moriginal_id\u001b[0m\u001b[1;33m,\u001b[0m \u001b[0mnew_id\u001b[0m\u001b[1;33m)\u001b[0m\u001b[1;33m)\u001b[0m\u001b[1;33m\u001b[0m\u001b[1;33m\u001b[0m\u001b[0m\n",
      "\u001b[1;31mTypeError\u001b[0m: string indices must be integers"
     ]
    }
   ],
   "source": [
    "#TEST\n",
    "key='licenses'\n",
    "indexed_key='license'\n",
    "\n",
    "cocojson[key]=cocojson[key][0:2]\n",
    "print(cocojson[key])\n",
    "mlabjson, cocojson=merge_keys(mlabjson, cocojson, key=key, indexed_key=indexed_key)\n",
    "print(cocojson[key])\n",
    "\n",
    "taojson[key]=taojson[key][0:2]\n",
    "print(taojson[key])\n",
    "mlabjson, taojson=merge_keys(mlabjson, taojson, key=key, indexed_key=indexed_key)\n",
    "print(taojson[key])\n",
    "\n",
    "print(json.dumps(mlabjson[key], sort_keys=True, indent=4))"
   ]
  },
  {
   "cell_type": "markdown",
   "metadata": {},
   "source": [
    "##### Merging Catagories"
   ]
  },
  {
   "cell_type": "code",
   "execution_count": 59,
   "metadata": {},
   "outputs": [
    {
     "name": "stdout",
     "output_type": "stream",
     "text": [
      "{'supercategory': 'person', 'id': 1, 'name': 'person'}\n",
      "{'frequency': 'r', 'id': 1, 'synset': 'acorn.n.01', 'image_count': 0, 'instance_count': 0, 'synonyms': ['acorn'], 'def': 'nut from an oak tree', 'name': 'acorn'}\n"
     ]
    }
   ],
   "source": [
    "print(cocojson['categories'][0])\n",
    "print(taojson['categories'][0])"
   ]
  },
  {
   "cell_type": "code",
   "execution_count": 12,
   "metadata": {},
   "outputs": [
    {
     "name": "stdout",
     "output_type": "stream",
     "text": [
      "[{'supercategory': 'person', 'id': 1, 'name': 'person'}, {'supercategory': 'vehicle', 'id': 2, 'name': 'bicycle'}]\n",
      "original id : 1 > new id: 1\n",
      "original id : 2 > new id: 2\n",
      "[{'supercategory': 'person', 'id': 1, 'name': 'person'}, {'supercategory': 'vehicle', 'id': 2, 'name': 'bicycle'}]\n",
      "[{'frequency': 'r', 'id': 1, 'synset': 'acorn.n.01', 'image_count': 0, 'instance_count': 0, 'synonyms': ['acorn'], 'def': 'nut from an oak tree', 'name': 'acorn'}, {'frequency': 'c', 'id': 2, 'synset': 'aerosol.n.02', 'image_count': 1, 'instance_count': 1, 'synonyms': ['aerosol_can', 'spray_can'], 'def': 'a dispenser that holds a substance under pressure', 'name': 'aerosol_can'}]\n",
      "original id : 1 > new id: 3\n",
      "original id : 2 > new id: 4\n",
      "[{'frequency': 'r', 'id': 3, 'synset': 'acorn.n.01', 'image_count': 0, 'instance_count': 0, 'synonyms': ['acorn'], 'def': 'nut from an oak tree', 'name': 'acorn'}, {'frequency': 'c', 'id': 4, 'synset': 'aerosol.n.02', 'image_count': 1, 'instance_count': 1, 'synonyms': ['aerosol_can', 'spray_can'], 'def': 'a dispenser that holds a substance under pressure', 'name': 'aerosol_can'}]\n",
      "[\n",
      "    {\n",
      "        \"id\": 1,\n",
      "        \"name\": \"person\",\n",
      "        \"supercategory\": \"person\"\n",
      "    },\n",
      "    {\n",
      "        \"id\": 2,\n",
      "        \"name\": \"bicycle\",\n",
      "        \"supercategory\": \"vehicle\"\n",
      "    },\n",
      "    {\n",
      "        \"def\": \"nut from an oak tree\",\n",
      "        \"frequency\": \"r\",\n",
      "        \"id\": 3,\n",
      "        \"image_count\": 0,\n",
      "        \"instance_count\": 0,\n",
      "        \"name\": \"acorn\",\n",
      "        \"synonyms\": [\n",
      "            \"acorn\"\n",
      "        ],\n",
      "        \"synset\": \"acorn.n.01\"\n",
      "    },\n",
      "    {\n",
      "        \"def\": \"a dispenser that holds a substance under pressure\",\n",
      "        \"frequency\": \"c\",\n",
      "        \"id\": 4,\n",
      "        \"image_count\": 1,\n",
      "        \"instance_count\": 1,\n",
      "        \"name\": \"aerosol_can\",\n",
      "        \"synonyms\": [\n",
      "            \"aerosol_can\",\n",
      "            \"spray_can\"\n",
      "        ],\n",
      "        \"synset\": \"aerosol.n.02\"\n",
      "    }\n",
      "]\n"
     ]
    }
   ],
   "source": [
    "def merge_categories(mlabjson, newjson): \n",
    "    #NOTE: should update mlabjson and newjson\n",
    "    mlab_last_id = last_value(mlabjson, key=\"categories\", subkey=\"id\", initvalue=0) #get last key value\n",
    "    for icat,cat in enumerate(newjson['categories']): #update keys and values\n",
    "        original_id=cat['id']\n",
    "        new_id=mlab_last_id+(icat+1) \n",
    "        print('original id : {} > new id: {}'.format(original_id, new_id))\n",
    "        #update newjson\n",
    "        newjson['categories'][icat]['id']=new_id #update newjson id\n",
    "        if 'category_id' in newjson['annotations'][0]: #update newjson annotations  ['category_id']\n",
    "            for ian, an in enumerate(newjson['annotations']):\n",
    "                if an['category_id']==original_id:\n",
    "                    newjson['annotations'][ian]['category_id'] = new_id\n",
    "    #update mlabjson\n",
    "    mlabjson['categories']=mlabjson['categories']+newjson['categories'] #merge newjson categories: + or .extend()\n",
    "    \n",
    "    return mlabjson, newjson\n",
    "    \n",
    "#TEST\n",
    "cocojson['categories']=cocojson['categories'][0:2]\n",
    "print(cocojson['categories'])\n",
    "mlabjson, cocojson=merge_categories(mlabjson, cocojson)\n",
    "print(cocojson['categories'])\n",
    "taojson['categories']=taojson['categories'][0:2]\n",
    "print(taojson['categories'])\n",
    "mlabjson, taojson=merge_categories(mlabjson, taojson)  \n",
    "print(taojson['categories'])\n",
    "print(json.dumps(mlabjson['categories'], sort_keys=True, indent=4))"
   ]
  },
  {
   "cell_type": "code",
   "execution_count": 42,
   "metadata": {},
   "outputs": [
    {
     "name": "stdout",
     "output_type": "stream",
     "text": [
      "[{'supercategory': 'person', 'id': 1, 'name': 'person'}, {'supercategory': 'vehicle', 'id': 2, 'name': 'bicycle'}]\n",
      "original id : 1 > new id: 1\n",
      "original id : 2 > new id: 2\n",
      "[{'supercategory': 'person', 'id': 1, 'name': 'person'}, {'supercategory': 'vehicle', 'id': 2, 'name': 'bicycle'}]\n",
      "[{'frequency': 'r', 'id': 1, 'synset': 'acorn.n.01', 'image_count': 0, 'instance_count': 0, 'synonyms': ['acorn'], 'def': 'nut from an oak tree', 'name': 'acorn'}, {'frequency': 'c', 'id': 2, 'synset': 'aerosol.n.02', 'image_count': 1, 'instance_count': 1, 'synonyms': ['aerosol_can', 'spray_can'], 'def': 'a dispenser that holds a substance under pressure', 'name': 'aerosol_can'}]\n",
      "original id : 1 > new id: 3\n",
      "original id : 2 > new id: 4\n",
      "[{'frequency': 'r', 'id': 3, 'synset': 'acorn.n.01', 'image_count': 0, 'instance_count': 0, 'synonyms': ['acorn'], 'def': 'nut from an oak tree', 'name': 'acorn'}, {'frequency': 'c', 'id': 4, 'synset': 'aerosol.n.02', 'image_count': 1, 'instance_count': 1, 'synonyms': ['aerosol_can', 'spray_can'], 'def': 'a dispenser that holds a substance under pressure', 'name': 'aerosol_can'}]\n",
      "[\n",
      "    {\n",
      "        \"id\": 1,\n",
      "        \"name\": \"person\",\n",
      "        \"supercategory\": \"person\"\n",
      "    },\n",
      "    {\n",
      "        \"id\": 2,\n",
      "        \"name\": \"bicycle\",\n",
      "        \"supercategory\": \"vehicle\"\n",
      "    },\n",
      "    {\n",
      "        \"def\": \"nut from an oak tree\",\n",
      "        \"frequency\": \"r\",\n",
      "        \"id\": 3,\n",
      "        \"image_count\": 0,\n",
      "        \"instance_count\": 0,\n",
      "        \"name\": \"acorn\",\n",
      "        \"synonyms\": [\n",
      "            \"acorn\"\n",
      "        ],\n",
      "        \"synset\": \"acorn.n.01\"\n",
      "    },\n",
      "    {\n",
      "        \"def\": \"a dispenser that holds a substance under pressure\",\n",
      "        \"frequency\": \"c\",\n",
      "        \"id\": 4,\n",
      "        \"image_count\": 1,\n",
      "        \"instance_count\": 1,\n",
      "        \"name\": \"aerosol_can\",\n",
      "        \"synonyms\": [\n",
      "            \"aerosol_can\",\n",
      "            \"spray_can\"\n",
      "        ],\n",
      "        \"synset\": \"aerosol.n.02\"\n",
      "    }\n",
      "]\n"
     ]
    }
   ],
   "source": [
    "#TEST\n",
    "key='categories'\n",
    "indexed_key='category_id'\n",
    "\n",
    "cocojson[key]=cocojson[key][0:2]\n",
    "print(cocojson[key])\n",
    "mlabjson, cocojson=merge_keys(mlabjson, cocojson, key=key, indexed_key=indexed_key)\n",
    "print(cocojson[key])\n",
    "\n",
    "taojson[key]=taojson[key][0:2]\n",
    "print(taojson[key])\n",
    "mlabjson, taojson=merge_keys(mlabjson, taojson, key=key, indexed_key=indexed_key)\n",
    "print(taojson[key])\n",
    "\n",
    "print(json.dumps(mlabjson[key], sort_keys=True, indent=4))"
   ]
  },
  {
   "cell_type": "markdown",
   "metadata": {},
   "source": [
    "##### Merging images (licenses needs to be first updated)"
   ]
  },
  {
   "cell_type": "code",
   "execution_count": 15,
   "metadata": {},
   "outputs": [
    {
     "name": "stdout",
     "output_type": "stream",
     "text": [
      "{'license': 4, 'file_name': '000000397133.jpg', 'coco_url': 'http://images.cocodataset.org/val2017/000000397133.jpg', 'height': 427, 'width': 640, 'date_captured': '2013-11-14 17:02:52', 'flickr_url': 'http://farm7.staticflickr.com/6116/6255196340_da26cf2c9e_z.jpg', 'id': 397133}\n",
      "{'id': 0, 'video': 'train/YFCC100M/v_f69ebe5b731d3e87c1a3992ee39c3b7e', '_scale_task_id': '5de800eddb2c18001a56aa11', 'width': 640, 'height': 480, 'file_name': 'train/YFCC100M/v_f69ebe5b731d3e87c1a3992ee39c3b7e/frame0391.jpg', 'frame_index': 390, 'license': 0, 'video_id': 0}\n"
     ]
    }
   ],
   "source": [
    "print(cocojson['images'][0])\n",
    "print(taojson['images'][0])"
   ]
  },
  {
   "cell_type": "code",
   "execution_count": 24,
   "metadata": {},
   "outputs": [
    {
     "name": "stdout",
     "output_type": "stream",
     "text": [
      "[{'license': 4, 'file_name': '000000397133.jpg', 'coco_url': 'http://images.cocodataset.org/val2017/000000397133.jpg', 'height': 427, 'width': 640, 'date_captured': '2013-11-14 17:02:52', 'flickr_url': 'http://farm7.staticflickr.com/6116/6255196340_da26cf2c9e_z.jpg', 'id': 397133}, {'license': 1, 'file_name': '000000037777.jpg', 'coco_url': 'http://images.cocodataset.org/val2017/000000037777.jpg', 'height': 230, 'width': 352, 'date_captured': '2013-11-14 20:55:31', 'flickr_url': 'http://farm9.staticflickr.com/8429/7839199426_f6d48aa585_z.jpg', 'id': 37777}]\n",
      "original id : 397133 > new id: 1\n",
      "original id : 37777 > new id: 2\n",
      "[{'license': 4, 'file_name': 'coco/images/val2017/000000397133.jpg', 'coco_url': 'http://images.cocodataset.org/val2017/000000397133.jpg', 'height': 427, 'width': 640, 'date_captured': '2013-11-14 17:02:52', 'flickr_url': 'http://farm7.staticflickr.com/6116/6255196340_da26cf2c9e_z.jpg', 'id': 1}, {'license': 1, 'file_name': 'coco/images/val2017/000000037777.jpg', 'coco_url': 'http://images.cocodataset.org/val2017/000000037777.jpg', 'height': 230, 'width': 352, 'date_captured': '2013-11-14 20:55:31', 'flickr_url': 'http://farm9.staticflickr.com/8429/7839199426_f6d48aa585_z.jpg', 'id': 2}]\n",
      "[{'id': 0, 'video': 'train/YFCC100M/v_f69ebe5b731d3e87c1a3992ee39c3b7e', '_scale_task_id': '5de800eddb2c18001a56aa11', 'width': 640, 'height': 480, 'file_name': 'train/YFCC100M/v_f69ebe5b731d3e87c1a3992ee39c3b7e/frame0391.jpg', 'frame_index': 390, 'license': 0, 'video_id': 0}, {'id': 1, 'video': 'train/YFCC100M/v_f69ebe5b731d3e87c1a3992ee39c3b7e', '_scale_task_id': '5de800eddb2c18001a56aa11', 'width': 640, 'height': 480, 'file_name': 'train/YFCC100M/v_f69ebe5b731d3e87c1a3992ee39c3b7e/frame0421.jpg', 'frame_index': 420, 'license': 0, 'video_id': 0}]\n",
      "original id : 0 > new id: 3\n",
      "original id : 1 > new id: 4\n",
      "[{'id': 3, 'video': 'TAO/TAO_DIR/frames/train/YFCC100M/v_f69ebe5b731d3e87c1a3992ee39c3b7e', '_scale_task_id': '5de800eddb2c18001a56aa11', 'width': 640, 'height': 480, 'file_name': 'TAO/TAO_DIR/frames/train/YFCC100M/v_f69ebe5b731d3e87c1a3992ee39c3b7e/frame0391.jpg', 'frame_index': 390, 'license': 0, 'video_id': 0}, {'id': 4, 'video': 'TAO/TAO_DIR/frames/train/YFCC100M/v_f69ebe5b731d3e87c1a3992ee39c3b7e', '_scale_task_id': '5de800eddb2c18001a56aa11', 'width': 640, 'height': 480, 'file_name': 'TAO/TAO_DIR/frames/train/YFCC100M/v_f69ebe5b731d3e87c1a3992ee39c3b7e/frame0421.jpg', 'frame_index': 420, 'license': 0, 'video_id': 0}]\n",
      "[\n",
      "    {\n",
      "        \"coco_url\": \"http://images.cocodataset.org/val2017/000000397133.jpg\",\n",
      "        \"date_captured\": \"2013-11-14 17:02:52\",\n",
      "        \"file_name\": \"coco/images/val2017/000000397133.jpg\",\n",
      "        \"flickr_url\": \"http://farm7.staticflickr.com/6116/6255196340_da26cf2c9e_z.jpg\",\n",
      "        \"height\": 427,\n",
      "        \"id\": 1,\n",
      "        \"license\": 4,\n",
      "        \"width\": 640\n",
      "    },\n",
      "    {\n",
      "        \"coco_url\": \"http://images.cocodataset.org/val2017/000000037777.jpg\",\n",
      "        \"date_captured\": \"2013-11-14 20:55:31\",\n",
      "        \"file_name\": \"coco/images/val2017/000000037777.jpg\",\n",
      "        \"flickr_url\": \"http://farm9.staticflickr.com/8429/7839199426_f6d48aa585_z.jpg\",\n",
      "        \"height\": 230,\n",
      "        \"id\": 2,\n",
      "        \"license\": 1,\n",
      "        \"width\": 352\n",
      "    },\n",
      "    {\n",
      "        \"_scale_task_id\": \"5de800eddb2c18001a56aa11\",\n",
      "        \"file_name\": \"TAO/TAO_DIR/frames/train/YFCC100M/v_f69ebe5b731d3e87c1a3992ee39c3b7e/frame0391.jpg\",\n",
      "        \"frame_index\": 390,\n",
      "        \"height\": 480,\n",
      "        \"id\": 3,\n",
      "        \"license\": 0,\n",
      "        \"video\": \"TAO/TAO_DIR/frames/train/YFCC100M/v_f69ebe5b731d3e87c1a3992ee39c3b7e\",\n",
      "        \"video_id\": 0,\n",
      "        \"width\": 640\n",
      "    },\n",
      "    {\n",
      "        \"_scale_task_id\": \"5de800eddb2c18001a56aa11\",\n",
      "        \"file_name\": \"TAO/TAO_DIR/frames/train/YFCC100M/v_f69ebe5b731d3e87c1a3992ee39c3b7e/frame0421.jpg\",\n",
      "        \"frame_index\": 420,\n",
      "        \"height\": 480,\n",
      "        \"id\": 4,\n",
      "        \"license\": 0,\n",
      "        \"video\": \"TAO/TAO_DIR/frames/train/YFCC100M/v_f69ebe5b731d3e87c1a3992ee39c3b7e\",\n",
      "        \"video_id\": 0,\n",
      "        \"width\": 640\n",
      "    }\n",
      "]\n"
     ]
    }
   ],
   "source": [
    "def merge_images(mlabjson, newjson, key=\"images\", annotation_key='image_id', root_dir=None, dir_key=['file_name', 'video']): \n",
    "    #NOTE: root_dir format str: 'root/path/'\n",
    "    mlab_last_id = last_value(mlabjson, key=key, subkey=\"id\", initvalue=0) #get last key value\n",
    "    for ik,k in enumerate(newjson[key]): #update keys and values\n",
    "        original_id=k['id']\n",
    "        new_id=mlab_last_id+(ik+1) \n",
    "        print('original id : {} > new id: {}'.format(original_id, new_id))\n",
    "        #update newjson\n",
    "        newjson[key][ik]['id']=new_id #update newjson id\n",
    "\n",
    "        if root_dir:        #update image filnemate root dir\n",
    "            for dk in dir_key:\n",
    "                try:\n",
    "                    newjson[key][ik][dk]=root_dir+newjson[key][ik][dk]\n",
    "                except:\n",
    "                    pass\n",
    "                \n",
    "        if annotation_key in newjson['annotations'][0]: #update newjson annotations  ['category_id']\n",
    "            for ian, an in enumerate(newjson['annotations']):\n",
    "                if an[annotation_key]==original_id:\n",
    "                    newjson['annotations'][ian][annotation_key] = new_id\n",
    "    #update mlabjson\n",
    "    mlabjson[key]=mlabjson[key]+newjson[key] #merge newjson : + or .extend()\n",
    "    \n",
    "    return mlabjson, newjson\n",
    "    \n",
    "#TEST\n",
    "key='images'\n",
    "annotation_key='image_id'\n",
    "\n",
    "cocojson[key]=cocojson[key][0:2]\n",
    "print(cocojson[key])\n",
    "root_dir='coco/images/val2017/'\n",
    "dir_key=['file_name']\n",
    "mlabjson, cocojson=merge_images(mlabjson, cocojson, key=key, annotation_key=annotation_key, root_dir=root_dir, dir_key=dir_key)\n",
    "print(cocojson[key])\n",
    "\n",
    "taojson[key]=taojson[key][0:2]\n",
    "print(taojson[key])\n",
    "root_dir='TAO/TAO_DIR/frames/'\n",
    "dir_key=['file_name', 'video']\n",
    "mlabjson, taojson=merge_images(mlabjson, taojson, key=key, annotation_key=annotation_key, root_dir=root_dir, dir_key=dir_key)\n",
    "print(taojson[key])\n",
    "\n",
    "print(json.dumps(mlabjson[key], sort_keys=True, indent=4))"
   ]
  },
  {
   "cell_type": "markdown",
   "metadata": {},
   "source": [
    "##### Merging Annotations (#WARNING LAST to Merge, because it has the other ids)"
   ]
  },
  {
   "cell_type": "code",
   "execution_count": 32,
   "metadata": {},
   "outputs": [
    {
     "name": "stdout",
     "output_type": "stream",
     "text": [
      "{'segmentation': [[510.66, 423.01, 511.72, 420.03, 510.45, 416.0, 510.34, 413.02, 510.77, 410.26, 510.77, 407.5, 510.34, 405.16, 511.51, 402.83, 511.41, 400.49, 510.24, 398.16, 509.39, 397.31, 504.61, 399.22, 502.17, 399.64, 500.89, 401.66, 500.47, 402.08, 499.09, 401.87, 495.79, 401.98, 490.59, 401.77, 488.79, 401.77, 485.39, 398.58, 483.9, 397.31, 481.56, 396.35, 478.48, 395.93, 476.68, 396.03, 475.4, 396.77, 473.92, 398.79, 473.28, 399.96, 473.49, 401.87, 474.56, 403.47, 473.07, 405.59, 473.39, 407.71, 476.68, 409.41, 479.23, 409.73, 481.56, 410.69, 480.4, 411.85, 481.35, 414.93, 479.86, 418.65, 477.32, 420.03, 476.04, 422.58, 479.02, 422.58, 480.29, 423.01, 483.79, 419.93, 486.66, 416.21, 490.06, 415.57, 492.18, 416.85, 491.65, 420.24, 492.82, 422.9, 493.56, 424.39, 496.43, 424.6, 498.02, 423.01, 498.13, 421.31, 497.07, 420.03, 497.07, 415.15, 496.33, 414.51, 501.1, 411.96, 502.06, 411.32, 503.02, 415.04, 503.33, 418.12, 501.1, 420.24, 498.98, 421.63, 500.47, 424.39, 505.03, 423.32, 506.2, 421.31, 507.69, 419.5, 506.31, 423.32, 510.03, 423.01, 510.45, 423.01]], 'area': 702.1057499999998, 'iscrowd': 0, 'image_id': 289343, 'bbox': [473.07, 395.93, 38.65, 28.67], 'category_id': 18, 'id': 1768}\n",
      "{'segmentation': [[114, 166, 181, 166, 181, 237, 114, 237]], 'bbox': [114, 166, 67, 71], 'area': 4757, 'iscrowd': 0, 'id': 0, 'image_id': 0, 'category_id': 95, 'track_id': 0, '_scale_uuid': '5a32709e-44a0-47b9-85af-b01286adea67', 'scale_category': 'moving object', 'video_id': 0}\n"
     ]
    }
   ],
   "source": [
    "#print(cocojson['annotations'][0])\n",
    "print(taojson['annotations'][0])"
   ]
  },
  {
   "cell_type": "markdown",
   "metadata": {},
   "source": [
    "# ANNOTATIONS FORMAT"
   ]
  },
  {
   "cell_type": "markdown",
   "metadata": {},
   "source": [
    "## COCO"
   ]
  },
  {
   "cell_type": "markdown",
   "metadata": {},
   "source": [
    "Annotation file format:"
   ]
  },
  {
   "cell_type": "code",
   "execution_count": null,
   "metadata": {},
   "outputs": [],
   "source": [
    "{\n",
    "    \"info\": {info},\n",
    "    \"licenses\": [license],\n",
    "    \"images\": [image],\n",
    "    \"annotations\": [annotation],\n",
    "    \"categories\": [category], <-- Not in Captions annotations\n",
    "    \"segment_info\": [...] <-- Only in Panoptic annotations\n",
    "}"
   ]
  },
  {
   "cell_type": "code",
   "execution_count": null,
   "metadata": {},
   "outputs": [],
   "source": [
    "info{\n",
    "    \"year\": int, \n",
    "    \"version\": str, \n",
    "    \"description\": str, \n",
    "    \"contributor\": str, \n",
    "    \"url\": str, \n",
    "    \"date_created\": datetime,\n",
    "}\n",
    "license{\n",
    "    \"id\": int, \n",
    "    \"name\": str, \n",
    "    \"url\": str,\n",
    "}\n",
    "image{\n",
    "    \"id\": int, \n",
    "    \"width\": int, \n",
    "    \"height\": int, \n",
    "    \"file_name\": str, \n",
    "    \"license\": int, \"flickr_url\": str, \n",
    "    \"coco_url\": str, \"date_captured\": datetime,\n",
    "}\n",
    "annotation{\n",
    "    \"id\": int, \n",
    "    \"image_id\": int, \n",
    "    \"category_id\": int, \n",
    "    \"segmentation\": RLE or [polygon], \n",
    "    \"area\": float, \n",
    "    \"bbox\": [x,y,width,height], \n",
    "    \"iscrowd\": 0 or 1,\n",
    "}\n",
    "\n",
    "category{\n",
    "    \"id\": int, \n",
    "    \"name\": str, \n",
    "    \"supercategory\": str,\n",
    "}\n",
    "segment_info{\n",
    "    \"id\": int, \n",
    "    \"category_id\": int, \n",
    "    \"area\": int, \n",
    "    \"bbox\": [x,y,width,height], \n",
    "    \"iscrowd\": 0 or 1,\n",
    "}\n"
   ]
  },
  {
   "cell_type": "markdown",
   "metadata": {},
   "source": [
    "## TAO"
   ]
  },
  {
   "cell_type": "markdown",
   "metadata": {},
   "source": [
    "Annotation file format:"
   ]
  },
  {
   "cell_type": "code",
   "execution_count": null,
   "metadata": {},
   "outputs": [],
   "source": [
    "{\n",
    "    \"info\" : info,\n",
    "    \"images\" : [image],\n",
    "    \"videos\": [video],\n",
    "    \"tracks\": [track],\n",
    "    \"annotations\" : [annotation],\n",
    "    \"categories\": [category],\n",
    "    \"licenses\" : [license],\n",
    "}"
   ]
  },
  {
   "cell_type": "code",
   "execution_count": null,
   "metadata": {},
   "outputs": [],
   "source": [
    "info: \"like MS COCO\"\n",
    "image: {\n",
    "    \"id\" : int,\n",
    "    \"video_id\": int,\n",
    "    \"file_name\" : str,\n",
    "    \"license\" : int,\n",
    "    # Redundant fields for COCO-compatibility\n",
    "    \"width\": int,\n",
    "    \"height\": int,\n",
    "    \"frame_index\": int\n",
    "}\n",
    "video: {\n",
    "    \"id\": int,\n",
    "    \"name\": str,\n",
    "    \"width\" : int,\n",
    "    \"height\" : int,\n",
    "    \"neg_category_ids\": [int],\n",
    "    \"not_exhaustive_category_ids\": [int],\n",
    "    \"metadata\": dict,  # Metadata about the video\n",
    "}\n",
    "track: {\n",
    "    \"id\": int,\n",
    "    \"category_id\": int,\n",
    "    \"video_id\": int\n",
    "}\n",
    "category: {\n",
    "    \"id\": int,\n",
    "    \"name\": str,\n",
    "    \"synset\": str,  # For non-LVIS objects, this is \"unknown\"\n",
    "    ... [other fields copied from LVIS v0.5 and unused]\n",
    "}\n",
    "annotation: {\n",
    "    \"image_id\": int,\n",
    "    \"track_id\": int,\n",
    "    \"bbox\": [x,y,width,height],\n",
    "    \"area\": float,\n",
    "    # Redundant field for compatibility with COCO scripts\n",
    "    \"category_id\": int\n",
    "}\n",
    "license: {\n",
    "    \"id\" : int,\n",
    "    \"name\" : str,\n",
    "    \"url\" : str,\n",
    "}"
   ]
  }
 ],
 "metadata": {
  "kernelspec": {
   "display_name": "Python 3",
   "language": "python",
   "name": "python3"
  },
  "language_info": {
   "codemirror_mode": {
    "name": "ipython",
    "version": 3
   },
   "file_extension": ".py",
   "mimetype": "text/x-python",
   "name": "python",
   "nbconvert_exporter": "python",
   "pygments_lexer": "ipython3",
   "version": "3.8.3"
  }
 },
 "nbformat": 4,
 "nbformat_minor": 4
}
