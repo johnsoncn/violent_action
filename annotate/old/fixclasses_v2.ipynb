{
 "cells": [
  {
   "cell_type": "markdown",
   "metadata": {},
   "source": [
    "# Fix Classes\n",
    "version: 1\n",
    "\n",
    "author: nuno costa"
   ]
  },
  {
   "cell_type": "code",
   "execution_count": 2,
   "metadata": {},
   "outputs": [
    {
     "name": "stdout",
     "output_type": "stream",
     "text": [
      "OS: Windows-10-10.0.20236-SP0\n",
      "root dir: D:/external_datasets/\n"
     ]
    }
   ],
   "source": [
    "from annotate_v4 import *\n",
    "import platform \n",
    "import numpy as np\n",
    "import pandas as pd\n",
    "from IPython.display import Image, display\n",
    "import copy\n",
    "import os\n",
    "from shutil import copyfile\n",
    "import matplotlib.pyplot as plt\n",
    "from matplotlib.image import imread\n",
    "from matplotlib.patches import Rectangle\n",
    "import random\n",
    "\n",
    "#Define root dir dependent on OS\n",
    "rdir='D:/external_datasets/' \n",
    "if str(platform.platform()).find('linux')>-1: rdir='/mnt/d/external_datasets/' \n",
    "print('OS: {}'.format(platform.platform()))\n",
    "print('root dir: {}'.format(rdir))"
   ]
  },
  {
   "cell_type": "code",
   "execution_count": 3,
   "metadata": {},
   "outputs": [],
   "source": [
    "mlabjson =  json.load(open(rdir+'mlab.json'))"
   ]
  },
  {
   "cell_type": "code",
   "execution_count": 4,
   "metadata": {},
   "outputs": [
    {
     "name": "stdout",
     "output_type": "stream",
     "text": [
      "info 5\n",
      "licenses 9\n",
      "categories 1310\n",
      "videos 1488\n",
      "images 177936\n",
      "tracks 8132\n",
      "segment_info 0\n",
      "annotations 1954769\n",
      "datasets 2\n"
     ]
    }
   ],
   "source": [
    "for k in mlabjson:\n",
    "    print(k, len(mlabjson[k]))"
   ]
  },
  {
   "cell_type": "markdown",
   "metadata": {},
   "source": [
    "### import ids\n",
    "#### #NOTE: work with ids and index so you can use numpy for faster operations"
   ]
  },
  {
   "cell_type": "code",
   "execution_count": 5,
   "metadata": {},
   "outputs": [
    {
     "name": "stdout",
     "output_type": "stream",
     "text": [
      "['COCO', 'TAO'] [1, 2]\n"
     ]
    }
   ],
   "source": [
    "# datasets name and id\n",
    "dset_l=[]\n",
    "dset_l_id=[]\n",
    "for d in mlabjson['datasets']:\n",
    "    dset_l.append(d['name'])\n",
    "    dset_l_id.append(d['id'])\n",
    "print(dset_l, dset_l_id)"
   ]
  },
  {
   "cell_type": "code",
   "execution_count": 6,
   "metadata": {},
   "outputs": [],
   "source": [
    "# categories name and id\n",
    "cat_l=[]\n",
    "cat_l_id=[]\n",
    "cat_l_dset=[]\n",
    "for c in mlabjson['categories']:\n",
    "    cat_l.append(c['name'])\n",
    "    cat_l_id.append(c['id'])\n",
    "    cat_l_dset.append(dset_l[c['dataset']-1]) # dset_l index is same as id-1\n",
    "#print(cat_l_id)"
   ]
  },
  {
   "cell_type": "code",
   "execution_count": 7,
   "metadata": {},
   "outputs": [],
   "source": [
    "# images filepath and id\n",
    "img_l=[]\n",
    "img_l_id=[]\n",
    "for c in mlabjson['images']:\n",
    "    img_l.append(c['file_name'])\n",
    "    img_l_id.append(c['id'])"
   ]
  },
  {
   "cell_type": "code",
   "execution_count": 8,
   "metadata": {},
   "outputs": [
    {
     "name": "stderr",
     "output_type": "stream",
     "text": [
      "100%|█████████████████████████████████████████████████████████████████| 1954769/1954769 [00:01<00:00, 1234802.05it/s]\n"
     ]
    }
   ],
   "source": [
    "# annotations category_id, image_id, bbox, and dataset\n",
    "ann_catid=[]\n",
    "ann_imgid=[]\n",
    "ann_bbox=[]\n",
    "ann_dset=[]\n",
    "for an in tqdm(mlabjson['annotations']):\n",
    "    try:\n",
    "        ann_catid.append(an['category_id'])\n",
    "        ann_imgid.append(an['image_id'])\n",
    "        ann_bbox.append(an['bbox'])\n",
    "        ann_dset.append(an['dataset'])\n",
    "    except:\n",
    "        pass"
   ]
  },
  {
   "cell_type": "markdown",
   "metadata": {},
   "source": [
    "### 1. Find duplicates cat_ids\n",
    "Duplicates example\n",
    "categories= [{name:cow, id:1, dataset:1},...,{name:cow, id:200, dataset:2},...,{name:cow, id:101, dataset:3}]}"
   ]
  },
  {
   "cell_type": "code",
   "execution_count": 25,
   "metadata": {},
   "outputs": [
    {
     "name": "stderr",
     "output_type": "stream",
     "text": [
      "100%|███████████████████████████████████████████████████████████████████████████| 189/189 [00:00<00:00, 23490.19it/s]"
     ]
    },
    {
     "name": "stdout",
     "output_type": "stream",
     "text": [
      "[['car', 'carrot', 'birthday_card', 'business_card', 'cabin_car', 'car_(automobile)', 'railcar_(part_of_a_train)', 'elevator_car', 'car_battery', 'identity_card', 'card', 'cardigan', 'cargo_ship', 'carnation', 'horse_carriage', 'cart', 'carton', 'credit_card', 'escargot', 'freight_car', 'golfcart', 'handcart', 'headscarf', 'keycard', 'passenger_car_(part_of_a_train)', 'playing_card', 'postcard', 'race_car', 'runner_(carpet)', 'scarecrow', 'scarf', 'shopping_cart', 'carbonated_water'], ['bus', 'bus_(vehicle)', 'business_card', 'school_bus'], ['train', 'bullet_train', 'railcar_(part_of_a_train)', 'passenger_car_(part_of_a_train)', 'strainer', 'train_(railroad_vehicle)'], ['truck', 'garbage_truck', 'pickup_truck', 'tow_truck', 'trailer_truck'], ['boat', 'fishing_boat', 'gondola_(boat)', 'gravy_boat', 'houseboat', 'motorboat', 'river_boat'], ['bench', 'pew_(church_bench)'], ['bird', 'birdfeeder', 'birdbath', 'birdcage', 'birdhouse', 'hummingbird', 'seabird', 'turkey_(bird)'], ['dog', 'hot dog', 'bulldog', 'dog_collar', 'pug-dog', 'shepherd_dog'], ['horse', 'horse_buggy', 'horse_carriage', 'headstall_(for_horses)', 'sawhorse', 'seahorse', 'blinder_(for_horses)'], ['sheep', 'black_sheep'], ['cow', 'cowbell', 'cowboy_hat'], ['bear', 'teddy bear', 'polar_bear', 'teddy_bear'], ['tie', 'bolo_tie', 'bow-tie', 'necktie'], ['bottle', 'beer_bottle', 'bottle_opener', 'bottle_cap', 'cork_(bottle_plug)', 'thermos_bottle', 'water_bottle', 'wine_bottle'], ['cup', 'trophy_cup', 'cupcake', 'Dixie_cup', 'measuring_cup', 'teacup'], ['fork', 'forklift', 'pitchfork'], ['knife', 'butcher_knife', 'pocketknife', 'steak_knife'], ['spoon', 'soupspoon', 'wooden_spoon'], ['bowl', 'pipe_bowl', 'bowler_hat', 'bowling_ball', 'bowling_pin', 'fishbowl', 'soup_bowl', 'sugar_bowl'], ['apple', 'apple_juice', 'applesauce', 'pineapple'], ['orange', 'mandarin_orange', 'orange_(fruit)', 'orange_juice'], ['cake', 'birthday_cake', 'chocolate_cake', 'cupcake', 'pancake', 'wedding_cake'], ['chair', 'armchair', 'deck_chair', 'electric_chair', 'folding_chair', 'highchair', 'rocking_chair', 'wheelchair', 'wing_chair'], ['bed', 'bedspread', 'bunk_bed', 'sofa_bed'], ['toilet', 'toilet_tissue'], ['laptop', 'laptop_computer'], ['mouse', 'mouse_(animal_rodent)', 'mouse_(computer_equipment)', 'mousepad'], ['remote', 'remote_control'], ['keyboard', 'computer_keyboard'], ['microwave', 'microwave_oven'], ['oven', 'Dutch_oven', 'microwave_oven', 'toaster_oven'], ['toaster', 'toaster_oven'], ['sink', 'kitchen_sink'], ['book', 'book_bag', 'bookcase', 'booklet', 'bookmark', 'checkbook', 'comic_book', 'hardback_book', 'notebook', 'paperback_book', 'phonebook'], ['clock', 'alarm_clock', 'clock_tower', 'wall_clock'], ['antenna', 'dish_antenna'], ['apple', 'apple_juice', 'applesauce', 'pineapple'], ['ax', 'cab_(taxi)', 'saxophone'], ['ball', 'sports ball', 'baseball bat', 'baseball glove', 'basketball_backboard', 'ballet_skirt', 'balloon', 'baseball_base', 'baseball', 'baseball_bat', 'baseball_cap', 'baseball_glove', 'basketball_hoop', 'basketball', 'beachball', 'bowling_ball', 'football_(American)', 'football_helmet', 'home_plate_(baseball)', 'hot-air_balloon', 'meatball', 'mound_(baseball)', 'ping-pong_ball', 'soccer_ball', 'softball', 'tennis_ball', 'volleyball'], ['balloon', 'hot-air_balloon'], ['bandage', 'sling_(bandage)'], ['baseball', 'baseball bat', 'baseball glove', 'baseball_base', 'baseball_bat', 'baseball_cap', 'baseball_glove', 'home_plate_(baseball)', 'mound_(baseball)'], ['basket', 'basketball_backboard', 'basketball_hoop', 'basketball'], ['basketball', 'basketball_backboard', 'basketball_hoop'], ['battery', 'car_battery'], ['bear', 'teddy bear', 'polar_bear', 'teddy_bear'], ['bed', 'bedspread', 'bunk_bed', 'sofa_bed'], ['cow', 'cowbell', 'cowboy_hat'], ['bell', 'barbell', 'bell_pepper', 'cowbell', 'doorbell', 'dumbbell'], ['belt', 'belt_buckle'], ['bench', 'pew_(church_bench)'], ['bird', 'birdfeeder', 'birdbath', 'birdcage', 'birdhouse', 'hummingbird', 'seabird', 'turkey_(bird)'], ['blanket', 'saddle_blanket'], ['boar', 'snowboard', 'skateboard', 'surfboard', 'keyboard', 'basketball_backboard', 'blackboard', 'gameboard', 'bulletin_board', 'checkerboard', 'chessboard', 'chopping_board', 'clipboard', 'computer_keyboard', 'corkboard', 'dartboard', 'headboard', 'ironing_board', 'pegboard', 'scoreboard', 'signboard'], ['boat', 'fishing_boat', 'gondola_(boat)', 'gravy_boat', 'houseboat', 'motorboat', 'river_boat'], ['bolt', 'deadbolt'], ['book', 'book_bag', 'bookcase', 'booklet', 'bookmark', 'checkbook', 'comic_book', 'hardback_book', 'notebook', 'paperback_book', 'phonebook'], ['boot', 'ski_boot', 'telephone_booth'], ['bottle', 'beer_bottle', 'bottle_opener', 'bottle_cap', 'cork_(bottle_plug)', 'thermos_bottle', 'water_bottle', 'wine_bottle'], ['bowl', 'pipe_bowl', 'bowler_hat', 'bowling_ball', 'bowling_pin', 'fishbowl', 'soup_bowl', 'sugar_bowl'], ['bucket', 'wine_bucket'], ['bull', 'bulldog', 'bulldozer', 'bullet_train', 'bulletin_board', 'bulletproof_vest', 'bullhorn'], ['bun', 'bunk_bed'], ['buoy', 'life_buoy'], ['butter', 'butterfly', 'peanut_butter'], ['cabinet', 'file_cabinet'], ['cake', 'birthday_cake', 'chocolate_cake', 'cupcake', 'pancake', 'wedding_cake'], ['camera', 'camera_lens', 'television_camera'], ['can', 'aerosol_can', 'trash_can', 'beer_can', 'can_opener', 'candelabrum', 'candle', 'candle_holder', 'candy_bar', 'candy_cane', 'walking_cane', 'canister', 'cannon', 'canoe', 'cantaloup', 'canteen', 'football_(American)', 'mint_candy', 'pelican', 'sugarcane_(plant)', 'watering_can'], ['candle', 'candle_holder'], ['card', 'birthday_card', 'business_card', 'identity_card', 'cardigan', 'credit_card', 'keycard', 'playing_card', 'postcard'], ['cart', 'carton', 'golfcart', 'handcart', 'shopping_cart'], ['chair', 'armchair', 'deck_chair', 'electric_chair', 'folding_chair', 'highchair', 'rocking_chair', 'wheelchair', 'wing_chair'], ['chime', 'wind_chime'], ['cigarette', 'cigarette_case'], ['clip', 'clipboard', 'paperclip'], ['clock', 'alarm_clock', 'clock_tower', 'wall_clock'], ['coat', 'coat_hanger', 'coatrack', 'lab_coat', 'raincoat', 'trench_coat'], ['coin', 'penny_(coin)'], ['cone', 'pinecone'], ['control', 'remote_control'], ['cookie', 'cookie_jar'], ['cracker', 'nutcracker'], ['crape', 'scraper'], ['crow', 'microwave', 'crown', 'microwave_oven', 'scarecrow'], ['cup', 'trophy_cup', 'cupcake', 'Dixie_cup', 'measuring_cup', 'teacup'], ['curtain', 'shower_curtain'], ['detergent', 'dishwasher_detergent'], ['dish', 'dish_antenna', 'dishrag', 'dishtowel', 'dishwasher', 'dishwasher_detergent', 'radish', 'serving_dish'], ['dishwasher', 'dishwasher_detergent'], ['dog', 'hot dog', 'bulldog', 'dog_collar', 'pug-dog', 'shepherd_dog'], ['doll', 'dollar', 'rag_doll'], ['drawer', 'chest_of_drawers_(furniture)', 'underdrawers'], ['dress', 'dress_hat', 'dress_suit', 'dresser'], ['duck', 'duckling'], ['eel', 'Ferris_wheel', 'peeler_(tool_for_fruit_and_vegetables)', 'pinwheel', 'steering_wheel', 'wagon_wheel', 'wheel', 'wheelchair'], ['egg', 'boiled_egg', 'egg_roll', 'egg_yolk', 'eggbeater', 'eggplant', 'legging_(clothing)', 'scrambled_eggs'], ['faucet', 'water_faucet'], ['fish', 'fish_(food)', 'fishbowl', 'fishing_boat', 'fishing_rod', 'goldfish', 'puffer_(fish)', 'salmon_(fish)', 'starfish'], ['flag', 'pirate_flag', 'flagpole'], ['flash', 'flashlight'], ['fork', 'forklift', 'pitchfork'], ['garbage', 'garbage_truck'], ['glove', 'baseball glove', 'baseball_glove', 'boxing_glove'], ['gun', 'machine_gun', 'water_gun'], ['ham', 'champagne', 'clothes_hamper', 'hamburger', 'hammer', 'hammock', 'hamper', 'hamster', 'shampoo'], ['hamper', 'clothes_hamper'], ['hat', 'bowler_hat', 'cowboy_hat', 'dress_hat', 'hatbox', 'hatch', 'sunhat'], ['heater', 'water_heater'], ['helmet', 'football_helmet'], ['horse', 'horse_buggy', 'horse_carriage', 'headstall_(for_horses)', 'sawhorse', 'seahorse', 'blinder_(for_horses)'], ['hose', 'fire_hose', 'garden_hose', 'pantyhose'], ['jacket', 'life_jacket'], ['jam', 'pajamas'], ['jewelry', 'pin_(non_jewelry)'], ['kettle', 'teakettle'], ['key', 'keyboard', 'computer_keyboard', 'hockey_stick', 'keycard', 'monkey', 'turkey_(bird)', 'turkey_(food)', 'whiskey'], ['knife', 'butcher_knife', 'pocketknife', 'steak_knife'], ['knob', 'doorknob'], ['ladder', 'stepladder'], ['lamp', 'lamppost', 'lampshade', 'oil_lamp', 'table_lamp'], ['lemon', 'lemonade'], ['lettuce', 'romaine_lettuce'], ['map', 'road_map'], ['mask', 'eye_mask', 'gasmask'], ['melon', 'watermelon'], ['microphone', 'boom_microphone'], ['milk', 'chocolate_milk', 'soya_milk'], ['mirror', 'rearview_mirror'], ['motor', 'motorcycle', 'motor_scooter', 'motor_vehicle', 'motorboat'], ['musical_instrument', 'drum_(musical_instrument)', 'triangle_(musical_instrument)'], ['needle', 'knitting_needle'], ['nut', 'donut', 'coconut', 'doughnut', 'nutcracker', 'peanut_butter'], ['oar', 'snowboard', 'skateboard', 'surfboard', 'keyboard', 'basketball_backboard', 'blackboard', 'boar', 'gameboard', 'bulletin_board', 'checkerboard', 'chessboard', 'chopping_board', 'clipboard', 'computer_keyboard', 'corkboard', 'dartboard', 'headboard', 'ironing_board', 'pegboard', 'scoreboard', 'signboard'], ['onion', 'green_onion'], ['owl', 'bowl', 'pipe_bowl', 'bowler_hat', 'bowling_ball', 'bowling_pin', 'fishbowl', 'soup_bowl', 'sugar_bowl'], ['pad', 'knee_pad', 'mousepad', 'notepad', 'inkpad', 'paddle', 'padlock'], ['parka', 'ski_parka'], ['pear', 'spear'], ['pen', 'bottle_opener', 'suspenders', 'can_opener', 'dispenser', 'pencil', 'pencil_box', 'pencil_sharpener', 'pendulum', 'penguin', 'pennant', 'penny_(coin)', 'playpen', 'sharpener'], ['pencil', 'pencil_box', 'pencil_sharpener'], ['pepper', 'bell_pepper', 'pepper_mill'], ['baby', 'baby_buggy'], ['pet', 'petfood', 'puppet', 'runner_(carpet)'], ['pie', 'knight_(chess_piece)', 'Sharpie'], ['pipe', 'bagpipe', 'pipe_bowl', 'tobacco_pipe'], ['plate', 'home_plate_(baseball)', 'hotplate', 'license_plate', 'nameplate', 'paper_plate', 'salad_plate'], ['pole', 'flagpole', 'ski_pole', 'telephone_pole'], ['pot', 'potted plant', 'crisp_(potato_chip)', 'coffeepot', 'crock_pot', 'hippopotamus', 'mashed_potato', 'flowerpot', 'potato', 'potholder', 'pottery', 'spotlight', 'sweet_potato', 'teapot'], ['potato', 'crisp_(potato_chip)', 'mashed_potato', 'sweet_potato'], ['racket', 'tennis racket', 'tennis_racket'], ['rat', 'refrigerator', 'pirate_flag', 'bow_(decorative_ribbons)', 'crate', 'grater', 'scratcher'], ['ring', 'coloring_material', 'earring', 'hearing_aid', 'measuring_cup', 'measuring_stick', 'poker_(fire_stirring_tool)', 'scale_(measuring_instrument)', 'steering_wheel', 'string_cheese', 'syringe', 'watering_can', 'wedding_ring'], ['robe', 'bathrobe', 'wardrobe'], ['sail', 'parasail_(sports)'], ['salad', 'fruit_salad', 'salad_plate'], ['scarf', 'headscarf'], ['sculpture', 'statue_(sculpture)'], ['shaker', 'saltshaker'], ['sharpener', 'pencil_sharpener'], ['sheep', 'black_sheep'], ['shield', 'windshield_wiper'], ['shirt', 'nightshirt', 'polo_shirt', 'sweatshirt'], ['shoe', 'Loafer_(type_of_shoe)', 'sandal_(type_of_shoe)'], ['shovel', 'power_shovel'], ['sink', 'kitchen_sink'], ['ski', 'skis', 'ballet_skirt', 'ski_boot', 'ski_parka', 'ski_pole', 'skirt', 'water_ski'], ['skirt', 'ballet_skirt'], ['sock', 'wall_socket', 'windsock'], ['sofa', 'sofa_bed'], ['soup', 'soup_bowl', 'soupspoon'], ['spoon', 'soupspoon', 'wooden_spoon'], ['stool', 'footstool', 'music_stool', 'step_stool'], ['table', 'dining table', 'chili_(vegetable)', 'coffee_table', 'dining_table', 'kitchen_table', 'peeler_(tool_for_fruit_and_vegetables)', 'pool_table', 'table-tennis_table', 'table_lamp', 'tablecloth'], ['telephone', 'cellular_telephone', 'telephone_booth', 'telephone_pole'], ['toaster', 'toaster_oven'], ['toilet', 'toilet_tissue'], ['cover', 'coverall'], ['towel', 'bath_towel', 'dishtowel', 'hand_towel', 'paper_towel', 'towel_rack'], ['tray', 'ashtray'], ['truck', 'garbage_truck', 'pickup_truck', 'tow_truck', 'trailer_truck'], ['vat', 'elevator_car'], ['turtle', 'turtleneck_(clothing)'], ['urn', 'chest_of_drawers_(furniture)', 'turnip'], ['waffle', 'waffle_iron'], ['wagon', 'wagon_wheel'], ['watch', 'pocket_watch'], ['wheel', 'Ferris_wheel', 'pinwheel', 'steering_wheel', 'wagon_wheel', 'wheelchair'], ['yak', 'kayak']]\n",
      "[[3, 52, 185, 255, 262, 291, 292, 293, 294, 295, 296, 297, 298, 299, 300, 303, 304, 410, 513, 557, 591, 627, 641, 696, 861, 913, 929, 956, 991, 1014, 1015, 1048, 1080], [6, 254, 255, 1016], [7, 245, 292, 861, 1121, 1215], [8, 570, 893, 1207, 1214], [9, 536, 592, 601, 665, 793, 981], [14, 888], [15, 180, 181, 182, 183, 666, 1025, 1229], [17, 53, 243, 463, 947, 1042], [18, 241, 300, 643, 1011, 1026, 1297], [19, 188], [20, 402, 403], [22, 78, 668, 1171], [28, 202, 218, 809], [40, 164, 214, 288, 389, 1182, 1264, 1293], [42, 428, 429, 461, 772, 1168], [43, 556, 908], [44, 256, 918, 1106], [45, 1087, 1300], [46, 220, 221, 222, 223, 535, 1086, 1130], [48, 94, 95, 899], [50, 758, 827, 828], [56, 184, 337, 429, 846, 1278], [57, 100, 442, 507, 550, 650, 984, 1282, 1296], [60, 160, 251, 384], [62, 1198], [64, 722], [65, 796, 797, 798], [66, 976], [67, 379], [69, 779], [70, 494, 779, 1196], [71, 1196], [72, 699], [74, 207, 208, 209, 210, 322, 378, 632, 816, 852, 889], [75, 85, 357, 1256], [92, 454], [48, 94, 95, 899], [111, 260, 1012], [121, 33, 35, 36, 113, 122, 123, 136, 137, 138, 139, 140, 142, 143, 152, 222, 552, 553, 655, 661, 774, 795, 901, 1077, 1082, 1178, 1249], [123, 661], [127, 1069], [137, 35, 36, 136, 138, 139, 140, 655, 795], [141, 113, 142, 143], [143, 113, 142], [151, 294], [22, 78, 668, 1171], [60, 160, 251, 384], [20, 402, 403], [167, 131, 168, 402, 469, 491], [169, 170], [14, 888], [15, 180, 181, 182, 183, 666, 1025, 1229], [190, 994], [196, 32, 37, 38, 67, 113, 189, 197, 246, 323, 325, 341, 355, 379, 390, 440, 639, 680, 871, 1018, 1057], [9, 536, 592, 601, 665, 793, 981], [204, 203], [74, 207, 208, 209, 210, 322, 378, 632, 816, 852, 889], [212, 1063, 1173], [40, 164, 214, 288, 389, 1182, 1264, 1293], [46, 220, 221, 222, 223, 535, 1086, 1130], [240, 1294], [242, 243, 244, 245, 246, 247, 248], [250, 251], [252, 733], [257, 258, 868], [263, 525], [56, 184, 337, 429, 846, 1278], [271, 272, 1176], [274, 82, 104, 165, 275, 276, 277, 278, 279, 280, 281, 282, 283, 284, 285, 286, 552, 783, 872, 1131, 1274], [277, 278], [296, 185, 255, 295, 297, 410, 696, 913, 929], [303, 304, 591, 627, 1048], [57, 100, 442, 507, 550, 650, 984, 1282, 1296], [332, 1288], [347, 348], [354, 355, 849], [75, 85, 357, 1256], [362, 363, 364, 711, 964, 1219], [372, 880], [381, 900], [382, 976], [385, 386], [405, 819], [406, 1020], [416, 69, 417, 779, 1014], [42, 428, 429, 461, 772, 1168], [432, 1054], [446, 458], [453, 454, 455, 456, 457, 458, 961, 1030], [457, 458], [17, 53, 243, 463, 947, 1042], [464, 465, 963], [475, 326, 476], [477, 478, 479, 480], [487, 488], [501, 520, 870, 902, 1108, 1254, 1281, 1282], [502, 201, 503, 504, 505, 506, 727, 1019], [517, 1266], [533, 534, 535, 536, 537, 589, 945, 1001, 1103], [538, 187, 539], [542, 543], [43, 556, 908], [569, 570], [586, 36, 140, 224], [613, 751, 1270], [618, 319, 358, 619, 620, 621, 622, 623, 1033], [622, 358], [634, 221, 403, 478, 635, 636, 1135], [646, 1268], [648, 553], [18, 241, 300, 643, 1011, 1026, 1297], [660, 530, 571, 847], [681, 734], [682, 842], [688, 898], [694, 1169], [695, 67, 379, 653, 696, 789, 1229, 1230, 1284], [44, 256, 918, 1106], [708, 470], [712, 1110], [717, 718, 719, 823, 1151], [729, 730], [731, 398], [761, 982], [767, 468, 575], [776, 1275], [777, 211], [781, 338, 1089], [784, 970], [790, 4, 791, 792, 793], [803, 485, 1220], [810, 707], [818, 55, 366, 472, 819, 868], [820, 32, 37, 38, 67, 113, 189, 196, 197, 246, 323, 325, 341, 355, 379, 390, 440, 639, 680, 871, 1018, 1057], [826, 603], [833, 46, 220, 221, 222, 223, 535, 1086, 1130], [836, 704, 798, 817, 835, 837, 838], [858, 1064], [869, 1093], [873, 214, 225, 275, 460, 874, 875, 876, 877, 878, 879, 880, 914, 1035], [874, 875, 876], [881, 168, 882], [885, 112], [886, 887, 950, 991], [894, 706, 1036], [904, 118, 220, 903], [911, 655, 662, 732, 805, 850, 999], [920, 539, 1065, 1174], [931, 59, 334, 370, 413, 652, 765, 932, 933, 934, 935, 1100, 1144, 1170], [933, 334, 765, 1144], [957, 39, 1179], [967, 73, 187, 217, 407, 599, 1021], [980, 375, 498, 644, 772, 773, 919, 1013, 1108, 1127, 1147, 1274, 1279], [983, 148, 1260], [997, 856], [998, 563, 999], [1015, 641], [1024, 1104], [1032, 1004], [1035, 876], [19, 188], [1044, 1291], [1045, 813, 922, 1143], [1046, 745, 1005], [1052, 937], [72, 699], [1062, 31, 122, 1063, 1064, 1065, 1066, 1272], [1066, 122], [1078, 1257, 1292], [1081, 384], [1085, 1086, 1087], [45, 1087, 1300], [1117, 554, 802, 1111], [1150, 61, 331, 369, 451, 700, 870, 925, 1149, 1151, 1152], [1172, 315, 1173, 1174], [71, 1196], [62, 1198], [1205, 401], [1208, 147, 456, 626, 851, 1209], [1217, 105], [8, 570, 893, 1207, 1214], [1227, 293], [1232, 1233], [1239, 326, 1231], [1251, 1252], [1253, 1254], [1263, 917], [1281, 520, 902, 1108, 1254, 1282], [1306, 691]]\n",
      "[['COCO', 'COCO', 'TAO', 'TAO', 'TAO', 'TAO', 'TAO', 'TAO', 'TAO', 'TAO', 'TAO', 'TAO', 'TAO', 'TAO', 'TAO', 'TAO', 'TAO', 'TAO', 'TAO', 'TAO', 'TAO', 'TAO', 'TAO', 'TAO', 'TAO', 'TAO', 'TAO', 'TAO', 'TAO', 'TAO', 'TAO', 'TAO', 'TAO'], ['COCO', 'TAO', 'TAO', 'TAO'], ['COCO', 'TAO', 'TAO', 'TAO', 'TAO', 'TAO'], ['COCO', 'TAO', 'TAO', 'TAO', 'TAO'], ['COCO', 'TAO', 'TAO', 'TAO', 'TAO', 'TAO', 'TAO'], ['COCO', 'TAO'], ['COCO', 'TAO', 'TAO', 'TAO', 'TAO', 'TAO', 'TAO', 'TAO'], ['COCO', 'COCO', 'TAO', 'TAO', 'TAO', 'TAO'], ['COCO', 'TAO', 'TAO', 'TAO', 'TAO', 'TAO', 'TAO'], ['COCO', 'TAO'], ['COCO', 'TAO', 'TAO'], ['COCO', 'COCO', 'TAO', 'TAO'], ['COCO', 'TAO', 'TAO', 'TAO'], ['COCO', 'TAO', 'TAO', 'TAO', 'TAO', 'TAO', 'TAO', 'TAO'], ['COCO', 'TAO', 'TAO', 'TAO', 'TAO', 'TAO'], ['COCO', 'TAO', 'TAO'], ['COCO', 'TAO', 'TAO', 'TAO'], ['COCO', 'TAO', 'TAO'], ['COCO', 'TAO', 'TAO', 'TAO', 'TAO', 'TAO', 'TAO', 'TAO'], ['COCO', 'TAO', 'TAO', 'TAO'], ['COCO', 'TAO', 'TAO', 'TAO'], ['COCO', 'TAO', 'TAO', 'TAO', 'TAO', 'TAO'], ['COCO', 'TAO', 'TAO', 'TAO', 'TAO', 'TAO', 'TAO', 'TAO', 'TAO'], ['COCO', 'TAO', 'TAO', 'TAO'], ['COCO', 'TAO'], ['COCO', 'TAO'], ['COCO', 'TAO', 'TAO', 'TAO'], ['COCO', 'TAO'], ['COCO', 'TAO'], ['COCO', 'TAO'], ['COCO', 'TAO', 'TAO', 'TAO'], ['COCO', 'TAO'], ['COCO', 'TAO'], ['COCO', 'TAO', 'TAO', 'TAO', 'TAO', 'TAO', 'TAO', 'TAO', 'TAO', 'TAO', 'TAO'], ['COCO', 'TAO', 'TAO', 'TAO'], ['TAO', 'TAO'], ['COCO', 'TAO', 'TAO', 'TAO'], ['TAO', 'TAO', 'TAO'], ['TAO', 'COCO', 'COCO', 'COCO', 'TAO', 'TAO', 'TAO', 'TAO', 'TAO', 'TAO', 'TAO', 'TAO', 'TAO', 'TAO', 'TAO', 'TAO', 'TAO', 'TAO', 'TAO', 'TAO', 'TAO', 'TAO', 'TAO', 'TAO', 'TAO', 'TAO', 'TAO'], ['TAO', 'TAO'], ['TAO', 'TAO'], ['TAO', 'COCO', 'COCO', 'TAO', 'TAO', 'TAO', 'TAO', 'TAO', 'TAO'], ['TAO', 'TAO', 'TAO', 'TAO'], ['TAO', 'TAO', 'TAO'], ['TAO', 'TAO'], ['COCO', 'COCO', 'TAO', 'TAO'], ['COCO', 'TAO', 'TAO', 'TAO'], ['COCO', 'TAO', 'TAO'], ['TAO', 'TAO', 'TAO', 'TAO', 'TAO', 'TAO'], ['TAO', 'TAO'], ['COCO', 'TAO'], ['COCO', 'TAO', 'TAO', 'TAO', 'TAO', 'TAO', 'TAO', 'TAO'], ['TAO', 'TAO'], ['TAO', 'COCO', 'COCO', 'COCO', 'COCO', 'TAO', 'TAO', 'TAO', 'TAO', 'TAO', 'TAO', 'TAO', 'TAO', 'TAO', 'TAO', 'TAO', 'TAO', 'TAO', 'TAO', 'TAO', 'TAO'], ['COCO', 'TAO', 'TAO', 'TAO', 'TAO', 'TAO', 'TAO'], ['TAO', 'TAO'], ['COCO', 'TAO', 'TAO', 'TAO', 'TAO', 'TAO', 'TAO', 'TAO', 'TAO', 'TAO', 'TAO'], ['TAO', 'TAO', 'TAO'], ['COCO', 'TAO', 'TAO', 'TAO', 'TAO', 'TAO', 'TAO', 'TAO'], ['COCO', 'TAO', 'TAO', 'TAO', 'TAO', 'TAO', 'TAO', 'TAO'], ['TAO', 'TAO'], ['TAO', 'TAO', 'TAO', 'TAO', 'TAO', 'TAO', 'TAO'], ['TAO', 'TAO'], ['TAO', 'TAO'], ['TAO', 'TAO', 'TAO'], ['TAO', 'TAO'], ['COCO', 'TAO', 'TAO', 'TAO', 'TAO', 'TAO'], ['TAO', 'TAO', 'TAO'], ['TAO', 'TAO', 'TAO', 'TAO', 'TAO', 'TAO', 'TAO', 'TAO', 'TAO', 'TAO', 'TAO', 'TAO', 'TAO', 'TAO', 'TAO', 'TAO', 'TAO', 'TAO', 'TAO', 'TAO', 'TAO'], ['TAO', 'TAO'], ['TAO', 'TAO', 'TAO', 'TAO', 'TAO', 'TAO', 'TAO', 'TAO', 'TAO'], ['TAO', 'TAO', 'TAO', 'TAO', 'TAO'], ['COCO', 'TAO', 'TAO', 'TAO', 'TAO', 'TAO', 'TAO', 'TAO', 'TAO'], ['TAO', 'TAO'], ['TAO', 'TAO'], ['TAO', 'TAO', 'TAO'], ['COCO', 'TAO', 'TAO', 'TAO'], ['TAO', 'TAO', 'TAO', 'TAO', 'TAO', 'TAO'], ['TAO', 'TAO'], ['TAO', 'TAO'], ['TAO', 'TAO'], ['TAO', 'TAO'], ['TAO', 'TAO'], ['TAO', 'TAO'], ['TAO', 'COCO', 'TAO', 'TAO', 'TAO'], ['COCO', 'TAO', 'TAO', 'TAO', 'TAO', 'TAO'], ['TAO', 'TAO'], ['TAO', 'TAO'], ['TAO', 'TAO', 'TAO', 'TAO', 'TAO', 'TAO', 'TAO', 'TAO'], ['TAO', 'TAO'], ['COCO', 'COCO', 'TAO', 'TAO', 'TAO', 'TAO'], ['TAO', 'TAO', 'TAO'], ['TAO', 'TAO', 'TAO'], ['TAO', 'TAO', 'TAO', 'TAO'], ['TAO', 'TAO'], ['TAO', 'TAO', 'TAO', 'TAO', 'TAO', 'TAO', 'TAO', 'TAO'], ['TAO', 'TAO', 'TAO', 'TAO', 'TAO', 'TAO', 'TAO', 'TAO'], ['TAO', 'TAO'], ['TAO', 'TAO', 'TAO', 'TAO', 'TAO', 'TAO', 'TAO', 'TAO', 'TAO'], ['TAO', 'TAO', 'TAO'], ['TAO', 'TAO'], ['COCO', 'TAO', 'TAO'], ['TAO', 'TAO'], ['TAO', 'COCO', 'TAO', 'TAO'], ['TAO', 'TAO', 'TAO'], ['TAO', 'TAO', 'TAO', 'TAO', 'TAO', 'TAO', 'TAO', 'TAO', 'TAO'], ['TAO', 'TAO'], ['TAO', 'TAO', 'TAO', 'TAO', 'TAO', 'TAO', 'TAO'], ['TAO', 'TAO'], ['TAO', 'TAO'], ['COCO', 'TAO', 'TAO', 'TAO', 'TAO', 'TAO', 'TAO'], ['TAO', 'TAO', 'TAO', 'TAO'], ['TAO', 'TAO'], ['TAO', 'TAO'], ['TAO', 'TAO'], ['TAO', 'TAO'], ['TAO', 'COCO', 'TAO', 'TAO', 'TAO', 'TAO', 'TAO', 'TAO', 'TAO'], ['COCO', 'TAO', 'TAO', 'TAO'], ['TAO', 'TAO'], ['TAO', 'TAO'], ['TAO', 'TAO', 'TAO', 'TAO', 'TAO'], ['TAO', 'TAO'], ['TAO', 'TAO'], ['TAO', 'TAO'], ['TAO', 'TAO', 'TAO'], ['TAO', 'TAO'], ['TAO', 'TAO'], ['TAO', 'TAO', 'TAO'], ['TAO', 'TAO'], ['TAO', 'COCO', 'TAO', 'TAO', 'TAO'], ['TAO', 'TAO', 'TAO'], ['TAO', 'TAO'], ['TAO', 'COCO', 'TAO', 'TAO', 'TAO', 'TAO'], ['TAO', 'COCO', 'COCO', 'COCO', 'COCO', 'TAO', 'TAO', 'TAO', 'TAO', 'TAO', 'TAO', 'TAO', 'TAO', 'TAO', 'TAO', 'TAO', 'TAO', 'TAO', 'TAO', 'TAO', 'TAO', 'TAO'], ['TAO', 'TAO'], ['TAO', 'COCO', 'TAO', 'TAO', 'TAO', 'TAO', 'TAO', 'TAO', 'TAO'], ['TAO', 'TAO', 'TAO', 'TAO', 'TAO', 'TAO', 'TAO'], ['TAO', 'TAO'], ['TAO', 'TAO'], ['TAO', 'TAO', 'TAO', 'TAO', 'TAO', 'TAO', 'TAO', 'TAO', 'TAO', 'TAO', 'TAO', 'TAO', 'TAO', 'TAO'], ['TAO', 'TAO', 'TAO'], ['TAO', 'TAO', 'TAO'], ['TAO', 'TAO'], ['TAO', 'TAO', 'TAO', 'TAO'], ['TAO', 'TAO', 'TAO'], ['TAO', 'TAO', 'TAO', 'TAO'], ['TAO', 'TAO', 'TAO', 'TAO', 'TAO', 'TAO', 'TAO'], ['TAO', 'TAO', 'TAO', 'TAO'], ['TAO', 'COCO', 'TAO', 'TAO', 'TAO', 'TAO', 'TAO', 'TAO', 'TAO', 'TAO', 'TAO', 'TAO', 'TAO', 'TAO'], ['TAO', 'TAO', 'TAO', 'TAO'], ['TAO', 'COCO', 'TAO'], ['TAO', 'COCO', 'TAO', 'TAO', 'TAO', 'TAO', 'TAO'], ['TAO', 'TAO', 'TAO', 'TAO', 'TAO', 'TAO', 'TAO', 'TAO', 'TAO', 'TAO', 'TAO', 'TAO', 'TAO'], ['TAO', 'TAO', 'TAO'], ['TAO', 'TAO'], ['TAO', 'TAO', 'TAO'], ['TAO', 'TAO'], ['TAO', 'TAO'], ['TAO', 'TAO'], ['TAO', 'TAO'], ['COCO', 'TAO'], ['TAO', 'TAO'], ['TAO', 'TAO', 'TAO', 'TAO'], ['TAO', 'TAO', 'TAO'], ['TAO', 'TAO'], ['COCO', 'TAO'], ['TAO', 'COCO', 'TAO', 'TAO', 'TAO', 'TAO', 'TAO', 'TAO'], ['TAO', 'TAO'], ['TAO', 'TAO', 'TAO'], ['TAO', 'TAO'], ['TAO', 'TAO', 'TAO'], ['COCO', 'TAO', 'TAO'], ['TAO', 'TAO', 'TAO', 'TAO'], ['TAO', 'COCO', 'TAO', 'TAO', 'TAO', 'TAO', 'TAO', 'TAO', 'TAO', 'TAO', 'TAO'], ['TAO', 'TAO', 'TAO', 'TAO'], ['COCO', 'TAO'], ['COCO', 'TAO'], ['TAO', 'TAO'], ['TAO', 'TAO', 'TAO', 'TAO', 'TAO', 'TAO'], ['TAO', 'TAO'], ['COCO', 'TAO', 'TAO', 'TAO', 'TAO'], ['TAO', 'TAO'], ['TAO', 'TAO'], ['TAO', 'TAO', 'TAO'], ['TAO', 'TAO'], ['TAO', 'TAO'], ['TAO', 'TAO'], ['TAO', 'TAO', 'TAO', 'TAO', 'TAO', 'TAO'], ['TAO', 'TAO']]\n",
      "189\n",
      "189\n",
      "189\n"
     ]
    },
    {
     "name": "stderr",
     "output_type": "stream",
     "text": [
      "\n"
     ]
    }
   ],
   "source": [
    "#duplicates #TODO: SORT alphabetically\n",
    "duplicates_l=[]\n",
    "duplicates_l_catid=[]\n",
    "duplicates_l_catdset=[]\n",
    "duplicate_method=\"similar_names\"\n",
    "if duplicate_method==\"equal_names\": #FIX REPETITIONS\n",
    "    duplicates_l=list(set([x for x in cat_l if cat_l.count(x) > 1])) # duplicates l \n",
    "    for duplicate in tqdm(duplicates_l):\n",
    "        idx_mask = [name == duplicate for name in cat_l] #mask of index of duplicate\n",
    "        catids = np.array(cat_l_id)[idx_mask] #duplicate catids\n",
    "        catdsets = np.array(cat_l_dset)[idx_mask] #duplicate catdset\n",
    "        duplicates_l_catid.append(catids.tolist())\n",
    "        duplicates_l_catdset.append(catdsets.tolist())\n",
    "if duplicate_method==\"similar_names\": #FIX SIMILAR NAMES\n",
    "    #WARNING: fix equal_names first - if not, it will not be fixed in this case\n",
    "    import difflib\n",
    "    for cat in cat_l: \n",
    "        match_l=[]\n",
    "        match_l_temp=[c for c in cat_l if (c).find(cat)>-1] #only substring inside string - catagory with big name is not found\n",
    "        if not len(match_l_temp)>1: continue #more than one\n",
    "        #refine search #ADD or REMOVE refine options\n",
    "        match_l.append(cat) #make category to be the first item\n",
    "        match_l.extend([c for c in match_l_temp if ((c+' ').find(cat)>-1 or (c+' ').find(cat)>-1 or (' '+c).find(cat)>-1 or (c+'_').find(cat)>-1 or ('_'+c).find(cat)>-1 )]) #mantain optins: c+'_';'_'+c \n",
    "        match_l.extend(difflib.get_close_matches(cat, match_l_temp, n=5, cutoff=0.9)) #get similar words\n",
    "        #remove equal names\n",
    "        match_l=list(dict.fromkeys(match_l))#match_l=list(set(match_l))\n",
    "        if not len(match_l)>1: continue #more than one\n",
    "        #add to duplicates\n",
    "        duplicates_l.append(match_l)\n",
    "    for duplicates in tqdm(duplicates_l):\n",
    "        catids=[]\n",
    "        catdsets=[]\n",
    "        for duplicate in duplicates:\n",
    "            idx=cat_l.index(duplicate) #first duplicate ()\n",
    "            catids.append(cat_l_id[idx]) #duplicate catids\n",
    "            catdsets.append(cat_l_dset[idx]) #duplicate cat dsets\n",
    "        duplicates_l_catid.append(catids)\n",
    "        duplicates_l_catdset.append(catdsets)\n",
    "if duplicate_method==\"all_names\": #Do for all category names, even with equal \n",
    "    duplicates_l=cat_l\n",
    "    duplicates_l_catid=[[id] for id in cat_l_id]\n",
    "    duplicates_l_catdset=[[dset] for dset in cat_l_dset]\n",
    "    \n",
    "\n",
    "print(duplicates_l)\n",
    "print(duplicates_l_catid)\n",
    "print(duplicates_l_catdset)\n",
    "print(len(duplicates_l))\n",
    "print(len(duplicates_l_catid))\n",
    "print(len(duplicates_l_catdset))"
   ]
  },
  {
   "cell_type": "code",
   "execution_count": 26,
   "metadata": {},
   "outputs": [
    {
     "name": "stderr",
     "output_type": "stream",
     "text": [
      "100%|██████████████████████████████████████████████████████████████████████████████| 189/189 [00:03<00:00, 49.59it/s]\n"
     ]
    }
   ],
   "source": [
    "# get annotations duplicates\n",
    "ann_catid_np=np.array(ann_catid)\n",
    "ann_imgid_np=np.array(ann_imgid)\n",
    "ann_bbox_np=np.array(ann_bbox)\n",
    "ann_dset_np=np.array(ann_dset)\n",
    "duplicates_l_imgid=[]\n",
    "duplicates_l_bbox=[]\n",
    "duplicates_l_dset=[]\n",
    "for catids in tqdm(duplicates_l_catid):\n",
    "    l_imgid=[]\n",
    "    l_bbox=[]\n",
    "    l_dset=[]\n",
    "    for catid in catids:\n",
    "        ann_idx = np.where(ann_catid_np==catid)[0].tolist() #annotation index of ids\n",
    "        l_imgid.append(ann_imgid_np[ann_idx].tolist())\n",
    "        l_bbox.append(ann_bbox_np[ann_idx].tolist())\n",
    "        l_dset.append(ann_dset_np[ann_idx].tolist())\n",
    "    duplicates_l_imgid.append(l_imgid)\n",
    "    duplicates_l_bbox.append(l_bbox)\n",
    "    duplicates_l_dset.append(l_dset)"
   ]
  },
  {
   "cell_type": "markdown",
   "metadata": {},
   "source": [
    "### 2. Save classes to fix \n",
    "FUNCTIONS NEEDED:"
   ]
  },
  {
   "cell_type": "code",
   "execution_count": 27,
   "metadata": {},
   "outputs": [],
   "source": [
    "def display_imgs(i, duplicates_l_catid, duplicates_l_dset, duplicates_l_imgid, img_l, img_l_id, imgidx=0):\n",
    "    for ii, did in enumerate(duplicates_l_catid[i]): #WARNING: only in duplicates each id should correspond to a different dataset\n",
    "        print(dset_l[duplicates_l_dset[i][ii][imgidx]-1]) #WARNING: it works because mlabjson[datasets] is ordered\n",
    "        imgid=duplicates_l_imgid[i][ii][imgidx]\n",
    "        img_l_idx= img_l_id.index(imgid) #np.where(img_l_id_np==imgid)[0].tolist()\n",
    "        imgpath=rdir+img_l[img_l_idx]\n",
    "        print(imgpath)\n",
    "        display(Image(imgpath))\n",
    "        \n",
    "def save_classtofix(i, classtofix_l, classtofix_l_catid, duplicates_l, duplicates_l_catid, duplicates_l_dset, duplicates_l_imgid, img_l, img_l_id, imgidx=0):\n",
    "    #INCEPTION Functions ===>dream within a dream =>>> e fez-se chockapic!!!\n",
    "    x = input('\\n>> Choose: Rename Class and fix; 1=Fix only; 2=Do not fix; 3=show other pair; 4=Stop loop ')\n",
    "    if x=='1': \n",
    "        classtofix_l.append(duplicates_l[i])\n",
    "        classtofix_l_catid.append(duplicates_l_catid[i])\n",
    "    elif x=='2': pass\n",
    "    elif x=='3': \n",
    "        print('\\n>> #WARNING showing another pair')\n",
    "        imgidx+=1\n",
    "        display_imgs(i, duplicates_l_catid, duplicates_l_dset, duplicates_l_imgid, img_l, img_l_id, imgidx=imgidx)\n",
    "        classtofix_l, classtofix_l_catid=save_classtofix(i, classtofix_l, classtofix_l_catid, duplicates_l, duplicates_l_catid, duplicates_l_dset, duplicates_l_imgid, img_l, img_l_id, imgidx=imgidx)\n",
    "    elif x=='4': raise RuntimeError('Stop')\n",
    "    elif isinstance(x, str) and len(x)>2: #Rename only if string with more than 2 characters\n",
    "        classtofix_l.append(x)\n",
    "        classtofix_l_catid.append(duplicates_l_catid[i])\n",
    "    else:\n",
    "        print('\\n>> #ERROR Try again! If Renaming use more than 2 characters! ')\n",
    "        classtofix_l, classtofix_l_catid=save_classtofix(i, classtofix_l, classtofix_l_catid, duplicates_l, duplicates_l_catid, duplicates_l_dset, duplicates_l_imgid, img_l, img_l_id, imgidx=imgidx)\n",
    "\n",
    "    return classtofix_l, classtofix_l_catid\n",
    "\n",
    "\n",
    "def save_imgs(dataframe, path, i, dset_l, duplicates_l, duplicates_l_catid, duplicates_l_bbox, duplicates_l_dset, duplicates_l_imgid, img_l, img_l_id, startidx=0, imgnr=1, imgstep=None, showimage=False):\n",
    "    annotations_missing=np.zeros(len(duplicates_l_catid[i]), dtype=int).tolist() #missing annotation for each duplicate\n",
    "    images_missing=np.zeros(len(duplicates_l_catid[i]), dtype=int).tolist() #missing images for each duplicate\n",
    "    for ii, did in enumerate(duplicates_l_catid[i]): #WARNING: only in duplicates each id should correspond to a different dataset\n",
    "        #category\n",
    "        category=duplicates_l[i]\n",
    "        if isinstance(category, list): \n",
    "            category=category[ii] #if similar names [cow, cowgirl]\n",
    "            print(\">>> finding similar category: \", category)\n",
    "        #ANNOTATION exist?\n",
    "        if not duplicates_l_imgid[i][ii] or len(duplicates_l_imgid[i][ii])==0:\n",
    "            #print(\"\\n>> {} is missing from annotations dataset {}\".format(category,dset_l[ii] ))\n",
    "            print(\">>>> #WARNING {} is missing from json annotations\".format(category))\n",
    "            print('annotations datasets: ', duplicates_l_dset[i][ii])\n",
    "            print('annotations imgids: ', duplicates_l_imgid[i][ii])\n",
    "            print('annotations bbox: ', duplicates_l_bbox[i][ii])\n",
    "            annotations_missing[ii]=1\n",
    "            continue\n",
    "            \n",
    "        dataset=dset_l[duplicates_l_dset[i][ii][startidx]-1]  #  #WARNING: it works because mlabjson[datasets] is ordered\n",
    "        print(dataset) \n",
    "        #SAVE IMAGE\n",
    "        dpi = 80\n",
    "        imgidx_l=[startidx] #default\n",
    "        duplicates_imgidx=range(len(duplicates_l_imgid[i][ii]))\n",
    "        if not imgstep: imgstep=1 #default\n",
    "        if imgnr>len(duplicates_imgidx): imgnr=len(duplicates_imgidx)\n",
    "        if isinstance(imgstep, int) and startidx+imgstep*imgnr>len(duplicates_imgidx): imgstep=int((len(duplicates_imgidx)-staridx)/imgnr)\n",
    "        if isinstance(imgstep, int): imgidx_l=[startidx+inr*imgstep for inr in range(imgnr)]\n",
    "        if isinstance(imgstep, str) and imgstep=='random': imgidx_l=random.sample( duplicates_imgidx, imgnr)\n",
    "        for il, igidx in enumerate(imgidx_l):\n",
    "            imgid=duplicates_l_imgid[i][ii][igidx]\n",
    "            bbox=duplicates_l_bbox[i][ii][igidx]\n",
    "            img_l_idx= img_l_id.index(imgid) #np.where(img_l_id_np==imgid)[0].tolist()\n",
    "            imgpath=rdir+img_l[img_l_idx]\n",
    "            src=imgpath\n",
    "            #IMAGE exist?\n",
    "            found=False\n",
    "            try:\n",
    "                img=imread(src)\n",
    "                found=True\n",
    "            except FileNotFoundError as e:\n",
    "                print(e)\n",
    "                for igidx_new, imgid in enumerate(tqdm(duplicates_l_imgid[i][ii], desc='>>> Finding {} {}...'.format(dataset,category))): #find other not in the list\n",
    "                    if igidx_new in imgidx_l: continue #don't search the index in the imgidx_l \n",
    "                    imgid=duplicates_l_imgid[i][ii][igidx_new]\n",
    "                    bbox=duplicates_l_bbox[i][ii][igidx_new]\n",
    "                    img_l_idx= img_l_id.index(imgid) #np.where(img_l_id_np==imgid)[0].tolist()\n",
    "                    imgpath=rdir+img_l[img_l_idx]\n",
    "                    src=imgpath\n",
    "                    try:\n",
    "                        img=imread(src)\n",
    "                        found=True\n",
    "                        imgidx_l[il]=igidx_new\n",
    "                        break\n",
    "                    except:\n",
    "                        continue        \n",
    "            if found:\n",
    "                extension = os.path.splitext(src)[1]\n",
    "                dst=path+dataset+'_'+category+'_'+str(imgid)+extension\n",
    "                try:\n",
    "                    height, width, nbands = img.shape\n",
    "                except:\n",
    "                    height, width = img.shape\n",
    "                figsize = width / float(dpi), height / float(dpi) # What size does the figure need to be in inches to fit the image?\n",
    "                #bbox\n",
    "                x,y,w,h=bbox\n",
    "                rect=Rectangle((x,y),w,h,linewidth=1,edgecolor='r',facecolor='none')\n",
    "                #save fig\n",
    "                fig = plt.figure(figsize=figsize) # Create a figure of the right size with one axes that takes up the full figure\n",
    "                ax = fig.add_axes([0, 0, 1, 1])\n",
    "                ax.axis('off') # Hide spines, ticks, etc.\n",
    "                #fig,ax = plt.subplots(1)\n",
    "                ax.imshow(img)\n",
    "                ax.add_patch(rect)\n",
    "                # Ensure we're displaying with square pixels and the right extent.\n",
    "                # This is optional if you haven't called `plot` or anything else that might\n",
    "                # change the limits/aspect.  We don't need this step in this case.\n",
    "                ax.set(xlim=[-0.5, width - 0.5], ylim=[height - 0.5, -0.5], aspect=1)\n",
    "                fig.savefig(dst, dpi=dpi, transparent=True)\n",
    "                if showimage: plt.show()\n",
    "                plt.ioff()\n",
    "                plt.close()\n",
    "            else:\n",
    "                images_missing[ii]=1\n",
    "                print('>>>> #WARNING: No file found for: {} {}...'.format(dataset,category))\n",
    "    dataframe.at[i,'annotations_missing']=annotations_missing\n",
    "    dataframe.at[i,'images_missing']=images_missing\n",
    "    return dataframe    \n",
    "            \n",
    "def view_duplicate(i,ii,dataset,category,step=10,dpi=80):\n",
    "    counter=0\n",
    "    for imgidx, imgid in enumerate(tqdm(duplicates_l_imgid[i][ii], desc='>> Finding {} {}...'.format(dataset,category))):\n",
    "        if imgidx==counter*10:\n",
    "            imgid=duplicates_l_imgid[i][ii][imgidx]\n",
    "            bbox=duplicates_l_bbox[i][ii][imgidx]\n",
    "            img_l_idx= img_l_id.index(imgid) #np.where(img_l_id_np==imgid)[0].tolist()\n",
    "            imgpath=rdir+img_l[img_l_idx]\n",
    "            src=imgpath\n",
    "            try:\n",
    "                #imgread\n",
    "                img=imread(src)\n",
    "            except:\n",
    "                continue\n",
    "            height, width, nbands = img.shape\n",
    "            figsize = width / float(dpi), height / float(dpi) # What size does the figure need to be in inches to fit the image?\n",
    "            #bbox\n",
    "            x,y,w,h=bbox\n",
    "            rect=Rectangle((x,y),w,h,linewidth=1,edgecolor='r',facecolor='none')\n",
    "            #fig\n",
    "            fig = plt.figure(figsize=figsize) # Create a figure of the right size with one axes that takes up the full figure\n",
    "            ax = fig.add_axes([0, 0, 1, 1])\n",
    "            ax.axis('off') # Hide spines, ticks, etc.\n",
    "            #fig,ax = plt.subplots(1)\n",
    "            ax.imshow(img)\n",
    "            ax.add_patch(rect)\n",
    "            # Ensure we're displaying with square pixels and the right extent.\n",
    "            # This is optional if you haven't called `plot` or anything else that might\n",
    "            # change the limits/aspect.  We don't need this step in this case.\n",
    "            ax.set(xlim=[-0.5, width - 0.5], ylim=[height - 0.5, -0.5], aspect=1)\n",
    "            plt.show()\n",
    "            counter+=1        \n",
    "\n",
    "def convert_unicode(uni, method='liststr'):\n",
    "    result = None\n",
    "    if method == 'liststr':\n",
    "        result = []\n",
    "        try:\n",
    "            result = [value.replace(\"'\", \"\") for value in uni.strip('[]').split(', ')] #WARNING: \", \" - space to split is necessary\n",
    "        except:\n",
    "            pass\n",
    "    if method == 'listnum':\n",
    "        result = []\n",
    "        try:\n",
    "            result = [int(value) for value in uni.strip('[]').split(', ')] #uni.strip('[]').split(',') #[value for value in uni.strip('[]').split(',')]\n",
    "        except:\n",
    "            pass\n",
    "    if method == 'listoflistnum':\n",
    "        result = []\n",
    "        try:\n",
    "            result = [[float(value.replace('[', '')) for value in epoch.split(',')] for epoch in uni.strip('[]').split('],')]\n",
    "        except:\n",
    "            pass\n",
    "    \n",
    "    return result\n",
    "\n",
    "def parse_path(path):\n",
    "    \"\"\"\n",
    "    Python only works with '/', not '\\\\'or '\\'\n",
    "\n",
    "    WARNING:\n",
    "        in windows use r'path' because of escape literals , e.g: \".\"\n",
    "        os.path.realpath(path).replace('\\\\', '/') #BUG os.path.realpath removes the last '\\\\' and if your sending a folder it is a problem\n",
    "\n",
    "    \"\"\"\n",
    "    parsed_path = path.replace('\\\\', '/')\n",
    "    parsed_path = parsed_path.replace(\"\\ \", '/')\n",
    "    return parsed_path\n",
    "\n",
    "def assure_path_exists(path):\n",
    "    \"\"\"\n",
    "    Create directory folders from path\n",
    "\n",
    "    Note: windows path strings should be r'path'\n",
    "    \"\"\"\n",
    "\n",
    "    #Only for dirs - for complete you have to change dir for path\n",
    "    dir_p = os.path.normpath(path) #dirname is obrigatory - make sure it is a dir\n",
    "    if not os.path.exists(dir_p):\n",
    "        os.makedirs(dir_p)"
   ]
  },
  {
   "cell_type": "code",
   "execution_count": 28,
   "metadata": {
    "collapsed": true,
    "jupyter": {
     "outputs_hidden": true
    }
   },
   "outputs": [
    {
     "name": "stderr",
     "output_type": "stream",
     "text": [
      "  0%|                                                                                        | 0/189 [00:00<?, ?it/s]"
     ]
    },
    {
     "name": "stdout",
     "output_type": "stream",
     "text": [
      "\n",
      ">> car...\n",
      ">>> finding similar category:  car\n",
      "COCO\n",
      ">>> finding similar category:  carrot\n",
      "COCO\n"
     ]
    },
    {
     "name": "stderr",
     "output_type": "stream",
     "text": [
      "\n",
      ">>> Finding TAO business_card...: 100%|███████████████████████████████████████████| 10/10 [00:00<00:00, 10000.72it/s]\u001b[A\n",
      "\n",
      ">>> Finding TAO business_card...: 100%|██████████████████████████████████████████████████████| 10/10 [00:00<?, ?it/s]\u001b[A\n",
      "\n",
      ">>> Finding TAO business_card...: 100%|██████████████████████████████████████████████████████| 10/10 [00:00<?, ?it/s]\u001b[A\n",
      "\n",
      ">>> Finding TAO business_card...: 100%|██████████████████████████████████████████████████████| 10/10 [00:00<?, ?it/s]\u001b[A\n",
      "\n",
      ">>> Finding TAO business_card...: 100%|████████████████████████████████████████████| 10/10 [00:00<00:00, 9955.62it/s]\u001b[A\n",
      "\n",
      ">>> Finding TAO business_card...: 100%|██████████████████████████████████████████████████████| 10/10 [00:00<?, ?it/s]\u001b[A\n",
      "\n",
      ">>> Finding TAO business_card...: 100%|██████████████████████████████████████████████████████| 10/10 [00:00<?, ?it/s]\u001b[A\n",
      "\n",
      ">>> Finding TAO business_card...: 100%|████████████████████████████████████████████| 10/10 [00:00<00:00, 4999.17it/s]\u001b[A\n",
      "\n",
      ">>> Finding TAO business_card...: 100%|████████████████████████████████████████████| 10/10 [00:00<00:00, 9991.20it/s]\u001b[A\n",
      "\n",
      ">>> Finding TAO business_card...: 100%|██████████████████████████████████████████████████████| 10/10 [00:00<?, ?it/s]\u001b[A\n",
      "\n",
      ">>> Finding TAO car_(automobile)...:   0%|                                                 | 0/14207 [00:00<?, ?it/s]\u001b[A"
     ]
    },
    {
     "name": "stdout",
     "output_type": "stream",
     "text": [
      ">>> finding similar category:  birthday_card\n",
      ">>>> #WARNING birthday_card is missing from json annotations\n",
      "annotations datasets:  []\n",
      "annotations imgids:  []\n",
      "annotations bbox:  []\n",
      ">>> finding similar category:  business_card\n",
      "TAO\n",
      "[Errno 2] No such file or directory: 'D:/external_datasets/TAO/TAO_DIR/frames/val/AVA/4Y5qi1gD2Sw_scene_1_28435-31083/frame1201.jpg'\n",
      ">>>> #WARNING: No file found for: TAO business_card...\n",
      "[Errno 2] No such file or directory: 'D:/external_datasets/TAO/TAO_DIR/frames/val/AVA/4Y5qi1gD2Sw_scene_1_28435-31083/frame1141.jpg'\n",
      ">>>> #WARNING: No file found for: TAO business_card...\n",
      "[Errno 2] No such file or directory: 'D:/external_datasets/TAO/TAO_DIR/frames/val/AVA/4Y5qi1gD2Sw_scene_1_28435-31083/frame1291.jpg'\n",
      ">>>> #WARNING: No file found for: TAO business_card...\n",
      "[Errno 2] No such file or directory: 'D:/external_datasets/TAO/TAO_DIR/frames/val/AVA/4Y5qi1gD2Sw_scene_1_28435-31083/frame1171.jpg'\n",
      ">>>> #WARNING: No file found for: TAO business_card...\n",
      "[Errno 2] No such file or directory: 'D:/external_datasets/TAO/TAO_DIR/frames/val/AVA/4Y5qi1gD2Sw_scene_1_28435-31083/frame1261.jpg'\n",
      ">>>> #WARNING: No file found for: TAO business_card...\n",
      "[Errno 2] No such file or directory: 'D:/external_datasets/TAO/TAO_DIR/frames/val/AVA/4Y5qi1gD2Sw_scene_1_28435-31083/frame1231.jpg'\n",
      ">>>> #WARNING: No file found for: TAO business_card...\n",
      "[Errno 2] No such file or directory: 'D:/external_datasets/TAO/TAO_DIR/frames/val/AVA/4Y5qi1gD2Sw_scene_1_28435-31083/frame1081.jpg'\n",
      ">>>> #WARNING: No file found for: TAO business_card...\n",
      "[Errno 2] No such file or directory: 'D:/external_datasets/TAO/TAO_DIR/frames/val/AVA/4Y5qi1gD2Sw_scene_1_28435-31083/frame1111.jpg'\n",
      ">>>> #WARNING: No file found for: TAO business_card...\n",
      "[Errno 2] No such file or directory: 'D:/external_datasets/TAO/TAO_DIR/frames/val/AVA/4Y5qi1gD2Sw_scene_1_28435-31083/frame1351.jpg'\n",
      ">>>> #WARNING: No file found for: TAO business_card...\n",
      "[Errno 2] No such file or directory: 'D:/external_datasets/TAO/TAO_DIR/frames/val/AVA/4Y5qi1gD2Sw_scene_1_28435-31083/frame1321.jpg'\n",
      ">>>> #WARNING: No file found for: TAO business_card...\n",
      ">>> finding similar category:  cabin_car\n",
      ">>>> #WARNING cabin_car is missing from json annotations\n",
      "annotations datasets:  []\n",
      "annotations imgids:  []\n",
      "annotations bbox:  []\n",
      ">>> finding similar category:  car_(automobile)\n",
      "TAO\n",
      "[Errno 2] No such file or directory: 'D:/external_datasets/TAO/TAO_DIR/frames/train/ArgoVerse/side_right_4518c79d-10fb-300e-83bb-6174d5b24a45/ring_side_right_315969125023771336.jpg'\n"
     ]
    },
    {
     "name": "stderr",
     "output_type": "stream",
     "text": [
      "\n",
      "\n",
      ">>> Finding TAO car_(automobile)...:   0%|                                        | 1/14207 [00:00<02:07, 111.03it/s]\u001b[A"
     ]
    },
    {
     "name": "stdout",
     "output_type": "stream",
     "text": [
      "[Errno 2] No such file or directory: 'D:/external_datasets/TAO/TAO_DIR/frames/train/BDD/b1f85377-44885085/frame1381.jpg'\n"
     ]
    },
    {
     "name": "stderr",
     "output_type": "stream",
     "text": [
      "\n",
      "\n",
      ">>> Finding TAO car_(automobile)...:   0%|                                        | 2/14207 [00:00<00:56, 250.39it/s]\u001b[A"
     ]
    },
    {
     "name": "stdout",
     "output_type": "stream",
     "text": [
      "[Errno 2] No such file or directory: 'D:/external_datasets/TAO/TAO_DIR/frames/val/BDD/b3343231-8fe3f2e2/frame1141.jpg'\n"
     ]
    },
    {
     "name": "stderr",
     "output_type": "stream",
     "text": [
      "\n",
      "\n",
      ">>> Finding TAO railcar_(part_of_a_train)...: 100%|█████████████████████████████████| 20/20 [00:00<00:00, 605.89it/s]\u001b[A\n",
      "\n",
      ">>> Finding TAO railcar_(part_of_a_train)...: 100%|█████████████████████████████████| 20/20 [00:00<00:00, 606.03it/s]\u001b[A\n",
      "\n",
      ">>> Finding TAO railcar_(part_of_a_train)...: 100%|█████████████████████████████████| 20/20 [00:00<00:00, 624.61it/s]\u001b[A\n",
      "\n",
      ">>> Finding TAO railcar_(part_of_a_train)...: 100%|█████████████████████████████████| 20/20 [00:00<00:00, 625.09it/s]\u001b[A\n",
      "\n",
      ">>> Finding TAO railcar_(part_of_a_train)...:   0%|                                           | 0/20 [00:00<?, ?it/s]\u001b[A"
     ]
    },
    {
     "name": "stdout",
     "output_type": "stream",
     "text": [
      ">>> finding similar category:  railcar_(part_of_a_train)\n",
      "TAO\n",
      "[Errno 2] No such file or directory: 'D:/external_datasets/TAO/TAO_DIR/frames/val/YFCC100M/v_513e50c31f11f0bdbeb599a811aa1413/frame1081.jpeg'\n",
      ">>>> #WARNING: No file found for: TAO railcar_(part_of_a_train)...\n",
      "[Errno 2] No such file or directory: 'D:/external_datasets/TAO/TAO_DIR/frames/val/YFCC100M/v_513e50c31f11f0bdbeb599a811aa1413/frame1249.jpeg'\n",
      ">>>> #WARNING: No file found for: TAO railcar_(part_of_a_train)...\n",
      "[Errno 2] No such file or directory: 'D:/external_datasets/TAO/TAO_DIR/frames/val/YFCC100M/v_513e50c31f11f0bdbeb599a811aa1413/frame1033.jpeg'\n",
      ">>>> #WARNING: No file found for: TAO railcar_(part_of_a_train)...\n",
      "[Errno 2] No such file or directory: 'D:/external_datasets/TAO/TAO_DIR/frames/val/YFCC100M/v_513e50c31f11f0bdbeb599a811aa1413/frame1105.jpeg'\n",
      ">>>> #WARNING: No file found for: TAO railcar_(part_of_a_train)...\n",
      "[Errno 2] No such file or directory: 'D:/external_datasets/TAO/TAO_DIR/frames/val/YFCC100M/v_513e50c31f11f0bdbeb599a811aa1413/frame1297.jpeg'\n"
     ]
    },
    {
     "name": "stderr",
     "output_type": "stream",
     "text": [
      ">>> Finding TAO railcar_(part_of_a_train)...: 100%|█████████████████████████████████| 20/20 [00:00<00:00, 614.89it/s]\n",
      "\n",
      ">>> Finding TAO railcar_(part_of_a_train)...: 100%|█████████████████████████████████| 20/20 [00:00<00:00, 690.12it/s]\u001b[A\n",
      "\n",
      ">>> Finding TAO railcar_(part_of_a_train)...: 100%|█████████████████████████████████| 20/20 [00:00<00:00, 605.68it/s]\u001b[A\n",
      "\n",
      ">>> Finding TAO railcar_(part_of_a_train)...: 100%|█████████████████████████████████| 20/20 [00:00<00:00, 624.49it/s]\u001b[A\n",
      "\n",
      ">>> Finding TAO railcar_(part_of_a_train)...: 100%|█████████████████████████████████| 20/20 [00:00<00:00, 624.44it/s]\u001b[A\n",
      "\n",
      ">>> Finding TAO railcar_(part_of_a_train)...: 100%|█████████████████████████████████| 20/20 [00:00<00:00, 605.99it/s]\u001b[A"
     ]
    },
    {
     "name": "stdout",
     "output_type": "stream",
     "text": [
      ">>>> #WARNING: No file found for: TAO railcar_(part_of_a_train)...\n",
      "[Errno 2] No such file or directory: 'D:/external_datasets/TAO/TAO_DIR/frames/val/YFCC100M/v_513e50c31f11f0bdbeb599a811aa1413/frame1225.jpeg'\n",
      ">>>> #WARNING: No file found for: TAO railcar_(part_of_a_train)...\n",
      "[Errno 2] No such file or directory: 'D:/external_datasets/TAO/TAO_DIR/frames/val/YFCC100M/v_513e50c31f11f0bdbeb599a811aa1413/frame1153.jpeg'\n",
      ">>>> #WARNING: No file found for: TAO railcar_(part_of_a_train)...\n",
      "[Errno 2] No such file or directory: 'D:/external_datasets/TAO/TAO_DIR/frames/val/YFCC100M/v_513e50c31f11f0bdbeb599a811aa1413/frame1201.jpeg'\n",
      ">>>> #WARNING: No file found for: TAO railcar_(part_of_a_train)...\n",
      "[Errno 2] No such file or directory: 'D:/external_datasets/TAO/TAO_DIR/frames/val/YFCC100M/v_513e50c31f11f0bdbeb599a811aa1413/frame1081.jpeg'\n",
      ">>>> #WARNING: No file found for: TAO railcar_(part_of_a_train)...\n",
      "[Errno 2] No such file or directory: 'D:/external_datasets/TAO/TAO_DIR/frames/val/YFCC100M/v_513e50c31f11f0bdbeb599a811aa1413/frame1249.jpeg'\n"
     ]
    },
    {
     "name": "stderr",
     "output_type": "stream",
     "text": [
      "\n"
     ]
    },
    {
     "name": "stdout",
     "output_type": "stream",
     "text": [
      ">>>> #WARNING: No file found for: TAO railcar_(part_of_a_train)...\n",
      ">>> finding similar category:  elevator_car\n",
      ">>>> #WARNING elevator_car is missing from json annotations\n",
      "annotations datasets:  []\n",
      "annotations imgids:  []\n",
      "annotations bbox:  []\n",
      ">>> finding similar category:  car_battery\n",
      "TAO\n"
     ]
    },
    {
     "name": "stderr",
     "output_type": "stream",
     "text": [
      "\n",
      ">>> Finding TAO carton...:   0%|                                                             | 0/759 [00:00<?, ?it/s]\u001b[A"
     ]
    },
    {
     "name": "stdout",
     "output_type": "stream",
     "text": [
      ">>> finding similar category:  identity_card\n",
      ">>>> #WARNING identity_card is missing from json annotations\n",
      "annotations datasets:  []\n",
      "annotations imgids:  []\n",
      "annotations bbox:  []\n",
      ">>> finding similar category:  card\n",
      ">>>> #WARNING card is missing from json annotations\n",
      "annotations datasets:  []\n",
      "annotations imgids:  []\n",
      "annotations bbox:  []\n",
      ">>> finding similar category:  cardigan\n",
      ">>>> #WARNING cardigan is missing from json annotations\n",
      "annotations datasets:  []\n",
      "annotations imgids:  []\n",
      "annotations bbox:  []\n",
      ">>> finding similar category:  cargo_ship\n",
      ">>>> #WARNING cargo_ship is missing from json annotations\n",
      "annotations datasets:  []\n",
      "annotations imgids:  []\n",
      "annotations bbox:  []\n",
      ">>> finding similar category:  carnation\n",
      ">>>> #WARNING carnation is missing from json annotations\n",
      "annotations datasets:  []\n",
      "annotations imgids:  []\n",
      "annotations bbox:  []\n",
      ">>> finding similar category:  horse_carriage\n",
      ">>>> #WARNING horse_carriage is missing from json annotations\n",
      "annotations datasets:  []\n",
      "annotations imgids:  []\n",
      "annotations bbox:  []\n",
      ">>> finding similar category:  cart\n",
      ">>>> #WARNING cart is missing from json annotations\n",
      "annotations datasets:  []\n",
      "annotations imgids:  []\n",
      "annotations bbox:  []\n",
      ">>> finding similar category:  carton\n",
      "TAO\n",
      "[Errno 2] No such file or directory: 'D:/external_datasets/TAO/TAO_DIR/frames/val/YFCC100M/v_6e13bedfe418b88fc7f43b5df7eb768/frame1921.jpg'\n"
     ]
    },
    {
     "name": "stderr",
     "output_type": "stream",
     "text": [
      "\n"
     ]
    },
    {
     "name": "stdout",
     "output_type": "stream",
     "text": [
      ">>> finding similar category:  credit_card\n",
      ">>>> #WARNING credit_card is missing from json annotations\n",
      "annotations datasets:  []\n",
      "annotations imgids:  []\n",
      "annotations bbox:  []\n",
      ">>> finding similar category:  escargot\n",
      ">>>> #WARNING escargot is missing from json annotations\n",
      "annotations datasets:  []\n",
      "annotations imgids:  []\n",
      "annotations bbox:  []\n",
      ">>> finding similar category:  freight_car\n",
      ">>>> #WARNING freight_car is missing from json annotations\n",
      "annotations datasets:  []\n",
      "annotations imgids:  []\n",
      "annotations bbox:  []\n",
      ">>> finding similar category:  golfcart\n",
      ">>>> #WARNING golfcart is missing from json annotations\n",
      "annotations datasets:  []\n",
      "annotations imgids:  []\n",
      "annotations bbox:  []\n",
      ">>> finding similar category:  handcart\n",
      ">>>> #WARNING handcart is missing from json annotations\n",
      "annotations datasets:  []\n",
      "annotations imgids:  []\n",
      "annotations bbox:  []\n",
      ">>> finding similar category:  headscarf\n",
      "TAO\n",
      ">>> finding similar category:  keycard\n",
      ">>>> #WARNING keycard is missing from json annotations\n",
      "annotations datasets:  []\n",
      "annotations imgids:  []\n",
      "annotations bbox:  []\n",
      ">>> finding similar category:  passenger_car_(part_of_a_train)\n",
      ">>>> #WARNING passenger_car_(part_of_a_train) is missing from json annotations\n",
      "annotations datasets:  []\n",
      "annotations imgids:  []\n",
      "annotations bbox:  []\n",
      ">>> finding similar category:  playing_card\n",
      ">>>> #WARNING playing_card is missing from json annotations\n",
      "annotations datasets:  []\n",
      "annotations imgids:  []\n",
      "annotations bbox:  []\n",
      ">>> finding similar category:  postcard\n",
      ">>>> #WARNING postcard is missing from json annotations\n",
      "annotations datasets:  []\n",
      "annotations imgids:  []\n",
      "annotations bbox:  []\n",
      ">>> finding similar category:  race_car\n",
      "TAO\n"
     ]
    },
    {
     "name": "stderr",
     "output_type": "stream",
     "text": [
      "  1%|▍                                                                               | 1/189 [00:06<20:20,  6.49s/it]"
     ]
    },
    {
     "name": "stdout",
     "output_type": "stream",
     "text": [
      ">>> finding similar category:  runner_(carpet)\n",
      ">>>> #WARNING runner_(carpet) is missing from json annotations\n",
      "annotations datasets:  []\n",
      "annotations imgids:  []\n",
      "annotations bbox:  []\n",
      ">>> finding similar category:  scarecrow\n",
      ">>>> #WARNING scarecrow is missing from json annotations\n",
      "annotations datasets:  []\n",
      "annotations imgids:  []\n",
      "annotations bbox:  []\n",
      ">>> finding similar category:  scarf\n",
      ">>>> #WARNING scarf is missing from json annotations\n",
      "annotations datasets:  []\n",
      "annotations imgids:  []\n",
      "annotations bbox:  []\n",
      ">>> finding similar category:  shopping_cart\n",
      ">>>> #WARNING shopping_cart is missing from json annotations\n",
      "annotations datasets:  []\n",
      "annotations imgids:  []\n",
      "annotations bbox:  []\n",
      ">>> finding similar category:  carbonated_water\n",
      ">>>> #WARNING carbonated_water is missing from json annotations\n",
      "annotations datasets:  []\n",
      "annotations imgids:  []\n",
      "annotations bbox:  []\n",
      "\n",
      ">> bus...\n",
      ">>> finding similar category:  bus\n",
      "COCO\n",
      ">>> finding similar category:  bus_(vehicle)\n",
      "TAO\n",
      "[Errno 2] No such file or directory: 'D:/external_datasets/TAO/TAO_DIR/frames/val/ArgoVerse/side_left_21e37598-52d4-345c-8ef9-03ae19615d3d/ring_side_left_315970626005963080.jpg'\n"
     ]
    },
    {
     "name": "stderr",
     "output_type": "stream",
     "text": [
      "\n",
      ">>> Finding TAO bus_(vehicle)...:   0%|                                                      | 0/409 [00:00<?, ?it/s]\u001b[A\n",
      "\n",
      ">>> Finding TAO bus_(vehicle)...:   0%|                                              | 1/409 [00:00<00:14, 27.79it/s]\u001b[A\n",
      "\n",
      ">>> Finding TAO bus_(vehicle)...:   0%|▏                                             | 2/409 [00:00<00:06, 58.83it/s]\u001b[A\n"
     ]
    },
    {
     "name": "stdout",
     "output_type": "stream",
     "text": [
      "[Errno 2] No such file or directory: 'D:/external_datasets/TAO/TAO_DIR/frames/val/ArgoVerse/33737504-3373-3373-3373-633738571776/ring_front_center_315968422006069480.jpg'\n",
      "[Errno 2] No such file or directory: 'D:/external_datasets/TAO/TAO_DIR/frames/val/ArgoVerse/9da4ca63-f524-3b38-8c8b-624f17518574/ring_front_center_315966388310153080.jpg'\n"
     ]
    },
    {
     "name": "stderr",
     "output_type": "stream",
     "text": [
      "\n",
      ">>> Finding TAO bus_(vehicle)...:   1%|▎                                             | 3/409 [00:00<00:04, 83.25it/s]\u001b[A\n",
      "\n",
      ">>> Finding TAO bus_(vehicle)...:   1%|▍                                            | 4/409 [00:00<00:02, 137.92it/s]\u001b[A"
     ]
    },
    {
     "name": "stdout",
     "output_type": "stream",
     "text": [
      "[Errno 2] No such file or directory: 'D:/external_datasets/TAO/TAO_DIR/frames/val/BDD/b2fbf86d-d5de82a4/frame1141.jpg'\n",
      "[Errno 2] No such file or directory: 'D:/external_datasets/TAO/TAO_DIR/frames/val/ArgoVerse/side_right_b1ca08f1-24b0-3c39-ba4e-d5a92868462c/ring_side_right_315980027928502448.jpg'\n"
     ]
    },
    {
     "name": "stderr",
     "output_type": "stream",
     "text": [
      "\n",
      "\n",
      ">>> Finding TAO bus_(vehicle)...:   1%|▌                                            | 5/409 [00:00<00:03, 124.96it/s]\u001b[A\n",
      "\n",
      ">>> Finding TAO business_card...: 100%|██████████████████████████████████████████████████████| 10/10 [00:00<?, ?it/s]\u001b[A\n",
      "\n",
      ">>> Finding TAO business_card...: 100%|██████████████████████████████████████████████████████| 10/10 [00:00<?, ?it/s]\u001b[A\n",
      "\n",
      ">>> Finding TAO business_card...: 100%|██████████████████████████████████████████████████████| 10/10 [00:00<?, ?it/s]\u001b[A\n",
      "\n",
      ">>> Finding TAO business_card...: 100%|██████████████████████████████████████████████████████| 10/10 [00:00<?, ?it/s]\u001b[A\n",
      "\n",
      ">>> Finding TAO business_card...: 100%|██████████████████████████████████████████████████████| 10/10 [00:00<?, ?it/s]\u001b[A"
     ]
    },
    {
     "name": "stdout",
     "output_type": "stream",
     "text": [
      "[Errno 2] No such file or directory: 'D:/external_datasets/TAO/TAO_DIR/frames/val/ArgoVerse/33737504-3373-3373-3373-633738571776/ring_front_center_315968423005071640.jpg'\n",
      ">>> finding similar category:  business_card\n",
      "TAO\n",
      "[Errno 2] No such file or directory: 'D:/external_datasets/TAO/TAO_DIR/frames/val/AVA/4Y5qi1gD2Sw_scene_1_28435-31083/frame1141.jpg'\n",
      ">>>> #WARNING: No file found for: TAO business_card...\n",
      "[Errno 2] No such file or directory: 'D:/external_datasets/TAO/TAO_DIR/frames/val/AVA/4Y5qi1gD2Sw_scene_1_28435-31083/frame1291.jpg'\n",
      ">>>> #WARNING: No file found for: TAO business_card...\n",
      "[Errno 2] No such file or directory: 'D:/external_datasets/TAO/TAO_DIR/frames/val/AVA/4Y5qi1gD2Sw_scene_1_28435-31083/frame1231.jpg'\n",
      ">>>> #WARNING: No file found for: TAO business_card...\n",
      "[Errno 2] No such file or directory: 'D:/external_datasets/TAO/TAO_DIR/frames/val/AVA/4Y5qi1gD2Sw_scene_1_28435-31083/frame1081.jpg'\n",
      ">>>> #WARNING: No file found for: TAO business_card...\n",
      "[Errno 2] No such file or directory: 'D:/external_datasets/TAO/TAO_DIR/frames/val/AVA/4Y5qi1gD2Sw_scene_1_28435-31083/frame1201.jpg'\n",
      ">>>> #WARNING: No file found for: TAO business_card...\n"
     ]
    },
    {
     "name": "stderr",
     "output_type": "stream",
     "text": [
      "\n",
      "\n",
      ">>> Finding TAO business_card...: 100%|██████████████████████████████████████████████████████| 10/10 [00:00<?, ?it/s]\u001b[A\n",
      "\n",
      ">>> Finding TAO business_card...: 100%|██████████████████████████████████████████████████████| 10/10 [00:00<?, ?it/s]\u001b[A\n",
      "\n",
      ">>> Finding TAO business_card...: 100%|██████████████████████████████████████████████████████| 10/10 [00:00<?, ?it/s]\u001b[A\n",
      "\n",
      ">>> Finding TAO business_card...: 100%|██████████████████████████████████████████████████████| 10/10 [00:00<?, ?it/s]\u001b[A\n",
      "\n",
      ">>> Finding TAO business_card...: 100%|██████████████████████████████████████████████████████| 10/10 [00:00<?, ?it/s]\u001b[A\n"
     ]
    },
    {
     "name": "stdout",
     "output_type": "stream",
     "text": [
      "[Errno 2] No such file or directory: 'D:/external_datasets/TAO/TAO_DIR/frames/val/AVA/4Y5qi1gD2Sw_scene_1_28435-31083/frame1171.jpg'\n",
      ">>>> #WARNING: No file found for: TAO business_card...\n",
      "[Errno 2] No such file or directory: 'D:/external_datasets/TAO/TAO_DIR/frames/val/AVA/4Y5qi1gD2Sw_scene_1_28435-31083/frame1321.jpg'\n",
      ">>>> #WARNING: No file found for: TAO business_card...\n",
      "[Errno 2] No such file or directory: 'D:/external_datasets/TAO/TAO_DIR/frames/val/AVA/4Y5qi1gD2Sw_scene_1_28435-31083/frame1261.jpg'\n",
      ">>>> #WARNING: No file found for: TAO business_card...\n",
      "[Errno 2] No such file or directory: 'D:/external_datasets/TAO/TAO_DIR/frames/val/AVA/4Y5qi1gD2Sw_scene_1_28435-31083/frame1351.jpg'\n",
      ">>>> #WARNING: No file found for: TAO business_card...\n",
      "[Errno 2] No such file or directory: 'D:/external_datasets/TAO/TAO_DIR/frames/val/AVA/4Y5qi1gD2Sw_scene_1_28435-31083/frame1111.jpg'\n",
      ">>>> #WARNING: No file found for: TAO business_card...\n",
      ">>> finding similar category:  school_bus\n",
      "TAO\n"
     ]
    },
    {
     "name": "stderr",
     "output_type": "stream",
     "text": [
      "  1%|▊                                                                               | 2/189 [00:10<18:02,  5.79s/it]"
     ]
    },
    {
     "name": "stdout",
     "output_type": "stream",
     "text": [
      "\n",
      ">> train...\n",
      ">>> finding similar category:  train\n",
      "COCO\n"
     ]
    },
    {
     "name": "stderr",
     "output_type": "stream",
     "text": [
      "\n",
      ">>> Finding TAO railcar_(part_of_a_train)...: 100%|█████████████████████████████████| 20/20 [00:00<00:00, 512.84it/s]\u001b[A\n",
      "\n",
      ">>> Finding TAO railcar_(part_of_a_train)...: 100%|█████████████████████████████████| 20/20 [00:00<00:00, 587.58it/s]\u001b[A\n",
      "\n",
      ">>> Finding TAO railcar_(part_of_a_train)...: 100%|█████████████████████████████████| 20/20 [00:00<00:00, 571.40it/s]\u001b[A\n",
      "\n",
      ">>> Finding TAO railcar_(part_of_a_train)...: 100%|█████████████████████████████████| 20/20 [00:00<00:00, 625.06it/s]\u001b[A\n",
      "\n",
      ">>> Finding TAO railcar_(part_of_a_train)...: 100%|█████████████████████████████████| 20/20 [00:00<00:00, 606.07it/s]\u001b[A"
     ]
    },
    {
     "name": "stdout",
     "output_type": "stream",
     "text": [
      ">>> finding similar category:  bullet_train\n",
      ">>>> #WARNING bullet_train is missing from json annotations\n",
      "annotations datasets:  []\n",
      "annotations imgids:  []\n",
      "annotations bbox:  []\n",
      ">>> finding similar category:  railcar_(part_of_a_train)\n",
      "TAO\n",
      "[Errno 2] No such file or directory: 'D:/external_datasets/TAO/TAO_DIR/frames/val/YFCC100M/v_513e50c31f11f0bdbeb599a811aa1413/frame1153.jpeg'\n",
      ">>>> #WARNING: No file found for: TAO railcar_(part_of_a_train)...\n",
      "[Errno 2] No such file or directory: 'D:/external_datasets/TAO/TAO_DIR/frames/val/YFCC100M/v_513e50c31f11f0bdbeb599a811aa1413/frame1201.jpeg'\n",
      ">>>> #WARNING: No file found for: TAO railcar_(part_of_a_train)...\n",
      "[Errno 2] No such file or directory: 'D:/external_datasets/TAO/TAO_DIR/frames/val/YFCC100M/v_513e50c31f11f0bdbeb599a811aa1413/frame1249.jpeg'\n",
      ">>>> #WARNING: No file found for: TAO railcar_(part_of_a_train)...\n",
      "[Errno 2] No such file or directory: 'D:/external_datasets/TAO/TAO_DIR/frames/val/YFCC100M/v_513e50c31f11f0bdbeb599a811aa1413/frame1225.jpeg'\n",
      ">>>> #WARNING: No file found for: TAO railcar_(part_of_a_train)...\n",
      "[Errno 2] No such file or directory: 'D:/external_datasets/TAO/TAO_DIR/frames/val/YFCC100M/v_513e50c31f11f0bdbeb599a811aa1413/frame1177.jpeg'\n"
     ]
    },
    {
     "name": "stderr",
     "output_type": "stream",
     "text": [
      "\n",
      "\n",
      ">>> Finding TAO railcar_(part_of_a_train)...: 100%|█████████████████████████████████| 20/20 [00:00<00:00, 645.15it/s]\u001b[A\n",
      "\n",
      ">>> Finding TAO railcar_(part_of_a_train)...: 100%|█████████████████████████████████| 20/20 [00:00<00:00, 512.79it/s]\u001b[A\n",
      "\n",
      ">>> Finding TAO railcar_(part_of_a_train)...: 100%|█████████████████████████████████| 20/20 [00:00<00:00, 625.04it/s]\u001b[A\n",
      "\n",
      ">>> Finding TAO railcar_(part_of_a_train)...: 100%|█████████████████████████████████| 20/20 [00:00<00:00, 606.01it/s]\u001b[A\n",
      "\n",
      ">>> Finding TAO railcar_(part_of_a_train)...:   0%|                                           | 0/20 [00:00<?, ?it/s]\u001b[A"
     ]
    },
    {
     "name": "stdout",
     "output_type": "stream",
     "text": [
      ">>>> #WARNING: No file found for: TAO railcar_(part_of_a_train)...\n",
      "[Errno 2] No such file or directory: 'D:/external_datasets/TAO/TAO_DIR/frames/val/YFCC100M/v_513e50c31f11f0bdbeb599a811aa1413/frame1273.jpeg'\n",
      ">>>> #WARNING: No file found for: TAO railcar_(part_of_a_train)...\n",
      "[Errno 2] No such file or directory: 'D:/external_datasets/TAO/TAO_DIR/frames/val/YFCC100M/v_513e50c31f11f0bdbeb599a811aa1413/frame1057.jpeg'\n",
      ">>>> #WARNING: No file found for: TAO railcar_(part_of_a_train)...\n",
      "[Errno 2] No such file or directory: 'D:/external_datasets/TAO/TAO_DIR/frames/val/YFCC100M/v_513e50c31f11f0bdbeb599a811aa1413/frame1129.jpeg'\n",
      ">>>> #WARNING: No file found for: TAO railcar_(part_of_a_train)...\n",
      "[Errno 2] No such file or directory: 'D:/external_datasets/TAO/TAO_DIR/frames/val/YFCC100M/v_513e50c31f11f0bdbeb599a811aa1413/frame1033.jpeg'\n",
      ">>>> #WARNING: No file found for: TAO railcar_(part_of_a_train)...\n",
      "[Errno 2] No such file or directory: 'D:/external_datasets/TAO/TAO_DIR/frames/val/YFCC100M/v_513e50c31f11f0bdbeb599a811aa1413/frame1129.jpeg'\n"
     ]
    },
    {
     "name": "stderr",
     "output_type": "stream",
     "text": [
      ">>> Finding TAO railcar_(part_of_a_train)...: 100%|█████████████████████████████████| 20/20 [00:00<00:00, 555.50it/s]\n",
      "  2%|█▎                                                                              | 3/189 [00:12<13:54,  4.49s/it]"
     ]
    },
    {
     "name": "stdout",
     "output_type": "stream",
     "text": [
      ">>>> #WARNING: No file found for: TAO railcar_(part_of_a_train)...\n",
      ">>> finding similar category:  passenger_car_(part_of_a_train)\n",
      ">>>> #WARNING passenger_car_(part_of_a_train) is missing from json annotations\n",
      "annotations datasets:  []\n",
      "annotations imgids:  []\n",
      "annotations bbox:  []\n",
      ">>> finding similar category:  strainer\n",
      ">>>> #WARNING strainer is missing from json annotations\n",
      "annotations datasets:  []\n",
      "annotations imgids:  []\n",
      "annotations bbox:  []\n",
      ">>> finding similar category:  train_(railroad_vehicle)\n",
      ">>>> #WARNING train_(railroad_vehicle) is missing from json annotations\n",
      "annotations datasets:  []\n",
      "annotations imgids:  []\n",
      "annotations bbox:  []\n",
      "\n",
      ">> truck...\n",
      ">>> finding similar category:  truck\n",
      "COCO\n",
      ">>> finding similar category:  garbage_truck\n",
      "TAO\n",
      ">>> finding similar category:  pickup_truck\n",
      "TAO\n"
     ]
    },
    {
     "name": "stderr",
     "output_type": "stream",
     "text": [
      "\n",
      ">>> Finding TAO pickup_truck...:   0%|                                                       | 0/432 [00:00<?, ?it/s]\u001b[A\n",
      "\n",
      ">>> Finding TAO pickup_truck...:   0%|                                              | 1/432 [00:00<00:03, 124.75it/s]\u001b[A\n",
      "\n",
      ">>> Finding TAO pickup_truck...:   0%|▏                                             | 2/432 [00:00<00:04, 105.25it/s]\u001b[A"
     ]
    },
    {
     "name": "stdout",
     "output_type": "stream",
     "text": [
      "[Errno 2] No such file or directory: 'D:/external_datasets/TAO/TAO_DIR/frames/val/ArgoVerse/273c1883-673a-36bf-b124-88311b1a80be/ring_front_center_315975645010631680.jpg'\n",
      "[Errno 2] No such file or directory: 'D:/external_datasets/TAO/TAO_DIR/frames/train/ArgoVerse/4518c79d-10fb-300e-83bb-6174d5b24a45/ring_front_center_315969134014770640.jpg'\n",
      "[Errno 2] No such file or directory: 'D:/external_datasets/TAO/TAO_DIR/frames/val/ArgoVerse/da734d26-8229-383f-b685-8086e58d1e05/ring_front_center_315967921024036704.jpg'\n"
     ]
    },
    {
     "name": "stderr",
     "output_type": "stream",
     "text": [
      "\n"
     ]
    },
    {
     "name": "stdout",
     "output_type": "stream",
     "text": [
      ">>> finding similar category:  tow_truck\n",
      ">>>> #WARNING tow_truck is missing from json annotations\n",
      "annotations datasets:  []\n",
      "annotations imgids:  []\n",
      "annotations bbox:  []\n",
      ">>> finding similar category:  trailer_truck\n",
      "TAO\n"
     ]
    },
    {
     "name": "stderr",
     "output_type": "stream",
     "text": [
      "  2%|█▋                                                                              | 4/189 [00:15<12:46,  4.15s/it]"
     ]
    },
    {
     "name": "stdout",
     "output_type": "stream",
     "text": [
      "\n",
      ">> boat...\n",
      ">>> finding similar category:  boat\n",
      "COCO\n",
      ">>> finding similar category:  fishing_boat\n",
      ">>>> #WARNING fishing_boat is missing from json annotations\n",
      "annotations datasets:  []\n",
      "annotations imgids:  []\n",
      "annotations bbox:  []\n",
      ">>> finding similar category:  gondola_(boat)\n",
      ">>>> #WARNING gondola_(boat) is missing from json annotations\n",
      "annotations datasets:  []\n",
      "annotations imgids:  []\n",
      "annotations bbox:  []\n",
      ">>> finding similar category:  gravy_boat\n",
      ">>>> #WARNING gravy_boat is missing from json annotations\n",
      "annotations datasets:  []\n",
      "annotations imgids:  []\n",
      "annotations bbox:  []\n",
      ">>> finding similar category:  houseboat\n",
      ">>>> #WARNING houseboat is missing from json annotations\n",
      "annotations datasets:  []\n",
      "annotations imgids:  []\n",
      "annotations bbox:  []\n",
      ">>> finding similar category:  motorboat\n",
      "TAO\n"
     ]
    },
    {
     "name": "stderr",
     "output_type": "stream",
     "text": [
      "  3%|██                                                                              | 5/189 [00:17<11:05,  3.62s/it]"
     ]
    },
    {
     "name": "stdout",
     "output_type": "stream",
     "text": [
      ">>> finding similar category:  river_boat\n",
      ">>>> #WARNING river_boat is missing from json annotations\n",
      "annotations datasets:  []\n",
      "annotations imgids:  []\n",
      "annotations bbox:  []\n",
      "\n",
      ">> bench...\n",
      ">>> finding similar category:  bench\n",
      "COCO\n"
     ]
    },
    {
     "name": "stderr",
     "output_type": "stream",
     "text": [
      "  3%|██▌                                                                             | 6/189 [00:18<08:33,  2.80s/it]"
     ]
    },
    {
     "name": "stdout",
     "output_type": "stream",
     "text": [
      ">>> finding similar category:  pew_(church_bench)\n",
      ">>>> #WARNING pew_(church_bench) is missing from json annotations\n",
      "annotations datasets:  []\n",
      "annotations imgids:  []\n",
      "annotations bbox:  []\n",
      "\n",
      ">> bird...\n",
      ">>> finding similar category:  bird\n",
      "COCO\n"
     ]
    },
    {
     "name": "stderr",
     "output_type": "stream",
     "text": [
      "\n",
      ">>> Finding TAO birdfeeder...: 100%|████████████████████████████████████████████████| 40/40 [00:00<00:00, 449.20it/s]\u001b[A\n",
      "\n",
      ">>> Finding TAO birdfeeder...: 100%|████████████████████████████████████████████████| 40/40 [00:00<00:00, 444.43it/s]\u001b[A"
     ]
    },
    {
     "name": "stdout",
     "output_type": "stream",
     "text": [
      ">>> finding similar category:  birdfeeder\n",
      "TAO\n",
      "[Errno 2] No such file or directory: 'D:/external_datasets/TAO/TAO_DIR/frames/val/YFCC100M/v_c4254cd81215eab0ab8f1722fce00f/frame1981.jpeg'\n",
      ">>>> #WARNING: No file found for: TAO birdfeeder...\n",
      "[Errno 2] No such file or directory: 'D:/external_datasets/TAO/TAO_DIR/frames/val/YFCC100M/v_c4254cd81215eab0ab8f1722fce00f/frame1111.jpeg'\n"
     ]
    },
    {
     "name": "stderr",
     "output_type": "stream",
     "text": [
      "\n",
      "\n",
      ">>> Finding TAO birdfeeder...: 100%|████████████████████████████████████████████████| 40/40 [00:00<00:00, 444.23it/s]\u001b[A\n",
      "\n",
      ">>> Finding TAO birdfeeder...: 100%|████████████████████████████████████████████████| 40/40 [00:00<00:00, 425.54it/s]\u001b[A"
     ]
    },
    {
     "name": "stdout",
     "output_type": "stream",
     "text": [
      ">>>> #WARNING: No file found for: TAO birdfeeder...\n",
      "[Errno 2] No such file or directory: 'D:/external_datasets/TAO/TAO_DIR/frames/val/YFCC100M/v_c4254cd81215eab0ab8f1722fce00f/frame2011.jpeg'\n",
      ">>>> #WARNING: No file found for: TAO birdfeeder...\n",
      "[Errno 2] No such file or directory: 'D:/external_datasets/TAO/TAO_DIR/frames/val/YFCC100M/v_c4254cd81215eab0ab8f1722fce00f/frame1531.jpeg'\n"
     ]
    },
    {
     "name": "stderr",
     "output_type": "stream",
     "text": [
      "\n",
      "\n",
      ">>> Finding TAO birdfeeder...:   0%|                                                          | 0/40 [00:00<?, ?it/s]\u001b[A\n",
      ">>> Finding TAO birdfeeder...: 100%|████████████████████████████████████████████████| 40/40 [00:00<00:00, 284.63it/s]\u001b[A\n",
      "\n",
      ">>> Finding TAO birdfeeder...:   0%|                                                          | 0/40 [00:00<?, ?it/s]\u001b[A"
     ]
    },
    {
     "name": "stdout",
     "output_type": "stream",
     "text": [
      ">>>> #WARNING: No file found for: TAO birdfeeder...\n",
      "[Errno 2] No such file or directory: 'D:/external_datasets/TAO/TAO_DIR/frames/val/YFCC100M/v_c4254cd81215eab0ab8f1722fce00f/frame1831.jpeg'\n",
      ">>>> #WARNING: No file found for: TAO birdfeeder...\n",
      "[Errno 2] No such file or directory: 'D:/external_datasets/TAO/TAO_DIR/frames/val/YFCC100M/v_c4254cd81215eab0ab8f1722fce00f/frame1771.jpeg'\n"
     ]
    },
    {
     "name": "stderr",
     "output_type": "stream",
     "text": [
      "\n",
      ">>> Finding TAO birdfeeder...: 100%|████████████████████████████████████████████████| 40/40 [00:00<00:00, 213.90it/s]\u001b[A\n",
      "\n",
      ">>> Finding TAO birdfeeder...:   0%|                                                          | 0/40 [00:00<?, ?it/s]\u001b[A\n",
      ">>> Finding TAO birdfeeder...: 100%|████████████████████████████████████████████████| 40/40 [00:00<00:00, 322.58it/s]\u001b[A\n",
      "\n",
      ">>> Finding TAO birdfeeder...:   0%|                                                          | 0/40 [00:00<?, ?it/s]\u001b[A"
     ]
    },
    {
     "name": "stdout",
     "output_type": "stream",
     "text": [
      ">>>> #WARNING: No file found for: TAO birdfeeder...\n",
      "[Errno 2] No such file or directory: 'D:/external_datasets/TAO/TAO_DIR/frames/val/YFCC100M/v_c4254cd81215eab0ab8f1722fce00f/frame1951.jpeg'\n",
      ">>>> #WARNING: No file found for: TAO birdfeeder...\n",
      "[Errno 2] No such file or directory: 'D:/external_datasets/TAO/TAO_DIR/frames/val/YFCC100M/v_c4254cd81215eab0ab8f1722fce00f/frame1471.jpeg'\n"
     ]
    },
    {
     "name": "stderr",
     "output_type": "stream",
     "text": [
      "\n",
      ">>> Finding TAO birdfeeder...:  32%|███████████████▌                                | 13/40 [00:00<00:00, 130.00it/s]\u001b[A\n",
      ">>> Finding TAO birdfeeder...: 100%|████████████████████████████████████████████████| 40/40 [00:00<00:00, 175.44it/s]\u001b[A\n",
      "\n",
      ">>> Finding TAO birdfeeder...:   0%|                                                          | 0/40 [00:00<?, ?it/s]\u001b[A\n",
      ">>> Finding TAO birdfeeder...: 100%|████████████████████████████████████████████████| 40/40 [00:00<00:00, 303.03it/s]\u001b[A\n",
      "\n",
      ">>> Finding TAO birdfeeder...:   0%|                                                          | 0/40 [00:00<?, ?it/s]\u001b[A"
     ]
    },
    {
     "name": "stdout",
     "output_type": "stream",
     "text": [
      ">>>> #WARNING: No file found for: TAO birdfeeder...\n",
      "[Errno 2] No such file or directory: 'D:/external_datasets/TAO/TAO_DIR/frames/val/YFCC100M/v_c4254cd81215eab0ab8f1722fce00f/frame1651.jpeg'\n",
      ">>>> #WARNING: No file found for: TAO birdfeeder...\n",
      "[Errno 2] No such file or directory: 'D:/external_datasets/TAO/TAO_DIR/frames/val/YFCC100M/v_c4254cd81215eab0ab8f1722fce00f/frame2191.jpeg'\n"
     ]
    },
    {
     "name": "stderr",
     "output_type": "stream",
     "text": [
      "\n",
      ">>> Finding TAO birdfeeder...: 100%|████████████████████████████████████████████████| 40/40 [00:00<00:00, 289.86it/s]\u001b[A\n"
     ]
    },
    {
     "name": "stdout",
     "output_type": "stream",
     "text": [
      ">>>> #WARNING: No file found for: TAO birdfeeder...\n",
      ">>> finding similar category:  birdbath\n",
      ">>>> #WARNING birdbath is missing from json annotations\n",
      "annotations datasets:  []\n",
      "annotations imgids:  []\n",
      "annotations bbox:  []\n",
      ">>> finding similar category:  birdcage\n",
      "TAO\n"
     ]
    },
    {
     "name": "stderr",
     "output_type": "stream",
     "text": [
      "\n",
      ">>> Finding TAO birdcage...:   0%|                                                            | 0/38 [00:00<?, ?it/s]\u001b[A"
     ]
    },
    {
     "name": "stdout",
     "output_type": "stream",
     "text": [
      "[Errno 2] No such file or directory: 'D:/external_datasets/TAO/TAO_DIR/frames/val/AVA/P60OxWahxBQ_scene_2_41000-42115/frame1021.jpg'\n"
     ]
    },
    {
     "name": "stderr",
     "output_type": "stream",
     "text": [
      "\n",
      "\n",
      ">>> Finding TAO birdcage...:   3%|█▎                                                  | 1/38 [00:00<00:01, 18.87it/s]\u001b[A"
     ]
    },
    {
     "name": "stdout",
     "output_type": "stream",
     "text": [
      "[Errno 2] No such file or directory: 'D:/external_datasets/TAO/TAO_DIR/frames/val/AVA/P60OxWahxBQ_scene_2_41000-42115/frame1081.jpg'\n"
     ]
    },
    {
     "name": "stderr",
     "output_type": "stream",
     "text": [
      "\n",
      "\n",
      ">>> Finding TAO birdhouse...: 100%|█████████████████████████████████████████████████| 40/40 [00:00<00:00, 405.34it/s]\u001b[A\n",
      "\n",
      ">>> Finding TAO birdhouse...:   0%|                                                           | 0/40 [00:00<?, ?it/s]\u001b[A"
     ]
    },
    {
     "name": "stdout",
     "output_type": "stream",
     "text": [
      ">>> finding similar category:  birdhouse\n",
      "TAO\n",
      "[Errno 2] No such file or directory: 'D:/external_datasets/TAO/TAO_DIR/frames/val/YFCC100M/v_5184aeb820dfcb8aa8f4c56c79107373/frame0801.jpeg'\n",
      ">>>> #WARNING: No file found for: TAO birdhouse...\n",
      "[Errno 2] No such file or directory: 'D:/external_datasets/TAO/TAO_DIR/frames/val/YFCC100M/v_5184aeb820dfcb8aa8f4c56c79107373/frame1151.jpeg'\n"
     ]
    },
    {
     "name": "stderr",
     "output_type": "stream",
     "text": [
      "\n",
      ">>> Finding TAO birdhouse...: 100%|█████████████████████████████████████████████████| 40/40 [00:00<00:00, 316.17it/s]\u001b[A\n",
      "\n",
      ">>> Finding TAO birdhouse...:   0%|                                                           | 0/40 [00:00<?, ?it/s]\u001b[A\n",
      ">>> Finding TAO birdhouse...: 100%|█████████████████████████████████████████████████| 40/40 [00:00<00:00, 370.35it/s]\u001b[A\n",
      "\n",
      ">>> Finding TAO birdhouse...:   0%|                                                           | 0/40 [00:00<?, ?it/s]\u001b[A"
     ]
    },
    {
     "name": "stdout",
     "output_type": "stream",
     "text": [
      ">>>> #WARNING: No file found for: TAO birdhouse...\n",
      "[Errno 2] No such file or directory: 'D:/external_datasets/TAO/TAO_DIR/frames/val/YFCC100M/v_5184aeb820dfcb8aa8f4c56c79107373/frame0301.jpeg'\n",
      ">>>> #WARNING: No file found for: TAO birdhouse...\n",
      "[Errno 2] No such file or directory: 'D:/external_datasets/TAO/TAO_DIR/frames/val/YFCC100M/v_5184aeb820dfcb8aa8f4c56c79107373/frame0701.jpeg'\n"
     ]
    },
    {
     "name": "stderr",
     "output_type": "stream",
     "text": [
      "\n",
      ">>> Finding TAO birdhouse...: 100%|█████████████████████████████████████████████████| 40/40 [00:00<00:00, 322.60it/s]\u001b[A\n",
      "\n",
      ">>> Finding TAO birdhouse...: 100%|█████████████████████████████████████████████████| 40/40 [00:00<00:00, 470.66it/s]\u001b[A\n",
      "\n",
      ">>> Finding TAO birdhouse...:   0%|                                                           | 0/40 [00:00<?, ?it/s]\u001b[A"
     ]
    },
    {
     "name": "stdout",
     "output_type": "stream",
     "text": [
      ">>>> #WARNING: No file found for: TAO birdhouse...\n",
      "[Errno 2] No such file or directory: 'D:/external_datasets/TAO/TAO_DIR/frames/val/YFCC100M/v_5184aeb820dfcb8aa8f4c56c79107373/frame0976.jpeg'\n",
      ">>>> #WARNING: No file found for: TAO birdhouse...\n",
      "[Errno 2] No such file or directory: 'D:/external_datasets/TAO/TAO_DIR/frames/val/YFCC100M/v_5184aeb820dfcb8aa8f4c56c79107373/frame0626.jpeg'\n"
     ]
    },
    {
     "name": "stderr",
     "output_type": "stream",
     "text": [
      ">>> Finding TAO birdhouse...: 100%|█████████████████████████████████████████████████| 40/40 [00:00<00:00, 449.45it/s]\n",
      "\n",
      ">>> Finding TAO birdhouse...: 100%|█████████████████████████████████████████████████| 40/40 [00:00<00:00, 437.84it/s]\u001b[A\n",
      "\n",
      ">>> Finding TAO birdhouse...:   0%|                                                           | 0/40 [00:00<?, ?it/s]\u001b[A"
     ]
    },
    {
     "name": "stdout",
     "output_type": "stream",
     "text": [
      ">>>> #WARNING: No file found for: TAO birdhouse...\n",
      "[Errno 2] No such file or directory: 'D:/external_datasets/TAO/TAO_DIR/frames/val/YFCC100M/v_5184aeb820dfcb8aa8f4c56c79107373/frame1076.jpeg'\n",
      ">>>> #WARNING: No file found for: TAO birdhouse...\n",
      "[Errno 2] No such file or directory: 'D:/external_datasets/TAO/TAO_DIR/frames/val/YFCC100M/v_5184aeb820dfcb8aa8f4c56c79107373/frame0826.jpeg'\n"
     ]
    },
    {
     "name": "stderr",
     "output_type": "stream",
     "text": [
      "\n",
      ">>> Finding TAO birdhouse...: 100%|█████████████████████████████████████████████████| 40/40 [00:00<00:00, 336.05it/s]\u001b[A\n",
      "\n",
      ">>> Finding TAO birdhouse...:   0%|                                                           | 0/40 [00:00<?, ?it/s]\u001b[A\n",
      ">>> Finding TAO birdhouse...: 100%|█████████████████████████████████████████████████| 40/40 [00:00<00:00, 384.62it/s]\u001b[A\n",
      "\n",
      ">>> Finding TAO birdhouse...:   0%|                                                           | 0/40 [00:00<?, ?it/s]\u001b[A"
     ]
    },
    {
     "name": "stdout",
     "output_type": "stream",
     "text": [
      ">>>> #WARNING: No file found for: TAO birdhouse...\n",
      "[Errno 2] No such file or directory: 'D:/external_datasets/TAO/TAO_DIR/frames/val/YFCC100M/v_5184aeb820dfcb8aa8f4c56c79107373/frame1051.jpeg'\n",
      ">>>> #WARNING: No file found for: TAO birdhouse...\n",
      "[Errno 2] No such file or directory: 'D:/external_datasets/TAO/TAO_DIR/frames/val/YFCC100M/v_5184aeb820dfcb8aa8f4c56c79107373/frame0501.jpeg'\n"
     ]
    },
    {
     "name": "stderr",
     "output_type": "stream",
     "text": [
      ">>> Finding TAO birdhouse...: 100%|█████████████████████████████████████████████████| 40/40 [00:00<00:00, 454.37it/s]\n"
     ]
    },
    {
     "name": "stdout",
     "output_type": "stream",
     "text": [
      ">>>> #WARNING: No file found for: TAO birdhouse...\n",
      ">>> finding similar category:  hummingbird\n",
      ">>>> #WARNING hummingbird is missing from json annotations\n",
      "annotations datasets:  []\n",
      "annotations imgids:  []\n",
      "annotations bbox:  []\n",
      ">>> finding similar category:  seabird\n",
      ">>>> #WARNING seabird is missing from json annotations\n",
      "annotations datasets:  []\n",
      "annotations imgids:  []\n",
      "annotations bbox:  []\n",
      ">>> finding similar category:  turkey_(bird)\n",
      "TAO\n"
     ]
    },
    {
     "name": "stderr",
     "output_type": "stream",
     "text": [
      "  4%|██▉                                                                             | 7/189 [00:26<12:52,  4.24s/it]"
     ]
    },
    {
     "name": "stdout",
     "output_type": "stream",
     "text": [
      "\n",
      ">> dog...\n",
      ">>> finding similar category:  dog\n",
      "COCO\n",
      ">>> finding similar category:  hot dog\n",
      "COCO\n"
     ]
    },
    {
     "name": "stderr",
     "output_type": "stream",
     "text": [
      "  4%|███▍                                                                            | 8/189 [00:28<10:52,  3.60s/it]"
     ]
    },
    {
     "name": "stdout",
     "output_type": "stream",
     "text": [
      ">>> finding similar category:  bulldog\n",
      ">>>> #WARNING bulldog is missing from json annotations\n",
      "annotations datasets:  []\n",
      "annotations imgids:  []\n",
      "annotations bbox:  []\n",
      ">>> finding similar category:  dog_collar\n",
      ">>>> #WARNING dog_collar is missing from json annotations\n",
      "annotations datasets:  []\n",
      "annotations imgids:  []\n",
      "annotations bbox:  []\n",
      ">>> finding similar category:  pug-dog\n",
      ">>>> #WARNING pug-dog is missing from json annotations\n",
      "annotations datasets:  []\n",
      "annotations imgids:  []\n",
      "annotations bbox:  []\n",
      ">>> finding similar category:  shepherd_dog\n",
      ">>>> #WARNING shepherd_dog is missing from json annotations\n",
      "annotations datasets:  []\n",
      "annotations imgids:  []\n",
      "annotations bbox:  []\n",
      "\n",
      ">> horse...\n",
      ">>> finding similar category:  horse\n",
      "COCO\n"
     ]
    },
    {
     "name": "stderr",
     "output_type": "stream",
     "text": [
      "\n",
      ">>> Finding COCO horse...:   0%|                                                            | 0/6860 [00:00<?, ?it/s]\u001b[A"
     ]
    },
    {
     "name": "stdout",
     "output_type": "stream",
     "text": [
      "[Errno 2] No such file or directory: 'D:/external_datasets/COCO/2017/images/val2017/000000419201.jpg'\n"
     ]
    },
    {
     "name": "stderr",
     "output_type": "stream",
     "text": [
      "\n",
      "  5%|███▊                                                                            | 9/189 [00:29<08:31,  2.84s/it]"
     ]
    },
    {
     "name": "stdout",
     "output_type": "stream",
     "text": [
      ">>> finding similar category:  horse_buggy\n",
      ">>>> #WARNING horse_buggy is missing from json annotations\n",
      "annotations datasets:  []\n",
      "annotations imgids:  []\n",
      "annotations bbox:  []\n",
      ">>> finding similar category:  horse_carriage\n",
      ">>>> #WARNING horse_carriage is missing from json annotations\n",
      "annotations datasets:  []\n",
      "annotations imgids:  []\n",
      "annotations bbox:  []\n",
      ">>> finding similar category:  headstall_(for_horses)\n",
      ">>>> #WARNING headstall_(for_horses) is missing from json annotations\n",
      "annotations datasets:  []\n",
      "annotations imgids:  []\n",
      "annotations bbox:  []\n",
      ">>> finding similar category:  sawhorse\n",
      ">>>> #WARNING sawhorse is missing from json annotations\n",
      "annotations datasets:  []\n",
      "annotations imgids:  []\n",
      "annotations bbox:  []\n",
      ">>> finding similar category:  seahorse\n",
      ">>>> #WARNING seahorse is missing from json annotations\n",
      "annotations datasets:  []\n",
      "annotations imgids:  []\n",
      "annotations bbox:  []\n",
      ">>> finding similar category:  blinder_(for_horses)\n",
      ">>>> #WARNING blinder_(for_horses) is missing from json annotations\n",
      "annotations datasets:  []\n",
      "annotations imgids:  []\n",
      "annotations bbox:  []\n",
      "\n",
      ">> sheep...\n",
      ">>> finding similar category:  sheep\n",
      "COCO\n",
      ">>> finding similar category:  black_sheep\n",
      "TAO\n"
     ]
    },
    {
     "name": "stderr",
     "output_type": "stream",
     "text": [
      "  5%|████▏                                                                          | 10/189 [00:31<08:01,  2.69s/it]"
     ]
    },
    {
     "name": "stdout",
     "output_type": "stream",
     "text": [
      "\n",
      ">> cow...\n",
      ">>> finding similar category:  cow\n",
      "COCO\n"
     ]
    },
    {
     "name": "stderr",
     "output_type": "stream",
     "text": [
      "  6%|████▌                                                                          | 11/189 [00:33<06:37,  2.23s/it]\n",
      ">>> Finding COCO bear...:   0%|                                                             | 0/1365 [00:00<?, ?it/s]\u001b[A"
     ]
    },
    {
     "name": "stdout",
     "output_type": "stream",
     "text": [
      ">>> finding similar category:  cowbell\n",
      ">>>> #WARNING cowbell is missing from json annotations\n",
      "annotations datasets:  []\n",
      "annotations imgids:  []\n",
      "annotations bbox:  []\n",
      ">>> finding similar category:  cowboy_hat\n",
      ">>>> #WARNING cowboy_hat is missing from json annotations\n",
      "annotations datasets:  []\n",
      "annotations imgids:  []\n",
      "annotations bbox:  []\n",
      "\n",
      ">> bear...\n",
      ">>> finding similar category:  bear\n",
      "COCO\n",
      "[Errno 2] No such file or directory: 'D:/external_datasets/COCO/2017/images/val2017/000000560266.jpg'\n"
     ]
    },
    {
     "name": "stderr",
     "output_type": "stream",
     "text": [
      "\n"
     ]
    },
    {
     "name": "stdout",
     "output_type": "stream",
     "text": [
      ">>> finding similar category:  teddy bear\n",
      "COCO\n",
      ">>> finding similar category:  polar_bear\n",
      "TAO\n"
     ]
    },
    {
     "name": "stderr",
     "output_type": "stream",
     "text": [
      "  6%|█████                                                                          | 12/189 [00:36<07:35,  2.57s/it]"
     ]
    },
    {
     "name": "stdout",
     "output_type": "stream",
     "text": [
      ">>> finding similar category:  teddy_bear\n",
      ">>>> #WARNING teddy_bear is missing from json annotations\n",
      "annotations datasets:  []\n",
      "annotations imgids:  []\n",
      "annotations bbox:  []\n",
      "\n",
      ">> tie...\n",
      ">>> finding similar category:  tie\n",
      "COCO\n"
     ]
    },
    {
     "name": "stderr",
     "output_type": "stream",
     "text": [
      "  7%|█████▍                                                                         | 13/189 [00:37<06:03,  2.07s/it]"
     ]
    },
    {
     "name": "stdout",
     "output_type": "stream",
     "text": [
      ">>> finding similar category:  bolo_tie\n",
      ">>>> #WARNING bolo_tie is missing from json annotations\n",
      "annotations datasets:  []\n",
      "annotations imgids:  []\n",
      "annotations bbox:  []\n",
      ">>> finding similar category:  bow-tie\n",
      ">>>> #WARNING bow-tie is missing from json annotations\n",
      "annotations datasets:  []\n",
      "annotations imgids:  []\n",
      "annotations bbox:  []\n",
      ">>> finding similar category:  necktie\n",
      ">>>> #WARNING necktie is missing from json annotations\n",
      "annotations datasets:  []\n",
      "annotations imgids:  []\n",
      "annotations bbox:  []\n",
      "\n",
      ">> bottle...\n",
      ">>> finding similar category:  bottle\n",
      "COCO\n",
      ">>> finding similar category:  beer_bottle\n",
      ">>>> #WARNING beer_bottle is missing from json annotations\n",
      "annotations datasets:  []\n",
      "annotations imgids:  []\n",
      "annotations bbox:  []\n",
      ">>> finding similar category:  bottle_opener\n",
      ">>>> #WARNING bottle_opener is missing from json annotations\n",
      "annotations datasets:  []\n",
      "annotations imgids:  []\n",
      "annotations bbox:  []\n",
      ">>> finding similar category:  bottle_cap\n",
      "TAO\n"
     ]
    },
    {
     "name": "stderr",
     "output_type": "stream",
     "text": [
      "\n",
      ">>> Finding TAO bottle_cap...:   1%|▎                                                | 1/155 [00:00<00:09, 16.95it/s]\u001b[A"
     ]
    },
    {
     "name": "stdout",
     "output_type": "stream",
     "text": [
      "[Errno 2] No such file or directory: 'D:/external_datasets/TAO/TAO_DIR/frames/train/HACS/Brushing_teeth_v_ghzmn2V-SDE/frame1441.jpg'\n"
     ]
    },
    {
     "name": "stderr",
     "output_type": "stream",
     "text": [
      "\n",
      "\n",
      ">>> Finding TAO bottle_cap...:   1%|▋                                                | 2/155 [00:00<00:02, 57.18it/s]\u001b[A"
     ]
    },
    {
     "name": "stdout",
     "output_type": "stream",
     "text": [
      "[Errno 2] No such file or directory: 'D:/external_datasets/TAO/TAO_DIR/frames/val/HACS/Mixing_drinks_v_JoWmkSgJ3S0_scene_0_0-4205/frame1171.jpg'\n"
     ]
    },
    {
     "name": "stderr",
     "output_type": "stream",
     "text": [
      "\n"
     ]
    },
    {
     "name": "stdout",
     "output_type": "stream",
     "text": [
      ">>> finding similar category:  cork_(bottle_plug)\n",
      ">>>> #WARNING cork_(bottle_plug) is missing from json annotations\n",
      "annotations datasets:  []\n",
      "annotations imgids:  []\n",
      "annotations bbox:  []\n",
      ">>> finding similar category:  thermos_bottle\n",
      ">>>> #WARNING thermos_bottle is missing from json annotations\n",
      "annotations datasets:  []\n",
      "annotations imgids:  []\n",
      "annotations bbox:  []\n",
      ">>> finding similar category:  water_bottle\n",
      "TAO\n"
     ]
    },
    {
     "name": "stderr",
     "output_type": "stream",
     "text": [
      "\n",
      ">>> Finding TAO wine_bottle...: 100%|██████████████████████████████████████████████████████████| 9/9 [00:00<?, ?it/s]\u001b[A\n",
      "\n",
      ">>> Finding TAO wine_bottle...: 100%|██████████████████████████████████████████████████████████| 9/9 [00:00<?, ?it/s]\u001b[A\n",
      "\n",
      ">>> Finding TAO wine_bottle...: 100%|██████████████████████████████████████████████████████████| 9/9 [00:00<?, ?it/s]\u001b[A\n",
      "\n",
      ">>> Finding TAO wine_bottle...: 100%|██████████████████████████████████████████████████████████| 9/9 [00:00<?, ?it/s]\u001b[A\n",
      "\n",
      ">>> Finding TAO wine_bottle...: 100%|██████████████████████████████████████████████████████████| 9/9 [00:00<?, ?it/s]\u001b[A\n",
      "\n",
      ">>> Finding TAO wine_bottle...: 100%|████████████████████████████████████████████████| 9/9 [00:00<00:00, 9000.65it/s]\u001b[A\n",
      "\n",
      ">>> Finding TAO wine_bottle...: 100%|██████████████████████████████████████████████████████████| 9/9 [00:00<?, ?it/s]\u001b[A\n",
      "\n",
      ">>> Finding TAO wine_bottle...: 100%|██████████████████████████████████████████████████████████| 9/9 [00:00<?, ?it/s]\u001b[A\n",
      "\n",
      ">>> Finding TAO wine_bottle...: 100%|██████████████████████████████████████████████████████████| 9/9 [00:00<?, ?it/s]\u001b[A\n",
      "  7%|█████▊                                                                         | 14/189 [00:42<08:37,  2.96s/it]"
     ]
    },
    {
     "name": "stdout",
     "output_type": "stream",
     "text": [
      ">>> finding similar category:  wine_bottle\n",
      "TAO\n",
      "[Errno 2] No such file or directory: 'D:/external_datasets/TAO/TAO_DIR/frames/train/AVA/XOe9GeojzCs_scene_8_44057-45561/frame1201.jpg'\n",
      ">>>> #WARNING: No file found for: TAO wine_bottle...\n",
      "[Errno 2] No such file or directory: 'D:/external_datasets/TAO/TAO_DIR/frames/train/AVA/XOe9GeojzCs_scene_8_44057-45561/frame1081.jpg'\n",
      ">>>> #WARNING: No file found for: TAO wine_bottle...\n",
      "[Errno 2] No such file or directory: 'D:/external_datasets/TAO/TAO_DIR/frames/train/AVA/XOe9GeojzCs_scene_8_44057-45561/frame1261.jpg'\n",
      ">>>> #WARNING: No file found for: TAO wine_bottle...\n",
      "[Errno 2] No such file or directory: 'D:/external_datasets/TAO/TAO_DIR/frames/train/AVA/XOe9GeojzCs_scene_8_44057-45561/frame1111.jpg'\n",
      ">>>> #WARNING: No file found for: TAO wine_bottle...\n",
      "[Errno 2] No such file or directory: 'D:/external_datasets/TAO/TAO_DIR/frames/train/AVA/XOe9GeojzCs_scene_8_44057-45561/frame1141.jpg'\n",
      ">>>> #WARNING: No file found for: TAO wine_bottle...\n",
      "[Errno 2] No such file or directory: 'D:/external_datasets/TAO/TAO_DIR/frames/train/AVA/XOe9GeojzCs_scene_8_44057-45561/frame1051.jpg'\n",
      ">>>> #WARNING: No file found for: TAO wine_bottle...\n",
      "[Errno 2] No such file or directory: 'D:/external_datasets/TAO/TAO_DIR/frames/train/AVA/XOe9GeojzCs_scene_8_44057-45561/frame1021.jpg'\n",
      ">>>> #WARNING: No file found for: TAO wine_bottle...\n",
      "[Errno 2] No such file or directory: 'D:/external_datasets/TAO/TAO_DIR/frames/train/AVA/XOe9GeojzCs_scene_8_44057-45561/frame1231.jpg'\n",
      ">>>> #WARNING: No file found for: TAO wine_bottle...\n",
      "[Errno 2] No such file or directory: 'D:/external_datasets/TAO/TAO_DIR/frames/train/AVA/XOe9GeojzCs_scene_8_44057-45561/frame1171.jpg'\n",
      ">>>> #WARNING: No file found for: TAO wine_bottle...\n",
      "\n",
      ">> cup...\n",
      ">>> finding similar category:  cup\n",
      "COCO\n"
     ]
    },
    {
     "name": "stderr",
     "output_type": "stream",
     "text": [
      "\n",
      ">>> Finding TAO measuring_cup...:   0%|                                                       | 0/40 [00:00<?, ?it/s]\u001b[A"
     ]
    },
    {
     "name": "stdout",
     "output_type": "stream",
     "text": [
      ">>> finding similar category:  trophy_cup\n",
      ">>>> #WARNING trophy_cup is missing from json annotations\n",
      "annotations datasets:  []\n",
      "annotations imgids:  []\n",
      "annotations bbox:  []\n",
      ">>> finding similar category:  cupcake\n",
      ">>>> #WARNING cupcake is missing from json annotations\n",
      "annotations datasets:  []\n",
      "annotations imgids:  []\n",
      "annotations bbox:  []\n",
      ">>> finding similar category:  Dixie_cup\n",
      ">>>> #WARNING Dixie_cup is missing from json annotations\n",
      "annotations datasets:  []\n",
      "annotations imgids:  []\n",
      "annotations bbox:  []\n",
      ">>> finding similar category:  measuring_cup\n",
      "TAO\n",
      "[Errno 2] No such file or directory: 'D:/external_datasets/TAO/TAO_DIR/frames/val/HACS/Baking_cookies_v_dhLfw18EP8E_scene_0_0-2102/frame1021.jpg'\n"
     ]
    },
    {
     "name": "stderr",
     "output_type": "stream",
     "text": [
      "\n"
     ]
    },
    {
     "name": "stdout",
     "output_type": "stream",
     "text": [
      ">>> finding similar category:  teacup\n",
      "TAO\n"
     ]
    },
    {
     "name": "stderr",
     "output_type": "stream",
     "text": [
      "  8%|██████▎                                                                        | 15/189 [00:46<09:19,  3.22s/it]"
     ]
    },
    {
     "name": "stdout",
     "output_type": "stream",
     "text": [
      "\n",
      ">> fork...\n",
      ">>> finding similar category:  fork\n",
      "COCO\n"
     ]
    },
    {
     "name": "stderr",
     "output_type": "stream",
     "text": [
      "  8%|██████▋                                                                        | 16/189 [00:47<07:24,  2.57s/it]"
     ]
    },
    {
     "name": "stdout",
     "output_type": "stream",
     "text": [
      ">>> finding similar category:  forklift\n",
      ">>>> #WARNING forklift is missing from json annotations\n",
      "annotations datasets:  []\n",
      "annotations imgids:  []\n",
      "annotations bbox:  []\n",
      ">>> finding similar category:  pitchfork\n",
      ">>>> #WARNING pitchfork is missing from json annotations\n",
      "annotations datasets:  []\n",
      "annotations imgids:  []\n",
      "annotations bbox:  []\n",
      "\n",
      ">> knife...\n",
      ">>> finding similar category:  knife\n",
      "COCO\n"
     ]
    },
    {
     "name": "stderr",
     "output_type": "stream",
     "text": [
      "\n",
      ">>> Finding TAO butcher_knife...:  36%|████████████████                             | 15/42 [00:00<00:00, 208.11it/s]\u001b[A"
     ]
    },
    {
     "name": "stdout",
     "output_type": "stream",
     "text": [
      ">>> finding similar category:  butcher_knife\n",
      "TAO\n",
      "[Errno 2] No such file or directory: 'D:/external_datasets/TAO/TAO_DIR/frames/train/YFCC100M/v_23584c2660351f12cffe1399c47ce870/frame1141.jpeg'\n"
     ]
    },
    {
     "name": "stderr",
     "output_type": "stream",
     "text": [
      "\n",
      "\n",
      ">>> Finding TAO butcher_knife...:  38%|█████████████████▏                           | 16/42 [00:00<00:00, 228.71it/s]\u001b[A"
     ]
    },
    {
     "name": "stdout",
     "output_type": "stream",
     "text": [
      "[Errno 2] No such file or directory: 'D:/external_datasets/TAO/TAO_DIR/frames/train/YFCC100M/v_23584c2660351f12cffe1399c47ce870/frame1231.jpeg'\n"
     ]
    },
    {
     "name": "stderr",
     "output_type": "stream",
     "text": [
      "\n",
      "\n",
      ">>> Finding TAO butcher_knife...:  43%|███████████████████▎                         | 18/42 [00:00<00:00, 276.95it/s]\u001b[A"
     ]
    },
    {
     "name": "stdout",
     "output_type": "stream",
     "text": [
      "[Errno 2] No such file or directory: 'D:/external_datasets/TAO/TAO_DIR/frames/train/YFCC100M/v_23584c2660351f12cffe1399c47ce870/frame1201.jpeg'\n"
     ]
    },
    {
     "name": "stderr",
     "output_type": "stream",
     "text": [
      "\n",
      "\n",
      ">>> Finding TAO butcher_knife...:  45%|████████████████████▎                        | 19/42 [00:00<00:00, 211.11it/s]\u001b[A"
     ]
    },
    {
     "name": "stdout",
     "output_type": "stream",
     "text": [
      "[Errno 2] No such file or directory: 'D:/external_datasets/TAO/TAO_DIR/frames/train/YFCC100M/v_23584c2660351f12cffe1399c47ce870/frame0751.jpeg'\n",
      "[Errno 2] No such file or directory: 'D:/external_datasets/TAO/TAO_DIR/frames/val/HACS/Preparing_pasta_v_IzyCyVQrmkw_scene_0_0-2915/frame1081.jpg'\n"
     ]
    },
    {
     "name": "stderr",
     "output_type": "stream",
     "text": [
      "\n",
      "\n",
      ">>> Finding TAO butcher_knife...:  55%|████████████████████████▋                    | 23/42 [00:00<00:00, 242.00it/s]\u001b[A\n",
      "  9%|███████                                                                        | 17/189 [00:49<07:25,  2.59s/it]"
     ]
    },
    {
     "name": "stdout",
     "output_type": "stream",
     "text": [
      ">>> finding similar category:  pocketknife\n",
      ">>>> #WARNING pocketknife is missing from json annotations\n",
      "annotations datasets:  []\n",
      "annotations imgids:  []\n",
      "annotations bbox:  []\n",
      ">>> finding similar category:  steak_knife\n",
      ">>>> #WARNING steak_knife is missing from json annotations\n",
      "annotations datasets:  []\n",
      "annotations imgids:  []\n",
      "annotations bbox:  []\n",
      "\n",
      ">> spoon...\n",
      ">>> finding similar category:  spoon\n",
      "COCO\n"
     ]
    },
    {
     "name": "stderr",
     "output_type": "stream",
     "text": [
      "\n",
      ">>> Finding TAO wooden_spoon...:  72%|█████████████████████████████████▏            | 26/36 [00:00<00:00, 346.68it/s]\u001b[A"
     ]
    },
    {
     "name": "stdout",
     "output_type": "stream",
     "text": [
      ">>> finding similar category:  soupspoon\n",
      ">>>> #WARNING soupspoon is missing from json annotations\n",
      "annotations datasets:  []\n",
      "annotations imgids:  []\n",
      "annotations bbox:  []\n",
      ">>> finding similar category:  wooden_spoon\n",
      "TAO\n",
      "[Errno 2] No such file or directory: 'D:/external_datasets/TAO/TAO_DIR/frames/val/YFCC100M/v_460a1314da9bd32cbd14a2b3414f30/frame0865.jpeg'\n",
      "[Errno 2] No such file or directory: 'D:/external_datasets/TAO/TAO_DIR/frames/val/YFCC100M/v_460a1314da9bd32cbd14a2b3414f30/frame1225.jpeg'\n"
     ]
    },
    {
     "name": "stderr",
     "output_type": "stream",
     "text": [
      "\n",
      "\n",
      ">>> Finding TAO wooden_spoon...:  75%|██████████████████████████████████▌           | 27/36 [00:00<00:00, 333.28it/s]\u001b[A\n",
      "\n",
      ">>> Finding TAO wooden_spoon...:  81%|█████████████████████████████████████         | 29/36 [00:00<00:00, 366.98it/s]\u001b[A\n"
     ]
    },
    {
     "name": "stdout",
     "output_type": "stream",
     "text": [
      "[Errno 2] No such file or directory: 'D:/external_datasets/TAO/TAO_DIR/frames/val/YFCC100M/v_460a1314da9bd32cbd14a2b3414f30/frame1009.jpeg'\n"
     ]
    },
    {
     "name": "stderr",
     "output_type": "stream",
     "text": [
      "\n",
      ">>> Finding TAO wooden_spoon...:  83%|██████████████████████████████████████▎       | 30/36 [00:00<00:00, 291.32it/s]\u001b[A"
     ]
    },
    {
     "name": "stdout",
     "output_type": "stream",
     "text": [
      "[Errno 2] No such file or directory: 'D:/external_datasets/TAO/TAO_DIR/frames/val/YFCC100M/v_460a1314da9bd32cbd14a2b3414f30/frame1129.jpeg'\n",
      "[Errno 2] No such file or directory: 'D:/external_datasets/TAO/TAO_DIR/frames/val/YFCC100M/v_460a1314da9bd32cbd14a2b3414f30/frame0913.jpeg'\n"
     ]
    },
    {
     "name": "stderr",
     "output_type": "stream",
     "text": [
      "\n",
      "\n",
      ">>> Finding TAO wooden_spoon...:  89%|████████████████████████████████████████▉     | 32/36 [00:00<00:00, 336.92it/s]\u001b[A\n",
      "\n",
      ">>> Finding TAO wooden_spoon...: 100%|██████████████████████████████████████████████| 36/36 [00:00<00:00, 467.28it/s]\u001b[A\n",
      " 10%|███████▌                                                                       | 18/189 [00:52<07:14,  2.54s/it]"
     ]
    },
    {
     "name": "stdout",
     "output_type": "stream",
     "text": [
      "[Errno 2] No such file or directory: 'D:/external_datasets/TAO/TAO_DIR/frames/val/YFCC100M/v_460a1314da9bd32cbd14a2b3414f30/frame0769.jpeg'\n",
      ">>>> #WARNING: No file found for: TAO wooden_spoon...\n",
      "\n",
      ">> bowl...\n",
      ">>> finding similar category:  bowl\n",
      "COCO\n",
      "[Errno 2] No such file or directory: 'D:/external_datasets/COCO/2017/images/val2017/000000157418.jpg'\n"
     ]
    },
    {
     "name": "stderr",
     "output_type": "stream",
     "text": [
      "\n",
      ">>> Finding COCO bowl...:   0%|                                                            | 0/14984 [00:00<?, ?it/s]\u001b[A\n",
      "\n",
      ">>> Finding TAO sugar_bowl...:  19%|█████████▍                                        | 3/16 [00:00<00:00, 99.93it/s]\u001b[A"
     ]
    },
    {
     "name": "stdout",
     "output_type": "stream",
     "text": [
      ">>> finding similar category:  pipe_bowl\n",
      ">>>> #WARNING pipe_bowl is missing from json annotations\n",
      "annotations datasets:  []\n",
      "annotations imgids:  []\n",
      "annotations bbox:  []\n",
      ">>> finding similar category:  bowler_hat\n",
      ">>>> #WARNING bowler_hat is missing from json annotations\n",
      "annotations datasets:  []\n",
      "annotations imgids:  []\n",
      "annotations bbox:  []\n",
      ">>> finding similar category:  bowling_ball\n",
      ">>>> #WARNING bowling_ball is missing from json annotations\n",
      "annotations datasets:  []\n",
      "annotations imgids:  []\n",
      "annotations bbox:  []\n",
      ">>> finding similar category:  bowling_pin\n",
      ">>>> #WARNING bowling_pin is missing from json annotations\n",
      "annotations datasets:  []\n",
      "annotations imgids:  []\n",
      "annotations bbox:  []\n",
      ">>> finding similar category:  fishbowl\n",
      ">>>> #WARNING fishbowl is missing from json annotations\n",
      "annotations datasets:  []\n",
      "annotations imgids:  []\n",
      "annotations bbox:  []\n",
      ">>> finding similar category:  soup_bowl\n",
      ">>>> #WARNING soup_bowl is missing from json annotations\n",
      "annotations datasets:  []\n",
      "annotations imgids:  []\n",
      "annotations bbox:  []\n",
      ">>> finding similar category:  sugar_bowl\n",
      "TAO\n",
      "[Errno 2] No such file or directory: 'D:/external_datasets/TAO/TAO_DIR/frames/val/AVA/J4bt4y9ShTA_scene_8_41065-42264/frame1076.jpg'\n"
     ]
    },
    {
     "name": "stderr",
     "output_type": "stream",
     "text": [
      "\n",
      "\n",
      ">>> Finding TAO sugar_bowl...:  25%|████████████▎                                    | 4/16 [00:00<00:00, 129.15it/s]\u001b[A"
     ]
    },
    {
     "name": "stdout",
     "output_type": "stream",
     "text": [
      "[Errno 2] No such file or directory: 'D:/external_datasets/TAO/TAO_DIR/frames/val/AVA/J4bt4y9ShTA_scene_8_41065-42264/frame1051.jpg'\n"
     ]
    },
    {
     "name": "stderr",
     "output_type": "stream",
     "text": [
      "\n",
      " 10%|███████▉                                                                       | 19/189 [00:55<07:34,  2.67s/it]"
     ]
    },
    {
     "name": "stdout",
     "output_type": "stream",
     "text": [
      "\n",
      ">> apple...\n",
      ">>> finding similar category:  apple\n",
      "COCO\n"
     ]
    },
    {
     "name": "stderr",
     "output_type": "stream",
     "text": [
      " 11%|████████▎                                                                      | 20/189 [00:56<06:03,  2.15s/it]"
     ]
    },
    {
     "name": "stdout",
     "output_type": "stream",
     "text": [
      ">>> finding similar category:  apple_juice\n",
      ">>>> #WARNING apple_juice is missing from json annotations\n",
      "annotations datasets:  []\n",
      "annotations imgids:  []\n",
      "annotations bbox:  []\n",
      ">>> finding similar category:  applesauce\n",
      ">>>> #WARNING applesauce is missing from json annotations\n",
      "annotations datasets:  []\n",
      "annotations imgids:  []\n",
      "annotations bbox:  []\n",
      ">>> finding similar category:  pineapple\n",
      ">>>> #WARNING pineapple is missing from json annotations\n",
      "annotations datasets:  []\n",
      "annotations imgids:  []\n",
      "annotations bbox:  []\n",
      "\n",
      ">> orange...\n",
      ">>> finding similar category:  orange\n",
      "COCO\n",
      ">>> finding similar category:  mandarin_orange\n",
      ">>>> #WARNING mandarin_orange is missing from json annotations\n",
      "annotations datasets:  []\n",
      "annotations imgids:  []\n",
      "annotations bbox:  []\n",
      ">>> finding similar category:  orange_(fruit)\n",
      "TAO\n"
     ]
    },
    {
     "name": "stderr",
     "output_type": "stream",
     "text": [
      " 11%|████████▊                                                                      | 21/189 [00:58<06:11,  2.21s/it]"
     ]
    },
    {
     "name": "stdout",
     "output_type": "stream",
     "text": [
      ">>> finding similar category:  orange_juice\n",
      ">>>> #WARNING orange_juice is missing from json annotations\n",
      "annotations datasets:  []\n",
      "annotations imgids:  []\n",
      "annotations bbox:  []\n",
      "\n",
      ">> cake...\n",
      ">>> finding similar category:  cake\n",
      "COCO\n"
     ]
    },
    {
     "name": "stderr",
     "output_type": "stream",
     "text": [
      " 12%|█████████▏                                                                     | 22/189 [00:59<05:09,  1.85s/it]"
     ]
    },
    {
     "name": "stdout",
     "output_type": "stream",
     "text": [
      ">>> finding similar category:  birthday_cake\n",
      ">>>> #WARNING birthday_cake is missing from json annotations\n",
      "annotations datasets:  []\n",
      "annotations imgids:  []\n",
      "annotations bbox:  []\n",
      ">>> finding similar category:  chocolate_cake\n",
      ">>>> #WARNING chocolate_cake is missing from json annotations\n",
      "annotations datasets:  []\n",
      "annotations imgids:  []\n",
      "annotations bbox:  []\n",
      ">>> finding similar category:  cupcake\n",
      ">>>> #WARNING cupcake is missing from json annotations\n",
      "annotations datasets:  []\n",
      "annotations imgids:  []\n",
      "annotations bbox:  []\n",
      ">>> finding similar category:  pancake\n",
      ">>>> #WARNING pancake is missing from json annotations\n",
      "annotations datasets:  []\n",
      "annotations imgids:  []\n",
      "annotations bbox:  []\n",
      ">>> finding similar category:  wedding_cake\n",
      ">>>> #WARNING wedding_cake is missing from json annotations\n",
      "annotations datasets:  []\n",
      "annotations imgids:  []\n",
      "annotations bbox:  []\n",
      "\n",
      ">> chair...\n",
      ">>> finding similar category:  chair\n",
      "COCO\n",
      ">>> finding similar category:  armchair\n",
      "TAO\n"
     ]
    },
    {
     "name": "stderr",
     "output_type": "stream",
     "text": [
      " 12%|█████████▌                                                                     | 23/189 [01:01<05:36,  2.03s/it]"
     ]
    },
    {
     "name": "stdout",
     "output_type": "stream",
     "text": [
      ">>> finding similar category:  deck_chair\n",
      ">>>> #WARNING deck_chair is missing from json annotations\n",
      "annotations datasets:  []\n",
      "annotations imgids:  []\n",
      "annotations bbox:  []\n",
      ">>> finding similar category:  electric_chair\n",
      ">>>> #WARNING electric_chair is missing from json annotations\n",
      "annotations datasets:  []\n",
      "annotations imgids:  []\n",
      "annotations bbox:  []\n",
      ">>> finding similar category:  folding_chair\n",
      ">>>> #WARNING folding_chair is missing from json annotations\n",
      "annotations datasets:  []\n",
      "annotations imgids:  []\n",
      "annotations bbox:  []\n",
      ">>> finding similar category:  highchair\n",
      ">>>> #WARNING highchair is missing from json annotations\n",
      "annotations datasets:  []\n",
      "annotations imgids:  []\n",
      "annotations bbox:  []\n",
      ">>> finding similar category:  rocking_chair\n",
      ">>>> #WARNING rocking_chair is missing from json annotations\n",
      "annotations datasets:  []\n",
      "annotations imgids:  []\n",
      "annotations bbox:  []\n",
      ">>> finding similar category:  wheelchair\n",
      ">>>> #WARNING wheelchair is missing from json annotations\n",
      "annotations datasets:  []\n",
      "annotations imgids:  []\n",
      "annotations bbox:  []\n",
      ">>> finding similar category:  wing_chair\n",
      ">>>> #WARNING wing_chair is missing from json annotations\n",
      "annotations datasets:  []\n",
      "annotations imgids:  []\n",
      "annotations bbox:  []\n",
      "\n",
      ">> bed...\n",
      ">>> finding similar category:  bed\n",
      "COCO\n"
     ]
    },
    {
     "name": "stderr",
     "output_type": "stream",
     "text": [
      "\n",
      ">>> Finding COCO bed...:   0%|                                                              | 0/4355 [00:00<?, ?it/s]\u001b[A"
     ]
    },
    {
     "name": "stdout",
     "output_type": "stream",
     "text": [
      "[Errno 2] No such file or directory: 'D:/external_datasets/COCO/2017/images/val2017/000000222299.jpg'\n"
     ]
    },
    {
     "name": "stderr",
     "output_type": "stream",
     "text": [
      "\n",
      "\n",
      ">>> Finding TAO bedspread...:   0%|                                                          | 0/111 [00:00<?, ?it/s]\u001b[A"
     ]
    },
    {
     "name": "stdout",
     "output_type": "stream",
     "text": [
      ">>> finding similar category:  bedspread\n",
      "TAO\n",
      "[Errno 2] No such file or directory: 'D:/external_datasets/TAO/TAO_DIR/frames/val/HACS/Using_the_monkey_bar_v_J2qrTRdu9ik/frame2461.jpg'\n"
     ]
    },
    {
     "name": "stderr",
     "output_type": "stream",
     "text": [
      "\n",
      "\n",
      ">>> Finding TAO bedspread...:   1%|▍                                                 | 1/111 [00:00<00:05, 21.27it/s]\u001b[A\n"
     ]
    },
    {
     "name": "stdout",
     "output_type": "stream",
     "text": [
      "[Errno 2] No such file or directory: 'D:/external_datasets/TAO/TAO_DIR/frames/val/HACS/Using_the_monkey_bar_v_J2qrTRdu9ik/frame2311.jpg'\n"
     ]
    },
    {
     "name": "stderr",
     "output_type": "stream",
     "text": [
      "\n",
      ">>> Finding TAO bedspread...:   2%|▉                                                 | 2/111 [00:00<00:02, 42.55it/s]\u001b[A\n",
      "\n",
      ">>> Finding TAO bedspread...:   3%|█▎                                                | 3/111 [00:00<00:01, 73.17it/s]\u001b[A"
     ]
    },
    {
     "name": "stdout",
     "output_type": "stream",
     "text": [
      "[Errno 2] No such file or directory: 'D:/external_datasets/TAO/TAO_DIR/frames/val/HACS/Using_the_monkey_bar_v_J2qrTRdu9ik/frame2611.jpg'\n",
      "[Errno 2] No such file or directory: 'D:/external_datasets/TAO/TAO_DIR/frames/val/HACS/Using_the_monkey_bar_v_J2qrTRdu9ik/frame2191.jpg'\n"
     ]
    },
    {
     "name": "stderr",
     "output_type": "stream",
     "text": [
      "\n",
      "\n",
      ">>> Finding TAO bedspread...:   4%|█▊                                                | 4/111 [00:00<00:01, 68.96it/s]\u001b[A\n"
     ]
    },
    {
     "name": "stdout",
     "output_type": "stream",
     "text": [
      "[Errno 2] No such file or directory: 'D:/external_datasets/TAO/TAO_DIR/frames/val/HACS/Using_the_monkey_bar_v_J2qrTRdu9ik/frame2251.jpg'\n"
     ]
    },
    {
     "name": "stderr",
     "output_type": "stream",
     "text": [
      "\n",
      ">>> Finding TAO bedspread...:   5%|██▎                                               | 5/111 [00:00<00:01, 76.87it/s]\u001b[A\n",
      " 13%|██████████                                                                     | 24/189 [01:04<06:03,  2.20s/it]"
     ]
    },
    {
     "name": "stdout",
     "output_type": "stream",
     "text": [
      "[Errno 2] No such file or directory: 'D:/external_datasets/TAO/TAO_DIR/frames/val/HACS/Using_the_monkey_bar_v_J2qrTRdu9ik/frame2671.jpg'\n",
      ">>> finding similar category:  bunk_bed\n",
      ">>>> #WARNING bunk_bed is missing from json annotations\n",
      "annotations datasets:  []\n",
      "annotations imgids:  []\n",
      "annotations bbox:  []\n",
      ">>> finding similar category:  sofa_bed\n",
      ">>>> #WARNING sofa_bed is missing from json annotations\n",
      "annotations datasets:  []\n",
      "annotations imgids:  []\n",
      "annotations bbox:  []\n",
      "\n",
      ">> toilet...\n",
      ">>> finding similar category:  toilet\n",
      "COCO\n"
     ]
    },
    {
     "name": "stderr",
     "output_type": "stream",
     "text": [
      " 13%|██████████▍                                                                    | 25/189 [01:05<05:04,  1.86s/it]"
     ]
    },
    {
     "name": "stdout",
     "output_type": "stream",
     "text": [
      ">>> finding similar category:  toilet_tissue\n",
      ">>>> #WARNING toilet_tissue is missing from json annotations\n",
      "annotations datasets:  []\n",
      "annotations imgids:  []\n",
      "annotations bbox:  []\n",
      "\n",
      ">> laptop...\n",
      ">>> finding similar category:  laptop\n",
      "COCO\n"
     ]
    },
    {
     "name": "stderr",
     "output_type": "stream",
     "text": [
      "\n",
      ">>> Finding TAO laptop_computer...:   0%|                                                    | 0/305 [00:00<?, ?it/s]\u001b[A"
     ]
    },
    {
     "name": "stdout",
     "output_type": "stream",
     "text": [
      ">>> finding similar category:  laptop_computer\n",
      "TAO\n",
      "[Errno 2] No such file or directory: 'D:/external_datasets/TAO/TAO_DIR/frames/val/Charades/0J1AQ/frame1161.jpg'\n"
     ]
    },
    {
     "name": "stderr",
     "output_type": "stream",
     "text": [
      "\n",
      " 14%|██████████▊                                                                    | 26/189 [01:08<05:47,  2.13s/it]"
     ]
    },
    {
     "name": "stdout",
     "output_type": "stream",
     "text": [
      "\n",
      ">> mouse...\n",
      ">>> finding similar category:  mouse\n",
      "COCO\n"
     ]
    },
    {
     "name": "stderr",
     "output_type": "stream",
     "text": [
      "\n",
      ">>> Finding COCO mouse...:   0%|                                                            | 0/2368 [00:00<?, ?it/s]\u001b[A"
     ]
    },
    {
     "name": "stdout",
     "output_type": "stream",
     "text": [
      "[Errno 2] No such file or directory: 'D:/external_datasets/COCO/2017/images/val2017/000000248314.jpg'\n"
     ]
    },
    {
     "name": "stderr",
     "output_type": "stream",
     "text": [
      "\n"
     ]
    },
    {
     "name": "stdout",
     "output_type": "stream",
     "text": [
      ">>> finding similar category:  mouse_(animal_rodent)\n",
      ">>>> #WARNING mouse_(animal_rodent) is missing from json annotations\n",
      "annotations datasets:  []\n",
      "annotations imgids:  []\n",
      "annotations bbox:  []\n",
      ">>> finding similar category:  mouse_(computer_equipment)\n",
      "TAO\n"
     ]
    },
    {
     "name": "stderr",
     "output_type": "stream",
     "text": [
      " 14%|███████████▎                                                                   | 27/189 [01:10<05:53,  2.18s/it]\n",
      ">>> Finding COCO remote...:   0%|                                                           | 0/5986 [00:00<?, ?it/s]\u001b[A"
     ]
    },
    {
     "name": "stdout",
     "output_type": "stream",
     "text": [
      ">>> finding similar category:  mousepad\n",
      ">>>> #WARNING mousepad is missing from json annotations\n",
      "annotations datasets:  []\n",
      "annotations imgids:  []\n",
      "annotations bbox:  []\n",
      "\n",
      ">> remote...\n",
      ">>> finding similar category:  remote\n",
      "COCO\n",
      "[Errno 2] No such file or directory: 'D:/external_datasets/COCO/2017/images/val2017/000000036844.jpg'\n"
     ]
    },
    {
     "name": "stderr",
     "output_type": "stream",
     "text": [
      ">>> Finding COCO remote...:   0%|                                                           | 0/5986 [00:00<?, ?it/s]\n"
     ]
    },
    {
     "name": "stdout",
     "output_type": "stream",
     "text": [
      ">>> finding similar category:  remote_control\n",
      "TAO\n"
     ]
    },
    {
     "name": "stderr",
     "output_type": "stream",
     "text": [
      " 15%|███████████▋                                                                   | 28/189 [01:13<06:01,  2.25s/it]"
     ]
    },
    {
     "name": "stdout",
     "output_type": "stream",
     "text": [
      "\n",
      ">> keyboard...\n",
      ">>> finding similar category:  keyboard\n",
      "COCO\n"
     ]
    },
    {
     "name": "stderr",
     "output_type": "stream",
     "text": [
      "\n",
      ">>> Finding COCO keyboard...:   0%|                                                         | 0/3008 [00:00<?, ?it/s]\u001b[A"
     ]
    },
    {
     "name": "stdout",
     "output_type": "stream",
     "text": [
      "[Errno 2] No such file or directory: 'D:/external_datasets/COCO/2017/images/val2017/000000570782.jpg'\n",
      ">>> finding similar category:  computer_keyboard\n",
      "TAO\n"
     ]
    },
    {
     "name": "stderr",
     "output_type": "stream",
     "text": [
      "\n",
      " 15%|████████████                                                                   | 29/189 [01:15<06:01,  2.26s/it]"
     ]
    },
    {
     "name": "stdout",
     "output_type": "stream",
     "text": [
      "\n",
      ">> microwave...\n",
      ">>> finding similar category:  microwave\n",
      "COCO\n"
     ]
    },
    {
     "name": "stderr",
     "output_type": "stream",
     "text": [
      " 16%|████████████▌                                                                  | 30/189 [01:16<05:01,  1.90s/it]"
     ]
    },
    {
     "name": "stdout",
     "output_type": "stream",
     "text": [
      ">>> finding similar category:  microwave_oven\n",
      ">>>> #WARNING microwave_oven is missing from json annotations\n",
      "annotations datasets:  []\n",
      "annotations imgids:  []\n",
      "annotations bbox:  []\n",
      "\n",
      ">> oven...\n",
      ">>> finding similar category:  oven\n",
      "COCO\n"
     ]
    },
    {
     "name": "stderr",
     "output_type": "stream",
     "text": [
      " 16%|████████████▉                                                                  | 31/189 [01:17<04:15,  1.61s/it]"
     ]
    },
    {
     "name": "stdout",
     "output_type": "stream",
     "text": [
      ">>> finding similar category:  Dutch_oven\n",
      ">>>> #WARNING Dutch_oven is missing from json annotations\n",
      "annotations datasets:  []\n",
      "annotations imgids:  []\n",
      "annotations bbox:  []\n",
      ">>> finding similar category:  microwave_oven\n",
      ">>>> #WARNING microwave_oven is missing from json annotations\n",
      "annotations datasets:  []\n",
      "annotations imgids:  []\n",
      "annotations bbox:  []\n",
      ">>> finding similar category:  toaster_oven\n",
      ">>>> #WARNING toaster_oven is missing from json annotations\n",
      "annotations datasets:  []\n",
      "annotations imgids:  []\n",
      "annotations bbox:  []\n",
      "\n",
      ">> toaster...\n",
      ">>> finding similar category:  toaster\n",
      "COCO\n"
     ]
    },
    {
     "name": "stderr",
     "output_type": "stream",
     "text": [
      " 17%|█████████████▍                                                                 | 32/189 [01:18<03:33,  1.36s/it]\n",
      ">>> Finding COCO sink...:   0%|                                                             | 0/5835 [00:00<?, ?it/s]\u001b[A"
     ]
    },
    {
     "name": "stdout",
     "output_type": "stream",
     "text": [
      ">>> finding similar category:  toaster_oven\n",
      ">>>> #WARNING toaster_oven is missing from json annotations\n",
      "annotations datasets:  []\n",
      "annotations imgids:  []\n",
      "annotations bbox:  []\n",
      "\n",
      ">> sink...\n",
      ">>> finding similar category:  sink\n",
      "COCO\n",
      "[Errno 2] No such file or directory: 'D:/external_datasets/COCO/2017/images/val2017/000000195165.jpg'\n"
     ]
    },
    {
     "name": "stderr",
     "output_type": "stream",
     "text": [
      "\n",
      "\n",
      ">>> Finding COCO sink...:   0%|                                                     | 1/5835 [00:00<04:16, 22.73it/s]\u001b[A"
     ]
    },
    {
     "name": "stdout",
     "output_type": "stream",
     "text": [
      "[Errno 2] No such file or directory: 'D:/external_datasets/COCO/2017/images/val2017/000000066231.jpg'\n"
     ]
    },
    {
     "name": "stderr",
     "output_type": "stream",
     "text": [
      "\n",
      " 17%|█████████████▊                                                                 | 33/189 [01:19<03:15,  1.25s/it]\n",
      ">>> Finding COCO book...:   0%|                                                            | 0/25876 [00:00<?, ?it/s]\u001b[A"
     ]
    },
    {
     "name": "stdout",
     "output_type": "stream",
     "text": [
      ">>> finding similar category:  kitchen_sink\n",
      ">>>> #WARNING kitchen_sink is missing from json annotations\n",
      "annotations datasets:  []\n",
      "annotations imgids:  []\n",
      "annotations bbox:  []\n",
      "\n",
      ">> book...\n",
      ">>> finding similar category:  book\n",
      "COCO\n",
      "[Errno 2] No such file or directory: 'D:/external_datasets/COCO/2017/images/val2017/000000366884.jpg'\n"
     ]
    },
    {
     "name": "stderr",
     "output_type": "stream",
     "text": [
      "\n"
     ]
    },
    {
     "name": "stdout",
     "output_type": "stream",
     "text": [
      ">>> finding similar category:  book_bag\n",
      ">>>> #WARNING book_bag is missing from json annotations\n",
      "annotations datasets:  []\n",
      "annotations imgids:  []\n",
      "annotations bbox:  []\n",
      ">>> finding similar category:  bookcase\n",
      ">>>> #WARNING bookcase is missing from json annotations\n",
      "annotations datasets:  []\n",
      "annotations imgids:  []\n",
      "annotations bbox:  []\n",
      ">>> finding similar category:  booklet\n",
      "TAO\n",
      ">>> finding similar category:  bookmark\n",
      ">>>> #WARNING bookmark is missing from json annotations\n",
      "annotations datasets:  []\n",
      "annotations imgids:  []\n",
      "annotations bbox:  []\n",
      ">>> finding similar category:  checkbook\n",
      ">>>> #WARNING checkbook is missing from json annotations\n",
      "annotations datasets:  []\n",
      "annotations imgids:  []\n",
      "annotations bbox:  []\n",
      ">>> finding similar category:  comic_book\n",
      ">>>> #WARNING comic_book is missing from json annotations\n",
      "annotations datasets:  []\n",
      "annotations imgids:  []\n",
      "annotations bbox:  []\n",
      ">>> finding similar category:  hardback_book\n",
      ">>>> #WARNING hardback_book is missing from json annotations\n",
      "annotations datasets:  []\n",
      "annotations imgids:  []\n",
      "annotations bbox:  []\n",
      ">>> finding similar category:  notebook\n",
      "TAO\n"
     ]
    },
    {
     "name": "stderr",
     "output_type": "stream",
     "text": [
      " 18%|██████████████▏                                                                | 34/189 [01:23<05:38,  2.18s/it]"
     ]
    },
    {
     "name": "stdout",
     "output_type": "stream",
     "text": [
      ">>> finding similar category:  paperback_book\n",
      ">>>> #WARNING paperback_book is missing from json annotations\n",
      "annotations datasets:  []\n",
      "annotations imgids:  []\n",
      "annotations bbox:  []\n",
      ">>> finding similar category:  phonebook\n",
      ">>>> #WARNING phonebook is missing from json annotations\n",
      "annotations datasets:  []\n",
      "annotations imgids:  []\n",
      "annotations bbox:  []\n",
      "\n",
      ">> clock...\n",
      ">>> finding similar category:  clock\n",
      "COCO\n"
     ]
    },
    {
     "name": "stderr",
     "output_type": "stream",
     "text": [
      "\n",
      ">>> Finding COCO clock...:   0%|                                                            | 0/6601 [00:00<?, ?it/s]\u001b[A\n",
      "\n",
      ">>> Finding COCO clock...:   0%|                                                            | 0/6601 [00:00<?, ?it/s]\u001b[A"
     ]
    },
    {
     "name": "stdout",
     "output_type": "stream",
     "text": [
      "[Errno 2] No such file or directory: 'D:/external_datasets/COCO/2017/images/val2017/000000015956.jpg'\n",
      "[Errno 2] No such file or directory: 'D:/external_datasets/COCO/2017/images/val2017/000000327592.jpg'\n"
     ]
    },
    {
     "name": "stderr",
     "output_type": "stream",
     "text": [
      ">>> Finding COCO clock...:   0%|                                                    | 1/6601 [00:00<06:39, 16.53it/s]\n",
      " 19%|██████████████▋                                                                | 35/189 [01:24<04:52,  1.90s/it]\n",
      ">>> Finding COCO apple...:   0%|                                                            | 0/6090 [00:00<?, ?it/s]\u001b[A"
     ]
    },
    {
     "name": "stdout",
     "output_type": "stream",
     "text": [
      ">>> finding similar category:  alarm_clock\n",
      ">>>> #WARNING alarm_clock is missing from json annotations\n",
      "annotations datasets:  []\n",
      "annotations imgids:  []\n",
      "annotations bbox:  []\n",
      ">>> finding similar category:  clock_tower\n",
      ">>>> #WARNING clock_tower is missing from json annotations\n",
      "annotations datasets:  []\n",
      "annotations imgids:  []\n",
      "annotations bbox:  []\n",
      ">>> finding similar category:  wall_clock\n",
      ">>>> #WARNING wall_clock is missing from json annotations\n",
      "annotations datasets:  []\n",
      "annotations imgids:  []\n",
      "annotations bbox:  []\n",
      "\n",
      ">> antenna...\n",
      ">>> finding similar category:  antenna\n",
      ">>>> #WARNING antenna is missing from json annotations\n",
      "annotations datasets:  []\n",
      "annotations imgids:  []\n",
      "annotations bbox:  []\n",
      ">>> finding similar category:  dish_antenna\n",
      ">>>> #WARNING dish_antenna is missing from json annotations\n",
      "annotations datasets:  []\n",
      "annotations imgids:  []\n",
      "annotations bbox:  []\n",
      "\n",
      ">> apple...\n",
      ">>> finding similar category:  apple\n",
      "COCO\n",
      "[Errno 2] No such file or directory: 'D:/external_datasets/COCO/2017/images/val2017/000000280891.jpg'\n"
     ]
    },
    {
     "name": "stderr",
     "output_type": "stream",
     "text": [
      "\n",
      " 20%|███████████████▍                                                               | 37/189 [01:25<03:44,  1.48s/it]"
     ]
    },
    {
     "name": "stdout",
     "output_type": "stream",
     "text": [
      ">>> finding similar category:  apple_juice\n",
      ">>>> #WARNING apple_juice is missing from json annotations\n",
      "annotations datasets:  []\n",
      "annotations imgids:  []\n",
      "annotations bbox:  []\n",
      ">>> finding similar category:  applesauce\n",
      ">>>> #WARNING applesauce is missing from json annotations\n",
      "annotations datasets:  []\n",
      "annotations imgids:  []\n",
      "annotations bbox:  []\n",
      ">>> finding similar category:  pineapple\n",
      ">>>> #WARNING pineapple is missing from json annotations\n",
      "annotations datasets:  []\n",
      "annotations imgids:  []\n",
      "annotations bbox:  []\n",
      "\n",
      ">> ax...\n",
      ">>> finding similar category:  ax\n",
      "TAO\n"
     ]
    },
    {
     "name": "stderr",
     "output_type": "stream",
     "text": [
      "\n",
      ">>> Finding TAO ax...:   0%|                                                                 | 0/174 [00:00<?, ?it/s]\u001b[A"
     ]
    },
    {
     "name": "stdout",
     "output_type": "stream",
     "text": [
      "[Errno 2] No such file or directory: 'D:/external_datasets/TAO/TAO_DIR/frames/val/HACS/Chopping_wood_v_DNInECGcDUU_scene_0_24-1413/frame1171.jpg'\n"
     ]
    },
    {
     "name": "stderr",
     "output_type": "stream",
     "text": [
      "\n"
     ]
    },
    {
     "name": "stdout",
     "output_type": "stream",
     "text": [
      ">>> finding similar category:  cab_(taxi)\n",
      "TAO\n"
     ]
    },
    {
     "name": "stderr",
     "output_type": "stream",
     "text": [
      "\n",
      ">>> Finding TAO cab_(taxi)...:   3%|█▌                                             | 27/837 [00:00<00:03, 217.74it/s]\u001b[A"
     ]
    },
    {
     "name": "stdout",
     "output_type": "stream",
     "text": [
      "[Errno 2] No such file or directory: 'D:/external_datasets/TAO/TAO_DIR/frames/val/BDD/b3b94eea-b06bca81/frame1171.jpg'\n"
     ]
    },
    {
     "name": "stderr",
     "output_type": "stream",
     "text": [
      "\n",
      "\n",
      ">>> Finding TAO cab_(taxi)...:   3%|█▌                                             | 28/837 [00:00<00:02, 271.75it/s]\u001b[A"
     ]
    },
    {
     "name": "stdout",
     "output_type": "stream",
     "text": [
      "[Errno 2] No such file or directory: 'D:/external_datasets/TAO/TAO_DIR/frames/train/BDD/b1d0a191-03dcecc2/frame1021.jpg'\n"
     ]
    },
    {
     "name": "stderr",
     "output_type": "stream",
     "text": [
      "\n",
      "\n",
      ">>> Finding TAO cab_(taxi)...:   3%|█▋                                             | 29/837 [00:00<00:02, 281.52it/s]\u001b[A"
     ]
    },
    {
     "name": "stdout",
     "output_type": "stream",
     "text": [
      "[Errno 2] No such file or directory: 'D:/external_datasets/TAO/TAO_DIR/frames/train/BDD/b27369f3-9b9598f4/frame1051.jpg'\n",
      ">>> finding similar category:  saxophone\n",
      "TAO\n"
     ]
    },
    {
     "name": "stderr",
     "output_type": "stream",
     "text": [
      "\n",
      "\n",
      ">>> Finding TAO saxophone...:   0%|                                                           | 0/60 [00:00<?, ?it/s]\u001b[A"
     ]
    },
    {
     "name": "stdout",
     "output_type": "stream",
     "text": [
      "[Errno 2] No such file or directory: 'D:/external_datasets/TAO/TAO_DIR/frames/val/HACS/Playing_saxophone_v_Ll1361jhJLQ_scene_0_0-1805/frame1081.jpg'\n"
     ]
    },
    {
     "name": "stderr",
     "output_type": "stream",
     "text": [
      "\n",
      "\n",
      ">>> Finding TAO saxophone...:   2%|▊                                                  | 1/60 [00:00<00:03, 18.52it/s]\u001b[A"
     ]
    },
    {
     "name": "stdout",
     "output_type": "stream",
     "text": [
      "[Errno 2] No such file or directory: 'D:/external_datasets/TAO/TAO_DIR/frames/val/HACS/Playing_saxophone_v_Ll1361jhJLQ_scene_0_0-1805/frame1051.jpg'\n"
     ]
    },
    {
     "name": "stderr",
     "output_type": "stream",
     "text": [
      "\n",
      "\n",
      ">>> Finding TAO saxophone...:   3%|█▋                                                 | 2/60 [00:00<00:00, 60.60it/s]\u001b[A"
     ]
    },
    {
     "name": "stdout",
     "output_type": "stream",
     "text": [
      "[Errno 2] No such file or directory: 'D:/external_datasets/TAO/TAO_DIR/frames/val/HACS/Playing_saxophone_v_Ll1361jhJLQ_scene_0_0-1805/frame1171.jpg'\n"
     ]
    },
    {
     "name": "stderr",
     "output_type": "stream",
     "text": [
      "\n",
      " 20%|███████████████▉                                                               | 38/189 [01:31<06:52,  2.73s/it]\n",
      ">>> Finding TAO ball...:   0%|                                                              | 0/1979 [00:00<?, ?it/s]\u001b[A\n"
     ]
    },
    {
     "name": "stdout",
     "output_type": "stream",
     "text": [
      "\n",
      ">> ball...\n",
      ">>> finding similar category:  ball\n",
      "TAO\n",
      "[Errno 2] No such file or directory: 'D:/external_datasets/TAO/TAO_DIR/frames/val/YFCC100M/v_3c10645e95ca6658e5f3c73f945795dc/frame1261.jpeg'\n"
     ]
    },
    {
     "name": "stderr",
     "output_type": "stream",
     "text": [
      "\n",
      ">>> Finding TAO ball...:   0%|                                                      | 1/1979 [00:00<00:31, 62.46it/s]\u001b[A"
     ]
    },
    {
     "name": "stdout",
     "output_type": "stream",
     "text": [
      "[Errno 2] No such file or directory: 'D:/external_datasets/TAO/TAO_DIR/frames/train/HACS/Beach_soccer_v_9sZI9IdgXZY_scene_0_0-1393/frame1021.jpg'\n"
     ]
    },
    {
     "name": "stderr",
     "output_type": "stream",
     "text": [
      "\n"
     ]
    },
    {
     "name": "stdout",
     "output_type": "stream",
     "text": [
      ">>> finding similar category:  sports ball\n",
      "COCO\n",
      ">>> finding similar category:  baseball bat\n",
      "COCO\n",
      ">>> finding similar category:  baseball glove\n",
      "COCO\n",
      ">>> finding similar category:  basketball_backboard\n",
      ">>>> #WARNING basketball_backboard is missing from json annotations\n",
      "annotations datasets:  []\n",
      "annotations imgids:  []\n",
      "annotations bbox:  []\n",
      ">>> finding similar category:  ballet_skirt\n",
      ">>>> #WARNING ballet_skirt is missing from json annotations\n",
      "annotations datasets:  []\n",
      "annotations imgids:  []\n",
      "annotations bbox:  []\n",
      ">>> finding similar category:  balloon\n",
      "TAO\n",
      ">>> finding similar category:  baseball_base\n",
      ">>>> #WARNING baseball_base is missing from json annotations\n",
      "annotations datasets:  []\n",
      "annotations imgids:  []\n",
      "annotations bbox:  []\n",
      ">>> finding similar category:  baseball\n",
      ">>>> #WARNING baseball is missing from json annotations\n",
      "annotations datasets:  []\n",
      "annotations imgids:  []\n",
      "annotations bbox:  []\n",
      ">>> finding similar category:  baseball_bat\n",
      "TAO\n"
     ]
    },
    {
     "name": "stderr",
     "output_type": "stream",
     "text": [
      "\n",
      ">>> Finding TAO baseball_bat...:   0%|                                                       | 0/102 [00:00<?, ?it/s]\u001b[A"
     ]
    },
    {
     "name": "stdout",
     "output_type": "stream",
     "text": [
      "[Errno 2] No such file or directory: 'D:/external_datasets/TAO/TAO_DIR/frames/train/HACS/Playing_squash_v_SA-if-DMT7E_scene_0_0-3484/frame1051.jpg'\n"
     ]
    },
    {
     "name": "stderr",
     "output_type": "stream",
     "text": [
      "\n"
     ]
    },
    {
     "name": "stdout",
     "output_type": "stream",
     "text": [
      ">>> finding similar category:  baseball_cap\n",
      ">>>> #WARNING baseball_cap is missing from json annotations\n",
      "annotations datasets:  []\n",
      "annotations imgids:  []\n",
      "annotations bbox:  []\n",
      ">>> finding similar category:  baseball_glove\n",
      "TAO\n",
      ">>> finding similar category:  basketball_hoop\n",
      "TAO\n",
      ">>> finding similar category:  basketball\n",
      "TAO\n",
      ">>> finding similar category:  beachball\n",
      ">>>> #WARNING beachball is missing from json annotations\n",
      "annotations datasets:  []\n",
      "annotations imgids:  []\n",
      "annotations bbox:  []\n",
      ">>> finding similar category:  bowling_ball\n",
      ">>>> #WARNING bowling_ball is missing from json annotations\n",
      "annotations datasets:  []\n",
      "annotations imgids:  []\n",
      "annotations bbox:  []\n",
      ">>> finding similar category:  football_(American)\n",
      ">>>> #WARNING football_(American) is missing from json annotations\n",
      "annotations datasets:  []\n",
      "annotations imgids:  []\n",
      "annotations bbox:  []\n",
      ">>> finding similar category:  football_helmet\n",
      "TAO\n",
      ">>> finding similar category:  home_plate_(baseball)\n",
      ">>>> #WARNING home_plate_(baseball) is missing from json annotations\n",
      "annotations datasets:  []\n",
      "annotations imgids:  []\n",
      "annotations bbox:  []\n",
      ">>> finding similar category:  hot-air_balloon\n",
      ">>>> #WARNING hot-air_balloon is missing from json annotations\n",
      "annotations datasets:  []\n",
      "annotations imgids:  []\n",
      "annotations bbox:  []\n",
      ">>> finding similar category:  meatball\n",
      ">>>> #WARNING meatball is missing from json annotations\n",
      "annotations datasets:  []\n",
      "annotations imgids:  []\n",
      "annotations bbox:  []\n",
      ">>> finding similar category:  mound_(baseball)\n",
      ">>>> #WARNING mound_(baseball) is missing from json annotations\n",
      "annotations datasets:  []\n",
      "annotations imgids:  []\n",
      "annotations bbox:  []\n",
      ">>> finding similar category:  ping-pong_ball\n",
      "TAO\n",
      ">>> finding similar category:  soccer_ball\n",
      ">>>> #WARNING soccer_ball is missing from json annotations\n",
      "annotations datasets:  []\n",
      "annotations imgids:  []\n",
      "annotations bbox:  []\n",
      ">>> finding similar category:  softball\n",
      ">>>> #WARNING softball is missing from json annotations\n",
      "annotations datasets:  []\n",
      "annotations imgids:  []\n",
      "annotations bbox:  []\n",
      ">>> finding similar category:  tennis_ball\n",
      ">>>> #WARNING tennis_ball is missing from json annotations\n",
      "annotations datasets:  []\n",
      "annotations imgids:  []\n",
      "annotations bbox:  []\n",
      ">>> finding similar category:  volleyball\n",
      "TAO\n"
     ]
    },
    {
     "name": "stderr",
     "output_type": "stream",
     "text": [
      " 21%|████████████████▎                                                              | 39/189 [01:44<14:58,  5.99s/it]"
     ]
    },
    {
     "name": "stdout",
     "output_type": "stream",
     "text": [
      "\n",
      ">> balloon...\n",
      ">>> finding similar category:  balloon\n",
      "TAO\n"
     ]
    },
    {
     "name": "stderr",
     "output_type": "stream",
     "text": [
      " 21%|████████████████▋                                                              | 40/189 [01:47<11:58,  4.82s/it]"
     ]
    },
    {
     "name": "stdout",
     "output_type": "stream",
     "text": [
      ">>> finding similar category:  hot-air_balloon\n",
      ">>>> #WARNING hot-air_balloon is missing from json annotations\n",
      "annotations datasets:  []\n",
      "annotations imgids:  []\n",
      "annotations bbox:  []\n",
      "\n",
      ">> bandage...\n",
      ">>> finding similar category:  bandage\n",
      ">>>> #WARNING bandage is missing from json annotations\n",
      "annotations datasets:  []\n",
      "annotations imgids:  []\n",
      "annotations bbox:  []\n",
      ">>> finding similar category:  sling_(bandage)\n",
      ">>>> #WARNING sling_(bandage) is missing from json annotations\n",
      "annotations datasets:  []\n",
      "annotations imgids:  []\n",
      "annotations bbox:  []\n",
      "\n",
      ">> baseball...\n",
      ">>> finding similar category:  baseball\n",
      ">>>> #WARNING baseball is missing from json annotations\n",
      "annotations datasets:  []\n",
      "annotations imgids:  []\n",
      "annotations bbox:  []\n",
      ">>> finding similar category:  baseball bat\n",
      "COCO\n"
     ]
    },
    {
     "name": "stderr",
     "output_type": "stream",
     "text": [
      "\n",
      ">>> Finding COCO baseball bat...:   0%|                                                     | 0/3422 [00:00<?, ?it/s]\u001b[A"
     ]
    },
    {
     "name": "stdout",
     "output_type": "stream",
     "text": [
      "[Errno 2] No such file or directory: 'D:/external_datasets/COCO/2017/images/val2017/000000182021.jpg'\n"
     ]
    },
    {
     "name": "stderr",
     "output_type": "stream",
     "text": [
      "\n"
     ]
    },
    {
     "name": "stdout",
     "output_type": "stream",
     "text": [
      ">>> finding similar category:  baseball glove\n",
      "COCO\n",
      ">>> finding similar category:  baseball_base\n",
      ">>>> #WARNING baseball_base is missing from json annotations\n",
      "annotations datasets:  []\n",
      "annotations imgids:  []\n",
      "annotations bbox:  []\n",
      ">>> finding similar category:  baseball_bat\n",
      "TAO\n"
     ]
    },
    {
     "name": "stderr",
     "output_type": "stream",
     "text": [
      "\n",
      ">>> Finding TAO baseball_bat...:   0%|                                                       | 0/102 [00:00<?, ?it/s]\u001b[A"
     ]
    },
    {
     "name": "stdout",
     "output_type": "stream",
     "text": [
      "[Errno 2] No such file or directory: 'D:/external_datasets/TAO/TAO_DIR/frames/train/HACS/Rock-paper-scissors_v_bLoWh2xbm6o_scene_0_14-2056/frame1051.jpg'\n"
     ]
    },
    {
     "name": "stderr",
     "output_type": "stream",
     "text": [
      "\n"
     ]
    },
    {
     "name": "stdout",
     "output_type": "stream",
     "text": [
      ">>> finding similar category:  baseball_cap\n",
      ">>>> #WARNING baseball_cap is missing from json annotations\n",
      "annotations datasets:  []\n",
      "annotations imgids:  []\n",
      "annotations bbox:  []\n",
      ">>> finding similar category:  baseball_glove\n",
      "TAO\n"
     ]
    },
    {
     "name": "stderr",
     "output_type": "stream",
     "text": [
      " 22%|█████████████████▌                                                             | 42/189 [01:51<09:54,  4.04s/it]\n",
      ">>> Finding TAO basket...: 100%|████████████████████████████████████████████████████| 25/25 [00:00<00:00, 480.83it/s]\u001b[A\n",
      "\n",
      ">>> Finding TAO basket...: 100%|████████████████████████████████████████████████████| 25/25 [00:00<00:00, 454.55it/s]\u001b[A\n",
      "\n",
      ">>> Finding TAO basket...:   0%|                                                              | 0/25 [00:00<?, ?it/s]\u001b[A"
     ]
    },
    {
     "name": "stdout",
     "output_type": "stream",
     "text": [
      ">>> finding similar category:  home_plate_(baseball)\n",
      ">>>> #WARNING home_plate_(baseball) is missing from json annotations\n",
      "annotations datasets:  []\n",
      "annotations imgids:  []\n",
      "annotations bbox:  []\n",
      ">>> finding similar category:  mound_(baseball)\n",
      ">>>> #WARNING mound_(baseball) is missing from json annotations\n",
      "annotations datasets:  []\n",
      "annotations imgids:  []\n",
      "annotations bbox:  []\n",
      "\n",
      ">> basket...\n",
      ">>> finding similar category:  basket\n",
      "TAO\n",
      "[Errno 2] No such file or directory: 'D:/external_datasets/TAO/TAO_DIR/frames/val/YFCC100M/v_5168dc89995a4af63aae3b482eb7f73d/frame0001.jpeg'\n",
      ">>>> #WARNING: No file found for: TAO basket...\n",
      "[Errno 2] No such file or directory: 'D:/external_datasets/TAO/TAO_DIR/frames/val/YFCC100M/v_5168dc89995a4af63aae3b482eb7f73d/frame0721.jpeg'\n",
      ">>>> #WARNING: No file found for: TAO basket...\n",
      "[Errno 2] No such file or directory: 'D:/external_datasets/TAO/TAO_DIR/frames/val/YFCC100M/v_5168dc89995a4af63aae3b482eb7f73d/frame0571.jpeg'\n"
     ]
    },
    {
     "name": "stderr",
     "output_type": "stream",
     "text": [
      ">>> Finding TAO basket...: 100%|████████████████████████████████████████████████████| 25/25 [00:00<00:00, 431.03it/s]\n",
      "\n",
      ">>> Finding TAO basket...: 100%|████████████████████████████████████████████████████| 25/25 [00:00<00:00, 367.65it/s]\u001b[A\n",
      "\n",
      ">>> Finding TAO basket...: 100%|████████████████████████████████████████████████████| 25/25 [00:00<00:00, 403.21it/s]\u001b[A\n",
      "\n",
      ">>> Finding TAO basket...:   0%|                                                              | 0/25 [00:00<?, ?it/s]\u001b[A"
     ]
    },
    {
     "name": "stdout",
     "output_type": "stream",
     "text": [
      ">>>> #WARNING: No file found for: TAO basket...\n",
      "[Errno 2] No such file or directory: 'D:/external_datasets/TAO/TAO_DIR/frames/val/ArgoVerse/side_left_043aeba7-14e5-3cde-8a5c-639389b6d3a6/ring_side_left_315967478023871928.jpg'\n",
      ">>>> #WARNING: No file found for: TAO basket...\n",
      "[Errno 2] No such file or directory: 'D:/external_datasets/TAO/TAO_DIR/frames/val/YFCC100M/v_5168dc89995a4af63aae3b482eb7f73d/frame0451.jpeg'\n",
      ">>>> #WARNING: No file found for: TAO basket...\n",
      "[Errno 2] No such file or directory: 'D:/external_datasets/TAO/TAO_DIR/frames/val/ArgoVerse/side_left_043aeba7-14e5-3cde-8a5c-639389b6d3a6/ring_side_left_315967471030867408.jpg'\n"
     ]
    },
    {
     "name": "stderr",
     "output_type": "stream",
     "text": [
      ">>> Finding TAO basket...: 100%|████████████████████████████████████████████████████| 25/25 [00:00<00:00, 471.69it/s]\n",
      "\n",
      ">>> Finding TAO basket...: 100%|████████████████████████████████████████████████████| 25/25 [00:00<00:00, 423.75it/s]\u001b[A\n",
      "\n",
      ">>> Finding TAO basket...: 100%|████████████████████████████████████████████████████| 25/25 [00:00<00:00, 471.70it/s]\u001b[A\n",
      "\n",
      ">>> Finding TAO basket...: 100%|████████████████████████████████████████████████████| 25/25 [00:00<00:00, 531.90it/s]\u001b[A"
     ]
    },
    {
     "name": "stdout",
     "output_type": "stream",
     "text": [
      ">>>> #WARNING: No file found for: TAO basket...\n",
      "[Errno 2] No such file or directory: 'D:/external_datasets/TAO/TAO_DIR/frames/val/ArgoVerse/side_right_c6911883-1843-3727-8eaa-41dc8cda8993/ring_side_right_315978419019855296.jpg'\n",
      ">>>> #WARNING: No file found for: TAO basket...\n",
      "[Errno 2] No such file or directory: 'D:/external_datasets/TAO/TAO_DIR/frames/val/YFCC100M/v_5168dc89995a4af63aae3b482eb7f73d/frame0661.jpeg'\n",
      ">>>> #WARNING: No file found for: TAO basket...\n",
      "[Errno 2] No such file or directory: 'D:/external_datasets/TAO/TAO_DIR/frames/val/YFCC100M/v_5168dc89995a4af63aae3b482eb7f73d/frame0391.jpeg'\n",
      ">>>> #WARNING: No file found for: TAO basket...\n"
     ]
    },
    {
     "name": "stderr",
     "output_type": "stream",
     "text": [
      "\n",
      "\n",
      ">>> Finding TAO basket...: 100%|████████████████████████████████████████████████████| 25/25 [00:00<00:00, 510.30it/s]\u001b[A\n",
      "\n",
      ">>> Finding TAO basketball_hoop...:   2%|█▏                                           | 1/40 [00:00<00:02, 16.39it/s]\u001b[A\n"
     ]
    },
    {
     "name": "stdout",
     "output_type": "stream",
     "text": [
      "[Errno 2] No such file or directory: 'D:/external_datasets/TAO/TAO_DIR/frames/val/YFCC100M/v_5168dc89995a4af63aae3b482eb7f73d/frame0091.jpeg'\n",
      ">>>> #WARNING: No file found for: TAO basket...\n",
      ">>> finding similar category:  basketball_backboard\n",
      ">>>> #WARNING basketball_backboard is missing from json annotations\n",
      "annotations datasets:  []\n",
      "annotations imgids:  []\n",
      "annotations bbox:  []\n",
      ">>> finding similar category:  basketball_hoop\n",
      "TAO\n",
      "[Errno 2] No such file or directory: 'D:/external_datasets/TAO/TAO_DIR/frames/val/HACS/Layup_drill_in_basketball_v_IkEQFLf67eY_scene_0_891-2600/frame1141.jpg'\n"
     ]
    },
    {
     "name": "stderr",
     "output_type": "stream",
     "text": [
      "\n",
      ">>> Finding TAO basketball_hoop...:   5%|██▎                                          | 2/40 [00:00<00:01, 33.90it/s]\u001b[A"
     ]
    },
    {
     "name": "stdout",
     "output_type": "stream",
     "text": [
      "[Errno 2] No such file or directory: 'D:/external_datasets/TAO/TAO_DIR/frames/val/HACS/Layup_drill_in_basketball_v_IkEQFLf67eY_scene_0_891-2600/frame1051.jpg'\n"
     ]
    },
    {
     "name": "stderr",
     "output_type": "stream",
     "text": [
      "\n",
      "\n",
      ">>> Finding TAO basketball_hoop...:   8%|███▍                                         | 3/40 [00:00<00:00, 46.87it/s]\u001b[A"
     ]
    },
    {
     "name": "stdout",
     "output_type": "stream",
     "text": [
      "[Errno 2] No such file or directory: 'D:/external_datasets/TAO/TAO_DIR/frames/val/HACS/Layup_drill_in_basketball_v_IkEQFLf67eY_scene_0_891-2600/frame1111.jpg'\n"
     ]
    },
    {
     "name": "stderr",
     "output_type": "stream",
     "text": [
      "\n"
     ]
    },
    {
     "name": "stdout",
     "output_type": "stream",
     "text": [
      ">>> finding similar category:  basketball\n",
      "TAO\n"
     ]
    },
    {
     "name": "stderr",
     "output_type": "stream",
     "text": [
      " 23%|█████████████████▉                                                             | 43/189 [01:55<09:45,  4.01s/it]"
     ]
    },
    {
     "name": "stdout",
     "output_type": "stream",
     "text": [
      "\n",
      ">> basketball...\n",
      ">>> finding similar category:  basketball\n",
      "TAO\n",
      ">>> finding similar category:  basketball_backboard\n",
      ">>>> #WARNING basketball_backboard is missing from json annotations\n",
      "annotations datasets:  []\n",
      "annotations imgids:  []\n",
      "annotations bbox:  []\n",
      ">>> finding similar category:  basketball_hoop\n",
      "TAO\n"
     ]
    },
    {
     "name": "stderr",
     "output_type": "stream",
     "text": [
      "\n",
      ">>> Finding TAO basketball_hoop...:   0%|                                                     | 0/40 [00:00<?, ?it/s]\u001b[A"
     ]
    },
    {
     "name": "stdout",
     "output_type": "stream",
     "text": [
      "[Errno 2] No such file or directory: 'D:/external_datasets/TAO/TAO_DIR/frames/val/HACS/Layup_drill_in_basketball_v_IkEQFLf67eY_scene_0_891-2600/frame1141.jpg'\n"
     ]
    },
    {
     "name": "stderr",
     "output_type": "stream",
     "text": [
      "\n",
      "\n",
      ">>> Finding TAO basketball_hoop...:   2%|█▏                                           | 1/40 [00:00<00:00, 52.56it/s]\u001b[A"
     ]
    },
    {
     "name": "stdout",
     "output_type": "stream",
     "text": [
      "[Errno 2] No such file or directory: 'D:/external_datasets/TAO/TAO_DIR/frames/val/HACS/Layup_drill_in_basketball_v_IkEQFLf67eY_scene_0_891-2600/frame1081.jpg'\n"
     ]
    },
    {
     "name": "stderr",
     "output_type": "stream",
     "text": [
      "\n",
      " 23%|██████████████████▍                                                            | 44/189 [01:58<08:55,  3.69s/it]"
     ]
    },
    {
     "name": "stdout",
     "output_type": "stream",
     "text": [
      "\n",
      ">> battery...\n",
      ">>> finding similar category:  battery\n",
      ">>>> #WARNING battery is missing from json annotations\n",
      "annotations datasets:  []\n",
      "annotations imgids:  []\n",
      "annotations bbox:  []\n",
      ">>> finding similar category:  car_battery\n",
      "TAO\n"
     ]
    },
    {
     "name": "stderr",
     "output_type": "stream",
     "text": [
      " 24%|██████████████████▊                                                            | 45/189 [01:59<06:41,  2.79s/it]"
     ]
    },
    {
     "name": "stdout",
     "output_type": "stream",
     "text": [
      "\n",
      ">> bear...\n",
      ">>> finding similar category:  bear\n",
      "COCO\n",
      ">>> finding similar category:  teddy bear\n",
      "COCO\n",
      ">>> finding similar category:  polar_bear\n",
      "TAO\n"
     ]
    },
    {
     "name": "stderr",
     "output_type": "stream",
     "text": [
      " 24%|███████████████████▏                                                           | 46/189 [02:02<07:17,  3.06s/it]"
     ]
    },
    {
     "name": "stdout",
     "output_type": "stream",
     "text": [
      ">>> finding similar category:  teddy_bear\n",
      ">>>> #WARNING teddy_bear is missing from json annotations\n",
      "annotations datasets:  []\n",
      "annotations imgids:  []\n",
      "annotations bbox:  []\n",
      "\n",
      ">> bed...\n",
      ">>> finding similar category:  bed\n",
      "COCO\n"
     ]
    },
    {
     "name": "stderr",
     "output_type": "stream",
     "text": [
      "\n",
      ">>> Finding TAO bedspread...:   0%|                                                          | 0/111 [00:00<?, ?it/s]\u001b[A"
     ]
    },
    {
     "name": "stdout",
     "output_type": "stream",
     "text": [
      ">>> finding similar category:  bedspread\n",
      "TAO\n",
      "[Errno 2] No such file or directory: 'D:/external_datasets/TAO/TAO_DIR/frames/val/HACS/Using_the_monkey_bar_v_J2qrTRdu9ik/frame2641.jpg'\n"
     ]
    },
    {
     "name": "stderr",
     "output_type": "stream",
     "text": [
      "\n",
      "\n",
      ">>> Finding TAO bedspread...:   1%|▍                                                 | 1/111 [00:00<00:02, 52.62it/s]\u001b[A"
     ]
    },
    {
     "name": "stdout",
     "output_type": "stream",
     "text": [
      "[Errno 2] No such file or directory: 'D:/external_datasets/TAO/TAO_DIR/frames/val/HACS/Using_the_monkey_bar_v_J2qrTRdu9ik/frame1681.jpg'\n"
     ]
    },
    {
     "name": "stderr",
     "output_type": "stream",
     "text": [
      "\n",
      "\n",
      ">>> Finding TAO bedspread...:   2%|▉                                                | 2/111 [00:00<00:00, 111.32it/s]\u001b[A"
     ]
    },
    {
     "name": "stdout",
     "output_type": "stream",
     "text": [
      "[Errno 2] No such file or directory: 'D:/external_datasets/TAO/TAO_DIR/frames/val/HACS/Using_the_monkey_bar_v_J2qrTRdu9ik/frame2071.jpg'\n"
     ]
    },
    {
     "name": "stderr",
     "output_type": "stream",
     "text": [
      "\n",
      " 25%|███████████████████▋                                                           | 47/189 [02:05<06:48,  2.88s/it]"
     ]
    },
    {
     "name": "stdout",
     "output_type": "stream",
     "text": [
      ">>> finding similar category:  bunk_bed\n",
      ">>>> #WARNING bunk_bed is missing from json annotations\n",
      "annotations datasets:  []\n",
      "annotations imgids:  []\n",
      "annotations bbox:  []\n",
      ">>> finding similar category:  sofa_bed\n",
      ">>>> #WARNING sofa_bed is missing from json annotations\n",
      "annotations datasets:  []\n",
      "annotations imgids:  []\n",
      "annotations bbox:  []\n",
      "\n",
      ">> cow...\n",
      ">>> finding similar category:  cow\n",
      "COCO\n"
     ]
    },
    {
     "name": "stderr",
     "output_type": "stream",
     "text": [
      " 25%|████████████████████                                                           | 48/189 [02:06<05:24,  2.30s/it]\n",
      ">>> Finding TAO bell...: 100%|██████████████████████████████████████████████████████| 36/36 [00:00<00:00, 428.01it/s]\u001b[A\n",
      "\n",
      ">>> Finding TAO bell...: 100%|██████████████████████████████████████████████████████| 36/36 [00:00<00:00, 418.61it/s]\u001b[A"
     ]
    },
    {
     "name": "stdout",
     "output_type": "stream",
     "text": [
      ">>> finding similar category:  cowbell\n",
      ">>>> #WARNING cowbell is missing from json annotations\n",
      "annotations datasets:  []\n",
      "annotations imgids:  []\n",
      "annotations bbox:  []\n",
      ">>> finding similar category:  cowboy_hat\n",
      ">>>> #WARNING cowboy_hat is missing from json annotations\n",
      "annotations datasets:  []\n",
      "annotations imgids:  []\n",
      "annotations bbox:  []\n",
      "\n",
      ">> bell...\n",
      ">>> finding similar category:  bell\n",
      "TAO\n",
      "[Errno 2] No such file or directory: 'D:/external_datasets/TAO/TAO_DIR/frames/val/YFCC100M/v_bcb0572637e5392c4cb919ad21a286/frame0481.jpeg'\n",
      ">>>> #WARNING: No file found for: TAO bell...\n",
      "[Errno 2] No such file or directory: 'D:/external_datasets/TAO/TAO_DIR/frames/val/YFCC100M/v_bcb0572637e5392c4cb919ad21a286/frame0031.jpeg'\n"
     ]
    },
    {
     "name": "stderr",
     "output_type": "stream",
     "text": [
      "\n",
      "\n",
      ">>> Finding TAO bell...:   0%|                                                                | 0/36 [00:00<?, ?it/s]\u001b[A\n",
      ">>> Finding TAO bell...: 100%|██████████████████████████████████████████████████████| 36/36 [00:00<00:00, 324.37it/s]\u001b[A\n",
      "\n",
      ">>> Finding TAO bell...:   0%|                                                                | 0/36 [00:00<?, ?it/s]\u001b[A"
     ]
    },
    {
     "name": "stdout",
     "output_type": "stream",
     "text": [
      ">>>> #WARNING: No file found for: TAO bell...\n",
      "[Errno 2] No such file or directory: 'D:/external_datasets/TAO/TAO_DIR/frames/val/YFCC100M/v_bcb0572637e5392c4cb919ad21a286/frame0511.jpeg'\n",
      ">>>> #WARNING: No file found for: TAO bell...\n",
      "[Errno 2] No such file or directory: 'D:/external_datasets/TAO/TAO_DIR/frames/val/YFCC100M/v_bcb0572637e5392c4cb919ad21a286/frame0631.jpeg'\n"
     ]
    },
    {
     "name": "stderr",
     "output_type": "stream",
     "text": [
      ">>> Finding TAO bell...: 100%|██████████████████████████████████████████████████████| 36/36 [00:00<00:00, 371.12it/s]\n",
      "\n",
      ">>> Finding TAO bell...: 100%|██████████████████████████████████████████████████████| 36/36 [00:00<00:00, 461.56it/s]\u001b[A\n",
      "\n",
      ">>> Finding TAO bell...: 100%|██████████████████████████████████████████████████████| 36/36 [00:00<00:00, 428.58it/s]\u001b[A"
     ]
    },
    {
     "name": "stdout",
     "output_type": "stream",
     "text": [
      ">>>> #WARNING: No file found for: TAO bell...\n",
      "[Errno 2] No such file or directory: 'D:/external_datasets/TAO/TAO_DIR/frames/val/YFCC100M/v_bcb0572637e5392c4cb919ad21a286/frame0601.jpeg'\n",
      ">>>> #WARNING: No file found for: TAO bell...\n",
      "[Errno 2] No such file or directory: 'D:/external_datasets/TAO/TAO_DIR/frames/val/YFCC100M/v_bcb0572637e5392c4cb919ad21a286/frame0211.jpeg'\n"
     ]
    },
    {
     "name": "stderr",
     "output_type": "stream",
     "text": [
      "\n",
      "\n",
      ">>> Finding TAO bell...:   0%|                                                                | 0/36 [00:00<?, ?it/s]\u001b[A\n",
      ">>> Finding TAO bell...: 100%|██████████████████████████████████████████████████████| 36/36 [00:00<00:00, 328.22it/s]\u001b[A\n",
      "\n",
      ">>> Finding TAO bell...: 100%|██████████████████████████████████████████████████████| 36/36 [00:00<00:00, 411.35it/s]\u001b[A"
     ]
    },
    {
     "name": "stdout",
     "output_type": "stream",
     "text": [
      ">>>> #WARNING: No file found for: TAO bell...\n",
      "[Errno 2] No such file or directory: 'D:/external_datasets/TAO/TAO_DIR/frames/val/YFCC100M/v_bcb0572637e5392c4cb919ad21a286/frame0961.jpeg'\n",
      ">>>> #WARNING: No file found for: TAO bell...\n",
      "[Errno 2] No such file or directory: 'D:/external_datasets/TAO/TAO_DIR/frames/val/YFCC100M/v_bcb0572637e5392c4cb919ad21a286/frame0451.jpeg'\n"
     ]
    },
    {
     "name": "stderr",
     "output_type": "stream",
     "text": [
      "\n",
      "\n",
      ">>> Finding TAO bell...: 100%|██████████████████████████████████████████████████████| 36/36 [00:00<00:00, 413.80it/s]\u001b[A\n",
      "\n",
      ">>> Finding TAO bell...:   0%|                                                                | 0/36 [00:00<?, ?it/s]\u001b[A"
     ]
    },
    {
     "name": "stdout",
     "output_type": "stream",
     "text": [
      ">>>> #WARNING: No file found for: TAO bell...\n",
      "[Errno 2] No such file or directory: 'D:/external_datasets/TAO/TAO_DIR/frames/val/YFCC100M/v_bcb0572637e5392c4cb919ad21a286/frame0181.jpeg'\n",
      ">>>> #WARNING: No file found for: TAO bell...\n",
      "[Errno 2] No such file or directory: 'D:/external_datasets/TAO/TAO_DIR/frames/val/YFCC100M/v_bcb0572637e5392c4cb919ad21a286/frame0541.jpeg'\n"
     ]
    },
    {
     "name": "stderr",
     "output_type": "stream",
     "text": [
      "\n",
      ">>> Finding TAO bell...: 100%|██████████████████████████████████████████████████████| 36/36 [00:00<00:00, 346.15it/s]\u001b[A\n",
      "\n",
      ">>> Finding TAO barbell...:   5%|██▋                                                  | 2/40 [00:00<00:01, 35.09it/s]\u001b[A\n"
     ]
    },
    {
     "name": "stdout",
     "output_type": "stream",
     "text": [
      ">>>> #WARNING: No file found for: TAO bell...\n",
      ">>> finding similar category:  barbell\n",
      "TAO\n",
      "[Errno 2] No such file or directory: 'D:/external_datasets/TAO/TAO_DIR/frames/val/HACS/Clean_and_jerk_v_1kMhmqbCPt0_scene_0_0-1559/frame1081.jpg'\n"
     ]
    },
    {
     "name": "stderr",
     "output_type": "stream",
     "text": [
      "\n",
      ">>> Finding TAO barbell...:   8%|███▉                                                 | 3/40 [00:00<00:00, 81.06it/s]\u001b[A"
     ]
    },
    {
     "name": "stdout",
     "output_type": "stream",
     "text": [
      "[Errno 2] No such file or directory: 'D:/external_datasets/TAO/TAO_DIR/frames/val/HACS/Clean_and_jerk_v_1kMhmqbCPt0_scene_0_0-1559/frame1171.jpg'\n"
     ]
    },
    {
     "name": "stderr",
     "output_type": "stream",
     "text": [
      "\n",
      " 26%|████████████████████▍                                                          | 49/189 [02:08<05:34,  2.39s/it]"
     ]
    },
    {
     "name": "stdout",
     "output_type": "stream",
     "text": [
      ">>> finding similar category:  bell_pepper\n",
      ">>>> #WARNING bell_pepper is missing from json annotations\n",
      "annotations datasets:  []\n",
      "annotations imgids:  []\n",
      "annotations bbox:  []\n",
      ">>> finding similar category:  cowbell\n",
      ">>>> #WARNING cowbell is missing from json annotations\n",
      "annotations datasets:  []\n",
      "annotations imgids:  []\n",
      "annotations bbox:  []\n",
      ">>> finding similar category:  doorbell\n",
      ">>>> #WARNING doorbell is missing from json annotations\n",
      "annotations datasets:  []\n",
      "annotations imgids:  []\n",
      "annotations bbox:  []\n",
      ">>> finding similar category:  dumbbell\n",
      ">>>> #WARNING dumbbell is missing from json annotations\n",
      "annotations datasets:  []\n",
      "annotations imgids:  []\n",
      "annotations bbox:  []\n",
      "\n",
      ">> belt...\n",
      ">>> finding similar category:  belt\n",
      ">>>> #WARNING belt is missing from json annotations\n",
      "annotations datasets:  []\n",
      "annotations imgids:  []\n",
      "annotations bbox:  []\n",
      ">>> finding similar category:  belt_buckle\n",
      ">>>> #WARNING belt_buckle is missing from json annotations\n",
      "annotations datasets:  []\n",
      "annotations imgids:  []\n",
      "annotations bbox:  []\n",
      "\n",
      ">> bench...\n",
      ">>> finding similar category:  bench\n",
      "COCO\n"
     ]
    },
    {
     "name": "stderr",
     "output_type": "stream",
     "text": [
      " 27%|█████████████████████▎                                                         | 51/189 [02:10<04:18,  1.88s/it]"
     ]
    },
    {
     "name": "stdout",
     "output_type": "stream",
     "text": [
      ">>> finding similar category:  pew_(church_bench)\n",
      ">>>> #WARNING pew_(church_bench) is missing from json annotations\n",
      "annotations datasets:  []\n",
      "annotations imgids:  []\n",
      "annotations bbox:  []\n",
      "\n",
      ">> bird...\n",
      ">>> finding similar category:  bird\n",
      "COCO\n"
     ]
    },
    {
     "name": "stderr",
     "output_type": "stream",
     "text": [
      "\n",
      ">>> Finding TAO birdfeeder...: 100%|████████████████████████████████████████████████| 40/40 [00:00<00:00, 408.18it/s]\u001b[A\n",
      "\n",
      ">>> Finding TAO birdfeeder...: 100%|████████████████████████████████████████████████| 40/40 [00:00<00:00, 416.67it/s]\u001b[A"
     ]
    },
    {
     "name": "stdout",
     "output_type": "stream",
     "text": [
      ">>> finding similar category:  birdfeeder\n",
      "TAO\n",
      "[Errno 2] No such file or directory: 'D:/external_datasets/TAO/TAO_DIR/frames/val/YFCC100M/v_c4254cd81215eab0ab8f1722fce00f/frame1441.jpeg'\n",
      ">>>> #WARNING: No file found for: TAO birdfeeder...\n",
      "[Errno 2] No such file or directory: 'D:/external_datasets/TAO/TAO_DIR/frames/val/YFCC100M/v_c4254cd81215eab0ab8f1722fce00f/frame2071.jpeg'\n"
     ]
    },
    {
     "name": "stderr",
     "output_type": "stream",
     "text": [
      "\n",
      "\n",
      ">>> Finding TAO birdfeeder...: 100%|████████████████████████████████████████████████| 40/40 [00:00<00:00, 420.88it/s]\u001b[A\n",
      "\n",
      ">>> Finding TAO birdfeeder...: 100%|████████████████████████████████████████████████| 40/40 [00:00<00:00, 425.59it/s]\u001b[A"
     ]
    },
    {
     "name": "stdout",
     "output_type": "stream",
     "text": [
      ">>>> #WARNING: No file found for: TAO birdfeeder...\n",
      "[Errno 2] No such file or directory: 'D:/external_datasets/TAO/TAO_DIR/frames/val/YFCC100M/v_c4254cd81215eab0ab8f1722fce00f/frame1771.jpeg'\n",
      ">>>> #WARNING: No file found for: TAO birdfeeder...\n",
      "[Errno 2] No such file or directory: 'D:/external_datasets/TAO/TAO_DIR/frames/val/YFCC100M/v_c4254cd81215eab0ab8f1722fce00f/frame1471.jpeg'\n"
     ]
    },
    {
     "name": "stderr",
     "output_type": "stream",
     "text": [
      "\n",
      "\n",
      ">>> Finding TAO birdfeeder...: 100%|████████████████████████████████████████████████| 40/40 [00:00<00:00, 401.87it/s]\u001b[A\n",
      "\n",
      ">>> Finding TAO birdfeeder...: 100%|████████████████████████████████████████████████| 40/40 [00:00<00:00, 425.55it/s]\u001b[A"
     ]
    },
    {
     "name": "stdout",
     "output_type": "stream",
     "text": [
      ">>>> #WARNING: No file found for: TAO birdfeeder...\n",
      "[Errno 2] No such file or directory: 'D:/external_datasets/TAO/TAO_DIR/frames/val/YFCC100M/v_c4254cd81215eab0ab8f1722fce00f/frame1261.jpeg'\n",
      ">>>> #WARNING: No file found for: TAO birdfeeder...\n",
      "[Errno 2] No such file or directory: 'D:/external_datasets/TAO/TAO_DIR/frames/val/YFCC100M/v_c4254cd81215eab0ab8f1722fce00f/frame2011.jpeg'\n"
     ]
    },
    {
     "name": "stderr",
     "output_type": "stream",
     "text": [
      "\n",
      "\n",
      ">>> Finding TAO birdfeeder...: 100%|████████████████████████████████████████████████| 40/40 [00:00<00:00, 439.42it/s]\u001b[A\n",
      "\n",
      ">>> Finding TAO birdfeeder...: 100%|████████████████████████████████████████████████| 40/40 [00:00<00:00, 454.43it/s]\u001b[A"
     ]
    },
    {
     "name": "stdout",
     "output_type": "stream",
     "text": [
      ">>>> #WARNING: No file found for: TAO birdfeeder...\n",
      "[Errno 2] No such file or directory: 'D:/external_datasets/TAO/TAO_DIR/frames/val/YFCC100M/v_c4254cd81215eab0ab8f1722fce00f/frame1051.jpeg'\n",
      ">>>> #WARNING: No file found for: TAO birdfeeder...\n",
      "[Errno 2] No such file or directory: 'D:/external_datasets/TAO/TAO_DIR/frames/val/YFCC100M/v_c4254cd81215eab0ab8f1722fce00f/frame1741.jpeg'\n"
     ]
    },
    {
     "name": "stderr",
     "output_type": "stream",
     "text": [
      "\n",
      "\n",
      ">>> Finding TAO birdfeeder...: 100%|████████████████████████████████████████████████| 40/40 [00:00<00:00, 421.09it/s]\u001b[A\n",
      "\n",
      ">>> Finding TAO birdfeeder...: 100%|████████████████████████████████████████████████| 40/40 [00:00<00:00, 444.35it/s]\u001b[A"
     ]
    },
    {
     "name": "stdout",
     "output_type": "stream",
     "text": [
      ">>>> #WARNING: No file found for: TAO birdfeeder...\n",
      "[Errno 2] No such file or directory: 'D:/external_datasets/TAO/TAO_DIR/frames/val/YFCC100M/v_c4254cd81215eab0ab8f1722fce00f/frame1711.jpeg'\n",
      ">>>> #WARNING: No file found for: TAO birdfeeder...\n",
      "[Errno 2] No such file or directory: 'D:/external_datasets/TAO/TAO_DIR/frames/val/YFCC100M/v_c4254cd81215eab0ab8f1722fce00f/frame1531.jpeg'\n"
     ]
    },
    {
     "name": "stderr",
     "output_type": "stream",
     "text": [
      "\n",
      "\n",
      ">>> Finding TAO birdcage...:   0%|                                                            | 0/38 [00:00<?, ?it/s]\u001b[A\n"
     ]
    },
    {
     "name": "stdout",
     "output_type": "stream",
     "text": [
      ">>>> #WARNING: No file found for: TAO birdfeeder...\n",
      ">>> finding similar category:  birdbath\n",
      ">>>> #WARNING birdbath is missing from json annotations\n",
      "annotations datasets:  []\n",
      "annotations imgids:  []\n",
      "annotations bbox:  []\n",
      ">>> finding similar category:  birdcage\n",
      "TAO\n",
      "[Errno 2] No such file or directory: 'D:/external_datasets/TAO/TAO_DIR/frames/val/AVA/P60OxWahxBQ_scene_2_41000-42115/frame1081.jpg'\n"
     ]
    },
    {
     "name": "stderr",
     "output_type": "stream",
     "text": [
      "\n",
      ">>> Finding TAO birdcage...:   3%|█▎                                                  | 1/38 [00:00<00:01, 33.33it/s]\u001b[A"
     ]
    },
    {
     "name": "stdout",
     "output_type": "stream",
     "text": [
      "[Errno 2] No such file or directory: 'D:/external_datasets/TAO/TAO_DIR/frames/val/AVA/P60OxWahxBQ_scene_2_41000-42115/frame0991.jpg'\n"
     ]
    },
    {
     "name": "stderr",
     "output_type": "stream",
     "text": [
      "\n",
      "\n",
      ">>> Finding TAO birdhouse...:   0%|                                                           | 0/40 [00:00<?, ?it/s]\u001b[A\n",
      ">>> Finding TAO birdhouse...: 100%|█████████████████████████████████████████████████| 40/40 [00:00<00:00, 377.36it/s]\u001b[A\n",
      "\n",
      ">>> Finding TAO birdhouse...: 100%|█████████████████████████████████████████████████| 40/40 [00:00<00:00, 459.79it/s]\u001b[A"
     ]
    },
    {
     "name": "stdout",
     "output_type": "stream",
     "text": [
      ">>> finding similar category:  birdhouse\n",
      "TAO\n",
      "[Errno 2] No such file or directory: 'D:/external_datasets/TAO/TAO_DIR/frames/val/YFCC100M/v_5184aeb820dfcb8aa8f4c56c79107373/frame0501.jpeg'\n",
      ">>>> #WARNING: No file found for: TAO birdhouse...\n",
      "[Errno 2] No such file or directory: 'D:/external_datasets/TAO/TAO_DIR/frames/val/YFCC100M/v_5184aeb820dfcb8aa8f4c56c79107373/frame0951.jpeg'\n"
     ]
    },
    {
     "name": "stderr",
     "output_type": "stream",
     "text": [
      "\n",
      "\n",
      ">>> Finding TAO birdhouse...: 100%|█████████████████████████████████████████████████| 40/40 [00:00<00:00, 449.50it/s]\u001b[A\n",
      "\n",
      ">>> Finding TAO birdhouse...: 100%|█████████████████████████████████████████████████| 40/40 [00:00<00:00, 439.28it/s]\u001b[A"
     ]
    },
    {
     "name": "stdout",
     "output_type": "stream",
     "text": [
      ">>>> #WARNING: No file found for: TAO birdhouse...\n",
      "[Errno 2] No such file or directory: 'D:/external_datasets/TAO/TAO_DIR/frames/val/YFCC100M/v_5184aeb820dfcb8aa8f4c56c79107373/frame0576.jpeg'\n",
      ">>>> #WARNING: No file found for: TAO birdhouse...\n",
      "[Errno 2] No such file or directory: 'D:/external_datasets/TAO/TAO_DIR/frames/val/YFCC100M/v_5184aeb820dfcb8aa8f4c56c79107373/frame0476.jpeg'\n"
     ]
    },
    {
     "name": "stderr",
     "output_type": "stream",
     "text": [
      "\n",
      "\n",
      ">>> Finding TAO birdhouse...: 100%|█████████████████████████████████████████████████| 40/40 [00:00<00:00, 416.70it/s]\u001b[A\n",
      "\n",
      ">>> Finding TAO birdhouse...: 100%|█████████████████████████████████████████████████| 40/40 [00:00<00:00, 454.40it/s]\u001b[A"
     ]
    },
    {
     "name": "stdout",
     "output_type": "stream",
     "text": [
      ">>>> #WARNING: No file found for: TAO birdhouse...\n",
      "[Errno 2] No such file or directory: 'D:/external_datasets/TAO/TAO_DIR/frames/val/YFCC100M/v_5184aeb820dfcb8aa8f4c56c79107373/frame1026.jpeg'\n",
      ">>>> #WARNING: No file found for: TAO birdhouse...\n",
      "[Errno 2] No such file or directory: 'D:/external_datasets/TAO/TAO_DIR/frames/val/YFCC100M/v_5184aeb820dfcb8aa8f4c56c79107373/frame0901.jpeg'\n"
     ]
    },
    {
     "name": "stderr",
     "output_type": "stream",
     "text": [
      "\n",
      "\n",
      ">>> Finding TAO birdhouse...: 100%|█████████████████████████████████████████████████| 40/40 [00:00<00:00, 429.92it/s]\u001b[A\n",
      "\n",
      ">>> Finding TAO birdhouse...:   0%|                                                           | 0/40 [00:00<?, ?it/s]\u001b[A"
     ]
    },
    {
     "name": "stdout",
     "output_type": "stream",
     "text": [
      ">>>> #WARNING: No file found for: TAO birdhouse...\n",
      "[Errno 2] No such file or directory: 'D:/external_datasets/TAO/TAO_DIR/frames/val/YFCC100M/v_5184aeb820dfcb8aa8f4c56c79107373/frame0776.jpeg'\n",
      ">>>> #WARNING: No file found for: TAO birdhouse...\n",
      "[Errno 2] No such file or directory: 'D:/external_datasets/TAO/TAO_DIR/frames/val/YFCC100M/v_5184aeb820dfcb8aa8f4c56c79107373/frame0451.jpeg'\n"
     ]
    },
    {
     "name": "stderr",
     "output_type": "stream",
     "text": [
      ">>> Finding TAO birdhouse...: 100%|█████████████████████████████████████████████████| 40/40 [00:00<00:00, 439.56it/s]\n",
      "\n",
      ">>> Finding TAO birdhouse...: 100%|█████████████████████████████████████████████████| 40/40 [00:00<00:00, 444.48it/s]\u001b[A\n",
      "\n",
      ">>> Finding TAO birdhouse...: 100%|█████████████████████████████████████████████████| 40/40 [00:00<00:00, 434.78it/s]\u001b[A"
     ]
    },
    {
     "name": "stdout",
     "output_type": "stream",
     "text": [
      ">>>> #WARNING: No file found for: TAO birdhouse...\n",
      "[Errno 2] No such file or directory: 'D:/external_datasets/TAO/TAO_DIR/frames/val/YFCC100M/v_5184aeb820dfcb8aa8f4c56c79107373/frame0301.jpeg'\n",
      ">>>> #WARNING: No file found for: TAO birdhouse...\n",
      "[Errno 2] No such file or directory: 'D:/external_datasets/TAO/TAO_DIR/frames/val/YFCC100M/v_5184aeb820dfcb8aa8f4c56c79107373/frame0626.jpeg'\n"
     ]
    },
    {
     "name": "stderr",
     "output_type": "stream",
     "text": [
      "\n"
     ]
    },
    {
     "name": "stdout",
     "output_type": "stream",
     "text": [
      ">>>> #WARNING: No file found for: TAO birdhouse...\n",
      ">>> finding similar category:  hummingbird\n",
      ">>>> #WARNING hummingbird is missing from json annotations\n",
      "annotations datasets:  []\n",
      "annotations imgids:  []\n",
      "annotations bbox:  []\n",
      ">>> finding similar category:  seabird\n",
      ">>>> #WARNING seabird is missing from json annotations\n",
      "annotations datasets:  []\n",
      "annotations imgids:  []\n",
      "annotations bbox:  []\n",
      ">>> finding similar category:  turkey_(bird)\n",
      "TAO\n"
     ]
    },
    {
     "name": "stderr",
     "output_type": "stream",
     "text": [
      " 28%|█████████████████████▋                                                         | 52/189 [02:19<09:22,  4.11s/it]"
     ]
    },
    {
     "name": "stdout",
     "output_type": "stream",
     "text": [
      "\n",
      ">> blanket...\n",
      ">>> finding similar category:  blanket\n",
      "TAO\n"
     ]
    },
    {
     "name": "stderr",
     "output_type": "stream",
     "text": [
      "\n",
      ">>> Finding TAO blanket...:   0%|                                                            | 0/847 [00:00<?, ?it/s]\u001b[A"
     ]
    },
    {
     "name": "stdout",
     "output_type": "stream",
     "text": [
      "[Errno 2] No such file or directory: 'D:/external_datasets/TAO/TAO_DIR/frames/val/YFCC100M/v_639ef52f98e0f2dfa86cda1cae5e914/frame0991.jpeg'\n"
     ]
    },
    {
     "name": "stderr",
     "output_type": "stream",
     "text": [
      "\n",
      "\n",
      ">>> Finding TAO blanket...:   0%|                                                    | 1/847 [00:00<00:56, 14.90it/s]\u001b[A"
     ]
    },
    {
     "name": "stdout",
     "output_type": "stream",
     "text": [
      "[Errno 2] No such file or directory: 'D:/external_datasets/TAO/TAO_DIR/frames/val/YFCC100M/v_639ef52f98e0f2dfa86cda1cae5e914/frame0571.jpeg'\n",
      ">>> finding similar category:  saddle_blanket\n",
      "TAO\n"
     ]
    },
    {
     "name": "stderr",
     "output_type": "stream",
     "text": [
      "\n",
      " 28%|██████████████████████▏                                                        | 53/189 [02:22<08:33,  3.78s/it]"
     ]
    },
    {
     "name": "stdout",
     "output_type": "stream",
     "text": [
      "\n",
      ">> boar...\n",
      ">>> finding similar category:  boar\n",
      ">>>> #WARNING boar is missing from json annotations\n",
      "annotations datasets:  []\n",
      "annotations imgids:  []\n",
      "annotations bbox:  []\n",
      ">>> finding similar category:  snowboard\n",
      "COCO\n",
      ">>> finding similar category:  skateboard\n",
      "COCO\n",
      ">>> finding similar category:  surfboard\n",
      "COCO\n"
     ]
    },
    {
     "name": "stderr",
     "output_type": "stream",
     "text": [
      "\n",
      ">>> Finding COCO surfboard...:   0%|                                                        | 0/6395 [00:00<?, ?it/s]\u001b[A"
     ]
    },
    {
     "name": "stdout",
     "output_type": "stream",
     "text": [
      "[Errno 2] No such file or directory: 'D:/external_datasets/COCO/2017/images/val2017/000000262048.jpg'\n"
     ]
    },
    {
     "name": "stderr",
     "output_type": "stream",
     "text": [
      "\n"
     ]
    },
    {
     "name": "stdout",
     "output_type": "stream",
     "text": [
      ">>> finding similar category:  keyboard\n",
      "COCO\n"
     ]
    },
    {
     "name": "stderr",
     "output_type": "stream",
     "text": [
      "\n",
      ">>> Finding COCO keyboard...:   0%|                                                         | 0/3008 [00:00<?, ?it/s]\u001b[A"
     ]
    },
    {
     "name": "stdout",
     "output_type": "stream",
     "text": [
      "[Errno 2] No such file or directory: 'D:/external_datasets/COCO/2017/images/val2017/000000430056.jpg'\n",
      ">>> finding similar category:  basketball_backboard\n",
      ">>>> #WARNING basketball_backboard is missing from json annotations\n",
      "annotations datasets:  []\n",
      "annotations imgids:  []\n",
      "annotations bbox:  []\n",
      ">>> finding similar category:  blackboard\n",
      ">>>> #WARNING blackboard is missing from json annotations\n",
      "annotations datasets:  []\n",
      "annotations imgids:  []\n",
      "annotations bbox:  []\n",
      ">>> finding similar category:  gameboard\n",
      ">>>> #WARNING gameboard is missing from json annotations\n",
      "annotations datasets:  []\n",
      "annotations imgids:  []\n",
      "annotations bbox:  []\n",
      ">>> finding similar category:  bulletin_board\n",
      ">>>> #WARNING bulletin_board is missing from json annotations\n",
      "annotations datasets:  []\n",
      "annotations imgids:  []\n",
      "annotations bbox:  []\n",
      ">>> finding similar category:  checkerboard\n",
      ">>>> #WARNING checkerboard is missing from json annotations\n",
      "annotations datasets:  []\n",
      "annotations imgids:  []\n",
      "annotations bbox:  []\n",
      ">>> finding similar category:  chessboard\n",
      ">>>> #WARNING chessboard is missing from json annotations\n",
      "annotations datasets:  []\n",
      "annotations imgids:  []\n",
      "annotations bbox:  []\n",
      ">>> finding similar category:  chopping_board\n",
      ">>>> #WARNING chopping_board is missing from json annotations\n",
      "annotations datasets:  []\n",
      "annotations imgids:  []\n",
      "annotations bbox:  []\n",
      ">>> finding similar category:  clipboard\n",
      "TAO\n"
     ]
    },
    {
     "name": "stderr",
     "output_type": "stream",
     "text": [
      "\n",
      "\n",
      ">>> Finding TAO clipboard...:  44%|█████████████████████▌                           | 29/66 [00:00<00:00, 210.54it/s]\u001b[A"
     ]
    },
    {
     "name": "stdout",
     "output_type": "stream",
     "text": [
      "[Errno 2] No such file or directory: 'D:/external_datasets/TAO/TAO_DIR/frames/val/YFCC100M/v_e3919198858e7ac1a61aae1e486c7664/frame0781.jpeg'\n"
     ]
    },
    {
     "name": "stderr",
     "output_type": "stream",
     "text": [
      "\n",
      "\n",
      ">>> Finding TAO clipboard...:  47%|███████████████████████                          | 31/66 [00:00<00:00, 226.28it/s]\u001b[A"
     ]
    },
    {
     "name": "stdout",
     "output_type": "stream",
     "text": [
      "[Errno 2] No such file or directory: 'D:/external_datasets/TAO/TAO_DIR/frames/val/AVA/GElolK2jG50_scene_7_135593-137130/frame1261.jpg'\n"
     ]
    },
    {
     "name": "stderr",
     "output_type": "stream",
     "text": [
      "\n",
      "\n",
      ">>> Finding TAO clipboard...:  48%|███████████████████████▊                         | 32/66 [00:00<00:00, 251.99it/s]\u001b[A"
     ]
    },
    {
     "name": "stdout",
     "output_type": "stream",
     "text": [
      "[Errno 2] No such file or directory: 'D:/external_datasets/TAO/TAO_DIR/frames/val/YFCC100M/v_e3919198858e7ac1a61aae1e486c7664/frame1891.jpeg'\n"
     ]
    },
    {
     "name": "stderr",
     "output_type": "stream",
     "text": [
      "\n",
      "\n",
      ">>> Finding TAO clipboard...:  50%|████████████████████████▌                        | 33/66 [00:00<00:00, 215.56it/s]\u001b[A"
     ]
    },
    {
     "name": "stdout",
     "output_type": "stream",
     "text": [
      "[Errno 2] No such file or directory: 'D:/external_datasets/TAO/TAO_DIR/frames/val/YFCC100M/v_e3919198858e7ac1a61aae1e486c7664/frame0871.jpeg'\n"
     ]
    },
    {
     "name": "stderr",
     "output_type": "stream",
     "text": [
      "\n",
      "\n",
      ">>> Finding TAO clipboard...:  52%|█████████████████████████▏                       | 34/66 [00:00<00:00, 269.77it/s]\u001b[A"
     ]
    },
    {
     "name": "stdout",
     "output_type": "stream",
     "text": [
      "[Errno 2] No such file or directory: 'D:/external_datasets/TAO/TAO_DIR/frames/val/AVA/GElolK2jG50_scene_7_135593-137130/frame1141.jpg'\n"
     ]
    },
    {
     "name": "stderr",
     "output_type": "stream",
     "text": [
      "\n",
      "\n",
      ">>> Finding TAO clipboard...:  53%|█████████████████████████▉                       | 35/66 [00:00<00:00, 196.63it/s]\u001b[A"
     ]
    },
    {
     "name": "stdout",
     "output_type": "stream",
     "text": [
      "[Errno 2] No such file or directory: 'D:/external_datasets/TAO/TAO_DIR/frames/val/YFCC100M/v_e3919198858e7ac1a61aae1e486c7664/frame0811.jpeg'\n"
     ]
    },
    {
     "name": "stderr",
     "output_type": "stream",
     "text": [
      "\n",
      "\n",
      ">>> Finding TAO clipboard...:  55%|██████████████████████████▋                      | 36/66 [00:00<00:00, 216.18it/s]\u001b[A"
     ]
    },
    {
     "name": "stdout",
     "output_type": "stream",
     "text": [
      "[Errno 2] No such file or directory: 'D:/external_datasets/TAO/TAO_DIR/frames/val/YFCC100M/v_e3919198858e7ac1a61aae1e486c7664/frame0841.jpeg'\n"
     ]
    },
    {
     "name": "stderr",
     "output_type": "stream",
     "text": [
      "\n"
     ]
    },
    {
     "name": "stdout",
     "output_type": "stream",
     "text": [
      ">>> finding similar category:  computer_keyboard\n",
      "TAO\n"
     ]
    },
    {
     "name": "stderr",
     "output_type": "stream",
     "text": [
      "\n",
      ">>> Finding TAO scoreboard...: 100%|███████████████████████████████████████████████| 14/14 [00:00<00:00, 1272.35it/s]\u001b[A\n",
      "\n",
      ">>> Finding TAO scoreboard...: 100%|███████████████████████████████████████████████| 14/14 [00:00<00:00, 1166.57it/s]\u001b[A\n",
      "\n",
      ">>> Finding TAO scoreboard...: 100%|████████████████████████████████████████████████| 14/14 [00:00<00:00, 931.12it/s]\u001b[A\n",
      "\n",
      ">>> Finding TAO scoreboard...: 100%|███████████████████████████████████████████████| 14/14 [00:00<00:00, 1400.13it/s]\u001b[A\n",
      "\n",
      ">>> Finding TAO scoreboard...: 100%|███████████████████████████████████████████████| 14/14 [00:00<00:00, 1166.57it/s]\u001b[A\n",
      "\n",
      ">>> Finding TAO scoreboard...: 100%|███████████████████████████████████████████████| 14/14 [00:00<00:00, 1166.66it/s]\u001b[A\n",
      "\n",
      ">>> Finding TAO scoreboard...: 100%|███████████████████████████████████████████████| 14/14 [00:00<00:00, 1272.68it/s]\u001b[A\n",
      "\n",
      ">>> Finding TAO scoreboard...: 100%|████████████████████████████████████████████████| 14/14 [00:00<00:00, 874.85it/s]\u001b[A\n",
      "\n",
      ">>> Finding TAO scoreboard...: 100%|███████████████████████████████████████████████| 14/14 [00:00<00:00, 1272.35it/s]\u001b[A"
     ]
    },
    {
     "name": "stdout",
     "output_type": "stream",
     "text": [
      ">>> finding similar category:  corkboard\n",
      ">>>> #WARNING corkboard is missing from json annotations\n",
      "annotations datasets:  []\n",
      "annotations imgids:  []\n",
      "annotations bbox:  []\n",
      ">>> finding similar category:  dartboard\n",
      ">>>> #WARNING dartboard is missing from json annotations\n",
      "annotations datasets:  []\n",
      "annotations imgids:  []\n",
      "annotations bbox:  []\n",
      ">>> finding similar category:  headboard\n",
      ">>>> #WARNING headboard is missing from json annotations\n",
      "annotations datasets:  []\n",
      "annotations imgids:  []\n",
      "annotations bbox:  []\n",
      ">>> finding similar category:  ironing_board\n",
      ">>>> #WARNING ironing_board is missing from json annotations\n",
      "annotations datasets:  []\n",
      "annotations imgids:  []\n",
      "annotations bbox:  []\n",
      ">>> finding similar category:  pegboard\n",
      ">>>> #WARNING pegboard is missing from json annotations\n",
      "annotations datasets:  []\n",
      "annotations imgids:  []\n",
      "annotations bbox:  []\n",
      ">>> finding similar category:  scoreboard\n",
      "TAO\n",
      "[Errno 2] No such file or directory: 'D:/external_datasets/TAO/TAO_DIR/frames/train/YFCC100M/v_ae4c865e2aff9a1fd3435ac885b45c/frame1111.jpeg'\n",
      ">>>> #WARNING: No file found for: TAO scoreboard...\n",
      "[Errno 2] No such file or directory: 'D:/external_datasets/TAO/TAO_DIR/frames/train/YFCC100M/v_ae4c865e2aff9a1fd3435ac885b45c/frame0601.jpeg'\n",
      ">>>> #WARNING: No file found for: TAO scoreboard...\n",
      "[Errno 2] No such file or directory: 'D:/external_datasets/TAO/TAO_DIR/frames/train/YFCC100M/v_ae4c865e2aff9a1fd3435ac885b45c/frame0061.jpeg'\n",
      ">>>> #WARNING: No file found for: TAO scoreboard...\n",
      "[Errno 2] No such file or directory: 'D:/external_datasets/TAO/TAO_DIR/frames/train/YFCC100M/v_ae4c865e2aff9a1fd3435ac885b45c/frame1171.jpeg'\n",
      ">>>> #WARNING: No file found for: TAO scoreboard...\n",
      "[Errno 2] No such file or directory: 'D:/external_datasets/TAO/TAO_DIR/frames/train/YFCC100M/v_ae4c865e2aff9a1fd3435ac885b45c/frame0211.jpeg'\n",
      ">>>> #WARNING: No file found for: TAO scoreboard...\n",
      "[Errno 2] No such file or directory: 'D:/external_datasets/TAO/TAO_DIR/frames/train/YFCC100M/v_ae4c865e2aff9a1fd3435ac885b45c/frame1201.jpeg'\n",
      ">>>> #WARNING: No file found for: TAO scoreboard...\n",
      "[Errno 2] No such file or directory: 'D:/external_datasets/TAO/TAO_DIR/frames/train/YFCC100M/v_ae4c865e2aff9a1fd3435ac885b45c/frame0751.jpeg'\n",
      ">>>> #WARNING: No file found for: TAO scoreboard...\n",
      "[Errno 2] No such file or directory: 'D:/external_datasets/TAO/TAO_DIR/frames/train/YFCC100M/v_ae4c865e2aff9a1fd3435ac885b45c/frame0031.jpeg'\n",
      ">>>> #WARNING: No file found for: TAO scoreboard...\n",
      "[Errno 2] No such file or directory: 'D:/external_datasets/TAO/TAO_DIR/frames/train/YFCC100M/v_ae4c865e2aff9a1fd3435ac885b45c/frame0481.jpeg'\n",
      ">>>> #WARNING: No file found for: TAO scoreboard...\n",
      "[Errno 2] No such file or directory: 'D:/external_datasets/TAO/TAO_DIR/frames/train/YFCC100M/v_ae4c865e2aff9a1fd3435ac885b45c/frame0361.jpeg'\n"
     ]
    },
    {
     "name": "stderr",
     "output_type": "stream",
     "text": [
      "\n",
      "\n",
      ">>> Finding TAO scoreboard...: 100%|████████████████████████████████████████████████| 14/14 [00:00<00:00, 875.05it/s]\u001b[A\n",
      " 29%|██████████████████████▌                                                        | 54/189 [02:31<11:58,  5.32s/it]"
     ]
    },
    {
     "name": "stdout",
     "output_type": "stream",
     "text": [
      ">>>> #WARNING: No file found for: TAO scoreboard...\n",
      ">>> finding similar category:  signboard\n",
      ">>>> #WARNING signboard is missing from json annotations\n",
      "annotations datasets:  []\n",
      "annotations imgids:  []\n",
      "annotations bbox:  []\n",
      "\n",
      ">> boat...\n",
      ">>> finding similar category:  boat\n",
      "COCO\n",
      "[Errno 2] No such file or directory: 'D:/external_datasets/COCO/2017/images/val2017/000000078032.jpg'\n"
     ]
    },
    {
     "name": "stderr",
     "output_type": "stream",
     "text": [
      "\n",
      ">>> Finding COCO boat...:   0%|                                                            | 0/11189 [00:00<?, ?it/s]\u001b[A\n",
      "\n",
      ">>> Finding COCO boat...:   0%|                                                   | 1/11189 [00:00<01:18, 142.97it/s]\u001b[A\n"
     ]
    },
    {
     "name": "stdout",
     "output_type": "stream",
     "text": [
      "[Errno 2] No such file or directory: 'D:/external_datasets/COCO/2017/images/val2017/000000133645.jpg'\n",
      ">>> finding similar category:  fishing_boat\n",
      ">>>> #WARNING fishing_boat is missing from json annotations\n",
      "annotations datasets:  []\n",
      "annotations imgids:  []\n",
      "annotations bbox:  []\n",
      ">>> finding similar category:  gondola_(boat)\n",
      ">>>> #WARNING gondola_(boat) is missing from json annotations\n",
      "annotations datasets:  []\n",
      "annotations imgids:  []\n",
      "annotations bbox:  []\n",
      ">>> finding similar category:  gravy_boat\n",
      ">>>> #WARNING gravy_boat is missing from json annotations\n",
      "annotations datasets:  []\n",
      "annotations imgids:  []\n",
      "annotations bbox:  []\n",
      ">>> finding similar category:  houseboat\n",
      ">>>> #WARNING houseboat is missing from json annotations\n",
      "annotations datasets:  []\n",
      "annotations imgids:  []\n",
      "annotations bbox:  []\n",
      ">>> finding similar category:  motorboat\n",
      "TAO\n"
     ]
    },
    {
     "name": "stderr",
     "output_type": "stream",
     "text": [
      " 29%|██████████████████████▉                                                        | 55/189 [02:33<09:44,  4.36s/it]"
     ]
    },
    {
     "name": "stdout",
     "output_type": "stream",
     "text": [
      ">>> finding similar category:  river_boat\n",
      ">>>> #WARNING river_boat is missing from json annotations\n",
      "annotations datasets:  []\n",
      "annotations imgids:  []\n",
      "annotations bbox:  []\n",
      "\n",
      ">> bolt...\n",
      ">>> finding similar category:  bolt\n",
      ">>>> #WARNING bolt is missing from json annotations\n",
      "annotations datasets:  []\n",
      "annotations imgids:  []\n",
      "annotations bbox:  []\n",
      ">>> finding similar category:  deadbolt\n",
      ">>>> #WARNING deadbolt is missing from json annotations\n",
      "annotations datasets:  []\n",
      "annotations imgids:  []\n",
      "annotations bbox:  []\n",
      "\n",
      ">> book...\n",
      ">>> finding similar category:  book\n",
      "COCO\n",
      ">>> finding similar category:  book_bag\n",
      ">>>> #WARNING book_bag is missing from json annotations\n",
      "annotations datasets:  []\n",
      "annotations imgids:  []\n",
      "annotations bbox:  []\n",
      ">>> finding similar category:  bookcase\n",
      ">>>> #WARNING bookcase is missing from json annotations\n",
      "annotations datasets:  []\n",
      "annotations imgids:  []\n",
      "annotations bbox:  []\n",
      ">>> finding similar category:  booklet\n",
      "TAO\n"
     ]
    },
    {
     "name": "stderr",
     "output_type": "stream",
     "text": [
      "\n",
      ">>> Finding TAO booklet...:   0%|                                                             | 0/70 [00:00<?, ?it/s]\u001b[A"
     ]
    },
    {
     "name": "stdout",
     "output_type": "stream",
     "text": [
      "[Errno 2] No such file or directory: 'D:/external_datasets/TAO/TAO_DIR/frames/train/Charades/Y3M3W/frame0991.jpg'\n"
     ]
    },
    {
     "name": "stderr",
     "output_type": "stream",
     "text": [
      "\n"
     ]
    },
    {
     "name": "stdout",
     "output_type": "stream",
     "text": [
      ">>> finding similar category:  bookmark\n",
      ">>>> #WARNING bookmark is missing from json annotations\n",
      "annotations datasets:  []\n",
      "annotations imgids:  []\n",
      "annotations bbox:  []\n",
      ">>> finding similar category:  checkbook\n",
      ">>>> #WARNING checkbook is missing from json annotations\n",
      "annotations datasets:  []\n",
      "annotations imgids:  []\n",
      "annotations bbox:  []\n",
      ">>> finding similar category:  comic_book\n",
      ">>>> #WARNING comic_book is missing from json annotations\n",
      "annotations datasets:  []\n",
      "annotations imgids:  []\n",
      "annotations bbox:  []\n",
      ">>> finding similar category:  hardback_book\n",
      ">>>> #WARNING hardback_book is missing from json annotations\n",
      "annotations datasets:  []\n",
      "annotations imgids:  []\n",
      "annotations bbox:  []\n",
      ">>> finding similar category:  notebook\n",
      "TAO\n"
     ]
    },
    {
     "name": "stderr",
     "output_type": "stream",
     "text": [
      "\n",
      ">>> Finding TAO notebook...:   0%|                                                           | 0/397 [00:00<?, ?it/s]\u001b[A"
     ]
    },
    {
     "name": "stdout",
     "output_type": "stream",
     "text": [
      "[Errno 2] No such file or directory: 'D:/external_datasets/TAO/TAO_DIR/frames/val/Charades/OEIR9/frame0987.jpg'\n"
     ]
    },
    {
     "name": "stderr",
     "output_type": "stream",
     "text": [
      "\n",
      " 30%|███████████████████████▊                                                       | 57/189 [02:37<08:03,  3.66s/it]"
     ]
    },
    {
     "name": "stdout",
     "output_type": "stream",
     "text": [
      ">>> finding similar category:  paperback_book\n",
      ">>>> #WARNING paperback_book is missing from json annotations\n",
      "annotations datasets:  []\n",
      "annotations imgids:  []\n",
      "annotations bbox:  []\n",
      ">>> finding similar category:  phonebook\n",
      ">>>> #WARNING phonebook is missing from json annotations\n",
      "annotations datasets:  []\n",
      "annotations imgids:  []\n",
      "annotations bbox:  []\n",
      "\n",
      ">> boot...\n",
      ">>> finding similar category:  boot\n",
      ">>>> #WARNING boot is missing from json annotations\n",
      "annotations datasets:  []\n",
      "annotations imgids:  []\n",
      "annotations bbox:  []\n",
      ">>> finding similar category:  ski_boot\n",
      ">>>> #WARNING ski_boot is missing from json annotations\n",
      "annotations datasets:  []\n",
      "annotations imgids:  []\n",
      "annotations bbox:  []\n",
      ">>> finding similar category:  telephone_booth\n",
      ">>>> #WARNING telephone_booth is missing from json annotations\n",
      "annotations datasets:  []\n",
      "annotations imgids:  []\n",
      "annotations bbox:  []\n",
      "\n",
      ">> bottle...\n",
      ">>> finding similar category:  bottle\n",
      "COCO\n"
     ]
    },
    {
     "name": "stderr",
     "output_type": "stream",
     "text": [
      "\n",
      ">>> Finding TAO bottle_cap...:   0%|                                                         | 0/155 [00:00<?, ?it/s]\u001b[A"
     ]
    },
    {
     "name": "stdout",
     "output_type": "stream",
     "text": [
      ">>> finding similar category:  beer_bottle\n",
      ">>>> #WARNING beer_bottle is missing from json annotations\n",
      "annotations datasets:  []\n",
      "annotations imgids:  []\n",
      "annotations bbox:  []\n",
      ">>> finding similar category:  bottle_opener\n",
      ">>>> #WARNING bottle_opener is missing from json annotations\n",
      "annotations datasets:  []\n",
      "annotations imgids:  []\n",
      "annotations bbox:  []\n",
      ">>> finding similar category:  bottle_cap\n",
      "TAO\n",
      "[Errno 2] No such file or directory: 'D:/external_datasets/TAO/TAO_DIR/frames/train/HACS/Brushing_teeth_v_ghzmn2V-SDE/frame1561.jpg'\n"
     ]
    },
    {
     "name": "stderr",
     "output_type": "stream",
     "text": [
      "\n",
      "\n",
      ">>> Finding TAO bottle_cap...:   1%|▎                                                | 1/155 [00:00<00:02, 62.38it/s]\u001b[A\n",
      "\n",
      ">>> Finding TAO bottle_cap...:   1%|▌                                               | 2/155 [00:00<00:01, 124.81it/s]\u001b[A"
     ]
    },
    {
     "name": "stdout",
     "output_type": "stream",
     "text": [
      "[Errno 2] No such file or directory: 'D:/external_datasets/TAO/TAO_DIR/frames/train/HACS/Brushing_teeth_v_ghzmn2V-SDE/frame1585.jpg'\n",
      "[Errno 2] No such file or directory: 'D:/external_datasets/TAO/TAO_DIR/frames/train/HACS/Brushing_teeth_v_ghzmn2V-SDE/frame1369.jpg'\n"
     ]
    },
    {
     "name": "stderr",
     "output_type": "stream",
     "text": [
      "\n"
     ]
    },
    {
     "name": "stdout",
     "output_type": "stream",
     "text": [
      ">>> finding similar category:  cork_(bottle_plug)\n",
      ">>>> #WARNING cork_(bottle_plug) is missing from json annotations\n",
      "annotations datasets:  []\n",
      "annotations imgids:  []\n",
      "annotations bbox:  []\n",
      ">>> finding similar category:  thermos_bottle\n",
      ">>>> #WARNING thermos_bottle is missing from json annotations\n",
      "annotations datasets:  []\n",
      "annotations imgids:  []\n",
      "annotations bbox:  []\n",
      ">>> finding similar category:  water_bottle\n",
      "TAO\n"
     ]
    },
    {
     "name": "stderr",
     "output_type": "stream",
     "text": [
      "\n",
      ">>> Finding TAO wine_bottle...: 100%|██████████████████████████████████████████████████████████| 9/9 [00:00<?, ?it/s]\u001b[A\n",
      "\n",
      ">>> Finding TAO wine_bottle...: 100%|████████████████████████████████████████████████| 9/9 [00:00<00:00, 8992.08it/s]\u001b[A\n",
      "\n",
      ">>> Finding TAO wine_bottle...: 100%|██████████████████████████████████████████████████████████| 9/9 [00:00<?, ?it/s]\u001b[A\n",
      "\n",
      ">>> Finding TAO wine_bottle...: 100%|██████████████████████████████████████████████████████████| 9/9 [00:00<?, ?it/s]\u001b[A\n",
      "\n",
      ">>> Finding TAO wine_bottle...: 100%|██████████████████████████████████████████████████████████| 9/9 [00:00<?, ?it/s]\u001b[A\n",
      "\n",
      ">>> Finding TAO wine_bottle...: 100%|██████████████████████████████████████████████████████████| 9/9 [00:00<?, ?it/s]\u001b[A\n",
      "\n",
      ">>> Finding TAO wine_bottle...: 100%|██████████████████████████████████████████████████████████| 9/9 [00:00<?, ?it/s]\u001b[A\n",
      "\n",
      ">>> Finding TAO wine_bottle...: 100%|██████████████████████████████████████████████████████████| 9/9 [00:00<?, ?it/s]\u001b[A\n",
      "\n",
      ">>> Finding TAO wine_bottle...: 100%|██████████████████████████████████████████████████████████| 9/9 [00:00<?, ?it/s]\u001b[A\n",
      " 31%|████████████████████████▋                                                      | 59/189 [02:42<07:06,  3.28s/it]"
     ]
    },
    {
     "name": "stdout",
     "output_type": "stream",
     "text": [
      ">>> finding similar category:  wine_bottle\n",
      "TAO\n",
      "[Errno 2] No such file or directory: 'D:/external_datasets/TAO/TAO_DIR/frames/train/AVA/XOe9GeojzCs_scene_8_44057-45561/frame1141.jpg'\n",
      ">>>> #WARNING: No file found for: TAO wine_bottle...\n",
      "[Errno 2] No such file or directory: 'D:/external_datasets/TAO/TAO_DIR/frames/train/AVA/XOe9GeojzCs_scene_8_44057-45561/frame1021.jpg'\n",
      ">>>> #WARNING: No file found for: TAO wine_bottle...\n",
      "[Errno 2] No such file or directory: 'D:/external_datasets/TAO/TAO_DIR/frames/train/AVA/XOe9GeojzCs_scene_8_44057-45561/frame1261.jpg'\n",
      ">>>> #WARNING: No file found for: TAO wine_bottle...\n",
      "[Errno 2] No such file or directory: 'D:/external_datasets/TAO/TAO_DIR/frames/train/AVA/XOe9GeojzCs_scene_8_44057-45561/frame1231.jpg'\n",
      ">>>> #WARNING: No file found for: TAO wine_bottle...\n",
      "[Errno 2] No such file or directory: 'D:/external_datasets/TAO/TAO_DIR/frames/train/AVA/XOe9GeojzCs_scene_8_44057-45561/frame1201.jpg'\n",
      ">>>> #WARNING: No file found for: TAO wine_bottle...\n",
      "[Errno 2] No such file or directory: 'D:/external_datasets/TAO/TAO_DIR/frames/train/AVA/XOe9GeojzCs_scene_8_44057-45561/frame1051.jpg'\n",
      ">>>> #WARNING: No file found for: TAO wine_bottle...\n",
      "[Errno 2] No such file or directory: 'D:/external_datasets/TAO/TAO_DIR/frames/train/AVA/XOe9GeojzCs_scene_8_44057-45561/frame1081.jpg'\n",
      ">>>> #WARNING: No file found for: TAO wine_bottle...\n",
      "[Errno 2] No such file or directory: 'D:/external_datasets/TAO/TAO_DIR/frames/train/AVA/XOe9GeojzCs_scene_8_44057-45561/frame1171.jpg'\n",
      ">>>> #WARNING: No file found for: TAO wine_bottle...\n",
      "[Errno 2] No such file or directory: 'D:/external_datasets/TAO/TAO_DIR/frames/train/AVA/XOe9GeojzCs_scene_8_44057-45561/frame1111.jpg'\n",
      ">>>> #WARNING: No file found for: TAO wine_bottle...\n",
      "\n",
      ">> bowl...\n",
      ">>> finding similar category:  bowl\n",
      "COCO\n"
     ]
    },
    {
     "name": "stderr",
     "output_type": "stream",
     "text": [
      "\n",
      ">>> Finding COCO bowl...:   0%|                                                            | 0/14984 [00:00<?, ?it/s]\u001b[A"
     ]
    },
    {
     "name": "stdout",
     "output_type": "stream",
     "text": [
      "[Errno 2] No such file or directory: 'D:/external_datasets/COCO/2017/images/val2017/000000215644.jpg'\n"
     ]
    },
    {
     "name": "stderr",
     "output_type": "stream",
     "text": [
      "\n",
      "\n",
      ">>> Finding COCO bowl...:   0%|                                                    | 1/14984 [00:00<16:59, 14.70it/s]\u001b[A"
     ]
    },
    {
     "name": "stdout",
     "output_type": "stream",
     "text": [
      "[Errno 2] No such file or directory: 'D:/external_datasets/COCO/2017/images/val2017/000000580294.jpg'\n"
     ]
    },
    {
     "name": "stderr",
     "output_type": "stream",
     "text": [
      "\n"
     ]
    },
    {
     "name": "stdout",
     "output_type": "stream",
     "text": [
      ">>> finding similar category:  pipe_bowl\n",
      ">>>> #WARNING pipe_bowl is missing from json annotations\n",
      "annotations datasets:  []\n",
      "annotations imgids:  []\n",
      "annotations bbox:  []\n",
      ">>> finding similar category:  bowler_hat\n",
      ">>>> #WARNING bowler_hat is missing from json annotations\n",
      "annotations datasets:  []\n",
      "annotations imgids:  []\n",
      "annotations bbox:  []\n",
      ">>> finding similar category:  bowling_ball\n",
      ">>>> #WARNING bowling_ball is missing from json annotations\n",
      "annotations datasets:  []\n",
      "annotations imgids:  []\n",
      "annotations bbox:  []\n",
      ">>> finding similar category:  bowling_pin\n",
      ">>>> #WARNING bowling_pin is missing from json annotations\n",
      "annotations datasets:  []\n",
      "annotations imgids:  []\n",
      "annotations bbox:  []\n",
      ">>> finding similar category:  fishbowl\n",
      ">>>> #WARNING fishbowl is missing from json annotations\n",
      "annotations datasets:  []\n",
      "annotations imgids:  []\n",
      "annotations bbox:  []\n",
      ">>> finding similar category:  soup_bowl\n",
      ">>>> #WARNING soup_bowl is missing from json annotations\n",
      "annotations datasets:  []\n",
      "annotations imgids:  []\n",
      "annotations bbox:  []\n",
      ">>> finding similar category:  sugar_bowl\n",
      "TAO\n"
     ]
    },
    {
     "name": "stderr",
     "output_type": "stream",
     "text": [
      "\n",
      ">>> Finding TAO sugar_bowl...:  25%|████████████▎                                    | 4/16 [00:00<00:00, 137.95it/s]\u001b[A"
     ]
    },
    {
     "name": "stdout",
     "output_type": "stream",
     "text": [
      "[Errno 2] No such file or directory: 'D:/external_datasets/TAO/TAO_DIR/frames/val/AVA/J4bt4y9ShTA_scene_8_41065-42264/frame1076.jpg'\n"
     ]
    },
    {
     "name": "stderr",
     "output_type": "stream",
     "text": [
      "\n",
      "\n",
      ">>> Finding TAO sugar_bowl...:  31%|███████████████▎                                 | 5/16 [00:00<00:00, 156.05it/s]\u001b[A"
     ]
    },
    {
     "name": "stdout",
     "output_type": "stream",
     "text": [
      "[Errno 2] No such file or directory: 'D:/external_datasets/TAO/TAO_DIR/frames/val/AVA/J4bt4y9ShTA_scene_8_41065-42264/frame1026.jpg'\n"
     ]
    },
    {
     "name": "stderr",
     "output_type": "stream",
     "text": [
      "\n",
      "\n",
      ">>> Finding TAO sugar_bowl...:  44%|█████████████████████▍                           | 7/16 [00:00<00:00, 218.46it/s]\u001b[A"
     ]
    },
    {
     "name": "stdout",
     "output_type": "stream",
     "text": [
      "[Errno 2] No such file or directory: 'D:/external_datasets/TAO/TAO_DIR/frames/val/AVA/J4bt4y9ShTA_scene_8_41065-42264/frame1001.jpg'\n"
     ]
    },
    {
     "name": "stderr",
     "output_type": "stream",
     "text": [
      "\n",
      " 32%|█████████████████████████                                                      | 60/189 [02:45<06:59,  3.25s/it]"
     ]
    },
    {
     "name": "stdout",
     "output_type": "stream",
     "text": [
      "\n",
      ">> bucket...\n",
      ">>> finding similar category:  bucket\n",
      "TAO\n"
     ]
    },
    {
     "name": "stderr",
     "output_type": "stream",
     "text": [
      " 32%|█████████████████████████▍                                                     | 61/189 [02:47<05:56,  2.78s/it]"
     ]
    },
    {
     "name": "stdout",
     "output_type": "stream",
     "text": [
      ">>> finding similar category:  wine_bucket\n",
      ">>>> #WARNING wine_bucket is missing from json annotations\n",
      "annotations datasets:  []\n",
      "annotations imgids:  []\n",
      "annotations bbox:  []\n",
      "\n",
      ">> bull...\n",
      ">>> finding similar category:  bull\n",
      "TAO\n"
     ]
    },
    {
     "name": "stderr",
     "output_type": "stream",
     "text": [
      "\n",
      ">>> Finding TAO bull...:   0%|                                                                | 0/80 [00:00<?, ?it/s]\u001b[A"
     ]
    },
    {
     "name": "stdout",
     "output_type": "stream",
     "text": [
      "[Errno 2] No such file or directory: 'D:/external_datasets/TAO/TAO_DIR/frames/val/HACS/Bullfighting_v_zkKpaYdtrzc_scene_0_0-2235/frame1141.jpg'\n"
     ]
    },
    {
     "name": "stderr",
     "output_type": "stream",
     "text": [
      "\n",
      " 33%|█████████████████████████▉                                                     | 62/189 [02:48<05:06,  2.41s/it]\n",
      ">>> Finding TAO bun...:   0%|                                                                 | 0/77 [00:00<?, ?it/s]\u001b[A"
     ]
    },
    {
     "name": "stdout",
     "output_type": "stream",
     "text": [
      ">>> finding similar category:  bulldog\n",
      ">>>> #WARNING bulldog is missing from json annotations\n",
      "annotations datasets:  []\n",
      "annotations imgids:  []\n",
      "annotations bbox:  []\n",
      ">>> finding similar category:  bulldozer\n",
      ">>>> #WARNING bulldozer is missing from json annotations\n",
      "annotations datasets:  []\n",
      "annotations imgids:  []\n",
      "annotations bbox:  []\n",
      ">>> finding similar category:  bullet_train\n",
      ">>>> #WARNING bullet_train is missing from json annotations\n",
      "annotations datasets:  []\n",
      "annotations imgids:  []\n",
      "annotations bbox:  []\n",
      ">>> finding similar category:  bulletin_board\n",
      ">>>> #WARNING bulletin_board is missing from json annotations\n",
      "annotations datasets:  []\n",
      "annotations imgids:  []\n",
      "annotations bbox:  []\n",
      ">>> finding similar category:  bulletproof_vest\n",
      ">>>> #WARNING bulletproof_vest is missing from json annotations\n",
      "annotations datasets:  []\n",
      "annotations imgids:  []\n",
      "annotations bbox:  []\n",
      ">>> finding similar category:  bullhorn\n",
      ">>>> #WARNING bullhorn is missing from json annotations\n",
      "annotations datasets:  []\n",
      "annotations imgids:  []\n",
      "annotations bbox:  []\n",
      "\n",
      ">> bun...\n",
      ">>> finding similar category:  bun\n",
      "TAO\n",
      "[Errno 2] No such file or directory: 'D:/external_datasets/TAO/TAO_DIR/frames/val/HACS/Making_a_sandwich_v_6RjriKVIkR4_scene_0_0-4638/frame1051.jpg'\n"
     ]
    },
    {
     "name": "stderr",
     "output_type": "stream",
     "text": [
      "\n",
      "\n",
      ">>> Finding TAO bun...:   3%|█▍                                                       | 2/77 [00:00<00:00, 83.34it/s]\u001b[A\n",
      "\n",
      ">>> Finding TAO bun...:   4%|██▏                                                     | 3/77 [00:00<00:00, 176.48it/s]\u001b[A"
     ]
    },
    {
     "name": "stdout",
     "output_type": "stream",
     "text": [
      "[Errno 2] No such file or directory: 'D:/external_datasets/TAO/TAO_DIR/frames/val/HACS/Making_a_sandwich_v_6RjriKVIkR4_scene_0_0-4638/frame1051.jpg'\n",
      "[Errno 2] No such file or directory: 'D:/external_datasets/TAO/TAO_DIR/frames/val/HACS/Making_a_sandwich_v_6RjriKVIkR4_scene_0_0-4638/frame1171.jpg'\n"
     ]
    },
    {
     "name": "stderr",
     "output_type": "stream",
     "text": [
      "\n",
      " 33%|██████████████████████████▎                                                    | 63/189 [02:50<04:24,  2.10s/it]"
     ]
    },
    {
     "name": "stdout",
     "output_type": "stream",
     "text": [
      ">>> finding similar category:  bunk_bed\n",
      ">>>> #WARNING bunk_bed is missing from json annotations\n",
      "annotations datasets:  []\n",
      "annotations imgids:  []\n",
      "annotations bbox:  []\n",
      "\n",
      ">> buoy...\n",
      ">>> finding similar category:  buoy\n",
      "TAO\n",
      ">>> finding similar category:  life_buoy\n",
      "TAO\n"
     ]
    },
    {
     "name": "stderr",
     "output_type": "stream",
     "text": [
      "\n",
      ">>> Finding TAO life_buoy...:   0%|                                                           | 0/26 [00:00<?, ?it/s]\u001b[A"
     ]
    },
    {
     "name": "stdout",
     "output_type": "stream",
     "text": [
      "[Errno 2] No such file or directory: 'D:/external_datasets/TAO/TAO_DIR/frames/val/HACS/Playing_pool_v_Ezp2mNlD1S8_scene_0_0-5428/frame1081.jpg'\n"
     ]
    },
    {
     "name": "stderr",
     "output_type": "stream",
     "text": [
      "\n",
      "\n",
      ">>> Finding TAO life_buoy...:   8%|███▉                                               | 2/26 [00:00<00:00, 49.99it/s]\u001b[A"
     ]
    },
    {
     "name": "stdout",
     "output_type": "stream",
     "text": [
      "[Errno 2] No such file or directory: 'D:/external_datasets/TAO/TAO_DIR/frames/val/HACS/Playing_pool_v_Ezp2mNlD1S8_scene_0_0-5428/frame1051.jpg'\n"
     ]
    },
    {
     "name": "stderr",
     "output_type": "stream",
     "text": [
      "\n",
      " 34%|██████████████████████████▊                                                    | 64/189 [02:52<04:51,  2.33s/it]"
     ]
    },
    {
     "name": "stdout",
     "output_type": "stream",
     "text": [
      "\n",
      ">> butter...\n",
      ">>> finding similar category:  butter\n",
      ">>>> #WARNING butter is missing from json annotations\n",
      "annotations datasets:  []\n",
      "annotations imgids:  []\n",
      "annotations bbox:  []\n",
      ">>> finding similar category:  butterfly\n",
      ">>>> #WARNING butterfly is missing from json annotations\n",
      "annotations datasets:  []\n",
      "annotations imgids:  []\n",
      "annotations bbox:  []\n",
      ">>> finding similar category:  peanut_butter\n",
      ">>>> #WARNING peanut_butter is missing from json annotations\n",
      "annotations datasets:  []\n",
      "annotations imgids:  []\n",
      "annotations bbox:  []\n",
      "\n",
      ">> cabinet...\n",
      ">>> finding similar category:  cabinet\n",
      ">>>> #WARNING cabinet is missing from json annotations\n",
      "annotations datasets:  []\n",
      "annotations imgids:  []\n",
      "annotations bbox:  []\n",
      ">>> finding similar category:  file_cabinet\n",
      ">>>> #WARNING file_cabinet is missing from json annotations\n",
      "annotations datasets:  []\n",
      "annotations imgids:  []\n",
      "annotations bbox:  []\n",
      "\n",
      ">> cake...\n",
      ">>> finding similar category:  cake\n",
      "COCO\n"
     ]
    },
    {
     "name": "stderr",
     "output_type": "stream",
     "text": [
      " 35%|████████████████████████████                                                   | 67/189 [02:53<03:30,  1.73s/it]"
     ]
    },
    {
     "name": "stdout",
     "output_type": "stream",
     "text": [
      ">>> finding similar category:  birthday_cake\n",
      ">>>> #WARNING birthday_cake is missing from json annotations\n",
      "annotations datasets:  []\n",
      "annotations imgids:  []\n",
      "annotations bbox:  []\n",
      ">>> finding similar category:  chocolate_cake\n",
      ">>>> #WARNING chocolate_cake is missing from json annotations\n",
      "annotations datasets:  []\n",
      "annotations imgids:  []\n",
      "annotations bbox:  []\n",
      ">>> finding similar category:  cupcake\n",
      ">>>> #WARNING cupcake is missing from json annotations\n",
      "annotations datasets:  []\n",
      "annotations imgids:  []\n",
      "annotations bbox:  []\n",
      ">>> finding similar category:  pancake\n",
      ">>>> #WARNING pancake is missing from json annotations\n",
      "annotations datasets:  []\n",
      "annotations imgids:  []\n",
      "annotations bbox:  []\n",
      ">>> finding similar category:  wedding_cake\n",
      ">>>> #WARNING wedding_cake is missing from json annotations\n",
      "annotations datasets:  []\n",
      "annotations imgids:  []\n",
      "annotations bbox:  []\n",
      "\n",
      ">> camera...\n",
      ">>> finding similar category:  camera\n",
      "TAO\n"
     ]
    },
    {
     "name": "stderr",
     "output_type": "stream",
     "text": [
      "\n",
      ">>> Finding TAO camera...:   0%|                                                             | 0/473 [00:00<?, ?it/s]\u001b[A"
     ]
    },
    {
     "name": "stdout",
     "output_type": "stream",
     "text": [
      "[Errno 2] No such file or directory: 'D:/external_datasets/TAO/TAO_DIR/frames/val/HACS/Waterskiing_v_cOGSjHqWc5o_scene_0_0-1581/frame0991.jpg'\n"
     ]
    },
    {
     "name": "stderr",
     "output_type": "stream",
     "text": [
      "\n",
      " 36%|████████████████████████████▍                                                  | 68/189 [02:55<03:32,  1.75s/it]"
     ]
    },
    {
     "name": "stdout",
     "output_type": "stream",
     "text": [
      ">>> finding similar category:  camera_lens\n",
      ">>>> #WARNING camera_lens is missing from json annotations\n",
      "annotations datasets:  []\n",
      "annotations imgids:  []\n",
      "annotations bbox:  []\n",
      ">>> finding similar category:  television_camera\n",
      ">>>> #WARNING television_camera is missing from json annotations\n",
      "annotations datasets:  []\n",
      "annotations imgids:  []\n",
      "annotations bbox:  []\n",
      "\n",
      ">> can...\n",
      ">>> finding similar category:  can\n",
      "TAO\n",
      ">>> finding similar category:  aerosol_can\n",
      "TAO\n",
      ">>> finding similar category:  trash_can\n",
      ">>>> #WARNING trash_can is missing from json annotations\n",
      "annotations datasets:  []\n",
      "annotations imgids:  []\n",
      "annotations bbox:  []\n",
      ">>> finding similar category:  beer_can\n",
      ">>>> #WARNING beer_can is missing from json annotations\n",
      "annotations datasets:  []\n",
      "annotations imgids:  []\n",
      "annotations bbox:  []\n",
      ">>> finding similar category:  can_opener\n",
      ">>>> #WARNING can_opener is missing from json annotations\n",
      "annotations datasets:  []\n",
      "annotations imgids:  []\n",
      "annotations bbox:  []\n",
      ">>> finding similar category:  candelabrum\n",
      ">>>> #WARNING candelabrum is missing from json annotations\n",
      "annotations datasets:  []\n",
      "annotations imgids:  []\n",
      "annotations bbox:  []\n",
      ">>> finding similar category:  candle\n",
      "TAO\n"
     ]
    },
    {
     "name": "stderr",
     "output_type": "stream",
     "text": [
      "\n",
      ">>> Finding TAO candle...:   0%|                                                              | 0/72 [00:00<?, ?it/s]\u001b[A"
     ]
    },
    {
     "name": "stdout",
     "output_type": "stream",
     "text": [
      "[Errno 2] No such file or directory: 'D:/external_datasets/TAO/TAO_DIR/frames/train/AVA/TcB0IFBwk-k_scene_8_60601-61875/frame1021.jpg'\n"
     ]
    },
    {
     "name": "stderr",
     "output_type": "stream",
     "text": [
      "\n",
      "\n",
      ">>> Finding TAO candle...:   1%|▊                                                     | 1/72 [00:00<00:03, 18.17it/s]\u001b[A"
     ]
    },
    {
     "name": "stdout",
     "output_type": "stream",
     "text": [
      "[Errno 2] No such file or directory: 'D:/external_datasets/TAO/TAO_DIR/frames/train/AVA/TcB0IFBwk-k_scene_8_60601-61875/frame1051.jpg'\n"
     ]
    },
    {
     "name": "stderr",
     "output_type": "stream",
     "text": [
      "\n"
     ]
    },
    {
     "name": "stdout",
     "output_type": "stream",
     "text": [
      ">>> finding similar category:  candle_holder\n",
      ">>>> #WARNING candle_holder is missing from json annotations\n",
      "annotations datasets:  []\n",
      "annotations imgids:  []\n",
      "annotations bbox:  []\n",
      ">>> finding similar category:  candy_bar\n",
      ">>>> #WARNING candy_bar is missing from json annotations\n",
      "annotations datasets:  []\n",
      "annotations imgids:  []\n",
      "annotations bbox:  []\n",
      ">>> finding similar category:  candy_cane\n",
      ">>>> #WARNING candy_cane is missing from json annotations\n",
      "annotations datasets:  []\n",
      "annotations imgids:  []\n",
      "annotations bbox:  []\n",
      ">>> finding similar category:  walking_cane\n",
      ">>>> #WARNING walking_cane is missing from json annotations\n",
      "annotations datasets:  []\n",
      "annotations imgids:  []\n",
      "annotations bbox:  []\n",
      ">>> finding similar category:  canister\n",
      "TAO\n"
     ]
    },
    {
     "name": "stderr",
     "output_type": "stream",
     "text": [
      "\n",
      ">>> Finding TAO canister...:   0%|                                                           | 0/214 [00:00<?, ?it/s]\u001b[A"
     ]
    },
    {
     "name": "stdout",
     "output_type": "stream",
     "text": [
      "[Errno 2] No such file or directory: 'D:/external_datasets/TAO/TAO_DIR/frames/val/YFCC100M/v_f082f297a09e147bb990b9cc89c7ad8e/frame0151.jpeg'\n"
     ]
    },
    {
     "name": "stderr",
     "output_type": "stream",
     "text": [
      "\n"
     ]
    },
    {
     "name": "stdout",
     "output_type": "stream",
     "text": [
      ">>> finding similar category:  cannon\n",
      ">>>> #WARNING cannon is missing from json annotations\n",
      "annotations datasets:  []\n",
      "annotations imgids:  []\n",
      "annotations bbox:  []\n",
      ">>> finding similar category:  canoe\n",
      "TAO\n",
      ">>> finding similar category:  cantaloup\n",
      ">>>> #WARNING cantaloup is missing from json annotations\n",
      "annotations datasets:  []\n",
      "annotations imgids:  []\n",
      "annotations bbox:  []\n",
      ">>> finding similar category:  canteen\n",
      ">>>> #WARNING canteen is missing from json annotations\n",
      "annotations datasets:  []\n",
      "annotations imgids:  []\n",
      "annotations bbox:  []\n",
      ">>> finding similar category:  football_(American)\n",
      ">>>> #WARNING football_(American) is missing from json annotations\n",
      "annotations datasets:  []\n",
      "annotations imgids:  []\n",
      "annotations bbox:  []\n",
      ">>> finding similar category:  mint_candy\n",
      ">>>> #WARNING mint_candy is missing from json annotations\n",
      "annotations datasets:  []\n",
      "annotations imgids:  []\n",
      "annotations bbox:  []\n",
      ">>> finding similar category:  pelican\n",
      "TAO\n"
     ]
    },
    {
     "name": "stderr",
     "output_type": "stream",
     "text": [
      " 37%|████████████████████████████▊                                                  | 69/189 [03:04<07:56,  3.97s/it]"
     ]
    },
    {
     "name": "stdout",
     "output_type": "stream",
     "text": [
      ">>> finding similar category:  sugarcane_(plant)\n",
      ">>>> #WARNING sugarcane_(plant) is missing from json annotations\n",
      "annotations datasets:  []\n",
      "annotations imgids:  []\n",
      "annotations bbox:  []\n",
      ">>> finding similar category:  watering_can\n",
      ">>>> #WARNING watering_can is missing from json annotations\n",
      "annotations datasets:  []\n",
      "annotations imgids:  []\n",
      "annotations bbox:  []\n",
      "\n",
      ">> candle...\n",
      ">>> finding similar category:  candle\n",
      "TAO\n"
     ]
    },
    {
     "name": "stderr",
     "output_type": "stream",
     "text": [
      "\n",
      ">>> Finding TAO candle...:   0%|                                                              | 0/72 [00:00<?, ?it/s]\u001b[A"
     ]
    },
    {
     "name": "stdout",
     "output_type": "stream",
     "text": [
      "[Errno 2] No such file or directory: 'D:/external_datasets/TAO/TAO_DIR/frames/train/AVA/TcB0IFBwk-k_scene_8_60601-61875/frame1171.jpg'\n"
     ]
    },
    {
     "name": "stderr",
     "output_type": "stream",
     "text": [
      "\n",
      " 37%|█████████████████████████████▎                                                 | 70/189 [03:06<06:18,  3.18s/it]\n",
      ">>> Finding TAO business_card...: 100%|██████████████████████████████████████████████████████| 10/10 [00:00<?, ?it/s]\u001b[A\n",
      "\n",
      ">>> Finding TAO business_card...: 100%|██████████████████████████████████████████████████████| 10/10 [00:00<?, ?it/s]\u001b[A\n",
      "\n",
      ">>> Finding TAO business_card...: 100%|██████████████████████████████████████████████████████| 10/10 [00:00<?, ?it/s]\u001b[A\n",
      "\n",
      ">>> Finding TAO business_card...: 100%|██████████████████████████████████████████████████████| 10/10 [00:00<?, ?it/s]\u001b[A\n",
      "\n",
      ">>> Finding TAO business_card...: 100%|██████████████████████████████████████████████████████| 10/10 [00:00<?, ?it/s]\u001b[A\n",
      "\n",
      ">>> Finding TAO business_card...: 100%|██████████████████████████████████████████████████████| 10/10 [00:00<?, ?it/s]\u001b[A\n",
      "\n",
      ">>> Finding TAO business_card...: 100%|██████████████████████████████████████████████████████| 10/10 [00:00<?, ?it/s]\u001b[A\n",
      "\n",
      ">>> Finding TAO business_card...: 100%|██████████████████████████████████████████████████████| 10/10 [00:00<?, ?it/s]\u001b[A\n",
      "\n",
      ">>> Finding TAO business_card...: 100%|███████████████████████████████████████████| 10/10 [00:00<00:00, 10063.11it/s]\u001b[A\n",
      "\n",
      ">>> Finding TAO business_card...: 100%|██████████████████████████████████████████████████████| 10/10 [00:00<?, ?it/s]\u001b[A"
     ]
    },
    {
     "name": "stdout",
     "output_type": "stream",
     "text": [
      ">>> finding similar category:  candle_holder\n",
      ">>>> #WARNING candle_holder is missing from json annotations\n",
      "annotations datasets:  []\n",
      "annotations imgids:  []\n",
      "annotations bbox:  []\n",
      "\n",
      ">> card...\n",
      ">>> finding similar category:  card\n",
      ">>>> #WARNING card is missing from json annotations\n",
      "annotations datasets:  []\n",
      "annotations imgids:  []\n",
      "annotations bbox:  []\n",
      ">>> finding similar category:  birthday_card\n",
      ">>>> #WARNING birthday_card is missing from json annotations\n",
      "annotations datasets:  []\n",
      "annotations imgids:  []\n",
      "annotations bbox:  []\n",
      ">>> finding similar category:  business_card\n",
      "TAO\n",
      "[Errno 2] No such file or directory: 'D:/external_datasets/TAO/TAO_DIR/frames/val/AVA/4Y5qi1gD2Sw_scene_1_28435-31083/frame1171.jpg'\n",
      ">>>> #WARNING: No file found for: TAO business_card...\n",
      "[Errno 2] No such file or directory: 'D:/external_datasets/TAO/TAO_DIR/frames/val/AVA/4Y5qi1gD2Sw_scene_1_28435-31083/frame1261.jpg'\n",
      ">>>> #WARNING: No file found for: TAO business_card...\n",
      "[Errno 2] No such file or directory: 'D:/external_datasets/TAO/TAO_DIR/frames/val/AVA/4Y5qi1gD2Sw_scene_1_28435-31083/frame1141.jpg'\n",
      ">>>> #WARNING: No file found for: TAO business_card...\n",
      "[Errno 2] No such file or directory: 'D:/external_datasets/TAO/TAO_DIR/frames/val/AVA/4Y5qi1gD2Sw_scene_1_28435-31083/frame1231.jpg'\n",
      ">>>> #WARNING: No file found for: TAO business_card...\n",
      "[Errno 2] No such file or directory: 'D:/external_datasets/TAO/TAO_DIR/frames/val/AVA/4Y5qi1gD2Sw_scene_1_28435-31083/frame1291.jpg'\n",
      ">>>> #WARNING: No file found for: TAO business_card...\n",
      "[Errno 2] No such file or directory: 'D:/external_datasets/TAO/TAO_DIR/frames/val/AVA/4Y5qi1gD2Sw_scene_1_28435-31083/frame1111.jpg'\n",
      ">>>> #WARNING: No file found for: TAO business_card...\n",
      "[Errno 2] No such file or directory: 'D:/external_datasets/TAO/TAO_DIR/frames/val/AVA/4Y5qi1gD2Sw_scene_1_28435-31083/frame1321.jpg'\n",
      ">>>> #WARNING: No file found for: TAO business_card...\n",
      "[Errno 2] No such file or directory: 'D:/external_datasets/TAO/TAO_DIR/frames/val/AVA/4Y5qi1gD2Sw_scene_1_28435-31083/frame1081.jpg'\n",
      ">>>> #WARNING: No file found for: TAO business_card...\n",
      "[Errno 2] No such file or directory: 'D:/external_datasets/TAO/TAO_DIR/frames/val/AVA/4Y5qi1gD2Sw_scene_1_28435-31083/frame1201.jpg'\n",
      ">>>> #WARNING: No file found for: TAO business_card...\n",
      "[Errno 2] No such file or directory: 'D:/external_datasets/TAO/TAO_DIR/frames/val/AVA/4Y5qi1gD2Sw_scene_1_28435-31083/frame1351.jpg'\n",
      ">>>> #WARNING: No file found for: TAO business_card...\n",
      ">>> finding similar category:  identity_card\n",
      ">>>> #WARNING identity_card is missing from json annotations\n",
      "annotations datasets:  []\n",
      "annotations imgids:  []\n",
      "annotations bbox:  []\n",
      ">>> finding similar category:  cardigan\n",
      ">>>> #WARNING cardigan is missing from json annotations\n",
      "annotations datasets:  []\n",
      "annotations imgids:  []\n",
      "annotations bbox:  []\n",
      ">>> finding similar category:  credit_card\n",
      ">>>> #WARNING credit_card is missing from json annotations\n",
      "annotations datasets:  []\n",
      "annotations imgids:  []\n",
      "annotations bbox:  []\n",
      ">>> finding similar category:  keycard\n",
      ">>>> #WARNING keycard is missing from json annotations\n",
      "annotations datasets:  []\n",
      "annotations imgids:  []\n",
      "annotations bbox:  []\n",
      ">>> finding similar category:  playing_card\n",
      ">>>> #WARNING playing_card is missing from json annotations\n",
      "annotations datasets:  []\n",
      "annotations imgids:  []\n",
      "annotations bbox:  []\n",
      ">>> finding similar category:  postcard\n",
      ">>>> #WARNING postcard is missing from json annotations\n",
      "annotations datasets:  []\n",
      "annotations imgids:  []\n",
      "annotations bbox:  []\n",
      "\n",
      ">> cart...\n",
      ">>> finding similar category:  cart\n",
      ">>>> #WARNING cart is missing from json annotations\n",
      "annotations datasets:  []\n",
      "annotations imgids:  []\n",
      "annotations bbox:  []\n",
      ">>> finding similar category:  carton\n",
      "TAO\n"
     ]
    },
    {
     "name": "stderr",
     "output_type": "stream",
     "text": [
      "\n",
      "\n",
      ">>> Finding TAO carton...:   0%|                                                             | 0/759 [00:00<?, ?it/s]\u001b[A"
     ]
    },
    {
     "name": "stdout",
     "output_type": "stream",
     "text": [
      "[Errno 2] No such file or directory: 'D:/external_datasets/TAO/TAO_DIR/frames/val/Charades/IONV9/frame1074.jpg'\n"
     ]
    },
    {
     "name": "stderr",
     "output_type": "stream",
     "text": [
      "\n",
      "\n",
      ">>> Finding TAO carton...:   0%|                                                     | 1/759 [00:00<00:11, 66.60it/s]\u001b[A\n",
      "\n",
      ">>> Finding TAO carton...:   0%|▏                                                    | 2/759 [00:00<00:15, 48.81it/s]\u001b[A"
     ]
    },
    {
     "name": "stdout",
     "output_type": "stream",
     "text": [
      "[Errno 2] No such file or directory: 'D:/external_datasets/TAO/TAO_DIR/frames/train/YFCC100M/v_2501d6da0cfca808ee42aceeeb45bf5/frame0541.jpeg'\n",
      "[Errno 2] No such file or directory: 'D:/external_datasets/TAO/TAO_DIR/frames/val/YFCC100M/v_6e13bedfe418b88fc7f43b5df7eb768/frame1741.jpg'\n"
     ]
    },
    {
     "name": "stderr",
     "output_type": "stream",
     "text": [
      "\n",
      " 38%|██████████████████████████████                                                 | 72/189 [03:07<04:50,  2.49s/it]"
     ]
    },
    {
     "name": "stdout",
     "output_type": "stream",
     "text": [
      ">>> finding similar category:  golfcart\n",
      ">>>> #WARNING golfcart is missing from json annotations\n",
      "annotations datasets:  []\n",
      "annotations imgids:  []\n",
      "annotations bbox:  []\n",
      ">>> finding similar category:  handcart\n",
      ">>>> #WARNING handcart is missing from json annotations\n",
      "annotations datasets:  []\n",
      "annotations imgids:  []\n",
      "annotations bbox:  []\n",
      ">>> finding similar category:  shopping_cart\n",
      ">>>> #WARNING shopping_cart is missing from json annotations\n",
      "annotations datasets:  []\n",
      "annotations imgids:  []\n",
      "annotations bbox:  []\n",
      "\n",
      ">> chair...\n",
      ">>> finding similar category:  chair\n",
      "COCO\n"
     ]
    },
    {
     "name": "stderr",
     "output_type": "stream",
     "text": [
      "\n",
      ">>> Finding COCO chair...:   0%|                                                           | 0/40282 [00:00<?, ?it/s]\u001b[A"
     ]
    },
    {
     "name": "stdout",
     "output_type": "stream",
     "text": [
      "[Errno 2] No such file or directory: 'D:/external_datasets/COCO/2017/images/val2017/000000448076.jpg'\n"
     ]
    },
    {
     "name": "stderr",
     "output_type": "stream",
     "text": [
      "\n"
     ]
    },
    {
     "name": "stdout",
     "output_type": "stream",
     "text": [
      ">>> finding similar category:  armchair\n",
      "TAO\n"
     ]
    },
    {
     "name": "stderr",
     "output_type": "stream",
     "text": [
      " 39%|██████████████████████████████▌                                                | 73/189 [03:10<04:40,  2.42s/it]"
     ]
    },
    {
     "name": "stdout",
     "output_type": "stream",
     "text": [
      ">>> finding similar category:  deck_chair\n",
      ">>>> #WARNING deck_chair is missing from json annotations\n",
      "annotations datasets:  []\n",
      "annotations imgids:  []\n",
      "annotations bbox:  []\n",
      ">>> finding similar category:  electric_chair\n",
      ">>>> #WARNING electric_chair is missing from json annotations\n",
      "annotations datasets:  []\n",
      "annotations imgids:  []\n",
      "annotations bbox:  []\n",
      ">>> finding similar category:  folding_chair\n",
      ">>>> #WARNING folding_chair is missing from json annotations\n",
      "annotations datasets:  []\n",
      "annotations imgids:  []\n",
      "annotations bbox:  []\n",
      ">>> finding similar category:  highchair\n",
      ">>>> #WARNING highchair is missing from json annotations\n",
      "annotations datasets:  []\n",
      "annotations imgids:  []\n",
      "annotations bbox:  []\n",
      ">>> finding similar category:  rocking_chair\n",
      ">>>> #WARNING rocking_chair is missing from json annotations\n",
      "annotations datasets:  []\n",
      "annotations imgids:  []\n",
      "annotations bbox:  []\n",
      ">>> finding similar category:  wheelchair\n",
      ">>>> #WARNING wheelchair is missing from json annotations\n",
      "annotations datasets:  []\n",
      "annotations imgids:  []\n",
      "annotations bbox:  []\n",
      ">>> finding similar category:  wing_chair\n",
      ">>>> #WARNING wing_chair is missing from json annotations\n",
      "annotations datasets:  []\n",
      "annotations imgids:  []\n",
      "annotations bbox:  []\n",
      "\n",
      ">> chime...\n",
      ">>> finding similar category:  chime\n",
      ">>>> #WARNING chime is missing from json annotations\n",
      "annotations datasets:  []\n",
      "annotations imgids:  []\n",
      "annotations bbox:  []\n",
      ">>> finding similar category:  wind_chime\n",
      ">>>> #WARNING wind_chime is missing from json annotations\n",
      "annotations datasets:  []\n",
      "annotations imgids:  []\n",
      "annotations bbox:  []\n",
      "\n",
      ">> cigarette...\n",
      ">>> finding similar category:  cigarette\n",
      "TAO\n"
     ]
    },
    {
     "name": "stderr",
     "output_type": "stream",
     "text": [
      "\n",
      ">>> Finding TAO cigarette...:   0%|                                                          | 0/201 [00:00<?, ?it/s]\u001b[A"
     ]
    },
    {
     "name": "stdout",
     "output_type": "stream",
     "text": [
      "[Errno 2] No such file or directory: 'D:/external_datasets/TAO/TAO_DIR/frames/train/AVA/XOe9GeojzCs_scene_33_132653-134022/frame1111.jpg'\n"
     ]
    },
    {
     "name": "stderr",
     "output_type": "stream",
     "text": [
      "\n",
      "\n",
      ">>> Finding TAO cigarette...:   0%|▏                                                 | 1/201 [00:00<00:07, 25.63it/s]\u001b[A"
     ]
    },
    {
     "name": "stdout",
     "output_type": "stream",
     "text": [
      "[Errno 2] No such file or directory: 'D:/external_datasets/TAO/TAO_DIR/frames/train/AVA/XOe9GeojzCs_scene_33_132653-134022/frame1201.jpg'\n"
     ]
    },
    {
     "name": "stderr",
     "output_type": "stream",
     "text": [
      "\n"
     ]
    },
    {
     "name": "stdout",
     "output_type": "stream",
     "text": [
      ">>> finding similar category:  cigarette_case\n",
      "TAO\n"
     ]
    },
    {
     "name": "stderr",
     "output_type": "stream",
     "text": [
      " 40%|███████████████████████████████▎                                               | 75/189 [03:13<04:01,  2.12s/it]"
     ]
    },
    {
     "name": "stdout",
     "output_type": "stream",
     "text": [
      "\n",
      ">> clip...\n",
      ">>> finding similar category:  clip\n",
      "TAO\n",
      ">>> finding similar category:  clipboard\n",
      "TAO\n"
     ]
    },
    {
     "name": "stderr",
     "output_type": "stream",
     "text": [
      "\n",
      ">>> Finding TAO clipboard...:  42%|████████████████████▊                            | 28/66 [00:00<00:00, 277.23it/s]\u001b[A"
     ]
    },
    {
     "name": "stdout",
     "output_type": "stream",
     "text": [
      "[Errno 2] No such file or directory: 'D:/external_datasets/TAO/TAO_DIR/frames/val/YFCC100M/v_e3919198858e7ac1a61aae1e486c7664/frame0841.jpeg'\n"
     ]
    },
    {
     "name": "stderr",
     "output_type": "stream",
     "text": [
      "\n",
      "\n",
      ">>> Finding TAO clipboard...:  44%|█████████████████████▌                           | 29/66 [00:00<00:00, 268.48it/s]\u001b[A"
     ]
    },
    {
     "name": "stdout",
     "output_type": "stream",
     "text": [
      "[Errno 2] No such file or directory: 'D:/external_datasets/TAO/TAO_DIR/frames/val/AVA/GElolK2jG50_scene_7_135593-137130/frame1321.jpg'\n"
     ]
    },
    {
     "name": "stderr",
     "output_type": "stream",
     "text": [
      "\n",
      "\n",
      ">>> Finding TAO clipboard...:  45%|██████████████████████▎                          | 30/66 [00:00<00:00, 283.01it/s]\u001b[A"
     ]
    },
    {
     "name": "stdout",
     "output_type": "stream",
     "text": [
      "[Errno 2] No such file or directory: 'D:/external_datasets/TAO/TAO_DIR/frames/val/YFCC100M/v_e3919198858e7ac1a61aae1e486c7664/frame1801.jpeg'\n"
     ]
    },
    {
     "name": "stderr",
     "output_type": "stream",
     "text": [
      "\n",
      "\n",
      ">>> Finding TAO clipboard...:  47%|███████████████████████                          | 31/66 [00:00<00:00, 287.02it/s]\u001b[A"
     ]
    },
    {
     "name": "stdout",
     "output_type": "stream",
     "text": [
      "[Errno 2] No such file or directory: 'D:/external_datasets/TAO/TAO_DIR/frames/val/YFCC100M/v_e3919198858e7ac1a61aae1e486c7664/frame0781.jpeg'\n"
     ]
    },
    {
     "name": "stderr",
     "output_type": "stream",
     "text": [
      "\n",
      "\n",
      ">>> Finding TAO clipboard...:  48%|███████████████████████▊                         | 32/66 [00:00<00:00, 262.23it/s]\u001b[A"
     ]
    },
    {
     "name": "stdout",
     "output_type": "stream",
     "text": [
      "[Errno 2] No such file or directory: 'D:/external_datasets/TAO/TAO_DIR/frames/val/YFCC100M/v_e3919198858e7ac1a61aae1e486c7664/frame1801.jpeg'\n"
     ]
    },
    {
     "name": "stderr",
     "output_type": "stream",
     "text": [
      "\n",
      "\n",
      ">>> Finding TAO clipboard...:  50%|████████████████████████▌                        | 33/66 [00:00<00:00, 277.20it/s]\u001b[A"
     ]
    },
    {
     "name": "stdout",
     "output_type": "stream",
     "text": [
      "[Errno 2] No such file or directory: 'D:/external_datasets/TAO/TAO_DIR/frames/val/AVA/GElolK2jG50_scene_7_135593-137130/frame0991.jpg'\n"
     ]
    },
    {
     "name": "stderr",
     "output_type": "stream",
     "text": [
      "\n",
      "\n",
      ">>> Finding TAO clipboard...:  52%|█████████████████████████▏                       | 34/66 [00:00<00:00, 303.61it/s]\u001b[A"
     ]
    },
    {
     "name": "stdout",
     "output_type": "stream",
     "text": [
      "[Errno 2] No such file or directory: 'D:/external_datasets/TAO/TAO_DIR/frames/val/YFCC100M/v_e3919198858e7ac1a61aae1e486c7664/frame1801.jpeg'\n"
     ]
    },
    {
     "name": "stderr",
     "output_type": "stream",
     "text": [
      "\n",
      " 40%|███████████████████████████████▊                                               | 76/189 [03:17<05:18,  2.82s/it]"
     ]
    },
    {
     "name": "stdout",
     "output_type": "stream",
     "text": [
      ">>> finding similar category:  paperclip\n",
      ">>>> #WARNING paperclip is missing from json annotations\n",
      "annotations datasets:  []\n",
      "annotations imgids:  []\n",
      "annotations bbox:  []\n",
      "\n",
      ">> clock...\n",
      ">>> finding similar category:  clock\n",
      "COCO\n"
     ]
    },
    {
     "name": "stderr",
     "output_type": "stream",
     "text": [
      " 41%|████████████████████████████████▏                                              | 77/189 [03:18<04:12,  2.26s/it]"
     ]
    },
    {
     "name": "stdout",
     "output_type": "stream",
     "text": [
      ">>> finding similar category:  alarm_clock\n",
      ">>>> #WARNING alarm_clock is missing from json annotations\n",
      "annotations datasets:  []\n",
      "annotations imgids:  []\n",
      "annotations bbox:  []\n",
      ">>> finding similar category:  clock_tower\n",
      ">>>> #WARNING clock_tower is missing from json annotations\n",
      "annotations datasets:  []\n",
      "annotations imgids:  []\n",
      "annotations bbox:  []\n",
      ">>> finding similar category:  wall_clock\n",
      ">>>> #WARNING wall_clock is missing from json annotations\n",
      "annotations datasets:  []\n",
      "annotations imgids:  []\n",
      "annotations bbox:  []\n",
      "\n",
      ">> coat...\n",
      ">>> finding similar category:  coat\n",
      "TAO\n"
     ]
    },
    {
     "name": "stderr",
     "output_type": "stream",
     "text": [
      "\n",
      ">>> Finding TAO coat_hanger...: 100%|████████████████████████████████████████████████| 4/4 [00:00<00:00, 4131.30it/s]\u001b[A\n",
      "\n",
      ">>> Finding TAO coat_hanger...: 100%|██████████████████████████████████████████████████████████| 4/4 [00:00<?, ?it/s]\u001b[A\n",
      "\n",
      ">>> Finding TAO coat_hanger...: 100%|██████████████████████████████████████████████████████████| 4/4 [00:00<?, ?it/s]\u001b[A\n",
      "\n",
      ">>> Finding TAO coat_hanger...: 100%|██████████████████████████████████████████████████████████| 4/4 [00:00<?, ?it/s]\u001b[A\n",
      " 41%|████████████████████████████████▌                                              | 78/189 [03:20<04:15,  2.31s/it]"
     ]
    },
    {
     "name": "stdout",
     "output_type": "stream",
     "text": [
      ">>> finding similar category:  coat_hanger\n",
      "TAO\n",
      "[Errno 2] No such file or directory: 'D:/external_datasets/TAO/TAO_DIR/frames/val/HACS/Ironing_clothes_v_o03Adr3laMA_scene_0_1736-3822/frame1111.jpg'\n",
      ">>>> #WARNING: No file found for: TAO coat_hanger...\n",
      "[Errno 2] No such file or directory: 'D:/external_datasets/TAO/TAO_DIR/frames/val/HACS/Ironing_clothes_v_o03Adr3laMA_scene_0_1736-3822/frame1171.jpg'\n",
      ">>>> #WARNING: No file found for: TAO coat_hanger...\n",
      "[Errno 2] No such file or directory: 'D:/external_datasets/TAO/TAO_DIR/frames/val/HACS/Ironing_clothes_v_o03Adr3laMA_scene_0_1736-3822/frame1141.jpg'\n",
      ">>>> #WARNING: No file found for: TAO coat_hanger...\n",
      "[Errno 2] No such file or directory: 'D:/external_datasets/TAO/TAO_DIR/frames/val/HACS/Ironing_clothes_v_o03Adr3laMA_scene_0_1736-3822/frame1081.jpg'\n",
      ">>>> #WARNING: No file found for: TAO coat_hanger...\n",
      ">>> finding similar category:  coatrack\n",
      ">>>> #WARNING coatrack is missing from json annotations\n",
      "annotations datasets:  []\n",
      "annotations imgids:  []\n",
      "annotations bbox:  []\n",
      ">>> finding similar category:  lab_coat\n",
      ">>>> #WARNING lab_coat is missing from json annotations\n",
      "annotations datasets:  []\n",
      "annotations imgids:  []\n",
      "annotations bbox:  []\n",
      ">>> finding similar category:  raincoat\n",
      ">>>> #WARNING raincoat is missing from json annotations\n",
      "annotations datasets:  []\n",
      "annotations imgids:  []\n",
      "annotations bbox:  []\n",
      ">>> finding similar category:  trench_coat\n",
      ">>>> #WARNING trench_coat is missing from json annotations\n",
      "annotations datasets:  []\n",
      "annotations imgids:  []\n",
      "annotations bbox:  []\n",
      "\n",
      ">> coin...\n",
      ">>> finding similar category:  coin\n",
      "TAO\n"
     ]
    },
    {
     "name": "stderr",
     "output_type": "stream",
     "text": [
      " 42%|█████████████████████████████████                                              | 79/189 [03:22<03:44,  2.04s/it]"
     ]
    },
    {
     "name": "stdout",
     "output_type": "stream",
     "text": [
      ">>> finding similar category:  penny_(coin)\n",
      ">>>> #WARNING penny_(coin) is missing from json annotations\n",
      "annotations datasets:  []\n",
      "annotations imgids:  []\n",
      "annotations bbox:  []\n",
      "\n",
      ">> cone...\n",
      ">>> finding similar category:  cone\n",
      "TAO\n"
     ]
    },
    {
     "name": "stderr",
     "output_type": "stream",
     "text": [
      " 42%|█████████████████████████████████▍                                             | 80/189 [03:23<03:16,  1.80s/it]"
     ]
    },
    {
     "name": "stdout",
     "output_type": "stream",
     "text": [
      ">>> finding similar category:  pinecone\n",
      ">>>> #WARNING pinecone is missing from json annotations\n",
      "annotations datasets:  []\n",
      "annotations imgids:  []\n",
      "annotations bbox:  []\n",
      "\n",
      ">> control...\n",
      ">>> finding similar category:  control\n",
      "TAO\n",
      ">>> finding similar category:  remote_control\n",
      "TAO\n"
     ]
    },
    {
     "name": "stderr",
     "output_type": "stream",
     "text": [
      " 43%|█████████████████████████████████▊                                             | 81/189 [03:26<04:03,  2.25s/it]"
     ]
    },
    {
     "name": "stdout",
     "output_type": "stream",
     "text": [
      "\n",
      ">> cookie...\n",
      ">>> finding similar category:  cookie\n",
      ">>>> #WARNING cookie is missing from json annotations\n",
      "annotations datasets:  []\n",
      "annotations imgids:  []\n",
      "annotations bbox:  []\n",
      ">>> finding similar category:  cookie_jar\n",
      ">>>> #WARNING cookie_jar is missing from json annotations\n",
      "annotations datasets:  []\n",
      "annotations imgids:  []\n",
      "annotations bbox:  []\n",
      "\n",
      ">> cracker...\n",
      ">>> finding similar category:  cracker\n",
      ">>>> #WARNING cracker is missing from json annotations\n",
      "annotations datasets:  []\n",
      "annotations imgids:  []\n",
      "annotations bbox:  []\n",
      ">>> finding similar category:  nutcracker\n",
      ">>>> #WARNING nutcracker is missing from json annotations\n",
      "annotations datasets:  []\n",
      "annotations imgids:  []\n",
      "annotations bbox:  []\n",
      "\n",
      ">> crape...\n",
      ">>> finding similar category:  crape\n",
      ">>>> #WARNING crape is missing from json annotations\n",
      "annotations datasets:  []\n",
      "annotations imgids:  []\n",
      "annotations bbox:  []\n",
      ">>> finding similar category:  scraper\n",
      "TAO\n"
     ]
    },
    {
     "name": "stderr",
     "output_type": "stream",
     "text": [
      "\n",
      ">>> Finding TAO scraper...:   0%|                                                            | 0/107 [00:00<?, ?it/s]\u001b[A"
     ]
    },
    {
     "name": "stdout",
     "output_type": "stream",
     "text": [
      "[Errno 2] No such file or directory: 'D:/external_datasets/TAO/TAO_DIR/frames/val/HACS/Plastering_v_RfoNQwyqvr8_scene_0_18-5165/frame1171.jpg'\n"
     ]
    },
    {
     "name": "stderr",
     "output_type": "stream",
     "text": [
      "\n",
      " 44%|███████████████████████████████████                                            | 84/189 [03:28<02:57,  1.69s/it]"
     ]
    },
    {
     "name": "stdout",
     "output_type": "stream",
     "text": [
      "\n",
      ">> crow...\n",
      ">>> finding similar category:  crow\n",
      "TAO\n",
      ">>> finding similar category:  microwave\n",
      "COCO\n"
     ]
    },
    {
     "name": "stderr",
     "output_type": "stream",
     "text": [
      "\n",
      ">>> Finding COCO microwave...:   0%|                                                        | 0/1728 [00:00<?, ?it/s]\u001b[A"
     ]
    },
    {
     "name": "stdout",
     "output_type": "stream",
     "text": [
      "[Errno 2] No such file or directory: 'D:/external_datasets/COCO/2017/images/val2017/000000453302.jpg'\n"
     ]
    },
    {
     "name": "stderr",
     "output_type": "stream",
     "text": [
      "\n",
      "\n",
      ">>> Finding COCO microwave...:   0%|                                                | 1/1728 [00:00<01:43, 16.67it/s]\u001b[A\n",
      " 45%|███████████████████████████████████▌                                           | 85/189 [03:30<03:16,  1.89s/it]"
     ]
    },
    {
     "name": "stdout",
     "output_type": "stream",
     "text": [
      "[Errno 2] No such file or directory: 'D:/external_datasets/COCO/2017/images/val2017/000000522007.jpg'\n",
      ">>> finding similar category:  crown\n",
      ">>>> #WARNING crown is missing from json annotations\n",
      "annotations datasets:  []\n",
      "annotations imgids:  []\n",
      "annotations bbox:  []\n",
      ">>> finding similar category:  microwave_oven\n",
      ">>>> #WARNING microwave_oven is missing from json annotations\n",
      "annotations datasets:  []\n",
      "annotations imgids:  []\n",
      "annotations bbox:  []\n",
      ">>> finding similar category:  scarecrow\n",
      ">>>> #WARNING scarecrow is missing from json annotations\n",
      "annotations datasets:  []\n",
      "annotations imgids:  []\n",
      "annotations bbox:  []\n",
      "\n",
      ">> cup...\n",
      ">>> finding similar category:  cup\n",
      "COCO\n"
     ]
    },
    {
     "name": "stderr",
     "output_type": "stream",
     "text": [
      "\n",
      ">>> Finding COCO cup...:   0%|                                                             | 0/21549 [00:00<?, ?it/s]\u001b[A"
     ]
    },
    {
     "name": "stdout",
     "output_type": "stream",
     "text": [
      "[Errno 2] No such file or directory: 'D:/external_datasets/COCO/2017/images/val2017/000000279730.jpg'\n"
     ]
    },
    {
     "name": "stderr",
     "output_type": "stream",
     "text": [
      "\n"
     ]
    },
    {
     "name": "stdout",
     "output_type": "stream",
     "text": [
      ">>> finding similar category:  trophy_cup\n",
      ">>>> #WARNING trophy_cup is missing from json annotations\n",
      "annotations datasets:  []\n",
      "annotations imgids:  []\n",
      "annotations bbox:  []\n",
      ">>> finding similar category:  cupcake\n",
      ">>>> #WARNING cupcake is missing from json annotations\n",
      "annotations datasets:  []\n",
      "annotations imgids:  []\n",
      "annotations bbox:  []\n",
      ">>> finding similar category:  Dixie_cup\n",
      ">>>> #WARNING Dixie_cup is missing from json annotations\n",
      "annotations datasets:  []\n",
      "annotations imgids:  []\n",
      "annotations bbox:  []\n",
      ">>> finding similar category:  measuring_cup\n",
      "TAO\n"
     ]
    },
    {
     "name": "stderr",
     "output_type": "stream",
     "text": [
      "\n",
      ">>> Finding TAO measuring_cup...:   0%|                                                       | 0/40 [00:00<?, ?it/s]\u001b[A"
     ]
    },
    {
     "name": "stdout",
     "output_type": "stream",
     "text": [
      "[Errno 2] No such file or directory: 'D:/external_datasets/TAO/TAO_DIR/frames/val/HACS/Baking_cookies_v_dhLfw18EP8E_scene_0_0-2102/frame0991.jpg'\n"
     ]
    },
    {
     "name": "stderr",
     "output_type": "stream",
     "text": [
      "\n"
     ]
    },
    {
     "name": "stdout",
     "output_type": "stream",
     "text": [
      ">>> finding similar category:  teacup\n",
      "TAO\n"
     ]
    },
    {
     "name": "stderr",
     "output_type": "stream",
     "text": [
      " 46%|███████████████████████████████████▉                                           | 86/189 [03:33<04:05,  2.38s/it]"
     ]
    },
    {
     "name": "stdout",
     "output_type": "stream",
     "text": [
      "\n",
      ">> curtain...\n",
      ">>> finding similar category:  curtain\n",
      "TAO\n"
     ]
    },
    {
     "name": "stderr",
     "output_type": "stream",
     "text": [
      "\n",
      ">>> Finding TAO curtain...:   0%|                                                            | 0/172 [00:00<?, ?it/s]\u001b[A\n",
      " 46%|████████████████████████████████████▎                                          | 87/189 [03:35<03:41,  2.17s/it]"
     ]
    },
    {
     "name": "stdout",
     "output_type": "stream",
     "text": [
      "[Errno 2] No such file or directory: 'D:/external_datasets/TAO/TAO_DIR/frames/val/Charades/5ACD3/frame1231.jpg'\n",
      ">>> finding similar category:  shower_curtain\n",
      ">>>> #WARNING shower_curtain is missing from json annotations\n",
      "annotations datasets:  []\n",
      "annotations imgids:  []\n",
      "annotations bbox:  []\n",
      "\n",
      ">> detergent...\n",
      ">>> finding similar category:  detergent\n",
      ">>>> #WARNING detergent is missing from json annotations\n",
      "annotations datasets:  []\n",
      "annotations imgids:  []\n",
      "annotations bbox:  []\n",
      ">>> finding similar category:  dishwasher_detergent\n",
      ">>>> #WARNING dishwasher_detergent is missing from json annotations\n",
      "annotations datasets:  []\n",
      "annotations imgids:  []\n",
      "annotations bbox:  []\n",
      "\n",
      ">> dish...\n",
      ">>> finding similar category:  dish\n",
      "TAO\n"
     ]
    },
    {
     "name": "stderr",
     "output_type": "stream",
     "text": [
      " 47%|█████████████████████████████████████▏                                         | 89/189 [03:37<03:06,  1.87s/it]"
     ]
    },
    {
     "name": "stdout",
     "output_type": "stream",
     "text": [
      ">>> finding similar category:  dish_antenna\n",
      ">>>> #WARNING dish_antenna is missing from json annotations\n",
      "annotations datasets:  []\n",
      "annotations imgids:  []\n",
      "annotations bbox:  []\n",
      ">>> finding similar category:  dishrag\n",
      ">>>> #WARNING dishrag is missing from json annotations\n",
      "annotations datasets:  []\n",
      "annotations imgids:  []\n",
      "annotations bbox:  []\n",
      ">>> finding similar category:  dishtowel\n",
      ">>>> #WARNING dishtowel is missing from json annotations\n",
      "annotations datasets:  []\n",
      "annotations imgids:  []\n",
      "annotations bbox:  []\n",
      ">>> finding similar category:  dishwasher\n",
      ">>>> #WARNING dishwasher is missing from json annotations\n",
      "annotations datasets:  []\n",
      "annotations imgids:  []\n",
      "annotations bbox:  []\n",
      ">>> finding similar category:  dishwasher_detergent\n",
      ">>>> #WARNING dishwasher_detergent is missing from json annotations\n",
      "annotations datasets:  []\n",
      "annotations imgids:  []\n",
      "annotations bbox:  []\n",
      ">>> finding similar category:  radish\n",
      ">>>> #WARNING radish is missing from json annotations\n",
      "annotations datasets:  []\n",
      "annotations imgids:  []\n",
      "annotations bbox:  []\n",
      ">>> finding similar category:  serving_dish\n",
      ">>>> #WARNING serving_dish is missing from json annotations\n",
      "annotations datasets:  []\n",
      "annotations imgids:  []\n",
      "annotations bbox:  []\n",
      "\n",
      ">> dishwasher...\n",
      ">>> finding similar category:  dishwasher\n",
      ">>>> #WARNING dishwasher is missing from json annotations\n",
      "annotations datasets:  []\n",
      "annotations imgids:  []\n",
      "annotations bbox:  []\n",
      ">>> finding similar category:  dishwasher_detergent\n",
      ">>>> #WARNING dishwasher_detergent is missing from json annotations\n",
      "annotations datasets:  []\n",
      "annotations imgids:  []\n",
      "annotations bbox:  []\n",
      "\n",
      ">> dog...\n",
      ">>> finding similar category:  dog\n",
      "COCO\n"
     ]
    },
    {
     "name": "stderr",
     "output_type": "stream",
     "text": [
      "\n",
      ">>> Finding COCO dog...:   0%|                                                              | 0/5726 [00:00<?, ?it/s]\u001b[A"
     ]
    },
    {
     "name": "stdout",
     "output_type": "stream",
     "text": [
      "[Errno 2] No such file or directory: 'D:/external_datasets/COCO/2017/images/val2017/000000547502.jpg'\n"
     ]
    },
    {
     "name": "stderr",
     "output_type": "stream",
     "text": [
      "\n"
     ]
    },
    {
     "name": "stdout",
     "output_type": "stream",
     "text": [
      ">>> finding similar category:  hot dog\n",
      "COCO\n"
     ]
    },
    {
     "name": "stderr",
     "output_type": "stream",
     "text": [
      " 48%|██████████████████████████████████████                                         | 91/189 [03:39<02:38,  1.61s/it]"
     ]
    },
    {
     "name": "stdout",
     "output_type": "stream",
     "text": [
      ">>> finding similar category:  bulldog\n",
      ">>>> #WARNING bulldog is missing from json annotations\n",
      "annotations datasets:  []\n",
      "annotations imgids:  []\n",
      "annotations bbox:  []\n",
      ">>> finding similar category:  dog_collar\n",
      ">>>> #WARNING dog_collar is missing from json annotations\n",
      "annotations datasets:  []\n",
      "annotations imgids:  []\n",
      "annotations bbox:  []\n",
      ">>> finding similar category:  pug-dog\n",
      ">>>> #WARNING pug-dog is missing from json annotations\n",
      "annotations datasets:  []\n",
      "annotations imgids:  []\n",
      "annotations bbox:  []\n",
      ">>> finding similar category:  shepherd_dog\n",
      ">>>> #WARNING shepherd_dog is missing from json annotations\n",
      "annotations datasets:  []\n",
      "annotations imgids:  []\n",
      "annotations bbox:  []\n",
      "\n",
      ">> doll...\n",
      ">>> finding similar category:  doll\n",
      ">>>> #WARNING doll is missing from json annotations\n",
      "annotations datasets:  []\n",
      "annotations imgids:  []\n",
      "annotations bbox:  []\n",
      ">>> finding similar category:  dollar\n",
      ">>>> #WARNING dollar is missing from json annotations\n",
      "annotations datasets:  []\n",
      "annotations imgids:  []\n",
      "annotations bbox:  []\n",
      ">>> finding similar category:  rag_doll\n",
      "TAO\n"
     ]
    },
    {
     "name": "stderr",
     "output_type": "stream",
     "text": [
      " 49%|██████████████████████████████████████▍                                        | 92/189 [03:41<02:28,  1.53s/it]"
     ]
    },
    {
     "name": "stdout",
     "output_type": "stream",
     "text": [
      "\n",
      ">> drawer...\n",
      ">>> finding similar category:  drawer\n",
      "TAO\n"
     ]
    },
    {
     "name": "stderr",
     "output_type": "stream",
     "text": [
      "\n",
      ">>> Finding TAO drawer...:   0%|                                                             | 0/348 [00:00<?, ?it/s]\u001b[A"
     ]
    },
    {
     "name": "stdout",
     "output_type": "stream",
     "text": [
      "[Errno 2] No such file or directory: 'D:/external_datasets/TAO/TAO_DIR/frames/val/HACS/Painting_furniture_v_mK0fmx7bDNs_scene_0_0-6652/frame1081.jpg'\n",
      "[Errno 2] No such file or directory: 'D:/external_datasets/TAO/TAO_DIR/frames/val/HACS/Painting_furniture_v_mK0fmx7bDNs_scene_0_0-6652/frame1141.jpg'"
     ]
    },
    {
     "name": "stderr",
     "output_type": "stream",
     "text": [
      "\n",
      "\n",
      ">>> Finding TAO drawer...:   0%|▏                                                    | 1/348 [00:00<00:06, 55.55it/s]\u001b[A\n"
     ]
    },
    {
     "name": "stdout",
     "output_type": "stream",
     "text": [
      "\n"
     ]
    },
    {
     "name": "stderr",
     "output_type": "stream",
     "text": [
      " 49%|██████████████████████████████████████▊                                        | 93/189 [03:42<02:28,  1.55s/it]"
     ]
    },
    {
     "name": "stdout",
     "output_type": "stream",
     "text": [
      ">>> finding similar category:  chest_of_drawers_(furniture)\n",
      ">>>> #WARNING chest_of_drawers_(furniture) is missing from json annotations\n",
      "annotations datasets:  []\n",
      "annotations imgids:  []\n",
      "annotations bbox:  []\n",
      ">>> finding similar category:  underdrawers\n",
      ">>>> #WARNING underdrawers is missing from json annotations\n",
      "annotations datasets:  []\n",
      "annotations imgids:  []\n",
      "annotations bbox:  []\n",
      "\n",
      ">> dress...\n",
      ">>> finding similar category:  dress\n",
      ">>>> #WARNING dress is missing from json annotations\n",
      "annotations datasets:  []\n",
      "annotations imgids:  []\n",
      "annotations bbox:  []\n",
      ">>> finding similar category:  dress_hat\n",
      "TAO\n"
     ]
    },
    {
     "name": "stderr",
     "output_type": "stream",
     "text": [
      " 50%|███████████████████████████████████████▎                                       | 94/189 [03:44<02:28,  1.56s/it]\n",
      ">>> Finding TAO duck...: 100%|██████████████████████████████████████████████████████| 40/40 [00:00<00:00, 421.20it/s]\u001b[A\n",
      "\n",
      ">>> Finding TAO duck...:   0%|                                                                | 0/40 [00:00<?, ?it/s]\u001b[A"
     ]
    },
    {
     "name": "stdout",
     "output_type": "stream",
     "text": [
      ">>> finding similar category:  dress_suit\n",
      ">>>> #WARNING dress_suit is missing from json annotations\n",
      "annotations datasets:  []\n",
      "annotations imgids:  []\n",
      "annotations bbox:  []\n",
      ">>> finding similar category:  dresser\n",
      ">>>> #WARNING dresser is missing from json annotations\n",
      "annotations datasets:  []\n",
      "annotations imgids:  []\n",
      "annotations bbox:  []\n",
      "\n",
      ">> duck...\n",
      ">>> finding similar category:  duck\n",
      "TAO\n",
      "[Errno 2] No such file or directory: 'D:/external_datasets/TAO/TAO_DIR/frames/val/YFCC100M/v_d389d21ddef286b3febd14de1db31615/frame1351.jpeg'\n",
      ">>>> #WARNING: No file found for: TAO duck...\n",
      "[Errno 2] No such file or directory: 'D:/external_datasets/TAO/TAO_DIR/frames/val/YFCC100M/v_d389d21ddef286b3febd14de1db31615/frame0841.jpeg'\n"
     ]
    },
    {
     "name": "stderr",
     "output_type": "stream",
     "text": [
      "\n",
      ">>> Finding TAO duck...: 100%|██████████████████████████████████████████████████████| 40/40 [00:00<00:00, 373.84it/s]\u001b[A\n",
      "\n",
      ">>> Finding TAO duck...: 100%|██████████████████████████████████████████████████████| 40/40 [00:00<00:00, 416.37it/s]\u001b[A\n",
      "\n",
      ">>> Finding TAO duck...:   0%|                                                                | 0/40 [00:00<?, ?it/s]\u001b[A"
     ]
    },
    {
     "name": "stdout",
     "output_type": "stream",
     "text": [
      ">>>> #WARNING: No file found for: TAO duck...\n",
      "[Errno 2] No such file or directory: 'D:/external_datasets/TAO/TAO_DIR/frames/val/YFCC100M/v_d389d21ddef286b3febd14de1db31615/frame0451.jpeg'\n",
      ">>>> #WARNING: No file found for: TAO duck...\n",
      "[Errno 2] No such file or directory: 'D:/external_datasets/TAO/TAO_DIR/frames/val/YFCC100M/v_d389d21ddef286b3febd14de1db31615/frame0901.jpeg'\n"
     ]
    },
    {
     "name": "stderr",
     "output_type": "stream",
     "text": [
      ">>> Finding TAO duck...: 100%|██████████████████████████████████████████████████████| 40/40 [00:00<00:00, 434.78it/s]\n",
      "\n",
      ">>> Finding TAO duck...:   0%|                                                                | 0/40 [00:00<?, ?it/s]\u001b[A\n",
      ">>> Finding TAO duck...: 100%|██████████████████████████████████████████████████████| 40/40 [00:00<00:00, 388.35it/s]\u001b[A\n",
      "\n",
      ">>> Finding TAO duck...:   0%|                                                                | 0/40 [00:00<?, ?it/s]\u001b[A"
     ]
    },
    {
     "name": "stdout",
     "output_type": "stream",
     "text": [
      ">>>> #WARNING: No file found for: TAO duck...\n",
      "[Errno 2] No such file or directory: 'D:/external_datasets/TAO/TAO_DIR/frames/val/YFCC100M/v_d389d21ddef286b3febd14de1db31615/frame0391.jpeg'\n",
      ">>>> #WARNING: No file found for: TAO duck...\n",
      "[Errno 2] No such file or directory: 'D:/external_datasets/TAO/TAO_DIR/frames/val/YFCC100M/v_d389d21ddef286b3febd14de1db31615/frame1531.jpeg'\n"
     ]
    },
    {
     "name": "stderr",
     "output_type": "stream",
     "text": [
      ">>> Finding TAO duck...: 100%|██████████████████████████████████████████████████████| 40/40 [00:00<00:00, 429.88it/s]\n",
      "\n",
      ">>> Finding TAO duck...: 100%|██████████████████████████████████████████████████████| 40/40 [00:00<00:00, 439.59it/s]\u001b[A\n",
      "\n",
      ">>> Finding TAO duck...:   0%|                                                                | 0/40 [00:00<?, ?it/s]\u001b[A"
     ]
    },
    {
     "name": "stdout",
     "output_type": "stream",
     "text": [
      ">>>> #WARNING: No file found for: TAO duck...\n",
      "[Errno 2] No such file or directory: 'D:/external_datasets/TAO/TAO_DIR/frames/val/YFCC100M/v_d389d21ddef286b3febd14de1db31615/frame1171.jpeg'\n",
      ">>>> #WARNING: No file found for: TAO duck...\n",
      "[Errno 2] No such file or directory: 'D:/external_datasets/TAO/TAO_DIR/frames/val/YFCC100M/v_d389d21ddef286b3febd14de1db31615/frame1111.jpeg'\n"
     ]
    },
    {
     "name": "stderr",
     "output_type": "stream",
     "text": [
      ">>> Finding TAO duck...: 100%|██████████████████████████████████████████████████████| 40/40 [00:00<00:00, 429.89it/s]\n",
      "\n",
      ">>> Finding TAO duck...: 100%|██████████████████████████████████████████████████████| 40/40 [00:00<00:00, 430.01it/s]\u001b[A\n",
      "\n",
      ">>> Finding TAO duck...: 100%|██████████████████████████████████████████████████████| 40/40 [00:00<00:00, 439.33it/s]\u001b[A"
     ]
    },
    {
     "name": "stdout",
     "output_type": "stream",
     "text": [
      ">>>> #WARNING: No file found for: TAO duck...\n",
      "[Errno 2] No such file or directory: 'D:/external_datasets/TAO/TAO_DIR/frames/val/YFCC100M/v_d389d21ddef286b3febd14de1db31615/frame0781.jpeg'\n",
      ">>>> #WARNING: No file found for: TAO duck...\n",
      "[Errno 2] No such file or directory: 'D:/external_datasets/TAO/TAO_DIR/frames/val/YFCC100M/v_d389d21ddef286b3febd14de1db31615/frame0691.jpeg'\n"
     ]
    },
    {
     "name": "stderr",
     "output_type": "stream",
     "text": [
      "\n",
      " 50%|███████████████████████████████████████▋                                       | 95/189 [03:45<02:11,  1.40s/it]"
     ]
    },
    {
     "name": "stdout",
     "output_type": "stream",
     "text": [
      ">>>> #WARNING: No file found for: TAO duck...\n",
      ">>> finding similar category:  duckling\n",
      ">>>> #WARNING duckling is missing from json annotations\n",
      "annotations datasets:  []\n",
      "annotations imgids:  []\n",
      "annotations bbox:  []\n",
      "\n",
      ">> eel...\n",
      ">>> finding similar category:  eel\n",
      ">>>> #WARNING eel is missing from json annotations\n",
      "annotations datasets:  []\n",
      "annotations imgids:  []\n",
      "annotations bbox:  []\n",
      ">>> finding similar category:  Ferris_wheel\n",
      ">>>> #WARNING Ferris_wheel is missing from json annotations\n",
      "annotations datasets:  []\n",
      "annotations imgids:  []\n",
      "annotations bbox:  []\n",
      ">>> finding similar category:  peeler_(tool_for_fruit_and_vegetables)\n",
      "TAO\n"
     ]
    },
    {
     "name": "stderr",
     "output_type": "stream",
     "text": [
      "\n",
      ">>> Finding TAO peeler_(tool_for_fruit_and_vegetables)...:   0%|                              | 0/40 [00:00<?, ?it/s]\u001b[A"
     ]
    },
    {
     "name": "stdout",
     "output_type": "stream",
     "text": [
      "[Errno 2] No such file or directory: 'D:/external_datasets/TAO/TAO_DIR/frames/val/HACS/Making_a_sandwich_v_SMk4troNhwE_scene_0_0-2482/frame1016.jpg'\n"
     ]
    },
    {
     "name": "stderr",
     "output_type": "stream",
     "text": [
      "\n"
     ]
    },
    {
     "name": "stdout",
     "output_type": "stream",
     "text": [
      ">>> finding similar category:  pinwheel\n",
      ">>>> #WARNING pinwheel is missing from json annotations\n",
      "annotations datasets:  []\n",
      "annotations imgids:  []\n",
      "annotations bbox:  []\n",
      ">>> finding similar category:  steering_wheel\n",
      "TAO\n"
     ]
    },
    {
     "name": "stderr",
     "output_type": "stream",
     "text": [
      " 51%|████████████████████████████████████████▏                                      | 96/189 [03:49<03:14,  2.10s/it]\n",
      ">>> Finding TAO egg...:   0%|                                                                | 0/103 [00:00<?, ?it/s]\u001b[A"
     ]
    },
    {
     "name": "stdout",
     "output_type": "stream",
     "text": [
      ">>> finding similar category:  wagon_wheel\n",
      ">>>> #WARNING wagon_wheel is missing from json annotations\n",
      "annotations datasets:  []\n",
      "annotations imgids:  []\n",
      "annotations bbox:  []\n",
      ">>> finding similar category:  wheel\n",
      ">>>> #WARNING wheel is missing from json annotations\n",
      "annotations datasets:  []\n",
      "annotations imgids:  []\n",
      "annotations bbox:  []\n",
      ">>> finding similar category:  wheelchair\n",
      ">>>> #WARNING wheelchair is missing from json annotations\n",
      "annotations datasets:  []\n",
      "annotations imgids:  []\n",
      "annotations bbox:  []\n",
      "\n",
      ">> egg...\n",
      ">>> finding similar category:  egg\n",
      "TAO\n",
      "[Errno 2] No such file or directory: 'D:/external_datasets/TAO/TAO_DIR/frames/train/YFCC100M/v_ea33c680e1f18d71543b8f80815beec/frame1291.jpg'\n"
     ]
    },
    {
     "name": "stderr",
     "output_type": "stream",
     "text": [
      "\n",
      "\n",
      ">>> Finding TAO egg...:   1%|▌                                                      | 1/103 [00:00<00:00, 124.96it/s]\u001b[A\n",
      "\n",
      ">>> Finding TAO egg...:   2%|█                                                      | 2/103 [00:00<00:00, 199.91it/s]\u001b[A"
     ]
    },
    {
     "name": "stdout",
     "output_type": "stream",
     "text": [
      "[Errno 2] No such file or directory: 'D:/external_datasets/TAO/TAO_DIR/frames/train/YFCC100M/v_ea33c680e1f18d71543b8f80815beec/frame1021.jpg'\n",
      "[Errno 2] No such file or directory: 'D:/external_datasets/TAO/TAO_DIR/frames/train/YFCC100M/v_ea33c680e1f18d71543b8f80815beec/frame0991.jpg'\n"
     ]
    },
    {
     "name": "stderr",
     "output_type": "stream",
     "text": [
      "\n",
      "\n",
      ">>> Finding TAO eggbeater...: 100%|█████████████████████████████████████████████████| 36/36 [00:00<00:00, 428.35it/s]\u001b[A\n",
      "\n",
      ">>> Finding TAO eggbeater...: 100%|█████████████████████████████████████████████████| 36/36 [00:00<00:00, 461.38it/s]\u001b[A\n",
      "\n",
      ">>> Finding TAO eggbeater...:   0%|                                                           | 0/36 [00:00<?, ?it/s]"
     ]
    },
    {
     "name": "stdout",
     "output_type": "stream",
     "text": [
      ">>> finding similar category:  boiled_egg\n",
      ">>>> #WARNING boiled_egg is missing from json annotations\n",
      "annotations datasets:  []\n",
      "annotations imgids:  []\n",
      "annotations bbox:  []\n",
      ">>> finding similar category:  egg_roll\n",
      ">>>> #WARNING egg_roll is missing from json annotations\n",
      "annotations datasets:  []\n",
      "annotations imgids:  []\n",
      "annotations bbox:  []\n",
      ">>> finding similar category:  egg_yolk\n",
      ">>>> #WARNING egg_yolk is missing from json annotations\n",
      "annotations datasets:  []\n",
      "annotations imgids:  []\n",
      "annotations bbox:  []\n",
      ">>> finding similar category:  eggbeater\n",
      "TAO\n",
      "[Errno 2] No such file or directory: 'D:/external_datasets/TAO/TAO_DIR/frames/val/YFCC100M/v_460a1314da9bd32cbd14a2b3414f30/frame1009.jpeg'\n",
      ">>>> #WARNING: No file found for: TAO eggbeater...\n",
      "[Errno 2] No such file or directory: 'D:/external_datasets/TAO/TAO_DIR/frames/val/YFCC100M/v_460a1314da9bd32cbd14a2b3414f30/frame1201.jpeg'\n",
      ">>>> #WARNING: No file found for: TAO eggbeater...\n",
      "[Errno 2] No such file or directory: 'D:/external_datasets/TAO/TAO_DIR/frames/val/YFCC100M/v_460a1314da9bd32cbd14a2b3414f30/frame0817.jpeg'\n"
     ]
    },
    {
     "name": "stderr",
     "output_type": "stream",
     "text": [
      ">>> Finding TAO eggbeater...: 100%|█████████████████████████████████████████████████| 36/36 [00:00<00:00, 449.84it/s]\n",
      "\n",
      ">>> Finding TAO eggbeater...: 100%|█████████████████████████████████████████████████| 36/36 [00:00<00:00, 428.57it/s]\u001b[A\n",
      "\n",
      ">>> Finding TAO eggbeater...: 100%|█████████████████████████████████████████████████| 36/36 [00:00<00:00, 455.20it/s]\u001b[A\n",
      "\n",
      ">>> Finding TAO eggbeater...:   0%|                                                           | 0/36 [00:00<?, ?it/s]\u001b[A"
     ]
    },
    {
     "name": "stdout",
     "output_type": "stream",
     "text": [
      ">>>> #WARNING: No file found for: TAO eggbeater...\n",
      "[Errno 2] No such file or directory: 'D:/external_datasets/TAO/TAO_DIR/frames/val/YFCC100M/v_460a1314da9bd32cbd14a2b3414f30/frame0649.jpeg'\n",
      ">>>> #WARNING: No file found for: TAO eggbeater...\n",
      "[Errno 2] No such file or directory: 'D:/external_datasets/TAO/TAO_DIR/frames/val/YFCC100M/v_460a1314da9bd32cbd14a2b3414f30/frame0769.jpeg'\n",
      ">>>> #WARNING: No file found for: TAO eggbeater...\n",
      "[Errno 2] No such file or directory: 'D:/external_datasets/TAO/TAO_DIR/frames/val/YFCC100M/v_460a1314da9bd32cbd14a2b3414f30/frame0457.jpeg'\n"
     ]
    },
    {
     "name": "stderr",
     "output_type": "stream",
     "text": [
      ">>> Finding TAO eggbeater...: 100%|█████████████████████████████████████████████████| 36/36 [00:00<00:00, 467.41it/s]\n",
      "\n",
      ">>> Finding TAO eggbeater...: 100%|█████████████████████████████████████████████████| 36/36 [00:00<00:00, 500.01it/s]\u001b[A\n",
      "\n",
      ">>> Finding TAO eggbeater...: 100%|█████████████████████████████████████████████████| 36/36 [00:00<00:00, 444.56it/s]\u001b[A\n",
      "\n",
      ">>> Finding TAO eggbeater...:   0%|                                                           | 0/36 [00:00<?, ?it/s]\u001b[A"
     ]
    },
    {
     "name": "stdout",
     "output_type": "stream",
     "text": [
      ">>>> #WARNING: No file found for: TAO eggbeater...\n",
      "[Errno 2] No such file or directory: 'D:/external_datasets/TAO/TAO_DIR/frames/val/YFCC100M/v_460a1314da9bd32cbd14a2b3414f30/frame0889.jpeg'\n",
      ">>>> #WARNING: No file found for: TAO eggbeater...\n",
      "[Errno 2] No such file or directory: 'D:/external_datasets/TAO/TAO_DIR/frames/val/YFCC100M/v_460a1314da9bd32cbd14a2b3414f30/frame0841.jpeg'\n",
      ">>>> #WARNING: No file found for: TAO eggbeater...\n",
      "[Errno 2] No such file or directory: 'D:/external_datasets/TAO/TAO_DIR/frames/val/YFCC100M/v_460a1314da9bd32cbd14a2b3414f30/frame0601.jpeg'\n"
     ]
    },
    {
     "name": "stderr",
     "output_type": "stream",
     "text": [
      ">>> Finding TAO eggbeater...: 100%|█████████████████████████████████████████████████| 36/36 [00:00<00:00, 455.69it/s]\n",
      "\n",
      ">>> Finding TAO eggbeater...: 100%|█████████████████████████████████████████████████| 36/36 [00:00<00:00, 433.60it/s]\u001b[A\n",
      " 51%|████████████████████████████████████████▌                                      | 97/189 [03:50<03:01,  1.98s/it]"
     ]
    },
    {
     "name": "stdout",
     "output_type": "stream",
     "text": [
      ">>>> #WARNING: No file found for: TAO eggbeater...\n",
      "[Errno 2] No such file or directory: 'D:/external_datasets/TAO/TAO_DIR/frames/val/YFCC100M/v_460a1314da9bd32cbd14a2b3414f30/frame1153.jpeg'\n",
      ">>>> #WARNING: No file found for: TAO eggbeater...\n",
      ">>> finding similar category:  eggplant\n",
      ">>>> #WARNING eggplant is missing from json annotations\n",
      "annotations datasets:  []\n",
      "annotations imgids:  []\n",
      "annotations bbox:  []\n",
      ">>> finding similar category:  legging_(clothing)\n",
      ">>>> #WARNING legging_(clothing) is missing from json annotations\n",
      "annotations datasets:  []\n",
      "annotations imgids:  []\n",
      "annotations bbox:  []\n",
      ">>> finding similar category:  scrambled_eggs\n",
      ">>>> #WARNING scrambled_eggs is missing from json annotations\n",
      "annotations datasets:  []\n",
      "annotations imgids:  []\n",
      "annotations bbox:  []\n",
      "\n",
      ">> faucet...\n",
      ">>> finding similar category:  faucet\n",
      "TAO\n"
     ]
    },
    {
     "name": "stderr",
     "output_type": "stream",
     "text": [
      "\n",
      ">>> Finding TAO faucet...:   0%|                                                             | 0/149 [00:00<?, ?it/s]\u001b[A"
     ]
    },
    {
     "name": "stdout",
     "output_type": "stream",
     "text": [
      "[Errno 2] No such file or directory: 'D:/external_datasets/TAO/TAO_DIR/frames/train/HACS/Washing_dishes_v_7SFkVnnp_eE/frame1591.jpg'\n"
     ]
    },
    {
     "name": "stderr",
     "output_type": "stream",
     "text": [
      "\n",
      "\n",
      ">>> Finding TAO faucet...:   1%|▎                                                    | 1/149 [00:00<00:05, 27.77it/s]\u001b[A"
     ]
    },
    {
     "name": "stdout",
     "output_type": "stream",
     "text": [
      "[Errno 2] No such file or directory: 'D:/external_datasets/TAO/TAO_DIR/frames/train/HACS/Washing_dishes_v_7SFkVnnp_eE/frame1171.jpg'\n"
     ]
    },
    {
     "name": "stderr",
     "output_type": "stream",
     "text": [
      "\n",
      " 52%|████████████████████████████████████████▉                                      | 98/189 [03:52<02:54,  1.92s/it]"
     ]
    },
    {
     "name": "stdout",
     "output_type": "stream",
     "text": [
      ">>> finding similar category:  water_faucet\n",
      ">>>> #WARNING water_faucet is missing from json annotations\n",
      "annotations datasets:  []\n",
      "annotations imgids:  []\n",
      "annotations bbox:  []\n",
      "\n",
      ">> fish...\n",
      ">>> finding similar category:  fish\n",
      "TAO\n",
      ">>> finding similar category:  fish_(food)\n",
      ">>>> #WARNING fish_(food) is missing from json annotations\n",
      "annotations datasets:  []\n",
      "annotations imgids:  []\n",
      "annotations bbox:  []\n",
      ">>> finding similar category:  fishbowl\n",
      ">>>> #WARNING fishbowl is missing from json annotations\n",
      "annotations datasets:  []\n",
      "annotations imgids:  []\n",
      "annotations bbox:  []\n",
      ">>> finding similar category:  fishing_boat\n",
      ">>>> #WARNING fishing_boat is missing from json annotations\n",
      "annotations datasets:  []\n",
      "annotations imgids:  []\n",
      "annotations bbox:  []\n",
      ">>> finding similar category:  fishing_rod\n",
      "TAO\n"
     ]
    },
    {
     "name": "stderr",
     "output_type": "stream",
     "text": [
      " 52%|█████████████████████████████████████████▍                                     | 99/189 [03:57<03:59,  2.67s/it]"
     ]
    },
    {
     "name": "stdout",
     "output_type": "stream",
     "text": [
      ">>> finding similar category:  goldfish\n",
      ">>>> #WARNING goldfish is missing from json annotations\n",
      "annotations datasets:  []\n",
      "annotations imgids:  []\n",
      "annotations bbox:  []\n",
      ">>> finding similar category:  puffer_(fish)\n",
      ">>>> #WARNING puffer_(fish) is missing from json annotations\n",
      "annotations datasets:  []\n",
      "annotations imgids:  []\n",
      "annotations bbox:  []\n",
      ">>> finding similar category:  salmon_(fish)\n",
      ">>>> #WARNING salmon_(fish) is missing from json annotations\n",
      "annotations datasets:  []\n",
      "annotations imgids:  []\n",
      "annotations bbox:  []\n",
      ">>> finding similar category:  starfish\n",
      ">>>> #WARNING starfish is missing from json annotations\n",
      "annotations datasets:  []\n",
      "annotations imgids:  []\n",
      "annotations bbox:  []\n",
      "\n",
      ">> flag...\n",
      ">>> finding similar category:  flag\n",
      "TAO\n"
     ]
    },
    {
     "name": "stderr",
     "output_type": "stream",
     "text": [
      " 53%|█████████████████████████████████████████▎                                    | 100/189 [03:58<03:27,  2.34s/it]\n",
      ">>> Finding COCO fork...:   0%|                                                             | 0/5694 [00:00<?, ?it/s]\u001b[A"
     ]
    },
    {
     "name": "stdout",
     "output_type": "stream",
     "text": [
      ">>> finding similar category:  pirate_flag\n",
      ">>>> #WARNING pirate_flag is missing from json annotations\n",
      "annotations datasets:  []\n",
      "annotations imgids:  []\n",
      "annotations bbox:  []\n",
      ">>> finding similar category:  flagpole\n",
      ">>>> #WARNING flagpole is missing from json annotations\n",
      "annotations datasets:  []\n",
      "annotations imgids:  []\n",
      "annotations bbox:  []\n",
      "\n",
      ">> flash...\n",
      ">>> finding similar category:  flash\n",
      ">>>> #WARNING flash is missing from json annotations\n",
      "annotations datasets:  []\n",
      "annotations imgids:  []\n",
      "annotations bbox:  []\n",
      ">>> finding similar category:  flashlight\n",
      ">>>> #WARNING flashlight is missing from json annotations\n",
      "annotations datasets:  []\n",
      "annotations imgids:  []\n",
      "annotations bbox:  []\n",
      "\n",
      ">> fork...\n",
      ">>> finding similar category:  fork\n",
      "COCO\n",
      "[Errno 2] No such file or directory: 'D:/external_datasets/COCO/2017/images/val2017/000000173004.jpg'\n"
     ]
    },
    {
     "name": "stderr",
     "output_type": "stream",
     "text": [
      "\n",
      " 54%|██████████████████████████████████████████                                    | 102/189 [03:59<02:36,  1.80s/it]"
     ]
    },
    {
     "name": "stdout",
     "output_type": "stream",
     "text": [
      ">>> finding similar category:  forklift\n",
      ">>>> #WARNING forklift is missing from json annotations\n",
      "annotations datasets:  []\n",
      "annotations imgids:  []\n",
      "annotations bbox:  []\n",
      ">>> finding similar category:  pitchfork\n",
      ">>>> #WARNING pitchfork is missing from json annotations\n",
      "annotations datasets:  []\n",
      "annotations imgids:  []\n",
      "annotations bbox:  []\n",
      "\n",
      ">> garbage...\n",
      ">>> finding similar category:  garbage\n",
      "TAO\n",
      ">>> finding similar category:  garbage_truck\n",
      "TAO\n"
     ]
    },
    {
     "name": "stderr",
     "output_type": "stream",
     "text": [
      " 54%|██████████████████████████████████████████▌                                   | 103/189 [04:00<02:05,  1.46s/it]"
     ]
    },
    {
     "name": "stdout",
     "output_type": "stream",
     "text": [
      "\n",
      ">> glove...\n",
      ">>> finding similar category:  glove\n",
      ">>>> #WARNING glove is missing from json annotations\n",
      "annotations datasets:  []\n",
      "annotations imgids:  []\n",
      "annotations bbox:  []\n",
      ">>> finding similar category:  baseball glove\n",
      "COCO\n",
      ">>> finding similar category:  baseball_glove\n",
      "TAO\n"
     ]
    },
    {
     "name": "stderr",
     "output_type": "stream",
     "text": [
      " 55%|██████████████████████████████████████████▉                                   | 104/189 [04:02<02:12,  1.56s/it]"
     ]
    },
    {
     "name": "stdout",
     "output_type": "stream",
     "text": [
      ">>> finding similar category:  boxing_glove\n",
      ">>>> #WARNING boxing_glove is missing from json annotations\n",
      "annotations datasets:  []\n",
      "annotations imgids:  []\n",
      "annotations bbox:  []\n",
      "\n",
      ">> gun...\n",
      ">>> finding similar category:  gun\n",
      "TAO\n"
     ]
    },
    {
     "name": "stderr",
     "output_type": "stream",
     "text": [
      "\n",
      ">>> Finding TAO gun...:   0%|                                                                | 0/175 [00:00<?, ?it/s]\u001b[A\n",
      "\n",
      ">>> Finding TAO gun...:   1%|▎                                                       | 1/175 [00:00<00:08, 21.28it/s]\u001b[A\n",
      " 56%|███████████████████████████████████████████▎                                  | 105/189 [04:03<02:12,  1.58s/it]"
     ]
    },
    {
     "name": "stdout",
     "output_type": "stream",
     "text": [
      "[Errno 2] No such file or directory: 'D:/external_datasets/TAO/TAO_DIR/frames/train/YFCC100M/v_39e0a6e2fd23c9796a7ac04ed257c461/frame1381.jpg'\n",
      "[Errno 2] No such file or directory: 'D:/external_datasets/TAO/TAO_DIR/frames/val/AVA/G0gDuIVKiXg_scene_19_51587-52870/frame0985.jpg'\n",
      ">>> finding similar category:  machine_gun\n",
      ">>>> #WARNING machine_gun is missing from json annotations\n",
      "annotations datasets:  []\n",
      "annotations imgids:  []\n",
      "annotations bbox:  []\n",
      ">>> finding similar category:  water_gun\n",
      ">>>> #WARNING water_gun is missing from json annotations\n",
      "annotations datasets:  []\n",
      "annotations imgids:  []\n",
      "annotations bbox:  []\n",
      "\n",
      ">> ham...\n",
      ">>> finding similar category:  ham\n",
      ">>>> #WARNING ham is missing from json annotations\n",
      "annotations datasets:  []\n",
      "annotations imgids:  []\n",
      "annotations bbox:  []\n",
      ">>> finding similar category:  champagne\n",
      ">>>> #WARNING champagne is missing from json annotations\n",
      "annotations datasets:  []\n",
      "annotations imgids:  []\n",
      "annotations bbox:  []\n",
      ">>> finding similar category:  clothes_hamper\n",
      ">>>> #WARNING clothes_hamper is missing from json annotations\n",
      "annotations datasets:  []\n",
      "annotations imgids:  []\n",
      "annotations bbox:  []\n",
      ">>> finding similar category:  hamburger\n",
      ">>>> #WARNING hamburger is missing from json annotations\n",
      "annotations datasets:  []\n",
      "annotations imgids:  []\n",
      "annotations bbox:  []\n",
      ">>> finding similar category:  hammer\n",
      "TAO\n"
     ]
    },
    {
     "name": "stderr",
     "output_type": "stream",
     "text": [
      "\n",
      ">>> Finding TAO hammer...: 100%|███████████████████████████████████████████████████████████████| 8/8 [00:00<?, ?it/s]\u001b[A"
     ]
    },
    {
     "name": "stdout",
     "output_type": "stream",
     "text": [
      "[Errno 2] No such file or directory: 'D:/external_datasets/TAO/TAO_DIR/frames/val/YFCC100M/v_f082f297a09e147bb990b9cc89c7ad8e/frame0426.jpeg'\n",
      ">>>> #WARNING: No file found for: TAO hammer...\n",
      "[Errno 2] No such file or directory: 'D:/external_datasets/TAO/TAO_DIR/frames/val/YFCC100M/v_f082f297a09e147bb990b9cc89c7ad8e/frame0376.jpeg'\n"
     ]
    },
    {
     "name": "stderr",
     "output_type": "stream",
     "text": [
      "\n",
      "\n",
      ">>> Finding TAO hammer...: 100%|███████████████████████████████████████████████████████████████| 8/8 [00:00<?, ?it/s]\u001b[A\n",
      "\n",
      ">>> Finding TAO hammer...: 100%|█████████████████████████████████████████████████████| 8/8 [00:00<00:00, 7989.15it/s]\u001b[A\n"
     ]
    },
    {
     "name": "stdout",
     "output_type": "stream",
     "text": [
      ">>>> #WARNING: No file found for: TAO hammer...\n",
      "[Errno 2] No such file or directory: 'D:/external_datasets/TAO/TAO_DIR/frames/val/YFCC100M/v_f082f297a09e147bb990b9cc89c7ad8e/frame0401.jpeg'\n",
      ">>>> #WARNING: No file found for: TAO hammer...\n",
      ">>> finding similar category:  hammock\n",
      ">>>> #WARNING hammock is missing from json annotations\n",
      "annotations datasets:  []\n",
      "annotations imgids:  []\n",
      "annotations bbox:  []\n",
      ">>> finding similar category:  hamper\n",
      ">>>> #WARNING hamper is missing from json annotations\n",
      "annotations datasets:  []\n",
      "annotations imgids:  []\n",
      "annotations bbox:  []\n",
      ">>> finding similar category:  hamster\n",
      ">>>> #WARNING hamster is missing from json annotations\n",
      "annotations datasets:  []\n",
      "annotations imgids:  []\n",
      "annotations bbox:  []\n",
      ">>> finding similar category:  shampoo\n",
      "TAO\n"
     ]
    },
    {
     "name": "stderr",
     "output_type": "stream",
     "text": [
      " 56%|███████████████████████████████████████████▋                                  | 106/189 [04:05<02:19,  1.68s/it]\n",
      ">>> Finding TAO hat...:   0%|                                                                | 0/195 [00:00<?, ?it/s]\u001b[A\n"
     ]
    },
    {
     "name": "stdout",
     "output_type": "stream",
     "text": [
      "\n",
      ">> hamper...\n",
      ">>> finding similar category:  hamper\n",
      ">>>> #WARNING hamper is missing from json annotations\n",
      "annotations datasets:  []\n",
      "annotations imgids:  []\n",
      "annotations bbox:  []\n",
      ">>> finding similar category:  clothes_hamper\n",
      ">>>> #WARNING clothes_hamper is missing from json annotations\n",
      "annotations datasets:  []\n",
      "annotations imgids:  []\n",
      "annotations bbox:  []\n",
      "\n",
      ">> hat...\n",
      ">>> finding similar category:  hat\n",
      "TAO\n",
      "[Errno 2] No such file or directory: 'D:/external_datasets/TAO/TAO_DIR/frames/train/AVA/XOe9GeojzCs_scene_33_132653-134022/frame0991.jpg'\n"
     ]
    },
    {
     "name": "stderr",
     "output_type": "stream",
     "text": [
      "\n",
      ">>> Finding TAO hat...:   1%|▎                                                       | 1/195 [00:00<00:08, 23.24it/s]\u001b[A\n",
      "\n",
      ">>> Finding TAO hat...:   1%|▌                                                       | 2/195 [00:00<00:02, 79.88it/s]\u001b[A"
     ]
    },
    {
     "name": "stdout",
     "output_type": "stream",
     "text": [
      "[Errno 2] No such file or directory: 'D:/external_datasets/TAO/TAO_DIR/frames/val/YFCC100M/v_c9888e663a25da3cd60116792a0cc7/frame1351.jpg'\n",
      "[Errno 2] No such file or directory: 'D:/external_datasets/TAO/TAO_DIR/frames/val/YFCC100M/v_8d9acade6c74d4212bc148c54c2c3b20/frame0976.jpeg'\n",
      "[Errno 2] No such file or directory: 'D:/external_datasets/TAO/TAO_DIR/frames/train/YFCC100M/v_8b6283255797fc7e94f3a93947a2803/frame0991.jpg'\n"
     ]
    },
    {
     "name": "stderr",
     "output_type": "stream",
     "text": [
      "\n",
      "\n",
      ">>> Finding TAO hat...:   2%|▊                                                       | 3/195 [00:00<00:02, 83.33it/s]\u001b[A\n",
      "\n",
      ">>> Finding TAO hat...:   2%|█▏                                                      | 4/195 [00:00<00:02, 85.12it/s]\u001b[A\n",
      "\n",
      ">>> Finding TAO hat...:   3%|█▍                                                     | 5/195 [00:00<00:01, 106.38it/s]\u001b[A"
     ]
    },
    {
     "name": "stdout",
     "output_type": "stream",
     "text": [
      "[Errno 2] No such file or directory: 'D:/external_datasets/TAO/TAO_DIR/frames/val/YFCC100M/v_c9888e663a25da3cd60116792a0cc7/frame1471.jpg'\n",
      "[Errno 2] No such file or directory: 'D:/external_datasets/TAO/TAO_DIR/frames/val/YFCC100M/v_c9888e663a25da3cd60116792a0cc7/frame1531.jpg'\n",
      "[Errno 2] No such file or directory: 'D:/external_datasets/TAO/TAO_DIR/frames/train/AVA/XOe9GeojzCs_scene_33_132653-134022/frame1201.jpg'\n"
     ]
    },
    {
     "name": "stderr",
     "output_type": "stream",
     "text": [
      "\n",
      "\n",
      ">>> Finding TAO hat...:   3%|█▋                                                     | 6/195 [00:00<00:01, 146.34it/s]\u001b[A\n",
      "\n",
      ">>> Finding TAO hat...:   4%|██▎                                                    | 8/195 [00:00<00:01, 159.91it/s]\u001b[A\n"
     ]
    },
    {
     "name": "stdout",
     "output_type": "stream",
     "text": [
      "[Errno 2] No such file or directory: 'D:/external_datasets/TAO/TAO_DIR/frames/val/YFCC100M/v_5caf226a1c6c42e428f236ace34f719f/frame1561.jpeg'\n",
      ">>> finding similar category:  bowler_hat\n",
      ">>>> #WARNING bowler_hat is missing from json annotations\n",
      "annotations datasets:  []\n",
      "annotations imgids:  []\n",
      "annotations bbox:  []\n",
      ">>> finding similar category:  cowboy_hat\n",
      ">>>> #WARNING cowboy_hat is missing from json annotations\n",
      "annotations datasets:  []\n",
      "annotations imgids:  []\n",
      "annotations bbox:  []\n",
      ">>> finding similar category:  dress_hat\n",
      "TAO\n"
     ]
    },
    {
     "name": "stderr",
     "output_type": "stream",
     "text": [
      " 57%|████████████████████████████████████████████▌                                 | 108/189 [04:08<02:06,  1.56s/it]\n",
      ">>> Finding TAO helmet...: 100%|███████████████████████████████████████████████████████████████| 7/7 [00:00<?, ?it/s]\u001b[A\n",
      "\n",
      ">>> Finding TAO helmet...: 100%|███████████████████████████████████████████████████████████████| 7/7 [00:00<?, ?it/s]\u001b[A\n",
      "\n",
      ">>> Finding TAO helmet...: 100%|███████████████████████████████████████████████████████████████| 7/7 [00:00<?, ?it/s]\u001b[A\n",
      "\n",
      ">>> Finding TAO helmet...: 100%|███████████████████████████████████████████████████████████████| 7/7 [00:00<?, ?it/s]\u001b[A\n",
      "\n",
      ">>> Finding TAO helmet...: 100%|███████████████████████████████████████████████████████████████| 7/7 [00:00<?, ?it/s]\u001b[A\n",
      "\n",
      ">>> Finding TAO helmet...: 100%|█████████████████████████████████████████████████████| 7/7 [00:00<00:00, 7052.64it/s]\u001b[A\n",
      "\n",
      ">>> Finding TAO helmet...: 100%|███████████████████████████████████████████████████████████████| 7/7 [00:00<?, ?it/s]\u001b[A"
     ]
    },
    {
     "name": "stdout",
     "output_type": "stream",
     "text": [
      ">>> finding similar category:  hatbox\n",
      ">>>> #WARNING hatbox is missing from json annotations\n",
      "annotations datasets:  []\n",
      "annotations imgids:  []\n",
      "annotations bbox:  []\n",
      ">>> finding similar category:  hatch\n",
      ">>>> #WARNING hatch is missing from json annotations\n",
      "annotations datasets:  []\n",
      "annotations imgids:  []\n",
      "annotations bbox:  []\n",
      ">>> finding similar category:  sunhat\n",
      ">>>> #WARNING sunhat is missing from json annotations\n",
      "annotations datasets:  []\n",
      "annotations imgids:  []\n",
      "annotations bbox:  []\n",
      "\n",
      ">> heater...\n",
      ">>> finding similar category:  heater\n",
      ">>>> #WARNING heater is missing from json annotations\n",
      "annotations datasets:  []\n",
      "annotations imgids:  []\n",
      "annotations bbox:  []\n",
      ">>> finding similar category:  water_heater\n",
      ">>>> #WARNING water_heater is missing from json annotations\n",
      "annotations datasets:  []\n",
      "annotations imgids:  []\n",
      "annotations bbox:  []\n",
      "\n",
      ">> helmet...\n",
      ">>> finding similar category:  helmet\n",
      "TAO\n",
      "[Errno 2] No such file or directory: 'D:/external_datasets/TAO/TAO_DIR/frames/val/HACS/Horseback_riding_v_prQDcmyY04s/frame1981.jpg'\n",
      ">>>> #WARNING: No file found for: TAO helmet...\n",
      "[Errno 2] No such file or directory: 'D:/external_datasets/TAO/TAO_DIR/frames/val/HACS/Horseback_riding_v_prQDcmyY04s/frame1861.jpg'\n",
      ">>>> #WARNING: No file found for: TAO helmet...\n",
      "[Errno 2] No such file or directory: 'D:/external_datasets/TAO/TAO_DIR/frames/val/HACS/Horseback_riding_v_prQDcmyY04s/frame1891.jpg'\n",
      ">>>> #WARNING: No file found for: TAO helmet...\n",
      "[Errno 2] No such file or directory: 'D:/external_datasets/TAO/TAO_DIR/frames/val/HACS/Horseback_riding_v_prQDcmyY04s/frame1921.jpg'\n",
      ">>>> #WARNING: No file found for: TAO helmet...\n",
      "[Errno 2] No such file or directory: 'D:/external_datasets/TAO/TAO_DIR/frames/val/HACS/Horseback_riding_v_prQDcmyY04s/frame1951.jpg'\n",
      ">>>> #WARNING: No file found for: TAO helmet...\n",
      "[Errno 2] No such file or directory: 'D:/external_datasets/TAO/TAO_DIR/frames/val/HACS/Horseback_riding_v_prQDcmyY04s/frame1831.jpg'\n",
      ">>>> #WARNING: No file found for: TAO helmet...\n",
      "[Errno 2] No such file or directory: 'D:/external_datasets/TAO/TAO_DIR/frames/val/HACS/Horseback_riding_v_prQDcmyY04s/frame1051.jpg'\n",
      ">>>> #WARNING: No file found for: TAO helmet...\n",
      ">>> finding similar category:  football_helmet\n",
      "TAO\n"
     ]
    },
    {
     "name": "stderr",
     "output_type": "stream",
     "text": [
      "\n",
      " 58%|█████████████████████████████████████████████▍                                | 110/189 [04:09<01:39,  1.27s/it]"
     ]
    },
    {
     "name": "stdout",
     "output_type": "stream",
     "text": [
      "\n",
      ">> horse...\n",
      ">>> finding similar category:  horse\n",
      "COCO\n"
     ]
    },
    {
     "name": "stderr",
     "output_type": "stream",
     "text": [
      " 59%|█████████████████████████████████████████████▊                                | 111/189 [04:10<01:35,  1.22s/it]"
     ]
    },
    {
     "name": "stdout",
     "output_type": "stream",
     "text": [
      ">>> finding similar category:  horse_buggy\n",
      ">>>> #WARNING horse_buggy is missing from json annotations\n",
      "annotations datasets:  []\n",
      "annotations imgids:  []\n",
      "annotations bbox:  []\n",
      ">>> finding similar category:  horse_carriage\n",
      ">>>> #WARNING horse_carriage is missing from json annotations\n",
      "annotations datasets:  []\n",
      "annotations imgids:  []\n",
      "annotations bbox:  []\n",
      ">>> finding similar category:  headstall_(for_horses)\n",
      ">>>> #WARNING headstall_(for_horses) is missing from json annotations\n",
      "annotations datasets:  []\n",
      "annotations imgids:  []\n",
      "annotations bbox:  []\n",
      ">>> finding similar category:  sawhorse\n",
      ">>>> #WARNING sawhorse is missing from json annotations\n",
      "annotations datasets:  []\n",
      "annotations imgids:  []\n",
      "annotations bbox:  []\n",
      ">>> finding similar category:  seahorse\n",
      ">>>> #WARNING seahorse is missing from json annotations\n",
      "annotations datasets:  []\n",
      "annotations imgids:  []\n",
      "annotations bbox:  []\n",
      ">>> finding similar category:  blinder_(for_horses)\n",
      ">>>> #WARNING blinder_(for_horses) is missing from json annotations\n",
      "annotations datasets:  []\n",
      "annotations imgids:  []\n",
      "annotations bbox:  []\n",
      "\n",
      ">> hose...\n",
      ">>> finding similar category:  hose\n",
      "TAO\n"
     ]
    },
    {
     "name": "stderr",
     "output_type": "stream",
     "text": [
      " 59%|██████████████████████████████████████████████▏                               | 112/189 [04:12<01:42,  1.33s/it]"
     ]
    },
    {
     "name": "stdout",
     "output_type": "stream",
     "text": [
      ">>> finding similar category:  fire_hose\n",
      ">>>> #WARNING fire_hose is missing from json annotations\n",
      "annotations datasets:  []\n",
      "annotations imgids:  []\n",
      "annotations bbox:  []\n",
      ">>> finding similar category:  garden_hose\n",
      ">>>> #WARNING garden_hose is missing from json annotations\n",
      "annotations datasets:  []\n",
      "annotations imgids:  []\n",
      "annotations bbox:  []\n",
      ">>> finding similar category:  pantyhose\n",
      ">>>> #WARNING pantyhose is missing from json annotations\n",
      "annotations datasets:  []\n",
      "annotations imgids:  []\n",
      "annotations bbox:  []\n",
      "\n",
      ">> jacket...\n",
      ">>> finding similar category:  jacket\n",
      "TAO\n"
     ]
    },
    {
     "name": "stderr",
     "output_type": "stream",
     "text": [
      "\n",
      ">>> Finding TAO jacket...:   0%|                                                             | 0/300 [00:00<?, ?it/s]\u001b[A"
     ]
    },
    {
     "name": "stdout",
     "output_type": "stream",
     "text": [
      "[Errno 2] No such file or directory: 'D:/external_datasets/TAO/TAO_DIR/frames/val/Charades/DOQ9Y/frame0991.jpg'\n"
     ]
    },
    {
     "name": "stderr",
     "output_type": "stream",
     "text": [
      "\n",
      " 60%|██████████████████████████████████████████████▋                               | 113/189 [04:13<01:52,  1.48s/it]"
     ]
    },
    {
     "name": "stdout",
     "output_type": "stream",
     "text": [
      ">>> finding similar category:  life_jacket\n",
      ">>>> #WARNING life_jacket is missing from json annotations\n",
      "annotations datasets:  []\n",
      "annotations imgids:  []\n",
      "annotations bbox:  []\n",
      "\n",
      ">> jam...\n",
      ">>> finding similar category:  jam\n",
      ">>>> #WARNING jam is missing from json annotations\n",
      "annotations datasets:  []\n",
      "annotations imgids:  []\n",
      "annotations bbox:  []\n",
      ">>> finding similar category:  pajamas\n",
      ">>>> #WARNING pajamas is missing from json annotations\n",
      "annotations datasets:  []\n",
      "annotations imgids:  []\n",
      "annotations bbox:  []\n",
      "\n",
      ">> jewelry...\n",
      ">>> finding similar category:  jewelry\n",
      ">>>> #WARNING jewelry is missing from json annotations\n",
      "annotations datasets:  []\n",
      "annotations imgids:  []\n",
      "annotations bbox:  []\n",
      ">>> finding similar category:  pin_(non_jewelry)\n",
      ">>>> #WARNING pin_(non_jewelry) is missing from json annotations\n",
      "annotations datasets:  []\n",
      "annotations imgids:  []\n",
      "annotations bbox:  []\n",
      "\n",
      ">> kettle...\n",
      ">>> finding similar category:  kettle\n",
      "TAO\n"
     ]
    },
    {
     "name": "stderr",
     "output_type": "stream",
     "text": [
      "\n",
      ">>> Finding TAO teakettle...:   0%|                                                            | 0/5 [00:00<?, ?it/s]\u001b[A"
     ]
    },
    {
     "name": "stdout",
     "output_type": "stream",
     "text": [
      ">>> finding similar category:  teakettle\n",
      "TAO\n",
      "[Errno 2] No such file or directory: 'D:/external_datasets/TAO/TAO_DIR/frames/val/AVA/P60OxWahxBQ_scene_2_41000-42115/frame1051.jpg'\n"
     ]
    },
    {
     "name": "stderr",
     "output_type": "stream",
     "text": [
      "\n",
      " 61%|███████████████████████████████████████████████▊                              | 116/189 [04:14<01:20,  1.10s/it]"
     ]
    },
    {
     "name": "stdout",
     "output_type": "stream",
     "text": [
      "\n",
      ">> key...\n",
      ">>> finding similar category:  key\n",
      ">>>> #WARNING key is missing from json annotations\n",
      "annotations datasets:  []\n",
      "annotations imgids:  []\n",
      "annotations bbox:  []\n",
      ">>> finding similar category:  keyboard\n",
      "COCO\n"
     ]
    },
    {
     "name": "stderr",
     "output_type": "stream",
     "text": [
      "\n",
      ">>> Finding TAO computer_keyboard...:   0%|                                                   | 0/69 [00:00<?, ?it/s]\u001b[A"
     ]
    },
    {
     "name": "stdout",
     "output_type": "stream",
     "text": [
      ">>> finding similar category:  computer_keyboard\n",
      "TAO\n",
      "[Errno 2] No such file or directory: 'D:/external_datasets/TAO/TAO_DIR/frames/val/Charades/KRT78/frame1081.jpg'\n"
     ]
    },
    {
     "name": "stderr",
     "output_type": "stream",
     "text": [
      "\n"
     ]
    },
    {
     "name": "stdout",
     "output_type": "stream",
     "text": [
      ">>> finding similar category:  hockey_stick\n",
      "TAO\n",
      ">>> finding similar category:  keycard\n",
      ">>>> #WARNING keycard is missing from json annotations\n",
      "annotations datasets:  []\n",
      "annotations imgids:  []\n",
      "annotations bbox:  []\n",
      ">>> finding similar category:  monkey\n",
      "TAO\n",
      ">>> finding similar category:  turkey_(bird)\n",
      "TAO\n"
     ]
    },
    {
     "name": "stderr",
     "output_type": "stream",
     "text": [
      " 62%|████████████████████████████████████████████████▎                             | 117/189 [04:21<03:16,  2.73s/it]"
     ]
    },
    {
     "name": "stdout",
     "output_type": "stream",
     "text": [
      ">>> finding similar category:  turkey_(food)\n",
      ">>>> #WARNING turkey_(food) is missing from json annotations\n",
      "annotations datasets:  []\n",
      "annotations imgids:  []\n",
      "annotations bbox:  []\n",
      ">>> finding similar category:  whiskey\n",
      ">>>> #WARNING whiskey is missing from json annotations\n",
      "annotations datasets:  []\n",
      "annotations imgids:  []\n",
      "annotations bbox:  []\n",
      "\n",
      ">> knife...\n",
      ">>> finding similar category:  knife\n",
      "COCO\n"
     ]
    },
    {
     "name": "stderr",
     "output_type": "stream",
     "text": [
      "\n",
      ">>> Finding TAO butcher_knife...:  36%|████████████████                             | 15/42 [00:00<00:00, 374.95it/s]\u001b[A"
     ]
    },
    {
     "name": "stdout",
     "output_type": "stream",
     "text": [
      ">>> finding similar category:  butcher_knife\n",
      "TAO\n",
      "[Errno 2] No such file or directory: 'D:/external_datasets/TAO/TAO_DIR/frames/train/YFCC100M/v_23584c2660351f12cffe1399c47ce870/frame1261.jpeg'\n"
     ]
    },
    {
     "name": "stderr",
     "output_type": "stream",
     "text": [
      "\n",
      "\n",
      ">>> Finding TAO butcher_knife...:  38%|█████████████████▏                           | 16/42 [00:00<00:00, 363.33it/s]\u001b[A\n"
     ]
    },
    {
     "name": "stdout",
     "output_type": "stream",
     "text": [
      "[Errno 2] No such file or directory: 'D:/external_datasets/TAO/TAO_DIR/frames/train/YFCC100M/v_23584c2660351f12cffe1399c47ce870/frame1141.jpeg'\n"
     ]
    },
    {
     "name": "stderr",
     "output_type": "stream",
     "text": [
      "\n",
      ">>> Finding TAO butcher_knife...:  40%|██████████████████▏                          | 17/42 [00:00<00:00, 386.34it/s]\u001b[A\n",
      "\n",
      ">>> Finding TAO butcher_knife...:  45%|████████████████████▎                        | 19/42 [00:00<00:00, 395.84it/s]\u001b[A"
     ]
    },
    {
     "name": "stdout",
     "output_type": "stream",
     "text": [
      "[Errno 2] No such file or directory: 'D:/external_datasets/TAO/TAO_DIR/frames/train/YFCC100M/v_23584c2660351f12cffe1399c47ce870/frame1891.jpeg'\n",
      "[Errno 2] No such file or directory: 'D:/external_datasets/TAO/TAO_DIR/frames/train/YFCC100M/v_23584c2660351f12cffe1399c47ce870/frame0841.jpeg'\n"
     ]
    },
    {
     "name": "stderr",
     "output_type": "stream",
     "text": [
      "\n",
      "\n",
      ">>> Finding TAO butcher_knife...:  48%|█████████████████████▍                       | 20/42 [00:00<00:00, 377.31it/s]\u001b[A"
     ]
    },
    {
     "name": "stdout",
     "output_type": "stream",
     "text": [
      "[Errno 2] No such file or directory: 'D:/external_datasets/TAO/TAO_DIR/frames/train/YFCC100M/v_23584c2660351f12cffe1399c47ce870/frame0781.jpeg'\n"
     ]
    },
    {
     "name": "stderr",
     "output_type": "stream",
     "text": [
      "\n",
      " 62%|████████████████████████████████████████████████▋                             | 118/189 [04:23<03:09,  2.66s/it]"
     ]
    },
    {
     "name": "stdout",
     "output_type": "stream",
     "text": [
      ">>> finding similar category:  pocketknife\n",
      ">>>> #WARNING pocketknife is missing from json annotations\n",
      "annotations datasets:  []\n",
      "annotations imgids:  []\n",
      "annotations bbox:  []\n",
      ">>> finding similar category:  steak_knife\n",
      ">>>> #WARNING steak_knife is missing from json annotations\n",
      "annotations datasets:  []\n",
      "annotations imgids:  []\n",
      "annotations bbox:  []\n",
      "\n",
      ">> knob...\n",
      ">>> finding similar category:  knob\n",
      "TAO\n"
     ]
    },
    {
     "name": "stderr",
     "output_type": "stream",
     "text": [
      "\n",
      ">>> Finding TAO knob...:   0%|                                                                | 0/42 [00:00<?, ?it/s]\u001b[A"
     ]
    },
    {
     "name": "stdout",
     "output_type": "stream",
     "text": [
      "[Errno 2] No such file or directory: 'D:/external_datasets/TAO/TAO_DIR/frames/val/HACS/Baking_cookies_v_dhLfw18EP8E_scene_0_0-2102/frame1081.jpg'\n"
     ]
    },
    {
     "name": "stderr",
     "output_type": "stream",
     "text": [
      "\n",
      "\n",
      ">>> Finding TAO knob...:   2%|█▎                                                      | 1/42 [00:00<00:00, 57.09it/s]\u001b[A"
     ]
    },
    {
     "name": "stdout",
     "output_type": "stream",
     "text": [
      "[Errno 2] No such file or directory: 'D:/external_datasets/TAO/TAO_DIR/frames/val/HACS/Baking_cookies_v_dhLfw18EP8E_scene_0_0-2102/frame1111.jpg'\n"
     ]
    },
    {
     "name": "stderr",
     "output_type": "stream",
     "text": [
      "\n",
      " 63%|█████████████████████████████████████████████████                             | 119/189 [04:24<02:36,  2.24s/it]"
     ]
    },
    {
     "name": "stdout",
     "output_type": "stream",
     "text": [
      ">>> finding similar category:  doorknob\n",
      ">>>> #WARNING doorknob is missing from json annotations\n",
      "annotations datasets:  []\n",
      "annotations imgids:  []\n",
      "annotations bbox:  []\n",
      "\n",
      ">> ladder...\n",
      ">>> finding similar category:  ladder\n",
      ">>>> #WARNING ladder is missing from json annotations\n",
      "annotations datasets:  []\n",
      "annotations imgids:  []\n",
      "annotations bbox:  []\n",
      ">>> finding similar category:  stepladder\n",
      ">>>> #WARNING stepladder is missing from json annotations\n",
      "annotations datasets:  []\n",
      "annotations imgids:  []\n",
      "annotations bbox:  []\n",
      "\n",
      ">> lamp...\n",
      ">>> finding similar category:  lamp\n",
      "TAO\n"
     ]
    },
    {
     "name": "stderr",
     "output_type": "stream",
     "text": [
      "\n",
      ">>> Finding TAO table_lamp...:   5%|██▌                                              | 2/39 [00:00<00:00, 124.74it/s]\u001b[A"
     ]
    },
    {
     "name": "stdout",
     "output_type": "stream",
     "text": [
      ">>> finding similar category:  lamppost\n",
      ">>>> #WARNING lamppost is missing from json annotations\n",
      "annotations datasets:  []\n",
      "annotations imgids:  []\n",
      "annotations bbox:  []\n",
      ">>> finding similar category:  lampshade\n",
      ">>>> #WARNING lampshade is missing from json annotations\n",
      "annotations datasets:  []\n",
      "annotations imgids:  []\n",
      "annotations bbox:  []\n",
      ">>> finding similar category:  oil_lamp\n",
      ">>>> #WARNING oil_lamp is missing from json annotations\n",
      "annotations datasets:  []\n",
      "annotations imgids:  []\n",
      "annotations bbox:  []\n",
      ">>> finding similar category:  table_lamp\n",
      "TAO\n",
      "[Errno 2] No such file or directory: 'D:/external_datasets/TAO/TAO_DIR/frames/train/HACS/Welding_v_QlXEyPOUMUg/frame1021.jpg'\n"
     ]
    },
    {
     "name": "stderr",
     "output_type": "stream",
     "text": [
      "\n",
      " 64%|█████████████████████████████████████████████████▉                            | 121/189 [04:27<02:14,  1.97s/it]"
     ]
    },
    {
     "name": "stdout",
     "output_type": "stream",
     "text": [
      "\n",
      ">> lemon...\n",
      ">>> finding similar category:  lemon\n",
      "TAO\n"
     ]
    },
    {
     "name": "stderr",
     "output_type": "stream",
     "text": [
      " 65%|██████████████████████████████████████████████████▎                           | 122/189 [04:29<02:00,  1.80s/it]"
     ]
    },
    {
     "name": "stdout",
     "output_type": "stream",
     "text": [
      ">>> finding similar category:  lemonade\n",
      ">>>> #WARNING lemonade is missing from json annotations\n",
      "annotations datasets:  []\n",
      "annotations imgids:  []\n",
      "annotations bbox:  []\n",
      "\n",
      ">> lettuce...\n",
      ">>> finding similar category:  lettuce\n",
      "TAO\n"
     ]
    },
    {
     "name": "stderr",
     "output_type": "stream",
     "text": [
      " 65%|██████████████████████████████████████████████████▊                           | 123/189 [04:29<01:29,  1.35s/it]"
     ]
    },
    {
     "name": "stdout",
     "output_type": "stream",
     "text": [
      ">>> finding similar category:  romaine_lettuce\n",
      ">>>> #WARNING romaine_lettuce is missing from json annotations\n",
      "annotations datasets:  []\n",
      "annotations imgids:  []\n",
      "annotations bbox:  []\n",
      "\n",
      ">> map...\n",
      ">>> finding similar category:  map\n",
      ">>>> #WARNING map is missing from json annotations\n",
      "annotations datasets:  []\n",
      "annotations imgids:  []\n",
      "annotations bbox:  []\n",
      ">>> finding similar category:  road_map\n",
      ">>>> #WARNING road_map is missing from json annotations\n",
      "annotations datasets:  []\n",
      "annotations imgids:  []\n",
      "annotations bbox:  []\n",
      "\n",
      ">> mask...\n",
      ">>> finding similar category:  mask\n",
      ">>>> #WARNING mask is missing from json annotations\n",
      "annotations datasets:  []\n",
      "annotations imgids:  []\n",
      "annotations bbox:  []\n",
      ">>> finding similar category:  eye_mask\n",
      ">>>> #WARNING eye_mask is missing from json annotations\n",
      "annotations datasets:  []\n",
      "annotations imgids:  []\n",
      "annotations bbox:  []\n",
      ">>> finding similar category:  gasmask\n",
      "TAO\n"
     ]
    },
    {
     "name": "stderr",
     "output_type": "stream",
     "text": [
      "\n",
      ">>> Finding TAO gasmask...:   3%|█▍                                                   | 1/36 [00:00<00:00, 55.56it/s]\u001b[A\n",
      "\n",
      ">>> Finding TAO gasmask...:   6%|██▉                                                 | 2/36 [00:00<00:00, 117.71it/s]\u001b[A"
     ]
    },
    {
     "name": "stdout",
     "output_type": "stream",
     "text": [
      "[Errno 2] No such file or directory: 'D:/external_datasets/TAO/TAO_DIR/frames/train/HACS/Painting_furniture_v_xNxxM-OOMfw_scene_0_0-1910/frame1081.jpg'\n",
      "[Errno 2] No such file or directory: 'D:/external_datasets/TAO/TAO_DIR/frames/train/HACS/Painting_furniture_v_xNxxM-OOMfw_scene_0_0-1910/frame1021.jpg'\n"
     ]
    },
    {
     "name": "stderr",
     "output_type": "stream",
     "text": [
      "\n",
      " 66%|███████████████████████████████████████████████████▌                          | 125/189 [04:30<01:12,  1.13s/it]"
     ]
    },
    {
     "name": "stdout",
     "output_type": "stream",
     "text": [
      "\n",
      ">> melon...\n",
      ">>> finding similar category:  melon\n",
      ">>>> #WARNING melon is missing from json annotations\n",
      "annotations datasets:  []\n",
      "annotations imgids:  []\n",
      "annotations bbox:  []\n",
      ">>> finding similar category:  watermelon\n",
      ">>>> #WARNING watermelon is missing from json annotations\n",
      "annotations datasets:  []\n",
      "annotations imgids:  []\n",
      "annotations bbox:  []\n",
      "\n",
      ">> microphone...\n",
      ">>> finding similar category:  microphone\n",
      "TAO\n"
     ]
    },
    {
     "name": "stderr",
     "output_type": "stream",
     "text": [
      " 67%|████████████████████████████████████████████████████▍                         | 127/189 [04:32<01:03,  1.03s/it]"
     ]
    },
    {
     "name": "stdout",
     "output_type": "stream",
     "text": [
      ">>> finding similar category:  boom_microphone\n",
      ">>>> #WARNING boom_microphone is missing from json annotations\n",
      "annotations datasets:  []\n",
      "annotations imgids:  []\n",
      "annotations bbox:  []\n",
      "\n",
      ">> milk...\n",
      ">>> finding similar category:  milk\n",
      ">>>> #WARNING milk is missing from json annotations\n",
      "annotations datasets:  []\n",
      "annotations imgids:  []\n",
      "annotations bbox:  []\n",
      ">>> finding similar category:  chocolate_milk\n",
      ">>>> #WARNING chocolate_milk is missing from json annotations\n",
      "annotations datasets:  []\n",
      "annotations imgids:  []\n",
      "annotations bbox:  []\n",
      ">>> finding similar category:  soya_milk\n",
      ">>>> #WARNING soya_milk is missing from json annotations\n",
      "annotations datasets:  []\n",
      "annotations imgids:  []\n",
      "annotations bbox:  []\n",
      "\n",
      ">> mirror...\n",
      ">>> finding similar category:  mirror\n",
      "TAO\n"
     ]
    },
    {
     "name": "stderr",
     "output_type": "stream",
     "text": [
      " 68%|█████████████████████████████████████████████████████▏                        | 129/189 [04:33<00:57,  1.04it/s]"
     ]
    },
    {
     "name": "stdout",
     "output_type": "stream",
     "text": [
      ">>> finding similar category:  rearview_mirror\n",
      ">>>> #WARNING rearview_mirror is missing from json annotations\n",
      "annotations datasets:  []\n",
      "annotations imgids:  []\n",
      "annotations bbox:  []\n",
      "\n",
      ">> motor...\n",
      ">>> finding similar category:  motor\n",
      ">>>> #WARNING motor is missing from json annotations\n",
      "annotations datasets:  []\n",
      "annotations imgids:  []\n",
      "annotations bbox:  []\n",
      ">>> finding similar category:  motorcycle\n",
      "COCO\n"
     ]
    },
    {
     "name": "stderr",
     "output_type": "stream",
     "text": [
      "\n",
      ">>> Finding COCO motorcycle...:   0%|                                                       | 0/9096 [00:00<?, ?it/s]\u001b[A"
     ]
    },
    {
     "name": "stdout",
     "output_type": "stream",
     "text": [
      "[Errno 2] No such file or directory: 'D:/external_datasets/COCO/2017/images/val2017/000000356387.jpg'\n",
      ">>> finding similar category:  motor_scooter\n",
      "TAO\n"
     ]
    },
    {
     "name": "stderr",
     "output_type": "stream",
     "text": [
      "\n",
      "\n",
      ">>> Finding TAO motor_scooter...:   0%|                                                       | 0/85 [00:00<?, ?it/s]\u001b[A"
     ]
    },
    {
     "name": "stdout",
     "output_type": "stream",
     "text": [
      "[Errno 2] No such file or directory: 'D:/external_datasets/TAO/TAO_DIR/frames/train/BDD/b36e0178-2037ca44/frame1171.jpg'\n"
     ]
    },
    {
     "name": "stderr",
     "output_type": "stream",
     "text": [
      "\n"
     ]
    },
    {
     "name": "stdout",
     "output_type": "stream",
     "text": [
      ">>> finding similar category:  motor_vehicle\n",
      ">>>> #WARNING motor_vehicle is missing from json annotations\n",
      "annotations datasets:  []\n",
      "annotations imgids:  []\n",
      "annotations bbox:  []\n",
      ">>> finding similar category:  motorboat\n",
      "TAO\n"
     ]
    },
    {
     "name": "stderr",
     "output_type": "stream",
     "text": [
      " 69%|█████████████████████████████████████████████████████▋                        | 130/189 [04:37<01:44,  1.77s/it]\n",
      ">>> Finding TAO musical_instrument...: 100%|███████████████████████████████████████████████████| 7/7 [00:00<?, ?it/s]\u001b[A\n",
      "\n",
      ">>> Finding TAO musical_instrument...: 100%|███████████████████████████████████████████████████| 7/7 [00:00<?, ?it/s]\u001b[A\n",
      "\n",
      ">>> Finding TAO musical_instrument...: 100%|█████████████████████████████████████████| 7/7 [00:00<00:00, 6887.20it/s]\u001b[A\n",
      "\n",
      ">>> Finding TAO musical_instrument...: 100%|███████████████████████████████████████████████████| 7/7 [00:00<?, ?it/s]\u001b[A\n",
      "\n",
      ">>> Finding TAO musical_instrument...: 100%|███████████████████████████████████████████████████| 7/7 [00:00<?, ?it/s]\u001b[A\n",
      "\n",
      ">>> Finding TAO musical_instrument...: 100%|███████████████████████████████████████████████████| 7/7 [00:00<?, ?it/s]\u001b[A\n",
      "\n",
      ">>> Finding TAO musical_instrument...: 100%|███████████████████████████████████████████████████| 7/7 [00:00<?, ?it/s]\u001b[A\n"
     ]
    },
    {
     "name": "stdout",
     "output_type": "stream",
     "text": [
      "\n",
      ">> musical_instrument...\n",
      ">>> finding similar category:  musical_instrument\n",
      "TAO\n",
      "[Errno 2] No such file or directory: 'D:/external_datasets/TAO/TAO_DIR/frames/val/HACS/Playing_drums_v_jir62k3ZUG4_scene_0_0-6104/frame1051.jpg'\n",
      ">>>> #WARNING: No file found for: TAO musical_instrument...\n",
      "[Errno 2] No such file or directory: 'D:/external_datasets/TAO/TAO_DIR/frames/val/HACS/Playing_drums_v_jir62k3ZUG4_scene_0_0-6104/frame1171.jpg'\n",
      ">>>> #WARNING: No file found for: TAO musical_instrument...\n",
      "[Errno 2] No such file or directory: 'D:/external_datasets/TAO/TAO_DIR/frames/val/HACS/Playing_drums_v_jir62k3ZUG4_scene_0_0-6104/frame1081.jpg'\n",
      ">>>> #WARNING: No file found for: TAO musical_instrument...\n",
      "[Errno 2] No such file or directory: 'D:/external_datasets/TAO/TAO_DIR/frames/val/HACS/Playing_drums_v_jir62k3ZUG4_scene_0_0-6104/frame1111.jpg'\n",
      ">>>> #WARNING: No file found for: TAO musical_instrument...\n",
      "[Errno 2] No such file or directory: 'D:/external_datasets/TAO/TAO_DIR/frames/val/HACS/Playing_drums_v_jir62k3ZUG4_scene_0_0-6104/frame0991.jpg'\n",
      ">>>> #WARNING: No file found for: TAO musical_instrument...\n",
      "[Errno 2] No such file or directory: 'D:/external_datasets/TAO/TAO_DIR/frames/val/HACS/Playing_drums_v_jir62k3ZUG4_scene_0_0-6104/frame1021.jpg'\n",
      ">>>> #WARNING: No file found for: TAO musical_instrument...\n",
      "[Errno 2] No such file or directory: 'D:/external_datasets/TAO/TAO_DIR/frames/val/HACS/Playing_drums_v_jir62k3ZUG4_scene_0_0-6104/frame1141.jpg'\n",
      ">>>> #WARNING: No file found for: TAO musical_instrument...\n",
      ">>> finding similar category:  drum_(musical_instrument)\n",
      "TAO\n"
     ]
    },
    {
     "name": "stderr",
     "output_type": "stream",
     "text": [
      "\n",
      ">>> Finding TAO drum_(musical_instrument)...:   1%|▏                                 | 1/140 [00:00<00:03, 36.98it/s]\u001b[A\n",
      " 69%|██████████████████████████████████████████████████████                        | 131/189 [04:38<01:29,  1.55s/it]"
     ]
    },
    {
     "name": "stdout",
     "output_type": "stream",
     "text": [
      "[Errno 2] No such file or directory: 'D:/external_datasets/TAO/TAO_DIR/frames/train/HACS/Drum_corps_v_4KBTeNdE66U_scene_0_0-4062/frame0991.jpg'\n",
      ">>> finding similar category:  triangle_(musical_instrument)\n",
      ">>>> #WARNING triangle_(musical_instrument) is missing from json annotations\n",
      "annotations datasets:  []\n",
      "annotations imgids:  []\n",
      "annotations bbox:  []\n",
      "\n",
      ">> needle...\n",
      ">>> finding similar category:  needle\n",
      ">>>> #WARNING needle is missing from json annotations\n",
      "annotations datasets:  []\n",
      "annotations imgids:  []\n",
      "annotations bbox:  []\n",
      ">>> finding similar category:  knitting_needle\n",
      "TAO\n"
     ]
    },
    {
     "name": "stderr",
     "output_type": "stream",
     "text": [
      "\n",
      ">>> Finding TAO knitting_needle...:   0%|                                                    | 0/238 [00:00<?, ?it/s]\u001b[A"
     ]
    },
    {
     "name": "stdout",
     "output_type": "stream",
     "text": [
      "[Errno 2] No such file or directory: 'D:/external_datasets/TAO/TAO_DIR/frames/train/HACS/Knitting_v_mq7Wv-5qJwc/frame4051.jpg'\n"
     ]
    },
    {
     "name": "stderr",
     "output_type": "stream",
     "text": [
      "\n",
      "\n",
      ">>> Finding TAO knitting_needle...:   0%|▏                                           | 1/238 [00:00<00:03, 62.32it/s]\u001b[A\n",
      "\n",
      ">>> Finding TAO knitting_needle...:   1%|▎                                           | 2/238 [00:00<00:07, 33.11it/s]\u001b[A"
     ]
    },
    {
     "name": "stdout",
     "output_type": "stream",
     "text": [
      "[Errno 2] No such file or directory: 'D:/external_datasets/TAO/TAO_DIR/frames/train/HACS/Knitting_v_mq7Wv-5qJwc/frame3541.jpg'\n",
      "[Errno 2] No such file or directory: 'D:/external_datasets/TAO/TAO_DIR/frames/train/HACS/Knitting_v_mq7Wv-5qJwc/frame3691.jpg'\n"
     ]
    },
    {
     "name": "stderr",
     "output_type": "stream",
     "text": [
      "\n",
      " 70%|██████████████████████████████████████████████████████▍                       | 132/189 [04:40<01:45,  1.85s/it]\n",
      ">>> Finding TAO nut...: 100%|██████████████████████████████████████████████████████████████████| 3/3 [00:00<?, ?it/s]\u001b[A\n",
      "\n",
      ">>> Finding TAO nut...: 100%|██████████████████████████████████████████████████████████████████| 3/3 [00:00<?, ?it/s]\u001b[A\n",
      "\n",
      ">>> Finding TAO nut...: 100%|██████████████████████████████████████████████████████████████████| 3/3 [00:00<?, ?it/s]\u001b[A\n"
     ]
    },
    {
     "name": "stdout",
     "output_type": "stream",
     "text": [
      "\n",
      ">> nut...\n",
      ">>> finding similar category:  nut\n",
      "TAO\n",
      "[Errno 2] No such file or directory: 'D:/external_datasets/TAO/TAO_DIR/frames/val/HACS/Tumbling_v_OvrAlAqICIQ/frame2761.jpg'\n",
      ">>>> #WARNING: No file found for: TAO nut...\n",
      "[Errno 2] No such file or directory: 'D:/external_datasets/TAO/TAO_DIR/frames/val/HACS/Tumbling_v_OvrAlAqICIQ/frame2731.jpg'\n",
      ">>>> #WARNING: No file found for: TAO nut...\n",
      "[Errno 2] No such file or directory: 'D:/external_datasets/TAO/TAO_DIR/frames/val/HACS/Tumbling_v_OvrAlAqICIQ/frame2701.jpg'\n",
      ">>>> #WARNING: No file found for: TAO nut...\n",
      ">>> finding similar category:  donut\n",
      "COCO\n"
     ]
    },
    {
     "name": "stderr",
     "output_type": "stream",
     "text": [
      " 70%|██████████████████████████████████████████████████████▉                       | 133/189 [04:41<01:17,  1.39s/it]"
     ]
    },
    {
     "name": "stdout",
     "output_type": "stream",
     "text": [
      ">>> finding similar category:  coconut\n",
      ">>>> #WARNING coconut is missing from json annotations\n",
      "annotations datasets:  []\n",
      "annotations imgids:  []\n",
      "annotations bbox:  []\n",
      ">>> finding similar category:  doughnut\n",
      ">>>> #WARNING doughnut is missing from json annotations\n",
      "annotations datasets:  []\n",
      "annotations imgids:  []\n",
      "annotations bbox:  []\n",
      ">>> finding similar category:  nutcracker\n",
      ">>>> #WARNING nutcracker is missing from json annotations\n",
      "annotations datasets:  []\n",
      "annotations imgids:  []\n",
      "annotations bbox:  []\n",
      ">>> finding similar category:  peanut_butter\n",
      ">>>> #WARNING peanut_butter is missing from json annotations\n",
      "annotations datasets:  []\n",
      "annotations imgids:  []\n",
      "annotations bbox:  []\n",
      "\n",
      ">> oar...\n",
      ">>> finding similar category:  oar\n",
      "TAO\n",
      ">>> finding similar category:  snowboard\n",
      "COCO\n",
      ">>> finding similar category:  skateboard\n",
      "COCO\n",
      ">>> finding similar category:  surfboard\n",
      "COCO\n"
     ]
    },
    {
     "name": "stderr",
     "output_type": "stream",
     "text": [
      "\n",
      ">>> Finding COCO keyboard...:   0%|                                                         | 0/3008 [00:00<?, ?it/s]\u001b[A"
     ]
    },
    {
     "name": "stdout",
     "output_type": "stream",
     "text": [
      ">>> finding similar category:  keyboard\n",
      "COCO\n",
      "[Errno 2] No such file or directory: 'D:/external_datasets/COCO/2017/images/val2017/000000198641.jpg'\n"
     ]
    },
    {
     "name": "stderr",
     "output_type": "stream",
     "text": [
      "\n"
     ]
    },
    {
     "name": "stdout",
     "output_type": "stream",
     "text": [
      ">>> finding similar category:  basketball_backboard\n",
      ">>>> #WARNING basketball_backboard is missing from json annotations\n",
      "annotations datasets:  []\n",
      "annotations imgids:  []\n",
      "annotations bbox:  []\n",
      ">>> finding similar category:  blackboard\n",
      ">>>> #WARNING blackboard is missing from json annotations\n",
      "annotations datasets:  []\n",
      "annotations imgids:  []\n",
      "annotations bbox:  []\n",
      ">>> finding similar category:  boar\n",
      ">>>> #WARNING boar is missing from json annotations\n",
      "annotations datasets:  []\n",
      "annotations imgids:  []\n",
      "annotations bbox:  []\n",
      ">>> finding similar category:  gameboard\n",
      ">>>> #WARNING gameboard is missing from json annotations\n",
      "annotations datasets:  []\n",
      "annotations imgids:  []\n",
      "annotations bbox:  []\n",
      ">>> finding similar category:  bulletin_board\n",
      ">>>> #WARNING bulletin_board is missing from json annotations\n",
      "annotations datasets:  []\n",
      "annotations imgids:  []\n",
      "annotations bbox:  []\n",
      ">>> finding similar category:  checkerboard\n",
      ">>>> #WARNING checkerboard is missing from json annotations\n",
      "annotations datasets:  []\n",
      "annotations imgids:  []\n",
      "annotations bbox:  []\n",
      ">>> finding similar category:  chessboard\n",
      ">>>> #WARNING chessboard is missing from json annotations\n",
      "annotations datasets:  []\n",
      "annotations imgids:  []\n",
      "annotations bbox:  []\n",
      ">>> finding similar category:  chopping_board\n",
      ">>>> #WARNING chopping_board is missing from json annotations\n",
      "annotations datasets:  []\n",
      "annotations imgids:  []\n",
      "annotations bbox:  []\n",
      ">>> finding similar category:  clipboard\n",
      "TAO\n"
     ]
    },
    {
     "name": "stderr",
     "output_type": "stream",
     "text": [
      "\n",
      ">>> Finding TAO clipboard...:  44%|█████████████████████▌                           | 29/66 [00:00<00:00, 315.20it/s]\u001b[A"
     ]
    },
    {
     "name": "stdout",
     "output_type": "stream",
     "text": [
      "[Errno 2] No such file or directory: 'D:/external_datasets/TAO/TAO_DIR/frames/val/YFCC100M/v_e3919198858e7ac1a61aae1e486c7664/frame0811.jpeg'\n"
     ]
    },
    {
     "name": "stderr",
     "output_type": "stream",
     "text": [
      "\n",
      "\n",
      ">>> Finding TAO clipboard...:  45%|██████████████████████▎                          | 30/66 [00:00<00:00, 322.45it/s]\u001b[A"
     ]
    },
    {
     "name": "stdout",
     "output_type": "stream",
     "text": [
      "[Errno 2] No such file or directory: 'D:/external_datasets/TAO/TAO_DIR/frames/val/YFCC100M/v_e3919198858e7ac1a61aae1e486c7664/frame1891.jpeg'\n"
     ]
    },
    {
     "name": "stderr",
     "output_type": "stream",
     "text": [
      "\n",
      "\n",
      ">>> Finding TAO clipboard...:  47%|███████████████████████                          | 31/66 [00:00<00:00, 300.88it/s]\u001b[A"
     ]
    },
    {
     "name": "stdout",
     "output_type": "stream",
     "text": [
      "[Errno 2] No such file or directory: 'D:/external_datasets/TAO/TAO_DIR/frames/val/AVA/GElolK2jG50_scene_7_135593-137130/frame1261.jpg'\n"
     ]
    },
    {
     "name": "stderr",
     "output_type": "stream",
     "text": [
      "\n",
      "\n",
      ">>> Finding TAO clipboard...:  50%|████████████████████████▌                        | 33/66 [00:00<00:00, 320.38it/s]\u001b[A"
     ]
    },
    {
     "name": "stdout",
     "output_type": "stream",
     "text": [
      "[Errno 2] No such file or directory: 'D:/external_datasets/TAO/TAO_DIR/frames/val/YFCC100M/v_e3919198858e7ac1a61aae1e486c7664/frame1411.jpeg'\n"
     ]
    },
    {
     "name": "stderr",
     "output_type": "stream",
     "text": [
      "\n",
      "\n",
      ">>> Finding TAO clipboard...:  52%|█████████████████████████▏                       | 34/66 [00:00<00:00, 320.67it/s]\u001b[A\n"
     ]
    },
    {
     "name": "stdout",
     "output_type": "stream",
     "text": [
      "[Errno 2] No such file or directory: 'D:/external_datasets/TAO/TAO_DIR/frames/val/AVA/GElolK2jG50_scene_7_135593-137130/frame1231.jpg'\n",
      ">>> finding similar category:  computer_keyboard\n",
      "TAO\n"
     ]
    },
    {
     "name": "stderr",
     "output_type": "stream",
     "text": [
      "\n",
      ">>> Finding TAO scoreboard...: 100%|███████████████████████████████████████████████| 14/14 [00:00<00:00, 1399.93it/s]\u001b[A\n",
      "\n",
      ">>> Finding TAO scoreboard...: 100%|███████████████████████████████████████████████| 14/14 [00:00<00:00, 1272.82it/s]\u001b[A\n",
      "\n",
      ">>> Finding TAO scoreboard...: 100%|███████████████████████████████████████████████| 14/14 [00:00<00:00, 1075.68it/s]\u001b[A\n",
      "\n",
      ">>> Finding TAO scoreboard...: 100%|███████████████████████████████████████████████| 14/14 [00:00<00:00, 1392.73it/s]\u001b[A\n",
      "\n",
      ">>> Finding TAO scoreboard...: 100%|███████████████████████████████████████████████| 14/14 [00:00<00:00, 1268.53it/s]\u001b[A\n",
      "\n",
      ">>> Finding TAO scoreboard...: 100%|███████████████████████████████████████████████| 14/14 [00:00<00:00, 1400.50it/s]\u001b[A\n",
      "\n",
      ">>> Finding TAO scoreboard...: 100%|███████████████████████████████████████████████| 14/14 [00:00<00:00, 1398.07it/s]\u001b[A\n",
      "\n",
      ">>> Finding TAO scoreboard...: 100%|███████████████████████████████████████████████| 14/14 [00:00<00:00, 1398.43it/s]\u001b[A\n",
      "\n",
      ">>> Finding TAO scoreboard...: 100%|████████████████████████████████████████████████| 14/14 [00:00<00:00, 933.05it/s]\u001b[A\n",
      "\n",
      ">>> Finding TAO scoreboard...: 100%|███████████████████████████████████████████████| 14/14 [00:00<00:00, 1076.76it/s]\u001b[A\n",
      " 71%|███████████████████████████████████████████████████████▎                      | 134/189 [04:53<04:12,  4.60s/it]"
     ]
    },
    {
     "name": "stdout",
     "output_type": "stream",
     "text": [
      ">>> finding similar category:  corkboard\n",
      ">>>> #WARNING corkboard is missing from json annotations\n",
      "annotations datasets:  []\n",
      "annotations imgids:  []\n",
      "annotations bbox:  []\n",
      ">>> finding similar category:  dartboard\n",
      ">>>> #WARNING dartboard is missing from json annotations\n",
      "annotations datasets:  []\n",
      "annotations imgids:  []\n",
      "annotations bbox:  []\n",
      ">>> finding similar category:  headboard\n",
      ">>>> #WARNING headboard is missing from json annotations\n",
      "annotations datasets:  []\n",
      "annotations imgids:  []\n",
      "annotations bbox:  []\n",
      ">>> finding similar category:  ironing_board\n",
      ">>>> #WARNING ironing_board is missing from json annotations\n",
      "annotations datasets:  []\n",
      "annotations imgids:  []\n",
      "annotations bbox:  []\n",
      ">>> finding similar category:  pegboard\n",
      ">>>> #WARNING pegboard is missing from json annotations\n",
      "annotations datasets:  []\n",
      "annotations imgids:  []\n",
      "annotations bbox:  []\n",
      ">>> finding similar category:  scoreboard\n",
      "TAO\n",
      "[Errno 2] No such file or directory: 'D:/external_datasets/TAO/TAO_DIR/frames/train/YFCC100M/v_ae4c865e2aff9a1fd3435ac885b45c/frame1171.jpeg'\n",
      ">>>> #WARNING: No file found for: TAO scoreboard...\n",
      "[Errno 2] No such file or directory: 'D:/external_datasets/TAO/TAO_DIR/frames/train/YFCC100M/v_ae4c865e2aff9a1fd3435ac885b45c/frame1141.jpeg'\n",
      ">>>> #WARNING: No file found for: TAO scoreboard...\n",
      "[Errno 2] No such file or directory: 'D:/external_datasets/TAO/TAO_DIR/frames/train/YFCC100M/v_ae4c865e2aff9a1fd3435ac885b45c/frame0601.jpeg'\n",
      ">>>> #WARNING: No file found for: TAO scoreboard...\n",
      "[Errno 2] No such file or directory: 'D:/external_datasets/TAO/TAO_DIR/frames/train/YFCC100M/v_ae4c865e2aff9a1fd3435ac885b45c/frame1111.jpeg'\n",
      ">>>> #WARNING: No file found for: TAO scoreboard...\n",
      "[Errno 2] No such file or directory: 'D:/external_datasets/TAO/TAO_DIR/frames/train/YFCC100M/v_ae4c865e2aff9a1fd3435ac885b45c/frame1201.jpeg'\n",
      ">>>> #WARNING: No file found for: TAO scoreboard...\n",
      "[Errno 2] No such file or directory: 'D:/external_datasets/TAO/TAO_DIR/frames/train/YFCC100M/v_ae4c865e2aff9a1fd3435ac885b45c/frame0451.jpeg'\n",
      ">>>> #WARNING: No file found for: TAO scoreboard...\n",
      "[Errno 2] No such file or directory: 'D:/external_datasets/TAO/TAO_DIR/frames/train/YFCC100M/v_ae4c865e2aff9a1fd3435ac885b45c/frame0481.jpeg'\n",
      ">>>> #WARNING: No file found for: TAO scoreboard...\n",
      "[Errno 2] No such file or directory: 'D:/external_datasets/TAO/TAO_DIR/frames/train/YFCC100M/v_ae4c865e2aff9a1fd3435ac885b45c/frame0061.jpeg'\n",
      ">>>> #WARNING: No file found for: TAO scoreboard...\n",
      "[Errno 2] No such file or directory: 'D:/external_datasets/TAO/TAO_DIR/frames/train/YFCC100M/v_ae4c865e2aff9a1fd3435ac885b45c/frame0241.jpeg'\n",
      ">>>> #WARNING: No file found for: TAO scoreboard...\n",
      "[Errno 2] No such file or directory: 'D:/external_datasets/TAO/TAO_DIR/frames/train/YFCC100M/v_ae4c865e2aff9a1fd3435ac885b45c/frame0361.jpeg'\n",
      ">>>> #WARNING: No file found for: TAO scoreboard...\n",
      ">>> finding similar category:  signboard\n",
      ">>>> #WARNING signboard is missing from json annotations\n",
      "annotations datasets:  []\n",
      "annotations imgids:  []\n",
      "annotations bbox:  []\n",
      "\n",
      ">> onion...\n",
      ">>> finding similar category:  onion\n",
      ">>>> #WARNING onion is missing from json annotations\n",
      "annotations datasets:  []\n",
      "annotations imgids:  []\n",
      "annotations bbox:  []\n",
      ">>> finding similar category:  green_onion\n",
      ">>>> #WARNING green_onion is missing from json annotations\n",
      "annotations datasets:  []\n",
      "annotations imgids:  []\n",
      "annotations bbox:  []\n",
      "\n",
      ">> owl...\n",
      ">>> finding similar category:  owl\n",
      ">>>> #WARNING owl is missing from json annotations\n",
      "annotations datasets:  []\n",
      "annotations imgids:  []\n",
      "annotations bbox:  []\n",
      ">>> finding similar category:  bowl\n",
      "COCO\n",
      ">>> finding similar category:  pipe_bowl\n",
      ">>>> #WARNING pipe_bowl is missing from json annotations\n",
      "annotations datasets:  []\n",
      "annotations imgids:  []\n",
      "annotations bbox:  []\n",
      ">>> finding similar category:  bowler_hat\n",
      ">>>> #WARNING bowler_hat is missing from json annotations\n",
      "annotations datasets:  []\n",
      "annotations imgids:  []\n",
      "annotations bbox:  []\n",
      ">>> finding similar category:  bowling_ball\n",
      ">>>> #WARNING bowling_ball is missing from json annotations\n",
      "annotations datasets:  []\n",
      "annotations imgids:  []\n",
      "annotations bbox:  []\n",
      ">>> finding similar category:  bowling_pin\n",
      ">>>> #WARNING bowling_pin is missing from json annotations\n",
      "annotations datasets:  []\n",
      "annotations imgids:  []\n",
      "annotations bbox:  []\n",
      ">>> finding similar category:  fishbowl\n",
      ">>>> #WARNING fishbowl is missing from json annotations\n",
      "annotations datasets:  []\n",
      "annotations imgids:  []\n",
      "annotations bbox:  []\n",
      ">>> finding similar category:  soup_bowl\n",
      ">>>> #WARNING soup_bowl is missing from json annotations\n",
      "annotations datasets:  []\n",
      "annotations imgids:  []\n",
      "annotations bbox:  []\n",
      ">>> finding similar category:  sugar_bowl\n",
      "TAO\n"
     ]
    },
    {
     "name": "stderr",
     "output_type": "stream",
     "text": [
      "\n",
      ">>> Finding TAO sugar_bowl...:  12%|██████▎                                           | 2/16 [00:00<00:00, 71.34it/s]\u001b[A"
     ]
    },
    {
     "name": "stdout",
     "output_type": "stream",
     "text": [
      "[Errno 2] No such file or directory: 'D:/external_datasets/TAO/TAO_DIR/frames/val/AVA/J4bt4y9ShTA_scene_8_41065-42264/frame1076.jpg'\n"
     ]
    },
    {
     "name": "stderr",
     "output_type": "stream",
     "text": [
      "\n",
      "\n",
      ">>> Finding TAO sugar_bowl...:  25%|████████████▎                                    | 4/16 [00:00<00:00, 147.99it/s]\u001b[A"
     ]
    },
    {
     "name": "stdout",
     "output_type": "stream",
     "text": [
      "[Errno 2] No such file or directory: 'D:/external_datasets/TAO/TAO_DIR/frames/val/AVA/J4bt4y9ShTA_scene_8_41065-42264/frame1051.jpg'\n"
     ]
    },
    {
     "name": "stderr",
     "output_type": "stream",
     "text": [
      "\n",
      " 72%|████████████████████████████████████████████████████████▏                     | 136/189 [04:56<03:14,  3.66s/it]"
     ]
    },
    {
     "name": "stdout",
     "output_type": "stream",
     "text": [
      "\n",
      ">> pad...\n",
      ">>> finding similar category:  pad\n",
      ">>>> #WARNING pad is missing from json annotations\n",
      "annotations datasets:  []\n",
      "annotations imgids:  []\n",
      "annotations bbox:  []\n",
      ">>> finding similar category:  knee_pad\n",
      ">>>> #WARNING knee_pad is missing from json annotations\n",
      "annotations datasets:  []\n",
      "annotations imgids:  []\n",
      "annotations bbox:  []\n",
      ">>> finding similar category:  mousepad\n",
      ">>>> #WARNING mousepad is missing from json annotations\n",
      "annotations datasets:  []\n",
      "annotations imgids:  []\n",
      "annotations bbox:  []\n",
      ">>> finding similar category:  notepad\n",
      "TAO\n",
      ">>> finding similar category:  inkpad\n",
      ">>>> #WARNING inkpad is missing from json annotations\n",
      "annotations datasets:  []\n",
      "annotations imgids:  []\n",
      "annotations bbox:  []\n",
      ">>> finding similar category:  paddle\n",
      "TAO\n"
     ]
    },
    {
     "name": "stderr",
     "output_type": "stream",
     "text": [
      " 72%|████████████████████████████████████████████████████████▌                     | 137/189 [04:59<02:59,  3.45s/it]"
     ]
    },
    {
     "name": "stdout",
     "output_type": "stream",
     "text": [
      ">>> finding similar category:  padlock\n",
      ">>>> #WARNING padlock is missing from json annotations\n",
      "annotations datasets:  []\n",
      "annotations imgids:  []\n",
      "annotations bbox:  []\n",
      "\n",
      ">> parka...\n",
      ">>> finding similar category:  parka\n",
      ">>>> #WARNING parka is missing from json annotations\n",
      "annotations datasets:  []\n",
      "annotations imgids:  []\n",
      "annotations bbox:  []\n",
      ">>> finding similar category:  ski_parka\n",
      ">>>> #WARNING ski_parka is missing from json annotations\n",
      "annotations datasets:  []\n",
      "annotations imgids:  []\n",
      "annotations bbox:  []\n",
      "\n",
      ">> pear...\n",
      ">>> finding similar category:  pear\n",
      ">>>> #WARNING pear is missing from json annotations\n",
      "annotations datasets:  []\n",
      "annotations imgids:  []\n",
      "annotations bbox:  []\n",
      ">>> finding similar category:  spear\n",
      ">>>> #WARNING spear is missing from json annotations\n",
      "annotations datasets:  []\n",
      "annotations imgids:  []\n",
      "annotations bbox:  []\n",
      "\n",
      ">> pen...\n",
      ">>> finding similar category:  pen\n",
      "TAO\n",
      ">>> finding similar category:  bottle_opener\n",
      ">>>> #WARNING bottle_opener is missing from json annotations\n",
      "annotations datasets:  []\n",
      "annotations imgids:  []\n",
      "annotations bbox:  []\n",
      ">>> finding similar category:  suspenders\n",
      ">>>> #WARNING suspenders is missing from json annotations\n",
      "annotations datasets:  []\n",
      "annotations imgids:  []\n",
      "annotations bbox:  []\n",
      ">>> finding similar category:  can_opener\n",
      ">>>> #WARNING can_opener is missing from json annotations\n",
      "annotations datasets:  []\n",
      "annotations imgids:  []\n",
      "annotations bbox:  []\n",
      ">>> finding similar category:  dispenser\n",
      "TAO\n"
     ]
    },
    {
     "name": "stderr",
     "output_type": "stream",
     "text": [
      "\n",
      ">>> Finding TAO dispenser...:   1%|▋                                                  | 1/75 [00:00<00:01, 62.45it/s]\u001b[A"
     ]
    },
    {
     "name": "stdout",
     "output_type": "stream",
     "text": [
      "[Errno 2] No such file or directory: 'D:/external_datasets/TAO/TAO_DIR/frames/train/Charades/35LUV/frame1021.jpg'\n"
     ]
    },
    {
     "name": "stderr",
     "output_type": "stream",
     "text": [
      "\n",
      "\n",
      ">>> Finding TAO pencil...: 100%|████████████████████████████████████████████████████| 43/43 [00:00<00:00, 505.59it/s]\u001b[A\n",
      "\n",
      ">>> Finding TAO pencil...: 100%|████████████████████████████████████████████████████| 43/43 [00:00<00:00, 503.89it/s]\u001b[A"
     ]
    },
    {
     "name": "stdout",
     "output_type": "stream",
     "text": [
      ">>> finding similar category:  pencil\n",
      "TAO\n",
      "[Errno 2] No such file or directory: 'D:/external_datasets/TAO/TAO_DIR/frames/val/YFCC100M/v_2f3e9923a9c9ff4b95986ca8d2a51f/frame0793.jpeg'\n",
      ">>>> #WARNING: No file found for: TAO pencil...\n",
      "[Errno 2] No such file or directory: 'D:/external_datasets/TAO/TAO_DIR/frames/val/YFCC100M/v_e3919198858e7ac1a61aae1e486c7664/frame0811.jpeg'\n"
     ]
    },
    {
     "name": "stderr",
     "output_type": "stream",
     "text": [
      "\n",
      "\n",
      ">>> Finding TAO pencil...: 100%|████████████████████████████████████████████████████| 43/43 [00:00<00:00, 494.22it/s]\u001b[A\n",
      "\n",
      ">>> Finding TAO pencil...: 100%|████████████████████████████████████████████████████| 43/43 [00:00<00:00, 505.60it/s]\u001b[A"
     ]
    },
    {
     "name": "stdout",
     "output_type": "stream",
     "text": [
      ">>>> #WARNING: No file found for: TAO pencil...\n",
      "[Errno 2] No such file or directory: 'D:/external_datasets/TAO/TAO_DIR/frames/val/YFCC100M/v_2f3e9923a9c9ff4b95986ca8d2a51f/frame0913.jpeg'\n",
      ">>>> #WARNING: No file found for: TAO pencil...\n",
      "[Errno 2] No such file or directory: 'D:/external_datasets/TAO/TAO_DIR/frames/val/YFCC100M/v_2f3e9923a9c9ff4b95986ca8d2a51f/frame0649.jpeg'\n"
     ]
    },
    {
     "name": "stderr",
     "output_type": "stream",
     "text": [
      "\n",
      "\n",
      ">>> Finding TAO pencil...: 100%|████████████████████████████████████████████████████| 43/43 [00:00<00:00, 494.26it/s]\u001b[A\n",
      "\n",
      ">>> Finding TAO pencil...: 100%|████████████████████████████████████████████████████| 43/43 [00:00<00:00, 511.69it/s]\u001b[A"
     ]
    },
    {
     "name": "stdout",
     "output_type": "stream",
     "text": [
      ">>>> #WARNING: No file found for: TAO pencil...\n",
      "[Errno 2] No such file or directory: 'D:/external_datasets/TAO/TAO_DIR/frames/val/YFCC100M/v_2f3e9923a9c9ff4b95986ca8d2a51f/frame0745.jpeg'\n",
      ">>>> #WARNING: No file found for: TAO pencil...\n",
      "[Errno 2] No such file or directory: 'D:/external_datasets/TAO/TAO_DIR/frames/val/YFCC100M/v_2f3e9923a9c9ff4b95986ca8d2a51f/frame0937.jpeg'\n",
      ">>>> #WARNING: No file found for: TAO pencil...\n"
     ]
    },
    {
     "name": "stderr",
     "output_type": "stream",
     "text": [
      "\n",
      "\n",
      ">>> Finding TAO pencil...: 100%|████████████████████████████████████████████████████| 43/43 [00:00<00:00, 505.70it/s]\u001b[A\n",
      "\n",
      ">>> Finding TAO pencil...: 100%|████████████████████████████████████████████████████| 43/43 [00:00<00:00, 494.04it/s]\u001b[A\n",
      "\n",
      ">>> Finding TAO pencil...:   0%|                                                              | 0/43 [00:00<?, ?it/s]\u001b[A"
     ]
    },
    {
     "name": "stdout",
     "output_type": "stream",
     "text": [
      "[Errno 2] No such file or directory: 'D:/external_datasets/TAO/TAO_DIR/frames/val/YFCC100M/v_2f3e9923a9c9ff4b95986ca8d2a51f/frame0673.jpeg'\n",
      ">>>> #WARNING: No file found for: TAO pencil...\n",
      "[Errno 2] No such file or directory: 'D:/external_datasets/TAO/TAO_DIR/frames/val/YFCC100M/v_2f3e9923a9c9ff4b95986ca8d2a51f/frame1321.jpeg'\n",
      ">>>> #WARNING: No file found for: TAO pencil...\n",
      "[Errno 2] No such file or directory: 'D:/external_datasets/TAO/TAO_DIR/frames/val/YFCC100M/v_e3919198858e7ac1a61aae1e486c7664/frame1921.jpeg'\n"
     ]
    },
    {
     "name": "stderr",
     "output_type": "stream",
     "text": [
      ">>> Finding TAO pencil...: 100%|████████████████████████████████████████████████████| 43/43 [00:00<00:00, 494.09it/s]\n",
      "\n",
      ">>> Finding TAO pencil...: 100%|████████████████████████████████████████████████████| 43/43 [00:00<00:00, 494.10it/s]\u001b[A\n"
     ]
    },
    {
     "name": "stdout",
     "output_type": "stream",
     "text": [
      ">>>> #WARNING: No file found for: TAO pencil...\n",
      "[Errno 2] No such file or directory: 'D:/external_datasets/TAO/TAO_DIR/frames/val/YFCC100M/v_2f3e9923a9c9ff4b95986ca8d2a51f/frame0961.jpeg'\n",
      ">>>> #WARNING: No file found for: TAO pencil...\n",
      ">>> finding similar category:  pencil_box\n",
      ">>>> #WARNING pencil_box is missing from json annotations\n",
      "annotations datasets:  []\n",
      "annotations imgids:  []\n",
      "annotations bbox:  []\n",
      ">>> finding similar category:  pencil_sharpener\n",
      ">>>> #WARNING pencil_sharpener is missing from json annotations\n",
      "annotations datasets:  []\n",
      "annotations imgids:  []\n",
      "annotations bbox:  []\n",
      ">>> finding similar category:  pendulum\n",
      ">>>> #WARNING pendulum is missing from json annotations\n",
      "annotations datasets:  []\n",
      "annotations imgids:  []\n",
      "annotations bbox:  []\n",
      ">>> finding similar category:  penguin\n",
      "TAO\n"
     ]
    },
    {
     "name": "stderr",
     "output_type": "stream",
     "text": [
      " 74%|█████████████████████████████████████████████████████████▊                    | 140/189 [05:04<02:26,  2.98s/it]\n",
      ">>> Finding TAO pencil...: 100%|████████████████████████████████████████████████████| 43/43 [00:00<00:00, 505.78it/s]\u001b[A\n",
      "\n",
      ">>> Finding TAO pencil...: 100%|████████████████████████████████████████████████████| 43/43 [00:00<00:00, 517.90it/s]\u001b[A"
     ]
    },
    {
     "name": "stdout",
     "output_type": "stream",
     "text": [
      ">>> finding similar category:  pennant\n",
      ">>>> #WARNING pennant is missing from json annotations\n",
      "annotations datasets:  []\n",
      "annotations imgids:  []\n",
      "annotations bbox:  []\n",
      ">>> finding similar category:  penny_(coin)\n",
      ">>>> #WARNING penny_(coin) is missing from json annotations\n",
      "annotations datasets:  []\n",
      "annotations imgids:  []\n",
      "annotations bbox:  []\n",
      ">>> finding similar category:  playpen\n",
      ">>>> #WARNING playpen is missing from json annotations\n",
      "annotations datasets:  []\n",
      "annotations imgids:  []\n",
      "annotations bbox:  []\n",
      ">>> finding similar category:  sharpener\n",
      ">>>> #WARNING sharpener is missing from json annotations\n",
      "annotations datasets:  []\n",
      "annotations imgids:  []\n",
      "annotations bbox:  []\n",
      "\n",
      ">> pencil...\n",
      ">>> finding similar category:  pencil\n",
      "TAO\n",
      "[Errno 2] No such file or directory: 'D:/external_datasets/TAO/TAO_DIR/frames/val/YFCC100M/v_2f3e9923a9c9ff4b95986ca8d2a51f/frame0841.jpeg'\n",
      ">>>> #WARNING: No file found for: TAO pencil...\n",
      "[Errno 2] No such file or directory: 'D:/external_datasets/TAO/TAO_DIR/frames/val/YFCC100M/v_e3919198858e7ac1a61aae1e486c7664/frame0751.jpeg'\n"
     ]
    },
    {
     "name": "stderr",
     "output_type": "stream",
     "text": [
      "\n",
      "\n",
      ">>> Finding TAO pencil...: 100%|████████████████████████████████████████████████████| 43/43 [00:00<00:00, 505.70it/s]\u001b[A\n",
      "\n",
      ">>> Finding TAO pencil...: 100%|████████████████████████████████████████████████████| 43/43 [00:00<00:00, 511.74it/s]\u001b[A\n"
     ]
    },
    {
     "name": "stdout",
     "output_type": "stream",
     "text": [
      ">>>> #WARNING: No file found for: TAO pencil...\n",
      "[Errno 2] No such file or directory: 'D:/external_datasets/TAO/TAO_DIR/frames/val/YFCC100M/v_2f3e9923a9c9ff4b95986ca8d2a51f/frame1393.jpeg'\n",
      ">>>> #WARNING: No file found for: TAO pencil...\n",
      "[Errno 2] No such file or directory: 'D:/external_datasets/TAO/TAO_DIR/frames/val/YFCC100M/v_e3919198858e7ac1a61aae1e486c7664/frame1891.jpeg'\n",
      ">>>> #WARNING: No file found for: TAO pencil...\n",
      "[Errno 2] No such file or directory: 'D:/external_datasets/TAO/TAO_DIR/frames/val/YFCC100M/v_2f3e9923a9c9ff4b95986ca8d2a51f/frame0529.jpeg'\n"
     ]
    },
    {
     "name": "stderr",
     "output_type": "stream",
     "text": [
      "\n",
      ">>> Finding TAO pencil...: 100%|████████████████████████████████████████████████████| 43/43 [00:00<00:00, 467.24it/s]\u001b[A\n",
      "\n",
      ">>> Finding TAO pencil...: 100%|████████████████████████████████████████████████████| 43/43 [00:00<00:00, 494.09it/s]\u001b[A\n",
      "\n",
      ">>> Finding TAO pencil...: 100%|████████████████████████████████████████████████████| 43/43 [00:00<00:00, 511.93it/s]\u001b[A\n"
     ]
    },
    {
     "name": "stdout",
     "output_type": "stream",
     "text": [
      ">>>> #WARNING: No file found for: TAO pencil...\n",
      "[Errno 2] No such file or directory: 'D:/external_datasets/TAO/TAO_DIR/frames/val/YFCC100M/v_e3919198858e7ac1a61aae1e486c7664/frame0811.jpeg'\n",
      ">>>> #WARNING: No file found for: TAO pencil...\n",
      "[Errno 2] No such file or directory: 'D:/external_datasets/TAO/TAO_DIR/frames/val/YFCC100M/v_e3919198858e7ac1a61aae1e486c7664/frame1441.jpeg'\n",
      ">>>> #WARNING: No file found for: TAO pencil...\n"
     ]
    },
    {
     "name": "stderr",
     "output_type": "stream",
     "text": [
      "\n",
      ">>> Finding TAO pencil...: 100%|████████████████████████████████████████████████████| 43/43 [00:00<00:00, 502.16it/s]\u001b[A\n",
      "\n",
      ">>> Finding TAO pencil...: 100%|████████████████████████████████████████████████████| 43/43 [00:00<00:00, 499.79it/s]\u001b[A"
     ]
    },
    {
     "name": "stdout",
     "output_type": "stream",
     "text": [
      "[Errno 2] No such file or directory: 'D:/external_datasets/TAO/TAO_DIR/frames/val/YFCC100M/v_2f3e9923a9c9ff4b95986ca8d2a51f/frame0937.jpeg'\n",
      ">>>> #WARNING: No file found for: TAO pencil...\n",
      "[Errno 2] No such file or directory: 'D:/external_datasets/TAO/TAO_DIR/frames/val/YFCC100M/v_e3919198858e7ac1a61aae1e486c7664/frame0781.jpeg'\n",
      ">>>> #WARNING: No file found for: TAO pencil...\n",
      "[Errno 2] No such file or directory: 'D:/external_datasets/TAO/TAO_DIR/frames/val/YFCC100M/v_2f3e9923a9c9ff4b95986ca8d2a51f/frame0769.jpeg'\n"
     ]
    },
    {
     "name": "stderr",
     "output_type": "stream",
     "text": [
      "\n",
      "\n",
      ">>> Finding TAO pencil...: 100%|████████████████████████████████████████████████████| 43/43 [00:00<00:00, 494.28it/s]\u001b[A\n",
      " 75%|██████████████████████████████████████████████████████████▏                   | 141/189 [05:05<01:53,  2.36s/it]"
     ]
    },
    {
     "name": "stdout",
     "output_type": "stream",
     "text": [
      ">>>> #WARNING: No file found for: TAO pencil...\n",
      ">>> finding similar category:  pencil_box\n",
      ">>>> #WARNING pencil_box is missing from json annotations\n",
      "annotations datasets:  []\n",
      "annotations imgids:  []\n",
      "annotations bbox:  []\n",
      ">>> finding similar category:  pencil_sharpener\n",
      ">>>> #WARNING pencil_sharpener is missing from json annotations\n",
      "annotations datasets:  []\n",
      "annotations imgids:  []\n",
      "annotations bbox:  []\n",
      "\n",
      ">> pepper...\n",
      ">>> finding similar category:  pepper\n",
      ">>>> #WARNING pepper is missing from json annotations\n",
      "annotations datasets:  []\n",
      "annotations imgids:  []\n",
      "annotations bbox:  []\n",
      ">>> finding similar category:  bell_pepper\n",
      ">>>> #WARNING bell_pepper is missing from json annotations\n",
      "annotations datasets:  []\n",
      "annotations imgids:  []\n",
      "annotations bbox:  []\n",
      ">>> finding similar category:  pepper_mill\n",
      ">>>> #WARNING pepper_mill is missing from json annotations\n",
      "annotations datasets:  []\n",
      "annotations imgids:  []\n",
      "annotations bbox:  []\n",
      "\n",
      ">> baby...\n",
      ">>> finding similar category:  baby\n",
      "TAO\n"
     ]
    },
    {
     "name": "stderr",
     "output_type": "stream",
     "text": [
      "\n",
      ">>> Finding TAO baby...:   0%|                                                             | 0/86681 [00:00<?, ?it/s]\u001b[A"
     ]
    },
    {
     "name": "stdout",
     "output_type": "stream",
     "text": [
      "[Errno 2] No such file or directory: 'D:/external_datasets/TAO/TAO_DIR/frames/val/HACS/Shot_put_v_iHhcZIKPpxw/frame0991.jpg'\n"
     ]
    },
    {
     "name": "stderr",
     "output_type": "stream",
     "text": [
      "\n",
      "\n",
      ">>> Finding TAO baby...:   0%|                                                    | 1/86681 [00:00<10:04, 143.40it/s]\u001b[A\n",
      "\n",
      ">>> Finding TAO baby...:   0%|                                                    | 2/86681 [00:00<05:46, 250.28it/s]\u001b[A"
     ]
    },
    {
     "name": "stdout",
     "output_type": "stream",
     "text": [
      "[Errno 2] No such file or directory: 'D:/external_datasets/TAO/TAO_DIR/frames/val/YFCC100M/v_2f3e9923a9c9ff4b95986ca8d2a51f/frame1225.jpeg'\n",
      "[Errno 2] No such file or directory: 'D:/external_datasets/TAO/TAO_DIR/frames/train/HACS/Building_sandcastles_v_dBXvpdoalr8_scene_0_0-2167/frame0991.jpg'\n"
     ]
    },
    {
     "name": "stderr",
     "output_type": "stream",
     "text": [
      "\n",
      "\n",
      ">>> Finding TAO baby_buggy...:   0%|                                                          | 0/79 [00:00<?, ?it/s]\u001b[A"
     ]
    },
    {
     "name": "stdout",
     "output_type": "stream",
     "text": [
      ">>> finding similar category:  baby_buggy\n",
      "TAO\n",
      "[Errno 2] No such file or directory: 'D:/external_datasets/TAO/TAO_DIR/frames/val/ArgoVerse/side_left_c04e5e7e-d782-3cd4-853e-fbbb0e93456c/ring_side_left_315973285027820768.jpg'\n"
     ]
    },
    {
     "name": "stderr",
     "output_type": "stream",
     "text": [
      ">>> Finding TAO baby_buggy...:   0%|                                                          | 0/79 [00:00<?, ?it/s]\n",
      "\n",
      ">>> Finding TAO baby_buggy...:   3%|█▎                                                | 2/79 [00:00<00:01, 42.51it/s]\u001b[A\n"
     ]
    },
    {
     "name": "stdout",
     "output_type": "stream",
     "text": [
      "[Errno 2] No such file or directory: 'D:/external_datasets/TAO/TAO_DIR/frames/val/YFCC100M/v_db5b8c53e4af4b5fdca1177907c56a5/frame0001.jpeg'\n"
     ]
    },
    {
     "name": "stderr",
     "output_type": "stream",
     "text": [
      "\n",
      ">>> Finding TAO baby_buggy...:   4%|█▉                                                | 3/79 [00:00<00:01, 65.15it/s]\u001b[A"
     ]
    },
    {
     "name": "stdout",
     "output_type": "stream",
     "text": [
      "[Errno 2] No such file or directory: 'D:/external_datasets/TAO/TAO_DIR/frames/val/YFCC100M/v_db5b8c53e4af4b5fdca1177907c56a5/frame0391.jpeg'\n"
     ]
    },
    {
     "name": "stderr",
     "output_type": "stream",
     "text": [
      "\n",
      " 76%|███████████████████████████████████████████████████████████                   | 143/189 [05:08<01:37,  2.11s/it]"
     ]
    },
    {
     "name": "stdout",
     "output_type": "stream",
     "text": [
      "\n",
      ">> pet...\n",
      ">>> finding similar category:  pet\n",
      ">>>> #WARNING pet is missing from json annotations\n",
      "annotations datasets:  []\n",
      "annotations imgids:  []\n",
      "annotations bbox:  []\n",
      ">>> finding similar category:  petfood\n",
      "TAO\n"
     ]
    },
    {
     "name": "stderr",
     "output_type": "stream",
     "text": [
      " 76%|███████████████████████████████████████████████████████████▍                  | 144/189 [05:09<01:09,  1.54s/it]"
     ]
    },
    {
     "name": "stdout",
     "output_type": "stream",
     "text": [
      ">>> finding similar category:  puppet\n",
      ">>>> #WARNING puppet is missing from json annotations\n",
      "annotations datasets:  []\n",
      "annotations imgids:  []\n",
      "annotations bbox:  []\n",
      ">>> finding similar category:  runner_(carpet)\n",
      ">>>> #WARNING runner_(carpet) is missing from json annotations\n",
      "annotations datasets:  []\n",
      "annotations imgids:  []\n",
      "annotations bbox:  []\n",
      "\n",
      ">> pie...\n",
      ">>> finding similar category:  pie\n",
      ">>>> #WARNING pie is missing from json annotations\n",
      "annotations datasets:  []\n",
      "annotations imgids:  []\n",
      "annotations bbox:  []\n",
      ">>> finding similar category:  knight_(chess_piece)\n",
      ">>>> #WARNING knight_(chess_piece) is missing from json annotations\n",
      "annotations datasets:  []\n",
      "annotations imgids:  []\n",
      "annotations bbox:  []\n",
      ">>> finding similar category:  Sharpie\n",
      ">>>> #WARNING Sharpie is missing from json annotations\n",
      "annotations datasets:  []\n",
      "annotations imgids:  []\n",
      "annotations bbox:  []\n",
      "\n",
      ">> pipe...\n",
      ">>> finding similar category:  pipe\n",
      "TAO\n",
      ">>> finding similar category:  bagpipe\n",
      "TAO\n"
     ]
    },
    {
     "name": "stderr",
     "output_type": "stream",
     "text": [
      " 77%|████████████████████████████████████████████████████████████▎                 | 146/189 [05:11<01:02,  1.46s/it]"
     ]
    },
    {
     "name": "stdout",
     "output_type": "stream",
     "text": [
      ">>> finding similar category:  pipe_bowl\n",
      ">>>> #WARNING pipe_bowl is missing from json annotations\n",
      "annotations datasets:  []\n",
      "annotations imgids:  []\n",
      "annotations bbox:  []\n",
      ">>> finding similar category:  tobacco_pipe\n",
      ">>>> #WARNING tobacco_pipe is missing from json annotations\n",
      "annotations datasets:  []\n",
      "annotations imgids:  []\n",
      "annotations bbox:  []\n",
      "\n",
      ">> plate...\n",
      ">>> finding similar category:  plate\n",
      "TAO\n"
     ]
    },
    {
     "name": "stderr",
     "output_type": "stream",
     "text": [
      " 78%|████████████████████████████████████████████████████████████▋                 | 147/189 [05:13<01:10,  1.67s/it]"
     ]
    },
    {
     "name": "stdout",
     "output_type": "stream",
     "text": [
      ">>> finding similar category:  home_plate_(baseball)\n",
      ">>>> #WARNING home_plate_(baseball) is missing from json annotations\n",
      "annotations datasets:  []\n",
      "annotations imgids:  []\n",
      "annotations bbox:  []\n",
      ">>> finding similar category:  hotplate\n",
      ">>>> #WARNING hotplate is missing from json annotations\n",
      "annotations datasets:  []\n",
      "annotations imgids:  []\n",
      "annotations bbox:  []\n",
      ">>> finding similar category:  license_plate\n",
      ">>>> #WARNING license_plate is missing from json annotations\n",
      "annotations datasets:  []\n",
      "annotations imgids:  []\n",
      "annotations bbox:  []\n",
      ">>> finding similar category:  nameplate\n",
      ">>>> #WARNING nameplate is missing from json annotations\n",
      "annotations datasets:  []\n",
      "annotations imgids:  []\n",
      "annotations bbox:  []\n",
      ">>> finding similar category:  paper_plate\n",
      ">>>> #WARNING paper_plate is missing from json annotations\n",
      "annotations datasets:  []\n",
      "annotations imgids:  []\n",
      "annotations bbox:  []\n",
      ">>> finding similar category:  salad_plate\n",
      ">>>> #WARNING salad_plate is missing from json annotations\n",
      "annotations datasets:  []\n",
      "annotations imgids:  []\n",
      "annotations bbox:  []\n",
      "\n",
      ">> pole...\n",
      ">>> finding similar category:  pole\n",
      "TAO\n"
     ]
    },
    {
     "name": "stderr",
     "output_type": "stream",
     "text": [
      "\n",
      ">>> Finding TAO pole...:   0%|                                                                | 0/40 [00:00<?, ?it/s]\u001b[A\n",
      "\n",
      ">>> Finding TAO pole...:   2%|█▍                                                      | 1/40 [00:00<00:00, 45.45it/s]\u001b[A"
     ]
    },
    {
     "name": "stdout",
     "output_type": "stream",
     "text": [
      "[Errno 2] No such file or directory: 'D:/external_datasets/TAO/TAO_DIR/frames/val/HACS/Shot_put_v_gqR1J68CwyI_scene_0_0-2994/frame1021.jpg'\n",
      "[Errno 2] No such file or directory: 'D:/external_datasets/TAO/TAO_DIR/frames/val/HACS/Shot_put_v_gqR1J68CwyI_scene_0_0-2994/frame1111.jpg'\n"
     ]
    },
    {
     "name": "stderr",
     "output_type": "stream",
     "text": [
      "\n",
      "\n",
      ">>> Finding TAO ski_pole...:   0%|                                                            | 0/29 [00:00<?, ?it/s]\u001b[A\n"
     ]
    },
    {
     "name": "stdout",
     "output_type": "stream",
     "text": [
      ">>> finding similar category:  flagpole\n",
      ">>>> #WARNING flagpole is missing from json annotations\n",
      "annotations datasets:  []\n",
      "annotations imgids:  []\n",
      "annotations bbox:  []\n",
      ">>> finding similar category:  ski_pole\n",
      "TAO\n",
      "[Errno 2] No such file or directory: 'D:/external_datasets/TAO/TAO_DIR/frames/train/HACS/Skiing_v_HtaNMyVa260_scene_0_99-1308/frame1021.jpg'\n"
     ]
    },
    {
     "name": "stderr",
     "output_type": "stream",
     "text": [
      "\n",
      ">>> Finding TAO ski_pole...:   7%|███▌                                                | 2/29 [00:00<00:00, 54.56it/s]\u001b[A\n",
      "\n",
      ">>> Finding TAO ski_pole...:  24%|████████████▎                                      | 7/29 [00:00<00:00, 205.64it/s]\u001b[A"
     ]
    },
    {
     "name": "stdout",
     "output_type": "stream",
     "text": [
      "[Errno 2] No such file or directory: 'D:/external_datasets/TAO/TAO_DIR/frames/val/YFCC100M/v_4820d24fe4c4cb43cb3efabfca5d26e/frame1081.jpg'\n",
      "[Errno 2] No such file or directory: 'D:/external_datasets/TAO/TAO_DIR/frames/train/HACS/Skiing_v_HtaNMyVa260_scene_0_99-1308/frame1081.jpg'\n"
     ]
    },
    {
     "name": "stderr",
     "output_type": "stream",
     "text": [
      "\n",
      " 78%|█████████████████████████████████████████████████████████████                 | 148/189 [05:16<01:17,  1.90s/it]\n",
      ">>> Finding TAO pot...:   0%|                                                                | 0/357 [00:00<?, ?it/s]\u001b[A"
     ]
    },
    {
     "name": "stdout",
     "output_type": "stream",
     "text": [
      ">>> finding similar category:  telephone_pole\n",
      ">>>> #WARNING telephone_pole is missing from json annotations\n",
      "annotations datasets:  []\n",
      "annotations imgids:  []\n",
      "annotations bbox:  []\n",
      "\n",
      ">> pot...\n",
      ">>> finding similar category:  pot\n",
      "TAO\n",
      "[Errno 2] No such file or directory: 'D:/external_datasets/TAO/TAO_DIR/frames/val/HACS/Peeling_potatoes_v_xCDAXbnXpU0_scene_0_0-3050/frame1015.jpg'\n"
     ]
    },
    {
     "name": "stderr",
     "output_type": "stream",
     "text": [
      "\n",
      "\n",
      ">>> Finding TAO pot...:   0%|▏                                                       | 1/357 [00:00<00:11, 31.25it/s]\u001b[A"
     ]
    },
    {
     "name": "stdout",
     "output_type": "stream",
     "text": [
      "[Errno 2] No such file or directory: 'D:/external_datasets/TAO/TAO_DIR/frames/train/HACS/Washing_dishes_v_7SFkVnnp_eE/frame1351.jpg'\n"
     ]
    },
    {
     "name": "stderr",
     "output_type": "stream",
     "text": [
      "\n"
     ]
    },
    {
     "name": "stdout",
     "output_type": "stream",
     "text": [
      ">>> finding similar category:  potted plant\n",
      "COCO\n",
      ">>> finding similar category:  crisp_(potato_chip)\n",
      "TAO\n",
      ">>> finding similar category:  coffeepot\n",
      "TAO\n",
      ">>> finding similar category:  crock_pot\n",
      ">>>> #WARNING crock_pot is missing from json annotations\n",
      "annotations datasets:  []\n",
      "annotations imgids:  []\n",
      "annotations bbox:  []\n",
      ">>> finding similar category:  hippopotamus\n",
      "TAO\n",
      ">>> finding similar category:  mashed_potato\n",
      ">>>> #WARNING mashed_potato is missing from json annotations\n",
      "annotations datasets:  []\n",
      "annotations imgids:  []\n",
      "annotations bbox:  []\n",
      ">>> finding similar category:  flowerpot\n",
      ">>>> #WARNING flowerpot is missing from json annotations\n",
      "annotations datasets:  []\n",
      "annotations imgids:  []\n",
      "annotations bbox:  []\n",
      ">>> finding similar category:  potato\n",
      "TAO\n",
      ">>> finding similar category:  potholder\n",
      ">>>> #WARNING potholder is missing from json annotations\n",
      "annotations datasets:  []\n",
      "annotations imgids:  []\n",
      "annotations bbox:  []\n",
      ">>> finding similar category:  pottery\n",
      ">>>> #WARNING pottery is missing from json annotations\n",
      "annotations datasets:  []\n",
      "annotations imgids:  []\n",
      "annotations bbox:  []\n",
      ">>> finding similar category:  spotlight\n",
      ">>>> #WARNING spotlight is missing from json annotations\n",
      "annotations datasets:  []\n",
      "annotations imgids:  []\n",
      "annotations bbox:  []\n",
      ">>> finding similar category:  sweet_potato\n",
      ">>>> #WARNING sweet_potato is missing from json annotations\n",
      "annotations datasets:  []\n",
      "annotations imgids:  []\n",
      "annotations bbox:  []\n",
      ">>> finding similar category:  teapot\n",
      "TAO\n"
     ]
    },
    {
     "name": "stderr",
     "output_type": "stream",
     "text": [
      " 79%|█████████████████████████████████████████████████████████████▍                | 149/189 [05:25<02:40,  4.02s/it]"
     ]
    },
    {
     "name": "stdout",
     "output_type": "stream",
     "text": [
      "\n",
      ">> potato...\n",
      ">>> finding similar category:  potato\n",
      "TAO\n"
     ]
    },
    {
     "name": "stderr",
     "output_type": "stream",
     "text": [
      "\n",
      ">>> Finding TAO potato...:   4%|██                                                    | 1/26 [00:00<00:00, 66.67it/s]\u001b[A"
     ]
    },
    {
     "name": "stdout",
     "output_type": "stream",
     "text": [
      "[Errno 2] No such file or directory: 'D:/external_datasets/TAO/TAO_DIR/frames/val/HACS/Peeling_potatoes_v_xCDAXbnXpU0_scene_0_0-3050/frame0989.jpg'\n"
     ]
    },
    {
     "name": "stderr",
     "output_type": "stream",
     "text": [
      "\n",
      "\n",
      ">>> Finding TAO potato...:   8%|████                                                 | 2/26 [00:00<00:00, 133.28it/s]\u001b[A\n",
      "\n",
      ">>> Finding TAO potato...:  15%|████████▏                                            | 4/26 [00:00<00:00, 249.99it/s]\u001b[A"
     ]
    },
    {
     "name": "stdout",
     "output_type": "stream",
     "text": [
      "[Errno 2] No such file or directory: 'D:/external_datasets/TAO/TAO_DIR/frames/val/HACS/Peeling_potatoes_v_xCDAXbnXpU0_scene_0_0-3050/frame1015.jpg'\n",
      "[Errno 2] No such file or directory: 'D:/external_datasets/TAO/TAO_DIR/frames/val/HACS/Peeling_potatoes_v_xCDAXbnXpU0_scene_0_0-3050/frame1015.jpg'\n"
     ]
    },
    {
     "name": "stderr",
     "output_type": "stream",
     "text": [
      "\n"
     ]
    },
    {
     "name": "stdout",
     "output_type": "stream",
     "text": [
      ">>> finding similar category:  crisp_(potato_chip)\n",
      "TAO\n"
     ]
    },
    {
     "name": "stderr",
     "output_type": "stream",
     "text": [
      " 79%|█████████████████████████████████████████████████████████████▉                | 150/189 [05:27<02:14,  3.44s/it]"
     ]
    },
    {
     "name": "stdout",
     "output_type": "stream",
     "text": [
      ">>> finding similar category:  mashed_potato\n",
      ">>>> #WARNING mashed_potato is missing from json annotations\n",
      "annotations datasets:  []\n",
      "annotations imgids:  []\n",
      "annotations bbox:  []\n",
      ">>> finding similar category:  sweet_potato\n",
      ">>>> #WARNING sweet_potato is missing from json annotations\n",
      "annotations datasets:  []\n",
      "annotations imgids:  []\n",
      "annotations bbox:  []\n",
      "\n",
      ">> racket...\n",
      ">>> finding similar category:  racket\n",
      "TAO\n",
      ">>> finding similar category:  tennis racket\n",
      "COCO\n"
     ]
    },
    {
     "name": "stderr",
     "output_type": "stream",
     "text": [
      "\n",
      ">>> Finding COCO tennis racket...:   0%|                                                    | 0/5037 [00:00<?, ?it/s]\u001b[A"
     ]
    },
    {
     "name": "stdout",
     "output_type": "stream",
     "text": [
      "[Errno 2] No such file or directory: 'D:/external_datasets/COCO/2017/images/val2017/000000098853.jpg'\n"
     ]
    },
    {
     "name": "stderr",
     "output_type": "stream",
     "text": [
      "\n"
     ]
    },
    {
     "name": "stdout",
     "output_type": "stream",
     "text": [
      ">>> finding similar category:  tennis_racket\n",
      "TAO\n"
     ]
    },
    {
     "name": "stderr",
     "output_type": "stream",
     "text": [
      " 80%|██████████████████████████████████████████████████████████████▎               | 151/189 [05:31<02:13,  3.51s/it]"
     ]
    },
    {
     "name": "stdout",
     "output_type": "stream",
     "text": [
      "\n",
      ">> rat...\n",
      ">>> finding similar category:  rat\n",
      "TAO\n",
      ">>> finding similar category:  refrigerator\n",
      "COCO\n"
     ]
    },
    {
     "name": "stderr",
     "output_type": "stream",
     "text": [
      " 80%|██████████████████████████████████████████████████████████████▋               | 152/189 [05:33<01:56,  3.14s/it]\n",
      ">>> Finding TAO measuring_cup...:   0%|                                                       | 0/40 [00:00<?, ?it/s]\u001b[A"
     ]
    },
    {
     "name": "stdout",
     "output_type": "stream",
     "text": [
      ">>> finding similar category:  pirate_flag\n",
      ">>>> #WARNING pirate_flag is missing from json annotations\n",
      "annotations datasets:  []\n",
      "annotations imgids:  []\n",
      "annotations bbox:  []\n",
      ">>> finding similar category:  bow_(decorative_ribbons)\n",
      ">>>> #WARNING bow_(decorative_ribbons) is missing from json annotations\n",
      "annotations datasets:  []\n",
      "annotations imgids:  []\n",
      "annotations bbox:  []\n",
      ">>> finding similar category:  crate\n",
      ">>>> #WARNING crate is missing from json annotations\n",
      "annotations datasets:  []\n",
      "annotations imgids:  []\n",
      "annotations bbox:  []\n",
      ">>> finding similar category:  grater\n",
      ">>>> #WARNING grater is missing from json annotations\n",
      "annotations datasets:  []\n",
      "annotations imgids:  []\n",
      "annotations bbox:  []\n",
      ">>> finding similar category:  scratcher\n",
      ">>>> #WARNING scratcher is missing from json annotations\n",
      "annotations datasets:  []\n",
      "annotations imgids:  []\n",
      "annotations bbox:  []\n",
      "\n",
      ">> ring...\n",
      ">>> finding similar category:  ring\n",
      ">>>> #WARNING ring is missing from json annotations\n",
      "annotations datasets:  []\n",
      "annotations imgids:  []\n",
      "annotations bbox:  []\n",
      ">>> finding similar category:  coloring_material\n",
      ">>>> #WARNING coloring_material is missing from json annotations\n",
      "annotations datasets:  []\n",
      "annotations imgids:  []\n",
      "annotations bbox:  []\n",
      ">>> finding similar category:  earring\n",
      ">>>> #WARNING earring is missing from json annotations\n",
      "annotations datasets:  []\n",
      "annotations imgids:  []\n",
      "annotations bbox:  []\n",
      ">>> finding similar category:  hearing_aid\n",
      ">>>> #WARNING hearing_aid is missing from json annotations\n",
      "annotations datasets:  []\n",
      "annotations imgids:  []\n",
      "annotations bbox:  []\n",
      ">>> finding similar category:  measuring_cup\n",
      "TAO\n",
      "[Errno 2] No such file or directory: 'D:/external_datasets/TAO/TAO_DIR/frames/val/HACS/Baking_cookies_v_dhLfw18EP8E_scene_0_0-2102/frame1051.jpg'\n"
     ]
    },
    {
     "name": "stderr",
     "output_type": "stream",
     "text": [
      "\n",
      "\n",
      ">>> Finding TAO measuring_cup...:   2%|█▏                                             | 1/40 [00:00<00:00, 55.44it/s]\u001b[A"
     ]
    },
    {
     "name": "stdout",
     "output_type": "stream",
     "text": [
      "[Errno 2] No such file or directory: 'D:/external_datasets/TAO/TAO_DIR/frames/val/HACS/Baking_cookies_v_dhLfw18EP8E_scene_0_0-2102/frame1171.jpg'\n"
     ]
    },
    {
     "name": "stderr",
     "output_type": "stream",
     "text": [
      "\n",
      "\n",
      ">>> Finding TAO measuring_cup...:   5%|██▎                                           | 2/40 [00:00<00:00, 117.46it/s]\u001b[A"
     ]
    },
    {
     "name": "stdout",
     "output_type": "stream",
     "text": [
      "[Errno 2] No such file or directory: 'D:/external_datasets/TAO/TAO_DIR/frames/val/HACS/Baking_cookies_v_dhLfw18EP8E_scene_0_0-2102/frame1081.jpg'\n",
      ">>> finding similar category:  measuring_stick\n",
      ">>>> #WARNING measuring_stick is missing from json annotations\n",
      "annotations datasets:  []\n",
      "annotations imgids:  []\n",
      "annotations bbox:  []\n",
      ">>> finding similar category:  poker_(fire_stirring_tool)\n",
      ">>>> #WARNING poker_(fire_stirring_tool) is missing from json annotations\n",
      "annotations datasets:  []\n",
      "annotations imgids:  []\n",
      "annotations bbox:  []\n",
      ">>> finding similar category:  scale_(measuring_instrument)\n",
      ">>>> #WARNING scale_(measuring_instrument) is missing from json annotations\n",
      "annotations datasets:  []\n",
      "annotations imgids:  []\n",
      "annotations bbox:  []\n",
      ">>> finding similar category:  steering_wheel\n",
      "TAO\n"
     ]
    },
    {
     "name": "stderr",
     "output_type": "stream",
     "text": [
      "\n",
      " 81%|███████████████████████████████████████████████████████████████▏              | 153/189 [05:36<01:56,  3.24s/it]"
     ]
    },
    {
     "name": "stdout",
     "output_type": "stream",
     "text": [
      ">>> finding similar category:  string_cheese\n",
      ">>>> #WARNING string_cheese is missing from json annotations\n",
      "annotations datasets:  []\n",
      "annotations imgids:  []\n",
      "annotations bbox:  []\n",
      ">>> finding similar category:  syringe\n",
      ">>>> #WARNING syringe is missing from json annotations\n",
      "annotations datasets:  []\n",
      "annotations imgids:  []\n",
      "annotations bbox:  []\n",
      ">>> finding similar category:  watering_can\n",
      ">>>> #WARNING watering_can is missing from json annotations\n",
      "annotations datasets:  []\n",
      "annotations imgids:  []\n",
      "annotations bbox:  []\n",
      ">>> finding similar category:  wedding_ring\n",
      ">>>> #WARNING wedding_ring is missing from json annotations\n",
      "annotations datasets:  []\n",
      "annotations imgids:  []\n",
      "annotations bbox:  []\n",
      "\n",
      ">> robe...\n",
      ">>> finding similar category:  robe\n",
      ">>>> #WARNING robe is missing from json annotations\n",
      "annotations datasets:  []\n",
      "annotations imgids:  []\n",
      "annotations bbox:  []\n",
      ">>> finding similar category:  bathrobe\n",
      ">>>> #WARNING bathrobe is missing from json annotations\n",
      "annotations datasets:  []\n",
      "annotations imgids:  []\n",
      "annotations bbox:  []\n",
      ">>> finding similar category:  wardrobe\n",
      ">>>> #WARNING wardrobe is missing from json annotations\n",
      "annotations datasets:  []\n",
      "annotations imgids:  []\n",
      "annotations bbox:  []\n",
      "\n",
      ">> sail...\n",
      ">>> finding similar category:  sail\n",
      ">>>> #WARNING sail is missing from json annotations\n",
      "annotations datasets:  []\n",
      "annotations imgids:  []\n",
      "annotations bbox:  []\n",
      ">>> finding similar category:  parasail_(sports)\n",
      ">>>> #WARNING parasail_(sports) is missing from json annotations\n",
      "annotations datasets:  []\n",
      "annotations imgids:  []\n",
      "annotations bbox:  []\n",
      "\n",
      ">> salad...\n",
      ">>> finding similar category:  salad\n",
      ">>>> #WARNING salad is missing from json annotations\n",
      "annotations datasets:  []\n",
      "annotations imgids:  []\n",
      "annotations bbox:  []\n",
      ">>> finding similar category:  fruit_salad\n",
      ">>>> #WARNING fruit_salad is missing from json annotations\n",
      "annotations datasets:  []\n",
      "annotations imgids:  []\n",
      "annotations bbox:  []\n",
      ">>> finding similar category:  salad_plate\n",
      ">>>> #WARNING salad_plate is missing from json annotations\n",
      "annotations datasets:  []\n",
      "annotations imgids:  []\n",
      "annotations bbox:  []\n",
      "\n",
      ">> scarf...\n",
      ">>> finding similar category:  scarf\n",
      ">>>> #WARNING scarf is missing from json annotations\n",
      "annotations datasets:  []\n",
      "annotations imgids:  []\n",
      "annotations bbox:  []\n",
      ">>> finding similar category:  headscarf\n",
      "TAO\n"
     ]
    },
    {
     "name": "stderr",
     "output_type": "stream",
     "text": [
      " 83%|████████████████████████████████████████████████████████████████▊             | 157/189 [05:37<01:15,  2.36s/it]"
     ]
    },
    {
     "name": "stdout",
     "output_type": "stream",
     "text": [
      "\n",
      ">> sculpture...\n",
      ">>> finding similar category:  sculpture\n",
      "TAO\n",
      ">>> finding similar category:  statue_(sculpture)\n",
      "TAO\n"
     ]
    },
    {
     "name": "stderr",
     "output_type": "stream",
     "text": [
      " 84%|█████████████████████████████████████████████████████████████████▏            | 158/189 [05:41<01:24,  2.73s/it]"
     ]
    },
    {
     "name": "stdout",
     "output_type": "stream",
     "text": [
      "\n",
      ">> shaker...\n",
      ">>> finding similar category:  shaker\n",
      "TAO\n"
     ]
    },
    {
     "name": "stderr",
     "output_type": "stream",
     "text": [
      "\n",
      ">>> Finding TAO shaker...:   0%|                                                              | 0/75 [00:00<?, ?it/s]\u001b[A"
     ]
    },
    {
     "name": "stdout",
     "output_type": "stream",
     "text": [
      "[Errno 2] No such file or directory: 'D:/external_datasets/TAO/TAO_DIR/frames/val/HACS/Making_a_sandwich_v_6RjriKVIkR4_scene_0_0-4638/frame1021.jpg'\n"
     ]
    },
    {
     "name": "stderr",
     "output_type": "stream",
     "text": [
      "\n",
      "\n",
      ">>> Finding TAO shaker...:   1%|▋                                                     | 1/75 [00:00<00:01, 58.74it/s]\u001b[A\n",
      "\n",
      ">>> Finding TAO shaker...:   3%|█▍                                                   | 2/75 [00:00<00:00, 117.90it/s]\u001b[A"
     ]
    },
    {
     "name": "stdout",
     "output_type": "stream",
     "text": [
      "[Errno 2] No such file or directory: 'D:/external_datasets/TAO/TAO_DIR/frames/val/HACS/Making_a_sandwich_v_6RjriKVIkR4_scene_0_0-4638/frame1171.jpg'\n",
      "[Errno 2] No such file or directory: 'D:/external_datasets/TAO/TAO_DIR/frames/val/HACS/Making_a_sandwich_v_6RjriKVIkR4_scene_0_0-4638/frame1051.jpg'\n"
     ]
    },
    {
     "name": "stderr",
     "output_type": "stream",
     "text": [
      "\n",
      " 84%|█████████████████████████████████████████████████████████████████▌            | 159/189 [05:42<01:07,  2.26s/it]"
     ]
    },
    {
     "name": "stdout",
     "output_type": "stream",
     "text": [
      ">>> finding similar category:  saltshaker\n",
      ">>>> #WARNING saltshaker is missing from json annotations\n",
      "annotations datasets:  []\n",
      "annotations imgids:  []\n",
      "annotations bbox:  []\n",
      "\n",
      ">> sharpener...\n",
      ">>> finding similar category:  sharpener\n",
      ">>>> #WARNING sharpener is missing from json annotations\n",
      "annotations datasets:  []\n",
      "annotations imgids:  []\n",
      "annotations bbox:  []\n",
      ">>> finding similar category:  pencil_sharpener\n",
      ">>>> #WARNING pencil_sharpener is missing from json annotations\n",
      "annotations datasets:  []\n",
      "annotations imgids:  []\n",
      "annotations bbox:  []\n",
      "\n",
      ">> sheep...\n",
      ">>> finding similar category:  sheep\n",
      "COCO\n",
      ">>> finding similar category:  black_sheep\n",
      "TAO\n"
     ]
    },
    {
     "name": "stderr",
     "output_type": "stream",
     "text": [
      " 85%|██████████████████████████████████████████████████████████████████▍           | 161/189 [05:45<00:54,  1.93s/it]"
     ]
    },
    {
     "name": "stdout",
     "output_type": "stream",
     "text": [
      "\n",
      ">> shield...\n",
      ">>> finding similar category:  shield\n",
      ">>>> #WARNING shield is missing from json annotations\n",
      "annotations datasets:  []\n",
      "annotations imgids:  []\n",
      "annotations bbox:  []\n",
      ">>> finding similar category:  windshield_wiper\n",
      "TAO\n"
     ]
    },
    {
     "name": "stderr",
     "output_type": "stream",
     "text": [
      " 86%|██████████████████████████████████████████████████████████████████▊           | 162/189 [05:46<00:44,  1.65s/it]"
     ]
    },
    {
     "name": "stdout",
     "output_type": "stream",
     "text": [
      "\n",
      ">> shirt...\n",
      ">>> finding similar category:  shirt\n",
      "TAO\n"
     ]
    },
    {
     "name": "stderr",
     "output_type": "stream",
     "text": [
      "\n",
      ">>> Finding TAO shirt...:   0%|                                                              | 0/303 [00:00<?, ?it/s]\u001b[A\n",
      "\n",
      ">>> Finding TAO shirt...:   0%|▏                                                     | 1/303 [00:00<00:09, 30.29it/s]\u001b[A"
     ]
    },
    {
     "name": "stdout",
     "output_type": "stream",
     "text": [
      "[Errno 2] No such file or directory: 'D:/external_datasets/TAO/TAO_DIR/frames/val/Charades/BQZ52/frame1081.jpg'\n",
      "[Errno 2] No such file or directory: 'D:/external_datasets/TAO/TAO_DIR/frames/val/Charades/LRTNA/frame1021.jpg'\n"
     ]
    },
    {
     "name": "stderr",
     "output_type": "stream",
     "text": [
      "\n",
      " 86%|███████████████████████████████████████████████████████████████████▎          | 163/189 [05:47<00:41,  1.60s/it]"
     ]
    },
    {
     "name": "stdout",
     "output_type": "stream",
     "text": [
      ">>> finding similar category:  nightshirt\n",
      ">>>> #WARNING nightshirt is missing from json annotations\n",
      "annotations datasets:  []\n",
      "annotations imgids:  []\n",
      "annotations bbox:  []\n",
      ">>> finding similar category:  polo_shirt\n",
      ">>>> #WARNING polo_shirt is missing from json annotations\n",
      "annotations datasets:  []\n",
      "annotations imgids:  []\n",
      "annotations bbox:  []\n",
      ">>> finding similar category:  sweatshirt\n",
      ">>>> #WARNING sweatshirt is missing from json annotations\n",
      "annotations datasets:  []\n",
      "annotations imgids:  []\n",
      "annotations bbox:  []\n",
      "\n",
      ">> shoe...\n",
      ">>> finding similar category:  shoe\n",
      "TAO\n"
     ]
    },
    {
     "name": "stderr",
     "output_type": "stream",
     "text": [
      "\n",
      ">>> Finding TAO shoe...:   0%|                                                               | 0/310 [00:00<?, ?it/s]\u001b[A"
     ]
    },
    {
     "name": "stdout",
     "output_type": "stream",
     "text": [
      "[Errno 2] No such file or directory: 'D:/external_datasets/TAO/TAO_DIR/frames/val/HACS/Cleaning_shoes_v_2XkKhZrXrm4/frame1601.jpg'\n"
     ]
    },
    {
     "name": "stderr",
     "output_type": "stream",
     "text": [
      "\n",
      "\n",
      ">>> Finding TAO shoe...:   0%|▏                                                      | 1/310 [00:00<00:04, 62.35it/s]\u001b[A"
     ]
    },
    {
     "name": "stdout",
     "output_type": "stream",
     "text": [
      "[Errno 2] No such file or directory: 'D:/external_datasets/TAO/TAO_DIR/frames/val/HACS/Cleaning_shoes_v_2XkKhZrXrm4/frame1801.jpg'\n"
     ]
    },
    {
     "name": "stderr",
     "output_type": "stream",
     "text": [
      "\n",
      "\n",
      ">>> Finding TAO sandal_(type_of_shoe)...:   0%|                                               | 0/60 [00:00<?, ?it/s]\u001b[A\n",
      ">>> Finding TAO sandal_(type_of_shoe)...: 100%|█████████████████████████████████████| 60/60 [00:00<00:00, 444.35it/s]\u001b[A\n",
      "\n",
      ">>> Finding TAO sandal_(type_of_shoe)...:   0%|                                               | 0/60 [00:00<?, ?it/s]\u001b[A"
     ]
    },
    {
     "name": "stdout",
     "output_type": "stream",
     "text": [
      ">>> finding similar category:  Loafer_(type_of_shoe)\n",
      ">>>> #WARNING Loafer_(type_of_shoe) is missing from json annotations\n",
      "annotations datasets:  []\n",
      "annotations imgids:  []\n",
      "annotations bbox:  []\n",
      ">>> finding similar category:  sandal_(type_of_shoe)\n",
      "TAO\n",
      "[Errno 2] No such file or directory: 'D:/external_datasets/TAO/TAO_DIR/frames/val/YFCC100M/v_5c499a3be51f27d537c8e429840e760/frame1021.jpeg'\n",
      ">>>> #WARNING: No file found for: TAO sandal_(type_of_shoe)...\n",
      "[Errno 2] No such file or directory: 'D:/external_datasets/TAO/TAO_DIR/frames/val/YFCC100M/v_5c499a3be51f27d537c8e429840e760/frame1141.jpeg'\n"
     ]
    },
    {
     "name": "stderr",
     "output_type": "stream",
     "text": [
      "\n",
      ">>> Finding TAO sandal_(type_of_shoe)...: 100%|█████████████████████████████████████| 60/60 [00:00<00:00, 450.99it/s]\u001b[A\n",
      "\n",
      ">>> Finding TAO sandal_(type_of_shoe)...:   0%|                                               | 0/60 [00:00<?, ?it/s]\u001b[A\n",
      ">>> Finding TAO sandal_(type_of_shoe)...: 100%|█████████████████████████████████████| 60/60 [00:00<00:00, 441.02it/s]\u001b[A\n",
      "\n",
      ">>> Finding TAO sandal_(type_of_shoe)...:   0%|                                               | 0/60 [00:00<?, ?it/s]\u001b[A"
     ]
    },
    {
     "name": "stdout",
     "output_type": "stream",
     "text": [
      ">>>> #WARNING: No file found for: TAO sandal_(type_of_shoe)...\n",
      "[Errno 2] No such file or directory: 'D:/external_datasets/TAO/TAO_DIR/frames/val/YFCC100M/v_5c499a3be51f27d537c8e429840e760/frame1081.jpeg'\n",
      ">>>> #WARNING: No file found for: TAO sandal_(type_of_shoe)...\n",
      "[Errno 2] No such file or directory: 'D:/external_datasets/TAO/TAO_DIR/frames/val/YFCC100M/v_5c499a3be51f27d537c8e429840e760/frame0631.jpeg'\n"
     ]
    },
    {
     "name": "stderr",
     "output_type": "stream",
     "text": [
      "\n",
      ">>> Finding TAO sandal_(type_of_shoe)...: 100%|█████████████████████████████████████| 60/60 [00:00<00:00, 447.60it/s]\u001b[A\n",
      "\n",
      ">>> Finding TAO sandal_(type_of_shoe)...:   0%|                                               | 0/60 [00:00<?, ?it/s]\u001b[A\n",
      ">>> Finding TAO sandal_(type_of_shoe)...: 100%|█████████████████████████████████████| 60/60 [00:00<00:00, 406.72it/s]\u001b[A\n",
      "\n",
      ">>> Finding TAO sandal_(type_of_shoe)...:   0%|                                               | 0/60 [00:00<?, ?it/s]\u001b[A"
     ]
    },
    {
     "name": "stdout",
     "output_type": "stream",
     "text": [
      ">>>> #WARNING: No file found for: TAO sandal_(type_of_shoe)...\n",
      "[Errno 2] No such file or directory: 'D:/external_datasets/TAO/TAO_DIR/frames/val/YFCC100M/v_5c499a3be51f27d537c8e429840e760/frame0691.jpeg'\n",
      ">>>> #WARNING: No file found for: TAO sandal_(type_of_shoe)...\n",
      "[Errno 2] No such file or directory: 'D:/external_datasets/TAO/TAO_DIR/frames/val/YFCC100M/v_5c499a3be51f27d537c8e429840e760/frame0751.jpeg'\n"
     ]
    },
    {
     "name": "stderr",
     "output_type": "stream",
     "text": [
      "\n",
      ">>> Finding TAO sandal_(type_of_shoe)...: 100%|█████████████████████████████████████| 60/60 [00:00<00:00, 422.42it/s]\u001b[A\n",
      "\n",
      ">>> Finding TAO sandal_(type_of_shoe)...:   0%|                                               | 0/60 [00:00<?, ?it/s]\u001b[A\n",
      ">>> Finding TAO sandal_(type_of_shoe)...: 100%|█████████████████████████████████████| 60/60 [00:00<00:00, 431.52it/s]\u001b[A\n",
      "\n",
      ">>> Finding TAO sandal_(type_of_shoe)...:   0%|                                               | 0/60 [00:00<?, ?it/s]\u001b[A"
     ]
    },
    {
     "name": "stdout",
     "output_type": "stream",
     "text": [
      ">>>> #WARNING: No file found for: TAO sandal_(type_of_shoe)...\n",
      "[Errno 2] No such file or directory: 'D:/external_datasets/TAO/TAO_DIR/frames/val/YFCC100M/v_5c499a3be51f27d537c8e429840e760/frame0571.jpeg'\n",
      ">>>> #WARNING: No file found for: TAO sandal_(type_of_shoe)...\n",
      "[Errno 2] No such file or directory: 'D:/external_datasets/TAO/TAO_DIR/frames/val/YFCC100M/v_5c499a3be51f27d537c8e429840e760/frame1171.jpeg'\n"
     ]
    },
    {
     "name": "stderr",
     "output_type": "stream",
     "text": [
      "\n",
      ">>> Finding TAO sandal_(type_of_shoe)...: 100%|█████████████████████████████████████| 60/60 [00:00<00:00, 434.72it/s]\u001b[A\n",
      "\n",
      ">>> Finding TAO sandal_(type_of_shoe)...:   0%|                                               | 0/60 [00:00<?, ?it/s]\u001b[A\n",
      ">>> Finding TAO sandal_(type_of_shoe)...: 100%|█████████████████████████████████████| 60/60 [00:00<00:00, 440.34it/s]\u001b[A\n",
      "\n",
      ">>> Finding TAO sandal_(type_of_shoe)...:   0%|                                               | 0/60 [00:00<?, ?it/s]\u001b[A"
     ]
    },
    {
     "name": "stdout",
     "output_type": "stream",
     "text": [
      ">>>> #WARNING: No file found for: TAO sandal_(type_of_shoe)...\n",
      "[Errno 2] No such file or directory: 'D:/external_datasets/TAO/TAO_DIR/frames/val/YFCC100M/v_5c499a3be51f27d537c8e429840e760/frame0781.jpeg'\n",
      ">>>> #WARNING: No file found for: TAO sandal_(type_of_shoe)...\n",
      "[Errno 2] No such file or directory: 'D:/external_datasets/TAO/TAO_DIR/frames/val/YFCC100M/v_5c499a3be51f27d537c8e429840e760/frame1051.jpeg'\n"
     ]
    },
    {
     "name": "stderr",
     "output_type": "stream",
     "text": [
      "\n",
      ">>> Finding TAO sandal_(type_of_shoe)...: 100%|█████████████████████████████████████| 60/60 [00:00<00:00, 447.63it/s]\u001b[A\n",
      " 87%|███████████████████████████████████████████████████████████████████▋          | 164/189 [05:50<00:53,  2.14s/it]"
     ]
    },
    {
     "name": "stdout",
     "output_type": "stream",
     "text": [
      ">>>> #WARNING: No file found for: TAO sandal_(type_of_shoe)...\n",
      "\n",
      ">> shovel...\n",
      ">>> finding similar category:  shovel\n",
      "TAO\n"
     ]
    },
    {
     "name": "stderr",
     "output_type": "stream",
     "text": [
      " 87%|████████████████████████████████████████████████████████████████████          | 165/189 [05:52<00:46,  1.93s/it]"
     ]
    },
    {
     "name": "stdout",
     "output_type": "stream",
     "text": [
      ">>> finding similar category:  power_shovel\n",
      ">>>> #WARNING power_shovel is missing from json annotations\n",
      "annotations datasets:  []\n",
      "annotations imgids:  []\n",
      "annotations bbox:  []\n",
      "\n",
      ">> sink...\n",
      ">>> finding similar category:  sink\n",
      "COCO\n"
     ]
    },
    {
     "name": "stderr",
     "output_type": "stream",
     "text": [
      " 88%|████████████████████████████████████████████████████████████████████▌         | 166/189 [05:53<00:37,  1.65s/it]"
     ]
    },
    {
     "name": "stdout",
     "output_type": "stream",
     "text": [
      ">>> finding similar category:  kitchen_sink\n",
      ">>>> #WARNING kitchen_sink is missing from json annotations\n",
      "annotations datasets:  []\n",
      "annotations imgids:  []\n",
      "annotations bbox:  []\n",
      "\n",
      ">> ski...\n",
      ">>> finding similar category:  ski\n",
      "TAO\n"
     ]
    },
    {
     "name": "stderr",
     "output_type": "stream",
     "text": [
      "\n",
      ">>> Finding TAO ski...:   0%|                                                                 | 0/80 [00:00<?, ?it/s]\u001b[A"
     ]
    },
    {
     "name": "stdout",
     "output_type": "stream",
     "text": [
      "[Errno 2] No such file or directory: 'D:/external_datasets/TAO/TAO_DIR/frames/train/HACS/Skiing_v_HtaNMyVa260_scene_0_99-1308/frame0991.jpg'\n"
     ]
    },
    {
     "name": "stderr",
     "output_type": "stream",
     "text": [
      "\n"
     ]
    },
    {
     "name": "stdout",
     "output_type": "stream",
     "text": [
      ">>> finding similar category:  skis\n",
      "COCO\n",
      ">>> finding similar category:  ballet_skirt\n",
      ">>>> #WARNING ballet_skirt is missing from json annotations\n",
      "annotations datasets:  []\n",
      "annotations imgids:  []\n",
      "annotations bbox:  []\n",
      ">>> finding similar category:  ski_boot\n",
      ">>>> #WARNING ski_boot is missing from json annotations\n",
      "annotations datasets:  []\n",
      "annotations imgids:  []\n",
      "annotations bbox:  []\n",
      ">>> finding similar category:  ski_parka\n",
      ">>>> #WARNING ski_parka is missing from json annotations\n",
      "annotations datasets:  []\n",
      "annotations imgids:  []\n",
      "annotations bbox:  []\n",
      ">>> finding similar category:  ski_pole\n",
      "TAO\n"
     ]
    },
    {
     "name": "stderr",
     "output_type": "stream",
     "text": [
      "\n",
      ">>> Finding TAO ski_pole...:   3%|█▊                                                  | 1/29 [00:00<00:00, 55.45it/s]\u001b[A"
     ]
    },
    {
     "name": "stdout",
     "output_type": "stream",
     "text": [
      "[Errno 2] No such file or directory: 'D:/external_datasets/TAO/TAO_DIR/frames/val/YFCC100M/v_4820d24fe4c4cb43cb3efabfca5d26e/frame1021.jpg'\n"
     ]
    },
    {
     "name": "stderr",
     "output_type": "stream",
     "text": [
      "\n",
      "\n",
      ">>> Finding TAO ski_pole...:  24%|████████████▎                                      | 7/29 [00:00<00:00, 538.48it/s]\u001b[A\n",
      "\n",
      ">>> Finding TAO ski_pole...:  28%|██████████████                                     | 8/29 [00:00<00:00, 500.11it/s]\u001b[A\n",
      "\n",
      ">>> Finding TAO ski_pole...:  34%|█████████████████▏                                | 10/29 [00:00<00:00, 416.01it/s]\u001b[A"
     ]
    },
    {
     "name": "stdout",
     "output_type": "stream",
     "text": [
      "[Errno 2] No such file or directory: 'D:/external_datasets/TAO/TAO_DIR/frames/train/HACS/Skiing_v_HtaNMyVa260_scene_0_99-1308/frame1081.jpg'\n",
      "[Errno 2] No such file or directory: 'D:/external_datasets/TAO/TAO_DIR/frames/train/HACS/Skiing_v_HtaNMyVa260_scene_0_99-1308/frame1051.jpg'\n",
      "[Errno 2] No such file or directory: 'D:/external_datasets/TAO/TAO_DIR/frames/val/YFCC100M/v_4820d24fe4c4cb43cb3efabfca5d26e/frame1051.jpg'\n",
      ">>> finding similar category:  skirt\n",
      "TAO\n"
     ]
    },
    {
     "name": "stderr",
     "output_type": "stream",
     "text": [
      "\n"
     ]
    },
    {
     "name": "stdout",
     "output_type": "stream",
     "text": [
      ">>> finding similar category:  water_ski\n",
      "TAO\n"
     ]
    },
    {
     "name": "stderr",
     "output_type": "stream",
     "text": [
      " 88%|████████████████████████████████████████████████████████████████████▉         | 167/189 [05:59<01:03,  2.88s/it]"
     ]
    },
    {
     "name": "stdout",
     "output_type": "stream",
     "text": [
      "\n",
      ">> skirt...\n",
      ">>> finding similar category:  skirt\n",
      "TAO\n"
     ]
    },
    {
     "name": "stderr",
     "output_type": "stream",
     "text": [
      " 89%|█████████████████████████████████████████████████████████████████████▎        | 168/189 [06:00<00:50,  2.43s/it]"
     ]
    },
    {
     "name": "stdout",
     "output_type": "stream",
     "text": [
      ">>> finding similar category:  ballet_skirt\n",
      ">>>> #WARNING ballet_skirt is missing from json annotations\n",
      "annotations datasets:  []\n",
      "annotations imgids:  []\n",
      "annotations bbox:  []\n",
      "\n",
      ">> sock...\n",
      ">>> finding similar category:  sock\n",
      ">>>> #WARNING sock is missing from json annotations\n",
      "annotations datasets:  []\n",
      "annotations imgids:  []\n",
      "annotations bbox:  []\n",
      ">>> finding similar category:  wall_socket\n",
      ">>>> #WARNING wall_socket is missing from json annotations\n",
      "annotations datasets:  []\n",
      "annotations imgids:  []\n",
      "annotations bbox:  []\n",
      ">>> finding similar category:  windsock\n",
      ">>>> #WARNING windsock is missing from json annotations\n",
      "annotations datasets:  []\n",
      "annotations imgids:  []\n",
      "annotations bbox:  []\n",
      "\n",
      ">> sofa...\n",
      ">>> finding similar category:  sofa\n",
      "TAO\n"
     ]
    },
    {
     "name": "stderr",
     "output_type": "stream",
     "text": [
      " 90%|██████████████████████████████████████████████████████████████████████▏       | 170/189 [06:01<00:36,  1.90s/it]"
     ]
    },
    {
     "name": "stdout",
     "output_type": "stream",
     "text": [
      ">>> finding similar category:  sofa_bed\n",
      ">>>> #WARNING sofa_bed is missing from json annotations\n",
      "annotations datasets:  []\n",
      "annotations imgids:  []\n",
      "annotations bbox:  []\n",
      "\n",
      ">> soup...\n",
      ">>> finding similar category:  soup\n",
      ">>>> #WARNING soup is missing from json annotations\n",
      "annotations datasets:  []\n",
      "annotations imgids:  []\n",
      "annotations bbox:  []\n",
      ">>> finding similar category:  soup_bowl\n",
      ">>>> #WARNING soup_bowl is missing from json annotations\n",
      "annotations datasets:  []\n",
      "annotations imgids:  []\n",
      "annotations bbox:  []\n",
      ">>> finding similar category:  soupspoon\n",
      ">>>> #WARNING soupspoon is missing from json annotations\n",
      "annotations datasets:  []\n",
      "annotations imgids:  []\n",
      "annotations bbox:  []\n",
      "\n",
      ">> spoon...\n",
      ">>> finding similar category:  spoon\n",
      "COCO\n"
     ]
    },
    {
     "name": "stderr",
     "output_type": "stream",
     "text": [
      "\n",
      ">>> Finding TAO wooden_spoon...:  72%|█████████████████████████████████▏            | 26/36 [00:00<00:00, 425.98it/s]\u001b[A\n",
      "\n",
      ">>> Finding TAO wooden_spoon...:   0%|                                                        | 0/36 [00:00<?, ?it/s]\u001b[A"
     ]
    },
    {
     "name": "stdout",
     "output_type": "stream",
     "text": [
      ">>> finding similar category:  soupspoon\n",
      ">>>> #WARNING soupspoon is missing from json annotations\n",
      "annotations datasets:  []\n",
      "annotations imgids:  []\n",
      "annotations bbox:  []\n",
      ">>> finding similar category:  wooden_spoon\n",
      "TAO\n",
      "[Errno 2] No such file or directory: 'D:/external_datasets/TAO/TAO_DIR/frames/val/YFCC100M/v_460a1314da9bd32cbd14a2b3414f30/frame0865.jpeg'\n",
      "[Errno 2] No such file or directory: 'D:/external_datasets/TAO/TAO_DIR/frames/val/YFCC100M/v_460a1314da9bd32cbd14a2b3414f30/frame0673.jpeg'\n"
     ]
    },
    {
     "name": "stderr",
     "output_type": "stream",
     "text": [
      ">>> Finding TAO wooden_spoon...:  75%|██████████████████████████████████▌           | 27/36 [00:00<00:00, 397.02it/s]\n",
      "\n",
      ">>> Finding TAO wooden_spoon...:  78%|███████████████████████████████████▊          | 28/36 [00:00<00:00, 411.65it/s]\u001b[A\n"
     ]
    },
    {
     "name": "stdout",
     "output_type": "stream",
     "text": [
      "[Errno 2] No such file or directory: 'D:/external_datasets/TAO/TAO_DIR/frames/val/YFCC100M/v_460a1314da9bd32cbd14a2b3414f30/frame0985.jpeg'\n"
     ]
    },
    {
     "name": "stderr",
     "output_type": "stream",
     "text": [
      "\n",
      ">>> Finding TAO wooden_spoon...:  81%|█████████████████████████████████████         | 29/36 [00:00<00:00, 422.70it/s]\u001b[A\n",
      "\n",
      ">>> Finding TAO wooden_spoon...:   0%|                                                        | 0/36 [00:00<?, ?it/s]\u001b[A"
     ]
    },
    {
     "name": "stdout",
     "output_type": "stream",
     "text": [
      "[Errno 2] No such file or directory: 'D:/external_datasets/TAO/TAO_DIR/frames/val/YFCC100M/v_460a1314da9bd32cbd14a2b3414f30/frame1153.jpeg'\n",
      "[Errno 2] No such file or directory: 'D:/external_datasets/TAO/TAO_DIR/frames/val/YFCC100M/v_460a1314da9bd32cbd14a2b3414f30/frame0937.jpeg'\n"
     ]
    },
    {
     "name": "stderr",
     "output_type": "stream",
     "text": [
      ">>> Finding TAO wooden_spoon...:  83%|██████████████████████████████████████▎       | 30/36 [00:00<00:00, 405.60it/s]\n",
      "\n",
      ">>> Finding TAO wooden_spoon...:  86%|███████████████████████████████████████▌      | 31/36 [00:00<00:00, 418.76it/s]\u001b[A\n",
      "\n",
      ">>> Finding TAO wooden_spoon...:   0%|                                                        | 0/36 [00:00<?, ?it/s]\u001b[A"
     ]
    },
    {
     "name": "stdout",
     "output_type": "stream",
     "text": [
      "[Errno 2] No such file or directory: 'D:/external_datasets/TAO/TAO_DIR/frames/val/YFCC100M/v_460a1314da9bd32cbd14a2b3414f30/frame0961.jpeg'\n",
      "[Errno 2] No such file or directory: 'D:/external_datasets/TAO/TAO_DIR/frames/val/YFCC100M/v_460a1314da9bd32cbd14a2b3414f30/frame1273.jpeg'\n"
     ]
    },
    {
     "name": "stderr",
     "output_type": "stream",
     "text": [
      ">>> Finding TAO wooden_spoon...:  89%|████████████████████████████████████████▉     | 32/36 [00:00<00:00, 404.15it/s]\n",
      "\n",
      ">>> Finding TAO wooden_spoon...:  94%|███████████████████████████████████████████▍  | 34/36 [00:00<00:00, 430.35it/s]\u001b[A\n",
      "\n",
      ">>> Finding TAO wooden_spoon...:   0%|                                                        | 0/36 [00:00<?, ?it/s]\u001b[A"
     ]
    },
    {
     "name": "stdout",
     "output_type": "stream",
     "text": [
      "[Errno 2] No such file or directory: 'D:/external_datasets/TAO/TAO_DIR/frames/val/YFCC100M/v_460a1314da9bd32cbd14a2b3414f30/frame1321.jpeg'\n",
      "[Errno 2] No such file or directory: 'D:/external_datasets/TAO/TAO_DIR/frames/val/YFCC100M/v_460a1314da9bd32cbd14a2b3414f30/frame0793.jpeg'\n"
     ]
    },
    {
     "name": "stderr",
     "output_type": "stream",
     "text": [
      ">>> Finding TAO wooden_spoon...: 100%|██████████████████████████████████████████████| 36/36 [00:00<00:00, 521.50it/s]\n",
      " 91%|██████████████████████████████████████████████████████████████████████▉       | 172/189 [06:04<00:28,  1.70s/it]\n",
      ">>> Finding TAO stool...:   0%|                                                               | 0/60 [00:00<?, ?it/s]\u001b[A\n"
     ]
    },
    {
     "name": "stdout",
     "output_type": "stream",
     "text": [
      ">>>> #WARNING: No file found for: TAO wooden_spoon...\n",
      "\n",
      ">> stool...\n",
      ">>> finding similar category:  stool\n",
      "TAO\n",
      "[Errno 2] No such file or directory: 'D:/external_datasets/TAO/TAO_DIR/frames/val/HACS/Playing_rubik_cube_v_ETjVjhZOLSI_scene_0_3848-4880/frame0991.jpg'\n"
     ]
    },
    {
     "name": "stderr",
     "output_type": "stream",
     "text": [
      "\n",
      ">>> Finding TAO stool...:   2%|▉                                                      | 1/60 [00:00<00:02, 29.37it/s]\u001b[A"
     ]
    },
    {
     "name": "stdout",
     "output_type": "stream",
     "text": [
      "[Errno 2] No such file or directory: 'D:/external_datasets/TAO/TAO_DIR/frames/val/AVA/Ic0LMbDyc9Y_scene_7_61166-62253/frame0985.jpg'\n"
     ]
    },
    {
     "name": "stderr",
     "output_type": "stream",
     "text": [
      "\n"
     ]
    },
    {
     "name": "stdout",
     "output_type": "stream",
     "text": [
      ">>> finding similar category:  footstool\n",
      ">>>> #WARNING footstool is missing from json annotations\n",
      "annotations datasets:  []\n",
      "annotations imgids:  []\n",
      "annotations bbox:  []\n",
      ">>> finding similar category:  music_stool\n",
      ">>>> #WARNING music_stool is missing from json annotations\n",
      "annotations datasets:  []\n",
      "annotations imgids:  []\n",
      "annotations bbox:  []\n",
      ">>> finding similar category:  step_stool\n",
      "TAO\n"
     ]
    },
    {
     "name": "stderr",
     "output_type": "stream",
     "text": [
      " 92%|███████████████████████████████████████████████████████████████████████▍      | 173/189 [06:07<00:32,  2.05s/it]"
     ]
    },
    {
     "name": "stdout",
     "output_type": "stream",
     "text": [
      "\n",
      ">> table...\n",
      ">>> finding similar category:  table\n",
      ">>>> #WARNING table is missing from json annotations\n",
      "annotations datasets:  []\n",
      "annotations imgids:  []\n",
      "annotations bbox:  []\n",
      ">>> finding similar category:  dining table\n",
      "COCO\n",
      ">>> finding similar category:  chili_(vegetable)\n",
      ">>>> #WARNING chili_(vegetable) is missing from json annotations\n",
      "annotations datasets:  []\n",
      "annotations imgids:  []\n",
      "annotations bbox:  []\n",
      ">>> finding similar category:  coffee_table\n",
      "TAO\n",
      ">>> finding similar category:  dining_table\n",
      ">>>> #WARNING dining_table is missing from json annotations\n",
      "annotations datasets:  []\n",
      "annotations imgids:  []\n",
      "annotations bbox:  []\n",
      ">>> finding similar category:  kitchen_table\n",
      ">>>> #WARNING kitchen_table is missing from json annotations\n",
      "annotations datasets:  []\n",
      "annotations imgids:  []\n",
      "annotations bbox:  []\n",
      ">>> finding similar category:  peeler_(tool_for_fruit_and_vegetables)\n",
      "TAO\n"
     ]
    },
    {
     "name": "stderr",
     "output_type": "stream",
     "text": [
      "\n",
      ">>> Finding TAO peeler_(tool_for_fruit_and_vegetables)...:   0%|                              | 0/40 [00:00<?, ?it/s]\u001b[A"
     ]
    },
    {
     "name": "stdout",
     "output_type": "stream",
     "text": [
      "[Errno 2] No such file or directory: 'D:/external_datasets/TAO/TAO_DIR/frames/val/HACS/Making_a_sandwich_v_SMk4troNhwE_scene_0_0-2482/frame1045.jpg'\n"
     ]
    },
    {
     "name": "stderr",
     "output_type": "stream",
     "text": [
      "\n"
     ]
    },
    {
     "name": "stdout",
     "output_type": "stream",
     "text": [
      ">>> finding similar category:  pool_table\n",
      ">>>> #WARNING pool_table is missing from json annotations\n",
      "annotations datasets:  []\n",
      "annotations imgids:  []\n",
      "annotations bbox:  []\n",
      ">>> finding similar category:  table-tennis_table\n",
      ">>>> #WARNING table-tennis_table is missing from json annotations\n",
      "annotations datasets:  []\n",
      "annotations imgids:  []\n",
      "annotations bbox:  []\n",
      ">>> finding similar category:  table_lamp\n",
      "TAO\n"
     ]
    },
    {
     "name": "stderr",
     "output_type": "stream",
     "text": [
      "\n",
      ">>> Finding TAO table_lamp...:   3%|█▎                                                | 1/39 [00:00<00:00, 62.50it/s]\u001b[A\n",
      "\n",
      ">>> Finding TAO table_lamp...:   5%|██▌                                              | 2/39 [00:00<00:00, 117.64it/s]\u001b[A"
     ]
    },
    {
     "name": "stdout",
     "output_type": "stream",
     "text": [
      "[Errno 2] No such file or directory: 'D:/external_datasets/TAO/TAO_DIR/frames/train/HACS/Welding_v_QlXEyPOUMUg/frame1081.jpg'\n",
      "[Errno 2] No such file or directory: 'D:/external_datasets/TAO/TAO_DIR/frames/train/HACS/Welding_v_QlXEyPOUMUg/frame0991.jpg'\n"
     ]
    },
    {
     "name": "stderr",
     "output_type": "stream",
     "text": [
      "\n",
      " 92%|███████████████████████████████████████████████████████████████████████▊      | 174/189 [06:12<00:46,  3.13s/it]"
     ]
    },
    {
     "name": "stdout",
     "output_type": "stream",
     "text": [
      ">>> finding similar category:  tablecloth\n",
      ">>>> #WARNING tablecloth is missing from json annotations\n",
      "annotations datasets:  []\n",
      "annotations imgids:  []\n",
      "annotations bbox:  []\n",
      "\n",
      ">> telephone...\n",
      ">>> finding similar category:  telephone\n",
      "TAO\n"
     ]
    },
    {
     "name": "stderr",
     "output_type": "stream",
     "text": [
      "\n",
      ">>> Finding TAO cellular_telephone...:   0%|                                                | 0/1902 [00:00<?, ?it/s]\u001b[A"
     ]
    },
    {
     "name": "stdout",
     "output_type": "stream",
     "text": [
      ">>> finding similar category:  cellular_telephone\n",
      "TAO\n",
      "[Errno 2] No such file or directory: 'D:/external_datasets/TAO/TAO_DIR/frames/val/YFCC100M/v_6925f1f62bce28e7e74858c7477809e/frame0751.jpeg'\n"
     ]
    },
    {
     "name": "stderr",
     "output_type": "stream",
     "text": [
      "\n",
      "\n",
      ">>> Finding TAO cellular_telephone...:   0%|                                        | 5/1902 [00:00<00:19, 96.06it/s]\u001b[A"
     ]
    },
    {
     "name": "stdout",
     "output_type": "stream",
     "text": [
      "[Errno 2] No such file or directory: 'D:/external_datasets/TAO/TAO_DIR/frames/val/AVA/Ekwy7wzLfjc_scene_10_52631-55141/frame1426.jpg'\n"
     ]
    },
    {
     "name": "stderr",
     "output_type": "stream",
     "text": [
      "\n",
      "\n",
      ">>> Finding TAO cellular_telephone...:   0%|                                       | 6/1902 [00:00<00:17, 109.02it/s]\u001b[A"
     ]
    },
    {
     "name": "stdout",
     "output_type": "stream",
     "text": [
      "[Errno 2] No such file or directory: 'D:/external_datasets/TAO/TAO_DIR/frames/val/AVA/Ekwy7wzLfjc_scene_10_52631-55141/frame1551.jpg'\n"
     ]
    },
    {
     "name": "stderr",
     "output_type": "stream",
     "text": [
      "\n",
      " 93%|████████████████████████████████████████████████████████████████████████▏     | 175/189 [06:16<00:46,  3.30s/it]"
     ]
    },
    {
     "name": "stdout",
     "output_type": "stream",
     "text": [
      ">>> finding similar category:  telephone_booth\n",
      ">>>> #WARNING telephone_booth is missing from json annotations\n",
      "annotations datasets:  []\n",
      "annotations imgids:  []\n",
      "annotations bbox:  []\n",
      ">>> finding similar category:  telephone_pole\n",
      ">>>> #WARNING telephone_pole is missing from json annotations\n",
      "annotations datasets:  []\n",
      "annotations imgids:  []\n",
      "annotations bbox:  []\n",
      "\n",
      ">> toaster...\n",
      ">>> finding similar category:  toaster\n",
      "COCO\n"
     ]
    },
    {
     "name": "stderr",
     "output_type": "stream",
     "text": [
      " 93%|████████████████████████████████████████████████████████████████████████▋     | 176/189 [06:17<00:33,  2.57s/it]"
     ]
    },
    {
     "name": "stdout",
     "output_type": "stream",
     "text": [
      ">>> finding similar category:  toaster_oven\n",
      ">>>> #WARNING toaster_oven is missing from json annotations\n",
      "annotations datasets:  []\n",
      "annotations imgids:  []\n",
      "annotations bbox:  []\n",
      "\n",
      ">> toilet...\n",
      ">>> finding similar category:  toilet\n",
      "COCO\n"
     ]
    },
    {
     "name": "stderr",
     "output_type": "stream",
     "text": [
      " 94%|█████████████████████████████████████████████████████████████████████████     | 177/189 [06:18<00:24,  2.06s/it]"
     ]
    },
    {
     "name": "stdout",
     "output_type": "stream",
     "text": [
      ">>> finding similar category:  toilet_tissue\n",
      ">>>> #WARNING toilet_tissue is missing from json annotations\n",
      "annotations datasets:  []\n",
      "annotations imgids:  []\n",
      "annotations bbox:  []\n",
      "\n",
      ">> cover...\n",
      ">>> finding similar category:  cover\n",
      "TAO\n"
     ]
    },
    {
     "name": "stderr",
     "output_type": "stream",
     "text": [
      "\n",
      ">>> Finding TAO cover...:  13%|███████                                               | 7/54 [00:00<00:00, 148.81it/s]\u001b[A"
     ]
    },
    {
     "name": "stdout",
     "output_type": "stream",
     "text": [
      "[Errno 2] No such file or directory: 'D:/external_datasets/TAO/TAO_DIR/frames/train/YFCC100M/v_2501d6da0cfca808ee42aceeeb45bf5/frame0271.jpeg'\n"
     ]
    },
    {
     "name": "stderr",
     "output_type": "stream",
     "text": [
      "\n",
      " 94%|█████████████████████████████████████████████████████████████████████████▍    | 178/189 [06:19<00:20,  1.88s/it]\n",
      ">>> Finding TAO towel...:   0%|                                                             | 0/1469 [00:00<?, ?it/s]\u001b[A"
     ]
    },
    {
     "name": "stdout",
     "output_type": "stream",
     "text": [
      ">>> finding similar category:  coverall\n",
      ">>>> #WARNING coverall is missing from json annotations\n",
      "annotations datasets:  []\n",
      "annotations imgids:  []\n",
      "annotations bbox:  []\n",
      "\n",
      ">> towel...\n",
      ">>> finding similar category:  towel\n",
      "TAO\n",
      "[Errno 2] No such file or directory: 'D:/external_datasets/TAO/TAO_DIR/frames/val/Charades/6XB10/frame1021.jpg'\n"
     ]
    },
    {
     "name": "stderr",
     "output_type": "stream",
     "text": [
      "\n",
      "\n",
      ">>> Finding TAO paper_towel...:   5%|██▌                                              | 2/39 [00:00<00:00, 39.82it/s]\u001b[A\n",
      "\n",
      ">>> Finding TAO paper_towel...:   8%|███▊                                             | 3/39 [00:00<00:00, 59.10it/s]\u001b[A"
     ]
    },
    {
     "name": "stdout",
     "output_type": "stream",
     "text": [
      ">>> finding similar category:  bath_towel\n",
      ">>>> #WARNING bath_towel is missing from json annotations\n",
      "annotations datasets:  []\n",
      "annotations imgids:  []\n",
      "annotations bbox:  []\n",
      ">>> finding similar category:  dishtowel\n",
      ">>>> #WARNING dishtowel is missing from json annotations\n",
      "annotations datasets:  []\n",
      "annotations imgids:  []\n",
      "annotations bbox:  []\n",
      ">>> finding similar category:  hand_towel\n",
      ">>>> #WARNING hand_towel is missing from json annotations\n",
      "annotations datasets:  []\n",
      "annotations imgids:  []\n",
      "annotations bbox:  []\n",
      ">>> finding similar category:  paper_towel\n",
      "TAO\n",
      "[Errno 2] No such file or directory: 'D:/external_datasets/TAO/TAO_DIR/frames/val/HACS/Tumbling_v_OvrAlAqICIQ/frame2971.jpg'\n",
      "[Errno 2] No such file or directory: 'D:/external_datasets/TAO/TAO_DIR/frames/val/HACS/Tumbling_v_OvrAlAqICIQ/frame3121.jpg'\n"
     ]
    },
    {
     "name": "stderr",
     "output_type": "stream",
     "text": [
      "\n",
      "\n",
      ">>> Finding TAO paper_towel...:  10%|████▉                                           | 4/39 [00:00<00:00, 121.23it/s]\u001b[A"
     ]
    },
    {
     "name": "stdout",
     "output_type": "stream",
     "text": [
      "[Errno 2] No such file or directory: 'D:/external_datasets/TAO/TAO_DIR/frames/val/HACS/Tumbling_v_OvrAlAqICIQ/frame3181.jpg'\n"
     ]
    },
    {
     "name": "stderr",
     "output_type": "stream",
     "text": [
      "\n",
      "\n",
      ">>> Finding TAO paper_towel...:  13%|██████▏                                         | 5/39 [00:00<00:00, 138.88it/s]\u001b[A"
     ]
    },
    {
     "name": "stdout",
     "output_type": "stream",
     "text": [
      "[Errno 2] No such file or directory: 'D:/external_datasets/TAO/TAO_DIR/frames/val/HACS/Tumbling_v_OvrAlAqICIQ/frame3061.jpg'\n"
     ]
    },
    {
     "name": "stderr",
     "output_type": "stream",
     "text": [
      "\n",
      "\n",
      ">>> Finding TAO paper_towel...:  18%|████████▌                                       | 7/39 [00:00<00:00, 162.79it/s]\u001b[A\n",
      "\n",
      ">>> Finding TAO paper_towel...:  21%|█████████▊                                      | 8/39 [00:00<00:00, 161.49it/s]\u001b[A"
     ]
    },
    {
     "name": "stdout",
     "output_type": "stream",
     "text": [
      "[Errno 2] No such file or directory: 'D:/external_datasets/TAO/TAO_DIR/frames/val/HACS/Tumbling_v_OvrAlAqICIQ/frame3811.jpg'\n",
      "[Errno 2] No such file or directory: 'D:/external_datasets/TAO/TAO_DIR/frames/val/HACS/Tumbling_v_OvrAlAqICIQ/frame3211.jpg'\n"
     ]
    },
    {
     "name": "stderr",
     "output_type": "stream",
     "text": [
      "\n",
      "\n",
      ">>> Finding TAO paper_towel...:  23%|███████████                                     | 9/39 [00:00<00:00, 230.80it/s]\u001b[A\n",
      " 95%|█████████████████████████████████████████████████████████████████████████▊    | 179/189 [06:22<00:22,  2.24s/it]\n",
      ">>> Finding TAO tray...:   0%|                                                                | 0/75 [00:00<?, ?it/s]\u001b[A"
     ]
    },
    {
     "name": "stdout",
     "output_type": "stream",
     "text": [
      "[Errno 2] No such file or directory: 'D:/external_datasets/TAO/TAO_DIR/frames/val/HACS/Tumbling_v_OvrAlAqICIQ/frame3031.jpg'\n",
      ">>> finding similar category:  towel_rack\n",
      ">>>> #WARNING towel_rack is missing from json annotations\n",
      "annotations datasets:  []\n",
      "annotations imgids:  []\n",
      "annotations bbox:  []\n",
      "\n",
      ">> tray...\n",
      ">>> finding similar category:  tray\n",
      "TAO\n",
      "[Errno 2] No such file or directory: 'D:/external_datasets/TAO/TAO_DIR/frames/val/AVA/t1LXrJOvPDg_scene_7_56366-57875/frame1101.jpg'\n"
     ]
    },
    {
     "name": "stderr",
     "output_type": "stream",
     "text": [
      ">>> Finding TAO tray...:  41%|██████████████████████▎                               | 31/75 [00:00<00:00, 340.67it/s]\n",
      "\n",
      ">>> Finding TAO tray...:  43%|███████████████████████                               | 32/75 [00:00<00:00, 351.80it/s]\u001b[A"
     ]
    },
    {
     "name": "stdout",
     "output_type": "stream",
     "text": [
      "[Errno 2] No such file or directory: 'D:/external_datasets/TAO/TAO_DIR/frames/train/YFCC100M/v_178d5e91768b9c42488ff879c1fa54/frame0571.jpeg'\n"
     ]
    },
    {
     "name": "stderr",
     "output_type": "stream",
     "text": [
      "\n",
      "\n",
      ">>> Finding TAO tray...:  44%|███████████████████████▊                              | 33/75 [00:00<00:00, 305.56it/s]\u001b[A"
     ]
    },
    {
     "name": "stdout",
     "output_type": "stream",
     "text": [
      "[Errno 2] No such file or directory: 'D:/external_datasets/TAO/TAO_DIR/frames/train/YFCC100M/v_178d5e91768b9c42488ff879c1fa54/frame0691.jpeg'\n"
     ]
    },
    {
     "name": "stderr",
     "output_type": "stream",
     "text": [
      "\n",
      "\n",
      ">>> Finding TAO tray...:  45%|████████████████████████▍                             | 34/75 [00:00<00:00, 357.85it/s]\u001b[A\n"
     ]
    },
    {
     "name": "stdout",
     "output_type": "stream",
     "text": [
      "[Errno 2] No such file or directory: 'D:/external_datasets/TAO/TAO_DIR/frames/train/YFCC100M/v_178d5e91768b9c42488ff879c1fa54/frame0871.jpeg'\n"
     ]
    },
    {
     "name": "stderr",
     "output_type": "stream",
     "text": [
      "\n",
      ">>> Finding TAO tray...:   0%|                                                                | 0/75 [00:00<?, ?it/s]\u001b[A"
     ]
    },
    {
     "name": "stdout",
     "output_type": "stream",
     "text": [
      "[Errno 2] No such file or directory: 'D:/external_datasets/TAO/TAO_DIR/frames/train/YFCC100M/v_178d5e91768b9c42488ff879c1fa54/frame1231.jpeg'\n"
     ]
    },
    {
     "name": "stderr",
     "output_type": "stream",
     "text": [
      ">>> Finding TAO tray...:  47%|█████████████████████████▋                             | 35/75 [00:00<00:00, 94.87it/s]\n",
      "\n",
      ">>> Finding TAO tray...:   0%|                                                                | 0/75 [00:00<?, ?it/s]\u001b[A"
     ]
    },
    {
     "name": "stdout",
     "output_type": "stream",
     "text": [
      "[Errno 2] No such file or directory: 'D:/external_datasets/TAO/TAO_DIR/frames/train/YFCC100M/v_178d5e91768b9c42488ff879c1fa54/frame0541.jpeg'\n"
     ]
    },
    {
     "name": "stderr",
     "output_type": "stream",
     "text": [
      ">>> Finding TAO tray...:  48%|█████████████████████████▉                            | 36/75 [00:00<00:00, 110.05it/s]\n",
      "\n",
      ">>> Finding TAO tray...:  49%|██████████████████████████▋                           | 37/75 [00:00<00:00, 291.97it/s]\u001b[A"
     ]
    },
    {
     "name": "stdout",
     "output_type": "stream",
     "text": [
      "[Errno 2] No such file or directory: 'D:/external_datasets/TAO/TAO_DIR/frames/train/YFCC100M/v_178d5e91768b9c42488ff879c1fa54/frame1141.jpeg'\n"
     ]
    },
    {
     "name": "stderr",
     "output_type": "stream",
     "text": [
      "\n",
      "\n",
      ">>> Finding TAO tray...:  52%|████████████████████████████                          | 39/75 [00:00<00:00, 414.90it/s]\u001b[A"
     ]
    },
    {
     "name": "stdout",
     "output_type": "stream",
     "text": [
      "[Errno 2] No such file or directory: 'D:/external_datasets/TAO/TAO_DIR/frames/train/YFCC100M/v_178d5e91768b9c42488ff879c1fa54/frame0451.jpeg'\n"
     ]
    },
    {
     "name": "stderr",
     "output_type": "stream",
     "text": [
      "\n",
      " 95%|██████████████████████████████████████████████████████████████████████████▎   | 180/189 [06:26<00:23,  2.57s/it]"
     ]
    },
    {
     "name": "stdout",
     "output_type": "stream",
     "text": [
      ">>> finding similar category:  ashtray\n",
      ">>>> #WARNING ashtray is missing from json annotations\n",
      "annotations datasets:  []\n",
      "annotations imgids:  []\n",
      "annotations bbox:  []\n",
      "\n",
      ">> truck...\n",
      ">>> finding similar category:  truck\n",
      "COCO\n"
     ]
    },
    {
     "name": "stderr",
     "output_type": "stream",
     "text": [
      "\n",
      ">>> Finding COCO truck...:   0%|                                                           | 0/10388 [00:00<?, ?it/s]\u001b[A"
     ]
    },
    {
     "name": "stdout",
     "output_type": "stream",
     "text": [
      "[Errno 2] No such file or directory: 'D:/external_datasets/COCO/2017/images/val2017/000000478721.jpg'\n"
     ]
    },
    {
     "name": "stderr",
     "output_type": "stream",
     "text": [
      "\n"
     ]
    },
    {
     "name": "stdout",
     "output_type": "stream",
     "text": [
      ">>> finding similar category:  garbage_truck\n",
      "TAO\n"
     ]
    },
    {
     "name": "stderr",
     "output_type": "stream",
     "text": [
      "\n",
      ">>> Finding TAO pickup_truck...:   0%|                                                       | 0/432 [00:00<?, ?it/s]\u001b[A\n",
      "\n",
      ">>> Finding TAO pickup_truck...:   0%|                                               | 1/432 [00:00<00:14, 30.30it/s]\u001b[A"
     ]
    },
    {
     "name": "stdout",
     "output_type": "stream",
     "text": [
      ">>> finding similar category:  pickup_truck\n",
      "TAO\n",
      "[Errno 2] No such file or directory: 'D:/external_datasets/TAO/TAO_DIR/frames/val/ArgoVerse/10b3a1d8-e56c-38be-aaf7-ef2f862a5c4e/ring_front_center_315967633904709152.jpg'\n",
      "[Errno 2] No such file or directory: 'D:/external_datasets/TAO/TAO_DIR/frames/val/ArgoVerse/10b3a1d8-e56c-38be-aaf7-ef2f862a5c4e/ring_front_center_315967645892709592.jpg'\n",
      "[Errno 2] No such file or directory: 'D:/external_datasets/TAO/TAO_DIR/frames/val/ArgoVerse/da734d26-8229-383f-b685-8086e58d1e05/ring_front_center_315967918027037808.jpg'\n"
     ]
    },
    {
     "name": "stderr",
     "output_type": "stream",
     "text": [
      "\n",
      "\n",
      ">>> Finding TAO pickup_truck...:   0%|▏                                              | 2/432 [00:00<00:17, 24.02it/s]\u001b[A\n",
      "\n",
      ">>> Finding TAO pickup_truck...:   1%|▎                                              | 3/432 [00:00<00:08, 50.45it/s]\u001b[A\n",
      "\n",
      ">>> Finding TAO pickup_truck...:   0%|                                                       | 0/432 [00:00<?, ?it/s]\u001b[A"
     ]
    },
    {
     "name": "stdout",
     "output_type": "stream",
     "text": [
      "[Errno 2] No such file or directory: 'D:/external_datasets/TAO/TAO_DIR/frames/train/ArgoVerse/aeb73d7a-8257-3225-972e-99307b3a5cb0/ring_front_center_315969049004410608.jpg'\n",
      "[Errno 2] No such file or directory: 'D:/external_datasets/TAO/TAO_DIR/frames/train/ArgoVerse/aeb73d7a-8257-3225-972e-99307b3a5cb0/ring_front_center_315969056996453792.jpg'\n"
     ]
    },
    {
     "name": "stderr",
     "output_type": "stream",
     "text": [
      ">>> Finding TAO pickup_truck...:   1%|▍                                              | 4/432 [00:00<00:04, 95.26it/s]\n"
     ]
    },
    {
     "name": "stdout",
     "output_type": "stream",
     "text": [
      ">>> finding similar category:  tow_truck\n",
      ">>>> #WARNING tow_truck is missing from json annotations\n",
      "annotations datasets:  []\n",
      "annotations imgids:  []\n",
      "annotations bbox:  []\n",
      ">>> finding similar category:  trailer_truck\n",
      "TAO\n"
     ]
    },
    {
     "name": "stderr",
     "output_type": "stream",
     "text": [
      " 96%|██████████████████████████████████████████████████████████████████████████▋   | 181/189 [06:29<00:22,  2.82s/it]"
     ]
    },
    {
     "name": "stdout",
     "output_type": "stream",
     "text": [
      "\n",
      ">> vat...\n",
      ">>> finding similar category:  vat\n",
      ">>>> #WARNING vat is missing from json annotations\n",
      "annotations datasets:  []\n",
      "annotations imgids:  []\n",
      "annotations bbox:  []\n",
      ">>> finding similar category:  elevator_car\n",
      ">>>> #WARNING elevator_car is missing from json annotations\n",
      "annotations datasets:  []\n",
      "annotations imgids:  []\n",
      "annotations bbox:  []\n",
      "\n",
      ">> turtle...\n",
      ">>> finding similar category:  turtle\n",
      "TAO\n"
     ]
    },
    {
     "name": "stderr",
     "output_type": "stream",
     "text": [
      " 97%|███████████████████████████████████████████████████████████████████████████▌  | 183/189 [06:30<00:13,  2.19s/it]"
     ]
    },
    {
     "name": "stdout",
     "output_type": "stream",
     "text": [
      ">>> finding similar category:  turtleneck_(clothing)\n",
      ">>>> #WARNING turtleneck_(clothing) is missing from json annotations\n",
      "annotations datasets:  []\n",
      "annotations imgids:  []\n",
      "annotations bbox:  []\n",
      "\n",
      ">> urn...\n",
      ">>> finding similar category:  urn\n",
      ">>>> #WARNING urn is missing from json annotations\n",
      "annotations datasets:  []\n",
      "annotations imgids:  []\n",
      "annotations bbox:  []\n",
      ">>> finding similar category:  chest_of_drawers_(furniture)\n",
      ">>>> #WARNING chest_of_drawers_(furniture) is missing from json annotations\n",
      "annotations datasets:  []\n",
      "annotations imgids:  []\n",
      "annotations bbox:  []\n",
      ">>> finding similar category:  turnip\n",
      ">>>> #WARNING turnip is missing from json annotations\n",
      "annotations datasets:  []\n",
      "annotations imgids:  []\n",
      "annotations bbox:  []\n",
      "\n",
      ">> waffle...\n",
      ">>> finding similar category:  waffle\n",
      ">>>> #WARNING waffle is missing from json annotations\n",
      "annotations datasets:  []\n",
      "annotations imgids:  []\n",
      "annotations bbox:  []\n",
      ">>> finding similar category:  waffle_iron\n",
      ">>>> #WARNING waffle_iron is missing from json annotations\n",
      "annotations datasets:  []\n",
      "annotations imgids:  []\n",
      "annotations bbox:  []\n",
      "\n",
      ">> wagon...\n",
      ">>> finding similar category:  wagon\n",
      ">>>> #WARNING wagon is missing from json annotations\n",
      "annotations datasets:  []\n",
      "annotations imgids:  []\n",
      "annotations bbox:  []\n",
      ">>> finding similar category:  wagon_wheel\n",
      ">>>> #WARNING wagon_wheel is missing from json annotations\n",
      "annotations datasets:  []\n",
      "annotations imgids:  []\n",
      "annotations bbox:  []\n",
      "\n",
      ">> watch...\n",
      ">>> finding similar category:  watch\n",
      "TAO\n"
     ]
    },
    {
     "name": "stderr",
     "output_type": "stream",
     "text": [
      " 99%|█████████████████████████████████████████████████████████████████████████████▏| 187/189 [06:32<00:03,  1.62s/it]"
     ]
    },
    {
     "name": "stdout",
     "output_type": "stream",
     "text": [
      ">>> finding similar category:  pocket_watch\n",
      ">>>> #WARNING pocket_watch is missing from json annotations\n",
      "annotations datasets:  []\n",
      "annotations imgids:  []\n",
      "annotations bbox:  []\n",
      "\n",
      ">> wheel...\n",
      ">>> finding similar category:  wheel\n",
      ">>>> #WARNING wheel is missing from json annotations\n",
      "annotations datasets:  []\n",
      "annotations imgids:  []\n",
      "annotations bbox:  []\n",
      ">>> finding similar category:  Ferris_wheel\n",
      ">>>> #WARNING Ferris_wheel is missing from json annotations\n",
      "annotations datasets:  []\n",
      "annotations imgids:  []\n",
      "annotations bbox:  []\n",
      ">>> finding similar category:  pinwheel\n",
      ">>>> #WARNING pinwheel is missing from json annotations\n",
      "annotations datasets:  []\n",
      "annotations imgids:  []\n",
      "annotations bbox:  []\n",
      ">>> finding similar category:  steering_wheel\n",
      "TAO\n"
     ]
    },
    {
     "name": "stderr",
     "output_type": "stream",
     "text": [
      " 99%|█████████████████████████████████████████████████████████████████████████████▌| 188/189 [06:34<00:01,  1.78s/it]"
     ]
    },
    {
     "name": "stdout",
     "output_type": "stream",
     "text": [
      ">>> finding similar category:  wagon_wheel\n",
      ">>>> #WARNING wagon_wheel is missing from json annotations\n",
      "annotations datasets:  []\n",
      "annotations imgids:  []\n",
      "annotations bbox:  []\n",
      ">>> finding similar category:  wheelchair\n",
      ">>>> #WARNING wheelchair is missing from json annotations\n",
      "annotations datasets:  []\n",
      "annotations imgids:  []\n",
      "annotations bbox:  []\n",
      "\n",
      ">> yak...\n",
      ">>> finding similar category:  yak\n",
      ">>>> #WARNING yak is missing from json annotations\n",
      "annotations datasets:  []\n",
      "annotations imgids:  []\n",
      "annotations bbox:  []\n",
      ">>> finding similar category:  kayak\n",
      "TAO\n"
     ]
    },
    {
     "name": "stderr",
     "output_type": "stream",
     "text": [
      "\n",
      ">>> Finding TAO kayak...:   0%|                                                              | 0/240 [00:00<?, ?it/s]\u001b[A"
     ]
    },
    {
     "name": "stdout",
     "output_type": "stream",
     "text": [
      "[Errno 2] No such file or directory: 'D:/external_datasets/TAO/TAO_DIR/frames/train/HACS/River_tubing_v_cB83GjrvoeE_scene_0_0-6170/frame0991.jpg'\n"
     ]
    },
    {
     "name": "stderr",
     "output_type": "stream",
     "text": [
      "\n",
      "100%|██████████████████████████████████████████████████████████████████████████████| 189/189 [06:35<00:00,  2.09s/it]\n"
     ]
    }
   ],
   "source": [
    "#class to fix: options yes, no and rename\n",
    "classtofix_l=[]\n",
    "classtofix_l_catid=[]\n",
    "method=\"save_images\"\n",
    "if method==\"all\": #fix all duplicates\n",
    "    classtofix_l=duplicates_l\n",
    "    classtofix_l_catid=duplicates_l_catid\n",
    "if method==\"view_images\": # view images and select class to fix (INCEPTION =>>>Pufff!!!!)\n",
    "    img_l_id_np=np.array(img_l_id)      \n",
    "    for i, duplicate in enumerate(tqdm(duplicates_l)): #run for each duplicate\n",
    "        print(duplicate+'...') #class\n",
    "        display_imgs(i, duplicates_l_catid, duplicates_l_dset, duplicates_l_imgid, img_l, img_l_id, imgidx=0)\n",
    "        classtofix_l, classtofix_l_catid=save_classtofix(i, classtofix_l, classtofix_l_catid, duplicates_l, duplicates_l_catid, duplicates_l_dset, duplicates_l_imgid, img_l, img_l_id, imgidx=0)\n",
    "if method==\"save_images\": # save images to folder for manual check\n",
    "    datadir=\"duplicates\"\n",
    "    folder=duplicate_method\n",
    "    showimage=False #show images\n",
    "    startidx=0 # start index of image to save from each dataset\n",
    "    imgnr=10 # total number of images to save from each dataset\n",
    "    imgstep='random' # step between images: int | 'random' - int steps between images; 'rand' gets random list\n",
    "    path=os.path.join(rdir,datadir,folder)\n",
    "    assure_path_exists(path)\n",
    "    #TODO\n",
    "    #save excel # TODO Send duplicates_l, duplicates_L_catid, duplicates_l_catdset: user should make column  classtofix_l and classtofix_L_catid - user should create  \n",
    "    df=pd.DataFrame({'duplicates_l': duplicates_l,'duplicates_l_catid': duplicates_l_catid, 'duplicates_l_catdset': duplicates_l_catdset, 'classtofix_l': np.nan, 'classtofix_l_catid':np.nan, 'rules':np.nan })\n",
    "    df.loc[0, 'rules']=\"To fix classes: 1) You need to fill the column classtofix_l and/or classtofix_l_catid with the information from the respective duplicate columns; 2) When copy/pasting or changing, make sure the same structure maintains:  ['car', 'carrot'], [3, 52], beware of the spaces ['car', '  and always maintain the first class in the list;  3) You have 3 possibilities of filling the columns : 1-the 2 columns empty, meaning the row will not be used for classtofix; 2-only one column empty, e.g. fill the classtotix_l row with the class labels from duplicates_l, then during the importing the classtofix_l_catid is filled, and vice-versa; 3-If you want to change the name of the first class in the list,e.g ['car', 'carrot'] for ['automobile', 'carrot'] you need to provide the ids to classtofix_l_catid.\"\n",
    "    excelpath=path+'/'+\"classreport.xlsx\"\n",
    "    df['annotations_missing'] = np.empty((len(df), 0)).tolist()\n",
    "    df['images_missing'] = np.empty((len(df), 0)).tolist()\n",
    "    #save image for each duplicate\n",
    "    for i, duplicate in enumerate(tqdm(duplicates_l)): #run for each duplicate category\n",
    "        minclass=duplicate\n",
    "        if isinstance(minclass, list): minclass=minclass[0]\n",
    "        print('\\n>> '+minclass+'...') #class\n",
    "        classpath=os.path.join(path, minclass) # folder for images of this class\n",
    "        classpath=parse_path(classpath)+'/' #make it a folder\n",
    "        assure_path_exists(classpath)\n",
    "        df=save_imgs(df, classpath, i, dset_l, duplicates_l, duplicates_l_catid, duplicates_l_bbox, duplicates_l_dset, duplicates_l_imgid, img_l, img_l_id, startidx=startidx, imgnr=imgnr, imgstep=imgstep, showimage=showimage)\n",
    "    df.to_excel(excelpath, index=False)   \n",
    "if method==\"view_duplicate\":\n",
    "    i=-1 #duplicate_l index : last category\n",
    "    ii=1 #dset_l index : TAO\n",
    "    step=10 #step images\n",
    "    dpi=80\n",
    "    dataset=dset_l[ii]\n",
    "    category=duplicates_l[i]\n",
    "    view_duplicate(i,ii,dataset,category,step=step,dpi=dpi)"
   ]
  },
  {
   "cell_type": "code",
   "execution_count": 141,
   "metadata": {},
   "outputs": [
    {
     "data": {
      "text/html": [
       "<div>\n",
       "<style scoped>\n",
       "    .dataframe tbody tr th:only-of-type {\n",
       "        vertical-align: middle;\n",
       "    }\n",
       "\n",
       "    .dataframe tbody tr th {\n",
       "        vertical-align: top;\n",
       "    }\n",
       "\n",
       "    .dataframe thead th {\n",
       "        text-align: right;\n",
       "    }\n",
       "</style>\n",
       "<table border=\"1\" class=\"dataframe\">\n",
       "  <thead>\n",
       "    <tr style=\"text-align: right;\">\n",
       "      <th></th>\n",
       "      <th>duplicates_l</th>\n",
       "      <th>duplicates_l_catid</th>\n",
       "      <th>duplicates_l_catdset</th>\n",
       "      <th>classtofix_l</th>\n",
       "      <th>classtofix_l_catid</th>\n",
       "      <th>rules</th>\n",
       "    </tr>\n",
       "  </thead>\n",
       "  <tbody>\n",
       "    <tr>\n",
       "      <th>0</th>\n",
       "      <td>['car', 'carrot', 'birthday_card', 'business_c...</td>\n",
       "      <td>[3, 52, 185, 255, 262, 291, 292, 293, 294, 295...</td>\n",
       "      <td>['COCO', 'COCO', 'TAO', 'TAO', 'TAO', 'TAO', '...</td>\n",
       "      <td>['car', 'carrot']</td>\n",
       "      <td>NaN</td>\n",
       "      <td>1) You need to fill the column classtofix_l an...</td>\n",
       "    </tr>\n",
       "    <tr>\n",
       "      <th>1</th>\n",
       "      <td>['bus', 'bus_(vehicle)', 'business_card', 'sch...</td>\n",
       "      <td>[6, 254, 255, 1016]</td>\n",
       "      <td>['COCO', 'TAO', 'TAO', 'TAO']</td>\n",
       "      <td>NaN</td>\n",
       "      <td>[6, 254, 255, 1016]</td>\n",
       "      <td>NaN</td>\n",
       "    </tr>\n",
       "    <tr>\n",
       "      <th>2</th>\n",
       "      <td>['train', 'bullet_train', 'railcar_(part_of_a_...</td>\n",
       "      <td>[7, 245, 292, 861, 1121, 1215]</td>\n",
       "      <td>['COCO', 'TAO', 'TAO', 'TAO', 'TAO', 'TAO']</td>\n",
       "      <td>NaN</td>\n",
       "      <td>NaN</td>\n",
       "      <td>NaN</td>\n",
       "    </tr>\n",
       "    <tr>\n",
       "      <th>3</th>\n",
       "      <td>['truck', 'garbage_truck', 'pickup_truck', 'to...</td>\n",
       "      <td>[8, 570, 893, 1207, 1214]</td>\n",
       "      <td>['COCO', 'TAO', 'TAO', 'TAO', 'TAO']</td>\n",
       "      <td>['truck', 'garbage_truck', 'pickup_truck', 'to...</td>\n",
       "      <td>[8, 570, 893, 1207, 1214]</td>\n",
       "      <td>NaN</td>\n",
       "    </tr>\n",
       "    <tr>\n",
       "      <th>4</th>\n",
       "      <td>['boat', 'fishing_boat', 'gondola_(boat)', 'gr...</td>\n",
       "      <td>[9, 536, 592, 601, 665, 793, 981]</td>\n",
       "      <td>['COCO', 'TAO', 'TAO', 'TAO', 'TAO', 'TAO', 'T...</td>\n",
       "      <td>NaN</td>\n",
       "      <td>NaN</td>\n",
       "      <td>NaN</td>\n",
       "    </tr>\n",
       "    <tr>\n",
       "      <th>...</th>\n",
       "      <td>...</td>\n",
       "      <td>...</td>\n",
       "      <td>...</td>\n",
       "      <td>...</td>\n",
       "      <td>...</td>\n",
       "      <td>...</td>\n",
       "    </tr>\n",
       "    <tr>\n",
       "      <th>184</th>\n",
       "      <td>['waffle', 'waffle_iron']</td>\n",
       "      <td>[1251, 1252]</td>\n",
       "      <td>['TAO', 'TAO']</td>\n",
       "      <td>NaN</td>\n",
       "      <td>NaN</td>\n",
       "      <td>NaN</td>\n",
       "    </tr>\n",
       "    <tr>\n",
       "      <th>185</th>\n",
       "      <td>['wagon', 'wagon_wheel']</td>\n",
       "      <td>[1253, 1254]</td>\n",
       "      <td>['TAO', 'TAO']</td>\n",
       "      <td>NaN</td>\n",
       "      <td>NaN</td>\n",
       "      <td>NaN</td>\n",
       "    </tr>\n",
       "    <tr>\n",
       "      <th>186</th>\n",
       "      <td>['watch', 'pocket_watch']</td>\n",
       "      <td>[1263, 917]</td>\n",
       "      <td>['TAO', 'TAO']</td>\n",
       "      <td>NaN</td>\n",
       "      <td>NaN</td>\n",
       "      <td>NaN</td>\n",
       "    </tr>\n",
       "    <tr>\n",
       "      <th>187</th>\n",
       "      <td>['wheel', 'Ferris_wheel', 'pinwheel', 'steerin...</td>\n",
       "      <td>[1281, 520, 902, 1108, 1254, 1282]</td>\n",
       "      <td>['TAO', 'TAO', 'TAO', 'TAO', 'TAO', 'TAO']</td>\n",
       "      <td>NaN</td>\n",
       "      <td>NaN</td>\n",
       "      <td>NaN</td>\n",
       "    </tr>\n",
       "    <tr>\n",
       "      <th>188</th>\n",
       "      <td>['yak', 'kayak']</td>\n",
       "      <td>[1306, 691]</td>\n",
       "      <td>['TAO', 'TAO']</td>\n",
       "      <td>NaN</td>\n",
       "      <td>NaN</td>\n",
       "      <td>NaN</td>\n",
       "    </tr>\n",
       "  </tbody>\n",
       "</table>\n",
       "<p>189 rows × 6 columns</p>\n",
       "</div>"
      ],
      "text/plain": [
       "                                          duplicates_l  \\\n",
       "0    ['car', 'carrot', 'birthday_card', 'business_c...   \n",
       "1    ['bus', 'bus_(vehicle)', 'business_card', 'sch...   \n",
       "2    ['train', 'bullet_train', 'railcar_(part_of_a_...   \n",
       "3    ['truck', 'garbage_truck', 'pickup_truck', 'to...   \n",
       "4    ['boat', 'fishing_boat', 'gondola_(boat)', 'gr...   \n",
       "..                                                 ...   \n",
       "184                          ['waffle', 'waffle_iron']   \n",
       "185                           ['wagon', 'wagon_wheel']   \n",
       "186                          ['watch', 'pocket_watch']   \n",
       "187  ['wheel', 'Ferris_wheel', 'pinwheel', 'steerin...   \n",
       "188                                   ['yak', 'kayak']   \n",
       "\n",
       "                                    duplicates_l_catid  \\\n",
       "0    [3, 52, 185, 255, 262, 291, 292, 293, 294, 295...   \n",
       "1                                  [6, 254, 255, 1016]   \n",
       "2                       [7, 245, 292, 861, 1121, 1215]   \n",
       "3                            [8, 570, 893, 1207, 1214]   \n",
       "4                    [9, 536, 592, 601, 665, 793, 981]   \n",
       "..                                                 ...   \n",
       "184                                       [1251, 1252]   \n",
       "185                                       [1253, 1254]   \n",
       "186                                        [1263, 917]   \n",
       "187                 [1281, 520, 902, 1108, 1254, 1282]   \n",
       "188                                        [1306, 691]   \n",
       "\n",
       "                                  duplicates_l_catdset  \\\n",
       "0    ['COCO', 'COCO', 'TAO', 'TAO', 'TAO', 'TAO', '...   \n",
       "1                        ['COCO', 'TAO', 'TAO', 'TAO']   \n",
       "2          ['COCO', 'TAO', 'TAO', 'TAO', 'TAO', 'TAO']   \n",
       "3                 ['COCO', 'TAO', 'TAO', 'TAO', 'TAO']   \n",
       "4    ['COCO', 'TAO', 'TAO', 'TAO', 'TAO', 'TAO', 'T...   \n",
       "..                                                 ...   \n",
       "184                                     ['TAO', 'TAO']   \n",
       "185                                     ['TAO', 'TAO']   \n",
       "186                                     ['TAO', 'TAO']   \n",
       "187         ['TAO', 'TAO', 'TAO', 'TAO', 'TAO', 'TAO']   \n",
       "188                                     ['TAO', 'TAO']   \n",
       "\n",
       "                                          classtofix_l  \\\n",
       "0                                    ['car', 'carrot']   \n",
       "1                                                  NaN   \n",
       "2                                                  NaN   \n",
       "3    ['truck', 'garbage_truck', 'pickup_truck', 'to...   \n",
       "4                                                  NaN   \n",
       "..                                                 ...   \n",
       "184                                                NaN   \n",
       "185                                                NaN   \n",
       "186                                                NaN   \n",
       "187                                                NaN   \n",
       "188                                                NaN   \n",
       "\n",
       "            classtofix_l_catid  \\\n",
       "0                          NaN   \n",
       "1          [6, 254, 255, 1016]   \n",
       "2                          NaN   \n",
       "3    [8, 570, 893, 1207, 1214]   \n",
       "4                          NaN   \n",
       "..                         ...   \n",
       "184                        NaN   \n",
       "185                        NaN   \n",
       "186                        NaN   \n",
       "187                        NaN   \n",
       "188                        NaN   \n",
       "\n",
       "                                                 rules  \n",
       "0    1) You need to fill the column classtofix_l an...  \n",
       "1                                                  NaN  \n",
       "2                                                  NaN  \n",
       "3                                                  NaN  \n",
       "4                                                  NaN  \n",
       "..                                                 ...  \n",
       "184                                                NaN  \n",
       "185                                                NaN  \n",
       "186                                                NaN  \n",
       "187                                                NaN  \n",
       "188                                                NaN  \n",
       "\n",
       "[189 rows x 6 columns]"
      ]
     },
     "metadata": {},
     "output_type": "display_data"
    }
   ],
   "source": [
    "#WARNING: CHECK EXCEL FIRST\n",
    "if method==\"save_images\": # reading classtofix from excel\n",
    "    classtofix_l=[]\n",
    "    classtofix_l_catid=[]\n",
    "    df=pd.read_excel(excelpath)\n",
    "    classtofix_df=df.loc[:,'classtofix_l']\n",
    "    classtofix_df_catid=df.loc[:,'classtofix_l_catid']\n",
    "    display(df)                          "
   ]
  },
  {
   "cell_type": "code",
   "execution_count": 167,
   "metadata": {},
   "outputs": [
    {
     "name": "stdout",
     "output_type": "stream",
     "text": [
      "[nan, '[6, 254, 255, 1016]', nan, '[8, 570, 893, 1207, 1214]', nan, nan, nan, nan, nan, nan, nan, nan, nan, nan, nan, nan, nan, nan, nan, nan, nan, nan, nan, nan, nan, nan, nan, nan, nan, nan, nan, nan, nan, nan, nan, nan, nan, nan, nan, nan, nan, nan, nan, nan, nan, nan, nan, nan, nan, nan, nan, nan, nan, nan, nan, nan, nan, nan, nan, nan, nan, nan, nan, nan, nan, nan, nan, nan, nan, nan, nan, nan, nan, nan, nan, nan, nan, nan, nan, nan, nan, nan, nan, nan, nan, nan, nan, nan, nan, nan, nan, nan, nan, nan, nan, nan, nan, nan, nan, nan, nan, nan, nan, nan, nan, nan, nan, nan, nan, nan, nan, nan, nan, nan, nan, nan, nan, nan, nan, nan, nan, nan, nan, nan, nan, nan, nan, nan, nan, nan, nan, nan, nan, nan, nan, nan, nan, nan, nan, nan, nan, nan, nan, nan, nan, nan, nan, nan, nan, nan, nan, nan, nan, nan, nan, nan, nan, nan, nan, nan, nan, nan, nan, nan, nan, nan, nan, nan, nan, nan, nan, nan, nan, nan, nan, nan, nan, nan, nan, nan, nan, nan, nan, nan, nan, nan, nan, nan, nan]\n",
      "Converting..\n",
      "Converting..\n",
      "trying\n",
      "Converting..\n",
      "Converting..\n",
      "trying\n",
      "[nan, [6, 254, 255, 1016], nan, [8, 570, 893, 1207, 1214], nan, nan, nan, nan, nan, nan, nan, nan, nan, nan, nan, nan, nan, nan, nan, nan, nan, nan, nan, nan, nan, nan, nan, nan, nan, nan, nan, nan, nan, nan, nan, nan, nan, nan, nan, nan, nan, nan, nan, nan, nan, nan, nan, nan, nan, nan, nan, nan, nan, nan, nan, nan, nan, nan, nan, nan, nan, nan, nan, nan, nan, nan, nan, nan, nan, nan, nan, nan, nan, nan, nan, nan, nan, nan, nan, nan, nan, nan, nan, nan, nan, nan, nan, nan, nan, nan, nan, nan, nan, nan, nan, nan, nan, nan, nan, nan, nan, nan, nan, nan, nan, nan, nan, nan, nan, nan, nan, nan, nan, nan, nan, nan, nan, nan, nan, nan, nan, nan, nan, nan, nan, nan, nan, nan, nan, nan, nan, nan, nan, nan, nan, nan, nan, nan, nan, nan, nan, nan, nan, nan, nan, nan, nan, nan, nan, nan, nan, nan, nan, nan, nan, nan, nan, nan, nan, nan, nan, nan, nan, nan, nan, nan, nan, nan, nan, nan, nan, nan, nan, nan, nan, nan, nan, nan, nan, nan, nan, nan, nan, nan, nan, nan, nan, nan, nan]\n",
      "Converting..\n",
      "[[3, 52], [6, 254, 255, 1016], nan, [8, 570, 893, 1207, 1214], nan, nan, nan, nan, nan, nan, nan, nan, nan, nan, nan, nan, nan, nan, nan, nan, nan, nan, nan, nan, nan, nan, nan, nan, nan, nan, nan, nan, nan, nan, nan, nan, nan, nan, nan, nan, nan, nan, nan, nan, nan, nan, nan, nan, nan, nan, nan, nan, nan, nan, nan, nan, nan, nan, nan, nan, nan, nan, nan, nan, nan, nan, nan, nan, nan, nan, nan, nan, nan, nan, nan, nan, nan, nan, nan, nan, nan, nan, nan, nan, nan, nan, nan, nan, nan, nan, nan, nan, nan, nan, nan, nan, nan, nan, nan, nan, nan, nan, nan, nan, nan, nan, nan, nan, nan, nan, nan, nan, nan, nan, nan, nan, nan, nan, nan, nan, nan, nan, nan, nan, nan, nan, nan, nan, nan, nan, nan, nan, nan, nan, nan, nan, nan, nan, nan, nan, nan, nan, nan, nan, nan, nan, nan, nan, nan, nan, nan, nan, nan, nan, nan, nan, nan, nan, nan, nan, nan, nan, nan, nan, nan, nan, nan, nan, nan, nan, nan, nan, nan, nan, nan, nan, nan, nan, nan, nan, nan, nan, nan, nan, nan, nan, nan, nan, nan]\n"
     ]
    }
   ],
   "source": [
    "classtofix_l=classtofix_df.tolist()\n",
    "classtofix_l_catid=classtofix_df_catid.tolist()\n",
    "print(classtofix_l_catid)\n",
    "#convert strings to lists\n",
    "for icl, cl in enumerate(classtofix_l): \n",
    "    if isinstance(classtofix_l[icl], str): classtofix_l[icl]=convert_unicode(classtofix_l[icl], method='liststr')\n",
    "    if isinstance(classtofix_l_catid[icl], str): classtofix_l_catid[icl]=convert_unicode(classtofix_l_catid[icl], method='listnum')\n",
    "print(classtofix_l_catid)\n",
    "#parse the columns based on the rules    \n",
    "for ic, classes in enumerate(classtofix_df):\n",
    "    #1. Two columns empty - do nothing, maintain\n",
    "    if  pd.isnull(classtofix_df.iloc[ic]) and pd.isnull(classtofix_df_catid.iloc[ic]): continue\n",
    "    #2. if only classtofix_l_catid empty - get \n",
    "    if not pd.isnull(classtofix_df.iloc[ic]) and pd.isnull(classtofix_df_catid.iloc[ic]):\n",
    "        classes=convert_unicode(classes, method='liststr')\n",
    "        cids=[]\n",
    "        for c in classes:\n",
    "            cidx=duplicates_l[ic].index(c)\n",
    "            cid=duplicates_l_catid[ic][cidx]\n",
    "            cids.append(cid)\n",
    "        classtofix_l_catid[ic]=cids\n",
    "        print(classtofix_l_catid)\n",
    "    #2. if only classtofix_l empty - get\n",
    "    if pd.isnull(classtofix_df.iloc[ic]) and not pd.isnull(classtofix_df_catid.iloc[ic]): \n",
    "        classes=[]\n",
    "        cids=classtofix_l_catid[ic]\n",
    "        for c in cids:\n",
    "            cidx=duplicates_l_catid[ic].index(c)\n",
    "            clas=duplicates_l[ic][cidx]\n",
    "            classes.append(clas)\n",
    "        classtofix_l[ic]=classes\n",
    "    #3. if both columns not empty - do nothing\n",
    "    if not pd.isnull(classtofix_df.iloc[ic]) and not pd.isnull(classtofix_df_catid.iloc[ic]): continue\n",
    "        \n"
   ]
  },
  {
   "cell_type": "code",
   "execution_count": 150,
   "metadata": {},
   "outputs": [
    {
     "name": "stdout",
     "output_type": "stream",
     "text": [
      "> \u001b[1;32m<ipython-input-149-fab8d54ecbd1>\u001b[0m(24)\u001b[0;36m<module>\u001b[1;34m()\u001b[0m\n",
      "\u001b[1;32m     22 \u001b[1;33m        \u001b[0mclasses\u001b[0m\u001b[1;33m=\u001b[0m\u001b[1;33m[\u001b[0m\u001b[1;33m]\u001b[0m\u001b[1;33m\u001b[0m\u001b[1;33m\u001b[0m\u001b[0m\n",
      "\u001b[0m\u001b[1;32m     23 \u001b[1;33m        \u001b[0mcids\u001b[0m\u001b[1;33m=\u001b[0m\u001b[0mclasstofix_l_catid\u001b[0m\u001b[1;33m[\u001b[0m\u001b[0mic\u001b[0m\u001b[1;33m]\u001b[0m\u001b[1;33m\u001b[0m\u001b[1;33m\u001b[0m\u001b[0m\n",
      "\u001b[0m\u001b[1;32m---> 24 \u001b[1;33m        \u001b[1;32mfor\u001b[0m \u001b[0mc\u001b[0m \u001b[1;32min\u001b[0m \u001b[0mcids\u001b[0m\u001b[1;33m:\u001b[0m\u001b[1;33m\u001b[0m\u001b[1;33m\u001b[0m\u001b[0m\n",
      "\u001b[0m\u001b[1;32m     25 \u001b[1;33m            \u001b[0mcidx\u001b[0m\u001b[1;33m=\u001b[0m\u001b[0mduplicates_l_catid\u001b[0m\u001b[1;33m[\u001b[0m\u001b[0mic\u001b[0m\u001b[1;33m]\u001b[0m\u001b[1;33m.\u001b[0m\u001b[0mindex\u001b[0m\u001b[1;33m(\u001b[0m\u001b[0mc\u001b[0m\u001b[1;33m)\u001b[0m\u001b[1;33m\u001b[0m\u001b[1;33m\u001b[0m\u001b[0m\n",
      "\u001b[0m\u001b[1;32m     26 \u001b[1;33m            \u001b[0mclas\u001b[0m\u001b[1;33m=\u001b[0m\u001b[0mduplicates_l\u001b[0m\u001b[1;33m[\u001b[0m\u001b[0mic\u001b[0m\u001b[1;33m]\u001b[0m\u001b[1;33m[\u001b[0m\u001b[0mcidx\u001b[0m\u001b[1;33m]\u001b[0m\u001b[1;33m\u001b[0m\u001b[1;33m\u001b[0m\u001b[0m\n",
      "\u001b[0m\n"
     ]
    },
    {
     "name": "stdin",
     "output_type": "stream",
     "text": [
      "ipdb>  classtofix_l_catid\n"
     ]
    },
    {
     "name": "stdout",
     "output_type": "stream",
     "text": [
      "[[3, 52], None, nan, None, nan, nan, nan, nan, nan, nan, nan, nan, nan, nan, nan, nan, nan, nan, nan, nan, nan, nan, nan, nan, nan, nan, nan, nan, nan, nan, nan, nan, nan, nan, nan, nan, nan, nan, nan, nan, nan, nan, nan, nan, nan, nan, nan, nan, nan, nan, nan, nan, nan, nan, nan, nan, nan, nan, nan, nan, nan, nan, nan, nan, nan, nan, nan, nan, nan, nan, nan, nan, nan, nan, nan, nan, nan, nan, nan, nan, nan, nan, nan, nan, nan, nan, nan, nan, nan, nan, nan, nan, nan, nan, nan, nan, nan, nan, nan, nan, nan, nan, nan, nan, nan, nan, nan, nan, nan, nan, nan, nan, nan, nan, nan, nan, nan, nan, nan, nan, nan, nan, nan, nan, nan, nan, nan, nan, nan, nan, nan, nan, nan, nan, nan, nan, nan, nan, nan, nan, nan, nan, nan, nan, nan, nan, nan, nan, nan, nan, nan, nan, nan, nan, nan, nan, nan, nan, nan, nan, nan, nan, nan, nan, nan, nan, nan, nan, nan, nan, nan, nan, nan, nan, nan, nan, nan, nan, nan, nan, nan, nan, nan, nan, nan, nan, nan, nan, nan]\n"
     ]
    },
    {
     "name": "stdin",
     "output_type": "stream",
     "text": [
      "ipdb>  quit\n"
     ]
    }
   ],
   "source": [
    "%debug\n"
   ]
  },
  {
   "cell_type": "code",
   "execution_count": 169,
   "metadata": {},
   "outputs": [
    {
     "name": "stdout",
     "output_type": "stream",
     "text": [
      ">> Make sure everything is correct: 1.Drop NaN if exist, but make sure the index is the same for the two! \n",
      "\n",
      "[['car', 'carrot'], ['bus', 'bus_(vehicle)', 'business_card', 'school_bus'], ['truck', 'garbage_truck', 'pickup_truck', 'tow_truck', 'trailer_truck']]\n",
      "[[3, 52], [6, 254, 255, 1016], [8, 570, 893, 1207, 1214]]\n"
     ]
    }
   ],
   "source": [
    "print('>> Make sure everything is correct: 1.Drop NaN if exist, but make sure the index is the same for the two! \\n')\n",
    "fixempty=True\n",
    "if fixempty:\n",
    "    classtofix_l=[x for x in classtofix_l if str(x) != 'nan' and str(x) !='[]']\n",
    "    classtofix_l_catid=[x for x in classtofix_l_catid if str(x) != 'nan' and str(x) !='[]']\n",
    "print(classtofix_l)\n",
    "print(classtofix_l_catid)"
   ]
  },
  {
   "cell_type": "markdown",
   "metadata": {},
   "source": [
    "### 3. Fix classes\n",
    "\n"
   ]
  },
  {
   "cell_type": "code",
   "execution_count": 18,
   "metadata": {},
   "outputs": [],
   "source": [
    "newjson=copy.deepcopy(mlabjson) #do deepcopy to compare"
   ]
  },
  {
   "cell_type": "code",
   "execution_count": 135,
   "metadata": {},
   "outputs": [
    {
     "name": "stdout",
     "output_type": "stream",
     "text": [
      "1\n"
     ]
    }
   ],
   "source": [
    "classtofix_l_catidx=[[cat_l_id.index(id) for id in id_l] for id_l in classtofix_l_catid]\n",
    "#print(classtofix_l_catidx) # they should be less one, becacuse it is ordered\n",
    "print(len(classtofix_l_catidx))"
   ]
  },
  {
   "cell_type": "markdown",
   "metadata": {},
   "source": [
    "#### Change mlabjson['categories']: [{name: , id: }]  \n",
    "=>  use min cat id and remove the other categories (!!!Without ordering again the category id!!!)"
   ]
  },
  {
   "cell_type": "code",
   "execution_count": 24,
   "metadata": {},
   "outputs": [
    {
     "name": "stderr",
     "output_type": "stream",
     "text": [
      "100%|██████████████████████████████████████████████████████████████████████████| 189/189 [00:00<00:00, 94630.95it/s]\n"
     ]
    }
   ],
   "source": [
    "removeidx_l=[]\n",
    "for i,id_l in enumerate(tqdm(classtofix_l_catid)): #for each classtofix\n",
    "    minidx=0 # get first cat: minimum in equal names and the category used to search in similar_names\n",
    "    minid=id_l[minidx] # #category id \n",
    "    catidx=classtofix_l_catidx[i][minidx]# get cat index of min catid\n",
    "    newjson['categories'][catidx]['name']=classtofix_l[i] #change name of min id (if changed)\n",
    "    assert newjson['categories'][catidx]['id']==id_l[minidx] #assert id - it should be the same\n",
    "    otheridx_l=copy.copy(classtofix_l_catidx[i]) #the idx to remove\n",
    "    otheridx_l.remove(catidx)\n",
    "    removeidx_l.extend(otheridx_l) #remove index\n",
    "removeidx_l=list(dict.fromkeys(removeidx_l)) # no duplicates"
   ]
  },
  {
   "cell_type": "code",
   "execution_count": 26,
   "metadata": {},
   "outputs": [],
   "source": [
    "#REMOVE - Newjson will be changed\n",
    "removeitem_l=[newjson['categories'][removeidx] for removeidx in removeidx_l] #items to remove\n",
    "for removeitem in removeitem_l: newjson['categories'].remove(removeitem) "
   ]
  },
  {
   "cell_type": "code",
   "execution_count": 27,
   "metadata": {},
   "outputs": [
    {
     "name": "stdout",
     "output_type": "stream",
     "text": [
      "{'supercategory': 'outdoor', 'id': 14, 'name': 'bench', 'dataset': 1}\n",
      "{'supercategory': 'animal', 'id': 15, 'name': ['bird', 'birdfeeder', 'birdbath', 'birdcage', 'birdhouse', 'hummingbird', 'seabird', 'turkey_(bird)'], 'dataset': 1}\n",
      "{'frequency': 'f', 'id': 171, 'synset': 'bench.n.01', 'image_count': 93, 'instance_count': 160, 'synonyms': ['bench'], 'def': 'a long seat for more than one person', 'name': 'bench', 'dataset': 2}\n",
      "{'frequency': 'c', 'id': 257, 'synset': 'butter.n.01', 'image_count': 11, 'instance_count': 26, 'synonyms': ['butter'], 'def': 'an edible emulsion of fat globules made by churning milk or cream; for cooking and table use', 'name': ['butter', 'butterfly', 'peanut_butter'], 'dataset': 2}\n"
     ]
    }
   ],
   "source": [
    "#TEST\n",
    "print(mlabjson['categories'][13])\n",
    "print(newjson['categories'][13])\n",
    "print(mlabjson['categories'][170])\n",
    "print(newjson['categories'][170])"
   ]
  },
  {
   "cell_type": "markdown",
   "metadata": {},
   "source": [
    "#### change mlabjson['annotations']: [{category_id: , }] \n",
    "=> remove_catid_l to annidx_l"
   ]
  },
  {
   "cell_type": "code",
   "execution_count": 28,
   "metadata": {},
   "outputs": [
    {
     "name": "stdout",
     "output_type": "stream",
     "text": [
      "189\n",
      "2\n",
      "45799\n",
      "2584\n",
      "10768\n"
     ]
    }
   ],
   "source": [
    "ann_catid_np=np.array(ann_catid)\n",
    "classtofix_l_ann_catidx=[[np.where(ann_catid_np==id)[0].tolist()  for id in id_l] for id_l in classtofix_l_catid]\n",
    "print(len(classtofix_l_ann_catidx))\n",
    "print(classtofix_l_catidx[0][0])\n",
    "print(len(classtofix_l_ann_catidx[0][0]))\n",
    "print((classtofix_l_ann_catidx[0][0][0]))#to maintain same id\n",
    "print((classtofix_l_ann_catidx[0][1][0]))#to change same id"
   ]
  },
  {
   "cell_type": "code",
   "execution_count": 29,
   "metadata": {},
   "outputs": [],
   "source": [
    "for i,id_l in enumerate(classtofix_l_catid): #for each classtofix\n",
    "    minidx=0 # get first catid min\n",
    "    minid=id_l[minidx]\n",
    "    ann_catidx= classtofix_l_ann_catidx[i][minidx]# get annotation cat index of min catid\n",
    "    ann_otheridx_l=copy.copy(classtofix_l_ann_catidx[i])\n",
    "    ann_otheridx_l.remove(ann_catidx) #the idx to change\n",
    "    for ann_otheridx in ann_otheridx_l[0]: newjson['annotations'][ann_otheridx]['category_id']=minid\n",
    "        "
   ]
  },
  {
   "cell_type": "code",
   "execution_count": 30,
   "metadata": {},
   "outputs": [
    {
     "name": "stdout",
     "output_type": "stream",
     "text": [
      "{'segmentation': [[20.95, 105.11, 20.95, 87.58, 8.43, 80.69, 8.43, 75.06, 38.48, 74.43, 40.35, 66.92, 32.22, 63.79, 39.1, 35.62, 135.51, 37.5, 130.5, 65.04, 128.0, 70.05, 124.87, 108.86, 119.86, 102.6, 119.23, 86.95, 111.72, 86.95, 106.08, 107.61, 104.83, 107.61, 98.57, 90.71, 77.91, 86.33, 64.77, 86.33, 55.38, 90.08, 45.99, 100.73, 45.36, 109.49, 41.61, 110.12, 40.35, 97.6, 35.97, 89.46, 29.71, 86.95, 24.7, 93.84, 24.7, 105.73]], 'area': 5697.957150000001, 'iscrowd': 0, 'image_id': 26929, 'bbox': [8.43, 35.62, 127.08, 74.5], 'category_id': 14, 'id': 8876, 'dataset': 1}\n",
      "{'segmentation': [[20.95, 105.11, 20.95, 87.58, 8.43, 80.69, 8.43, 75.06, 38.48, 74.43, 40.35, 66.92, 32.22, 63.79, 39.1, 35.62, 135.51, 37.5, 130.5, 65.04, 128.0, 70.05, 124.87, 108.86, 119.86, 102.6, 119.23, 86.95, 111.72, 86.95, 106.08, 107.61, 104.83, 107.61, 98.57, 90.71, 77.91, 86.33, 64.77, 86.33, 55.38, 90.08, 45.99, 100.73, 45.36, 109.49, 41.61, 110.12, 40.35, 97.6, 35.97, 89.46, 29.71, 86.95, 24.7, 93.84, 24.7, 105.73]], 'area': 5697.957150000001, 'iscrowd': 0, 'image_id': 26929, 'bbox': [8.43, 35.62, 127.08, 74.5], 'category_id': 14, 'id': 8876, 'dataset': 1}\n",
      "{'image_id': 77836, 'id': 1174301, 'caption': 'There is a lawnmower loaded into a pickup truck', 'dataset': 1}\n",
      "{'image_id': 77836, 'id': 1174301, 'caption': 'There is a lawnmower loaded into a pickup truck', 'dataset': 1}\n"
     ]
    }
   ],
   "source": [
    "#TEST\n",
    "print(mlabjson['annotations'][8875])\n",
    "print(newjson['annotations'][8875])\n",
    "print(mlabjson['annotations'][1174300])\n",
    "print(newjson['annotations'][1174300])"
   ]
  },
  {
   "cell_type": "markdown",
   "metadata": {},
   "source": [
    "### 4. Save fixed json"
   ]
  },
  {
   "cell_type": "code",
   "execution_count": null,
   "metadata": {},
   "outputs": [],
   "source": [
    "# save\n",
    "print('\\n >> SAVING...')\n",
    "jsonfile=rdir+'mlabfixed.json'\n",
    "with open(jsonfile, 'w') as f:\n",
    "    json.dump(newjson, f)\n",
    "print(\"JSON SAVED : {} \\n\".format(jsonfile))"
   ]
  },
  {
   "cell_type": "markdown",
   "metadata": {},
   "source": [
    "# BUG: Why image without category?"
   ]
  },
  {
   "cell_type": "markdown",
   "metadata": {},
   "source": [
    "## Verificação das anotações no TAO\n",
    "#NOTE: https://github.com/TAO-Dataset/tao/blob/master/docs/faqs.md\n",
    "Why does the training set only contain 216 LVIS categories?\n",
    "\n",
    "TAO contains a total of 482 LVIS categories. However, not all categories are present in the train, val, and test sets. Instead, we encourage researchers to train detectors on the LVIS v0.5 dataset, which contains a superset of the 482 categories, and trackers on existing single-object tracking datasets. TAO is primarily a benchmark dataset, but we provide a small set of training videos for tuning trackers."
   ]
  },
  {
   "cell_type": "code",
   "execution_count": null,
   "metadata": {},
   "outputs": [],
   "source": [
    "#mlab.json\n",
    "cat_id_TAO=[]\n",
    "for an in tqdm(mlabjson['annotations']):\n",
    "    if an['dataset']==2 : cat_id_TAO.append(an['category_id'])\n",
    "\n",
    "cat_id_TAO=list( dict.fromkeys(cat_id_TAO) )\n",
    "cat_id_TAO.sort()\n",
    "\n",
    "cat_l_idx= [cat_names_l_id.index(cat_id) for cat_id in cat_id_TAO]\n",
    "cat_l=[cat_names_l[i] for i in cat_l_idx]\n",
    "print(len(cat_id_TAO))\n",
    "print(cat_l) #"
   ]
  },
  {
   "cell_type": "code",
   "execution_count": null,
   "metadata": {},
   "outputs": [],
   "source": [
    "#val.json https://github.com/TAO-Dataset/annotations\n",
    "taojson =  json.load(open(rdir+'TAO/TAO_DIR/annotations/val.json'))\n",
    "cat_names_l_tao=[]\n",
    "cat_names_l_id_tao=[]\n",
    "for t in taojson['categories']:\n",
    "    cat_names_l_tao.append(t['name'])\n",
    "    cat_names_l_id_tao.append(t['id'])\n",
    "print(len(cat_names_l_tao))\n",
    "\n",
    "cat_id_TAO=[]\n",
    "for an in tqdm(taojson['annotations']):\n",
    "    cat_id_TAO.append(an['category_id'])\n",
    "\n",
    "cat_id_TAO=list( dict.fromkeys(cat_id_TAO) )\n",
    "cat_id_TAO.sort()\n",
    "\n",
    "cat_l_idx= [cat_names_l_id_tao.index(cat_id) for cat_id in cat_id_TAO]\n",
    "cat_l=[cat_names_l_tao[i] for i in cat_l_idx]\n",
    "print(len(cat_id_TAO))\n",
    "print(cat_l) #"
   ]
  },
  {
   "cell_type": "code",
   "execution_count": null,
   "metadata": {},
   "outputs": [],
   "source": [
    "#train.json https://github.com/TAO-Dataset/annotations\n",
    "taojson =  json.load(open(rdir+'TAO/TAO_DIR/annotations/train.json'))\n",
    "cat_names_l_tao=[]\n",
    "cat_names_l_id_tao=[]\n",
    "for t in taojson['categories']:\n",
    "    cat_names_l_tao.append(t['name'])\n",
    "    cat_names_l_id_tao.append(t['id'])\n",
    "print(len(cat_names_l_tao))\n",
    "\n",
    "cat_id_TAO=[]\n",
    "for an in tqdm(taojson['annotations']):\n",
    "    cat_id_TAO.append(an['category_id'])\n",
    "\n",
    "cat_id_TAO=list( dict.fromkeys(cat_id_TAO) )\n",
    "cat_id_TAO.sort()\n",
    "\n",
    "cat_l_idx= [cat_names_l_id_tao.index(cat_id) for cat_id in cat_id_TAO]\n",
    "cat_l=[cat_names_l_tao[i] for i in cat_l_idx]\n",
    "print(len(cat_id_TAO))\n",
    "print(cat_l) #"
   ]
  }
 ],
 "metadata": {
  "kernelspec": {
   "display_name": "Python 3",
   "language": "python",
   "name": "python3"
  },
  "language_info": {
   "codemirror_mode": {
    "name": "ipython",
    "version": 3
   },
   "file_extension": ".py",
   "mimetype": "text/x-python",
   "name": "python",
   "nbconvert_exporter": "python",
   "pygments_lexer": "ipython3",
   "version": "3.8.3"
  }
 },
 "nbformat": 4,
 "nbformat_minor": 4
}
