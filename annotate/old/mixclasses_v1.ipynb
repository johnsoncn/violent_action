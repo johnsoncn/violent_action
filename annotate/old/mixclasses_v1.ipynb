{
 "cells": [
  {
   "cell_type": "markdown",
   "metadata": {},
   "source": [
    "# Mix Classes=Categories\n",
    "version: 1\n",
    "\n",
    "info: \n",
    "- mix/fusion of classes into other classes\n",
    "\n",
    "author: nuno costa"
   ]
  },
  {
   "cell_type": "code",
   "execution_count": 1,
   "metadata": {},
   "outputs": [
    {
     "name": "stdout",
     "output_type": "stream",
     "text": [
      "OS: Windows-10-10.0.20241-SP0\n",
      "root dir: D:/external_datasets/\n"
     ]
    }
   ],
   "source": [
    "from annotate_v5 import *\n",
    "import platform \n",
    "import numpy as np\n",
    "import pandas as pd\n",
    "from IPython.display import Image, display\n",
    "import copy\n",
    "import os\n",
    "from shutil import copyfile\n",
    "import matplotlib.pyplot as plt\n",
    "from matplotlib.image import imread\n",
    "from matplotlib.patches import Rectangle\n",
    "import random\n",
    "\n",
    "#Define root dir dependent on OS\n",
    "rdir='D:/external_datasets/' \n",
    "if str(platform.platform()).find('linux')>-1: rdir='/mnt/d/external_datasets/' \n",
    "print('OS: {}'.format(platform.platform()))\n",
    "print('root dir: {}'.format(rdir))"
   ]
  },
  {
   "cell_type": "code",
   "execution_count": 2,
   "metadata": {},
   "outputs": [],
   "source": [
    "mlabjson =  json.load(open(rdir+'mlab_fix_equal.json'))"
   ]
  },
  {
   "cell_type": "code",
   "execution_count": 3,
   "metadata": {},
   "outputs": [
    {
     "name": "stdout",
     "output_type": "stream",
     "text": [
      "info 5\n",
      "licenses 9\n",
      "categories 1261\n",
      "videos 1488\n",
      "images 177936\n",
      "tracks 8132\n",
      "segment_info 0\n",
      "annotations 1338002\n",
      "datasets 2\n"
     ]
    }
   ],
   "source": [
    "for k in mlabjson:\n",
    "    print(k, len(mlabjson[k]))"
   ]
  },
  {
   "cell_type": "markdown",
   "metadata": {},
   "source": [
    "## 1. Import ids\n",
    "#### #NOTE: work with ids and index so you can use numpy for faster operations"
   ]
  },
  {
   "cell_type": "code",
   "execution_count": 47,
   "metadata": {},
   "outputs": [
    {
     "name": "stdout",
     "output_type": "stream",
     "text": [
      "['COCO', 'TAO'] [1, 2]\n"
     ]
    }
   ],
   "source": [
    "# datasets name and id\n",
    "dset_l=[]\n",
    "dset_l_id=[]\n",
    "for d in mlabjson['datasets']:\n",
    "    dset_l.append(d['name'])\n",
    "    dset_l_id.append(d['id'])\n",
    "print(dset_l, dset_l_id)"
   ]
  },
  {
   "cell_type": "code",
   "execution_count": 48,
   "metadata": {},
   "outputs": [],
   "source": [
    "# categories name and id\n",
    "cat_l=[]\n",
    "cat_l_id=[]\n",
    "cat_l_dset=[]\n",
    "for c in mlabjson['categories']:\n",
    "    cat_l.append(c['name'])\n",
    "    cat_l_id.append(c['id'])\n",
    "    cat_l_dset.append(dset_l[c['dataset']-1]) # dset_l index is same as id-1\n",
    "#print(cat_l_id)"
   ]
  },
  {
   "cell_type": "code",
   "execution_count": 49,
   "metadata": {},
   "outputs": [],
   "source": [
    "# images filepath and id\n",
    "img_l=[]\n",
    "img_l_id=[]\n",
    "for c in mlabjson['images']:\n",
    "    img_l.append(c['file_name'])\n",
    "    img_l_id.append(c['id'])"
   ]
  },
  {
   "cell_type": "code",
   "execution_count": 50,
   "metadata": {},
   "outputs": [
    {
     "name": "stderr",
     "output_type": "stream",
     "text": [
      "100%|█████████████████████████████████████████████████████████████████| 1338002/1338002 [00:03<00:00, 443120.17it/s]\n"
     ]
    }
   ],
   "source": [
    "# annotations category_id, image_id, bbox, and dataset\n",
    "ann_catid=[]\n",
    "ann_imgid=[]\n",
    "ann_bbox=[]\n",
    "ann_dset=[]\n",
    "for an in tqdm(mlabjson['annotations']):\n",
    "    ann_catid.append(an['category_id'])\n",
    "    ann_imgid.append(an['image_id'])\n",
    "    ann_bbox.append(an['bbox'])\n",
    "    ann_dset.append(an['dataset'])"
   ]
  },
  {
   "cell_type": "markdown",
   "metadata": {},
   "source": [
    "## 2. Find mixers cat_ids\n",
    "mixers example\n",
    "categories= [{name:cow, id:1, dataset:1},...,{name:cow, id:200, dataset:2},...,{name:cow, id:101, dataset:3}]}"
   ]
  },
  {
   "cell_type": "code",
   "execution_count": 51,
   "metadata": {},
   "outputs": [
    {
     "name": "stdout",
     "output_type": "stream",
     "text": [
      "['person', 'bicycle', 'car', 'motorcycle', 'airplane']\n",
      "[[1], [2], [3], [4], [5]]\n",
      "[['COCO'], ['COCO'], ['COCO'], ['COCO'], ['COCO']]\n",
      "1261\n",
      "1261\n",
      "1261\n"
     ]
    }
   ],
   "source": [
    "#mixers #TODO: SORT alphabetically\n",
    "mixers_l=[]\n",
    "mixers_l_catid=[]\n",
    "mixers_l_catdset=[]\n",
    "mixer_method=\"all_names\"\n",
    "if mixer_method==\"all_names\": #Do for all category names, even with equal \n",
    "    mixers_l=cat_l\n",
    "    mixers_l_catid=[[id] for id in cat_l_id]\n",
    "    mixers_l_catdset=[[dset] for dset in cat_l_dset]\n",
    "    \n",
    "\n",
    "print(mixers_l[0:5])\n",
    "print(mixers_l_catid[0:5])\n",
    "print(mixers_l_catdset[0:5])\n",
    "print(len(mixers_l))\n",
    "print(len(mixers_l_catid))\n",
    "print(len(mixers_l_catdset))"
   ]
  },
  {
   "cell_type": "code",
   "execution_count": 52,
   "metadata": {},
   "outputs": [
    {
     "name": "stderr",
     "output_type": "stream",
     "text": [
      "100%|███████████████████████████████████████████████████████████████████████████| 1261/1261 [00:13<00:00, 96.90it/s]\n"
     ]
    }
   ],
   "source": [
    "# get annotations mixers\n",
    "ann_catid_np=np.array(ann_catid)\n",
    "ann_imgid_np=np.array(ann_imgid)\n",
    "ann_bbox_np=np.array(ann_bbox)\n",
    "ann_dset_np=np.array(ann_dset)\n",
    "mixers_l_imgid=[]\n",
    "mixers_l_bbox=[]\n",
    "mixers_l_dset=[]\n",
    "for catids in tqdm(mixers_l_catid):\n",
    "    l_imgid=[]\n",
    "    l_bbox=[]\n",
    "    l_dset=[]\n",
    "    for catid in catids:\n",
    "        ann_idx = np.where(ann_catid_np==catid)[0].tolist() #annotation index of ids\n",
    "        l_imgid.append(ann_imgid_np[ann_idx].tolist())\n",
    "        l_bbox.append(ann_bbox_np[ann_idx].tolist())\n",
    "        l_dset.append(ann_dset_np[ann_idx].tolist())\n",
    "    mixers_l_imgid.append(l_imgid)\n",
    "    mixers_l_bbox.append(l_bbox)\n",
    "    mixers_l_dset.append(l_dset)"
   ]
  },
  {
   "cell_type": "markdown",
   "metadata": {},
   "source": [
    "## 3. Classes|categories to fix w/ EXCEL report"
   ]
  },
  {
   "cell_type": "code",
   "execution_count": 53,
   "metadata": {
    "collapsed": true,
    "jupyter": {
     "outputs_hidden": true
    }
   },
   "outputs": [
    {
     "name": "stderr",
     "output_type": "stream",
     "text": [
      "  0%|                                                                                      | 0/1261 [00:00<?, ?it/s]"
     ]
    },
    {
     "name": "stdout",
     "output_type": "stream",
     "text": [
      "\n",
      ">> person...\n",
      "COCO\n"
     ]
    },
    {
     "name": "stderr",
     "output_type": "stream",
     "text": [
      "\n",
      ">>> Finding COCO person...:   0%|                                                        | 0/546938 [00:00<?, ?it/s]\u001b[A\n",
      "  0%|                                                                              | 1/1261 [00:00<14:32,  1.44it/s]"
     ]
    },
    {
     "name": "stdout",
     "output_type": "stream",
     "text": [
      "[Errno 2] No such file or directory: 'D:/external_datasets/COCO/2017/images/val2017/000000037689.jpg'\n",
      "\n",
      ">> bicycle...\n",
      "COCO\n"
     ]
    },
    {
     "name": "stderr",
     "output_type": "stream",
     "text": [
      "  0%|                                                                              | 2/1261 [00:01<13:52,  1.51it/s]"
     ]
    },
    {
     "name": "stdout",
     "output_type": "stream",
     "text": [
      "\n",
      ">> car...\n",
      "COCO\n"
     ]
    },
    {
     "name": "stderr",
     "output_type": "stream",
     "text": [
      "  0%|▏                                                                             | 3/1261 [00:01<13:15,  1.58it/s]"
     ]
    },
    {
     "name": "stdout",
     "output_type": "stream",
     "text": [
      "\n",
      ">> motorcycle...\n",
      "COCO\n"
     ]
    },
    {
     "name": "stderr",
     "output_type": "stream",
     "text": [
      "  0%|▏                                                                             | 4/1261 [00:02<13:21,  1.57it/s]"
     ]
    },
    {
     "name": "stdout",
     "output_type": "stream",
     "text": [
      "\n",
      ">> airplane...\n",
      "COCO\n"
     ]
    },
    {
     "name": "stderr",
     "output_type": "stream",
     "text": [
      "  0%|▎                                                                             | 5/1261 [00:02<12:22,  1.69it/s]"
     ]
    },
    {
     "name": "stdout",
     "output_type": "stream",
     "text": [
      "\n",
      ">> bus...\n",
      "COCO\n"
     ]
    },
    {
     "name": "stderr",
     "output_type": "stream",
     "text": [
      "  0%|▎                                                                             | 6/1261 [00:03<12:04,  1.73it/s]"
     ]
    },
    {
     "name": "stdout",
     "output_type": "stream",
     "text": [
      "\n",
      ">> train...\n",
      "COCO\n"
     ]
    },
    {
     "name": "stderr",
     "output_type": "stream",
     "text": [
      "  1%|▍                                                                             | 7/1261 [00:04<11:59,  1.74it/s]"
     ]
    },
    {
     "name": "stdout",
     "output_type": "stream",
     "text": [
      "\n",
      ">> truck...\n",
      "COCO\n"
     ]
    },
    {
     "name": "stderr",
     "output_type": "stream",
     "text": [
      "  1%|▍                                                                             | 8/1261 [00:04<11:28,  1.82it/s]"
     ]
    },
    {
     "name": "stdout",
     "output_type": "stream",
     "text": [
      "\n",
      ">> boat...\n",
      "COCO\n"
     ]
    },
    {
     "name": "stderr",
     "output_type": "stream",
     "text": [
      "  1%|▌                                                                             | 9/1261 [00:05<11:26,  1.82it/s]"
     ]
    },
    {
     "name": "stdout",
     "output_type": "stream",
     "text": [
      "\n",
      ">> traffic light...\n",
      "COCO\n"
     ]
    },
    {
     "name": "stderr",
     "output_type": "stream",
     "text": [
      "  1%|▌                                                                            | 10/1261 [00:05<11:13,  1.86it/s]"
     ]
    },
    {
     "name": "stdout",
     "output_type": "stream",
     "text": [
      "\n",
      ">> fire hydrant...\n",
      "COCO\n"
     ]
    },
    {
     "name": "stderr",
     "output_type": "stream",
     "text": [
      "  1%|▋                                                                            | 11/1261 [00:06<11:26,  1.82it/s]"
     ]
    },
    {
     "name": "stdout",
     "output_type": "stream",
     "text": [
      "\n",
      ">> stop sign...\n",
      "COCO\n"
     ]
    },
    {
     "name": "stderr",
     "output_type": "stream",
     "text": [
      "\n",
      ">>> Finding COCO stop sign...:   0%|                                                       | 0/2058 [00:00<?, ?it/s]\u001b[A"
     ]
    },
    {
     "name": "stdout",
     "output_type": "stream",
     "text": [
      "[Errno 2] No such file or directory: 'D:/external_datasets/COCO/2017/images/val2017/000000196754.jpg'\n"
     ]
    },
    {
     "name": "stderr",
     "output_type": "stream",
     "text": [
      "\n",
      "  1%|▋                                                                            | 12/1261 [00:06<11:18,  1.84it/s]"
     ]
    },
    {
     "name": "stdout",
     "output_type": "stream",
     "text": [
      "\n",
      ">> parking meter...\n",
      "COCO\n"
     ]
    },
    {
     "name": "stderr",
     "output_type": "stream",
     "text": [
      "  1%|▊                                                                            | 13/1261 [00:07<11:07,  1.87it/s]"
     ]
    },
    {
     "name": "stdout",
     "output_type": "stream",
     "text": [
      "\n",
      ">> bench...\n",
      "COCO\n"
     ]
    },
    {
     "name": "stderr",
     "output_type": "stream",
     "text": [
      "  1%|▊                                                                            | 14/1261 [00:07<11:08,  1.87it/s]"
     ]
    },
    {
     "name": "stdout",
     "output_type": "stream",
     "text": [
      "\n",
      ">> bird...\n",
      "COCO\n"
     ]
    },
    {
     "name": "stderr",
     "output_type": "stream",
     "text": [
      "  1%|▉                                                                            | 15/1261 [00:08<11:03,  1.88it/s]\n",
      ">>> Finding COCO cat...:   0%|                                                             | 0/5974 [00:00<?, ?it/s]\u001b[A\n"
     ]
    },
    {
     "name": "stdout",
     "output_type": "stream",
     "text": [
      "\n",
      ">> cat...\n",
      "COCO\n",
      "[Errno 2] No such file or directory: 'D:/external_datasets/TAO/TAO_DIR/frames/train/YFCC100M/v_bcfdfcfdc8dfd352d18ce4698eb46/frame0181.jpeg'\n"
     ]
    },
    {
     "name": "stderr",
     "output_type": "stream",
     "text": [
      "\n",
      ">>> Finding COCO cat...:   0%|                                                     | 1/5974 [00:00<04:13, 23.54it/s]\u001b[A"
     ]
    },
    {
     "name": "stdout",
     "output_type": "stream",
     "text": [
      "[Errno 2] No such file or directory: 'D:/external_datasets/TAO/TAO_DIR/frames/train/HACS/Clipping_cat_claws_v_1mPd_3N5gNQ/frame1476.jpg'\n"
     ]
    },
    {
     "name": "stderr",
     "output_type": "stream",
     "text": [
      "\n",
      "  1%|▉                                                                            | 16/1261 [00:09<12:23,  1.67it/s]"
     ]
    },
    {
     "name": "stdout",
     "output_type": "stream",
     "text": [
      "\n",
      ">> dog...\n",
      "COCO\n"
     ]
    },
    {
     "name": "stderr",
     "output_type": "stream",
     "text": [
      "  1%|█                                                                            | 17/1261 [00:09<12:04,  1.72it/s]"
     ]
    },
    {
     "name": "stdout",
     "output_type": "stream",
     "text": [
      "\n",
      ">> horse...\n",
      "COCO\n"
     ]
    },
    {
     "name": "stderr",
     "output_type": "stream",
     "text": [
      "  1%|█                                                                            | 18/1261 [00:10<12:38,  1.64it/s]"
     ]
    },
    {
     "name": "stdout",
     "output_type": "stream",
     "text": [
      "\n",
      ">> sheep...\n",
      "COCO\n"
     ]
    },
    {
     "name": "stderr",
     "output_type": "stream",
     "text": [
      "  2%|█▏                                                                           | 19/1261 [00:12<24:03,  1.16s/it]"
     ]
    },
    {
     "name": "stdout",
     "output_type": "stream",
     "text": [
      "\n",
      ">> cow...\n",
      "COCO\n"
     ]
    },
    {
     "name": "stderr",
     "output_type": "stream",
     "text": [
      "  2%|█▏                                                                           | 20/1261 [00:13<20:30,  1.01it/s]"
     ]
    },
    {
     "name": "stdout",
     "output_type": "stream",
     "text": [
      "\n",
      ">> elephant...\n",
      "COCO\n"
     ]
    },
    {
     "name": "stderr",
     "output_type": "stream",
     "text": [
      "  2%|█▎                                                                           | 21/1261 [00:13<18:14,  1.13it/s]"
     ]
    },
    {
     "name": "stdout",
     "output_type": "stream",
     "text": [
      "\n",
      ">> bear...\n",
      "COCO\n"
     ]
    },
    {
     "name": "stderr",
     "output_type": "stream",
     "text": [
      "  2%|█▎                                                                           | 22/1261 [00:14<16:17,  1.27it/s]"
     ]
    },
    {
     "name": "stdout",
     "output_type": "stream",
     "text": [
      "\n",
      ">> zebra...\n",
      "COCO\n"
     ]
    },
    {
     "name": "stderr",
     "output_type": "stream",
     "text": [
      "  2%|█▍                                                                           | 23/1261 [00:15<15:03,  1.37it/s]"
     ]
    },
    {
     "name": "stdout",
     "output_type": "stream",
     "text": [
      "\n",
      ">> giraffe...\n",
      "COCO\n"
     ]
    },
    {
     "name": "stderr",
     "output_type": "stream",
     "text": [
      "  2%|█▍                                                                           | 24/1261 [00:15<13:47,  1.49it/s]"
     ]
    },
    {
     "name": "stdout",
     "output_type": "stream",
     "text": [
      "\n",
      ">> backpack...\n",
      "COCO\n"
     ]
    },
    {
     "name": "stderr",
     "output_type": "stream",
     "text": [
      "  2%|█▌                                                                           | 25/1261 [00:16<14:07,  1.46it/s]"
     ]
    },
    {
     "name": "stdout",
     "output_type": "stream",
     "text": [
      "\n",
      ">> umbrella...\n",
      "COCO\n"
     ]
    },
    {
     "name": "stderr",
     "output_type": "stream",
     "text": [
      "  2%|█▌                                                                           | 26/1261 [00:16<12:41,  1.62it/s]"
     ]
    },
    {
     "name": "stdout",
     "output_type": "stream",
     "text": [
      "\n",
      ">> handbag...\n",
      "COCO\n"
     ]
    },
    {
     "name": "stderr",
     "output_type": "stream",
     "text": [
      "  2%|█▋                                                                           | 27/1261 [00:17<12:13,  1.68it/s]"
     ]
    },
    {
     "name": "stdout",
     "output_type": "stream",
     "text": [
      "\n",
      ">> tie...\n",
      "COCO\n"
     ]
    },
    {
     "name": "stderr",
     "output_type": "stream",
     "text": [
      "  2%|█▋                                                                           | 28/1261 [00:17<11:10,  1.84it/s]"
     ]
    },
    {
     "name": "stdout",
     "output_type": "stream",
     "text": [
      "\n",
      ">> suitcase...\n",
      "COCO\n"
     ]
    },
    {
     "name": "stderr",
     "output_type": "stream",
     "text": [
      "\n",
      ">>> Finding COCO suitcase...:   0%|                                                        | 0/6524 [00:00<?, ?it/s]\u001b[A\n",
      "  2%|█▊                                                                           | 29/1261 [00:18<10:38,  1.93it/s]"
     ]
    },
    {
     "name": "stdout",
     "output_type": "stream",
     "text": [
      "[Errno 2] No such file or directory: 'D:/external_datasets/COCO/2017/images/val2017/000000137727.jpg'\n",
      "\n",
      ">> frisbee...\n",
      "COCO\n"
     ]
    },
    {
     "name": "stderr",
     "output_type": "stream",
     "text": [
      "  2%|█▊                                                                           | 30/1261 [00:18<10:30,  1.95it/s]"
     ]
    },
    {
     "name": "stdout",
     "output_type": "stream",
     "text": [
      "\n",
      ">> skis...\n",
      "COCO\n"
     ]
    },
    {
     "name": "stderr",
     "output_type": "stream",
     "text": [
      "  2%|█▉                                                                           | 31/1261 [00:19<09:57,  2.06it/s]"
     ]
    },
    {
     "name": "stdout",
     "output_type": "stream",
     "text": [
      "\n",
      ">> snowboard...\n",
      "COCO\n"
     ]
    },
    {
     "name": "stderr",
     "output_type": "stream",
     "text": [
      "  3%|█▉                                                                           | 32/1261 [00:19<10:13,  2.00it/s]"
     ]
    },
    {
     "name": "stdout",
     "output_type": "stream",
     "text": [
      "\n",
      ">> sports ball...\n",
      "COCO\n"
     ]
    },
    {
     "name": "stderr",
     "output_type": "stream",
     "text": [
      "\n",
      ">>> Finding COCO sports ball...:   0%|                                                     | 0/6610 [00:00<?, ?it/s]\u001b[A"
     ]
    },
    {
     "name": "stdout",
     "output_type": "stream",
     "text": [
      "[Errno 2] No such file or directory: 'D:/external_datasets/COCO/2017/images/val2017/000000205105.jpg'\n"
     ]
    },
    {
     "name": "stderr",
     "output_type": "stream",
     "text": [
      "\n",
      "  3%|██                                                                           | 33/1261 [00:20<10:37,  1.93it/s]"
     ]
    },
    {
     "name": "stdout",
     "output_type": "stream",
     "text": [
      "\n",
      ">> kite...\n",
      "COCO\n"
     ]
    },
    {
     "name": "stderr",
     "output_type": "stream",
     "text": [
      "  3%|██                                                                           | 34/1261 [00:20<10:23,  1.97it/s]\n",
      ">>> Finding COCO baseball bat...:   0%|                                                    | 0/3422 [00:00<?, ?it/s]\u001b[A\n"
     ]
    },
    {
     "name": "stdout",
     "output_type": "stream",
     "text": [
      "\n",
      ">> baseball bat...\n",
      "COCO\n",
      "[Errno 2] No such file or directory: 'D:/external_datasets/COCO/2017/images/val2017/000000133969.jpg'\n"
     ]
    },
    {
     "name": "stderr",
     "output_type": "stream",
     "text": [
      "  3%|██▏                                                                          | 35/1261 [00:21<09:56,  2.05it/s]"
     ]
    },
    {
     "name": "stdout",
     "output_type": "stream",
     "text": [
      "\n",
      ">> baseball glove...\n",
      "COCO\n"
     ]
    },
    {
     "name": "stderr",
     "output_type": "stream",
     "text": [
      "\n",
      ">>> Finding COCO baseball glove...:   0%|                                                  | 0/3895 [00:00<?, ?it/s]\u001b[A\n",
      "  3%|██▏                                                                          | 36/1261 [00:21<10:23,  1.97it/s]"
     ]
    },
    {
     "name": "stdout",
     "output_type": "stream",
     "text": [
      "[Errno 2] No such file or directory: 'D:/external_datasets/COCO/2017/images/val2017/000000554328.jpg'\n",
      "\n",
      ">> skateboard...\n",
      "COCO\n"
     ]
    },
    {
     "name": "stderr",
     "output_type": "stream",
     "text": [
      "  3%|██▎                                                                          | 37/1261 [00:22<10:02,  2.03it/s]"
     ]
    },
    {
     "name": "stdout",
     "output_type": "stream",
     "text": [
      "\n",
      ">> surfboard...\n",
      "COCO\n"
     ]
    },
    {
     "name": "stderr",
     "output_type": "stream",
     "text": [
      "  3%|██▎                                                                          | 38/1261 [00:22<09:58,  2.04it/s]"
     ]
    },
    {
     "name": "stdout",
     "output_type": "stream",
     "text": [
      "\n",
      ">> tennis racket...\n",
      "COCO\n"
     ]
    },
    {
     "name": "stderr",
     "output_type": "stream",
     "text": [
      "  3%|██▍                                                                          | 39/1261 [00:23<10:01,  2.03it/s]"
     ]
    },
    {
     "name": "stdout",
     "output_type": "stream",
     "text": [
      "\n",
      ">> bottle...\n",
      "COCO\n"
     ]
    },
    {
     "name": "stderr",
     "output_type": "stream",
     "text": [
      "  3%|██▍                                                                          | 40/1261 [00:23<10:10,  2.00it/s]"
     ]
    },
    {
     "name": "stdout",
     "output_type": "stream",
     "text": [
      "\n",
      ">> wine glass...\n",
      "COCO\n"
     ]
    },
    {
     "name": "stderr",
     "output_type": "stream",
     "text": [
      "  3%|██▌                                                                          | 41/1261 [00:24<10:27,  1.94it/s]"
     ]
    },
    {
     "name": "stdout",
     "output_type": "stream",
     "text": [
      "\n",
      ">> cup...\n",
      "COCO\n"
     ]
    },
    {
     "name": "stderr",
     "output_type": "stream",
     "text": [
      "  3%|██▌                                                                          | 42/1261 [00:24<10:19,  1.97it/s]"
     ]
    },
    {
     "name": "stdout",
     "output_type": "stream",
     "text": [
      "\n",
      ">> fork...\n",
      "COCO\n"
     ]
    },
    {
     "name": "stderr",
     "output_type": "stream",
     "text": [
      "  3%|██▋                                                                          | 43/1261 [00:25<10:31,  1.93it/s]"
     ]
    },
    {
     "name": "stdout",
     "output_type": "stream",
     "text": [
      "\n",
      ">> knife...\n",
      "COCO\n"
     ]
    },
    {
     "name": "stderr",
     "output_type": "stream",
     "text": [
      "  3%|██▋                                                                          | 44/1261 [00:25<10:52,  1.87it/s]"
     ]
    },
    {
     "name": "stdout",
     "output_type": "stream",
     "text": [
      "\n",
      ">> spoon...\n",
      "COCO\n"
     ]
    },
    {
     "name": "stderr",
     "output_type": "stream",
     "text": [
      "  4%|██▋                                                                          | 45/1261 [00:26<10:45,  1.88it/s]"
     ]
    },
    {
     "name": "stdout",
     "output_type": "stream",
     "text": [
      "\n",
      ">> bowl...\n",
      "COCO\n"
     ]
    },
    {
     "name": "stderr",
     "output_type": "stream",
     "text": [
      "  4%|██▊                                                                          | 46/1261 [00:26<10:20,  1.96it/s]"
     ]
    },
    {
     "name": "stdout",
     "output_type": "stream",
     "text": [
      "\n",
      ">> banana...\n",
      "COCO\n"
     ]
    },
    {
     "name": "stderr",
     "output_type": "stream",
     "text": [
      "  4%|██▊                                                                          | 47/1261 [00:27<10:16,  1.97it/s]"
     ]
    },
    {
     "name": "stdout",
     "output_type": "stream",
     "text": [
      "\n",
      ">> apple...\n",
      "COCO\n"
     ]
    },
    {
     "name": "stderr",
     "output_type": "stream",
     "text": [
      "  4%|██▉                                                                          | 48/1261 [00:27<10:04,  2.01it/s]"
     ]
    },
    {
     "name": "stdout",
     "output_type": "stream",
     "text": [
      "\n",
      ">> sandwich...\n",
      "COCO\n"
     ]
    },
    {
     "name": "stderr",
     "output_type": "stream",
     "text": [
      "  4%|██▉                                                                          | 49/1261 [00:28<10:43,  1.88it/s]"
     ]
    },
    {
     "name": "stdout",
     "output_type": "stream",
     "text": [
      "\n",
      ">> orange...\n",
      "COCO\n"
     ]
    },
    {
     "name": "stderr",
     "output_type": "stream",
     "text": [
      "  4%|███                                                                          | 50/1261 [00:28<09:56,  2.03it/s]"
     ]
    },
    {
     "name": "stdout",
     "output_type": "stream",
     "text": [
      "\n",
      ">> broccoli...\n",
      "COCO\n",
      "[Errno 2] No such file or directory: 'D:/external_datasets/COCO/2017/images/val2017/000000123321.jpg'\n"
     ]
    },
    {
     "name": "stderr",
     "output_type": "stream",
     "text": [
      "\n",
      ">>> Finding COCO broccoli...:   0%|                                                        | 0/7624 [00:00<?, ?it/s]\u001b[A\n",
      "  4%|███                                                                          | 51/1261 [00:29<10:07,  1.99it/s]"
     ]
    },
    {
     "name": "stdout",
     "output_type": "stream",
     "text": [
      "\n",
      ">> carrot...\n",
      "COCO\n"
     ]
    },
    {
     "name": "stderr",
     "output_type": "stream",
     "text": [
      "\n",
      ">>> Finding COCO carrot...:   0%|                                                          | 0/8254 [00:00<?, ?it/s]\u001b[A"
     ]
    },
    {
     "name": "stdout",
     "output_type": "stream",
     "text": [
      "[Errno 2] No such file or directory: 'D:/external_datasets/COCO/2017/images/val2017/000000397681.jpg'\n"
     ]
    },
    {
     "name": "stderr",
     "output_type": "stream",
     "text": [
      "\n",
      "  4%|███▏                                                                         | 52/1261 [00:29<10:38,  1.89it/s]"
     ]
    },
    {
     "name": "stdout",
     "output_type": "stream",
     "text": [
      "\n",
      ">> hot dog...\n",
      "COCO\n"
     ]
    },
    {
     "name": "stderr",
     "output_type": "stream",
     "text": [
      "  4%|███▏                                                                         | 53/1261 [00:30<10:13,  1.97it/s]"
     ]
    },
    {
     "name": "stdout",
     "output_type": "stream",
     "text": [
      "\n",
      ">> pizza...\n",
      "COCO\n"
     ]
    },
    {
     "name": "stderr",
     "output_type": "stream",
     "text": [
      "  4%|███▎                                                                         | 54/1261 [00:31<10:41,  1.88it/s]"
     ]
    },
    {
     "name": "stdout",
     "output_type": "stream",
     "text": [
      "\n",
      ">> donut...\n",
      "COCO\n"
     ]
    },
    {
     "name": "stderr",
     "output_type": "stream",
     "text": [
      "  4%|███▎                                                                         | 55/1261 [00:31<11:24,  1.76it/s]"
     ]
    },
    {
     "name": "stdout",
     "output_type": "stream",
     "text": [
      "\n",
      ">> cake...\n",
      "COCO\n"
     ]
    },
    {
     "name": "stderr",
     "output_type": "stream",
     "text": [
      "  4%|███▍                                                                         | 56/1261 [00:32<11:14,  1.79it/s]"
     ]
    },
    {
     "name": "stdout",
     "output_type": "stream",
     "text": [
      "\n",
      ">> chair...\n",
      "COCO\n"
     ]
    },
    {
     "name": "stderr",
     "output_type": "stream",
     "text": [
      "  5%|███▍                                                                         | 57/1261 [00:32<11:10,  1.80it/s]\n",
      ">>> Finding COCO couch...:   0%|                                                           | 0/6040 [00:00<?, ?it/s]\u001b[A\n"
     ]
    },
    {
     "name": "stdout",
     "output_type": "stream",
     "text": [
      "\n",
      ">> couch...\n",
      "COCO\n",
      "[Errno 2] No such file or directory: 'D:/external_datasets/COCO/2017/images/val2017/000000540962.jpg'\n"
     ]
    },
    {
     "name": "stderr",
     "output_type": "stream",
     "text": [
      "  5%|███▌                                                                         | 58/1261 [00:33<10:23,  1.93it/s]"
     ]
    },
    {
     "name": "stdout",
     "output_type": "stream",
     "text": [
      "\n",
      ">> potted plant...\n",
      "COCO\n"
     ]
    },
    {
     "name": "stderr",
     "output_type": "stream",
     "text": [
      "\n",
      ">>> Finding COCO potted plant...:   0%|                                                    | 0/8995 [00:00<?, ?it/s]\u001b[A"
     ]
    },
    {
     "name": "stdout",
     "output_type": "stream",
     "text": [
      "[Errno 2] No such file or directory: 'D:/external_datasets/COCO/2017/images/val2017/000000013923.jpg'\n"
     ]
    },
    {
     "name": "stderr",
     "output_type": "stream",
     "text": [
      "\n",
      "  5%|███▌                                                                         | 59/1261 [00:33<10:54,  1.84it/s]"
     ]
    },
    {
     "name": "stdout",
     "output_type": "stream",
     "text": [
      "\n",
      ">> bed...\n",
      "COCO\n"
     ]
    },
    {
     "name": "stderr",
     "output_type": "stream",
     "text": [
      "  5%|███▋                                                                         | 60/1261 [00:34<10:21,  1.93it/s]"
     ]
    },
    {
     "name": "stdout",
     "output_type": "stream",
     "text": [
      "\n",
      ">> dining table...\n",
      "COCO\n"
     ]
    },
    {
     "name": "stderr",
     "output_type": "stream",
     "text": [
      "  5%|███▋                                                                         | 61/1261 [00:34<10:22,  1.93it/s]"
     ]
    },
    {
     "name": "stdout",
     "output_type": "stream",
     "text": [
      "\n",
      ">> toilet...\n",
      "COCO\n"
     ]
    },
    {
     "name": "stderr",
     "output_type": "stream",
     "text": [
      "  5%|███▊                                                                         | 62/1261 [00:35<11:25,  1.75it/s]"
     ]
    },
    {
     "name": "stdout",
     "output_type": "stream",
     "text": [
      "\n",
      ">> tv...\n",
      "COCO\n"
     ]
    },
    {
     "name": "stderr",
     "output_type": "stream",
     "text": [
      "  5%|███▊                                                                         | 63/1261 [00:35<10:53,  1.83it/s]"
     ]
    },
    {
     "name": "stdout",
     "output_type": "stream",
     "text": [
      "\n",
      ">> laptop...\n",
      "COCO\n"
     ]
    },
    {
     "name": "stderr",
     "output_type": "stream",
     "text": [
      "  5%|███▉                                                                         | 64/1261 [00:36<11:08,  1.79it/s]"
     ]
    },
    {
     "name": "stdout",
     "output_type": "stream",
     "text": [
      "\n",
      ">> mouse...\n",
      "COCO\n"
     ]
    },
    {
     "name": "stderr",
     "output_type": "stream",
     "text": [
      "  5%|███▉                                                                         | 65/1261 [00:37<10:56,  1.82it/s]"
     ]
    },
    {
     "name": "stdout",
     "output_type": "stream",
     "text": [
      "\n",
      ">> remote...\n",
      "COCO\n"
     ]
    },
    {
     "name": "stderr",
     "output_type": "stream",
     "text": [
      "  5%|████                                                                         | 66/1261 [00:37<10:49,  1.84it/s]"
     ]
    },
    {
     "name": "stdout",
     "output_type": "stream",
     "text": [
      "\n",
      ">> keyboard...\n",
      "COCO\n"
     ]
    },
    {
     "name": "stderr",
     "output_type": "stream",
     "text": [
      "  5%|████                                                                         | 67/1261 [00:38<11:17,  1.76it/s]"
     ]
    },
    {
     "name": "stdout",
     "output_type": "stream",
     "text": [
      "\n",
      ">> cell phone...\n",
      "COCO\n"
     ]
    },
    {
     "name": "stderr",
     "output_type": "stream",
     "text": [
      "  5%|████▏                                                                        | 68/1261 [00:38<10:35,  1.88it/s]"
     ]
    },
    {
     "name": "stdout",
     "output_type": "stream",
     "text": [
      "\n",
      ">> microwave...\n",
      "COCO\n"
     ]
    },
    {
     "name": "stderr",
     "output_type": "stream",
     "text": [
      "  5%|████▏                                                                        | 69/1261 [00:39<11:15,  1.77it/s]"
     ]
    },
    {
     "name": "stdout",
     "output_type": "stream",
     "text": [
      "\n",
      ">> oven...\n",
      "COCO\n"
     ]
    },
    {
     "name": "stderr",
     "output_type": "stream",
     "text": [
      "  6%|████▎                                                                        | 70/1261 [00:39<10:32,  1.88it/s]"
     ]
    },
    {
     "name": "stdout",
     "output_type": "stream",
     "text": [
      "\n",
      ">> toaster...\n",
      "COCO\n"
     ]
    },
    {
     "name": "stderr",
     "output_type": "stream",
     "text": [
      "  6%|████▎                                                                        | 71/1261 [00:40<10:26,  1.90it/s]"
     ]
    },
    {
     "name": "stdout",
     "output_type": "stream",
     "text": [
      "\n",
      ">> sink...\n",
      "COCO\n"
     ]
    },
    {
     "name": "stderr",
     "output_type": "stream",
     "text": [
      "  6%|████▍                                                                        | 72/1261 [00:40<10:58,  1.81it/s]"
     ]
    },
    {
     "name": "stdout",
     "output_type": "stream",
     "text": [
      "\n",
      ">> refrigerator...\n",
      "COCO\n"
     ]
    },
    {
     "name": "stderr",
     "output_type": "stream",
     "text": [
      "  6%|████▍                                                                        | 73/1261 [00:41<10:52,  1.82it/s]"
     ]
    },
    {
     "name": "stdout",
     "output_type": "stream",
     "text": [
      "\n",
      ">> book...\n",
      "COCO\n"
     ]
    },
    {
     "name": "stderr",
     "output_type": "stream",
     "text": [
      "\n",
      ">>> Finding COCO book...:   0%|                                                           | 0/27353 [00:00<?, ?it/s]\u001b[A\n",
      "  6%|████▌                                                                        | 74/1261 [00:42<11:07,  1.78it/s]"
     ]
    },
    {
     "name": "stdout",
     "output_type": "stream",
     "text": [
      "[Errno 2] No such file or directory: 'D:/external_datasets/COCO/2017/images/val2017/000000341921.jpg'\n",
      "\n",
      ">> clock...\n",
      "COCO\n"
     ]
    },
    {
     "name": "stderr",
     "output_type": "stream",
     "text": [
      "  6%|████▌                                                                        | 75/1261 [00:42<10:55,  1.81it/s]"
     ]
    },
    {
     "name": "stdout",
     "output_type": "stream",
     "text": [
      "\n",
      ">> vase...\n",
      "COCO\n"
     ]
    },
    {
     "name": "stderr",
     "output_type": "stream",
     "text": [
      "  6%|████▋                                                                        | 76/1261 [00:42<10:17,  1.92it/s]"
     ]
    },
    {
     "name": "stdout",
     "output_type": "stream",
     "text": [
      "\n",
      ">> scissors...\n",
      "COCO\n"
     ]
    },
    {
     "name": "stderr",
     "output_type": "stream",
     "text": [
      "  6%|████▋                                                                        | 77/1261 [00:43<10:46,  1.83it/s]"
     ]
    },
    {
     "name": "stdout",
     "output_type": "stream",
     "text": [
      "\n",
      ">> teddy bear...\n",
      "COCO\n"
     ]
    },
    {
     "name": "stderr",
     "output_type": "stream",
     "text": [
      "  6%|████▊                                                                        | 78/1261 [00:44<10:14,  1.93it/s]"
     ]
    },
    {
     "name": "stdout",
     "output_type": "stream",
     "text": [
      "\n",
      ">> hair drier...\n",
      "COCO\n"
     ]
    },
    {
     "name": "stderr",
     "output_type": "stream",
     "text": [
      "\n",
      ">>> Finding COCO hair drier...:   0%|                                                       | 0/209 [00:00<?, ?it/s]\u001b[A"
     ]
    },
    {
     "name": "stdout",
     "output_type": "stream",
     "text": [
      "[Errno 2] No such file or directory: 'D:/external_datasets/COCO/2017/images/val2017/000000257169.jpg'\n"
     ]
    },
    {
     "name": "stderr",
     "output_type": "stream",
     "text": [
      "\n",
      "  6%|████▊                                                                        | 79/1261 [00:44<10:38,  1.85it/s]"
     ]
    },
    {
     "name": "stdout",
     "output_type": "stream",
     "text": [
      "\n",
      ">> toothbrush...\n",
      "COCO\n"
     ]
    },
    {
     "name": "stderr",
     "output_type": "stream",
     "text": [
      "  6%|████▉                                                                        | 80/1261 [00:45<10:33,  1.86it/s]"
     ]
    },
    {
     "name": "stdout",
     "output_type": "stream",
     "text": [
      "\n",
      ">> acorn...\n",
      ">>>> #WARNING acorn is missing from json annotations\n",
      "annotations datasets:  []\n",
      "annotations imgids:  []\n",
      "annotations bbox:  []\n",
      "\n",
      ">> aerosol_can...\n",
      "TAO\n"
     ]
    },
    {
     "name": "stderr",
     "output_type": "stream",
     "text": [
      "  7%|█████                                                                        | 82/1261 [00:46<10:10,  1.93it/s]\n",
      ">>> Finding TAO apricot...:   3%|█▍                                                  | 1/36 [00:00<00:01, 18.56it/s]\u001b[A\n"
     ]
    },
    {
     "name": "stdout",
     "output_type": "stream",
     "text": [
      "\n",
      ">> air_conditioner...\n",
      ">>>> #WARNING air_conditioner is missing from json annotations\n",
      "annotations datasets:  []\n",
      "annotations imgids:  []\n",
      "annotations bbox:  []\n",
      "\n",
      ">> alarm_clock...\n",
      ">>>> #WARNING alarm_clock is missing from json annotations\n",
      "annotations datasets:  []\n",
      "annotations imgids:  []\n",
      "annotations bbox:  []\n",
      "\n",
      ">> alcohol...\n",
      ">>>> #WARNING alcohol is missing from json annotations\n",
      "annotations datasets:  []\n",
      "annotations imgids:  []\n",
      "annotations bbox:  []\n",
      "\n",
      ">> alligator...\n",
      ">>>> #WARNING alligator is missing from json annotations\n",
      "annotations datasets:  []\n",
      "annotations imgids:  []\n",
      "annotations bbox:  []\n",
      "\n",
      ">> almond...\n",
      ">>>> #WARNING almond is missing from json annotations\n",
      "annotations datasets:  []\n",
      "annotations imgids:  []\n",
      "annotations bbox:  []\n",
      "\n",
      ">> ambulance...\n",
      ">>>> #WARNING ambulance is missing from json annotations\n",
      "annotations datasets:  []\n",
      "annotations imgids:  []\n",
      "annotations bbox:  []\n",
      "\n",
      ">> amplifier...\n",
      ">>>> #WARNING amplifier is missing from json annotations\n",
      "annotations datasets:  []\n",
      "annotations imgids:  []\n",
      "annotations bbox:  []\n",
      "\n",
      ">> anklet...\n",
      ">>>> #WARNING anklet is missing from json annotations\n",
      "annotations datasets:  []\n",
      "annotations imgids:  []\n",
      "annotations bbox:  []\n",
      "\n",
      ">> antenna...\n",
      ">>>> #WARNING antenna is missing from json annotations\n",
      "annotations datasets:  []\n",
      "annotations imgids:  []\n",
      "annotations bbox:  []\n",
      "\n",
      ">> apple_juice...\n",
      ">>>> #WARNING apple_juice is missing from json annotations\n",
      "annotations datasets:  []\n",
      "annotations imgids:  []\n",
      "annotations bbox:  []\n",
      "\n",
      ">> applesauce...\n",
      ">>>> #WARNING applesauce is missing from json annotations\n",
      "annotations datasets:  []\n",
      "annotations imgids:  []\n",
      "annotations bbox:  []\n",
      "\n",
      ">> apricot...\n",
      "TAO\n",
      "[Errno 2] No such file or directory: 'D:/external_datasets/TAO/TAO_DIR/frames/train/YFCC100M/v_b9e87a1eb4ca4a47d8d80da9f7d7f20/frame1531.jpg'\n"
     ]
    },
    {
     "name": "stderr",
     "output_type": "stream",
     "text": [
      "\n",
      ">>> Finding TAO apricot...:   6%|██▉                                                 | 2/36 [00:00<00:00, 41.63it/s]\u001b[A\n",
      "\n",
      ">>> Finding TAO apricot...:   8%|████▎                                               | 3/36 [00:00<00:00, 91.79it/s]\u001b[A\n"
     ]
    },
    {
     "name": "stdout",
     "output_type": "stream",
     "text": [
      "[Errno 2] No such file or directory: 'D:/external_datasets/TAO/TAO_DIR/frames/train/YFCC100M/v_b9e87a1eb4ca4a47d8d80da9f7d7f20/frame1111.jpg'\n",
      "[Errno 2] No such file or directory: 'D:/external_datasets/TAO/TAO_DIR/frames/train/YFCC100M/v_b9e87a1eb4ca4a47d8d80da9f7d7f20/frame1471.jpg'\n"
     ]
    },
    {
     "name": "stderr",
     "output_type": "stream",
     "text": [
      "  7%|█████▋                                                                       | 94/1261 [00:46<07:17,  2.67it/s]\n",
      ">>> Finding TAO armchair...:   0%|                                                          | 0/226 [00:00<?, ?it/s]\u001b[A\n"
     ]
    },
    {
     "name": "stdout",
     "output_type": "stream",
     "text": [
      "\n",
      ">> apron...\n",
      ">>>> #WARNING apron is missing from json annotations\n",
      "annotations datasets:  []\n",
      "annotations imgids:  []\n",
      "annotations bbox:  []\n",
      "\n",
      ">> aquarium...\n",
      ">>>> #WARNING aquarium is missing from json annotations\n",
      "annotations datasets:  []\n",
      "annotations imgids:  []\n",
      "annotations bbox:  []\n",
      "\n",
      ">> armband...\n",
      ">>>> #WARNING armband is missing from json annotations\n",
      "annotations datasets:  []\n",
      "annotations imgids:  []\n",
      "annotations bbox:  []\n",
      "\n",
      ">> armchair...\n",
      "TAO\n",
      "[Errno 2] No such file or directory: 'D:/external_datasets/TAO/TAO_DIR/frames/train/AVA/XOe9GeojzCs_scene_13_62523-64711/frame1111.jpg'\n"
     ]
    },
    {
     "name": "stderr",
     "output_type": "stream",
     "text": [
      "  8%|█████▉                                                                       | 98/1261 [00:47<06:25,  3.02it/s]"
     ]
    },
    {
     "name": "stdout",
     "output_type": "stream",
     "text": [
      "\n",
      ">> armoire...\n",
      ">>>> #WARNING armoire is missing from json annotations\n",
      "annotations datasets:  []\n",
      "annotations imgids:  []\n",
      "annotations bbox:  []\n",
      "\n",
      ">> armor...\n",
      ">>>> #WARNING armor is missing from json annotations\n",
      "annotations datasets:  []\n",
      "annotations imgids:  []\n",
      "annotations bbox:  []\n",
      "\n",
      ">> artichoke...\n",
      ">>>> #WARNING artichoke is missing from json annotations\n",
      "annotations datasets:  []\n",
      "annotations imgids:  []\n",
      "annotations bbox:  []\n",
      "\n",
      ">> trash_can...\n",
      ">>>> #WARNING trash_can is missing from json annotations\n",
      "annotations datasets:  []\n",
      "annotations imgids:  []\n",
      "annotations bbox:  []\n",
      "\n",
      ">> ashtray...\n",
      ">>>> #WARNING ashtray is missing from json annotations\n",
      "annotations datasets:  []\n",
      "annotations imgids:  []\n",
      "annotations bbox:  []\n",
      "\n",
      ">> asparagus...\n",
      ">>>> #WARNING asparagus is missing from json annotations\n",
      "annotations datasets:  []\n",
      "annotations imgids:  []\n",
      "annotations bbox:  []\n",
      "\n",
      ">> atomizer...\n",
      "TAO\n"
     ]
    },
    {
     "name": "stderr",
     "output_type": "stream",
     "text": [
      "  8%|██████▎                                                                     | 105/1261 [00:48<05:03,  3.81it/s]\n",
      ">>> Finding TAO ax...:   0%|                                                                | 0/174 [00:00<?, ?it/s]\u001b[A"
     ]
    },
    {
     "name": "stdout",
     "output_type": "stream",
     "text": [
      "\n",
      ">> avocado...\n",
      ">>>> #WARNING avocado is missing from json annotations\n",
      "annotations datasets:  []\n",
      "annotations imgids:  []\n",
      "annotations bbox:  []\n",
      "\n",
      ">> award...\n",
      ">>>> #WARNING award is missing from json annotations\n",
      "annotations datasets:  []\n",
      "annotations imgids:  []\n",
      "annotations bbox:  []\n",
      "\n",
      ">> awning...\n",
      ">>>> #WARNING awning is missing from json annotations\n",
      "annotations datasets:  []\n",
      "annotations imgids:  []\n",
      "annotations bbox:  []\n",
      "\n",
      ">> ax...\n",
      "TAO\n",
      "[Errno 2] No such file or directory: 'D:/external_datasets/TAO/TAO_DIR/frames/val/HACS/Chopping_wood_v_DNInECGcDUU_scene_0_24-1413/frame1081.jpg'\n"
     ]
    },
    {
     "name": "stderr",
     "output_type": "stream",
     "text": [
      ">>> Finding TAO ax...:   0%|                                                                | 0/174 [00:00<?, ?it/s]\n",
      "  9%|██████▌                                                                     | 109/1261 [00:49<05:27,  3.52it/s]"
     ]
    },
    {
     "name": "stdout",
     "output_type": "stream",
     "text": [
      "\n",
      ">> baby_buggy...\n",
      "TAO\n"
     ]
    },
    {
     "name": "stderr",
     "output_type": "stream",
     "text": [
      "\n",
      ">>> Finding TAO baby_buggy...:   0%|                                                         | 0/79 [00:00<?, ?it/s]\u001b[A"
     ]
    },
    {
     "name": "stdout",
     "output_type": "stream",
     "text": [
      "[Errno 2] No such file or directory: 'D:/external_datasets/TAO/TAO_DIR/frames/val/YFCC100M/v_db5b8c53e4af4b5fdca1177907c56a5/frame0001.jpeg'\n"
     ]
    },
    {
     "name": "stderr",
     "output_type": "stream",
     "text": [
      "\n",
      "\n",
      ">>> Finding TAO baby_buggy...:   1%|▌                                                | 1/79 [00:00<00:04, 16.13it/s]\u001b[A\n",
      "  9%|██████▋                                                                     | 110/1261 [00:50<10:46,  1.78it/s]"
     ]
    },
    {
     "name": "stdout",
     "output_type": "stream",
     "text": [
      "[Errno 2] No such file or directory: 'D:/external_datasets/TAO/TAO_DIR/frames/val/YFCC100M/v_db5b8c53e4af4b5fdca1177907c56a5/frame0046.jpeg'\n",
      "\n",
      ">> basketball_backboard...\n",
      ">>>> #WARNING basketball_backboard is missing from json annotations\n",
      "annotations datasets:  []\n",
      "annotations imgids:  []\n",
      "annotations bbox:  []\n",
      "\n",
      ">> bagel...\n",
      ">>>> #WARNING bagel is missing from json annotations\n",
      "annotations datasets:  []\n",
      "annotations imgids:  []\n",
      "annotations bbox:  []\n",
      "\n",
      ">> bagpipe...\n",
      "TAO\n"
     ]
    },
    {
     "name": "stderr",
     "output_type": "stream",
     "text": [
      "  9%|██████▊                                                                     | 113/1261 [00:51<08:58,  2.13it/s]"
     ]
    },
    {
     "name": "stdout",
     "output_type": "stream",
     "text": [
      "\n",
      ">> baguet...\n",
      ">>>> #WARNING baguet is missing from json annotations\n",
      "annotations datasets:  []\n",
      "annotations imgids:  []\n",
      "annotations bbox:  []\n",
      "\n",
      ">> bait...\n",
      ">>>> #WARNING bait is missing from json annotations\n",
      "annotations datasets:  []\n",
      "annotations imgids:  []\n",
      "annotations bbox:  []\n",
      "\n",
      ">> ball...\n",
      "TAO\n"
     ]
    },
    {
     "name": "stderr",
     "output_type": "stream",
     "text": [
      "  9%|██████▉                                                                     | 116/1261 [00:52<07:56,  2.40it/s]"
     ]
    },
    {
     "name": "stdout",
     "output_type": "stream",
     "text": [
      "\n",
      ">> ballet_skirt...\n",
      ">>>> #WARNING ballet_skirt is missing from json annotations\n",
      "annotations datasets:  []\n",
      "annotations imgids:  []\n",
      "annotations bbox:  []\n",
      "\n",
      ">> balloon...\n",
      "TAO\n"
     ]
    },
    {
     "name": "stderr",
     "output_type": "stream",
     "text": [
      "  9%|███████                                                                     | 118/1261 [00:53<08:51,  2.15it/s]\n"
     ]
    },
    {
     "name": "stdout",
     "output_type": "stream",
     "text": [
      "\n",
      ">> bamboo...\n",
      ">>>> #WARNING bamboo is missing from json annotations\n",
      "annotations datasets:  []\n",
      "annotations imgids:  []\n",
      "annotations bbox:  []\n",
      "\n",
      ">> Band_Aid...\n",
      ">>>> #WARNING Band_Aid is missing from json annotations\n",
      "annotations datasets:  []\n",
      "annotations imgids:  []\n",
      "annotations bbox:  []\n",
      "\n",
      ">> bandage...\n",
      ">>>> #WARNING bandage is missing from json annotations\n",
      "annotations datasets:  []\n",
      "annotations imgids:  []\n",
      "annotations bbox:  []\n",
      "\n",
      ">> bandanna...\n",
      ">>>> #WARNING bandanna is missing from json annotations\n",
      "annotations datasets:  []\n",
      "annotations imgids:  []\n",
      "annotations bbox:  []\n",
      "\n",
      ">> banjo...\n",
      ">>>> #WARNING banjo is missing from json annotations\n",
      "annotations datasets:  []\n",
      "annotations imgids:  []\n",
      "annotations bbox:  []\n",
      "\n",
      ">> banner...\n",
      ">>>> #WARNING banner is missing from json annotations\n",
      "annotations datasets:  []\n",
      "annotations imgids:  []\n",
      "annotations bbox:  []\n",
      "\n",
      ">> barbell...\n",
      "TAO\n",
      "[Errno 2] No such file or directory: 'D:/external_datasets/TAO/TAO_DIR/frames/val/HACS/Clean_and_jerk_v_1kMhmqbCPt0_scene_0_0-1559/frame1051.jpg'\n"
     ]
    },
    {
     "name": "stderr",
     "output_type": "stream",
     "text": [
      ">>> Finding TAO barbell...:   0%|                                                            | 0/40 [00:00<?, ?it/s]\u001b[A\n",
      "\n",
      ">>> Finding TAO barbell...:   2%|█▎                                                  | 1/40 [00:00<00:02, 16.85it/s]\u001b[A\n",
      " 10%|███████▌                                                                    | 125/1261 [00:54<06:49,  2.78it/s]"
     ]
    },
    {
     "name": "stdout",
     "output_type": "stream",
     "text": [
      "[Errno 2] No such file or directory: 'D:/external_datasets/TAO/TAO_DIR/frames/val/HACS/Clean_and_jerk_v_1kMhmqbCPt0_scene_0_0-1559/frame1081.jpg'\n",
      "\n",
      ">> barge...\n",
      ">>>> #WARNING barge is missing from json annotations\n",
      "annotations datasets:  []\n",
      "annotations imgids:  []\n",
      "annotations bbox:  []\n",
      "\n",
      ">> barrel...\n",
      ">>>> #WARNING barrel is missing from json annotations\n",
      "annotations datasets:  []\n",
      "annotations imgids:  []\n",
      "annotations bbox:  []\n",
      "\n",
      ">> barrette...\n",
      ">>>> #WARNING barrette is missing from json annotations\n",
      "annotations datasets:  []\n",
      "annotations imgids:  []\n",
      "annotations bbox:  []\n",
      "\n",
      ">> barrow...\n",
      ">>>> #WARNING barrow is missing from json annotations\n",
      "annotations datasets:  []\n",
      "annotations imgids:  []\n",
      "annotations bbox:  []\n",
      "\n",
      ">> baseball_base...\n",
      ">>>> #WARNING baseball_base is missing from json annotations\n",
      "annotations datasets:  []\n",
      "annotations imgids:  []\n",
      "annotations bbox:  []\n",
      "\n",
      ">> baseball...\n",
      ">>>> #WARNING baseball is missing from json annotations\n",
      "annotations datasets:  []\n",
      "annotations imgids:  []\n",
      "annotations bbox:  []\n",
      "\n",
      ">> baseball_bat...\n",
      "TAO\n"
     ]
    },
    {
     "name": "stderr",
     "output_type": "stream",
     "text": [
      "\n",
      ">>> Finding TAO baseball_bat...:   0%|                                                      | 0/102 [00:00<?, ?it/s]\u001b[A"
     ]
    },
    {
     "name": "stdout",
     "output_type": "stream",
     "text": [
      "[Errno 2] No such file or directory: 'D:/external_datasets/TAO/TAO_DIR/frames/train/HACS/Rock-paper-scissors_v_bLoWh2xbm6o_scene_0_14-2056/frame1051.jpg'\n"
     ]
    },
    {
     "name": "stderr",
     "output_type": "stream",
     "text": [
      "\n",
      "\n",
      ">>> Finding TAO baseball_bat...:   1%|▍                                             | 1/102 [00:00<00:05, 19.34it/s]\u001b[A\n",
      " 10%|███████▉                                                                    | 132/1261 [00:55<05:25,  3.47it/s]"
     ]
    },
    {
     "name": "stdout",
     "output_type": "stream",
     "text": [
      "[Errno 2] No such file or directory: 'D:/external_datasets/TAO/TAO_DIR/frames/train/HACS/Playing_squash_v_SA-if-DMT7E_scene_0_0-3484/frame1021.jpg'\n",
      "\n",
      ">> baseball_cap...\n",
      ">>>> #WARNING baseball_cap is missing from json annotations\n",
      "annotations datasets:  []\n",
      "annotations imgids:  []\n",
      "annotations bbox:  []\n",
      "\n",
      ">> baseball_glove...\n",
      "TAO\n"
     ]
    },
    {
     "name": "stderr",
     "output_type": "stream",
     "text": [
      " 11%|████████                                                                    | 134/1261 [00:56<05:58,  3.14it/s]\n",
      ">>> Finding TAO basket...: 100%|███████████████████████████████████████████████████| 25/25 [00:00<00:00, 416.62it/s]\u001b[A\n",
      "\n",
      ">>> Finding TAO basket...: 100%|███████████████████████████████████████████████████| 25/25 [00:00<00:00, 480.82it/s]\u001b[A\n",
      "\n",
      ">>> Finding TAO basket...: 100%|███████████████████████████████████████████████████| 25/25 [00:00<00:00, 480.93it/s]\u001b[A"
     ]
    },
    {
     "name": "stdout",
     "output_type": "stream",
     "text": [
      "\n",
      ">> basket...\n",
      "TAO\n",
      "[Errno 2] No such file or directory: 'D:/external_datasets/TAO/TAO_DIR/frames/val/YFCC100M/v_5168dc89995a4af63aae3b482eb7f73d/frame0661.jpeg'\n",
      ">>>> #WARNING: No file found for: TAO basket...\n",
      "[Errno 2] No such file or directory: 'D:/external_datasets/TAO/TAO_DIR/frames/val/YFCC100M/v_5168dc89995a4af63aae3b482eb7f73d/frame0691.jpeg'\n",
      ">>>> #WARNING: No file found for: TAO basket...\n",
      "[Errno 2] No such file or directory: 'D:/external_datasets/TAO/TAO_DIR/frames/val/ArgoVerse/side_left_043aeba7-14e5-3cde-8a5c-639389b6d3a6/ring_side_left_315967474027866336.jpg'\n"
     ]
    },
    {
     "name": "stderr",
     "output_type": "stream",
     "text": [
      "\n",
      "\n",
      ">>> Finding TAO basket...: 100%|███████████████████████████████████████████████████| 25/25 [00:00<00:00, 471.70it/s]\u001b[A\n",
      "\n",
      ">>> Finding TAO basket...: 100%|███████████████████████████████████████████████████| 25/25 [00:00<00:00, 466.89it/s]\u001b[A\n",
      " 11%|████████▏                                                                   | 135/1261 [00:56<06:00,  3.12it/s]"
     ]
    },
    {
     "name": "stdout",
     "output_type": "stream",
     "text": [
      ">>>> #WARNING: No file found for: TAO basket...\n",
      "[Errno 2] No such file or directory: 'D:/external_datasets/TAO/TAO_DIR/frames/val/ArgoVerse/side_right_c6911883-1843-3727-8eaa-41dc8cda8993/ring_side_right_315978421017861912.jpg'\n",
      ">>>> #WARNING: No file found for: TAO basket...\n",
      "[Errno 2] No such file or directory: 'D:/external_datasets/TAO/TAO_DIR/frames/val/YFCC100M/v_5168dc89995a4af63aae3b482eb7f73d/frame0571.jpeg'\n",
      ">>>> #WARNING: No file found for: TAO basket...\n",
      "\n",
      ">> basketball_hoop...\n",
      "TAO\n"
     ]
    },
    {
     "name": "stderr",
     "output_type": "stream",
     "text": [
      " 11%|████████▏                                                                   | 136/1261 [00:57<08:32,  2.19it/s]"
     ]
    },
    {
     "name": "stdout",
     "output_type": "stream",
     "text": [
      "\n",
      ">> basketball...\n",
      "TAO\n"
     ]
    },
    {
     "name": "stderr",
     "output_type": "stream",
     "text": [
      " 11%|████████▎                                                                   | 137/1261 [00:57<10:37,  1.76it/s]"
     ]
    },
    {
     "name": "stdout",
     "output_type": "stream",
     "text": [
      "\n",
      ">> bass_horn...\n",
      ">>>> #WARNING bass_horn is missing from json annotations\n",
      "annotations datasets:  []\n",
      "annotations imgids:  []\n",
      "annotations bbox:  []\n",
      "\n",
      ">> bat_(animal)...\n",
      ">>>> #WARNING bat_(animal) is missing from json annotations\n",
      "annotations datasets:  []\n",
      "annotations imgids:  []\n",
      "annotations bbox:  []\n",
      "\n",
      ">> bath_mat...\n",
      ">>>> #WARNING bath_mat is missing from json annotations\n",
      "annotations datasets:  []\n",
      "annotations imgids:  []\n",
      "annotations bbox:  []\n",
      "\n",
      ">> bath_towel...\n",
      ">>>> #WARNING bath_towel is missing from json annotations\n",
      "annotations datasets:  []\n",
      "annotations imgids:  []\n",
      "annotations bbox:  []\n",
      "\n",
      ">> bathrobe...\n",
      ">>>> #WARNING bathrobe is missing from json annotations\n",
      "annotations datasets:  []\n",
      "annotations imgids:  []\n",
      "annotations bbox:  []\n",
      "\n",
      ">> bathtub...\n",
      ">>>> #WARNING bathtub is missing from json annotations\n",
      "annotations datasets:  []\n",
      "annotations imgids:  []\n",
      "annotations bbox:  []\n",
      "\n",
      ">> batter_(food)...\n",
      ">>>> #WARNING batter_(food) is missing from json annotations\n",
      "annotations datasets:  []\n",
      "annotations imgids:  []\n",
      "annotations bbox:  []\n",
      "\n",
      ">> battery...\n",
      ">>>> #WARNING battery is missing from json annotations\n",
      "annotations datasets:  []\n",
      "annotations imgids:  []\n",
      "annotations bbox:  []\n",
      "\n",
      ">> beachball...\n",
      ">>>> #WARNING beachball is missing from json annotations\n",
      "annotations datasets:  []\n",
      "annotations imgids:  []\n",
      "annotations bbox:  []\n",
      "\n",
      ">> bead...\n",
      ">>>> #WARNING bead is missing from json annotations\n",
      "annotations datasets:  []\n",
      "annotations imgids:  []\n",
      "annotations bbox:  []\n",
      "\n",
      ">> beaker...\n",
      "TAO\n"
     ]
    },
    {
     "name": "stderr",
     "output_type": "stream",
     "text": [
      "\n",
      ">>> Finding TAO beaker...:   0%|                                                            | 0/202 [00:00<?, ?it/s]\u001b[A\n",
      " 12%|████████▉                                                                   | 148/1261 [00:58<07:47,  2.38it/s]"
     ]
    },
    {
     "name": "stdout",
     "output_type": "stream",
     "text": [
      "[Errno 2] No such file or directory: 'D:/external_datasets/TAO/TAO_DIR/frames/val/HACS/Using_the_balance_beam_v_ZSvHNFf7Xmg/frame1681.jpg'\n",
      "\n",
      ">> bean_curd...\n",
      ">>>> #WARNING bean_curd is missing from json annotations\n",
      "annotations datasets:  []\n",
      "annotations imgids:  []\n",
      "annotations bbox:  []\n",
      "\n",
      ">> beanbag...\n",
      ">>>> #WARNING beanbag is missing from json annotations\n",
      "annotations datasets:  []\n",
      "annotations imgids:  []\n",
      "annotations bbox:  []\n",
      "\n",
      ">> beanie...\n",
      "TAO\n"
     ]
    },
    {
     "name": "stderr",
     "output_type": "stream",
     "text": [
      " 12%|█████████                                                                   | 151/1261 [00:59<07:27,  2.48it/s]\n",
      ">>> Finding TAO bedspread...:   0%|                                                         | 0/111 [00:00<?, ?it/s]\u001b[A\n"
     ]
    },
    {
     "name": "stdout",
     "output_type": "stream",
     "text": [
      "\n",
      ">> bedspread...\n",
      "TAO\n",
      "[Errno 2] No such file or directory: 'D:/external_datasets/TAO/TAO_DIR/frames/val/HACS/Using_the_monkey_bar_v_J2qrTRdu9ik/frame2131.jpg'\n"
     ]
    },
    {
     "name": "stderr",
     "output_type": "stream",
     "text": [
      "\n",
      ">>> Finding TAO bedspread...:   1%|▍                                                | 1/111 [00:00<00:05, 20.47it/s]\u001b[A"
     ]
    },
    {
     "name": "stdout",
     "output_type": "stream",
     "text": [
      "[Errno 2] No such file or directory: 'D:/external_datasets/TAO/TAO_DIR/frames/val/HACS/Using_the_monkey_bar_v_J2qrTRdu9ik/frame2281.jpg'\n"
     ]
    },
    {
     "name": "stderr",
     "output_type": "stream",
     "text": [
      "\n",
      "\n",
      ">>> Finding TAO bedspread...:   2%|▉                                                | 2/111 [00:00<00:02, 36.55it/s]\u001b[A\n",
      " 12%|█████████▏                                                                  | 152/1261 [01:00<09:43,  1.90it/s]"
     ]
    },
    {
     "name": "stdout",
     "output_type": "stream",
     "text": [
      "[Errno 2] No such file or directory: 'D:/external_datasets/TAO/TAO_DIR/frames/val/HACS/Using_the_monkey_bar_v_J2qrTRdu9ik/frame2311.jpg'\n",
      "\n",
      ">> beef_(food)...\n",
      ">>>> #WARNING beef_(food) is missing from json annotations\n",
      "annotations datasets:  []\n",
      "annotations imgids:  []\n",
      "annotations bbox:  []\n",
      "\n",
      ">> beeper...\n",
      "TAO\n"
     ]
    },
    {
     "name": "stderr",
     "output_type": "stream",
     "text": [
      " 12%|█████████▎                                                                  | 154/1261 [01:01<09:40,  1.91it/s]\n",
      ">>> Finding TAO bell...: 100%|█████████████████████████████████████████████████████| 36/36 [00:00<00:00, 419.27it/s]\u001b[A\n",
      "\n",
      ">>> Finding TAO bell...:   0%|                                                               | 0/36 [00:00<?, ?it/s]\u001b[A"
     ]
    },
    {
     "name": "stdout",
     "output_type": "stream",
     "text": [
      "\n",
      ">> beer_bottle...\n",
      ">>>> #WARNING beer_bottle is missing from json annotations\n",
      "annotations datasets:  []\n",
      "annotations imgids:  []\n",
      "annotations bbox:  []\n",
      "\n",
      ">> beer_can...\n",
      ">>>> #WARNING beer_can is missing from json annotations\n",
      "annotations datasets:  []\n",
      "annotations imgids:  []\n",
      "annotations bbox:  []\n",
      "\n",
      ">> beetle...\n",
      ">>>> #WARNING beetle is missing from json annotations\n",
      "annotations datasets:  []\n",
      "annotations imgids:  []\n",
      "annotations bbox:  []\n",
      "\n",
      ">> bell...\n",
      "TAO\n",
      "[Errno 2] No such file or directory: 'D:/external_datasets/TAO/TAO_DIR/frames/val/YFCC100M/v_bcb0572637e5392c4cb919ad21a286/frame0691.jpeg'\n",
      ">>>> #WARNING: No file found for: TAO bell...\n",
      "[Errno 2] No such file or directory: 'D:/external_datasets/TAO/TAO_DIR/frames/val/YFCC100M/v_bcb0572637e5392c4cb919ad21a286/frame0151.jpeg'\n"
     ]
    },
    {
     "name": "stderr",
     "output_type": "stream",
     "text": [
      ">>> Finding TAO bell...: 100%|█████████████████████████████████████████████████████| 36/36 [00:00<00:00, 455.62it/s]\n",
      "\n",
      ">>> Finding TAO bell...: 100%|█████████████████████████████████████████████████████| 36/36 [00:00<00:00, 450.00it/s]\u001b[A\n",
      "\n",
      ">>> Finding TAO bell...: 100%|█████████████████████████████████████████████████████| 36/36 [00:00<00:00, 461.55it/s]\u001b[A\n",
      "\n",
      ">>> Finding TAO bell...:   0%|                                                               | 0/36 [00:00<?, ?it/s]\u001b[A"
     ]
    },
    {
     "name": "stdout",
     "output_type": "stream",
     "text": [
      ">>>> #WARNING: No file found for: TAO bell...\n",
      "[Errno 2] No such file or directory: 'D:/external_datasets/TAO/TAO_DIR/frames/val/YFCC100M/v_bcb0572637e5392c4cb919ad21a286/frame0841.jpeg'\n",
      ">>>> #WARNING: No file found for: TAO bell...\n",
      "[Errno 2] No such file or directory: 'D:/external_datasets/TAO/TAO_DIR/frames/val/YFCC100M/v_bcb0572637e5392c4cb919ad21a286/frame0571.jpeg'\n",
      ">>>> #WARNING: No file found for: TAO bell...\n",
      "[Errno 2] No such file or directory: 'D:/external_datasets/TAO/TAO_DIR/frames/val/YFCC100M/v_bcb0572637e5392c4cb919ad21a286/frame0541.jpeg'\n"
     ]
    },
    {
     "name": "stderr",
     "output_type": "stream",
     "text": [
      ">>> Finding TAO bell...: 100%|█████████████████████████████████████████████████████| 36/36 [00:00<00:00, 467.63it/s]\n",
      " 13%|█████████▌                                                                  | 158/1261 [01:02<07:23,  2.49it/s]"
     ]
    },
    {
     "name": "stdout",
     "output_type": "stream",
     "text": [
      ">>>> #WARNING: No file found for: TAO bell...\n",
      "\n",
      ">> bell_pepper...\n",
      ">>>> #WARNING bell_pepper is missing from json annotations\n",
      "annotations datasets:  []\n",
      "annotations imgids:  []\n",
      "annotations bbox:  []\n",
      "\n",
      ">> belt...\n",
      ">>>> #WARNING belt is missing from json annotations\n",
      "annotations datasets:  []\n",
      "annotations imgids:  []\n",
      "annotations bbox:  []\n",
      "\n",
      ">> belt_buckle...\n",
      ">>>> #WARNING belt_buckle is missing from json annotations\n",
      "annotations datasets:  []\n",
      "annotations imgids:  []\n",
      "annotations bbox:  []\n",
      "\n",
      ">> beret...\n",
      ">>>> #WARNING beret is missing from json annotations\n",
      "annotations datasets:  []\n",
      "annotations imgids:  []\n",
      "annotations bbox:  []\n",
      "\n",
      ">> bib...\n",
      ">>>> #WARNING bib is missing from json annotations\n",
      "annotations datasets:  []\n",
      "annotations imgids:  []\n",
      "annotations bbox:  []\n",
      "\n",
      ">> Bible...\n",
      ">>>> #WARNING Bible is missing from json annotations\n",
      "annotations datasets:  []\n",
      "annotations imgids:  []\n",
      "annotations bbox:  []\n",
      "\n",
      ">> visor...\n",
      ">>>> #WARNING visor is missing from json annotations\n",
      "annotations datasets:  []\n",
      "annotations imgids:  []\n",
      "annotations bbox:  []\n",
      "\n",
      ">> binder...\n",
      "TAO\n"
     ]
    },
    {
     "name": "stderr",
     "output_type": "stream",
     "text": [
      "\n",
      ">>> Finding TAO binder...:   0%|                                                             | 0/67 [00:00<?, ?it/s]\u001b[A"
     ]
    },
    {
     "name": "stdout",
     "output_type": "stream",
     "text": [
      "[Errno 2] No such file or directory: 'D:/external_datasets/TAO/TAO_DIR/frames/val/HACS/Discus_throw_v_uf1qMhzjHAc/frame3451.jpg'\n"
     ]
    },
    {
     "name": "stderr",
     "output_type": "stream",
     "text": [
      "\n",
      " 13%|██████████                                                                  | 166/1261 [01:03<05:52,  3.11it/s]"
     ]
    },
    {
     "name": "stdout",
     "output_type": "stream",
     "text": [
      "\n",
      ">> binoculars...\n",
      "TAO\n"
     ]
    },
    {
     "name": "stderr",
     "output_type": "stream",
     "text": [
      " 13%|██████████                                                                  | 167/1261 [01:03<05:33,  3.28it/s]\n",
      ">>> Finding TAO birdfeeder...: 100%|███████████████████████████████████████████████| 40/40 [00:00<00:00, 451.52it/s]\u001b[A\n",
      "\n",
      ">>> Finding TAO birdfeeder...: 100%|███████████████████████████████████████████████| 40/40 [00:00<00:00, 412.45it/s]\u001b[A"
     ]
    },
    {
     "name": "stdout",
     "output_type": "stream",
     "text": [
      "\n",
      ">> birdfeeder...\n",
      "TAO\n",
      "[Errno 2] No such file or directory: 'D:/external_datasets/TAO/TAO_DIR/frames/val/YFCC100M/v_c4254cd81215eab0ab8f1722fce00f/frame1681.jpeg'\n",
      ">>>> #WARNING: No file found for: TAO birdfeeder...\n",
      "[Errno 2] No such file or directory: 'D:/external_datasets/TAO/TAO_DIR/frames/val/YFCC100M/v_c4254cd81215eab0ab8f1722fce00f/frame2191.jpeg'\n"
     ]
    },
    {
     "name": "stderr",
     "output_type": "stream",
     "text": [
      "\n",
      "\n",
      ">>> Finding TAO birdfeeder...: 100%|███████████████████████████████████████████████| 40/40 [00:00<00:00, 454.39it/s]\u001b[A\n",
      "\n",
      ">>> Finding TAO birdfeeder...: 100%|███████████████████████████████████████████████| 40/40 [00:00<00:00, 454.35it/s]\u001b[A"
     ]
    },
    {
     "name": "stdout",
     "output_type": "stream",
     "text": [
      ">>>> #WARNING: No file found for: TAO birdfeeder...\n",
      "[Errno 2] No such file or directory: 'D:/external_datasets/TAO/TAO_DIR/frames/val/YFCC100M/v_c4254cd81215eab0ab8f1722fce00f/frame2161.jpeg'\n",
      ">>>> #WARNING: No file found for: TAO birdfeeder...\n",
      "[Errno 2] No such file or directory: 'D:/external_datasets/TAO/TAO_DIR/frames/val/YFCC100M/v_c4254cd81215eab0ab8f1722fce00f/frame1591.jpeg'\n"
     ]
    },
    {
     "name": "stderr",
     "output_type": "stream",
     "text": [
      "\n",
      "\n",
      ">>> Finding TAO birdfeeder...: 100%|███████████████████████████████████████████████| 40/40 [00:00<00:00, 434.76it/s]\u001b[A\n",
      " 13%|██████████▏                                                                 | 168/1261 [01:04<06:34,  2.77it/s]"
     ]
    },
    {
     "name": "stdout",
     "output_type": "stream",
     "text": [
      ">>>> #WARNING: No file found for: TAO birdfeeder...\n",
      "[Errno 2] No such file or directory: 'D:/external_datasets/TAO/TAO_DIR/frames/val/YFCC100M/v_c4254cd81215eab0ab8f1722fce00f/frame1621.jpeg'\n",
      ">>>> #WARNING: No file found for: TAO birdfeeder...\n",
      "\n",
      ">> birdbath...\n",
      ">>>> #WARNING birdbath is missing from json annotations\n",
      "annotations datasets:  []\n",
      "annotations imgids:  []\n",
      "annotations bbox:  []\n",
      "\n",
      ">> birdcage...\n",
      "TAO\n"
     ]
    },
    {
     "name": "stderr",
     "output_type": "stream",
     "text": [
      " 13%|██████████▏                                                                 | 170/1261 [01:05<07:47,  2.34it/s]\n",
      ">>> Finding TAO birdhouse...: 100%|████████████████████████████████████████████████| 40/40 [00:00<00:00, 416.44it/s]\u001b[A\n",
      "\n",
      ">>> Finding TAO birdhouse...:   0%|                                                          | 0/40 [00:00<?, ?it/s]\u001b[A"
     ]
    },
    {
     "name": "stdout",
     "output_type": "stream",
     "text": [
      "\n",
      ">> birdhouse...\n",
      "TAO\n",
      "[Errno 2] No such file or directory: 'D:/external_datasets/TAO/TAO_DIR/frames/val/YFCC100M/v_5184aeb820dfcb8aa8f4c56c79107373/frame0601.jpeg'\n",
      ">>>> #WARNING: No file found for: TAO birdhouse...\n",
      "[Errno 2] No such file or directory: 'D:/external_datasets/TAO/TAO_DIR/frames/val/YFCC100M/v_5184aeb820dfcb8aa8f4c56c79107373/frame0876.jpeg'\n"
     ]
    },
    {
     "name": "stderr",
     "output_type": "stream",
     "text": [
      ">>> Finding TAO birdhouse...: 100%|████████████████████████████████████████████████| 40/40 [00:00<00:00, 434.85it/s]\n",
      "\n",
      ">>> Finding TAO birdhouse...: 100%|████████████████████████████████████████████████| 40/40 [00:00<00:00, 425.54it/s]\u001b[A\n",
      "\n",
      ">>> Finding TAO birdhouse...:   0%|                                                          | 0/40 [00:00<?, ?it/s]\u001b[A"
     ]
    },
    {
     "name": "stdout",
     "output_type": "stream",
     "text": [
      ">>>> #WARNING: No file found for: TAO birdhouse...\n",
      "[Errno 2] No such file or directory: 'D:/external_datasets/TAO/TAO_DIR/frames/val/YFCC100M/v_5184aeb820dfcb8aa8f4c56c79107373/frame1076.jpeg'\n",
      ">>>> #WARNING: No file found for: TAO birdhouse...\n",
      "[Errno 2] No such file or directory: 'D:/external_datasets/TAO/TAO_DIR/frames/val/YFCC100M/v_5184aeb820dfcb8aa8f4c56c79107373/frame0501.jpeg'\n"
     ]
    },
    {
     "name": "stderr",
     "output_type": "stream",
     "text": [
      "\n",
      ">>> Finding TAO birdhouse...: 100%|████████████████████████████████████████████████| 40/40 [00:00<00:00, 363.61it/s]\u001b[A\n",
      "\n",
      ">>> Finding TAO birdhouse...: 100%|████████████████████████████████████████████████| 40/40 [00:00<00:00, 434.78it/s]\u001b[A\n",
      " 14%|██████████▎                                                                 | 171/1261 [01:05<08:31,  2.13it/s]\n",
      ">>> Finding TAO biscuit_(bread)...:   0%|                                                    | 0/33 [00:00<?, ?it/s]\u001b[A"
     ]
    },
    {
     "name": "stdout",
     "output_type": "stream",
     "text": [
      ">>>> #WARNING: No file found for: TAO birdhouse...\n",
      "[Errno 2] No such file or directory: 'D:/external_datasets/TAO/TAO_DIR/frames/val/YFCC100M/v_5184aeb820dfcb8aa8f4c56c79107373/frame0201.jpeg'\n",
      ">>>> #WARNING: No file found for: TAO birdhouse...\n",
      "\n",
      ">> birthday_cake...\n",
      ">>>> #WARNING birthday_cake is missing from json annotations\n",
      "annotations datasets:  []\n",
      "annotations imgids:  []\n",
      "annotations bbox:  []\n",
      "\n",
      ">> birthday_card...\n",
      ">>>> #WARNING birthday_card is missing from json annotations\n",
      "annotations datasets:  []\n",
      "annotations imgids:  []\n",
      "annotations bbox:  []\n",
      "\n",
      ">> biscuit_(bread)...\n",
      "TAO\n",
      "[Errno 2] No such file or directory: 'D:/external_datasets/TAO/TAO_DIR/frames/val/YFCC100M/v_398d7a88e5c328d95d85ed7068f999ac/frame1321.jpeg'\n"
     ]
    },
    {
     "name": "stderr",
     "output_type": "stream",
     "text": [
      "\n",
      ">>> Finding TAO biscuit_(bread)...: 100%|██████████████████████████████████████████| 33/33 [00:00<00:00, 285.82it/s]\u001b[A\n",
      "\n",
      ">>> Finding TAO biscuit_(bread)...: 100%|██████████████████████████████████████████| 33/33 [00:00<00:00, 451.87it/s]\u001b[A\n",
      "\n",
      ">>> Finding TAO biscuit_(bread)...: 100%|██████████████████████████████████████████| 33/33 [00:00<00:00, 439.98it/s]\u001b[A\n",
      "\n",
      ">>> Finding TAO biscuit_(bread)...:   0%|                                                    | 0/33 [00:00<?, ?it/s]\u001b[A"
     ]
    },
    {
     "name": "stdout",
     "output_type": "stream",
     "text": [
      ">>>> #WARNING: No file found for: TAO biscuit_(bread)...\n",
      "[Errno 2] No such file or directory: 'D:/external_datasets/TAO/TAO_DIR/frames/val/YFCC100M/v_398d7a88e5c328d95d85ed7068f999ac/frame1231.jpeg'\n",
      ">>>> #WARNING: No file found for: TAO biscuit_(bread)...\n",
      "[Errno 2] No such file or directory: 'D:/external_datasets/TAO/TAO_DIR/frames/val/YFCC100M/v_398d7a88e5c328d95d85ed7068f999ac/frame1261.jpeg'\n",
      ">>>> #WARNING: No file found for: TAO biscuit_(bread)...\n",
      "[Errno 2] No such file or directory: 'D:/external_datasets/TAO/TAO_DIR/frames/val/YFCC100M/v_398d7a88e5c328d95d85ed7068f999ac/frame0181.jpeg'\n"
     ]
    },
    {
     "name": "stderr",
     "output_type": "stream",
     "text": [
      ">>> Finding TAO biscuit_(bread)...: 100%|██████████████████████████████████████████| 33/33 [00:00<00:00, 445.93it/s]\n",
      "\n",
      ">>> Finding TAO biscuit_(bread)...: 100%|██████████████████████████████████████████| 33/33 [00:00<00:00, 464.66it/s]\u001b[A\n",
      " 14%|██████████▍                                                                 | 174/1261 [01:06<06:49,  2.66it/s]"
     ]
    },
    {
     "name": "stdout",
     "output_type": "stream",
     "text": [
      ">>>> #WARNING: No file found for: TAO biscuit_(bread)...\n",
      "[Errno 2] No such file or directory: 'D:/external_datasets/TAO/TAO_DIR/frames/val/YFCC100M/v_d389d21ddef286b3febd14de1db31615/frame0421.jpeg'\n",
      ">>>> #WARNING: No file found for: TAO biscuit_(bread)...\n",
      "\n",
      ">> pirate_flag...\n",
      ">>>> #WARNING pirate_flag is missing from json annotations\n",
      "annotations datasets:  []\n",
      "annotations imgids:  []\n",
      "annotations bbox:  []\n",
      "\n",
      ">> black_sheep...\n",
      "TAO\n"
     ]
    },
    {
     "name": "stderr",
     "output_type": "stream",
     "text": [
      " 14%|██████████▌                                                                 | 176/1261 [01:07<06:46,  2.67it/s]"
     ]
    },
    {
     "name": "stdout",
     "output_type": "stream",
     "text": [
      "\n",
      ">> blackboard...\n",
      ">>>> #WARNING blackboard is missing from json annotations\n",
      "annotations datasets:  []\n",
      "annotations imgids:  []\n",
      "annotations bbox:  []\n",
      "\n",
      ">> blanket...\n",
      "TAO\n"
     ]
    },
    {
     "name": "stderr",
     "output_type": "stream",
     "text": [
      "\n",
      ">>> Finding TAO blanket...:   0%|                                                           | 0/847 [00:00<?, ?it/s]\u001b[A"
     ]
    },
    {
     "name": "stdout",
     "output_type": "stream",
     "text": [
      "[Errno 2] No such file or directory: 'D:/external_datasets/TAO/TAO_DIR/frames/train/AVA/XOe9GeojzCs_scene_12_60598-62522/frame1351.jpg'\n"
     ]
    },
    {
     "name": "stderr",
     "output_type": "stream",
     "text": [
      "\n",
      "\n",
      ">>> Finding TAO blanket...:   0%|                                                   | 1/847 [00:00<00:46, 18.38it/s]\u001b[A\n",
      " 14%|██████████▋                                                                 | 178/1261 [01:08<07:37,  2.37it/s]"
     ]
    },
    {
     "name": "stdout",
     "output_type": "stream",
     "text": [
      "[Errno 2] No such file or directory: 'D:/external_datasets/TAO/TAO_DIR/frames/val/YFCC100M/v_639ef52f98e0f2dfa86cda1cae5e914/frame1531.jpeg'\n",
      "\n",
      ">> blazer...\n",
      ">>>> #WARNING blazer is missing from json annotations\n",
      "annotations datasets:  []\n",
      "annotations imgids:  []\n",
      "annotations bbox:  []\n",
      "\n",
      ">> blender...\n",
      ">>>> #WARNING blender is missing from json annotations\n",
      "annotations datasets:  []\n",
      "annotations imgids:  []\n",
      "annotations bbox:  []\n",
      "\n",
      ">> blimp...\n",
      ">>>> #WARNING blimp is missing from json annotations\n",
      "annotations datasets:  []\n",
      "annotations imgids:  []\n",
      "annotations bbox:  []\n",
      "\n",
      ">> blinker...\n",
      ">>>> #WARNING blinker is missing from json annotations\n",
      "annotations datasets:  []\n",
      "annotations imgids:  []\n",
      "annotations bbox:  []\n",
      "\n",
      ">> blueberry...\n",
      ">>>> #WARNING blueberry is missing from json annotations\n",
      "annotations datasets:  []\n",
      "annotations imgids:  []\n",
      "annotations bbox:  []\n",
      "\n",
      ">> boar...\n",
      ">>>> #WARNING boar is missing from json annotations\n",
      "annotations datasets:  []\n",
      "annotations imgids:  []\n",
      "annotations bbox:  []\n",
      "\n",
      ">> gameboard...\n",
      ">>>> #WARNING gameboard is missing from json annotations\n",
      "annotations datasets:  []\n",
      "annotations imgids:  []\n",
      "annotations bbox:  []\n",
      "\n",
      ">> bobbin...\n",
      ">>>> #WARNING bobbin is missing from json annotations\n",
      "annotations datasets:  []\n",
      "annotations imgids:  []\n",
      "annotations bbox:  []\n",
      "\n",
      ">> bobby_pin...\n",
      ">>>> #WARNING bobby_pin is missing from json annotations\n",
      "annotations datasets:  []\n",
      "annotations imgids:  []\n",
      "annotations bbox:  []\n",
      "\n",
      ">> boiled_egg...\n",
      ">>>> #WARNING boiled_egg is missing from json annotations\n",
      "annotations datasets:  []\n",
      "annotations imgids:  []\n",
      "annotations bbox:  []\n",
      "\n",
      ">> bolo_tie...\n",
      ">>>> #WARNING bolo_tie is missing from json annotations\n",
      "annotations datasets:  []\n",
      "annotations imgids:  []\n",
      "annotations bbox:  []\n",
      "\n",
      ">> deadbolt...\n",
      ">>>> #WARNING deadbolt is missing from json annotations\n",
      "annotations datasets:  []\n",
      "annotations imgids:  []\n",
      "annotations bbox:  []\n",
      "\n",
      ">> bolt...\n",
      ">>>> #WARNING bolt is missing from json annotations\n",
      "annotations datasets:  []\n",
      "annotations imgids:  []\n",
      "annotations bbox:  []\n",
      "\n",
      ">> bonnet...\n",
      ">>>> #WARNING bonnet is missing from json annotations\n",
      "annotations datasets:  []\n",
      "annotations imgids:  []\n",
      "annotations bbox:  []\n",
      "\n",
      ">> book_bag...\n",
      ">>>> #WARNING book_bag is missing from json annotations\n",
      "annotations datasets:  []\n",
      "annotations imgids:  []\n",
      "annotations bbox:  []\n",
      "\n",
      ">> bookcase...\n",
      ">>>> #WARNING bookcase is missing from json annotations\n",
      "annotations datasets:  []\n",
      "annotations imgids:  []\n",
      "annotations bbox:  []\n",
      "\n",
      ">> booklet...\n",
      "TAO\n"
     ]
    },
    {
     "name": "stderr",
     "output_type": "stream",
     "text": [
      " 15%|███████████▊                                                                | 195/1261 [01:08<05:29,  3.24it/s]"
     ]
    },
    {
     "name": "stdout",
     "output_type": "stream",
     "text": [
      "\n",
      ">> bookmark...\n",
      ">>>> #WARNING bookmark is missing from json annotations\n",
      "annotations datasets:  []\n",
      "annotations imgids:  []\n",
      "annotations bbox:  []\n",
      "\n",
      ">> boom_microphone...\n",
      ">>>> #WARNING boom_microphone is missing from json annotations\n",
      "annotations datasets:  []\n",
      "annotations imgids:  []\n",
      "annotations bbox:  []\n",
      "\n",
      ">> boot...\n",
      ">>>> #WARNING boot is missing from json annotations\n",
      "annotations datasets:  []\n",
      "annotations imgids:  []\n",
      "annotations bbox:  []\n",
      "\n",
      ">> bottle_opener...\n",
      ">>>> #WARNING bottle_opener is missing from json annotations\n",
      "annotations datasets:  []\n",
      "annotations imgids:  []\n",
      "annotations bbox:  []\n",
      "\n",
      ">> bouquet...\n",
      ">>>> #WARNING bouquet is missing from json annotations\n",
      "annotations datasets:  []\n",
      "annotations imgids:  []\n",
      "annotations bbox:  []\n",
      "\n",
      ">> bow_(weapon)...\n",
      "TAO\n"
     ]
    },
    {
     "name": "stderr",
     "output_type": "stream",
     "text": [
      " 16%|████████████                                                                | 201/1261 [01:09<04:35,  3.84it/s]"
     ]
    },
    {
     "name": "stdout",
     "output_type": "stream",
     "text": [
      "\n",
      ">> bow_(decorative_ribbons)...\n",
      ">>>> #WARNING bow_(decorative_ribbons) is missing from json annotations\n",
      "annotations datasets:  []\n",
      "annotations imgids:  []\n",
      "annotations bbox:  []\n",
      "\n",
      ">> bow-tie...\n",
      ">>>> #WARNING bow-tie is missing from json annotations\n",
      "annotations datasets:  []\n",
      "annotations imgids:  []\n",
      "annotations bbox:  []\n",
      "\n",
      ">> pipe_bowl...\n",
      ">>>> #WARNING pipe_bowl is missing from json annotations\n",
      "annotations datasets:  []\n",
      "annotations imgids:  []\n",
      "annotations bbox:  []\n",
      "\n",
      ">> bowler_hat...\n",
      ">>>> #WARNING bowler_hat is missing from json annotations\n",
      "annotations datasets:  []\n",
      "annotations imgids:  []\n",
      "annotations bbox:  []\n",
      "\n",
      ">> bowling_ball...\n",
      ">>>> #WARNING bowling_ball is missing from json annotations\n",
      "annotations datasets:  []\n",
      "annotations imgids:  []\n",
      "annotations bbox:  []\n",
      "\n",
      ">> bowling_pin...\n",
      ">>>> #WARNING bowling_pin is missing from json annotations\n",
      "annotations datasets:  []\n",
      "annotations imgids:  []\n",
      "annotations bbox:  []\n",
      "\n",
      ">> boxing_glove...\n",
      ">>>> #WARNING boxing_glove is missing from json annotations\n",
      "annotations datasets:  []\n",
      "annotations imgids:  []\n",
      "annotations bbox:  []\n",
      "\n",
      ">> suspenders...\n",
      ">>>> #WARNING suspenders is missing from json annotations\n",
      "annotations datasets:  []\n",
      "annotations imgids:  []\n",
      "annotations bbox:  []\n",
      "\n",
      ">> bracelet...\n",
      ">>>> #WARNING bracelet is missing from json annotations\n",
      "annotations datasets:  []\n",
      "annotations imgids:  []\n",
      "annotations bbox:  []\n",
      "\n",
      ">> brass_plaque...\n",
      ">>>> #WARNING brass_plaque is missing from json annotations\n",
      "annotations datasets:  []\n",
      "annotations imgids:  []\n",
      "annotations bbox:  []\n",
      "\n",
      ">> brassiere...\n",
      ">>>> #WARNING brassiere is missing from json annotations\n",
      "annotations datasets:  []\n",
      "annotations imgids:  []\n",
      "annotations bbox:  []\n",
      "\n",
      ">> bread-bin...\n",
      ">>>> #WARNING bread-bin is missing from json annotations\n",
      "annotations datasets:  []\n",
      "annotations imgids:  []\n",
      "annotations bbox:  []\n",
      "\n",
      ">> breechcloth...\n",
      ">>>> #WARNING breechcloth is missing from json annotations\n",
      "annotations datasets:  []\n",
      "annotations imgids:  []\n",
      "annotations bbox:  []\n",
      "\n",
      ">> bridal_gown...\n",
      ">>>> #WARNING bridal_gown is missing from json annotations\n",
      "annotations datasets:  []\n",
      "annotations imgids:  []\n",
      "annotations bbox:  []\n",
      "\n",
      ">> briefcase...\n",
      "TAO\n"
     ]
    },
    {
     "name": "stderr",
     "output_type": "stream",
     "text": [
      " 17%|█████████████                                                               | 216/1261 [01:10<03:28,  5.02it/s]"
     ]
    },
    {
     "name": "stdout",
     "output_type": "stream",
     "text": [
      "\n",
      ">> bristle_brush...\n",
      ">>>> #WARNING bristle_brush is missing from json annotations\n",
      "annotations datasets:  []\n",
      "annotations imgids:  []\n",
      "annotations bbox:  []\n",
      "\n",
      ">> broach...\n",
      ">>>> #WARNING broach is missing from json annotations\n",
      "annotations datasets:  []\n",
      "annotations imgids:  []\n",
      "annotations bbox:  []\n",
      "\n",
      ">> broom...\n",
      "TAO\n"
     ]
    },
    {
     "name": "stderr",
     "output_type": "stream",
     "text": [
      "\n",
      ">>> Finding TAO broom...:   0%|                                                             | 0/556 [00:00<?, ?it/s]\u001b[A"
     ]
    },
    {
     "name": "stdout",
     "output_type": "stream",
     "text": [
      "[Errno 2] No such file or directory: 'D:/external_datasets/TAO/TAO_DIR/frames/val/Charades/9RX96/frame1171.jpg'\n"
     ]
    },
    {
     "name": "stderr",
     "output_type": "stream",
     "text": [
      "\n",
      " 17%|█████████████▏                                                              | 219/1261 [01:11<04:07,  4.21it/s]"
     ]
    },
    {
     "name": "stdout",
     "output_type": "stream",
     "text": [
      "\n",
      ">> brownie...\n",
      ">>>> #WARNING brownie is missing from json annotations\n",
      "annotations datasets:  []\n",
      "annotations imgids:  []\n",
      "annotations bbox:  []\n",
      "\n",
      ">> brussels_sprouts...\n",
      ">>>> #WARNING brussels_sprouts is missing from json annotations\n",
      "annotations datasets:  []\n",
      "annotations imgids:  []\n",
      "annotations bbox:  []\n",
      "\n",
      ">> bubble_gum...\n",
      ">>>> #WARNING bubble_gum is missing from json annotations\n",
      "annotations datasets:  []\n",
      "annotations imgids:  []\n",
      "annotations bbox:  []\n",
      "\n",
      ">> bucket...\n",
      "TAO\n"
     ]
    },
    {
     "name": "stderr",
     "output_type": "stream",
     "text": [
      " 18%|█████████████▍                                                              | 223/1261 [01:12<03:56,  4.40it/s]\n",
      ">>> Finding TAO bull...:   0%|                                                               | 0/80 [00:00<?, ?it/s]\u001b[A"
     ]
    },
    {
     "name": "stdout",
     "output_type": "stream",
     "text": [
      "\n",
      ">> horse_buggy...\n",
      ">>>> #WARNING horse_buggy is missing from json annotations\n",
      "annotations datasets:  []\n",
      "annotations imgids:  []\n",
      "annotations bbox:  []\n",
      "\n",
      ">> bull...\n",
      "TAO\n",
      "[Errno 2] No such file or directory: 'D:/external_datasets/TAO/TAO_DIR/frames/val/HACS/Bullfighting_v_zkKpaYdtrzc_scene_0_0-2235/frame1141.jpg'\n"
     ]
    },
    {
     "name": "stderr",
     "output_type": "stream",
     "text": [
      "\n",
      "\n",
      ">>> Finding TAO bull...:   1%|▋                                                      | 1/80 [00:00<00:05, 15.14it/s]\u001b[A\n"
     ]
    },
    {
     "name": "stdout",
     "output_type": "stream",
     "text": [
      "[Errno 2] No such file or directory: 'D:/external_datasets/TAO/TAO_DIR/frames/train/HACS/Bullfighting_v_313tbNN4J3o_scene_0_0-2039/frame1081.jpg'\n"
     ]
    },
    {
     "name": "stderr",
     "output_type": "stream",
     "text": [
      " 18%|█████████████▌                                                              | 225/1261 [01:13<04:54,  3.52it/s]"
     ]
    },
    {
     "name": "stdout",
     "output_type": "stream",
     "text": [
      "\n",
      ">> bulldog...\n",
      ">>>> #WARNING bulldog is missing from json annotations\n",
      "annotations datasets:  []\n",
      "annotations imgids:  []\n",
      "annotations bbox:  []\n",
      "\n",
      ">> bulldozer...\n",
      ">>>> #WARNING bulldozer is missing from json annotations\n",
      "annotations datasets:  []\n",
      "annotations imgids:  []\n",
      "annotations bbox:  []\n",
      "\n",
      ">> bullet_train...\n",
      ">>>> #WARNING bullet_train is missing from json annotations\n",
      "annotations datasets:  []\n",
      "annotations imgids:  []\n",
      "annotations bbox:  []\n",
      "\n",
      ">> bulletin_board...\n",
      ">>>> #WARNING bulletin_board is missing from json annotations\n",
      "annotations datasets:  []\n",
      "annotations imgids:  []\n",
      "annotations bbox:  []\n",
      "\n",
      ">> bulletproof_vest...\n",
      ">>>> #WARNING bulletproof_vest is missing from json annotations\n",
      "annotations datasets:  []\n",
      "annotations imgids:  []\n",
      "annotations bbox:  []\n",
      "\n",
      ">> bullhorn...\n",
      ">>>> #WARNING bullhorn is missing from json annotations\n",
      "annotations datasets:  []\n",
      "annotations imgids:  []\n",
      "annotations bbox:  []\n",
      "\n",
      ">> corned_beef...\n",
      ">>>> #WARNING corned_beef is missing from json annotations\n",
      "annotations datasets:  []\n",
      "annotations imgids:  []\n",
      "annotations bbox:  []\n",
      "\n",
      ">> bun...\n",
      "TAO\n"
     ]
    },
    {
     "name": "stderr",
     "output_type": "stream",
     "text": [
      " 18%|██████████████                                                              | 233/1261 [01:13<03:52,  4.41it/s]"
     ]
    },
    {
     "name": "stdout",
     "output_type": "stream",
     "text": [
      "\n",
      ">> bunk_bed...\n",
      ">>>> #WARNING bunk_bed is missing from json annotations\n",
      "annotations datasets:  []\n",
      "annotations imgids:  []\n",
      "annotations bbox:  []\n",
      "\n",
      ">> buoy...\n",
      "TAO\n"
     ]
    },
    {
     "name": "stderr",
     "output_type": "stream",
     "text": [
      " 19%|██████████████▏                                                             | 235/1261 [01:14<04:34,  3.74it/s]\n",
      ">>> Finding TAO bus_(vehicle)...:   0%|                                                     | 0/409 [00:00<?, ?it/s]\u001b[A\n"
     ]
    },
    {
     "name": "stdout",
     "output_type": "stream",
     "text": [
      "\n",
      ">> burrito...\n",
      ">>>> #WARNING burrito is missing from json annotations\n",
      "annotations datasets:  []\n",
      "annotations imgids:  []\n",
      "annotations bbox:  []\n",
      "\n",
      ">> bus_(vehicle)...\n",
      "TAO\n",
      "[Errno 2] No such file or directory: 'D:/external_datasets/TAO/TAO_DIR/frames/val/ArgoVerse/33737504-3373-3373-3373-633738571776/ring_front_center_315968429998070752.jpg'\n",
      "[Errno 2] No such file or directory: 'D:/external_datasets/TAO/TAO_DIR/frames/val/ArgoVerse/33737504-3373-3373-3373-633738571776/ring_front_center_315968424004070240.jpg'\n"
     ]
    },
    {
     "name": "stderr",
     "output_type": "stream",
     "text": [
      "\n",
      ">>> Finding TAO bus_(vehicle)...:   0%|                                             | 1/409 [00:00<00:22, 17.85it/s]\u001b[A\n",
      "\n",
      ">>> Finding TAO bus_(vehicle)...:   0%|▏                                            | 2/409 [00:00<00:12, 31.75it/s]\u001b[A"
     ]
    },
    {
     "name": "stdout",
     "output_type": "stream",
     "text": [
      "[Errno 2] No such file or directory: 'D:/external_datasets/TAO/TAO_DIR/frames/val/ArgoVerse/side_right_b1ca08f1-24b0-3c39-ba4e-d5a92868462c/ring_side_right_315980024931504096.jpg'\n"
     ]
    },
    {
     "name": "stderr",
     "output_type": "stream",
     "text": [
      "\n",
      " 19%|██████████████▎                                                             | 237/1261 [01:15<05:27,  3.12it/s]\n",
      ">>> Finding TAO business_card...: 100%|████████████████████████████████████████████| 10/10 [00:00<00:00, 623.35it/s]\u001b[A\n",
      "\n",
      ">>> Finding TAO business_card...: 100%|████████████████████████████████████████████| 10/10 [00:00<00:00, 625.12it/s]\u001b[A\n",
      "\n",
      ">>> Finding TAO business_card...: 100%|████████████████████████████████████████████| 10/10 [00:00<00:00, 586.90it/s]\u001b[A\n",
      "\n",
      ">>> Finding TAO business_card...: 100%|████████████████████████████████████████████| 10/10 [00:00<00:00, 623.30it/s]\u001b[A"
     ]
    },
    {
     "name": "stdout",
     "output_type": "stream",
     "text": [
      "\n",
      ">> business_card...\n",
      "TAO\n",
      "[Errno 2] No such file or directory: 'D:/external_datasets/TAO/TAO_DIR/frames/val/AVA/4Y5qi1gD2Sw_scene_1_28435-31083/frame1171.jpg'\n",
      ">>>> #WARNING: No file found for: TAO business_card...\n",
      "[Errno 2] No such file or directory: 'D:/external_datasets/TAO/TAO_DIR/frames/val/AVA/4Y5qi1gD2Sw_scene_1_28435-31083/frame1081.jpg'\n",
      ">>>> #WARNING: No file found for: TAO business_card...\n",
      "[Errno 2] No such file or directory: 'D:/external_datasets/TAO/TAO_DIR/frames/val/AVA/4Y5qi1gD2Sw_scene_1_28435-31083/frame1351.jpg'\n",
      ">>>> #WARNING: No file found for: TAO business_card...\n",
      "[Errno 2] No such file or directory: 'D:/external_datasets/TAO/TAO_DIR/frames/val/AVA/4Y5qi1gD2Sw_scene_1_28435-31083/frame1231.jpg'\n"
     ]
    },
    {
     "name": "stderr",
     "output_type": "stream",
     "text": [
      "\n",
      "\n",
      ">>> Finding TAO business_card...: 100%|████████████████████████████████████████████| 10/10 [00:00<00:00, 623.09it/s]\u001b[A\n",
      " 19%|██████████████▎                                                             | 238/1261 [01:15<04:52,  3.50it/s]"
     ]
    },
    {
     "name": "stdout",
     "output_type": "stream",
     "text": [
      ">>>> #WARNING: No file found for: TAO business_card...\n",
      "[Errno 2] No such file or directory: 'D:/external_datasets/TAO/TAO_DIR/frames/val/AVA/4Y5qi1gD2Sw_scene_1_28435-31083/frame1141.jpg'\n",
      ">>>> #WARNING: No file found for: TAO business_card...\n",
      "\n",
      ">> butcher_knife...\n",
      "TAO\n"
     ]
    },
    {
     "name": "stderr",
     "output_type": "stream",
     "text": [
      "\n",
      ">>> Finding TAO butcher_knife...:  36%|███████████████▋                            | 15/42 [00:00<00:00, 217.29it/s]\u001b[A\n",
      "\n",
      ">>> Finding TAO butcher_knife...:   0%|                                                      | 0/42 [00:00<?, ?it/s]\u001b[A"
     ]
    },
    {
     "name": "stdout",
     "output_type": "stream",
     "text": [
      "[Errno 2] No such file or directory: 'D:/external_datasets/TAO/TAO_DIR/frames/train/YFCC100M/v_23584c2660351f12cffe1399c47ce870/frame0811.jpeg'\n",
      "[Errno 2] No such file or directory: 'D:/external_datasets/TAO/TAO_DIR/frames/train/YFCC100M/v_23584c2660351f12cffe1399c47ce870/frame1921.jpeg'\n"
     ]
    },
    {
     "name": "stderr",
     "output_type": "stream",
     "text": [
      ">>> Finding TAO butcher_knife...:  40%|█████████████████▊                          | 17/42 [00:00<00:00, 229.60it/s]\n",
      "\n",
      ">>> Finding TAO butcher_knife...:  43%|██████████████████▊                         | 18/42 [00:00<00:00, 236.98it/s]\u001b[A\n",
      " 19%|██████████████▍                                                             | 239/1261 [01:16<07:32,  2.26it/s]"
     ]
    },
    {
     "name": "stdout",
     "output_type": "stream",
     "text": [
      "[Errno 2] No such file or directory: 'D:/external_datasets/TAO/TAO_DIR/frames/train/YFCC100M/v_23584c2660351f12cffe1399c47ce870/frame1231.jpeg'\n",
      "\n",
      ">> butter...\n",
      ">>>> #WARNING butter is missing from json annotations\n",
      "annotations datasets:  []\n",
      "annotations imgids:  []\n",
      "annotations bbox:  []\n",
      "\n",
      ">> butterfly...\n",
      ">>>> #WARNING butterfly is missing from json annotations\n",
      "annotations datasets:  []\n",
      "annotations imgids:  []\n",
      "annotations bbox:  []\n",
      "\n",
      ">> button...\n",
      ">>>> #WARNING button is missing from json annotations\n",
      "annotations datasets:  []\n",
      "annotations imgids:  []\n",
      "annotations bbox:  []\n",
      "\n",
      ">> cab_(taxi)...\n",
      "TAO\n"
     ]
    },
    {
     "name": "stderr",
     "output_type": "stream",
     "text": [
      "\n",
      ">>> Finding TAO cab_(taxi)...:   3%|█▍                                            | 27/837 [00:00<00:03, 204.40it/s]\u001b[A"
     ]
    },
    {
     "name": "stdout",
     "output_type": "stream",
     "text": [
      "[Errno 2] No such file or directory: 'D:/external_datasets/TAO/TAO_DIR/frames/val/BDD/b3599e04-2aa7d131/frame1021.jpg'\n"
     ]
    },
    {
     "name": "stderr",
     "output_type": "stream",
     "text": [
      "\n",
      " 19%|██████████████▋                                                             | 243/1261 [01:17<06:30,  2.61it/s]"
     ]
    },
    {
     "name": "stdout",
     "output_type": "stream",
     "text": [
      "\n",
      ">> cabana...\n",
      ">>>> #WARNING cabana is missing from json annotations\n",
      "annotations datasets:  []\n",
      "annotations imgids:  []\n",
      "annotations bbox:  []\n",
      "\n",
      ">> cabin_car...\n",
      ">>>> #WARNING cabin_car is missing from json annotations\n",
      "annotations datasets:  []\n",
      "annotations imgids:  []\n",
      "annotations bbox:  []\n",
      "\n",
      ">> cabinet...\n",
      ">>>> #WARNING cabinet is missing from json annotations\n",
      "annotations datasets:  []\n",
      "annotations imgids:  []\n",
      "annotations bbox:  []\n",
      "\n",
      ">> locker...\n",
      ">>>> #WARNING locker is missing from json annotations\n",
      "annotations datasets:  []\n",
      "annotations imgids:  []\n",
      "annotations bbox:  []\n",
      "\n",
      ">> calculator...\n",
      ">>>> #WARNING calculator is missing from json annotations\n",
      "annotations datasets:  []\n",
      "annotations imgids:  []\n",
      "annotations bbox:  []\n",
      "\n",
      ">> calendar...\n",
      ">>>> #WARNING calendar is missing from json annotations\n",
      "annotations datasets:  []\n",
      "annotations imgids:  []\n",
      "annotations bbox:  []\n",
      "\n",
      ">> calf...\n",
      "TAO\n"
     ]
    },
    {
     "name": "stderr",
     "output_type": "stream",
     "text": [
      "\n",
      ">>> Finding TAO calf...:   0%|                                                              | 0/284 [00:00<?, ?it/s]\u001b[A"
     ]
    },
    {
     "name": "stdout",
     "output_type": "stream",
     "text": [
      "[Errno 2] No such file or directory: 'D:/external_datasets/TAO/TAO_DIR/frames/val/HACS/Calf_roping_v_ts4a5Fw7zXE_scene_0_0-3211/frame1021.jpg'\n"
     ]
    },
    {
     "name": "stderr",
     "output_type": "stream",
     "text": [
      "\n",
      " 20%|███████████████                                                             | 250/1261 [01:18<05:06,  3.30it/s]"
     ]
    },
    {
     "name": "stdout",
     "output_type": "stream",
     "text": [
      "\n",
      ">> camcorder...\n",
      ">>>> #WARNING camcorder is missing from json annotations\n",
      "annotations datasets:  []\n",
      "annotations imgids:  []\n",
      "annotations bbox:  []\n",
      "\n",
      ">> camel...\n",
      "TAO\n"
     ]
    },
    {
     "name": "stderr",
     "output_type": "stream",
     "text": [
      " 20%|███████████████▏                                                            | 252/1261 [01:19<05:35,  3.00it/s]"
     ]
    },
    {
     "name": "stdout",
     "output_type": "stream",
     "text": [
      "\n",
      ">> camera...\n",
      "TAO\n"
     ]
    },
    {
     "name": "stderr",
     "output_type": "stream",
     "text": [
      "\n",
      ">>> Finding TAO camera...:   0%|                                                            | 0/473 [00:00<?, ?it/s]\u001b[A"
     ]
    },
    {
     "name": "stdout",
     "output_type": "stream",
     "text": [
      "[Errno 2] No such file or directory: 'D:/external_datasets/TAO/TAO_DIR/frames/val/YFCC100M/v_a8527f6556714827bb5a2cf724562d/frame1261.jpeg'\n"
     ]
    },
    {
     "name": "stderr",
     "output_type": "stream",
     "text": [
      "\n",
      " 20%|███████████████▏                                                            | 253/1261 [01:19<07:34,  2.22it/s]"
     ]
    },
    {
     "name": "stdout",
     "output_type": "stream",
     "text": [
      "\n",
      ">> camera_lens...\n",
      ">>>> #WARNING camera_lens is missing from json annotations\n",
      "annotations datasets:  []\n",
      "annotations imgids:  []\n",
      "annotations bbox:  []\n",
      "\n",
      ">> camper_(vehicle)...\n",
      ">>>> #WARNING camper_(vehicle) is missing from json annotations\n",
      "annotations datasets:  []\n",
      "annotations imgids:  []\n",
      "annotations bbox:  []\n",
      "\n",
      ">> can...\n",
      "TAO\n"
     ]
    },
    {
     "name": "stderr",
     "output_type": "stream",
     "text": [
      " 20%|███████████████▍                                                            | 256/1261 [01:21<07:22,  2.27it/s]"
     ]
    },
    {
     "name": "stdout",
     "output_type": "stream",
     "text": [
      "\n",
      ">> can_opener...\n",
      ">>>> #WARNING can_opener is missing from json annotations\n",
      "annotations datasets:  []\n",
      "annotations imgids:  []\n",
      "annotations bbox:  []\n",
      "\n",
      ">> candelabrum...\n",
      ">>>> #WARNING candelabrum is missing from json annotations\n",
      "annotations datasets:  []\n",
      "annotations imgids:  []\n",
      "annotations bbox:  []\n",
      "\n",
      ">> candle...\n",
      "TAO\n"
     ]
    },
    {
     "name": "stderr",
     "output_type": "stream",
     "text": [
      "\n",
      ">>> Finding TAO candle...:   0%|                                                             | 0/72 [00:00<?, ?it/s]\u001b[A"
     ]
    },
    {
     "name": "stdout",
     "output_type": "stream",
     "text": [
      "[Errno 2] No such file or directory: 'D:/external_datasets/TAO/TAO_DIR/frames/train/AVA/TcB0IFBwk-k_scene_8_60601-61875/frame1201.jpg'\n"
     ]
    },
    {
     "name": "stderr",
     "output_type": "stream",
     "text": [
      "\n",
      " 21%|███████████████▌                                                            | 259/1261 [01:22<06:36,  2.53it/s]"
     ]
    },
    {
     "name": "stdout",
     "output_type": "stream",
     "text": [
      "\n",
      ">> candle_holder...\n",
      ">>>> #WARNING candle_holder is missing from json annotations\n",
      "annotations datasets:  []\n",
      "annotations imgids:  []\n",
      "annotations bbox:  []\n",
      "\n",
      ">> candy_bar...\n",
      ">>>> #WARNING candy_bar is missing from json annotations\n",
      "annotations datasets:  []\n",
      "annotations imgids:  []\n",
      "annotations bbox:  []\n",
      "\n",
      ">> candy_cane...\n",
      ">>>> #WARNING candy_cane is missing from json annotations\n",
      "annotations datasets:  []\n",
      "annotations imgids:  []\n",
      "annotations bbox:  []\n",
      "\n",
      ">> walking_cane...\n",
      ">>>> #WARNING walking_cane is missing from json annotations\n",
      "annotations datasets:  []\n",
      "annotations imgids:  []\n",
      "annotations bbox:  []\n",
      "\n",
      ">> canister...\n",
      "TAO\n",
      "[Errno 2] No such file or directory: 'D:/external_datasets/TAO/TAO_DIR/frames/val/YFCC100M/v_f082f297a09e147bb990b9cc89c7ad8e/frame0751.jpeg'\n"
     ]
    },
    {
     "name": "stderr",
     "output_type": "stream",
     "text": [
      "\n",
      ">>> Finding TAO canister...:   0%|                                                          | 0/214 [00:00<?, ?it/s]\u001b[A\n",
      "\n",
      ">>> Finding TAO canister...:   0%|▏                                                 | 1/214 [00:00<00:04, 49.99it/s]\u001b[A\n"
     ]
    },
    {
     "name": "stdout",
     "output_type": "stream",
     "text": [
      "[Errno 2] No such file or directory: 'D:/external_datasets/TAO/TAO_DIR/frames/val/YFCC100M/v_f082f297a09e147bb990b9cc89c7ad8e/frame0651.jpeg'\n"
     ]
    },
    {
     "name": "stderr",
     "output_type": "stream",
     "text": [
      " 21%|███████████████▉                                                            | 264/1261 [01:22<05:20,  3.11it/s]"
     ]
    },
    {
     "name": "stdout",
     "output_type": "stream",
     "text": [
      "\n",
      ">> cannon...\n",
      ">>>> #WARNING cannon is missing from json annotations\n",
      "annotations datasets:  []\n",
      "annotations imgids:  []\n",
      "annotations bbox:  []\n",
      "\n",
      ">> canoe...\n",
      "TAO\n"
     ]
    },
    {
     "name": "stderr",
     "output_type": "stream",
     "text": [
      " 21%|████████████████                                                            | 266/1261 [01:23<05:41,  2.91it/s]"
     ]
    },
    {
     "name": "stdout",
     "output_type": "stream",
     "text": [
      "\n",
      ">> cantaloup...\n",
      ">>>> #WARNING cantaloup is missing from json annotations\n",
      "annotations datasets:  []\n",
      "annotations imgids:  []\n",
      "annotations bbox:  []\n",
      "\n",
      ">> canteen...\n",
      ">>>> #WARNING canteen is missing from json annotations\n",
      "annotations datasets:  []\n",
      "annotations imgids:  []\n",
      "annotations bbox:  []\n",
      "\n",
      ">> cap_(headwear)...\n",
      ">>>> #WARNING cap_(headwear) is missing from json annotations\n",
      "annotations datasets:  []\n",
      "annotations imgids:  []\n",
      "annotations bbox:  []\n",
      "\n",
      ">> bottle_cap...\n",
      "TAO\n",
      "[Errno 2] No such file or directory: 'D:/external_datasets/TAO/TAO_DIR/frames/val/HACS/Peeling_potatoes_v_xCDAXbnXpU0_scene_0_0-3050/frame0989.jpg'\n"
     ]
    },
    {
     "name": "stderr",
     "output_type": "stream",
     "text": [
      "\n",
      ">>> Finding TAO bottle_cap...:   0%|                                                        | 0/155 [00:00<?, ?it/s]\u001b[A\n",
      " 21%|████████████████▎                                                           | 270/1261 [01:24<05:07,  3.23it/s]\n",
      ">>> Finding TAO cape...:   0%|                                                               | 0/39 [00:00<?, ?it/s]\u001b[A\n"
     ]
    },
    {
     "name": "stdout",
     "output_type": "stream",
     "text": [
      "\n",
      ">> cape...\n",
      "TAO\n",
      "[Errno 2] No such file or directory: 'D:/external_datasets/TAO/TAO_DIR/frames/val/HACS/Bullfighting_v_zkKpaYdtrzc_scene_0_0-2235/frame1111.jpg'\n"
     ]
    },
    {
     "name": "stderr",
     "output_type": "stream",
     "text": [
      "\n",
      ">>> Finding TAO cape...:   3%|█▍                                                     | 1/39 [00:00<00:02, 15.88it/s]\u001b[A\n",
      " 21%|████████████████▎                                                           | 271/1261 [01:25<07:09,  2.30it/s]"
     ]
    },
    {
     "name": "stdout",
     "output_type": "stream",
     "text": [
      "[Errno 2] No such file or directory: 'D:/external_datasets/TAO/TAO_DIR/frames/val/HACS/Bullfighting_v_zkKpaYdtrzc_scene_0_0-2235/frame1081.jpg'\n",
      "\n",
      ">> cappuccino...\n",
      ">>>> #WARNING cappuccino is missing from json annotations\n",
      "annotations datasets:  []\n",
      "annotations imgids:  []\n",
      "annotations bbox:  []\n",
      "\n",
      ">> car_(automobile)...\n",
      "TAO\n"
     ]
    },
    {
     "name": "stderr",
     "output_type": "stream",
     "text": [
      "\n",
      ">>> Finding TAO car_(automobile)...:   0%|                                                | 0/14207 [00:00<?, ?it/s]\u001b[A"
     ]
    },
    {
     "name": "stdout",
     "output_type": "stream",
     "text": [
      "[Errno 2] No such file or directory: 'D:/external_datasets/TAO/TAO_DIR/frames/val/ArgoVerse/6db21fda-80cd-3f85-b4a7-0aadeb14724d/ring_front_center_315974060120426440.jpg'\n"
     ]
    },
    {
     "name": "stderr",
     "output_type": "stream",
     "text": [
      "\n",
      " 22%|████████████████▍                                                           | 273/1261 [01:26<07:02,  2.34it/s]\n",
      ">>> Finding TAO railcar_(part_of_a_train)...: 100%|████████████████████████████████| 20/20 [00:00<00:00, 487.22it/s]\u001b[A\n",
      "\n",
      ">>> Finding TAO railcar_(part_of_a_train)...: 100%|████████████████████████████████| 20/20 [00:00<00:00, 499.63it/s]\u001b[A\n",
      "\n",
      ">>> Finding TAO railcar_(part_of_a_train)...: 100%|████████████████████████████████| 20/20 [00:00<00:00, 525.81it/s]\u001b[A\n",
      "\n",
      ">>> Finding TAO railcar_(part_of_a_train)...:   0%|                                          | 0/20 [00:00<?, ?it/s]\u001b[A"
     ]
    },
    {
     "name": "stdout",
     "output_type": "stream",
     "text": [
      "\n",
      ">> railcar_(part_of_a_train)...\n",
      "TAO\n",
      "[Errno 2] No such file or directory: 'D:/external_datasets/TAO/TAO_DIR/frames/val/YFCC100M/v_513e50c31f11f0bdbeb599a811aa1413/frame1153.jpeg'\n",
      ">>>> #WARNING: No file found for: TAO railcar_(part_of_a_train)...\n",
      "[Errno 2] No such file or directory: 'D:/external_datasets/TAO/TAO_DIR/frames/val/YFCC100M/v_513e50c31f11f0bdbeb599a811aa1413/frame1105.jpeg'\n",
      ">>>> #WARNING: No file found for: TAO railcar_(part_of_a_train)...\n",
      "[Errno 2] No such file or directory: 'D:/external_datasets/TAO/TAO_DIR/frames/val/YFCC100M/v_513e50c31f11f0bdbeb599a811aa1413/frame1225.jpeg'\n",
      ">>>> #WARNING: No file found for: TAO railcar_(part_of_a_train)...\n",
      "[Errno 2] No such file or directory: 'D:/external_datasets/TAO/TAO_DIR/frames/val/YFCC100M/v_513e50c31f11f0bdbeb599a811aa1413/frame1057.jpeg'\n"
     ]
    },
    {
     "name": "stderr",
     "output_type": "stream",
     "text": [
      ">>> Finding TAO railcar_(part_of_a_train)...: 100%|████████████████████████████████| 20/20 [00:00<00:00, 475.68it/s]\n",
      "\n",
      ">>> Finding TAO railcar_(part_of_a_train)...: 100%|████████████████████████████████| 20/20 [00:00<00:00, 512.18it/s]\u001b[A\n",
      " 22%|████████████████▌                                                           | 274/1261 [01:26<06:18,  2.61it/s]"
     ]
    },
    {
     "name": "stdout",
     "output_type": "stream",
     "text": [
      ">>>> #WARNING: No file found for: TAO railcar_(part_of_a_train)...\n",
      "[Errno 2] No such file or directory: 'D:/external_datasets/TAO/TAO_DIR/frames/val/YFCC100M/v_513e50c31f11f0bdbeb599a811aa1413/frame1129.jpeg'\n",
      ">>>> #WARNING: No file found for: TAO railcar_(part_of_a_train)...\n",
      "\n",
      ">> elevator_car...\n",
      ">>>> #WARNING elevator_car is missing from json annotations\n",
      "annotations datasets:  []\n",
      "annotations imgids:  []\n",
      "annotations bbox:  []\n",
      "\n",
      ">> car_battery...\n",
      "TAO\n"
     ]
    },
    {
     "name": "stderr",
     "output_type": "stream",
     "text": [
      " 22%|████████████████▋                                                           | 276/1261 [01:27<06:11,  2.65it/s]"
     ]
    },
    {
     "name": "stdout",
     "output_type": "stream",
     "text": [
      "\n",
      ">> identity_card...\n",
      ">>>> #WARNING identity_card is missing from json annotations\n",
      "annotations datasets:  []\n",
      "annotations imgids:  []\n",
      "annotations bbox:  []\n",
      "\n",
      ">> card...\n",
      ">>>> #WARNING card is missing from json annotations\n",
      "annotations datasets:  []\n",
      "annotations imgids:  []\n",
      "annotations bbox:  []\n",
      "\n",
      ">> cardigan...\n",
      ">>>> #WARNING cardigan is missing from json annotations\n",
      "annotations datasets:  []\n",
      "annotations imgids:  []\n",
      "annotations bbox:  []\n",
      "\n",
      ">> cargo_ship...\n",
      ">>>> #WARNING cargo_ship is missing from json annotations\n",
      "annotations datasets:  []\n",
      "annotations imgids:  []\n",
      "annotations bbox:  []\n",
      "\n",
      ">> carnation...\n",
      ">>>> #WARNING carnation is missing from json annotations\n",
      "annotations datasets:  []\n",
      "annotations imgids:  []\n",
      "annotations bbox:  []\n",
      "\n",
      ">> horse_carriage...\n",
      ">>>> #WARNING horse_carriage is missing from json annotations\n",
      "annotations datasets:  []\n",
      "annotations imgids:  []\n",
      "annotations bbox:  []\n",
      "\n",
      ">> tote_bag...\n",
      ">>>> #WARNING tote_bag is missing from json annotations\n",
      "annotations datasets:  []\n",
      "annotations imgids:  []\n",
      "annotations bbox:  []\n",
      "\n",
      ">> cart...\n",
      ">>>> #WARNING cart is missing from json annotations\n",
      "annotations datasets:  []\n",
      "annotations imgids:  []\n",
      "annotations bbox:  []\n",
      "\n",
      ">> carton...\n",
      "TAO\n"
     ]
    },
    {
     "name": "stderr",
     "output_type": "stream",
     "text": [
      "\n",
      ">>> Finding TAO carton...:   0%|                                                            | 0/759 [00:00<?, ?it/s]\u001b[A"
     ]
    },
    {
     "name": "stdout",
     "output_type": "stream",
     "text": [
      "[Errno 2] No such file or directory: 'D:/external_datasets/TAO/TAO_DIR/frames/val/HACS/Blowing_leaves_v_DHPlnUw3jjw_scene_0_0-3478/frame1111.jpg'\n"
     ]
    },
    {
     "name": "stderr",
     "output_type": "stream",
     "text": [
      "\n",
      " 23%|█████████████████▏                                                          | 285/1261 [01:27<04:46,  3.40it/s]"
     ]
    },
    {
     "name": "stdout",
     "output_type": "stream",
     "text": [
      "\n",
      ">> cash_register...\n",
      ">>>> #WARNING cash_register is missing from json annotations\n",
      "annotations datasets:  []\n",
      "annotations imgids:  []\n",
      "annotations bbox:  []\n",
      "\n",
      ">> casserole...\n",
      ">>>> #WARNING casserole is missing from json annotations\n",
      "annotations datasets:  []\n",
      "annotations imgids:  []\n",
      "annotations bbox:  []\n",
      "\n",
      ">> cassette...\n",
      ">>>> #WARNING cassette is missing from json annotations\n",
      "annotations datasets:  []\n",
      "annotations imgids:  []\n",
      "annotations bbox:  []\n",
      "\n",
      ">> cast...\n",
      ">>>> #WARNING cast is missing from json annotations\n",
      "annotations datasets:  []\n",
      "annotations imgids:  []\n",
      "annotations bbox:  []\n",
      "\n",
      ">> cauliflower...\n",
      ">>>> #WARNING cauliflower is missing from json annotations\n",
      "annotations datasets:  []\n",
      "annotations imgids:  []\n",
      "annotations bbox:  []\n",
      "\n",
      ">> caviar...\n",
      ">>>> #WARNING caviar is missing from json annotations\n",
      "annotations datasets:  []\n",
      "annotations imgids:  []\n",
      "annotations bbox:  []\n",
      "\n",
      ">> cayenne_(spice)...\n",
      ">>>> #WARNING cayenne_(spice) is missing from json annotations\n",
      "annotations datasets:  []\n",
      "annotations imgids:  []\n",
      "annotations bbox:  []\n",
      "\n",
      ">> CD_player...\n",
      ">>>> #WARNING CD_player is missing from json annotations\n",
      "annotations datasets:  []\n",
      "annotations imgids:  []\n",
      "annotations bbox:  []\n",
      "\n",
      ">> celery...\n",
      ">>>> #WARNING celery is missing from json annotations\n",
      "annotations datasets:  []\n",
      "annotations imgids:  []\n",
      "annotations bbox:  []\n",
      "\n",
      ">> cellular_telephone...\n",
      "TAO\n"
     ]
    },
    {
     "name": "stderr",
     "output_type": "stream",
     "text": [
      " 23%|█████████████████▊                                                          | 295/1261 [01:29<03:52,  4.16it/s]"
     ]
    },
    {
     "name": "stdout",
     "output_type": "stream",
     "text": [
      "\n",
      ">> chain_mail...\n",
      "TAO\n"
     ]
    },
    {
     "name": "stderr",
     "output_type": "stream",
     "text": [
      " 23%|█████████████████▊                                                          | 296/1261 [01:29<06:24,  2.51it/s]"
     ]
    },
    {
     "name": "stdout",
     "output_type": "stream",
     "text": [
      "\n",
      ">> chaise_longue...\n",
      ">>>> #WARNING chaise_longue is missing from json annotations\n",
      "annotations datasets:  []\n",
      "annotations imgids:  []\n",
      "annotations bbox:  []\n",
      "\n",
      ">> champagne...\n",
      ">>>> #WARNING champagne is missing from json annotations\n",
      "annotations datasets:  []\n",
      "annotations imgids:  []\n",
      "annotations bbox:  []\n",
      "\n",
      ">> chandelier...\n",
      ">>>> #WARNING chandelier is missing from json annotations\n",
      "annotations datasets:  []\n",
      "annotations imgids:  []\n",
      "annotations bbox:  []\n",
      "\n",
      ">> chap...\n",
      ">>>> #WARNING chap is missing from json annotations\n",
      "annotations datasets:  []\n",
      "annotations imgids:  []\n",
      "annotations bbox:  []\n",
      "\n",
      ">> checkbook...\n",
      ">>>> #WARNING checkbook is missing from json annotations\n",
      "annotations datasets:  []\n",
      "annotations imgids:  []\n",
      "annotations bbox:  []\n",
      "\n",
      ">> checkerboard...\n",
      ">>>> #WARNING checkerboard is missing from json annotations\n",
      "annotations datasets:  []\n",
      "annotations imgids:  []\n",
      "annotations bbox:  []\n",
      "\n",
      ">> cherry...\n",
      ">>>> #WARNING cherry is missing from json annotations\n",
      "annotations datasets:  []\n",
      "annotations imgids:  []\n",
      "annotations bbox:  []\n",
      "\n",
      ">> chessboard...\n",
      ">>>> #WARNING chessboard is missing from json annotations\n",
      "annotations datasets:  []\n",
      "annotations imgids:  []\n",
      "annotations bbox:  []\n",
      "\n",
      ">> chest_of_drawers_(furniture)...\n",
      ">>>> #WARNING chest_of_drawers_(furniture) is missing from json annotations\n",
      "annotations datasets:  []\n",
      "annotations imgids:  []\n",
      "annotations bbox:  []\n",
      "\n",
      ">> chicken_(animal)...\n",
      "TAO\n"
     ]
    },
    {
     "name": "stderr",
     "output_type": "stream",
     "text": [
      " 24%|██████████████████▍                                                         | 306/1261 [01:30<04:48,  3.31it/s]"
     ]
    },
    {
     "name": "stdout",
     "output_type": "stream",
     "text": [
      "\n",
      ">> chicken_wire...\n",
      ">>>> #WARNING chicken_wire is missing from json annotations\n",
      "annotations datasets:  []\n",
      "annotations imgids:  []\n",
      "annotations bbox:  []\n",
      "\n",
      ">> chickpea...\n",
      ">>>> #WARNING chickpea is missing from json annotations\n",
      "annotations datasets:  []\n",
      "annotations imgids:  []\n",
      "annotations bbox:  []\n",
      "\n",
      ">> Chihuahua...\n",
      ">>>> #WARNING Chihuahua is missing from json annotations\n",
      "annotations datasets:  []\n",
      "annotations imgids:  []\n",
      "annotations bbox:  []\n",
      "\n",
      ">> chili_(vegetable)...\n",
      ">>>> #WARNING chili_(vegetable) is missing from json annotations\n",
      "annotations datasets:  []\n",
      "annotations imgids:  []\n",
      "annotations bbox:  []\n",
      "\n",
      ">> chime...\n",
      ">>>> #WARNING chime is missing from json annotations\n",
      "annotations datasets:  []\n",
      "annotations imgids:  []\n",
      "annotations bbox:  []\n",
      "\n",
      ">> chinaware...\n",
      ">>>> #WARNING chinaware is missing from json annotations\n",
      "annotations datasets:  []\n",
      "annotations imgids:  []\n",
      "annotations bbox:  []\n",
      "\n",
      ">> crisp_(potato_chip)...\n",
      "TAO\n"
     ]
    },
    {
     "name": "stderr",
     "output_type": "stream",
     "text": [
      " 25%|██████████████████▊                                                         | 313/1261 [01:31<03:53,  4.06it/s]"
     ]
    },
    {
     "name": "stdout",
     "output_type": "stream",
     "text": [
      "\n",
      ">> poker_chip...\n",
      ">>>> #WARNING poker_chip is missing from json annotations\n",
      "annotations datasets:  []\n",
      "annotations imgids:  []\n",
      "annotations bbox:  []\n",
      "\n",
      ">> chocolate_bar...\n",
      ">>>> #WARNING chocolate_bar is missing from json annotations\n",
      "annotations datasets:  []\n",
      "annotations imgids:  []\n",
      "annotations bbox:  []\n",
      "\n",
      ">> chocolate_cake...\n",
      ">>>> #WARNING chocolate_cake is missing from json annotations\n",
      "annotations datasets:  []\n",
      "annotations imgids:  []\n",
      "annotations bbox:  []\n",
      "\n",
      ">> chocolate_milk...\n",
      ">>>> #WARNING chocolate_milk is missing from json annotations\n",
      "annotations datasets:  []\n",
      "annotations imgids:  []\n",
      "annotations bbox:  []\n",
      "\n",
      ">> chocolate_mousse...\n",
      ">>>> #WARNING chocolate_mousse is missing from json annotations\n",
      "annotations datasets:  []\n",
      "annotations imgids:  []\n",
      "annotations bbox:  []\n",
      "\n",
      ">> choker...\n",
      ">>>> #WARNING choker is missing from json annotations\n",
      "annotations datasets:  []\n",
      "annotations imgids:  []\n",
      "annotations bbox:  []\n",
      "\n",
      ">> chopping_board...\n",
      ">>>> #WARNING chopping_board is missing from json annotations\n",
      "annotations datasets:  []\n",
      "annotations imgids:  []\n",
      "annotations bbox:  []\n",
      "\n",
      ">> chopstick...\n",
      "TAO\n"
     ]
    },
    {
     "name": "stderr",
     "output_type": "stream",
     "text": [
      "\n",
      ">>> Finding TAO chopstick...:   0%|                                                          | 0/64 [00:00<?, ?it/s]\u001b[A\n",
      "\n",
      ">>> Finding TAO chopstick...:   2%|▊                                                 | 1/64 [00:00<00:01, 62.57it/s]\u001b[A"
     ]
    },
    {
     "name": "stdout",
     "output_type": "stream",
     "text": [
      "[Errno 2] No such file or directory: 'D:/external_datasets/TAO/TAO_DIR/frames/train/AVA/QotkBTEePI8_scene_2_24728-26072/frame0985.jpg'\n",
      "[Errno 2] No such file or directory: 'D:/external_datasets/TAO/TAO_DIR/frames/train/AVA/QotkBTEePI8_scene_2_24728-26072/frame1081.jpg'\n"
     ]
    },
    {
     "name": "stderr",
     "output_type": "stream",
     "text": [
      "\n",
      " 25%|███████████████████▎                                                        | 321/1261 [01:32<03:07,  5.02it/s]\n",
      ">>> Finding TAO cigar_box...:   0%|                                                          | 0/34 [00:00<?, ?it/s]\u001b[A\n"
     ]
    },
    {
     "name": "stdout",
     "output_type": "stream",
     "text": [
      "\n",
      ">> Christmas_tree...\n",
      ">>>> #WARNING Christmas_tree is missing from json annotations\n",
      "annotations datasets:  []\n",
      "annotations imgids:  []\n",
      "annotations bbox:  []\n",
      "\n",
      ">> slide...\n",
      ">>>> #WARNING slide is missing from json annotations\n",
      "annotations datasets:  []\n",
      "annotations imgids:  []\n",
      "annotations bbox:  []\n",
      "\n",
      ">> cider...\n",
      ">>>> #WARNING cider is missing from json annotations\n",
      "annotations datasets:  []\n",
      "annotations imgids:  []\n",
      "annotations bbox:  []\n",
      "\n",
      ">> cigar_box...\n",
      "TAO\n",
      "[Errno 2] No such file or directory: 'D:/external_datasets/TAO/TAO_DIR/frames/train/AVA/XOe9GeojzCs_scene_29_114546-115640/frame1081.jpg'\n"
     ]
    },
    {
     "name": "stderr",
     "output_type": "stream",
     "text": [
      "\n",
      ">>> Finding TAO cigar_box...:   6%|██▉                                               | 2/34 [00:00<00:00, 53.32it/s]\u001b[A"
     ]
    },
    {
     "name": "stdout",
     "output_type": "stream",
     "text": [
      "[Errno 2] No such file or directory: 'D:/external_datasets/TAO/TAO_DIR/frames/train/AVA/XOe9GeojzCs_scene_29_114546-115640/frame1021.jpg'\n"
     ]
    },
    {
     "name": "stderr",
     "output_type": "stream",
     "text": [
      "\n",
      " 26%|███████████████████▌                                                        | 325/1261 [01:32<03:01,  5.16it/s]"
     ]
    },
    {
     "name": "stdout",
     "output_type": "stream",
     "text": [
      "\n",
      ">> cigarette...\n",
      "TAO\n"
     ]
    },
    {
     "name": "stderr",
     "output_type": "stream",
     "text": [
      "\n",
      ">>> Finding TAO cigarette...:   0%|                                                         | 0/201 [00:00<?, ?it/s]\u001b[A"
     ]
    },
    {
     "name": "stdout",
     "output_type": "stream",
     "text": [
      "[Errno 2] No such file or directory: 'D:/external_datasets/TAO/TAO_DIR/frames/train/AVA/ZbeMNLwASVo_scene_5_84684-86385/frame1411.jpg'\n"
     ]
    },
    {
     "name": "stderr",
     "output_type": "stream",
     "text": [
      "\n",
      " 26%|███████████████████▋                                                        | 326/1261 [01:34<08:10,  1.91it/s]"
     ]
    },
    {
     "name": "stdout",
     "output_type": "stream",
     "text": [
      "\n",
      ">> cigarette_case...\n",
      "TAO\n"
     ]
    },
    {
     "name": "stderr",
     "output_type": "stream",
     "text": [
      " 26%|███████████████████▋                                                        | 327/1261 [01:34<08:58,  1.73it/s]"
     ]
    },
    {
     "name": "stdout",
     "output_type": "stream",
     "text": [
      "\n",
      ">> cistern...\n",
      ">>>> #WARNING cistern is missing from json annotations\n",
      "annotations datasets:  []\n",
      "annotations imgids:  []\n",
      "annotations bbox:  []\n",
      "\n",
      ">> clarinet...\n",
      ">>>> #WARNING clarinet is missing from json annotations\n",
      "annotations datasets:  []\n",
      "annotations imgids:  []\n",
      "annotations bbox:  []\n",
      "\n",
      ">> clasp...\n",
      ">>>> #WARNING clasp is missing from json annotations\n",
      "annotations datasets:  []\n",
      "annotations imgids:  []\n",
      "annotations bbox:  []\n",
      "\n",
      ">> cleansing_agent...\n",
      ">>>> #WARNING cleansing_agent is missing from json annotations\n",
      "annotations datasets:  []\n",
      "annotations imgids:  []\n",
      "annotations bbox:  []\n",
      "\n",
      ">> clementine...\n",
      ">>>> #WARNING clementine is missing from json annotations\n",
      "annotations datasets:  []\n",
      "annotations imgids:  []\n",
      "annotations bbox:  []\n",
      "\n",
      ">> clip...\n",
      "TAO\n"
     ]
    },
    {
     "name": "stderr",
     "output_type": "stream",
     "text": [
      " 26%|████████████████████                                                        | 333/1261 [01:35<06:50,  2.26it/s]\n",
      ">>> Finding TAO clipboard...:   0%|                                                          | 0/66 [00:00<?, ?it/s]\u001b[A"
     ]
    },
    {
     "name": "stdout",
     "output_type": "stream",
     "text": [
      "\n",
      ">> clipboard...\n",
      "TAO\n",
      "[Errno 2] No such file or directory: 'D:/external_datasets/TAO/TAO_DIR/frames/val/YFCC100M/v_e3919198858e7ac1a61aae1e486c7664/frame1171.jpeg'\n"
     ]
    },
    {
     "name": "stderr",
     "output_type": "stream",
     "text": [
      ">>> Finding TAO clipboard...:  42%|████████████████████▎                           | 28/66 [00:00<00:00, 167.74it/s]\n",
      "\n",
      ">>> Finding TAO clipboard...:  45%|█████████████████████▊                          | 30/66 [00:00<00:00, 229.01it/s]\u001b[A"
     ]
    },
    {
     "name": "stdout",
     "output_type": "stream",
     "text": [
      "[Errno 2] No such file or directory: 'D:/external_datasets/TAO/TAO_DIR/frames/val/AVA/GElolK2jG50_scene_7_135593-137130/frame0991.jpg'\n"
     ]
    },
    {
     "name": "stderr",
     "output_type": "stream",
     "text": [
      "\n",
      "\n",
      ">>> Finding TAO clipboard...:  47%|██████████████████████▌                         | 31/66 [00:00<00:00, 242.16it/s]\u001b[A\n"
     ]
    },
    {
     "name": "stdout",
     "output_type": "stream",
     "text": [
      "[Errno 2] No such file or directory: 'D:/external_datasets/TAO/TAO_DIR/frames/val/YFCC100M/v_e3919198858e7ac1a61aae1e486c7664/frame1891.jpeg'\n"
     ]
    },
    {
     "name": "stderr",
     "output_type": "stream",
     "text": [
      " 26%|████████████████████▏                                                       | 334/1261 [01:37<11:57,  1.29it/s]"
     ]
    },
    {
     "name": "stdout",
     "output_type": "stream",
     "text": [
      "\n",
      ">> clock_tower...\n",
      ">>>> #WARNING clock_tower is missing from json annotations\n",
      "annotations datasets:  []\n",
      "annotations imgids:  []\n",
      "annotations bbox:  []\n",
      "\n",
      ">> clothes_hamper...\n",
      ">>>> #WARNING clothes_hamper is missing from json annotations\n",
      "annotations datasets:  []\n",
      "annotations imgids:  []\n",
      "annotations bbox:  []\n",
      "\n",
      ">> clothespin...\n",
      ">>>> #WARNING clothespin is missing from json annotations\n",
      "annotations datasets:  []\n",
      "annotations imgids:  []\n",
      "annotations bbox:  []\n",
      "\n",
      ">> clutch_bag...\n",
      "TAO\n"
     ]
    },
    {
     "name": "stderr",
     "output_type": "stream",
     "text": [
      " 27%|████████████████████▎                                                       | 338/1261 [01:38<09:44,  1.58it/s]"
     ]
    },
    {
     "name": "stdout",
     "output_type": "stream",
     "text": [
      "\n",
      ">> coaster...\n",
      ">>>> #WARNING coaster is missing from json annotations\n",
      "annotations datasets:  []\n",
      "annotations imgids:  []\n",
      "annotations bbox:  []\n",
      "\n",
      ">> coat...\n",
      "TAO\n"
     ]
    },
    {
     "name": "stderr",
     "output_type": "stream",
     "text": [
      " 27%|████████████████████▍                                                       | 340/1261 [01:39<09:00,  1.70it/s]\n",
      ">>> Finding TAO coat_hanger...: 100%|█████████████████████████████████████████████████████████| 4/4 [00:00<?, ?it/s]\u001b[A\n",
      "\n",
      ">>> Finding TAO coat_hanger...: 100%|███████████████████████████████████████████████| 4/4 [00:00<00:00, 3973.76it/s]\u001b[A\n",
      "\n",
      ">>> Finding TAO coat_hanger...: 100%|█████████████████████████████████████████████████████████| 4/4 [00:00<?, ?it/s]\u001b[A\n",
      "\n",
      ">>> Finding TAO coat_hanger...: 100%|███████████████████████████████████████████████| 4/4 [00:00<00:00, 3982.25it/s]\u001b[A\n"
     ]
    },
    {
     "name": "stdout",
     "output_type": "stream",
     "text": [
      "\n",
      ">> coat_hanger...\n",
      "TAO\n",
      "[Errno 2] No such file or directory: 'D:/external_datasets/TAO/TAO_DIR/frames/val/HACS/Ironing_clothes_v_o03Adr3laMA_scene_0_1736-3822/frame1171.jpg'\n",
      ">>>> #WARNING: No file found for: TAO coat_hanger...\n",
      "[Errno 2] No such file or directory: 'D:/external_datasets/TAO/TAO_DIR/frames/val/HACS/Ironing_clothes_v_o03Adr3laMA_scene_0_1736-3822/frame1081.jpg'\n",
      ">>>> #WARNING: No file found for: TAO coat_hanger...\n",
      "[Errno 2] No such file or directory: 'D:/external_datasets/TAO/TAO_DIR/frames/val/HACS/Ironing_clothes_v_o03Adr3laMA_scene_0_1736-3822/frame1111.jpg'\n",
      ">>>> #WARNING: No file found for: TAO coat_hanger...\n",
      "[Errno 2] No such file or directory: 'D:/external_datasets/TAO/TAO_DIR/frames/val/HACS/Ironing_clothes_v_o03Adr3laMA_scene_0_1736-3822/frame1141.jpg'\n",
      ">>>> #WARNING: No file found for: TAO coat_hanger...\n",
      "\n",
      ">> coatrack...\n",
      ">>>> #WARNING coatrack is missing from json annotations\n",
      "annotations datasets:  []\n",
      "annotations imgids:  []\n",
      "annotations bbox:  []\n",
      "\n",
      ">> cock...\n",
      ">>>> #WARNING cock is missing from json annotations\n",
      "annotations datasets:  []\n",
      "annotations imgids:  []\n",
      "annotations bbox:  []\n",
      "\n",
      ">> coconut...\n",
      ">>>> #WARNING coconut is missing from json annotations\n",
      "annotations datasets:  []\n",
      "annotations imgids:  []\n",
      "annotations bbox:  []\n",
      "\n",
      ">> coffee_filter...\n",
      ">>>> #WARNING coffee_filter is missing from json annotations\n",
      "annotations datasets:  []\n",
      "annotations imgids:  []\n",
      "annotations bbox:  []\n",
      "\n",
      ">> coffee_maker...\n",
      ">>>> #WARNING coffee_maker is missing from json annotations\n",
      "annotations datasets:  []\n",
      "annotations imgids:  []\n",
      "annotations bbox:  []\n",
      "\n",
      ">> coffee_table...\n",
      "TAO\n"
     ]
    },
    {
     "name": "stderr",
     "output_type": "stream",
     "text": [
      " 28%|████████████████████▉                                                       | 347/1261 [01:40<06:50,  2.23it/s]"
     ]
    },
    {
     "name": "stdout",
     "output_type": "stream",
     "text": [
      "\n",
      ">> coffeepot...\n",
      "TAO\n"
     ]
    },
    {
     "name": "stderr",
     "output_type": "stream",
     "text": [
      " 28%|████████████████████▉                                                       | 348/1261 [01:41<08:14,  1.85it/s]"
     ]
    },
    {
     "name": "stdout",
     "output_type": "stream",
     "text": [
      "\n",
      ">> coil...\n",
      ">>>> #WARNING coil is missing from json annotations\n",
      "annotations datasets:  []\n",
      "annotations imgids:  []\n",
      "annotations bbox:  []\n",
      "\n",
      ">> coin...\n",
      "TAO\n"
     ]
    },
    {
     "name": "stderr",
     "output_type": "stream",
     "text": [
      " 28%|█████████████████████                                                       | 350/1261 [01:41<07:43,  1.97it/s]\n",
      ">>> Finding TAO pacifier...: 100%|█████████████████████████████████████████████████| 33/33 [00:00<00:00, 419.21it/s]\u001b[A\n",
      "\n",
      ">>> Finding TAO pacifier...:   0%|                                                           | 0/33 [00:00<?, ?it/s]\u001b[A"
     ]
    },
    {
     "name": "stdout",
     "output_type": "stream",
     "text": [
      "\n",
      ">> colander...\n",
      ">>>> #WARNING colander is missing from json annotations\n",
      "annotations datasets:  []\n",
      "annotations imgids:  []\n",
      "annotations bbox:  []\n",
      "\n",
      ">> coleslaw...\n",
      ">>>> #WARNING coleslaw is missing from json annotations\n",
      "annotations datasets:  []\n",
      "annotations imgids:  []\n",
      "annotations bbox:  []\n",
      "\n",
      ">> coloring_material...\n",
      ">>>> #WARNING coloring_material is missing from json annotations\n",
      "annotations datasets:  []\n",
      "annotations imgids:  []\n",
      "annotations bbox:  []\n",
      "\n",
      ">> combination_lock...\n",
      ">>>> #WARNING combination_lock is missing from json annotations\n",
      "annotations datasets:  []\n",
      "annotations imgids:  []\n",
      "annotations bbox:  []\n",
      "\n",
      ">> pacifier...\n",
      "TAO\n",
      "[Errno 2] No such file or directory: 'D:/external_datasets/TAO/TAO_DIR/frames/val/YFCC100M/v_fb3ff66ed1fba99274360a5129a939/frame0817.jpeg'\n",
      ">>>> #WARNING: No file found for: TAO pacifier...\n",
      "[Errno 2] No such file or directory: 'D:/external_datasets/TAO/TAO_DIR/frames/val/YFCC100M/v_fb3ff66ed1fba99274360a5129a939/frame0769.jpeg'\n"
     ]
    },
    {
     "name": "stderr",
     "output_type": "stream",
     "text": [
      ">>> Finding TAO pacifier...: 100%|█████████████████████████████████████████████████| 33/33 [00:00<00:00, 464.80it/s]\n",
      "\n",
      ">>> Finding TAO pacifier...: 100%|█████████████████████████████████████████████████| 33/33 [00:00<00:00, 458.35it/s]\u001b[A\n",
      "\n",
      ">>> Finding TAO pacifier...: 100%|█████████████████████████████████████████████████| 33/33 [00:00<00:00, 470.87it/s]\u001b[A\n",
      "\n",
      ">>> Finding TAO pacifier...:   0%|                                                           | 0/33 [00:00<?, ?it/s]\u001b[A"
     ]
    },
    {
     "name": "stdout",
     "output_type": "stream",
     "text": [
      ">>>> #WARNING: No file found for: TAO pacifier...\n",
      "[Errno 2] No such file or directory: 'D:/external_datasets/TAO/TAO_DIR/frames/val/YFCC100M/v_fb3ff66ed1fba99274360a5129a939/frame0961.jpeg'\n",
      ">>>> #WARNING: No file found for: TAO pacifier...\n",
      "[Errno 2] No such file or directory: 'D:/external_datasets/TAO/TAO_DIR/frames/val/YFCC100M/v_fb3ff66ed1fba99274360a5129a939/frame0385.jpeg'\n",
      ">>>> #WARNING: No file found for: TAO pacifier...\n",
      "[Errno 2] No such file or directory: 'D:/external_datasets/TAO/TAO_DIR/frames/val/YFCC100M/v_fb3ff66ed1fba99274360a5129a939/frame0889.jpeg'\n"
     ]
    },
    {
     "name": "stderr",
     "output_type": "stream",
     "text": [
      ">>> Finding TAO pacifier...: 100%|█████████████████████████████████████████████████| 33/33 [00:00<00:00, 452.01it/s]\n",
      " 28%|█████████████████████▍                                                      | 355/1261 [01:42<05:46,  2.62it/s]"
     ]
    },
    {
     "name": "stdout",
     "output_type": "stream",
     "text": [
      ">>>> #WARNING: No file found for: TAO pacifier...\n",
      "\n",
      ">> comic_book...\n",
      ">>>> #WARNING comic_book is missing from json annotations\n",
      "annotations datasets:  []\n",
      "annotations imgids:  []\n",
      "annotations bbox:  []\n",
      "\n",
      ">> computer_keyboard...\n",
      "TAO\n"
     ]
    },
    {
     "name": "stderr",
     "output_type": "stream",
     "text": [
      " 28%|█████████████████████▌                                                      | 357/1261 [01:43<05:43,  2.63it/s]"
     ]
    },
    {
     "name": "stdout",
     "output_type": "stream",
     "text": [
      "\n",
      ">> concrete_mixer...\n",
      ">>>> #WARNING concrete_mixer is missing from json annotations\n",
      "annotations datasets:  []\n",
      "annotations imgids:  []\n",
      "annotations bbox:  []\n",
      "\n",
      ">> cone...\n",
      "TAO\n"
     ]
    },
    {
     "name": "stderr",
     "output_type": "stream",
     "text": [
      " 28%|█████████████████████▋                                                      | 359/1261 [01:43<05:38,  2.67it/s]"
     ]
    },
    {
     "name": "stdout",
     "output_type": "stream",
     "text": [
      "\n",
      ">> control...\n",
      "TAO\n"
     ]
    },
    {
     "name": "stderr",
     "output_type": "stream",
     "text": [
      " 29%|█████████████████████▋                                                      | 360/1261 [01:44<09:01,  1.67it/s]\n",
      ">>> Finding TAO convertible_(automobile)...:   0%|                                            | 0/6 [00:00<?, ?it/s]\u001b[A"
     ]
    },
    {
     "name": "stdout",
     "output_type": "stream",
     "text": [
      "\n",
      ">> convertible_(automobile)...\n",
      "TAO\n",
      "[Errno 2] No such file or directory: 'D:/external_datasets/TAO/TAO_DIR/frames/val/BDD/b2505382-272e7823/frame1741.jpg'\n"
     ]
    },
    {
     "name": "stderr",
     "output_type": "stream",
     "text": [
      ">>> Finding TAO convertible_(automobile)...:   0%|                                            | 0/6 [00:00<?, ?it/s]\n",
      "\n",
      ">>> Finding TAO convertible_(automobile)...: 100%|██████████████████████████████████| 6/6 [00:00<00:00, 2016.01it/s]\u001b[A\n",
      "\n",
      ">>> Finding TAO convertible_(automobile)...: 100%|██████████████████████████████████| 6/6 [00:00<00:00, 1487.61it/s]\u001b[A\n",
      " 29%|█████████████████████▊                                                      | 361/1261 [01:45<08:29,  1.77it/s]"
     ]
    },
    {
     "name": "stdout",
     "output_type": "stream",
     "text": [
      "[Errno 2] No such file or directory: 'D:/external_datasets/TAO/TAO_DIR/frames/val/BDD/b2505382-272e7823/frame1621.jpg'\n",
      ">>>> #WARNING: No file found for: TAO convertible_(automobile)...\n",
      "[Errno 2] No such file or directory: 'D:/external_datasets/TAO/TAO_DIR/frames/val/BDD/b2505382-272e7823/frame1681.jpg'\n",
      ">>>> #WARNING: No file found for: TAO convertible_(automobile)...\n",
      "\n",
      ">> sofa_bed...\n",
      ">>>> #WARNING sofa_bed is missing from json annotations\n",
      "annotations datasets:  []\n",
      "annotations imgids:  []\n",
      "annotations bbox:  []\n",
      "\n",
      ">> cookie...\n",
      ">>>> #WARNING cookie is missing from json annotations\n",
      "annotations datasets:  []\n",
      "annotations imgids:  []\n",
      "annotations bbox:  []\n",
      "\n",
      ">> cookie_jar...\n",
      ">>>> #WARNING cookie_jar is missing from json annotations\n",
      "annotations datasets:  []\n",
      "annotations imgids:  []\n",
      "annotations bbox:  []\n",
      "\n",
      ">> cooking_utensil...\n",
      ">>>> #WARNING cooking_utensil is missing from json annotations\n",
      "annotations datasets:  []\n",
      "annotations imgids:  []\n",
      "annotations bbox:  []\n",
      "\n",
      ">> cooler_(for_food)...\n",
      "TAO\n"
     ]
    },
    {
     "name": "stderr",
     "output_type": "stream",
     "text": [
      " 29%|██████████████████████                                                      | 366/1261 [01:46<07:11,  2.08it/s]"
     ]
    },
    {
     "name": "stdout",
     "output_type": "stream",
     "text": [
      "\n",
      ">> cork_(bottle_plug)...\n",
      ">>>> #WARNING cork_(bottle_plug) is missing from json annotations\n",
      "annotations datasets:  []\n",
      "annotations imgids:  []\n",
      "annotations bbox:  []\n",
      "\n",
      ">> corkboard...\n",
      ">>>> #WARNING corkboard is missing from json annotations\n",
      "annotations datasets:  []\n",
      "annotations imgids:  []\n",
      "annotations bbox:  []\n",
      "\n",
      ">> corkscrew...\n",
      ">>>> #WARNING corkscrew is missing from json annotations\n",
      "annotations datasets:  []\n",
      "annotations imgids:  []\n",
      "annotations bbox:  []\n",
      "\n",
      ">> edible_corn...\n",
      ">>>> #WARNING edible_corn is missing from json annotations\n",
      "annotations datasets:  []\n",
      "annotations imgids:  []\n",
      "annotations bbox:  []\n",
      "\n",
      ">> cornbread...\n",
      ">>>> #WARNING cornbread is missing from json annotations\n",
      "annotations datasets:  []\n",
      "annotations imgids:  []\n",
      "annotations bbox:  []\n",
      "\n",
      ">> cornet...\n",
      "TAO\n"
     ]
    },
    {
     "name": "stderr",
     "output_type": "stream",
     "text": [
      " 30%|██████████████████████▍                                                     | 372/1261 [01:47<05:35,  2.65it/s]"
     ]
    },
    {
     "name": "stdout",
     "output_type": "stream",
     "text": [
      "\n",
      ">> cornice...\n",
      ">>>> #WARNING cornice is missing from json annotations\n",
      "annotations datasets:  []\n",
      "annotations imgids:  []\n",
      "annotations bbox:  []\n",
      "\n",
      ">> cornmeal...\n",
      ">>>> #WARNING cornmeal is missing from json annotations\n",
      "annotations datasets:  []\n",
      "annotations imgids:  []\n",
      "annotations bbox:  []\n",
      "\n",
      ">> corset...\n",
      ">>>> #WARNING corset is missing from json annotations\n",
      "annotations datasets:  []\n",
      "annotations imgids:  []\n",
      "annotations bbox:  []\n",
      "\n",
      ">> romaine_lettuce...\n",
      ">>>> #WARNING romaine_lettuce is missing from json annotations\n",
      "annotations datasets:  []\n",
      "annotations imgids:  []\n",
      "annotations bbox:  []\n",
      "\n",
      ">> costume...\n",
      ">>>> #WARNING costume is missing from json annotations\n",
      "annotations datasets:  []\n",
      "annotations imgids:  []\n",
      "annotations bbox:  []\n",
      "\n",
      ">> cougar...\n",
      ">>>> #WARNING cougar is missing from json annotations\n",
      "annotations datasets:  []\n",
      "annotations imgids:  []\n",
      "annotations bbox:  []\n",
      "\n",
      ">> coverall...\n",
      ">>>> #WARNING coverall is missing from json annotations\n",
      "annotations datasets:  []\n",
      "annotations imgids:  []\n",
      "annotations bbox:  []\n",
      "\n",
      ">> cowbell...\n",
      ">>>> #WARNING cowbell is missing from json annotations\n",
      "annotations datasets:  []\n",
      "annotations imgids:  []\n",
      "annotations bbox:  []\n",
      "\n",
      ">> cowboy_hat...\n",
      ">>>> #WARNING cowboy_hat is missing from json annotations\n",
      "annotations datasets:  []\n",
      "annotations imgids:  []\n",
      "annotations bbox:  []\n",
      "\n",
      ">> crab_(animal)...\n",
      "TAO\n"
     ]
    },
    {
     "name": "stderr",
     "output_type": "stream",
     "text": [
      " 30%|███████████████████████                                                     | 382/1261 [01:48<04:12,  3.48it/s]"
     ]
    },
    {
     "name": "stdout",
     "output_type": "stream",
     "text": [
      "\n",
      ">> cracker...\n",
      ">>>> #WARNING cracker is missing from json annotations\n",
      "annotations datasets:  []\n",
      "annotations imgids:  []\n",
      "annotations bbox:  []\n",
      "\n",
      ">> crape...\n",
      ">>>> #WARNING crape is missing from json annotations\n",
      "annotations datasets:  []\n",
      "annotations imgids:  []\n",
      "annotations bbox:  []\n",
      "\n",
      ">> crate...\n",
      ">>>> #WARNING crate is missing from json annotations\n",
      "annotations datasets:  []\n",
      "annotations imgids:  []\n",
      "annotations bbox:  []\n",
      "\n",
      ">> crayon...\n",
      ">>>> #WARNING crayon is missing from json annotations\n",
      "annotations datasets:  []\n",
      "annotations imgids:  []\n",
      "annotations bbox:  []\n",
      "\n",
      ">> cream_pitcher...\n",
      ">>>> #WARNING cream_pitcher is missing from json annotations\n",
      "annotations datasets:  []\n",
      "annotations imgids:  []\n",
      "annotations bbox:  []\n",
      "\n",
      ">> credit_card...\n",
      ">>>> #WARNING credit_card is missing from json annotations\n",
      "annotations datasets:  []\n",
      "annotations imgids:  []\n",
      "annotations bbox:  []\n",
      "\n",
      ">> crescent_roll...\n",
      ">>>> #WARNING crescent_roll is missing from json annotations\n",
      "annotations datasets:  []\n",
      "annotations imgids:  []\n",
      "annotations bbox:  []\n",
      "\n",
      ">> crib...\n",
      ">>>> #WARNING crib is missing from json annotations\n",
      "annotations datasets:  []\n",
      "annotations imgids:  []\n",
      "annotations bbox:  []\n",
      "\n",
      ">> crock_pot...\n",
      ">>>> #WARNING crock_pot is missing from json annotations\n",
      "annotations datasets:  []\n",
      "annotations imgids:  []\n",
      "annotations bbox:  []\n",
      "\n",
      ">> crossbar...\n",
      ">>>> #WARNING crossbar is missing from json annotations\n",
      "annotations datasets:  []\n",
      "annotations imgids:  []\n",
      "annotations bbox:  []\n",
      "\n",
      ">> crouton...\n",
      ">>>> #WARNING crouton is missing from json annotations\n",
      "annotations datasets:  []\n",
      "annotations imgids:  []\n",
      "annotations bbox:  []\n",
      "\n",
      ">> crow...\n",
      "TAO\n"
     ]
    },
    {
     "name": "stderr",
     "output_type": "stream",
     "text": [
      " 31%|███████████████████████▋                                                    | 394/1261 [01:49<03:14,  4.46it/s]\n",
      ">>> Finding TAO crumb...:   3%|█▊                                                    | 1/29 [00:00<00:01, 15.00it/s]\u001b[A\n",
      "\n",
      ">>> Finding TAO crumb...:   0%|                                                              | 0/29 [00:00<?, ?it/s]\u001b[A"
     ]
    },
    {
     "name": "stdout",
     "output_type": "stream",
     "text": [
      "\n",
      ">> crown...\n",
      ">>>> #WARNING crown is missing from json annotations\n",
      "annotations datasets:  []\n",
      "annotations imgids:  []\n",
      "annotations bbox:  []\n",
      "\n",
      ">> crucifix...\n",
      ">>>> #WARNING crucifix is missing from json annotations\n",
      "annotations datasets:  []\n",
      "annotations imgids:  []\n",
      "annotations bbox:  []\n",
      "\n",
      ">> cruise_ship...\n",
      ">>>> #WARNING cruise_ship is missing from json annotations\n",
      "annotations datasets:  []\n",
      "annotations imgids:  []\n",
      "annotations bbox:  []\n",
      "\n",
      ">> police_cruiser...\n",
      ">>>> #WARNING police_cruiser is missing from json annotations\n",
      "annotations datasets:  []\n",
      "annotations imgids:  []\n",
      "annotations bbox:  []\n",
      "\n",
      ">> crumb...\n",
      "TAO\n",
      "[Errno 2] No such file or directory: 'D:/external_datasets/TAO/TAO_DIR/frames/train/YFCC100M/v_df4744928b9b4199b5c73344efdce65/frame1051.jpg'\n",
      "[Errno 2] No such file or directory: 'D:/external_datasets/TAO/TAO_DIR/frames/train/YFCC100M/v_df4744928b9b4199b5c73344efdce65/frame1861.jpg'\n"
     ]
    },
    {
     "name": "stderr",
     "output_type": "stream",
     "text": [
      ">>> Finding TAO crumb...:   7%|███▋                                                  | 2/29 [00:00<00:00, 31.38it/s]\n",
      "\n",
      ">>> Finding TAO crumb...:  10%|█████▌                                                | 3/29 [00:00<00:01, 23.12it/s]\u001b[A\n",
      " 32%|████████████████████████                                                    | 399/1261 [01:49<02:46,  5.17it/s]"
     ]
    },
    {
     "name": "stdout",
     "output_type": "stream",
     "text": [
      "[Errno 2] No such file or directory: 'D:/external_datasets/TAO/TAO_DIR/frames/train/YFCC100M/v_df4744928b9b4199b5c73344efdce65/frame1501.jpg'\n",
      "\n",
      ">> crutch...\n",
      "TAO\n"
     ]
    },
    {
     "name": "stderr",
     "output_type": "stream",
     "text": [
      " 32%|████████████████████████                                                    | 400/1261 [01:50<05:26,  2.64it/s]\n",
      ">>> Finding TAO cube...:   0%|                                                               | 0/40 [00:00<?, ?it/s]\u001b[A\n"
     ]
    },
    {
     "name": "stdout",
     "output_type": "stream",
     "text": [
      "\n",
      ">> cub_(animal)...\n",
      ">>>> #WARNING cub_(animal) is missing from json annotations\n",
      "annotations datasets:  []\n",
      "annotations imgids:  []\n",
      "annotations bbox:  []\n",
      "\n",
      ">> cube...\n",
      "TAO\n",
      "[Errno 2] No such file or directory: 'D:/external_datasets/TAO/TAO_DIR/frames/val/HACS/Playing_rubik_cube_v_7GZd2e9g95A/frame2011.jpg'\n"
     ]
    },
    {
     "name": "stderr",
     "output_type": "stream",
     "text": [
      ">>> Finding TAO cube...: 100%|█████████████████████████████████████████████████████| 40/40 [00:00<00:00, 384.61it/s]\u001b[A\n",
      "\n",
      ">>> Finding TAO cube...:   0%|                                                               | 0/40 [00:00<?, ?it/s]\u001b[A\n",
      ">>> Finding TAO cube...: 100%|█████████████████████████████████████████████████████| 40/40 [00:00<00:00, 370.39it/s]\u001b[A\n",
      "\n",
      ">>> Finding TAO cube...:   0%|                                                               | 0/40 [00:00<?, ?it/s]\u001b[A"
     ]
    },
    {
     "name": "stdout",
     "output_type": "stream",
     "text": [
      ">>>> #WARNING: No file found for: TAO cube...\n",
      "[Errno 2] No such file or directory: 'D:/external_datasets/TAO/TAO_DIR/frames/val/HACS/Playing_rubik_cube_v_7GZd2e9g95A/frame2071.jpg'\n",
      ">>>> #WARNING: No file found for: TAO cube...\n",
      "[Errno 2] No such file or directory: 'D:/external_datasets/TAO/TAO_DIR/frames/val/HACS/Playing_rubik_cube_v_7GZd2e9g95A/frame2191.jpg'\n"
     ]
    },
    {
     "name": "stderr",
     "output_type": "stream",
     "text": [
      "\n",
      ">>> Finding TAO cube...: 100%|█████████████████████████████████████████████████████| 40/40 [00:00<00:00, 386.36it/s]\u001b[A\n",
      "\n",
      ">>> Finding TAO cube...:   0%|                                                               | 0/40 [00:00<?, ?it/s]\u001b[A\n",
      ">>> Finding TAO cube...: 100%|█████████████████████████████████████████████████████| 40/40 [00:00<00:00, 392.18it/s]\u001b[A\n",
      "\n",
      ">>> Finding TAO cube...:   0%|                                                               | 0/40 [00:00<?, ?it/s]\u001b[A"
     ]
    },
    {
     "name": "stdout",
     "output_type": "stream",
     "text": [
      ">>>> #WARNING: No file found for: TAO cube...\n",
      "[Errno 2] No such file or directory: 'D:/external_datasets/TAO/TAO_DIR/frames/val/HACS/Playing_rubik_cube_v_7GZd2e9g95A/frame1741.jpg'\n",
      ">>>> #WARNING: No file found for: TAO cube...\n",
      "[Errno 2] No such file or directory: 'D:/external_datasets/TAO/TAO_DIR/frames/val/HACS/Playing_rubik_cube_v_7GZd2e9g95A/frame2641.jpg'\n"
     ]
    },
    {
     "name": "stderr",
     "output_type": "stream",
     "text": [
      ">>> Finding TAO cube...: 100%|█████████████████████████████████████████████████████| 40/40 [00:00<00:00, 408.01it/s]\n",
      " 32%|████████████████████████▏                                                   | 402/1261 [01:51<05:10,  2.76it/s]\n",
      ">>> Finding TAO curtain...:   0%|                                                           | 0/172 [00:00<?, ?it/s]\u001b[A\n"
     ]
    },
    {
     "name": "stdout",
     "output_type": "stream",
     "text": [
      ">>>> #WARNING: No file found for: TAO cube...\n",
      "\n",
      ">> cucumber...\n",
      ">>>> #WARNING cucumber is missing from json annotations\n",
      "annotations datasets:  []\n",
      "annotations imgids:  []\n",
      "annotations bbox:  []\n",
      "\n",
      ">> cufflink...\n",
      ">>>> #WARNING cufflink is missing from json annotations\n",
      "annotations datasets:  []\n",
      "annotations imgids:  []\n",
      "annotations bbox:  []\n",
      "\n",
      ">> trophy_cup...\n",
      ">>>> #WARNING trophy_cup is missing from json annotations\n",
      "annotations datasets:  []\n",
      "annotations imgids:  []\n",
      "annotations bbox:  []\n",
      "\n",
      ">> cupcake...\n",
      ">>>> #WARNING cupcake is missing from json annotations\n",
      "annotations datasets:  []\n",
      "annotations imgids:  []\n",
      "annotations bbox:  []\n",
      "\n",
      ">> hair_curler...\n",
      ">>>> #WARNING hair_curler is missing from json annotations\n",
      "annotations datasets:  []\n",
      "annotations imgids:  []\n",
      "annotations bbox:  []\n",
      "\n",
      ">> curling_iron...\n",
      ">>>> #WARNING curling_iron is missing from json annotations\n",
      "annotations datasets:  []\n",
      "annotations imgids:  []\n",
      "annotations bbox:  []\n",
      "\n",
      ">> curtain...\n",
      "TAO\n",
      "[Errno 2] No such file or directory: 'D:/external_datasets/TAO/TAO_DIR/frames/val/Charades/5ACD3/frame0991.jpg'\n"
     ]
    },
    {
     "name": "stderr",
     "output_type": "stream",
     "text": [
      " 32%|████████████████████████▋                                                   | 409/1261 [01:52<04:07,  3.44it/s]\n",
      ">>> Finding TAO cushion...:   0%|                                                            | 0/44 [00:00<?, ?it/s]\u001b[A\n"
     ]
    },
    {
     "name": "stdout",
     "output_type": "stream",
     "text": [
      "\n",
      ">> cushion...\n",
      "TAO\n",
      "[Errno 2] No such file or directory: 'D:/external_datasets/TAO/TAO_DIR/frames/val/Charades/ARCUY/frame1033.jpg'\n"
     ]
    },
    {
     "name": "stderr",
     "output_type": "stream",
     "text": [
      " 33%|████████████████████████▋                                                   | 410/1261 [01:52<05:49,  2.44it/s]"
     ]
    },
    {
     "name": "stdout",
     "output_type": "stream",
     "text": [
      "\n",
      ">> custard...\n",
      ">>>> #WARNING custard is missing from json annotations\n",
      "annotations datasets:  []\n",
      "annotations imgids:  []\n",
      "annotations bbox:  []\n",
      "\n",
      ">> cutting_tool...\n",
      "TAO\n"
     ]
    },
    {
     "name": "stderr",
     "output_type": "stream",
     "text": [
      " 33%|████████████████████████▊                                                   | 412/1261 [01:53<05:43,  2.47it/s]"
     ]
    },
    {
     "name": "stdout",
     "output_type": "stream",
     "text": [
      "\n",
      ">> cylinder...\n",
      "TAO\n"
     ]
    },
    {
     "name": "stderr",
     "output_type": "stream",
     "text": [
      "\n",
      ">>> Finding TAO cylinder...:   0%|                                                           | 0/72 [00:00<?, ?it/s]\u001b[A"
     ]
    },
    {
     "name": "stdout",
     "output_type": "stream",
     "text": [
      "[Errno 2] No such file or directory: 'D:/external_datasets/TAO/TAO_DIR/frames/train/HACS/Laying_tile_v_paCAluq8u84_scene_0_0-4880/frame1021.jpg'\n"
     ]
    },
    {
     "name": "stderr",
     "output_type": "stream",
     "text": [
      "\n",
      "\n",
      ">>> Finding TAO cylinder...:   1%|▋                                                  | 1/72 [00:00<00:03, 19.24it/s]\u001b[A\n",
      " 33%|████████████████████████▉                                                   | 413/1261 [01:54<08:08,  1.74it/s]"
     ]
    },
    {
     "name": "stdout",
     "output_type": "stream",
     "text": [
      "[Errno 2] No such file or directory: 'D:/external_datasets/TAO/TAO_DIR/frames/train/HACS/Laying_tile_v_paCAluq8u84_scene_0_0-4880/frame1171.jpg'\n",
      "\n",
      ">> cymbal...\n",
      "TAO\n"
     ]
    },
    {
     "name": "stderr",
     "output_type": "stream",
     "text": [
      " 33%|████████████████████████▉                                                   | 414/1261 [01:55<09:33,  1.48it/s]"
     ]
    },
    {
     "name": "stdout",
     "output_type": "stream",
     "text": [
      "\n",
      ">> dachshund...\n",
      ">>>> #WARNING dachshund is missing from json annotations\n",
      "annotations datasets:  []\n",
      "annotations imgids:  []\n",
      "annotations bbox:  []\n",
      "\n",
      ">> dagger...\n",
      ">>>> #WARNING dagger is missing from json annotations\n",
      "annotations datasets:  []\n",
      "annotations imgids:  []\n",
      "annotations bbox:  []\n",
      "\n",
      ">> dartboard...\n",
      ">>>> #WARNING dartboard is missing from json annotations\n",
      "annotations datasets:  []\n",
      "annotations imgids:  []\n",
      "annotations bbox:  []\n",
      "\n",
      ">> date_(fruit)...\n",
      ">>>> #WARNING date_(fruit) is missing from json annotations\n",
      "annotations datasets:  []\n",
      "annotations imgids:  []\n",
      "annotations bbox:  []\n",
      "\n",
      ">> deck_chair...\n",
      ">>>> #WARNING deck_chair is missing from json annotations\n",
      "annotations datasets:  []\n",
      "annotations imgids:  []\n",
      "annotations bbox:  []\n",
      "\n",
      ">> deer...\n",
      "TAO\n"
     ]
    },
    {
     "name": "stderr",
     "output_type": "stream",
     "text": [
      " 33%|█████████████████████████▎                                                  | 420/1261 [01:56<07:16,  1.93it/s]"
     ]
    },
    {
     "name": "stdout",
     "output_type": "stream",
     "text": [
      "\n",
      ">> dental_floss...\n",
      ">>>> #WARNING dental_floss is missing from json annotations\n",
      "annotations datasets:  []\n",
      "annotations imgids:  []\n",
      "annotations bbox:  []\n",
      "\n",
      ">> desk...\n",
      ">>>> #WARNING desk is missing from json annotations\n",
      "annotations datasets:  []\n",
      "annotations imgids:  []\n",
      "annotations bbox:  []\n",
      "\n",
      ">> detergent...\n",
      ">>>> #WARNING detergent is missing from json annotations\n",
      "annotations datasets:  []\n",
      "annotations imgids:  []\n",
      "annotations bbox:  []\n",
      "\n",
      ">> diaper...\n",
      ">>>> #WARNING diaper is missing from json annotations\n",
      "annotations datasets:  []\n",
      "annotations imgids:  []\n",
      "annotations bbox:  []\n",
      "\n",
      ">> diary...\n",
      ">>>> #WARNING diary is missing from json annotations\n",
      "annotations datasets:  []\n",
      "annotations imgids:  []\n",
      "annotations bbox:  []\n",
      "\n",
      ">> die...\n",
      "TAO\n"
     ]
    },
    {
     "name": "stderr",
     "output_type": "stream",
     "text": [
      " 34%|█████████████████████████▋                                                  | 426/1261 [01:57<05:35,  2.49it/s]"
     ]
    },
    {
     "name": "stdout",
     "output_type": "stream",
     "text": [
      "\n",
      ">> dinghy...\n",
      ">>>> #WARNING dinghy is missing from json annotations\n",
      "annotations datasets:  []\n",
      "annotations imgids:  []\n",
      "annotations bbox:  []\n",
      "\n",
      ">> dining_table...\n",
      ">>>> #WARNING dining_table is missing from json annotations\n",
      "annotations datasets:  []\n",
      "annotations imgids:  []\n",
      "annotations bbox:  []\n",
      "\n",
      ">> tux...\n",
      ">>>> #WARNING tux is missing from json annotations\n",
      "annotations datasets:  []\n",
      "annotations imgids:  []\n",
      "annotations bbox:  []\n",
      "\n",
      ">> dish...\n",
      "TAO\n"
     ]
    },
    {
     "name": "stderr",
     "output_type": "stream",
     "text": [
      " 34%|█████████████████████████▉                                                  | 430/1261 [01:58<05:18,  2.61it/s]"
     ]
    },
    {
     "name": "stdout",
     "output_type": "stream",
     "text": [
      "\n",
      ">> dish_antenna...\n",
      ">>>> #WARNING dish_antenna is missing from json annotations\n",
      "annotations datasets:  []\n",
      "annotations imgids:  []\n",
      "annotations bbox:  []\n",
      "\n",
      ">> dishrag...\n",
      ">>>> #WARNING dishrag is missing from json annotations\n",
      "annotations datasets:  []\n",
      "annotations imgids:  []\n",
      "annotations bbox:  []\n",
      "\n",
      ">> dishtowel...\n",
      ">>>> #WARNING dishtowel is missing from json annotations\n",
      "annotations datasets:  []\n",
      "annotations imgids:  []\n",
      "annotations bbox:  []\n",
      "\n",
      ">> dishwasher...\n",
      ">>>> #WARNING dishwasher is missing from json annotations\n",
      "annotations datasets:  []\n",
      "annotations imgids:  []\n",
      "annotations bbox:  []\n",
      "\n",
      ">> dishwasher_detergent...\n",
      ">>>> #WARNING dishwasher_detergent is missing from json annotations\n",
      "annotations datasets:  []\n",
      "annotations imgids:  []\n",
      "annotations bbox:  []\n",
      "\n",
      ">> diskette...\n",
      ">>>> #WARNING diskette is missing from json annotations\n",
      "annotations datasets:  []\n",
      "annotations imgids:  []\n",
      "annotations bbox:  []\n",
      "\n",
      ">> dispenser...\n",
      "TAO\n"
     ]
    },
    {
     "name": "stderr",
     "output_type": "stream",
     "text": [
      " 35%|██████████████████████████▎                                                 | 437/1261 [01:59<04:07,  3.33it/s]"
     ]
    },
    {
     "name": "stdout",
     "output_type": "stream",
     "text": [
      "\n",
      ">> Dixie_cup...\n",
      ">>>> #WARNING Dixie_cup is missing from json annotations\n",
      "annotations datasets:  []\n",
      "annotations imgids:  []\n",
      "annotations bbox:  []\n",
      "\n",
      ">> dog_collar...\n",
      ">>>> #WARNING dog_collar is missing from json annotations\n",
      "annotations datasets:  []\n",
      "annotations imgids:  []\n",
      "annotations bbox:  []\n",
      "\n",
      ">> doll...\n",
      ">>>> #WARNING doll is missing from json annotations\n",
      "annotations datasets:  []\n",
      "annotations imgids:  []\n",
      "annotations bbox:  []\n",
      "\n",
      ">> dollar...\n",
      ">>>> #WARNING dollar is missing from json annotations\n",
      "annotations datasets:  []\n",
      "annotations imgids:  []\n",
      "annotations bbox:  []\n",
      "\n",
      ">> dolphin...\n",
      ">>>> #WARNING dolphin is missing from json annotations\n",
      "annotations datasets:  []\n",
      "annotations imgids:  []\n",
      "annotations bbox:  []\n",
      "\n",
      ">> domestic_ass...\n",
      ">>>> #WARNING domestic_ass is missing from json annotations\n",
      "annotations datasets:  []\n",
      "annotations imgids:  []\n",
      "annotations bbox:  []\n",
      "\n",
      ">> eye_mask...\n",
      ">>>> #WARNING eye_mask is missing from json annotations\n",
      "annotations datasets:  []\n",
      "annotations imgids:  []\n",
      "annotations bbox:  []\n",
      "\n",
      ">> doorbell...\n",
      ">>>> #WARNING doorbell is missing from json annotations\n",
      "annotations datasets:  []\n",
      "annotations imgids:  []\n",
      "annotations bbox:  []\n",
      "\n",
      ">> doorknob...\n",
      ">>>> #WARNING doorknob is missing from json annotations\n",
      "annotations datasets:  []\n",
      "annotations imgids:  []\n",
      "annotations bbox:  []\n",
      "\n",
      ">> doormat...\n",
      "TAO\n"
     ]
    },
    {
     "name": "stderr",
     "output_type": "stream",
     "text": [
      " 35%|██████████████████████████▉                                                 | 447/1261 [02:00<03:10,  4.28it/s]"
     ]
    },
    {
     "name": "stdout",
     "output_type": "stream",
     "text": [
      "\n",
      ">> doughnut...\n",
      ">>>> #WARNING doughnut is missing from json annotations\n",
      "annotations datasets:  []\n",
      "annotations imgids:  []\n",
      "annotations bbox:  []\n",
      "\n",
      ">> dove...\n",
      ">>>> #WARNING dove is missing from json annotations\n",
      "annotations datasets:  []\n",
      "annotations imgids:  []\n",
      "annotations bbox:  []\n",
      "\n",
      ">> dragonfly...\n",
      ">>>> #WARNING dragonfly is missing from json annotations\n",
      "annotations datasets:  []\n",
      "annotations imgids:  []\n",
      "annotations bbox:  []\n",
      "\n",
      ">> drawer...\n",
      "TAO\n"
     ]
    },
    {
     "name": "stderr",
     "output_type": "stream",
     "text": [
      " 36%|███████████████████████████▏                                                | 451/1261 [02:01<03:10,  4.25it/s]"
     ]
    },
    {
     "name": "stdout",
     "output_type": "stream",
     "text": [
      "\n",
      ">> underdrawers...\n",
      ">>>> #WARNING underdrawers is missing from json annotations\n",
      "annotations datasets:  []\n",
      "annotations imgids:  []\n",
      "annotations bbox:  []\n",
      "\n",
      ">> dress...\n",
      ">>>> #WARNING dress is missing from json annotations\n",
      "annotations datasets:  []\n",
      "annotations imgids:  []\n",
      "annotations bbox:  []\n",
      "\n",
      ">> dress_hat...\n",
      "TAO\n"
     ]
    },
    {
     "name": "stderr",
     "output_type": "stream",
     "text": [
      " 36%|███████████████████████████▎                                                | 454/1261 [02:01<03:19,  4.04it/s]"
     ]
    },
    {
     "name": "stdout",
     "output_type": "stream",
     "text": [
      "\n",
      ">> dress_suit...\n",
      ">>>> #WARNING dress_suit is missing from json annotations\n",
      "annotations datasets:  []\n",
      "annotations imgids:  []\n",
      "annotations bbox:  []\n",
      "\n",
      ">> dresser...\n",
      ">>>> #WARNING dresser is missing from json annotations\n",
      "annotations datasets:  []\n",
      "annotations imgids:  []\n",
      "annotations bbox:  []\n",
      "\n",
      ">> drill...\n",
      ">>>> #WARNING drill is missing from json annotations\n",
      "annotations datasets:  []\n",
      "annotations imgids:  []\n",
      "annotations bbox:  []\n",
      "\n",
      ">> drinking_fountain...\n",
      ">>>> #WARNING drinking_fountain is missing from json annotations\n",
      "annotations datasets:  []\n",
      "annotations imgids:  []\n",
      "annotations bbox:  []\n",
      "\n",
      ">> drone...\n",
      "TAO\n"
     ]
    },
    {
     "name": "stderr",
     "output_type": "stream",
     "text": [
      " 36%|███████████████████████████▋                                                | 459/1261 [02:02<03:02,  4.39it/s]\n",
      ">>> Finding TAO drum_(musical_instrument)...:   0%|                                         | 0/140 [00:00<?, ?it/s]\u001b[A\n"
     ]
    },
    {
     "name": "stdout",
     "output_type": "stream",
     "text": [
      "\n",
      ">> dropper...\n",
      ">>>> #WARNING dropper is missing from json annotations\n",
      "annotations datasets:  []\n",
      "annotations imgids:  []\n",
      "annotations bbox:  []\n",
      "\n",
      ">> drum_(musical_instrument)...\n",
      "TAO\n",
      "[Errno 2] No such file or directory: 'D:/external_datasets/TAO/TAO_DIR/frames/train/HACS/Drum_corps_v_4KBTeNdE66U_scene_0_0-4062/frame0991.jpg'\n"
     ]
    },
    {
     "name": "stderr",
     "output_type": "stream",
     "text": [
      " 37%|███████████████████████████▊                                                | 461/1261 [02:03<03:56,  3.39it/s]\n",
      ">>> Finding TAO drumstick...:   0%|                                                         | 0/185 [00:00<?, ?it/s]\u001b[A\n"
     ]
    },
    {
     "name": "stdout",
     "output_type": "stream",
     "text": [
      "\n",
      ">> drumstick...\n",
      "TAO\n",
      "[Errno 2] No such file or directory: 'D:/external_datasets/TAO/TAO_DIR/frames/val/YFCC100M/v_4fb3b319e69a2b8dfcba866047b148b3/frame0361.jpeg'\n"
     ]
    },
    {
     "name": "stderr",
     "output_type": "stream",
     "text": [
      "\n",
      ">>> Finding TAO drumstick...:   1%|▎                                                | 1/185 [00:00<00:08, 20.79it/s]\u001b[A\n",
      "\n",
      ">>> Finding TAO drumstick...:   0%|                                                         | 0/185 [00:00<?, ?it/s]\u001b[A"
     ]
    },
    {
     "name": "stdout",
     "output_type": "stream",
     "text": [
      "[Errno 2] No such file or directory: 'D:/external_datasets/TAO/TAO_DIR/frames/val/YFCC100M/v_4fb3b319e69a2b8dfcba866047b148b3/frame0871.jpeg'\n",
      "[Errno 2] No such file or directory: 'D:/external_datasets/TAO/TAO_DIR/frames/val/YFCC100M/v_4fb3b319e69a2b8dfcba866047b148b3/frame1291.jpeg'\n"
     ]
    },
    {
     "name": "stderr",
     "output_type": "stream",
     "text": [
      ">>> Finding TAO drumstick...:   1%|▌                                                | 2/185 [00:00<00:04, 39.97it/s]\n",
      "\n",
      ">>> Finding TAO drumstick...:   2%|▊                                                | 3/185 [00:00<00:03, 51.41it/s]\u001b[A\n"
     ]
    },
    {
     "name": "stdout",
     "output_type": "stream",
     "text": [
      "[Errno 2] No such file or directory: 'D:/external_datasets/TAO/TAO_DIR/frames/val/YFCC100M/v_4fb3b319e69a2b8dfcba866047b148b3/frame1201.jpeg'\n",
      "[Errno 2] No such file or directory: 'D:/external_datasets/TAO/TAO_DIR/frames/val/YFCC100M/v_4fb3b319e69a2b8dfcba866047b148b3/frame1231.jpeg'\n"
     ]
    },
    {
     "name": "stderr",
     "output_type": "stream",
     "text": [
      "\n",
      ">>> Finding TAO drumstick...:   2%|█                                                | 4/185 [00:00<00:02, 67.75it/s]\u001b[A\n",
      " 37%|███████████████████████████▊                                                | 462/1261 [02:04<06:20,  2.10it/s]\n",
      ">>> Finding TAO duck...: 100%|█████████████████████████████████████████████████████| 40/40 [00:00<00:00, 426.25it/s]\u001b[A\n",
      "\n",
      ">>> Finding TAO duck...:   0%|                                                               | 0/40 [00:00<?, ?it/s]\u001b[A"
     ]
    },
    {
     "name": "stdout",
     "output_type": "stream",
     "text": [
      "\n",
      ">> duck...\n",
      "TAO\n",
      "[Errno 2] No such file or directory: 'D:/external_datasets/TAO/TAO_DIR/frames/val/YFCC100M/v_d389d21ddef286b3febd14de1db31615/frame0751.jpeg'\n",
      ">>>> #WARNING: No file found for: TAO duck...\n",
      "[Errno 2] No such file or directory: 'D:/external_datasets/TAO/TAO_DIR/frames/val/YFCC100M/v_d389d21ddef286b3febd14de1db31615/frame1351.jpeg'\n"
     ]
    },
    {
     "name": "stderr",
     "output_type": "stream",
     "text": [
      ">>> Finding TAO duck...: 100%|█████████████████████████████████████████████████████| 40/40 [00:00<00:00, 430.06it/s]\n",
      "\n",
      ">>> Finding TAO duck...: 100%|█████████████████████████████████████████████████████| 40/40 [00:00<00:00, 449.44it/s]\u001b[A\n",
      "\n",
      ">>> Finding TAO duck...: 100%|█████████████████████████████████████████████████████| 40/40 [00:00<00:00, 459.77it/s]\u001b[A"
     ]
    },
    {
     "name": "stdout",
     "output_type": "stream",
     "text": [
      ">>>> #WARNING: No file found for: TAO duck...\n",
      "[Errno 2] No such file or directory: 'D:/external_datasets/TAO/TAO_DIR/frames/val/YFCC100M/v_d389d21ddef286b3febd14de1db31615/frame1411.jpeg'\n",
      ">>>> #WARNING: No file found for: TAO duck...\n",
      "[Errno 2] No such file or directory: 'D:/external_datasets/TAO/TAO_DIR/frames/val/YFCC100M/v_d389d21ddef286b3febd14de1db31615/frame1561.jpeg'\n"
     ]
    },
    {
     "name": "stderr",
     "output_type": "stream",
     "text": [
      "\n",
      "\n",
      ">>> Finding TAO duck...: 100%|█████████████████████████████████████████████████████| 40/40 [00:00<00:00, 429.72it/s]\u001b[A\n",
      " 37%|███████████████████████████▉                                                | 463/1261 [02:05<06:27,  2.06it/s]"
     ]
    },
    {
     "name": "stdout",
     "output_type": "stream",
     "text": [
      ">>>> #WARNING: No file found for: TAO duck...\n",
      "[Errno 2] No such file or directory: 'D:/external_datasets/TAO/TAO_DIR/frames/val/YFCC100M/v_d389d21ddef286b3febd14de1db31615/frame1381.jpeg'\n",
      ">>>> #WARNING: No file found for: TAO duck...\n",
      "\n",
      ">> duckling...\n",
      ">>>> #WARNING duckling is missing from json annotations\n",
      "annotations datasets:  []\n",
      "annotations imgids:  []\n",
      "annotations bbox:  []\n",
      "\n",
      ">> duct_tape...\n",
      ">>>> #WARNING duct_tape is missing from json annotations\n",
      "annotations datasets:  []\n",
      "annotations imgids:  []\n",
      "annotations bbox:  []\n",
      "\n",
      ">> duffel_bag...\n",
      "TAO\n"
     ]
    },
    {
     "name": "stderr",
     "output_type": "stream",
     "text": [
      " 37%|████████████████████████████                                                | 466/1261 [02:05<05:27,  2.42it/s]\n",
      ">>> Finding TAO dustpan...: 100%|██████████████████████████████████████████████████| 30/30 [00:00<00:00, 423.42it/s]\u001b[A\n",
      "\n",
      ">>> Finding TAO dustpan...:   0%|                                                            | 0/30 [00:00<?, ?it/s]\u001b[A"
     ]
    },
    {
     "name": "stdout",
     "output_type": "stream",
     "text": [
      "\n",
      ">> dumbbell...\n",
      ">>>> #WARNING dumbbell is missing from json annotations\n",
      "annotations datasets:  []\n",
      "annotations imgids:  []\n",
      "annotations bbox:  []\n",
      "\n",
      ">> dumpster...\n",
      ">>>> #WARNING dumpster is missing from json annotations\n",
      "annotations datasets:  []\n",
      "annotations imgids:  []\n",
      "annotations bbox:  []\n",
      "\n",
      ">> dustpan...\n",
      "TAO\n",
      "[Errno 2] No such file or directory: 'D:/external_datasets/TAO/TAO_DIR/frames/val/YFCC100M/v_2679deb09deb203ccb68dd832ac6572/frame0661.jpeg'\n",
      ">>>> #WARNING: No file found for: TAO dustpan...\n",
      "[Errno 2] No such file or directory: 'D:/external_datasets/TAO/TAO_DIR/frames/val/YFCC100M/v_2679deb09deb203ccb68dd832ac6572/frame0721.jpeg'\n"
     ]
    },
    {
     "name": "stderr",
     "output_type": "stream",
     "text": [
      ">>> Finding TAO dustpan...: 100%|██████████████████████████████████████████████████| 30/30 [00:00<00:00, 422.47it/s]\n",
      "\n",
      ">>> Finding TAO dustpan...: 100%|██████████████████████████████████████████████████| 30/30 [00:00<00:00, 447.44it/s]\u001b[A\n",
      "\n",
      ">>> Finding TAO dustpan...: 100%|██████████████████████████████████████████████████| 30/30 [00:00<00:00, 441.01it/s]\u001b[A\n",
      "\n",
      ">>> Finding TAO dustpan...:   0%|                                                            | 0/30 [00:00<?, ?it/s]\u001b[A"
     ]
    },
    {
     "name": "stdout",
     "output_type": "stream",
     "text": [
      ">>>> #WARNING: No file found for: TAO dustpan...\n",
      "[Errno 2] No such file or directory: 'D:/external_datasets/TAO/TAO_DIR/frames/val/YFCC100M/v_2679deb09deb203ccb68dd832ac6572/frame1381.jpeg'\n",
      ">>>> #WARNING: No file found for: TAO dustpan...\n",
      "[Errno 2] No such file or directory: 'D:/external_datasets/TAO/TAO_DIR/frames/val/YFCC100M/v_2679deb09deb203ccb68dd832ac6572/frame1111.jpeg'\n",
      ">>>> #WARNING: No file found for: TAO dustpan...\n",
      "[Errno 2] No such file or directory: 'D:/external_datasets/TAO/TAO_DIR/frames/val/YFCC100M/v_2679deb09deb203ccb68dd832ac6572/frame0631.jpeg'\n"
     ]
    },
    {
     "name": "stderr",
     "output_type": "stream",
     "text": [
      ">>> Finding TAO dustpan...: 100%|██████████████████████████████████████████████████| 30/30 [00:00<00:00, 434.83it/s]\n",
      " 37%|████████████████████████████▎                                               | 469/1261 [02:06<04:24,  3.00it/s]"
     ]
    },
    {
     "name": "stdout",
     "output_type": "stream",
     "text": [
      ">>>> #WARNING: No file found for: TAO dustpan...\n",
      "\n",
      ">> Dutch_oven...\n",
      ">>>> #WARNING Dutch_oven is missing from json annotations\n",
      "annotations datasets:  []\n",
      "annotations imgids:  []\n",
      "annotations bbox:  []\n",
      "\n",
      ">> eagle...\n",
      "TAO\n"
     ]
    },
    {
     "name": "stderr",
     "output_type": "stream",
     "text": [
      " 37%|████████████████████████████▍                                               | 471/1261 [02:07<04:30,  2.92it/s]"
     ]
    },
    {
     "name": "stdout",
     "output_type": "stream",
     "text": [
      "\n",
      ">> earphone...\n",
      "TAO\n",
      "[Errno 2] No such file or directory: 'D:/external_datasets/TAO/TAO_DIR/frames/val/Charades/OU3HS/frame1141.jpg'\n"
     ]
    },
    {
     "name": "stderr",
     "output_type": "stream",
     "text": [
      "\n",
      ">>> Finding TAO earphone...:   0%|                                                           | 0/56 [00:00<?, ?it/s]\u001b[A\n",
      " 37%|████████████████████████████▍                                               | 472/1261 [02:08<07:27,  1.76it/s]\n",
      ">>> Finding TAO egg...:   1%|▌                                                      | 1/103 [00:00<00:03, 29.45it/s]\u001b[A\n"
     ]
    },
    {
     "name": "stdout",
     "output_type": "stream",
     "text": [
      "\n",
      ">> earplug...\n",
      ">>>> #WARNING earplug is missing from json annotations\n",
      "annotations datasets:  []\n",
      "annotations imgids:  []\n",
      "annotations bbox:  []\n",
      "\n",
      ">> earring...\n",
      ">>>> #WARNING earring is missing from json annotations\n",
      "annotations datasets:  []\n",
      "annotations imgids:  []\n",
      "annotations bbox:  []\n",
      "\n",
      ">> easel...\n",
      ">>>> #WARNING easel is missing from json annotations\n",
      "annotations datasets:  []\n",
      "annotations imgids:  []\n",
      "annotations bbox:  []\n",
      "\n",
      ">> eclair...\n",
      ">>>> #WARNING eclair is missing from json annotations\n",
      "annotations datasets:  []\n",
      "annotations imgids:  []\n",
      "annotations bbox:  []\n",
      "\n",
      ">> eel...\n",
      ">>>> #WARNING eel is missing from json annotations\n",
      "annotations datasets:  []\n",
      "annotations imgids:  []\n",
      "annotations bbox:  []\n",
      "\n",
      ">> egg...\n",
      "TAO\n",
      "[Errno 2] No such file or directory: 'D:/external_datasets/TAO/TAO_DIR/frames/train/YFCC100M/v_ea33c680e1f18d71543b8f80815beec/frame1321.jpg'\n"
     ]
    },
    {
     "name": "stderr",
     "output_type": "stream",
     "text": [
      "\n",
      ">>> Finding TAO egg...:   2%|█                                                     | 2/103 [00:00<00:00, 284.53it/s]\u001b[A\n",
      " 38%|████████████████████████████▊                                               | 478/1261 [02:08<05:27,  2.39it/s]\n",
      ">>> Finding TAO eggbeater...: 100%|████████████████████████████████████████████████| 36/36 [00:00<00:00, 420.29it/s]\u001b[A"
     ]
    },
    {
     "name": "stdout",
     "output_type": "stream",
     "text": [
      "[Errno 2] No such file or directory: 'D:/external_datasets/TAO/TAO_DIR/frames/train/YFCC100M/v_ea33c680e1f18d71543b8f80815beec/frame1321.jpg'\n",
      "\n",
      ">> egg_roll...\n",
      ">>>> #WARNING egg_roll is missing from json annotations\n",
      "annotations datasets:  []\n",
      "annotations imgids:  []\n",
      "annotations bbox:  []\n",
      "\n",
      ">> egg_yolk...\n",
      ">>>> #WARNING egg_yolk is missing from json annotations\n",
      "annotations datasets:  []\n",
      "annotations imgids:  []\n",
      "annotations bbox:  []\n",
      "\n",
      ">> eggbeater...\n",
      "TAO\n",
      "[Errno 2] No such file or directory: 'D:/external_datasets/TAO/TAO_DIR/frames/val/YFCC100M/v_460a1314da9bd32cbd14a2b3414f30/frame0841.jpeg'\n"
     ]
    },
    {
     "name": "stderr",
     "output_type": "stream",
     "text": [
      "\n",
      "\n",
      ">>> Finding TAO eggbeater...: 100%|████████████████████████████████████████████████| 36/36 [00:00<00:00, 444.45it/s]\u001b[A\n",
      "\n",
      ">>> Finding TAO eggbeater...: 100%|████████████████████████████████████████████████| 36/36 [00:00<00:00, 461.43it/s]\u001b[A\n",
      "\n",
      ">>> Finding TAO eggbeater...:   0%|                                                          | 0/36 [00:00<?, ?it/s]\u001b[A"
     ]
    },
    {
     "name": "stdout",
     "output_type": "stream",
     "text": [
      ">>>> #WARNING: No file found for: TAO eggbeater...\n",
      "[Errno 2] No such file or directory: 'D:/external_datasets/TAO/TAO_DIR/frames/val/YFCC100M/v_460a1314da9bd32cbd14a2b3414f30/frame0673.jpeg'\n",
      ">>>> #WARNING: No file found for: TAO eggbeater...\n",
      "[Errno 2] No such file or directory: 'D:/external_datasets/TAO/TAO_DIR/frames/val/YFCC100M/v_460a1314da9bd32cbd14a2b3414f30/frame0529.jpeg'\n",
      ">>>> #WARNING: No file found for: TAO eggbeater...\n",
      "[Errno 2] No such file or directory: 'D:/external_datasets/TAO/TAO_DIR/frames/val/YFCC100M/v_460a1314da9bd32cbd14a2b3414f30/frame0913.jpeg'\n"
     ]
    },
    {
     "name": "stderr",
     "output_type": "stream",
     "text": [
      ">>> Finding TAO eggbeater...: 100%|████████████████████████████████████████████████| 36/36 [00:00<00:00, 450.03it/s]\n",
      "\n",
      ">>> Finding TAO eggbeater...: 100%|████████████████████████████████████████████████| 36/36 [00:00<00:00, 455.76it/s]\u001b[A\n",
      " 38%|████████████████████████████▉                                               | 481/1261 [02:09<04:25,  2.94it/s]"
     ]
    },
    {
     "name": "stdout",
     "output_type": "stream",
     "text": [
      ">>>> #WARNING: No file found for: TAO eggbeater...\n",
      "[Errno 2] No such file or directory: 'D:/external_datasets/TAO/TAO_DIR/frames/val/YFCC100M/v_460a1314da9bd32cbd14a2b3414f30/frame1321.jpeg'\n",
      ">>>> #WARNING: No file found for: TAO eggbeater...\n",
      "\n",
      ">> eggplant...\n",
      ">>>> #WARNING eggplant is missing from json annotations\n",
      "annotations datasets:  []\n",
      "annotations imgids:  []\n",
      "annotations bbox:  []\n",
      "\n",
      ">> electric_chair...\n",
      ">>>> #WARNING electric_chair is missing from json annotations\n",
      "annotations datasets:  []\n",
      "annotations imgids:  []\n",
      "annotations bbox:  []\n",
      "\n",
      ">> elk...\n",
      ">>>> #WARNING elk is missing from json annotations\n",
      "annotations datasets:  []\n",
      "annotations imgids:  []\n",
      "annotations bbox:  []\n",
      "\n",
      ">> envelope...\n",
      "TAO\n"
     ]
    },
    {
     "name": "stderr",
     "output_type": "stream",
     "text": [
      " 38%|█████████████████████████████▏                                              | 485/1261 [02:09<03:51,  3.35it/s]"
     ]
    },
    {
     "name": "stdout",
     "output_type": "stream",
     "text": [
      "\n",
      ">> eraser...\n",
      ">>>> #WARNING eraser is missing from json annotations\n",
      "annotations datasets:  []\n",
      "annotations imgids:  []\n",
      "annotations bbox:  []\n",
      "\n",
      ">> escargot...\n",
      ">>>> #WARNING escargot is missing from json annotations\n",
      "annotations datasets:  []\n",
      "annotations imgids:  []\n",
      "annotations bbox:  []\n",
      "\n",
      ">> eyepatch...\n",
      ">>>> #WARNING eyepatch is missing from json annotations\n",
      "annotations datasets:  []\n",
      "annotations imgids:  []\n",
      "annotations bbox:  []\n",
      "\n",
      ">> falcon...\n",
      ">>>> #WARNING falcon is missing from json annotations\n",
      "annotations datasets:  []\n",
      "annotations imgids:  []\n",
      "annotations bbox:  []\n",
      "\n",
      ">> fan...\n",
      "TAO\n"
     ]
    },
    {
     "name": "stderr",
     "output_type": "stream",
     "text": [
      " 39%|█████████████████████████████▌                                              | 490/1261 [02:10<03:19,  3.87it/s]"
     ]
    },
    {
     "name": "stdout",
     "output_type": "stream",
     "text": [
      "\n",
      ">> faucet...\n",
      "TAO\n"
     ]
    },
    {
     "name": "stderr",
     "output_type": "stream",
     "text": [
      "\n",
      ">>> Finding TAO faucet...:   0%|                                                            | 0/149 [00:00<?, ?it/s]\u001b[A"
     ]
    },
    {
     "name": "stdout",
     "output_type": "stream",
     "text": [
      "[Errno 2] No such file or directory: 'D:/external_datasets/TAO/TAO_DIR/frames/train/HACS/Washing_dishes_v_7SFkVnnp_eE/frame1741.jpg'\n"
     ]
    },
    {
     "name": "stderr",
     "output_type": "stream",
     "text": [
      "\n",
      "\n",
      ">>> Finding TAO faucet...:   1%|▎                                                   | 1/149 [00:00<00:05, 28.47it/s]\u001b[A"
     ]
    },
    {
     "name": "stdout",
     "output_type": "stream",
     "text": [
      "[Errno 2] No such file or directory: 'D:/external_datasets/TAO/TAO_DIR/frames/val/HACS/Hand_washing_clothes_v_jLIcguu29qM/frame1171.jpg'\n"
     ]
    },
    {
     "name": "stderr",
     "output_type": "stream",
     "text": [
      "\n",
      " 39%|█████████████████████████████▌                                              | 491/1261 [02:11<07:12,  1.78it/s]\n",
      ">>> Finding TAO file_(tool)...: 100%|██████████████████████████████████████████████| 12/12 [00:00<00:00, 704.28it/s]\u001b[A\n",
      "\n",
      ">>> Finding TAO file_(tool)...: 100%|██████████████████████████████████████████████| 12/12 [00:00<00:00, 704.94it/s]\u001b[A\n",
      "\n",
      ">>> Finding TAO file_(tool)...: 100%|██████████████████████████████████████████████| 12/12 [00:00<00:00, 704.17it/s]\u001b[A\n",
      "\n",
      ">>> Finding TAO file_(tool)...: 100%|██████████████████████████████████████████████| 12/12 [00:00<00:00, 703.39it/s]\u001b[A\n",
      "\n",
      ">>> Finding TAO file_(tool)...: 100%|██████████████████████████████████████████████| 12/12 [00:00<00:00, 665.21it/s]\u001b[A\n",
      " 40%|██████████████████████████████▏                                             | 500/1261 [02:12<05:02,  2.52it/s]"
     ]
    },
    {
     "name": "stdout",
     "output_type": "stream",
     "text": [
      "\n",
      ">> fedora...\n",
      ">>>> #WARNING fedora is missing from json annotations\n",
      "annotations datasets:  []\n",
      "annotations imgids:  []\n",
      "annotations bbox:  []\n",
      "\n",
      ">> ferret...\n",
      ">>>> #WARNING ferret is missing from json annotations\n",
      "annotations datasets:  []\n",
      "annotations imgids:  []\n",
      "annotations bbox:  []\n",
      "\n",
      ">> Ferris_wheel...\n",
      ">>>> #WARNING Ferris_wheel is missing from json annotations\n",
      "annotations datasets:  []\n",
      "annotations imgids:  []\n",
      "annotations bbox:  []\n",
      "\n",
      ">> ferry...\n",
      ">>>> #WARNING ferry is missing from json annotations\n",
      "annotations datasets:  []\n",
      "annotations imgids:  []\n",
      "annotations bbox:  []\n",
      "\n",
      ">> fig_(fruit)...\n",
      ">>>> #WARNING fig_(fruit) is missing from json annotations\n",
      "annotations datasets:  []\n",
      "annotations imgids:  []\n",
      "annotations bbox:  []\n",
      "\n",
      ">> fighter_jet...\n",
      ">>>> #WARNING fighter_jet is missing from json annotations\n",
      "annotations datasets:  []\n",
      "annotations imgids:  []\n",
      "annotations bbox:  []\n",
      "\n",
      ">> figurine...\n",
      ">>>> #WARNING figurine is missing from json annotations\n",
      "annotations datasets:  []\n",
      "annotations imgids:  []\n",
      "annotations bbox:  []\n",
      "\n",
      ">> file_cabinet...\n",
      ">>>> #WARNING file_cabinet is missing from json annotations\n",
      "annotations datasets:  []\n",
      "annotations imgids:  []\n",
      "annotations bbox:  []\n",
      "\n",
      ">> file_(tool)...\n",
      "TAO\n",
      "[Errno 2] No such file or directory: 'D:/external_datasets/TAO/TAO_DIR/frames/train/YFCC100M/v_23584c2660351f12cffe1399c47ce870/frame1201.jpeg'\n",
      ">>>> #WARNING: No file found for: TAO file_(tool)...\n",
      "[Errno 2] No such file or directory: 'D:/external_datasets/TAO/TAO_DIR/frames/train/YFCC100M/v_23584c2660351f12cffe1399c47ce870/frame1891.jpeg'\n",
      ">>>> #WARNING: No file found for: TAO file_(tool)...\n",
      "[Errno 2] No such file or directory: 'D:/external_datasets/TAO/TAO_DIR/frames/train/YFCC100M/v_23584c2660351f12cffe1399c47ce870/frame1231.jpeg'\n",
      ">>>> #WARNING: No file found for: TAO file_(tool)...\n",
      "[Errno 2] No such file or directory: 'D:/external_datasets/TAO/TAO_DIR/frames/train/YFCC100M/v_23584c2660351f12cffe1399c47ce870/frame1831.jpeg'\n",
      ">>>> #WARNING: No file found for: TAO file_(tool)...\n",
      "[Errno 2] No such file or directory: 'D:/external_datasets/TAO/TAO_DIR/frames/train/YFCC100M/v_23584c2660351f12cffe1399c47ce870/frame1801.jpeg'\n",
      ">>>> #WARNING: No file found for: TAO file_(tool)...\n",
      "\n",
      ">> fire_alarm...\n",
      ">>>> #WARNING fire_alarm is missing from json annotations\n",
      "annotations datasets:  []\n",
      "annotations imgids:  []\n",
      "annotations bbox:  []\n",
      "\n",
      ">> fire_engine...\n",
      ">>>> #WARNING fire_engine is missing from json annotations\n",
      "annotations datasets:  []\n",
      "annotations imgids:  []\n",
      "annotations bbox:  []\n",
      "\n",
      ">> fire_extinguisher...\n",
      ">>>> #WARNING fire_extinguisher is missing from json annotations\n",
      "annotations datasets:  []\n",
      "annotations imgids:  []\n",
      "annotations bbox:  []\n",
      "\n",
      ">> fire_hose...\n",
      ">>>> #WARNING fire_hose is missing from json annotations\n",
      "annotations datasets:  []\n",
      "annotations imgids:  []\n",
      "annotations bbox:  []\n",
      "\n",
      ">> fireplace...\n",
      ">>>> #WARNING fireplace is missing from json annotations\n",
      "annotations datasets:  []\n",
      "annotations imgids:  []\n",
      "annotations bbox:  []\n",
      "\n",
      ">> fireplug...\n",
      ">>>> #WARNING fireplug is missing from json annotations\n",
      "annotations datasets:  []\n",
      "annotations imgids:  []\n",
      "annotations bbox:  []\n",
      "\n",
      ">> fish...\n",
      "TAO\n"
     ]
    },
    {
     "name": "stderr",
     "output_type": "stream",
     "text": [
      " 40%|██████████████████████████████▌                                             | 507/1261 [02:14<04:46,  2.63it/s]"
     ]
    },
    {
     "name": "stdout",
     "output_type": "stream",
     "text": [
      "\n",
      ">> fish_(food)...\n",
      ">>>> #WARNING fish_(food) is missing from json annotations\n",
      "annotations datasets:  []\n",
      "annotations imgids:  []\n",
      "annotations bbox:  []\n",
      "\n",
      ">> fishbowl...\n",
      ">>>> #WARNING fishbowl is missing from json annotations\n",
      "annotations datasets:  []\n",
      "annotations imgids:  []\n",
      "annotations bbox:  []\n",
      "\n",
      ">> fishing_boat...\n",
      ">>>> #WARNING fishing_boat is missing from json annotations\n",
      "annotations datasets:  []\n",
      "annotations imgids:  []\n",
      "annotations bbox:  []\n",
      "\n",
      ">> fishing_rod...\n",
      "TAO\n"
     ]
    },
    {
     "name": "stderr",
     "output_type": "stream",
     "text": [
      " 41%|██████████████████████████████▊                                             | 511/1261 [02:15<04:34,  2.73it/s]"
     ]
    },
    {
     "name": "stdout",
     "output_type": "stream",
     "text": [
      "\n",
      ">> flag...\n",
      "TAO\n",
      "[Errno 2] No such file or directory: 'D:/external_datasets/TAO/TAO_DIR/frames/val/ArgoVerse/33737504-3373-3373-3373-633738571776/ring_front_center_315968423005071640.jpg'\n"
     ]
    },
    {
     "name": "stderr",
     "output_type": "stream",
     "text": [
      "\n",
      ">>> Finding TAO flag...:   0%|                                                              | 0/520 [00:00<?, ?it/s]\u001b[A\n",
      " 41%|██████████████████████████████▉                                             | 513/1261 [02:16<04:48,  2.59it/s]"
     ]
    },
    {
     "name": "stdout",
     "output_type": "stream",
     "text": [
      "\n",
      ">> flagpole...\n",
      ">>>> #WARNING flagpole is missing from json annotations\n",
      "annotations datasets:  []\n",
      "annotations imgids:  []\n",
      "annotations bbox:  []\n",
      "\n",
      ">> flamingo...\n",
      ">>>> #WARNING flamingo is missing from json annotations\n",
      "annotations datasets:  []\n",
      "annotations imgids:  []\n",
      "annotations bbox:  []\n",
      "\n",
      ">> flannel...\n",
      ">>>> #WARNING flannel is missing from json annotations\n",
      "annotations datasets:  []\n",
      "annotations imgids:  []\n",
      "annotations bbox:  []\n",
      "\n",
      ">> flash...\n",
      ">>>> #WARNING flash is missing from json annotations\n",
      "annotations datasets:  []\n",
      "annotations imgids:  []\n",
      "annotations bbox:  []\n",
      "\n",
      ">> flashlight...\n",
      ">>>> #WARNING flashlight is missing from json annotations\n",
      "annotations datasets:  []\n",
      "annotations imgids:  []\n",
      "annotations bbox:  []\n",
      "\n",
      ">> fleece...\n",
      ">>>> #WARNING fleece is missing from json annotations\n",
      "annotations datasets:  []\n",
      "annotations imgids:  []\n",
      "annotations bbox:  []\n",
      "\n",
      ">> flip-flop_(sandal)...\n",
      ">>>> #WARNING flip-flop_(sandal) is missing from json annotations\n",
      "annotations datasets:  []\n",
      "annotations imgids:  []\n",
      "annotations bbox:  []\n",
      "\n",
      ">> flipper_(footwear)...\n",
      ">>>> #WARNING flipper_(footwear) is missing from json annotations\n",
      "annotations datasets:  []\n",
      "annotations imgids:  []\n",
      "annotations bbox:  []\n",
      "\n",
      ">> flower_arrangement...\n",
      ">>>> #WARNING flower_arrangement is missing from json annotations\n",
      "annotations datasets:  []\n",
      "annotations imgids:  []\n",
      "annotations bbox:  []\n",
      "\n",
      ">> flute_glass...\n",
      "TAO\n"
     ]
    },
    {
     "name": "stderr",
     "output_type": "stream",
     "text": [
      "\n",
      ">>> Finding TAO flute_glass...:   0%|                                                        | 0/80 [00:00<?, ?it/s]\u001b[A"
     ]
    },
    {
     "name": "stdout",
     "output_type": "stream",
     "text": [
      "[Errno 2] No such file or directory: 'D:/external_datasets/TAO/TAO_DIR/frames/val/AVA/lWXhqIAvarw_scene_3_30264-31871/frame1201.jpg'\n"
     ]
    },
    {
     "name": "stderr",
     "output_type": "stream",
     "text": [
      "\n",
      "\n",
      ">>> Finding TAO flute_glass...:   1%|▌                                               | 1/80 [00:00<00:02, 34.44it/s]\u001b[A\n"
     ]
    },
    {
     "name": "stdout",
     "output_type": "stream",
     "text": [
      "[Errno 2] No such file or directory: 'D:/external_datasets/TAO/TAO_DIR/frames/val/AVA/lWXhqIAvarw_scene_3_30264-31871/frame1251.jpg'\n"
     ]
    },
    {
     "name": "stderr",
     "output_type": "stream",
     "text": [
      " 41%|███████████████████████████████▍                                            | 522/1261 [02:18<03:52,  3.18it/s]"
     ]
    },
    {
     "name": "stdout",
     "output_type": "stream",
     "text": [
      "\n",
      ">> foal...\n",
      ">>>> #WARNING foal is missing from json annotations\n",
      "annotations datasets:  []\n",
      "annotations imgids:  []\n",
      "annotations bbox:  []\n",
      "\n",
      ">> folding_chair...\n",
      ">>>> #WARNING folding_chair is missing from json annotations\n",
      "annotations datasets:  []\n",
      "annotations imgids:  []\n",
      "annotations bbox:  []\n",
      "\n",
      ">> food_processor...\n",
      ">>>> #WARNING food_processor is missing from json annotations\n",
      "annotations datasets:  []\n",
      "annotations imgids:  []\n",
      "annotations bbox:  []\n",
      "\n",
      ">> football_(American)...\n",
      ">>>> #WARNING football_(American) is missing from json annotations\n",
      "annotations datasets:  []\n",
      "annotations imgids:  []\n",
      "annotations bbox:  []\n",
      "\n",
      ">> football_helmet...\n",
      "TAO\n"
     ]
    },
    {
     "name": "stderr",
     "output_type": "stream",
     "text": [
      " 42%|███████████████████████████████▊                                            | 527/1261 [02:18<03:15,  3.75it/s]"
     ]
    },
    {
     "name": "stdout",
     "output_type": "stream",
     "text": [
      "\n",
      ">> footstool...\n",
      ">>>> #WARNING footstool is missing from json annotations\n",
      "annotations datasets:  []\n",
      "annotations imgids:  []\n",
      "annotations bbox:  []\n",
      "\n",
      ">> forklift...\n",
      ">>>> #WARNING forklift is missing from json annotations\n",
      "annotations datasets:  []\n",
      "annotations imgids:  []\n",
      "annotations bbox:  []\n",
      "\n",
      ">> freight_car...\n",
      ">>>> #WARNING freight_car is missing from json annotations\n",
      "annotations datasets:  []\n",
      "annotations imgids:  []\n",
      "annotations bbox:  []\n",
      "\n",
      ">> French_toast...\n",
      ">>>> #WARNING French_toast is missing from json annotations\n",
      "annotations datasets:  []\n",
      "annotations imgids:  []\n",
      "annotations bbox:  []\n",
      "\n",
      ">> freshener...\n",
      ">>>> #WARNING freshener is missing from json annotations\n",
      "annotations datasets:  []\n",
      "annotations imgids:  []\n",
      "annotations bbox:  []\n",
      "\n",
      ">> frog...\n",
      "TAO\n"
     ]
    },
    {
     "name": "stderr",
     "output_type": "stream",
     "text": [
      " 42%|████████████████████████████████                                            | 533/1261 [02:19<02:43,  4.44it/s]"
     ]
    },
    {
     "name": "stdout",
     "output_type": "stream",
     "text": [
      "\n",
      ">> fruit_juice...\n",
      ">>>> #WARNING fruit_juice is missing from json annotations\n",
      "annotations datasets:  []\n",
      "annotations imgids:  []\n",
      "annotations bbox:  []\n",
      "\n",
      ">> fruit_salad...\n",
      ">>>> #WARNING fruit_salad is missing from json annotations\n",
      "annotations datasets:  []\n",
      "annotations imgids:  []\n",
      "annotations bbox:  []\n",
      "\n",
      ">> frying_pan...\n",
      ">>>> #WARNING frying_pan is missing from json annotations\n",
      "annotations datasets:  []\n",
      "annotations imgids:  []\n",
      "annotations bbox:  []\n",
      "\n",
      ">> fudge...\n",
      ">>>> #WARNING fudge is missing from json annotations\n",
      "annotations datasets:  []\n",
      "annotations imgids:  []\n",
      "annotations bbox:  []\n",
      "\n",
      ">> funnel...\n",
      ">>>> #WARNING funnel is missing from json annotations\n",
      "annotations datasets:  []\n",
      "annotations imgids:  []\n",
      "annotations bbox:  []\n",
      "\n",
      ">> futon...\n",
      ">>>> #WARNING futon is missing from json annotations\n",
      "annotations datasets:  []\n",
      "annotations imgids:  []\n",
      "annotations bbox:  []\n",
      "\n",
      ">> gag...\n",
      ">>>> #WARNING gag is missing from json annotations\n",
      "annotations datasets:  []\n",
      "annotations imgids:  []\n",
      "annotations bbox:  []\n",
      "\n",
      ">> garbage...\n",
      "TAO\n"
     ]
    },
    {
     "name": "stderr",
     "output_type": "stream",
     "text": [
      " 43%|████████████████████████████████▌                                           | 541/1261 [02:19<02:01,  5.93it/s]"
     ]
    },
    {
     "name": "stdout",
     "output_type": "stream",
     "text": [
      "\n",
      ">> garbage_truck...\n",
      "TAO\n"
     ]
    },
    {
     "name": "stderr",
     "output_type": "stream",
     "text": [
      " 43%|████████████████████████████████▋                                           | 543/1261 [02:20<02:49,  4.23it/s]"
     ]
    },
    {
     "name": "stdout",
     "output_type": "stream",
     "text": [
      "\n",
      ">> garden_hose...\n",
      ">>>> #WARNING garden_hose is missing from json annotations\n",
      "annotations datasets:  []\n",
      "annotations imgids:  []\n",
      "annotations bbox:  []\n",
      "\n",
      ">> gargle...\n",
      ">>>> #WARNING gargle is missing from json annotations\n",
      "annotations datasets:  []\n",
      "annotations imgids:  []\n",
      "annotations bbox:  []\n",
      "\n",
      ">> gargoyle...\n",
      ">>>> #WARNING gargoyle is missing from json annotations\n",
      "annotations datasets:  []\n",
      "annotations imgids:  []\n",
      "annotations bbox:  []\n",
      "\n",
      ">> garlic...\n",
      ">>>> #WARNING garlic is missing from json annotations\n",
      "annotations datasets:  []\n",
      "annotations imgids:  []\n",
      "annotations bbox:  []\n",
      "\n",
      ">> gasmask...\n",
      "TAO\n"
     ]
    },
    {
     "name": "stderr",
     "output_type": "stream",
     "text": [
      " 43%|████████████████████████████████▉                                           | 547/1261 [02:21<02:38,  4.49it/s]"
     ]
    },
    {
     "name": "stdout",
     "output_type": "stream",
     "text": [
      "\n",
      ">> gazelle...\n",
      ">>>> #WARNING gazelle is missing from json annotations\n",
      "annotations datasets:  []\n",
      "annotations imgids:  []\n",
      "annotations bbox:  []\n",
      "\n",
      ">> gelatin...\n",
      ">>>> #WARNING gelatin is missing from json annotations\n",
      "annotations datasets:  []\n",
      "annotations imgids:  []\n",
      "annotations bbox:  []\n",
      "\n",
      ">> gemstone...\n",
      ">>>> #WARNING gemstone is missing from json annotations\n",
      "annotations datasets:  []\n",
      "annotations imgids:  []\n",
      "annotations bbox:  []\n",
      "\n",
      ">> giant_panda...\n",
      "TAO\n"
     ]
    },
    {
     "name": "stderr",
     "output_type": "stream",
     "text": [
      " 44%|█████████████████████████████████▏                                          | 551/1261 [02:22<02:37,  4.52it/s]"
     ]
    },
    {
     "name": "stdout",
     "output_type": "stream",
     "text": [
      "\n",
      ">> gift_wrap...\n",
      "TAO\n"
     ]
    },
    {
     "name": "stderr",
     "output_type": "stream",
     "text": [
      "\n",
      ">>> Finding TAO gift_wrap...:   0%|                                                          | 0/64 [00:00<?, ?it/s]\u001b[A\n",
      "\n",
      ">>> Finding TAO gift_wrap...:   2%|▊                                                 | 1/64 [00:00<00:03, 17.78it/s]\u001b[A"
     ]
    },
    {
     "name": "stdout",
     "output_type": "stream",
     "text": [
      "[Errno 2] No such file or directory: 'D:/external_datasets/TAO/TAO_DIR/frames/val/YFCC100M/v_6e13bedfe418b88fc7f43b5df7eb768/frame1591.jpg'\n",
      "[Errno 2] No such file or directory: 'D:/external_datasets/TAO/TAO_DIR/frames/val/YFCC100M/v_6e13bedfe418b88fc7f43b5df7eb768/frame1681.jpg'\n"
     ]
    },
    {
     "name": "stderr",
     "output_type": "stream",
     "text": [
      "\n",
      " 44%|█████████████████████████████████▎                                          | 552/1261 [02:23<04:40,  2.53it/s]"
     ]
    },
    {
     "name": "stdout",
     "output_type": "stream",
     "text": [
      "\n",
      ">> ginger...\n",
      ">>>> #WARNING ginger is missing from json annotations\n",
      "annotations datasets:  []\n",
      "annotations imgids:  []\n",
      "annotations bbox:  []\n",
      "\n",
      ">> cincture...\n",
      ">>>> #WARNING cincture is missing from json annotations\n",
      "annotations datasets:  []\n",
      "annotations imgids:  []\n",
      "annotations bbox:  []\n",
      "\n",
      ">> glass_(drink_container)...\n",
      ">>>> #WARNING glass_(drink_container) is missing from json annotations\n",
      "annotations datasets:  []\n",
      "annotations imgids:  []\n",
      "annotations bbox:  []\n",
      "\n",
      ">> globe...\n",
      ">>>> #WARNING globe is missing from json annotations\n",
      "annotations datasets:  []\n",
      "annotations imgids:  []\n",
      "annotations bbox:  []\n",
      "\n",
      ">> glove...\n",
      ">>>> #WARNING glove is missing from json annotations\n",
      "annotations datasets:  []\n",
      "annotations imgids:  []\n",
      "annotations bbox:  []\n",
      "\n",
      ">> goat...\n",
      "TAO\n"
     ]
    },
    {
     "name": "stderr",
     "output_type": "stream",
     "text": [
      " 44%|█████████████████████████████████▋                                          | 558/1261 [02:23<03:45,  3.12it/s]"
     ]
    },
    {
     "name": "stdout",
     "output_type": "stream",
     "text": [
      "\n",
      ">> goggles...\n",
      ">>>> #WARNING goggles is missing from json annotations\n",
      "annotations datasets:  []\n",
      "annotations imgids:  []\n",
      "annotations bbox:  []\n",
      "\n",
      ">> goldfish...\n",
      ">>>> #WARNING goldfish is missing from json annotations\n",
      "annotations datasets:  []\n",
      "annotations imgids:  []\n",
      "annotations bbox:  []\n",
      "\n",
      ">> golf_club...\n",
      "TAO\n"
     ]
    },
    {
     "name": "stderr",
     "output_type": "stream",
     "text": [
      " 44%|█████████████████████████████████▊                                          | 561/1261 [02:24<03:32,  3.30it/s]"
     ]
    },
    {
     "name": "stdout",
     "output_type": "stream",
     "text": [
      "\n",
      ">> golfcart...\n",
      ">>>> #WARNING golfcart is missing from json annotations\n",
      "annotations datasets:  []\n",
      "annotations imgids:  []\n",
      "annotations bbox:  []\n",
      "\n",
      ">> gondola_(boat)...\n",
      ">>>> #WARNING gondola_(boat) is missing from json annotations\n",
      "annotations datasets:  []\n",
      "annotations imgids:  []\n",
      "annotations bbox:  []\n",
      "\n",
      ">> goose...\n",
      "TAO\n"
     ]
    },
    {
     "name": "stderr",
     "output_type": "stream",
     "text": [
      " 45%|█████████████████████████████████▉                                          | 564/1261 [02:25<03:28,  3.35it/s]"
     ]
    },
    {
     "name": "stdout",
     "output_type": "stream",
     "text": [
      "\n",
      ">> gorilla...\n",
      "TAO\n"
     ]
    },
    {
     "name": "stderr",
     "output_type": "stream",
     "text": [
      " 45%|██████████████████████████████████                                          | 565/1261 [02:26<05:10,  2.24it/s]"
     ]
    },
    {
     "name": "stdout",
     "output_type": "stream",
     "text": [
      "\n",
      ">> gourd...\n",
      ">>>> #WARNING gourd is missing from json annotations\n",
      "annotations datasets:  []\n",
      "annotations imgids:  []\n",
      "annotations bbox:  []\n",
      "\n",
      ">> surgical_gown...\n",
      ">>>> #WARNING surgical_gown is missing from json annotations\n",
      "annotations datasets:  []\n",
      "annotations imgids:  []\n",
      "annotations bbox:  []\n",
      "\n",
      ">> grape...\n",
      ">>>> #WARNING grape is missing from json annotations\n",
      "annotations datasets:  []\n",
      "annotations imgids:  []\n",
      "annotations bbox:  []\n",
      "\n",
      ">> grasshopper...\n",
      ">>>> #WARNING grasshopper is missing from json annotations\n",
      "annotations datasets:  []\n",
      "annotations imgids:  []\n",
      "annotations bbox:  []\n",
      "\n",
      ">> grater...\n",
      ">>>> #WARNING grater is missing from json annotations\n",
      "annotations datasets:  []\n",
      "annotations imgids:  []\n",
      "annotations bbox:  []\n",
      "\n",
      ">> gravestone...\n",
      ">>>> #WARNING gravestone is missing from json annotations\n",
      "annotations datasets:  []\n",
      "annotations imgids:  []\n",
      "annotations bbox:  []\n",
      "\n",
      ">> gravy_boat...\n",
      ">>>> #WARNING gravy_boat is missing from json annotations\n",
      "annotations datasets:  []\n",
      "annotations imgids:  []\n",
      "annotations bbox:  []\n",
      "\n",
      ">> green_bean...\n",
      ">>>> #WARNING green_bean is missing from json annotations\n",
      "annotations datasets:  []\n",
      "annotations imgids:  []\n",
      "annotations bbox:  []\n",
      "\n",
      ">> green_onion...\n",
      ">>>> #WARNING green_onion is missing from json annotations\n",
      "annotations datasets:  []\n",
      "annotations imgids:  []\n",
      "annotations bbox:  []\n",
      "\n",
      ">> griddle...\n",
      ">>>> #WARNING griddle is missing from json annotations\n",
      "annotations datasets:  []\n",
      "annotations imgids:  []\n",
      "annotations bbox:  []\n",
      "\n",
      ">> grillroom...\n",
      ">>>> #WARNING grillroom is missing from json annotations\n",
      "annotations datasets:  []\n",
      "annotations imgids:  []\n",
      "annotations bbox:  []\n",
      "\n",
      ">> grinder_(tool)...\n",
      ">>>> #WARNING grinder_(tool) is missing from json annotations\n",
      "annotations datasets:  []\n",
      "annotations imgids:  []\n",
      "annotations bbox:  []\n",
      "\n",
      ">> grits...\n",
      ">>>> #WARNING grits is missing from json annotations\n",
      "annotations datasets:  []\n",
      "annotations imgids:  []\n",
      "annotations bbox:  []\n",
      "\n",
      ">> grizzly...\n",
      ">>>> #WARNING grizzly is missing from json annotations\n",
      "annotations datasets:  []\n",
      "annotations imgids:  []\n",
      "annotations bbox:  []\n",
      "\n",
      ">> grocery_bag...\n",
      "TAO\n"
     ]
    },
    {
     "name": "stderr",
     "output_type": "stream",
     "text": [
      " 46%|██████████████████████████████████▉                                         | 580/1261 [02:27<03:46,  3.01it/s]"
     ]
    },
    {
     "name": "stdout",
     "output_type": "stream",
     "text": [
      "\n",
      ">> guacamole...\n",
      ">>>> #WARNING guacamole is missing from json annotations\n",
      "annotations datasets:  []\n",
      "annotations imgids:  []\n",
      "annotations bbox:  []\n",
      "\n",
      ">> guitar...\n",
      "TAO\n"
     ]
    },
    {
     "name": "stderr",
     "output_type": "stream",
     "text": [
      "\n",
      ">>> Finding TAO guitar...:   0%|                                                            | 0/473 [00:00<?, ?it/s]\u001b[A"
     ]
    },
    {
     "name": "stdout",
     "output_type": "stream",
     "text": [
      "[Errno 2] No such file or directory: 'D:/external_datasets/TAO/TAO_DIR/frames/train/YFCC100M/v_3d84802a7129a8649f38d2bcf2debc3/frame1201.jpg'\n"
     ]
    },
    {
     "name": "stderr",
     "output_type": "stream",
     "text": [
      "\n",
      "\n",
      ">>> Finding TAO guitar...:   0%|                                                   | 1/473 [00:00<00:03, 125.05it/s]\u001b[A\n",
      " 46%|███████████████████████████████████                                         | 582/1261 [02:28<03:44,  3.02it/s]"
     ]
    },
    {
     "name": "stdout",
     "output_type": "stream",
     "text": [
      "[Errno 2] No such file or directory: 'D:/external_datasets/TAO/TAO_DIR/frames/train/YFCC100M/v_3d84802a7129a8649f38d2bcf2debc3/frame1381.jpg'\n",
      "\n",
      ">> gull...\n",
      ">>>> #WARNING gull is missing from json annotations\n",
      "annotations datasets:  []\n",
      "annotations imgids:  []\n",
      "annotations bbox:  []\n",
      "\n",
      ">> gun...\n",
      "TAO\n"
     ]
    },
    {
     "name": "stderr",
     "output_type": "stream",
     "text": [
      "\n",
      ">>> Finding TAO gun...:   0%|                                                               | 0/175 [00:00<?, ?it/s]\u001b[A\n",
      " 46%|███████████████████████████████████▏                                        | 584/1261 [02:28<04:11,  2.69it/s]\n",
      ">>> Finding TAO hairbrush...:   0%|                                                          | 0/36 [00:00<?, ?it/s]\u001b[A"
     ]
    },
    {
     "name": "stdout",
     "output_type": "stream",
     "text": [
      "[Errno 2] No such file or directory: 'D:/external_datasets/TAO/TAO_DIR/frames/train/YFCC100M/v_39e0a6e2fd23c9796a7ac04ed257c461/frame1171.jpg'\n",
      "\n",
      ">> hair_spray...\n",
      ">>>> #WARNING hair_spray is missing from json annotations\n",
      "annotations datasets:  []\n",
      "annotations imgids:  []\n",
      "annotations bbox:  []\n",
      "\n",
      ">> hairbrush...\n",
      "TAO\n",
      "[Errno 2] No such file or directory: 'D:/external_datasets/TAO/TAO_DIR/frames/val/HACS/Blow-drying_hair_v_5Mal9lAFsCc/frame1471.jpg'\n"
     ]
    },
    {
     "name": "stderr",
     "output_type": "stream",
     "text": [
      "\n",
      "\n",
      ">>> Finding TAO hairbrush...:   3%|█▍                                                | 1/36 [00:00<00:02, 14.44it/s]\u001b[A"
     ]
    },
    {
     "name": "stdout",
     "output_type": "stream",
     "text": [
      "[Errno 2] No such file or directory: 'D:/external_datasets/TAO/TAO_DIR/frames/val/HACS/Blow-drying_hair_v_5Mal9lAFsCc/frame1261.jpg'\n"
     ]
    },
    {
     "name": "stderr",
     "output_type": "stream",
     "text": [
      "\n",
      " 46%|███████████████████████████████████▎                                        | 586/1261 [02:29<04:11,  2.69it/s]\n",
      ">>> Finding TAO hammer...:  25%|█████████████▌                                        | 2/8 [00:00<00:00, 18.70it/s]\u001b[A\n"
     ]
    },
    {
     "name": "stdout",
     "output_type": "stream",
     "text": [
      "\n",
      ">> hairnet...\n",
      ">>>> #WARNING hairnet is missing from json annotations\n",
      "annotations datasets:  []\n",
      "annotations imgids:  []\n",
      "annotations bbox:  []\n",
      "\n",
      ">> hairpin...\n",
      ">>>> #WARNING hairpin is missing from json annotations\n",
      "annotations datasets:  []\n",
      "annotations imgids:  []\n",
      "annotations bbox:  []\n",
      "\n",
      ">> ham...\n",
      ">>>> #WARNING ham is missing from json annotations\n",
      "annotations datasets:  []\n",
      "annotations imgids:  []\n",
      "annotations bbox:  []\n",
      "\n",
      ">> hamburger...\n",
      ">>>> #WARNING hamburger is missing from json annotations\n",
      "annotations datasets:  []\n",
      "annotations imgids:  []\n",
      "annotations bbox:  []\n",
      "\n",
      ">> hammer...\n",
      "TAO\n",
      "[Errno 2] No such file or directory: 'D:/external_datasets/TAO/TAO_DIR/frames/val/YFCC100M/v_f082f297a09e147bb990b9cc89c7ad8e/frame0401.jpeg'\n"
     ]
    },
    {
     "name": "stderr",
     "output_type": "stream",
     "text": [
      "\n",
      ">>> Finding TAO hammer...:  38%|████████████████████▎                                 | 3/8 [00:00<00:00, 71.37it/s]\u001b[A\n"
     ]
    },
    {
     "name": "stdout",
     "output_type": "stream",
     "text": [
      "[Errno 2] No such file or directory: 'D:/external_datasets/TAO/TAO_DIR/frames/val/YFCC100M/v_f082f297a09e147bb990b9cc89c7ad8e/frame0376.jpeg'\n"
     ]
    },
    {
     "name": "stderr",
     "output_type": "stream",
     "text": [
      " 47%|███████████████████████████████████▌                                        | 591/1261 [02:30<03:27,  3.23it/s]"
     ]
    },
    {
     "name": "stdout",
     "output_type": "stream",
     "text": [
      "\n",
      ">> hammock...\n",
      ">>>> #WARNING hammock is missing from json annotations\n",
      "annotations datasets:  []\n",
      "annotations imgids:  []\n",
      "annotations bbox:  []\n",
      "\n",
      ">> hamper...\n",
      ">>>> #WARNING hamper is missing from json annotations\n",
      "annotations datasets:  []\n",
      "annotations imgids:  []\n",
      "annotations bbox:  []\n",
      "\n",
      ">> hamster...\n",
      ">>>> #WARNING hamster is missing from json annotations\n",
      "annotations datasets:  []\n",
      "annotations imgids:  []\n",
      "annotations bbox:  []\n",
      "\n",
      ">> hair_dryer...\n",
      "TAO\n"
     ]
    },
    {
     "name": "stderr",
     "output_type": "stream",
     "text": [
      " 47%|███████████████████████████████████▊                                        | 595/1261 [02:31<03:03,  3.63it/s]\n",
      ">>> Finding TAO handcuff...:   0%|                                                           | 0/21 [00:00<?, ?it/s]\u001b[A\n"
     ]
    },
    {
     "name": "stdout",
     "output_type": "stream",
     "text": [
      "\n",
      ">> hand_glass...\n",
      ">>>> #WARNING hand_glass is missing from json annotations\n",
      "annotations datasets:  []\n",
      "annotations imgids:  []\n",
      "annotations bbox:  []\n",
      "\n",
      ">> hand_towel...\n",
      ">>>> #WARNING hand_towel is missing from json annotations\n",
      "annotations datasets:  []\n",
      "annotations imgids:  []\n",
      "annotations bbox:  []\n",
      "\n",
      ">> handcart...\n",
      ">>>> #WARNING handcart is missing from json annotations\n",
      "annotations datasets:  []\n",
      "annotations imgids:  []\n",
      "annotations bbox:  []\n",
      "\n",
      ">> handcuff...\n",
      "TAO\n",
      "[Errno 2] No such file or directory: 'D:/external_datasets/TAO/TAO_DIR/frames/val/AVA/G0gDuIVKiXg_scene_25_65010-66644/frame1081.jpg'\n"
     ]
    },
    {
     "name": "stderr",
     "output_type": "stream",
     "text": [
      "\n",
      ">>> Finding TAO handcuff...:   5%|██▍                                                | 1/21 [00:00<00:01, 14.78it/s]\u001b[A"
     ]
    },
    {
     "name": "stdout",
     "output_type": "stream",
     "text": [
      "[Errno 2] No such file or directory: 'D:/external_datasets/TAO/TAO_DIR/frames/val/AVA/G0gDuIVKiXg_scene_25_65010-66644/frame1009.jpg'\n"
     ]
    },
    {
     "name": "stderr",
     "output_type": "stream",
     "text": [
      "\n",
      " 48%|████████████████████████████████████                                        | 599/1261 [02:32<03:15,  3.39it/s]\n",
      ">>> Finding TAO handle...:  34%|█████████████████▌                                 | 21/61 [00:00<00:00, 170.90it/s]\u001b[A\n"
     ]
    },
    {
     "name": "stdout",
     "output_type": "stream",
     "text": [
      "\n",
      ">> handkerchief...\n",
      ">>>> #WARNING handkerchief is missing from json annotations\n",
      "annotations datasets:  []\n",
      "annotations imgids:  []\n",
      "annotations bbox:  []\n",
      "\n",
      ">> handle...\n",
      "TAO\n",
      "[Errno 2] No such file or directory: 'D:/external_datasets/TAO/TAO_DIR/frames/train/YFCC100M/v_12238710b8f3e71839ffbf64f3d82f11/frame0601.jpeg'\n"
     ]
    },
    {
     "name": "stderr",
     "output_type": "stream",
     "text": [
      "\n",
      ">>> Finding TAO handle...:  36%|██████████████████▍                                | 22/61 [00:00<00:00, 205.66it/s]\u001b[A"
     ]
    },
    {
     "name": "stdout",
     "output_type": "stream",
     "text": [
      "[Errno 2] No such file or directory: 'D:/external_datasets/TAO/TAO_DIR/frames/train/YFCC100M/v_12238710b8f3e71839ffbf64f3d82f11/frame0211.jpeg'\n"
     ]
    },
    {
     "name": "stderr",
     "output_type": "stream",
     "text": [
      "\n",
      "\n",
      ">>> Finding TAO handle...:  38%|███████████████████▏                               | 23/61 [00:00<00:00, 212.93it/s]\u001b[A"
     ]
    },
    {
     "name": "stdout",
     "output_type": "stream",
     "text": [
      "[Errno 2] No such file or directory: 'D:/external_datasets/TAO/TAO_DIR/frames/train/AVA/ZbeMNLwASVo_scene_7_92916-94849/frame1441.jpg'\n"
     ]
    },
    {
     "name": "stderr",
     "output_type": "stream",
     "text": [
      "\n",
      "\n",
      ">>> Finding TAO handle...:  39%|████████████████████                               | 24/61 [00:00<00:00, 239.99it/s]\u001b[A\n",
      " 48%|████████████████████████████████████▏                                       | 601/1261 [02:33<03:54,  2.81it/s]"
     ]
    },
    {
     "name": "stdout",
     "output_type": "stream",
     "text": [
      "[Errno 2] No such file or directory: 'D:/external_datasets/TAO/TAO_DIR/frames/train/AVA/ZbeMNLwASVo_scene_7_92916-94849/frame1171.jpg'\n",
      "\n",
      ">> handsaw...\n",
      ">>>> #WARNING handsaw is missing from json annotations\n",
      "annotations datasets:  []\n",
      "annotations imgids:  []\n",
      "annotations bbox:  []\n",
      "\n",
      ">> hardback_book...\n",
      ">>>> #WARNING hardback_book is missing from json annotations\n",
      "annotations datasets:  []\n",
      "annotations imgids:  []\n",
      "annotations bbox:  []\n",
      "\n",
      ">> harmonium...\n",
      "TAO\n"
     ]
    },
    {
     "name": "stderr",
     "output_type": "stream",
     "text": [
      "\n",
      ">>> Finding TAO harmonium...:   0%|                                                          | 0/40 [00:00<?, ?it/s]\u001b[A\n",
      "\n",
      ">>> Finding TAO harmonium...:   5%|██▌                                               | 2/40 [00:00<00:00, 46.78it/s]\u001b[A"
     ]
    },
    {
     "name": "stdout",
     "output_type": "stream",
     "text": [
      "[Errno 2] No such file or directory: 'D:/external_datasets/TAO/TAO_DIR/frames/val/AVA/LIavUJVrXaI_scene_15_76804-79006/frame1231.jpg'\n",
      "[Errno 2] No such file or directory: 'D:/external_datasets/TAO/TAO_DIR/frames/val/AVA/LIavUJVrXaI_scene_15_76804-79006/frame1471.jpg'\n"
     ]
    },
    {
     "name": "stderr",
     "output_type": "stream",
     "text": [
      "\n",
      "\n",
      ">>> Finding TAO harmonium...:   8%|███▊                                              | 3/40 [00:00<00:00, 60.13it/s]\u001b[A\n",
      " 48%|████████████████████████████████████▍                                       | 604/1261 [02:34<03:36,  3.04it/s]"
     ]
    },
    {
     "name": "stdout",
     "output_type": "stream",
     "text": [
      "[Errno 2] No such file or directory: 'D:/external_datasets/TAO/TAO_DIR/frames/val/AVA/LIavUJVrXaI_scene_15_76804-79006/frame1561.jpg'\n",
      "\n",
      ">> hat...\n",
      "TAO\n",
      "[Errno 2] No such file or directory: 'D:/external_datasets/TAO/TAO_DIR/frames/val/YFCC100M/v_c9888e663a25da3cd60116792a0cc7/frame1321.jpg'\n"
     ]
    },
    {
     "name": "stderr",
     "output_type": "stream",
     "text": [
      "\n",
      ">>> Finding TAO hat...:   0%|                                                               | 0/195 [00:00<?, ?it/s]\u001b[A\n",
      "\n",
      ">>> Finding TAO hat...:   1%|▎                                                      | 1/195 [00:00<00:11, 16.43it/s]\u001b[A\n",
      "\n",
      ">>> Finding TAO hat...:   1%|▌                                                      | 2/195 [00:00<00:05, 35.46it/s]\u001b[A"
     ]
    },
    {
     "name": "stdout",
     "output_type": "stream",
     "text": [
      "[Errno 2] No such file or directory: 'D:/external_datasets/TAO/TAO_DIR/frames/train/YFCC100M/v_8b6283255797fc7e94f3a93947a2803/frame1231.jpg'\n",
      "[Errno 2] No such file or directory: 'D:/external_datasets/TAO/TAO_DIR/frames/val/YFCC100M/v_8d9acade6c74d4212bc148c54c2c3b20/frame1001.jpeg'\n"
     ]
    },
    {
     "name": "stderr",
     "output_type": "stream",
     "text": [
      "\n",
      " 48%|████████████████████████████████████▍                                       | 605/1261 [02:35<04:59,  2.19it/s]"
     ]
    },
    {
     "name": "stdout",
     "output_type": "stream",
     "text": [
      "\n",
      ">> hatbox...\n",
      ">>>> #WARNING hatbox is missing from json annotations\n",
      "annotations datasets:  []\n",
      "annotations imgids:  []\n",
      "annotations bbox:  []\n",
      "\n",
      ">> hatch...\n",
      ">>>> #WARNING hatch is missing from json annotations\n",
      "annotations datasets:  []\n",
      "annotations imgids:  []\n",
      "annotations bbox:  []\n",
      "\n",
      ">> veil...\n",
      ">>>> #WARNING veil is missing from json annotations\n",
      "annotations datasets:  []\n",
      "annotations imgids:  []\n",
      "annotations bbox:  []\n",
      "\n",
      ">> headband...\n",
      ">>>> #WARNING headband is missing from json annotations\n",
      "annotations datasets:  []\n",
      "annotations imgids:  []\n",
      "annotations bbox:  []\n",
      "\n",
      ">> headboard...\n",
      ">>>> #WARNING headboard is missing from json annotations\n",
      "annotations datasets:  []\n",
      "annotations imgids:  []\n",
      "annotations bbox:  []\n",
      "\n",
      ">> headlight...\n",
      ">>>> #WARNING headlight is missing from json annotations\n",
      "annotations datasets:  []\n",
      "annotations imgids:  []\n",
      "annotations bbox:  []\n",
      "\n",
      ">> headscarf...\n",
      "TAO\n"
     ]
    },
    {
     "name": "stderr",
     "output_type": "stream",
     "text": [
      " 49%|████████████████████████████████████▉                                       | 612/1261 [02:36<03:49,  2.82it/s]"
     ]
    },
    {
     "name": "stdout",
     "output_type": "stream",
     "text": [
      "\n",
      ">> headset...\n",
      ">>>> #WARNING headset is missing from json annotations\n",
      "annotations datasets:  []\n",
      "annotations imgids:  []\n",
      "annotations bbox:  []\n",
      "\n",
      ">> headstall_(for_horses)...\n",
      ">>>> #WARNING headstall_(for_horses) is missing from json annotations\n",
      "annotations datasets:  []\n",
      "annotations imgids:  []\n",
      "annotations bbox:  []\n",
      "\n",
      ">> hearing_aid...\n",
      ">>>> #WARNING hearing_aid is missing from json annotations\n",
      "annotations datasets:  []\n",
      "annotations imgids:  []\n",
      "annotations bbox:  []\n",
      "\n",
      ">> heart...\n",
      ">>>> #WARNING heart is missing from json annotations\n",
      "annotations datasets:  []\n",
      "annotations imgids:  []\n",
      "annotations bbox:  []\n",
      "\n",
      ">> heater...\n",
      ">>>> #WARNING heater is missing from json annotations\n",
      "annotations datasets:  []\n",
      "annotations imgids:  []\n",
      "annotations bbox:  []\n",
      "\n",
      ">> helicopter...\n",
      "TAO\n"
     ]
    },
    {
     "name": "stderr",
     "output_type": "stream",
     "text": [
      " 49%|█████████████████████████████████████▏                                      | 618/1261 [02:36<03:06,  3.45it/s]\n",
      ">>> Finding TAO helmet...: 100%|█████████████████████████████████████████████████████| 7/7 [00:00<00:00, 875.32it/s]\u001b[A\n",
      "\n",
      ">>> Finding TAO helmet...: 100%|████████████████████████████████████████████████████| 7/7 [00:00<00:00, 1000.92it/s]\u001b[A\n",
      "\n",
      ">>> Finding TAO helmet...: 100%|█████████████████████████████████████████████████████| 7/7 [00:00<00:00, 874.96it/s]\u001b[A\n",
      "\n",
      ">>> Finding TAO helmet...: 100%|█████████████████████████████████████████████████████| 7/7 [00:00<00:00, 870.29it/s]\u001b[A\n",
      "\n",
      ">>> Finding TAO helmet...: 100%|█████████████████████████████████████████████████████| 7/7 [00:00<00:00, 998.75it/s]\u001b[A\n"
     ]
    },
    {
     "name": "stdout",
     "output_type": "stream",
     "text": [
      "\n",
      ">> helmet...\n",
      "TAO\n",
      "[Errno 2] No such file or directory: 'D:/external_datasets/TAO/TAO_DIR/frames/val/HACS/Horseback_riding_v_prQDcmyY04s/frame1831.jpg'\n",
      ">>>> #WARNING: No file found for: TAO helmet...\n",
      "[Errno 2] No such file or directory: 'D:/external_datasets/TAO/TAO_DIR/frames/val/HACS/Horseback_riding_v_prQDcmyY04s/frame1861.jpg'\n",
      ">>>> #WARNING: No file found for: TAO helmet...\n",
      "[Errno 2] No such file or directory: 'D:/external_datasets/TAO/TAO_DIR/frames/val/HACS/Horseback_riding_v_prQDcmyY04s/frame1951.jpg'\n",
      ">>>> #WARNING: No file found for: TAO helmet...\n",
      "[Errno 2] No such file or directory: 'D:/external_datasets/TAO/TAO_DIR/frames/val/HACS/Horseback_riding_v_prQDcmyY04s/frame1921.jpg'\n",
      ">>>> #WARNING: No file found for: TAO helmet...\n",
      "[Errno 2] No such file or directory: 'D:/external_datasets/TAO/TAO_DIR/frames/val/HACS/Horseback_riding_v_prQDcmyY04s/frame1051.jpg'\n",
      ">>>> #WARNING: No file found for: TAO helmet...\n",
      "\n",
      ">> heron...\n",
      "TAO\n"
     ]
    },
    {
     "name": "stderr",
     "output_type": "stream",
     "text": [
      " 49%|█████████████████████████████████████▎                                      | 620/1261 [02:37<03:44,  2.86it/s]"
     ]
    },
    {
     "name": "stdout",
     "output_type": "stream",
     "text": [
      "\n",
      ">> highchair...\n",
      ">>>> #WARNING highchair is missing from json annotations\n",
      "annotations datasets:  []\n",
      "annotations imgids:  []\n",
      "annotations bbox:  []\n",
      "\n",
      ">> hinge...\n",
      ">>>> #WARNING hinge is missing from json annotations\n",
      "annotations datasets:  []\n",
      "annotations imgids:  []\n",
      "annotations bbox:  []\n",
      "\n",
      ">> hippopotamus...\n",
      "TAO\n"
     ]
    },
    {
     "name": "stderr",
     "output_type": "stream",
     "text": [
      " 49%|█████████████████████████████████████▌                                      | 623/1261 [02:38<03:26,  3.09it/s]"
     ]
    },
    {
     "name": "stdout",
     "output_type": "stream",
     "text": [
      "\n",
      ">> hockey_stick...\n",
      "TAO\n"
     ]
    },
    {
     "name": "stderr",
     "output_type": "stream",
     "text": [
      " 49%|█████████████████████████████████████▌                                      | 624/1261 [02:39<05:11,  2.04it/s]"
     ]
    },
    {
     "name": "stdout",
     "output_type": "stream",
     "text": [
      "\n",
      ">> hog...\n",
      "TAO\n"
     ]
    },
    {
     "name": "stderr",
     "output_type": "stream",
     "text": [
      " 50%|█████████████████████████████████████▋                                      | 625/1261 [02:40<06:28,  1.64it/s]"
     ]
    },
    {
     "name": "stdout",
     "output_type": "stream",
     "text": [
      "\n",
      ">> home_plate_(baseball)...\n",
      ">>>> #WARNING home_plate_(baseball) is missing from json annotations\n",
      "annotations datasets:  []\n",
      "annotations imgids:  []\n",
      "annotations bbox:  []\n",
      "\n",
      ">> honey...\n",
      ">>>> #WARNING honey is missing from json annotations\n",
      "annotations datasets:  []\n",
      "annotations imgids:  []\n",
      "annotations bbox:  []\n",
      "\n",
      ">> fume_hood...\n",
      ">>>> #WARNING fume_hood is missing from json annotations\n",
      "annotations datasets:  []\n",
      "annotations imgids:  []\n",
      "annotations bbox:  []\n",
      "\n",
      ">> hook...\n",
      ">>>> #WARNING hook is missing from json annotations\n",
      "annotations datasets:  []\n",
      "annotations imgids:  []\n",
      "annotations bbox:  []\n",
      "\n",
      ">> hose...\n",
      "TAO\n"
     ]
    },
    {
     "name": "stderr",
     "output_type": "stream",
     "text": [
      " 50%|█████████████████████████████████████▉                                      | 630/1261 [02:41<04:59,  2.11it/s]"
     ]
    },
    {
     "name": "stdout",
     "output_type": "stream",
     "text": [
      "\n",
      ">> hot-air_balloon...\n",
      ">>>> #WARNING hot-air_balloon is missing from json annotations\n",
      "annotations datasets:  []\n",
      "annotations imgids:  []\n",
      "annotations bbox:  []\n",
      "\n",
      ">> hotplate...\n",
      ">>>> #WARNING hotplate is missing from json annotations\n",
      "annotations datasets:  []\n",
      "annotations imgids:  []\n",
      "annotations bbox:  []\n",
      "\n",
      ">> hot_sauce...\n",
      ">>>> #WARNING hot_sauce is missing from json annotations\n",
      "annotations datasets:  []\n",
      "annotations imgids:  []\n",
      "annotations bbox:  []\n",
      "\n",
      ">> hourglass...\n",
      ">>>> #WARNING hourglass is missing from json annotations\n",
      "annotations datasets:  []\n",
      "annotations imgids:  []\n",
      "annotations bbox:  []\n",
      "\n",
      ">> houseboat...\n",
      ">>>> #WARNING houseboat is missing from json annotations\n",
      "annotations datasets:  []\n",
      "annotations imgids:  []\n",
      "annotations bbox:  []\n",
      "\n",
      ">> hummingbird...\n",
      ">>>> #WARNING hummingbird is missing from json annotations\n",
      "annotations datasets:  []\n",
      "annotations imgids:  []\n",
      "annotations bbox:  []\n",
      "\n",
      ">> hummus...\n",
      ">>>> #WARNING hummus is missing from json annotations\n",
      "annotations datasets:  []\n",
      "annotations imgids:  []\n",
      "annotations bbox:  []\n",
      "\n",
      ">> polar_bear...\n",
      "TAO\n"
     ]
    },
    {
     "name": "stderr",
     "output_type": "stream",
     "text": [
      " 51%|██████████████████████████████████████▍                                     | 638/1261 [02:41<03:44,  2.78it/s]"
     ]
    },
    {
     "name": "stdout",
     "output_type": "stream",
     "text": [
      "\n",
      ">> icecream...\n",
      "TAO\n"
     ]
    },
    {
     "name": "stderr",
     "output_type": "stream",
     "text": [
      " 51%|██████████████████████████████████████▌                                     | 639/1261 [02:42<05:12,  1.99it/s]"
     ]
    },
    {
     "name": "stdout",
     "output_type": "stream",
     "text": [
      "\n",
      ">> popsicle...\n",
      ">>>> #WARNING popsicle is missing from json annotations\n",
      "annotations datasets:  []\n",
      "annotations imgids:  []\n",
      "annotations bbox:  []\n",
      "\n",
      ">> ice_maker...\n",
      ">>>> #WARNING ice_maker is missing from json annotations\n",
      "annotations datasets:  []\n",
      "annotations imgids:  []\n",
      "annotations bbox:  []\n",
      "\n",
      ">> ice_pack...\n",
      ">>>> #WARNING ice_pack is missing from json annotations\n",
      "annotations datasets:  []\n",
      "annotations imgids:  []\n",
      "annotations bbox:  []\n",
      "\n",
      ">> ice_skate...\n",
      ">>>> #WARNING ice_skate is missing from json annotations\n",
      "annotations datasets:  []\n",
      "annotations imgids:  []\n",
      "annotations bbox:  []\n",
      "\n",
      ">> ice_tea...\n",
      ">>>> #WARNING ice_tea is missing from json annotations\n",
      "annotations datasets:  []\n",
      "annotations imgids:  []\n",
      "annotations bbox:  []\n",
      "\n",
      ">> igniter...\n",
      "TAO\n"
     ]
    },
    {
     "name": "stderr",
     "output_type": "stream",
     "text": [
      " 51%|██████████████████████████████████████▊                                     | 645/1261 [02:43<04:08,  2.48it/s]"
     ]
    },
    {
     "name": "stdout",
     "output_type": "stream",
     "text": [
      "\n",
      ">> incense...\n",
      ">>>> #WARNING incense is missing from json annotations\n",
      "annotations datasets:  []\n",
      "annotations imgids:  []\n",
      "annotations bbox:  []\n",
      "\n",
      ">> inhaler...\n",
      ">>>> #WARNING inhaler is missing from json annotations\n",
      "annotations datasets:  []\n",
      "annotations imgids:  []\n",
      "annotations bbox:  []\n",
      "\n",
      ">> iPod...\n",
      ">>>> #WARNING iPod is missing from json annotations\n",
      "annotations datasets:  []\n",
      "annotations imgids:  []\n",
      "annotations bbox:  []\n",
      "\n",
      ">> iron_(for_clothing)...\n",
      "TAO\n"
     ]
    },
    {
     "name": "stderr",
     "output_type": "stream",
     "text": [
      " 51%|███████████████████████████████████████                                     | 649/1261 [02:44<03:32,  2.89it/s]"
     ]
    },
    {
     "name": "stdout",
     "output_type": "stream",
     "text": [
      "\n",
      ">> ironing_board...\n",
      ">>>> #WARNING ironing_board is missing from json annotations\n",
      "annotations datasets:  []\n",
      "annotations imgids:  []\n",
      "annotations bbox:  []\n",
      "\n",
      ">> jacket...\n",
      "TAO\n"
     ]
    },
    {
     "name": "stderr",
     "output_type": "stream",
     "text": [
      "\n",
      ">>> Finding TAO jacket...:   0%|                                                            | 0/300 [00:00<?, ?it/s]\u001b[A"
     ]
    },
    {
     "name": "stdout",
     "output_type": "stream",
     "text": [
      "[Errno 2] No such file or directory: 'D:/external_datasets/TAO/TAO_DIR/frames/train/AVA/XOe9GeojzCs_scene_11_56951-58396/frame1051.jpg'\n"
     ]
    },
    {
     "name": "stderr",
     "output_type": "stream",
     "text": [
      "\n",
      " 52%|███████████████████████████████████████▏                                    | 651/1261 [02:45<04:01,  2.53it/s]"
     ]
    },
    {
     "name": "stdout",
     "output_type": "stream",
     "text": [
      "\n",
      ">> jam...\n",
      ">>>> #WARNING jam is missing from json annotations\n",
      "annotations datasets:  []\n",
      "annotations imgids:  []\n",
      "annotations bbox:  []\n",
      "\n",
      ">> jean...\n",
      "TAO\n"
     ]
    },
    {
     "name": "stderr",
     "output_type": "stream",
     "text": [
      " 52%|███████████████████████████████████████▎                                    | 653/1261 [02:46<04:14,  2.39it/s]\n",
      ">>> Finding TAO jeep...: 100%|████████████████████████████████████████████████████████████████| 5/5 [00:00<?, ?it/s]\u001b[A\n",
      "\n",
      ">>> Finding TAO jeep...: 100%|████████████████████████████████████████████████████████████████| 5/5 [00:00<?, ?it/s]\u001b[A\n",
      "\n",
      ">>> Finding TAO jeep...: 100%|██████████████████████████████████████████████████████| 5/5 [00:00<00:00, 4999.17it/s]\u001b[A\n",
      "\n",
      ">>> Finding TAO jeep...: 100%|████████████████████████████████████████████████████████████████| 5/5 [00:00<?, ?it/s]\u001b[A\n",
      "\n",
      ">>> Finding TAO jeep...: 100%|████████████████████████████████████████████████████████████████| 5/5 [00:00<?, ?it/s]\u001b[A\n",
      "\n",
      ">>> Finding TAO jersey...: 100%|███████████████████████████████████████████████████| 28/28 [00:00<00:00, 444.23it/s]\u001b[A\n",
      "\n",
      ">>> Finding TAO jersey...: 100%|███████████████████████████████████████████████████| 28/28 [00:00<00:00, 482.55it/s]\u001b[A\n",
      "\n",
      ">>> Finding TAO jersey...:   0%|                                                             | 0/28 [00:00<?, ?it/s]\u001b[A"
     ]
    },
    {
     "name": "stdout",
     "output_type": "stream",
     "text": [
      "\n",
      ">> jeep...\n",
      "TAO\n",
      "[Errno 2] No such file or directory: 'D:/external_datasets/TAO/TAO_DIR/frames/train/ArgoVerse/aeb73d7a-8257-3225-972e-99307b3a5cb0/ring_front_center_315969046007516056.jpg'\n",
      ">>>> #WARNING: No file found for: TAO jeep...\n",
      "[Errno 2] No such file or directory: 'D:/external_datasets/TAO/TAO_DIR/frames/train/ArgoVerse/aeb73d7a-8257-3225-972e-99307b3a5cb0/ring_front_center_315969045008502136.jpg'\n",
      ">>>> #WARNING: No file found for: TAO jeep...\n",
      "[Errno 2] No such file or directory: 'D:/external_datasets/TAO/TAO_DIR/frames/train/ArgoVerse/aeb73d7a-8257-3225-972e-99307b3a5cb0/ring_front_center_315969047006447168.jpg'\n",
      ">>>> #WARNING: No file found for: TAO jeep...\n",
      "[Errno 2] No such file or directory: 'D:/external_datasets/TAO/TAO_DIR/frames/train/ArgoVerse/aeb73d7a-8257-3225-972e-99307b3a5cb0/ring_front_center_315969044009488456.jpg'\n",
      ">>>> #WARNING: No file found for: TAO jeep...\n",
      "[Errno 2] No such file or directory: 'D:/external_datasets/TAO/TAO_DIR/frames/train/ArgoVerse/aeb73d7a-8257-3225-972e-99307b3a5cb0/ring_front_center_315969048005428928.jpg'\n",
      ">>>> #WARNING: No file found for: TAO jeep...\n",
      "\n",
      ">> jelly_bean...\n",
      ">>>> #WARNING jelly_bean is missing from json annotations\n",
      "annotations datasets:  []\n",
      "annotations imgids:  []\n",
      "annotations bbox:  []\n",
      "\n",
      ">> jersey...\n",
      "TAO\n",
      "[Errno 2] No such file or directory: 'D:/external_datasets/TAO/TAO_DIR/frames/val/YFCC100M/v_6e13bedfe418b88fc7f43b5df7eb768/frame1501.jpg'\n",
      ">>>> #WARNING: No file found for: TAO jersey...\n",
      "[Errno 2] No such file or directory: 'D:/external_datasets/TAO/TAO_DIR/frames/val/YFCC100M/v_6e13bedfe418b88fc7f43b5df7eb768/frame1231.jpg'\n",
      ">>>> #WARNING: No file found for: TAO jersey...\n",
      "[Errno 2] No such file or directory: 'D:/external_datasets/TAO/TAO_DIR/frames/val/YFCC100M/v_6e13bedfe418b88fc7f43b5df7eb768/frame1321.jpg'\n"
     ]
    },
    {
     "name": "stderr",
     "output_type": "stream",
     "text": [
      ">>> Finding TAO jersey...: 100%|███████████████████████████████████████████████████| 28/28 [00:00<00:00, 474.33it/s]\n",
      "\n",
      ">>> Finding TAO jersey...: 100%|███████████████████████████████████████████████████| 28/28 [00:00<00:00, 482.83it/s]\u001b[A\n",
      "\n",
      ">>> Finding TAO jersey...: 100%|███████████████████████████████████████████████████| 28/28 [00:00<00:00, 509.27it/s]\u001b[A\n",
      " 52%|███████████████████████████████████████▌                                    | 656/1261 [02:46<03:19,  3.04it/s]"
     ]
    },
    {
     "name": "stdout",
     "output_type": "stream",
     "text": [
      ">>>> #WARNING: No file found for: TAO jersey...\n",
      "[Errno 2] No such file or directory: 'D:/external_datasets/TAO/TAO_DIR/frames/val/YFCC100M/v_6e13bedfe418b88fc7f43b5df7eb768/frame1591.jpg'\n",
      ">>>> #WARNING: No file found for: TAO jersey...\n",
      "[Errno 2] No such file or directory: 'D:/external_datasets/TAO/TAO_DIR/frames/val/YFCC100M/v_6e13bedfe418b88fc7f43b5df7eb768/frame1531.jpg'\n",
      ">>>> #WARNING: No file found for: TAO jersey...\n",
      "\n",
      ">> jet_plane...\n",
      ">>>> #WARNING jet_plane is missing from json annotations\n",
      "annotations datasets:  []\n",
      "annotations imgids:  []\n",
      "annotations bbox:  []\n",
      "\n",
      ">> jewelry...\n",
      ">>>> #WARNING jewelry is missing from json annotations\n",
      "annotations datasets:  []\n",
      "annotations imgids:  []\n",
      "annotations bbox:  []\n",
      "\n",
      ">> joystick...\n",
      ">>>> #WARNING joystick is missing from json annotations\n",
      "annotations datasets:  []\n",
      "annotations imgids:  []\n",
      "annotations bbox:  []\n",
      "\n",
      ">> jumpsuit...\n",
      ">>>> #WARNING jumpsuit is missing from json annotations\n",
      "annotations datasets:  []\n",
      "annotations imgids:  []\n",
      "annotations bbox:  []\n",
      "\n",
      ">> kayak...\n",
      "TAO\n"
     ]
    },
    {
     "name": "stderr",
     "output_type": "stream",
     "text": [
      "\n",
      ">>> Finding TAO kayak...:   0%|                                                             | 0/240 [00:00<?, ?it/s]\u001b[A\n",
      " 52%|███████████████████████████████████████▊                                    | 661/1261 [02:47<02:44,  3.64it/s]"
     ]
    },
    {
     "name": "stdout",
     "output_type": "stream",
     "text": [
      "[Errno 2] No such file or directory: 'D:/external_datasets/TAO/TAO_DIR/frames/train/HACS/River_tubing_v_cB83GjrvoeE_scene_0_0-6170/frame1171.jpg'\n",
      "\n",
      ">> keg...\n",
      ">>>> #WARNING keg is missing from json annotations\n",
      "annotations datasets:  []\n",
      "annotations imgids:  []\n",
      "annotations bbox:  []\n",
      "\n",
      ">> kennel...\n",
      ">>>> #WARNING kennel is missing from json annotations\n",
      "annotations datasets:  []\n",
      "annotations imgids:  []\n",
      "annotations bbox:  []\n",
      "\n",
      ">> kettle...\n",
      "TAO\n"
     ]
    },
    {
     "name": "stderr",
     "output_type": "stream",
     "text": [
      " 53%|████████████████████████████████████████                                    | 664/1261 [02:48<02:14,  4.45it/s]"
     ]
    },
    {
     "name": "stdout",
     "output_type": "stream",
     "text": [
      "\n",
      ">> key...\n",
      ">>>> #WARNING key is missing from json annotations\n",
      "annotations datasets:  []\n",
      "annotations imgids:  []\n",
      "annotations bbox:  []\n",
      "\n",
      ">> keycard...\n",
      ">>>> #WARNING keycard is missing from json annotations\n",
      "annotations datasets:  []\n",
      "annotations imgids:  []\n",
      "annotations bbox:  []\n",
      "\n",
      ">> kilt...\n",
      ">>>> #WARNING kilt is missing from json annotations\n",
      "annotations datasets:  []\n",
      "annotations imgids:  []\n",
      "annotations bbox:  []\n",
      "\n",
      ">> kimono...\n",
      ">>>> #WARNING kimono is missing from json annotations\n",
      "annotations datasets:  []\n",
      "annotations imgids:  []\n",
      "annotations bbox:  []\n",
      "\n",
      ">> kitchen_sink...\n",
      ">>>> #WARNING kitchen_sink is missing from json annotations\n",
      "annotations datasets:  []\n",
      "annotations imgids:  []\n",
      "annotations bbox:  []\n",
      "\n",
      ">> kitchen_table...\n",
      ">>>> #WARNING kitchen_table is missing from json annotations\n",
      "annotations datasets:  []\n",
      "annotations imgids:  []\n",
      "annotations bbox:  []\n",
      "\n",
      ">> kitten...\n",
      ">>>> #WARNING kitten is missing from json annotations\n",
      "annotations datasets:  []\n",
      "annotations imgids:  []\n",
      "annotations bbox:  []\n",
      "\n",
      ">> kiwi_fruit...\n",
      ">>>> #WARNING kiwi_fruit is missing from json annotations\n",
      "annotations datasets:  []\n",
      "annotations imgids:  []\n",
      "annotations bbox:  []\n",
      "\n",
      ">> knee_pad...\n",
      ">>>> #WARNING knee_pad is missing from json annotations\n",
      "annotations datasets:  []\n",
      "annotations imgids:  []\n",
      "annotations bbox:  []\n",
      "\n",
      ">> knight_(chess_piece)...\n",
      ">>>> #WARNING knight_(chess_piece) is missing from json annotations\n",
      "annotations datasets:  []\n",
      "annotations imgids:  []\n",
      "annotations bbox:  []\n",
      "\n",
      ">> knitting_needle...\n",
      "TAO\n"
     ]
    },
    {
     "name": "stderr",
     "output_type": "stream",
     "text": [
      "\n",
      ">>> Finding TAO knitting_needle...:   0%|                                                   | 0/238 [00:00<?, ?it/s]\u001b[A"
     ]
    },
    {
     "name": "stdout",
     "output_type": "stream",
     "text": [
      "[Errno 2] No such file or directory: 'D:/external_datasets/TAO/TAO_DIR/frames/train/HACS/Knitting_v_mq7Wv-5qJwc/frame3631.jpg'\n"
     ]
    },
    {
     "name": "stderr",
     "output_type": "stream",
     "text": [
      "\n",
      " 54%|████████████████████████████████████████▋                                   | 675/1261 [02:48<01:45,  5.57it/s]\n",
      ">>> Finding TAO knob...:   0%|                                                               | 0/42 [00:00<?, ?it/s]\u001b[A\n"
     ]
    },
    {
     "name": "stdout",
     "output_type": "stream",
     "text": [
      "\n",
      ">> knob...\n",
      "TAO\n",
      "[Errno 2] No such file or directory: 'D:/external_datasets/TAO/TAO_DIR/frames/val/HACS/Baking_cookies_v_dhLfw18EP8E_scene_0_0-2102/frame1111.jpg'\n"
     ]
    },
    {
     "name": "stderr",
     "output_type": "stream",
     "text": [
      " 54%|████████████████████████████████████████▋                                   | 676/1261 [02:49<03:40,  2.65it/s]"
     ]
    },
    {
     "name": "stdout",
     "output_type": "stream",
     "text": [
      "\n",
      ">> knocker_(on_a_door)...\n",
      ">>>> #WARNING knocker_(on_a_door) is missing from json annotations\n",
      "annotations datasets:  []\n",
      "annotations imgids:  []\n",
      "annotations bbox:  []\n",
      "\n",
      ">> koala...\n",
      ">>>> #WARNING koala is missing from json annotations\n",
      "annotations datasets:  []\n",
      "annotations imgids:  []\n",
      "annotations bbox:  []\n",
      "\n",
      ">> lab_coat...\n",
      ">>>> #WARNING lab_coat is missing from json annotations\n",
      "annotations datasets:  []\n",
      "annotations imgids:  []\n",
      "annotations bbox:  []\n",
      "\n",
      ">> ladder...\n",
      ">>>> #WARNING ladder is missing from json annotations\n",
      "annotations datasets:  []\n",
      "annotations imgids:  []\n",
      "annotations bbox:  []\n",
      "\n",
      ">> ladle...\n",
      "TAO\n"
     ]
    },
    {
     "name": "stderr",
     "output_type": "stream",
     "text": [
      " 54%|█████████████████████████████████████████                                   | 681/1261 [02:50<03:04,  3.14it/s]"
     ]
    },
    {
     "name": "stdout",
     "output_type": "stream",
     "text": [
      "\n",
      ">> ladybug...\n",
      ">>>> #WARNING ladybug is missing from json annotations\n",
      "annotations datasets:  []\n",
      "annotations imgids:  []\n",
      "annotations bbox:  []\n",
      "\n",
      ">> lamb_(animal)...\n",
      ">>>> #WARNING lamb_(animal) is missing from json annotations\n",
      "annotations datasets:  []\n",
      "annotations imgids:  []\n",
      "annotations bbox:  []\n",
      "\n",
      ">> lamb-chop...\n",
      ">>>> #WARNING lamb-chop is missing from json annotations\n",
      "annotations datasets:  []\n",
      "annotations imgids:  []\n",
      "annotations bbox:  []\n",
      "\n",
      ">> lamp...\n",
      "TAO\n"
     ]
    },
    {
     "name": "stderr",
     "output_type": "stream",
     "text": [
      " 54%|█████████████████████████████████████████▎                                  | 685/1261 [02:51<02:40,  3.58it/s]"
     ]
    },
    {
     "name": "stdout",
     "output_type": "stream",
     "text": [
      "\n",
      ">> lamppost...\n",
      ">>>> #WARNING lamppost is missing from json annotations\n",
      "annotations datasets:  []\n",
      "annotations imgids:  []\n",
      "annotations bbox:  []\n",
      "\n",
      ">> lampshade...\n",
      ">>>> #WARNING lampshade is missing from json annotations\n",
      "annotations datasets:  []\n",
      "annotations imgids:  []\n",
      "annotations bbox:  []\n",
      "\n",
      ">> lantern...\n",
      ">>>> #WARNING lantern is missing from json annotations\n",
      "annotations datasets:  []\n",
      "annotations imgids:  []\n",
      "annotations bbox:  []\n",
      "\n",
      ">> lanyard...\n",
      "TAO\n"
     ]
    },
    {
     "name": "stderr",
     "output_type": "stream",
     "text": [
      " 55%|█████████████████████████████████████████▌                                  | 689/1261 [02:52<02:45,  3.45it/s]"
     ]
    },
    {
     "name": "stdout",
     "output_type": "stream",
     "text": [
      "\n",
      ">> laptop_computer...\n",
      "TAO\n"
     ]
    },
    {
     "name": "stderr",
     "output_type": "stream",
     "text": [
      " 55%|█████████████████████████████████████████▌                                  | 690/1261 [02:53<04:28,  2.13it/s]"
     ]
    },
    {
     "name": "stdout",
     "output_type": "stream",
     "text": [
      "\n",
      ">> lasagna...\n",
      ">>>> #WARNING lasagna is missing from json annotations\n",
      "annotations datasets:  []\n",
      "annotations imgids:  []\n",
      "annotations bbox:  []\n",
      "\n",
      ">> latch...\n",
      "TAO\n"
     ]
    },
    {
     "name": "stderr",
     "output_type": "stream",
     "text": [
      " 55%|█████████████████████████████████████████▋                                  | 692/1261 [02:54<04:15,  2.22it/s]"
     ]
    },
    {
     "name": "stdout",
     "output_type": "stream",
     "text": [
      "\n",
      ">> lawn_mower...\n",
      "TAO\n"
     ]
    },
    {
     "name": "stderr",
     "output_type": "stream",
     "text": [
      "\n",
      ">>> Finding TAO lawn_mower...:   0%|                                                        | 0/326 [00:00<?, ?it/s]\u001b[A"
     ]
    },
    {
     "name": "stdout",
     "output_type": "stream",
     "text": [
      "[Errno 2] No such file or directory: 'D:/external_datasets/TAO/TAO_DIR/frames/val/HACS/Cutting_the_grass_v_5zAZHZPWBqg_scene_0_319-1634/frame1021.jpg'\n"
     ]
    },
    {
     "name": "stderr",
     "output_type": "stream",
     "text": [
      "\n",
      "\n",
      ">>> Finding TAO lawn_mower...:   0%|▏                                               | 1/326 [00:00<00:06, 52.73it/s]\u001b[A"
     ]
    },
    {
     "name": "stdout",
     "output_type": "stream",
     "text": [
      "[Errno 2] No such file or directory: 'D:/external_datasets/TAO/TAO_DIR/frames/val/HACS/Cutting_the_grass_v_VpZrQoIpz_M_scene_0_0-1645/frame1141.jpg'\n"
     ]
    },
    {
     "name": "stderr",
     "output_type": "stream",
     "text": [
      "\n",
      " 55%|█████████████████████████████████████████▊                                  | 693/1261 [02:55<05:32,  1.71it/s]"
     ]
    },
    {
     "name": "stdout",
     "output_type": "stream",
     "text": [
      "\n",
      ">> leather...\n",
      ">>>> #WARNING leather is missing from json annotations\n",
      "annotations datasets:  []\n",
      "annotations imgids:  []\n",
      "annotations bbox:  []\n",
      "\n",
      ">> legging_(clothing)...\n",
      ">>>> #WARNING legging_(clothing) is missing from json annotations\n",
      "annotations datasets:  []\n",
      "annotations imgids:  []\n",
      "annotations bbox:  []\n",
      "\n",
      ">> Lego...\n",
      ">>>> #WARNING Lego is missing from json annotations\n",
      "annotations datasets:  []\n",
      "annotations imgids:  []\n",
      "annotations bbox:  []\n",
      "\n",
      ">> lemon...\n",
      "TAO\n"
     ]
    },
    {
     "name": "stderr",
     "output_type": "stream",
     "text": [
      " 55%|██████████████████████████████████████████                                  | 697/1261 [02:56<04:26,  2.11it/s]"
     ]
    },
    {
     "name": "stdout",
     "output_type": "stream",
     "text": [
      "\n",
      ">> lemonade...\n",
      ">>>> #WARNING lemonade is missing from json annotations\n",
      "annotations datasets:  []\n",
      "annotations imgids:  []\n",
      "annotations bbox:  []\n",
      "\n",
      ">> lettuce...\n",
      "TAO\n"
     ]
    },
    {
     "name": "stderr",
     "output_type": "stream",
     "text": [
      " 55%|██████████████████████████████████████████▏                                 | 699/1261 [02:56<03:29,  2.68it/s]"
     ]
    },
    {
     "name": "stdout",
     "output_type": "stream",
     "text": [
      "\n",
      ">> license_plate...\n",
      ">>>> #WARNING license_plate is missing from json annotations\n",
      "annotations datasets:  []\n",
      "annotations imgids:  []\n",
      "annotations bbox:  []\n",
      "\n",
      ">> life_buoy...\n",
      "TAO\n"
     ]
    },
    {
     "name": "stderr",
     "output_type": "stream",
     "text": [
      " 56%|██████████████████████████████████████████▏                                 | 701/1261 [02:57<03:36,  2.59it/s]"
     ]
    },
    {
     "name": "stdout",
     "output_type": "stream",
     "text": [
      "\n",
      ">> life_jacket...\n",
      ">>>> #WARNING life_jacket is missing from json annotations\n",
      "annotations datasets:  []\n",
      "annotations imgids:  []\n",
      "annotations bbox:  []\n",
      "\n",
      ">> lightbulb...\n",
      ">>>> #WARNING lightbulb is missing from json annotations\n",
      "annotations datasets:  []\n",
      "annotations imgids:  []\n",
      "annotations bbox:  []\n",
      "\n",
      ">> lightning_rod...\n",
      ">>>> #WARNING lightning_rod is missing from json annotations\n",
      "annotations datasets:  []\n",
      "annotations imgids:  []\n",
      "annotations bbox:  []\n",
      "\n",
      ">> lime...\n",
      ">>>> #WARNING lime is missing from json annotations\n",
      "annotations datasets:  []\n",
      "annotations imgids:  []\n",
      "annotations bbox:  []\n",
      "\n",
      ">> limousine...\n",
      ">>>> #WARNING limousine is missing from json annotations\n",
      "annotations datasets:  []\n",
      "annotations imgids:  []\n",
      "annotations bbox:  []\n",
      "\n",
      ">> linen_paper...\n",
      ">>>> #WARNING linen_paper is missing from json annotations\n",
      "annotations datasets:  []\n",
      "annotations imgids:  []\n",
      "annotations bbox:  []\n",
      "\n",
      ">> lion...\n",
      "TAO\n"
     ]
    },
    {
     "name": "stderr",
     "output_type": "stream",
     "text": [
      " 56%|██████████████████████████████████████████▋                                 | 708/1261 [02:58<02:50,  3.24it/s]"
     ]
    },
    {
     "name": "stdout",
     "output_type": "stream",
     "text": [
      "\n",
      ">> lip_balm...\n",
      ">>>> #WARNING lip_balm is missing from json annotations\n",
      "annotations datasets:  []\n",
      "annotations imgids:  []\n",
      "annotations bbox:  []\n",
      "\n",
      ">> lipstick...\n",
      ">>>> #WARNING lipstick is missing from json annotations\n",
      "annotations datasets:  []\n",
      "annotations imgids:  []\n",
      "annotations bbox:  []\n",
      "\n",
      ">> liquor...\n",
      ">>>> #WARNING liquor is missing from json annotations\n",
      "annotations datasets:  []\n",
      "annotations imgids:  []\n",
      "annotations bbox:  []\n",
      "\n",
      ">> lizard...\n",
      "TAO\n"
     ]
    },
    {
     "name": "stderr",
     "output_type": "stream",
     "text": [
      " 56%|██████████████████████████████████████████▉                                 | 712/1261 [02:58<02:33,  3.59it/s]\n",
      ">>> Finding TAO log...:   0%|                                                                | 0/78 [00:00<?, ?it/s]\u001b[A\n"
     ]
    },
    {
     "name": "stdout",
     "output_type": "stream",
     "text": [
      "\n",
      ">> Loafer_(type_of_shoe)...\n",
      ">>>> #WARNING Loafer_(type_of_shoe) is missing from json annotations\n",
      "annotations datasets:  []\n",
      "annotations imgids:  []\n",
      "annotations bbox:  []\n",
      "\n",
      ">> log...\n",
      "TAO\n",
      "[Errno 2] No such file or directory: 'D:/external_datasets/TAO/TAO_DIR/frames/val/HACS/Chopping_wood_v_DNInECGcDUU_scene_0_24-1413/frame1111.jpg'\n"
     ]
    },
    {
     "name": "stderr",
     "output_type": "stream",
     "text": [
      "\n",
      ">>> Finding TAO log...:   1%|▋                                                       | 1/78 [00:00<00:05, 14.52it/s]\u001b[A\n",
      "\n",
      ">>> Finding TAO log...:   3%|█▍                                                     | 2/78 [00:00<00:00, 111.19it/s]\u001b[A"
     ]
    },
    {
     "name": "stdout",
     "output_type": "stream",
     "text": [
      "[Errno 2] No such file or directory: 'D:/external_datasets/TAO/TAO_DIR/frames/val/HACS/Chopping_wood_v_DNInECGcDUU_scene_0_24-1413/frame1141.jpg'\n",
      "[Errno 2] No such file or directory: 'D:/external_datasets/TAO/TAO_DIR/frames/val/HACS/Chopping_wood_v_DNInECGcDUU_scene_0_24-1413/frame1171.jpg'\n"
     ]
    },
    {
     "name": "stderr",
     "output_type": "stream",
     "text": [
      "\n",
      " 57%|███████████████████████████████████████████                                 | 714/1261 [02:59<02:52,  3.17it/s]"
     ]
    },
    {
     "name": "stdout",
     "output_type": "stream",
     "text": [
      "\n",
      ">> lollipop...\n",
      ">>>> #WARNING lollipop is missing from json annotations\n",
      "annotations datasets:  []\n",
      "annotations imgids:  []\n",
      "annotations bbox:  []\n",
      "\n",
      ">> lotion...\n",
      ">>>> #WARNING lotion is missing from json annotations\n",
      "annotations datasets:  []\n",
      "annotations imgids:  []\n",
      "annotations bbox:  []\n",
      "\n",
      ">> speaker_(stero_equipment)...\n",
      ">>>> #WARNING speaker_(stero_equipment) is missing from json annotations\n",
      "annotations datasets:  []\n",
      "annotations imgids:  []\n",
      "annotations bbox:  []\n",
      "\n",
      ">> loveseat...\n",
      ">>>> #WARNING loveseat is missing from json annotations\n",
      "annotations datasets:  []\n",
      "annotations imgids:  []\n",
      "annotations bbox:  []\n",
      "\n",
      ">> machine_gun...\n",
      ">>>> #WARNING machine_gun is missing from json annotations\n",
      "annotations datasets:  []\n",
      "annotations imgids:  []\n",
      "annotations bbox:  []\n",
      "\n",
      ">> magazine...\n",
      "TAO\n"
     ]
    },
    {
     "name": "stderr",
     "output_type": "stream",
     "text": [
      " 57%|███████████████████████████████████████████▍                                | 720/1261 [03:00<02:23,  3.77it/s]\n",
      ">>> Finding TAO mallet...:   0%|                                                            | 0/156 [00:00<?, ?it/s]\u001b[A\n"
     ]
    },
    {
     "name": "stdout",
     "output_type": "stream",
     "text": [
      "\n",
      ">> magnet...\n",
      ">>>> #WARNING magnet is missing from json annotations\n",
      "annotations datasets:  []\n",
      "annotations imgids:  []\n",
      "annotations bbox:  []\n",
      "\n",
      ">> mail_slot...\n",
      ">>>> #WARNING mail_slot is missing from json annotations\n",
      "annotations datasets:  []\n",
      "annotations imgids:  []\n",
      "annotations bbox:  []\n",
      "\n",
      ">> mailbox_(at_home)...\n",
      ">>>> #WARNING mailbox_(at_home) is missing from json annotations\n",
      "annotations datasets:  []\n",
      "annotations imgids:  []\n",
      "annotations bbox:  []\n",
      "\n",
      ">> mallet...\n",
      "TAO\n",
      "[Errno 2] No such file or directory: 'D:/external_datasets/TAO/TAO_DIR/frames/val/YFCC100M/v_bcb0572637e5392c4cb919ad21a286/frame0781.jpeg'\n"
     ]
    },
    {
     "name": "stderr",
     "output_type": "stream",
     "text": [
      "\n",
      ">>> Finding TAO mallet...:   1%|▎                                                   | 1/156 [00:00<00:09, 17.12it/s]\u001b[A\n",
      " 57%|███████████████████████████████████████████▋                                | 724/1261 [03:01<02:14,  3.98it/s]"
     ]
    },
    {
     "name": "stdout",
     "output_type": "stream",
     "text": [
      "[Errno 2] No such file or directory: 'D:/external_datasets/TAO/TAO_DIR/frames/val/YFCC100M/v_bcb0572637e5392c4cb919ad21a286/frame1051.jpeg'\n",
      "\n",
      ">> mammoth...\n",
      ">>>> #WARNING mammoth is missing from json annotations\n",
      "annotations datasets:  []\n",
      "annotations imgids:  []\n",
      "annotations bbox:  []\n",
      "\n",
      ">> mandarin_orange...\n",
      ">>>> #WARNING mandarin_orange is missing from json annotations\n",
      "annotations datasets:  []\n",
      "annotations imgids:  []\n",
      "annotations bbox:  []\n",
      "\n",
      ">> manger...\n",
      ">>>> #WARNING manger is missing from json annotations\n",
      "annotations datasets:  []\n",
      "annotations imgids:  []\n",
      "annotations bbox:  []\n",
      "\n",
      ">> manhole...\n",
      ">>>> #WARNING manhole is missing from json annotations\n",
      "annotations datasets:  []\n",
      "annotations imgids:  []\n",
      "annotations bbox:  []\n",
      "\n",
      ">> map...\n",
      ">>>> #WARNING map is missing from json annotations\n",
      "annotations datasets:  []\n",
      "annotations imgids:  []\n",
      "annotations bbox:  []\n",
      "\n",
      ">> marker...\n",
      "TAO\n"
     ]
    },
    {
     "name": "stderr",
     "output_type": "stream",
     "text": [
      "\n",
      ">>> Finding TAO marker...:   0%|                                                             | 0/85 [00:00<?, ?it/s]\u001b[A\n",
      "\n",
      ">>> Finding TAO marker...:   1%|▌                                                    | 1/85 [00:00<00:02, 28.58it/s]\u001b[A"
     ]
    },
    {
     "name": "stdout",
     "output_type": "stream",
     "text": [
      "[Errno 2] No such file or directory: 'D:/external_datasets/TAO/TAO_DIR/frames/val/HACS/Playing_rubik_cube_v_7GZd2e9g95A/frame1801.jpg'\n",
      "[Errno 2] No such file or directory: 'D:/external_datasets/TAO/TAO_DIR/frames/val/HACS/Playing_rubik_cube_v_7GZd2e9g95A/frame2161.jpg'\n"
     ]
    },
    {
     "name": "stderr",
     "output_type": "stream",
     "text": [
      "\n",
      "\n",
      ">>> Finding TAO marker...:   2%|█▏                                                   | 2/85 [00:00<00:02, 36.79it/s]\u001b[A\n",
      " 58%|███████████████████████████████████████████▉                                | 730/1261 [03:02<01:55,  4.61it/s]"
     ]
    },
    {
     "name": "stdout",
     "output_type": "stream",
     "text": [
      "[Errno 2] No such file or directory: 'D:/external_datasets/TAO/TAO_DIR/frames/val/HACS/Playing_rubik_cube_v_7GZd2e9g95A/frame2641.jpg'\n",
      "\n",
      ">> martini...\n",
      ">>>> #WARNING martini is missing from json annotations\n",
      "annotations datasets:  []\n",
      "annotations imgids:  []\n",
      "annotations bbox:  []\n",
      "\n",
      ">> mascot...\n",
      ">>>> #WARNING mascot is missing from json annotations\n",
      "annotations datasets:  []\n",
      "annotations imgids:  []\n",
      "annotations bbox:  []\n",
      "\n",
      ">> mashed_potato...\n",
      ">>>> #WARNING mashed_potato is missing from json annotations\n",
      "annotations datasets:  []\n",
      "annotations imgids:  []\n",
      "annotations bbox:  []\n",
      "\n",
      ">> masher...\n",
      ">>>> #WARNING masher is missing from json annotations\n",
      "annotations datasets:  []\n",
      "annotations imgids:  []\n",
      "annotations bbox:  []\n",
      "\n",
      ">> mask...\n",
      ">>>> #WARNING mask is missing from json annotations\n",
      "annotations datasets:  []\n",
      "annotations imgids:  []\n",
      "annotations bbox:  []\n",
      "\n",
      ">> mast...\n",
      ">>>> #WARNING mast is missing from json annotations\n",
      "annotations datasets:  []\n",
      "annotations imgids:  []\n",
      "annotations bbox:  []\n",
      "\n",
      ">> mat_(gym_equipment)...\n",
      ">>>> #WARNING mat_(gym_equipment) is missing from json annotations\n",
      "annotations datasets:  []\n",
      "annotations imgids:  []\n",
      "annotations bbox:  []\n",
      "\n",
      ">> matchbox...\n",
      "TAO\n"
     ]
    },
    {
     "name": "stderr",
     "output_type": "stream",
     "text": [
      " 59%|████████████████████████████████████████████▍                               | 738/1261 [03:03<01:48,  4.84it/s]"
     ]
    },
    {
     "name": "stdout",
     "output_type": "stream",
     "text": [
      "\n",
      ">> mattress...\n",
      "TAO\n"
     ]
    },
    {
     "name": "stderr",
     "output_type": "stream",
     "text": [
      " 59%|████████████████████████████████████████████▌                               | 739/1261 [03:04<03:38,  2.39it/s]"
     ]
    },
    {
     "name": "stdout",
     "output_type": "stream",
     "text": [
      "\n",
      ">> measuring_cup...\n",
      "TAO\n"
     ]
    },
    {
     "name": "stderr",
     "output_type": "stream",
     "text": [
      " 59%|████████████████████████████████████████████▌                               | 740/1261 [03:05<04:58,  1.74it/s]"
     ]
    },
    {
     "name": "stdout",
     "output_type": "stream",
     "text": [
      "\n",
      ">> measuring_stick...\n",
      ">>>> #WARNING measuring_stick is missing from json annotations\n",
      "annotations datasets:  []\n",
      "annotations imgids:  []\n",
      "annotations bbox:  []\n",
      "\n",
      ">> meatball...\n",
      ">>>> #WARNING meatball is missing from json annotations\n",
      "annotations datasets:  []\n",
      "annotations imgids:  []\n",
      "annotations bbox:  []\n",
      "\n",
      ">> medicine...\n",
      "TAO\n"
     ]
    },
    {
     "name": "stderr",
     "output_type": "stream",
     "text": [
      " 59%|████████████████████████████████████████████▊                               | 743/1261 [03:06<04:12,  2.05it/s]"
     ]
    },
    {
     "name": "stdout",
     "output_type": "stream",
     "text": [
      "\n",
      ">> melon...\n",
      ">>>> #WARNING melon is missing from json annotations\n",
      "annotations datasets:  []\n",
      "annotations imgids:  []\n",
      "annotations bbox:  []\n",
      "\n",
      ">> microphone...\n",
      "TAO\n"
     ]
    },
    {
     "name": "stderr",
     "output_type": "stream",
     "text": [
      "\n",
      ">>> Finding TAO microphone...:   0%|                                                        | 0/358 [00:00<?, ?it/s]\u001b[A"
     ]
    },
    {
     "name": "stdout",
     "output_type": "stream",
     "text": [
      "[Errno 2] No such file or directory: 'D:/external_datasets/TAO/TAO_DIR/frames/train/HACS/Hitting_a_pinata_v_zVN1SBxfR40_scene_0_1052-3126/frame1021.jpg'\n"
     ]
    },
    {
     "name": "stderr",
     "output_type": "stream",
     "text": [
      "\n",
      " 59%|████████████████████████████████████████████▉                               | 745/1261 [03:07<04:02,  2.13it/s]"
     ]
    },
    {
     "name": "stdout",
     "output_type": "stream",
     "text": [
      "\n",
      ">> microscope...\n",
      ">>>> #WARNING microscope is missing from json annotations\n",
      "annotations datasets:  []\n",
      "annotations imgids:  []\n",
      "annotations bbox:  []\n",
      "\n",
      ">> microwave_oven...\n",
      ">>>> #WARNING microwave_oven is missing from json annotations\n",
      "annotations datasets:  []\n",
      "annotations imgids:  []\n",
      "annotations bbox:  []\n",
      "\n",
      ">> milestone...\n",
      ">>>> #WARNING milestone is missing from json annotations\n",
      "annotations datasets:  []\n",
      "annotations imgids:  []\n",
      "annotations bbox:  []\n",
      "\n",
      ">> milk...\n",
      ">>>> #WARNING milk is missing from json annotations\n",
      "annotations datasets:  []\n",
      "annotations imgids:  []\n",
      "annotations bbox:  []\n",
      "\n",
      ">> minivan...\n",
      "TAO\n"
     ]
    },
    {
     "name": "stderr",
     "output_type": "stream",
     "text": [
      " 59%|█████████████████████████████████████████████▏                              | 750/1261 [03:08<03:12,  2.65it/s]"
     ]
    },
    {
     "name": "stdout",
     "output_type": "stream",
     "text": [
      "\n",
      ">> mint_candy...\n",
      ">>>> #WARNING mint_candy is missing from json annotations\n",
      "annotations datasets:  []\n",
      "annotations imgids:  []\n",
      "annotations bbox:  []\n",
      "\n",
      ">> mirror...\n",
      "TAO\n"
     ]
    },
    {
     "name": "stderr",
     "output_type": "stream",
     "text": [
      " 60%|█████████████████████████████████████████████▎                              | 752/1261 [03:08<03:24,  2.49it/s]"
     ]
    },
    {
     "name": "stdout",
     "output_type": "stream",
     "text": [
      "\n",
      ">> mitten...\n",
      ">>>> #WARNING mitten is missing from json annotations\n",
      "annotations datasets:  []\n",
      "annotations imgids:  []\n",
      "annotations bbox:  []\n",
      "\n",
      ">> mixer_(kitchen_tool)...\n",
      "TAO\n"
     ]
    },
    {
     "name": "stderr",
     "output_type": "stream",
     "text": [
      " 60%|█████████████████████████████████████████████▍                              | 754/1261 [03:09<03:20,  2.53it/s]"
     ]
    },
    {
     "name": "stdout",
     "output_type": "stream",
     "text": [
      "\n",
      ">> money...\n",
      "TAO\n"
     ]
    },
    {
     "name": "stderr",
     "output_type": "stream",
     "text": [
      " 60%|█████████████████████████████████████████████▌                              | 755/1261 [03:31<58:22,  6.92s/it]\n",
      ">>> Finding TAO monitor_(computer_equipment) computer_monitor...:   0%|                      | 0/39 [00:00<?, ?it/s]\u001b[A\n"
     ]
    },
    {
     "name": "stdout",
     "output_type": "stream",
     "text": [
      "\n",
      ">> monitor_(computer_equipment) computer_monitor...\n",
      "TAO\n",
      "[Errno 2] No such file or directory: 'D:/external_datasets/TAO/TAO_DIR/frames/val/Charades/KRT78/frame0991.jpg'\n"
     ]
    },
    {
     "name": "stderr",
     "output_type": "stream",
     "text": [
      " 60%|█████████████████████████████████████████████▌                              | 756/1261 [03:32<42:51,  5.09s/it]"
     ]
    },
    {
     "name": "stdout",
     "output_type": "stream",
     "text": [
      "\n",
      ">> monkey...\n",
      "TAO\n"
     ]
    },
    {
     "name": "stderr",
     "output_type": "stream",
     "text": [
      " 60%|█████████████████████████████████████████████▌                              | 757/1261 [03:33<32:05,  3.82s/it]"
     ]
    },
    {
     "name": "stdout",
     "output_type": "stream",
     "text": [
      "\n",
      ">> motor...\n",
      ">>>> #WARNING motor is missing from json annotations\n",
      "annotations datasets:  []\n",
      "annotations imgids:  []\n",
      "annotations bbox:  []\n",
      "\n",
      ">> motor_scooter...\n",
      "TAO\n"
     ]
    },
    {
     "name": "stderr",
     "output_type": "stream",
     "text": [
      "\n",
      ">>> Finding TAO motor_scooter...:   0%|                                                      | 0/85 [00:00<?, ?it/s]\u001b[A\n",
      " 60%|█████████████████████████████████████████████▋                              | 759/1261 [03:34<23:29,  2.81s/it]"
     ]
    },
    {
     "name": "stdout",
     "output_type": "stream",
     "text": [
      "[Errno 2] No such file or directory: 'D:/external_datasets/TAO/TAO_DIR/frames/train/BDD/b36e0178-2037ca44/frame1021.jpg'\n",
      "\n",
      ">> motor_vehicle...\n",
      ">>>> #WARNING motor_vehicle is missing from json annotations\n",
      "annotations datasets:  []\n",
      "annotations imgids:  []\n",
      "annotations bbox:  []\n",
      "\n",
      ">> motorboat...\n",
      "TAO\n"
     ]
    },
    {
     "name": "stderr",
     "output_type": "stream",
     "text": [
      " 60%|█████████████████████████████████████████████▊                              | 761/1261 [03:35<17:24,  2.09s/it]"
     ]
    },
    {
     "name": "stdout",
     "output_type": "stream",
     "text": [
      "\n",
      ">> mound_(baseball)...\n",
      ">>>> #WARNING mound_(baseball) is missing from json annotations\n",
      "annotations datasets:  []\n",
      "annotations imgids:  []\n",
      "annotations bbox:  []\n",
      "\n",
      ">> mouse_(animal_rodent)...\n",
      ">>>> #WARNING mouse_(animal_rodent) is missing from json annotations\n",
      "annotations datasets:  []\n",
      "annotations imgids:  []\n",
      "annotations bbox:  []\n",
      "\n",
      ">> mouse_(computer_equipment)...\n",
      "TAO\n"
     ]
    },
    {
     "name": "stderr",
     "output_type": "stream",
     "text": [
      " 61%|██████████████████████████████████████████████                              | 764/1261 [03:36<12:47,  1.54s/it]\n",
      ">>> Finding TAO musical_instrument...: 100%|████████████████████████████████████████| 7/7 [00:00<00:00, 1158.37it/s]\u001b[A\n",
      "\n",
      ">>> Finding TAO musical_instrument...: 100%|████████████████████████████████████████| 7/7 [00:00<00:00, 1167.08it/s]\u001b[A\n",
      "\n",
      ">>> Finding TAO musical_instrument...: 100%|████████████████████████████████████████| 7/7 [00:00<00:00, 1166.89it/s]\u001b[A\n",
      "\n",
      ">>> Finding TAO musical_instrument...: 100%|████████████████████████████████████████| 7/7 [00:00<00:00, 1166.80it/s]\u001b[A\n",
      "\n",
      ">>> Finding TAO musical_instrument...: 100%|████████████████████████████████████████| 7/7 [00:00<00:00, 1000.75it/s]\u001b[A\n",
      " 61%|██████████████████████████████████████████████▍                             | 770/1261 [03:36<08:53,  1.09s/it]"
     ]
    },
    {
     "name": "stdout",
     "output_type": "stream",
     "text": [
      "\n",
      ">> mousepad...\n",
      ">>>> #WARNING mousepad is missing from json annotations\n",
      "annotations datasets:  []\n",
      "annotations imgids:  []\n",
      "annotations bbox:  []\n",
      "\n",
      ">> muffin...\n",
      ">>>> #WARNING muffin is missing from json annotations\n",
      "annotations datasets:  []\n",
      "annotations imgids:  []\n",
      "annotations bbox:  []\n",
      "\n",
      ">> mug...\n",
      ">>>> #WARNING mug is missing from json annotations\n",
      "annotations datasets:  []\n",
      "annotations imgids:  []\n",
      "annotations bbox:  []\n",
      "\n",
      ">> mushroom...\n",
      ">>>> #WARNING mushroom is missing from json annotations\n",
      "annotations datasets:  []\n",
      "annotations imgids:  []\n",
      "annotations bbox:  []\n",
      "\n",
      ">> music_stool...\n",
      ">>>> #WARNING music_stool is missing from json annotations\n",
      "annotations datasets:  []\n",
      "annotations imgids:  []\n",
      "annotations bbox:  []\n",
      "\n",
      ">> musical_instrument...\n",
      "TAO\n",
      "[Errno 2] No such file or directory: 'D:/external_datasets/TAO/TAO_DIR/frames/val/HACS/Playing_drums_v_jir62k3ZUG4_scene_0_0-6104/frame1171.jpg'\n",
      ">>>> #WARNING: No file found for: TAO musical_instrument...\n",
      "[Errno 2] No such file or directory: 'D:/external_datasets/TAO/TAO_DIR/frames/val/HACS/Playing_drums_v_jir62k3ZUG4_scene_0_0-6104/frame1021.jpg'\n",
      ">>>> #WARNING: No file found for: TAO musical_instrument...\n",
      "[Errno 2] No such file or directory: 'D:/external_datasets/TAO/TAO_DIR/frames/val/HACS/Playing_drums_v_jir62k3ZUG4_scene_0_0-6104/frame1141.jpg'\n",
      ">>>> #WARNING: No file found for: TAO musical_instrument...\n",
      "[Errno 2] No such file or directory: 'D:/external_datasets/TAO/TAO_DIR/frames/val/HACS/Playing_drums_v_jir62k3ZUG4_scene_0_0-6104/frame1081.jpg'\n",
      ">>>> #WARNING: No file found for: TAO musical_instrument...\n",
      "[Errno 2] No such file or directory: 'D:/external_datasets/TAO/TAO_DIR/frames/val/HACS/Playing_drums_v_jir62k3ZUG4_scene_0_0-6104/frame1111.jpg'\n",
      ">>>> #WARNING: No file found for: TAO musical_instrument...\n",
      "\n",
      ">> nailfile...\n",
      ">>>> #WARNING nailfile is missing from json annotations\n",
      "annotations datasets:  []\n",
      "annotations imgids:  []\n",
      "annotations bbox:  []\n",
      "\n",
      ">> nameplate...\n",
      ">>>> #WARNING nameplate is missing from json annotations\n",
      "annotations datasets:  []\n",
      "annotations imgids:  []\n",
      "annotations bbox:  []\n",
      "\n",
      ">> napkin...\n",
      "TAO\n"
     ]
    },
    {
     "name": "stderr",
     "output_type": "stream",
     "text": [
      " 61%|██████████████████████████████████████████████▌                             | 773/1261 [03:37<06:58,  1.17it/s]"
     ]
    },
    {
     "name": "stdout",
     "output_type": "stream",
     "text": [
      "\n",
      ">> neckerchief...\n",
      ">>>> #WARNING neckerchief is missing from json annotations\n",
      "annotations datasets:  []\n",
      "annotations imgids:  []\n",
      "annotations bbox:  []\n",
      "\n",
      ">> necklace...\n",
      "TAO\n"
     ]
    },
    {
     "name": "stderr",
     "output_type": "stream",
     "text": [
      "\n",
      ">>> Finding TAO necklace...:   2%|█                                                  | 1/46 [00:00<00:02, 17.11it/s]\u001b[A\n",
      "\n",
      ">>> Finding TAO necklace...:   0%|                                                           | 0/46 [00:00<?, ?it/s]\u001b[A"
     ]
    },
    {
     "name": "stdout",
     "output_type": "stream",
     "text": [
      "[Errno 2] No such file or directory: 'D:/external_datasets/TAO/TAO_DIR/frames/val/YFCC100M/v_5c499a3be51f27d537c8e429840e760/frame0901.jpeg'\n",
      "[Errno 2] No such file or directory: 'D:/external_datasets/TAO/TAO_DIR/frames/val/YFCC100M/v_5c499a3be51f27d537c8e429840e760/frame1591.jpeg'\n"
     ]
    },
    {
     "name": "stderr",
     "output_type": "stream",
     "text": [
      ">>> Finding TAO necklace...:   4%|██▏                                                | 2/46 [00:00<00:01, 32.25it/s]\n",
      "\n",
      ">>> Finding TAO necklace...:   7%|███▎                                               | 3/46 [00:00<00:00, 46.85it/s]\u001b[A\n"
     ]
    },
    {
     "name": "stdout",
     "output_type": "stream",
     "text": [
      "[Errno 2] No such file or directory: 'D:/external_datasets/TAO/TAO_DIR/frames/val/YFCC100M/v_5c499a3be51f27d537c8e429840e760/frame1621.jpeg'\n"
     ]
    },
    {
     "name": "stderr",
     "output_type": "stream",
     "text": [
      " 61%|██████████████████████████████████████████████▋                             | 775/1261 [03:38<05:53,  1.38it/s]\n",
      ">>> Finding TAO newsstand...: 100%|████████████████████████████████████████████████| 14/14 [00:00<00:00, 665.11it/s]\u001b[A\n",
      "\n",
      ">>> Finding TAO newsstand...: 100%|████████████████████████████████████████████████| 14/14 [00:00<00:00, 483.22it/s]\u001b[A\n",
      "\n",
      ">>> Finding TAO newsstand...: 100%|████████████████████████████████████████████████| 14/14 [00:00<00:00, 608.04it/s]\u001b[A\n",
      "\n",
      ">>> Finding TAO newsstand...: 100%|████████████████████████████████████████████████| 14/14 [00:00<00:00, 608.96it/s]\u001b[A\n",
      "\n",
      ">>> Finding TAO newsstand...: 100%|████████████████████████████████████████████████| 14/14 [00:00<00:00, 537.91it/s]\u001b[A\n",
      " 62%|██████████████████████████████████████████████▉                             | 779/1261 [03:38<04:11,  1.92it/s]"
     ]
    },
    {
     "name": "stdout",
     "output_type": "stream",
     "text": [
      "\n",
      ">> necktie...\n",
      ">>>> #WARNING necktie is missing from json annotations\n",
      "annotations datasets:  []\n",
      "annotations imgids:  []\n",
      "annotations bbox:  []\n",
      "\n",
      ">> needle...\n",
      ">>>> #WARNING needle is missing from json annotations\n",
      "annotations datasets:  []\n",
      "annotations imgids:  []\n",
      "annotations bbox:  []\n",
      "\n",
      ">> nest...\n",
      ">>>> #WARNING nest is missing from json annotations\n",
      "annotations datasets:  []\n",
      "annotations imgids:  []\n",
      "annotations bbox:  []\n",
      "\n",
      ">> newsstand...\n",
      "TAO\n",
      "[Errno 2] No such file or directory: 'D:/external_datasets/TAO/TAO_DIR/frames/train/ArgoVerse/side_right_a64c1df5-9ad2-3f9e-9117-83ef0f8f3072/ring_side_right_315972633027638360.jpg'\n",
      ">>>> #WARNING: No file found for: TAO newsstand...\n",
      "[Errno 2] No such file or directory: 'D:/external_datasets/TAO/TAO_DIR/frames/train/ArgoVerse/side_right_a64c1df5-9ad2-3f9e-9117-83ef0f8f3072/ring_side_right_315972636024639224.jpg'\n",
      ">>>> #WARNING: No file found for: TAO newsstand...\n",
      "[Errno 2] No such file or directory: 'D:/external_datasets/TAO/TAO_DIR/frames/train/ArgoVerse/side_right_a64c1df5-9ad2-3f9e-9117-83ef0f8f3072/ring_side_right_315972627033637824.jpg'\n",
      ">>>> #WARNING: No file found for: TAO newsstand...\n",
      "[Errno 2] No such file or directory: 'D:/external_datasets/TAO/TAO_DIR/frames/train/ArgoVerse/side_right_a64c1df5-9ad2-3f9e-9117-83ef0f8f3072/ring_side_right_315972637023635704.jpg'\n",
      ">>>> #WARNING: No file found for: TAO newsstand...\n",
      "[Errno 2] No such file or directory: 'D:/external_datasets/TAO/TAO_DIR/frames/train/ArgoVerse/side_right_a64c1df5-9ad2-3f9e-9117-83ef0f8f3072/ring_side_right_315972629031636008.jpg'\n",
      ">>>> #WARNING: No file found for: TAO newsstand...\n",
      "\n",
      ">> nightshirt...\n",
      ">>>> #WARNING nightshirt is missing from json annotations\n",
      "annotations datasets:  []\n",
      "annotations imgids:  []\n",
      "annotations bbox:  []\n",
      "\n",
      ">> nosebag_(for_animals)...\n",
      ">>>> #WARNING nosebag_(for_animals) is missing from json annotations\n",
      "annotations datasets:  []\n",
      "annotations imgids:  []\n",
      "annotations bbox:  []\n",
      "\n",
      ">> noseband_(for_animals)...\n",
      ">>>> #WARNING noseband_(for_animals) is missing from json annotations\n",
      "annotations datasets:  []\n",
      "annotations imgids:  []\n",
      "annotations bbox:  []\n",
      "\n",
      ">> notebook...\n",
      "TAO\n"
     ]
    },
    {
     "name": "stderr",
     "output_type": "stream",
     "text": [
      " 62%|███████████████████████████████████████████████▏                            | 783/1261 [03:39<03:25,  2.33it/s]"
     ]
    },
    {
     "name": "stdout",
     "output_type": "stream",
     "text": [
      "\n",
      ">> notepad...\n",
      "TAO\n"
     ]
    },
    {
     "name": "stderr",
     "output_type": "stream",
     "text": [
      "\n",
      ">>> Finding TAO nut...: 100%|█████████████████████████████████████████████████████████████████| 3/3 [00:00<?, ?it/s]\u001b[A\n",
      "\n",
      ">>> Finding TAO nut...: 100%|█████████████████████████████████████████████████████████████████| 3/3 [00:00<?, ?it/s]\u001b[A\n",
      "\n",
      ">>> Finding TAO nut...: 100%|█████████████████████████████████████████████████████████████████| 3/3 [00:00<?, ?it/s]\u001b[A\n",
      " 62%|███████████████████████████████████████████████▎                            | 785/1261 [03:39<03:20,  2.37it/s]"
     ]
    },
    {
     "name": "stdout",
     "output_type": "stream",
     "text": [
      "\n",
      ">> nut...\n",
      "TAO\n",
      "[Errno 2] No such file or directory: 'D:/external_datasets/TAO/TAO_DIR/frames/val/HACS/Tumbling_v_OvrAlAqICIQ/frame2701.jpg'\n",
      ">>>> #WARNING: No file found for: TAO nut...\n",
      "[Errno 2] No such file or directory: 'D:/external_datasets/TAO/TAO_DIR/frames/val/HACS/Tumbling_v_OvrAlAqICIQ/frame2761.jpg'\n",
      ">>>> #WARNING: No file found for: TAO nut...\n",
      "[Errno 2] No such file or directory: 'D:/external_datasets/TAO/TAO_DIR/frames/val/HACS/Tumbling_v_OvrAlAqICIQ/frame2731.jpg'\n",
      ">>>> #WARNING: No file found for: TAO nut...\n",
      "\n",
      ">> nutcracker...\n",
      ">>>> #WARNING nutcracker is missing from json annotations\n",
      "annotations datasets:  []\n",
      "annotations imgids:  []\n",
      "annotations bbox:  []\n",
      "\n",
      ">> oar...\n",
      "TAO\n"
     ]
    },
    {
     "name": "stderr",
     "output_type": "stream",
     "text": [
      " 62%|███████████████████████████████████████████████▍                            | 787/1261 [03:40<03:16,  2.42it/s]"
     ]
    },
    {
     "name": "stdout",
     "output_type": "stream",
     "text": [
      "\n",
      ">> octopus_(food)...\n",
      ">>>> #WARNING octopus_(food) is missing from json annotations\n",
      "annotations datasets:  []\n",
      "annotations imgids:  []\n",
      "annotations bbox:  []\n",
      "\n",
      ">> octopus_(animal)...\n",
      ">>>> #WARNING octopus_(animal) is missing from json annotations\n",
      "annotations datasets:  []\n",
      "annotations imgids:  []\n",
      "annotations bbox:  []\n",
      "\n",
      ">> oil_lamp...\n",
      ">>>> #WARNING oil_lamp is missing from json annotations\n",
      "annotations datasets:  []\n",
      "annotations imgids:  []\n",
      "annotations bbox:  []\n",
      "\n",
      ">> olive_oil...\n",
      ">>>> #WARNING olive_oil is missing from json annotations\n",
      "annotations datasets:  []\n",
      "annotations imgids:  []\n",
      "annotations bbox:  []\n",
      "\n",
      ">> omelet...\n",
      ">>>> #WARNING omelet is missing from json annotations\n",
      "annotations datasets:  []\n",
      "annotations imgids:  []\n",
      "annotations bbox:  []\n",
      "\n",
      ">> onion...\n",
      ">>>> #WARNING onion is missing from json annotations\n",
      "annotations datasets:  []\n",
      "annotations imgids:  []\n",
      "annotations bbox:  []\n",
      "\n",
      ">> orange_(fruit)...\n",
      "TAO\n"
     ]
    },
    {
     "name": "stderr",
     "output_type": "stream",
     "text": [
      " 63%|███████████████████████████████████████████████▊                            | 794/1261 [03:41<02:30,  3.10it/s]"
     ]
    },
    {
     "name": "stdout",
     "output_type": "stream",
     "text": [
      "\n",
      ">> orange_juice...\n",
      ">>>> #WARNING orange_juice is missing from json annotations\n",
      "annotations datasets:  []\n",
      "annotations imgids:  []\n",
      "annotations bbox:  []\n",
      "\n",
      ">> oregano...\n",
      ">>>> #WARNING oregano is missing from json annotations\n",
      "annotations datasets:  []\n",
      "annotations imgids:  []\n",
      "annotations bbox:  []\n",
      "\n",
      ">> ostrich...\n",
      ">>>> #WARNING ostrich is missing from json annotations\n",
      "annotations datasets:  []\n",
      "annotations imgids:  []\n",
      "annotations bbox:  []\n",
      "\n",
      ">> ottoman...\n",
      ">>>> #WARNING ottoman is missing from json annotations\n",
      "annotations datasets:  []\n",
      "annotations imgids:  []\n",
      "annotations bbox:  []\n",
      "\n",
      ">> overalls_(clothing)...\n",
      ">>>> #WARNING overalls_(clothing) is missing from json annotations\n",
      "annotations datasets:  []\n",
      "annotations imgids:  []\n",
      "annotations bbox:  []\n",
      "\n",
      ">> owl...\n",
      ">>>> #WARNING owl is missing from json annotations\n",
      "annotations datasets:  []\n",
      "annotations imgids:  []\n",
      "annotations bbox:  []\n",
      "\n",
      ">> packet...\n",
      "TAO\n"
     ]
    },
    {
     "name": "stderr",
     "output_type": "stream",
     "text": [
      " 64%|████████████████████████████████████████████████▎                           | 801/1261 [03:42<02:02,  3.75it/s]"
     ]
    },
    {
     "name": "stdout",
     "output_type": "stream",
     "text": [
      "\n",
      ">> inkpad...\n",
      ">>>> #WARNING inkpad is missing from json annotations\n",
      "annotations datasets:  []\n",
      "annotations imgids:  []\n",
      "annotations bbox:  []\n",
      "\n",
      ">> pad...\n",
      ">>>> #WARNING pad is missing from json annotations\n",
      "annotations datasets:  []\n",
      "annotations imgids:  []\n",
      "annotations bbox:  []\n",
      "\n",
      ">> paddle...\n",
      "TAO\n"
     ]
    },
    {
     "name": "stderr",
     "output_type": "stream",
     "text": [
      " 64%|████████████████████████████████████████████████▍                           | 804/1261 [03:43<02:01,  3.75it/s]"
     ]
    },
    {
     "name": "stdout",
     "output_type": "stream",
     "text": [
      "\n",
      ">> padlock...\n",
      ">>>> #WARNING padlock is missing from json annotations\n",
      "annotations datasets:  []\n",
      "annotations imgids:  []\n",
      "annotations bbox:  []\n",
      "\n",
      ">> paintbox...\n",
      ">>>> #WARNING paintbox is missing from json annotations\n",
      "annotations datasets:  []\n",
      "annotations imgids:  []\n",
      "annotations bbox:  []\n",
      "\n",
      ">> paintbrush...\n",
      "TAO\n"
     ]
    },
    {
     "name": "stderr",
     "output_type": "stream",
     "text": [
      " 64%|████████████████████████████████████████████████▋                           | 807/1261 [03:44<02:02,  3.71it/s]"
     ]
    },
    {
     "name": "stdout",
     "output_type": "stream",
     "text": [
      "\n",
      ">> painting...\n",
      ">>>> #WARNING painting is missing from json annotations\n",
      "annotations datasets:  []\n",
      "annotations imgids:  []\n",
      "annotations bbox:  []\n",
      "\n",
      ">> pajamas...\n",
      ">>>> #WARNING pajamas is missing from json annotations\n",
      "annotations datasets:  []\n",
      "annotations imgids:  []\n",
      "annotations bbox:  []\n",
      "\n",
      ">> palette...\n",
      ">>>> #WARNING palette is missing from json annotations\n",
      "annotations datasets:  []\n",
      "annotations imgids:  []\n",
      "annotations bbox:  []\n",
      "\n",
      ">> pan_(for_cooking)...\n",
      "TAO\n"
     ]
    },
    {
     "name": "stderr",
     "output_type": "stream",
     "text": [
      " 64%|████████████████████████████████████████████████▉                           | 811/1261 [03:44<01:56,  3.88it/s]\n",
      ">>> Finding TAO paper_towel...:   0%|                                                        | 0/39 [00:00<?, ?it/s]\u001b[A\n"
     ]
    },
    {
     "name": "stdout",
     "output_type": "stream",
     "text": [
      "\n",
      ">> pan_(metal_container)...\n",
      ">>>> #WARNING pan_(metal_container) is missing from json annotations\n",
      "annotations datasets:  []\n",
      "annotations imgids:  []\n",
      "annotations bbox:  []\n",
      "\n",
      ">> pancake...\n",
      ">>>> #WARNING pancake is missing from json annotations\n",
      "annotations datasets:  []\n",
      "annotations imgids:  []\n",
      "annotations bbox:  []\n",
      "\n",
      ">> pantyhose...\n",
      ">>>> #WARNING pantyhose is missing from json annotations\n",
      "annotations datasets:  []\n",
      "annotations imgids:  []\n",
      "annotations bbox:  []\n",
      "\n",
      ">> papaya...\n",
      ">>>> #WARNING papaya is missing from json annotations\n",
      "annotations datasets:  []\n",
      "annotations imgids:  []\n",
      "annotations bbox:  []\n",
      "\n",
      ">> paperclip...\n",
      ">>>> #WARNING paperclip is missing from json annotations\n",
      "annotations datasets:  []\n",
      "annotations imgids:  []\n",
      "annotations bbox:  []\n",
      "\n",
      ">> paper_plate...\n",
      ">>>> #WARNING paper_plate is missing from json annotations\n",
      "annotations datasets:  []\n",
      "annotations imgids:  []\n",
      "annotations bbox:  []\n",
      "\n",
      ">> paper_towel...\n",
      "TAO\n",
      "[Errno 2] No such file or directory: 'D:/external_datasets/TAO/TAO_DIR/frames/val/HACS/Tumbling_v_OvrAlAqICIQ/frame2911.jpg'\n"
     ]
    },
    {
     "name": "stderr",
     "output_type": "stream",
     "text": [
      "\n",
      ">>> Finding TAO paper_towel...:   3%|█▏                                              | 1/39 [00:00<00:02, 15.38it/s]\u001b[A\n",
      "\n",
      ">>> Finding TAO paper_towel...:   0%|                                                        | 0/39 [00:00<?, ?it/s]\u001b[A"
     ]
    },
    {
     "name": "stdout",
     "output_type": "stream",
     "text": [
      "[Errno 2] No such file or directory: 'D:/external_datasets/TAO/TAO_DIR/frames/val/HACS/Tumbling_v_OvrAlAqICIQ/frame3661.jpg'\n",
      "[Errno 2] No such file or directory: 'D:/external_datasets/TAO/TAO_DIR/frames/val/HACS/Tumbling_v_OvrAlAqICIQ/frame2941.jpg'\n"
     ]
    },
    {
     "name": "stderr",
     "output_type": "stream",
     "text": [
      ">>> Finding TAO paper_towel...:   5%|██▍                                             | 2/39 [00:00<00:00, 47.62it/s]\n",
      " 65%|█████████████████████████████████████████████████▎                          | 818/1261 [03:45<01:36,  4.60it/s]\n",
      ">>> Finding TAO parachute...:   0%|                                                         | 0/110 [00:00<?, ?it/s]\u001b[A\n"
     ]
    },
    {
     "name": "stdout",
     "output_type": "stream",
     "text": [
      "\n",
      ">> paperback_book...\n",
      ">>>> #WARNING paperback_book is missing from json annotations\n",
      "annotations datasets:  []\n",
      "annotations imgids:  []\n",
      "annotations bbox:  []\n",
      "\n",
      ">> paperweight...\n",
      ">>>> #WARNING paperweight is missing from json annotations\n",
      "annotations datasets:  []\n",
      "annotations imgids:  []\n",
      "annotations bbox:  []\n",
      "\n",
      ">> parachute...\n",
      "TAO\n",
      "[Errno 2] No such file or directory: 'D:/external_datasets/TAO/TAO_DIR/frames/val/YFCC100M/v_b74458f740348cd7c26b4c4339e0c5d6/frame1801.jpg'\n"
     ]
    },
    {
     "name": "stderr",
     "output_type": "stream",
     "text": [
      "\n",
      ">>> Finding TAO parachute...:   1%|▍                                                | 1/110 [00:00<00:06, 17.26it/s]\u001b[A\n",
      "\n",
      ">>> Finding TAO parachute...:   2%|▉                                                | 2/110 [00:00<00:02, 36.70it/s]\u001b[A\n",
      "\n",
      ">>> Finding TAO parachute...:   4%|█▊                                               | 4/110 [00:00<00:01, 84.29it/s]\u001b[A\n",
      " 65%|█████████████████████████████████████████████████▍                          | 821/1261 [03:46<01:33,  4.70it/s]"
     ]
    },
    {
     "name": "stdout",
     "output_type": "stream",
     "text": [
      "[Errno 2] No such file or directory: 'D:/external_datasets/TAO/TAO_DIR/frames/val/YFCC100M/v_b74458f740348cd7c26b4c4339e0c5d6/frame1261.jpg'\n",
      "[Errno 2] No such file or directory: 'D:/external_datasets/TAO/TAO_DIR/frames/val/YFCC100M/v_b74458f740348cd7c26b4c4339e0c5d6/frame1861.jpg'\n",
      "[Errno 2] No such file or directory: 'D:/external_datasets/TAO/TAO_DIR/frames/val/YFCC100M/v_b74458f740348cd7c26b4c4339e0c5d6/frame1711.jpg'\n",
      "\n",
      ">> parakeet...\n",
      ">>>> #WARNING parakeet is missing from json annotations\n",
      "annotations datasets:  []\n",
      "annotations imgids:  []\n",
      "annotations bbox:  []\n",
      "\n",
      ">> parasail_(sports)...\n",
      ">>>> #WARNING parasail_(sports) is missing from json annotations\n",
      "annotations datasets:  []\n",
      "annotations imgids:  []\n",
      "annotations bbox:  []\n",
      "\n",
      ">> parchment...\n",
      ">>>> #WARNING parchment is missing from json annotations\n",
      "annotations datasets:  []\n",
      "annotations imgids:  []\n",
      "annotations bbox:  []\n",
      "\n",
      ">> parka...\n",
      ">>>> #WARNING parka is missing from json annotations\n",
      "annotations datasets:  []\n",
      "annotations imgids:  []\n",
      "annotations bbox:  []\n",
      "\n",
      ">> parking_meter...\n",
      ">>>> #WARNING parking_meter is missing from json annotations\n",
      "annotations datasets:  []\n",
      "annotations imgids:  []\n",
      "annotations bbox:  []\n",
      "\n",
      ">> parrot...\n",
      "TAO\n"
     ]
    },
    {
     "name": "stderr",
     "output_type": "stream",
     "text": [
      " 66%|█████████████████████████████████████████████████▊                          | 827/1261 [03:47<01:22,  5.23it/s]"
     ]
    },
    {
     "name": "stdout",
     "output_type": "stream",
     "text": [
      "\n",
      ">> passenger_car_(part_of_a_train)...\n",
      ">>>> #WARNING passenger_car_(part_of_a_train) is missing from json annotations\n",
      "annotations datasets:  []\n",
      "annotations imgids:  []\n",
      "annotations bbox:  []\n",
      "\n",
      ">> passenger_ship...\n",
      ">>>> #WARNING passenger_ship is missing from json annotations\n",
      "annotations datasets:  []\n",
      "annotations imgids:  []\n",
      "annotations bbox:  []\n",
      "\n",
      ">> passport...\n",
      ">>>> #WARNING passport is missing from json annotations\n",
      "annotations datasets:  []\n",
      "annotations imgids:  []\n",
      "annotations bbox:  []\n",
      "\n",
      ">> pastry...\n",
      ">>>> #WARNING pastry is missing from json annotations\n",
      "annotations datasets:  []\n",
      "annotations imgids:  []\n",
      "annotations bbox:  []\n",
      "\n",
      ">> patty_(food)...\n",
      ">>>> #WARNING patty_(food) is missing from json annotations\n",
      "annotations datasets:  []\n",
      "annotations imgids:  []\n",
      "annotations bbox:  []\n",
      "\n",
      ">> pea_(food)...\n",
      ">>>> #WARNING pea_(food) is missing from json annotations\n",
      "annotations datasets:  []\n",
      "annotations imgids:  []\n",
      "annotations bbox:  []\n",
      "\n",
      ">> peach...\n",
      ">>>> #WARNING peach is missing from json annotations\n",
      "annotations datasets:  []\n",
      "annotations imgids:  []\n",
      "annotations bbox:  []\n",
      "\n",
      ">> peanut_butter...\n",
      ">>>> #WARNING peanut_butter is missing from json annotations\n",
      "annotations datasets:  []\n",
      "annotations imgids:  []\n",
      "annotations bbox:  []\n",
      "\n",
      ">> pear...\n",
      ">>>> #WARNING pear is missing from json annotations\n",
      "annotations datasets:  []\n",
      "annotations imgids:  []\n",
      "annotations bbox:  []\n",
      "\n",
      ">> peeler_(tool_for_fruit_and_vegetables)...\n",
      "TAO\n"
     ]
    },
    {
     "name": "stderr",
     "output_type": "stream",
     "text": [
      "\n",
      ">>> Finding TAO peeler_(tool_for_fruit_and_vegetables)...:   0%|                             | 0/40 [00:00<?, ?it/s]\u001b[A"
     ]
    },
    {
     "name": "stdout",
     "output_type": "stream",
     "text": [
      "[Errno 2] No such file or directory: 'D:/external_datasets/TAO/TAO_DIR/frames/val/HACS/Making_a_sandwich_v_SMk4troNhwE_scene_0_0-2482/frame1016.jpg'\n"
     ]
    },
    {
     "name": "stderr",
     "output_type": "stream",
     "text": [
      "\n",
      " 66%|██████████████████████████████████████████████████▍                         | 837/1261 [03:48<01:07,  6.24it/s]"
     ]
    },
    {
     "name": "stdout",
     "output_type": "stream",
     "text": [
      "\n",
      ">> pegboard...\n",
      ">>>> #WARNING pegboard is missing from json annotations\n",
      "annotations datasets:  []\n",
      "annotations imgids:  []\n",
      "annotations bbox:  []\n",
      "\n",
      ">> pelican...\n",
      "TAO\n"
     ]
    },
    {
     "name": "stderr",
     "output_type": "stream",
     "text": [
      " 67%|██████████████████████████████████████████████████▌                         | 839/1261 [03:49<01:45,  4.01it/s]"
     ]
    },
    {
     "name": "stdout",
     "output_type": "stream",
     "text": [
      "\n",
      ">> pen...\n",
      "TAO\n"
     ]
    },
    {
     "name": "stderr",
     "output_type": "stream",
     "text": [
      " 67%|██████████████████████████████████████████████████▋                         | 840/1261 [03:50<03:26,  2.04it/s]\n",
      ">>> Finding TAO pencil...:   0%|                                                             | 0/43 [00:00<?, ?it/s]\u001b[A\n",
      ">>> Finding TAO pencil...: 100%|███████████████████████████████████████████████████| 43/43 [00:00<00:00, 292.80it/s]\u001b[A"
     ]
    },
    {
     "name": "stdout",
     "output_type": "stream",
     "text": [
      "\n",
      ">> pencil...\n",
      "TAO\n",
      "[Errno 2] No such file or directory: 'D:/external_datasets/TAO/TAO_DIR/frames/val/YFCC100M/v_e3919198858e7ac1a61aae1e486c7664/frame1441.jpeg'\n"
     ]
    },
    {
     "name": "stderr",
     "output_type": "stream",
     "text": [
      "\n",
      "\n",
      ">>> Finding TAO pencil...:   0%|                                                             | 0/43 [00:00<?, ?it/s]\u001b[A\n",
      ">>> Finding TAO pencil...: 100%|███████████████████████████████████████████████████| 43/43 [00:00<00:00, 421.48it/s]\u001b[A\n",
      "\n",
      ">>> Finding TAO pencil...:   0%|                                                             | 0/43 [00:00<?, ?it/s]\u001b[A"
     ]
    },
    {
     "name": "stdout",
     "output_type": "stream",
     "text": [
      ">>>> #WARNING: No file found for: TAO pencil...\n",
      "[Errno 2] No such file or directory: 'D:/external_datasets/TAO/TAO_DIR/frames/val/YFCC100M/v_2f3e9923a9c9ff4b95986ca8d2a51f/frame0745.jpeg'\n",
      ">>>> #WARNING: No file found for: TAO pencil...\n",
      "[Errno 2] No such file or directory: 'D:/external_datasets/TAO/TAO_DIR/frames/val/YFCC100M/v_2f3e9923a9c9ff4b95986ca8d2a51f/frame0649.jpeg'\n"
     ]
    },
    {
     "name": "stderr",
     "output_type": "stream",
     "text": [
      "\n",
      ">>> Finding TAO pencil...: 100%|███████████████████████████████████████████████████| 43/43 [00:00<00:00, 416.30it/s]\u001b[A\n",
      "\n",
      ">>> Finding TAO pencil...: 100%|███████████████████████████████████████████████████| 43/43 [00:00<00:00, 452.62it/s]\u001b[A\n",
      "\n",
      ">>> Finding TAO pencil...:   0%|                                                             | 0/43 [00:00<?, ?it/s]\u001b[A"
     ]
    },
    {
     "name": "stdout",
     "output_type": "stream",
     "text": [
      ">>>> #WARNING: No file found for: TAO pencil...\n",
      "[Errno 2] No such file or directory: 'D:/external_datasets/TAO/TAO_DIR/frames/val/YFCC100M/v_2f3e9923a9c9ff4b95986ca8d2a51f/frame1297.jpeg'\n",
      ">>>> #WARNING: No file found for: TAO pencil...\n",
      "[Errno 2] No such file or directory: 'D:/external_datasets/TAO/TAO_DIR/frames/val/YFCC100M/v_2f3e9923a9c9ff4b95986ca8d2a51f/frame0529.jpeg'\n"
     ]
    },
    {
     "name": "stderr",
     "output_type": "stream",
     "text": [
      "\n",
      ">>> Finding TAO pencil...: 100%|███████████████████████████████████████████████████| 43/43 [00:00<00:00, 413.46it/s]\u001b[A\n",
      " 67%|██████████████████████████████████████████████████▋                         | 841/1261 [03:50<03:42,  1.89it/s]"
     ]
    },
    {
     "name": "stdout",
     "output_type": "stream",
     "text": [
      ">>>> #WARNING: No file found for: TAO pencil...\n",
      "\n",
      ">> pencil_box...\n",
      ">>>> #WARNING pencil_box is missing from json annotations\n",
      "annotations datasets:  []\n",
      "annotations imgids:  []\n",
      "annotations bbox:  []\n",
      "\n",
      ">> pencil_sharpener...\n",
      ">>>> #WARNING pencil_sharpener is missing from json annotations\n",
      "annotations datasets:  []\n",
      "annotations imgids:  []\n",
      "annotations bbox:  []\n",
      "\n",
      ">> pendulum...\n",
      ">>>> #WARNING pendulum is missing from json annotations\n",
      "annotations datasets:  []\n",
      "annotations imgids:  []\n",
      "annotations bbox:  []\n",
      "\n",
      ">> penguin...\n",
      "TAO\n"
     ]
    },
    {
     "name": "stderr",
     "output_type": "stream",
     "text": [
      " 67%|██████████████████████████████████████████████████▉                         | 845/1261 [03:51<03:00,  2.30it/s]\n",
      ">>> Finding TAO persimmon...: 100%|█████████████████████████████████████████████████| 6/6 [00:00<00:00, 2003.01it/s]\u001b[A\n",
      "\n",
      ">>> Finding TAO persimmon...: 100%|█████████████████████████████████████████████████| 6/6 [00:00<00:00, 2953.39it/s]\u001b[A\n",
      "\n",
      ">>> Finding TAO persimmon...: 100%|█████████████████████████████████████████████████| 6/6 [00:00<00:00, 2938.56it/s]\u001b[A\n",
      "\n",
      ">>> Finding TAO persimmon...: 100%|█████████████████████████████████████████████████| 6/6 [00:00<00:00, 1971.93it/s]\u001b[A\n",
      "\n",
      ">>> Finding TAO persimmon...: 100%|█████████████████████████████████████████████████| 6/6 [00:00<00:00, 1993.49it/s]\u001b[A\n"
     ]
    },
    {
     "name": "stdout",
     "output_type": "stream",
     "text": [
      "\n",
      ">> pennant...\n",
      ">>>> #WARNING pennant is missing from json annotations\n",
      "annotations datasets:  []\n",
      "annotations imgids:  []\n",
      "annotations bbox:  []\n",
      "\n",
      ">> penny_(coin)...\n",
      ">>>> #WARNING penny_(coin) is missing from json annotations\n",
      "annotations datasets:  []\n",
      "annotations imgids:  []\n",
      "annotations bbox:  []\n",
      "\n",
      ">> pepper...\n",
      ">>>> #WARNING pepper is missing from json annotations\n",
      "annotations datasets:  []\n",
      "annotations imgids:  []\n",
      "annotations bbox:  []\n",
      "\n",
      ">> pepper_mill...\n",
      ">>>> #WARNING pepper_mill is missing from json annotations\n",
      "annotations datasets:  []\n",
      "annotations imgids:  []\n",
      "annotations bbox:  []\n",
      "\n",
      ">> perfume...\n",
      ">>>> #WARNING perfume is missing from json annotations\n",
      "annotations datasets:  []\n",
      "annotations imgids:  []\n",
      "annotations bbox:  []\n",
      "\n",
      ">> persimmon...\n",
      "TAO\n",
      "[Errno 2] No such file or directory: 'D:/external_datasets/TAO/TAO_DIR/frames/train/ArgoVerse/26d141ec-f952-3908-b4cc-ae359377424e/ring_front_center_315970949116503560.jpg'\n",
      ">>>> #WARNING: No file found for: TAO persimmon...\n",
      "[Errno 2] No such file or directory: 'D:/external_datasets/TAO/TAO_DIR/frames/train/ArgoVerse/26d141ec-f952-3908-b4cc-ae359377424e/ring_front_center_315970950115503624.jpg'\n",
      ">>>> #WARNING: No file found for: TAO persimmon...\n",
      "[Errno 2] No such file or directory: 'D:/external_datasets/TAO/TAO_DIR/frames/train/ArgoVerse/26d141ec-f952-3908-b4cc-ae359377424e/ring_front_center_315970953112504016.jpg'\n",
      ">>>> #WARNING: No file found for: TAO persimmon...\n",
      "[Errno 2] No such file or directory: 'D:/external_datasets/TAO/TAO_DIR/frames/train/ArgoVerse/26d141ec-f952-3908-b4cc-ae359377424e/ring_front_center_315970954111500256.jpg'\n",
      ">>>> #WARNING: No file found for: TAO persimmon...\n",
      "[Errno 2] No such file or directory: 'D:/external_datasets/TAO/TAO_DIR/frames/train/ArgoVerse/26d141ec-f952-3908-b4cc-ae359377424e/ring_front_center_315970952113504496.jpg'\n",
      ">>>> #WARNING: No file found for: TAO persimmon...\n",
      "\n",
      ">> baby...\n",
      "TAO\n"
     ]
    },
    {
     "name": "stderr",
     "output_type": "stream",
     "text": [
      "\n",
      ">>> Finding TAO baby...:   0%|                                                            | 0/86681 [00:00<?, ?it/s]\u001b[A"
     ]
    },
    {
     "name": "stdout",
     "output_type": "stream",
     "text": [
      "[Errno 2] No such file or directory: 'D:/external_datasets/TAO/TAO_DIR/frames/train/AVA/5BDj0ow5hnA_scene_15_65137-66983/frame1176.jpg'\n"
     ]
    },
    {
     "name": "stderr",
     "output_type": "stream",
     "text": [
      "\n",
      " 68%|███████████████████████████████████████████████████▎                        | 852/1261 [03:52<02:21,  2.90it/s]"
     ]
    },
    {
     "name": "stdout",
     "output_type": "stream",
     "text": [
      "\n",
      ">> pet...\n",
      ">>>> #WARNING pet is missing from json annotations\n",
      "annotations datasets:  []\n",
      "annotations imgids:  []\n",
      "annotations bbox:  []\n",
      "\n",
      ">> petfood...\n",
      "TAO\n"
     ]
    },
    {
     "name": "stderr",
     "output_type": "stream",
     "text": [
      " 68%|███████████████████████████████████████████████████▍                        | 854/1261 [03:52<01:58,  3.44it/s]\n",
      ">>> Finding TAO piano...:   0%|                                                             | 0/116 [00:00<?, ?it/s]\u001b[A\n"
     ]
    },
    {
     "name": "stdout",
     "output_type": "stream",
     "text": [
      "\n",
      ">> pew_(church_bench)...\n",
      ">>>> #WARNING pew_(church_bench) is missing from json annotations\n",
      "annotations datasets:  []\n",
      "annotations imgids:  []\n",
      "annotations bbox:  []\n",
      "\n",
      ">> phonebook...\n",
      ">>>> #WARNING phonebook is missing from json annotations\n",
      "annotations datasets:  []\n",
      "annotations imgids:  []\n",
      "annotations bbox:  []\n",
      "\n",
      ">> phonograph_record...\n",
      ">>>> #WARNING phonograph_record is missing from json annotations\n",
      "annotations datasets:  []\n",
      "annotations imgids:  []\n",
      "annotations bbox:  []\n",
      "\n",
      ">> piano...\n",
      "TAO\n",
      "[Errno 2] No such file or directory: 'D:/external_datasets/TAO/TAO_DIR/frames/val/YFCC100M/v_347a2e9955985b52cb8b4c63f5765280/frame1831.jpeg'\n"
     ]
    },
    {
     "name": "stderr",
     "output_type": "stream",
     "text": [
      " 68%|███████████████████████████████████████████████████▋                        | 858/1261 [03:53<01:45,  3.81it/s]"
     ]
    },
    {
     "name": "stdout",
     "output_type": "stream",
     "text": [
      "\n",
      ">> pickle...\n",
      "TAO\n"
     ]
    },
    {
     "name": "stderr",
     "output_type": "stream",
     "text": [
      " 68%|███████████████████████████████████████████████████▊                        | 859/1261 [03:54<02:37,  2.55it/s]\n",
      ">>> Finding TAO pickup_truck...:   0%|                                                      | 0/432 [00:00<?, ?it/s]\u001b[A\n",
      "\n",
      ">>> Finding TAO pickup_truck...:   0%|                                                      | 0/432 [00:00<?, ?it/s]\u001b[A"
     ]
    },
    {
     "name": "stdout",
     "output_type": "stream",
     "text": [
      "\n",
      ">> pickup_truck...\n",
      "TAO\n",
      "[Errno 2] No such file or directory: 'D:/external_datasets/TAO/TAO_DIR/frames/val/YFCC100M/v_bfd966c8ec08aa2ed8346fcda589289/frame0871.jpeg'\n",
      "[Errno 2] No such file or directory: 'D:/external_datasets/TAO/TAO_DIR/frames/val/ArgoVerse/side_right_10b3a1d8-e56c-38be-aaf7-ef2f862a5c4e/ring_side_right_315967649888645864.jpg'\n"
     ]
    },
    {
     "name": "stderr",
     "output_type": "stream",
     "text": [
      ">>> Finding TAO pickup_truck...:   0%|                                              | 1/432 [00:00<00:16, 26.31it/s]\n",
      " 68%|███████████████████████████████████████████████████▊                        | 860/1261 [03:55<03:25,  1.95it/s]\n",
      ">>> Finding TAO pigeon...:   0%|                                                            | 0/204 [00:00<?, ?it/s]\u001b[A\n",
      "\n",
      ">>> Finding TAO pigeon...:   0%|▎                                                  | 1/204 [00:00<00:02, 100.01it/s]\u001b[A\n"
     ]
    },
    {
     "name": "stdout",
     "output_type": "stream",
     "text": [
      "\n",
      ">> pie...\n",
      ">>>> #WARNING pie is missing from json annotations\n",
      "annotations datasets:  []\n",
      "annotations imgids:  []\n",
      "annotations bbox:  []\n",
      "\n",
      ">> pigeon...\n",
      "TAO\n",
      "[Errno 2] No such file or directory: 'D:/external_datasets/TAO/TAO_DIR/frames/val/YFCC100M/v_d389d21ddef286b3febd14de1db31615/frame1501.jpeg'\n",
      "[Errno 2] No such file or directory: 'D:/external_datasets/TAO/TAO_DIR/frames/val/YFCC100M/v_d389d21ddef286b3febd14de1db31615/frame0811.jpeg'\n",
      "[Errno 2] No such file or directory: 'D:/external_datasets/TAO/TAO_DIR/frames/val/YFCC100M/v_d389d21ddef286b3febd14de1db31615/frame0661.jpeg'\n"
     ]
    },
    {
     "name": "stderr",
     "output_type": "stream",
     "text": [
      "\n",
      ">>> Finding TAO pigeon...:   1%|▌                                                  | 2/204 [00:00<00:01, 199.88it/s]\u001b[A\n",
      "\n",
      ">>> Finding TAO pigeon...:   1%|▊                                                  | 3/204 [00:00<00:01, 136.11it/s]\u001b[A\n",
      "\n",
      ">>> Finding TAO pigeon...:   2%|█                                                  | 4/204 [00:00<00:00, 499.86it/s]\u001b[A\n",
      " 68%|███████████████████████████████████████████████████▉                        | 862/1261 [03:55<02:46,  2.40it/s]"
     ]
    },
    {
     "name": "stdout",
     "output_type": "stream",
     "text": [
      "[Errno 2] No such file or directory: 'D:/external_datasets/TAO/TAO_DIR/frames/val/YFCC100M/v_d389d21ddef286b3febd14de1db31615/frame1021.jpeg'\n",
      "[Errno 2] No such file or directory: 'D:/external_datasets/TAO/TAO_DIR/frames/train/YFCC100M/v_df4744928b9b4199b5c73344efdce65/frame1381.jpg'\n",
      "\n",
      ">> piggy_bank...\n",
      ">>>> #WARNING piggy_bank is missing from json annotations\n",
      "annotations datasets:  []\n",
      "annotations imgids:  []\n",
      "annotations bbox:  []\n",
      "\n",
      ">> pillow...\n",
      "TAO\n"
     ]
    },
    {
     "name": "stderr",
     "output_type": "stream",
     "text": [
      " 69%|████████████████████████████████████████████████████                        | 864/1261 [03:56<02:56,  2.25it/s]"
     ]
    },
    {
     "name": "stdout",
     "output_type": "stream",
     "text": [
      "\n",
      ">> pin_(non_jewelry)...\n",
      ">>>> #WARNING pin_(non_jewelry) is missing from json annotations\n",
      "annotations datasets:  []\n",
      "annotations imgids:  []\n",
      "annotations bbox:  []\n",
      "\n",
      ">> pineapple...\n",
      ">>>> #WARNING pineapple is missing from json annotations\n",
      "annotations datasets:  []\n",
      "annotations imgids:  []\n",
      "annotations bbox:  []\n",
      "\n",
      ">> pinecone...\n",
      ">>>> #WARNING pinecone is missing from json annotations\n",
      "annotations datasets:  []\n",
      "annotations imgids:  []\n",
      "annotations bbox:  []\n",
      "\n",
      ">> ping-pong_ball...\n",
      "TAO\n"
     ]
    },
    {
     "name": "stderr",
     "output_type": "stream",
     "text": [
      "\n",
      ">>> Finding TAO ping-pong_ball...:   0%|                                                     | 0/44 [00:00<?, ?it/s]\u001b[A\n",
      " 69%|████████████████████████████████████████████████████▎                       | 868/1261 [03:57<02:24,  2.72it/s]"
     ]
    },
    {
     "name": "stdout",
     "output_type": "stream",
     "text": [
      "[Errno 2] No such file or directory: 'D:/external_datasets/TAO/TAO_DIR/frames/train/HACS/Beer_pong_v_bFTTE4TV-ek_scene_0_173-3004/frame0991.jpg'\n",
      "\n",
      ">> pinwheel...\n",
      ">>>> #WARNING pinwheel is missing from json annotations\n",
      "annotations datasets:  []\n",
      "annotations imgids:  []\n",
      "annotations bbox:  []\n",
      "\n",
      ">> tobacco_pipe...\n",
      ">>>> #WARNING tobacco_pipe is missing from json annotations\n",
      "annotations datasets:  []\n",
      "annotations imgids:  []\n",
      "annotations bbox:  []\n",
      "\n",
      ">> pipe...\n",
      "TAO\n"
     ]
    },
    {
     "name": "stderr",
     "output_type": "stream",
     "text": [
      " 69%|████████████████████████████████████████████████████▍                       | 871/1261 [03:57<02:07,  3.07it/s]"
     ]
    },
    {
     "name": "stdout",
     "output_type": "stream",
     "text": [
      "\n",
      ">> pistol...\n",
      "TAO\n"
     ]
    },
    {
     "name": "stderr",
     "output_type": "stream",
     "text": [
      " 69%|████████████████████████████████████████████████████▌                       | 872/1261 [03:58<03:03,  2.12it/s]"
     ]
    },
    {
     "name": "stdout",
     "output_type": "stream",
     "text": [
      "\n",
      ">> pita_(bread)...\n",
      ">>>> #WARNING pita_(bread) is missing from json annotations\n",
      "annotations datasets:  []\n",
      "annotations imgids:  []\n",
      "annotations bbox:  []\n",
      "\n",
      ">> pitcher_(vessel_for_liquid)...\n",
      "TAO\n"
     ]
    },
    {
     "name": "stderr",
     "output_type": "stream",
     "text": [
      "\n",
      ">>> Finding TAO pitcher_(vessel_for_liquid)...:   0%|                                       | 0/108 [00:00<?, ?it/s]\u001b[A"
     ]
    },
    {
     "name": "stdout",
     "output_type": "stream",
     "text": [
      "[Errno 2] No such file or directory: 'D:/external_datasets/TAO/TAO_DIR/frames/val/YFCC100M/v_90d3b815a3e7eeef2375c1ec8bd2a0ff/frame1171.jpg'\n"
     ]
    },
    {
     "name": "stderr",
     "output_type": "stream",
     "text": [
      "\n",
      " 69%|████████████████████████████████████████████████████▋                       | 874/1261 [03:59<02:52,  2.25it/s]"
     ]
    },
    {
     "name": "stdout",
     "output_type": "stream",
     "text": [
      "\n",
      ">> pitchfork...\n",
      ">>>> #WARNING pitchfork is missing from json annotations\n",
      "annotations datasets:  []\n",
      "annotations imgids:  []\n",
      "annotations bbox:  []\n",
      "\n",
      ">> place_mat...\n",
      ">>>> #WARNING place_mat is missing from json annotations\n",
      "annotations datasets:  []\n",
      "annotations imgids:  []\n",
      "annotations bbox:  []\n",
      "\n",
      ">> plate...\n",
      "TAO\n"
     ]
    },
    {
     "name": "stderr",
     "output_type": "stream",
     "text": [
      "\n",
      ">>> Finding TAO plate...:   0%|                                                             | 0/307 [00:00<?, ?it/s]\u001b[A"
     ]
    },
    {
     "name": "stdout",
     "output_type": "stream",
     "text": [
      "[Errno 2] No such file or directory: 'D:/external_datasets/TAO/TAO_DIR/frames/val/AVA/keUOiCcHtoQ_scene_12_53633-54779/frame1026.jpg'\n"
     ]
    },
    {
     "name": "stderr",
     "output_type": "stream",
     "text": [
      "\n",
      "\n",
      ">>> Finding TAO plate...:   0%|▏                                                    | 1/307 [00:00<00:15, 19.22it/s]\u001b[A"
     ]
    },
    {
     "name": "stdout",
     "output_type": "stream",
     "text": [
      "[Errno 2] No such file or directory: 'D:/external_datasets/TAO/TAO_DIR/frames/val/Charades/21WN7/frame1021.jpg'\n"
     ]
    },
    {
     "name": "stderr",
     "output_type": "stream",
     "text": [
      "\n",
      " 70%|████████████████████████████████████████████████████▊                       | 877/1261 [04:00<02:45,  2.32it/s]\n",
      ">>> Finding TAO pliers...:   0%|                                                             | 0/41 [00:00<?, ?it/s]\u001b[A\n"
     ]
    },
    {
     "name": "stdout",
     "output_type": "stream",
     "text": [
      "\n",
      ">> platter...\n",
      ">>>> #WARNING platter is missing from json annotations\n",
      "annotations datasets:  []\n",
      "annotations imgids:  []\n",
      "annotations bbox:  []\n",
      "\n",
      ">> playing_card...\n",
      ">>>> #WARNING playing_card is missing from json annotations\n",
      "annotations datasets:  []\n",
      "annotations imgids:  []\n",
      "annotations bbox:  []\n",
      "\n",
      ">> playpen...\n",
      ">>>> #WARNING playpen is missing from json annotations\n",
      "annotations datasets:  []\n",
      "annotations imgids:  []\n",
      "annotations bbox:  []\n",
      "\n",
      ">> pliers...\n",
      "TAO\n",
      "[Errno 2] No such file or directory: 'D:/external_datasets/TAO/TAO_DIR/frames/val/HACS/Wrapping_presents_v_yahzWfkLMR4_scene_0_196-4597/frame1171.jpg'\n"
     ]
    },
    {
     "name": "stderr",
     "output_type": "stream",
     "text": [
      "\n",
      ">>> Finding TAO pliers...:   2%|█▎                                                   | 1/41 [00:00<00:02, 17.61it/s]\u001b[A\n"
     ]
    },
    {
     "name": "stdout",
     "output_type": "stream",
     "text": [
      "[Errno 2] No such file or directory: 'D:/external_datasets/TAO/TAO_DIR/frames/val/HACS/Wrapping_presents_v_yahzWfkLMR4_scene_0_196-4597/frame1141.jpg'\n"
     ]
    },
    {
     "name": "stderr",
     "output_type": "stream",
     "text": [
      " 70%|█████████████████████████████████████████████████████                       | 881/1261 [04:01<02:19,  2.73it/s]"
     ]
    },
    {
     "name": "stdout",
     "output_type": "stream",
     "text": [
      "\n",
      ">> plow_(farm_equipment)...\n",
      ">>>> #WARNING plow_(farm_equipment) is missing from json annotations\n",
      "annotations datasets:  []\n",
      "annotations imgids:  []\n",
      "annotations bbox:  []\n",
      "\n",
      ">> pocket_watch...\n",
      ">>>> #WARNING pocket_watch is missing from json annotations\n",
      "annotations datasets:  []\n",
      "annotations imgids:  []\n",
      "annotations bbox:  []\n",
      "\n",
      ">> pocketknife...\n",
      ">>>> #WARNING pocketknife is missing from json annotations\n",
      "annotations datasets:  []\n",
      "annotations imgids:  []\n",
      "annotations bbox:  []\n",
      "\n",
      ">> poker_(fire_stirring_tool)...\n",
      ">>>> #WARNING poker_(fire_stirring_tool) is missing from json annotations\n",
      "annotations datasets:  []\n",
      "annotations imgids:  []\n",
      "annotations bbox:  []\n",
      "\n",
      ">> pole...\n",
      "TAO\n"
     ]
    },
    {
     "name": "stderr",
     "output_type": "stream",
     "text": [
      "\n",
      ">>> Finding TAO pole...:   2%|█▍                                                     | 1/40 [00:00<00:02, 18.58it/s]\u001b[A\n",
      " 70%|█████████████████████████████████████████████████████▍                      | 886/1261 [04:02<01:54,  3.27it/s]"
     ]
    },
    {
     "name": "stdout",
     "output_type": "stream",
     "text": [
      "[Errno 2] No such file or directory: 'D:/external_datasets/TAO/TAO_DIR/frames/val/HACS/Shot_put_v_gqR1J68CwyI_scene_0_0-2994/frame1111.jpg'\n",
      "\n",
      ">> police_van...\n",
      ">>>> #WARNING police_van is missing from json annotations\n",
      "annotations datasets:  []\n",
      "annotations imgids:  []\n",
      "annotations bbox:  []\n",
      "\n",
      ">> polo_shirt...\n",
      ">>>> #WARNING polo_shirt is missing from json annotations\n",
      "annotations datasets:  []\n",
      "annotations imgids:  []\n",
      "annotations bbox:  []\n",
      "\n",
      ">> poncho...\n",
      ">>>> #WARNING poncho is missing from json annotations\n",
      "annotations datasets:  []\n",
      "annotations imgids:  []\n",
      "annotations bbox:  []\n",
      "\n",
      ">> pony...\n",
      ">>>> #WARNING pony is missing from json annotations\n",
      "annotations datasets:  []\n",
      "annotations imgids:  []\n",
      "annotations bbox:  []\n",
      "\n",
      ">> pool_table...\n",
      ">>>> #WARNING pool_table is missing from json annotations\n",
      "annotations datasets:  []\n",
      "annotations imgids:  []\n",
      "annotations bbox:  []\n",
      "\n",
      ">> pop_(soda)...\n",
      ">>>> #WARNING pop_(soda) is missing from json annotations\n",
      "annotations datasets:  []\n",
      "annotations imgids:  []\n",
      "annotations bbox:  []\n",
      "\n",
      ">> portrait...\n",
      ">>>> #WARNING portrait is missing from json annotations\n",
      "annotations datasets:  []\n",
      "annotations imgids:  []\n",
      "annotations bbox:  []\n",
      "\n",
      ">> postbox_(public)...\n",
      ">>>> #WARNING postbox_(public) is missing from json annotations\n",
      "annotations datasets:  []\n",
      "annotations imgids:  []\n",
      "annotations bbox:  []\n",
      "\n",
      ">> postcard...\n",
      ">>>> #WARNING postcard is missing from json annotations\n",
      "annotations datasets:  []\n",
      "annotations imgids:  []\n",
      "annotations bbox:  []\n",
      "\n",
      ">> poster...\n",
      "TAO\n"
     ]
    },
    {
     "name": "stderr",
     "output_type": "stream",
     "text": [
      " 71%|██████████████████████████████████████████████████████                      | 896/1261 [04:03<01:26,  4.21it/s]"
     ]
    },
    {
     "name": "stdout",
     "output_type": "stream",
     "text": [
      "\n",
      ">> pot...\n",
      "TAO\n"
     ]
    },
    {
     "name": "stderr",
     "output_type": "stream",
     "text": [
      "\n",
      ">>> Finding TAO pot...:   0%|                                                               | 0/357 [00:00<?, ?it/s]\u001b[A"
     ]
    },
    {
     "name": "stdout",
     "output_type": "stream",
     "text": [
      "[Errno 2] No such file or directory: 'D:/external_datasets/TAO/TAO_DIR/frames/train/HACS/Preparing_salad_v_AjH8TFfZIGY/frame2971.jpg'\n"
     ]
    },
    {
     "name": "stderr",
     "output_type": "stream",
     "text": [
      "\n",
      " 71%|██████████████████████████████████████████████████████                      | 897/1261 [04:04<02:37,  2.31it/s]"
     ]
    },
    {
     "name": "stdout",
     "output_type": "stream",
     "text": [
      "\n",
      ">> flowerpot...\n",
      ">>>> #WARNING flowerpot is missing from json annotations\n",
      "annotations datasets:  []\n",
      "annotations imgids:  []\n",
      "annotations bbox:  []\n",
      "\n",
      ">> potato...\n",
      "TAO\n"
     ]
    },
    {
     "name": "stderr",
     "output_type": "stream",
     "text": [
      " 71%|██████████████████████████████████████████████████████▏                     | 899/1261 [04:04<02:34,  2.34it/s]"
     ]
    },
    {
     "name": "stdout",
     "output_type": "stream",
     "text": [
      "\n",
      ">> potholder...\n",
      ">>>> #WARNING potholder is missing from json annotations\n",
      "annotations datasets:  []\n",
      "annotations imgids:  []\n",
      "annotations bbox:  []\n",
      "\n",
      ">> pottery...\n",
      ">>>> #WARNING pottery is missing from json annotations\n",
      "annotations datasets:  []\n",
      "annotations imgids:  []\n",
      "annotations bbox:  []\n",
      "\n",
      ">> pouch...\n",
      ">>>> #WARNING pouch is missing from json annotations\n",
      "annotations datasets:  []\n",
      "annotations imgids:  []\n",
      "annotations bbox:  []\n",
      "\n",
      ">> power_shovel...\n",
      ">>>> #WARNING power_shovel is missing from json annotations\n",
      "annotations datasets:  []\n",
      "annotations imgids:  []\n",
      "annotations bbox:  []\n",
      "\n",
      ">> prawn...\n",
      ">>>> #WARNING prawn is missing from json annotations\n",
      "annotations datasets:  []\n",
      "annotations imgids:  []\n",
      "annotations bbox:  []\n",
      "\n",
      ">> printer...\n",
      ">>>> #WARNING printer is missing from json annotations\n",
      "annotations datasets:  []\n",
      "annotations imgids:  []\n",
      "annotations bbox:  []\n",
      "\n",
      ">> projectile_(weapon)...\n",
      ">>>> #WARNING projectile_(weapon) is missing from json annotations\n",
      "annotations datasets:  []\n",
      "annotations imgids:  []\n",
      "annotations bbox:  []\n",
      "\n",
      ">> projector...\n",
      ">>>> #WARNING projector is missing from json annotations\n",
      "annotations datasets:  []\n",
      "annotations imgids:  []\n",
      "annotations bbox:  []\n",
      "\n",
      ">> propeller...\n",
      ">>>> #WARNING propeller is missing from json annotations\n",
      "annotations datasets:  []\n",
      "annotations imgids:  []\n",
      "annotations bbox:  []\n",
      "\n",
      ">> prune...\n",
      ">>>> #WARNING prune is missing from json annotations\n",
      "annotations datasets:  []\n",
      "annotations imgids:  []\n",
      "annotations bbox:  []\n",
      "\n",
      ">> pudding...\n",
      ">>>> #WARNING pudding is missing from json annotations\n",
      "annotations datasets:  []\n",
      "annotations imgids:  []\n",
      "annotations bbox:  []\n",
      "\n",
      ">> puffer_(fish)...\n",
      ">>>> #WARNING puffer_(fish) is missing from json annotations\n",
      "annotations datasets:  []\n",
      "annotations imgids:  []\n",
      "annotations bbox:  []\n",
      "\n",
      ">> puffin...\n",
      ">>>> #WARNING puffin is missing from json annotations\n",
      "annotations datasets:  []\n",
      "annotations imgids:  []\n",
      "annotations bbox:  []\n",
      "\n",
      ">> pug-dog...\n",
      ">>>> #WARNING pug-dog is missing from json annotations\n",
      "annotations datasets:  []\n",
      "annotations imgids:  []\n",
      "annotations bbox:  []\n",
      "\n",
      ">> pumpkin...\n",
      "TAO\n"
     ]
    },
    {
     "name": "stderr",
     "output_type": "stream",
     "text": [
      " 72%|███████████████████████████████████████████████████████                     | 914/1261 [04:05<01:49,  3.16it/s]"
     ]
    },
    {
     "name": "stdout",
     "output_type": "stream",
     "text": [
      "\n",
      ">> puncher...\n",
      ">>>> #WARNING puncher is missing from json annotations\n",
      "annotations datasets:  []\n",
      "annotations imgids:  []\n",
      "annotations bbox:  []\n",
      "\n",
      ">> puppet...\n",
      ">>>> #WARNING puppet is missing from json annotations\n",
      "annotations datasets:  []\n",
      "annotations imgids:  []\n",
      "annotations bbox:  []\n",
      "\n",
      ">> puppy...\n",
      ">>>> #WARNING puppy is missing from json annotations\n",
      "annotations datasets:  []\n",
      "annotations imgids:  []\n",
      "annotations bbox:  []\n",
      "\n",
      ">> quesadilla...\n",
      ">>>> #WARNING quesadilla is missing from json annotations\n",
      "annotations datasets:  []\n",
      "annotations imgids:  []\n",
      "annotations bbox:  []\n",
      "\n",
      ">> quiche...\n",
      ">>>> #WARNING quiche is missing from json annotations\n",
      "annotations datasets:  []\n",
      "annotations imgids:  []\n",
      "annotations bbox:  []\n",
      "\n",
      ">> quilt...\n",
      ">>>> #WARNING quilt is missing from json annotations\n",
      "annotations datasets:  []\n",
      "annotations imgids:  []\n",
      "annotations bbox:  []\n",
      "\n",
      ">> rabbit...\n",
      "TAO\n"
     ]
    },
    {
     "name": "stderr",
     "output_type": "stream",
     "text": [
      "\n",
      ">>> Finding TAO rabbit...:   0%|                                                            | 0/359 [00:00<?, ?it/s]\u001b[A\n",
      " 73%|███████████████████████████████████████████████████████▌                    | 921/1261 [04:06<01:28,  3.85it/s]"
     ]
    },
    {
     "name": "stdout",
     "output_type": "stream",
     "text": [
      "[Errno 2] No such file or directory: 'D:/external_datasets/TAO/TAO_DIR/frames/train/HACS/Clipping_cat_claws_v_ogus-Ik3UMA/frame1226.jpg'\n",
      "\n",
      ">> race_car...\n",
      "TAO\n"
     ]
    },
    {
     "name": "stderr",
     "output_type": "stream",
     "text": [
      " 73%|███████████████████████████████████████████████████████▌                    | 922/1261 [04:07<02:11,  2.59it/s]"
     ]
    },
    {
     "name": "stdout",
     "output_type": "stream",
     "text": [
      "\n",
      ">> racket...\n",
      "TAO\n"
     ]
    },
    {
     "name": "stderr",
     "output_type": "stream",
     "text": [
      " 73%|███████████████████████████████████████████████████████▋                    | 923/1261 [04:08<03:01,  1.86it/s]"
     ]
    },
    {
     "name": "stdout",
     "output_type": "stream",
     "text": [
      "\n",
      ">> radar...\n",
      ">>>> #WARNING radar is missing from json annotations\n",
      "annotations datasets:  []\n",
      "annotations imgids:  []\n",
      "annotations bbox:  []\n",
      "\n",
      ">> radiator...\n",
      ">>>> #WARNING radiator is missing from json annotations\n",
      "annotations datasets:  []\n",
      "annotations imgids:  []\n",
      "annotations bbox:  []\n",
      "\n",
      ">> radio_receiver...\n",
      ">>>> #WARNING radio_receiver is missing from json annotations\n",
      "annotations datasets:  []\n",
      "annotations imgids:  []\n",
      "annotations bbox:  []\n",
      "\n",
      ">> radish...\n",
      ">>>> #WARNING radish is missing from json annotations\n",
      "annotations datasets:  []\n",
      "annotations imgids:  []\n",
      "annotations bbox:  []\n",
      "\n",
      ">> raft...\n",
      "TAO\n"
     ]
    },
    {
     "name": "stderr",
     "output_type": "stream",
     "text": [
      "\n",
      ">>> Finding TAO raft...:   0%|                                                               | 0/63 [00:00<?, ?it/s]\u001b[A"
     ]
    },
    {
     "name": "stdout",
     "output_type": "stream",
     "text": [
      "[Errno 2] No such file or directory: 'D:/external_datasets/TAO/TAO_DIR/frames/train/HACS/Rafting_v_k2-d6fLeMSo_scene_0_0-2069/frame0991.jpg'\n"
     ]
    },
    {
     "name": "stderr",
     "output_type": "stream",
     "text": [
      "\n",
      " 74%|███████████████████████████████████████████████████████▉                    | 928/1261 [04:09<02:23,  2.32it/s]"
     ]
    },
    {
     "name": "stdout",
     "output_type": "stream",
     "text": [
      "\n",
      ">> rag_doll...\n",
      "TAO\n"
     ]
    },
    {
     "name": "stderr",
     "output_type": "stream",
     "text": [
      " 74%|███████████████████████████████████████████████████████▉                    | 929/1261 [04:10<03:03,  1.81it/s]"
     ]
    },
    {
     "name": "stdout",
     "output_type": "stream",
     "text": [
      "\n",
      ">> raincoat...\n",
      ">>>> #WARNING raincoat is missing from json annotations\n",
      "annotations datasets:  []\n",
      "annotations imgids:  []\n",
      "annotations bbox:  []\n",
      "\n",
      ">> ram_(animal)...\n",
      ">>>> #WARNING ram_(animal) is missing from json annotations\n",
      "annotations datasets:  []\n",
      "annotations imgids:  []\n",
      "annotations bbox:  []\n",
      "\n",
      ">> raspberry...\n",
      ">>>> #WARNING raspberry is missing from json annotations\n",
      "annotations datasets:  []\n",
      "annotations imgids:  []\n",
      "annotations bbox:  []\n",
      "\n",
      ">> rat...\n",
      "TAO\n"
     ]
    },
    {
     "name": "stderr",
     "output_type": "stream",
     "text": [
      " 74%|████████████████████████████████████████████████████████▏                   | 933/1261 [04:10<02:26,  2.23it/s]"
     ]
    },
    {
     "name": "stdout",
     "output_type": "stream",
     "text": [
      "\n",
      ">> razorblade...\n",
      ">>>> #WARNING razorblade is missing from json annotations\n",
      "annotations datasets:  []\n",
      "annotations imgids:  []\n",
      "annotations bbox:  []\n",
      "\n",
      ">> reamer_(juicer)...\n",
      ">>>> #WARNING reamer_(juicer) is missing from json annotations\n",
      "annotations datasets:  []\n",
      "annotations imgids:  []\n",
      "annotations bbox:  []\n",
      "\n",
      ">> rearview_mirror...\n",
      ">>>> #WARNING rearview_mirror is missing from json annotations\n",
      "annotations datasets:  []\n",
      "annotations imgids:  []\n",
      "annotations bbox:  []\n",
      "\n",
      ">> receipt...\n",
      ">>>> #WARNING receipt is missing from json annotations\n",
      "annotations datasets:  []\n",
      "annotations imgids:  []\n",
      "annotations bbox:  []\n",
      "\n",
      ">> recliner...\n",
      ">>>> #WARNING recliner is missing from json annotations\n",
      "annotations datasets:  []\n",
      "annotations imgids:  []\n",
      "annotations bbox:  []\n",
      "\n",
      ">> record_player...\n",
      "TAO\n"
     ]
    },
    {
     "name": "stderr",
     "output_type": "stream",
     "text": [
      "\n",
      ">>> Finding TAO record_player...:   0%|                                                      | 0/34 [00:00<?, ?it/s]\u001b[A"
     ]
    },
    {
     "name": "stdout",
     "output_type": "stream",
     "text": [
      "[Errno 2] No such file or directory: 'D:/external_datasets/TAO/TAO_DIR/frames/val/AVA/lWXhqIAvarw_scene_1_13798-14930/frame1001.jpg'\n"
     ]
    },
    {
     "name": "stderr",
     "output_type": "stream",
     "text": [
      "\n",
      " 74%|████████████████████████████████████████████████████████▌                   | 939/1261 [04:12<02:01,  2.64it/s]\n",
      ">>> Finding TAO remote_control...:   0%|                                                    | 0/200 [00:00<?, ?it/s]\u001b[A"
     ]
    },
    {
     "name": "stdout",
     "output_type": "stream",
     "text": [
      "\n",
      ">> red_cabbage...\n",
      ">>>> #WARNING red_cabbage is missing from json annotations\n",
      "annotations datasets:  []\n",
      "annotations imgids:  []\n",
      "annotations bbox:  []\n",
      "\n",
      ">> reflector...\n",
      ">>>> #WARNING reflector is missing from json annotations\n",
      "annotations datasets:  []\n",
      "annotations imgids:  []\n",
      "annotations bbox:  []\n",
      "\n",
      ">> remote_control...\n",
      "TAO\n",
      "[Errno 2] No such file or directory: 'D:/external_datasets/TAO/TAO_DIR/frames/val/Charades/OU3HS/frame1081.jpg'\n"
     ]
    },
    {
     "name": "stderr",
     "output_type": "stream",
     "text": [
      ">>> Finding TAO remote_control...:   0%|                                                    | 0/200 [00:00<?, ?it/s]\n",
      " 75%|████████████████████████████████████████████████████████▊                   | 942/1261 [04:13<01:53,  2.81it/s]"
     ]
    },
    {
     "name": "stdout",
     "output_type": "stream",
     "text": [
      "\n",
      ">> rhinoceros...\n",
      "TAO\n"
     ]
    },
    {
     "name": "stderr",
     "output_type": "stream",
     "text": [
      " 75%|████████████████████████████████████████████████████████▊                   | 943/1261 [04:13<02:38,  2.01it/s]"
     ]
    },
    {
     "name": "stdout",
     "output_type": "stream",
     "text": [
      "\n",
      ">> rib_(food)...\n",
      ">>>> #WARNING rib_(food) is missing from json annotations\n",
      "annotations datasets:  []\n",
      "annotations imgids:  []\n",
      "annotations bbox:  []\n",
      "\n",
      ">> rifle...\n",
      "TAO\n"
     ]
    },
    {
     "name": "stderr",
     "output_type": "stream",
     "text": [
      " 75%|████████████████████████████████████████████████████████▉                   | 945/1261 [04:14<02:27,  2.15it/s]\n",
      ">>> Finding TAO saddle_blanket...:   0%|                                                     | 0/30 [00:00<?, ?it/s]\u001b[A"
     ]
    },
    {
     "name": "stdout",
     "output_type": "stream",
     "text": [
      "\n",
      ">> ring...\n",
      ">>>> #WARNING ring is missing from json annotations\n",
      "annotations datasets:  []\n",
      "annotations imgids:  []\n",
      "annotations bbox:  []\n",
      "\n",
      ">> river_boat...\n",
      ">>>> #WARNING river_boat is missing from json annotations\n",
      "annotations datasets:  []\n",
      "annotations imgids:  []\n",
      "annotations bbox:  []\n",
      "\n",
      ">> road_map...\n",
      ">>>> #WARNING road_map is missing from json annotations\n",
      "annotations datasets:  []\n",
      "annotations imgids:  []\n",
      "annotations bbox:  []\n",
      "\n",
      ">> robe...\n",
      ">>>> #WARNING robe is missing from json annotations\n",
      "annotations datasets:  []\n",
      "annotations imgids:  []\n",
      "annotations bbox:  []\n",
      "\n",
      ">> rocking_chair...\n",
      ">>>> #WARNING rocking_chair is missing from json annotations\n",
      "annotations datasets:  []\n",
      "annotations imgids:  []\n",
      "annotations bbox:  []\n",
      "\n",
      ">> roller_skate...\n",
      ">>>> #WARNING roller_skate is missing from json annotations\n",
      "annotations datasets:  []\n",
      "annotations imgids:  []\n",
      "annotations bbox:  []\n",
      "\n",
      ">> Rollerblade...\n",
      ">>>> #WARNING Rollerblade is missing from json annotations\n",
      "annotations datasets:  []\n",
      "annotations imgids:  []\n",
      "annotations bbox:  []\n",
      "\n",
      ">> rolling_pin...\n",
      ">>>> #WARNING rolling_pin is missing from json annotations\n",
      "annotations datasets:  []\n",
      "annotations imgids:  []\n",
      "annotations bbox:  []\n",
      "\n",
      ">> root_beer...\n",
      ">>>> #WARNING root_beer is missing from json annotations\n",
      "annotations datasets:  []\n",
      "annotations imgids:  []\n",
      "annotations bbox:  []\n",
      "\n",
      ">> router_(computer_equipment)...\n",
      ">>>> #WARNING router_(computer_equipment) is missing from json annotations\n",
      "annotations datasets:  []\n",
      "annotations imgids:  []\n",
      "annotations bbox:  []\n",
      "\n",
      ">> rubber_band...\n",
      ">>>> #WARNING rubber_band is missing from json annotations\n",
      "annotations datasets:  []\n",
      "annotations imgids:  []\n",
      "annotations bbox:  []\n",
      "\n",
      ">> runner_(carpet)...\n",
      ">>>> #WARNING runner_(carpet) is missing from json annotations\n",
      "annotations datasets:  []\n",
      "annotations imgids:  []\n",
      "annotations bbox:  []\n",
      "\n",
      ">> plastic_bag...\n",
      ">>>> #WARNING plastic_bag is missing from json annotations\n",
      "annotations datasets:  []\n",
      "annotations imgids:  []\n",
      "annotations bbox:  []\n",
      "\n",
      ">> saddle_(on_an_animal)...\n",
      ">>>> #WARNING saddle_(on_an_animal) is missing from json annotations\n",
      "annotations datasets:  []\n",
      "annotations imgids:  []\n",
      "annotations bbox:  []\n",
      "\n",
      ">> saddle_blanket...\n",
      "TAO\n",
      "[Errno 2] No such file or directory: 'D:/external_datasets/TAO/TAO_DIR/frames/train/HACS/Horseback_riding_v_vbQwxMme5yk_scene_0_160-5299/frame1141.jpg'\n"
     ]
    },
    {
     "name": "stderr",
     "output_type": "stream",
     "text": [
      ">>> Finding TAO saddle_blanket...:   3%|█▌                                           | 1/30 [00:00<00:01, 17.17it/s]\n",
      "\n",
      ">>> Finding TAO saddle_blanket...:   7%|███                                          | 2/30 [00:00<00:00, 45.62it/s]\u001b[A\n",
      "\n",
      ">>> Finding TAO saddle_blanket...:   0%|                                                     | 0/30 [00:00<?, ?it/s]\u001b[A"
     ]
    },
    {
     "name": "stdout",
     "output_type": "stream",
     "text": [
      "[Errno 2] No such file or directory: 'D:/external_datasets/TAO/TAO_DIR/frames/train/HACS/Horseback_riding_v_vbQwxMme5yk_scene_0_160-5299/frame1081.jpg'\n",
      "[Errno 2] No such file or directory: 'D:/external_datasets/TAO/TAO_DIR/frames/train/HACS/Horseback_riding_v_vbQwxMme5yk_scene_0_160-5299/frame1111.jpg'\n"
     ]
    },
    {
     "name": "stderr",
     "output_type": "stream",
     "text": [
      ">>> Finding TAO saddle_blanket...:  10%|████▌                                        | 3/30 [00:00<00:00, 58.92it/s]\n",
      " 76%|█████████████████████████████████████████████████████████▊                  | 960/1261 [04:15<01:42,  2.93it/s]\n",
      ">>> Finding TAO sandal_(type_of_shoe)...:   0%|                                              | 0/60 [00:00<?, ?it/s]\u001b[A\n",
      ">>> Finding TAO sandal_(type_of_shoe)...: 100%|████████████████████████████████████| 60/60 [00:00<00:00, 355.55it/s]\u001b[A"
     ]
    },
    {
     "name": "stdout",
     "output_type": "stream",
     "text": [
      "\n",
      ">> saddlebag...\n",
      ">>>> #WARNING saddlebag is missing from json annotations\n",
      "annotations datasets:  []\n",
      "annotations imgids:  []\n",
      "annotations bbox:  []\n",
      "\n",
      ">> safety_pin...\n",
      ">>>> #WARNING safety_pin is missing from json annotations\n",
      "annotations datasets:  []\n",
      "annotations imgids:  []\n",
      "annotations bbox:  []\n",
      "\n",
      ">> sail...\n",
      ">>>> #WARNING sail is missing from json annotations\n",
      "annotations datasets:  []\n",
      "annotations imgids:  []\n",
      "annotations bbox:  []\n",
      "\n",
      ">> salad...\n",
      ">>>> #WARNING salad is missing from json annotations\n",
      "annotations datasets:  []\n",
      "annotations imgids:  []\n",
      "annotations bbox:  []\n",
      "\n",
      ">> salad_plate...\n",
      ">>>> #WARNING salad_plate is missing from json annotations\n",
      "annotations datasets:  []\n",
      "annotations imgids:  []\n",
      "annotations bbox:  []\n",
      "\n",
      ">> salami...\n",
      ">>>> #WARNING salami is missing from json annotations\n",
      "annotations datasets:  []\n",
      "annotations imgids:  []\n",
      "annotations bbox:  []\n",
      "\n",
      ">> salmon_(fish)...\n",
      ">>>> #WARNING salmon_(fish) is missing from json annotations\n",
      "annotations datasets:  []\n",
      "annotations imgids:  []\n",
      "annotations bbox:  []\n",
      "\n",
      ">> salmon_(food)...\n",
      ">>>> #WARNING salmon_(food) is missing from json annotations\n",
      "annotations datasets:  []\n",
      "annotations imgids:  []\n",
      "annotations bbox:  []\n",
      "\n",
      ">> salsa...\n",
      ">>>> #WARNING salsa is missing from json annotations\n",
      "annotations datasets:  []\n",
      "annotations imgids:  []\n",
      "annotations bbox:  []\n",
      "\n",
      ">> saltshaker...\n",
      ">>>> #WARNING saltshaker is missing from json annotations\n",
      "annotations datasets:  []\n",
      "annotations imgids:  []\n",
      "annotations bbox:  []\n",
      "\n",
      ">> sandal_(type_of_shoe)...\n",
      "TAO\n",
      "[Errno 2] No such file or directory: 'D:/external_datasets/TAO/TAO_DIR/frames/val/YFCC100M/v_5c499a3be51f27d537c8e429840e760/frame1171.jpeg'\n"
     ]
    },
    {
     "name": "stderr",
     "output_type": "stream",
     "text": [
      "\n",
      "\n",
      ">>> Finding TAO sandal_(type_of_shoe)...:   0%|                                              | 0/60 [00:00<?, ?it/s]\u001b[A\n",
      ">>> Finding TAO sandal_(type_of_shoe)...: 100%|████████████████████████████████████| 60/60 [00:00<00:00, 410.86it/s]\u001b[A\n",
      "\n",
      ">>> Finding TAO sandal_(type_of_shoe)...:   0%|                                              | 0/60 [00:00<?, ?it/s]\u001b[A"
     ]
    },
    {
     "name": "stdout",
     "output_type": "stream",
     "text": [
      ">>>> #WARNING: No file found for: TAO sandal_(type_of_shoe)...\n",
      "[Errno 2] No such file or directory: 'D:/external_datasets/TAO/TAO_DIR/frames/val/YFCC100M/v_5c499a3be51f27d537c8e429840e760/frame1261.jpeg'\n",
      ">>>> #WARNING: No file found for: TAO sandal_(type_of_shoe)...\n",
      "[Errno 2] No such file or directory: 'D:/external_datasets/TAO/TAO_DIR/frames/val/YFCC100M/v_5c499a3be51f27d537c8e429840e760/frame0811.jpeg'\n"
     ]
    },
    {
     "name": "stderr",
     "output_type": "stream",
     "text": [
      "\n",
      ">>> Finding TAO sandal_(type_of_shoe)...: 100%|████████████████████████████████████| 60/60 [00:00<00:00, 361.37it/s]\u001b[A\n",
      "\n",
      ">>> Finding TAO sandal_(type_of_shoe)...:   0%|                                              | 0/60 [00:00<?, ?it/s]\u001b[A\n",
      ">>> Finding TAO sandal_(type_of_shoe)...: 100%|████████████████████████████████████| 60/60 [00:00<00:00, 416.66it/s]\u001b[A\n",
      "\n",
      ">>> Finding TAO sandal_(type_of_shoe)...:   0%|                                              | 0/60 [00:00<?, ?it/s]\u001b[A"
     ]
    },
    {
     "name": "stdout",
     "output_type": "stream",
     "text": [
      ">>>> #WARNING: No file found for: TAO sandal_(type_of_shoe)...\n",
      "[Errno 2] No such file or directory: 'D:/external_datasets/TAO/TAO_DIR/frames/val/YFCC100M/v_5c499a3be51f27d537c8e429840e760/frame1081.jpeg'\n",
      ">>>> #WARNING: No file found for: TAO sandal_(type_of_shoe)...\n",
      "[Errno 2] No such file or directory: 'D:/external_datasets/TAO/TAO_DIR/frames/val/YFCC100M/v_5c499a3be51f27d537c8e429840e760/frame1231.jpeg'\n"
     ]
    },
    {
     "name": "stderr",
     "output_type": "stream",
     "text": [
      "\n",
      ">>> Finding TAO sandal_(type_of_shoe)...: 100%|████████████████████████████████████| 60/60 [00:00<00:00, 410.96it/s]\u001b[A\n",
      " 77%|██████████████████████████████████████████████████████████▌                 | 971/1261 [04:16<01:15,  3.83it/s]"
     ]
    },
    {
     "name": "stdout",
     "output_type": "stream",
     "text": [
      ">>>> #WARNING: No file found for: TAO sandal_(type_of_shoe)...\n",
      "\n",
      ">> satchel...\n",
      ">>>> #WARNING satchel is missing from json annotations\n",
      "annotations datasets:  []\n",
      "annotations imgids:  []\n",
      "annotations bbox:  []\n",
      "\n",
      ">> saucepan...\n",
      ">>>> #WARNING saucepan is missing from json annotations\n",
      "annotations datasets:  []\n",
      "annotations imgids:  []\n",
      "annotations bbox:  []\n",
      "\n",
      ">> saucer...\n",
      ">>>> #WARNING saucer is missing from json annotations\n",
      "annotations datasets:  []\n",
      "annotations imgids:  []\n",
      "annotations bbox:  []\n",
      "\n",
      ">> sausage...\n",
      ">>>> #WARNING sausage is missing from json annotations\n",
      "annotations datasets:  []\n",
      "annotations imgids:  []\n",
      "annotations bbox:  []\n",
      "\n",
      ">> sawhorse...\n",
      ">>>> #WARNING sawhorse is missing from json annotations\n",
      "annotations datasets:  []\n",
      "annotations imgids:  []\n",
      "annotations bbox:  []\n",
      "\n",
      ">> saxophone...\n",
      "TAO\n"
     ]
    },
    {
     "name": "stderr",
     "output_type": "stream",
     "text": [
      " 77%|██████████████████████████████████████████████████████████▉                 | 977/1261 [04:17<01:03,  4.46it/s]"
     ]
    },
    {
     "name": "stdout",
     "output_type": "stream",
     "text": [
      "\n",
      ">> scale_(measuring_instrument)...\n",
      ">>>> #WARNING scale_(measuring_instrument) is missing from json annotations\n",
      "annotations datasets:  []\n",
      "annotations imgids:  []\n",
      "annotations bbox:  []\n",
      "\n",
      ">> scarecrow...\n",
      ">>>> #WARNING scarecrow is missing from json annotations\n",
      "annotations datasets:  []\n",
      "annotations imgids:  []\n",
      "annotations bbox:  []\n",
      "\n",
      ">> scarf...\n",
      ">>>> #WARNING scarf is missing from json annotations\n",
      "annotations datasets:  []\n",
      "annotations imgids:  []\n",
      "annotations bbox:  []\n",
      "\n",
      ">> school_bus...\n",
      "TAO\n"
     ]
    },
    {
     "name": "stderr",
     "output_type": "stream",
     "text": [
      " 78%|███████████████████████████████████████████████████████████                 | 981/1261 [04:17<01:02,  4.48it/s]\n",
      ">>> Finding TAO scoreboard...: 100%|███████████████████████████████████████████████| 14/14 [00:00<00:00, 592.89it/s]\u001b[A\n",
      "\n",
      ">>> Finding TAO scoreboard...: 100%|███████████████████████████████████████████████| 14/14 [00:00<00:00, 666.93it/s]\u001b[A\n",
      "\n",
      ">>> Finding TAO scoreboard...: 100%|███████████████████████████████████████████████| 14/14 [00:00<00:00, 666.44it/s]\u001b[A\n",
      "\n",
      ">>> Finding TAO scoreboard...: 100%|███████████████████████████████████████████████| 14/14 [00:00<00:00, 608.72it/s]\u001b[A\n",
      "\n",
      ">>> Finding TAO scoreboard...: 100%|███████████████████████████████████████████████| 14/14 [00:00<00:00, 666.77it/s]\u001b[A\n",
      " 78%|███████████████████████████████████████████████████████████▏                | 982/1261 [04:18<00:57,  4.85it/s]"
     ]
    },
    {
     "name": "stdout",
     "output_type": "stream",
     "text": [
      "\n",
      ">> scoreboard...\n",
      "TAO\n",
      "[Errno 2] No such file or directory: 'D:/external_datasets/TAO/TAO_DIR/frames/train/YFCC100M/v_ae4c865e2aff9a1fd3435ac885b45c/frame0211.jpeg'\n",
      ">>>> #WARNING: No file found for: TAO scoreboard...\n",
      "[Errno 2] No such file or directory: 'D:/external_datasets/TAO/TAO_DIR/frames/train/YFCC100M/v_ae4c865e2aff9a1fd3435ac885b45c/frame0601.jpeg'\n",
      ">>>> #WARNING: No file found for: TAO scoreboard...\n",
      "[Errno 2] No such file or directory: 'D:/external_datasets/TAO/TAO_DIR/frames/train/YFCC100M/v_ae4c865e2aff9a1fd3435ac885b45c/frame1111.jpeg'\n",
      ">>>> #WARNING: No file found for: TAO scoreboard...\n",
      "[Errno 2] No such file or directory: 'D:/external_datasets/TAO/TAO_DIR/frames/train/YFCC100M/v_ae4c865e2aff9a1fd3435ac885b45c/frame0451.jpeg'\n",
      ">>>> #WARNING: No file found for: TAO scoreboard...\n",
      "[Errno 2] No such file or directory: 'D:/external_datasets/TAO/TAO_DIR/frames/train/YFCC100M/v_ae4c865e2aff9a1fd3435ac885b45c/frame0361.jpeg'\n",
      ">>>> #WARNING: No file found for: TAO scoreboard...\n",
      "\n",
      ">> scrambled_eggs...\n",
      ">>>> #WARNING scrambled_eggs is missing from json annotations\n",
      "annotations datasets:  []\n",
      "annotations imgids:  []\n",
      "annotations bbox:  []\n",
      "\n",
      ">> scraper...\n",
      "TAO\n"
     ]
    },
    {
     "name": "stderr",
     "output_type": "stream",
     "text": [
      "\n",
      ">>> Finding TAO scraper...:   0%|                                                           | 0/107 [00:00<?, ?it/s]\u001b[A\n",
      " 78%|███████████████████████████████████████████████████████████▎                | 984/1261 [04:18<01:08,  4.04it/s]"
     ]
    },
    {
     "name": "stdout",
     "output_type": "stream",
     "text": [
      "[Errno 2] No such file or directory: 'D:/external_datasets/TAO/TAO_DIR/frames/val/HACS/Plastering_v_RfoNQwyqvr8_scene_0_18-5165/frame1171.jpg'\n",
      "\n",
      ">> scratcher...\n",
      ">>>> #WARNING scratcher is missing from json annotations\n",
      "annotations datasets:  []\n",
      "annotations imgids:  []\n",
      "annotations bbox:  []\n",
      "\n",
      ">> screwdriver...\n",
      "TAO\n"
     ]
    },
    {
     "name": "stderr",
     "output_type": "stream",
     "text": [
      " 78%|███████████████████████████████████████████████████████████▍                | 986/1261 [04:19<01:06,  4.12it/s]\n",
      ">>> Finding TAO scrubbing_brush...:   0%|                                                   | 0/120 [00:00<?, ?it/s]\u001b[A\n"
     ]
    },
    {
     "name": "stdout",
     "output_type": "stream",
     "text": [
      "\n",
      ">> scrubbing_brush...\n",
      "TAO\n",
      "[Errno 2] No such file or directory: 'D:/external_datasets/TAO/TAO_DIR/frames/val/YFCC100M/v_2679deb09deb203ccb68dd832ac6572/frame0931.jpeg'\n"
     ]
    },
    {
     "name": "stderr",
     "output_type": "stream",
     "text": [
      " 78%|███████████████████████████████████████████████████████████▍                | 987/1261 [04:20<02:11,  2.08it/s]"
     ]
    },
    {
     "name": "stdout",
     "output_type": "stream",
     "text": [
      "\n",
      ">> sculpture...\n",
      "TAO\n"
     ]
    },
    {
     "name": "stderr",
     "output_type": "stream",
     "text": [
      " 78%|███████████████████████████████████████████████████████████▌                | 988/1261 [04:21<02:35,  1.76it/s]"
     ]
    },
    {
     "name": "stdout",
     "output_type": "stream",
     "text": [
      "\n",
      ">> seabird...\n",
      ">>>> #WARNING seabird is missing from json annotations\n",
      "annotations datasets:  []\n",
      "annotations imgids:  []\n",
      "annotations bbox:  []\n",
      "\n",
      ">> seahorse...\n",
      ">>>> #WARNING seahorse is missing from json annotations\n",
      "annotations datasets:  []\n",
      "annotations imgids:  []\n",
      "annotations bbox:  []\n",
      "\n",
      ">> seaplane...\n",
      ">>>> #WARNING seaplane is missing from json annotations\n",
      "annotations datasets:  []\n",
      "annotations imgids:  []\n",
      "annotations bbox:  []\n",
      "\n",
      ">> seashell...\n",
      ">>>> #WARNING seashell is missing from json annotations\n",
      "annotations datasets:  []\n",
      "annotations imgids:  []\n",
      "annotations bbox:  []\n",
      "\n",
      ">> seedling...\n",
      ">>>> #WARNING seedling is missing from json annotations\n",
      "annotations datasets:  []\n",
      "annotations imgids:  []\n",
      "annotations bbox:  []\n",
      "\n",
      ">> serving_dish...\n",
      ">>>> #WARNING serving_dish is missing from json annotations\n",
      "annotations datasets:  []\n",
      "annotations imgids:  []\n",
      "annotations bbox:  []\n",
      "\n",
      ">> sewing_machine...\n",
      ">>>> #WARNING sewing_machine is missing from json annotations\n",
      "annotations datasets:  []\n",
      "annotations imgids:  []\n",
      "annotations bbox:  []\n",
      "\n",
      ">> shaker...\n",
      "TAO\n"
     ]
    },
    {
     "name": "stderr",
     "output_type": "stream",
     "text": [
      " 79%|████████████████████████████████████████████████████████████                | 996/1261 [04:21<01:53,  2.34it/s]"
     ]
    },
    {
     "name": "stdout",
     "output_type": "stream",
     "text": [
      "\n",
      ">> shampoo...\n",
      "TAO\n"
     ]
    },
    {
     "name": "stderr",
     "output_type": "stream",
     "text": [
      " 79%|████████████████████████████████████████████████████████████                | 997/1261 [04:22<02:18,  1.90it/s]"
     ]
    },
    {
     "name": "stdout",
     "output_type": "stream",
     "text": [
      "\n",
      ">> shark...\n",
      "TAO\n"
     ]
    },
    {
     "name": "stderr",
     "output_type": "stream",
     "text": [
      " 79%|████████████████████████████████████████████████████████████▏               | 998/1261 [04:23<02:33,  1.71it/s]"
     ]
    },
    {
     "name": "stdout",
     "output_type": "stream",
     "text": [
      "\n",
      ">> sharpener...\n",
      ">>>> #WARNING sharpener is missing from json annotations\n",
      "annotations datasets:  []\n",
      "annotations imgids:  []\n",
      "annotations bbox:  []\n",
      "\n",
      ">> Sharpie...\n",
      ">>>> #WARNING Sharpie is missing from json annotations\n",
      "annotations datasets:  []\n",
      "annotations imgids:  []\n",
      "annotations bbox:  []\n",
      "\n",
      ">> shaver_(electric)...\n",
      "TAO\n"
     ]
    },
    {
     "name": "stderr",
     "output_type": "stream",
     "text": [
      "\n",
      ">>> Finding TAO shaver_(electric)...:   0%|                                                  | 0/33 [00:00<?, ?it/s]\u001b[A"
     ]
    },
    {
     "name": "stdout",
     "output_type": "stream",
     "text": [
      "[Errno 2] No such file or directory: 'D:/external_datasets/TAO/TAO_DIR/frames/train/HACS/Getting_a_haircut_v_aboKQqtoowA_scene_0_0-4543/frame1016.jpg'\n"
     ]
    },
    {
     "name": "stderr",
     "output_type": "stream",
     "text": [
      "\n",
      " 79%|███████████████████████████████████████████████████████████▌               | 1001/1261 [04:24<02:08,  2.03it/s]"
     ]
    },
    {
     "name": "stdout",
     "output_type": "stream",
     "text": [
      "\n",
      ">> shaving_cream...\n",
      ">>>> #WARNING shaving_cream is missing from json annotations\n",
      "annotations datasets:  []\n",
      "annotations imgids:  []\n",
      "annotations bbox:  []\n",
      "\n",
      ">> shawl...\n",
      "TAO\n"
     ]
    },
    {
     "name": "stderr",
     "output_type": "stream",
     "text": [
      " 80%|███████████████████████████████████████████████████████████▋               | 1003/1261 [04:24<01:57,  2.19it/s]\n",
      ">>> Finding TAO shears...:   0%|                                                             | 0/22 [00:00<?, ?it/s]\u001b[A\n"
     ]
    },
    {
     "name": "stdout",
     "output_type": "stream",
     "text": [
      "\n",
      ">> shears...\n",
      "TAO\n",
      "[Errno 2] No such file or directory: 'D:/external_datasets/TAO/TAO_DIR/frames/train/HACS/Clipping_cat_claws_v_1mPd_3N5gNQ/frame1101.jpg'\n"
     ]
    },
    {
     "name": "stderr",
     "output_type": "stream",
     "text": [
      "\n",
      ">>> Finding TAO shears...:   5%|██▍                                                  | 1/22 [00:00<00:01, 17.84it/s]\u001b[A\n",
      "\n",
      ">>> Finding TAO shears...:   0%|                                                             | 0/22 [00:00<?, ?it/s]\u001b[A"
     ]
    },
    {
     "name": "stdout",
     "output_type": "stream",
     "text": [
      "[Errno 2] No such file or directory: 'D:/external_datasets/TAO/TAO_DIR/frames/train/HACS/Clipping_cat_claws_v_1mPd_3N5gNQ/frame1351.jpg'\n",
      "[Errno 2] No such file or directory: 'D:/external_datasets/TAO/TAO_DIR/frames/train/HACS/Clipping_cat_claws_v_1mPd_3N5gNQ/frame1401.jpg'\n"
     ]
    },
    {
     "name": "stderr",
     "output_type": "stream",
     "text": [
      ">>> Finding TAO shears...:  18%|█████████▋                                           | 4/22 [00:00<00:00, 53.46it/s]\n",
      " 80%|███████████████████████████████████████████████████████████▋               | 1004/1261 [04:25<02:24,  1.77it/s]"
     ]
    },
    {
     "name": "stdout",
     "output_type": "stream",
     "text": [
      "\n",
      ">> shepherd_dog...\n",
      ">>>> #WARNING shepherd_dog is missing from json annotations\n",
      "annotations datasets:  []\n",
      "annotations imgids:  []\n",
      "annotations bbox:  []\n",
      "\n",
      ">> sherbert...\n",
      ">>>> #WARNING sherbert is missing from json annotations\n",
      "annotations datasets:  []\n",
      "annotations imgids:  []\n",
      "annotations bbox:  []\n",
      "\n",
      ">> shield...\n",
      ">>>> #WARNING shield is missing from json annotations\n",
      "annotations datasets:  []\n",
      "annotations imgids:  []\n",
      "annotations bbox:  []\n",
      "\n",
      ">> shirt...\n",
      "TAO\n",
      "[Errno 2] No such file or directory: 'D:/external_datasets/TAO/TAO_DIR/frames/val/Charades/LRTNA/frame0991.jpg'\n"
     ]
    },
    {
     "name": "stderr",
     "output_type": "stream",
     "text": [
      "\n",
      ">>> Finding TAO shirt...:   0%|                                                             | 0/303 [00:00<?, ?it/s]\u001b[A\n",
      " 80%|███████████████████████████████████████████████████████████▉               | 1008/1261 [04:26<01:56,  2.18it/s]\n",
      ">>> Finding TAO shoe...:   0%|                                                              | 0/310 [00:00<?, ?it/s]\u001b[A\n"
     ]
    },
    {
     "name": "stdout",
     "output_type": "stream",
     "text": [
      "\n",
      ">> shoe...\n",
      "TAO\n",
      "[Errno 2] No such file or directory: 'D:/external_datasets/TAO/TAO_DIR/frames/val/HACS/Cleaning_shoes_v_2XkKhZrXrm4/frame1101.jpg'\n"
     ]
    },
    {
     "name": "stderr",
     "output_type": "stream",
     "text": [
      "\n",
      ">>> Finding TAO shoe...:   0%|▏                                                     | 1/310 [00:00<00:04, 66.91it/s]\u001b[A\n"
     ]
    },
    {
     "name": "stdout",
     "output_type": "stream",
     "text": [
      "[Errno 2] No such file or directory: 'D:/external_datasets/TAO/TAO_DIR/frames/val/HACS/Cleaning_shoes_v_VP7ylaGyR_I_scene_0_750-5302/frame1141.jpg'\n"
     ]
    },
    {
     "name": "stderr",
     "output_type": "stream",
     "text": [
      " 80%|████████████████████████████████████████████████████████████               | 1009/1261 [04:27<02:23,  1.75it/s]"
     ]
    },
    {
     "name": "stdout",
     "output_type": "stream",
     "text": [
      "\n",
      ">> shopping_bag...\n",
      ">>>> #WARNING shopping_bag is missing from json annotations\n",
      "annotations datasets:  []\n",
      "annotations imgids:  []\n",
      "annotations bbox:  []\n",
      "\n",
      ">> shopping_cart...\n",
      ">>>> #WARNING shopping_cart is missing from json annotations\n",
      "annotations datasets:  []\n",
      "annotations imgids:  []\n",
      "annotations bbox:  []\n",
      "\n",
      ">> short_pants...\n",
      "TAO\n"
     ]
    },
    {
     "name": "stderr",
     "output_type": "stream",
     "text": [
      " 80%|████████████████████████████████████████████████████████████▏              | 1012/1261 [04:27<01:53,  2.19it/s]\n",
      ">>> Finding TAO shoulder_bag...:   0%|                                                       | 0/81 [00:00<?, ?it/s]\u001b[A"
     ]
    },
    {
     "name": "stdout",
     "output_type": "stream",
     "text": [
      "\n",
      ">> shot_glass...\n",
      ">>>> #WARNING shot_glass is missing from json annotations\n",
      "annotations datasets:  []\n",
      "annotations imgids:  []\n",
      "annotations bbox:  []\n",
      "\n",
      ">> shoulder_bag...\n",
      "TAO\n",
      "[Errno 2] No such file or directory: 'D:/external_datasets/TAO/TAO_DIR/frames/val/AVA/keUOiCcHtoQ_scene_14_63540-65746/frame1476.jpg'\n"
     ]
    },
    {
     "name": "stderr",
     "output_type": "stream",
     "text": [
      ">>> Finding TAO shoulder_bag...:   0%|                                                       | 0/81 [00:00<?, ?it/s]\n",
      " 80%|████████████████████████████████████████████████████████████▎              | 1014/1261 [04:29<02:02,  2.01it/s]"
     ]
    },
    {
     "name": "stdout",
     "output_type": "stream",
     "text": [
      "\n",
      ">> shovel...\n",
      "TAO\n"
     ]
    },
    {
     "name": "stderr",
     "output_type": "stream",
     "text": [
      " 80%|████████████████████████████████████████████████████████████▎              | 1015/1261 [04:29<02:24,  1.70it/s]"
     ]
    },
    {
     "name": "stdout",
     "output_type": "stream",
     "text": [
      "\n",
      ">> shower_head...\n",
      ">>>> #WARNING shower_head is missing from json annotations\n",
      "annotations datasets:  []\n",
      "annotations imgids:  []\n",
      "annotations bbox:  []\n",
      "\n",
      ">> shower_curtain...\n",
      ">>>> #WARNING shower_curtain is missing from json annotations\n",
      "annotations datasets:  []\n",
      "annotations imgids:  []\n",
      "annotations bbox:  []\n",
      "\n",
      ">> shredder_(for_paper)...\n",
      ">>>> #WARNING shredder_(for_paper) is missing from json annotations\n",
      "annotations datasets:  []\n",
      "annotations imgids:  []\n",
      "annotations bbox:  []\n",
      "\n",
      ">> sieve...\n",
      "TAO\n"
     ]
    },
    {
     "name": "stderr",
     "output_type": "stream",
     "text": [
      " 81%|████████████████████████████████████████████████████████████▌              | 1019/1261 [04:30<01:55,  2.10it/s]"
     ]
    },
    {
     "name": "stdout",
     "output_type": "stream",
     "text": [
      "\n",
      ">> signboard...\n",
      ">>>> #WARNING signboard is missing from json annotations\n",
      "annotations datasets:  []\n",
      "annotations imgids:  []\n",
      "annotations bbox:  []\n",
      "\n",
      ">> silo...\n",
      ">>>> #WARNING silo is missing from json annotations\n",
      "annotations datasets:  []\n",
      "annotations imgids:  []\n",
      "annotations bbox:  []\n",
      "\n",
      ">> skewer...\n",
      ">>>> #WARNING skewer is missing from json annotations\n",
      "annotations datasets:  []\n",
      "annotations imgids:  []\n",
      "annotations bbox:  []\n",
      "\n",
      ">> ski...\n",
      "TAO\n"
     ]
    },
    {
     "name": "stderr",
     "output_type": "stream",
     "text": [
      " 81%|████████████████████████████████████████████████████████████▊              | 1023/1261 [04:31<01:34,  2.52it/s]"
     ]
    },
    {
     "name": "stdout",
     "output_type": "stream",
     "text": [
      "\n",
      ">> ski_boot...\n",
      ">>>> #WARNING ski_boot is missing from json annotations\n",
      "annotations datasets:  []\n",
      "annotations imgids:  []\n",
      "annotations bbox:  []\n",
      "\n",
      ">> ski_parka...\n",
      ">>>> #WARNING ski_parka is missing from json annotations\n",
      "annotations datasets:  []\n",
      "annotations imgids:  []\n",
      "annotations bbox:  []\n",
      "\n",
      ">> ski_pole...\n",
      "TAO\n"
     ]
    },
    {
     "name": "stderr",
     "output_type": "stream",
     "text": [
      "\n",
      ">>> Finding TAO ski_pole...:   3%|█▊                                                 | 1/29 [00:00<00:00, 50.00it/s]\u001b[A"
     ]
    },
    {
     "name": "stdout",
     "output_type": "stream",
     "text": [
      "[Errno 2] No such file or directory: 'D:/external_datasets/TAO/TAO_DIR/frames/train/HACS/Skiing_v_HtaNMyVa260_scene_0_99-1308/frame1051.jpg'\n"
     ]
    },
    {
     "name": "stderr",
     "output_type": "stream",
     "text": [
      "\n",
      " 81%|█████████████████████████████████████████████████████████████              | 1026/1261 [04:32<01:22,  2.84it/s]"
     ]
    },
    {
     "name": "stdout",
     "output_type": "stream",
     "text": [
      "\n",
      ">> skirt...\n",
      "TAO\n"
     ]
    },
    {
     "name": "stderr",
     "output_type": "stream",
     "text": [
      " 81%|█████████████████████████████████████████████████████████████              | 1027/1261 [04:33<02:01,  1.92it/s]"
     ]
    },
    {
     "name": "stdout",
     "output_type": "stream",
     "text": [
      "\n",
      ">> sled...\n",
      "TAO\n"
     ]
    },
    {
     "name": "stderr",
     "output_type": "stream",
     "text": [
      " 82%|█████████████████████████████████████████████████████████████▏             | 1028/1261 [04:34<02:23,  1.62it/s]"
     ]
    },
    {
     "name": "stdout",
     "output_type": "stream",
     "text": [
      "\n",
      ">> sleeping_bag...\n",
      ">>>> #WARNING sleeping_bag is missing from json annotations\n",
      "annotations datasets:  []\n",
      "annotations imgids:  []\n",
      "annotations bbox:  []\n",
      "\n",
      ">> sling_(bandage)...\n",
      ">>>> #WARNING sling_(bandage) is missing from json annotations\n",
      "annotations datasets:  []\n",
      "annotations imgids:  []\n",
      "annotations bbox:  []\n",
      "\n",
      ">> slipper_(footwear)...\n",
      "TAO\n"
     ]
    },
    {
     "name": "stderr",
     "output_type": "stream",
     "text": [
      " 82%|█████████████████████████████████████████████████████████████▎             | 1031/1261 [04:35<01:59,  1.93it/s]"
     ]
    },
    {
     "name": "stdout",
     "output_type": "stream",
     "text": [
      "\n",
      ">> smoothie...\n",
      ">>>> #WARNING smoothie is missing from json annotations\n",
      "annotations datasets:  []\n",
      "annotations imgids:  []\n",
      "annotations bbox:  []\n",
      "\n",
      ">> snake...\n",
      ">>>> #WARNING snake is missing from json annotations\n",
      "annotations datasets:  []\n",
      "annotations imgids:  []\n",
      "annotations bbox:  []\n",
      "\n",
      ">> snowman...\n",
      ">>>> #WARNING snowman is missing from json annotations\n",
      "annotations datasets:  []\n",
      "annotations imgids:  []\n",
      "annotations bbox:  []\n",
      "\n",
      ">> snowmobile...\n",
      ">>>> #WARNING snowmobile is missing from json annotations\n",
      "annotations datasets:  []\n",
      "annotations imgids:  []\n",
      "annotations bbox:  []\n",
      "\n",
      ">> soap...\n",
      "TAO\n"
     ]
    },
    {
     "name": "stderr",
     "output_type": "stream",
     "text": [
      " 82%|█████████████████████████████████████████████████████████████▌             | 1036/1261 [04:35<01:30,  2.48it/s]"
     ]
    },
    {
     "name": "stdout",
     "output_type": "stream",
     "text": [
      "\n",
      ">> soccer_ball...\n",
      ">>>> #WARNING soccer_ball is missing from json annotations\n",
      "annotations datasets:  []\n",
      "annotations imgids:  []\n",
      "annotations bbox:  []\n",
      "\n",
      ">> sock...\n",
      ">>>> #WARNING sock is missing from json annotations\n",
      "annotations datasets:  []\n",
      "annotations imgids:  []\n",
      "annotations bbox:  []\n",
      "\n",
      ">> soda_fountain...\n",
      ">>>> #WARNING soda_fountain is missing from json annotations\n",
      "annotations datasets:  []\n",
      "annotations imgids:  []\n",
      "annotations bbox:  []\n",
      "\n",
      ">> carbonated_water...\n",
      ">>>> #WARNING carbonated_water is missing from json annotations\n",
      "annotations datasets:  []\n",
      "annotations imgids:  []\n",
      "annotations bbox:  []\n",
      "\n",
      ">> sofa...\n",
      "TAO\n"
     ]
    },
    {
     "name": "stderr",
     "output_type": "stream",
     "text": [
      " 83%|█████████████████████████████████████████████████████████████▉             | 1041/1261 [04:36<01:12,  3.03it/s]\n",
      ">>> Finding TAO spatula...:   0%|                                                           | 0/201 [00:00<?, ?it/s]\u001b[A\n"
     ]
    },
    {
     "name": "stdout",
     "output_type": "stream",
     "text": [
      "\n",
      ">> softball...\n",
      ">>>> #WARNING softball is missing from json annotations\n",
      "annotations datasets:  []\n",
      "annotations imgids:  []\n",
      "annotations bbox:  []\n",
      "\n",
      ">> solar_array...\n",
      ">>>> #WARNING solar_array is missing from json annotations\n",
      "annotations datasets:  []\n",
      "annotations imgids:  []\n",
      "annotations bbox:  []\n",
      "\n",
      ">> sombrero...\n",
      ">>>> #WARNING sombrero is missing from json annotations\n",
      "annotations datasets:  []\n",
      "annotations imgids:  []\n",
      "annotations bbox:  []\n",
      "\n",
      ">> soup...\n",
      ">>>> #WARNING soup is missing from json annotations\n",
      "annotations datasets:  []\n",
      "annotations imgids:  []\n",
      "annotations bbox:  []\n",
      "\n",
      ">> soup_bowl...\n",
      ">>>> #WARNING soup_bowl is missing from json annotations\n",
      "annotations datasets:  []\n",
      "annotations imgids:  []\n",
      "annotations bbox:  []\n",
      "\n",
      ">> soupspoon...\n",
      ">>>> #WARNING soupspoon is missing from json annotations\n",
      "annotations datasets:  []\n",
      "annotations imgids:  []\n",
      "annotations bbox:  []\n",
      "\n",
      ">> sour_cream...\n",
      ">>>> #WARNING sour_cream is missing from json annotations\n",
      "annotations datasets:  []\n",
      "annotations imgids:  []\n",
      "annotations bbox:  []\n",
      "\n",
      ">> soya_milk...\n",
      ">>>> #WARNING soya_milk is missing from json annotations\n",
      "annotations datasets:  []\n",
      "annotations imgids:  []\n",
      "annotations bbox:  []\n",
      "\n",
      ">> space_shuttle...\n",
      ">>>> #WARNING space_shuttle is missing from json annotations\n",
      "annotations datasets:  []\n",
      "annotations imgids:  []\n",
      "annotations bbox:  []\n",
      "\n",
      ">> sparkler_(fireworks)...\n",
      ">>>> #WARNING sparkler_(fireworks) is missing from json annotations\n",
      "annotations datasets:  []\n",
      "annotations imgids:  []\n",
      "annotations bbox:  []\n",
      "\n",
      ">> spatula...\n",
      "TAO\n",
      "[Errno 2] No such file or directory: 'D:/external_datasets/TAO/TAO_DIR/frames/val/YFCC100M/v_9c29a4c4e03790d16925f984e838e4a/frame1026.jpg'\n"
     ]
    },
    {
     "name": "stderr",
     "output_type": "stream",
     "text": [
      " 83%|██████████████████████████████████████████████████████████████▌            | 1052/1261 [04:37<00:53,  3.91it/s]"
     ]
    },
    {
     "name": "stdout",
     "output_type": "stream",
     "text": [
      "\n",
      ">> spear...\n",
      ">>>> #WARNING spear is missing from json annotations\n",
      "annotations datasets:  []\n",
      "annotations imgids:  []\n",
      "annotations bbox:  []\n",
      "\n",
      ">> spectacles...\n",
      "TAO\n"
     ]
    },
    {
     "name": "stderr",
     "output_type": "stream",
     "text": [
      " 84%|██████████████████████████████████████████████████████████████▋            | 1054/1261 [04:40<02:11,  1.57it/s]"
     ]
    },
    {
     "name": "stdout",
     "output_type": "stream",
     "text": [
      "\n",
      ">> spice_rack...\n",
      ">>>> #WARNING spice_rack is missing from json annotations\n",
      "annotations datasets:  []\n",
      "annotations imgids:  []\n",
      "annotations bbox:  []\n",
      "\n",
      ">> spider...\n",
      "TAO\n"
     ]
    },
    {
     "name": "stderr",
     "output_type": "stream",
     "text": [
      " 84%|██████████████████████████████████████████████████████████████▊            | 1056/1261 [04:41<01:55,  1.77it/s]"
     ]
    },
    {
     "name": "stdout",
     "output_type": "stream",
     "text": [
      "\n",
      ">> sponge...\n",
      "TAO\n"
     ]
    },
    {
     "name": "stderr",
     "output_type": "stream",
     "text": [
      " 84%|██████████████████████████████████████████████████████████████▊            | 1057/1261 [04:41<02:07,  1.60it/s]"
     ]
    },
    {
     "name": "stdout",
     "output_type": "stream",
     "text": [
      "\n",
      ">> sportswear...\n",
      ">>>> #WARNING sportswear is missing from json annotations\n",
      "annotations datasets:  []\n",
      "annotations imgids:  []\n",
      "annotations bbox:  []\n",
      "\n",
      ">> spotlight...\n",
      ">>>> #WARNING spotlight is missing from json annotations\n",
      "annotations datasets:  []\n",
      "annotations imgids:  []\n",
      "annotations bbox:  []\n",
      "\n",
      ">> squirrel...\n",
      "TAO\n"
     ]
    },
    {
     "name": "stderr",
     "output_type": "stream",
     "text": [
      " 84%|███████████████████████████████████████████████████████████████            | 1060/1261 [04:42<01:47,  1.88it/s]"
     ]
    },
    {
     "name": "stdout",
     "output_type": "stream",
     "text": [
      "\n",
      ">> stapler_(stapling_machine)...\n",
      ">>>> #WARNING stapler_(stapling_machine) is missing from json annotations\n",
      "annotations datasets:  []\n",
      "annotations imgids:  []\n",
      "annotations bbox:  []\n",
      "\n",
      ">> starfish...\n",
      ">>>> #WARNING starfish is missing from json annotations\n",
      "annotations datasets:  []\n",
      "annotations imgids:  []\n",
      "annotations bbox:  []\n",
      "\n",
      ">> statue_(sculpture)...\n",
      "TAO\n"
     ]
    },
    {
     "name": "stderr",
     "output_type": "stream",
     "text": [
      " 84%|███████████████████████████████████████████████████████████████▏           | 1063/1261 [04:44<01:40,  1.97it/s]"
     ]
    },
    {
     "name": "stdout",
     "output_type": "stream",
     "text": [
      "\n",
      ">> steak_(food)...\n",
      ">>>> #WARNING steak_(food) is missing from json annotations\n",
      "annotations datasets:  []\n",
      "annotations imgids:  []\n",
      "annotations bbox:  []\n",
      "\n",
      ">> steak_knife...\n",
      ">>>> #WARNING steak_knife is missing from json annotations\n",
      "annotations datasets:  []\n",
      "annotations imgids:  []\n",
      "annotations bbox:  []\n",
      "\n",
      ">> steamer_(kitchen_appliance)...\n",
      ">>>> #WARNING steamer_(kitchen_appliance) is missing from json annotations\n",
      "annotations datasets:  []\n",
      "annotations imgids:  []\n",
      "annotations bbox:  []\n",
      "\n",
      ">> steering_wheel...\n",
      "TAO\n"
     ]
    },
    {
     "name": "stderr",
     "output_type": "stream",
     "text": [
      " 85%|███████████████████████████████████████████████████████████████▍           | 1067/1261 [04:45<01:26,  2.24it/s]"
     ]
    },
    {
     "name": "stdout",
     "output_type": "stream",
     "text": [
      "\n",
      ">> stencil...\n",
      ">>>> #WARNING stencil is missing from json annotations\n",
      "annotations datasets:  []\n",
      "annotations imgids:  []\n",
      "annotations bbox:  []\n",
      "\n",
      ">> stepladder...\n",
      ">>>> #WARNING stepladder is missing from json annotations\n",
      "annotations datasets:  []\n",
      "annotations imgids:  []\n",
      "annotations bbox:  []\n",
      "\n",
      ">> step_stool...\n",
      "TAO\n"
     ]
    },
    {
     "name": "stderr",
     "output_type": "stream",
     "text": [
      " 85%|███████████████████████████████████████████████████████████████▋           | 1070/1261 [04:46<01:15,  2.55it/s]"
     ]
    },
    {
     "name": "stdout",
     "output_type": "stream",
     "text": [
      "\n",
      ">> stereo_(sound_system)...\n",
      ">>>> #WARNING stereo_(sound_system) is missing from json annotations\n",
      "annotations datasets:  []\n",
      "annotations imgids:  []\n",
      "annotations bbox:  []\n",
      "\n",
      ">> stew...\n",
      ">>>> #WARNING stew is missing from json annotations\n",
      "annotations datasets:  []\n",
      "annotations imgids:  []\n",
      "annotations bbox:  []\n",
      "\n",
      ">> stirrer...\n",
      ">>>> #WARNING stirrer is missing from json annotations\n",
      "annotations datasets:  []\n",
      "annotations imgids:  []\n",
      "annotations bbox:  []\n",
      "\n",
      ">> stirrup...\n",
      ">>>> #WARNING stirrup is missing from json annotations\n",
      "annotations datasets:  []\n",
      "annotations imgids:  []\n",
      "annotations bbox:  []\n",
      "\n",
      ">> stockings_(leg_wear)...\n",
      ">>>> #WARNING stockings_(leg_wear) is missing from json annotations\n",
      "annotations datasets:  []\n",
      "annotations imgids:  []\n",
      "annotations bbox:  []\n",
      "\n",
      ">> stool...\n",
      "TAO\n"
     ]
    },
    {
     "name": "stderr",
     "output_type": "stream",
     "text": [
      " 85%|███████████████████████████████████████████████████████████████▉           | 1076/1261 [04:47<00:59,  3.09it/s]"
     ]
    },
    {
     "name": "stdout",
     "output_type": "stream",
     "text": [
      "\n",
      ">> stop_sign...\n",
      ">>>> #WARNING stop_sign is missing from json annotations\n",
      "annotations datasets:  []\n",
      "annotations imgids:  []\n",
      "annotations bbox:  []\n",
      "\n",
      ">> brake_light...\n",
      ">>>> #WARNING brake_light is missing from json annotations\n",
      "annotations datasets:  []\n",
      "annotations imgids:  []\n",
      "annotations bbox:  []\n",
      "\n",
      ">> stove...\n",
      "TAO\n"
     ]
    },
    {
     "name": "stderr",
     "output_type": "stream",
     "text": [
      " 86%|████████████████████████████████████████████████████████████████▏          | 1079/1261 [04:48<00:55,  3.26it/s]"
     ]
    },
    {
     "name": "stdout",
     "output_type": "stream",
     "text": [
      "\n",
      ">> strainer...\n",
      ">>>> #WARNING strainer is missing from json annotations\n",
      "annotations datasets:  []\n",
      "annotations imgids:  []\n",
      "annotations bbox:  []\n",
      "\n",
      ">> strap...\n",
      ">>>> #WARNING strap is missing from json annotations\n",
      "annotations datasets:  []\n",
      "annotations imgids:  []\n",
      "annotations bbox:  []\n",
      "\n",
      ">> straw_(for_drinking)...\n",
      "TAO\n"
     ]
    },
    {
     "name": "stderr",
     "output_type": "stream",
     "text": [
      " 86%|████████████████████████████████████████████████████████████████▎          | 1082/1261 [04:49<01:00,  2.94it/s]\n",
      ">>> Finding TAO street_sign...: 100%|██████████████████████████████████████████████| 16/16 [00:00<00:00, 639.28it/s]\u001b[A\n",
      "\n",
      ">>> Finding TAO street_sign...: 100%|██████████████████████████████████████████████| 16/16 [00:00<00:00, 666.23it/s]\u001b[A\n",
      "\n",
      ">>> Finding TAO street_sign...: 100%|██████████████████████████████████████████████| 16/16 [00:00<00:00, 614.90it/s]\u001b[A\n",
      "\n",
      ">>> Finding TAO street_sign...: 100%|██████████████████████████████████████████████| 16/16 [00:00<00:00, 639.26it/s]\u001b[A\n",
      "\n",
      ">>> Finding TAO street_sign...: 100%|██████████████████████████████████████████████| 16/16 [00:00<00:00, 614.67it/s]\u001b[A\n",
      " 86%|████████████████████████████████████████████████████████████████▍          | 1084/1261 [04:49<00:46,  3.83it/s]\n",
      ">>> Finding TAO sugar_bowl...:   0%|                                                         | 0/16 [00:00<?, ?it/s]\u001b[A"
     ]
    },
    {
     "name": "stdout",
     "output_type": "stream",
     "text": [
      "\n",
      ">> strawberry...\n",
      ">>>> #WARNING strawberry is missing from json annotations\n",
      "annotations datasets:  []\n",
      "annotations imgids:  []\n",
      "annotations bbox:  []\n",
      "\n",
      ">> street_sign...\n",
      "TAO\n",
      "[Errno 2] No such file or directory: 'D:/external_datasets/TAO/TAO_DIR/frames/train/ArgoVerse/side_right_a64c1df5-9ad2-3f9e-9117-83ef0f8f3072/ring_side_right_315972636024639224.jpg'\n",
      ">>>> #WARNING: No file found for: TAO street_sign...\n",
      "[Errno 2] No such file or directory: 'D:/external_datasets/TAO/TAO_DIR/frames/train/ArgoVerse/side_right_a64c1df5-9ad2-3f9e-9117-83ef0f8f3072/ring_side_right_315972635025636936.jpg'\n",
      ">>>> #WARNING: No file found for: TAO street_sign...\n",
      "[Errno 2] No such file or directory: 'D:/external_datasets/TAO/TAO_DIR/frames/train/ArgoVerse/side_right_a64c1df5-9ad2-3f9e-9117-83ef0f8f3072/ring_side_right_315972632028637208.jpg'\n",
      ">>>> #WARNING: No file found for: TAO street_sign...\n",
      "[Errno 2] No such file or directory: 'D:/external_datasets/TAO/TAO_DIR/frames/train/ArgoVerse/side_right_a64c1df5-9ad2-3f9e-9117-83ef0f8f3072/ring_side_right_315972634026636200.jpg'\n",
      ">>>> #WARNING: No file found for: TAO street_sign...\n",
      "[Errno 2] No such file or directory: 'D:/external_datasets/TAO/TAO_DIR/frames/train/ArgoVerse/side_right_a64c1df5-9ad2-3f9e-9117-83ef0f8f3072/ring_side_right_315972627033637824.jpg'\n",
      ">>>> #WARNING: No file found for: TAO street_sign...\n",
      "\n",
      ">> streetlight...\n",
      ">>>> #WARNING streetlight is missing from json annotations\n",
      "annotations datasets:  []\n",
      "annotations imgids:  []\n",
      "annotations bbox:  []\n",
      "\n",
      ">> string_cheese...\n",
      ">>>> #WARNING string_cheese is missing from json annotations\n",
      "annotations datasets:  []\n",
      "annotations imgids:  []\n",
      "annotations bbox:  []\n",
      "\n",
      ">> stylus...\n",
      ">>>> #WARNING stylus is missing from json annotations\n",
      "annotations datasets:  []\n",
      "annotations imgids:  []\n",
      "annotations bbox:  []\n",
      "\n",
      ">> subwoofer...\n",
      ">>>> #WARNING subwoofer is missing from json annotations\n",
      "annotations datasets:  []\n",
      "annotations imgids:  []\n",
      "annotations bbox:  []\n",
      "\n",
      ">> sugar_bowl...\n",
      "TAO\n",
      "[Errno 2] No such file or directory: 'D:/external_datasets/TAO/TAO_DIR/frames/val/AVA/J4bt4y9ShTA_scene_8_41065-42264/frame1051.jpg'\n"
     ]
    },
    {
     "name": "stderr",
     "output_type": "stream",
     "text": [
      ">>> Finding TAO sugar_bowl...:   0%|                                                         | 0/16 [00:00<?, ?it/s]\n",
      " 86%|████████████████████████████████████████████████████████████████▊          | 1089/1261 [04:50<00:44,  3.87it/s]"
     ]
    },
    {
     "name": "stdout",
     "output_type": "stream",
     "text": [
      "\n",
      ">> sugarcane_(plant)...\n",
      ">>>> #WARNING sugarcane_(plant) is missing from json annotations\n",
      "annotations datasets:  []\n",
      "annotations imgids:  []\n",
      "annotations bbox:  []\n",
      "\n",
      ">> suit_(clothing)...\n",
      ">>>> #WARNING suit_(clothing) is missing from json annotations\n",
      "annotations datasets:  []\n",
      "annotations imgids:  []\n",
      "annotations bbox:  []\n",
      "\n",
      ">> sunflower...\n",
      ">>>> #WARNING sunflower is missing from json annotations\n",
      "annotations datasets:  []\n",
      "annotations imgids:  []\n",
      "annotations bbox:  []\n",
      "\n",
      ">> sunglasses...\n",
      "TAO\n"
     ]
    },
    {
     "name": "stderr",
     "output_type": "stream",
     "text": [
      " 87%|█████████████████████████████████████████████████████████████████          | 1093/1261 [04:52<00:47,  3.53it/s]\n",
      ">>> Finding TAO sunscreen...: 100%|████████████████████████████████████████████████| 36/36 [00:00<00:00, 521.64it/s]\u001b[A\n",
      "\n",
      ">>> Finding TAO sunscreen...: 100%|████████████████████████████████████████████████| 36/36 [00:00<00:00, 521.49it/s]\u001b[A\n",
      "\n",
      ">>> Finding TAO sunscreen...:   0%|                                                          | 0/36 [00:00<?, ?it/s]\u001b[A"
     ]
    },
    {
     "name": "stdout",
     "output_type": "stream",
     "text": [
      "\n",
      ">> sunhat...\n",
      ">>>> #WARNING sunhat is missing from json annotations\n",
      "annotations datasets:  []\n",
      "annotations imgids:  []\n",
      "annotations bbox:  []\n",
      "\n",
      ">> sunscreen...\n",
      "TAO\n",
      "[Errno 2] No such file or directory: 'D:/external_datasets/TAO/TAO_DIR/frames/train/HACS/Applying_sunscreen_v_pI8tpZLBcFk/frame1801.jpg'\n",
      ">>>> #WARNING: No file found for: TAO sunscreen...\n",
      "[Errno 2] No such file or directory: 'D:/external_datasets/TAO/TAO_DIR/frames/train/HACS/Applying_sunscreen_v_pI8tpZLBcFk/frame1465.jpg'\n",
      ">>>> #WARNING: No file found for: TAO sunscreen...\n",
      "[Errno 2] No such file or directory: 'D:/external_datasets/TAO/TAO_DIR/frames/train/HACS/Applying_sunscreen_v_pI8tpZLBcFk/frame2329.jpg'\n"
     ]
    },
    {
     "name": "stderr",
     "output_type": "stream",
     "text": [
      ">>> Finding TAO sunscreen...: 100%|████████████████████████████████████████████████| 36/36 [00:00<00:00, 507.06it/s]\n",
      "\n",
      ">>> Finding TAO sunscreen...: 100%|████████████████████████████████████████████████| 36/36 [00:00<00:00, 514.07it/s]\u001b[A\n",
      "\n",
      ">>> Finding TAO sunscreen...: 100%|████████████████████████████████████████████████| 36/36 [00:00<00:00, 492.87it/s]\u001b[A\n",
      " 87%|█████████████████████████████████████████████████████████████████▏         | 1095/1261 [04:52<00:42,  3.87it/s]"
     ]
    },
    {
     "name": "stdout",
     "output_type": "stream",
     "text": [
      ">>>> #WARNING: No file found for: TAO sunscreen...\n",
      "[Errno 2] No such file or directory: 'D:/external_datasets/TAO/TAO_DIR/frames/train/HACS/Applying_sunscreen_v_pI8tpZLBcFk/frame1849.jpg'\n",
      ">>>> #WARNING: No file found for: TAO sunscreen...\n",
      "[Errno 2] No such file or directory: 'D:/external_datasets/TAO/TAO_DIR/frames/train/HACS/Applying_sunscreen_v_pI8tpZLBcFk/frame1729.jpg'\n",
      ">>>> #WARNING: No file found for: TAO sunscreen...\n",
      "\n",
      ">> sushi...\n",
      ">>>> #WARNING sushi is missing from json annotations\n",
      "annotations datasets:  []\n",
      "annotations imgids:  []\n",
      "annotations bbox:  []\n",
      "\n",
      ">> mop...\n",
      "TAO\n"
     ]
    },
    {
     "name": "stderr",
     "output_type": "stream",
     "text": [
      "\n",
      ">>> Finding TAO mop...:   0%|                                                                | 0/61 [00:00<?, ?it/s]\u001b[A\n",
      " 87%|█████████████████████████████████████████████████████████████████▏         | 1097/1261 [04:53<00:48,  3.36it/s]"
     ]
    },
    {
     "name": "stdout",
     "output_type": "stream",
     "text": [
      "[Errno 2] No such file or directory: 'D:/external_datasets/TAO/TAO_DIR/frames/val/HACS/Mooping_floor_v_f23CmkPr38w_scene_0_19-4664/frame1021.jpg'\n",
      "\n",
      ">> sweat_pants...\n",
      ">>>> #WARNING sweat_pants is missing from json annotations\n",
      "annotations datasets:  []\n",
      "annotations imgids:  []\n",
      "annotations bbox:  []\n",
      "\n",
      ">> sweatband...\n",
      ">>>> #WARNING sweatband is missing from json annotations\n",
      "annotations datasets:  []\n",
      "annotations imgids:  []\n",
      "annotations bbox:  []\n",
      "\n",
      ">> sweater...\n",
      "TAO\n"
     ]
    },
    {
     "name": "stderr",
     "output_type": "stream",
     "text": [
      " 87%|█████████████████████████████████████████████████████████████████▍         | 1100/1261 [04:54<00:47,  3.38it/s]"
     ]
    },
    {
     "name": "stdout",
     "output_type": "stream",
     "text": [
      "\n",
      ">> sweatshirt...\n",
      ">>>> #WARNING sweatshirt is missing from json annotations\n",
      "annotations datasets:  []\n",
      "annotations imgids:  []\n",
      "annotations bbox:  []\n",
      "\n",
      ">> sweet_potato...\n",
      ">>>> #WARNING sweet_potato is missing from json annotations\n",
      "annotations datasets:  []\n",
      "annotations imgids:  []\n",
      "annotations bbox:  []\n",
      "\n",
      ">> swimsuit...\n",
      ">>>> #WARNING swimsuit is missing from json annotations\n",
      "annotations datasets:  []\n",
      "annotations imgids:  []\n",
      "annotations bbox:  []\n",
      "\n",
      ">> sword...\n",
      "TAO\n"
     ]
    },
    {
     "name": "stderr",
     "output_type": "stream",
     "text": [
      "\n",
      ">>> Finding TAO sword...:   0%|                                                             | 0/197 [00:00<?, ?it/s]\u001b[A"
     ]
    },
    {
     "name": "stdout",
     "output_type": "stream",
     "text": [
      "[Errno 2] No such file or directory: 'D:/external_datasets/TAO/TAO_DIR/frames/val/HACS/Doing_fencing_v_91Wdp_uaWrY_scene_0_0-2161/frame0991.jpg'\n"
     ]
    },
    {
     "name": "stderr",
     "output_type": "stream",
     "text": [
      "\n",
      " 88%|█████████████████████████████████████████████████████████████████▋         | 1104/1261 [04:54<00:41,  3.77it/s]"
     ]
    },
    {
     "name": "stdout",
     "output_type": "stream",
     "text": [
      "\n",
      ">> syringe...\n",
      ">>>> #WARNING syringe is missing from json annotations\n",
      "annotations datasets:  []\n",
      "annotations imgids:  []\n",
      "annotations bbox:  []\n",
      "\n",
      ">> Tabasco_sauce...\n",
      ">>>> #WARNING Tabasco_sauce is missing from json annotations\n",
      "annotations datasets:  []\n",
      "annotations imgids:  []\n",
      "annotations bbox:  []\n",
      "\n",
      ">> table-tennis_table...\n",
      ">>>> #WARNING table-tennis_table is missing from json annotations\n",
      "annotations datasets:  []\n",
      "annotations imgids:  []\n",
      "annotations bbox:  []\n",
      "\n",
      ">> table...\n",
      ">>>> #WARNING table is missing from json annotations\n",
      "annotations datasets:  []\n",
      "annotations imgids:  []\n",
      "annotations bbox:  []\n",
      "\n",
      ">> table_lamp...\n",
      "TAO\n"
     ]
    },
    {
     "name": "stderr",
     "output_type": "stream",
     "text": [
      " 88%|█████████████████████████████████████████████████████████████████▉         | 1109/1261 [04:55<00:34,  4.38it/s]"
     ]
    },
    {
     "name": "stdout",
     "output_type": "stream",
     "text": [
      "\n",
      ">> tablecloth...\n",
      ">>>> #WARNING tablecloth is missing from json annotations\n",
      "annotations datasets:  []\n",
      "annotations imgids:  []\n",
      "annotations bbox:  []\n",
      "\n",
      ">> tachometer...\n",
      ">>>> #WARNING tachometer is missing from json annotations\n",
      "annotations datasets:  []\n",
      "annotations imgids:  []\n",
      "annotations bbox:  []\n",
      "\n",
      ">> taco...\n",
      ">>>> #WARNING taco is missing from json annotations\n",
      "annotations datasets:  []\n",
      "annotations imgids:  []\n",
      "annotations bbox:  []\n",
      "\n",
      ">> tag...\n",
      ">>>> #WARNING tag is missing from json annotations\n",
      "annotations datasets:  []\n",
      "annotations imgids:  []\n",
      "annotations bbox:  []\n",
      "\n",
      ">> taillight...\n",
      ">>>> #WARNING taillight is missing from json annotations\n",
      "annotations datasets:  []\n",
      "annotations imgids:  []\n",
      "annotations bbox:  []\n",
      "\n",
      ">> tambourine...\n",
      ">>>> #WARNING tambourine is missing from json annotations\n",
      "annotations datasets:  []\n",
      "annotations imgids:  []\n",
      "annotations bbox:  []\n",
      "\n",
      ">> army_tank...\n",
      "TAO\n"
     ]
    },
    {
     "name": "stderr",
     "output_type": "stream",
     "text": [
      " 89%|██████████████████████████████████████████████████████████████████▍        | 1116/1261 [04:56<00:28,  5.13it/s]"
     ]
    },
    {
     "name": "stdout",
     "output_type": "stream",
     "text": [
      "\n",
      ">> tank_(storage_vessel)...\n",
      ">>>> #WARNING tank_(storage_vessel) is missing from json annotations\n",
      "annotations datasets:  []\n",
      "annotations imgids:  []\n",
      "annotations bbox:  []\n",
      "\n",
      ">> tank_top_(clothing)...\n",
      ">>>> #WARNING tank_top_(clothing) is missing from json annotations\n",
      "annotations datasets:  []\n",
      "annotations imgids:  []\n",
      "annotations bbox:  []\n",
      "\n",
      ">> tape_(sticky_cloth_or_paper)...\n",
      "TAO\n"
     ]
    },
    {
     "name": "stderr",
     "output_type": "stream",
     "text": [
      "\n",
      ">>> Finding TAO tape_(sticky_cloth_or_paper)...:   0%|                                       | 0/75 [00:00<?, ?it/s]\u001b[A"
     ]
    },
    {
     "name": "stdout",
     "output_type": "stream",
     "text": [
      "[Errno 2] No such file or directory: 'D:/external_datasets/TAO/TAO_DIR/frames/val/AVA/4Y5qi1gD2Sw_scene_7_114751-116198/frame1201.jpg'\n"
     ]
    },
    {
     "name": "stderr",
     "output_type": "stream",
     "text": [
      "\n",
      " 89%|██████████████████████████████████████████████████████████████████▌        | 1119/1261 [04:57<00:30,  4.65it/s]"
     ]
    },
    {
     "name": "stdout",
     "output_type": "stream",
     "text": [
      "\n",
      ">> tape_measure...\n",
      ">>>> #WARNING tape_measure is missing from json annotations\n",
      "annotations datasets:  []\n",
      "annotations imgids:  []\n",
      "annotations bbox:  []\n",
      "\n",
      ">> tapestry...\n",
      ">>>> #WARNING tapestry is missing from json annotations\n",
      "annotations datasets:  []\n",
      "annotations imgids:  []\n",
      "annotations bbox:  []\n",
      "\n",
      ">> tarp...\n",
      "TAO\n"
     ]
    },
    {
     "name": "stderr",
     "output_type": "stream",
     "text": [
      " 89%|██████████████████████████████████████████████████████████████████▋        | 1122/1261 [04:58<00:32,  4.29it/s]"
     ]
    },
    {
     "name": "stdout",
     "output_type": "stream",
     "text": [
      "\n",
      ">> tartan...\n",
      ">>>> #WARNING tartan is missing from json annotations\n",
      "annotations datasets:  []\n",
      "annotations imgids:  []\n",
      "annotations bbox:  []\n",
      "\n",
      ">> tassel...\n",
      ">>>> #WARNING tassel is missing from json annotations\n",
      "annotations datasets:  []\n",
      "annotations imgids:  []\n",
      "annotations bbox:  []\n",
      "\n",
      ">> tea_bag...\n",
      ">>>> #WARNING tea_bag is missing from json annotations\n",
      "annotations datasets:  []\n",
      "annotations imgids:  []\n",
      "annotations bbox:  []\n",
      "\n",
      ">> teacup...\n",
      "TAO\n"
     ]
    },
    {
     "name": "stderr",
     "output_type": "stream",
     "text": [
      " 89%|██████████████████████████████████████████████████████████████████▉        | 1126/1261 [04:58<00:30,  4.48it/s]\n",
      ">>> Finding TAO teakettle...: 100%|███████████████████████████████████████████████████████████| 5/5 [00:00<?, ?it/s]\u001b[A\n",
      "\n",
      ">>> Finding TAO teakettle...: 100%|███████████████████████████████████████████████████████████| 5/5 [00:00<?, ?it/s]\u001b[A\n"
     ]
    },
    {
     "name": "stdout",
     "output_type": "stream",
     "text": [
      "\n",
      ">> teakettle...\n",
      "TAO\n",
      "[Errno 2] No such file or directory: 'D:/external_datasets/TAO/TAO_DIR/frames/val/AVA/P60OxWahxBQ_scene_2_41000-42115/frame1051.jpg'\n",
      ">>>> #WARNING: No file found for: TAO teakettle...\n",
      "[Errno 2] No such file or directory: 'D:/external_datasets/TAO/TAO_DIR/frames/val/AVA/P60OxWahxBQ_scene_2_41000-42115/frame1081.jpg'\n",
      ">>>> #WARNING: No file found for: TAO teakettle...\n"
     ]
    },
    {
     "name": "stderr",
     "output_type": "stream",
     "text": [
      "\n",
      ">>> Finding TAO teakettle...: 100%|███████████████████████████████████████████████████████████| 5/5 [00:00<?, ?it/s]\u001b[A\n",
      " 89%|███████████████████████████████████████████████████████████████████        | 1127/1261 [04:59<00:40,  3.27it/s]"
     ]
    },
    {
     "name": "stdout",
     "output_type": "stream",
     "text": [
      "[Errno 2] No such file or directory: 'D:/external_datasets/TAO/TAO_DIR/frames/val/AVA/P60OxWahxBQ_scene_2_41000-42115/frame1111.jpg'\n",
      ">>>> #WARNING: No file found for: TAO teakettle...\n",
      "\n",
      ">> teapot...\n",
      "TAO\n"
     ]
    },
    {
     "name": "stderr",
     "output_type": "stream",
     "text": [
      " 89%|███████████████████████████████████████████████████████████████████        | 1128/1261 [05:00<01:03,  2.09it/s]"
     ]
    },
    {
     "name": "stdout",
     "output_type": "stream",
     "text": [
      "\n",
      ">> teddy_bear...\n",
      ">>>> #WARNING teddy_bear is missing from json annotations\n",
      "annotations datasets:  []\n",
      "annotations imgids:  []\n",
      "annotations bbox:  []\n",
      "\n",
      ">> telephone...\n",
      "TAO\n"
     ]
    },
    {
     "name": "stderr",
     "output_type": "stream",
     "text": [
      " 90%|███████████████████████████████████████████████████████████████████▏       | 1130/1261 [05:01<01:04,  2.04it/s]"
     ]
    },
    {
     "name": "stdout",
     "output_type": "stream",
     "text": [
      "\n",
      ">> telephone_booth...\n",
      ">>>> #WARNING telephone_booth is missing from json annotations\n",
      "annotations datasets:  []\n",
      "annotations imgids:  []\n",
      "annotations bbox:  []\n",
      "\n",
      ">> telephone_pole...\n",
      ">>>> #WARNING telephone_pole is missing from json annotations\n",
      "annotations datasets:  []\n",
      "annotations imgids:  []\n",
      "annotations bbox:  []\n",
      "\n",
      ">> telephoto_lens...\n",
      ">>>> #WARNING telephoto_lens is missing from json annotations\n",
      "annotations datasets:  []\n",
      "annotations imgids:  []\n",
      "annotations bbox:  []\n",
      "\n",
      ">> television_camera...\n",
      ">>>> #WARNING television_camera is missing from json annotations\n",
      "annotations datasets:  []\n",
      "annotations imgids:  []\n",
      "annotations bbox:  []\n",
      "\n",
      ">> television_set...\n",
      "TAO\n"
     ]
    },
    {
     "name": "stderr",
     "output_type": "stream",
     "text": [
      " 90%|███████████████████████████████████████████████████████████████████▌       | 1135/1261 [05:01<00:48,  2.59it/s]"
     ]
    },
    {
     "name": "stdout",
     "output_type": "stream",
     "text": [
      "\n",
      ">> tennis_ball...\n",
      ">>>> #WARNING tennis_ball is missing from json annotations\n",
      "annotations datasets:  []\n",
      "annotations imgids:  []\n",
      "annotations bbox:  []\n",
      "\n",
      ">> tennis_racket...\n",
      "TAO\n"
     ]
    },
    {
     "name": "stderr",
     "output_type": "stream",
     "text": [
      " 90%|███████████████████████████████████████████████████████████████████▌       | 1137/1261 [05:02<00:47,  2.62it/s]"
     ]
    },
    {
     "name": "stdout",
     "output_type": "stream",
     "text": [
      "\n",
      ">> tequila...\n",
      ">>>> #WARNING tequila is missing from json annotations\n",
      "annotations datasets:  []\n",
      "annotations imgids:  []\n",
      "annotations bbox:  []\n",
      "\n",
      ">> thermometer...\n",
      "TAO\n"
     ]
    },
    {
     "name": "stderr",
     "output_type": "stream",
     "text": [
      " 90%|███████████████████████████████████████████████████████████████████▋       | 1139/1261 [05:03<00:41,  2.97it/s]"
     ]
    },
    {
     "name": "stdout",
     "output_type": "stream",
     "text": [
      "\n",
      ">> thermos_bottle...\n",
      ">>>> #WARNING thermos_bottle is missing from json annotations\n",
      "annotations datasets:  []\n",
      "annotations imgids:  []\n",
      "annotations bbox:  []\n",
      "\n",
      ">> thermostat...\n",
      ">>>> #WARNING thermostat is missing from json annotations\n",
      "annotations datasets:  []\n",
      "annotations imgids:  []\n",
      "annotations bbox:  []\n",
      "\n",
      ">> thimble...\n",
      ">>>> #WARNING thimble is missing from json annotations\n",
      "annotations datasets:  []\n",
      "annotations imgids:  []\n",
      "annotations bbox:  []\n",
      "\n",
      ">> thread...\n",
      "TAO\n"
     ]
    },
    {
     "name": "stderr",
     "output_type": "stream",
     "text": [
      "\n",
      ">>> Finding TAO thread...:   0%|                                                             | 0/40 [00:00<?, ?it/s]\u001b[A\n",
      " 91%|███████████████████████████████████████████████████████████████████▉       | 1143/1261 [05:03<00:34,  3.43it/s]"
     ]
    },
    {
     "name": "stdout",
     "output_type": "stream",
     "text": [
      "[Errno 2] No such file or directory: 'D:/external_datasets/TAO/TAO_DIR/frames/val/HACS/Knitting_v_FB4CM_6lNwo_scene_0_0-4528/frame1171.jpg'\n",
      "\n",
      ">> thumbtack...\n",
      ">>>> #WARNING thumbtack is missing from json annotations\n",
      "annotations datasets:  []\n",
      "annotations imgids:  []\n",
      "annotations bbox:  []\n",
      "\n",
      ">> tiara...\n",
      ">>>> #WARNING tiara is missing from json annotations\n",
      "annotations datasets:  []\n",
      "annotations imgids:  []\n",
      "annotations bbox:  []\n",
      "\n",
      ">> tiger...\n",
      "TAO\n"
     ]
    },
    {
     "name": "stderr",
     "output_type": "stream",
     "text": [
      " 91%|████████████████████████████████████████████████████████████████████▏      | 1146/1261 [05:04<00:32,  3.51it/s]\n",
      ">>> Finding TAO tissue_paper...:   0%|                                                       | 0/31 [00:00<?, ?it/s]\u001b[A"
     ]
    },
    {
     "name": "stdout",
     "output_type": "stream",
     "text": [
      "\n",
      ">> tights_(clothing)...\n",
      ">>>> #WARNING tights_(clothing) is missing from json annotations\n",
      "annotations datasets:  []\n",
      "annotations imgids:  []\n",
      "annotations bbox:  []\n",
      "\n",
      ">> timer...\n",
      ">>>> #WARNING timer is missing from json annotations\n",
      "annotations datasets:  []\n",
      "annotations imgids:  []\n",
      "annotations bbox:  []\n",
      "\n",
      ">> tinfoil...\n",
      ">>>> #WARNING tinfoil is missing from json annotations\n",
      "annotations datasets:  []\n",
      "annotations imgids:  []\n",
      "annotations bbox:  []\n",
      "\n",
      ">> tinsel...\n",
      ">>>> #WARNING tinsel is missing from json annotations\n",
      "annotations datasets:  []\n",
      "annotations imgids:  []\n",
      "annotations bbox:  []\n",
      "\n",
      ">> tissue_paper...\n",
      "TAO\n",
      "[Errno 2] No such file or directory: 'D:/external_datasets/TAO/TAO_DIR/frames/val/HACS/Cleaning_sink_v_OvrAlAqICIQ/frame2971.jpg'\n"
     ]
    },
    {
     "name": "stderr",
     "output_type": "stream",
     "text": [
      ">>> Finding TAO tissue_paper...:  90%|████████████████████████████████████████▋    | 28/31 [00:00<00:00, 142.69it/s]\n",
      "\n",
      ">>> Finding TAO tissue_paper...:  94%|██████████████████████████████████████████   | 29/31 [00:00<00:00, 215.29it/s]\u001b[A"
     ]
    },
    {
     "name": "stdout",
     "output_type": "stream",
     "text": [
      "[Errno 2] No such file or directory: 'D:/external_datasets/TAO/TAO_DIR/frames/val/HACS/Cleaning_sink_v_OvrAlAqICIQ/frame3211.jpg'\n"
     ]
    },
    {
     "name": "stderr",
     "output_type": "stream",
     "text": [
      "\n",
      "\n",
      ">>> Finding TAO tissue_paper...:  97%|███████████████████████████████████████████▌ | 30/31 [00:00<00:00, 218.98it/s]\u001b[A"
     ]
    },
    {
     "name": "stdout",
     "output_type": "stream",
     "text": [
      "[Errno 2] No such file or directory: 'D:/external_datasets/TAO/TAO_DIR/frames/val/HACS/Cleaning_sink_v_OvrAlAqICIQ/frame3151.jpg'\n"
     ]
    },
    {
     "name": "stderr",
     "output_type": "stream",
     "text": [
      "\n",
      " 91%|████████████████████████████████████████████████████████████████████▍      | 1151/1261 [05:05<00:29,  3.77it/s]\n",
      ">>> Finding TAO toast_(food)...:   0%|                                                       | 0/47 [00:00<?, ?it/s]\u001b[A\n"
     ]
    },
    {
     "name": "stdout",
     "output_type": "stream",
     "text": [
      "\n",
      ">> toast_(food)...\n",
      "TAO\n",
      "[Errno 2] No such file or directory: 'D:/external_datasets/TAO/TAO_DIR/frames/val/YFCC100M/v_8a481fa1d5cda4559e288d2a2d876b/frame1351.jpg'\n"
     ]
    },
    {
     "name": "stderr",
     "output_type": "stream",
     "text": [
      "\n",
      ">>> Finding TAO toast_(food)...:   4%|██                                             | 2/47 [00:00<00:01, 34.05it/s]\u001b[A\n",
      "\n",
      ">>> Finding TAO toast_(food)...:   0%|                                                       | 0/47 [00:00<?, ?it/s]\u001b[A"
     ]
    },
    {
     "name": "stdout",
     "output_type": "stream",
     "text": [
      "[Errno 2] No such file or directory: 'D:/external_datasets/TAO/TAO_DIR/frames/val/YFCC100M/v_8a481fa1d5cda4559e288d2a2d876b/frame1141.jpg'\n",
      "[Errno 2] No such file or directory: 'D:/external_datasets/TAO/TAO_DIR/frames/val/YFCC100M/v_8a481fa1d5cda4559e288d2a2d876b/frame1441.jpg'\n"
     ]
    },
    {
     "name": "stderr",
     "output_type": "stream",
     "text": [
      ">>> Finding TAO toast_(food)...:  51%|██████████████████████▉                      | 24/47 [00:00<00:00, 154.90it/s]\n",
      " 91%|████████████████████████████████████████████████████████████████████▌      | 1152/1261 [05:06<00:49,  2.19it/s]"
     ]
    },
    {
     "name": "stdout",
     "output_type": "stream",
     "text": [
      "\n",
      ">> toaster_oven...\n",
      ">>>> #WARNING toaster_oven is missing from json annotations\n",
      "annotations datasets:  []\n",
      "annotations imgids:  []\n",
      "annotations bbox:  []\n",
      "\n",
      ">> toilet_tissue...\n",
      ">>>> #WARNING toilet_tissue is missing from json annotations\n",
      "annotations datasets:  []\n",
      "annotations imgids:  []\n",
      "annotations bbox:  []\n",
      "\n",
      ">> tomato...\n",
      ">>>> #WARNING tomato is missing from json annotations\n",
      "annotations datasets:  []\n",
      "annotations imgids:  []\n",
      "annotations bbox:  []\n",
      "\n",
      ">> tongs...\n",
      ">>>> #WARNING tongs is missing from json annotations\n",
      "annotations datasets:  []\n",
      "annotations imgids:  []\n",
      "annotations bbox:  []\n",
      "\n",
      ">> toolbox...\n",
      "TAO\n"
     ]
    },
    {
     "name": "stderr",
     "output_type": "stream",
     "text": [
      " 92%|████████████████████████████████████████████████████████████████████▊      | 1157/1261 [05:07<00:38,  2.68it/s]\n",
      ">>> Finding TAO toothpaste...:  81%|██████████████████████████████████████▏        | 26/32 [00:00<00:00, 254.81it/s]\u001b[A\n"
     ]
    },
    {
     "name": "stdout",
     "output_type": "stream",
     "text": [
      "\n",
      ">> toothpaste...\n",
      "TAO\n",
      "[Errno 2] No such file or directory: 'D:/external_datasets/TAO/TAO_DIR/frames/train/HACS/Brushing_teeth_v_ghzmn2V-SDE/frame1441.jpg'\n"
     ]
    },
    {
     "name": "stderr",
     "output_type": "stream",
     "text": [
      "\n",
      ">>> Finding TAO toothpaste...:  84%|███████████████████████████████████████▋       | 27/32 [00:00<00:00, 223.07it/s]\u001b[A"
     ]
    },
    {
     "name": "stdout",
     "output_type": "stream",
     "text": [
      "[Errno 2] No such file or directory: 'D:/external_datasets/TAO/TAO_DIR/frames/train/HACS/Brushing_teeth_v_ghzmn2V-SDE/frame1225.jpg'\n",
      "[Errno 2] No such file or directory: 'D:/external_datasets/TAO/TAO_DIR/frames/train/HACS/Brushing_teeth_v_ghzmn2V-SDE/frame1849.jpg'\n"
     ]
    },
    {
     "name": "stderr",
     "output_type": "stream",
     "text": [
      "\n",
      "\n",
      ">>> Finding TAO toothpaste...:  88%|█████████████████████████████████████████▏     | 28/32 [00:00<00:00, 261.58it/s]\u001b[A\n",
      "\n",
      ">>> Finding TAO toothpaste...:  91%|██████████████████████████████████████████▌    | 29/32 [00:00<00:00, 295.85it/s]\u001b[A"
     ]
    },
    {
     "name": "stdout",
     "output_type": "stream",
     "text": [
      "[Errno 2] No such file or directory: 'D:/external_datasets/TAO/TAO_DIR/frames/train/HACS/Brushing_teeth_v_ghzmn2V-SDE/frame1801.jpg'\n",
      "[Errno 2] No such file or directory: 'D:/external_datasets/TAO/TAO_DIR/frames/train/HACS/Brushing_teeth_v_ghzmn2V-SDE/frame1129.jpg'\n"
     ]
    },
    {
     "name": "stderr",
     "output_type": "stream",
     "text": [
      "\n",
      "\n",
      ">>> Finding TAO toothpaste...:  94%|████████████████████████████████████████████   | 30/32 [00:00<00:00, 283.20it/s]\u001b[A\n",
      " 92%|████████████████████████████████████████████████████████████████████▊      | 1158/1261 [05:08<00:59,  1.74it/s]"
     ]
    },
    {
     "name": "stdout",
     "output_type": "stream",
     "text": [
      "\n",
      ">> toothpick...\n",
      ">>>> #WARNING toothpick is missing from json annotations\n",
      "annotations datasets:  []\n",
      "annotations imgids:  []\n",
      "annotations bbox:  []\n",
      "\n",
      ">> cover...\n",
      "TAO\n"
     ]
    },
    {
     "name": "stderr",
     "output_type": "stream",
     "text": [
      " 92%|████████████████████████████████████████████████████████████████████▉      | 1160/1261 [05:09<00:52,  1.93it/s]"
     ]
    },
    {
     "name": "stdout",
     "output_type": "stream",
     "text": [
      "\n",
      ">> tortilla...\n",
      ">>>> #WARNING tortilla is missing from json annotations\n",
      "annotations datasets:  []\n",
      "annotations imgids:  []\n",
      "annotations bbox:  []\n",
      "\n",
      ">> tow_truck...\n",
      ">>>> #WARNING tow_truck is missing from json annotations\n",
      "annotations datasets:  []\n",
      "annotations imgids:  []\n",
      "annotations bbox:  []\n",
      "\n",
      ">> towel...\n",
      "TAO\n"
     ]
    },
    {
     "name": "stderr",
     "output_type": "stream",
     "text": [
      " 92%|█████████████████████████████████████████████████████████████████████▏     | 1163/1261 [05:10<00:45,  2.17it/s]"
     ]
    },
    {
     "name": "stdout",
     "output_type": "stream",
     "text": [
      "\n",
      ">> towel_rack...\n",
      ">>>> #WARNING towel_rack is missing from json annotations\n",
      "annotations datasets:  []\n",
      "annotations imgids:  []\n",
      "annotations bbox:  []\n",
      "\n",
      ">> toy...\n",
      "TAO\n",
      "[Errno 2] No such file or directory: 'D:/external_datasets/TAO/TAO_DIR/frames/val/YFCC100M/v_460a1314da9bd32cbd14a2b3414f30/frame0697.jpeg'\n"
     ]
    },
    {
     "name": "stderr",
     "output_type": "stream",
     "text": [
      "\n",
      ">>> Finding TAO toy...:   0%|                                                               | 0/579 [00:00<?, ?it/s]\u001b[A\n",
      ">>> Finding TAO toy...:   7%|███▊                                                 | 41/579 [00:00<00:02, 200.74it/s]\u001b[A\n",
      "\n",
      ">>> Finding TAO toy...:   7%|███▊                                                 | 42/579 [00:00<00:01, 309.93it/s]\u001b[A"
     ]
    },
    {
     "name": "stdout",
     "output_type": "stream",
     "text": [
      "[Errno 2] No such file or directory: 'D:/external_datasets/TAO/TAO_DIR/frames/val/HACS/Putting_on_shoes_v_Wnhlt-7Kd-Q/frame2071.jpg'\n"
     ]
    },
    {
     "name": "stderr",
     "output_type": "stream",
     "text": [
      "\n",
      "\n",
      ">>> Finding TAO toy...:   7%|███▉                                                 | 43/579 [00:00<00:01, 323.32it/s]\u001b[A"
     ]
    },
    {
     "name": "stdout",
     "output_type": "stream",
     "text": [
      "[Errno 2] No such file or directory: 'D:/external_datasets/TAO/TAO_DIR/frames/val/YFCC100M/v_c71cb089ec74b978d1b6fe5b3a6f5f/frame0476.jpeg'\n"
     ]
    },
    {
     "name": "stderr",
     "output_type": "stream",
     "text": [
      "\n",
      "\n",
      ">>> Finding TAO toy...:   8%|████                                                 | 44/579 [00:00<00:01, 297.21it/s]\u001b[A"
     ]
    },
    {
     "name": "stdout",
     "output_type": "stream",
     "text": [
      "[Errno 2] No such file or directory: 'D:/external_datasets/TAO/TAO_DIR/frames/val/YFCC100M/v_c71cb089ec74b978d1b6fe5b3a6f5f/frame0626.jpeg'\n"
     ]
    },
    {
     "name": "stderr",
     "output_type": "stream",
     "text": [
      "\n",
      " 92%|█████████████████████████████████████████████████████████████████████▎     | 1165/1261 [05:11<00:48,  1.98it/s]"
     ]
    },
    {
     "name": "stdout",
     "output_type": "stream",
     "text": [
      "\n",
      ">> tractor_(farm_equipment)...\n",
      "TAO\n"
     ]
    },
    {
     "name": "stderr",
     "output_type": "stream",
     "text": [
      "\n",
      ">>> Finding TAO tractor_(farm_equipment)...:   0%|                                           | 0/40 [00:00<?, ?it/s]\u001b[A"
     ]
    },
    {
     "name": "stdout",
     "output_type": "stream",
     "text": [
      "[Errno 2] No such file or directory: 'D:/external_datasets/TAO/TAO_DIR/frames/train/HACS/Raking_leaves_v_KUdBvuRaAbk_scene_0_0-6975/frame1021.jpg'\n"
     ]
    },
    {
     "name": "stderr",
     "output_type": "stream",
     "text": [
      "\n",
      " 92%|█████████████████████████████████████████████████████████████████████▎     | 1166/1261 [05:12<00:57,  1.66it/s]"
     ]
    },
    {
     "name": "stdout",
     "output_type": "stream",
     "text": [
      "\n",
      ">> traffic_light...\n",
      ">>>> #WARNING traffic_light is missing from json annotations\n",
      "annotations datasets:  []\n",
      "annotations imgids:  []\n",
      "annotations bbox:  []\n",
      "\n",
      ">> dirt_bike...\n",
      "TAO\n"
     ]
    },
    {
     "name": "stderr",
     "output_type": "stream",
     "text": [
      " 93%|█████████████████████████████████████████████████████████████████████▍     | 1168/1261 [05:13<00:50,  1.84it/s]"
     ]
    },
    {
     "name": "stdout",
     "output_type": "stream",
     "text": [
      "\n",
      ">> trailer_truck...\n",
      "TAO\n"
     ]
    },
    {
     "name": "stderr",
     "output_type": "stream",
     "text": [
      " 93%|█████████████████████████████████████████████████████████████████████▌     | 1169/1261 [05:14<00:56,  1.61it/s]\n",
      ">>> Finding TAO tray...:  41%|█████████████████████▉                               | 31/75 [00:00<00:00, 213.30it/s]\u001b[A\n"
     ]
    },
    {
     "name": "stdout",
     "output_type": "stream",
     "text": [
      "\n",
      ">> train_(railroad_vehicle)...\n",
      ">>>> #WARNING train_(railroad_vehicle) is missing from json annotations\n",
      "annotations datasets:  []\n",
      "annotations imgids:  []\n",
      "annotations bbox:  []\n",
      "\n",
      ">> trampoline...\n",
      ">>>> #WARNING trampoline is missing from json annotations\n",
      "annotations datasets:  []\n",
      "annotations imgids:  []\n",
      "annotations bbox:  []\n",
      "\n",
      ">> tray...\n",
      "TAO\n",
      "[Errno 2] No such file or directory: 'D:/external_datasets/TAO/TAO_DIR/frames/train/YFCC100M/v_178d5e91768b9c42488ff879c1fa54/frame1321.jpeg'\n"
     ]
    },
    {
     "name": "stderr",
     "output_type": "stream",
     "text": [
      "\n",
      ">>> Finding TAO tray...:  43%|██████████████████████▌                              | 32/75 [00:00<00:00, 246.09it/s]\u001b[A"
     ]
    },
    {
     "name": "stdout",
     "output_type": "stream",
     "text": [
      "[Errno 2] No such file or directory: 'D:/external_datasets/TAO/TAO_DIR/frames/train/YFCC100M/v_178d5e91768b9c42488ff879c1fa54/frame0481.jpeg'\n"
     ]
    },
    {
     "name": "stderr",
     "output_type": "stream",
     "text": [
      "\n",
      " 93%|█████████████████████████████████████████████████████████████████████▋     | 1172/1261 [05:15<00:50,  1.77it/s]"
     ]
    },
    {
     "name": "stdout",
     "output_type": "stream",
     "text": [
      "\n",
      ">> tree_house...\n",
      ">>>> #WARNING tree_house is missing from json annotations\n",
      "annotations datasets:  []\n",
      "annotations imgids:  []\n",
      "annotations bbox:  []\n",
      "\n",
      ">> trench_coat...\n",
      ">>>> #WARNING trench_coat is missing from json annotations\n",
      "annotations datasets:  []\n",
      "annotations imgids:  []\n",
      "annotations bbox:  []\n",
      "\n",
      ">> triangle_(musical_instrument)...\n",
      ">>>> #WARNING triangle_(musical_instrument) is missing from json annotations\n",
      "annotations datasets:  []\n",
      "annotations imgids:  []\n",
      "annotations bbox:  []\n",
      "\n",
      ">> tricycle...\n",
      ">>>> #WARNING tricycle is missing from json annotations\n",
      "annotations datasets:  []\n",
      "annotations imgids:  []\n",
      "annotations bbox:  []\n",
      "\n",
      ">> tripod...\n",
      "TAO\n"
     ]
    },
    {
     "name": "stderr",
     "output_type": "stream",
     "text": [
      " 93%|██████████████████████████████████████████████████████████████████████     | 1177/1261 [05:16<00:37,  2.23it/s]"
     ]
    },
    {
     "name": "stdout",
     "output_type": "stream",
     "text": [
      "\n",
      ">> trousers...\n",
      "TAO\n"
     ]
    },
    {
     "name": "stderr",
     "output_type": "stream",
     "text": [
      " 93%|██████████████████████████████████████████████████████████████████████     | 1178/1261 [05:17<00:44,  1.87it/s]"
     ]
    },
    {
     "name": "stdout",
     "output_type": "stream",
     "text": [
      "\n",
      ">> truffle_(chocolate)...\n",
      ">>>> #WARNING truffle_(chocolate) is missing from json annotations\n",
      "annotations datasets:  []\n",
      "annotations imgids:  []\n",
      "annotations bbox:  []\n",
      "\n",
      ">> trunk...\n",
      ">>>> #WARNING trunk is missing from json annotations\n",
      "annotations datasets:  []\n",
      "annotations imgids:  []\n",
      "annotations bbox:  []\n",
      "\n",
      ">> vat...\n",
      ">>>> #WARNING vat is missing from json annotations\n",
      "annotations datasets:  []\n",
      "annotations imgids:  []\n",
      "annotations bbox:  []\n",
      "\n",
      ">> turban...\n",
      ">>>> #WARNING turban is missing from json annotations\n",
      "annotations datasets:  []\n",
      "annotations imgids:  []\n",
      "annotations bbox:  []\n",
      "\n",
      ">> turkey_(bird)...\n",
      "TAO\n"
     ]
    },
    {
     "name": "stderr",
     "output_type": "stream",
     "text": [
      " 94%|██████████████████████████████████████████████████████████████████████▎    | 1183/1261 [05:17<00:32,  2.37it/s]"
     ]
    },
    {
     "name": "stdout",
     "output_type": "stream",
     "text": [
      "\n",
      ">> turkey_(food)...\n",
      ">>>> #WARNING turkey_(food) is missing from json annotations\n",
      "annotations datasets:  []\n",
      "annotations imgids:  []\n",
      "annotations bbox:  []\n",
      "\n",
      ">> turnip...\n",
      ">>>> #WARNING turnip is missing from json annotations\n",
      "annotations datasets:  []\n",
      "annotations imgids:  []\n",
      "annotations bbox:  []\n",
      "\n",
      ">> turtle...\n",
      "TAO\n"
     ]
    },
    {
     "name": "stderr",
     "output_type": "stream",
     "text": [
      " 94%|██████████████████████████████████████████████████████████████████████▌    | 1186/1261 [05:18<00:28,  2.61it/s]\n",
      ">>> Finding TAO underwear...:  10%|████▊                                             | 2/21 [00:00<00:00, 21.03it/s]\u001b[A\n"
     ]
    },
    {
     "name": "stdout",
     "output_type": "stream",
     "text": [
      "\n",
      ">> turtleneck_(clothing)...\n",
      ">>>> #WARNING turtleneck_(clothing) is missing from json annotations\n",
      "annotations datasets:  []\n",
      "annotations imgids:  []\n",
      "annotations bbox:  []\n",
      "\n",
      ">> typewriter...\n",
      ">>>> #WARNING typewriter is missing from json annotations\n",
      "annotations datasets:  []\n",
      "annotations imgids:  []\n",
      "annotations bbox:  []\n",
      "\n",
      ">> underwear...\n",
      "TAO\n",
      "[Errno 2] No such file or directory: 'D:/external_datasets/TAO/TAO_DIR/frames/val/AVA/4Y5qi1gD2Sw_scene_1_28435-31083/frame1021.jpg'\n"
     ]
    },
    {
     "name": "stderr",
     "output_type": "stream",
     "text": [
      "\n",
      ">>> Finding TAO underwear...:  14%|███████▏                                          | 3/21 [00:00<00:00, 41.10it/s]\u001b[A"
     ]
    },
    {
     "name": "stdout",
     "output_type": "stream",
     "text": [
      "[Errno 2] No such file or directory: 'D:/external_datasets/TAO/TAO_DIR/frames/val/AVA/4Y5qi1gD2Sw_scene_1_28435-31083/frame1201.jpg'\n"
     ]
    },
    {
     "name": "stderr",
     "output_type": "stream",
     "text": [
      "\n",
      "\n",
      ">>> Finding TAO underwear...:  19%|█████████▌                                        | 4/21 [00:00<00:00, 64.53it/s]\u001b[A\n",
      " 94%|██████████████████████████████████████████████████████████████████████▋    | 1189/1261 [05:19<00:24,  2.88it/s]"
     ]
    },
    {
     "name": "stdout",
     "output_type": "stream",
     "text": [
      "[Errno 2] No such file or directory: 'D:/external_datasets/TAO/TAO_DIR/frames/val/AVA/4Y5qi1gD2Sw_scene_1_28435-31083/frame1111.jpg'\n",
      "\n",
      ">> unicycle...\n",
      ">>>> #WARNING unicycle is missing from json annotations\n",
      "annotations datasets:  []\n",
      "annotations imgids:  []\n",
      "annotations bbox:  []\n",
      "\n",
      ">> urinal...\n",
      ">>>> #WARNING urinal is missing from json annotations\n",
      "annotations datasets:  []\n",
      "annotations imgids:  []\n",
      "annotations bbox:  []\n",
      "\n",
      ">> urn...\n",
      ">>>> #WARNING urn is missing from json annotations\n",
      "annotations datasets:  []\n",
      "annotations imgids:  []\n",
      "annotations bbox:  []\n",
      "\n",
      ">> vacuum_cleaner...\n",
      "TAO\n"
     ]
    },
    {
     "name": "stderr",
     "output_type": "stream",
     "text": [
      " 95%|██████████████████████████████████████████████████████████████████████▉    | 1193/1261 [05:20<00:20,  3.24it/s]\n",
      ">>> Finding TAO violin...: 100%|███████████████████████████████████████████████████| 40/40 [00:00<00:00, 434.80it/s]\u001b[A\n",
      "\n",
      ">>> Finding TAO violin...: 100%|███████████████████████████████████████████████████| 40/40 [00:00<00:00, 459.61it/s]\u001b[A"
     ]
    },
    {
     "name": "stdout",
     "output_type": "stream",
     "text": [
      "\n",
      ">> valve...\n",
      ">>>> #WARNING valve is missing from json annotations\n",
      "annotations datasets:  []\n",
      "annotations imgids:  []\n",
      "annotations bbox:  []\n",
      "\n",
      ">> vending_machine...\n",
      ">>>> #WARNING vending_machine is missing from json annotations\n",
      "annotations datasets:  []\n",
      "annotations imgids:  []\n",
      "annotations bbox:  []\n",
      "\n",
      ">> vent...\n",
      ">>>> #WARNING vent is missing from json annotations\n",
      "annotations datasets:  []\n",
      "annotations imgids:  []\n",
      "annotations bbox:  []\n",
      "\n",
      ">> videotape...\n",
      ">>>> #WARNING videotape is missing from json annotations\n",
      "annotations datasets:  []\n",
      "annotations imgids:  []\n",
      "annotations bbox:  []\n",
      "\n",
      ">> vinegar...\n",
      ">>>> #WARNING vinegar is missing from json annotations\n",
      "annotations datasets:  []\n",
      "annotations imgids:  []\n",
      "annotations bbox:  []\n",
      "\n",
      ">> violin...\n",
      "TAO\n",
      "[Errno 2] No such file or directory: 'D:/external_datasets/TAO/TAO_DIR/frames/train/HACS/Playing_violin_v_Z11ALGaUmH0/frame1701.jpg'\n",
      ">>>> #WARNING: No file found for: TAO violin...\n",
      "[Errno 2] No such file or directory: 'D:/external_datasets/TAO/TAO_DIR/frames/train/HACS/Playing_violin_v_Z11ALGaUmH0/frame1851.jpg'\n"
     ]
    },
    {
     "name": "stderr",
     "output_type": "stream",
     "text": [
      "\n",
      "\n",
      ">>> Finding TAO violin...: 100%|███████████████████████████████████████████████████| 40/40 [00:00<00:00, 449.28it/s]\u001b[A\n",
      "\n",
      ">>> Finding TAO violin...: 100%|███████████████████████████████████████████████████| 40/40 [00:00<00:00, 506.12it/s]\u001b[A\n",
      "\n",
      ">>> Finding TAO violin...:   0%|                                                             | 0/40 [00:00<?, ?it/s]\u001b[A"
     ]
    },
    {
     "name": "stdout",
     "output_type": "stream",
     "text": [
      ">>>> #WARNING: No file found for: TAO violin...\n",
      "[Errno 2] No such file or directory: 'D:/external_datasets/TAO/TAO_DIR/frames/train/HACS/Playing_violin_v_Z11ALGaUmH0/frame2026.jpg'\n",
      ">>>> #WARNING: No file found for: TAO violin...\n",
      "[Errno 2] No such file or directory: 'D:/external_datasets/TAO/TAO_DIR/frames/train/HACS/Playing_violin_v_Z11ALGaUmH0/frame2376.jpg'\n",
      ">>>> #WARNING: No file found for: TAO violin...\n",
      "[Errno 2] No such file or directory: 'D:/external_datasets/TAO/TAO_DIR/frames/train/HACS/Playing_violin_v_Z11ALGaUmH0/frame2076.jpg'\n"
     ]
    },
    {
     "name": "stderr",
     "output_type": "stream",
     "text": [
      ">>> Finding TAO violin...: 100%|███████████████████████████████████████████████████| 40/40 [00:00<00:00, 500.01it/s]\n",
      " 95%|███████████████████████████████████████████████████████████████████████▎   | 1199/1261 [05:20<00:14,  4.18it/s]"
     ]
    },
    {
     "name": "stdout",
     "output_type": "stream",
     "text": [
      ">>>> #WARNING: No file found for: TAO violin...\n",
      "\n",
      ">> vodka...\n",
      ">>>> #WARNING vodka is missing from json annotations\n",
      "annotations datasets:  []\n",
      "annotations imgids:  []\n",
      "annotations bbox:  []\n",
      "\n",
      ">> volleyball...\n",
      "TAO\n"
     ]
    },
    {
     "name": "stderr",
     "output_type": "stream",
     "text": [
      " 95%|███████████████████████████████████████████████████████████████████████▍   | 1201/1261 [05:21<00:16,  3.57it/s]\n",
      ">>> Finding TAO walking_stick...:   0%|                                                      | 0/78 [00:00<?, ?it/s]\u001b[A\n"
     ]
    },
    {
     "name": "stdout",
     "output_type": "stream",
     "text": [
      "\n",
      ">> vulture...\n",
      ">>>> #WARNING vulture is missing from json annotations\n",
      "annotations datasets:  []\n",
      "annotations imgids:  []\n",
      "annotations bbox:  []\n",
      "\n",
      ">> waffle...\n",
      ">>>> #WARNING waffle is missing from json annotations\n",
      "annotations datasets:  []\n",
      "annotations imgids:  []\n",
      "annotations bbox:  []\n",
      "\n",
      ">> waffle_iron...\n",
      ">>>> #WARNING waffle_iron is missing from json annotations\n",
      "annotations datasets:  []\n",
      "annotations imgids:  []\n",
      "annotations bbox:  []\n",
      "\n",
      ">> wagon...\n",
      ">>>> #WARNING wagon is missing from json annotations\n",
      "annotations datasets:  []\n",
      "annotations imgids:  []\n",
      "annotations bbox:  []\n",
      "\n",
      ">> wagon_wheel...\n",
      ">>>> #WARNING wagon_wheel is missing from json annotations\n",
      "annotations datasets:  []\n",
      "annotations imgids:  []\n",
      "annotations bbox:  []\n",
      "\n",
      ">> walking_stick...\n",
      "TAO\n",
      "[Errno 2] No such file or directory: 'D:/external_datasets/TAO/TAO_DIR/frames/train/AVA/uwW0ejeosmk_scene_3_50442-52200/frame1126.jpg'\n"
     ]
    },
    {
     "name": "stderr",
     "output_type": "stream",
     "text": [
      "\n",
      ">>> Finding TAO walking_stick...:   1%|▌                                             | 1/78 [00:00<00:02, 35.72it/s]\u001b[A\n"
     ]
    },
    {
     "name": "stdout",
     "output_type": "stream",
     "text": [
      "[Errno 2] No such file or directory: 'D:/external_datasets/TAO/TAO_DIR/frames/train/AVA/uwW0ejeosmk_scene_3_50442-52200/frame1201.jpg'\n"
     ]
    },
    {
     "name": "stderr",
     "output_type": "stream",
     "text": [
      "\n",
      ">>> Finding TAO walking_stick...:   3%|█▏                                            | 2/78 [00:00<00:03, 25.31it/s]\u001b[A"
     ]
    },
    {
     "name": "stdout",
     "output_type": "stream",
     "text": [
      "[Errno 2] No such file or directory: 'D:/external_datasets/TAO/TAO_DIR/frames/val/YFCC100M/v_a8527f6556714827bb5a2cf724562d/frame0601.jpeg'\n"
     ]
    },
    {
     "name": "stderr",
     "output_type": "stream",
     "text": [
      "\n",
      "\n",
      ">>> Finding TAO walking_stick...:   4%|█▋                                           | 3/78 [00:00<00:00, 107.00it/s]\u001b[A"
     ]
    },
    {
     "name": "stdout",
     "output_type": "stream",
     "text": [
      "[Errno 2] No such file or directory: 'D:/external_datasets/TAO/TAO_DIR/frames/val/YFCC100M/v_a8527f6556714827bb5a2cf724562d/frame1261.jpeg'\n",
      "[Errno 2] No such file or directory: 'D:/external_datasets/TAO/TAO_DIR/frames/val/YFCC100M/v_a8527f6556714827bb5a2cf724562d/frame1411.jpeg'\n"
     ]
    },
    {
     "name": "stderr",
     "output_type": "stream",
     "text": [
      "\n",
      "\n",
      ">>> Finding TAO walking_stick...:   5%|██▎                                           | 4/78 [00:00<00:01, 58.17it/s]\u001b[A\n",
      " 96%|███████████████████████████████████████████████████████████████████████▊   | 1207/1261 [05:22<00:13,  3.89it/s]\n",
      ">>> Finding TAO wallet...:   8%|████▍                                                | 1/12 [00:00<00:01, 10.98it/s]\u001b[A\n"
     ]
    },
    {
     "name": "stdout",
     "output_type": "stream",
     "text": [
      "\n",
      ">> wall_clock...\n",
      ">>>> #WARNING wall_clock is missing from json annotations\n",
      "annotations datasets:  []\n",
      "annotations imgids:  []\n",
      "annotations bbox:  []\n",
      "\n",
      ">> wall_socket...\n",
      ">>>> #WARNING wall_socket is missing from json annotations\n",
      "annotations datasets:  []\n",
      "annotations imgids:  []\n",
      "annotations bbox:  []\n",
      "\n",
      ">> wallet...\n",
      "TAO\n",
      "[Errno 2] No such file or directory: 'D:/external_datasets/TAO/TAO_DIR/frames/val/AVA/4Y5qi1gD2Sw_scene_1_28435-31083/frame1681.jpg'\n",
      "[Errno 2] No such file or directory: 'D:/external_datasets/TAO/TAO_DIR/frames/val/AVA/4Y5qi1gD2Sw_scene_1_28435-31083/frame1741.jpg'\n"
     ]
    },
    {
     "name": "stderr",
     "output_type": "stream",
     "text": [
      "\n",
      ">>> Finding TAO wallet...:  25%|█████████████▎                                       | 3/12 [00:00<00:00, 58.53it/s]\u001b[A\n",
      "\n",
      ">>> Finding TAO wallet...:  33%|█████████████████▋                                   | 4/12 [00:00<00:00, 71.38it/s]\u001b[A\n",
      " 96%|███████████████████████████████████████████████████████████████████████▉   | 1210/1261 [05:23<00:13,  3.90it/s]"
     ]
    },
    {
     "name": "stdout",
     "output_type": "stream",
     "text": [
      "[Errno 2] No such file or directory: 'D:/external_datasets/TAO/TAO_DIR/frames/val/AVA/4Y5qi1gD2Sw_scene_1_28435-31083/frame1711.jpg'\n",
      "\n",
      ">> walrus...\n",
      "TAO\n"
     ]
    },
    {
     "name": "stderr",
     "output_type": "stream",
     "text": [
      " 96%|████████████████████████████████████████████████████████████████████████   | 1211/1261 [05:24<00:20,  2.39it/s]"
     ]
    },
    {
     "name": "stdout",
     "output_type": "stream",
     "text": [
      "\n",
      ">> wardrobe...\n",
      ">>>> #WARNING wardrobe is missing from json annotations\n",
      "annotations datasets:  []\n",
      "annotations imgids:  []\n",
      "annotations bbox:  []\n",
      "\n",
      ">> wasabi...\n",
      ">>>> #WARNING wasabi is missing from json annotations\n",
      "annotations datasets:  []\n",
      "annotations imgids:  []\n",
      "annotations bbox:  []\n",
      "\n",
      ">> automatic_washer...\n",
      "TAO\n",
      "[Errno 2] No such file or directory: 'D:/external_datasets/TAO/TAO_DIR/frames/val/Charades/FVMVY/frame1081.jpg'\n"
     ]
    },
    {
     "name": "stderr",
     "output_type": "stream",
     "text": [
      "\n",
      ">>> Finding TAO automatic_washer...:   0%|                                                   | 0/83 [00:00<?, ?it/s]\u001b[A\n",
      " 96%|████████████████████████████████████████████████████████████████████████▏  | 1214/1261 [05:25<00:17,  2.69it/s]"
     ]
    },
    {
     "name": "stdout",
     "output_type": "stream",
     "text": [
      "\n",
      ">> watch...\n",
      "TAO\n"
     ]
    },
    {
     "name": "stderr",
     "output_type": "stream",
     "text": [
      " 96%|████████████████████████████████████████████████████████████████████████▎  | 1215/1261 [05:25<00:22,  2.08it/s]"
     ]
    },
    {
     "name": "stdout",
     "output_type": "stream",
     "text": [
      "\n",
      ">> water_bottle...\n",
      "TAO\n"
     ]
    },
    {
     "name": "stderr",
     "output_type": "stream",
     "text": [
      " 96%|████████████████████████████████████████████████████████████████████████▎  | 1216/1261 [05:27<00:31,  1.43it/s]"
     ]
    },
    {
     "name": "stdout",
     "output_type": "stream",
     "text": [
      "\n",
      ">> water_cooler...\n",
      ">>>> #WARNING water_cooler is missing from json annotations\n",
      "annotations datasets:  []\n",
      "annotations imgids:  []\n",
      "annotations bbox:  []\n",
      "\n",
      ">> water_faucet...\n",
      ">>>> #WARNING water_faucet is missing from json annotations\n",
      "annotations datasets:  []\n",
      "annotations imgids:  []\n",
      "annotations bbox:  []\n",
      "\n",
      ">> water_filter...\n",
      ">>>> #WARNING water_filter is missing from json annotations\n",
      "annotations datasets:  []\n",
      "annotations imgids:  []\n",
      "annotations bbox:  []\n",
      "\n",
      ">> water_heater...\n",
      ">>>> #WARNING water_heater is missing from json annotations\n",
      "annotations datasets:  []\n",
      "annotations imgids:  []\n",
      "annotations bbox:  []\n",
      "\n",
      ">> water_jug...\n",
      "TAO\n"
     ]
    },
    {
     "name": "stderr",
     "output_type": "stream",
     "text": [
      " 97%|████████████████████████████████████████████████████████████████████████▌  | 1221/1261 [05:27<00:20,  1.94it/s]"
     ]
    },
    {
     "name": "stdout",
     "output_type": "stream",
     "text": [
      "\n",
      ">> water_gun...\n",
      ">>>> #WARNING water_gun is missing from json annotations\n",
      "annotations datasets:  []\n",
      "annotations imgids:  []\n",
      "annotations bbox:  []\n",
      "\n",
      ">> water_scooter...\n",
      "TAO\n"
     ]
    },
    {
     "name": "stderr",
     "output_type": "stream",
     "text": [
      " 97%|████████████████████████████████████████████████████████████████████████▋  | 1223/1261 [05:28<00:18,  2.11it/s]"
     ]
    },
    {
     "name": "stdout",
     "output_type": "stream",
     "text": [
      "\n",
      ">> water_ski...\n",
      "TAO\n"
     ]
    },
    {
     "name": "stderr",
     "output_type": "stream",
     "text": [
      " 97%|████████████████████████████████████████████████████████████████████████▊  | 1224/1261 [05:29<00:20,  1.81it/s]\n",
      ">>> Finding TAO wig...:   0%|                                                                 | 0/8 [00:00<?, ?it/s]\u001b[A\n"
     ]
    },
    {
     "name": "stdout",
     "output_type": "stream",
     "text": [
      "\n",
      ">> water_tower...\n",
      ">>>> #WARNING water_tower is missing from json annotations\n",
      "annotations datasets:  []\n",
      "annotations imgids:  []\n",
      "annotations bbox:  []\n",
      "\n",
      ">> watering_can...\n",
      ">>>> #WARNING watering_can is missing from json annotations\n",
      "annotations datasets:  []\n",
      "annotations imgids:  []\n",
      "annotations bbox:  []\n",
      "\n",
      ">> watermelon...\n",
      ">>>> #WARNING watermelon is missing from json annotations\n",
      "annotations datasets:  []\n",
      "annotations imgids:  []\n",
      "annotations bbox:  []\n",
      "\n",
      ">> weathervane...\n",
      ">>>> #WARNING weathervane is missing from json annotations\n",
      "annotations datasets:  []\n",
      "annotations imgids:  []\n",
      "annotations bbox:  []\n",
      "\n",
      ">> webcam...\n",
      ">>>> #WARNING webcam is missing from json annotations\n",
      "annotations datasets:  []\n",
      "annotations imgids:  []\n",
      "annotations bbox:  []\n",
      "\n",
      ">> wedding_cake...\n",
      ">>>> #WARNING wedding_cake is missing from json annotations\n",
      "annotations datasets:  []\n",
      "annotations imgids:  []\n",
      "annotations bbox:  []\n",
      "\n",
      ">> wedding_ring...\n",
      ">>>> #WARNING wedding_ring is missing from json annotations\n",
      "annotations datasets:  []\n",
      "annotations imgids:  []\n",
      "annotations bbox:  []\n",
      "\n",
      ">> wet_suit...\n",
      ">>>> #WARNING wet_suit is missing from json annotations\n",
      "annotations datasets:  []\n",
      "annotations imgids:  []\n",
      "annotations bbox:  []\n",
      "\n",
      ">> wheel...\n",
      ">>>> #WARNING wheel is missing from json annotations\n",
      "annotations datasets:  []\n",
      "annotations imgids:  []\n",
      "annotations bbox:  []\n",
      "\n",
      ">> wheelchair...\n",
      ">>>> #WARNING wheelchair is missing from json annotations\n",
      "annotations datasets:  []\n",
      "annotations imgids:  []\n",
      "annotations bbox:  []\n",
      "\n",
      ">> whipped_cream...\n",
      ">>>> #WARNING whipped_cream is missing from json annotations\n",
      "annotations datasets:  []\n",
      "annotations imgids:  []\n",
      "annotations bbox:  []\n",
      "\n",
      ">> whiskey...\n",
      ">>>> #WARNING whiskey is missing from json annotations\n",
      "annotations datasets:  []\n",
      "annotations imgids:  []\n",
      "annotations bbox:  []\n",
      "\n",
      ">> whistle...\n",
      ">>>> #WARNING whistle is missing from json annotations\n",
      "annotations datasets:  []\n",
      "annotations imgids:  []\n",
      "annotations bbox:  []\n",
      "\n",
      ">> wick...\n",
      ">>>> #WARNING wick is missing from json annotations\n",
      "annotations datasets:  []\n",
      "annotations imgids:  []\n",
      "annotations bbox:  []\n",
      "\n",
      ">> wig...\n",
      "TAO\n",
      "[Errno 2] No such file or directory: 'D:/external_datasets/TAO/TAO_DIR/frames/train/AVA/XOe9GeojzCs_scene_3_8538-9883/frame1021.jpg'\n"
     ]
    },
    {
     "name": "stderr",
     "output_type": "stream",
     "text": [
      " 98%|█████████████████████████████████████████████████████████████████████████▋ | 1239/1261 [05:29<00:08,  2.49it/s]"
     ]
    },
    {
     "name": "stdout",
     "output_type": "stream",
     "text": [
      "\n",
      ">> wind_chime...\n",
      ">>>> #WARNING wind_chime is missing from json annotations\n",
      "annotations datasets:  []\n",
      "annotations imgids:  []\n",
      "annotations bbox:  []\n",
      "\n",
      ">> windmill...\n",
      ">>>> #WARNING windmill is missing from json annotations\n",
      "annotations datasets:  []\n",
      "annotations imgids:  []\n",
      "annotations bbox:  []\n",
      "\n",
      ">> window_box_(for_plants)...\n",
      ">>>> #WARNING window_box_(for_plants) is missing from json annotations\n",
      "annotations datasets:  []\n",
      "annotations imgids:  []\n",
      "annotations bbox:  []\n",
      "\n",
      ">> windshield_wiper...\n",
      "TAO\n"
     ]
    },
    {
     "name": "stderr",
     "output_type": "stream",
     "text": [
      " 99%|█████████████████████████████████████████████████████████████████████████▉ | 1243/1261 [05:30<00:06,  2.97it/s]\n",
      ">>> Finding TAO wine_bottle...: 100%|████████████████████████████████████████████████| 9/9 [00:00<00:00, 747.50it/s]\u001b[A\n",
      "\n",
      ">>> Finding TAO wine_bottle...: 100%|████████████████████████████████████████████████| 9/9 [00:00<00:00, 897.48it/s]\u001b[A\n",
      "\n",
      ">>> Finding TAO wine_bottle...: 100%|████████████████████████████████████████████████| 9/9 [00:00<00:00, 750.19it/s]\u001b[A\n",
      "\n",
      ">>> Finding TAO wine_bottle...: 100%|████████████████████████████████████████████████| 9/9 [00:00<00:00, 818.47it/s]\u001b[A\n",
      "\n",
      ">>> Finding TAO wine_bottle...: 100%|████████████████████████████████████████████████| 9/9 [00:00<00:00, 900.26it/s]\u001b[A\n",
      " 99%|██████████████████████████████████████████████████████████████████████████ | 1245/1261 [05:30<00:04,  3.91it/s]"
     ]
    },
    {
     "name": "stdout",
     "output_type": "stream",
     "text": [
      "\n",
      ">> windsock...\n",
      ">>>> #WARNING windsock is missing from json annotations\n",
      "annotations datasets:  []\n",
      "annotations imgids:  []\n",
      "annotations bbox:  []\n",
      "\n",
      ">> wine_bottle...\n",
      "TAO\n",
      "[Errno 2] No such file or directory: 'D:/external_datasets/TAO/TAO_DIR/frames/train/AVA/XOe9GeojzCs_scene_8_44057-45561/frame1111.jpg'\n",
      ">>>> #WARNING: No file found for: TAO wine_bottle...\n",
      "[Errno 2] No such file or directory: 'D:/external_datasets/TAO/TAO_DIR/frames/train/AVA/XOe9GeojzCs_scene_8_44057-45561/frame1051.jpg'\n",
      ">>>> #WARNING: No file found for: TAO wine_bottle...\n",
      "[Errno 2] No such file or directory: 'D:/external_datasets/TAO/TAO_DIR/frames/train/AVA/XOe9GeojzCs_scene_8_44057-45561/frame1171.jpg'\n",
      ">>>> #WARNING: No file found for: TAO wine_bottle...\n",
      "[Errno 2] No such file or directory: 'D:/external_datasets/TAO/TAO_DIR/frames/train/AVA/XOe9GeojzCs_scene_8_44057-45561/frame1231.jpg'\n",
      ">>>> #WARNING: No file found for: TAO wine_bottle...\n",
      "[Errno 2] No such file or directory: 'D:/external_datasets/TAO/TAO_DIR/frames/train/AVA/XOe9GeojzCs_scene_8_44057-45561/frame1141.jpg'\n",
      ">>>> #WARNING: No file found for: TAO wine_bottle...\n",
      "\n",
      ">> wine_bucket...\n",
      ">>>> #WARNING wine_bucket is missing from json annotations\n",
      "annotations datasets:  []\n",
      "annotations imgids:  []\n",
      "annotations bbox:  []\n",
      "\n",
      ">> wineglass...\n",
      "TAO\n"
     ]
    },
    {
     "name": "stderr",
     "output_type": "stream",
     "text": [
      " 99%|██████████████████████████████████████████████████████████████████████████▏| 1247/1261 [05:31<00:04,  3.18it/s]\n",
      ">>> Finding TAO wooden_spoon...:  72%|████████████████████████████████▌            | 26/36 [00:00<00:00, 193.55it/s]\u001b[A\n"
     ]
    },
    {
     "name": "stdout",
     "output_type": "stream",
     "text": [
      "\n",
      ">> wing_chair...\n",
      ">>>> #WARNING wing_chair is missing from json annotations\n",
      "annotations datasets:  []\n",
      "annotations imgids:  []\n",
      "annotations bbox:  []\n",
      "\n",
      ">> blinder_(for_horses)...\n",
      ">>>> #WARNING blinder_(for_horses) is missing from json annotations\n",
      "annotations datasets:  []\n",
      "annotations imgids:  []\n",
      "annotations bbox:  []\n",
      "\n",
      ">> wok...\n",
      ">>>> #WARNING wok is missing from json annotations\n",
      "annotations datasets:  []\n",
      "annotations imgids:  []\n",
      "annotations bbox:  []\n",
      "\n",
      ">> wolf...\n",
      ">>>> #WARNING wolf is missing from json annotations\n",
      "annotations datasets:  []\n",
      "annotations imgids:  []\n",
      "annotations bbox:  []\n",
      "\n",
      ">> wooden_spoon...\n",
      "TAO\n",
      "[Errno 2] No such file or directory: 'D:/external_datasets/TAO/TAO_DIR/frames/val/YFCC100M/v_460a1314da9bd32cbd14a2b3414f30/frame1057.jpeg'\n"
     ]
    },
    {
     "name": "stderr",
     "output_type": "stream",
     "text": [
      "\n",
      ">>> Finding TAO wooden_spoon...:  75%|█████████████████████████████████▊           | 27/36 [00:00<00:00, 238.88it/s]\u001b[A"
     ]
    },
    {
     "name": "stdout",
     "output_type": "stream",
     "text": [
      "[Errno 2] No such file or directory: 'D:/external_datasets/TAO/TAO_DIR/frames/val/YFCC100M/v_460a1314da9bd32cbd14a2b3414f30/frame1321.jpeg'\n"
     ]
    },
    {
     "name": "stderr",
     "output_type": "stream",
     "text": [
      "\n",
      "\n",
      ">>> Finding TAO wooden_spoon...:  78%|███████████████████████████████████          | 28/36 [00:00<00:00, 194.51it/s]\u001b[A"
     ]
    },
    {
     "name": "stdout",
     "output_type": "stream",
     "text": [
      "[Errno 2] No such file or directory: 'D:/external_datasets/TAO/TAO_DIR/frames/val/YFCC100M/v_460a1314da9bd32cbd14a2b3414f30/frame0913.jpeg'\n"
     ]
    },
    {
     "name": "stderr",
     "output_type": "stream",
     "text": [
      "\n",
      "\n",
      ">>> Finding TAO wooden_spoon...:  81%|████████████████████████████████████▎        | 29/36 [00:00<00:00, 245.70it/s]\u001b[A"
     ]
    },
    {
     "name": "stdout",
     "output_type": "stream",
     "text": [
      "[Errno 2] No such file or directory: 'D:/external_datasets/TAO/TAO_DIR/frames/val/YFCC100M/v_460a1314da9bd32cbd14a2b3414f30/frame1201.jpeg'\n"
     ]
    },
    {
     "name": "stderr",
     "output_type": "stream",
     "text": [
      "\n",
      "\n",
      ">>> Finding TAO wooden_spoon...:  83%|█████████████████████████████████████▌       | 30/36 [00:00<00:00, 188.98it/s]\u001b[A"
     ]
    },
    {
     "name": "stdout",
     "output_type": "stream",
     "text": [
      "[Errno 2] No such file or directory: 'D:/external_datasets/TAO/TAO_DIR/frames/val/YFCC100M/v_460a1314da9bd32cbd14a2b3414f30/frame1225.jpeg'\n"
     ]
    },
    {
     "name": "stderr",
     "output_type": "stream",
     "text": [
      "\n",
      "100%|███████████████████████████████████████████████████████████████████████████| 1261/1261 [05:32<00:00,  3.79it/s]\n"
     ]
    },
    {
     "name": "stdout",
     "output_type": "stream",
     "text": [
      "\n",
      ">> wreath...\n",
      ">>>> #WARNING wreath is missing from json annotations\n",
      "annotations datasets:  []\n",
      "annotations imgids:  []\n",
      "annotations bbox:  []\n",
      "\n",
      ">> wrench...\n",
      ">>>> #WARNING wrench is missing from json annotations\n",
      "annotations datasets:  []\n",
      "annotations imgids:  []\n",
      "annotations bbox:  []\n",
      "\n",
      ">> wristband...\n",
      ">>>> #WARNING wristband is missing from json annotations\n",
      "annotations datasets:  []\n",
      "annotations imgids:  []\n",
      "annotations bbox:  []\n",
      "\n",
      ">> wristlet...\n",
      ">>>> #WARNING wristlet is missing from json annotations\n",
      "annotations datasets:  []\n",
      "annotations imgids:  []\n",
      "annotations bbox:  []\n",
      "\n",
      ">> yacht...\n",
      ">>>> #WARNING yacht is missing from json annotations\n",
      "annotations datasets:  []\n",
      "annotations imgids:  []\n",
      "annotations bbox:  []\n",
      "\n",
      ">> yak...\n",
      ">>>> #WARNING yak is missing from json annotations\n",
      "annotations datasets:  []\n",
      "annotations imgids:  []\n",
      "annotations bbox:  []\n",
      "\n",
      ">> yogurt...\n",
      ">>>> #WARNING yogurt is missing from json annotations\n",
      "annotations datasets:  []\n",
      "annotations imgids:  []\n",
      "annotations bbox:  []\n",
      "\n",
      ">> yoke_(animal_equipment)...\n",
      ">>>> #WARNING yoke_(animal_equipment) is missing from json annotations\n",
      "annotations datasets:  []\n",
      "annotations imgids:  []\n",
      "annotations bbox:  []\n",
      "\n",
      ">> zucchini...\n",
      ">>>> #WARNING zucchini is missing from json annotations\n",
      "annotations datasets:  []\n",
      "annotations imgids:  []\n",
      "annotations bbox:  []\n"
     ]
    }
   ],
   "source": [
    "classtomix_l=[]\n",
    "classtomix_l_catid=[]\n",
    "method=\"save_images\"\n",
    "if method==\"save_images\": # save images to folder for manual check with \n",
    "    datadir=\"mixers\"\n",
    "    folder=mixer_method+'/' #folder\n",
    "    showimage=False #show images\n",
    "    startidx=0 # start index of image to save from each dataset\n",
    "    imgnr=5 # total number of images to save from each dataset\n",
    "    imgstep='random' # step between images: int | 'random' - int steps between images; 'rand' gets random list\n",
    "    path=os.path.join(rdir,datadir,folder)\n",
    "    assure_path_exists(path) \n",
    "    df=pd.DataFrame({'mixers_l': mixers_l,'mixers_l_catid': mixers_l_catid, 'mixers_l_catdset': mixers_l_catdset, 'classtomix_l': np.nan, 'classtomix_l_catid':np.nan, 'rules':np.nan })\n",
    "    df.loc[0, 'rules']=\"To fix classes: 1) You need to fill the column classtomix_l and/or classtomix_l_catid with the information from the respective mixer columns; 2) When copy/pasting or changing, make sure the same structure maintains:  ['car', 'carrot'], [3, 52], beware of the spaces ['car', '  and always maintain the first class in the list;  3) You have 3 possibilities of filling the columns : 1-the 2 columns empty, meaning the row will not be used for classtomix; 2-only one column empty, e.g. fill the classtotix_l row with the class labels from mixers_l, then during the importing the classtomix_l_catid is filled, and vice-versa; 3-If you want to change the name of the first class in the list,e.g ['car', 'carrot'] for ['automobile', 'carrot'] you need to provide the ids to classtomix_l_catid.\"\n",
    "    excelpath=path+mixer_method+\"_classtomix_report.xlsx\"\n",
    "    df['annotations_missing'] = np.empty((len(df), 0)).tolist()\n",
    "    df['images_missing'] = np.empty((len(df), 0)).tolist()\n",
    "    #save image for each mixer\n",
    "    for i, mixer in enumerate(tqdm(mixers_l)): #run for each mixer category\n",
    "        minclass=mixer\n",
    "        if isinstance(minclass, list): minclass=minclass[0]\n",
    "        print('\\n>> '+minclass+'...') #class\n",
    "        classpath=os.path.join(path, minclass) # folder for images of this class\n",
    "        classpath=parse_path(classpath)+'/' #make it a folder\n",
    "        assure_path_exists(classpath)\n",
    "        df=save_imgs(df, rdir, classpath, i, dset_l, mixers_l, mixers_l_catid, mixers_l_bbox, mixers_l_dset,\n",
    "              mixers_l_imgid, img_l, img_l_id, startidx=startidx, imgnr=imgnr, imgstep=imgstep, showimage=showimage)    \n",
    "    df.to_excel(excelpath, index=False)   "
   ]
  },
  {
   "cell_type": "code",
   "execution_count": 45,
   "metadata": {},
   "outputs": [
    {
     "data": {
      "text/html": [
       "<div>\n",
       "<style scoped>\n",
       "    .dataframe tbody tr th:only-of-type {\n",
       "        vertical-align: middle;\n",
       "    }\n",
       "\n",
       "    .dataframe tbody tr th {\n",
       "        vertical-align: top;\n",
       "    }\n",
       "\n",
       "    .dataframe thead th {\n",
       "        text-align: right;\n",
       "    }\n",
       "</style>\n",
       "<table border=\"1\" class=\"dataframe\">\n",
       "  <thead>\n",
       "    <tr style=\"text-align: right;\">\n",
       "      <th></th>\n",
       "      <th>mixers_l</th>\n",
       "      <th>mixers_l_catid</th>\n",
       "      <th>mixers_l_catdset</th>\n",
       "      <th>classtomix_l</th>\n",
       "      <th>classtomix_l_catid</th>\n",
       "      <th>rules</th>\n",
       "      <th>annotations_missing</th>\n",
       "      <th>images_missing</th>\n",
       "    </tr>\n",
       "  </thead>\n",
       "  <tbody>\n",
       "    <tr>\n",
       "      <th>0</th>\n",
       "      <td>person</td>\n",
       "      <td>[1]</td>\n",
       "      <td>['COCO']</td>\n",
       "      <td>aggressive</td>\n",
       "      <td>[43, 44, 45]</td>\n",
       "      <td>To fix classes: 1) You need to fill the column...</td>\n",
       "      <td>[0]</td>\n",
       "      <td>[0]</td>\n",
       "    </tr>\n",
       "    <tr>\n",
       "      <th>1</th>\n",
       "      <td>bicycle</td>\n",
       "      <td>[2]</td>\n",
       "      <td>['COCO']</td>\n",
       "      <td>nonaggressive</td>\n",
       "      <td>NaN</td>\n",
       "      <td>NaN</td>\n",
       "      <td>[0]</td>\n",
       "      <td>[0]</td>\n",
       "    </tr>\n",
       "    <tr>\n",
       "      <th>2</th>\n",
       "      <td>car</td>\n",
       "      <td>[3]</td>\n",
       "      <td>['COCO']</td>\n",
       "      <td>NaN</td>\n",
       "      <td>NaN</td>\n",
       "      <td>NaN</td>\n",
       "      <td>[0]</td>\n",
       "      <td>[0]</td>\n",
       "    </tr>\n",
       "    <tr>\n",
       "      <th>3</th>\n",
       "      <td>motorcycle</td>\n",
       "      <td>[4]</td>\n",
       "      <td>['COCO']</td>\n",
       "      <td>NaN</td>\n",
       "      <td>NaN</td>\n",
       "      <td>NaN</td>\n",
       "      <td>[0]</td>\n",
       "      <td>[0]</td>\n",
       "    </tr>\n",
       "    <tr>\n",
       "      <th>4</th>\n",
       "      <td>airplane</td>\n",
       "      <td>[5]</td>\n",
       "      <td>['COCO']</td>\n",
       "      <td>NaN</td>\n",
       "      <td>NaN</td>\n",
       "      <td>NaN</td>\n",
       "      <td>[0]</td>\n",
       "      <td>[0]</td>\n",
       "    </tr>\n",
       "    <tr>\n",
       "      <th>...</th>\n",
       "      <td>...</td>\n",
       "      <td>...</td>\n",
       "      <td>...</td>\n",
       "      <td>...</td>\n",
       "      <td>...</td>\n",
       "      <td>...</td>\n",
       "      <td>...</td>\n",
       "      <td>...</td>\n",
       "    </tr>\n",
       "    <tr>\n",
       "      <th>1256</th>\n",
       "      <td>yacht</td>\n",
       "      <td>[1305]</td>\n",
       "      <td>['TAO']</td>\n",
       "      <td>NaN</td>\n",
       "      <td>NaN</td>\n",
       "      <td>NaN</td>\n",
       "      <td>[1]</td>\n",
       "      <td>[0]</td>\n",
       "    </tr>\n",
       "    <tr>\n",
       "      <th>1257</th>\n",
       "      <td>yak</td>\n",
       "      <td>[1306]</td>\n",
       "      <td>['TAO']</td>\n",
       "      <td>NaN</td>\n",
       "      <td>NaN</td>\n",
       "      <td>NaN</td>\n",
       "      <td>[1]</td>\n",
       "      <td>[0]</td>\n",
       "    </tr>\n",
       "    <tr>\n",
       "      <th>1258</th>\n",
       "      <td>yogurt</td>\n",
       "      <td>[1307]</td>\n",
       "      <td>['TAO']</td>\n",
       "      <td>NaN</td>\n",
       "      <td>NaN</td>\n",
       "      <td>NaN</td>\n",
       "      <td>[1]</td>\n",
       "      <td>[0]</td>\n",
       "    </tr>\n",
       "    <tr>\n",
       "      <th>1259</th>\n",
       "      <td>yoke_(animal_equipment)</td>\n",
       "      <td>[1308]</td>\n",
       "      <td>['TAO']</td>\n",
       "      <td>NaN</td>\n",
       "      <td>NaN</td>\n",
       "      <td>NaN</td>\n",
       "      <td>[1]</td>\n",
       "      <td>[0]</td>\n",
       "    </tr>\n",
       "    <tr>\n",
       "      <th>1260</th>\n",
       "      <td>zucchini</td>\n",
       "      <td>[1310]</td>\n",
       "      <td>['TAO']</td>\n",
       "      <td>NaN</td>\n",
       "      <td>NaN</td>\n",
       "      <td>NaN</td>\n",
       "      <td>[1]</td>\n",
       "      <td>[0]</td>\n",
       "    </tr>\n",
       "  </tbody>\n",
       "</table>\n",
       "<p>1261 rows × 8 columns</p>\n",
       "</div>"
      ],
      "text/plain": [
       "                     mixers_l mixers_l_catid mixers_l_catdset   classtomix_l  \\\n",
       "0                      person            [1]         ['COCO']     aggressive   \n",
       "1                     bicycle            [2]         ['COCO']  nonaggressive   \n",
       "2                         car            [3]         ['COCO']            NaN   \n",
       "3                  motorcycle            [4]         ['COCO']            NaN   \n",
       "4                    airplane            [5]         ['COCO']            NaN   \n",
       "...                       ...            ...              ...            ...   \n",
       "1256                    yacht         [1305]          ['TAO']            NaN   \n",
       "1257                      yak         [1306]          ['TAO']            NaN   \n",
       "1258                   yogurt         [1307]          ['TAO']            NaN   \n",
       "1259  yoke_(animal_equipment)         [1308]          ['TAO']            NaN   \n",
       "1260                 zucchini         [1310]          ['TAO']            NaN   \n",
       "\n",
       "     classtomix_l_catid                                              rules  \\\n",
       "0          [43, 44, 45]  To fix classes: 1) You need to fill the column...   \n",
       "1                   NaN                                                NaN   \n",
       "2                   NaN                                                NaN   \n",
       "3                   NaN                                                NaN   \n",
       "4                   NaN                                                NaN   \n",
       "...                 ...                                                ...   \n",
       "1256                NaN                                                NaN   \n",
       "1257                NaN                                                NaN   \n",
       "1258                NaN                                                NaN   \n",
       "1259                NaN                                                NaN   \n",
       "1260                NaN                                                NaN   \n",
       "\n",
       "     annotations_missing images_missing  \n",
       "0                    [0]            [0]  \n",
       "1                    [0]            [0]  \n",
       "2                    [0]            [0]  \n",
       "3                    [0]            [0]  \n",
       "4                    [0]            [0]  \n",
       "...                  ...            ...  \n",
       "1256                 [1]            [0]  \n",
       "1257                 [1]            [0]  \n",
       "1258                 [1]            [0]  \n",
       "1259                 [1]            [0]  \n",
       "1260                 [1]            [0]  \n",
       "\n",
       "[1261 rows x 8 columns]"
      ]
     },
     "metadata": {},
     "output_type": "display_data"
    }
   ],
   "source": [
    "# WARNING: CHECK EXCEL FIRST\n",
    "if method==\"save_images\": # reading classtomix from excel\n",
    "    classtomix_l=[]\n",
    "    classtomix_l_catid=[]\n",
    "    df=pd.read_excel(excelpath)\n",
    "    classtomix_df=df.loc[:,'classtomix_l']\n",
    "    classtomix_df_catid=df.loc[:,'classtomix_l_catid']\n",
    "    display(df)\n",
    "    # PARSE COLUMNS TO FIX\n",
    "    classtomix_l=classtomix_df.tolist()\n",
    "    classtomix_l_catid=classtomix_df_catid.tolist()\n",
    "    #convert strings to lists\n",
    "    for icl, cl in enumerate(classtomix_l): \n",
    "        if isinstance(classtomix_l[icl], str): classtomix_l[icl]=convert_unicode(classtomix_l[icl], method='liststr')\n",
    "        if isinstance(classtomix_l_catid[icl], str): classtomix_l_catid[icl]=convert_unicode(classtomix_l_catid[icl], method='listnum')\n",
    "    #parse the columns based on the rules    \n",
    "    for ic, classes in enumerate(classtomix_df):\n",
    "        #1. if only classtomix_l_catid empty - get \n",
    "        if not pd.isnull(classtomix_df.iloc[ic]) and pd.isnull(classtomix_df_catid.iloc[ic]):\n",
    "            if len(classtomix_df.dropna()) == 2: # if only 2 class get remaining ids\n",
    "                chosed_id=np.array([x for x in classtomix_l_catid if str(x) != 'nan' and str(x) !='[]'][0])\n",
    "                remain_id=np.setdiff1d(np.array(cat_l_id), chosed_id)\n",
    "                classtomix_l_catid[ic]=remain_id.tolist()\n",
    "        #2. if only classtomix_l empty - raise\n",
    "        if pd.isnull(classtomix_df.iloc[ic]) and not pd.isnull(classtomix_df_catid.iloc[ic]): \n",
    "            raise RuntimeError('only classtomix_l empty')"
   ]
  },
  {
   "cell_type": "code",
   "execution_count": 46,
   "metadata": {},
   "outputs": [
    {
     "name": "stdout",
     "output_type": "stream",
     "text": [
      ">> Make sure everything is correct: 1.Drop NaN if exist, but make sure the index is the same for the two! \n",
      "\n",
      "[['aggressive'], ['nonaggressive']]\n",
      "[[43, 44, 45], [1, 2, 3, 4, 5, 6, 7, 8, 9, 10, 11, 12, 13, 14, 15, 16, 17, 18, 19, 20, 21, 22, 23, 24, 25, 26, 27, 28, 29, 30, 31, 32, 33, 34, 35, 36, 37, 38, 39, 40, 41, 42, 46, 47, 48, 49, 50, 51, 52, 53, 54, 55, 56, 57, 58, 59, 60, 61, 62, 63, 64, 65, 66, 67, 68, 69, 70, 71, 72, 73, 74, 75, 76, 77, 78, 79, 80, 81, 82, 83, 85, 86, 87, 88, 89, 90, 91, 92, 94, 95, 96, 97, 98, 99, 100, 101, 102, 103, 104, 105, 106, 107, 108, 109, 110, 111, 112, 113, 117, 118, 119, 120, 121, 122, 123, 124, 126, 127, 128, 129, 130, 131, 132, 133, 134, 135, 136, 137, 138, 139, 140, 141, 142, 143, 144, 145, 146, 147, 148, 149, 150, 151, 152, 153, 154, 155, 156, 157, 160, 162, 163, 164, 165, 166, 167, 168, 169, 170, 172, 173, 174, 176, 177, 178, 180, 181, 182, 183, 184, 185, 186, 187, 188, 189, 190, 191, 192, 193, 194, 195, 196, 197, 199, 200, 201, 202, 203, 204, 205, 207, 208, 209, 210, 211, 212, 214, 215, 216, 217, 218, 220, 221, 222, 223, 224, 225, 226, 227, 228, 229, 230, 231, 232, 233, 235, 236, 237, 238, 239, 240, 241, 242, 243, 244, 245, 246, 247, 248, 249, 250, 251, 252, 253, 254, 255, 256, 257, 258, 259, 260, 261, 262, 263, 264, 266, 267, 268, 269, 270, 271, 272, 273, 274, 275, 276, 277, 278, 279, 280, 281, 282, 283, 284, 285, 286, 287, 288, 289, 290, 291, 292, 293, 294, 295, 296, 297, 298, 299, 300, 302, 303, 304, 305, 306, 307, 308, 310, 311, 312, 313, 314, 315, 316, 318, 319, 320, 321, 322, 323, 324, 325, 326, 327, 328, 329, 330, 331, 332, 333, 334, 335, 336, 337, 338, 339, 340, 341, 342, 343, 344, 345, 346, 347, 348, 349, 350, 351, 352, 353, 354, 355, 357, 358, 359, 360, 361, 362, 363, 364, 365, 366, 367, 368, 369, 370, 371, 372, 373, 374, 375, 376, 377, 378, 379, 380, 381, 382, 383, 384, 385, 386, 387, 388, 389, 390, 391, 392, 393, 394, 395, 396, 397, 398, 399, 400, 401, 402, 403, 404, 405, 406, 407, 408, 409, 410, 411, 412, 413, 414, 415, 416, 417, 418, 419, 420, 421, 422, 423, 424, 425, 426, 428, 429, 430, 431, 432, 433, 434, 435, 436, 437, 438, 439, 440, 441, 442, 443, 444, 445, 446, 447, 448, 449, 450, 451, 452, 453, 454, 455, 456, 457, 458, 459, 460, 461, 463, 464, 465, 466, 467, 468, 469, 470, 471, 472, 473, 474, 475, 476, 477, 478, 479, 480, 481, 482, 483, 484, 485, 486, 487, 488, 489, 490, 491, 492, 493, 494, 495, 496, 497, 498, 499, 500, 501, 502, 503, 504, 505, 506, 507, 510, 511, 512, 513, 514, 515, 516, 517, 518, 519, 520, 521, 522, 523, 524, 525, 526, 527, 528, 529, 530, 531, 532, 533, 534, 535, 536, 537, 538, 539, 540, 541, 542, 543, 544, 545, 546, 547, 548, 549, 550, 551, 552, 553, 554, 556, 557, 558, 559, 561, 562, 563, 564, 565, 566, 567, 568, 569, 570, 571, 572, 573, 574, 575, 576, 577, 578, 579, 580, 581, 583, 584, 585, 586, 587, 588, 589, 590, 591, 592, 593, 594, 595, 596, 597, 598, 599, 600, 601, 602, 603, 604, 605, 606, 607, 608, 609, 610, 611, 612, 613, 614, 615, 616, 617, 618, 619, 620, 621, 622, 623, 624, 625, 626, 627, 628, 629, 630, 631, 632, 633, 634, 635, 636, 637, 638, 639, 640, 641, 642, 643, 644, 645, 646, 647, 648, 649, 650, 651, 652, 653, 654, 655, 656, 657, 658, 660, 661, 662, 663, 664, 665, 666, 667, 668, 669, 670, 671, 672, 673, 674, 675, 676, 677, 678, 679, 680, 681, 682, 683, 684, 685, 686, 687, 688, 689, 690, 691, 692, 693, 694, 695, 696, 697, 698, 699, 700, 702, 703, 704, 706, 707, 708, 709, 710, 711, 712, 713, 714, 715, 716, 717, 718, 719, 720, 721, 722, 723, 724, 725, 726, 727, 728, 729, 730, 731, 732, 733, 734, 735, 736, 737, 738, 739, 740, 741, 742, 743, 744, 745, 746, 747, 748, 749, 750, 751, 752, 753, 754, 755, 756, 757, 758, 759, 760, 761, 762, 763, 764, 765, 766, 767, 768, 769, 770, 771, 772, 773, 774, 775, 776, 777, 778, 779, 780, 781, 782, 783, 784, 785, 786, 787, 788, 789, 790, 791, 792, 793, 795, 796, 797, 798, 799, 800, 801, 802, 803, 804, 805, 806, 807, 808, 809, 810, 811, 812, 813, 814, 815, 816, 817, 818, 819, 820, 821, 822, 823, 824, 825, 826, 827, 828, 829, 830, 831, 832, 833, 834, 835, 836, 837, 838, 839, 840, 841, 842, 843, 844, 845, 846, 847, 848, 849, 850, 851, 852, 853, 854, 855, 856, 857, 858, 859, 860, 861, 862, 863, 864, 865, 866, 867, 868, 869, 870, 871, 872, 873, 874, 875, 876, 877, 878, 879, 880, 881, 882, 883, 884, 885, 886, 887, 888, 889, 890, 891, 892, 893, 894, 895, 896, 897, 898, 899, 900, 901, 902, 903, 904, 905, 906, 907, 908, 910, 911, 912, 913, 914, 915, 916, 917, 918, 919, 920, 921, 922, 923, 924, 925, 926, 927, 928, 929, 930, 931, 932, 933, 934, 935, 936, 937, 938, 939, 940, 941, 942, 943, 944, 945, 946, 947, 948, 949, 950, 951, 952, 953, 954, 955, 956, 957, 958, 959, 960, 961, 962, 963, 964, 965, 966, 967, 968, 969, 970, 971, 972, 973, 974, 975, 976, 977, 978, 979, 980, 981, 982, 983, 984, 985, 986, 987, 988, 989, 990, 991, 992, 993, 994, 995, 996, 997, 998, 999, 1000, 1001, 1002, 1003, 1004, 1005, 1007, 1008, 1009, 1010, 1011, 1012, 1013, 1014, 1015, 1016, 1018, 1019, 1020, 1021, 1022, 1023, 1024, 1025, 1026, 1027, 1028, 1029, 1030, 1031, 1032, 1033, 1034, 1035, 1036, 1037, 1038, 1039, 1040, 1042, 1043, 1044, 1045, 1046, 1047, 1048, 1049, 1050, 1051, 1052, 1053, 1054, 1055, 1056, 1057, 1058, 1061, 1062, 1063, 1064, 1065, 1066, 1067, 1068, 1069, 1070, 1071, 1072, 1074, 1075, 1076, 1077, 1078, 1079, 1080, 1081, 1082, 1083, 1084, 1085, 1086, 1087, 1088, 1089, 1090, 1091, 1092, 1093, 1094, 1095, 1096, 1097, 1099, 1100, 1101, 1102, 1103, 1104, 1105, 1106, 1107, 1108, 1109, 1110, 1111, 1112, 1113, 1114, 1115, 1116, 1117, 1118, 1119, 1120, 1121, 1122, 1123, 1124, 1125, 1126, 1127, 1128, 1129, 1130, 1131, 1132, 1133, 1134, 1135, 1136, 1138, 1139, 1140, 1141, 1142, 1143, 1144, 1145, 1146, 1147, 1148, 1149, 1150, 1151, 1152, 1153, 1154, 1155, 1156, 1157, 1158, 1159, 1160, 1161, 1162, 1163, 1164, 1165, 1166, 1167, 1168, 1169, 1170, 1171, 1172, 1173, 1174, 1175, 1176, 1177, 1178, 1179, 1180, 1181, 1182, 1183, 1184, 1185, 1186, 1187, 1188, 1189, 1190, 1191, 1192, 1193, 1194, 1196, 1198, 1199, 1200, 1201, 1203, 1204, 1205, 1206, 1207, 1208, 1209, 1210, 1211, 1212, 1213, 1214, 1215, 1216, 1217, 1218, 1219, 1220, 1221, 1222, 1223, 1225, 1226, 1227, 1228, 1229, 1230, 1231, 1232, 1233, 1234, 1236, 1237, 1238, 1239, 1240, 1241, 1243, 1244, 1245, 1246, 1247, 1248, 1249, 1250, 1251, 1252, 1253, 1254, 1255, 1256, 1257, 1258, 1259, 1260, 1261, 1262, 1263, 1264, 1265, 1266, 1267, 1268, 1269, 1270, 1271, 1272, 1273, 1274, 1275, 1276, 1277, 1278, 1279, 1280, 1281, 1282, 1283, 1284, 1285, 1286, 1287, 1288, 1289, 1290, 1291, 1292, 1293, 1294, 1295, 1296, 1297, 1298, 1299, 1300, 1301, 1302, 1303, 1304, 1305, 1306, 1307, 1308, 1310]]\n"
     ]
    }
   ],
   "source": [
    "print('>> Make sure everything is correct: 1.Drop NaN if exist, but make sure the index is the same for the two! \\n')\n",
    "fixempty=True\n",
    "if fixempty:\n",
    "    classtomix_l=[x for x in classtomix_l if str(x) != 'nan' and str(x) !='[]']\n",
    "    classtomix_l_catid=[x for x in classtomix_l_catid if str(x) != 'nan' and str(x) !='[]']\n",
    "print(classtomix_l)\n",
    "print(classtomix_l_catid)"
   ]
  },
  {
   "cell_type": "markdown",
   "metadata": {},
   "source": [
    "## 4. Mix classes"
   ]
  },
  {
   "cell_type": "code",
   "execution_count": 26,
   "metadata": {},
   "outputs": [],
   "source": [
    "# slow # newjson=copy.deepcopy(mlabjson) #do deepcopy to compare\n",
    "# fast\n",
    "newjson={'categories':[],'annotations':[] }\n",
    "newjson['categories']=copy.copy(mlabjson['categories'])\n",
    "newjson['annotations']=copy.copy(mlabjson['annotations'])"
   ]
  },
  {
   "cell_type": "code",
   "execution_count": 27,
   "metadata": {},
   "outputs": [
    {
     "name": "stdout",
     "output_type": "stream",
     "text": [
      "[[39, 42, 43, 44], [14, 15, 16]]\n"
     ]
    }
   ],
   "source": [
    "classtomix_l_catidx=[[cat_l_id.index(id) for id in id_l] for id_l in classtomix_l_catid]\n",
    "#print(classtomix_l_catidx) # they should be less one, becacuse it is ordered\n",
    "print((classtomix_l_catidx))"
   ]
  },
  {
   "cell_type": "markdown",
   "metadata": {},
   "source": [
    "#### Change mlabjson['categories']: [{name: , id: }]  \n",
    "=>  1. use first index cat id; 2. change name and change id;  remove the other categories (!!!Without ordering again the category id!!!)"
   ]
  },
  {
   "cell_type": "code",
   "execution_count": 28,
   "metadata": {},
   "outputs": [
    {
     "name": "stderr",
     "output_type": "stream",
     "text": [
      "100%|██████████████████████████████████████████████████████████████████████████████████████████| 2/2 [00:00<?, ?it/s]"
     ]
    },
    {
     "name": "stdout",
     "output_type": "stream",
     "text": [
      "1310\n",
      "1308\n",
      "False\n"
     ]
    },
    {
     "name": "stderr",
     "output_type": "stream",
     "text": [
      "\n"
     ]
    }
   ],
   "source": [
    "# CHANGE NAME  & GET REMOVE List\n",
    "keepidx_l=[]\n",
    "keepid_l=[]\n",
    "firstidx=0 # get first category id\n",
    "for i,id_l in enumerate(tqdm(classtomix_l_catid)): #for each classtomix\n",
    "    firstcatid=id_l[firstidx] # #category id \n",
    "    firstcatidx=classtomix_l_catidx[i][firstidx]# get cat index of first catid\n",
    "    if isinstance(classtomix_l[i], list): newjson['categories'][firstcatidx]['name']=classtomix_l[i][firstidx] #change name of first id \n",
    "    else: newjson['categories'][firstcatidx]['name']=classtomix_l[i]\n",
    "    assert newjson['categories'][firstcatidx]['id']==firstcatid #assert id - it should be the same\n",
    "    keepidx_l.append(firstcatidx) #catidx to keep\n",
    "    keepid_l.append(firstcatid) #catid to keep\n",
    "keepidx_l=list(dict.fromkeys(keepidx_l)) # remove duplicates in the keep list\n",
    "allidx_l=[index for index, value in enumerate(mlabjson['categories'])] # allidx in categories\n",
    "removeidx_l=[idx for idx in allidx_l if idx not in keepidx_l] # remove idx \n",
    "removeitem_l=[newjson['categories'][removeidx] for removeidx in removeidx_l] #remove items #WARNING NECESSARY BECAUSE THE INDEX WILL CHANGE\n",
    "print(len(allidx_l))\n",
    "print(len(removeidx_l))\n",
    "print(keepidx_l in removeidx_l)"
   ]
  },
  {
   "cell_type": "code",
   "execution_count": 29,
   "metadata": {},
   "outputs": [],
   "source": [
    "# REMOVE - newjson will be changed\n",
    "for removeitem in removeitem_l: newjson['categories'].remove(removeitem)"
   ]
  },
  {
   "cell_type": "code",
   "execution_count": 30,
   "metadata": {},
   "outputs": [
    {
     "name": "stdout",
     "output_type": "stream",
     "text": [
      "[{'supercategory': 'animal', 'id': 15, 'name': 'nonaggresive', 'dataset': 1}, {'supercategory': 'kitchen', 'id': 40, 'name': 'aggressive', 'dataset': 1}]\n"
     ]
    }
   ],
   "source": [
    "print(newjson['categories'])"
   ]
  },
  {
   "cell_type": "code",
   "execution_count": 31,
   "metadata": {},
   "outputs": [
    {
     "name": "stderr",
     "output_type": "stream",
     "text": [
      "100%|████████████████████████████████████████████████████████████████████████████████| 2/2 [00:00<00:00, 1960.41it/s]"
     ]
    },
    {
     "name": "stdout",
     "output_type": "stream",
     "text": [
      "[40, 15]\n",
      "[1, 0]\n",
      "[1, 2]\n"
     ]
    },
    {
     "name": "stderr",
     "output_type": "stream",
     "text": [
      "\n"
     ]
    }
   ],
   "source": [
    "# GET NEW IDs - #WARNING after remove\n",
    "ct_l_id=[]\n",
    "for i,c in enumerate(tqdm(newjson['categories'])):\n",
    "    ct_l_id.append(c['id'])\n",
    "newidx_l=[ct_l_id.index(id) for id in keepid_l] # make sure same sequence of keepid_l #SAME ORDER AS EXCEL\n",
    "newid_l=[i+1 for i in range(len(keepid_l))] #same sequence of keepid_l\n",
    "print(keepid_l)\n",
    "print(newidx_l)\n",
    "print(newid_l)"
   ]
  },
  {
   "cell_type": "code",
   "execution_count": 32,
   "metadata": {},
   "outputs": [],
   "source": [
    "# SORT IDS - Excel order - newjson will be changed\n",
    "categories_l=copy.copy(newjson['categories'])\n",
    "for i,idx in enumerate(newidx_l):\n",
    "    categories_l[idx]['id']=newid_l[i]\n",
    "for i,idx in enumerate(newidx_l):\n",
    "    newjson['categories'][i]=categories_l[idx] #TODO sort the id in the correct sequence"
   ]
  },
  {
   "cell_type": "code",
   "execution_count": 33,
   "metadata": {},
   "outputs": [
    {
     "name": "stdout",
     "output_type": "stream",
     "text": [
      "[{'supercategory': 'animal', 'id': 2, 'name': 'nonaggresive', 'dataset': 1}, {'supercategory': 'kitchen', 'id': 1, 'name': 'aggressive', 'dataset': 1}]\n",
      "[{'supercategory': 'kitchen', 'id': 1, 'name': 'aggressive', 'dataset': 1}, {'supercategory': 'animal', 'id': 2, 'name': 'nonaggresive', 'dataset': 1}]\n",
      "1310\n"
     ]
    }
   ],
   "source": [
    "#TEST\n",
    "print(categories_l)\n",
    "print(newjson['categories'])\n",
    "print(len(mlabjson['categories']))"
   ]
  },
  {
   "cell_type": "markdown",
   "metadata": {},
   "source": [
    "### QUESTION: REMOVE HYPERPARAMETERS? Mantain only id and NAME? OR irrelevant?"
   ]
  },
  {
   "cell_type": "markdown",
   "metadata": {},
   "source": [
    "#### change mlabjson['annotations']: [{category_id: , }] \n",
    "=> 1.get annotation idx from catid; 2.update annotations id ; 3. update newjson['annotations']"
   ]
  },
  {
   "cell_type": "code",
   "execution_count": 34,
   "metadata": {},
   "outputs": [
    {
     "name": "stdout",
     "output_type": "stream",
     "text": [
      "[['aggressive'], ['nonaggresive']]\n",
      "[[40, 43, 44, 45], [15, 16, 17]]\n",
      "[40, 15]\n",
      "[1, 2]\n",
      "4\n"
     ]
    }
   ],
   "source": [
    "# 1.get annotation idx from catid\n",
    "ann_catid_np=np.array(ann_catid)\n",
    "classtomix_l_ann_catidx=[[np.where(ann_catid_np==id)[0].tolist()  for id in id_l] for id_l in classtomix_l_catid]\n",
    "print(classtomix_l)\n",
    "print(classtomix_l_catid)\n",
    "print(keepid_l)\n",
    "print(newid_l)\n",
    "print(len(classtomix_l_ann_catidx[0]))"
   ]
  },
  {
   "cell_type": "code",
   "execution_count": 46,
   "metadata": {},
   "outputs": [
    {
     "name": "stdout",
     "output_type": "stream",
     "text": [
      "67517\n"
     ]
    }
   ],
   "source": [
    "#2.update annotations id & 3. update newjson['annotations']\n",
    "newjson['annotations']=copy.copy(mlabjson['annotations']) #reset annotations\n",
    "copy_ann_l=copy.copy(newjson['annotations'])\n",
    "newjson['annotations']=[] #clear\n",
    "for i, ann_catidx_l in enumerate(classtomix_l_ann_catidx): \n",
    "    for catidx_l in ann_catidx_l:\n",
    "        for catidx in catidx_l:\n",
    "            copy_ann_l[catidx]['category_id']=newid_l[i] # update catid\n",
    "            newjson['annotations'].append(copy_ann_l[catidx]) #update newjson (annotations sequence id will be lost\n",
    "print(len(newjson['annotations']))"
   ]
  },
  {
   "cell_type": "code",
   "execution_count": 48,
   "metadata": {},
   "outputs": [
    {
     "name": "stdout",
     "output_type": "stream",
     "text": [
      "{'segmentation': [[20.95, 105.11, 20.95, 87.58, 8.43, 80.69, 8.43, 75.06, 38.48, 74.43, 40.35, 66.92, 32.22, 63.79, 39.1, 35.62, 135.51, 37.5, 130.5, 65.04, 128.0, 70.05, 124.87, 108.86, 119.86, 102.6, 119.23, 86.95, 111.72, 86.95, 106.08, 107.61, 104.83, 107.61, 98.57, 90.71, 77.91, 86.33, 64.77, 86.33, 55.38, 90.08, 45.99, 100.73, 45.36, 109.49, 41.61, 110.12, 40.35, 97.6, 35.97, 89.46, 29.71, 86.95, 24.7, 93.84, 24.7, 105.73]], 'area': 5697.957150000001, 'iscrowd': 0, 'image_id': 26929, 'bbox': [8.43, 35.62, 127.08, 74.5], 'category_id': 14, 'id': 8876, 'dataset': 1}\n",
      "{'segmentation': [[163.18, 86.34, 165.19, 114.48, 160.5, 137.93, 151.12, 170.09, 155.14, 213.64, 175.91, 216.32, 191.32, 226.37, 195.34, 222.35, 198.02, 189.52, 198.02, 158.03, 194.0, 145.97, 188.64, 137.93, 185.29, 123.86, 183.28, 99.07, 183.28, 85.67, 181.94, 85.0, 163.85, 85.0]], 'area': 4522.6675, 'iscrowd': 0, 'image_id': 65785, 'bbox': [151.12, 85.0, 46.9, 141.37], 'category_id': 1, 'id': 281397, 'dataset': 1}\n"
     ]
    }
   ],
   "source": [
    "#TEST\n",
    "print(mlabjson['annotations'][8875])\n",
    "print(newjson['annotations'][8875])"
   ]
  },
  {
   "cell_type": "markdown",
   "metadata": {},
   "source": [
    "### 4. Save mixed json"
   ]
  },
  {
   "cell_type": "code",
   "execution_count": 50,
   "metadata": {},
   "outputs": [],
   "source": [
    "# fast\n",
    "mlabjson['categories']=copy.copy(newjson['categories'])\n",
    "mlabjson['annotations']=copy.copy(newjson['annotations'])"
   ]
  },
  {
   "cell_type": "code",
   "execution_count": 51,
   "metadata": {},
   "outputs": [
    {
     "name": "stdout",
     "output_type": "stream",
     "text": [
      "\n",
      " >> SAVING...\n",
      "JSON SAVED : D:/external_datasets/mlabmix_aggressive.json \n",
      "\n"
     ]
    }
   ],
   "source": [
    "# save\n",
    "print('\\n >> SAVING...')\n",
    "jsonfile=rdir+'mlab_mix_aggressive.json'\n",
    "with open(jsonfile, 'w') as f:\n",
    "    json.dump(newjson, f)\n",
    "print(\"JSON SAVED : {} \\n\".format(jsonfile))"
   ]
  },
  {
   "cell_type": "code",
   "execution_count": null,
   "metadata": {},
   "outputs": [],
   "source": []
  }
 ],
 "metadata": {
  "kernelspec": {
   "display_name": "Python 3",
   "language": "python",
   "name": "python3"
  },
  "language_info": {
   "codemirror_mode": {
    "name": "ipython",
    "version": 3
   },
   "file_extension": ".py",
   "mimetype": "text/x-python",
   "name": "python",
   "nbconvert_exporter": "python",
   "pygments_lexer": "ipython3",
   "version": "3.8.3"
  }
 },
 "nbformat": 4,
 "nbformat_minor": 4
}
