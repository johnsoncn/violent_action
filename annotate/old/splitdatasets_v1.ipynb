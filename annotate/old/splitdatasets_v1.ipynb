{
 "cells": [
  {
   "cell_type": "markdown",
   "metadata": {},
   "source": [
    "# split datasets\n",
    "version: 1\n",
    "\n",
    "info:\n",
    "- split json into train.json, val.json and test.json \n",
    "\n",
    "author: nuno costa"
   ]
  },
  {
   "cell_type": "code",
   "execution_count": 1,
   "metadata": {},
   "outputs": [
    {
     "name": "stdout",
     "output_type": "stream",
     "text": [
      "OS: Windows-10-10.0.20279-SP0\n",
      "root dir: D:/external_datasets/MOLA/annotations/\n"
     ]
    }
   ],
   "source": [
    "from annotate_v5 import *\n",
    "import platform \n",
    "import numpy as np\n",
    "import time\n",
    "import pandas as pd\n",
    "from IPython.display import Image, display\n",
    "import copy\n",
    "import os\n",
    "from shutil import copyfile\n",
    "import matplotlib.pyplot as plt\n",
    "from matplotlib.image import imread\n",
    "from matplotlib.patches import Rectangle\n",
    "import random\n",
    "\n",
    "#Define root dir dependent on OS\n",
    "rdir='D:/external_datasets/MOLA/annotations/' \n",
    "if str(platform.platform()).find('linux')>-1: rdir=rdir.replace('D:/','/mnt/d/')\n",
    "print('OS: {}'.format(platform.platform()))\n",
    "print('root dir: {}'.format(rdir))"
   ]
  },
  {
   "cell_type": "markdown",
   "metadata": {},
   "source": [
    "## 1. Init vars"
   ]
  },
  {
   "cell_type": "code",
   "execution_count": 2,
   "metadata": {},
   "outputs": [],
   "source": [
    "train=70\n",
    "val=20\n",
    "test=100-(train+val)\n",
    "injsonfile='mola_fix_equal.json'\n",
    "infilename=injsonfile.split('.')[0]"
   ]
  },
  {
   "cell_type": "code",
   "execution_count": 3,
   "metadata": {},
   "outputs": [
    {
     "name": "stdout",
     "output_type": "stream",
     "text": [
      "info 5\n",
      "licenses 9\n",
      "categories 1261\n",
      "videos 1488\n",
      "images 177936\n",
      "tracks 8132\n",
      "segment_info 0\n",
      "annotations 1338002\n",
      "datasets 2\n"
     ]
    }
   ],
   "source": [
    "# init json\n",
    "molajson =  json.load(open(rdir+injsonfile))\n",
    "for k in molajson:\n",
    "    print(k, len(molajson[k]))"
   ]
  },
  {
   "cell_type": "markdown",
   "metadata": {},
   "source": [
    "## 2. Import ids\n",
    "#### #NOTE: work with ids and index so you can use numpy for faster operations"
   ]
  },
  {
   "cell_type": "code",
   "execution_count": 4,
   "metadata": {},
   "outputs": [],
   "source": [
    "# categories id\n",
    "catids=[]\n",
    "for c in molajson['categories']:\n",
    "    catids.append(c['id'])"
   ]
  },
  {
   "cell_type": "code",
   "execution_count": 5,
   "metadata": {},
   "outputs": [
    {
     "name": "stderr",
     "output_type": "stream",
     "text": [
      "100%|████████████████████████████████████████████████████████████████| 1338002/1338002 [00:00<00:00, 1406837.80it/s]"
     ]
    },
    {
     "name": "stdout",
     "output_type": "stream",
     "text": [
      "1338002\n"
     ]
    },
    {
     "name": "stderr",
     "output_type": "stream",
     "text": [
      "\n"
     ]
    }
   ],
   "source": [
    "# annotations category_id\n",
    "ann_catids=[]\n",
    "ann_ids=[]\n",
    "for an in tqdm(molajson['annotations']):\n",
    "    ann_catids.append(an['category_id'])\n",
    "    ann_ids.append(an['id'])\n",
    "print(len(ann_ids))"
   ]
  },
  {
   "cell_type": "code",
   "execution_count": 6,
   "metadata": {},
   "outputs": [
    {
     "name": "stdout",
     "output_type": "stream",
     "text": [
      "0\n"
     ]
    }
   ],
   "source": [
    "#TEST dupplicates v1 - slow\n",
    "# duplicates_l=list(set([x for x in ann_ids if ann_ids.count(x) > 1])) # duplicates l \n",
    "#TEST dupplicates v2 - fast\n",
    "#from collections import Counter\n",
    "#duplicates_l=[item for item, count in Counter(ann_ids).items() if count > 1]\n",
    "#TEST duplicates v3 -faster\n",
    "u, c = np.unique(np.array(ann_ids), return_counts=True)\n",
    "duplicates_l= u[c > 1].tolist()\n",
    "print(len(duplicates_l))"
   ]
  },
  {
   "cell_type": "markdown",
   "metadata": {},
   "source": [
    "## 3. split annotations\n",
    "#QUESTION Seeded random or not?"
   ]
  },
  {
   "cell_type": "code",
   "execution_count": 59,
   "metadata": {},
   "outputs": [
    {
     "name": "stderr",
     "output_type": "stream",
     "text": [
      "100%|██████████████████████████████████████████████████████████████████████████| 1261/1261 [00:03<00:00, 323.67it/s]"
     ]
    },
    {
     "name": "stdout",
     "output_type": "stream",
     "text": [
      "69.98823619097729\n",
      "19.93248141632075\n",
      "9.960074798094471\n"
     ]
    },
    {
     "name": "stderr",
     "output_type": "stream",
     "text": [
      "\n"
     ]
    }
   ],
   "source": [
    "ann_catids_np=np.array(ann_catids)\n",
    "train_ann_catidx=[]\n",
    "val_ann_catidx=[]\n",
    "test_ann_catidx=[]\n",
    "for catid in tqdm(catids):\n",
    "    ann_idx_np = np.where(ann_catids_np==catid)[0] #annotation index of ids\n",
    "    if not ann_idx_np.any(): continue\n",
    "    #print(\"\\n>> \", catid)\n",
    "    \n",
    "    #assert ann_idx_np\n",
    "    u, c = np.unique(ann_idx_np, return_counts=True)\n",
    "    duplicates_l= u[c > 1].tolist()\n",
    "    assert len(duplicates_l)==0 #assert duplicates (above is already)\n",
    "    assert all([True if ann_catids[i]==catid else False for i in ann_idx_np] ) #assert index belongs to catid\n",
    "    \n",
    "    #parameters\n",
    "    train_size=len(ann_idx_np) * train // 100 #floor division\n",
    "    val_size=len(ann_idx_np) * val // 100\n",
    "    test_size=len(ann_idx_np) * test // 100\n",
    "    \n",
    "    #select data\n",
    "    random.shuffle(ann_idx_np) \n",
    "    train_ann_catidx.extend(ann_idx_np[:train_size].tolist())\n",
    "    val_ann_catidx.extend(ann_idx_np[train_size+1:train_size+val_size-1].tolist())\n",
    "    test_ann_catidx.extend(ann_idx_np[train_size+val_size+1:train_size+val_size+test_size].tolist())\n",
    "    \n",
    "    \"\"\"\n",
    "    OLD  #BUG . np.random.choice() duplicates\n",
    "    remain_idx_np=ann_idx_np.copy() #start 100%\n",
    "    #train\n",
    "    train_idx_np = np.random.choice(remain_idx_np, train_size)\n",
    "    train_ann_catidx.extend(train_idx_np.tolist())\n",
    "    remain_idx_np=remain_idx_np[~np.in1d(remain_idx_np,train_idx_np)]\n",
    "    #val\n",
    "    val_idx_np = np.random.choice(remain_idx_np, val_size)\n",
    "    val_ann_catidx.extend(val_idx_np.tolist())\n",
    "    remain_idx_np=remain_idx_np[~np.in1d(remain_idx_np,val_idx_np)]\n",
    "    #test\n",
    "    test_idx_np = np.random.choice(remain_idx_np, test_size)\n",
    "    test_ann_catidx.extend(test_idx_np.tolist())\n",
    "    remain_idx_np=remain_idx_np[~np.in1d(remain_idx_np,test_idx_np)]\n",
    "    \"\"\"\n",
    "    \n",
    "    \n",
    "\n",
    "print((len(train_ann_catidx)/len(ann_catids))*100)\n",
    "print((len(val_ann_catidx)/len(ann_catids))*100)\n",
    "print((len(test_ann_catidx)/len(ann_catids))*100)"
   ]
  },
  {
   "cell_type": "code",
   "execution_count": 60,
   "metadata": {},
   "outputs": [
    {
     "name": "stdout",
     "output_type": "stream",
     "text": [
      "original:  936444\n",
      "duplicate:  0\n",
      "original:  266697\n",
      "duplicate:  0\n",
      "original:  133266\n",
      "duplicate:  0\n"
     ]
    }
   ],
   "source": [
    "l_dup=[train_ann_catidx, val_ann_catidx,test_ann_catidx ]\n",
    "for i in l_dup:\n",
    "    print('original: ', len(i))\n",
    "    u, c = np.unique(np.array(i), return_counts=True)\n",
    "    duplicates_l= u[c > 1].tolist()\n",
    "    print('duplicate: ',len(duplicates_l))"
   ]
  },
  {
   "cell_type": "markdown",
   "metadata": {},
   "source": [
    "### 4. Save splited jsons"
   ]
  },
  {
   "cell_type": "code",
   "execution_count": 8,
   "metadata": {},
   "outputs": [],
   "source": [
    "percent_idx=[train_ann_catidx,val_ann_catidx, test_ann_catidx]\n",
    "percent_names=['train', 'val', 'test']"
   ]
  },
  {
   "cell_type": "code",
   "execution_count": 9,
   "metadata": {},
   "outputs": [
    {
     "name": "stderr",
     "output_type": "stream",
     "text": [
      "  0%|                                                                                          | 0/3 [00:00<?, ?it/s]"
     ]
    },
    {
     "name": "stdout",
     "output_type": "stream",
     "text": [
      "\n",
      " >> SAVING train...\n"
     ]
    },
    {
     "name": "stderr",
     "output_type": "stream",
     "text": [
      " 33%|███████████████████████████                                                      | 1/3 [02:33<05:06, 153.09s/it]"
     ]
    },
    {
     "name": "stdout",
     "output_type": "stream",
     "text": [
      "JSON SAVED : D:/external_datasets/MOLA/annotations/train.json \n",
      "\n",
      "info 5\n",
      "licenses 9\n",
      "categories 1261\n",
      "videos 1488\n",
      "images 177936\n",
      "tracks 8132\n",
      "segment_info 0\n",
      "annotations 936444\n",
      "datasets 2\n",
      "\n",
      " >> SAVING val...\n"
     ]
    },
    {
     "name": "stderr",
     "output_type": "stream",
     "text": [
      " 67%|██████████████████████████████████████████████████████                           | 2/3 [03:22<02:01, 121.99s/it]"
     ]
    },
    {
     "name": "stdout",
     "output_type": "stream",
     "text": [
      "JSON SAVED : D:/external_datasets/MOLA/annotations/val.json \n",
      "\n",
      "info 5\n",
      "licenses 9\n",
      "categories 1261\n",
      "videos 1488\n",
      "images 177936\n",
      "tracks 8132\n",
      "segment_info 0\n",
      "annotations 267463\n",
      "datasets 2\n",
      "\n",
      " >> SAVING test...\n"
     ]
    },
    {
     "name": "stderr",
     "output_type": "stream",
     "text": [
      "100%|██████████████████████████████████████████████████████████████████████████████████| 3/3 [03:50<00:00, 76.84s/it]"
     ]
    },
    {
     "name": "stdout",
     "output_type": "stream",
     "text": [
      "JSON SAVED : D:/external_datasets/MOLA/annotations/test.json \n",
      "\n",
      "info 5\n",
      "licenses 9\n",
      "categories 1261\n",
      "videos 1488\n",
      "images 177936\n",
      "tracks 8132\n",
      "segment_info 0\n",
      "annotations 133641\n",
      "datasets 2\n"
     ]
    },
    {
     "name": "stderr",
     "output_type": "stream",
     "text": [
      "\n"
     ]
    }
   ],
   "source": [
    "annotations=copy.copy(molajson['annotations']) #reset annotations\n",
    "for i, percent_i in enumerate(tqdm(percent_idx)):\n",
    "    #get new annotations\n",
    "    molajson['annotations']=[annotations[index] for index in percent_i]\n",
    "    # save\n",
    "    print('\\n >> SAVING {}...'.format(percent_names[i]))\n",
    "    outjsonfile=rdir+'split_{}/'.format(infilename)+'{}.json'.format(percent_names[i]) #rdir+'{}_{}.json'.format(percent_names[i],infilename)\n",
    "    with open(outjsonfile, 'w') as f:\n",
    "        json.dump(molajson, f)\n",
    "    print(\"JSON SAVED : {} \\n\".format(outjsonfile))\n",
    "    for k in molajson:\n",
    "        print(k, len(molajson[k]))"
   ]
  },
  {
   "cell_type": "code",
   "execution_count": null,
   "metadata": {},
   "outputs": [],
   "source": []
  },
  {
   "cell_type": "markdown",
   "metadata": {},
   "source": [
    "### 5. TEST SPLIT ANNOTATIONS DUPLICATES"
   ]
  },
  {
   "cell_type": "code",
   "execution_count": 5,
   "metadata": {},
   "outputs": [
    {
     "name": "stdout",
     "output_type": "stream",
     "text": [
      "info 5\n",
      "licenses 9\n",
      "categories 1261\n",
      "videos 1488\n",
      "images 177936\n",
      "tracks 8132\n",
      "segment_info 0\n",
      "annotations 133641\n",
      "datasets 2\n"
     ]
    }
   ],
   "source": [
    "injsonfile='mola_mix_aggressive.json'\n",
    "outjsonfile=rdir+'split_{}/'.format(infilename)+'test.json'\n",
    "# init json\n",
    "molajson =  json.load(open(outjsonfile))\n",
    "for k in molajson:\n",
    "    print(k, len(molajson[k]))"
   ]
  },
  {
   "cell_type": "code",
   "execution_count": 6,
   "metadata": {},
   "outputs": [],
   "source": [
    "a = molajson['annotations']"
   ]
  },
  {
   "cell_type": "code",
   "execution_count": 10,
   "metadata": {},
   "outputs": [
    {
     "name": "stderr",
     "output_type": "stream",
     "text": [
      "  0%|                                                                           | 4/133641 [00:00<2:11:10, 16.98it/s]"
     ]
    },
    {
     "name": "stdout",
     "output_type": "stream",
     "text": [
      ">> d1:  {'segmentation': [[261.3, 350.1, 250.41, 324.93, 272.86, 286.15, 285.11, 266.43, 304.16, 258.94, 307.56, 229.01, 321.17, 216.76, 336.81, 225.61, 346.34, 235.81, 346.34, 268.47, 374.23, 285.47, 371.51, 318.81, 398.72, 350.1, 384.44, 377.32, 344.98, 355.55, 320.49, 350.1, 305.52, 335.82, 288.51, 321.53, 287.83, 309.29, 276.27, 324.93, 272.18, 352.83]], 'num_keypoints': 12, 'area': 11012.1809, 'iscrowd': 0, 'keypoints': [317, 269, 2, 328, 261, 2, 311, 259, 2, 342, 258, 2, 0, 0, 0, 362, 290, 2, 290, 272, 2, 328, 345, 2, 266, 317, 2, 316, 308, 2, 269, 339, 2, 367, 367, 2, 315, 348, 1, 0, 0, 0, 0, 0, 0, 0, 0, 0, 0, 0, 0], 'image_id': 750, 'bbox': [250.41, 216.76, 148.31, 160.56], 'category_id': 1, 'id': 920879, 'dataset': 1} 1\n",
      ">> d2:  {'segmentation': [[261.3, 350.1, 250.41, 324.93, 272.86, 286.15, 285.11, 266.43, 304.16, 258.94, 307.56, 229.01, 321.17, 216.76, 336.81, 225.61, 346.34, 235.81, 346.34, 268.47, 374.23, 285.47, 371.51, 318.81, 398.72, 350.1, 384.44, 377.32, 344.98, 355.55, 320.49, 350.1, 305.52, 335.82, 288.51, 321.53, 287.83, 309.29, 276.27, 324.93, 272.18, 352.83]], 'num_keypoints': 12, 'area': 11012.1809, 'iscrowd': 0, 'keypoints': [317, 269, 2, 328, 261, 2, 311, 259, 2, 342, 258, 2, 0, 0, 0, 362, 290, 2, 290, 272, 2, 328, 345, 2, 266, 317, 2, 316, 308, 2, 269, 339, 2, 367, 367, 2, 315, 348, 1, 0, 0, 0, 0, 0, 0, 0, 0, 0, 0, 0, 0], 'image_id': 750, 'bbox': [250.41, 216.76, 148.31, 160.56], 'category_id': 1, 'id': 920879, 'dataset': 1} 45093\n",
      ">> diff:  45092\n"
     ]
    },
    {
     "name": "stderr",
     "output_type": "stream",
     "text": [
      "  0%|                                                                          | 10/133641 [00:00<2:08:31, 17.33it/s]"
     ]
    },
    {
     "name": "stdout",
     "output_type": "stream",
     "text": [
      ">> d1:  {'segmentation': [[357.49, 235.88, 358.27, 238.98, 358.14, 239.76, 356.33, 239.63, 355.94, 241.57, 355.68, 242.73, 354.13, 243.89, 353.61, 245.58, 353.74, 246.87, 352.32, 247.0, 353.09, 248.42, 351.41, 249.07, 349.86, 251.27, 348.57, 261.48, 348.44, 263.17, 351.41, 263.42, 353.35, 262.39, 353.87, 259.8, 353.09, 257.35, 354.13, 256.44, 355.55, 255.53, 356.2, 256.83, 355.94, 258.9, 355.94, 261.61, 356.2, 264.46, 358.27, 265.49, 359.43, 263.81, 359.95, 261.1, 359.43, 258.77, 358.66, 256.96, 359.69, 254.63, 362.28, 253.08, 363.83, 251.91, 364.6, 250.49, 366.93, 248.68, 365.77, 245.32, 364.99, 242.08, 363.7, 241.31, 362.92, 241.18, 363.18, 240.01, 362.54, 239.63, 362.54, 238.46, 363.83, 238.46, 362.41, 236.91, 361.11, 235.62, 359.82, 235.62]], 'area': 273.03360000000026, 'iscrowd': 0, 'image_id': 98627, 'bbox': [348.44, 235.62, 18.49, 29.87], 'category_id': 1, 'id': 568605, 'dataset': 1} 5\n",
      ">> d2:  {'segmentation': [[357.49, 235.88, 358.27, 238.98, 358.14, 239.76, 356.33, 239.63, 355.94, 241.57, 355.68, 242.73, 354.13, 243.89, 353.61, 245.58, 353.74, 246.87, 352.32, 247.0, 353.09, 248.42, 351.41, 249.07, 349.86, 251.27, 348.57, 261.48, 348.44, 263.17, 351.41, 263.42, 353.35, 262.39, 353.87, 259.8, 353.09, 257.35, 354.13, 256.44, 355.55, 255.53, 356.2, 256.83, 355.94, 258.9, 355.94, 261.61, 356.2, 264.46, 358.27, 265.49, 359.43, 263.81, 359.95, 261.1, 359.43, 258.77, 358.66, 256.96, 359.69, 254.63, 362.28, 253.08, 363.83, 251.91, 364.6, 250.49, 366.93, 248.68, 365.77, 245.32, 364.99, 242.08, 363.7, 241.31, 362.92, 241.18, 363.18, 240.01, 362.54, 239.63, 362.54, 238.46, 363.83, 238.46, 362.41, 236.91, 361.11, 235.62, 359.82, 235.62]], 'area': 273.03360000000026, 'iscrowd': 0, 'image_id': 98627, 'bbox': [348.44, 235.62, 18.49, 29.87], 'category_id': 1, 'id': 568605, 'dataset': 1} 41327\n",
      ">> diff:  41322\n",
      ">> d1:  {'segmentation': [[103.38, 162.87, 105.33, 154.09, 121.91, 145.32, 136.11, 144.83, 163.42, 163.36, 162.45, 175.06, 161.47, 184.82, 161.47, 198.47, 157.57, 210.17, 148.79, 221.88, 138.07, 220.9, 130.26, 217, 135.14, 195.54, 130.26, 177.01, 113.68, 166.29, 102.96, 165.31]], 'num_keypoints': 5, 'area': 2514.61795, 'iscrowd': 0, 'keypoints': [152, 199, 2, 157, 189, 2, 142, 189, 2, 0, 0, 0, 0, 0, 0, 0, 0, 0, 0, 0, 0, 0, 0, 0, 0, 0, 0, 152, 223, 1, 148, 250, 1, 0, 0, 0, 0, 0, 0, 0, 0, 0, 0, 0, 0, 0, 0, 0, 0, 0, 0], 'image_id': 100008, 'bbox': [102.96, 144.83, 60.46, 77.05], 'category_id': 1, 'id': 941874, 'dataset': 1} 8\n",
      ">> d2:  {'segmentation': [[103.38, 162.87, 105.33, 154.09, 121.91, 145.32, 136.11, 144.83, 163.42, 163.36, 162.45, 175.06, 161.47, 184.82, 161.47, 198.47, 157.57, 210.17, 148.79, 221.88, 138.07, 220.9, 130.26, 217, 135.14, 195.54, 130.26, 177.01, 113.68, 166.29, 102.96, 165.31]], 'num_keypoints': 5, 'area': 2514.61795, 'iscrowd': 0, 'keypoints': [152, 199, 2, 157, 189, 2, 142, 189, 2, 0, 0, 0, 0, 0, 0, 0, 0, 0, 0, 0, 0, 0, 0, 0, 0, 0, 0, 152, 223, 1, 148, 250, 1, 0, 0, 0, 0, 0, 0, 0, 0, 0, 0, 0, 0, 0, 0, 0, 0, 0, 0], 'image_id': 100008, 'bbox': [102.96, 144.83, 60.46, 77.05], 'category_id': 1, 'id': 941874, 'dataset': 1} 4464\n",
      ">> diff:  4456\n",
      ">> d1:  {'segmentation': [[542.22, 155.23, 544.92, 164.82, 542.71, 171.45, 545.9, 176.61, 552.54, 176.61, 569.25, 177.35, 565.31, 169.73, 553.27, 159.9, 549.83, 153.76, 545.17, 153.02]], 'num_keypoints': 0, 'area': 368.5895, 'iscrowd': 0, 'keypoints': [0, 0, 0, 0, 0, 0, 0, 0, 0, 0, 0, 0, 0, 0, 0, 0, 0, 0, 0, 0, 0, 0, 0, 0, 0, 0, 0, 0, 0, 0, 0, 0, 0, 0, 0, 0, 0, 0, 0, 0, 0, 0, 0, 0, 0, 0, 0, 0, 0, 0, 0], 'image_id': 100358, 'bbox': [542.22, 153.02, 27.03, 24.33], 'category_id': 1, 'id': 1042527, 'dataset': 1} 10\n",
      ">> d2:  {'segmentation': [[542.22, 155.23, 544.92, 164.82, 542.71, 171.45, 545.9, 176.61, 552.54, 176.61, 569.25, 177.35, 565.31, 169.73, 553.27, 159.9, 549.83, 153.76, 545.17, 153.02]], 'num_keypoints': 0, 'area': 368.5895, 'iscrowd': 0, 'keypoints': [0, 0, 0, 0, 0, 0, 0, 0, 0, 0, 0, 0, 0, 0, 0, 0, 0, 0, 0, 0, 0, 0, 0, 0, 0, 0, 0, 0, 0, 0, 0, 0, 0, 0, 0, 0, 0, 0, 0, 0, 0, 0, 0, 0, 0, 0, 0, 0, 0, 0, 0], 'image_id': 100358, 'bbox': [542.22, 153.02, 27.03, 24.33], 'category_id': 1, 'id': 1042527, 'dataset': 1} 29868\n",
      ">> diff:  29858\n"
     ]
    },
    {
     "name": "stderr",
     "output_type": "stream",
     "text": [
      "  0%|                                                                          | 16/133641 [00:00<2:05:11, 17.79it/s]"
     ]
    },
    {
     "name": "stdout",
     "output_type": "stream",
     "text": [
      ">> d1:  {'segmentation': [[597.98, 135.59, 597.12, 128.24, 598.41, 124.79, 602.3, 123.92, 606.62, 126.52, 607.48, 135.59, 606.19, 137.32, 614.4, 143.8, 613.53, 154.17, 613.53, 159.78, 612.67, 162.37, 610.51, 163.24, 609.21, 164.97, 608.35, 183.54, 607.92, 192.62, 601.87, 193.48, 600.57, 202.12, 599.71, 205.58, 604.89, 207.31, 603.16, 209.03, 594.96, 209.03, 594.52, 202.99, 594.52, 195.64, 594.09, 191.32, 591.07, 194.34, 589.77, 204.28, 589.34, 209.47, 581.13, 207.74, 583.72, 199.53, 584.59, 187.86, 588.04, 168.42, 588.04, 164.1, 587.61, 159.35, 585.02, 156.76, 585.45, 151.14, 587.18, 144.66, 590.2, 139.91, 595.39, 136.02, 597.12, 134.29]], 'area': 1671.5567000000008, 'iscrowd': 0, 'image_id': 69623, 'bbox': [581.13, 123.92, 33.27, 85.55], 'category_id': 1, 'id': 329351, 'dataset': 1} 14\n",
      ">> d2:  {'segmentation': [[597.98, 135.59, 597.12, 128.24, 598.41, 124.79, 602.3, 123.92, 606.62, 126.52, 607.48, 135.59, 606.19, 137.32, 614.4, 143.8, 613.53, 154.17, 613.53, 159.78, 612.67, 162.37, 610.51, 163.24, 609.21, 164.97, 608.35, 183.54, 607.92, 192.62, 601.87, 193.48, 600.57, 202.12, 599.71, 205.58, 604.89, 207.31, 603.16, 209.03, 594.96, 209.03, 594.52, 202.99, 594.52, 195.64, 594.09, 191.32, 591.07, 194.34, 589.77, 204.28, 589.34, 209.47, 581.13, 207.74, 583.72, 199.53, 584.59, 187.86, 588.04, 168.42, 588.04, 164.1, 587.61, 159.35, 585.02, 156.76, 585.45, 151.14, 587.18, 144.66, 590.2, 139.91, 595.39, 136.02, 597.12, 134.29]], 'area': 1671.5567000000008, 'iscrowd': 0, 'image_id': 69623, 'bbox': [581.13, 123.92, 33.27, 85.55], 'category_id': 1, 'id': 329351, 'dataset': 1} 11240\n",
      ">> diff:  11226\n"
     ]
    },
    {
     "name": "stderr",
     "output_type": "stream",
     "text": [
      "  0%|                                                                          | 20/133641 [00:01<2:11:17, 16.96it/s]"
     ]
    },
    {
     "name": "stdout",
     "output_type": "stream",
     "text": [
      ">> d1:  {'segmentation': [[347.64, 388.87, 338.66, 432.64, 334.73, 445.55, 309.48, 444.98, 319.58, 414.68, 324.63, 394.48, 326.31, 383.26, 323.51, 368.11, 323.51, 362.49, 333.61, 366.42, 342.59, 377.08, 345.95, 382.7, 347.64, 385.5, 347.64, 386.62]], 'num_keypoints': 8, 'area': 1726.499, 'iscrowd': 0, 'keypoints': [324, 393, 1, 326, 391, 2, 0, 0, 0, 0, 0, 0, 0, 0, 0, 332, 402, 2, 327, 405, 2, 333, 387, 2, 0, 0, 0, 330, 372, 2, 0, 0, 0, 330, 427, 2, 321, 428, 2, 0, 0, 0, 0, 0, 0, 0, 0, 0, 0, 0, 0], 'image_id': 3493, 'bbox': [309.48, 362.49, 38.16, 83.06], 'category_id': 1, 'id': 926218, 'dataset': 1} 19\n",
      ">> d2:  {'segmentation': [[347.64, 388.87, 338.66, 432.64, 334.73, 445.55, 309.48, 444.98, 319.58, 414.68, 324.63, 394.48, 326.31, 383.26, 323.51, 368.11, 323.51, 362.49, 333.61, 366.42, 342.59, 377.08, 345.95, 382.7, 347.64, 385.5, 347.64, 386.62]], 'num_keypoints': 8, 'area': 1726.499, 'iscrowd': 0, 'keypoints': [324, 393, 1, 326, 391, 2, 0, 0, 0, 0, 0, 0, 0, 0, 0, 332, 402, 2, 327, 405, 2, 333, 387, 2, 0, 0, 0, 330, 372, 2, 0, 0, 0, 330, 427, 2, 321, 428, 2, 0, 0, 0, 0, 0, 0, 0, 0, 0, 0, 0, 0], 'image_id': 3493, 'bbox': [309.48, 362.49, 38.16, 83.06], 'category_id': 1, 'id': 926218, 'dataset': 1} 40039\n",
      ">> diff:  40020\n",
      ">> d1:  {'segmentation': [[385.47, 204.16, 390.04, 167.6, 412.89, 147.03, 425.08, 131.79, 429.65, 94.46, 422.8, 81.51, 400.71, 53.33, 403.75, 44.95, 409.85, 46.47, 417.47, 63.23, 434.99, 75.42, 444.13, 87.61, 438.03, 72.37, 445.65, 60.18, 454.79, 60.94, 459.36, 67.04, 457.84, 76.18, 454.79, 83.8, 457.08, 85.32, 474.6, 86.84, 485.27, 88.37, 492.12, 88.37, 505.83, 74.66, 514.21, 75.42, 519.55, 79.99, 511.93, 89.13, 505.83, 84.56, 496.69, 100.56, 474.6, 104.37, 467.74, 120.36, 463.93, 152.36, 457.08, 194.26, 447.94, 238.44, 453.27, 252.92, 441.08, 253.68, 434.22, 248.35, 436.51, 233.87, 439.56, 185.88, 433.46, 172.17, 412.89, 167.6, 404.51, 184.36, 406.04, 204.16, 399.94, 224.73, 388.52, 217.11, 386.23, 212.54]], 'num_keypoints': 16, 'area': 8004.16745, 'iscrowd': 0, 'keypoints': [443, 88, 2, 448, 85, 2, 440, 84, 2, 457, 81, 1, 0, 0, 0, 461, 95, 2, 435, 80, 2, 490, 95, 2, 420, 68, 2, 504, 84, 2, 410, 56, 2, 447, 153, 2, 423, 147, 2, 449, 197, 2, 395, 172, 2, 438, 242, 2, 393, 209, 2], 'image_id': 14029, 'bbox': [385.47, 44.95, 134.08, 208.73], 'category_id': 1, 'id': 902304, 'dataset': 1} 20\n",
      ">> d2:  {'segmentation': [[385.47, 204.16, 390.04, 167.6, 412.89, 147.03, 425.08, 131.79, 429.65, 94.46, 422.8, 81.51, 400.71, 53.33, 403.75, 44.95, 409.85, 46.47, 417.47, 63.23, 434.99, 75.42, 444.13, 87.61, 438.03, 72.37, 445.65, 60.18, 454.79, 60.94, 459.36, 67.04, 457.84, 76.18, 454.79, 83.8, 457.08, 85.32, 474.6, 86.84, 485.27, 88.37, 492.12, 88.37, 505.83, 74.66, 514.21, 75.42, 519.55, 79.99, 511.93, 89.13, 505.83, 84.56, 496.69, 100.56, 474.6, 104.37, 467.74, 120.36, 463.93, 152.36, 457.08, 194.26, 447.94, 238.44, 453.27, 252.92, 441.08, 253.68, 434.22, 248.35, 436.51, 233.87, 439.56, 185.88, 433.46, 172.17, 412.89, 167.6, 404.51, 184.36, 406.04, 204.16, 399.94, 224.73, 388.52, 217.11, 386.23, 212.54]], 'num_keypoints': 16, 'area': 8004.16745, 'iscrowd': 0, 'keypoints': [443, 88, 2, 448, 85, 2, 440, 84, 2, 457, 81, 1, 0, 0, 0, 461, 95, 2, 435, 80, 2, 490, 95, 2, 420, 68, 2, 504, 84, 2, 410, 56, 2, 447, 153, 2, 423, 147, 2, 449, 197, 2, 395, 172, 2, 438, 242, 2, 393, 209, 2], 'image_id': 14029, 'bbox': [385.47, 44.95, 134.08, 208.73], 'category_id': 1, 'id': 902304, 'dataset': 1} 39086\n",
      ">> diff:  39066\n"
     ]
    },
    {
     "name": "stderr",
     "output_type": "stream",
     "text": [
      "\n"
     ]
    }
   ],
   "source": [
    "#compare\n",
    "comp=[]\n",
    "for i,d1 in enumerate(tqdm(a)):\n",
    "    for ii,d2 in enumerate(a[i+1:]): \n",
    "        comp.append(d1 == d2)\n",
    "        if d1 == d2:\n",
    "            print(\">> d1: \", d1, i)\n",
    "            print(\">> d2: \", d2, i+1+ii)\n",
    "            print(\">> diff: \", 1+ii)\n",
    "    if i==20:break"
   ]
  },
  {
   "cell_type": "code",
   "execution_count": null,
   "metadata": {},
   "outputs": [],
   "source": []
  }
 ],
 "metadata": {
  "kernelspec": {
   "display_name": "Python 3",
   "language": "python",
   "name": "python3"
  },
  "language_info": {
   "codemirror_mode": {
    "name": "ipython",
    "version": 3
   },
   "file_extension": ".py",
   "mimetype": "text/x-python",
   "name": "python",
   "nbconvert_exporter": "python",
   "pygments_lexer": "ipython3",
   "version": "3.8.3"
  }
 },
 "nbformat": 4,
 "nbformat_minor": 4
}
