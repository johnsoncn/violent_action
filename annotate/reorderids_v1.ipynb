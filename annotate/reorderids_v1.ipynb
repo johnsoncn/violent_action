{
 "cells": [
  {
   "cell_type": "markdown",
   "metadata": {},
   "source": [
    "# Reorder ids\n",
    "version: 1\n",
    "\n",
    "info:\n",
    "- reorder ids\n",
    "\n",
    "author: nuno costa"
   ]
  },
  {
   "cell_type": "code",
   "execution_count": 1,
   "metadata": {},
   "outputs": [],
   "source": [
    "from annotate_v5 import *\n",
    "import platform \n",
    "import numpy as np\n",
    "import time\n",
    "import pandas as pd\n",
    "from IPython.display import Image, display\n",
    "import copy\n",
    "import os\n",
    "from shutil import copyfile\n",
    "import matplotlib.pyplot as plt\n",
    "from matplotlib.image import imread\n",
    "from matplotlib.patches import Rectangle\n",
    "import random"
   ]
  },
  {
   "cell_type": "code",
   "execution_count": 2,
   "metadata": {},
   "outputs": [
    {
     "name": "stdout",
     "output_type": "stream",
     "text": [
      "OS: Windows-10-10.0.21277-SP0\n",
      "root dir: D:/external_datasets/MOLA/annotations/\n"
     ]
    }
   ],
   "source": [
    "#Define root dir dependent on OS\n",
    "rdir_dsets='D:/external_datasets/' #WARNING: DATASETS ROOT is OK?\n",
    "rdir='D:/external_datasets/MOLA/' \n",
    "if str(platform.platform()).find('Linux')>-1:\n",
    "    rdir_dsets=rdir_dsets.replace('D:/external_datasets/','/mnt/Data/Datasets/External Datasets/')\n",
    "    rdir=rdir.replace('D:/external_datasets/MOLA/','/mnt/Data/Work/EASYRIDE/P19/NC/yolov5/JSONS/annotations/')\n",
    "print('OS: {}'.format(platform.platform()))\n",
    "print('root datasets dir: {}'.format(rdir_dsets))\n",
    "print('root dir: {}'.format(rdir))"
   ]
  },
  {
   "cell_type": "markdown",
   "metadata": {},
   "source": [
    "INIT VARS"
   ]
  },
  {
   "cell_type": "code",
   "execution_count": 103,
   "metadata": {},
   "outputs": [],
   "source": [
    "# init json\n",
    "injsonfile=\"split_mola_fix_equal/test\"\n",
    "molajson =  json.load(open(rdir+injsonfile+\".json\"))"
   ]
  },
  {
   "cell_type": "code",
   "execution_count": 104,
   "metadata": {},
   "outputs": [
    {
     "name": "stdout",
     "output_type": "stream",
     "text": [
      "info 5\n",
      "licenses 9\n",
      "categories 1261\n",
      "videos 1488\n",
      "images 177936\n",
      "tracks 8132\n",
      "segment_info 0\n",
      "annotations 133266\n",
      "datasets 2\n"
     ]
    }
   ],
   "source": [
    "for k in molajson:\n",
    "    print(k, len(molajson[k]))"
   ]
  },
  {
   "cell_type": "markdown",
   "metadata": {},
   "source": [
    "REORDER IDS"
   ]
  },
  {
   "cell_type": "code",
   "execution_count": 105,
   "metadata": {},
   "outputs": [],
   "source": [
    "# fast\n",
    "newjson={'categories':[],'annotations':[] }\n",
    "newjson['categories']=copy.copy(molajson['categories'])\n",
    "newjson['annotations']=copy.copy(molajson['annotations'])"
   ]
  },
  {
   "cell_type": "code",
   "execution_count": 106,
   "metadata": {},
   "outputs": [],
   "source": [
    "# categories name and id\n",
    "cat_l_id=[]\n",
    "for c in newjson['categories']:\n",
    "    cat_l_id.append(c['id'])"
   ]
  },
  {
   "cell_type": "code",
   "execution_count": 107,
   "metadata": {},
   "outputs": [
    {
     "name": "stderr",
     "output_type": "stream",
     "text": [
      "100%|███████████████████████████████████████████████████████████████████| 133266/133266 [00:00<00:00, 1624571.28it/s]\n"
     ]
    }
   ],
   "source": [
    "# annotations category_id\n",
    "ann_catid=[]\n",
    "for an in tqdm(newjson['annotations']):\n",
    "    ann_catid.append(an['category_id'])"
   ]
  },
  {
   "cell_type": "code",
   "execution_count": 108,
   "metadata": {},
   "outputs": [
    {
     "name": "stdout",
     "output_type": "stream",
     "text": [
      "1310\n",
      "1261\n"
     ]
    }
   ],
   "source": [
    "newids=np.array(range(len(cat_l_id)))+1\n",
    "newids_l=newids.tolist()\n",
    "print(cat_l_id[-1])\n",
    "print(newids_l[-1])"
   ]
  },
  {
   "cell_type": "markdown",
   "metadata": {},
   "source": [
    "CHANGE Categories id"
   ]
  },
  {
   "cell_type": "code",
   "execution_count": 109,
   "metadata": {},
   "outputs": [
    {
     "data": {
      "text/plain": [
       "1261"
      ]
     },
     "execution_count": 109,
     "metadata": {},
     "output_type": "execute_result"
    }
   ],
   "source": [
    "for i,c in enumerate(newjson['categories']):\n",
    "    newjson['categories'][i]['id']=newids_l[i]\n",
    "newjson['categories'][-1]['id']"
   ]
  },
  {
   "cell_type": "markdown",
   "metadata": {},
   "source": [
    "CHANGE Annotations category_id"
   ]
  },
  {
   "cell_type": "code",
   "execution_count": 110,
   "metadata": {},
   "outputs": [
    {
     "name": "stderr",
     "output_type": "stream",
     "text": [
      "100%|██████████████████████████████████████████████████████████████████████████| 1261/1261 [00:00<00:00, 5084.09it/s]\n"
     ]
    }
   ],
   "source": [
    "ann_catid_np=np.array(ann_catid)\n",
    "for i,catid in enumerate(tqdm(cat_l_id)):\n",
    "    ann_idx_np = np.where(ann_catid_np==catid)[0] #annotation index of ids\n",
    "    #if not ann_idx_np.any(): continue\n",
    "    for ann_idx in ann_idx_np:\n",
    "        newjson['annotations'][ann_idx]['category_id']=newids_l[i]"
   ]
  },
  {
   "cell_type": "code",
   "execution_count": 111,
   "metadata": {},
   "outputs": [
    {
     "name": "stdout",
     "output_type": "stream",
     "text": [
      "1\n",
      "1\n",
      "1261\n",
      "1261\n"
     ]
    }
   ],
   "source": [
    "print(molajson['annotations'][10000]['category_id'])\n",
    "print(newjson['annotations'][10000]['category_id'])\n",
    "print(molajson['categories'][-1]['id'])\n",
    "print(newjson['categories'][-1]['id'])"
   ]
  },
  {
   "cell_type": "markdown",
   "metadata": {},
   "source": [
    "### 4. Save fixed json"
   ]
  },
  {
   "cell_type": "code",
   "execution_count": 112,
   "metadata": {},
   "outputs": [],
   "source": [
    "# fast\n",
    "molajson['categories']=copy.copy(newjson['categories'])\n",
    "molajson['annotations']=copy.copy(newjson['annotations'])"
   ]
  },
  {
   "cell_type": "code",
   "execution_count": 113,
   "metadata": {},
   "outputs": [
    {
     "name": "stdout",
     "output_type": "stream",
     "text": [
      "\n",
      " >> SAVING...\n",
      "JSON SAVED : D:/external_datasets/MOLA/annotations/split_mola_fix_equal/test_reorder.json \n",
      "\n"
     ]
    }
   ],
   "source": [
    "# save\n",
    "print('\\n >> SAVING...')\n",
    "jsonfile=rdir+injsonfile+'_reorder.json'\n",
    "with open(jsonfile, 'w') as f:\n",
    "    json.dump(molajson, f)\n",
    "print(\"JSON SAVED : {} \\n\".format(jsonfile))"
   ]
  },
  {
   "cell_type": "code",
   "execution_count": null,
   "metadata": {},
   "outputs": [],
   "source": []
  }
 ],
 "metadata": {
  "kernelspec": {
   "display_name": "Python 3 (ipykernel)",
   "language": "python",
   "name": "python3"
  },
  "language_info": {
   "codemirror_mode": {
    "name": "ipython",
    "version": 3
   },
   "file_extension": ".py",
   "mimetype": "text/x-python",
   "name": "python",
   "nbconvert_exporter": "python",
   "pygments_lexer": "ipython3",
   "version": "3.8.10"
  }
 },
 "nbformat": 4,
 "nbformat_minor": 4
}
