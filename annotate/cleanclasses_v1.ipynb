{
 "cells": [
  {
   "cell_type": "markdown",
   "metadata": {},
   "source": [
    "# Clean Classes=Categories with missing annotations or images\n",
    "version: 1\n",
    "\n",
    "info: \n",
    "- clean_cats: Can be used to remove classes with missing annotations or images:\n",
    "    0. If not mola.json : Manually add dataset descriptors when importing id, e.g. COCO(see below)\n",
    "    1. method=\"save_images\" (if you didn't do it already)\n",
    "    2. don't alter the excel\n",
    "- reorder_ids: It also reorders category id\n",
    "\n",
    "author: nuno costa"
   ]
  },
  {
   "cell_type": "code",
   "execution_count": 78,
   "metadata": {},
   "outputs": [],
   "source": [
    "from annotate_v5 import *\n",
    "import platform \n",
    "import numpy as np\n",
    "import pandas as pd\n",
    "from IPython.display import Image, display\n",
    "import copy\n",
    "import os\n",
    "from shutil import copyfile\n",
    "import matplotlib.pyplot as plt\n",
    "from matplotlib.image import imread\n",
    "from matplotlib.patches import Rectangle\n",
    "import random"
   ]
  },
  {
   "cell_type": "code",
   "execution_count": 79,
   "metadata": {},
   "outputs": [
    {
     "name": "stdout",
     "output_type": "stream",
     "text": [
      "OS: Windows-10-10.0.21292-SP0\n",
      "root datasets dir: D:/external_datasets/\n",
      "root dir: D:/external_datasets/MOLA/\n"
     ]
    }
   ],
   "source": [
    "#Define root dir dependent on OS\n",
    "rdir_dsets='D:/external_datasets/' #WARNING: DATASETS ROOT is OK?\n",
    "rdir='D:/external_datasets/MOLA/'  \n",
    "if str(platform.platform()).find('linux')>-1:\n",
    "    dirdir_dsets=rdir_dsets.replace('D:/','/mnt/d/')\n",
    "    rdir=rdir.replace('D:/','/mnt/d/')\n",
    "print('OS: {}'.format(platform.platform()))\n",
    "print('root datasets dir: {}'.format(rdir_dsets))\n",
    "print('root dir: {}'.format(rdir))"
   ]
  },
  {
   "cell_type": "code",
   "execution_count": 92,
   "metadata": {},
   "outputs": [
    {
     "name": "stdout",
     "output_type": "stream",
     "text": [
      "info 6\n",
      "licenses 8\n",
      "images 123287\n",
      "annotations 1170251\n",
      "categories 80\n"
     ]
    }
   ],
   "source": [
    "#jsonfile\n",
    "injsonfile=\"coco2017\" #\"split_mola_fix_equal/test\"\n",
    "molajson =  json.load(open(rdir+'annotations/'+injsonfile+'.json'))\n",
    "for k in molajson:\n",
    "    print(k, len(molajson[k]))"
   ]
  },
  {
   "cell_type": "markdown",
   "metadata": {},
   "source": [
    "## 1. Import ids\n",
    "#### #NOTE: work with ids and index so you can use numpy for faster operations"
   ]
  },
  {
   "cell_type": "code",
   "execution_count": 93,
   "metadata": {},
   "outputs": [
    {
     "name": "stdout",
     "output_type": "stream",
     "text": [
      "['COCO'] [1]\n"
     ]
    }
   ],
   "source": [
    "# datasets name and id\n",
    "dset_l=[]\n",
    "dset_l_id=[]\n",
    "try:\n",
    "    for d in molajson['datasets']:\n",
    "        dset_l.append(d['name'])\n",
    "        dset_l_id.append(d['id'])\n",
    "except: #manually add for example for only COCO\n",
    "    dset_l=['COCO']\n",
    "    dset_l_id=[1]\n",
    "print(dset_l, dset_l_id)"
   ]
  },
  {
   "cell_type": "code",
   "execution_count": 94,
   "metadata": {},
   "outputs": [],
   "source": [
    "# categories name and id\n",
    "cat_l=[]\n",
    "cat_l_id=[]\n",
    "cat_l_dset=[]\n",
    "for c in molajson['categories']:\n",
    "    cat_l.append(c['name'])\n",
    "    cat_l_id.append(c['id'])\n",
    "    try:\n",
    "        cat_l_dset.append(dset_l[c['dataset']-1]) # dset_l index is same as id-1\n",
    "    except:\n",
    "        cat_l_dset.append(dset_l[0])\n",
    "#print(cat_l_id)"
   ]
  },
  {
   "cell_type": "code",
   "execution_count": 95,
   "metadata": {},
   "outputs": [],
   "source": [
    "# images filepath and id\n",
    "img_l=[]\n",
    "img_l_id=[]\n",
    "for c in molajson['images']:\n",
    "    img_l.append(c['file_name'])\n",
    "    img_l_id.append(c['id'])"
   ]
  },
  {
   "cell_type": "code",
   "execution_count": 96,
   "metadata": {},
   "outputs": [
    {
     "name": "stderr",
     "output_type": "stream",
     "text": [
      "100%|██████████████████████████████████████████████████████████████████| 1170251/1170251 [00:01<00:00, 785834.27it/s]\n"
     ]
    }
   ],
   "source": [
    "# annotations category_id, image_id, bbox, and dataset\n",
    "ann_catid=[]\n",
    "ann_imgid=[]\n",
    "ann_bbox=[]\n",
    "ann_dset=[]\n",
    "for an in tqdm(molajson['annotations']):\n",
    "    ann_catid.append(an['category_id'])\n",
    "    ann_imgid.append(an['image_id'])\n",
    "    ann_bbox.append(an['bbox'])\n",
    "    try:\n",
    "        ann_dset.append(an['dataset'])\n",
    "    except:\n",
    "        ann_dset.append(dset_l_id[0])"
   ]
  },
  {
   "cell_type": "markdown",
   "metadata": {},
   "source": [
    "## 2. Find cleaners cat_ids\n",
    "cleaners example\n",
    "categories= [{name:cow, id:1, dataset:1},...,{name:cow, id:200, dataset:2},...,{name:cow, id:101, dataset:3}]}"
   ]
  },
  {
   "cell_type": "code",
   "execution_count": 97,
   "metadata": {},
   "outputs": [
    {
     "name": "stdout",
     "output_type": "stream",
     "text": [
      "['person', 'bicycle', 'car', 'motorcycle', 'airplane']\n",
      "[[1], [2], [3], [4], [5]]\n",
      "[['COCO'], ['COCO'], ['COCO'], ['COCO'], ['COCO']]\n",
      "80\n",
      "80\n",
      "80\n"
     ]
    }
   ],
   "source": [
    "#cleaners #TODO: SORT alphabetically\n",
    "cleaners_l=[]\n",
    "cleaners_l_catid=[]\n",
    "cleaners_l_catdset=[]\n",
    "cleaner_method=\"all_cats\"\n",
    "if cleaner_method==\"all_cats\": #Do for all category names, even with equal \n",
    "    cleaners_l=cat_l\n",
    "    cleaners_l_catid=[[id] for id in cat_l_id]\n",
    "    cleaners_l_catdset=[[dset] for dset in cat_l_dset]\n",
    "    \n",
    "\n",
    "print(cleaners_l[0:5])\n",
    "print(cleaners_l_catid[0:5])\n",
    "print(cleaners_l_catdset[0:5])\n",
    "print(len(cleaners_l))\n",
    "print(len(cleaners_l_catid))\n",
    "print(len(cleaners_l_catdset))"
   ]
  },
  {
   "cell_type": "code",
   "execution_count": 98,
   "metadata": {},
   "outputs": [
    {
     "name": "stderr",
     "output_type": "stream",
     "text": [
      "100%|████████████████████████████████████████████████████████████████████████████████| 80/80 [00:02<00:00, 35.73it/s]\n"
     ]
    }
   ],
   "source": [
    "# get annotations cleaners\n",
    "ann_catid_np=np.array(ann_catid)\n",
    "ann_imgid_np=np.array(ann_imgid)\n",
    "ann_bbox_np=np.array(ann_bbox)\n",
    "ann_dset_np=np.array(ann_dset)\n",
    "cleaners_l_imgid=[]\n",
    "cleaners_l_bbox=[]\n",
    "cleaners_l_dset=[]\n",
    "for catids in tqdm(cleaners_l_catid):\n",
    "    l_imgid=[]\n",
    "    l_bbox=[]\n",
    "    l_dset=[]\n",
    "    for catid in catids:\n",
    "        ann_idx = np.where(ann_catid_np==catid)[0].tolist() #annotation index of ids\n",
    "        l_imgid.append(ann_imgid_np[ann_idx].tolist())\n",
    "        l_bbox.append(ann_bbox_np[ann_idx].tolist())\n",
    "        l_dset.append(ann_dset_np[ann_idx].tolist())\n",
    "    cleaners_l_imgid.append(l_imgid)\n",
    "    cleaners_l_bbox.append(l_bbox)\n",
    "    cleaners_l_dset.append(l_dset)"
   ]
  },
  {
   "cell_type": "markdown",
   "metadata": {},
   "source": [
    "## 3. Classes|categories to clean w/ EXCEL report"
   ]
  },
  {
   "cell_type": "code",
   "execution_count": 102,
   "metadata": {},
   "outputs": [],
   "source": [
    "#INIT VARS\n",
    "classtoclean_l=[]\n",
    "classtoclean_l_catid=[]\n",
    "method=\"save_images\" #\"save_images\": to save new images and excel for manual inspection; \"\": already saved don't need to repeat and the excel are\n",
    "datadir=\"cleaners/\"+injsonfile+\"/\" #root folder to save cleaner method . #WARNING cleaners/original json that was used to save images and excel\n",
    "folder=cleaner_method+'/' #folder to save images and exel \n",
    "showimage=False #show images\n",
    "startidx=0 # start index of image to save from each dataset\n",
    "imgnr=5 # total number of images to save from each dataset\n",
    "imgstep='random' # step between images: int | 'random' - int steps between images; 'rand' gets random list\n",
    "#paths\n",
    "path=os.path.join(rdir,datadir,folder) #path to folder\n",
    "assure_path_exists(path)\n",
    "excelpath=path+cleaner_method+\"_v1.xlsx\"#path+cleaner_method+\"_classtoclean_report.xlsx\"#path to excel"
   ]
  },
  {
   "cell_type": "code",
   "execution_count": 100,
   "metadata": {
    "collapsed": true,
    "jupyter": {
     "outputs_hidden": true
    }
   },
   "outputs": [
    {
     "name": "stderr",
     "output_type": "stream",
     "text": [
      "  0%|                                                                                         | 0/80 [00:00<?, ?it/s]"
     ]
    },
    {
     "name": "stdout",
     "output_type": "stream",
     "text": [
      "\n",
      ">> person...\n",
      "COCO\n"
     ]
    },
    {
     "name": "stderr",
     "output_type": "stream",
     "text": [
      "  1%|█                                                                                | 1/80 [00:00<01:07,  1.17it/s]"
     ]
    },
    {
     "name": "stdout",
     "output_type": "stream",
     "text": [
      "\n",
      ">> bicycle...\n",
      "COCO\n"
     ]
    },
    {
     "name": "stderr",
     "output_type": "stream",
     "text": [
      "\n",
      ">>> Finding COCO bicycle...:   0%|                                                          | 0/7429 [00:00<?, ?it/s]\u001b[A"
     ]
    },
    {
     "name": "stdout",
     "output_type": "stream",
     "text": [
      "[Errno 2] No such file or directory: 'D:/external_datasets/COCO/2017/images/val2017/000000076416.jpg'\n"
     ]
    },
    {
     "name": "stderr",
     "output_type": "stream",
     "text": [
      "\n",
      "  2%|██                                                                               | 2/80 [00:01<00:59,  1.31it/s]"
     ]
    },
    {
     "name": "stdout",
     "output_type": "stream",
     "text": [
      "\n",
      ">> car...\n",
      "COCO\n"
     ]
    },
    {
     "name": "stderr",
     "output_type": "stream",
     "text": [
      "  4%|███                                                                              | 3/80 [00:01<00:54,  1.41it/s]"
     ]
    },
    {
     "name": "stdout",
     "output_type": "stream",
     "text": [
      "\n",
      ">> motorcycle...\n",
      "COCO\n"
     ]
    },
    {
     "name": "stderr",
     "output_type": "stream",
     "text": [
      "  5%|████                                                                             | 4/80 [00:02<00:49,  1.52it/s]"
     ]
    },
    {
     "name": "stdout",
     "output_type": "stream",
     "text": [
      "\n",
      ">> airplane...\n",
      "COCO\n"
     ]
    },
    {
     "name": "stderr",
     "output_type": "stream",
     "text": [
      "\n",
      ">>> Finding COCO airplane...:   0%|                                                         | 0/5278 [00:00<?, ?it/s]\u001b[A"
     ]
    },
    {
     "name": "stdout",
     "output_type": "stream",
     "text": [
      "[Errno 2] No such file or directory: 'D:/external_datasets/COCO/2017/images/val2017/000000052412.jpg'\n"
     ]
    },
    {
     "name": "stderr",
     "output_type": "stream",
     "text": [
      "\n",
      "  6%|█████                                                                            | 5/80 [00:03<00:46,  1.60it/s]"
     ]
    },
    {
     "name": "stdout",
     "output_type": "stream",
     "text": [
      "\n",
      ">> bus...\n",
      "COCO\n"
     ]
    },
    {
     "name": "stderr",
     "output_type": "stream",
     "text": [
      "  8%|██████                                                                           | 6/80 [00:03<00:43,  1.69it/s]"
     ]
    },
    {
     "name": "stdout",
     "output_type": "stream",
     "text": [
      "\n",
      ">> train...\n",
      "COCO\n"
     ]
    },
    {
     "name": "stderr",
     "output_type": "stream",
     "text": [
      "  9%|███████                                                                          | 7/80 [00:04<00:41,  1.77it/s]"
     ]
    },
    {
     "name": "stdout",
     "output_type": "stream",
     "text": [
      "\n",
      ">> truck...\n",
      "COCO\n"
     ]
    },
    {
     "name": "stderr",
     "output_type": "stream",
     "text": [
      "\n",
      ">>> Finding COCO truck...:   0%|                                                           | 0/10388 [00:00<?, ?it/s]\u001b[A"
     ]
    },
    {
     "name": "stdout",
     "output_type": "stream",
     "text": [
      "[Errno 2] No such file or directory: 'D:/external_datasets/COCO/2017/images/val2017/000000033759.jpg'\n"
     ]
    },
    {
     "name": "stderr",
     "output_type": "stream",
     "text": [
      ">>> Finding COCO truck...:   0%|                                                           | 0/10388 [00:00<?, ?it/s]\n",
      " 10%|████████                                                                         | 8/80 [00:04<00:45,  1.57it/s]"
     ]
    },
    {
     "name": "stdout",
     "output_type": "stream",
     "text": [
      "\n",
      ">> boat...\n",
      "COCO\n"
     ]
    },
    {
     "name": "stderr",
     "output_type": "stream",
     "text": [
      " 11%|█████████                                                                        | 9/80 [00:05<00:42,  1.67it/s]"
     ]
    },
    {
     "name": "stdout",
     "output_type": "stream",
     "text": [
      "\n",
      ">> traffic light...\n",
      "COCO\n"
     ]
    },
    {
     "name": "stderr",
     "output_type": "stream",
     "text": [
      " 12%|██████████                                                                      | 10/80 [00:05<00:39,  1.79it/s]"
     ]
    },
    {
     "name": "stdout",
     "output_type": "stream",
     "text": [
      "\n",
      ">> fire hydrant...\n",
      "COCO\n"
     ]
    },
    {
     "name": "stderr",
     "output_type": "stream",
     "text": [
      "\n",
      ">>> Finding COCO fire hydrant...:   0%|                                                     | 0/1966 [00:00<?, ?it/s]\u001b[A\n",
      " 14%|███████████                                                                     | 11/80 [00:06<00:36,  1.87it/s]"
     ]
    },
    {
     "name": "stdout",
     "output_type": "stream",
     "text": [
      "[Errno 2] No such file or directory: 'D:/external_datasets/COCO/2017/images/val2017/000000296657.jpg'\n",
      "\n",
      ">> stop sign...\n",
      "COCO\n"
     ]
    },
    {
     "name": "stderr",
     "output_type": "stream",
     "text": [
      " 15%|████████████                                                                    | 12/80 [00:06<00:34,  1.95it/s]"
     ]
    },
    {
     "name": "stdout",
     "output_type": "stream",
     "text": [
      "\n",
      ">> parking meter...\n",
      "COCO\n"
     ]
    },
    {
     "name": "stderr",
     "output_type": "stream",
     "text": [
      " 16%|█████████████                                                                   | 13/80 [00:07<00:35,  1.89it/s]"
     ]
    },
    {
     "name": "stdout",
     "output_type": "stream",
     "text": [
      "\n",
      ">> bench...\n",
      "COCO\n"
     ]
    },
    {
     "name": "stderr",
     "output_type": "stream",
     "text": [
      " 18%|██████████████                                                                  | 14/80 [00:07<00:34,  1.94it/s]"
     ]
    },
    {
     "name": "stdout",
     "output_type": "stream",
     "text": [
      "\n",
      ">> bird...\n",
      "COCO\n"
     ]
    },
    {
     "name": "stderr",
     "output_type": "stream",
     "text": [
      " 19%|███████████████                                                                 | 15/80 [00:08<00:32,  1.98it/s]"
     ]
    },
    {
     "name": "stdout",
     "output_type": "stream",
     "text": [
      "\n",
      ">> cat...\n",
      "COCO\n",
      "[Errno 2] No such file or directory: 'D:/external_datasets/COCO/2017/images/val2017/000000240940.jpg'\n"
     ]
    },
    {
     "name": "stderr",
     "output_type": "stream",
     "text": [
      "\n",
      ">>> Finding COCO cat...:   0%|                                                              | 0/4970 [00:00<?, ?it/s]\u001b[A\n",
      " 20%|████████████████                                                                | 16/80 [00:08<00:32,  1.97it/s]"
     ]
    },
    {
     "name": "stdout",
     "output_type": "stream",
     "text": [
      "\n",
      ">> dog...\n",
      "COCO\n"
     ]
    },
    {
     "name": "stderr",
     "output_type": "stream",
     "text": [
      " 21%|█████████████████                                                               | 17/80 [00:09<00:33,  1.87it/s]"
     ]
    },
    {
     "name": "stdout",
     "output_type": "stream",
     "text": [
      "\n",
      ">> horse...\n",
      "COCO\n"
     ]
    },
    {
     "name": "stderr",
     "output_type": "stream",
     "text": [
      " 22%|██████████████████                                                              | 18/80 [00:10<00:33,  1.86it/s]"
     ]
    },
    {
     "name": "stdout",
     "output_type": "stream",
     "text": [
      "\n",
      ">> sheep...\n",
      "COCO\n"
     ]
    },
    {
     "name": "stderr",
     "output_type": "stream",
     "text": [
      " 24%|███████████████████                                                             | 19/80 [00:10<00:32,  1.85it/s]\n",
      ">>> Finding COCO cow...:   0%|                                                              | 0/8527 [00:00<?, ?it/s]\u001b[A\n"
     ]
    },
    {
     "name": "stdout",
     "output_type": "stream",
     "text": [
      "\n",
      ">> cow...\n",
      "COCO\n",
      "[Errno 2] No such file or directory: 'D:/external_datasets/COCO/2017/images/val2017/000000347664.jpg'\n"
     ]
    },
    {
     "name": "stderr",
     "output_type": "stream",
     "text": [
      " 25%|████████████████████                                                            | 20/80 [00:11<00:31,  1.88it/s]"
     ]
    },
    {
     "name": "stdout",
     "output_type": "stream",
     "text": [
      "\n",
      ">> elephant...\n",
      "COCO\n"
     ]
    },
    {
     "name": "stderr",
     "output_type": "stream",
     "text": [
      " 26%|█████████████████████                                                           | 21/80 [00:11<00:32,  1.81it/s]"
     ]
    },
    {
     "name": "stdout",
     "output_type": "stream",
     "text": [
      "\n",
      ">> bear...\n",
      "COCO\n"
     ]
    },
    {
     "name": "stderr",
     "output_type": "stream",
     "text": [
      " 28%|██████████████████████                                                          | 22/80 [00:12<00:31,  1.87it/s]"
     ]
    },
    {
     "name": "stdout",
     "output_type": "stream",
     "text": [
      "\n",
      ">> zebra...\n",
      "COCO\n"
     ]
    },
    {
     "name": "stderr",
     "output_type": "stream",
     "text": [
      " 29%|███████████████████████                                                         | 23/80 [00:12<00:30,  1.87it/s]"
     ]
    },
    {
     "name": "stdout",
     "output_type": "stream",
     "text": [
      "\n",
      ">> giraffe...\n",
      "COCO\n"
     ]
    },
    {
     "name": "stderr",
     "output_type": "stream",
     "text": [
      " 30%|████████████████████████                                                        | 24/80 [00:13<00:28,  1.94it/s]"
     ]
    },
    {
     "name": "stdout",
     "output_type": "stream",
     "text": [
      "\n",
      ">> backpack...\n",
      "COCO\n"
     ]
    },
    {
     "name": "stderr",
     "output_type": "stream",
     "text": [
      "\n",
      ">>> Finding COCO backpack...:   0%|                                                         | 0/9091 [00:00<?, ?it/s]\u001b[A\n",
      " 31%|█████████████████████████                                                       | 25/80 [00:13<00:27,  1.97it/s]"
     ]
    },
    {
     "name": "stdout",
     "output_type": "stream",
     "text": [
      "[Errno 2] No such file or directory: 'D:/external_datasets/COCO/2017/images/val2017/000000492284.jpg'\n",
      "\n",
      ">> umbrella...\n",
      "COCO\n"
     ]
    },
    {
     "name": "stderr",
     "output_type": "stream",
     "text": [
      " 32%|██████████████████████████                                                      | 26/80 [00:14<00:27,  1.95it/s]"
     ]
    },
    {
     "name": "stdout",
     "output_type": "stream",
     "text": [
      "\n",
      ">> handbag...\n",
      "COCO\n"
     ]
    },
    {
     "name": "stderr",
     "output_type": "stream",
     "text": [
      " 34%|███████████████████████████                                                     | 27/80 [00:14<00:26,  1.99it/s]"
     ]
    },
    {
     "name": "stdout",
     "output_type": "stream",
     "text": [
      "\n",
      ">> tie...\n",
      "COCO\n"
     ]
    },
    {
     "name": "stderr",
     "output_type": "stream",
     "text": [
      "\n",
      ">>> Finding COCO tie...:   0%|                                                              | 0/6750 [00:00<?, ?it/s]\u001b[A"
     ]
    },
    {
     "name": "stdout",
     "output_type": "stream",
     "text": [
      "[Errno 2] No such file or directory: 'D:/external_datasets/COCO/2017/images/val2017/000000456559.jpg'\n"
     ]
    },
    {
     "name": "stderr",
     "output_type": "stream",
     "text": [
      "\n",
      " 35%|████████████████████████████                                                    | 28/80 [00:15<00:27,  1.93it/s]"
     ]
    },
    {
     "name": "stdout",
     "output_type": "stream",
     "text": [
      "\n",
      ">> suitcase...\n",
      "COCO\n"
     ]
    },
    {
     "name": "stderr",
     "output_type": "stream",
     "text": [
      " 36%|█████████████████████████████                                                   | 29/80 [00:15<00:25,  1.98it/s]"
     ]
    },
    {
     "name": "stdout",
     "output_type": "stream",
     "text": [
      "\n",
      ">> frisbee...\n",
      "COCO\n"
     ]
    },
    {
     "name": "stderr",
     "output_type": "stream",
     "text": [
      " 38%|██████████████████████████████                                                  | 30/80 [00:16<00:26,  1.92it/s]"
     ]
    },
    {
     "name": "stdout",
     "output_type": "stream",
     "text": [
      "\n",
      ">> skis...\n",
      "COCO\n"
     ]
    },
    {
     "name": "stderr",
     "output_type": "stream",
     "text": [
      " 39%|███████████████████████████████                                                 | 31/80 [00:16<00:25,  1.90it/s]"
     ]
    },
    {
     "name": "stdout",
     "output_type": "stream",
     "text": [
      "\n",
      ">> snowboard...\n",
      "COCO\n"
     ]
    },
    {
     "name": "stderr",
     "output_type": "stream",
     "text": [
      " 40%|████████████████████████████████                                                | 32/80 [00:17<00:24,  1.93it/s]"
     ]
    },
    {
     "name": "stdout",
     "output_type": "stream",
     "text": [
      "\n",
      ">> sports ball...\n",
      "COCO\n"
     ]
    },
    {
     "name": "stderr",
     "output_type": "stream",
     "text": [
      " 41%|█████████████████████████████████                                               | 33/80 [00:17<00:23,  2.00it/s]"
     ]
    },
    {
     "name": "stdout",
     "output_type": "stream",
     "text": [
      "\n",
      ">> kite...\n",
      "COCO\n"
     ]
    },
    {
     "name": "stderr",
     "output_type": "stream",
     "text": [
      " 42%|██████████████████████████████████                                              | 34/80 [00:18<00:22,  2.02it/s]"
     ]
    },
    {
     "name": "stdout",
     "output_type": "stream",
     "text": [
      "\n",
      ">> baseball bat...\n",
      "COCO\n"
     ]
    },
    {
     "name": "stderr",
     "output_type": "stream",
     "text": [
      " 44%|███████████████████████████████████                                             | 35/80 [00:18<00:22,  2.03it/s]"
     ]
    },
    {
     "name": "stdout",
     "output_type": "stream",
     "text": [
      "\n",
      ">> baseball glove...\n",
      "COCO\n"
     ]
    },
    {
     "name": "stderr",
     "output_type": "stream",
     "text": [
      " 45%|████████████████████████████████████                                            | 36/80 [00:19<00:21,  2.01it/s]"
     ]
    },
    {
     "name": "stdout",
     "output_type": "stream",
     "text": [
      "\n",
      ">> skateboard...\n",
      "COCO\n"
     ]
    },
    {
     "name": "stderr",
     "output_type": "stream",
     "text": [
      " 46%|█████████████████████████████████████                                           | 37/80 [00:19<00:22,  1.89it/s]"
     ]
    },
    {
     "name": "stdout",
     "output_type": "stream",
     "text": [
      "\n",
      ">> surfboard...\n",
      "COCO\n",
      "[Errno 2] No such file or directory: 'D:/external_datasets/COCO/2017/images/val2017/000000027972.jpg'\n"
     ]
    },
    {
     "name": "stderr",
     "output_type": "stream",
     "text": [
      "\n",
      ">>> Finding COCO surfboard...:   0%|                                                        | 0/6395 [00:00<?, ?it/s]\u001b[A\n",
      " 48%|██████████████████████████████████████                                          | 38/80 [00:20<00:22,  1.88it/s]"
     ]
    },
    {
     "name": "stdout",
     "output_type": "stream",
     "text": [
      "\n",
      ">> tennis racket...\n",
      "COCO\n"
     ]
    },
    {
     "name": "stderr",
     "output_type": "stream",
     "text": [
      " 49%|███████████████████████████████████████                                         | 39/80 [00:20<00:21,  1.89it/s]"
     ]
    },
    {
     "name": "stdout",
     "output_type": "stream",
     "text": [
      "\n",
      ">> bottle...\n",
      "COCO\n"
     ]
    },
    {
     "name": "stderr",
     "output_type": "stream",
     "text": [
      " 50%|████████████████████████████████████████                                        | 40/80 [00:21<00:21,  1.87it/s]"
     ]
    },
    {
     "name": "stdout",
     "output_type": "stream",
     "text": [
      "\n",
      ">> wine glass...\n",
      "COCO\n"
     ]
    },
    {
     "name": "stderr",
     "output_type": "stream",
     "text": [
      " 51%|█████████████████████████████████████████                                       | 41/80 [00:21<00:20,  1.89it/s]"
     ]
    },
    {
     "name": "stdout",
     "output_type": "stream",
     "text": [
      "\n",
      ">> cup...\n",
      "COCO\n"
     ]
    },
    {
     "name": "stderr",
     "output_type": "stream",
     "text": [
      " 52%|██████████████████████████████████████████                                      | 42/80 [00:22<00:19,  1.90it/s]"
     ]
    },
    {
     "name": "stdout",
     "output_type": "stream",
     "text": [
      "\n",
      ">> fork...\n",
      "COCO\n"
     ]
    },
    {
     "name": "stderr",
     "output_type": "stream",
     "text": [
      " 54%|███████████████████████████████████████████                                     | 43/80 [00:22<00:19,  1.90it/s]"
     ]
    },
    {
     "name": "stdout",
     "output_type": "stream",
     "text": [
      "\n",
      ">> knife...\n",
      "COCO\n"
     ]
    },
    {
     "name": "stderr",
     "output_type": "stream",
     "text": [
      " 55%|████████████████████████████████████████████                                    | 44/80 [00:23<00:19,  1.89it/s]"
     ]
    },
    {
     "name": "stdout",
     "output_type": "stream",
     "text": [
      "\n",
      ">> spoon...\n",
      "COCO\n"
     ]
    },
    {
     "name": "stderr",
     "output_type": "stream",
     "text": [
      " 56%|█████████████████████████████████████████████                                   | 45/80 [00:24<00:18,  1.90it/s]"
     ]
    },
    {
     "name": "stdout",
     "output_type": "stream",
     "text": [
      "\n",
      ">> bowl...\n",
      "COCO\n"
     ]
    },
    {
     "name": "stderr",
     "output_type": "stream",
     "text": [
      " 57%|██████████████████████████████████████████████                                  | 46/80 [00:24<00:17,  1.98it/s]"
     ]
    },
    {
     "name": "stdout",
     "output_type": "stream",
     "text": [
      "\n",
      ">> banana...\n",
      "COCO\n"
     ]
    },
    {
     "name": "stderr",
     "output_type": "stream",
     "text": [
      "\n",
      ">>> Finding COCO banana...:   0%|                                                           | 0/9837 [00:00<?, ?it/s]\u001b[A"
     ]
    },
    {
     "name": "stdout",
     "output_type": "stream",
     "text": [
      "[Errno 2] No such file or directory: 'D:/external_datasets/COCO/2017/images/val2017/000000581781.jpg'\n"
     ]
    },
    {
     "name": "stderr",
     "output_type": "stream",
     "text": [
      "\n",
      "\n",
      ">>> Finding COCO banana...:   0%|                                                   | 1/9837 [00:00<09:38, 17.00it/s]\u001b[A\n",
      " 59%|███████████████████████████████████████████████                                 | 47/80 [00:25<00:17,  1.93it/s]"
     ]
    },
    {
     "name": "stdout",
     "output_type": "stream",
     "text": [
      "[Errno 2] No such file or directory: 'D:/external_datasets/COCO/2017/images/val2017/000000066706.jpg'\n",
      "\n",
      ">> apple...\n",
      "COCO\n"
     ]
    },
    {
     "name": "stderr",
     "output_type": "stream",
     "text": [
      " 60%|████████████████████████████████████████████████                                | 48/80 [00:25<00:16,  1.98it/s]"
     ]
    },
    {
     "name": "stdout",
     "output_type": "stream",
     "text": [
      "\n",
      ">> sandwich...\n",
      "COCO\n"
     ]
    },
    {
     "name": "stderr",
     "output_type": "stream",
     "text": [
      " 61%|█████████████████████████████████████████████████                               | 49/80 [00:25<00:15,  2.05it/s]"
     ]
    },
    {
     "name": "stdout",
     "output_type": "stream",
     "text": [
      "\n",
      ">> orange...\n",
      "COCO\n"
     ]
    },
    {
     "name": "stderr",
     "output_type": "stream",
     "text": [
      " 62%|██████████████████████████████████████████████████                              | 50/80 [00:26<00:15,  1.93it/s]"
     ]
    },
    {
     "name": "stdout",
     "output_type": "stream",
     "text": [
      "\n",
      ">> broccoli...\n",
      "COCO\n"
     ]
    },
    {
     "name": "stderr",
     "output_type": "stream",
     "text": [
      " 64%|███████████████████████████████████████████████████                             | 51/80 [00:27<00:14,  1.99it/s]"
     ]
    },
    {
     "name": "stdout",
     "output_type": "stream",
     "text": [
      "\n",
      ">> carrot...\n",
      "COCO\n"
     ]
    },
    {
     "name": "stderr",
     "output_type": "stream",
     "text": [
      "\n",
      ">>> Finding COCO carrot...:   0%|                                                           | 0/8223 [00:00<?, ?it/s]\u001b[A"
     ]
    },
    {
     "name": "stdout",
     "output_type": "stream",
     "text": [
      "[Errno 2] No such file or directory: 'D:/external_datasets/COCO/2017/images/val2017/000000456143.jpg'\n"
     ]
    },
    {
     "name": "stderr",
     "output_type": "stream",
     "text": [
      "\n",
      " 65%|████████████████████████████████████████████████████                            | 52/80 [00:27<00:14,  1.98it/s]"
     ]
    },
    {
     "name": "stdout",
     "output_type": "stream",
     "text": [
      "\n",
      ">> hot dog...\n",
      "COCO\n"
     ]
    },
    {
     "name": "stderr",
     "output_type": "stream",
     "text": [
      " 66%|█████████████████████████████████████████████████████                           | 53/80 [00:28<00:14,  1.92it/s]"
     ]
    },
    {
     "name": "stdout",
     "output_type": "stream",
     "text": [
      "\n",
      ">> pizza...\n",
      "COCO\n"
     ]
    },
    {
     "name": "stderr",
     "output_type": "stream",
     "text": [
      " 68%|██████████████████████████████████████████████████████                          | 54/80 [00:28<00:13,  1.87it/s]"
     ]
    },
    {
     "name": "stdout",
     "output_type": "stream",
     "text": [
      "\n",
      ">> donut...\n",
      "COCO\n"
     ]
    },
    {
     "name": "stderr",
     "output_type": "stream",
     "text": [
      " 69%|███████████████████████████████████████████████████████                         | 55/80 [00:29<00:13,  1.92it/s]"
     ]
    },
    {
     "name": "stdout",
     "output_type": "stream",
     "text": [
      "\n",
      ">> cake...\n",
      "COCO\n"
     ]
    },
    {
     "name": "stderr",
     "output_type": "stream",
     "text": [
      " 70%|████████████████████████████████████████████████████████                        | 56/80 [00:29<00:12,  1.93it/s]"
     ]
    },
    {
     "name": "stdout",
     "output_type": "stream",
     "text": [
      "\n",
      ">> chair...\n",
      "COCO\n"
     ]
    },
    {
     "name": "stderr",
     "output_type": "stream",
     "text": [
      "\n",
      ">>> Finding COCO chair...:   0%|                                                           | 0/40282 [00:00<?, ?it/s]\u001b[A"
     ]
    },
    {
     "name": "stdout",
     "output_type": "stream",
     "text": [
      "[Errno 2] No such file or directory: 'D:/external_datasets/COCO/2017/images/val2017/000000112378.jpg'\n"
     ]
    },
    {
     "name": "stderr",
     "output_type": "stream",
     "text": [
      "\n",
      " 71%|█████████████████████████████████████████████████████████                       | 57/80 [00:30<00:11,  1.92it/s]"
     ]
    },
    {
     "name": "stdout",
     "output_type": "stream",
     "text": [
      "\n",
      ">> couch...\n",
      "COCO\n"
     ]
    },
    {
     "name": "stderr",
     "output_type": "stream",
     "text": [
      " 72%|██████████████████████████████████████████████████████████                      | 58/80 [00:30<00:11,  1.90it/s]"
     ]
    },
    {
     "name": "stdout",
     "output_type": "stream",
     "text": [
      "\n",
      ">> potted plant...\n",
      "COCO\n"
     ]
    },
    {
     "name": "stderr",
     "output_type": "stream",
     "text": [
      " 74%|███████████████████████████████████████████████████████████                     | 59/80 [00:31<00:10,  1.98it/s]"
     ]
    },
    {
     "name": "stdout",
     "output_type": "stream",
     "text": [
      "\n",
      ">> bed...\n",
      "COCO\n"
     ]
    },
    {
     "name": "stderr",
     "output_type": "stream",
     "text": [
      " 75%|████████████████████████████████████████████████████████████                    | 60/80 [00:31<00:10,  1.98it/s]\n",
      ">>> Finding COCO dining table...:   0%|                                                    | 0/16411 [00:00<?, ?it/s]\u001b[A\n"
     ]
    },
    {
     "name": "stdout",
     "output_type": "stream",
     "text": [
      "\n",
      ">> dining table...\n",
      "COCO\n",
      "[Errno 2] No such file or directory: 'D:/external_datasets/COCO/2017/images/val2017/000000216497.jpg'\n"
     ]
    },
    {
     "name": "stderr",
     "output_type": "stream",
     "text": [
      " 76%|█████████████████████████████████████████████████████████████                   | 61/80 [00:32<00:09,  1.95it/s]"
     ]
    },
    {
     "name": "stdout",
     "output_type": "stream",
     "text": [
      "\n",
      ">> toilet...\n",
      "COCO\n"
     ]
    },
    {
     "name": "stderr",
     "output_type": "stream",
     "text": [
      " 78%|██████████████████████████████████████████████████████████████                  | 62/80 [00:32<00:09,  1.99it/s]"
     ]
    },
    {
     "name": "stdout",
     "output_type": "stream",
     "text": [
      "\n",
      ">> tv...\n",
      "COCO\n"
     ]
    },
    {
     "name": "stderr",
     "output_type": "stream",
     "text": [
      " 79%|███████████████████████████████████████████████████████████████                 | 63/80 [00:33<00:08,  2.03it/s]\n",
      ">>> Finding COCO laptop...:   0%|                                                           | 0/5201 [00:00<?, ?it/s]\u001b[A\n"
     ]
    },
    {
     "name": "stdout",
     "output_type": "stream",
     "text": [
      "\n",
      ">> laptop...\n",
      "COCO\n",
      "[Errno 2] No such file or directory: 'D:/external_datasets/COCO/2017/images/val2017/000000306139.jpg'\n"
     ]
    },
    {
     "name": "stderr",
     "output_type": "stream",
     "text": [
      " 80%|████████████████████████████████████████████████████████████████                | 64/80 [00:33<00:08,  1.81it/s]"
     ]
    },
    {
     "name": "stdout",
     "output_type": "stream",
     "text": [
      "\n",
      ">> mouse...\n",
      "COCO\n"
     ]
    },
    {
     "name": "stderr",
     "output_type": "stream",
     "text": [
      " 81%|█████████████████████████████████████████████████████████████████               | 65/80 [00:34<00:10,  1.42it/s]"
     ]
    },
    {
     "name": "stdout",
     "output_type": "stream",
     "text": [
      "\n",
      ">> remote...\n",
      "COCO\n"
     ]
    },
    {
     "name": "stderr",
     "output_type": "stream",
     "text": [
      " 82%|██████████████████████████████████████████████████████████████████              | 66/80 [00:37<00:18,  1.30s/it]"
     ]
    },
    {
     "name": "stdout",
     "output_type": "stream",
     "text": [
      "\n",
      ">> keyboard...\n",
      "COCO\n"
     ]
    },
    {
     "name": "stderr",
     "output_type": "stream",
     "text": [
      " 84%|███████████████████████████████████████████████████████████████████             | 67/80 [00:38<00:13,  1.06s/it]"
     ]
    },
    {
     "name": "stdout",
     "output_type": "stream",
     "text": [
      "\n",
      ">> cell phone...\n",
      "COCO\n"
     ]
    },
    {
     "name": "stderr",
     "output_type": "stream",
     "text": [
      " 85%|████████████████████████████████████████████████████████████████████            | 68/80 [00:38<00:10,  1.13it/s]"
     ]
    },
    {
     "name": "stdout",
     "output_type": "stream",
     "text": [
      "\n",
      ">> microwave...\n",
      "COCO\n"
     ]
    },
    {
     "name": "stderr",
     "output_type": "stream",
     "text": [
      " 86%|█████████████████████████████████████████████████████████████████████           | 69/80 [00:39<00:08,  1.32it/s]"
     ]
    },
    {
     "name": "stdout",
     "output_type": "stream",
     "text": [
      "\n",
      ">> oven...\n",
      "COCO\n"
     ]
    },
    {
     "name": "stderr",
     "output_type": "stream",
     "text": [
      " 88%|██████████████████████████████████████████████████████████████████████          | 70/80 [00:39<00:06,  1.46it/s]"
     ]
    },
    {
     "name": "stdout",
     "output_type": "stream",
     "text": [
      "\n",
      ">> toaster...\n",
      "COCO\n"
     ]
    },
    {
     "name": "stderr",
     "output_type": "stream",
     "text": [
      " 89%|███████████████████████████████████████████████████████████████████████         | 71/80 [00:39<00:05,  1.64it/s]"
     ]
    },
    {
     "name": "stdout",
     "output_type": "stream",
     "text": [
      "\n",
      ">> sink...\n",
      "COCO\n"
     ]
    },
    {
     "name": "stderr",
     "output_type": "stream",
     "text": [
      "\n",
      ">>> Finding COCO sink...:   0%|                                                             | 0/5835 [00:00<?, ?it/s]\u001b[A\n",
      " 90%|████████████████████████████████████████████████████████████████████████        | 72/80 [00:40<00:04,  1.74it/s]"
     ]
    },
    {
     "name": "stdout",
     "output_type": "stream",
     "text": [
      "[Errno 2] No such file or directory: 'D:/external_datasets/COCO/2017/images/val2017/000000520910.jpg'\n",
      "\n",
      ">> refrigerator...\n",
      "COCO\n",
      "[Errno 2] No such file or directory: 'D:/external_datasets/COCO/2017/images/val2017/000000221708.jpg'\n"
     ]
    },
    {
     "name": "stderr",
     "output_type": "stream",
     "text": [
      "\n",
      ">>> Finding COCO refrigerator...:   0%|                                                     | 0/2763 [00:00<?, ?it/s]\u001b[A\n",
      " 91%|█████████████████████████████████████████████████████████████████████████       | 73/80 [00:40<00:03,  1.85it/s]"
     ]
    },
    {
     "name": "stdout",
     "output_type": "stream",
     "text": [
      "\n",
      ">> book...\n",
      "COCO\n"
     ]
    },
    {
     "name": "stderr",
     "output_type": "stream",
     "text": [
      " 92%|██████████████████████████████████████████████████████████████████████████      | 74/80 [00:41<00:03,  1.84it/s]"
     ]
    },
    {
     "name": "stdout",
     "output_type": "stream",
     "text": [
      "\n",
      ">> clock...\n",
      "COCO\n"
     ]
    },
    {
     "name": "stderr",
     "output_type": "stream",
     "text": [
      " 94%|███████████████████████████████████████████████████████████████████████████     | 75/80 [00:41<00:02,  1.90it/s]"
     ]
    },
    {
     "name": "stdout",
     "output_type": "stream",
     "text": [
      "\n",
      ">> vase...\n",
      "COCO\n"
     ]
    },
    {
     "name": "stderr",
     "output_type": "stream",
     "text": [
      " 95%|████████████████████████████████████████████████████████████████████████████    | 76/80 [00:42<00:02,  1.95it/s]"
     ]
    },
    {
     "name": "stdout",
     "output_type": "stream",
     "text": [
      "\n",
      ">> scissors...\n",
      "COCO\n"
     ]
    },
    {
     "name": "stderr",
     "output_type": "stream",
     "text": [
      " 96%|█████████████████████████████████████████████████████████████████████████████   | 77/80 [00:42<00:01,  2.01it/s]"
     ]
    },
    {
     "name": "stdout",
     "output_type": "stream",
     "text": [
      "\n",
      ">> teddy bear...\n",
      "COCO\n"
     ]
    },
    {
     "name": "stderr",
     "output_type": "stream",
     "text": [
      " 98%|██████████████████████████████████████████████████████████████████████████████  | 78/80 [00:43<00:00,  2.04it/s]"
     ]
    },
    {
     "name": "stdout",
     "output_type": "stream",
     "text": [
      "\n",
      ">> hair drier...\n",
      "COCO\n"
     ]
    },
    {
     "name": "stderr",
     "output_type": "stream",
     "text": [
      " 99%|███████████████████████████████████████████████████████████████████████████████ | 79/80 [00:43<00:00,  1.96it/s]"
     ]
    },
    {
     "name": "stdout",
     "output_type": "stream",
     "text": [
      "\n",
      ">> toothbrush...\n",
      "COCO\n"
     ]
    },
    {
     "name": "stderr",
     "output_type": "stream",
     "text": [
      "100%|████████████████████████████████████████████████████████████████████████████████| 80/80 [00:44<00:00,  1.80it/s]\n"
     ]
    }
   ],
   "source": [
    "#METHODS\n",
    "if method==\"save_images\": # save images and excel to folder for manual edit\n",
    "    df=pd.DataFrame({'cleaners_l': cleaners_l,'cleaners_l_catid': cleaners_l_catid, 'cleaners_l_catdset': cleaners_l_catdset, 'classtoclean_l': np.nan, 'classtoclean_l_catid':np.nan, 'rules':np.nan })\n",
    "    df.loc[0, 'rules']=\"To fix classes: 1) You need to fill the column classtoclean_l and/or classtoclean_l_catid with the information from the respective cleaner columns; 2) When copy/pasting or changing, make sure the same structure maintains:  ['car', 'carrot'], [3, 52], beware of the spaces ['car', '  and always maintain the first class in the list;  3) You have 3 possibilities of filling the columns : 1-the 2 columns empty, meaning the row will not be used for classtoclean; 2-only one column empty, e.g. fill the classtotix_l row with the class labels from cleaners_l, then during the importing the classtoclean_l_catid is filled, and vice-versa; 3-If you want to change the name of the first class in the list,e.g ['car', 'carrot'] for ['automobile', 'carrot'] you need to provide the ids to classtoclean_l_catid.\"\n",
    "    df['annotations_missing'] = np.empty((len(df), 0)).tolist()\n",
    "    df['images_missing'] = np.empty((len(df), 0)).tolist()\n",
    "    #save image for each cleaner\n",
    "    for i, cleaner in enumerate(tqdm(cleaners_l)): #run for each cleaner category\n",
    "        firstclass=cleaner\n",
    "        if isinstance(firstclass, list): firstclass=firstclass[0] #first class\n",
    "        print('\\n>> '+firstclass+'...') #class\n",
    "        classpath=os.path.join(path, firstclass) # path to folder for images of  firstclass\n",
    "        classpath=parse_path(classpath)+'/' #make it a folder\n",
    "        assure_path_exists(classpath)\n",
    "        df=save_imgs(df, rdir_dsets, classpath, i, dset_l, cleaners_l, cleaners_l_catid, cleaners_l_bbox, cleaners_l_dset,\n",
    "              cleaners_l_imgid, img_l, img_l_id, startidx=startidx, imgnr=imgnr, imgstep=imgstep, showimage=showimage)    \n",
    "    df.to_excel(excelpath, index=False)   "
   ]
  },
  {
   "cell_type": "code",
   "execution_count": 113,
   "metadata": {},
   "outputs": [
    {
     "data": {
      "text/html": [
       "<div>\n",
       "<style scoped>\n",
       "    .dataframe tbody tr th:only-of-type {\n",
       "        vertical-align: middle;\n",
       "    }\n",
       "\n",
       "    .dataframe tbody tr th {\n",
       "        vertical-align: top;\n",
       "    }\n",
       "\n",
       "    .dataframe thead th {\n",
       "        text-align: right;\n",
       "    }\n",
       "</style>\n",
       "<table border=\"1\" class=\"dataframe\">\n",
       "  <thead>\n",
       "    <tr style=\"text-align: right;\">\n",
       "      <th></th>\n",
       "      <th>mixers_l</th>\n",
       "      <th>mixers_l_catid</th>\n",
       "      <th>mixers_l_catdset</th>\n",
       "      <th>classtomix_l</th>\n",
       "      <th>classtomix_l_catid</th>\n",
       "      <th>rules</th>\n",
       "      <th>annotations_missing</th>\n",
       "      <th>images_missing</th>\n",
       "    </tr>\n",
       "  </thead>\n",
       "  <tbody>\n",
       "    <tr>\n",
       "      <th>0</th>\n",
       "      <td>person</td>\n",
       "      <td>[1]</td>\n",
       "      <td>['COCO']</td>\n",
       "      <td>NaN</td>\n",
       "      <td>NaN</td>\n",
       "      <td>To fix classes: 1) You need to fill the column...</td>\n",
       "      <td>[0]</td>\n",
       "      <td>[0]</td>\n",
       "    </tr>\n",
       "    <tr>\n",
       "      <th>1</th>\n",
       "      <td>bicycle</td>\n",
       "      <td>[2]</td>\n",
       "      <td>['COCO']</td>\n",
       "      <td>NaN</td>\n",
       "      <td>NaN</td>\n",
       "      <td>NaN</td>\n",
       "      <td>[0]</td>\n",
       "      <td>[0]</td>\n",
       "    </tr>\n",
       "    <tr>\n",
       "      <th>2</th>\n",
       "      <td>car</td>\n",
       "      <td>[3]</td>\n",
       "      <td>['COCO']</td>\n",
       "      <td>NaN</td>\n",
       "      <td>NaN</td>\n",
       "      <td>NaN</td>\n",
       "      <td>[0]</td>\n",
       "      <td>[0]</td>\n",
       "    </tr>\n",
       "    <tr>\n",
       "      <th>3</th>\n",
       "      <td>motorcycle</td>\n",
       "      <td>[4]</td>\n",
       "      <td>['COCO']</td>\n",
       "      <td>NaN</td>\n",
       "      <td>NaN</td>\n",
       "      <td>NaN</td>\n",
       "      <td>[0]</td>\n",
       "      <td>[0]</td>\n",
       "    </tr>\n",
       "    <tr>\n",
       "      <th>4</th>\n",
       "      <td>airplane</td>\n",
       "      <td>[5]</td>\n",
       "      <td>['COCO']</td>\n",
       "      <td>NaN</td>\n",
       "      <td>NaN</td>\n",
       "      <td>NaN</td>\n",
       "      <td>[0]</td>\n",
       "      <td>[0]</td>\n",
       "    </tr>\n",
       "    <tr>\n",
       "      <th>...</th>\n",
       "      <td>...</td>\n",
       "      <td>...</td>\n",
       "      <td>...</td>\n",
       "      <td>...</td>\n",
       "      <td>...</td>\n",
       "      <td>...</td>\n",
       "      <td>...</td>\n",
       "      <td>...</td>\n",
       "    </tr>\n",
       "    <tr>\n",
       "      <th>75</th>\n",
       "      <td>vase</td>\n",
       "      <td>[86]</td>\n",
       "      <td>['COCO']</td>\n",
       "      <td>NaN</td>\n",
       "      <td>NaN</td>\n",
       "      <td>NaN</td>\n",
       "      <td>[0]</td>\n",
       "      <td>[0]</td>\n",
       "    </tr>\n",
       "    <tr>\n",
       "      <th>76</th>\n",
       "      <td>scissors</td>\n",
       "      <td>[87]</td>\n",
       "      <td>['COCO']</td>\n",
       "      <td>NaN</td>\n",
       "      <td>NaN</td>\n",
       "      <td>NaN</td>\n",
       "      <td>[0]</td>\n",
       "      <td>[0]</td>\n",
       "    </tr>\n",
       "    <tr>\n",
       "      <th>77</th>\n",
       "      <td>teddy bear</td>\n",
       "      <td>[88]</td>\n",
       "      <td>['COCO']</td>\n",
       "      <td>NaN</td>\n",
       "      <td>NaN</td>\n",
       "      <td>NaN</td>\n",
       "      <td>[0]</td>\n",
       "      <td>[0]</td>\n",
       "    </tr>\n",
       "    <tr>\n",
       "      <th>78</th>\n",
       "      <td>hair drier</td>\n",
       "      <td>[89]</td>\n",
       "      <td>['COCO']</td>\n",
       "      <td>NaN</td>\n",
       "      <td>NaN</td>\n",
       "      <td>NaN</td>\n",
       "      <td>[0]</td>\n",
       "      <td>[0]</td>\n",
       "    </tr>\n",
       "    <tr>\n",
       "      <th>79</th>\n",
       "      <td>toothbrush</td>\n",
       "      <td>[90]</td>\n",
       "      <td>['COCO']</td>\n",
       "      <td>NaN</td>\n",
       "      <td>NaN</td>\n",
       "      <td>NaN</td>\n",
       "      <td>[0]</td>\n",
       "      <td>[0]</td>\n",
       "    </tr>\n",
       "  </tbody>\n",
       "</table>\n",
       "<p>80 rows × 8 columns</p>\n",
       "</div>"
      ],
      "text/plain": [
       "      mixers_l mixers_l_catid mixers_l_catdset  classtomix_l  \\\n",
       "0       person            [1]         ['COCO']           NaN   \n",
       "1      bicycle            [2]         ['COCO']           NaN   \n",
       "2          car            [3]         ['COCO']           NaN   \n",
       "3   motorcycle            [4]         ['COCO']           NaN   \n",
       "4     airplane            [5]         ['COCO']           NaN   \n",
       "..         ...            ...              ...           ...   \n",
       "75        vase           [86]         ['COCO']           NaN   \n",
       "76    scissors           [87]         ['COCO']           NaN   \n",
       "77  teddy bear           [88]         ['COCO']           NaN   \n",
       "78  hair drier           [89]         ['COCO']           NaN   \n",
       "79  toothbrush           [90]         ['COCO']           NaN   \n",
       "\n",
       "    classtomix_l_catid                                              rules  \\\n",
       "0                  NaN  To fix classes: 1) You need to fill the column...   \n",
       "1                  NaN                                                NaN   \n",
       "2                  NaN                                                NaN   \n",
       "3                  NaN                                                NaN   \n",
       "4                  NaN                                                NaN   \n",
       "..                 ...                                                ...   \n",
       "75                 NaN                                                NaN   \n",
       "76                 NaN                                                NaN   \n",
       "77                 NaN                                                NaN   \n",
       "78                 NaN                                                NaN   \n",
       "79                 NaN                                                NaN   \n",
       "\n",
       "   annotations_missing images_missing  \n",
       "0                  [0]            [0]  \n",
       "1                  [0]            [0]  \n",
       "2                  [0]            [0]  \n",
       "3                  [0]            [0]  \n",
       "4                  [0]            [0]  \n",
       "..                 ...            ...  \n",
       "75                 [0]            [0]  \n",
       "76                 [0]            [0]  \n",
       "77                 [0]            [0]  \n",
       "78                 [0]            [0]  \n",
       "79                 [0]            [0]  \n",
       "\n",
       "[80 rows x 8 columns]"
      ]
     },
     "metadata": {},
     "output_type": "display_data"
    },
    {
     "name": "stdout",
     "output_type": "stream",
     "text": [
      ">> remove_counter:  0\n",
      ">> len(new_cat_l):  80\n",
      ">> len(new_cat_l_id):  80\n"
     ]
    }
   ],
   "source": [
    "#IMPORT EXCEL MANUAL EDIT #WARNING: CHECK EXCEL FIRST (#NOTE: donte use classes with missing annotations and images)\n",
    "df=pd.read_excel(excelpath)\n",
    "classtoclean_df=df.loc[:,'classtoclean_l']\n",
    "classtoclean_df_catid=df.loc[:,'classtoclean_l_catid']\n",
    "cleaners_df_catid=df.loc[:,'cleaners_l_catid']\n",
    "annotations_missing_df=df.loc[:,'annotations_missing']\n",
    "images_missing_df=df.loc[:,'images_missing']\n",
    "new_cat_l=copy.deepcopy(cat_l)\n",
    "new_cat_l_id=copy.deepcopy(cat_l_id)\n",
    "display(df)\n",
    "\n",
    "# PARSE COLUMNS TO FIX\n",
    "classtoclean_l=[]\n",
    "classtoclean_l_catid=[]\n",
    "cleaners_l_catid=cleaners_df_catid.tolist()\n",
    "annotations_missing=annotations_missing_df.tolist()\n",
    "images_missing=images_missing_df.tolist()\n",
    "#convert strings to lists\n",
    "for row, mx in enumerate(cleaners_l_catid):\n",
    "    if isinstance(cleaners_l_catid[row], str): cleaners_l_catid[row]=convert_unicode(cleaners_l_catid[row], method='itemnum')\n",
    "    if isinstance(annotations_missing[row], str): annotations_missing[row]=convert_unicode(annotations_missing[row], method='itemnum')\n",
    "    if isinstance(images_missing[row], str): images_missing[row]=convert_unicode(images_missing[row], method='itemnum')\n",
    "\n",
    "\n",
    "#remove classes with missing annotations and images \n",
    "removeidx_l=[]\n",
    "remove_counter=0\n",
    "remove_missings=True #remove classes with missing annotations or images\n",
    "if remove_missings:\n",
    "    for ir,catid in enumerate(new_cat_l_id):\n",
    "        clean_idx = cleaners_l_catid.index(catid) #index of cat in excel cleaners_l\n",
    "        if annotations_missing[clean_idx]==1 or images_missing[clean_idx]==1:\n",
    "            #print(\">> removing {},{}: annotations_missing={}, images_missing={} \".format(new_cat_l[ir],new_cat_l_id[ir],annotations_missing[clean_idx],images_missing[clean_idx] ))\n",
    "            remove_counter+=1\n",
    "            removeidx_l.append(ir)\n",
    "            #NOTE: we assume (classtoclean_l_catid) are classes with no missing annotations and images\n",
    "    removeitem_l=[new_cat_l[removeidx] for removeidx in removeidx_l] ##remove items instead of index #WARNING NECESSARY BECAUSE THE INDEX WILL CHANGE\n",
    "    for removeitem in removeitem_l: new_cat_l.remove(removeitem) \n",
    "    removeitem_l=[new_cat_l_id[removeidx] for removeidx in removeidx_l] ##remove items instead of index #WARNING NECESSARY BECAUSE THE INDEX WILL CHANGE\n",
    "    for removeitem in removeitem_l: new_cat_l_id.remove(removeitem)\n",
    "print(\">> remove_counter: \", remove_counter )\n",
    "print(\">> len(new_cat_l): \", len(new_cat_l) )\n",
    "print(\">> len(new_cat_l_id): \", len(new_cat_l_id) )\n",
    "\n",
    "\n",
    "classtoclean_l=new_cat_l\n",
    "classtoclean_l_catid= [[id] for id in new_cat_l_id] #needs to be a list\n",
    "\n",
    "\n",
    "        "
   ]
  },
  {
   "cell_type": "code",
   "execution_count": 114,
   "metadata": {},
   "outputs": [
    {
     "name": "stdout",
     "output_type": "stream",
     "text": [
      ">> Make sure everything is correct: 1.Drop NaN if exist, but make sure the index is the same for the two! \n",
      "\n",
      "80\n",
      "80\n"
     ]
    }
   ],
   "source": [
    "print('>> Make sure everything is correct: 1.Drop NaN if exist, but make sure the index is the same for the two! \\n')\n",
    "fixempty=True\n",
    "if fixempty:\n",
    "    classtoclean_l=[x for x in classtoclean_l if str(x) != 'nan' and str(x) !='[]']\n",
    "    classtoclean_l_catid=[x for x in classtoclean_l_catid if str(x) != 'nan' and str(x) !='[]']\n",
    "print(len(classtoclean_l))\n",
    "print(len(classtoclean_l_catid))"
   ]
  },
  {
   "cell_type": "code",
   "execution_count": 115,
   "metadata": {},
   "outputs": [
    {
     "name": "stdout",
     "output_type": "stream",
     "text": [
      "toothbrush\n",
      "[90]\n"
     ]
    }
   ],
   "source": [
    "print(classtoclean_l[-1])\n",
    "print(classtoclean_l_catid[-1])"
   ]
  },
  {
   "cell_type": "markdown",
   "metadata": {},
   "source": [
    "## 4. clean classes"
   ]
  },
  {
   "cell_type": "code",
   "execution_count": 116,
   "metadata": {},
   "outputs": [],
   "source": [
    "# slow # newjson=copy.deepcopy(molajson) #do deepcopy to compare\n",
    "# fast\n",
    "newjson={'categories':[],'annotations':[] }\n",
    "newjson['categories']=copy.copy(molajson['categories'])\n",
    "newjson['annotations']=copy.copy(molajson['annotations'])"
   ]
  },
  {
   "cell_type": "code",
   "execution_count": 117,
   "metadata": {},
   "outputs": [
    {
     "name": "stdout",
     "output_type": "stream",
     "text": [
      "80\n"
     ]
    }
   ],
   "source": [
    "classtoclean_l_catidx=[[cat_l_id.index(id) for id in id_l] for id_l in classtoclean_l_catid]\n",
    "#print(classtoclean_l_catidx) # they should be less one, becacuse it is ordered\n",
    "print(len(classtoclean_l_catidx))"
   ]
  },
  {
   "cell_type": "markdown",
   "metadata": {},
   "source": [
    "#### Change molajson['categories']: [{name: , id: }]  \n",
    "=>  1. use first index cat id; 2. change name and change id;  remove the other categories (!!!Without ordering again the category id!!!)"
   ]
  },
  {
   "cell_type": "code",
   "execution_count": 118,
   "metadata": {},
   "outputs": [
    {
     "name": "stderr",
     "output_type": "stream",
     "text": [
      "100%|████████████████████████████████████████████████████████████████████████████████████████| 80/80 [00:00<?, ?it/s]"
     ]
    },
    {
     "name": "stdout",
     "output_type": "stream",
     "text": [
      "80\n",
      "0\n",
      "80\n",
      "False\n"
     ]
    },
    {
     "name": "stderr",
     "output_type": "stream",
     "text": [
      "\n"
     ]
    }
   ],
   "source": [
    "# CHANGE NAME  & GET REMOVE List\n",
    "keepidx_l=[]\n",
    "keepid_l=[]\n",
    "firstidx=0 # get first category id\n",
    "for i,id_l in enumerate(tqdm(classtoclean_l_catid)): #for each classtoclean\n",
    "    firstcatid=id_l[firstidx] # #category id \n",
    "    firstcatidx=classtoclean_l_catidx[i][firstidx]# get cat index of first catid\n",
    "    if isinstance(classtoclean_l[i], list): newjson['categories'][firstcatidx]['name']=classtoclean_l[i][firstidx] #change name of first id \n",
    "    else: newjson['categories'][firstcatidx]['name']=classtoclean_l[i]\n",
    "    assert newjson['categories'][firstcatidx]['id']==firstcatid #assert id - it should be the same\n",
    "    keepidx_l.append(firstcatidx) #catidx to keep\n",
    "    keepid_l.append(firstcatid) #catid to keep\n",
    "keepidx_l=list(dict.fromkeys(keepidx_l)) # remove duplicates in the keep list\n",
    "allidx_l=[index for index, value in enumerate(molajson['categories'])] # allidx in categories\n",
    "removeidx_l=[idx for idx in allidx_l if idx not in keepidx_l] # remove idx \n",
    "removeitem_l=[newjson['categories'][removeidx] for removeidx in removeidx_l] #remove items #WARNING NECESSARY BECAUSE THE INDEX WILL CHANGE\n",
    "print(len(allidx_l))\n",
    "print(len(removeidx_l))\n",
    "print(len(allidx_l)-len(removeidx_l))\n",
    "print(keepidx_l in removeidx_l)"
   ]
  },
  {
   "cell_type": "markdown",
   "metadata": {},
   "source": [
    "REMOVE CLASSES"
   ]
  },
  {
   "cell_type": "code",
   "execution_count": 119,
   "metadata": {},
   "outputs": [],
   "source": [
    "# REMOVE - newjson will be changed\n",
    "for removeitem in removeitem_l: newjson['categories'].remove(removeitem)"
   ]
  },
  {
   "cell_type": "code",
   "execution_count": 120,
   "metadata": {},
   "outputs": [
    {
     "name": "stdout",
     "output_type": "stream",
     "text": [
      "{'supercategory': 'indoor', 'id': 90, 'name': 'toothbrush'}\n",
      "{'supercategory': 'indoor', 'id': 90, 'name': 'toothbrush'}\n"
     ]
    }
   ],
   "source": [
    "print(newjson['categories'][-1])\n",
    "print(molajson['categories'][-1])"
   ]
  },
  {
   "cell_type": "markdown",
   "metadata": {},
   "source": [
    "REORDER IDs"
   ]
  },
  {
   "cell_type": "code",
   "execution_count": 121,
   "metadata": {},
   "outputs": [
    {
     "name": "stderr",
     "output_type": "stream",
     "text": [
      "100%|█████████████████████████████████████████████████████████████████████████████| 80/80 [00:00<00:00, 79758.57it/s]"
     ]
    },
    {
     "name": "stdout",
     "output_type": "stream",
     "text": [
      "[1, 2, 3, 4, 5, 6, 7, 8, 9, 10, 11, 13, 14, 15, 16, 17, 18, 19, 20, 21, 22, 23, 24, 25, 27, 28, 31, 32, 33, 34, 35, 36, 37, 38, 39, 40, 41, 42, 43, 44, 46, 47, 48, 49, 50, 51, 52, 53, 54, 55, 56, 57, 58, 59, 60, 61, 62, 63, 64, 65, 67, 70, 72, 73, 74, 75, 76, 77, 78, 79, 80, 81, 82, 84, 85, 86, 87, 88, 89, 90]\n",
      "[0, 1, 2, 3, 4, 5, 6, 7, 8, 9, 10, 11, 12, 13, 14, 15, 16, 17, 18, 19, 20, 21, 22, 23, 24, 25, 26, 27, 28, 29, 30, 31, 32, 33, 34, 35, 36, 37, 38, 39, 40, 41, 42, 43, 44, 45, 46, 47, 48, 49, 50, 51, 52, 53, 54, 55, 56, 57, 58, 59, 60, 61, 62, 63, 64, 65, 66, 67, 68, 69, 70, 71, 72, 73, 74, 75, 76, 77, 78, 79]\n",
      "[1, 2, 3, 4, 5, 6, 7, 8, 9, 10, 11, 12, 13, 14, 15, 16, 17, 18, 19, 20, 21, 22, 23, 24, 25, 26, 27, 28, 29, 30, 31, 32, 33, 34, 35, 36, 37, 38, 39, 40, 41, 42, 43, 44, 45, 46, 47, 48, 49, 50, 51, 52, 53, 54, 55, 56, 57, 58, 59, 60, 61, 62, 63, 64, 65, 66, 67, 68, 69, 70, 71, 72, 73, 74, 75, 76, 77, 78, 79, 80]\n"
     ]
    },
    {
     "name": "stderr",
     "output_type": "stream",
     "text": [
      "\n"
     ]
    }
   ],
   "source": [
    "# GET NEW IDs - REORDER IDs - #WARNING after remove\n",
    "ct_l_id=[]\n",
    "for i,c in enumerate(tqdm(newjson['categories'])):\n",
    "    ct_l_id.append(c['id'])\n",
    "newidx_l=[ct_l_id.index(id) for id in keepid_l] # make sure same sequence of keepid_l #SAME ORDER AS EXCEL\n",
    "newid_l=[i+1 for i in range(len(keepid_l))] #reorder keepid_l\n",
    "print(keepid_l)\n",
    "print(newidx_l)\n",
    "print(newid_l)"
   ]
  },
  {
   "cell_type": "code",
   "execution_count": 122,
   "metadata": {},
   "outputs": [],
   "source": [
    "# SORT IDS - Reorder based on Excel order - newjson will be changed\n",
    "categories_l=copy.copy(newjson['categories'])\n",
    "for i,idx in enumerate(newidx_l):\n",
    "    categories_l[idx]['id']=newid_l[i]\n",
    "for i,idx in enumerate(newidx_l):\n",
    "    newjson['categories'][i]=categories_l[idx] #TODO sort the id in the correct sequence"
   ]
  },
  {
   "cell_type": "code",
   "execution_count": 123,
   "metadata": {},
   "outputs": [
    {
     "name": "stdout",
     "output_type": "stream",
     "text": [
      "80\n",
      "80\n",
      "80\n",
      "{'supercategory': 'indoor', 'id': 80, 'name': 'toothbrush'}\n",
      "{'supercategory': 'indoor', 'id': 80, 'name': 'toothbrush'}\n"
     ]
    }
   ],
   "source": [
    "#TEST\n",
    "print(len(categories_l))\n",
    "print(len(newjson['categories']))\n",
    "print(len(molajson['categories']))\n",
    "print(newjson['categories'][-1])\n",
    "print(molajson['categories'][-1])"
   ]
  },
  {
   "cell_type": "markdown",
   "metadata": {},
   "source": [
    "### QUESTION: REMOVE HYPERPARAMETERS? Mantain only id and NAME? OR irrelevant?"
   ]
  },
  {
   "cell_type": "markdown",
   "metadata": {},
   "source": [
    "#### change molajson['annotations']: [{category_id: , }] \n",
    "=> 1.get annotation idx from catid; 2.update annotations id ; 3. update newjson['annotations']"
   ]
  },
  {
   "cell_type": "code",
   "execution_count": 124,
   "metadata": {},
   "outputs": [
    {
     "name": "stdout",
     "output_type": "stream",
     "text": [
      "['person', 'bicycle', 'car', 'motorcycle', 'airplane', 'bus', 'train', 'truck', 'boat', 'traffic light', 'fire hydrant', 'stop sign', 'parking meter', 'bench', 'bird', 'cat', 'dog', 'horse', 'sheep', 'cow', 'elephant', 'bear', 'zebra', 'giraffe', 'backpack', 'umbrella', 'handbag', 'tie', 'suitcase', 'frisbee', 'skis', 'snowboard', 'sports ball', 'kite', 'baseball bat', 'baseball glove', 'skateboard', 'surfboard', 'tennis racket', 'bottle', 'wine glass', 'cup', 'fork', 'knife', 'spoon', 'bowl', 'banana', 'apple', 'sandwich', 'orange', 'broccoli', 'carrot', 'hot dog', 'pizza', 'donut', 'cake', 'chair', 'couch', 'potted plant', 'bed', 'dining table', 'toilet', 'tv', 'laptop', 'mouse', 'remote', 'keyboard', 'cell phone', 'microwave', 'oven', 'toaster', 'sink', 'refrigerator', 'book', 'clock', 'vase', 'scissors', 'teddy bear', 'hair drier', 'toothbrush']\n",
      "[[1], [2], [3], [4], [5], [6], [7], [8], [9], [10], [11], [13], [14], [15], [16], [17], [18], [19], [20], [21], [22], [23], [24], [25], [27], [28], [31], [32], [33], [34], [35], [36], [37], [38], [39], [40], [41], [42], [43], [44], [46], [47], [48], [49], [50], [51], [52], [53], [54], [55], [56], [57], [58], [59], [60], [61], [62], [63], [64], [65], [67], [70], [72], [73], [74], [75], [76], [77], [78], [79], [80], [81], [82], [84], [85], [86], [87], [88], [89], [90]]\n",
      "[1, 2, 3, 4, 5, 6, 7, 8, 9, 10, 11, 13, 14, 15, 16, 17, 18, 19, 20, 21, 22, 23, 24, 25, 27, 28, 31, 32, 33, 34, 35, 36, 37, 38, 39, 40, 41, 42, 43, 44, 46, 47, 48, 49, 50, 51, 52, 53, 54, 55, 56, 57, 58, 59, 60, 61, 62, 63, 64, 65, 67, 70, 72, 73, 74, 75, 76, 77, 78, 79, 80, 81, 82, 84, 85, 86, 87, 88, 89, 90]\n",
      "[1, 2, 3, 4, 5, 6, 7, 8, 9, 10, 11, 12, 13, 14, 15, 16, 17, 18, 19, 20, 21, 22, 23, 24, 25, 26, 27, 28, 29, 30, 31, 32, 33, 34, 35, 36, 37, 38, 39, 40, 41, 42, 43, 44, 45, 46, 47, 48, 49, 50, 51, 52, 53, 54, 55, 56, 57, 58, 59, 60, 61, 62, 63, 64, 65, 66, 67, 68, 69, 70, 71, 72, 73, 74, 75, 76, 77, 78, 79, 80]\n",
      "1\n"
     ]
    }
   ],
   "source": [
    "# 1.get annotation idx from classtoclean_l_catid\n",
    "ann_catid_np=np.array(ann_catid)\n",
    "classtoclean_l_ann_catidx=[[np.where(ann_catid_np==id)[0].tolist()  for id in id_l] for id_l in classtoclean_l_catid]\n",
    "print(classtoclean_l)\n",
    "print(classtoclean_l_catid)\n",
    "print(keepid_l)\n",
    "print(newid_l)\n",
    "print(len(classtoclean_l_ann_catidx[0]))"
   ]
  },
  {
   "cell_type": "code",
   "execution_count": 125,
   "metadata": {},
   "outputs": [
    {
     "name": "stdout",
     "output_type": "stream",
     "text": [
      "1170251\n",
      "1170251\n"
     ]
    }
   ],
   "source": [
    "#2.update annotations ids & 3. update newjson['annotations'] with only the annotations frow classtoclean_l_catid\n",
    "newjson['annotations']=copy.copy(molajson['annotations']) #reset annotations\n",
    "copy_ann_l=copy.copy(newjson['annotations'])\n",
    "newjson['annotations']=[] #clear\n",
    "for i, ann_catidx_l in enumerate(classtoclean_l_ann_catidx): #only append annotations that \n",
    "    for catidx_l in ann_catidx_l:\n",
    "        for catidx in catidx_l:\n",
    "            copy_ann_l[catidx]['category_id']=newid_l[i] # update catid\n",
    "            newjson['annotations'].append(copy_ann_l[catidx]) #update newjson with only the  (annotations sequence id will be lost\n",
    "print(len(molajson['annotations']))\n",
    "print(len(newjson['annotations']))"
   ]
  },
  {
   "cell_type": "code",
   "execution_count": 126,
   "metadata": {},
   "outputs": [
    {
     "name": "stdout",
     "output_type": "stream",
     "text": [
      "{'segmentation': {'counts': [179, 27, 392, 41, 380, 51, 371, 59, 363, 67, 356, 73, 350, 79, 129, 9, 207, 82, 124, 10, 208, 84, 121, 10, 209, 85, 121, 8, 209, 88, 336, 89, 154, 1, 181, 90, 154, 2, 178, 73, 2, 16, 155, 3, 176, 62, 15, 15, 155, 4, 173, 63, 18, 12, 156, 6, 169, 64, 21, 10, 156, 6, 168, 64, 24, 7, 156, 8, 166, 64, 27, 5, 156, 9, 163, 65, 189, 10, 161, 65, 189, 12, 159, 65, 190, 12, 157, 66, 191, 13, 130, 24, 1, 67, 191, 13, 126, 95, 192, 14, 122, 98, 192, 15, 119, 99, 193, 15, 117, 100, 194, 15, 114, 103, 194, 16, 109, 106, 195, 16, 106, 109, 195, 16, 104, 111, 195, 17, 101, 113, 195, 17, 99, 115, 195, 17, 95, 119, 195, 17, 92, 122, 195, 17, 90, 124, 192, 20, 88, 126, 190, 22, 86, 128, 187, 25, 85, 129, 185, 27, 84, 130, 157, 55, 83, 132, 148, 63, 81, 135, 144, 67, 80, 136, 32, 1, 110, 67, 79, 138, 30, 3, 92, 9, 8, 67, 78, 140, 28, 4, 88, 15, 6, 67, 77, 143, 25, 6, 86, 18, 4, 67, 76, 146, 21, 8, 86, 21, 1, 67, 76, 149, 15, 12, 84, 90, 75, 177, 83, 91, 75, 178, 81, 92, 74, 179, 81, 92, 73, 181, 58, 1, 20, 94, 72, 181, 58, 2, 18, 95, 72, 182, 56, 5, 15, 96, 71, 183, 55, 8, 13, 97, 70, 184, 53, 11, 5, 103, 70, 185, 51, 120, 69, 186, 51, 121, 68, 187, 49, 122, 68, 188, 47, 123, 68, 189, 45, 124, 68, 189, 44, 126, 67, 190, 43, 126, 67, 191, 41, 127, 67, 191, 40, 129, 66, 192, 38, 130, 66, 195, 34, 131, 66, 198, 30, 132, 66, 201, 26, 133, 66, 204, 22, 134, 66, 221, 4, 135, 66, 360, 66, 360, 67, 359, 67, 359, 67, 359, 67, 359, 68, 358, 68, 359, 68, 358, 68, 358, 69, 357, 69, 357, 70, 356, 70, 356, 69, 357, 69, 357, 68, 359, 66, 360, 66, 360, 66, 360, 65, 361, 65, 361, 65, 361, 64, 362, 64, 362, 64, 362, 64, 362, 64, 362, 64, 362, 64, 362, 64, 362, 64, 362, 64, 362, 64, 362, 64, 362, 64, 362, 64, 362, 64, 362, 64, 362, 64, 362, 65, 361, 65, 361, 65, 361, 65, 361, 66, 360, 66, 360, 67, 359, 67, 359, 68, 358, 68, 84, 1, 273, 69, 83, 4, 270, 70, 81, 8, 43, 2, 222, 70, 80, 11, 40, 3, 222, 71, 79, 13, 38, 3, 221, 73, 77, 15, 36, 4, 221, 74, 75, 17, 34, 6, 220, 72, 45, 4, 28, 19, 31, 7, 220, 71, 45, 11, 21, 21, 29, 8, 220, 70, 44, 16, 18, 23, 26, 10, 220, 68, 44, 19, 15, 26, 26, 8, 220, 66, 44, 22, 13, 30, 25, 7, 219, 66, 43, 25, 10, 34, 22, 7, 219, 65, 42, 28, 8, 40, 14, 11, 218, 64, 42, 31, 5, 49, 3, 14, 218, 63, 42, 33, 3, 68, 217, 62, 42, 105, 217, 62, 42, 105, 217, 61, 43, 106, 216, 61, 43, 106, 216, 60, 44, 107, 215, 59, 45, 107, 215, 59, 45, 108, 214, 59, 45, 108, 214, 58, 46, 104, 218, 58, 46, 95, 226, 59, 46, 92, 229, 58, 47, 91, 230, 58, 48, 89, 231, 58, 48, 88, 231, 59, 48, 88, 231, 59, 48, 87, 231, 60, 48, 86, 232, 60, 48, 85, 233, 60, 50, 82, 235, 59, 52, 24, 3, 53, 236, 58, 54, 21, 6, 50, 237, 58, 56, 17, 11, 46, 239, 57, 58, 7, 20, 45, 239, 57, 86, 43, 240, 57, 87, 9, 14, 18, 242, 56, 87, 8, 18, 15, 242, 56, 88, 6, 21, 12, 243, 57, 88, 5, 24, 8, 244, 57, 89, 3, 278, 56, 89, 2, 279, 56, 370, 57, 369, 57, 369, 58, 368, 58, 368, 59, 367, 59, 312, 5, 50, 60, 308, 17, 38, 1, 2, 61, 303, 22, 32, 6, 2, 61, 299, 26, 31, 6, 3, 62, 281, 1, 12, 31, 30, 6, 3, 63, 280, 44, 29, 7, 3, 64, 278, 46, 28, 6, 4, 65, 276, 47, 28, 6, 4, 66, 275, 48, 26, 7, 4, 67, 273, 49, 26, 7, 4, 68, 271, 51, 23, 9, 4, 70, 269, 53, 18, 12, 3, 73, 266, 55, 15, 14, 3, 74, 264, 57, 13, 15, 3, 77, 261, 58, 11, 16, 3, 80, 18, 2, 237, 60, 9, 17, 2, 87, 6, 8, 236, 65, 4, 18, 3, 99, 235, 89, 3, 99, 234, 90, 3, 99, 232, 92, 3, 99, 229, 95, 4, 98, 227, 97, 4, 98, 224, 100, 4, 98, 199, 1, 20, 104, 4, 98, 199, 1, 16, 108, 5, 97, 198, 2, 12, 112, 5, 97, 198, 2, 1, 123, 5, 97, 197, 127, 6, 95, 197, 128, 6, 95, 197, 128, 6, 95, 197, 128, 7, 94, 197, 127, 8, 93, 198, 127, 9, 92, 193, 3, 2, 127, 9, 92, 33, 2, 153, 8, 2, 127, 9, 92, 27, 9, 147, 13, 2, 127, 9, 92, 21, 15, 134, 26, 1, 128, 10, 91, 14, 23, 129, 30, 1, 127, 11, 91, 10, 28, 125, 33, 1, 127, 11, 90, 9, 31, 122, 35, 1, 127, 11, 90, 8, 33, 120, 36, 1, 127, 12, 89, 6, 36, 118, 37, 1, 126, 13, 89, 4, 39, 117, 37, 1, 125, 14, 90, 1, 42, 115, 163, 15, 134, 113, 163, 17, 134, 112, 162, 18, 134, 111, 162, 19, 135, 109, 163, 19, 136, 69, 25, 13, 163, 20, 137, 68, 30, 8, 163, 20, 138, 67, 34, 3, 165, 19, 139, 65, 82, 1, 120, 20, 139, 64, 82, 3, 119, 19, 140, 63, 82, 11, 112, 18, 140, 62, 208, 16, 139, 63, 210, 14, 139, 63, 211, 13, 139, 63, 213, 11, 138, 63, 215, 10, 138, 63, 216, 9, 138, 63, 217, 8, 95, 1, 42, 63, 218, 7, 92, 5, 41, 62, 218, 9, 89, 8, 39, 63, 218, 9, 87, 12, 37, 63, 217, 10, 85, 15, 36, 63, 119, 1, 96, 11, 83, 18, 35, 62, 121, 1, 94, 12, 83, 24, 11, 80, 123, 1, 91, 13, 83, 116, 123, 1, 89, 14, 83, 116, 212, 15, 82, 118, 126, 19, 60, 2, 1, 18, 82, 119, 126, 22, 40, 5, 8, 24, 82, 120, 127, 23, 36, 38, 82, 121, 127, 26, 30, 40, 81, 13, 2, 108, 128, 26, 26, 42, 81, 13, 2, 109, 127, 26, 25, 43, 81, 12, 3, 110, 127, 25, 23, 45, 81, 11, 4, 111, 23, 6, 97, 26, 21, 46, 80, 12, 5, 110, 20, 9, 97, 26, 19, 48, 80, 11, 6, 111, 17, 12, 97, 25, 17, 51, 79, 11, 6, 112, 15, 14, 96, 25, 16, 52, 79, 10, 7, 114, 11, 17, 96, 25, 13, 54, 79, 10, 7, 142, 96, 25, 12, 55, 79, 9, 8, 143, 96, 24, 12, 56, 77, 10, 9, 143, 93, 28, 9, 57, 77, 9, 10, 143, 91, 31, 7, 58, 77, 9, 11, 143, 88, 34, 6, 58, 77, 8, 12, 144, 60, 3, 21, 101, 76, 9, 13, 25, 5, 114, 57, 8, 16, 103, 76, 9, 15, 22, 6, 114, 55, 12, 12, 105, 76, 8, 18, 19, 8, 114, 52, 16, 8, 108, 75, 8, 20, 17, 9, 114, 49, 21, 3, 110, 74, 8, 27, 10, 10, 114, 48, 135, 75, 5, 31, 8, 11, 114, 45, 137, 78, 1, 34, 1, 17, 114, 42, 139, 131, 115, 21, 159, 132, 115, 21, 158, 133, 49, 13, 37, 37, 157, 133, 48, 18, 25, 45, 157, 133, 48, 22, 13, 54, 156, 133, 47, 27, 2, 62, 155, 134, 23, 2, 21, 91, 155, 134, 18, 10, 17, 87, 160, 134, 14, 16, 14, 81, 167, 134, 13, 19, 12, 75, 173, 134, 12, 22, 9, 74, 175, 134, 12, 25, 5, 72, 178, 134, 11, 28, 3, 70, 180, 135, 9, 99, 183, 135, 9, 96, 186, 135, 8, 96, 187, 135, 7, 97, 187, 135, 7, 96, 188, 72, 10, 53, 7, 96, 188, 72, 11, 52, 3, 2, 2, 96, 188, 71, 12, 52, 2, 2, 2, 96, 189, 71, 12, 51, 1, 4, 2, 96, 189, 71, 13, 49, 2, 4, 2, 95, 189, 72, 13, 49, 1, 5, 2, 69, 2, 24, 189, 71, 14, 48, 2, 6, 1, 67, 7, 21, 190, 70, 15, 46, 2, 7, 1, 65, 12, 17, 191, 70, 15, 46, 1, 9, 1, 63, 15, 15, 191, 70, 16, 44, 2, 9, 1, 61, 18, 14, 191, 70, 16, 43, 2, 11, 1, 59, 20, 11, 193, 70, 17, 42, 2, 12, 1, 56, 24, 7, 195, 70, 17, 27, 1, 13, 2, 13, 1, 55, 26, 5, 196, 69, 19, 32, 1, 7, 1, 15, 1, 53, 28, 2, 199, 68, 20, 20, 2, 9, 1, 6, 1, 18, 1, 50, 230, 68, 21, 9, 1, 20, 1, 5, 1, 46, 3, 19, 232, 68, 22, 5, 1, 23, 1, 37, 19, 17, 233, 68, 23, 2, 2, 25, 1, 1, 1, 45, 8, 17, 233, 68, 26, 75, 7, 17, 233, 68, 26, 77, 6, 16, 233, 68, 26, 78, 5, 16, 233, 68, 26, 80, 4, 16, 232, 68, 26, 81, 3, 16, 232, 68, 26, 82, 2, 16, 232, 68, 26, 83, 2, 15, 232, 65, 29, 84, 1, 15, 232, 61, 33, 85, 1, 15, 231, 58, 36, 86, 1, 14, 231, 56, 38, 101, 231, 54, 40, 101, 231, 52, 42, 102, 230, 51, 43, 102, 230, 50, 44, 102, 230, 49, 45, 103, 229, 47, 47, 103, 229, 47, 48, 102, 229, 46, 49, 102, 229, 45, 51, 104, 226, 44, 53, 107, 22, 2, 198, 43, 55, 110, 8, 12, 198, 43, 56, 17, 7, 2, 3, 101, 196, 43, 59, 11, 17, 26, 6, 69, 195, 43, 60, 4, 23, 24, 14, 64, 194, 42, 89, 22, 15, 64, 194, 41, 91, 20, 16, 65, 193, 41, 92, 18, 17, 48, 210, 41, 92, 17, 18, 20, 238, 40, 93, 16, 19, 18, 240, 40, 95, 13, 20, 17, 241, 40, 96, 11, 21, 15, 243, 39, 98, 8, 23, 14, 244, 39, 99, 5, 25, 12, 246, 39, 100, 2, 29, 8, 248, 39, 387, 39, 387, 39, 387, 39, 387, 39, 387, 39, 94, 5, 119, 7, 162, 39, 92, 8, 111, 18, 158, 39, 92, 9, 103, 29, 154, 39, 91, 10, 99, 35, 152, 39, 91, 10, 98, 35, 153, 39, 90, 11, 97, 34, 155, 39, 90, 11, 96, 34, 156, 39, 89, 13, 68, 2, 24, 35, 156, 40, 88, 13, 65, 6, 21, 36, 157, 40, 87, 14, 63, 8, 20, 37, 157, 40, 87, 14, 60, 12, 18, 37, 158, 40, 86, 16, 57, 15, 17, 37, 158, 41, 57, 7, 21, 16, 55, 18, 15, 37, 159, 41, 52, 15, 18, 16, 54, 19, 15, 37, 158, 43, 49, 21, 13, 19, 51, 21, 14, 37, 158, 43, 48, 25, 9, 22, 48, 24, 11, 38, 158, 44, 45, 29, 6, 26, 44, 26, 10, 38, 158, 44, 44, 32, 3, 29, 26, 3, 12, 28, 8, 39, 158, 45, 42, 68, 18, 10, 9, 30, 6, 40, 158, 46, 40, 73, 10, 17, 5, 34, 1, 43, 157, 46, 39, 78, 3, 22, 2, 79, 156, 48, 37, 104, 1, 81, 155, 49, 36, 186, 155, 48, 37, 103, 1, 83, 154, 47, 38, 103, 2, 82, 153, 47, 39, 102, 3, 83, 152, 47, 39, 102, 3, 84, 151, 46, 40, 102, 3, 85, 150, 46, 40, 101, 4, 86, 149, 45, 41, 101, 4, 87, 24, 3, 121, 44, 43, 99, 4, 1, 1, 88, 21, 7, 118, 44, 43, 99, 3, 93, 19, 9, 116, 44, 43, 98, 3, 97, 14, 12, 115, 43, 44, 98, 2, 100, 9, 16, 114, 43, 44, 97, 2, 127, 113, 43, 45, 96, 1, 129, 112, 42, 46, 227, 111, 42, 47, 36, 1, 68, 1, 121, 110, 42, 48, 34, 3, 68, 1, 121, 109, 42, 49, 31, 5, 68, 3, 27, 4, 89, 108, 42, 52, 26, 8, 67, 4, 24, 7, 88, 108, 42, 55, 21, 10, 36, 2, 30, 4, 21, 10, 88, 107, 42, 59, 16, 12, 40, 8, 19, 6, 18, 5, 1, 2, 1, 3, 87, 106, 43, 63, 4, 20, 67, 8, 15, 4, 3, 1, 5, 1, 86, 106, 43, 87, 69, 8, 11, 5, 11, 1, 85, 106, 43, 88, 12, 1, 57, 8, 3, 9, 13, 1, 86, 105, 43, 88, 72, 16, 16, 1, 85, 105, 43, 89, 103, 2, 85, 104, 43, 89, 104, 1, 85, 104, 43, 90, 103, 2, 85, 103, 43, 90, 104, 1, 85, 103, 43, 92, 102, 2, 85, 102, 44, 93, 101, 2, 86, 100, 44, 95, 99, 2, 88, 97, 45, 97, 97, 3, 89, 95, 45, 98, 97, 3, 90, 93, 46, 97, 97, 3, 88, 95, 46, 97, 98, 3, 53, 11, 20, 98, 47, 96, 98, 4, 48, 27, 5, 101, 47, 96, 99, 3, 45, 136, 48, 95, 99, 5, 38, 140, 49, 94, 101, 11, 25, 146, 50, 93, 101, 18, 13, 151, 51, 92, 102, 23, 1, 2, 2, 153, 51, 92, 130, 152, 53, 92, 130, 151, 54, 92, 129, 151, 54, 94, 127, 151, 54, 95, 127, 150, 53, 97, 126, 150, 52, 99, 125, 150, 51, 101, 122, 152, 50, 103, 119, 154, 50, 106, 17, 4, 31, 17, 45, 156, 49, 110, 10, 12, 23, 26, 18, 178, 49, 114, 2, 19, 18, 31, 15, 178, 48, 138, 14, 34, 14, 178, 47, 140, 12, 37, 11, 178, 48, 142, 10, 39, 9, 178, 48, 144, 7, 42, 7, 178, 47, 146, 1, 49, 5, 178, 47, 197, 4, 178, 47, 199, 2, 178, 46, 380, 46, 380, 46, 380, 46, 380, 46, 379, 47, 379, 47, 379, 47, 379, 47, 379, 47, 379, 47, 379, 47, 379, 47, 379, 47, 379, 47, 379, 47, 378, 48, 378, 49, 377, 49, 377, 49, 377, 49, 377, 50, 376, 50, 376, 51, 375, 51, 375, 52, 373, 53, 373, 54, 372, 55, 371, 55, 371, 56, 370, 57, 369, 58, 368, 59, 367, 60, 366, 61, 119, 4, 242, 62, 114, 12, 238, 64, 108, 19, 235, 66, 102, 26, 232, 67, 97, 34, 228, 67, 93, 41, 225, 67, 89, 49, 221, 67, 85, 56, 218, 67, 84, 61, 214, 67, 83, 61, 214, 68, 82, 62, 214, 68, 81, 62, 215, 68, 80, 62, 216, 68, 78, 63, 217, 68, 77, 63, 218, 68, 76, 64, 218, 68, 75, 64, 219, 68, 74, 64, 220, 68, 73, 64, 221, 68, 72, 64, 222, 68, 70, 63, 225, 68, 68, 63, 227, 68, 65, 64, 229, 68, 55, 7, 1, 63, 232, 68, 46, 78, 234, 68, 46, 76, 236, 68, 46, 47, 7, 19, 239, 67, 47, 47, 20, 4, 241, 65, 49, 47, 265, 64, 49, 47, 266, 63, 50, 47, 266, 62, 51, 47, 266, 60, 53, 47, 266, 60, 53, 46, 267, 59, 53, 47, 266, 59, 54, 47, 266, 58, 55, 46, 267, 57, 56, 46, 267, 57, 56, 46, 267, 56, 57, 46, 267, 56, 57, 45, 268, 55, 58, 45, 268, 54, 60, 44, 268, 54, 60, 44, 268, 54, 60, 46, 266, 53, 62, 47, 264, 53, 62, 21, 6, 21, 263, 53, 62, 7, 21, 32, 251, 52, 92, 42, 240, 52, 92, 44, 238, 52, 93, 44, 237, 52, 93, 46, 235, 52, 94, 46, 234, 52, 94, 48, 232, 52, 95, 48, 230, 53, 95, 50, 228, 53, 96, 50, 227, 53, 96, 52, 225, 53, 97, 51, 225, 53, 97, 51, 225, 53, 98, 50, 225, 53, 98, 51, 224, 53, 99, 50, 224, 53, 99, 50, 224, 54, 105, 43, 224, 54, 131, 18, 223, 54, 372, 54, 372, 55, 372, 54, 372, 55, 372, 54, 373, 54, 372, 54, 372, 55, 372, 55, 371, 55, 371, 56, 371, 56, 370, 57, 369, 56, 370, 56, 370, 56, 370, 55, 371, 55, 371, 55, 371, 54, 372, 54, 372, 54, 372, 54, 372, 54, 372, 54, 372, 54, 372, 54, 372, 54, 372, 54, 221, 2, 149, 54, 217, 6, 149, 54, 214, 10, 148, 54, 210, 15, 147, 54, 209, 17, 146, 54, 208, 19, 145, 54, 206, 22, 144, 55, 204, 24, 143, 55, 203, 25, 143, 55, 201, 27, 143, 55, 200, 29, 142, 56, 198, 30, 142, 56, 196, 32, 142, 57, 194, 33, 142, 57, 192, 35, 142, 58, 190, 36, 142, 58, 188, 38, 142, 59, 185, 41, 141, 60, 183, 42, 141, 60, 172, 1, 10, 42, 141, 61, 168, 10, 3, 43, 141, 62, 165, 59, 140, 63, 162, 61, 140, 64, 158, 64, 140, 65, 155, 67, 25, 5, 109, 66, 152, 69, 23, 11, 105, 67, 148, 72, 22, 14, 103, 68, 146, 74, 19, 17, 101, 70, 145, 76, 15, 19, 101, 72, 142, 79, 12, 21, 100, 74, 140, 81, 8, 24, 99, 75, 139, 84, 5, 24, 99, 78, 135, 87, 3, 25, 98, 81, 132, 115, 98, 87, 126, 116, 97, 91, 121, 118, 96, 91, 121, 118, 96, 92, 120, 119, 95, 93, 118, 121, 94, 93, 118, 123, 92, 94, 117, 124, 91, 95, 116, 126, 90, 95, 116, 126, 89, 96, 116, 127, 87, 97, 117, 126, 86, 98, 117, 127, 84, 99, 40, 1, 77, 128, 81, 101, 36, 4, 79, 129, 77, 103, 32, 8, 79, 131, 73, 104, 30, 10, 82, 131, 69, 107, 24, 15, 84, 131, 65, 110, 18, 19, 87, 130, 62, 116, 6, 26, 89, 131, 58, 149, 91, 132, 54, 151, 92, 133, 50, 152, 94, 134, 46, 153, 95, 135, 43, 155, 93, 135, 43, 156, 93, 134, 43, 158, 91, 134, 43, 160, 90, 131, 45, 161, 89, 129, 47, 163, 88, 126, 49, 165, 88, 122, 51, 167, 88, 118, 53, 169, 89, 113, 55, 172, 89, 108, 57, 174, 89, 104, 59, 177, 89, 99, 61, 180, 88, 90, 67, 185, 86, 71, 6, 12, 66, 189, 84, 60, 12, 15, 66, 194, 81, 48, 19, 18, 66, 197, 80, 29, 32, 22, 65, 200, 80, 21, 34, 27, 64, 202, 86, 8, 33, 33, 63, 205, 114, 45, 62, 207, 102, 55, 61, 211, 96, 59, 60, 213, 92, 61, 59, 217, 86, 65, 57, 221, 80, 69, 56, 225, 72, 73, 55, 20], 'size': [426, 640]}, 'num_keypoints': 0, 'area': 220834, 'iscrowd': 1, 'keypoints': [0, 0, 0, 0, 0, 0, 0, 0, 0, 0, 0, 0, 0, 0, 0, 0, 0, 0, 0, 0, 0, 0, 0, 0, 0, 0, 0, 0, 0, 0, 0, 0, 0, 0, 0, 0, 0, 0, 0, 0, 0, 0, 0, 0, 0, 0, 0, 0, 0, 0, 0], 'image_id': 250282, 'bbox': [0, 34, 639, 388], 'category_id': 1, 'id': 900100250282}\n",
      "{'segmentation': [[453.28, 314.74, 419.27, 284.41, 422.03, 279.36, 426.62, 284.87, 443.17, 300.96, 454.19, 314.28], [392.62, 252.25, 388.48, 247.19, 386.19, 248.57, 384.81, 249.95, 387.11, 252.25, 380.21, 260.98, 389.4, 270.63, 392.62, 259.14, 391.7, 252.71]], 'area': 318.053700000002, 'iscrowd': 0, 'image_id': 92091, 'bbox': [380.21, 247.19, 73.98, 67.55], 'category_id': 80, 'id': 1998888}\n"
     ]
    }
   ],
   "source": [
    "#TEST\n",
    "print(molajson['annotations'][-1])\n",
    "print(newjson['annotations'][-1])"
   ]
  },
  {
   "cell_type": "markdown",
   "metadata": {},
   "source": [
    "### 4. Save cleaned json"
   ]
  },
  {
   "cell_type": "code",
   "execution_count": 128,
   "metadata": {},
   "outputs": [],
   "source": [
    "# fast\n",
    "molajson['categories']=copy.copy(newjson['categories'])\n",
    "molajson['annotations']=copy.copy(newjson['annotations'])"
   ]
  },
  {
   "cell_type": "code",
   "execution_count": 129,
   "metadata": {},
   "outputs": [
    {
     "name": "stdout",
     "output_type": "stream",
     "text": [
      "\n",
      " >> SAVING...\n",
      "JSON SAVED : D:/external_datasets/MOLA/coco2017_mix_aggressive.json \n",
      "\n",
      "info 6\n",
      "licenses 8\n",
      "images 123287\n",
      "annotations 1170251\n",
      "categories 80\n"
     ]
    }
   ],
   "source": [
    "# save\n",
    "print('\\n >> SAVING...')\n",
    "jsonfile=rdir+injsonfile+'_clean_aggressive.json'\n",
    "with open(jsonfile, 'w') as f:\n",
    "    json.dump(molajson, f)\n",
    "print(\"JSON SAVED : {} \\n\".format(jsonfile))\n",
    "for k in molajson:\n",
    "    print(k, len(molajson[k]))"
   ]
  },
  {
   "cell_type": "markdown",
   "metadata": {},
   "source": [
    "### 5. TEST clean ANNOTATIONS DUPLICATES"
   ]
  },
  {
   "cell_type": "code",
   "execution_count": 11,
   "metadata": {
    "collapsed": true,
    "jupyter": {
     "outputs_hidden": true
    }
   },
   "outputs": [],
   "source": [
    "molajson = json.load(open(rdir+'annotations/split_mola_fix_equal_reorder_nomissings/clean_aggressive_addremainclasses/test.json'))"
   ]
  },
  {
   "cell_type": "code",
   "execution_count": 12,
   "metadata": {
    "collapsed": true,
    "jupyter": {
     "outputs_hidden": true
    }
   },
   "outputs": [
    {
     "name": "stdout",
     "output_type": "stream",
     "text": [
      "info 5\n",
      "licenses 9\n",
      "categories 353\n",
      "videos 1488\n",
      "images 177936\n",
      "tracks 8132\n",
      "segment_info 0\n",
      "annotations 133228\n",
      "datasets 2\n"
     ]
    }
   ],
   "source": [
    "for k in molajson:\n",
    "    print(k, len(molajson[k]))"
   ]
  },
  {
   "cell_type": "code",
   "execution_count": 13,
   "metadata": {
    "collapsed": true,
    "jupyter": {
     "outputs_hidden": true
    }
   },
   "outputs": [
    {
     "name": "stderr",
     "output_type": "stream",
     "text": [
      "100%|███████████████████████████████████████████████████████████████████| 133228/133228 [00:00<00:00, 1017127.63it/s]\n"
     ]
    },
    {
     "name": "stdout",
     "output_type": "stream",
     "text": [
      "133228\n",
      "0\n"
     ]
    }
   ],
   "source": [
    "# annotations category_id\n",
    "ann_ids=[]\n",
    "for an in tqdm(molajson['annotations']):\n",
    "    ann_ids.append(an['id'])\n",
    "print(len(ann_ids))\n",
    "\n",
    "#TEST duplicates v3 -faster\n",
    "u, c = np.unique(np.array(ann_ids), return_counts=True)\n",
    "duplicates_l= u[c > 1].tolist()\n",
    "print(len(duplicates_l))"
   ]
  },
  {
   "cell_type": "code",
   "execution_count": 14,
   "metadata": {
    "collapsed": true,
    "jupyter": {
     "outputs_hidden": true
    }
   },
   "outputs": [],
   "source": [
    "# categories name and id\n",
    "cat_l=[]\n",
    "for c in molajson['categories']:\n",
    "    cat_l.append(c['name'])"
   ]
  },
  {
   "cell_type": "code",
   "execution_count": 15,
   "metadata": {
    "collapsed": true,
    "jupyter": {
     "outputs_hidden": true
    }
   },
   "outputs": [
    {
     "name": "stdout",
     "output_type": "stream",
     "text": [
      "353\n",
      "['aggressive', 'person', 'bicycle', 'car', 'motorcycle', 'airplane', 'bus', 'train', 'truck', 'boat', 'traffic light', 'fire hydrant', 'stop sign', 'parking meter', 'bench', 'bird', 'cat', 'dog', 'horse', 'sheep', 'cow', 'elephant', 'bear', 'zebra', 'giraffe', 'backpack', 'umbrella', 'handbag', 'tie', 'suitcase', 'frisbee', 'skis', 'snowboard', 'sports ball', 'kite', 'baseball glove', 'skateboard', 'surfboard', 'tennis racket', 'bottle', 'wine glass', 'cup', 'bowl', 'banana', 'apple', 'sandwich', 'orange', 'broccoli', 'carrot', 'hot dog', 'pizza', 'donut', 'cake', 'chair', 'couch', 'potted plant', 'bed', 'dining table', 'toilet', 'tv', 'laptop', 'mouse', 'remote', 'keyboard', 'cell phone', 'microwave', 'oven', 'toaster', 'sink', 'refrigerator', 'book', 'clock', 'vase', 'scissors', 'teddy bear', 'hair drier', 'toothbrush', 'aerosol_can', 'apricot', 'armchair', 'atomizer', 'ax', 'baby_buggy', 'bagpipe', 'ball', 'balloon', 'barbell', 'baseball_bat', 'baseball_glove', 'basketball_hoop', 'basketball', 'beaker', 'beanie', 'bedspread', 'beeper', 'binder', 'binoculars', 'birdcage', 'black_sheep', 'blanket', 'booklet', 'briefcase', 'broom', 'bucket', 'bull', 'bun', 'buoy', 'bus_(vehicle)', 'cab_(taxi)', 'calf', 'camel', 'camera', 'can', 'candle', 'canister', 'canoe', 'bottle_cap', 'cape', 'car_(automobile)', 'car_battery', 'carton', 'cellular_telephone', 'chain_mail', 'chicken_(animal)', 'crisp_(potato_chip)', 'cigar_box', 'cigarette', 'cigarette_case', 'clip', 'clipboard', 'clutch_bag', 'coat', 'coffee_table', 'coffeepot', 'coin', 'computer_keyboard', 'cone', 'control', 'cooler_(for_food)', 'cornet', 'crab_(animal)', 'crow', 'crumb', 'crutch', 'curtain', 'cushion', 'cutting_tool', 'cylinder', 'cymbal', 'deer', 'die', 'dish', 'dispenser', 'doormat', 'drawer', 'dress_hat', 'drone', 'drum_(musical_instrument)', 'duffel_bag', 'eagle', 'earphone', 'egg', 'envelope', 'fan', 'faucet', 'fish', 'fishing_rod', 'flag', 'flute_glass', 'football_helmet', 'frog', 'garbage', 'garbage_truck', 'gasmask', 'giant_panda', 'gift_wrap', 'goat', 'golf_club', 'goose', 'gorilla', 'grocery_bag', 'guitar', 'hairbrush', 'hair_dryer', 'handcuff', 'handle', 'harmonium', 'hat', 'headscarf', 'helicopter', 'heron', 'hippopotamus', 'hog', 'hose', 'polar_bear', 'icecream', 'iron_(for_clothing)', 'jacket', 'jean', 'kayak', 'kettle', 'knob', 'ladle', 'lamp', 'lanyard', 'laptop_computer', 'latch', 'lawn_mower', 'lemon', 'lettuce', 'life_buoy', 'lion', 'lizard', 'log', 'magazine', 'mallet', 'marker', 'matchbox', 'mattress', 'measuring_cup', 'medicine', 'microphone', 'minivan', 'mirror', 'mixer_(kitchen_tool)', 'money', 'monitor_(computer_equipment) computer_monitor', 'monkey', 'motor_scooter', 'motorboat', 'mouse_(computer_equipment)', 'napkin', 'necklace', 'notebook', 'notepad', 'oar', 'orange_(fruit)', 'packet', 'paddle', 'paintbrush', 'pan_(for_cooking)', 'paper_towel', 'parachute', 'parrot', 'peeler_(tool_for_fruit_and_vegetables)', 'pelican', 'pen', 'penguin', 'baby', 'petfood', 'piano', 'pickle', 'pickup_truck', 'pigeon', 'pillow', 'ping-pong_ball', 'pipe', 'pitcher_(vessel_for_liquid)', 'plate', 'pliers', 'poster', 'pot', 'potato', 'pumpkin', 'rabbit', 'race_car', 'racket', 'raft', 'rag_doll', 'rat', 'record_player', 'remote_control', 'rhinoceros', 'saddle_blanket', 'saxophone', 'school_bus', 'scraper', 'scrubbing_brush', 'sculpture', 'shaker', 'shampoo', 'shark', 'shaver_(electric)', 'shawl', 'shears', 'shirt', 'shoe', 'short_pants', 'shoulder_bag', 'shovel', 'sieve', 'ski', 'skirt', 'sled', 'slipper_(footwear)', 'soap', 'sofa', 'spatula', 'spectacles', 'spider', 'sponge', 'squirrel', 'statue_(sculpture)', 'steering_wheel', 'step_stool', 'stool', 'stove', 'straw_(for_drinking)', 'sugar_bowl', 'sunglasses', 'mop', 'sweater', 'table_lamp', 'army_tank', 'tape_(sticky_cloth_or_paper)', 'tarp', 'teacup', 'teapot', 'telephone', 'television_set', 'tennis_racket', 'thermometer', 'thread', 'tiger', 'tissue_paper', 'toast_(food)', 'toolbox', 'toothpaste', 'cover', 'towel', 'toy', 'tractor_(farm_equipment)', 'dirt_bike', 'trailer_truck', 'tray', 'tripod', 'trousers', 'turkey_(bird)', 'turtle', 'underwear', 'vacuum_cleaner', 'volleyball', 'wallet', 'walrus', 'automatic_washer', 'watch', 'water_bottle', 'water_jug', 'water_scooter', 'water_ski', 'wig', 'windshield_wiper', 'wineglass']\n"
     ]
    }
   ],
   "source": [
    "print(len(cat_l))\n",
    "print(cat_l)\n"
   ]
  },
  {
   "cell_type": "code",
   "execution_count": null,
   "metadata": {
    "collapsed": true,
    "jupyter": {
     "outputs_hidden": true
    }
   },
   "outputs": [],
   "source": []
  }
 ],
 "metadata": {
  "kernelspec": {
   "display_name": "Python 3",
   "language": "python",
   "name": "python3"
  },
  "language_info": {
   "codemirror_mode": {
    "name": "ipython",
    "version": 3
   },
   "file_extension": ".py",
   "mimetype": "text/x-python",
   "name": "python",
   "nbconvert_exporter": "python",
   "pygments_lexer": "ipython3",
   "version": "3.8.3"
  }
 },
 "nbformat": 4,
 "nbformat_minor": 4
}
