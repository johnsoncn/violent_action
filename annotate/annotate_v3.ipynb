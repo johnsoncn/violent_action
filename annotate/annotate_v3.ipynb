{
 "cells": [
  {
   "cell_type": "markdown",
   "metadata": {},
   "source": [
    "# motionLAB Annotations Data Format"
   ]
  },
  {
   "cell_type": "markdown",
   "metadata": {},
   "source": [
    "If you wish to combine multiple datasets, it is often useful to convert them into a unified data format. \n",
    "\n",
    "Objective: This script will allow you to merge the annotations into motionLab format (COCO & TAO-style annotation file) containing Image IDs in your data.json (general) file."
   ]
  },
  {
   "cell_type": "markdown",
   "metadata": {},
   "source": [
    "COCO format : https://cocodataset.org/#format-data ; https://www.immersivelimit.com/tutorials/create-coco-annotations-from-scratch\n",
    "\n",
    "TAO format : https://github.com/TAO-Dataset/tao/blob/master/tao/toolkit/tao/tao.py\n",
    "\n",
    "##### NOTE: Check at the end of this script"
   ]
  },
  {
   "cell_type": "code",
   "execution_count": 1,
   "metadata": {},
   "outputs": [],
   "source": [
    "import annotate_v3 as a"
   ]
  },
  {
   "cell_type": "markdown",
   "metadata": {},
   "source": [
    "#### 1. INIT motionLAB JSON"
   ]
  },
  {
   "cell_type": "code",
   "execution_count": 6,
   "metadata": {},
   "outputs": [
    {
     "name": "stdout",
     "output_type": "stream",
     "text": [
      "JSON INITIATED : mlab.json\n"
     ]
    }
   ],
   "source": [
    "mlabfile='mlab.json'\n",
    "a.init_json(file='mlab.json')"
   ]
  },
  {
   "cell_type": "markdown",
   "metadata": {},
   "source": [
    "#### 2. load and Merge JSON"
   ]
  },
  {
   "cell_type": "code",
   "execution_count": 13,
   "metadata": {},
   "outputs": [
    {
     "name": "stdout",
     "output_type": "stream",
     "text": [
      "Namespace(dataset_id=1, dir_key=['file_name'], initjson=True, mergefile='cocoval2017.json', mlabfile='mlab.json', root_dir='coco/images/val2017/')\n",
      "JSON INITIATED : mlab.json\n",
      "\n",
      " >> MERGING LICENSES...\n",
      "\n",
      " >> MERGING CATEGORIES...\n",
      "\n",
      " >> MERGING VIDEOS...\n",
      "#WARNING: Problem in Merging: 'videos'\n",
      "\n",
      " >> MERGING IMAGES...\n",
      "\n",
      " >> MERGING TRACKS...\n",
      "#WARNING: Problem in Merging: 'tracks'\n",
      "\n",
      " >> MERGING SEGMENT_INFO...\n",
      "#WARNING: Problem in Merging: 'segment_info'\n",
      "\n",
      " >> MERGING ANNOTATIONS...\n",
      "\n",
      " >> SAVING...\n",
      "JSON SAVED : mlab.json\n"
     ]
    }
   ],
   "source": [
    "#COCO with initjson\n",
    "!python annotate_v3.py --mlabfile mlab.json --mergefile cocoval2017.json --dataset_id 1 --root_dir coco/images/val2017/ --dir_key file_name --initjson"
   ]
  },
  {
   "cell_type": "code",
   "execution_count": 14,
   "metadata": {},
   "outputs": [
    {
     "name": "stdout",
     "output_type": "stream",
     "text": [
      "Namespace(dataset_id=2, dir_key=['file_name', 'video'], initjson=False, mergefile='taotrainjson.json', mlabfile='mlab.json', root_dir='TAO/TAO_DIR/frames/')\n",
      "\n",
      " >> MERGING LICENSES...\n",
      "\n",
      " >> MERGING CATEGORIES...\n",
      "\n",
      " >> MERGING VIDEOS...\n",
      "\n",
      " >> MERGING IMAGES...\n",
      "\n",
      " >> MERGING TRACKS...\n",
      "\n",
      " >> MERGING SEGMENT_INFO...\n",
      "#WARNING: Problem in Merging: 'segment_info'\n",
      "\n",
      " >> MERGING ANNOTATIONS...\n",
      "\n",
      " >> SAVING...\n",
      "JSON SAVED : mlab.json\n"
     ]
    }
   ],
   "source": [
    "#TAO\n",
    "!python annotate_v3.py --mlabfile mlab.json --mergefile taotrainjson.json --dataset_id 2 --root_dir TAO/TAO_DIR/frames/ --dir_key file_name video "
   ]
  },
  {
   "cell_type": "markdown",
   "metadata": {},
   "source": [
    "## Fix Categories"
   ]
  },
  {
   "cell_type": "code",
   "execution_count": null,
   "metadata": {},
   "outputs": [],
   "source": [
    "names_a_t=[]\n",
    "for t in taojson['categories']:\n",
    "    names_a_t.append(t['name'])\n",
    "names_a_c=[]\n",
    "for c in cocojson['categories']:\n",
    "    names_a_c.append(c['name'])\n",
    "equal_a=[]\n",
    "dif_a=[]\n",
    "for nt in names_a_t:\n",
    "    f=0\n",
    "    for nc in names_a_c:\n",
    "        if nt==nc: \n",
    "            equal_a.append(nt)\n",
    "            f=1\n",
    "            break\n",
    "    if not f: dif_a.append(nt)\n",
    "        \n",
    "#print(names_a_t)\n",
    "#print(names_a_c)\n",
    "print(equal_a)\n",
    "print(dif_a)\n",
    "#print(names_a_c)\n",
    "print()"
   ]
  },
  {
   "cell_type": "markdown",
   "metadata": {},
   "source": [
    "# ANNOTATIONS FORMAT"
   ]
  },
  {
   "cell_type": "markdown",
   "metadata": {},
   "source": [
    "## COCO"
   ]
  },
  {
   "cell_type": "markdown",
   "metadata": {},
   "source": [
    "Annotation file format: \n",
    "\n",
    "https://cocodataset.org/#format-data ; https://www.immersivelimit.com/tutorials/create-coco-annotations-from-scratch"
   ]
  },
  {
   "cell_type": "code",
   "execution_count": null,
   "metadata": {},
   "outputs": [],
   "source": [
    "{\n",
    "    \"info\": {info},\n",
    "    \"licenses\": [license],\n",
    "    \"images\": [image],\n",
    "    \"annotations\": [annotation],\n",
    "    \"categories\": [category], <-- Not in Captions annotations\n",
    "    \"segment_info\": [segment] <-- Only in Panoptic annotations\n",
    "}"
   ]
  },
  {
   "cell_type": "code",
   "execution_count": null,
   "metadata": {},
   "outputs": [],
   "source": [
    "info{\n",
    "    \"year\": int, \n",
    "    \"version\": str, \n",
    "    \"description\": str, \n",
    "    \"contributor\": str, \n",
    "    \"url\": str, \n",
    "    \"date_created\": datetime,\n",
    "}\n",
    "license{\n",
    "    \"id\": int, \n",
    "    \"name\": str, \n",
    "    \"url\": str,\n",
    "}\n",
    "image{\n",
    "    \"id\": int, \n",
    "    \"width\": int, \n",
    "    \"height\": int, \n",
    "    \"file_name\": str, \n",
    "    \"license\": int, \"flickr_url\": str, \n",
    "    \"coco_url\": str, \"date_captured\": datetime,\n",
    "}\n",
    "annotation{\n",
    "    \"id\": int, \n",
    "    \"image_id\": int, \n",
    "    \"category_id\": int, \n",
    "    \"segmentation\": RLE or [polygon], \n",
    "    \"area\": float, \n",
    "    \"bbox\": [x,y,width,height], \n",
    "    \"iscrowd\": 0 or 1,\n",
    "}\n",
    "\n",
    "category{\n",
    "    \"id\": int, \n",
    "    \"name\": str, \n",
    "    \"supercategory\": str,\n",
    "}\n",
    "segment{\n",
    "    \"id\": int, \n",
    "    \"category_id\": int, \n",
    "    \"area\": int, \n",
    "    \"bbox\": [x,y,width,height], \n",
    "    \"iscrowd\": 0 or 1,\n",
    "}\n"
   ]
  },
  {
   "cell_type": "markdown",
   "metadata": {},
   "source": [
    "## TAO"
   ]
  },
  {
   "cell_type": "markdown",
   "metadata": {},
   "source": [
    "Annotation file format:\n",
    "\n",
    "https://github.com/TAO-Dataset/tao/blob/master/tao/toolkit/tao/tao.py"
   ]
  },
  {
   "cell_type": "code",
   "execution_count": null,
   "metadata": {},
   "outputs": [],
   "source": [
    "{\n",
    "    \"info\" : info,\n",
    "    \"images\" : [image],\n",
    "    \"videos\": [video],\n",
    "    \"tracks\": [track],\n",
    "    \"annotations\" : [annotation],\n",
    "    \"categories\": [category],\n",
    "    \"licenses\" : [license],\n",
    "}"
   ]
  },
  {
   "cell_type": "code",
   "execution_count": null,
   "metadata": {},
   "outputs": [],
   "source": [
    "info: \"like MS COCO\"\n",
    "\n",
    "license: {\n",
    "    \"id\" : int,\n",
    "    \"name\" : str,\n",
    "    \"url\" : str,\n",
    "}\n",
    "category: {\n",
    "    \"id\": int,\n",
    "    \"name\": str,\n",
    "    \"synset\": str,  # For non-LVIS objects, this is \"unknown\"\n",
    "    ... [other fields copied from LVIS v0.5 and unused]\n",
    "}\n",
    "\n",
    "video: {\n",
    "    \"id\": int,\n",
    "    \"name\": str,\n",
    "    \"width\" : int,\n",
    "    \"height\" : int,\n",
    "    \"neg_category_ids\": [int],\n",
    "    \"not_exhaustive_category_ids\": [int],\n",
    "    \"metadata\": dict,  # Metadata about the video\n",
    "}\n",
    "image: {\n",
    "    \"id\" : int,\n",
    "    \"video_id\": int,\n",
    "    \"file_name\" : str,\n",
    "    \"license\" : int,\n",
    "    # Redundant fields for COCO-compatibility\n",
    "    \"width\": int,\n",
    "    \"height\": int,\n",
    "    \"frame_index\": int\n",
    "}    \n",
    "track: {\n",
    "    \"id\": int,\n",
    "    \"category_id\": int,\n",
    "    \"video_id\": int\n",
    "}\n",
    "annotation: {\n",
    "    \"image_id\": int,\n",
    "    \"track_id\": int,\n",
    "    \"bbox\": [x,y,width,height],\n",
    "    \"area\": float,\n",
    "    # Redundant field for compatibility with COCO scripts\n",
    "    \"category_id\": int\n",
    "}\n"
   ]
  }
 ],
 "metadata": {
  "kernelspec": {
   "display_name": "Python 3",
   "language": "python",
   "name": "python3"
  },
  "language_info": {
   "codemirror_mode": {
    "name": "ipython",
    "version": 3
   },
   "file_extension": ".py",
   "mimetype": "text/x-python",
   "name": "python",
   "nbconvert_exporter": "python",
   "pygments_lexer": "ipython3",
   "version": "3.8.3"
  }
 },
 "nbformat": 4,
 "nbformat_minor": 4
}
