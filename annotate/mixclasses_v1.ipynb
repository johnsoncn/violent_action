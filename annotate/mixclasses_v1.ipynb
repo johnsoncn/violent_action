{
 "cells": [
  {
   "cell_type": "markdown",
   "metadata": {},
   "source": [
    "# Mix Classes=Categories\n",
    "version: 1\n",
    "\n",
    "author: nuno costa"
   ]
  },
  {
   "cell_type": "code",
   "execution_count": 10,
   "metadata": {},
   "outputs": [
    {
     "name": "stdout",
     "output_type": "stream",
     "text": [
      "OS: Windows-10-10.0.20241-SP0\n",
      "root dir: D:/external_datasets/\n"
     ]
    }
   ],
   "source": [
    "from annotate_v5 import *\n",
    "import platform \n",
    "import numpy as np\n",
    "import pandas as pd\n",
    "from IPython.display import Image, display\n",
    "import copy\n",
    "import os\n",
    "from shutil import copyfile\n",
    "import matplotlib.pyplot as plt\n",
    "from matplotlib.image import imread\n",
    "from matplotlib.patches import Rectangle\n",
    "import random\n",
    "\n",
    "#Define root dir dependent on OS\n",
    "rdir='D:/external_datasets/' \n",
    "if str(platform.platform()).find('linux')>-1: rdir='/mnt/d/external_datasets/' \n",
    "print('OS: {}'.format(platform.platform()))\n",
    "print('root dir: {}'.format(rdir))"
   ]
  },
  {
   "cell_type": "code",
   "execution_count": 11,
   "metadata": {},
   "outputs": [],
   "source": [
    "mlabjson =  json.load(open(rdir+'mlab_cocotao.json'))"
   ]
  },
  {
   "cell_type": "code",
   "execution_count": 12,
   "metadata": {},
   "outputs": [
    {
     "name": "stdout",
     "output_type": "stream",
     "text": [
      "info 5\n",
      "licenses 9\n",
      "categories 1310\n",
      "videos 1488\n",
      "images 177936\n",
      "tracks 8132\n",
      "segment_info 0\n",
      "annotations 1954769\n",
      "datasets 2\n"
     ]
    }
   ],
   "source": [
    "for k in mlabjson:\n",
    "    print(k, len(mlabjson[k]))"
   ]
  },
  {
   "cell_type": "markdown",
   "metadata": {},
   "source": [
    "## 1. Import ids\n",
    "#### #NOTE: work with ids and index so you can use numpy for faster operations\n",
    "#### #WARNING don't use try: except: pass when importing - go back to fixclasses or mergedatasets and find the BUG. "
   ]
  },
  {
   "cell_type": "code",
   "execution_count": 13,
   "metadata": {},
   "outputs": [
    {
     "name": "stdout",
     "output_type": "stream",
     "text": [
      "['COCO', 'TAO'] [1, 2]\n"
     ]
    }
   ],
   "source": [
    "# datasets name and id\n",
    "dset_l=[]\n",
    "dset_l_id=[]\n",
    "for d in mlabjson['datasets']:\n",
    "    dset_l.append(d['name'])\n",
    "    dset_l_id.append(d['id'])\n",
    "print(dset_l, dset_l_id)"
   ]
  },
  {
   "cell_type": "code",
   "execution_count": 14,
   "metadata": {},
   "outputs": [],
   "source": [
    "# categories name and id\n",
    "cat_l=[]\n",
    "cat_l_id=[]\n",
    "cat_l_dset=[]\n",
    "for c in mlabjson['categories']:\n",
    "    cat_l.append(c['name'])\n",
    "    cat_l_id.append(c['id'])\n",
    "    cat_l_dset.append(dset_l[c['dataset']-1]) # dset_l index is same as id-1\n",
    "#print(cat_l_id)"
   ]
  },
  {
   "cell_type": "code",
   "execution_count": 15,
   "metadata": {},
   "outputs": [],
   "source": [
    "# images filepath and id\n",
    "img_l=[]\n",
    "img_l_id=[]\n",
    "for c in mlabjson['images']:\n",
    "    img_l.append(c['file_name'])\n",
    "    img_l_id.append(c['id'])"
   ]
  },
  {
   "cell_type": "code",
   "execution_count": 16,
   "metadata": {},
   "outputs": [
    {
     "name": "stderr",
     "output_type": "stream",
     "text": [
      "100%|████████████████████████████████████████████████████████████████| 1954769/1954769 [00:01<00:00, 1135175.13it/s]\n"
     ]
    }
   ],
   "source": [
    "# annotations category_id, image_id, bbox, and dataset\n",
    "ann_catid=[]\n",
    "ann_imgid=[]\n",
    "ann_bbox=[]\n",
    "ann_dset=[]\n",
    "for an in tqdm(mlabjson['annotations']):\n",
    "    ann_catid.append(an['category_id'])\n",
    "    ann_imgid.append(an['image_id'])\n",
    "    ann_bbox.append(an['bbox'])\n",
    "    ann_dset.append(an['dataset'])"
   ]
  },
  {
   "cell_type": "markdown",
   "metadata": {},
   "source": [
    "## 2. Find mixers cat_ids\n",
    "mixers example\n",
    "categories= [{name:cow, id:1, dataset:1},...,{name:cow, id:200, dataset:2},...,{name:cow, id:101, dataset:3}]}"
   ]
  },
  {
   "cell_type": "code",
   "execution_count": 17,
   "metadata": {},
   "outputs": [
    {
     "name": "stdout",
     "output_type": "stream",
     "text": [
      "['person', 'bicycle', 'car', 'motorcycle', 'airplane']\n",
      "[[1], [2], [3], [4], [5]]\n",
      "[['COCO'], ['COCO'], ['COCO'], ['COCO'], ['COCO']]\n",
      "1310\n",
      "1310\n",
      "1310\n"
     ]
    }
   ],
   "source": [
    "#mixers #TODO: SORT alphabetically\n",
    "mixers_l=[]\n",
    "mixers_l_catid=[]\n",
    "mixers_l_catdset=[]\n",
    "mixer_method=\"all_names\"\n",
    "if mixer_method==\"all_names\": #Do for all category names, even with equal \n",
    "    mixers_l=cat_l\n",
    "    mixers_l_catid=[[id] for id in cat_l_id]\n",
    "    mixers_l_catdset=[[dset] for dset in cat_l_dset]\n",
    "    \n",
    "\n",
    "print(mixers_l[0:5])\n",
    "print(mixers_l_catid[0:5])\n",
    "print(mixers_l_catdset[0:5])\n",
    "print(len(mixers_l))\n",
    "print(len(mixers_l_catid))\n",
    "print(len(mixers_l_catdset))"
   ]
  },
  {
   "cell_type": "code",
   "execution_count": 18,
   "metadata": {},
   "outputs": [
    {
     "name": "stderr",
     "output_type": "stream",
     "text": [
      "100%|██████████████████████████████████████████████████████████████████████████| 1310/1310 [00:03<00:00, 418.74it/s]\n"
     ]
    }
   ],
   "source": [
    "# get annotations mixers\n",
    "ann_catid_np=np.array(ann_catid)\n",
    "ann_imgid_np=np.array(ann_imgid)\n",
    "ann_bbox_np=np.array(ann_bbox)\n",
    "ann_dset_np=np.array(ann_dset)\n",
    "mixers_l_imgid=[]\n",
    "mixers_l_bbox=[]\n",
    "mixers_l_dset=[]\n",
    "for catids in tqdm(mixers_l_catid):\n",
    "    l_imgid=[]\n",
    "    l_bbox=[]\n",
    "    l_dset=[]\n",
    "    for catid in catids:\n",
    "        ann_idx = np.where(ann_catid_np==catid)[0].tolist() #annotation index of ids\n",
    "        l_imgid.append(ann_imgid_np[ann_idx].tolist())\n",
    "        l_bbox.append(ann_bbox_np[ann_idx].tolist())\n",
    "        l_dset.append(ann_dset_np[ann_idx].tolist())\n",
    "    mixers_l_imgid.append(l_imgid)\n",
    "    mixers_l_bbox.append(l_bbox)\n",
    "    mixers_l_dset.append(l_dset)"
   ]
  },
  {
   "cell_type": "markdown",
   "metadata": {},
   "source": [
    "## 3. Classes|categories to fix w/ EXCEL report"
   ]
  },
  {
   "cell_type": "code",
   "execution_count": 12,
   "metadata": {},
   "outputs": [
    {
     "name": "stderr",
     "output_type": "stream",
     "text": [
      "  0%|                                                                                       | 0/1310 [00:00<?, ?it/s]"
     ]
    },
    {
     "name": "stdout",
     "output_type": "stream",
     "text": [
      "\n",
      ">> person...\n",
      "COCO\n"
     ]
    },
    {
     "name": "stderr",
     "output_type": "stream",
     "text": [
      "  0%|                                                                               | 1/1310 [00:01<36:53,  1.69s/it]"
     ]
    },
    {
     "name": "stdout",
     "output_type": "stream",
     "text": [
      "\n",
      ">> bicycle...\n",
      "COCO\n",
      "[Errno 2] No such file or directory: 'D:/external_datasets/COCO/2017/images/val2017/000000378139.jpg'\n"
     ]
    },
    {
     "name": "stderr",
     "output_type": "stream",
     "text": [
      "\n",
      ">>> Finding COCO bicycle...:   0%|                                                          | 0/7429 [00:00<?, ?it/s]\u001b[A\n",
      "  0%|                                                                               | 2/1310 [00:02<33:25,  1.53s/it]"
     ]
    },
    {
     "name": "stdout",
     "output_type": "stream",
     "text": [
      "\n",
      ">> car...\n",
      "COCO\n"
     ]
    },
    {
     "name": "stderr",
     "output_type": "stream",
     "text": [
      "  0%|▏                                                                              | 3/1310 [00:03<30:45,  1.41s/it]"
     ]
    },
    {
     "name": "stdout",
     "output_type": "stream",
     "text": [
      "\n",
      ">> motorcycle...\n",
      "COCO\n"
     ]
    },
    {
     "name": "stderr",
     "output_type": "stream",
     "text": [
      "  0%|▏                                                                              | 4/1310 [00:05<28:45,  1.32s/it]"
     ]
    },
    {
     "name": "stdout",
     "output_type": "stream",
     "text": [
      "\n",
      ">> airplane...\n",
      "COCO\n"
     ]
    },
    {
     "name": "stderr",
     "output_type": "stream",
     "text": [
      "  0%|▎                                                                              | 5/1310 [00:06<26:50,  1.23s/it]"
     ]
    },
    {
     "name": "stdout",
     "output_type": "stream",
     "text": [
      "\n",
      ">> bus...\n",
      "COCO\n"
     ]
    },
    {
     "name": "stderr",
     "output_type": "stream",
     "text": [
      "\n",
      ">>> Finding COCO bus...:   0%|                                                              | 0/6354 [00:00<?, ?it/s]\u001b[A"
     ]
    },
    {
     "name": "stdout",
     "output_type": "stream",
     "text": [
      "[Errno 2] No such file or directory: 'D:/external_datasets/COCO/2017/images/val2017/000000452321.jpg'\n"
     ]
    },
    {
     "name": "stderr",
     "output_type": "stream",
     "text": [
      "\n",
      "\n",
      ">>> Finding COCO bus...:   0%|                                                      | 1/6354 [00:00<05:30, 19.22it/s]\u001b[A\n",
      "  0%|▎                                                                              | 6/1310 [00:07<26:19,  1.21s/it]"
     ]
    },
    {
     "name": "stdout",
     "output_type": "stream",
     "text": [
      "[Errno 2] No such file or directory: 'D:/external_datasets/COCO/2017/images/val2017/000000452321.jpg'\n",
      "\n",
      ">> train...\n",
      "COCO\n"
     ]
    },
    {
     "name": "stderr",
     "output_type": "stream",
     "text": [
      "  1%|▍                                                                              | 7/1310 [00:08<25:15,  1.16s/it]"
     ]
    },
    {
     "name": "stdout",
     "output_type": "stream",
     "text": [
      "\n",
      ">> truck...\n",
      "COCO\n"
     ]
    },
    {
     "name": "stderr",
     "output_type": "stream",
     "text": [
      "  1%|▍                                                                              | 8/1310 [00:09<24:32,  1.13s/it]"
     ]
    },
    {
     "name": "stdout",
     "output_type": "stream",
     "text": [
      "\n",
      ">> boat...\n",
      "COCO\n"
     ]
    },
    {
     "name": "stderr",
     "output_type": "stream",
     "text": [
      "  1%|▌                                                                              | 9/1310 [00:10<23:51,  1.10s/it]"
     ]
    },
    {
     "name": "stdout",
     "output_type": "stream",
     "text": [
      "\n",
      ">> traffic light...\n",
      "COCO\n"
     ]
    },
    {
     "name": "stderr",
     "output_type": "stream",
     "text": [
      "  1%|▌                                                                             | 10/1310 [00:11<23:35,  1.09s/it]"
     ]
    },
    {
     "name": "stdout",
     "output_type": "stream",
     "text": [
      "\n",
      ">> fire hydrant...\n",
      "COCO\n"
     ]
    },
    {
     "name": "stderr",
     "output_type": "stream",
     "text": [
      "\n",
      ">>> Finding COCO fire hydrant...:   0%|                                                     | 0/1966 [00:00<?, ?it/s]\u001b[A"
     ]
    },
    {
     "name": "stdout",
     "output_type": "stream",
     "text": [
      "[Errno 2] No such file or directory: 'D:/external_datasets/COCO/2017/images/val2017/000000283318.jpg'\n"
     ]
    },
    {
     "name": "stderr",
     "output_type": "stream",
     "text": [
      "\n",
      "  1%|▋                                                                             | 11/1310 [00:12<24:10,  1.12s/it]"
     ]
    },
    {
     "name": "stdout",
     "output_type": "stream",
     "text": [
      "\n",
      ">> stop sign...\n",
      "COCO\n"
     ]
    },
    {
     "name": "stderr",
     "output_type": "stream",
     "text": [
      "  1%|▋                                                                             | 12/1310 [00:13<25:03,  1.16s/it]\n",
      ">>> Finding COCO parking meter...:   0%|                                                    | 0/1345 [00:00<?, ?it/s]\u001b[A\n"
     ]
    },
    {
     "name": "stdout",
     "output_type": "stream",
     "text": [
      "\n",
      ">> parking meter...\n",
      "COCO\n",
      "[Errno 2] No such file or directory: 'D:/external_datasets/COCO/2017/images/val2017/000000230450.jpg'\n"
     ]
    },
    {
     "name": "stderr",
     "output_type": "stream",
     "text": [
      "\n",
      ">>> Finding COCO parking meter...:   0%|                                            | 1/1345 [00:00<00:56, 23.78it/s]\u001b[A\n",
      "  1%|▊                                                                             | 13/1310 [00:15<24:44,  1.14s/it]"
     ]
    },
    {
     "name": "stdout",
     "output_type": "stream",
     "text": [
      "[Errno 2] No such file or directory: 'D:/external_datasets/COCO/2017/images/val2017/000000301376.jpg'\n",
      "\n",
      ">> bench...\n",
      "COCO\n"
     ]
    },
    {
     "name": "stderr",
     "output_type": "stream",
     "text": [
      "  1%|▊                                                                             | 14/1310 [00:16<24:16,  1.12s/it]"
     ]
    },
    {
     "name": "stdout",
     "output_type": "stream",
     "text": [
      "\n",
      ">> bird...\n",
      "COCO\n"
     ]
    },
    {
     "name": "stderr",
     "output_type": "stream",
     "text": [
      "\n",
      ">>> Finding COCO bird...:   0%|                                                            | 0/11246 [00:00<?, ?it/s]\u001b[A"
     ]
    },
    {
     "name": "stdout",
     "output_type": "stream",
     "text": [
      "[Errno 2] No such file or directory: 'D:/external_datasets/COCO/2017/images/val2017/000000060363.jpg'\n",
      "[Errno 2] No such file or directory: 'D:/external_datasets/COCO/2017/images/val2017/000000060363.jpg'\n"
     ]
    },
    {
     "name": "stderr",
     "output_type": "stream",
     "text": [
      "\n",
      "\n",
      ">>> Finding COCO bird...:   0%|                                                    | 1/11246 [00:00<08:37, 21.72it/s]\u001b[A\n",
      "  1%|▉                                                                             | 15/1310 [00:17<23:24,  1.08s/it]"
     ]
    },
    {
     "name": "stdout",
     "output_type": "stream",
     "text": [
      "\n",
      ">> cat...\n",
      "COCO\n"
     ]
    },
    {
     "name": "stderr",
     "output_type": "stream",
     "text": [
      "\n",
      ">>> Finding COCO cat...:   0%|                                                              | 0/4970 [00:00<?, ?it/s]\u001b[A"
     ]
    },
    {
     "name": "stdout",
     "output_type": "stream",
     "text": [
      "[Errno 2] No such file or directory: 'D:/external_datasets/COCO/2017/images/val2017/000000476810.jpg'\n"
     ]
    },
    {
     "name": "stderr",
     "output_type": "stream",
     "text": [
      "\n",
      "  1%|▉                                                                             | 16/1310 [00:18<23:46,  1.10s/it]\n",
      ">>> Finding COCO dog...:   0%|                                                              | 0/5726 [00:00<?, ?it/s]\u001b[A"
     ]
    },
    {
     "name": "stdout",
     "output_type": "stream",
     "text": [
      "\n",
      ">> dog...\n",
      "COCO\n",
      "[Errno 2] No such file or directory: 'D:/external_datasets/COCO/2017/images/val2017/000000377575.jpg'\n"
     ]
    },
    {
     "name": "stderr",
     "output_type": "stream",
     "text": [
      ">>> Finding COCO dog...:   0%|                                                              | 0/5726 [00:00<?, ?it/s]\n",
      "  1%|█                                                                             | 17/1310 [00:19<24:45,  1.15s/it]"
     ]
    },
    {
     "name": "stdout",
     "output_type": "stream",
     "text": [
      "\n",
      ">> horse...\n",
      "COCO\n"
     ]
    },
    {
     "name": "stderr",
     "output_type": "stream",
     "text": [
      "  1%|█                                                                             | 18/1310 [00:20<25:04,  1.16s/it]"
     ]
    },
    {
     "name": "stdout",
     "output_type": "stream",
     "text": [
      "\n",
      ">> sheep...\n",
      "COCO\n"
     ]
    },
    {
     "name": "stderr",
     "output_type": "stream",
     "text": [
      "\n",
      ">>> Finding COCO sheep...:   0%|                                                            | 0/9870 [00:00<?, ?it/s]\u001b[A"
     ]
    },
    {
     "name": "stdout",
     "output_type": "stream",
     "text": [
      "[Errno 2] No such file or directory: 'D:/external_datasets/COCO/2017/images/val2017/000000230166.jpg'\n"
     ]
    },
    {
     "name": "stderr",
     "output_type": "stream",
     "text": [
      "\n",
      "  1%|█▏                                                                            | 19/1310 [00:21<24:58,  1.16s/it]"
     ]
    },
    {
     "name": "stdout",
     "output_type": "stream",
     "text": [
      "\n",
      ">> cow...\n",
      "COCO\n"
     ]
    },
    {
     "name": "stderr",
     "output_type": "stream",
     "text": [
      "  2%|█▏                                                                            | 20/1310 [00:22<24:26,  1.14s/it]\n",
      ">>> Finding COCO elephant...:   0%|                                                         | 0/5768 [00:00<?, ?it/s]\u001b[A\n"
     ]
    },
    {
     "name": "stdout",
     "output_type": "stream",
     "text": [
      "\n",
      ">> elephant...\n",
      "COCO\n",
      "[Errno 2] No such file or directory: 'D:/external_datasets/COCO/2017/images/val2017/000000094852.jpg'\n"
     ]
    },
    {
     "name": "stderr",
     "output_type": "stream",
     "text": [
      "  2%|█▎                                                                            | 21/1310 [00:23<23:50,  1.11s/it]"
     ]
    },
    {
     "name": "stdout",
     "output_type": "stream",
     "text": [
      "\n",
      ">> bear...\n",
      "COCO\n"
     ]
    },
    {
     "name": "stderr",
     "output_type": "stream",
     "text": [
      "  2%|█▎                                                                            | 22/1310 [00:25<24:00,  1.12s/it]\n",
      ">>> Finding COCO zebra...:   0%|                                                            | 0/5571 [00:00<?, ?it/s]\u001b[A"
     ]
    },
    {
     "name": "stdout",
     "output_type": "stream",
     "text": [
      "\n",
      ">> zebra...\n",
      "COCO\n",
      "[Errno 2] No such file or directory: 'D:/external_datasets/COCO/2017/images/val2017/000000501243.jpg'\n"
     ]
    },
    {
     "name": "stderr",
     "output_type": "stream",
     "text": [
      ">>> Finding COCO zebra...:   0%|                                                            | 0/5571 [00:00<?, ?it/s]\n",
      "  2%|█▎                                                                            | 23/1310 [00:26<24:11,  1.13s/it]"
     ]
    },
    {
     "name": "stdout",
     "output_type": "stream",
     "text": [
      "\n",
      ">> giraffe...\n",
      "COCO\n"
     ]
    },
    {
     "name": "stderr",
     "output_type": "stream",
     "text": [
      "  2%|█▍                                                                            | 24/1310 [00:27<24:14,  1.13s/it]"
     ]
    },
    {
     "name": "stdout",
     "output_type": "stream",
     "text": [
      "\n",
      ">> backpack...\n",
      "COCO\n"
     ]
    },
    {
     "name": "stderr",
     "output_type": "stream",
     "text": [
      "  2%|█▍                                                                            | 25/1310 [00:28<24:15,  1.13s/it]"
     ]
    },
    {
     "name": "stdout",
     "output_type": "stream",
     "text": [
      "\n",
      ">> umbrella...\n",
      "COCO\n"
     ]
    },
    {
     "name": "stderr",
     "output_type": "stream",
     "text": [
      "  2%|█▌                                                                            | 26/1310 [00:29<24:30,  1.14s/it]"
     ]
    },
    {
     "name": "stdout",
     "output_type": "stream",
     "text": [
      "\n",
      ">> handbag...\n",
      "COCO\n"
     ]
    },
    {
     "name": "stderr",
     "output_type": "stream",
     "text": [
      "  2%|█▌                                                                            | 27/1310 [00:30<24:20,  1.14s/it]"
     ]
    },
    {
     "name": "stdout",
     "output_type": "stream",
     "text": [
      "\n",
      ">> tie...\n",
      "COCO\n"
     ]
    },
    {
     "name": "stderr",
     "output_type": "stream",
     "text": [
      "  2%|█▋                                                                            | 28/1310 [00:31<23:19,  1.09s/it]"
     ]
    },
    {
     "name": "stdout",
     "output_type": "stream",
     "text": [
      "\n",
      ">> suitcase...\n",
      "COCO\n"
     ]
    },
    {
     "name": "stderr",
     "output_type": "stream",
     "text": [
      "  2%|█▋                                                                            | 29/1310 [00:32<23:44,  1.11s/it]"
     ]
    },
    {
     "name": "stdout",
     "output_type": "stream",
     "text": [
      "\n",
      ">> frisbee...\n",
      "COCO\n"
     ]
    },
    {
     "name": "stderr",
     "output_type": "stream",
     "text": [
      "  2%|█▊                                                                            | 30/1310 [00:33<23:03,  1.08s/it]"
     ]
    },
    {
     "name": "stdout",
     "output_type": "stream",
     "text": [
      "\n",
      ">> skis...\n",
      "COCO\n"
     ]
    },
    {
     "name": "stderr",
     "output_type": "stream",
     "text": [
      "  2%|█▊                                                                            | 31/1310 [00:35<23:23,  1.10s/it]"
     ]
    },
    {
     "name": "stdout",
     "output_type": "stream",
     "text": [
      "\n",
      ">> snowboard...\n",
      "COCO\n"
     ]
    },
    {
     "name": "stderr",
     "output_type": "stream",
     "text": [
      "\n",
      ">>> Finding COCO snowboard...:   0%|                                                        | 0/2754 [00:00<?, ?it/s]\u001b[A"
     ]
    },
    {
     "name": "stdout",
     "output_type": "stream",
     "text": [
      "[Errno 2] No such file or directory: 'D:/external_datasets/COCO/2017/images/val2017/000000428454.jpg'\n"
     ]
    },
    {
     "name": "stderr",
     "output_type": "stream",
     "text": [
      "\n",
      "  2%|█▉                                                                            | 32/1310 [00:36<22:16,  1.05s/it]"
     ]
    },
    {
     "name": "stdout",
     "output_type": "stream",
     "text": [
      "\n",
      ">> sports ball...\n",
      "COCO\n"
     ]
    },
    {
     "name": "stderr",
     "output_type": "stream",
     "text": [
      "  3%|█▉                                                                            | 33/1310 [00:37<22:40,  1.07s/it]"
     ]
    },
    {
     "name": "stdout",
     "output_type": "stream",
     "text": [
      "\n",
      ">> kite...\n",
      "COCO\n"
     ]
    },
    {
     "name": "stderr",
     "output_type": "stream",
     "text": [
      "  3%|██                                                                            | 34/1310 [00:38<22:44,  1.07s/it]"
     ]
    },
    {
     "name": "stdout",
     "output_type": "stream",
     "text": [
      "\n",
      ">> baseball bat...\n",
      "COCO\n"
     ]
    },
    {
     "name": "stderr",
     "output_type": "stream",
     "text": [
      "  3%|██                                                                            | 35/1310 [00:39<23:17,  1.10s/it]"
     ]
    },
    {
     "name": "stdout",
     "output_type": "stream",
     "text": [
      "\n",
      ">> baseball glove...\n",
      "COCO\n"
     ]
    },
    {
     "name": "stderr",
     "output_type": "stream",
     "text": [
      "  3%|██▏                                                                           | 36/1310 [00:40<23:07,  1.09s/it]"
     ]
    },
    {
     "name": "stdout",
     "output_type": "stream",
     "text": [
      "\n",
      ">> skateboard...\n",
      "COCO\n"
     ]
    },
    {
     "name": "stderr",
     "output_type": "stream",
     "text": [
      "\n",
      ">>> Finding COCO skateboard...:   0%|                                                       | 0/5722 [00:00<?, ?it/s]\u001b[A"
     ]
    },
    {
     "name": "stdout",
     "output_type": "stream",
     "text": [
      "[Errno 2] No such file or directory: 'D:/external_datasets/COCO/2017/images/val2017/000000349860.jpg'\n"
     ]
    },
    {
     "name": "stderr",
     "output_type": "stream",
     "text": [
      "\n",
      "\n",
      ">>> Finding COCO skateboard...:   0%|                                               | 1/5722 [00:00<04:51, 19.60it/s]\u001b[A"
     ]
    },
    {
     "name": "stdout",
     "output_type": "stream",
     "text": [
      "[Errno 2] No such file or directory: 'D:/external_datasets/COCO/2017/images/val2017/000000544052.jpg'\n"
     ]
    },
    {
     "name": "stderr",
     "output_type": "stream",
     "text": [
      "\n",
      "  3%|██▏                                                                           | 37/1310 [00:41<22:45,  1.07s/it]"
     ]
    },
    {
     "name": "stdout",
     "output_type": "stream",
     "text": [
      "\n",
      ">> surfboard...\n",
      "COCO\n"
     ]
    },
    {
     "name": "stderr",
     "output_type": "stream",
     "text": [
      "  3%|██▎                                                                           | 38/1310 [00:42<23:20,  1.10s/it]"
     ]
    },
    {
     "name": "stdout",
     "output_type": "stream",
     "text": [
      "\n",
      ">> tennis racket...\n",
      "COCO\n"
     ]
    },
    {
     "name": "stderr",
     "output_type": "stream",
     "text": [
      "  3%|██▎                                                                           | 39/1310 [00:43<22:55,  1.08s/it]\n",
      ">>> Finding COCO bottle...:   0%|                                                          | 0/25367 [00:00<?, ?it/s]\u001b[A"
     ]
    },
    {
     "name": "stdout",
     "output_type": "stream",
     "text": [
      "\n",
      ">> bottle...\n",
      "COCO\n",
      "[Errno 2] No such file or directory: 'D:/external_datasets/COCO/2017/images/val2017/000000557172.jpg'\n"
     ]
    },
    {
     "name": "stderr",
     "output_type": "stream",
     "text": [
      "\n",
      "\n",
      ">>> Finding COCO bottle...:   0%|                                                  | 1/25367 [00:00<27:41, 15.27it/s]\u001b[A"
     ]
    },
    {
     "name": "stdout",
     "output_type": "stream",
     "text": [
      "[Errno 2] No such file or directory: 'D:/external_datasets/COCO/2017/images/val2017/000000290768.jpg'\n"
     ]
    },
    {
     "name": "stderr",
     "output_type": "stream",
     "text": [
      "\n",
      "  3%|██▍                                                                           | 40/1310 [00:44<22:51,  1.08s/it]"
     ]
    },
    {
     "name": "stdout",
     "output_type": "stream",
     "text": [
      "\n",
      ">> wine glass...\n",
      "COCO\n"
     ]
    },
    {
     "name": "stderr",
     "output_type": "stream",
     "text": [
      "  3%|██▍                                                                           | 41/1310 [00:45<22:57,  1.09s/it]"
     ]
    },
    {
     "name": "stdout",
     "output_type": "stream",
     "text": [
      "\n",
      ">> cup...\n",
      "COCO\n"
     ]
    },
    {
     "name": "stderr",
     "output_type": "stream",
     "text": [
      "  3%|██▌                                                                           | 42/1310 [00:46<22:45,  1.08s/it]"
     ]
    },
    {
     "name": "stdout",
     "output_type": "stream",
     "text": [
      "\n",
      ">> fork...\n",
      "COCO\n"
     ]
    },
    {
     "name": "stderr",
     "output_type": "stream",
     "text": [
      "  3%|██▌                                                                           | 43/1310 [00:50<35:26,  1.68s/it]"
     ]
    },
    {
     "name": "stdout",
     "output_type": "stream",
     "text": [
      "\n",
      ">> knife...\n",
      "COCO\n"
     ]
    },
    {
     "name": "stderr",
     "output_type": "stream",
     "text": [
      "  3%|██▌                                                                           | 44/1310 [00:51<31:19,  1.48s/it]"
     ]
    },
    {
     "name": "stdout",
     "output_type": "stream",
     "text": [
      "\n",
      ">> spoon...\n",
      "COCO\n"
     ]
    },
    {
     "name": "stderr",
     "output_type": "stream",
     "text": [
      "\n",
      ">>> Finding COCO spoon...:   0%|                                                            | 0/6418 [00:00<?, ?it/s]\u001b[A\n",
      "  3%|██▋                                                                           | 45/1310 [00:52<28:32,  1.35s/it]"
     ]
    },
    {
     "name": "stdout",
     "output_type": "stream",
     "text": [
      "[Errno 2] No such file or directory: 'D:/external_datasets/COCO/2017/images/val2017/000000047801.jpg'\n",
      "\n",
      ">> bowl...\n",
      "COCO\n"
     ]
    },
    {
     "name": "stderr",
     "output_type": "stream",
     "text": [
      "\n",
      ">>> Finding COCO bowl...:   0%|                                                            | 0/14984 [00:00<?, ?it/s]\u001b[A"
     ]
    },
    {
     "name": "stdout",
     "output_type": "stream",
     "text": [
      "[Errno 2] No such file or directory: 'D:/external_datasets/COCO/2017/images/val2017/000000242946.jpg'\n"
     ]
    },
    {
     "name": "stderr",
     "output_type": "stream",
     "text": [
      "\n",
      "  4%|██▋                                                                           | 46/1310 [00:53<26:59,  1.28s/it]"
     ]
    },
    {
     "name": "stdout",
     "output_type": "stream",
     "text": [
      "\n",
      ">> banana...\n",
      "COCO\n"
     ]
    },
    {
     "name": "stderr",
     "output_type": "stream",
     "text": [
      "  4%|██▊                                                                           | 47/1310 [00:54<25:49,  1.23s/it]"
     ]
    },
    {
     "name": "stdout",
     "output_type": "stream",
     "text": [
      "\n",
      ">> apple...\n",
      "COCO\n"
     ]
    },
    {
     "name": "stderr",
     "output_type": "stream",
     "text": [
      "  4%|██▊                                                                           | 48/1310 [00:55<24:51,  1.18s/it]"
     ]
    },
    {
     "name": "stdout",
     "output_type": "stream",
     "text": [
      "\n",
      ">> sandwich...\n",
      "COCO\n"
     ]
    },
    {
     "name": "stderr",
     "output_type": "stream",
     "text": [
      "  4%|██▉                                                                           | 49/1310 [00:56<24:07,  1.15s/it]"
     ]
    },
    {
     "name": "stdout",
     "output_type": "stream",
     "text": [
      "\n",
      ">> orange...\n",
      "COCO\n"
     ]
    },
    {
     "name": "stderr",
     "output_type": "stream",
     "text": [
      "  4%|██▉                                                                           | 50/1310 [00:57<24:08,  1.15s/it]"
     ]
    },
    {
     "name": "stdout",
     "output_type": "stream",
     "text": [
      "\n",
      ">> broccoli...\n",
      "COCO\n"
     ]
    },
    {
     "name": "stderr",
     "output_type": "stream",
     "text": [
      "  4%|███                                                                           | 51/1310 [00:58<23:07,  1.10s/it]"
     ]
    },
    {
     "name": "stdout",
     "output_type": "stream",
     "text": [
      "\n",
      ">> carrot...\n",
      "COCO\n"
     ]
    },
    {
     "name": "stderr",
     "output_type": "stream",
     "text": [
      "  4%|███                                                                           | 52/1310 [00:59<22:27,  1.07s/it]"
     ]
    },
    {
     "name": "stdout",
     "output_type": "stream",
     "text": [
      "\n",
      ">> hot dog...\n",
      "COCO\n"
     ]
    },
    {
     "name": "stderr",
     "output_type": "stream",
     "text": [
      "  4%|███▏                                                                          | 53/1310 [01:00<22:12,  1.06s/it]"
     ]
    },
    {
     "name": "stdout",
     "output_type": "stream",
     "text": [
      "\n",
      ">> pizza...\n",
      "COCO\n"
     ]
    },
    {
     "name": "stderr",
     "output_type": "stream",
     "text": [
      "\n",
      ">>> Finding COCO pizza...:   0%|                                                            | 0/6106 [00:00<?, ?it/s]\u001b[A\n"
     ]
    },
    {
     "name": "stdout",
     "output_type": "stream",
     "text": [
      "[Errno 2] No such file or directory: 'D:/external_datasets/COCO/2017/images/val2017/000000292446.jpg'\n"
     ]
    },
    {
     "name": "stderr",
     "output_type": "stream",
     "text": [
      "  4%|███▏                                                                          | 54/1310 [01:01<22:12,  1.06s/it]"
     ]
    },
    {
     "name": "stdout",
     "output_type": "stream",
     "text": [
      "\n",
      ">> donut...\n",
      "COCO\n"
     ]
    },
    {
     "name": "stderr",
     "output_type": "stream",
     "text": [
      "  4%|███▎                                                                          | 55/1310 [01:02<22:15,  1.06s/it]"
     ]
    },
    {
     "name": "stdout",
     "output_type": "stream",
     "text": [
      "\n",
      ">> cake...\n",
      "COCO\n"
     ]
    },
    {
     "name": "stderr",
     "output_type": "stream",
     "text": [
      "  4%|███▎                                                                          | 56/1310 [01:03<21:54,  1.05s/it]"
     ]
    },
    {
     "name": "stdout",
     "output_type": "stream",
     "text": [
      "\n",
      ">> chair...\n",
      "COCO\n"
     ]
    },
    {
     "name": "stderr",
     "output_type": "stream",
     "text": [
      "  4%|███▍                                                                          | 57/1310 [01:04<21:13,  1.02s/it]"
     ]
    },
    {
     "name": "stdout",
     "output_type": "stream",
     "text": [
      "\n",
      ">> couch...\n",
      "COCO\n"
     ]
    },
    {
     "name": "stderr",
     "output_type": "stream",
     "text": [
      "  4%|███▍                                                                          | 58/1310 [01:05<21:49,  1.05s/it]"
     ]
    },
    {
     "name": "stdout",
     "output_type": "stream",
     "text": [
      "\n",
      ">> potted plant...\n",
      "COCO\n"
     ]
    },
    {
     "name": "stderr",
     "output_type": "stream",
     "text": [
      "  5%|███▌                                                                          | 59/1310 [01:06<21:40,  1.04s/it]"
     ]
    },
    {
     "name": "stdout",
     "output_type": "stream",
     "text": [
      "\n",
      ">> bed...\n",
      "COCO\n"
     ]
    },
    {
     "name": "stderr",
     "output_type": "stream",
     "text": [
      "\n",
      ">>> Finding COCO bed...:   0%|                                                              | 0/4355 [00:00<?, ?it/s]\u001b[A"
     ]
    },
    {
     "name": "stdout",
     "output_type": "stream",
     "text": [
      "[Errno 2] No such file or directory: 'D:/external_datasets/COCO/2017/images/val2017/000000521509.jpg'\n"
     ]
    },
    {
     "name": "stderr",
     "output_type": "stream",
     "text": [
      "\n",
      "  5%|███▌                                                                          | 60/1310 [01:07<21:45,  1.04s/it]"
     ]
    },
    {
     "name": "stdout",
     "output_type": "stream",
     "text": [
      "\n",
      ">> dining table...\n",
      "COCO\n"
     ]
    },
    {
     "name": "stderr",
     "output_type": "stream",
     "text": [
      "  5%|███▋                                                                          | 61/1310 [01:08<21:08,  1.02s/it]"
     ]
    },
    {
     "name": "stdout",
     "output_type": "stream",
     "text": [
      "\n",
      ">> toilet...\n",
      "COCO\n"
     ]
    },
    {
     "name": "stderr",
     "output_type": "stream",
     "text": [
      "  5%|███▋                                                                          | 62/1310 [01:09<21:37,  1.04s/it]"
     ]
    },
    {
     "name": "stdout",
     "output_type": "stream",
     "text": [
      "\n",
      ">> tv...\n",
      "COCO\n"
     ]
    },
    {
     "name": "stderr",
     "output_type": "stream",
     "text": [
      "  5%|███▊                                                                          | 63/1310 [01:10<21:23,  1.03s/it]"
     ]
    },
    {
     "name": "stdout",
     "output_type": "stream",
     "text": [
      "\n",
      ">> laptop...\n",
      "COCO\n"
     ]
    },
    {
     "name": "stderr",
     "output_type": "stream",
     "text": [
      "  5%|███▊                                                                          | 64/1310 [01:11<21:21,  1.03s/it]"
     ]
    },
    {
     "name": "stdout",
     "output_type": "stream",
     "text": [
      "\n",
      ">> mouse...\n",
      "COCO\n"
     ]
    },
    {
     "name": "stderr",
     "output_type": "stream",
     "text": [
      "\n",
      ">>> Finding COCO mouse...:   0%|                                                            | 0/2368 [00:00<?, ?it/s]\u001b[A"
     ]
    },
    {
     "name": "stdout",
     "output_type": "stream",
     "text": [
      "[Errno 2] No such file or directory: 'D:/external_datasets/COCO/2017/images/val2017/000000009400.jpg'\n"
     ]
    },
    {
     "name": "stderr",
     "output_type": "stream",
     "text": [
      "\n",
      "  5%|███▊                                                                          | 65/1310 [01:12<20:33,  1.01it/s]"
     ]
    },
    {
     "name": "stdout",
     "output_type": "stream",
     "text": [
      "\n",
      ">> remote...\n",
      "COCO\n"
     ]
    },
    {
     "name": "stderr",
     "output_type": "stream",
     "text": [
      "  5%|███▉                                                                          | 66/1310 [01:13<20:56,  1.01s/it]"
     ]
    },
    {
     "name": "stdout",
     "output_type": "stream",
     "text": [
      "\n",
      ">> keyboard...\n",
      "COCO\n"
     ]
    },
    {
     "name": "stderr",
     "output_type": "stream",
     "text": [
      "  5%|███▉                                                                          | 67/1310 [01:15<21:22,  1.03s/it]"
     ]
    },
    {
     "name": "stdout",
     "output_type": "stream",
     "text": [
      "\n",
      ">> cell phone...\n",
      "COCO\n"
     ]
    },
    {
     "name": "stderr",
     "output_type": "stream",
     "text": [
      "  5%|████                                                                          | 68/1310 [01:16<22:06,  1.07s/it]"
     ]
    },
    {
     "name": "stdout",
     "output_type": "stream",
     "text": [
      "\n",
      ">> microwave...\n",
      "COCO\n"
     ]
    },
    {
     "name": "stderr",
     "output_type": "stream",
     "text": [
      "  5%|████                                                                          | 69/1310 [01:17<21:08,  1.02s/it]"
     ]
    },
    {
     "name": "stdout",
     "output_type": "stream",
     "text": [
      "\n",
      ">> oven...\n",
      "COCO\n"
     ]
    },
    {
     "name": "stderr",
     "output_type": "stream",
     "text": [
      "  5%|████▏                                                                         | 70/1310 [01:18<21:08,  1.02s/it]"
     ]
    },
    {
     "name": "stdout",
     "output_type": "stream",
     "text": [
      "\n",
      ">> toaster...\n",
      "COCO\n"
     ]
    },
    {
     "name": "stderr",
     "output_type": "stream",
     "text": [
      "\n",
      ">>> Finding COCO toaster...:   0%|▏                                                  | 1/234 [00:00<00:13, 17.54it/s]\u001b[A"
     ]
    },
    {
     "name": "stdout",
     "output_type": "stream",
     "text": [
      "[Errno 2] No such file or directory: 'D:/external_datasets/COCO/2017/images/val2017/000000453302.jpg'\n"
     ]
    },
    {
     "name": "stderr",
     "output_type": "stream",
     "text": [
      "\n",
      "  5%|████▏                                                                         | 71/1310 [01:19<21:09,  1.02s/it]"
     ]
    },
    {
     "name": "stdout",
     "output_type": "stream",
     "text": [
      "\n",
      ">> sink...\n",
      "COCO\n"
     ]
    },
    {
     "name": "stderr",
     "output_type": "stream",
     "text": [
      "  5%|████▎                                                                         | 72/1310 [01:20<20:53,  1.01s/it]"
     ]
    },
    {
     "name": "stdout",
     "output_type": "stream",
     "text": [
      "\n",
      ">> refrigerator...\n",
      "COCO\n"
     ]
    },
    {
     "name": "stderr",
     "output_type": "stream",
     "text": [
      "  6%|████▎                                                                         | 73/1310 [01:21<21:32,  1.04s/it]"
     ]
    },
    {
     "name": "stdout",
     "output_type": "stream",
     "text": [
      "\n",
      ">> book...\n",
      "COCO\n"
     ]
    },
    {
     "name": "stderr",
     "output_type": "stream",
     "text": [
      "\n",
      ">>> Finding COCO book...:   0%|                                                            | 0/25876 [00:00<?, ?it/s]\u001b[A"
     ]
    },
    {
     "name": "stdout",
     "output_type": "stream",
     "text": [
      "[Errno 2] No such file or directory: 'D:/external_datasets/COCO/2017/images/val2017/000000400161.jpg'\n"
     ]
    },
    {
     "name": "stderr",
     "output_type": "stream",
     "text": [
      "\n",
      "  6%|████▍                                                                         | 74/1310 [01:22<21:01,  1.02s/it]"
     ]
    },
    {
     "name": "stdout",
     "output_type": "stream",
     "text": [
      "\n",
      ">> clock...\n",
      "COCO\n"
     ]
    },
    {
     "name": "stderr",
     "output_type": "stream",
     "text": [
      "  6%|████▍                                                                         | 75/1310 [01:23<21:12,  1.03s/it]"
     ]
    },
    {
     "name": "stdout",
     "output_type": "stream",
     "text": [
      "\n",
      ">> vase...\n",
      "COCO\n"
     ]
    },
    {
     "name": "stderr",
     "output_type": "stream",
     "text": [
      "  6%|████▌                                                                         | 76/1310 [01:24<21:25,  1.04s/it]\n",
      ">>> Finding COCO scissors...:   0%|                                                         | 0/1517 [00:00<?, ?it/s]\u001b[A\n"
     ]
    },
    {
     "name": "stdout",
     "output_type": "stream",
     "text": [
      "\n",
      ">> scissors...\n",
      "COCO\n",
      "[Errno 2] No such file or directory: 'D:/external_datasets/COCO/2017/images/val2017/000000099024.jpg'\n"
     ]
    },
    {
     "name": "stderr",
     "output_type": "stream",
     "text": [
      "\n",
      ">>> Finding COCO scissors...:   0%|                                                 | 1/1517 [00:00<01:18, 19.23it/s]\u001b[A"
     ]
    },
    {
     "name": "stdout",
     "output_type": "stream",
     "text": [
      "[Errno 2] No such file or directory: 'D:/external_datasets/COCO/2017/images/val2017/000000245576.jpg'\n"
     ]
    },
    {
     "name": "stderr",
     "output_type": "stream",
     "text": [
      "\n",
      "  6%|████▌                                                                         | 77/1310 [01:25<20:44,  1.01s/it]"
     ]
    },
    {
     "name": "stdout",
     "output_type": "stream",
     "text": [
      "\n",
      ">> teddy bear...\n",
      "COCO\n"
     ]
    },
    {
     "name": "stderr",
     "output_type": "stream",
     "text": [
      "\n",
      ">>> Finding COCO teddy bear...:   0%|                                                       | 0/4984 [00:00<?, ?it/s]\u001b[A\n",
      "  6%|████▋                                                                         | 78/1310 [01:26<21:11,  1.03s/it]"
     ]
    },
    {
     "name": "stdout",
     "output_type": "stream",
     "text": [
      "[Errno 2] No such file or directory: 'D:/external_datasets/COCO/2017/images/val2017/000000226058.jpg'\n",
      "\n",
      ">> hair drier...\n",
      "COCO\n"
     ]
    },
    {
     "name": "stderr",
     "output_type": "stream",
     "text": [
      "  6%|████▋                                                                         | 79/1310 [01:27<21:39,  1.06s/it]"
     ]
    },
    {
     "name": "stdout",
     "output_type": "stream",
     "text": [
      "\n",
      ">> toothbrush...\n",
      "COCO\n"
     ]
    },
    {
     "name": "stderr",
     "output_type": "stream",
     "text": [
      "  6%|████▊                                                                         | 80/1310 [01:28<22:17,  1.09s/it]"
     ]
    },
    {
     "name": "stdout",
     "output_type": "stream",
     "text": [
      "\n",
      ">> acorn...\n",
      ">>>> #WARNING acorn is missing from json annotations\n",
      "annotations datasets:  []\n",
      "annotations imgids:  []\n",
      "annotations bbox:  []\n",
      "\n",
      ">> aerosol_can...\n",
      "TAO\n"
     ]
    },
    {
     "name": "stderr",
     "output_type": "stream",
     "text": [
      "  6%|████▉                                                                         | 82/1310 [01:30<20:47,  1.02s/it]"
     ]
    },
    {
     "name": "stdout",
     "output_type": "stream",
     "text": [
      "\n",
      ">> air_conditioner...\n",
      ">>>> #WARNING air_conditioner is missing from json annotations\n",
      "annotations datasets:  []\n",
      "annotations imgids:  []\n",
      "annotations bbox:  []\n",
      "\n",
      ">> airplane...\n",
      "TAO\n"
     ]
    },
    {
     "name": "stderr",
     "output_type": "stream",
     "text": [
      "  6%|█████                                                                         | 84/1310 [01:31<19:08,  1.07it/s]"
     ]
    },
    {
     "name": "stdout",
     "output_type": "stream",
     "text": [
      "\n",
      ">> alarm_clock...\n",
      ">>>> #WARNING alarm_clock is missing from json annotations\n",
      "annotations datasets:  []\n",
      "annotations imgids:  []\n",
      "annotations bbox:  []\n",
      "\n",
      ">> alcohol...\n",
      ">>>> #WARNING alcohol is missing from json annotations\n",
      "annotations datasets:  []\n",
      "annotations imgids:  []\n",
      "annotations bbox:  []\n",
      "\n",
      ">> alligator...\n",
      ">>>> #WARNING alligator is missing from json annotations\n",
      "annotations datasets:  []\n",
      "annotations imgids:  []\n",
      "annotations bbox:  []\n",
      "\n",
      ">> almond...\n",
      ">>>> #WARNING almond is missing from json annotations\n",
      "annotations datasets:  []\n",
      "annotations imgids:  []\n",
      "annotations bbox:  []\n",
      "\n",
      ">> ambulance...\n",
      ">>>> #WARNING ambulance is missing from json annotations\n",
      "annotations datasets:  []\n",
      "annotations imgids:  []\n",
      "annotations bbox:  []\n",
      "\n",
      ">> amplifier...\n",
      ">>>> #WARNING amplifier is missing from json annotations\n",
      "annotations datasets:  []\n",
      "annotations imgids:  []\n",
      "annotations bbox:  []\n",
      "\n",
      ">> anklet...\n",
      ">>>> #WARNING anklet is missing from json annotations\n",
      "annotations datasets:  []\n",
      "annotations imgids:  []\n",
      "annotations bbox:  []\n",
      "\n",
      ">> antenna...\n",
      ">>>> #WARNING antenna is missing from json annotations\n",
      "annotations datasets:  []\n",
      "annotations imgids:  []\n",
      "annotations bbox:  []\n",
      "\n",
      ">> apple...\n",
      ">>>> #WARNING apple is missing from json annotations\n",
      "annotations datasets:  []\n",
      "annotations imgids:  []\n",
      "annotations bbox:  []\n",
      "\n",
      ">> apple_juice...\n",
      ">>>> #WARNING apple_juice is missing from json annotations\n",
      "annotations datasets:  []\n",
      "annotations imgids:  []\n",
      "annotations bbox:  []\n",
      "\n",
      ">> applesauce...\n",
      ">>>> #WARNING applesauce is missing from json annotations\n",
      "annotations datasets:  []\n",
      "annotations imgids:  []\n",
      "annotations bbox:  []\n",
      "\n",
      ">> apricot...\n",
      "TAO\n"
     ]
    },
    {
     "name": "stderr",
     "output_type": "stream",
     "text": [
      "\n",
      ">>> Finding TAO apricot...:   0%|                                                             | 0/36 [00:00<?, ?it/s]\u001b[A\n",
      "\n",
      ">>> Finding TAO apricot...:  11%|█████▊                                              | 4/36 [00:00<00:00, 121.21it/s]\u001b[A"
     ]
    },
    {
     "name": "stdout",
     "output_type": "stream",
     "text": [
      "[Errno 2] No such file or directory: 'D:/external_datasets/TAO/TAO_DIR/frames/train/YFCC100M/v_b9e87a1eb4ca4a47d8d80da9f7d7f20/frame1171.jpg'\n",
      "[Errno 2] No such file or directory: 'D:/external_datasets/TAO/TAO_DIR/frames/train/YFCC100M/v_b9e87a1eb4ca4a47d8d80da9f7d7f20/frame1291.jpg'\n",
      "[Errno 2] No such file or directory: 'D:/external_datasets/TAO/TAO_DIR/frames/train/YFCC100M/v_b9e87a1eb4ca4a47d8d80da9f7d7f20/frame1591.jpg'\n"
     ]
    },
    {
     "name": "stderr",
     "output_type": "stream",
     "text": [
      "\n",
      "\n",
      ">>> Finding TAO apricot...:  14%|███████▏                                            | 5/36 [00:00<00:00, 499.91it/s]\u001b[A\n",
      "\n",
      ">>> Finding TAO apricot...:  19%|██████████                                          | 7/36 [00:00<00:00, 777.79it/s]\u001b[A\n",
      "\n",
      ">>> Finding TAO apricot...:  22%|███████████▌                                        | 8/36 [00:00<00:00, 170.21it/s]\u001b[A\n"
     ]
    },
    {
     "name": "stdout",
     "output_type": "stream",
     "text": [
      "[Errno 2] No such file or directory: 'D:/external_datasets/TAO/TAO_DIR/frames/train/YFCC100M/v_b9e87a1eb4ca4a47d8d80da9f7d7f20/frame1261.jpg'\n",
      "[Errno 2] No such file or directory: 'D:/external_datasets/TAO/TAO_DIR/frames/train/YFCC100M/v_b9e87a1eb4ca4a47d8d80da9f7d7f20/frame1441.jpg'\n"
     ]
    },
    {
     "name": "stderr",
     "output_type": "stream",
     "text": [
      "\n",
      ">>> Finding TAO apricot...:  25%|█████████████                                       | 9/36 [00:00<00:00, 236.88it/s]\u001b[A\n",
      "  7%|█████▋                                                                        | 96/1310 [01:32<13:48,  1.47it/s]"
     ]
    },
    {
     "name": "stdout",
     "output_type": "stream",
     "text": [
      "[Errno 2] No such file or directory: 'D:/external_datasets/TAO/TAO_DIR/frames/train/YFCC100M/v_b9e87a1eb4ca4a47d8d80da9f7d7f20/frame1201.jpg'\n",
      "\n",
      ">> apron...\n",
      ">>>> #WARNING apron is missing from json annotations\n",
      "annotations datasets:  []\n",
      "annotations imgids:  []\n",
      "annotations bbox:  []\n",
      "\n",
      ">> aquarium...\n",
      ">>>> #WARNING aquarium is missing from json annotations\n",
      "annotations datasets:  []\n",
      "annotations imgids:  []\n",
      "annotations bbox:  []\n",
      "\n",
      ">> armband...\n",
      ">>>> #WARNING armband is missing from json annotations\n",
      "annotations datasets:  []\n",
      "annotations imgids:  []\n",
      "annotations bbox:  []\n",
      "\n",
      ">> armchair...\n",
      "TAO\n"
     ]
    },
    {
     "name": "stderr",
     "output_type": "stream",
     "text": [
      "  8%|█████▉                                                                       | 100/1310 [01:34<12:09,  1.66it/s]"
     ]
    },
    {
     "name": "stdout",
     "output_type": "stream",
     "text": [
      "\n",
      ">> armoire...\n",
      ">>>> #WARNING armoire is missing from json annotations\n",
      "annotations datasets:  []\n",
      "annotations imgids:  []\n",
      "annotations bbox:  []\n",
      "\n",
      ">> armor...\n",
      ">>>> #WARNING armor is missing from json annotations\n",
      "annotations datasets:  []\n",
      "annotations imgids:  []\n",
      "annotations bbox:  []\n",
      "\n",
      ">> artichoke...\n",
      ">>>> #WARNING artichoke is missing from json annotations\n",
      "annotations datasets:  []\n",
      "annotations imgids:  []\n",
      "annotations bbox:  []\n",
      "\n",
      ">> trash_can...\n",
      ">>>> #WARNING trash_can is missing from json annotations\n",
      "annotations datasets:  []\n",
      "annotations imgids:  []\n",
      "annotations bbox:  []\n",
      "\n",
      ">> ashtray...\n",
      ">>>> #WARNING ashtray is missing from json annotations\n",
      "annotations datasets:  []\n",
      "annotations imgids:  []\n",
      "annotations bbox:  []\n",
      "\n",
      ">> asparagus...\n",
      ">>>> #WARNING asparagus is missing from json annotations\n",
      "annotations datasets:  []\n",
      "annotations imgids:  []\n",
      "annotations bbox:  []\n",
      "\n",
      ">> atomizer...\n",
      "TAO\n"
     ]
    },
    {
     "name": "stderr",
     "output_type": "stream",
     "text": [
      "\n",
      ">>> Finding TAO atomizer...:   0%|                                                            | 0/24 [00:00<?, ?it/s]\u001b[A"
     ]
    },
    {
     "name": "stdout",
     "output_type": "stream",
     "text": [
      "[Errno 2] No such file or directory: 'D:/external_datasets/TAO/TAO_DIR/frames/val/HACS/Cleaning_windows_v_RsbAYZ_3ZGk_scene_0_0-3058/frame0991.jpg'\n"
     ]
    },
    {
     "name": "stderr",
     "output_type": "stream",
     "text": [
      "\n",
      "\n",
      ">>> Finding TAO atomizer...:   8%|████▎                                               | 2/24 [00:00<00:00, 42.55it/s]\u001b[A"
     ]
    },
    {
     "name": "stdout",
     "output_type": "stream",
     "text": [
      "[Errno 2] No such file or directory: 'D:/external_datasets/TAO/TAO_DIR/frames/val/HACS/Cleaning_windows_v_RsbAYZ_3ZGk_scene_0_0-3058/frame1111.jpg'\n"
     ]
    },
    {
     "name": "stderr",
     "output_type": "stream",
     "text": [
      "\n",
      "\n",
      ">>> Finding TAO atomizer...:  12%|██████▌                                             | 3/24 [00:00<00:00, 44.77it/s]\u001b[A"
     ]
    },
    {
     "name": "stdout",
     "output_type": "stream",
     "text": [
      "[Errno 2] No such file or directory: 'D:/external_datasets/TAO/TAO_DIR/frames/val/HACS/Cleaning_windows_v_RsbAYZ_3ZGk_scene_0_0-3058/frame1021.jpg'\n"
     ]
    },
    {
     "name": "stderr",
     "output_type": "stream",
     "text": [
      "\n",
      "  8%|██████▎                                                                      | 107/1310 [01:36<09:47,  2.05it/s]"
     ]
    },
    {
     "name": "stdout",
     "output_type": "stream",
     "text": [
      "\n",
      ">> avocado...\n",
      ">>>> #WARNING avocado is missing from json annotations\n",
      "annotations datasets:  []\n",
      "annotations imgids:  []\n",
      "annotations bbox:  []\n",
      "\n",
      ">> award...\n",
      ">>>> #WARNING award is missing from json annotations\n",
      "annotations datasets:  []\n",
      "annotations imgids:  []\n",
      "annotations bbox:  []\n",
      "\n",
      ">> awning...\n",
      ">>>> #WARNING awning is missing from json annotations\n",
      "annotations datasets:  []\n",
      "annotations imgids:  []\n",
      "annotations bbox:  []\n",
      "\n",
      ">> ax...\n",
      "TAO\n"
     ]
    },
    {
     "name": "stderr",
     "output_type": "stream",
     "text": [
      "\n",
      ">>> Finding TAO ax...:   0%|                                                                 | 0/174 [00:00<?, ?it/s]\u001b[A"
     ]
    },
    {
     "name": "stdout",
     "output_type": "stream",
     "text": [
      "[Errno 2] No such file or directory: 'D:/external_datasets/TAO/TAO_DIR/frames/train/AVA/XV_FF3WC7kA_scene_13_108619-109903/frame1076.jpg'\n"
     ]
    },
    {
     "name": "stderr",
     "output_type": "stream",
     "text": [
      "\n",
      "  8%|██████▌                                                                      | 111/1310 [01:38<10:20,  1.93it/s]\n",
      ">>> Finding TAO baby_buggy...:   0%|                                                          | 0/79 [00:00<?, ?it/s]\u001b[A\n"
     ]
    },
    {
     "name": "stdout",
     "output_type": "stream",
     "text": [
      "\n",
      ">> baby_buggy...\n",
      "TAO\n",
      "[Errno 2] No such file or directory: 'D:/external_datasets/TAO/TAO_DIR/frames/val/YFCC100M/v_db5b8c53e4af4b5fdca1177907c56a5/frame0241.jpeg'\n"
     ]
    },
    {
     "name": "stderr",
     "output_type": "stream",
     "text": [
      "\n",
      ">>> Finding TAO baby_buggy...:   3%|█▎                                                | 2/79 [00:00<00:02, 34.50it/s]\u001b[A\n",
      "\n",
      ">>> Finding TAO baby_buggy...:   0%|                                                          | 0/79 [00:00<?, ?it/s]\u001b[A"
     ]
    },
    {
     "name": "stdout",
     "output_type": "stream",
     "text": [
      "[Errno 2] No such file or directory: 'D:/external_datasets/TAO/TAO_DIR/frames/val/ArgoVerse/side_left_c04e5e7e-d782-3cd4-853e-fbbb0e93456c/ring_side_left_315973284028822216.jpg'\n",
      "[Errno 2] No such file or directory: 'D:/external_datasets/TAO/TAO_DIR/frames/val/YFCC100M/v_db5b8c53e4af4b5fdca1177907c56a5/frame0451.jpeg'\n"
     ]
    },
    {
     "name": "stderr",
     "output_type": "stream",
     "text": [
      ">>> Finding TAO baby_buggy...:   4%|█▉                                                | 3/79 [00:00<00:01, 50.81it/s]\n",
      "  9%|██████▌                                                                      | 112/1310 [01:40<17:46,  1.12it/s]"
     ]
    },
    {
     "name": "stdout",
     "output_type": "stream",
     "text": [
      "\n",
      ">> basketball_backboard...\n",
      ">>>> #WARNING basketball_backboard is missing from json annotations\n",
      "annotations datasets:  []\n",
      "annotations imgids:  []\n",
      "annotations bbox:  []\n",
      "\n",
      ">> backpack...\n",
      "TAO\n"
     ]
    },
    {
     "name": "stderr",
     "output_type": "stream",
     "text": [
      "  9%|██████▋                                                                      | 114/1310 [01:42<19:13,  1.04it/s]"
     ]
    },
    {
     "name": "stdout",
     "output_type": "stream",
     "text": [
      "\n",
      ">> handbag...\n",
      "TAO\n"
     ]
    },
    {
     "name": "stderr",
     "output_type": "stream",
     "text": [
      "\n",
      ">>> Finding TAO handbag...:   0%|                                                            | 0/546 [00:00<?, ?it/s]\u001b[A"
     ]
    },
    {
     "name": "stdout",
     "output_type": "stream",
     "text": [
      "[Errno 2] No such file or directory: 'D:/external_datasets/TAO/TAO_DIR/frames/train/AVA/YAAUPjq-L-Q_scene_1_83217-84762/frame1105.jpg'\n"
     ]
    },
    {
     "name": "stderr",
     "output_type": "stream",
     "text": [
      "\n",
      "  9%|██████▊                                                                      | 115/1310 [01:44<27:30,  1.38s/it]"
     ]
    },
    {
     "name": "stdout",
     "output_type": "stream",
     "text": [
      "\n",
      ">> suitcase...\n",
      "TAO\n"
     ]
    },
    {
     "name": "stderr",
     "output_type": "stream",
     "text": [
      "  9%|██████▊                                                                      | 116/1310 [01:47<32:21,  1.63s/it]"
     ]
    },
    {
     "name": "stdout",
     "output_type": "stream",
     "text": [
      "\n",
      ">> bagel...\n",
      ">>>> #WARNING bagel is missing from json annotations\n",
      "annotations datasets:  []\n",
      "annotations imgids:  []\n",
      "annotations bbox:  []\n",
      "\n",
      ">> bagpipe...\n",
      "TAO\n"
     ]
    },
    {
     "name": "stderr",
     "output_type": "stream",
     "text": [
      "  9%|██████▉                                                                      | 118/1310 [01:48<27:08,  1.37s/it]"
     ]
    },
    {
     "name": "stdout",
     "output_type": "stream",
     "text": [
      "\n",
      ">> baguet...\n",
      ">>>> #WARNING baguet is missing from json annotations\n",
      "annotations datasets:  []\n",
      "annotations imgids:  []\n",
      "annotations bbox:  []\n",
      "\n",
      ">> bait...\n",
      ">>>> #WARNING bait is missing from json annotations\n",
      "annotations datasets:  []\n",
      "annotations imgids:  []\n",
      "annotations bbox:  []\n",
      "\n",
      ">> ball...\n",
      "TAO\n"
     ]
    },
    {
     "name": "stderr",
     "output_type": "stream",
     "text": [
      "\n",
      ">>> Finding TAO ball...:   0%|                                                              | 0/1979 [00:00<?, ?it/s]\u001b[A"
     ]
    },
    {
     "name": "stdout",
     "output_type": "stream",
     "text": [
      "[Errno 2] No such file or directory: 'D:/external_datasets/TAO/TAO_DIR/frames/val/HACS/Ping-pong_v_qG9Kcm6KpSM/frame2221.jpg'\n"
     ]
    },
    {
     "name": "stderr",
     "output_type": "stream",
     "text": [
      "\n",
      "  9%|███████                                                                      | 121/1310 [01:50<23:00,  1.16s/it]"
     ]
    },
    {
     "name": "stdout",
     "output_type": "stream",
     "text": [
      "\n",
      ">> ballet_skirt...\n",
      ">>>> #WARNING ballet_skirt is missing from json annotations\n",
      "annotations datasets:  []\n",
      "annotations imgids:  []\n",
      "annotations bbox:  []\n",
      "\n",
      ">> balloon...\n",
      "TAO\n"
     ]
    },
    {
     "name": "stderr",
     "output_type": "stream",
     "text": [
      "  9%|███████▏                                                                     | 123/1310 [01:53<24:10,  1.22s/it]"
     ]
    },
    {
     "name": "stdout",
     "output_type": "stream",
     "text": [
      "\n",
      ">> bamboo...\n",
      ">>>> #WARNING bamboo is missing from json annotations\n",
      "annotations datasets:  []\n",
      "annotations imgids:  []\n",
      "annotations bbox:  []\n",
      "\n",
      ">> banana...\n",
      "TAO\n"
     ]
    },
    {
     "name": "stderr",
     "output_type": "stream",
     "text": [
      "\n",
      ">>> Finding TAO banana...:   7%|███▊                                                  | 3/43 [00:00<00:00, 46.15it/s]\u001b[A"
     ]
    },
    {
     "name": "stdout",
     "output_type": "stream",
     "text": [
      "[Errno 2] No such file or directory: 'D:/external_datasets/TAO/TAO_DIR/frames/val/YFCC100M/v_5168dc89995a4af63aae3b482eb7f73d/frame0061.jpeg'\n"
     ]
    },
    {
     "name": "stderr",
     "output_type": "stream",
     "text": [
      "\n",
      " 10%|███████▎                                                                     | 125/1310 [01:55<21:51,  1.11s/it]"
     ]
    },
    {
     "name": "stdout",
     "output_type": "stream",
     "text": [
      "\n",
      ">> Band_Aid...\n",
      ">>>> #WARNING Band_Aid is missing from json annotations\n",
      "annotations datasets:  []\n",
      "annotations imgids:  []\n",
      "annotations bbox:  []\n",
      "\n",
      ">> bandage...\n",
      ">>>> #WARNING bandage is missing from json annotations\n",
      "annotations datasets:  []\n",
      "annotations imgids:  []\n",
      "annotations bbox:  []\n",
      "\n",
      ">> bandanna...\n",
      ">>>> #WARNING bandanna is missing from json annotations\n",
      "annotations datasets:  []\n",
      "annotations imgids:  []\n",
      "annotations bbox:  []\n",
      "\n",
      ">> banjo...\n",
      ">>>> #WARNING banjo is missing from json annotations\n",
      "annotations datasets:  []\n",
      "annotations imgids:  []\n",
      "annotations bbox:  []\n",
      "\n",
      ">> banner...\n",
      ">>>> #WARNING banner is missing from json annotations\n",
      "annotations datasets:  []\n",
      "annotations imgids:  []\n",
      "annotations bbox:  []\n",
      "\n",
      ">> barbell...\n",
      "TAO\n"
     ]
    },
    {
     "name": "stderr",
     "output_type": "stream",
     "text": [
      "\n",
      ">>> Finding TAO barbell...:   0%|                                                             | 0/40 [00:00<?, ?it/s]\u001b[A"
     ]
    },
    {
     "name": "stdout",
     "output_type": "stream",
     "text": [
      "[Errno 2] No such file or directory: 'D:/external_datasets/TAO/TAO_DIR/frames/val/HACS/Clean_and_jerk_v_1kMhmqbCPt0_scene_0_0-1559/frame0991.jpg'\n"
     ]
    },
    {
     "name": "stderr",
     "output_type": "stream",
     "text": [
      "\n",
      "\n",
      ">>> Finding TAO barbell...:   2%|█▎                                                   | 1/40 [00:00<00:02, 16.66it/s]\u001b[A"
     ]
    },
    {
     "name": "stdout",
     "output_type": "stream",
     "text": [
      "[Errno 2] No such file or directory: 'D:/external_datasets/TAO/TAO_DIR/frames/val/HACS/Clean_and_jerk_v_1kMhmqbCPt0_scene_0_0-1559/frame1051.jpg'\n"
     ]
    },
    {
     "name": "stderr",
     "output_type": "stream",
     "text": [
      "\n",
      " 10%|███████▋                                                                     | 131/1310 [01:56<16:51,  1.17it/s]"
     ]
    },
    {
     "name": "stdout",
     "output_type": "stream",
     "text": [
      "\n",
      ">> barge...\n",
      ">>>> #WARNING barge is missing from json annotations\n",
      "annotations datasets:  []\n",
      "annotations imgids:  []\n",
      "annotations bbox:  []\n",
      "\n",
      ">> barrel...\n",
      ">>>> #WARNING barrel is missing from json annotations\n",
      "annotations datasets:  []\n",
      "annotations imgids:  []\n",
      "annotations bbox:  []\n",
      "\n",
      ">> barrette...\n",
      ">>>> #WARNING barrette is missing from json annotations\n",
      "annotations datasets:  []\n",
      "annotations imgids:  []\n",
      "annotations bbox:  []\n",
      "\n",
      ">> barrow...\n",
      ">>>> #WARNING barrow is missing from json annotations\n",
      "annotations datasets:  []\n",
      "annotations imgids:  []\n",
      "annotations bbox:  []\n",
      "\n",
      ">> baseball_base...\n",
      ">>>> #WARNING baseball_base is missing from json annotations\n",
      "annotations datasets:  []\n",
      "annotations imgids:  []\n",
      "annotations bbox:  []\n",
      "\n",
      ">> baseball...\n",
      ">>>> #WARNING baseball is missing from json annotations\n",
      "annotations datasets:  []\n",
      "annotations imgids:  []\n",
      "annotations bbox:  []\n",
      "\n",
      ">> baseball_bat...\n",
      "TAO\n"
     ]
    },
    {
     "name": "stderr",
     "output_type": "stream",
     "text": [
      "\n",
      ">>> Finding TAO baseball_bat...:   0%|                                                       | 0/102 [00:00<?, ?it/s]\u001b[A"
     ]
    },
    {
     "name": "stdout",
     "output_type": "stream",
     "text": [
      "[Errno 2] No such file or directory: 'D:/external_datasets/TAO/TAO_DIR/frames/train/HACS/Rock-paper-scissors_v_bLoWh2xbm6o_scene_0_14-2056/frame1021.jpg'\n"
     ]
    },
    {
     "name": "stderr",
     "output_type": "stream",
     "text": [
      "\n",
      " 11%|████████                                                                     | 138/1310 [01:58<13:09,  1.48it/s]"
     ]
    },
    {
     "name": "stdout",
     "output_type": "stream",
     "text": [
      "\n",
      ">> baseball_cap...\n",
      ">>>> #WARNING baseball_cap is missing from json annotations\n",
      "annotations datasets:  []\n",
      "annotations imgids:  []\n",
      "annotations bbox:  []\n",
      "\n",
      ">> baseball_glove...\n",
      "TAO\n"
     ]
    },
    {
     "name": "stderr",
     "output_type": "stream",
     "text": [
      " 11%|████████▏                                                                    | 140/1310 [01:59<12:01,  1.62it/s]\n",
      ">>> Finding TAO basket...: 100%|████████████████████████████████████████████████████| 25/25 [00:00<00:00, 489.73it/s]\u001b[A\n",
      "\n",
      ">>> Finding TAO basket...: 100%|████████████████████████████████████████████████████| 25/25 [00:00<00:00, 543.03it/s]\u001b[A\n",
      "\n",
      ">>> Finding TAO basket...: 100%|████████████████████████████████████████████████████| 25/25 [00:00<00:00, 543.42it/s]\u001b[A"
     ]
    },
    {
     "name": "stdout",
     "output_type": "stream",
     "text": [
      "\n",
      ">> basket...\n",
      "TAO\n",
      "[Errno 2] No such file or directory: 'D:/external_datasets/TAO/TAO_DIR/frames/val/YFCC100M/v_5168dc89995a4af63aae3b482eb7f73d/frame0391.jpeg'\n",
      ">>>> #WARNING: No file found for: TAO basket...\n",
      "[Errno 2] No such file or directory: 'D:/external_datasets/TAO/TAO_DIR/frames/val/YFCC100M/v_5168dc89995a4af63aae3b482eb7f73d/frame0451.jpeg'\n",
      ">>>> #WARNING: No file found for: TAO basket...\n",
      "[Errno 2] No such file or directory: 'D:/external_datasets/TAO/TAO_DIR/frames/val/ArgoVerse/side_left_043aeba7-14e5-3cde-8a5c-639389b6d3a6/ring_side_left_315967476025866496.jpg'\n"
     ]
    },
    {
     "name": "stderr",
     "output_type": "stream",
     "text": [
      "\n",
      "\n",
      ">>> Finding TAO basket...: 100%|████████████████████████████████████████████████████| 25/25 [00:00<00:00, 510.20it/s]\u001b[A\n",
      "\n",
      ">>> Finding TAO basket...: 100%|████████████████████████████████████████████████████| 25/25 [00:00<00:00, 531.37it/s]\u001b[A\n",
      "\n",
      ">>> Finding TAO basket...: 100%|████████████████████████████████████████████████████| 25/25 [00:00<00:00, 555.06it/s]\u001b[A\n",
      "\n",
      ">>> Finding TAO basket...:   0%|                                                              | 0/25 [00:00<?, ?it/s]\u001b[A"
     ]
    },
    {
     "name": "stdout",
     "output_type": "stream",
     "text": [
      ">>>> #WARNING: No file found for: TAO basket...\n",
      "[Errno 2] No such file or directory: 'D:/external_datasets/TAO/TAO_DIR/frames/val/YFCC100M/v_5168dc89995a4af63aae3b482eb7f73d/frame0121.jpeg'\n",
      ">>>> #WARNING: No file found for: TAO basket...\n",
      "[Errno 2] No such file or directory: 'D:/external_datasets/TAO/TAO_DIR/frames/val/YFCC100M/v_5168dc89995a4af63aae3b482eb7f73d/frame0571.jpeg'\n",
      ">>>> #WARNING: No file found for: TAO basket...\n",
      "[Errno 2] No such file or directory: 'D:/external_datasets/TAO/TAO_DIR/frames/val/ArgoVerse/side_left_043aeba7-14e5-3cde-8a5c-639389b6d3a6/ring_side_left_315967472029871248.jpg'\n",
      ">>>> #WARNING: No file found for: TAO basket...\n",
      "[Errno 2] No such file or directory: 'D:/external_datasets/TAO/TAO_DIR/frames/val/YFCC100M/v_5168dc89995a4af63aae3b482eb7f73d/frame0031.jpeg'\n"
     ]
    },
    {
     "name": "stderr",
     "output_type": "stream",
     "text": [
      ">>> Finding TAO basket...: 100%|████████████████████████████████████████████████████| 25/25 [00:00<00:00, 499.81it/s]\n",
      "\n",
      ">>> Finding TAO basket...: 100%|████████████████████████████████████████████████████| 25/25 [00:00<00:00, 462.97it/s]\u001b[A\n",
      "\n",
      ">>> Finding TAO basket...: 100%|████████████████████████████████████████████████████| 25/25 [00:00<00:00, 489.89it/s]\u001b[A\n",
      "\n",
      ">>> Finding TAO basket...: 100%|████████████████████████████████████████████████████| 25/25 [00:00<00:00, 555.53it/s]\u001b[A\n",
      " 11%|████████▎                                                                    | 141/1310 [01:59<11:48,  1.65it/s]"
     ]
    },
    {
     "name": "stdout",
     "output_type": "stream",
     "text": [
      ">>>> #WARNING: No file found for: TAO basket...\n",
      "[Errno 2] No such file or directory: 'D:/external_datasets/TAO/TAO_DIR/frames/val/ArgoVerse/side_left_043aeba7-14e5-3cde-8a5c-639389b6d3a6/ring_side_left_315967478023871928.jpg'\n",
      ">>>> #WARNING: No file found for: TAO basket...\n",
      "[Errno 2] No such file or directory: 'D:/external_datasets/TAO/TAO_DIR/frames/val/ArgoVerse/side_right_c6911883-1843-3727-8eaa-41dc8cda8993/ring_side_right_315978421017861912.jpg'\n",
      ">>>> #WARNING: No file found for: TAO basket...\n",
      "[Errno 2] No such file or directory: 'D:/external_datasets/TAO/TAO_DIR/frames/val/YFCC100M/v_5168dc89995a4af63aae3b482eb7f73d/frame0001.jpeg'\n",
      ">>>> #WARNING: No file found for: TAO basket...\n",
      "\n",
      ">> basketball_hoop...\n",
      "TAO\n"
     ]
    },
    {
     "name": "stderr",
     "output_type": "stream",
     "text": [
      "\n",
      ">>> Finding TAO basketball_hoop...:   0%|                                                     | 0/40 [00:00<?, ?it/s]\u001b[A"
     ]
    },
    {
     "name": "stdout",
     "output_type": "stream",
     "text": [
      "[Errno 2] No such file or directory: 'D:/external_datasets/TAO/TAO_DIR/frames/val/HACS/Layup_drill_in_basketball_v_IkEQFLf67eY_scene_0_891-2600/frame1051.jpg'\n"
     ]
    },
    {
     "name": "stderr",
     "output_type": "stream",
     "text": [
      "\n",
      " 11%|████████▎                                                                    | 142/1310 [02:01<18:18,  1.06it/s]"
     ]
    },
    {
     "name": "stdout",
     "output_type": "stream",
     "text": [
      "\n",
      ">> basketball...\n",
      "TAO\n"
     ]
    },
    {
     "name": "stderr",
     "output_type": "stream",
     "text": [
      " 11%|████████▍                                                                    | 143/1310 [02:03<22:06,  1.14s/it]\n",
      ">>> Finding TAO beaker...:   0%|                                                             | 0/202 [00:00<?, ?it/s]\u001b[A\n"
     ]
    },
    {
     "name": "stdout",
     "output_type": "stream",
     "text": [
      "\n",
      ">> bass_horn...\n",
      ">>>> #WARNING bass_horn is missing from json annotations\n",
      "annotations datasets:  []\n",
      "annotations imgids:  []\n",
      "annotations bbox:  []\n",
      "\n",
      ">> bat_(animal)...\n",
      ">>>> #WARNING bat_(animal) is missing from json annotations\n",
      "annotations datasets:  []\n",
      "annotations imgids:  []\n",
      "annotations bbox:  []\n",
      "\n",
      ">> bath_mat...\n",
      ">>>> #WARNING bath_mat is missing from json annotations\n",
      "annotations datasets:  []\n",
      "annotations imgids:  []\n",
      "annotations bbox:  []\n",
      "\n",
      ">> bath_towel...\n",
      ">>>> #WARNING bath_towel is missing from json annotations\n",
      "annotations datasets:  []\n",
      "annotations imgids:  []\n",
      "annotations bbox:  []\n",
      "\n",
      ">> bathrobe...\n",
      ">>>> #WARNING bathrobe is missing from json annotations\n",
      "annotations datasets:  []\n",
      "annotations imgids:  []\n",
      "annotations bbox:  []\n",
      "\n",
      ">> bathtub...\n",
      ">>>> #WARNING bathtub is missing from json annotations\n",
      "annotations datasets:  []\n",
      "annotations imgids:  []\n",
      "annotations bbox:  []\n",
      "\n",
      ">> batter_(food)...\n",
      ">>>> #WARNING batter_(food) is missing from json annotations\n",
      "annotations datasets:  []\n",
      "annotations imgids:  []\n",
      "annotations bbox:  []\n",
      "\n",
      ">> battery...\n",
      ">>>> #WARNING battery is missing from json annotations\n",
      "annotations datasets:  []\n",
      "annotations imgids:  []\n",
      "annotations bbox:  []\n",
      "\n",
      ">> beachball...\n",
      ">>>> #WARNING beachball is missing from json annotations\n",
      "annotations datasets:  []\n",
      "annotations imgids:  []\n",
      "annotations bbox:  []\n",
      "\n",
      ">> bead...\n",
      ">>>> #WARNING bead is missing from json annotations\n",
      "annotations datasets:  []\n",
      "annotations imgids:  []\n",
      "annotations bbox:  []\n",
      "\n",
      ">> beaker...\n",
      "TAO\n",
      "[Errno 2] No such file or directory: 'D:/external_datasets/TAO/TAO_DIR/frames/val/HACS/Using_the_balance_beam_v_YCF9Hz4pFQs/frame1471.jpg'\n"
     ]
    },
    {
     "name": "stderr",
     "output_type": "stream",
     "text": [
      "\n",
      ">>> Finding TAO beaker...:   0%|▎                                                    | 1/202 [00:00<00:12, 15.96it/s]\u001b[A"
     ]
    },
    {
     "name": "stdout",
     "output_type": "stream",
     "text": [
      "[Errno 2] No such file or directory: 'D:/external_datasets/TAO/TAO_DIR/frames/val/HACS/Using_the_balance_beam_v_YCF9Hz4pFQs/frame1381.jpg'\n",
      "[Errno 2] No such file or directory: 'D:/external_datasets/TAO/TAO_DIR/frames/val/HACS/Using_the_balance_beam_v_ZSvHNFf7Xmg/frame1621.jpg'\n"
     ]
    },
    {
     "name": "stderr",
     "output_type": "stream",
     "text": [
      "\n",
      "\n",
      ">>> Finding TAO beaker...:   1%|▌                                                    | 2/202 [00:00<00:05, 34.50it/s]\u001b[A\n",
      "\n",
      ">>> Finding TAO beaker...:   1%|▊                                                    | 3/202 [00:00<00:04, 45.43it/s]\u001b[A\n",
      "\n",
      ">>> Finding TAO beaker...:   0%|                                                             | 0/202 [00:00<?, ?it/s]\u001b[A"
     ]
    },
    {
     "name": "stdout",
     "output_type": "stream",
     "text": [
      "[Errno 2] No such file or directory: 'D:/external_datasets/TAO/TAO_DIR/frames/val/HACS/Using_the_balance_beam_v_ZSvHNFf7Xmg/frame1651.jpg'\n",
      "[Errno 2] No such file or directory: 'D:/external_datasets/TAO/TAO_DIR/frames/val/HACS/Using_the_balance_beam_v_ZSvHNFf7Xmg/frame1651.jpg'\n"
     ]
    },
    {
     "name": "stderr",
     "output_type": "stream",
     "text": [
      ">>> Finding TAO beaker...:   2%|█                                                    | 4/202 [00:00<00:03, 60.59it/s]\n",
      "\n",
      ">>> Finding TAO beaker...:   2%|█▎                                                   | 5/202 [00:00<00:06, 32.46it/s]\u001b[A"
     ]
    },
    {
     "name": "stdout",
     "output_type": "stream",
     "text": [
      "[Errno 2] No such file or directory: 'D:/external_datasets/TAO/TAO_DIR/frames/val/HACS/Using_the_balance_beam_v_ZSvHNFf7Xmg/frame2101.jpg'\n"
     ]
    },
    {
     "name": "stderr",
     "output_type": "stream",
     "text": [
      "\n",
      " 12%|█████████                                                                    | 154/1310 [02:05<16:21,  1.18it/s]"
     ]
    },
    {
     "name": "stdout",
     "output_type": "stream",
     "text": [
      "\n",
      ">> bean_curd...\n",
      ">>>> #WARNING bean_curd is missing from json annotations\n",
      "annotations datasets:  []\n",
      "annotations imgids:  []\n",
      "annotations bbox:  []\n",
      "\n",
      ">> beanbag...\n",
      ">>>> #WARNING beanbag is missing from json annotations\n",
      "annotations datasets:  []\n",
      "annotations imgids:  []\n",
      "annotations bbox:  []\n",
      "\n",
      ">> beanie...\n",
      "TAO\n"
     ]
    },
    {
     "name": "stderr",
     "output_type": "stream",
     "text": [
      " 12%|█████████▏                                                                   | 157/1310 [02:07<15:51,  1.21it/s]"
     ]
    },
    {
     "name": "stdout",
     "output_type": "stream",
     "text": [
      "\n",
      ">> bear...\n",
      "TAO\n"
     ]
    },
    {
     "name": "stderr",
     "output_type": "stream",
     "text": [
      " 12%|█████████▎                                                                   | 158/1310 [02:09<19:52,  1.04s/it]"
     ]
    },
    {
     "name": "stdout",
     "output_type": "stream",
     "text": [
      "\n",
      ">> bed...\n",
      "TAO\n"
     ]
    },
    {
     "name": "stderr",
     "output_type": "stream",
     "text": [
      "\n",
      ">>> Finding TAO bed...:   0%|                                                                 | 0/71 [00:00<?, ?it/s]\u001b[A"
     ]
    },
    {
     "name": "stdout",
     "output_type": "stream",
     "text": [
      "[Errno 2] No such file or directory: 'D:/external_datasets/TAO/TAO_DIR/frames/train/AVA/XOe9GeojzCs_scene_10_51401-53477/frame1501.jpg'\n"
     ]
    },
    {
     "name": "stderr",
     "output_type": "stream",
     "text": [
      "\n",
      "\n",
      ">>> Finding TAO bed...:   1%|▊                                                        | 1/71 [00:00<00:04, 15.36it/s]\u001b[A\n",
      " 12%|█████████▎                                                                   | 159/1310 [02:10<23:14,  1.21s/it]"
     ]
    },
    {
     "name": "stdout",
     "output_type": "stream",
     "text": [
      "[Errno 2] No such file or directory: 'D:/external_datasets/TAO/TAO_DIR/frames/train/AVA/XOe9GeojzCs_scene_10_51401-53477/frame1201.jpg'\n",
      "\n",
      ">> bedspread...\n",
      "TAO\n"
     ]
    },
    {
     "name": "stderr",
     "output_type": "stream",
     "text": [
      "\n",
      ">>> Finding TAO bedspread...:   0%|                                                          | 0/111 [00:00<?, ?it/s]\u001b[A\n",
      "\n",
      ">>> Finding TAO bedspread...:   0%|                                                          | 0/111 [00:00<?, ?it/s]\u001b[A"
     ]
    },
    {
     "name": "stdout",
     "output_type": "stream",
     "text": [
      "[Errno 2] No such file or directory: 'D:/external_datasets/TAO/TAO_DIR/frames/val/HACS/Using_the_monkey_bar_v_J2qrTRdu9ik/frame1651.jpg'\n",
      "[Errno 2] No such file or directory: 'D:/external_datasets/TAO/TAO_DIR/frames/val/HACS/Using_the_monkey_bar_v_J2qrTRdu9ik/frame1861.jpg'\n"
     ]
    },
    {
     "name": "stderr",
     "output_type": "stream",
     "text": [
      ">>> Finding TAO bedspread...:   1%|▍                                                 | 1/111 [00:00<00:06, 16.12it/s]\n",
      " 12%|█████████▍                                                                   | 160/1310 [02:12<25:39,  1.34s/it]"
     ]
    },
    {
     "name": "stdout",
     "output_type": "stream",
     "text": [
      "\n",
      ">> cow...\n",
      "TAO\n"
     ]
    },
    {
     "name": "stderr",
     "output_type": "stream",
     "text": [
      "\n",
      ">>> Finding TAO cow...:   0%|                                                                | 0/980 [00:00<?, ?it/s]\u001b[A"
     ]
    },
    {
     "name": "stdout",
     "output_type": "stream",
     "text": [
      "[Errno 2] No such file or directory: 'D:/external_datasets/TAO/TAO_DIR/frames/train/YFCC100M/v_ff68bbc26aec375b6ea0326ea74375c/frame1531.jpg'\n"
     ]
    },
    {
     "name": "stderr",
     "output_type": "stream",
     "text": [
      "\n",
      "\n",
      ">>> Finding TAO cow...:   0%|                                                        | 1/980 [00:00<00:10, 90.91it/s]\u001b[A\n",
      "\n",
      ">>> Finding TAO cow...:   0%|                                                        | 2/980 [00:00<00:28, 34.48it/s]\u001b[A"
     ]
    },
    {
     "name": "stdout",
     "output_type": "stream",
     "text": [
      "[Errno 2] No such file or directory: 'D:/external_datasets/TAO/TAO_DIR/frames/train/YFCC100M/v_ff68bbc26aec375b6ea0326ea74375c/frame1651.jpg'\n",
      "[Errno 2] No such file or directory: 'D:/external_datasets/TAO/TAO_DIR/frames/train/YFCC100M/v_ff68bbc26aec375b6ea0326ea74375c/frame1801.jpg'\n"
     ]
    },
    {
     "name": "stderr",
     "output_type": "stream",
     "text": [
      "\n",
      "\n",
      ">>> Finding TAO cow...:   0%|▏                                                      | 3/980 [00:00<00:03, 298.65it/s]\u001b[A"
     ]
    },
    {
     "name": "stdout",
     "output_type": "stream",
     "text": [
      "[Errno 2] No such file or directory: 'D:/external_datasets/TAO/TAO_DIR/frames/train/YFCC100M/v_ff68bbc26aec375b6ea0326ea74375c/frame1501.jpg'\n"
     ]
    },
    {
     "name": "stderr",
     "output_type": "stream",
     "text": [
      "\n",
      " 12%|█████████▍                                                                   | 161/1310 [02:13<26:40,  1.39s/it]"
     ]
    },
    {
     "name": "stdout",
     "output_type": "stream",
     "text": [
      "\n",
      ">> beef_(food)...\n",
      ">>>> #WARNING beef_(food) is missing from json annotations\n",
      "annotations datasets:  []\n",
      "annotations imgids:  []\n",
      "annotations bbox:  []\n",
      "\n",
      ">> beeper...\n",
      "TAO\n"
     ]
    },
    {
     "name": "stderr",
     "output_type": "stream",
     "text": [
      " 12%|█████████▌                                                                   | 163/1310 [02:14<22:00,  1.15s/it]\n",
      ">>> Finding TAO bell...: 100%|██████████████████████████████████████████████████████| 36/36 [00:00<00:00, 444.44it/s]\u001b[A\n",
      "\n",
      ">>> Finding TAO bell...: 100%|██████████████████████████████████████████████████████| 36/36 [00:00<00:00, 467.25it/s]\u001b[A"
     ]
    },
    {
     "name": "stdout",
     "output_type": "stream",
     "text": [
      "\n",
      ">> beer_bottle...\n",
      ">>>> #WARNING beer_bottle is missing from json annotations\n",
      "annotations datasets:  []\n",
      "annotations imgids:  []\n",
      "annotations bbox:  []\n",
      "\n",
      ">> beer_can...\n",
      ">>>> #WARNING beer_can is missing from json annotations\n",
      "annotations datasets:  []\n",
      "annotations imgids:  []\n",
      "annotations bbox:  []\n",
      "\n",
      ">> beetle...\n",
      ">>>> #WARNING beetle is missing from json annotations\n",
      "annotations datasets:  []\n",
      "annotations imgids:  []\n",
      "annotations bbox:  []\n",
      "\n",
      ">> bell...\n",
      "TAO\n",
      "[Errno 2] No such file or directory: 'D:/external_datasets/TAO/TAO_DIR/frames/val/YFCC100M/v_bcb0572637e5392c4cb919ad21a286/frame0631.jpeg'\n",
      ">>>> #WARNING: No file found for: TAO bell...\n",
      "[Errno 2] No such file or directory: 'D:/external_datasets/TAO/TAO_DIR/frames/val/YFCC100M/v_bcb0572637e5392c4cb919ad21a286/frame0091.jpeg'\n"
     ]
    },
    {
     "name": "stderr",
     "output_type": "stream",
     "text": [
      "\n",
      "\n",
      ">>> Finding TAO bell...: 100%|██████████████████████████████████████████████████████| 36/36 [00:00<00:00, 455.70it/s]\u001b[A\n",
      "\n",
      ">>> Finding TAO bell...: 100%|██████████████████████████████████████████████████████| 36/36 [00:00<00:00, 467.51it/s]\u001b[A\n",
      "\n",
      ">>> Finding TAO bell...:   0%|                                                                | 0/36 [00:00<?, ?it/s]\u001b[A"
     ]
    },
    {
     "name": "stdout",
     "output_type": "stream",
     "text": [
      ">>>> #WARNING: No file found for: TAO bell...\n",
      "[Errno 2] No such file or directory: 'D:/external_datasets/TAO/TAO_DIR/frames/val/YFCC100M/v_bcb0572637e5392c4cb919ad21a286/frame1141.jpeg'\n",
      ">>>> #WARNING: No file found for: TAO bell...\n",
      "[Errno 2] No such file or directory: 'D:/external_datasets/TAO/TAO_DIR/frames/val/YFCC100M/v_bcb0572637e5392c4cb919ad21a286/frame0961.jpeg'\n",
      ">>>> #WARNING: No file found for: TAO bell...\n",
      "[Errno 2] No such file or directory: 'D:/external_datasets/TAO/TAO_DIR/frames/val/YFCC100M/v_bcb0572637e5392c4cb919ad21a286/frame0571.jpeg'\n"
     ]
    },
    {
     "name": "stderr",
     "output_type": "stream",
     "text": [
      ">>> Finding TAO bell...: 100%|██████████████████████████████████████████████████████| 36/36 [00:00<00:00, 449.70it/s]\n",
      "\n",
      ">>> Finding TAO bell...: 100%|██████████████████████████████████████████████████████| 36/36 [00:00<00:00, 433.76it/s]\u001b[A\n",
      "\n",
      ">>> Finding TAO bell...: 100%|██████████████████████████████████████████████████████| 36/36 [00:00<00:00, 500.12it/s]\u001b[A\n",
      "\n",
      ">>> Finding TAO bell...:   0%|                                                                | 0/36 [00:00<?, ?it/s]\u001b[A"
     ]
    },
    {
     "name": "stdout",
     "output_type": "stream",
     "text": [
      ">>>> #WARNING: No file found for: TAO bell...\n",
      "[Errno 2] No such file or directory: 'D:/external_datasets/TAO/TAO_DIR/frames/val/YFCC100M/v_bcb0572637e5392c4cb919ad21a286/frame0931.jpeg'\n",
      ">>>> #WARNING: No file found for: TAO bell...\n",
      "[Errno 2] No such file or directory: 'D:/external_datasets/TAO/TAO_DIR/frames/val/YFCC100M/v_bcb0572637e5392c4cb919ad21a286/frame0241.jpeg'\n",
      ">>>> #WARNING: No file found for: TAO bell...\n",
      "[Errno 2] No such file or directory: 'D:/external_datasets/TAO/TAO_DIR/frames/val/YFCC100M/v_bcb0572637e5392c4cb919ad21a286/frame0871.jpeg'\n"
     ]
    },
    {
     "name": "stderr",
     "output_type": "stream",
     "text": [
      ">>> Finding TAO bell...: 100%|██████████████████████████████████████████████████████| 36/36 [00:00<00:00, 461.52it/s]\n",
      "\n",
      ">>> Finding TAO bell...: 100%|██████████████████████████████████████████████████████| 36/36 [00:00<00:00, 486.47it/s]\u001b[A\n",
      "\n",
      ">>> Finding TAO bell...: 100%|██████████████████████████████████████████████████████| 36/36 [00:00<00:00, 433.71it/s]\u001b[A\n",
      " 13%|█████████▊                                                                   | 167/1310 [02:15<16:36,  1.15it/s]"
     ]
    },
    {
     "name": "stdout",
     "output_type": "stream",
     "text": [
      ">>>> #WARNING: No file found for: TAO bell...\n",
      "[Errno 2] No such file or directory: 'D:/external_datasets/TAO/TAO_DIR/frames/val/YFCC100M/v_bcb0572637e5392c4cb919ad21a286/frame0361.jpeg'\n",
      ">>>> #WARNING: No file found for: TAO bell...\n",
      "[Errno 2] No such file or directory: 'D:/external_datasets/TAO/TAO_DIR/frames/val/YFCC100M/v_bcb0572637e5392c4cb919ad21a286/frame0181.jpeg'\n",
      ">>>> #WARNING: No file found for: TAO bell...\n",
      "\n",
      ">> bell_pepper...\n",
      ">>>> #WARNING bell_pepper is missing from json annotations\n",
      "annotations datasets:  []\n",
      "annotations imgids:  []\n",
      "annotations bbox:  []\n",
      "\n",
      ">> belt...\n",
      ">>>> #WARNING belt is missing from json annotations\n",
      "annotations datasets:  []\n",
      "annotations imgids:  []\n",
      "annotations bbox:  []\n",
      "\n",
      ">> belt_buckle...\n",
      ">>>> #WARNING belt_buckle is missing from json annotations\n",
      "annotations datasets:  []\n",
      "annotations imgids:  []\n",
      "annotations bbox:  []\n",
      "\n",
      ">> bench...\n",
      "TAO\n"
     ]
    },
    {
     "name": "stderr",
     "output_type": "stream",
     "text": [
      " 13%|██████████                                                                   | 171/1310 [02:17<13:47,  1.38it/s]"
     ]
    },
    {
     "name": "stdout",
     "output_type": "stream",
     "text": [
      "\n",
      ">> beret...\n",
      ">>>> #WARNING beret is missing from json annotations\n",
      "annotations datasets:  []\n",
      "annotations imgids:  []\n",
      "annotations bbox:  []\n",
      "\n",
      ">> bib...\n",
      ">>>> #WARNING bib is missing from json annotations\n",
      "annotations datasets:  []\n",
      "annotations imgids:  []\n",
      "annotations bbox:  []\n",
      "\n",
      ">> Bible...\n",
      ">>>> #WARNING Bible is missing from json annotations\n",
      "annotations datasets:  []\n",
      "annotations imgids:  []\n",
      "annotations bbox:  []\n",
      "\n",
      ">> bicycle...\n",
      "TAO\n"
     ]
    },
    {
     "name": "stderr",
     "output_type": "stream",
     "text": [
      "\n",
      ">>> Finding TAO bicycle...:   0%|                                                            | 0/921 [00:00<?, ?it/s]\u001b[A"
     ]
    },
    {
     "name": "stdout",
     "output_type": "stream",
     "text": [
      "[Errno 2] No such file or directory: 'D:/external_datasets/TAO/TAO_DIR/frames/val/HACS/Waterskiing_v_cOGSjHqWc5o_scene_0_0-1581/frame1051.jpg'\n"
     ]
    },
    {
     "name": "stderr",
     "output_type": "stream",
     "text": [
      "\n",
      " 13%|██████████▎                                                                  | 175/1310 [02:19<12:28,  1.52it/s]\n",
      ">>> Finding TAO binder...:   0%|                                                              | 0/67 [00:00<?, ?it/s]\u001b[A\n"
     ]
    },
    {
     "name": "stdout",
     "output_type": "stream",
     "text": [
      "\n",
      ">> visor...\n",
      ">>>> #WARNING visor is missing from json annotations\n",
      "annotations datasets:  []\n",
      "annotations imgids:  []\n",
      "annotations bbox:  []\n",
      "\n",
      ">> binder...\n",
      "TAO\n",
      "[Errno 2] No such file or directory: 'D:/external_datasets/TAO/TAO_DIR/frames/val/HACS/Discus_throw_v_uf1qMhzjHAc/frame3361.jpg'\n"
     ]
    },
    {
     "name": "stderr",
     "output_type": "stream",
     "text": [
      "\n",
      ">>> Finding TAO binder...:   1%|▊                                                     | 1/67 [00:00<00:04, 13.51it/s]\u001b[A"
     ]
    },
    {
     "name": "stdout",
     "output_type": "stream",
     "text": [
      "[Errno 2] No such file or directory: 'D:/external_datasets/TAO/TAO_DIR/frames/val/HACS/Discus_throw_v_uf1qMhzjHAc/frame3391.jpg'\n"
     ]
    },
    {
     "name": "stderr",
     "output_type": "stream",
     "text": [
      "\n",
      " 14%|██████████▍                                                                  | 177/1310 [02:21<15:20,  1.23it/s]"
     ]
    },
    {
     "name": "stdout",
     "output_type": "stream",
     "text": [
      "\n",
      ">> binoculars...\n",
      "TAO\n"
     ]
    },
    {
     "name": "stderr",
     "output_type": "stream",
     "text": [
      " 14%|██████████▍                                                                  | 178/1310 [02:22<12:22,  1.52it/s]"
     ]
    },
    {
     "name": "stdout",
     "output_type": "stream",
     "text": [
      "\n",
      ">> bird...\n",
      "TAO\n"
     ]
    },
    {
     "name": "stderr",
     "output_type": "stream",
     "text": [
      "\n",
      ">>> Finding TAO bird...:   0%|                                                               | 0/672 [00:00<?, ?it/s]\u001b[A"
     ]
    },
    {
     "name": "stdout",
     "output_type": "stream",
     "text": [
      "[Errno 2] No such file or directory: 'D:/external_datasets/TAO/TAO_DIR/frames/val/YFCC100M/v_5184aeb820dfcb8aa8f4c56c79107373/frame0601.jpeg'\n"
     ]
    },
    {
     "name": "stderr",
     "output_type": "stream",
     "text": [
      "\n",
      "\n",
      ">>> Finding TAO bird...:   0%|                                                       | 1/672 [00:00<00:47, 14.28it/s]\u001b[A"
     ]
    },
    {
     "name": "stdout",
     "output_type": "stream",
     "text": [
      "[Errno 2] No such file or directory: 'D:/external_datasets/TAO/TAO_DIR/frames/val/YFCC100M/v_c4254cd81215eab0ab8f1722fce00f/frame1051.jpeg'\n"
     ]
    },
    {
     "name": "stderr",
     "output_type": "stream",
     "text": [
      "\n",
      "\n",
      ">>> Finding TAO bird...:   0%|▏                                                      | 2/672 [00:00<00:26, 24.99it/s]\u001b[A\n",
      " 14%|██████████▌                                                                  | 179/1310 [02:23<19:32,  1.04s/it]"
     ]
    },
    {
     "name": "stdout",
     "output_type": "stream",
     "text": [
      "[Errno 2] No such file or directory: 'D:/external_datasets/TAO/TAO_DIR/frames/val/YFCC100M/v_5184aeb820dfcb8aa8f4c56c79107373/frame0476.jpeg'\n"
     ]
    },
    {
     "name": "stderr",
     "output_type": "stream",
     "text": [
      "\n",
      ">>> Finding TAO birdfeeder...: 100%|████████████████████████████████████████████████| 40/40 [00:00<00:00, 425.48it/s]\u001b[A\n",
      "\n",
      ">>> Finding TAO birdfeeder...: 100%|████████████████████████████████████████████████| 40/40 [00:00<00:00, 449.21it/s]\u001b[A"
     ]
    },
    {
     "name": "stdout",
     "output_type": "stream",
     "text": [
      "\n",
      ">> birdfeeder...\n",
      "TAO\n",
      "[Errno 2] No such file or directory: 'D:/external_datasets/TAO/TAO_DIR/frames/val/YFCC100M/v_c4254cd81215eab0ab8f1722fce00f/frame2221.jpeg'\n",
      ">>>> #WARNING: No file found for: TAO birdfeeder...\n",
      "[Errno 2] No such file or directory: 'D:/external_datasets/TAO/TAO_DIR/frames/val/YFCC100M/v_c4254cd81215eab0ab8f1722fce00f/frame1951.jpeg'\n"
     ]
    },
    {
     "name": "stderr",
     "output_type": "stream",
     "text": [
      "\n",
      "\n",
      ">>> Finding TAO birdfeeder...: 100%|████████████████████████████████████████████████| 40/40 [00:00<00:00, 430.09it/s]\u001b[A\n",
      "\n",
      ">>> Finding TAO birdfeeder...:   0%|                                                          | 0/40 [00:00<?, ?it/s]\u001b[A"
     ]
    },
    {
     "name": "stdout",
     "output_type": "stream",
     "text": [
      ">>>> #WARNING: No file found for: TAO birdfeeder...\n",
      "[Errno 2] No such file or directory: 'D:/external_datasets/TAO/TAO_DIR/frames/val/YFCC100M/v_c4254cd81215eab0ab8f1722fce00f/frame1381.jpeg'\n",
      ">>>> #WARNING: No file found for: TAO birdfeeder...\n",
      "[Errno 2] No such file or directory: 'D:/external_datasets/TAO/TAO_DIR/frames/val/YFCC100M/v_c4254cd81215eab0ab8f1722fce00f/frame1261.jpeg'\n"
     ]
    },
    {
     "name": "stderr",
     "output_type": "stream",
     "text": [
      ">>> Finding TAO birdfeeder...: 100%|████████████████████████████████████████████████| 40/40 [00:00<00:00, 412.37it/s]\n",
      "\n",
      ">>> Finding TAO birdfeeder...: 100%|████████████████████████████████████████████████| 40/40 [00:00<00:00, 459.74it/s]\u001b[A\n",
      "\n",
      ">>> Finding TAO birdfeeder...: 100%|████████████████████████████████████████████████| 40/40 [00:00<00:00, 459.75it/s]\u001b[A"
     ]
    },
    {
     "name": "stdout",
     "output_type": "stream",
     "text": [
      ">>>> #WARNING: No file found for: TAO birdfeeder...\n",
      "[Errno 2] No such file or directory: 'D:/external_datasets/TAO/TAO_DIR/frames/val/YFCC100M/v_c4254cd81215eab0ab8f1722fce00f/frame1981.jpeg'\n",
      ">>>> #WARNING: No file found for: TAO birdfeeder...\n",
      "[Errno 2] No such file or directory: 'D:/external_datasets/TAO/TAO_DIR/frames/val/YFCC100M/v_c4254cd81215eab0ab8f1722fce00f/frame1171.jpeg'\n"
     ]
    },
    {
     "name": "stderr",
     "output_type": "stream",
     "text": [
      "\n",
      "\n",
      ">>> Finding TAO birdfeeder...: 100%|████████████████████████████████████████████████| 40/40 [00:00<00:00, 470.57it/s]\u001b[A\n",
      "\n",
      ">>> Finding TAO birdfeeder...: 100%|████████████████████████████████████████████████| 40/40 [00:00<00:00, 476.04it/s]\u001b[A"
     ]
    },
    {
     "name": "stdout",
     "output_type": "stream",
     "text": [
      ">>>> #WARNING: No file found for: TAO birdfeeder...\n",
      "[Errno 2] No such file or directory: 'D:/external_datasets/TAO/TAO_DIR/frames/val/YFCC100M/v_c4254cd81215eab0ab8f1722fce00f/frame1681.jpeg'\n",
      ">>>> #WARNING: No file found for: TAO birdfeeder...\n",
      "[Errno 2] No such file or directory: 'D:/external_datasets/TAO/TAO_DIR/frames/val/YFCC100M/v_c4254cd81215eab0ab8f1722fce00f/frame1741.jpeg'\n"
     ]
    },
    {
     "name": "stderr",
     "output_type": "stream",
     "text": [
      "\n",
      "\n",
      ">>> Finding TAO birdfeeder...: 100%|████████████████████████████████████████████████| 40/40 [00:00<00:00, 429.89it/s]\u001b[A\n",
      "\n",
      ">>> Finding TAO birdfeeder...: 100%|████████████████████████████████████████████████| 40/40 [00:00<00:00, 476.30it/s]\u001b[A"
     ]
    },
    {
     "name": "stdout",
     "output_type": "stream",
     "text": [
      ">>>> #WARNING: No file found for: TAO birdfeeder...\n",
      "[Errno 2] No such file or directory: 'D:/external_datasets/TAO/TAO_DIR/frames/val/YFCC100M/v_c4254cd81215eab0ab8f1722fce00f/frame1441.jpeg'\n",
      ">>>> #WARNING: No file found for: TAO birdfeeder...\n",
      "[Errno 2] No such file or directory: 'D:/external_datasets/TAO/TAO_DIR/frames/val/YFCC100M/v_c4254cd81215eab0ab8f1722fce00f/frame1351.jpeg'\n"
     ]
    },
    {
     "name": "stderr",
     "output_type": "stream",
     "text": [
      "\n",
      " 14%|██████████▌                                                                  | 180/1310 [02:24<19:10,  1.02s/it]"
     ]
    },
    {
     "name": "stdout",
     "output_type": "stream",
     "text": [
      ">>>> #WARNING: No file found for: TAO birdfeeder...\n",
      "\n",
      ">> birdbath...\n",
      ">>>> #WARNING birdbath is missing from json annotations\n",
      "annotations datasets:  []\n",
      "annotations imgids:  []\n",
      "annotations bbox:  []\n",
      "\n",
      ">> birdcage...\n",
      "TAO\n"
     ]
    },
    {
     "name": "stderr",
     "output_type": "stream",
     "text": [
      "\n",
      ">>> Finding TAO birdcage...:   0%|                                                            | 0/38 [00:00<?, ?it/s]\u001b[A"
     ]
    },
    {
     "name": "stdout",
     "output_type": "stream",
     "text": [
      "[Errno 2] No such file or directory: 'D:/external_datasets/TAO/TAO_DIR/frames/val/AVA/P60OxWahxBQ_scene_2_41000-42115/frame1021.jpg'\n"
     ]
    },
    {
     "name": "stderr",
     "output_type": "stream",
     "text": [
      "\n",
      "\n",
      ">>> Finding TAO birdcage...:   3%|█▎                                                  | 1/38 [00:00<00:02, 13.51it/s]\u001b[A"
     ]
    },
    {
     "name": "stdout",
     "output_type": "stream",
     "text": [
      "[Errno 2] No such file or directory: 'D:/external_datasets/TAO/TAO_DIR/frames/val/AVA/P60OxWahxBQ_scene_2_41000-42115/frame0991.jpg'\n"
     ]
    },
    {
     "name": "stderr",
     "output_type": "stream",
     "text": [
      "\n",
      " 14%|██████████▋                                                                  | 182/1310 [02:27<20:59,  1.12s/it]\n",
      ">>> Finding TAO birdhouse...: 100%|█████████████████████████████████████████████████| 40/40 [00:00<00:00, 425.51it/s]\u001b[A\n",
      "\n",
      ">>> Finding TAO birdhouse...:   0%|                                                           | 0/40 [00:00<?, ?it/s]\u001b[A"
     ]
    },
    {
     "name": "stdout",
     "output_type": "stream",
     "text": [
      "\n",
      ">> birdhouse...\n",
      "TAO\n",
      "[Errno 2] No such file or directory: 'D:/external_datasets/TAO/TAO_DIR/frames/val/YFCC100M/v_5184aeb820dfcb8aa8f4c56c79107373/frame0851.jpeg'\n",
      ">>>> #WARNING: No file found for: TAO birdhouse...\n",
      "[Errno 2] No such file or directory: 'D:/external_datasets/TAO/TAO_DIR/frames/val/YFCC100M/v_5184aeb820dfcb8aa8f4c56c79107373/frame0626.jpeg'\n"
     ]
    },
    {
     "name": "stderr",
     "output_type": "stream",
     "text": [
      ">>> Finding TAO birdhouse...: 100%|█████████████████████████████████████████████████| 40/40 [00:00<00:00, 425.50it/s]\n",
      "\n",
      ">>> Finding TAO birdhouse...: 100%|█████████████████████████████████████████████████| 40/40 [00:00<00:00, 444.42it/s]\u001b[A\n",
      "\n",
      ">>> Finding TAO birdhouse...: 100%|█████████████████████████████████████████████████| 40/40 [00:00<00:00, 444.42it/s]\u001b[A"
     ]
    },
    {
     "name": "stdout",
     "output_type": "stream",
     "text": [
      ">>>> #WARNING: No file found for: TAO birdhouse...\n",
      "[Errno 2] No such file or directory: 'D:/external_datasets/TAO/TAO_DIR/frames/val/YFCC100M/v_5184aeb820dfcb8aa8f4c56c79107373/frame0601.jpeg'\n",
      ">>>> #WARNING: No file found for: TAO birdhouse...\n",
      "[Errno 2] No such file or directory: 'D:/external_datasets/TAO/TAO_DIR/frames/val/YFCC100M/v_5184aeb820dfcb8aa8f4c56c79107373/frame0551.jpeg'\n"
     ]
    },
    {
     "name": "stderr",
     "output_type": "stream",
     "text": [
      "\n",
      "\n",
      ">>> Finding TAO birdhouse...: 100%|█████████████████████████████████████████████████| 40/40 [00:00<00:00, 459.74it/s]\u001b[A\n",
      "\n",
      ">>> Finding TAO birdhouse...: 100%|█████████████████████████████████████████████████| 40/40 [00:00<00:00, 449.39it/s]\u001b[A"
     ]
    },
    {
     "name": "stdout",
     "output_type": "stream",
     "text": [
      ">>>> #WARNING: No file found for: TAO birdhouse...\n",
      "[Errno 2] No such file or directory: 'D:/external_datasets/TAO/TAO_DIR/frames/val/YFCC100M/v_5184aeb820dfcb8aa8f4c56c79107373/frame0426.jpeg'\n",
      ">>>> #WARNING: No file found for: TAO birdhouse...\n",
      "[Errno 2] No such file or directory: 'D:/external_datasets/TAO/TAO_DIR/frames/val/YFCC100M/v_5184aeb820dfcb8aa8f4c56c79107373/frame0501.jpeg'\n"
     ]
    },
    {
     "name": "stderr",
     "output_type": "stream",
     "text": [
      "\n",
      "\n",
      ">>> Finding TAO birdhouse...: 100%|█████████████████████████████████████████████████| 40/40 [00:00<00:00, 449.40it/s]\u001b[A\n",
      "\n",
      ">>> Finding TAO birdhouse...: 100%|█████████████████████████████████████████████████| 40/40 [00:00<00:00, 444.16it/s]\u001b[A"
     ]
    },
    {
     "name": "stdout",
     "output_type": "stream",
     "text": [
      ">>>> #WARNING: No file found for: TAO birdhouse...\n",
      "[Errno 2] No such file or directory: 'D:/external_datasets/TAO/TAO_DIR/frames/val/YFCC100M/v_5184aeb820dfcb8aa8f4c56c79107373/frame1101.jpeg'\n",
      ">>>> #WARNING: No file found for: TAO birdhouse...\n",
      "[Errno 2] No such file or directory: 'D:/external_datasets/TAO/TAO_DIR/frames/val/YFCC100M/v_5184aeb820dfcb8aa8f4c56c79107373/frame0676.jpeg'\n"
     ]
    },
    {
     "name": "stderr",
     "output_type": "stream",
     "text": [
      "\n",
      "\n",
      ">>> Finding TAO birdhouse...: 100%|█████████████████████████████████████████████████| 40/40 [00:00<00:00, 459.71it/s]\u001b[A\n",
      "\n",
      ">>> Finding TAO birdhouse...: 100%|█████████████████████████████████████████████████| 40/40 [00:00<00:00, 449.42it/s]\u001b[A"
     ]
    },
    {
     "name": "stdout",
     "output_type": "stream",
     "text": [
      ">>>> #WARNING: No file found for: TAO birdhouse...\n",
      "[Errno 2] No such file or directory: 'D:/external_datasets/TAO/TAO_DIR/frames/val/YFCC100M/v_5184aeb820dfcb8aa8f4c56c79107373/frame0276.jpeg'\n",
      ">>>> #WARNING: No file found for: TAO birdhouse...\n",
      "[Errno 2] No such file or directory: 'D:/external_datasets/TAO/TAO_DIR/frames/val/YFCC100M/v_5184aeb820dfcb8aa8f4c56c79107373/frame0451.jpeg'\n"
     ]
    },
    {
     "name": "stderr",
     "output_type": "stream",
     "text": [
      "\n",
      " 14%|██████████▊                                                                  | 183/1310 [02:28<20:14,  1.08s/it]\n",
      ">>> Finding TAO biscuit_(bread)...:   0%|                                                     | 0/33 [00:00<?, ?it/s]\u001b[A\n",
      ">>> Finding TAO biscuit_(bread)...: 100%|███████████████████████████████████████████| 33/33 [00:00<00:00, 279.65it/s]\u001b[A\n",
      "\n",
      ">>> Finding TAO biscuit_(bread)...:   0%|                                                     | 0/33 [00:00<?, ?it/s]\u001b[A"
     ]
    },
    {
     "name": "stdout",
     "output_type": "stream",
     "text": [
      ">>>> #WARNING: No file found for: TAO birdhouse...\n",
      "\n",
      ">> birthday_cake...\n",
      ">>>> #WARNING birthday_cake is missing from json annotations\n",
      "annotations datasets:  []\n",
      "annotations imgids:  []\n",
      "annotations bbox:  []\n",
      "\n",
      ">> birthday_card...\n",
      ">>>> #WARNING birthday_card is missing from json annotations\n",
      "annotations datasets:  []\n",
      "annotations imgids:  []\n",
      "annotations bbox:  []\n",
      "\n",
      ">> biscuit_(bread)...\n",
      "TAO\n",
      "[Errno 2] No such file or directory: 'D:/external_datasets/TAO/TAO_DIR/frames/val/YFCC100M/v_398d7a88e5c328d95d85ed7068f999ac/frame1051.jpeg'\n",
      ">>>> #WARNING: No file found for: TAO biscuit_(bread)...\n",
      "[Errno 2] No such file or directory: 'D:/external_datasets/TAO/TAO_DIR/frames/val/YFCC100M/v_398d7a88e5c328d95d85ed7068f999ac/frame0631.jpeg'\n"
     ]
    },
    {
     "name": "stderr",
     "output_type": "stream",
     "text": [
      ">>> Finding TAO biscuit_(bread)...: 100%|███████████████████████████████████████████| 33/33 [00:00<00:00, 417.77it/s]\n",
      "\n",
      ">>> Finding TAO biscuit_(bread)...: 100%|███████████████████████████████████████████| 33/33 [00:00<00:00, 374.98it/s]\u001b[A\n",
      "\n",
      ">>> Finding TAO biscuit_(bread)...: 100%|███████████████████████████████████████████| 33/33 [00:00<00:00, 412.47it/s]\u001b[A\n"
     ]
    },
    {
     "name": "stdout",
     "output_type": "stream",
     "text": [
      ">>>> #WARNING: No file found for: TAO biscuit_(bread)...\n",
      "[Errno 2] No such file or directory: 'D:/external_datasets/TAO/TAO_DIR/frames/val/YFCC100M/v_398d7a88e5c328d95d85ed7068f999ac/frame0271.jpeg'\n",
      ">>>> #WARNING: No file found for: TAO biscuit_(bread)...\n",
      "[Errno 2] No such file or directory: 'D:/external_datasets/TAO/TAO_DIR/frames/val/YFCC100M/v_398d7a88e5c328d95d85ed7068f999ac/frame0301.jpeg'\n",
      ">>>> #WARNING: No file found for: TAO biscuit_(bread)...\n"
     ]
    },
    {
     "name": "stderr",
     "output_type": "stream",
     "text": [
      "\n",
      ">>> Finding TAO biscuit_(bread)...: 100%|███████████████████████████████████████████| 33/33 [00:00<00:00, 434.17it/s]\u001b[A\n",
      "\n",
      ">>> Finding TAO biscuit_(bread)...: 100%|███████████████████████████████████████████| 33/33 [00:00<00:00, 507.66it/s]\u001b[A\n",
      "\n",
      ">>> Finding TAO biscuit_(bread)...:   0%|                                                     | 0/33 [00:00<?, ?it/s]\u001b[A"
     ]
    },
    {
     "name": "stdout",
     "output_type": "stream",
     "text": [
      "[Errno 2] No such file or directory: 'D:/external_datasets/TAO/TAO_DIR/frames/val/YFCC100M/v_d389d21ddef286b3febd14de1db31615/frame0481.jpeg'\n",
      ">>>> #WARNING: No file found for: TAO biscuit_(bread)...\n",
      "[Errno 2] No such file or directory: 'D:/external_datasets/TAO/TAO_DIR/frames/val/YFCC100M/v_d389d21ddef286b3febd14de1db31615/frame0421.jpeg'\n",
      ">>>> #WARNING: No file found for: TAO biscuit_(bread)...\n",
      "[Errno 2] No such file or directory: 'D:/external_datasets/TAO/TAO_DIR/frames/val/YFCC100M/v_398d7a88e5c328d95d85ed7068f999ac/frame0511.jpeg'\n"
     ]
    },
    {
     "name": "stderr",
     "output_type": "stream",
     "text": [
      ">>> Finding TAO biscuit_(bread)...: 100%|███████████████████████████████████████████| 33/33 [00:00<00:00, 499.94it/s]\n",
      "\n",
      ">>> Finding TAO biscuit_(bread)...: 100%|███████████████████████████████████████████| 33/33 [00:00<00:00, 397.66it/s]\u001b[A\n",
      "\n",
      ">>> Finding TAO biscuit_(bread)...: 100%|███████████████████████████████████████████| 33/33 [00:00<00:00, 452.03it/s]\u001b[A\n",
      "\n",
      ">>> Finding TAO biscuit_(bread)...:   0%|                                                     | 0/33 [00:00<?, ?it/s]\u001b[A"
     ]
    },
    {
     "name": "stdout",
     "output_type": "stream",
     "text": [
      ">>>> #WARNING: No file found for: TAO biscuit_(bread)...\n",
      "[Errno 2] No such file or directory: 'D:/external_datasets/TAO/TAO_DIR/frames/val/YFCC100M/v_398d7a88e5c328d95d85ed7068f999ac/frame1021.jpeg'\n",
      ">>>> #WARNING: No file found for: TAO biscuit_(bread)...\n",
      "[Errno 2] No such file or directory: 'D:/external_datasets/TAO/TAO_DIR/frames/val/YFCC100M/v_d389d21ddef286b3febd14de1db31615/frame0421.jpeg'\n",
      ">>>> #WARNING: No file found for: TAO biscuit_(bread)...\n",
      "[Errno 2] No such file or directory: 'D:/external_datasets/TAO/TAO_DIR/frames/val/YFCC100M/v_398d7a88e5c328d95d85ed7068f999ac/frame0691.jpeg'\n"
     ]
    },
    {
     "name": "stderr",
     "output_type": "stream",
     "text": [
      ">>> Finding TAO biscuit_(bread)...: 100%|███████████████████████████████████████████| 33/33 [00:00<00:00, 439.96it/s]\n",
      " 14%|██████████▉                                                                  | 186/1310 [02:29<15:50,  1.18it/s]"
     ]
    },
    {
     "name": "stdout",
     "output_type": "stream",
     "text": [
      ">>>> #WARNING: No file found for: TAO biscuit_(bread)...\n",
      "\n",
      ">> pirate_flag...\n",
      ">>>> #WARNING pirate_flag is missing from json annotations\n",
      "annotations datasets:  []\n",
      "annotations imgids:  []\n",
      "annotations bbox:  []\n",
      "\n",
      ">> black_sheep...\n",
      "TAO\n"
     ]
    },
    {
     "name": "stderr",
     "output_type": "stream",
     "text": [
      " 14%|███████████                                                                  | 188/1310 [02:31<15:37,  1.20it/s]"
     ]
    },
    {
     "name": "stdout",
     "output_type": "stream",
     "text": [
      "\n",
      ">> blackboard...\n",
      ">>>> #WARNING blackboard is missing from json annotations\n",
      "annotations datasets:  []\n",
      "annotations imgids:  []\n",
      "annotations bbox:  []\n",
      "\n",
      ">> blanket...\n",
      "TAO\n"
     ]
    },
    {
     "name": "stderr",
     "output_type": "stream",
     "text": [
      " 15%|███████████▏                                                                 | 190/1310 [02:33<16:15,  1.15it/s]"
     ]
    },
    {
     "name": "stdout",
     "output_type": "stream",
     "text": [
      "\n",
      ">> blazer...\n",
      ">>>> #WARNING blazer is missing from json annotations\n",
      "annotations datasets:  []\n",
      "annotations imgids:  []\n",
      "annotations bbox:  []\n",
      "\n",
      ">> blender...\n",
      ">>>> #WARNING blender is missing from json annotations\n",
      "annotations datasets:  []\n",
      "annotations imgids:  []\n",
      "annotations bbox:  []\n",
      "\n",
      ">> blimp...\n",
      ">>>> #WARNING blimp is missing from json annotations\n",
      "annotations datasets:  []\n",
      "annotations imgids:  []\n",
      "annotations bbox:  []\n",
      "\n",
      ">> blinker...\n",
      ">>>> #WARNING blinker is missing from json annotations\n",
      "annotations datasets:  []\n",
      "annotations imgids:  []\n",
      "annotations bbox:  []\n",
      "\n",
      ">> blueberry...\n",
      ">>>> #WARNING blueberry is missing from json annotations\n",
      "annotations datasets:  []\n",
      "annotations imgids:  []\n",
      "annotations bbox:  []\n",
      "\n",
      ">> boar...\n",
      ">>>> #WARNING boar is missing from json annotations\n",
      "annotations datasets:  []\n",
      "annotations imgids:  []\n",
      "annotations bbox:  []\n",
      "\n",
      ">> gameboard...\n",
      ">>>> #WARNING gameboard is missing from json annotations\n",
      "annotations datasets:  []\n",
      "annotations imgids:  []\n",
      "annotations bbox:  []\n",
      "\n",
      ">> boat...\n",
      "TAO\n"
     ]
    },
    {
     "name": "stderr",
     "output_type": "stream",
     "text": [
      " 15%|███████████▋                                                                 | 198/1310 [02:34<12:33,  1.48it/s]"
     ]
    },
    {
     "name": "stdout",
     "output_type": "stream",
     "text": [
      "\n",
      ">> bobbin...\n",
      ">>>> #WARNING bobbin is missing from json annotations\n",
      "annotations datasets:  []\n",
      "annotations imgids:  []\n",
      "annotations bbox:  []\n",
      "\n",
      ">> bobby_pin...\n",
      ">>>> #WARNING bobby_pin is missing from json annotations\n",
      "annotations datasets:  []\n",
      "annotations imgids:  []\n",
      "annotations bbox:  []\n",
      "\n",
      ">> boiled_egg...\n",
      ">>>> #WARNING boiled_egg is missing from json annotations\n",
      "annotations datasets:  []\n",
      "annotations imgids:  []\n",
      "annotations bbox:  []\n",
      "\n",
      ">> bolo_tie...\n",
      ">>>> #WARNING bolo_tie is missing from json annotations\n",
      "annotations datasets:  []\n",
      "annotations imgids:  []\n",
      "annotations bbox:  []\n",
      "\n",
      ">> deadbolt...\n",
      ">>>> #WARNING deadbolt is missing from json annotations\n",
      "annotations datasets:  []\n",
      "annotations imgids:  []\n",
      "annotations bbox:  []\n",
      "\n",
      ">> bolt...\n",
      ">>>> #WARNING bolt is missing from json annotations\n",
      "annotations datasets:  []\n",
      "annotations imgids:  []\n",
      "annotations bbox:  []\n",
      "\n",
      ">> bonnet...\n",
      ">>>> #WARNING bonnet is missing from json annotations\n",
      "annotations datasets:  []\n",
      "annotations imgids:  []\n",
      "annotations bbox:  []\n",
      "\n",
      ">> book...\n",
      "TAO\n"
     ]
    },
    {
     "name": "stderr",
     "output_type": "stream",
     "text": [
      " 16%|████████████                                                                 | 206/1310 [02:36<10:05,  1.82it/s]"
     ]
    },
    {
     "name": "stdout",
     "output_type": "stream",
     "text": [
      "\n",
      ">> book_bag...\n",
      ">>>> #WARNING book_bag is missing from json annotations\n",
      "annotations datasets:  []\n",
      "annotations imgids:  []\n",
      "annotations bbox:  []\n",
      "\n",
      ">> bookcase...\n",
      ">>>> #WARNING bookcase is missing from json annotations\n",
      "annotations datasets:  []\n",
      "annotations imgids:  []\n",
      "annotations bbox:  []\n",
      "\n",
      ">> booklet...\n",
      "TAO\n"
     ]
    },
    {
     "name": "stderr",
     "output_type": "stream",
     "text": [
      " 16%|████████████▎                                                                | 209/1310 [02:38<10:01,  1.83it/s]"
     ]
    },
    {
     "name": "stdout",
     "output_type": "stream",
     "text": [
      "\n",
      ">> bookmark...\n",
      ">>>> #WARNING bookmark is missing from json annotations\n",
      "annotations datasets:  []\n",
      "annotations imgids:  []\n",
      "annotations bbox:  []\n",
      "\n",
      ">> boom_microphone...\n",
      ">>>> #WARNING boom_microphone is missing from json annotations\n",
      "annotations datasets:  []\n",
      "annotations imgids:  []\n",
      "annotations bbox:  []\n",
      "\n",
      ">> boot...\n",
      ">>>> #WARNING boot is missing from json annotations\n",
      "annotations datasets:  []\n",
      "annotations imgids:  []\n",
      "annotations bbox:  []\n",
      "\n",
      ">> bottle...\n",
      "TAO\n"
     ]
    },
    {
     "name": "stderr",
     "output_type": "stream",
     "text": [
      "\n",
      ">>> Finding TAO bottle...:   0%|                                                            | 0/1821 [00:00<?, ?it/s]\u001b[A"
     ]
    },
    {
     "name": "stdout",
     "output_type": "stream",
     "text": [
      "[Errno 2] No such file or directory: 'D:/external_datasets/TAO/TAO_DIR/frames/val/Charades/3YVPG/frame0991.jpg'\n"
     ]
    },
    {
     "name": "stderr",
     "output_type": "stream",
     "text": [
      "\n",
      " 16%|████████████▌                                                                | 213/1310 [02:40<09:47,  1.87it/s]"
     ]
    },
    {
     "name": "stdout",
     "output_type": "stream",
     "text": [
      "\n",
      ">> bottle_opener...\n",
      ">>>> #WARNING bottle_opener is missing from json annotations\n",
      "annotations datasets:  []\n",
      "annotations imgids:  []\n",
      "annotations bbox:  []\n",
      "\n",
      ">> bouquet...\n",
      ">>>> #WARNING bouquet is missing from json annotations\n",
      "annotations datasets:  []\n",
      "annotations imgids:  []\n",
      "annotations bbox:  []\n",
      "\n",
      ">> bow_(weapon)...\n",
      "TAO\n"
     ]
    },
    {
     "name": "stderr",
     "output_type": "stream",
     "text": [
      "\n",
      ">>> Finding TAO bow_(weapon)...:   0%|                                                       | 0/190 [00:00<?, ?it/s]\u001b[A"
     ]
    },
    {
     "name": "stdout",
     "output_type": "stream",
     "text": [
      "[Errno 2] No such file or directory: 'D:/external_datasets/TAO/TAO_DIR/frames/val/HACS/Archery_v_BuyfIer3bwk_scene_0_798-3588/frame1111.jpg'\n"
     ]
    },
    {
     "name": "stderr",
     "output_type": "stream",
     "text": [
      "\n",
      "\n",
      ">>> Finding TAO bow_(weapon)...:   1%|▏                                              | 1/190 [00:00<00:10, 17.23it/s]\u001b[A"
     ]
    },
    {
     "name": "stdout",
     "output_type": "stream",
     "text": [
      "[Errno 2] No such file or directory: 'D:/external_datasets/TAO/TAO_DIR/frames/val/HACS/Archery_v_BuyfIer3bwk_scene_0_798-3588/frame1171.jpg'\n"
     ]
    },
    {
     "name": "stderr",
     "output_type": "stream",
     "text": [
      "\n",
      " 16%|████████████▋                                                                | 216/1310 [02:42<09:56,  1.84it/s]"
     ]
    },
    {
     "name": "stdout",
     "output_type": "stream",
     "text": [
      "\n",
      ">> bow_(decorative_ribbons)...\n",
      ">>>> #WARNING bow_(decorative_ribbons) is missing from json annotations\n",
      "annotations datasets:  []\n",
      "annotations imgids:  []\n",
      "annotations bbox:  []\n",
      "\n",
      ">> bow-tie...\n",
      ">>>> #WARNING bow-tie is missing from json annotations\n",
      "annotations datasets:  []\n",
      "annotations imgids:  []\n",
      "annotations bbox:  []\n",
      "\n",
      ">> bowl...\n",
      "TAO\n"
     ]
    },
    {
     "name": "stderr",
     "output_type": "stream",
     "text": [
      "\n",
      ">>> Finding TAO bowl...:   0%|                                                               | 0/505 [00:00<?, ?it/s]\u001b[A"
     ]
    },
    {
     "name": "stdout",
     "output_type": "stream",
     "text": [
      "[Errno 2] No such file or directory: 'D:/external_datasets/TAO/TAO_DIR/frames/val/YFCC100M/v_460a1314da9bd32cbd14a2b3414f30/frame0865.jpeg'\n"
     ]
    },
    {
     "name": "stderr",
     "output_type": "stream",
     "text": [
      "\n",
      " 17%|████████████▊                                                                | 219/1310 [02:44<10:32,  1.72it/s]"
     ]
    },
    {
     "name": "stdout",
     "output_type": "stream",
     "text": [
      "\n",
      ">> pipe_bowl...\n",
      ">>>> #WARNING pipe_bowl is missing from json annotations\n",
      "annotations datasets:  []\n",
      "annotations imgids:  []\n",
      "annotations bbox:  []\n",
      "\n",
      ">> bowler_hat...\n",
      ">>>> #WARNING bowler_hat is missing from json annotations\n",
      "annotations datasets:  []\n",
      "annotations imgids:  []\n",
      "annotations bbox:  []\n",
      "\n",
      ">> bowling_ball...\n",
      ">>>> #WARNING bowling_ball is missing from json annotations\n",
      "annotations datasets:  []\n",
      "annotations imgids:  []\n",
      "annotations bbox:  []\n",
      "\n",
      ">> bowling_pin...\n",
      ">>>> #WARNING bowling_pin is missing from json annotations\n",
      "annotations datasets:  []\n",
      "annotations imgids:  []\n",
      "annotations bbox:  []\n",
      "\n",
      ">> boxing_glove...\n",
      ">>>> #WARNING boxing_glove is missing from json annotations\n",
      "annotations datasets:  []\n",
      "annotations imgids:  []\n",
      "annotations bbox:  []\n",
      "\n",
      ">> suspenders...\n",
      ">>>> #WARNING suspenders is missing from json annotations\n",
      "annotations datasets:  []\n",
      "annotations imgids:  []\n",
      "annotations bbox:  []\n",
      "\n",
      ">> bracelet...\n",
      ">>>> #WARNING bracelet is missing from json annotations\n",
      "annotations datasets:  []\n",
      "annotations imgids:  []\n",
      "annotations bbox:  []\n",
      "\n",
      ">> brass_plaque...\n",
      ">>>> #WARNING brass_plaque is missing from json annotations\n",
      "annotations datasets:  []\n",
      "annotations imgids:  []\n",
      "annotations bbox:  []\n",
      "\n",
      ">> brassiere...\n",
      ">>>> #WARNING brassiere is missing from json annotations\n",
      "annotations datasets:  []\n",
      "annotations imgids:  []\n",
      "annotations bbox:  []\n",
      "\n",
      ">> bread-bin...\n",
      ">>>> #WARNING bread-bin is missing from json annotations\n",
      "annotations datasets:  []\n",
      "annotations imgids:  []\n",
      "annotations bbox:  []\n",
      "\n",
      ">> breechcloth...\n",
      ">>>> #WARNING breechcloth is missing from json annotations\n",
      "annotations datasets:  []\n",
      "annotations imgids:  []\n",
      "annotations bbox:  []\n",
      "\n",
      ">> bridal_gown...\n",
      ">>>> #WARNING bridal_gown is missing from json annotations\n",
      "annotations datasets:  []\n",
      "annotations imgids:  []\n",
      "annotations bbox:  []\n",
      "\n",
      ">> briefcase...\n",
      "TAO\n"
     ]
    },
    {
     "name": "stderr",
     "output_type": "stream",
     "text": [
      " 18%|█████████████▋                                                               | 232/1310 [02:46<08:02,  2.23it/s]"
     ]
    },
    {
     "name": "stdout",
     "output_type": "stream",
     "text": [
      "\n",
      ">> bristle_brush...\n",
      ">>>> #WARNING bristle_brush is missing from json annotations\n",
      "annotations datasets:  []\n",
      "annotations imgids:  []\n",
      "annotations bbox:  []\n",
      "\n",
      ">> broccoli...\n",
      ">>>> #WARNING broccoli is missing from json annotations\n",
      "annotations datasets:  []\n",
      "annotations imgids:  []\n",
      "annotations bbox:  []\n",
      "\n",
      ">> broach...\n",
      ">>>> #WARNING broach is missing from json annotations\n",
      "annotations datasets:  []\n",
      "annotations imgids:  []\n",
      "annotations bbox:  []\n",
      "\n",
      ">> broom...\n",
      "TAO\n"
     ]
    },
    {
     "name": "stderr",
     "output_type": "stream",
     "text": [
      " 18%|█████████████▊                                                               | 236/1310 [02:48<08:22,  2.14it/s]"
     ]
    },
    {
     "name": "stdout",
     "output_type": "stream",
     "text": [
      "\n",
      ">> brownie...\n",
      ">>>> #WARNING brownie is missing from json annotations\n",
      "annotations datasets:  []\n",
      "annotations imgids:  []\n",
      "annotations bbox:  []\n",
      "\n",
      ">> brussels_sprouts...\n",
      ">>>> #WARNING brussels_sprouts is missing from json annotations\n",
      "annotations datasets:  []\n",
      "annotations imgids:  []\n",
      "annotations bbox:  []\n",
      "\n",
      ">> bubble_gum...\n",
      ">>>> #WARNING bubble_gum is missing from json annotations\n",
      "annotations datasets:  []\n",
      "annotations imgids:  []\n",
      "annotations bbox:  []\n",
      "\n",
      ">> bucket...\n",
      "TAO\n"
     ]
    },
    {
     "name": "stderr",
     "output_type": "stream",
     "text": [
      "\n",
      ">>> Finding TAO bucket...:   0%|                                                             | 0/302 [00:00<?, ?it/s]\u001b[A"
     ]
    },
    {
     "name": "stdout",
     "output_type": "stream",
     "text": [
      "[Errno 2] No such file or directory: 'D:/external_datasets/TAO/TAO_DIR/frames/train/AVA/WKqbLbU68wU_scene_6_24945-26344/frame1176.jpg'\n",
      "[Errno 2] No such file or directory: 'D:/external_datasets/TAO/TAO_DIR/frames/train/AVA/WKqbLbU68wU_scene_5_23558-24613/frame1001.jpg'\n"
     ]
    },
    {
     "name": "stderr",
     "output_type": "stream",
     "text": [
      "\n",
      "\n",
      ">>> Finding TAO bucket...:   0%|▏                                                    | 1/302 [00:00<00:17, 17.51it/s]\u001b[A\n",
      " 18%|██████████████                                                               | 240/1310 [02:49<08:11,  2.17it/s]"
     ]
    },
    {
     "name": "stdout",
     "output_type": "stream",
     "text": [
      "\n",
      ">> horse_buggy...\n",
      ">>>> #WARNING horse_buggy is missing from json annotations\n",
      "annotations datasets:  []\n",
      "annotations imgids:  []\n",
      "annotations bbox:  []\n",
      "\n",
      ">> bull...\n",
      "TAO\n"
     ]
    },
    {
     "name": "stderr",
     "output_type": "stream",
     "text": [
      "\n",
      ">>> Finding TAO bull...:   0%|                                                                | 0/80 [00:00<?, ?it/s]\u001b[A"
     ]
    },
    {
     "name": "stdout",
     "output_type": "stream",
     "text": [
      "[Errno 2] No such file or directory: 'D:/external_datasets/TAO/TAO_DIR/frames/val/HACS/Bullfighting_v_zkKpaYdtrzc_scene_0_0-2235/frame1021.jpg'\n",
      "[Errno 2] No such file or directory: 'D:/external_datasets/TAO/TAO_DIR/frames/val/HACS/Bullfighting_v_zkKpaYdtrzc_scene_0_0-2235/frame1081.jpg'\n"
     ]
    },
    {
     "name": "stderr",
     "output_type": "stream",
     "text": [
      "\n",
      "\n",
      ">>> Finding TAO bull...:   1%|▋                                                       | 1/80 [00:00<00:05, 15.39it/s]\u001b[A\n",
      "\n",
      ">>> Finding TAO bull...:   4%|██                                                      | 3/80 [00:00<00:01, 50.00it/s]\u001b[A\n",
      " 18%|██████████████▏                                                              | 242/1310 [02:51<10:07,  1.76it/s]"
     ]
    },
    {
     "name": "stdout",
     "output_type": "stream",
     "text": [
      "[Errno 2] No such file or directory: 'D:/external_datasets/TAO/TAO_DIR/frames/val/HACS/Bullfighting_v_zkKpaYdtrzc_scene_0_0-2235/frame1111.jpg'\n",
      "\n",
      ">> bulldog...\n",
      ">>>> #WARNING bulldog is missing from json annotations\n",
      "annotations datasets:  []\n",
      "annotations imgids:  []\n",
      "annotations bbox:  []\n",
      "\n",
      ">> bulldozer...\n",
      ">>>> #WARNING bulldozer is missing from json annotations\n",
      "annotations datasets:  []\n",
      "annotations imgids:  []\n",
      "annotations bbox:  []\n",
      "\n",
      ">> bullet_train...\n",
      ">>>> #WARNING bullet_train is missing from json annotations\n",
      "annotations datasets:  []\n",
      "annotations imgids:  []\n",
      "annotations bbox:  []\n",
      "\n",
      ">> bulletin_board...\n",
      ">>>> #WARNING bulletin_board is missing from json annotations\n",
      "annotations datasets:  []\n",
      "annotations imgids:  []\n",
      "annotations bbox:  []\n",
      "\n",
      ">> bulletproof_vest...\n",
      ">>>> #WARNING bulletproof_vest is missing from json annotations\n",
      "annotations datasets:  []\n",
      "annotations imgids:  []\n",
      "annotations bbox:  []\n",
      "\n",
      ">> bullhorn...\n",
      ">>>> #WARNING bullhorn is missing from json annotations\n",
      "annotations datasets:  []\n",
      "annotations imgids:  []\n",
      "annotations bbox:  []\n",
      "\n",
      ">> corned_beef...\n",
      ">>>> #WARNING corned_beef is missing from json annotations\n",
      "annotations datasets:  []\n",
      "annotations imgids:  []\n",
      "annotations bbox:  []\n",
      "\n",
      ">> bun...\n",
      "TAO\n"
     ]
    },
    {
     "name": "stderr",
     "output_type": "stream",
     "text": [
      "\n",
      ">>> Finding TAO bun...:   0%|                                                                 | 0/77 [00:00<?, ?it/s]\u001b[A"
     ]
    },
    {
     "name": "stdout",
     "output_type": "stream",
     "text": [
      "[Errno 2] No such file or directory: 'D:/external_datasets/TAO/TAO_DIR/frames/val/HACS/Making_a_sandwich_v_6RjriKVIkR4_scene_0_0-4638/frame0991.jpg'\n"
     ]
    },
    {
     "name": "stderr",
     "output_type": "stream",
     "text": [
      "\n",
      "\n",
      ">>> Finding TAO bun...:   1%|▋                                                        | 1/77 [00:00<00:01, 55.41it/s]\u001b[A"
     ]
    },
    {
     "name": "stdout",
     "output_type": "stream",
     "text": [
      "[Errno 2] No such file or directory: 'D:/external_datasets/TAO/TAO_DIR/frames/val/HACS/Making_a_sandwich_v_6RjriKVIkR4_scene_0_0-4638/frame0991.jpg'\n"
     ]
    },
    {
     "name": "stderr",
     "output_type": "stream",
     "text": [
      "\n",
      " 19%|██████████████▋                                                              | 250/1310 [02:53<08:09,  2.16it/s]"
     ]
    },
    {
     "name": "stdout",
     "output_type": "stream",
     "text": [
      "\n",
      ">> bunk_bed...\n",
      ">>>> #WARNING bunk_bed is missing from json annotations\n",
      "annotations datasets:  []\n",
      "annotations imgids:  []\n",
      "annotations bbox:  []\n",
      "\n",
      ">> buoy...\n",
      "TAO\n"
     ]
    },
    {
     "name": "stderr",
     "output_type": "stream",
     "text": [
      " 19%|██████████████▊                                                              | 252/1310 [02:54<09:39,  1.83it/s]\n",
      ">>> Finding TAO bus_(vehicle)...:   0%|                                                      | 0/409 [00:00<?, ?it/s]\u001b[A\n"
     ]
    },
    {
     "name": "stdout",
     "output_type": "stream",
     "text": [
      "\n",
      ">> burrito...\n",
      ">>>> #WARNING burrito is missing from json annotations\n",
      "annotations datasets:  []\n",
      "annotations imgids:  []\n",
      "annotations bbox:  []\n",
      "\n",
      ">> bus_(vehicle)...\n",
      "TAO\n",
      "[Errno 2] No such file or directory: 'D:/external_datasets/TAO/TAO_DIR/frames/train/ArgoVerse/649750f3-0163-34eb-a102-7aaf5384eaec/ring_front_center_315969562708910720.jpg'\n"
     ]
    },
    {
     "name": "stderr",
     "output_type": "stream",
     "text": [
      "\n",
      ">>> Finding TAO bus_(vehicle)...:   0%|                                              | 1/409 [00:00<00:26, 15.15it/s]\u001b[A\n",
      "\n",
      ">>> Finding TAO bus_(vehicle)...:   0%|                                                      | 0/409 [00:00<?, ?it/s]\u001b[A"
     ]
    },
    {
     "name": "stdout",
     "output_type": "stream",
     "text": [
      "[Errno 2] No such file or directory: 'D:/external_datasets/TAO/TAO_DIR/frames/val/ArgoVerse/9da4ca63-f524-3b38-8c8b-624f17518574/ring_front_center_315966390308162824.jpg'\n",
      "[Errno 2] No such file or directory: 'D:/external_datasets/TAO/TAO_DIR/frames/val/ArgoVerse/9da4ca63-f524-3b38-8c8b-624f17518574/ring_front_center_315966385313154320.jpg'\n"
     ]
    },
    {
     "name": "stderr",
     "output_type": "stream",
     "text": [
      ">>> Finding TAO bus_(vehicle)...:   0%|▏                                             | 2/409 [00:00<00:13, 31.25it/s]\n",
      "\n",
      ">>> Finding TAO bus_(vehicle)...:   1%|▎                                             | 3/409 [00:00<00:07, 53.53it/s]\u001b[A\n",
      "\n",
      ">>> Finding TAO bus_(vehicle)...:   1%|▍                                             | 4/409 [00:00<00:05, 76.93it/s]\u001b[A"
     ]
    },
    {
     "name": "stdout",
     "output_type": "stream",
     "text": [
      "[Errno 2] No such file or directory: 'D:/external_datasets/TAO/TAO_DIR/frames/val/ArgoVerse/9da4ca63-f524-3b38-8c8b-624f17518574/ring_front_center_315966370328155936.jpg'\n",
      "[Errno 2] No such file or directory: 'D:/external_datasets/TAO/TAO_DIR/frames/val/ArgoVerse/25952736-2595-2595-2595-225953853440/ring_front_center_315966403594852344.jpg'\n"
     ]
    },
    {
     "name": "stderr",
     "output_type": "stream",
     "text": [
      "\n",
      "\n",
      ">>> Finding TAO bus_(vehicle)...:   1%|▌                                             | 5/409 [00:00<00:05, 74.62it/s]\u001b[A"
     ]
    },
    {
     "name": "stdout",
     "output_type": "stream",
     "text": [
      "[Errno 2] No such file or directory: 'D:/external_datasets/TAO/TAO_DIR/frames/train/BDD/b262f576-b0373824/frame1141.jpg'\n"
     ]
    },
    {
     "name": "stderr",
     "output_type": "stream",
     "text": [
      "\n",
      "\n",
      ">>> Finding TAO bus_(vehicle)...:   1%|▋                                             | 6/409 [00:00<00:04, 82.23it/s]\u001b[A\n",
      " 19%|██████████████▉                                                              | 254/1310 [02:56<11:34,  1.52it/s]"
     ]
    },
    {
     "name": "stdout",
     "output_type": "stream",
     "text": [
      "[Errno 2] No such file or directory: 'D:/external_datasets/TAO/TAO_DIR/frames/val/ArgoVerse/33737504-3373-3373-3373-633738571776/ring_front_center_315968436991070744.jpg'\n",
      "\n",
      ">> business_card...\n",
      "TAO\n"
     ]
    },
    {
     "name": "stderr",
     "output_type": "stream",
     "text": [
      "\n",
      ">>> Finding TAO business_card...: 100%|██████████████████████████████████████████████████████| 10/10 [00:00<?, ?it/s]\u001b[A\n",
      "\n",
      ">>> Finding TAO business_card...: 100%|██████████████████████████████████████████████████████| 10/10 [00:00<?, ?it/s]\u001b[A\n",
      "\n",
      ">>> Finding TAO business_card...: 100%|████████████████████████████████████████████| 10/10 [00:00<00:00, 9998.34it/s]\u001b[A\n",
      "\n",
      ">>> Finding TAO business_card...: 100%|████████████████████████████████████████████| 10/10 [00:00<00:00, 9871.27it/s]\u001b[A\n",
      "\n",
      ">>> Finding TAO business_card...: 100%|███████████████████████████████████████████| 10/10 [00:00<00:00, 10003.11it/s]\u001b[A\n",
      "\n",
      ">>> Finding TAO business_card...: 100%|██████████████████████████████████████████████████████| 10/10 [00:00<?, ?it/s]\u001b[A\n",
      "\n",
      ">>> Finding TAO business_card...: 100%|████████████████████████████████████████████| 10/10 [00:00<00:00, 9986.44it/s]\u001b[A\n",
      "\n",
      ">>> Finding TAO business_card...: 100%|██████████████████████████████████████████████████████| 10/10 [00:00<?, ?it/s]\u001b[A\n",
      "\n",
      ">>> Finding TAO business_card...: 100%|██████████████████████████████████████████████████████| 10/10 [00:00<?, ?it/s]\u001b[A\n",
      "\n",
      ">>> Finding TAO business_card...: 100%|███████████████████████████████████████████| 10/10 [00:00<00:00, 10111.63it/s]\u001b[A\n",
      " 19%|██████████████▉                                                              | 255/1310 [02:56<09:10,  1.92it/s]\n",
      ">>> Finding TAO butcher_knife...:   0%|                                                       | 0/42 [00:00<?, ?it/s]\u001b[A"
     ]
    },
    {
     "name": "stdout",
     "output_type": "stream",
     "text": [
      "[Errno 2] No such file or directory: 'D:/external_datasets/TAO/TAO_DIR/frames/val/AVA/4Y5qi1gD2Sw_scene_1_28435-31083/frame1201.jpg'\n",
      ">>>> #WARNING: No file found for: TAO business_card...\n",
      "[Errno 2] No such file or directory: 'D:/external_datasets/TAO/TAO_DIR/frames/val/AVA/4Y5qi1gD2Sw_scene_1_28435-31083/frame1081.jpg'\n",
      ">>>> #WARNING: No file found for: TAO business_card...\n",
      "[Errno 2] No such file or directory: 'D:/external_datasets/TAO/TAO_DIR/frames/val/AVA/4Y5qi1gD2Sw_scene_1_28435-31083/frame1351.jpg'\n",
      ">>>> #WARNING: No file found for: TAO business_card...\n",
      "[Errno 2] No such file or directory: 'D:/external_datasets/TAO/TAO_DIR/frames/val/AVA/4Y5qi1gD2Sw_scene_1_28435-31083/frame1171.jpg'\n",
      ">>>> #WARNING: No file found for: TAO business_card...\n",
      "[Errno 2] No such file or directory: 'D:/external_datasets/TAO/TAO_DIR/frames/val/AVA/4Y5qi1gD2Sw_scene_1_28435-31083/frame1111.jpg'\n",
      ">>>> #WARNING: No file found for: TAO business_card...\n",
      "[Errno 2] No such file or directory: 'D:/external_datasets/TAO/TAO_DIR/frames/val/AVA/4Y5qi1gD2Sw_scene_1_28435-31083/frame1261.jpg'\n",
      ">>>> #WARNING: No file found for: TAO business_card...\n",
      "[Errno 2] No such file or directory: 'D:/external_datasets/TAO/TAO_DIR/frames/val/AVA/4Y5qi1gD2Sw_scene_1_28435-31083/frame1141.jpg'\n",
      ">>>> #WARNING: No file found for: TAO business_card...\n",
      "[Errno 2] No such file or directory: 'D:/external_datasets/TAO/TAO_DIR/frames/val/AVA/4Y5qi1gD2Sw_scene_1_28435-31083/frame1231.jpg'\n",
      ">>>> #WARNING: No file found for: TAO business_card...\n",
      "[Errno 2] No such file or directory: 'D:/external_datasets/TAO/TAO_DIR/frames/val/AVA/4Y5qi1gD2Sw_scene_1_28435-31083/frame1291.jpg'\n",
      ">>>> #WARNING: No file found for: TAO business_card...\n",
      "[Errno 2] No such file or directory: 'D:/external_datasets/TAO/TAO_DIR/frames/val/AVA/4Y5qi1gD2Sw_scene_1_28435-31083/frame1321.jpg'\n",
      ">>>> #WARNING: No file found for: TAO business_card...\n",
      "\n",
      ">> butcher_knife...\n",
      "TAO\n",
      "[Errno 2] No such file or directory: 'D:/external_datasets/TAO/TAO_DIR/frames/train/YFCC100M/v_23584c2660351f12cffe1399c47ce870/frame1861.jpeg'\n"
     ]
    },
    {
     "name": "stderr",
     "output_type": "stream",
     "text": [
      ">>> Finding TAO butcher_knife...:  36%|████████████████                             | 15/42 [00:00<00:00, 136.17it/s]\n",
      "\n",
      ">>> Finding TAO butcher_knife...:  40%|██████████████████▏                          | 17/42 [00:00<00:00, 191.08it/s]\u001b[A"
     ]
    },
    {
     "name": "stdout",
     "output_type": "stream",
     "text": [
      "[Errno 2] No such file or directory: 'D:/external_datasets/TAO/TAO_DIR/frames/val/HACS/Preparing_pasta_v_IzyCyVQrmkw_scene_0_0-2915/frame1081.jpg'\n"
     ]
    },
    {
     "name": "stderr",
     "output_type": "stream",
     "text": [
      "\n",
      "\n",
      ">>> Finding TAO butcher_knife...:  45%|████████████████████▎                        | 19/42 [00:00<00:00, 182.64it/s]\u001b[A"
     ]
    },
    {
     "name": "stdout",
     "output_type": "stream",
     "text": [
      "[Errno 2] No such file or directory: 'D:/external_datasets/TAO/TAO_DIR/frames/train/YFCC100M/v_23584c2660351f12cffe1399c47ce870/frame0751.jpeg'\n"
     ]
    },
    {
     "name": "stderr",
     "output_type": "stream",
     "text": [
      "\n",
      " 20%|███████████████                                                              | 256/1310 [02:58<16:52,  1.04it/s]\n",
      ">>> Finding TAO cab_(taxi)...:   0%|                                                         | 0/837 [00:00<?, ?it/s]\u001b[A"
     ]
    },
    {
     "name": "stdout",
     "output_type": "stream",
     "text": [
      "\n",
      ">> butter...\n",
      ">>>> #WARNING butter is missing from json annotations\n",
      "annotations datasets:  []\n",
      "annotations imgids:  []\n",
      "annotations bbox:  []\n",
      "\n",
      ">> butterfly...\n",
      ">>>> #WARNING butterfly is missing from json annotations\n",
      "annotations datasets:  []\n",
      "annotations imgids:  []\n",
      "annotations bbox:  []\n",
      "\n",
      ">> button...\n",
      ">>>> #WARNING button is missing from json annotations\n",
      "annotations datasets:  []\n",
      "annotations imgids:  []\n",
      "annotations bbox:  []\n",
      "\n",
      ">> cab_(taxi)...\n",
      "TAO\n",
      "[Errno 2] No such file or directory: 'D:/external_datasets/TAO/TAO_DIR/frames/train/BDD/b2de938e-84eab379/frame1081.jpg'\n"
     ]
    },
    {
     "name": "stderr",
     "output_type": "stream",
     "text": [
      ">>> Finding TAO cab_(taxi)...:   3%|█▌                                             | 27/837 [00:00<00:04, 171.92it/s]\n",
      "\n",
      ">>> Finding TAO cab_(taxi)...:   3%|█▌                                             | 28/837 [00:00<00:04, 195.82it/s]\u001b[A"
     ]
    },
    {
     "name": "stdout",
     "output_type": "stream",
     "text": [
      "[Errno 2] No such file or directory: 'D:/external_datasets/TAO/TAO_DIR/frames/val/BDD/b2fbf86d-d5de82a4/frame1201.jpg'\n"
     ]
    },
    {
     "name": "stderr",
     "output_type": "stream",
     "text": [
      "\n",
      "\n",
      ">>> Finding TAO cab_(taxi)...:   3%|█▋                                             | 29/837 [00:00<00:04, 188.37it/s]\u001b[A"
     ]
    },
    {
     "name": "stdout",
     "output_type": "stream",
     "text": [
      "[Errno 2] No such file or directory: 'D:/external_datasets/TAO/TAO_DIR/frames/val/BDD/b2f68bad-aa8f35d1/frame2221.jpg'\n"
     ]
    },
    {
     "name": "stderr",
     "output_type": "stream",
     "text": [
      "\n",
      " 20%|███████████████▎                                                             | 260/1310 [03:00<14:33,  1.20it/s]"
     ]
    },
    {
     "name": "stdout",
     "output_type": "stream",
     "text": [
      "\n",
      ">> cabana...\n",
      ">>>> #WARNING cabana is missing from json annotations\n",
      "annotations datasets:  []\n",
      "annotations imgids:  []\n",
      "annotations bbox:  []\n",
      "\n",
      ">> cabin_car...\n",
      ">>>> #WARNING cabin_car is missing from json annotations\n",
      "annotations datasets:  []\n",
      "annotations imgids:  []\n",
      "annotations bbox:  []\n",
      "\n",
      ">> cabinet...\n",
      ">>>> #WARNING cabinet is missing from json annotations\n",
      "annotations datasets:  []\n",
      "annotations imgids:  []\n",
      "annotations bbox:  []\n",
      "\n",
      ">> locker...\n",
      ">>>> #WARNING locker is missing from json annotations\n",
      "annotations datasets:  []\n",
      "annotations imgids:  []\n",
      "annotations bbox:  []\n",
      "\n",
      ">> cake...\n",
      ">>>> #WARNING cake is missing from json annotations\n",
      "annotations datasets:  []\n",
      "annotations imgids:  []\n",
      "annotations bbox:  []\n",
      "\n",
      ">> calculator...\n",
      ">>>> #WARNING calculator is missing from json annotations\n",
      "annotations datasets:  []\n",
      "annotations imgids:  []\n",
      "annotations bbox:  []\n",
      "\n",
      ">> calendar...\n",
      ">>>> #WARNING calendar is missing from json annotations\n",
      "annotations datasets:  []\n",
      "annotations imgids:  []\n",
      "annotations bbox:  []\n",
      "\n",
      ">> calf...\n",
      "TAO\n"
     ]
    },
    {
     "name": "stderr",
     "output_type": "stream",
     "text": [
      " 20%|███████████████▊                                                             | 268/1310 [03:02<11:13,  1.55it/s]"
     ]
    },
    {
     "name": "stdout",
     "output_type": "stream",
     "text": [
      "\n",
      ">> camcorder...\n",
      ">>>> #WARNING camcorder is missing from json annotations\n",
      "annotations datasets:  []\n",
      "annotations imgids:  []\n",
      "annotations bbox:  []\n",
      "\n",
      ">> camel...\n",
      "TAO\n"
     ]
    },
    {
     "name": "stderr",
     "output_type": "stream",
     "text": [
      "\n",
      ">>> Finding TAO camel...:   0%|                                                              | 0/128 [00:00<?, ?it/s]\u001b[A"
     ]
    },
    {
     "name": "stdout",
     "output_type": "stream",
     "text": [
      "[Errno 2] No such file or directory: 'D:/external_datasets/TAO/TAO_DIR/frames/val/HACS/Camel_ride_v_mP3x4lbssig_scene_0_0-1900/frame1141.jpg'\n"
     ]
    },
    {
     "name": "stderr",
     "output_type": "stream",
     "text": [
      "\n",
      " 21%|███████████████▊                                                             | 270/1310 [03:04<12:23,  1.40it/s]"
     ]
    },
    {
     "name": "stdout",
     "output_type": "stream",
     "text": [
      "\n",
      ">> camera...\n",
      "TAO\n"
     ]
    },
    {
     "name": "stderr",
     "output_type": "stream",
     "text": [
      "\n",
      ">>> Finding TAO camera...:   0%|                                                             | 0/473 [00:00<?, ?it/s]\u001b[A"
     ]
    },
    {
     "name": "stdout",
     "output_type": "stream",
     "text": [
      "[Errno 2] No such file or directory: 'D:/external_datasets/TAO/TAO_DIR/frames/val/YFCC100M/v_a8527f6556714827bb5a2cf724562d/frame0631.jpeg'\n"
     ]
    },
    {
     "name": "stderr",
     "output_type": "stream",
     "text": [
      "\n",
      " 21%|███████████████▉                                                             | 271/1310 [03:05<17:22,  1.00s/it]"
     ]
    },
    {
     "name": "stdout",
     "output_type": "stream",
     "text": [
      "\n",
      ">> camera_lens...\n",
      ">>>> #WARNING camera_lens is missing from json annotations\n",
      "annotations datasets:  []\n",
      "annotations imgids:  []\n",
      "annotations bbox:  []\n",
      "\n",
      ">> camper_(vehicle)...\n",
      ">>>> #WARNING camper_(vehicle) is missing from json annotations\n",
      "annotations datasets:  []\n",
      "annotations imgids:  []\n",
      "annotations bbox:  []\n",
      "\n",
      ">> can...\n",
      "TAO\n"
     ]
    },
    {
     "name": "stderr",
     "output_type": "stream",
     "text": [
      " 21%|████████████████                                                             | 274/1310 [03:08<16:01,  1.08it/s]\n",
      ">>> Finding TAO candle...:   0%|                                                              | 0/72 [00:00<?, ?it/s]\u001b[A\n"
     ]
    },
    {
     "name": "stdout",
     "output_type": "stream",
     "text": [
      "\n",
      ">> can_opener...\n",
      ">>>> #WARNING can_opener is missing from json annotations\n",
      "annotations datasets:  []\n",
      "annotations imgids:  []\n",
      "annotations bbox:  []\n",
      "\n",
      ">> candelabrum...\n",
      ">>>> #WARNING candelabrum is missing from json annotations\n",
      "annotations datasets:  []\n",
      "annotations imgids:  []\n",
      "annotations bbox:  []\n",
      "\n",
      ">> candle...\n",
      "TAO\n",
      "[Errno 2] No such file or directory: 'D:/external_datasets/TAO/TAO_DIR/frames/train/AVA/TcB0IFBwk-k_scene_8_60601-61875/frame0991.jpg'\n"
     ]
    },
    {
     "name": "stderr",
     "output_type": "stream",
     "text": [
      "\n",
      ">>> Finding TAO candle...:   1%|▊                                                     | 1/72 [00:00<00:05, 13.33it/s]\u001b[A"
     ]
    },
    {
     "name": "stdout",
     "output_type": "stream",
     "text": [
      "[Errno 2] No such file or directory: 'D:/external_datasets/TAO/TAO_DIR/frames/train/AVA/TcB0IFBwk-k_scene_8_60601-61875/frame1081.jpg'\n"
     ]
    },
    {
     "name": "stderr",
     "output_type": "stream",
     "text": [
      "\n",
      " 21%|████████████████▎                                                            | 277/1310 [03:10<14:29,  1.19it/s]"
     ]
    },
    {
     "name": "stdout",
     "output_type": "stream",
     "text": [
      "\n",
      ">> candle_holder...\n",
      ">>>> #WARNING candle_holder is missing from json annotations\n",
      "annotations datasets:  []\n",
      "annotations imgids:  []\n",
      "annotations bbox:  []\n",
      "\n",
      ">> candy_bar...\n",
      ">>>> #WARNING candy_bar is missing from json annotations\n",
      "annotations datasets:  []\n",
      "annotations imgids:  []\n",
      "annotations bbox:  []\n",
      "\n",
      ">> candy_cane...\n",
      ">>>> #WARNING candy_cane is missing from json annotations\n",
      "annotations datasets:  []\n",
      "annotations imgids:  []\n",
      "annotations bbox:  []\n",
      "\n",
      ">> walking_cane...\n",
      ">>>> #WARNING walking_cane is missing from json annotations\n",
      "annotations datasets:  []\n",
      "annotations imgids:  []\n",
      "annotations bbox:  []\n",
      "\n",
      ">> canister...\n",
      "TAO\n"
     ]
    },
    {
     "name": "stderr",
     "output_type": "stream",
     "text": [
      "\n",
      ">>> Finding TAO canister...:   0%|                                                           | 0/214 [00:00<?, ?it/s]\u001b[A"
     ]
    },
    {
     "name": "stdout",
     "output_type": "stream",
     "text": [
      "[Errno 2] No such file or directory: 'D:/external_datasets/TAO/TAO_DIR/frames/val/YFCC100M/v_f082f297a09e147bb990b9cc89c7ad8e/frame1001.jpeg'\n"
     ]
    },
    {
     "name": "stderr",
     "output_type": "stream",
     "text": [
      "\n",
      " 22%|████████████████▌                                                            | 282/1310 [03:11<11:50,  1.45it/s]"
     ]
    },
    {
     "name": "stdout",
     "output_type": "stream",
     "text": [
      "\n",
      ">> cannon...\n",
      ">>>> #WARNING cannon is missing from json annotations\n",
      "annotations datasets:  []\n",
      "annotations imgids:  []\n",
      "annotations bbox:  []\n",
      "\n",
      ">> canoe...\n",
      "TAO\n"
     ]
    },
    {
     "name": "stderr",
     "output_type": "stream",
     "text": [
      " 22%|████████████████▋                                                            | 284/1310 [03:13<12:11,  1.40it/s]\n",
      ">>> Finding TAO bottle_cap...:   0%|                                                         | 0/155 [00:00<?, ?it/s]\u001b[A\n"
     ]
    },
    {
     "name": "stdout",
     "output_type": "stream",
     "text": [
      "\n",
      ">> cantaloup...\n",
      ">>>> #WARNING cantaloup is missing from json annotations\n",
      "annotations datasets:  []\n",
      "annotations imgids:  []\n",
      "annotations bbox:  []\n",
      "\n",
      ">> canteen...\n",
      ">>>> #WARNING canteen is missing from json annotations\n",
      "annotations datasets:  []\n",
      "annotations imgids:  []\n",
      "annotations bbox:  []\n",
      "\n",
      ">> cap_(headwear)...\n",
      ">>>> #WARNING cap_(headwear) is missing from json annotations\n",
      "annotations datasets:  []\n",
      "annotations imgids:  []\n",
      "annotations bbox:  []\n",
      "\n",
      ">> bottle_cap...\n",
      "TAO\n",
      "[Errno 2] No such file or directory: 'D:/external_datasets/TAO/TAO_DIR/frames/train/HACS/Brushing_teeth_v_ghzmn2V-SDE/frame1489.jpg'\n"
     ]
    },
    {
     "name": "stderr",
     "output_type": "stream",
     "text": [
      "\n",
      ">>> Finding TAO bottle_cap...:   1%|▎                                                | 1/155 [00:00<00:08, 19.23it/s]\u001b[A"
     ]
    },
    {
     "name": "stdout",
     "output_type": "stream",
     "text": [
      "[Errno 2] No such file or directory: 'D:/external_datasets/TAO/TAO_DIR/frames/train/HACS/Brushing_teeth_v_ghzmn2V-SDE/frame1129.jpg'\n"
     ]
    },
    {
     "name": "stderr",
     "output_type": "stream",
     "text": [
      "\n",
      "\n",
      ">>> Finding TAO bottle_cap...:   1%|▋                                                | 2/155 [00:00<00:04, 37.71it/s]\u001b[A"
     ]
    },
    {
     "name": "stdout",
     "output_type": "stream",
     "text": [
      "[Errno 2] No such file or directory: 'D:/external_datasets/TAO/TAO_DIR/frames/train/HACS/Brushing_teeth_v_ghzmn2V-SDE/frame1537.jpg'\n"
     ]
    },
    {
     "name": "stderr",
     "output_type": "stream",
     "text": [
      "\n",
      " 22%|████████████████▉                                                            | 288/1310 [03:15<11:03,  1.54it/s]"
     ]
    },
    {
     "name": "stdout",
     "output_type": "stream",
     "text": [
      "\n",
      ">> cape...\n",
      "TAO\n"
     ]
    },
    {
     "name": "stderr",
     "output_type": "stream",
     "text": [
      "\n",
      ">>> Finding TAO cape...:   0%|                                                                | 0/39 [00:00<?, ?it/s]\u001b[A"
     ]
    },
    {
     "name": "stdout",
     "output_type": "stream",
     "text": [
      "[Errno 2] No such file or directory: 'D:/external_datasets/TAO/TAO_DIR/frames/val/HACS/Bullfighting_v_zkKpaYdtrzc_scene_0_0-2235/frame1021.jpg'\n",
      "[Errno 2] No such file or directory: 'D:/external_datasets/TAO/TAO_DIR/frames/val/HACS/Bullfighting_v_zkKpaYdtrzc_scene_0_0-2235/frame1081.jpg'\n"
     ]
    },
    {
     "name": "stderr",
     "output_type": "stream",
     "text": [
      "\n",
      "\n",
      ">>> Finding TAO cape...:   3%|█▍                                                      | 1/39 [00:00<00:02, 13.70it/s]\u001b[A\n",
      " 22%|████████████████▉                                                            | 289/1310 [03:17<15:56,  1.07it/s]\n",
      ">>> Finding TAO car_(automobile)...:   0%|                                                 | 0/14207 [00:00<?, ?it/s]\u001b[A\n",
      "\n"
     ]
    },
    {
     "name": "stdout",
     "output_type": "stream",
     "text": [
      "\n",
      ">> cappuccino...\n",
      ">>>> #WARNING cappuccino is missing from json annotations\n",
      "annotations datasets:  []\n",
      "annotations imgids:  []\n",
      "annotations bbox:  []\n",
      "\n",
      ">> car_(automobile)...\n",
      "TAO\n",
      "[Errno 2] No such file or directory: 'D:/external_datasets/TAO/TAO_DIR/frames/train/ArgoVerse/4518c79d-10fb-300e-83bb-6174d5b24a45/ring_front_center_315969128020772176.jpg'\n",
      "[Errno 2] No such file or directory: 'D:/external_datasets/TAO/TAO_DIR/frames/train/ArgoVerse/side_right_84c35ea7-1a99-3a0c-a3ea-c5915d68acbc/ring_side_right_315969511211221080.jpg'\n"
     ]
    },
    {
     "name": "stderr",
     "output_type": "stream",
     "text": [
      ">>> Finding TAO car_(automobile)...:   0%|                                        | 1/14207 [00:00<02:07, 111.28it/s]\u001b[A\n",
      "\n",
      ">>> Finding TAO car_(automobile)...:   0%|                                        | 2/14207 [00:00<01:11, 199.83it/s]\u001b[A\n",
      "\n",
      ">>> Finding TAO car_(automobile)...:   0%|                                         | 3/14207 [00:00<04:06, 57.69it/s]\u001b[A"
     ]
    },
    {
     "name": "stdout",
     "output_type": "stream",
     "text": [
      "[Errno 2] No such file or directory: 'D:/external_datasets/TAO/TAO_DIR/frames/val/ArgoVerse/00c561b9-2057-358d-82c6-5b06d76cebcf/ring_front_center_315969634017509032.jpg'\n",
      "[Errno 2] No such file or directory: 'D:/external_datasets/TAO/TAO_DIR/frames/train/BDD/b40b0ea3-b242efc9/frame2221.jpg'\n",
      "[Errno 2] No such file or directory: 'D:/external_datasets/TAO/TAO_DIR/frames/train/ArgoVerse/6725b340-0cf9-326e-a243-631ffc768df2/ring_front_center_315972292022677368.jpg'\n"
     ]
    },
    {
     "name": "stderr",
     "output_type": "stream",
     "text": [
      "\n",
      "\n",
      ">>> Finding TAO car_(automobile)...:   0%|                                        | 4/14207 [00:00<00:39, 362.23it/s]\u001b[A\n",
      "\n",
      ">>> Finding TAO car_(automobile)...:   0%|                                         | 5/14207 [00:00<02:39, 89.25it/s]\u001b[A\n"
     ]
    },
    {
     "name": "stdout",
     "output_type": "stream",
     "text": [
      "[Errno 2] No such file or directory: 'D:/external_datasets/TAO/TAO_DIR/frames/val/ArgoVerse/9da4ca63-f524-3b38-8c8b-624f17518574/ring_front_center_315966364334158088.jpg'\n"
     ]
    },
    {
     "name": "stderr",
     "output_type": "stream",
     "text": [
      "\n",
      ">>> Finding TAO car_(automobile)...:   0%|                                        | 6/14207 [00:00<00:21, 666.45it/s]\u001b[A\n",
      " 22%|█████████████████                                                            | 291/1310 [03:18<14:26,  1.18it/s]\n",
      ">>> Finding TAO railcar_(part_of_a_train)...: 100%|█████████████████████████████████| 20/20 [00:00<00:00, 606.59it/s]\u001b[A\n",
      "\n",
      ">>> Finding TAO railcar_(part_of_a_train)...: 100%|█████████████████████████████████| 20/20 [00:00<00:00, 624.95it/s]\u001b[A"
     ]
    },
    {
     "name": "stdout",
     "output_type": "stream",
     "text": [
      "[Errno 2] No such file or directory: 'D:/external_datasets/TAO/TAO_DIR/frames/val/ArgoVerse/side_left_da734d26-8229-383f-b685-8086e58d1e05/ring_side_left_315967929016037936.jpg'\n",
      "\n",
      ">> railcar_(part_of_a_train)...\n",
      "TAO\n",
      "[Errno 2] No such file or directory: 'D:/external_datasets/TAO/TAO_DIR/frames/val/YFCC100M/v_513e50c31f11f0bdbeb599a811aa1413/frame1177.jpeg'\n",
      ">>>> #WARNING: No file found for: TAO railcar_(part_of_a_train)...\n",
      "[Errno 2] No such file or directory: 'D:/external_datasets/TAO/TAO_DIR/frames/val/YFCC100M/v_513e50c31f11f0bdbeb599a811aa1413/frame1057.jpeg'\n"
     ]
    },
    {
     "name": "stderr",
     "output_type": "stream",
     "text": [
      "\n",
      "\n",
      ">>> Finding TAO railcar_(part_of_a_train)...: 100%|█████████████████████████████████| 20/20 [00:00<00:00, 645.18it/s]\u001b[A\n",
      "\n",
      ">>> Finding TAO railcar_(part_of_a_train)...: 100%|█████████████████████████████████| 20/20 [00:00<00:00, 645.14it/s]\u001b[A\n",
      "\n",
      ">>> Finding TAO railcar_(part_of_a_train)...: 100%|█████████████████████████████████| 20/20 [00:00<00:00, 644.37it/s]\u001b[A\n",
      "\n",
      ">>> Finding TAO railcar_(part_of_a_train)...: 100%|█████████████████████████████████| 20/20 [00:00<00:00, 666.17it/s]\u001b[A\n",
      "\n",
      ">>> Finding TAO railcar_(part_of_a_train)...: 100%|█████████████████████████████████| 20/20 [00:00<00:00, 666.71it/s]\u001b[A\n"
     ]
    },
    {
     "name": "stdout",
     "output_type": "stream",
     "text": [
      ">>>> #WARNING: No file found for: TAO railcar_(part_of_a_train)...\n",
      "[Errno 2] No such file or directory: 'D:/external_datasets/TAO/TAO_DIR/frames/val/YFCC100M/v_513e50c31f11f0bdbeb599a811aa1413/frame1081.jpeg'\n",
      ">>>> #WARNING: No file found for: TAO railcar_(part_of_a_train)...\n",
      "[Errno 2] No such file or directory: 'D:/external_datasets/TAO/TAO_DIR/frames/val/YFCC100M/v_513e50c31f11f0bdbeb599a811aa1413/frame1201.jpeg'\n",
      ">>>> #WARNING: No file found for: TAO railcar_(part_of_a_train)...\n",
      "[Errno 2] No such file or directory: 'D:/external_datasets/TAO/TAO_DIR/frames/val/YFCC100M/v_513e50c31f11f0bdbeb599a811aa1413/frame1225.jpeg'\n",
      ">>>> #WARNING: No file found for: TAO railcar_(part_of_a_train)...\n",
      "[Errno 2] No such file or directory: 'D:/external_datasets/TAO/TAO_DIR/frames/val/YFCC100M/v_513e50c31f11f0bdbeb599a811aa1413/frame1177.jpeg'\n",
      ">>>> #WARNING: No file found for: TAO railcar_(part_of_a_train)...\n",
      "[Errno 2] No such file or directory: 'D:/external_datasets/TAO/TAO_DIR/frames/val/YFCC100M/v_513e50c31f11f0bdbeb599a811aa1413/frame1129.jpeg'\n",
      ">>>> #WARNING: No file found for: TAO railcar_(part_of_a_train)...\n"
     ]
    },
    {
     "name": "stderr",
     "output_type": "stream",
     "text": [
      "\n",
      ">>> Finding TAO railcar_(part_of_a_train)...: 100%|█████████████████████████████████| 20/20 [00:00<00:00, 645.02it/s]\u001b[A\n",
      "\n",
      ">>> Finding TAO railcar_(part_of_a_train)...: 100%|█████████████████████████████████| 20/20 [00:00<00:00, 666.48it/s]\u001b[A\n",
      "\n",
      ">>> Finding TAO railcar_(part_of_a_train)...: 100%|█████████████████████████████████| 20/20 [00:00<00:00, 644.26it/s]\u001b[A\n",
      " 22%|█████████████████▏                                                           | 292/1310 [03:18<12:20,  1.38it/s]"
     ]
    },
    {
     "name": "stdout",
     "output_type": "stream",
     "text": [
      "[Errno 2] No such file or directory: 'D:/external_datasets/TAO/TAO_DIR/frames/val/YFCC100M/v_513e50c31f11f0bdbeb599a811aa1413/frame1249.jpeg'\n",
      ">>>> #WARNING: No file found for: TAO railcar_(part_of_a_train)...\n",
      "[Errno 2] No such file or directory: 'D:/external_datasets/TAO/TAO_DIR/frames/val/YFCC100M/v_513e50c31f11f0bdbeb599a811aa1413/frame1297.jpeg'\n",
      ">>>> #WARNING: No file found for: TAO railcar_(part_of_a_train)...\n",
      "[Errno 2] No such file or directory: 'D:/external_datasets/TAO/TAO_DIR/frames/val/YFCC100M/v_513e50c31f11f0bdbeb599a811aa1413/frame1249.jpeg'\n",
      ">>>> #WARNING: No file found for: TAO railcar_(part_of_a_train)...\n",
      "\n",
      ">> elevator_car...\n",
      ">>>> #WARNING elevator_car is missing from json annotations\n",
      "annotations datasets:  []\n",
      "annotations imgids:  []\n",
      "annotations bbox:  []\n",
      "\n",
      ">> car_battery...\n",
      "TAO\n"
     ]
    },
    {
     "name": "stderr",
     "output_type": "stream",
     "text": [
      " 22%|█████████████████▎                                                           | 294/1310 [03:19<10:44,  1.58it/s]"
     ]
    },
    {
     "name": "stdout",
     "output_type": "stream",
     "text": [
      "\n",
      ">> identity_card...\n",
      ">>>> #WARNING identity_card is missing from json annotations\n",
      "annotations datasets:  []\n",
      "annotations imgids:  []\n",
      "annotations bbox:  []\n",
      "\n",
      ">> card...\n",
      ">>>> #WARNING card is missing from json annotations\n",
      "annotations datasets:  []\n",
      "annotations imgids:  []\n",
      "annotations bbox:  []\n",
      "\n",
      ">> cardigan...\n",
      ">>>> #WARNING cardigan is missing from json annotations\n",
      "annotations datasets:  []\n",
      "annotations imgids:  []\n",
      "annotations bbox:  []\n",
      "\n",
      ">> cargo_ship...\n",
      ">>>> #WARNING cargo_ship is missing from json annotations\n",
      "annotations datasets:  []\n",
      "annotations imgids:  []\n",
      "annotations bbox:  []\n",
      "\n",
      ">> carnation...\n",
      ">>>> #WARNING carnation is missing from json annotations\n",
      "annotations datasets:  []\n",
      "annotations imgids:  []\n",
      "annotations bbox:  []\n",
      "\n",
      ">> horse_carriage...\n",
      ">>>> #WARNING horse_carriage is missing from json annotations\n",
      "annotations datasets:  []\n",
      "annotations imgids:  []\n",
      "annotations bbox:  []\n",
      "\n",
      ">> carrot...\n",
      "TAO\n"
     ]
    },
    {
     "name": "stderr",
     "output_type": "stream",
     "text": [
      " 23%|█████████████████▋                                                           | 301/1310 [03:21<08:35,  1.96it/s]"
     ]
    },
    {
     "name": "stdout",
     "output_type": "stream",
     "text": [
      "\n",
      ">> tote_bag...\n",
      ">>>> #WARNING tote_bag is missing from json annotations\n",
      "annotations datasets:  []\n",
      "annotations imgids:  []\n",
      "annotations bbox:  []\n",
      "\n",
      ">> cart...\n",
      ">>>> #WARNING cart is missing from json annotations\n",
      "annotations datasets:  []\n",
      "annotations imgids:  []\n",
      "annotations bbox:  []\n",
      "\n",
      ">> carton...\n",
      "TAO\n"
     ]
    },
    {
     "name": "stderr",
     "output_type": "stream",
     "text": [
      " 23%|█████████████████▊                                                           | 304/1310 [03:23<09:30,  1.76it/s]\n",
      ">>> Finding TAO cat...:   0%|                                                               | 0/1004 [00:00<?, ?it/s]\u001b[A\n"
     ]
    },
    {
     "name": "stdout",
     "output_type": "stream",
     "text": [
      "\n",
      ">> cash_register...\n",
      ">>>> #WARNING cash_register is missing from json annotations\n",
      "annotations datasets:  []\n",
      "annotations imgids:  []\n",
      "annotations bbox:  []\n",
      "\n",
      ">> casserole...\n",
      ">>>> #WARNING casserole is missing from json annotations\n",
      "annotations datasets:  []\n",
      "annotations imgids:  []\n",
      "annotations bbox:  []\n",
      "\n",
      ">> cassette...\n",
      ">>>> #WARNING cassette is missing from json annotations\n",
      "annotations datasets:  []\n",
      "annotations imgids:  []\n",
      "annotations bbox:  []\n",
      "\n",
      ">> cast...\n",
      ">>>> #WARNING cast is missing from json annotations\n",
      "annotations datasets:  []\n",
      "annotations imgids:  []\n",
      "annotations bbox:  []\n",
      "\n",
      ">> cat...\n",
      "TAO\n",
      "[Errno 2] No such file or directory: 'D:/external_datasets/TAO/TAO_DIR/frames/val/YFCC100M/v_8d62fe522547e0c841c61d3dcfb5a63b/frame1441.jpeg'\n"
     ]
    },
    {
     "name": "stderr",
     "output_type": "stream",
     "text": [
      "\n",
      ">>> Finding TAO cat...:   0%|                                                       | 1/1004 [00:00<01:01, 16.40it/s]\u001b[A"
     ]
    },
    {
     "name": "stdout",
     "output_type": "stream",
     "text": [
      "[Errno 2] No such file or directory: 'D:/external_datasets/TAO/TAO_DIR/frames/val/YFCC100M/v_8d62fe522547e0c841c61d3dcfb5a63b/frame1831.jpeg'\n"
     ]
    },
    {
     "name": "stderr",
     "output_type": "stream",
     "text": [
      "\n",
      " 24%|██████████████████▏                                                          | 309/1310 [03:25<08:29,  1.97it/s]\n",
      ">>> Finding TAO cellular_telephone...:   0%|                                        | 5/1902 [00:00<00:41, 45.21it/s]\u001b[A\n"
     ]
    },
    {
     "name": "stdout",
     "output_type": "stream",
     "text": [
      "\n",
      ">> cauliflower...\n",
      ">>>> #WARNING cauliflower is missing from json annotations\n",
      "annotations datasets:  []\n",
      "annotations imgids:  []\n",
      "annotations bbox:  []\n",
      "\n",
      ">> caviar...\n",
      ">>>> #WARNING caviar is missing from json annotations\n",
      "annotations datasets:  []\n",
      "annotations imgids:  []\n",
      "annotations bbox:  []\n",
      "\n",
      ">> cayenne_(spice)...\n",
      ">>>> #WARNING cayenne_(spice) is missing from json annotations\n",
      "annotations datasets:  []\n",
      "annotations imgids:  []\n",
      "annotations bbox:  []\n",
      "\n",
      ">> CD_player...\n",
      ">>>> #WARNING CD_player is missing from json annotations\n",
      "annotations datasets:  []\n",
      "annotations imgids:  []\n",
      "annotations bbox:  []\n",
      "\n",
      ">> celery...\n",
      ">>>> #WARNING celery is missing from json annotations\n",
      "annotations datasets:  []\n",
      "annotations imgids:  []\n",
      "annotations bbox:  []\n",
      "\n",
      ">> cellular_telephone...\n",
      "TAO\n",
      "[Errno 2] No such file or directory: 'D:/external_datasets/TAO/TAO_DIR/frames/val/AVA/Ekwy7wzLfjc_scene_10_52631-55141/frame1001.jpg'\n"
     ]
    },
    {
     "name": "stderr",
     "output_type": "stream",
     "text": [
      "\n",
      ">>> Finding TAO cellular_telephone...:   0%|▏                                       | 6/1902 [00:00<00:37, 50.23it/s]\u001b[A"
     ]
    },
    {
     "name": "stdout",
     "output_type": "stream",
     "text": [
      "[Errno 2] No such file or directory: 'D:/external_datasets/TAO/TAO_DIR/frames/val/AVA/G0gDuIVKiXg_scene_5_18591-20722/frame1177.jpg'\n"
     ]
    },
    {
     "name": "stderr",
     "output_type": "stream",
     "text": [
      "\n",
      "\n",
      ">>> Finding TAO cellular_telephone...:   0%|▏                                       | 7/1902 [00:00<00:20, 91.53it/s]\u001b[A"
     ]
    },
    {
     "name": "stdout",
     "output_type": "stream",
     "text": [
      "[Errno 2] No such file or directory: 'D:/external_datasets/TAO/TAO_DIR/frames/val/AVA/G0gDuIVKiXg_scene_17_48285-50094/frame1033.jpg'\n"
     ]
    },
    {
     "name": "stderr",
     "output_type": "stream",
     "text": [
      "\n",
      " 24%|██████████████████▌                                                          | 315/1310 [03:27<07:37,  2.18it/s]"
     ]
    },
    {
     "name": "stdout",
     "output_type": "stream",
     "text": [
      "\n",
      ">> chain_mail...\n",
      "TAO\n"
     ]
    },
    {
     "name": "stderr",
     "output_type": "stream",
     "text": [
      " 24%|██████████████████▌                                                          | 316/1310 [03:28<13:42,  1.21it/s]"
     ]
    },
    {
     "name": "stdout",
     "output_type": "stream",
     "text": [
      "\n",
      ">> chair...\n",
      "TAO\n"
     ]
    },
    {
     "name": "stderr",
     "output_type": "stream",
     "text": [
      "\n",
      ">>> Finding TAO chair...:   0%|                                                              | 0/510 [00:00<?, ?it/s]\u001b[A\n",
      "\n"
     ]
    },
    {
     "name": "stdout",
     "output_type": "stream",
     "text": [
      "[Errno 2] No such file or directory: 'D:/external_datasets/TAO/TAO_DIR/frames/val/YFCC100M/v_6925f1f62bce28e7e74858c7477809e/frame1411.jpeg'\n",
      "[Errno 2] No such file or directory: 'D:/external_datasets/TAO/TAO_DIR/frames/val/AVA/GElolK2jG50_scene_3_65329-66607/frame1021.jpg'\n"
     ]
    },
    {
     "name": "stderr",
     "output_type": "stream",
     "text": [
      ">>> Finding TAO chair...:   0%|                                                      | 1/510 [00:00<00:37, 13.62it/s]\u001b[A\n",
      "\n",
      ">>> Finding TAO chair...:   0%|▏                                                     | 2/510 [00:00<00:15, 31.99it/s]\u001b[A"
     ]
    },
    {
     "name": "stdout",
     "output_type": "stream",
     "text": [
      "[Errno 2] No such file or directory: 'D:/external_datasets/TAO/TAO_DIR/frames/val/Charades/0J1AQ/frame0987.jpg'\n"
     ]
    },
    {
     "name": "stderr",
     "output_type": "stream",
     "text": [
      "\n",
      " 24%|██████████████████▋                                                          | 317/1310 [03:30<19:52,  1.20s/it]"
     ]
    },
    {
     "name": "stdout",
     "output_type": "stream",
     "text": [
      "\n",
      ">> chaise_longue...\n",
      ">>>> #WARNING chaise_longue is missing from json annotations\n",
      "annotations datasets:  []\n",
      "annotations imgids:  []\n",
      "annotations bbox:  []\n",
      "\n",
      ">> champagne...\n",
      ">>>> #WARNING champagne is missing from json annotations\n",
      "annotations datasets:  []\n",
      "annotations imgids:  []\n",
      "annotations bbox:  []\n",
      "\n",
      ">> chandelier...\n",
      ">>>> #WARNING chandelier is missing from json annotations\n",
      "annotations datasets:  []\n",
      "annotations imgids:  []\n",
      "annotations bbox:  []\n",
      "\n",
      ">> chap...\n",
      ">>>> #WARNING chap is missing from json annotations\n",
      "annotations datasets:  []\n",
      "annotations imgids:  []\n",
      "annotations bbox:  []\n",
      "\n",
      ">> checkbook...\n",
      ">>>> #WARNING checkbook is missing from json annotations\n",
      "annotations datasets:  []\n",
      "annotations imgids:  []\n",
      "annotations bbox:  []\n",
      "\n",
      ">> checkerboard...\n",
      ">>>> #WARNING checkerboard is missing from json annotations\n",
      "annotations datasets:  []\n",
      "annotations imgids:  []\n",
      "annotations bbox:  []\n",
      "\n",
      ">> cherry...\n",
      ">>>> #WARNING cherry is missing from json annotations\n",
      "annotations datasets:  []\n",
      "annotations imgids:  []\n",
      "annotations bbox:  []\n",
      "\n",
      ">> chessboard...\n",
      ">>>> #WARNING chessboard is missing from json annotations\n",
      "annotations datasets:  []\n",
      "annotations imgids:  []\n",
      "annotations bbox:  []\n",
      "\n",
      ">> chest_of_drawers_(furniture)...\n",
      ">>>> #WARNING chest_of_drawers_(furniture) is missing from json annotations\n",
      "annotations datasets:  []\n",
      "annotations imgids:  []\n",
      "annotations bbox:  []\n",
      "\n",
      ">> chicken_(animal)...\n",
      "TAO\n"
     ]
    },
    {
     "name": "stderr",
     "output_type": "stream",
     "text": [
      " 25%|███████████████████▏                                                         | 327/1310 [03:32<14:39,  1.12it/s]"
     ]
    },
    {
     "name": "stdout",
     "output_type": "stream",
     "text": [
      "\n",
      ">> chicken_wire...\n",
      ">>>> #WARNING chicken_wire is missing from json annotations\n",
      "annotations datasets:  []\n",
      "annotations imgids:  []\n",
      "annotations bbox:  []\n",
      "\n",
      ">> chickpea...\n",
      ">>>> #WARNING chickpea is missing from json annotations\n",
      "annotations datasets:  []\n",
      "annotations imgids:  []\n",
      "annotations bbox:  []\n",
      "\n",
      ">> Chihuahua...\n",
      ">>>> #WARNING Chihuahua is missing from json annotations\n",
      "annotations datasets:  []\n",
      "annotations imgids:  []\n",
      "annotations bbox:  []\n",
      "\n",
      ">> chili_(vegetable)...\n",
      ">>>> #WARNING chili_(vegetable) is missing from json annotations\n",
      "annotations datasets:  []\n",
      "annotations imgids:  []\n",
      "annotations bbox:  []\n",
      "\n",
      ">> chime...\n",
      ">>>> #WARNING chime is missing from json annotations\n",
      "annotations datasets:  []\n",
      "annotations imgids:  []\n",
      "annotations bbox:  []\n",
      "\n",
      ">> chinaware...\n",
      ">>>> #WARNING chinaware is missing from json annotations\n",
      "annotations datasets:  []\n",
      "annotations imgids:  []\n",
      "annotations bbox:  []\n",
      "\n",
      ">> crisp_(potato_chip)...\n",
      "TAO\n"
     ]
    },
    {
     "name": "stderr",
     "output_type": "stream",
     "text": [
      " 25%|███████████████████▋                                                         | 334/1310 [03:35<11:46,  1.38it/s]"
     ]
    },
    {
     "name": "stdout",
     "output_type": "stream",
     "text": [
      "\n",
      ">> poker_chip...\n",
      ">>>> #WARNING poker_chip is missing from json annotations\n",
      "annotations datasets:  []\n",
      "annotations imgids:  []\n",
      "annotations bbox:  []\n",
      "\n",
      ">> chocolate_bar...\n",
      ">>>> #WARNING chocolate_bar is missing from json annotations\n",
      "annotations datasets:  []\n",
      "annotations imgids:  []\n",
      "annotations bbox:  []\n",
      "\n",
      ">> chocolate_cake...\n",
      ">>>> #WARNING chocolate_cake is missing from json annotations\n",
      "annotations datasets:  []\n",
      "annotations imgids:  []\n",
      "annotations bbox:  []\n",
      "\n",
      ">> chocolate_milk...\n",
      ">>>> #WARNING chocolate_milk is missing from json annotations\n",
      "annotations datasets:  []\n",
      "annotations imgids:  []\n",
      "annotations bbox:  []\n",
      "\n",
      ">> chocolate_mousse...\n",
      ">>>> #WARNING chocolate_mousse is missing from json annotations\n",
      "annotations datasets:  []\n",
      "annotations imgids:  []\n",
      "annotations bbox:  []\n",
      "\n",
      ">> choker...\n",
      ">>>> #WARNING choker is missing from json annotations\n",
      "annotations datasets:  []\n",
      "annotations imgids:  []\n",
      "annotations bbox:  []\n",
      "\n",
      ">> chopping_board...\n",
      ">>>> #WARNING chopping_board is missing from json annotations\n",
      "annotations datasets:  []\n",
      "annotations imgids:  []\n",
      "annotations bbox:  []\n",
      "\n",
      ">> chopstick...\n",
      "TAO\n"
     ]
    },
    {
     "name": "stderr",
     "output_type": "stream",
     "text": [
      "\n",
      ">>> Finding TAO chopstick...:   0%|                                                           | 0/64 [00:00<?, ?it/s]\u001b[A"
     ]
    },
    {
     "name": "stdout",
     "output_type": "stream",
     "text": [
      "[Errno 2] No such file or directory: 'D:/external_datasets/TAO/TAO_DIR/frames/train/AVA/QotkBTEePI8_scene_2_24728-26072/frame1081.jpg'\n"
     ]
    },
    {
     "name": "stderr",
     "output_type": "stream",
     "text": [
      "\n",
      "\n",
      ">>> Finding TAO chopstick...:   2%|▊                                                  | 1/64 [00:00<00:01, 50.07it/s]\u001b[A\n",
      " 26%|████████████████████                                                         | 342/1310 [03:37<09:30,  1.70it/s]"
     ]
    },
    {
     "name": "stdout",
     "output_type": "stream",
     "text": [
      "[Errno 2] No such file or directory: 'D:/external_datasets/TAO/TAO_DIR/frames/train/AVA/QotkBTEePI8_scene_2_24728-26072/frame1105.jpg'\n",
      "\n",
      ">> Christmas_tree...\n",
      ">>>> #WARNING Christmas_tree is missing from json annotations\n",
      "annotations datasets:  []\n",
      "annotations imgids:  []\n",
      "annotations bbox:  []\n",
      "\n",
      ">> slide...\n",
      ">>>> #WARNING slide is missing from json annotations\n",
      "annotations datasets:  []\n",
      "annotations imgids:  []\n",
      "annotations bbox:  []\n",
      "\n",
      ">> cider...\n",
      ">>>> #WARNING cider is missing from json annotations\n",
      "annotations datasets:  []\n",
      "annotations imgids:  []\n",
      "annotations bbox:  []\n",
      "\n",
      ">> cigar_box...\n",
      "TAO\n"
     ]
    },
    {
     "name": "stderr",
     "output_type": "stream",
     "text": [
      "\n",
      ">>> Finding TAO cigarette...:   0%|▏                                                 | 1/201 [00:00<00:09, 21.28it/s]\u001b[A"
     ]
    },
    {
     "name": "stdout",
     "output_type": "stream",
     "text": [
      "[Errno 2] No such file or directory: 'D:/external_datasets/TAO/TAO_DIR/frames/val/AVA/AYebXQ8eUkM_scene_4_45903-47047/frame1001.jpg'\n"
     ]
    },
    {
     "name": "stderr",
     "output_type": "stream",
     "text": [
      "\n",
      "\n",
      ">>> Finding TAO cigarette...:   1%|▋                                                 | 3/201 [00:00<00:04, 43.47it/s]\u001b[A"
     ]
    },
    {
     "name": "stdout",
     "output_type": "stream",
     "text": [
      "[Errno 2] No such file or directory: 'D:/external_datasets/TAO/TAO_DIR/frames/val/ArgoVerse/ff78e1a3-6deb-34a4-9a1f-b85e34980f06/ring_front_center_315972200029709680.jpg'\n"
     ]
    },
    {
     "name": "stderr",
     "output_type": "stream",
     "text": [
      "\n",
      "\n",
      ">>> Finding TAO cigarette...:   2%|▉                                                 | 4/201 [00:00<00:03, 53.33it/s]\u001b[A\n",
      " 26%|██████████████████▊                                                    | 347/1310 [1:26:34<70:09:44, 262.29s/it]"
     ]
    },
    {
     "name": "stdout",
     "output_type": "stream",
     "text": [
      "[Errno 2] No such file or directory: 'D:/external_datasets/TAO/TAO_DIR/frames/train/AVA/XOe9GeojzCs_scene_33_132653-134022/frame1201.jpg'\n",
      "\n",
      ">> cigarette_case...\n",
      "TAO\n"
     ]
    },
    {
     "name": "stderr",
     "output_type": "stream",
     "text": [
      " 27%|██████████████████▊                                                    | 348/1310 [1:26:35<49:07:57, 183.86s/it]"
     ]
    },
    {
     "name": "stdout",
     "output_type": "stream",
     "text": [
      "\n",
      ">> cistern...\n",
      ">>>> #WARNING cistern is missing from json annotations\n",
      "annotations datasets:  []\n",
      "annotations imgids:  []\n",
      "annotations bbox:  []\n",
      "\n",
      ">> clarinet...\n",
      ">>>> #WARNING clarinet is missing from json annotations\n",
      "annotations datasets:  []\n",
      "annotations imgids:  []\n",
      "annotations bbox:  []\n",
      "\n",
      ">> clasp...\n",
      ">>>> #WARNING clasp is missing from json annotations\n",
      "annotations datasets:  []\n",
      "annotations imgids:  []\n",
      "annotations bbox:  []\n",
      "\n",
      ">> cleansing_agent...\n",
      ">>>> #WARNING cleansing_agent is missing from json annotations\n",
      "annotations datasets:  []\n",
      "annotations imgids:  []\n",
      "annotations bbox:  []\n",
      "\n",
      ">> clementine...\n",
      ">>>> #WARNING clementine is missing from json annotations\n",
      "annotations datasets:  []\n",
      "annotations imgids:  []\n",
      "annotations bbox:  []\n",
      "\n",
      ">> clip...\n",
      "TAO\n"
     ]
    },
    {
     "name": "stderr",
     "output_type": "stream",
     "text": [
      " 27%|███████████████████▏                                                   | 354/1310 [1:26:37<34:12:12, 128.80s/it]"
     ]
    },
    {
     "name": "stdout",
     "output_type": "stream",
     "text": [
      "\n",
      ">> clipboard...\n",
      "TAO\n"
     ]
    },
    {
     "name": "stderr",
     "output_type": "stream",
     "text": [
      "\n",
      ">>> Finding TAO clipboard...:   0%|                                                           | 0/66 [00:00<?, ?it/s]\u001b[A\n",
      ">>> Finding TAO clipboard...:  23%|███████████▏                                     | 15/66 [00:00<00:00, 142.87it/s]\u001b[A"
     ]
    },
    {
     "name": "stdout",
     "output_type": "stream",
     "text": [
      "[Errno 2] No such file or directory: 'D:/external_datasets/TAO/TAO_DIR/frames/val/AVA/GElolK2jG50_scene_7_135593-137130/frame1321.jpg'\n"
     ]
    },
    {
     "name": "stderr",
     "output_type": "stream",
     "text": [
      ">>> Finding TAO clipboard...:  42%|████████████████████▊                            | 28/66 [00:00<00:00, 116.67it/s]\n",
      "\n",
      ">>> Finding TAO clipboard...:  44%|█████████████████████▌                           | 29/66 [00:00<00:00, 190.79it/s]\u001b[A"
     ]
    },
    {
     "name": "stdout",
     "output_type": "stream",
     "text": [
      "[Errno 2] No such file or directory: 'D:/external_datasets/TAO/TAO_DIR/frames/val/YFCC100M/v_e3919198858e7ac1a61aae1e486c7664/frame1921.jpeg'\n"
     ]
    },
    {
     "name": "stderr",
     "output_type": "stream",
     "text": [
      "\n",
      "\n",
      ">>> Finding TAO clipboard...:  47%|███████████████████████                          | 31/66 [00:00<00:00, 204.01it/s]\u001b[A"
     ]
    },
    {
     "name": "stdout",
     "output_type": "stream",
     "text": [
      "[Errno 2] No such file or directory: 'D:/external_datasets/TAO/TAO_DIR/frames/val/AVA/GElolK2jG50_scene_7_135593-137130/frame1051.jpg'\n"
     ]
    },
    {
     "name": "stderr",
     "output_type": "stream",
     "text": [
      "\n",
      "\n",
      ">>> Finding TAO clipboard...:   0%|                                                           | 0/66 [00:00<?, ?it/s]\u001b[A\n",
      ">>> Finding TAO clipboard...:  42%|████████████████████▊                            | 28/66 [00:00<00:00, 271.86it/s]\u001b[A"
     ]
    },
    {
     "name": "stdout",
     "output_type": "stream",
     "text": [
      "[Errno 2] No such file or directory: 'D:/external_datasets/TAO/TAO_DIR/frames/val/AVA/GElolK2jG50_scene_7_135593-137130/frame1231.jpg'\n"
     ]
    },
    {
     "name": "stderr",
     "output_type": "stream",
     "text": [
      ">>> Finding TAO clipboard...:  48%|███████████████████████▊                         | 32/66 [00:00<00:00, 129.04it/s]\n",
      "\n",
      ">>> Finding TAO clipboard...:   0%|                                                           | 0/66 [00:00<?, ?it/s]\u001b[A\n",
      ">>> Finding TAO clipboard...:  27%|█████████████▎                                   | 18/66 [00:00<00:00, 174.76it/s]\u001b[A"
     ]
    },
    {
     "name": "stdout",
     "output_type": "stream",
     "text": [
      "[Errno 2] No such file or directory: 'D:/external_datasets/TAO/TAO_DIR/frames/val/YFCC100M/v_e3919198858e7ac1a61aae1e486c7664/frame0871.jpeg'\n"
     ]
    },
    {
     "name": "stderr",
     "output_type": "stream",
     "text": [
      ">>> Finding TAO clipboard...:  52%|█████████████████████████▏                       | 34/66 [00:00<00:00, 122.74it/s]\n",
      "\n",
      ">>> Finding TAO clipboard...:   0%|                                                           | 0/66 [00:00<?, ?it/s]\u001b[A"
     ]
    },
    {
     "name": "stdout",
     "output_type": "stream",
     "text": [
      "[Errno 2] No such file or directory: 'D:/external_datasets/TAO/TAO_DIR/frames/val/YFCC100M/v_e3919198858e7ac1a61aae1e486c7664/frame0811.jpeg'\n"
     ]
    },
    {
     "name": "stderr",
     "output_type": "stream",
     "text": [
      ">>> Finding TAO clipboard...:  53%|█████████████████████████▉                       | 35/66 [00:00<00:00, 189.19it/s]\n",
      " 27%|███████████████████▌                                                    | 355/1310 [1:26:41<24:15:15, 91.43s/it]"
     ]
    },
    {
     "name": "stdout",
     "output_type": "stream",
     "text": [
      "\n",
      ">> clock...\n",
      ">>>> #WARNING clock is missing from json annotations\n",
      "annotations datasets:  []\n",
      "annotations imgids:  []\n",
      "annotations bbox:  []\n",
      "\n",
      ">> clock_tower...\n",
      ">>>> #WARNING clock_tower is missing from json annotations\n",
      "annotations datasets:  []\n",
      "annotations imgids:  []\n",
      "annotations bbox:  []\n",
      "\n",
      ">> clothes_hamper...\n",
      ">>>> #WARNING clothes_hamper is missing from json annotations\n",
      "annotations datasets:  []\n",
      "annotations imgids:  []\n",
      "annotations bbox:  []\n",
      "\n",
      ">> clothespin...\n",
      ">>>> #WARNING clothespin is missing from json annotations\n",
      "annotations datasets:  []\n",
      "annotations imgids:  []\n",
      "annotations bbox:  []\n",
      "\n",
      ">> clutch_bag...\n",
      "TAO\n"
     ]
    },
    {
     "name": "stderr",
     "output_type": "stream",
     "text": [
      " 27%|███████████████████▊                                                    | 360/1310 [1:27:11<17:21:11, 65.76s/it]"
     ]
    },
    {
     "name": "stdout",
     "output_type": "stream",
     "text": [
      "\n",
      ">> coaster...\n",
      ">>>> #WARNING coaster is missing from json annotations\n",
      "annotations datasets:  []\n",
      "annotations imgids:  []\n",
      "annotations bbox:  []\n",
      "\n",
      ">> coat...\n",
      "TAO\n"
     ]
    },
    {
     "name": "stderr",
     "output_type": "stream",
     "text": [
      " 28%|███████████████████▉                                                    | 362/1310 [1:27:13<12:13:44, 46.44s/it]\n",
      ">>> Finding TAO coat_hanger...: 100%|██████████████████████████████████████████████████████████| 4/4 [00:00<?, ?it/s]\u001b[A\n",
      "\n",
      ">>> Finding TAO coat_hanger...: 100%|██████████████████████████████████████████████████████████| 4/4 [00:00<?, ?it/s]\u001b[A\n",
      "\n",
      ">>> Finding TAO coat_hanger...: 100%|██████████████████████████████████████████████████████████| 4/4 [00:00<?, ?it/s]\u001b[A\n",
      "\n",
      ">>> Finding TAO coat_hanger...: 100%|████████████████████████████████████████████████| 4/4 [00:00<00:00, 3956.89it/s]\u001b[A\n",
      " 28%|████████████████████▌                                                    | 368/1310 [1:27:13<8:30:26, 32.51s/it]"
     ]
    },
    {
     "name": "stdout",
     "output_type": "stream",
     "text": [
      "\n",
      ">> coat_hanger...\n",
      "TAO\n",
      "[Errno 2] No such file or directory: 'D:/external_datasets/TAO/TAO_DIR/frames/val/HACS/Ironing_clothes_v_o03Adr3laMA_scene_0_1736-3822/frame1111.jpg'\n",
      ">>>> #WARNING: No file found for: TAO coat_hanger...\n",
      "[Errno 2] No such file or directory: 'D:/external_datasets/TAO/TAO_DIR/frames/val/HACS/Ironing_clothes_v_o03Adr3laMA_scene_0_1736-3822/frame1171.jpg'\n",
      ">>>> #WARNING: No file found for: TAO coat_hanger...\n",
      "[Errno 2] No such file or directory: 'D:/external_datasets/TAO/TAO_DIR/frames/val/HACS/Ironing_clothes_v_o03Adr3laMA_scene_0_1736-3822/frame1081.jpg'\n",
      ">>>> #WARNING: No file found for: TAO coat_hanger...\n",
      "[Errno 2] No such file or directory: 'D:/external_datasets/TAO/TAO_DIR/frames/val/HACS/Ironing_clothes_v_o03Adr3laMA_scene_0_1736-3822/frame1141.jpg'\n",
      ">>>> #WARNING: No file found for: TAO coat_hanger...\n",
      "\n",
      ">> coatrack...\n",
      ">>>> #WARNING coatrack is missing from json annotations\n",
      "annotations datasets:  []\n",
      "annotations imgids:  []\n",
      "annotations bbox:  []\n",
      "\n",
      ">> cock...\n",
      ">>>> #WARNING cock is missing from json annotations\n",
      "annotations datasets:  []\n",
      "annotations imgids:  []\n",
      "annotations bbox:  []\n",
      "\n",
      ">> coconut...\n",
      ">>>> #WARNING coconut is missing from json annotations\n",
      "annotations datasets:  []\n",
      "annotations imgids:  []\n",
      "annotations bbox:  []\n",
      "\n",
      ">> coffee_filter...\n",
      ">>>> #WARNING coffee_filter is missing from json annotations\n",
      "annotations datasets:  []\n",
      "annotations imgids:  []\n",
      "annotations bbox:  []\n",
      "\n",
      ">> coffee_maker...\n",
      ">>>> #WARNING coffee_maker is missing from json annotations\n",
      "annotations datasets:  []\n",
      "annotations imgids:  []\n",
      "annotations bbox:  []\n",
      "\n",
      ">> coffee_table...\n",
      "TAO\n",
      "\n",
      ">> coffeepot...\n",
      "TAO\n"
     ]
    },
    {
     "name": "stderr",
     "output_type": "stream",
     "text": [
      " 28%|████████████████████▌                                                    | 370/1310 [1:27:18<6:06:27, 23.39s/it]"
     ]
    },
    {
     "name": "stdout",
     "output_type": "stream",
     "text": [
      "\n",
      ">> coil...\n",
      ">>>> #WARNING coil is missing from json annotations\n",
      "annotations datasets:  []\n",
      "annotations imgids:  []\n",
      "annotations bbox:  []\n",
      "\n",
      ">> coin...\n",
      "TAO\n"
     ]
    },
    {
     "name": "stderr",
     "output_type": "stream",
     "text": [
      " 28%|████████████████████▋                                                    | 372/1310 [1:27:20<4:20:44, 16.68s/it]\n",
      ">>> Finding TAO pacifier...: 100%|██████████████████████████████████████████████████| 33/33 [00:00<00:00, 374.75it/s]\u001b[A\n",
      "\n",
      ">>> Finding TAO pacifier...:   0%|                                                            | 0/33 [00:00<?, ?it/s]\u001b[A"
     ]
    },
    {
     "name": "stdout",
     "output_type": "stream",
     "text": [
      "\n",
      ">> colander...\n",
      ">>>> #WARNING colander is missing from json annotations\n",
      "annotations datasets:  []\n",
      "annotations imgids:  []\n",
      "annotations bbox:  []\n",
      "\n",
      ">> coleslaw...\n",
      ">>>> #WARNING coleslaw is missing from json annotations\n",
      "annotations datasets:  []\n",
      "annotations imgids:  []\n",
      "annotations bbox:  []\n",
      "\n",
      ">> coloring_material...\n",
      ">>>> #WARNING coloring_material is missing from json annotations\n",
      "annotations datasets:  []\n",
      "annotations imgids:  []\n",
      "annotations bbox:  []\n",
      "\n",
      ">> combination_lock...\n",
      ">>>> #WARNING combination_lock is missing from json annotations\n",
      "annotations datasets:  []\n",
      "annotations imgids:  []\n",
      "annotations bbox:  []\n",
      "\n",
      ">> pacifier...\n",
      "TAO\n",
      "[Errno 2] No such file or directory: 'D:/external_datasets/TAO/TAO_DIR/frames/val/YFCC100M/v_fb3ff66ed1fba99274360a5129a939/frame1009.jpeg'\n",
      ">>>> #WARNING: No file found for: TAO pacifier...\n",
      "[Errno 2] No such file or directory: 'D:/external_datasets/TAO/TAO_DIR/frames/val/YFCC100M/v_fb3ff66ed1fba99274360a5129a939/frame0793.jpeg'\n"
     ]
    },
    {
     "name": "stderr",
     "output_type": "stream",
     "text": [
      ">>> Finding TAO pacifier...: 100%|██████████████████████████████████████████████████| 33/33 [00:00<00:00, 388.23it/s]\n",
      "\n",
      ">>> Finding TAO pacifier...: 100%|██████████████████████████████████████████████████| 33/33 [00:00<00:00, 392.87it/s]\u001b[A\n",
      "\n",
      ">>> Finding TAO pacifier...: 100%|██████████████████████████████████████████████████| 33/33 [00:00<00:00, 392.86it/s]\u001b[A"
     ]
    },
    {
     "name": "stdout",
     "output_type": "stream",
     "text": [
      ">>>> #WARNING: No file found for: TAO pacifier...\n",
      "[Errno 2] No such file or directory: 'D:/external_datasets/TAO/TAO_DIR/frames/val/YFCC100M/v_fb3ff66ed1fba99274360a5129a939/frame0265.jpeg'\n",
      ">>>> #WARNING: No file found for: TAO pacifier...\n",
      "[Errno 2] No such file or directory: 'D:/external_datasets/TAO/TAO_DIR/frames/val/YFCC100M/v_fb3ff66ed1fba99274360a5129a939/frame0193.jpeg'\n",
      ">>>> #WARNING: No file found for: TAO pacifier...\n"
     ]
    },
    {
     "name": "stderr",
     "output_type": "stream",
     "text": [
      "\n",
      "\n",
      ">>> Finding TAO pacifier...: 100%|██████████████████████████████████████████████████| 33/33 [00:00<00:00, 383.73it/s]\u001b[A\n",
      "\n",
      ">>> Finding TAO pacifier...: 100%|██████████████████████████████████████████████████| 33/33 [00:00<00:00, 412.50it/s]\u001b[A\n",
      "\n",
      ">>> Finding TAO pacifier...:   0%|                                                            | 0/33 [00:00<?, ?it/s]\u001b[A"
     ]
    },
    {
     "name": "stdout",
     "output_type": "stream",
     "text": [
      "[Errno 2] No such file or directory: 'D:/external_datasets/TAO/TAO_DIR/frames/val/YFCC100M/v_fb3ff66ed1fba99274360a5129a939/frame0985.jpeg'\n",
      ">>>> #WARNING: No file found for: TAO pacifier...\n",
      "[Errno 2] No such file or directory: 'D:/external_datasets/TAO/TAO_DIR/frames/val/YFCC100M/v_fb3ff66ed1fba99274360a5129a939/frame0745.jpeg'\n",
      ">>>> #WARNING: No file found for: TAO pacifier...\n",
      "[Errno 2] No such file or directory: 'D:/external_datasets/TAO/TAO_DIR/frames/val/YFCC100M/v_fb3ff66ed1fba99274360a5129a939/frame0385.jpeg'\n"
     ]
    },
    {
     "name": "stderr",
     "output_type": "stream",
     "text": [
      ">>> Finding TAO pacifier...: 100%|██████████████████████████████████████████████████| 33/33 [00:00<00:00, 412.51it/s]\n",
      "\n",
      ">>> Finding TAO pacifier...: 100%|██████████████████████████████████████████████████| 33/33 [00:00<00:00, 434.22it/s]\u001b[A\n",
      "\n",
      ">>> Finding TAO pacifier...: 100%|██████████████████████████████████████████████████| 33/33 [00:00<00:00, 417.45it/s]\u001b[A\n",
      "\n",
      ">>> Finding TAO pacifier...:   0%|                                                            | 0/33 [00:00<?, ?it/s]\u001b[A"
     ]
    },
    {
     "name": "stdout",
     "output_type": "stream",
     "text": [
      ">>>> #WARNING: No file found for: TAO pacifier...\n",
      "[Errno 2] No such file or directory: 'D:/external_datasets/TAO/TAO_DIR/frames/val/YFCC100M/v_fb3ff66ed1fba99274360a5129a939/frame0961.jpeg'\n",
      ">>>> #WARNING: No file found for: TAO pacifier...\n",
      "[Errno 2] No such file or directory: 'D:/external_datasets/TAO/TAO_DIR/frames/val/YFCC100M/v_fb3ff66ed1fba99274360a5129a939/frame0505.jpeg'\n",
      ">>>> #WARNING: No file found for: TAO pacifier...\n",
      "[Errno 2] No such file or directory: 'D:/external_datasets/TAO/TAO_DIR/frames/val/YFCC100M/v_fb3ff66ed1fba99274360a5129a939/frame0169.jpeg'\n"
     ]
    },
    {
     "name": "stderr",
     "output_type": "stream",
     "text": [
      ">>> Finding TAO pacifier...: 100%|██████████████████████████████████████████████████| 33/33 [00:00<00:00, 392.85it/s]\n",
      " 29%|█████████████████████                                                    | 377/1310 [1:27:21<3:02:26, 11.73s/it]\n",
      ">>> Finding TAO computer_keyboard...:   0%|                                                   | 0/69 [00:00<?, ?it/s]\u001b[A\n"
     ]
    },
    {
     "name": "stdout",
     "output_type": "stream",
     "text": [
      ">>>> #WARNING: No file found for: TAO pacifier...\n",
      "\n",
      ">> comic_book...\n",
      ">>>> #WARNING comic_book is missing from json annotations\n",
      "annotations datasets:  []\n",
      "annotations imgids:  []\n",
      "annotations bbox:  []\n",
      "\n",
      ">> computer_keyboard...\n",
      "TAO\n",
      "[Errno 2] No such file or directory: 'D:/external_datasets/TAO/TAO_DIR/frames/val/Charades/KRT78/frame1081.jpg'\n"
     ]
    },
    {
     "name": "stderr",
     "output_type": "stream",
     "text": [
      "\n",
      ">>> Finding TAO computer_keyboard...:   1%|▌                                          | 1/69 [00:00<00:03, 19.22it/s]\u001b[A"
     ]
    },
    {
     "name": "stdout",
     "output_type": "stream",
     "text": [
      "[Errno 2] No such file or directory: 'D:/external_datasets/TAO/TAO_DIR/frames/val/Charades/KRT78/frame1111.jpg'\n"
     ]
    },
    {
     "name": "stderr",
     "output_type": "stream",
     "text": [
      "\n",
      " 29%|█████████████████████                                                    | 379/1310 [1:27:22<2:11:25,  8.47s/it]"
     ]
    },
    {
     "name": "stdout",
     "output_type": "stream",
     "text": [
      "\n",
      ">> concrete_mixer...\n",
      ">>>> #WARNING concrete_mixer is missing from json annotations\n",
      "annotations datasets:  []\n",
      "annotations imgids:  []\n",
      "annotations bbox:  []\n",
      "\n",
      ">> cone...\n",
      "TAO\n"
     ]
    },
    {
     "name": "stderr",
     "output_type": "stream",
     "text": [
      " 29%|█████████████████████▏                                                   | 381/1310 [1:27:24<1:35:25,  6.16s/it]"
     ]
    },
    {
     "name": "stdout",
     "output_type": "stream",
     "text": [
      "\n",
      ">> control...\n",
      "TAO\n"
     ]
    },
    {
     "name": "stderr",
     "output_type": "stream",
     "text": [
      " 29%|█████████████████████▎                                                   | 382/1310 [1:27:26<1:15:52,  4.91s/it]\n",
      ">>> Finding TAO convertible_(automobile)...: 100%|█████████████████████████████████████████████| 6/6 [00:00<?, ?it/s]\u001b[A\n"
     ]
    },
    {
     "name": "stdout",
     "output_type": "stream",
     "text": [
      "\n",
      ">> convertible_(automobile)...\n",
      "TAO\n",
      "[Errno 2] No such file or directory: 'D:/external_datasets/TAO/TAO_DIR/frames/val/BDD/b2505382-272e7823/frame1741.jpg'\n",
      ">>>> #WARNING: No file found for: TAO convertible_(automobile)...\n"
     ]
    },
    {
     "name": "stderr",
     "output_type": "stream",
     "text": [
      "\n",
      ">>> Finding TAO convertible_(automobile)...: 100%|█████████████████████████████████████████████| 6/6 [00:00<?, ?it/s]\u001b[A\n",
      "\n",
      ">>> Finding TAO convertible_(automobile)...: 100%|█████████████████████████████████████████████| 6/6 [00:00<?, ?it/s]\u001b[A\n",
      " 29%|█████████████████████▉                                                     | 383/1310 [1:27:26<55:42,  3.61s/it]"
     ]
    },
    {
     "name": "stdout",
     "output_type": "stream",
     "text": [
      "[Errno 2] No such file or directory: 'D:/external_datasets/TAO/TAO_DIR/frames/val/BDD/b2505382-272e7823/frame1681.jpg'\n",
      ">>>> #WARNING: No file found for: TAO convertible_(automobile)...\n",
      "[Errno 2] No such file or directory: 'D:/external_datasets/TAO/TAO_DIR/frames/val/BDD/b2505382-272e7823/frame1621.jpg'\n",
      ">>>> #WARNING: No file found for: TAO convertible_(automobile)...\n",
      "\n",
      ">> sofa_bed...\n",
      ">>>> #WARNING sofa_bed is missing from json annotations\n",
      "annotations datasets:  []\n",
      "annotations imgids:  []\n",
      "annotations bbox:  []\n",
      "\n",
      ">> cookie...\n",
      ">>>> #WARNING cookie is missing from json annotations\n",
      "annotations datasets:  []\n",
      "annotations imgids:  []\n",
      "annotations bbox:  []\n",
      "\n",
      ">> cookie_jar...\n",
      ">>>> #WARNING cookie_jar is missing from json annotations\n",
      "annotations datasets:  []\n",
      "annotations imgids:  []\n",
      "annotations bbox:  []\n",
      "\n",
      ">> cooking_utensil...\n",
      ">>>> #WARNING cooking_utensil is missing from json annotations\n",
      "annotations datasets:  []\n",
      "annotations imgids:  []\n",
      "annotations bbox:  []\n",
      "\n",
      ">> cooler_(for_food)...\n",
      "TAO\n"
     ]
    },
    {
     "name": "stderr",
     "output_type": "stream",
     "text": [
      " 30%|██████████████████████▏                                                    | 388/1310 [1:27:29<41:30,  2.70s/it]"
     ]
    },
    {
     "name": "stdout",
     "output_type": "stream",
     "text": [
      "\n",
      ">> cork_(bottle_plug)...\n",
      ">>>> #WARNING cork_(bottle_plug) is missing from json annotations\n",
      "annotations datasets:  []\n",
      "annotations imgids:  []\n",
      "annotations bbox:  []\n",
      "\n",
      ">> corkboard...\n",
      ">>>> #WARNING corkboard is missing from json annotations\n",
      "annotations datasets:  []\n",
      "annotations imgids:  []\n",
      "annotations bbox:  []\n",
      "\n",
      ">> corkscrew...\n",
      ">>>> #WARNING corkscrew is missing from json annotations\n",
      "annotations datasets:  []\n",
      "annotations imgids:  []\n",
      "annotations bbox:  []\n",
      "\n",
      ">> edible_corn...\n",
      ">>>> #WARNING edible_corn is missing from json annotations\n",
      "annotations datasets:  []\n",
      "annotations imgids:  []\n",
      "annotations bbox:  []\n",
      "\n",
      ">> cornbread...\n",
      ">>>> #WARNING cornbread is missing from json annotations\n",
      "annotations datasets:  []\n",
      "annotations imgids:  []\n",
      "annotations bbox:  []\n",
      "\n",
      ">> cornet...\n",
      "TAO\n"
     ]
    },
    {
     "name": "stderr",
     "output_type": "stream",
     "text": [
      " 30%|██████████████████████▌                                                    | 394/1310 [1:27:31<30:07,  1.97s/it]"
     ]
    },
    {
     "name": "stdout",
     "output_type": "stream",
     "text": [
      "\n",
      ">> cornice...\n",
      ">>>> #WARNING cornice is missing from json annotations\n",
      "annotations datasets:  []\n",
      "annotations imgids:  []\n",
      "annotations bbox:  []\n",
      "\n",
      ">> cornmeal...\n",
      ">>>> #WARNING cornmeal is missing from json annotations\n",
      "annotations datasets:  []\n",
      "annotations imgids:  []\n",
      "annotations bbox:  []\n",
      "\n",
      ">> corset...\n",
      ">>>> #WARNING corset is missing from json annotations\n",
      "annotations datasets:  []\n",
      "annotations imgids:  []\n",
      "annotations bbox:  []\n",
      "\n",
      ">> romaine_lettuce...\n",
      ">>>> #WARNING romaine_lettuce is missing from json annotations\n",
      "annotations datasets:  []\n",
      "annotations imgids:  []\n",
      "annotations bbox:  []\n",
      "\n",
      ">> costume...\n",
      ">>>> #WARNING costume is missing from json annotations\n",
      "annotations datasets:  []\n",
      "annotations imgids:  []\n",
      "annotations bbox:  []\n",
      "\n",
      ">> cougar...\n",
      ">>>> #WARNING cougar is missing from json annotations\n",
      "annotations datasets:  []\n",
      "annotations imgids:  []\n",
      "annotations bbox:  []\n",
      "\n",
      ">> coverall...\n",
      ">>>> #WARNING coverall is missing from json annotations\n",
      "annotations datasets:  []\n",
      "annotations imgids:  []\n",
      "annotations bbox:  []\n",
      "\n",
      ">> cowbell...\n",
      ">>>> #WARNING cowbell is missing from json annotations\n",
      "annotations datasets:  []\n",
      "annotations imgids:  []\n",
      "annotations bbox:  []\n",
      "\n",
      ">> cowboy_hat...\n",
      ">>>> #WARNING cowboy_hat is missing from json annotations\n",
      "annotations datasets:  []\n",
      "annotations imgids:  []\n",
      "annotations bbox:  []\n",
      "\n",
      ">> crab_(animal)...\n",
      "TAO\n"
     ]
    },
    {
     "name": "stderr",
     "output_type": "stream",
     "text": [
      " 31%|███████████████████████▏                                                   | 404/1310 [1:27:33<21:34,  1.43s/it]"
     ]
    },
    {
     "name": "stdout",
     "output_type": "stream",
     "text": [
      "\n",
      ">> cracker...\n",
      ">>>> #WARNING cracker is missing from json annotations\n",
      "annotations datasets:  []\n",
      "annotations imgids:  []\n",
      "annotations bbox:  []\n",
      "\n",
      ">> crape...\n",
      ">>>> #WARNING crape is missing from json annotations\n",
      "annotations datasets:  []\n",
      "annotations imgids:  []\n",
      "annotations bbox:  []\n",
      "\n",
      ">> crate...\n",
      ">>>> #WARNING crate is missing from json annotations\n",
      "annotations datasets:  []\n",
      "annotations imgids:  []\n",
      "annotations bbox:  []\n",
      "\n",
      ">> crayon...\n",
      ">>>> #WARNING crayon is missing from json annotations\n",
      "annotations datasets:  []\n",
      "annotations imgids:  []\n",
      "annotations bbox:  []\n",
      "\n",
      ">> cream_pitcher...\n",
      ">>>> #WARNING cream_pitcher is missing from json annotations\n",
      "annotations datasets:  []\n",
      "annotations imgids:  []\n",
      "annotations bbox:  []\n",
      "\n",
      ">> credit_card...\n",
      ">>>> #WARNING credit_card is missing from json annotations\n",
      "annotations datasets:  []\n",
      "annotations imgids:  []\n",
      "annotations bbox:  []\n",
      "\n",
      ">> crescent_roll...\n",
      ">>>> #WARNING crescent_roll is missing from json annotations\n",
      "annotations datasets:  []\n",
      "annotations imgids:  []\n",
      "annotations bbox:  []\n",
      "\n",
      ">> crib...\n",
      ">>>> #WARNING crib is missing from json annotations\n",
      "annotations datasets:  []\n",
      "annotations imgids:  []\n",
      "annotations bbox:  []\n",
      "\n",
      ">> crock_pot...\n",
      ">>>> #WARNING crock_pot is missing from json annotations\n",
      "annotations datasets:  []\n",
      "annotations imgids:  []\n",
      "annotations bbox:  []\n",
      "\n",
      ">> crossbar...\n",
      ">>>> #WARNING crossbar is missing from json annotations\n",
      "annotations datasets:  []\n",
      "annotations imgids:  []\n",
      "annotations bbox:  []\n",
      "\n",
      ">> crouton...\n",
      ">>>> #WARNING crouton is missing from json annotations\n",
      "annotations datasets:  []\n",
      "annotations imgids:  []\n",
      "annotations bbox:  []\n",
      "\n",
      ">> crow...\n",
      "TAO\n"
     ]
    },
    {
     "name": "stderr",
     "output_type": "stream",
     "text": [
      " 32%|███████████████████████▊                                                   | 416/1310 [1:27:34<15:27,  1.04s/it]\n",
      ">>> Finding TAO crumb...:   0%|                                                               | 0/29 [00:00<?, ?it/s]\u001b[A\n"
     ]
    },
    {
     "name": "stdout",
     "output_type": "stream",
     "text": [
      "\n",
      ">> crown...\n",
      ">>>> #WARNING crown is missing from json annotations\n",
      "annotations datasets:  []\n",
      "annotations imgids:  []\n",
      "annotations bbox:  []\n",
      "\n",
      ">> crucifix...\n",
      ">>>> #WARNING crucifix is missing from json annotations\n",
      "annotations datasets:  []\n",
      "annotations imgids:  []\n",
      "annotations bbox:  []\n",
      "\n",
      ">> cruise_ship...\n",
      ">>>> #WARNING cruise_ship is missing from json annotations\n",
      "annotations datasets:  []\n",
      "annotations imgids:  []\n",
      "annotations bbox:  []\n",
      "\n",
      ">> police_cruiser...\n",
      ">>>> #WARNING police_cruiser is missing from json annotations\n",
      "annotations datasets:  []\n",
      "annotations imgids:  []\n",
      "annotations bbox:  []\n",
      "\n",
      ">> crumb...\n",
      "TAO\n",
      "[Errno 2] No such file or directory: 'D:/external_datasets/TAO/TAO_DIR/frames/train/YFCC100M/v_df4744928b9b4199b5c73344efdce65/frame1561.jpg'\n"
     ]
    },
    {
     "name": "stderr",
     "output_type": "stream",
     "text": [
      "\n",
      ">>> Finding TAO crumb...:   3%|█▉                                                     | 1/29 [00:00<00:01, 14.92it/s]\u001b[A\n",
      "\n",
      ">>> Finding TAO crumb...:   0%|                                                               | 0/29 [00:00<?, ?it/s]\u001b[A"
     ]
    },
    {
     "name": "stdout",
     "output_type": "stream",
     "text": [
      "[Errno 2] No such file or directory: 'D:/external_datasets/TAO/TAO_DIR/frames/train/YFCC100M/v_df4744928b9b4199b5c73344efdce65/frame1321.jpg'\n",
      "[Errno 2] No such file or directory: 'D:/external_datasets/TAO/TAO_DIR/frames/train/YFCC100M/v_df4744928b9b4199b5c73344efdce65/frame1081.jpg'\n"
     ]
    },
    {
     "name": "stderr",
     "output_type": "stream",
     "text": [
      ">>> Finding TAO crumb...:   7%|███▊                                                   | 2/29 [00:00<00:00, 28.99it/s]\n",
      "\n",
      ">>> Finding TAO crumb...:  10%|█████▋                                                 | 3/29 [00:00<00:00, 68.19it/s]\u001b[A\n",
      "\n",
      ">>> Finding TAO crumb...:  14%|███████▍                                              | 4/29 [00:00<00:00, 108.11it/s]\u001b[A\n"
     ]
    },
    {
     "name": "stdout",
     "output_type": "stream",
     "text": [
      "[Errno 2] No such file or directory: 'D:/external_datasets/TAO/TAO_DIR/frames/train/YFCC100M/v_df4744928b9b4199b5c73344efdce65/frame1351.jpg'\n",
      "[Errno 2] No such file or directory: 'D:/external_datasets/TAO/TAO_DIR/frames/train/YFCC100M/v_df4744928b9b4199b5c73344efdce65/frame1171.jpg'\n"
     ]
    },
    {
     "name": "stderr",
     "output_type": "stream",
     "text": [
      "\n",
      ">>> Finding TAO crumb...:  17%|█████████▎                                            | 5/29 [00:00<00:00, 147.06it/s]\u001b[A\n",
      "\n",
      ">>> Finding TAO crumb...: 100%|█████████████████████████████████████████████████████| 29/29 [00:00<00:00, 483.26it/s]\u001b[A\n",
      "\n",
      ">>> Finding TAO crumb...:   0%|                                                               | 0/29 [00:00<?, ?it/s]\u001b[A"
     ]
    },
    {
     "name": "stdout",
     "output_type": "stream",
     "text": [
      "[Errno 2] No such file or directory: 'D:/external_datasets/TAO/TAO_DIR/frames/train/YFCC100M/v_df4744928b9b4199b5c73344efdce65/frame1801.jpg'\n",
      "[Errno 2] No such file or directory: 'D:/external_datasets/TAO/TAO_DIR/frames/train/YFCC100M/v_df4744928b9b4199b5c73344efdce65/frame1891.jpg'\n",
      ">>>> #WARNING: No file found for: TAO crumb...\n",
      "[Errno 2] No such file or directory: 'D:/external_datasets/TAO/TAO_DIR/frames/train/YFCC100M/v_df4744928b9b4199b5c73344efdce65/frame1531.jpg'\n"
     ]
    },
    {
     "name": "stderr",
     "output_type": "stream",
     "text": [
      ">>> Finding TAO crumb...: 100%|█████████████████████████████████████████████████████| 29/29 [00:00<00:00, 517.81it/s]\n",
      "\n",
      ">>> Finding TAO crumb...: 100%|█████████████████████████████████████████████████████| 29/29 [00:00<00:00, 537.06it/s]\u001b[A\n",
      "\n",
      ">>> Finding TAO crumb...: 100%|█████████████████████████████████████████████████████| 29/29 [00:00<00:00, 500.00it/s]\u001b[A\n",
      " 32%|████████████████████████                                                   | 421/1310 [1:27:35<11:42,  1.27it/s]"
     ]
    },
    {
     "name": "stdout",
     "output_type": "stream",
     "text": [
      ">>>> #WARNING: No file found for: TAO crumb...\n",
      "[Errno 2] No such file or directory: 'D:/external_datasets/TAO/TAO_DIR/frames/train/YFCC100M/v_df4744928b9b4199b5c73344efdce65/frame1381.jpg'\n",
      ">>>> #WARNING: No file found for: TAO crumb...\n",
      "[Errno 2] No such file or directory: 'D:/external_datasets/TAO/TAO_DIR/frames/train/YFCC100M/v_df4744928b9b4199b5c73344efdce65/frame1291.jpg'\n",
      ">>>> #WARNING: No file found for: TAO crumb...\n",
      "\n",
      ">> crutch...\n",
      "TAO\n"
     ]
    },
    {
     "name": "stderr",
     "output_type": "stream",
     "text": [
      "\n",
      ">>> Finding TAO crutch...:   0%|                                                              | 0/36 [00:00<?, ?it/s]\u001b[A"
     ]
    },
    {
     "name": "stdout",
     "output_type": "stream",
     "text": [
      "[Errno 2] No such file or directory: 'D:/external_datasets/TAO/TAO_DIR/frames/train/HACS/Hitting_a_pinata_v_JX1uj-YRiYo_scene_0_2363-4878/frame0991.jpg'\n"
     ]
    },
    {
     "name": "stderr",
     "output_type": "stream",
     "text": [
      "\n",
      "\n",
      ">>> Finding TAO crutch...:   3%|█▌                                                    | 1/36 [00:00<00:01, 19.62it/s]\u001b[A"
     ]
    },
    {
     "name": "stdout",
     "output_type": "stream",
     "text": [
      "[Errno 2] No such file or directory: 'D:/external_datasets/TAO/TAO_DIR/frames/train/HACS/Hitting_a_pinata_v_JX1uj-YRiYo_scene_0_2363-4878/frame1171.jpg'\n"
     ]
    },
    {
     "name": "stderr",
     "output_type": "stream",
     "text": [
      "\n",
      "\n",
      ">>> Finding TAO crutch...:   8%|████▌                                                 | 3/36 [00:00<00:00, 48.39it/s]\u001b[A\n",
      "\n",
      ">>> Finding TAO crutch...:   0%|                                                              | 0/36 [00:00<?, ?it/s]\u001b[A"
     ]
    },
    {
     "name": "stdout",
     "output_type": "stream",
     "text": [
      "[Errno 2] No such file or directory: 'D:/external_datasets/TAO/TAO_DIR/frames/train/HACS/Hitting_a_pinata_v_JX1uj-YRiYo_scene_0_2363-4878/frame1141.jpg'\n",
      "[Errno 2] No such file or directory: 'D:/external_datasets/TAO/TAO_DIR/frames/train/HACS/Hitting_a_pinata_v_JX1uj-YRiYo_scene_0_2363-4878/frame1081.jpg'\n"
     ]
    },
    {
     "name": "stderr",
     "output_type": "stream",
     "text": [
      ">>> Finding TAO crutch...:  11%|██████                                                | 4/36 [00:00<00:00, 74.03it/s]\n",
      " 32%|████████████████████████▏                                                  | 422/1310 [1:27:37<15:56,  1.08s/it]\n",
      ">>> Finding TAO cube...:   0%|                                                                | 0/40 [00:00<?, ?it/s]\u001b[A\n",
      ">>> Finding TAO cube...: 100%|██████████████████████████████████████████████████████| 40/40 [00:00<00:00, 388.27it/s]\u001b[A\n",
      "\n",
      ">>> Finding TAO cube...:   0%|                                                                | 0/40 [00:00<?, ?it/s]\u001b[A"
     ]
    },
    {
     "name": "stdout",
     "output_type": "stream",
     "text": [
      "\n",
      ">> cub_(animal)...\n",
      ">>>> #WARNING cub_(animal) is missing from json annotations\n",
      "annotations datasets:  []\n",
      "annotations imgids:  []\n",
      "annotations bbox:  []\n",
      "\n",
      ">> cube...\n",
      "TAO\n",
      "[Errno 2] No such file or directory: 'D:/external_datasets/TAO/TAO_DIR/frames/val/HACS/Playing_rubik_cube_v_7GZd2e9g95A/frame2641.jpg'\n",
      ">>>> #WARNING: No file found for: TAO cube...\n",
      "[Errno 2] No such file or directory: 'D:/external_datasets/TAO/TAO_DIR/frames/val/HACS/Playing_rubik_cube_v_7GZd2e9g95A/frame2371.jpg'\n"
     ]
    },
    {
     "name": "stderr",
     "output_type": "stream",
     "text": [
      "\n",
      ">>> Finding TAO cube...: 100%|██████████████████████████████████████████████████████| 40/40 [00:00<00:00, 217.39it/s]\u001b[A\n",
      "\n",
      ">>> Finding TAO cube...:   0%|                                                                | 0/40 [00:00<?, ?it/s]\u001b[A\n",
      ">>> Finding TAO cube...:  50%|███████████████████████████                           | 20/40 [00:00<00:00, 199.99it/s]\u001b[A"
     ]
    },
    {
     "name": "stdout",
     "output_type": "stream",
     "text": [
      ">>>> #WARNING: No file found for: TAO cube...\n",
      "[Errno 2] No such file or directory: 'D:/external_datasets/TAO/TAO_DIR/frames/val/HACS/Playing_rubik_cube_v_7GZd2e9g95A/frame1471.jpg'\n"
     ]
    },
    {
     "name": "stderr",
     "output_type": "stream",
     "text": [
      ">>> Finding TAO cube...: 100%|██████████████████████████████████████████████████████| 40/40 [00:00<00:00, 213.90it/s]\n",
      "\n",
      ">>> Finding TAO cube...:   0%|                                                                | 0/40 [00:00<?, ?it/s]\u001b[A\n",
      ">>> Finding TAO cube...: 100%|██████████████████████████████████████████████████████| 40/40 [00:00<00:00, 248.44it/s]\u001b[A\n",
      "\n",
      ">>> Finding TAO cube...:   0%|                                                                | 0/40 [00:00<?, ?it/s]\u001b[A"
     ]
    },
    {
     "name": "stdout",
     "output_type": "stream",
     "text": [
      ">>>> #WARNING: No file found for: TAO cube...\n",
      "[Errno 2] No such file or directory: 'D:/external_datasets/TAO/TAO_DIR/frames/val/HACS/Playing_rubik_cube_v_7GZd2e9g95A/frame1681.jpg'\n",
      ">>>> #WARNING: No file found for: TAO cube...\n",
      "[Errno 2] No such file or directory: 'D:/external_datasets/TAO/TAO_DIR/frames/val/HACS/Playing_rubik_cube_v_7GZd2e9g95A/frame2521.jpg'\n"
     ]
    },
    {
     "name": "stderr",
     "output_type": "stream",
     "text": [
      "\n",
      ">>> Finding TAO cube...: 100%|██████████████████████████████████████████████████████| 40/40 [00:00<00:00, 222.22it/s]\u001b[A\n",
      "\n",
      ">>> Finding TAO cube...:   0%|                                                                | 0/40 [00:00<?, ?it/s]\u001b[A\n",
      ">>> Finding TAO cube...: 100%|██████████████████████████████████████████████████████| 40/40 [00:00<00:00, 270.28it/s]\u001b[A\n",
      "\n",
      ">>> Finding TAO cube...:   0%|                                                                | 0/40 [00:00<?, ?it/s]\u001b[A"
     ]
    },
    {
     "name": "stdout",
     "output_type": "stream",
     "text": [
      ">>>> #WARNING: No file found for: TAO cube...\n",
      "[Errno 2] No such file or directory: 'D:/external_datasets/TAO/TAO_DIR/frames/val/HACS/Playing_rubik_cube_v_7GZd2e9g95A/frame1951.jpg'\n",
      ">>>> #WARNING: No file found for: TAO cube...\n",
      "[Errno 2] No such file or directory: 'D:/external_datasets/TAO/TAO_DIR/frames/val/HACS/Playing_rubik_cube_v_7GZd2e9g95A/frame1831.jpg'\n"
     ]
    },
    {
     "name": "stderr",
     "output_type": "stream",
     "text": [
      "\n",
      ">>> Finding TAO cube...: 100%|██████████████████████████████████████████████████████| 40/40 [00:00<00:00, 289.86it/s]\u001b[A\n",
      "\n",
      ">>> Finding TAO cube...:   0%|                                                                | 0/40 [00:00<?, ?it/s]\u001b[A\n",
      ">>> Finding TAO cube...: 100%|██████████████████████████████████████████████████████| 40/40 [00:00<00:00, 336.13it/s]\u001b[A\n",
      "\n",
      ">>> Finding TAO cube...:   0%|                                                                | 0/40 [00:00<?, ?it/s]\u001b[A"
     ]
    },
    {
     "name": "stdout",
     "output_type": "stream",
     "text": [
      ">>>> #WARNING: No file found for: TAO cube...\n",
      "[Errno 2] No such file or directory: 'D:/external_datasets/TAO/TAO_DIR/frames/val/HACS/Playing_rubik_cube_v_7GZd2e9g95A/frame2581.jpg'\n",
      ">>>> #WARNING: No file found for: TAO cube...\n",
      "[Errno 2] No such file or directory: 'D:/external_datasets/TAO/TAO_DIR/frames/val/HACS/Playing_rubik_cube_v_7GZd2e9g95A/frame1501.jpg'\n"
     ]
    },
    {
     "name": "stderr",
     "output_type": "stream",
     "text": [
      "\n",
      ">>> Finding TAO cube...: 100%|██████████████████████████████████████████████████████| 40/40 [00:00<00:00, 338.98it/s]\u001b[A\n",
      "\n",
      ">>> Finding TAO cube...:   0%|                                                                | 0/40 [00:00<?, ?it/s]\u001b[A\n",
      ">>> Finding TAO cube...: 100%|██████████████████████████████████████████████████████| 40/40 [00:00<00:00, 353.95it/s]\u001b[A\n",
      " 32%|████████████████████████▎                                                  | 424/1310 [1:27:39<14:34,  1.01it/s]"
     ]
    },
    {
     "name": "stdout",
     "output_type": "stream",
     "text": [
      ">>>> #WARNING: No file found for: TAO cube...\n",
      "[Errno 2] No such file or directory: 'D:/external_datasets/TAO/TAO_DIR/frames/val/HACS/Playing_rubik_cube_v_7GZd2e9g95A/frame2431.jpg'\n",
      ">>>> #WARNING: No file found for: TAO cube...\n",
      "\n",
      ">> cucumber...\n",
      ">>>> #WARNING cucumber is missing from json annotations\n",
      "annotations datasets:  []\n",
      "annotations imgids:  []\n",
      "annotations bbox:  []\n",
      "\n",
      ">> cufflink...\n",
      ">>>> #WARNING cufflink is missing from json annotations\n",
      "annotations datasets:  []\n",
      "annotations imgids:  []\n",
      "annotations bbox:  []\n",
      "\n",
      ">> cup...\n",
      "TAO\n"
     ]
    },
    {
     "name": "stderr",
     "output_type": "stream",
     "text": [
      "\n",
      ">>> Finding TAO cup...:   0%|                                                               | 0/2232 [00:00<?, ?it/s]\u001b[A"
     ]
    },
    {
     "name": "stdout",
     "output_type": "stream",
     "text": [
      "[Errno 2] No such file or directory: 'D:/external_datasets/TAO/TAO_DIR/frames/train/AVA/XOe9GeojzCs_scene_8_44057-45561/frame1201.jpg'\n"
     ]
    },
    {
     "name": "stderr",
     "output_type": "stream",
     "text": [
      "\n",
      " 33%|████████████████████████▍                                                  | 427/1310 [1:27:41<13:32,  1.09it/s]"
     ]
    },
    {
     "name": "stdout",
     "output_type": "stream",
     "text": [
      "\n",
      ">> trophy_cup...\n",
      ">>>> #WARNING trophy_cup is missing from json annotations\n",
      "annotations datasets:  []\n",
      "annotations imgids:  []\n",
      "annotations bbox:  []\n",
      "\n",
      ">> cupcake...\n",
      ">>>> #WARNING cupcake is missing from json annotations\n",
      "annotations datasets:  []\n",
      "annotations imgids:  []\n",
      "annotations bbox:  []\n",
      "\n",
      ">> hair_curler...\n",
      ">>>> #WARNING hair_curler is missing from json annotations\n",
      "annotations datasets:  []\n",
      "annotations imgids:  []\n",
      "annotations bbox:  []\n",
      "\n",
      ">> curling_iron...\n",
      ">>>> #WARNING curling_iron is missing from json annotations\n",
      "annotations datasets:  []\n",
      "annotations imgids:  []\n",
      "annotations bbox:  []\n",
      "\n",
      ">> curtain...\n",
      "TAO\n"
     ]
    },
    {
     "name": "stderr",
     "output_type": "stream",
     "text": [
      "\n",
      ">>> Finding TAO curtain...:   0%|                                                            | 0/172 [00:00<?, ?it/s]\u001b[A"
     ]
    },
    {
     "name": "stdout",
     "output_type": "stream",
     "text": [
      "[Errno 2] No such file or directory: 'D:/external_datasets/TAO/TAO_DIR/frames/val/Charades/5ACD3/frame1051.jpg'\n"
     ]
    },
    {
     "name": "stderr",
     "output_type": "stream",
     "text": [
      "\n",
      " 33%|████████████████████████▋                                                  | 432/1310 [1:27:43<10:57,  1.34it/s]"
     ]
    },
    {
     "name": "stdout",
     "output_type": "stream",
     "text": [
      "\n",
      ">> cushion...\n",
      "TAO\n"
     ]
    },
    {
     "name": "stderr",
     "output_type": "stream",
     "text": [
      "\n",
      ">>> Finding TAO cushion...:   2%|█▏                                                   | 1/44 [00:00<00:02, 17.86it/s]\u001b[A"
     ]
    },
    {
     "name": "stdout",
     "output_type": "stream",
     "text": [
      "[Errno 2] No such file or directory: 'D:/external_datasets/TAO/TAO_DIR/frames/val/Charades/ARCUY/frame0985.jpg'\n"
     ]
    },
    {
     "name": "stderr",
     "output_type": "stream",
     "text": [
      "\n",
      " 33%|████████████████████████▊                                                  | 433/1310 [1:27:44<13:58,  1.05it/s]"
     ]
    },
    {
     "name": "stdout",
     "output_type": "stream",
     "text": [
      "\n",
      ">> custard...\n",
      ">>>> #WARNING custard is missing from json annotations\n",
      "annotations datasets:  []\n",
      "annotations imgids:  []\n",
      "annotations bbox:  []\n",
      "\n",
      ">> cutting_tool...\n",
      "TAO\n"
     ]
    },
    {
     "name": "stderr",
     "output_type": "stream",
     "text": [
      "\n",
      ">>> Finding TAO cutting_tool...:   0%|                                                        | 0/60 [00:00<?, ?it/s]\u001b[A\n",
      "\n",
      ">>> Finding TAO cutting_tool...:   2%|▊                                               | 1/60 [00:00<00:03, 19.23it/s]\u001b[A"
     ]
    },
    {
     "name": "stdout",
     "output_type": "stream",
     "text": [
      "[Errno 2] No such file or directory: 'D:/external_datasets/TAO/TAO_DIR/frames/train/HACS/Clipping_cat_claws_v_S4dZfUb0Cjo_scene_0_0-5184/frame1021.jpg'\n",
      "[Errno 2] No such file or directory: 'D:/external_datasets/TAO/TAO_DIR/frames/train/HACS/Clipping_cat_claws_v_S4dZfUb0Cjo_scene_0_0-5184/frame1081.jpg'\n"
     ]
    },
    {
     "name": "stderr",
     "output_type": "stream",
     "text": [
      "\n",
      "\n",
      ">>> Finding TAO cutting_tool...:   3%|█▌                                              | 2/60 [00:00<00:01, 33.33it/s]\u001b[A\n",
      "\n",
      ">>> Finding TAO cutting_tool...:   0%|                                                        | 0/60 [00:00<?, ?it/s]\u001b[A"
     ]
    },
    {
     "name": "stdout",
     "output_type": "stream",
     "text": [
      "[Errno 2] No such file or directory: 'D:/external_datasets/TAO/TAO_DIR/frames/train/HACS/Clipping_cat_claws_v_S4dZfUb0Cjo_scene_0_0-5184/frame1051.jpg'\n",
      "[Errno 2] No such file or directory: 'D:/external_datasets/TAO/TAO_DIR/frames/val/HACS/Peeling_potatoes_v_MfE21MjmmvM_scene_0_1668-3291/frame0991.jpg'\n"
     ]
    },
    {
     "name": "stderr",
     "output_type": "stream",
     "text": [
      ">>> Finding TAO cutting_tool...:   5%|██▍                                             | 3/60 [00:00<00:01, 56.61it/s]\n",
      " 33%|████████████████████████▉                                                  | 435/1310 [1:27:46<13:18,  1.10it/s]"
     ]
    },
    {
     "name": "stdout",
     "output_type": "stream",
     "text": [
      "\n",
      ">> cylinder...\n",
      "TAO\n"
     ]
    },
    {
     "name": "stderr",
     "output_type": "stream",
     "text": [
      "\n",
      ">>> Finding TAO cylinder...:   0%|                                                            | 0/72 [00:00<?, ?it/s]\u001b[A\n",
      "\n",
      ">>> Finding TAO cylinder...:   0%|                                                            | 0/72 [00:00<?, ?it/s]\u001b[A"
     ]
    },
    {
     "name": "stdout",
     "output_type": "stream",
     "text": [
      "[Errno 2] No such file or directory: 'D:/external_datasets/TAO/TAO_DIR/frames/train/HACS/Laying_tile_v_paCAluq8u84_scene_0_0-4880/frame1081.jpg'\n",
      "[Errno 2] No such file or directory: 'D:/external_datasets/TAO/TAO_DIR/frames/val/Charades/DOQ9Y/frame0991.jpg'\n"
     ]
    },
    {
     "name": "stderr",
     "output_type": "stream",
     "text": [
      ">>> Finding TAO cylinder...:   1%|▋                                                   | 1/72 [00:00<00:04, 15.62it/s]\n",
      "\n",
      ">>> Finding TAO cylinder...:   3%|█▍                                                  | 2/72 [00:00<00:02, 23.53it/s]\u001b[A"
     ]
    },
    {
     "name": "stdout",
     "output_type": "stream",
     "text": [
      "[Errno 2] No such file or directory: 'D:/external_datasets/TAO/TAO_DIR/frames/train/HACS/Laying_tile_v_paCAluq8u84_scene_0_0-4880/frame0991.jpg'\n"
     ]
    },
    {
     "name": "stderr",
     "output_type": "stream",
     "text": [
      "\n",
      "\n",
      ">>> Finding TAO cylinder...:   4%|██▏                                                 | 3/72 [00:00<00:01, 34.88it/s]\u001b[A\n",
      " 33%|████████████████████████▉                                                  | 436/1310 [1:27:47<17:23,  1.19s/it]"
     ]
    },
    {
     "name": "stdout",
     "output_type": "stream",
     "text": [
      "[Errno 2] No such file or directory: 'D:/external_datasets/TAO/TAO_DIR/frames/val/Charades/DOQ9Y/frame1111.jpg'\n",
      "\n",
      ">> cymbal...\n",
      "TAO\n"
     ]
    },
    {
     "name": "stderr",
     "output_type": "stream",
     "text": [
      " 33%|█████████████████████████                                                  | 437/1310 [1:27:49<19:43,  1.36s/it]"
     ]
    },
    {
     "name": "stdout",
     "output_type": "stream",
     "text": [
      "\n",
      ">> dachshund...\n",
      ">>>> #WARNING dachshund is missing from json annotations\n",
      "annotations datasets:  []\n",
      "annotations imgids:  []\n",
      "annotations bbox:  []\n",
      "\n",
      ">> dagger...\n",
      ">>>> #WARNING dagger is missing from json annotations\n",
      "annotations datasets:  []\n",
      "annotations imgids:  []\n",
      "annotations bbox:  []\n",
      "\n",
      ">> dartboard...\n",
      ">>>> #WARNING dartboard is missing from json annotations\n",
      "annotations datasets:  []\n",
      "annotations imgids:  []\n",
      "annotations bbox:  []\n",
      "\n",
      ">> date_(fruit)...\n",
      ">>>> #WARNING date_(fruit) is missing from json annotations\n",
      "annotations datasets:  []\n",
      "annotations imgids:  []\n",
      "annotations bbox:  []\n",
      "\n",
      ">> deck_chair...\n",
      ">>>> #WARNING deck_chair is missing from json annotations\n",
      "annotations datasets:  []\n",
      "annotations imgids:  []\n",
      "annotations bbox:  []\n",
      "\n",
      ">> deer...\n",
      "TAO\n"
     ]
    },
    {
     "name": "stderr",
     "output_type": "stream",
     "text": [
      " 34%|█████████████████████████▎                                                 | 443/1310 [1:27:51<14:57,  1.04s/it]"
     ]
    },
    {
     "name": "stdout",
     "output_type": "stream",
     "text": [
      "\n",
      ">> dental_floss...\n",
      ">>>> #WARNING dental_floss is missing from json annotations\n",
      "annotations datasets:  []\n",
      "annotations imgids:  []\n",
      "annotations bbox:  []\n",
      "\n",
      ">> desk...\n",
      ">>>> #WARNING desk is missing from json annotations\n",
      "annotations datasets:  []\n",
      "annotations imgids:  []\n",
      "annotations bbox:  []\n",
      "\n",
      ">> detergent...\n",
      ">>>> #WARNING detergent is missing from json annotations\n",
      "annotations datasets:  []\n",
      "annotations imgids:  []\n",
      "annotations bbox:  []\n",
      "\n",
      ">> diaper...\n",
      ">>>> #WARNING diaper is missing from json annotations\n",
      "annotations datasets:  []\n",
      "annotations imgids:  []\n",
      "annotations bbox:  []\n",
      "\n",
      ">> diary...\n",
      ">>>> #WARNING diary is missing from json annotations\n",
      "annotations datasets:  []\n",
      "annotations imgids:  []\n",
      "annotations bbox:  []\n",
      "\n",
      ">> die...\n",
      "TAO\n"
     ]
    },
    {
     "name": "stderr",
     "output_type": "stream",
     "text": [
      " 34%|█████████████████████████▋                                                 | 449/1310 [1:27:52<11:31,  1.25it/s]"
     ]
    },
    {
     "name": "stdout",
     "output_type": "stream",
     "text": [
      "\n",
      ">> dinghy...\n",
      ">>>> #WARNING dinghy is missing from json annotations\n",
      "annotations datasets:  []\n",
      "annotations imgids:  []\n",
      "annotations bbox:  []\n",
      "\n",
      ">> dining_table...\n",
      ">>>> #WARNING dining_table is missing from json annotations\n",
      "annotations datasets:  []\n",
      "annotations imgids:  []\n",
      "annotations bbox:  []\n",
      "\n",
      ">> tux...\n",
      ">>>> #WARNING tux is missing from json annotations\n",
      "annotations datasets:  []\n",
      "annotations imgids:  []\n",
      "annotations bbox:  []\n",
      "\n",
      ">> dish...\n",
      "TAO\n"
     ]
    },
    {
     "name": "stderr",
     "output_type": "stream",
     "text": [
      " 35%|█████████████████████████▉                                                 | 453/1310 [1:27:55<10:44,  1.33it/s]"
     ]
    },
    {
     "name": "stdout",
     "output_type": "stream",
     "text": [
      "\n",
      ">> dish_antenna...\n",
      ">>>> #WARNING dish_antenna is missing from json annotations\n",
      "annotations datasets:  []\n",
      "annotations imgids:  []\n",
      "annotations bbox:  []\n",
      "\n",
      ">> dishrag...\n",
      ">>>> #WARNING dishrag is missing from json annotations\n",
      "annotations datasets:  []\n",
      "annotations imgids:  []\n",
      "annotations bbox:  []\n",
      "\n",
      ">> dishtowel...\n",
      ">>>> #WARNING dishtowel is missing from json annotations\n",
      "annotations datasets:  []\n",
      "annotations imgids:  []\n",
      "annotations bbox:  []\n",
      "\n",
      ">> dishwasher...\n",
      ">>>> #WARNING dishwasher is missing from json annotations\n",
      "annotations datasets:  []\n",
      "annotations imgids:  []\n",
      "annotations bbox:  []\n",
      "\n",
      ">> dishwasher_detergent...\n",
      ">>>> #WARNING dishwasher_detergent is missing from json annotations\n",
      "annotations datasets:  []\n",
      "annotations imgids:  []\n",
      "annotations bbox:  []\n",
      "\n",
      ">> diskette...\n",
      ">>>> #WARNING diskette is missing from json annotations\n",
      "annotations datasets:  []\n",
      "annotations imgids:  []\n",
      "annotations bbox:  []\n",
      "\n",
      ">> dispenser...\n",
      "TAO\n"
     ]
    },
    {
     "name": "stderr",
     "output_type": "stream",
     "text": [
      "\n",
      ">>> Finding TAO dispenser...:   0%|                                                           | 0/75 [00:00<?, ?it/s]\u001b[A"
     ]
    },
    {
     "name": "stdout",
     "output_type": "stream",
     "text": [
      "[Errno 2] No such file or directory: 'D:/external_datasets/TAO/TAO_DIR/frames/train/HACS/Washing_hands_v_Rf1XKstMa4E_scene_0_0-5673/frame1051.jpg'\n"
     ]
    },
    {
     "name": "stderr",
     "output_type": "stream",
     "text": [
      "\n",
      " 35%|██████████████████████████▎                                                | 460/1310 [1:27:57<08:33,  1.65it/s]"
     ]
    },
    {
     "name": "stdout",
     "output_type": "stream",
     "text": [
      "\n",
      ">> Dixie_cup...\n",
      ">>>> #WARNING Dixie_cup is missing from json annotations\n",
      "annotations datasets:  []\n",
      "annotations imgids:  []\n",
      "annotations bbox:  []\n",
      "\n",
      ">> dog...\n",
      "TAO\n"
     ]
    },
    {
     "name": "stderr",
     "output_type": "stream",
     "text": [
      "\n",
      ">>> Finding TAO dog...:   0%|                                                               | 0/2541 [00:00<?, ?it/s]\u001b[A"
     ]
    },
    {
     "name": "stdout",
     "output_type": "stream",
     "text": [
      "[Errno 2] No such file or directory: 'D:/external_datasets/TAO/TAO_DIR/frames/val/YFCC100M/v_1d65c43680698a56bdf0cb721d9b345a/frame1033.jpg'\n"
     ]
    },
    {
     "name": "stderr",
     "output_type": "stream",
     "text": [
      "\n",
      "\n",
      ">>> Finding TAO dog...:   0%|                                                       | 1/2541 [00:00<02:24, 17.55it/s]\u001b[A"
     ]
    },
    {
     "name": "stdout",
     "output_type": "stream",
     "text": [
      "[Errno 2] No such file or directory: 'D:/external_datasets/TAO/TAO_DIR/frames/val/YFCC100M/v_abc6374e5355bb9b81c531cec158b973/frame1321.jpg'\n"
     ]
    },
    {
     "name": "stderr",
     "output_type": "stream",
     "text": [
      "\n",
      " 35%|██████████████████████████▍                                                | 462/1310 [1:27:59<09:56,  1.42it/s]"
     ]
    },
    {
     "name": "stdout",
     "output_type": "stream",
     "text": [
      "\n",
      ">> dog_collar...\n",
      ">>>> #WARNING dog_collar is missing from json annotations\n",
      "annotations datasets:  []\n",
      "annotations imgids:  []\n",
      "annotations bbox:  []\n",
      "\n",
      ">> doll...\n",
      ">>>> #WARNING doll is missing from json annotations\n",
      "annotations datasets:  []\n",
      "annotations imgids:  []\n",
      "annotations bbox:  []\n",
      "\n",
      ">> dollar...\n",
      ">>>> #WARNING dollar is missing from json annotations\n",
      "annotations datasets:  []\n",
      "annotations imgids:  []\n",
      "annotations bbox:  []\n",
      "\n",
      ">> dolphin...\n",
      ">>>> #WARNING dolphin is missing from json annotations\n",
      "annotations datasets:  []\n",
      "annotations imgids:  []\n",
      "annotations bbox:  []\n",
      "\n",
      ">> domestic_ass...\n",
      ">>>> #WARNING domestic_ass is missing from json annotations\n",
      "annotations datasets:  []\n",
      "annotations imgids:  []\n",
      "annotations bbox:  []\n",
      "\n",
      ">> eye_mask...\n",
      ">>>> #WARNING eye_mask is missing from json annotations\n",
      "annotations datasets:  []\n",
      "annotations imgids:  []\n",
      "annotations bbox:  []\n",
      "\n",
      ">> doorbell...\n",
      ">>>> #WARNING doorbell is missing from json annotations\n",
      "annotations datasets:  []\n",
      "annotations imgids:  []\n",
      "annotations bbox:  []\n",
      "\n",
      ">> doorknob...\n",
      ">>>> #WARNING doorknob is missing from json annotations\n",
      "annotations datasets:  []\n",
      "annotations imgids:  []\n",
      "annotations bbox:  []\n",
      "\n",
      ">> doormat...\n",
      "TAO\n"
     ]
    },
    {
     "name": "stderr",
     "output_type": "stream",
     "text": [
      " 36%|██████████████████████████▉                                                | 471/1310 [1:28:00<07:39,  1.83it/s]"
     ]
    },
    {
     "name": "stdout",
     "output_type": "stream",
     "text": [
      "\n",
      ">> doughnut...\n",
      ">>>> #WARNING doughnut is missing from json annotations\n",
      "annotations datasets:  []\n",
      "annotations imgids:  []\n",
      "annotations bbox:  []\n",
      "\n",
      ">> dove...\n",
      ">>>> #WARNING dove is missing from json annotations\n",
      "annotations datasets:  []\n",
      "annotations imgids:  []\n",
      "annotations bbox:  []\n",
      "\n",
      ">> dragonfly...\n",
      ">>>> #WARNING dragonfly is missing from json annotations\n",
      "annotations datasets:  []\n",
      "annotations imgids:  []\n",
      "annotations bbox:  []\n",
      "\n",
      ">> drawer...\n",
      "TAO\n"
     ]
    },
    {
     "name": "stderr",
     "output_type": "stream",
     "text": [
      "\n",
      ">>> Finding TAO drawer...:   0%|                                                             | 0/348 [00:00<?, ?it/s]\u001b[A"
     ]
    },
    {
     "name": "stdout",
     "output_type": "stream",
     "text": [
      "[Errno 2] No such file or directory: 'D:/external_datasets/TAO/TAO_DIR/frames/val/HACS/Painting_furniture_v_mK0fmx7bDNs_scene_0_0-6652/frame1111.jpg'\n"
     ]
    },
    {
     "name": "stderr",
     "output_type": "stream",
     "text": [
      "\n",
      "\n",
      ">>> Finding TAO drawer...:   0%|▏                                                    | 1/348 [00:00<00:05, 62.53it/s]\u001b[A"
     ]
    },
    {
     "name": "stdout",
     "output_type": "stream",
     "text": [
      "[Errno 2] No such file or directory: 'D:/external_datasets/TAO/TAO_DIR/frames/val/HACS/Painting_furniture_v_mK0fmx7bDNs_scene_0_0-6652/frame1021.jpg'\n"
     ]
    },
    {
     "name": "stderr",
     "output_type": "stream",
     "text": [
      "\n",
      "\n",
      ">>> Finding TAO drawer...:   1%|▎                                                    | 2/348 [00:00<00:09, 36.38it/s]\u001b[A"
     ]
    },
    {
     "name": "stdout",
     "output_type": "stream",
     "text": [
      "[Errno 2] No such file or directory: 'D:/external_datasets/TAO/TAO_DIR/frames/val/HACS/Painting_furniture_v_mK0fmx7bDNs_scene_0_0-6652/frame1171.jpg'\n"
     ]
    },
    {
     "name": "stderr",
     "output_type": "stream",
     "text": [
      "\n",
      " 36%|███████████████████████████▏                                               | 475/1310 [1:28:02<07:00,  1.99it/s]"
     ]
    },
    {
     "name": "stdout",
     "output_type": "stream",
     "text": [
      "\n",
      ">> underdrawers...\n",
      ">>>> #WARNING underdrawers is missing from json annotations\n",
      "annotations datasets:  []\n",
      "annotations imgids:  []\n",
      "annotations bbox:  []\n",
      "\n",
      ">> dress...\n",
      ">>>> #WARNING dress is missing from json annotations\n",
      "annotations datasets:  []\n",
      "annotations imgids:  []\n",
      "annotations bbox:  []\n",
      "\n",
      ">> dress_hat...\n",
      "TAO\n"
     ]
    },
    {
     "name": "stderr",
     "output_type": "stream",
     "text": [
      " 36%|███████████████████████████▎                                               | 478/1310 [1:28:03<07:01,  1.98it/s]"
     ]
    },
    {
     "name": "stdout",
     "output_type": "stream",
     "text": [
      "\n",
      ">> dress_suit...\n",
      ">>>> #WARNING dress_suit is missing from json annotations\n",
      "annotations datasets:  []\n",
      "annotations imgids:  []\n",
      "annotations bbox:  []\n",
      "\n",
      ">> dresser...\n",
      ">>>> #WARNING dresser is missing from json annotations\n",
      "annotations datasets:  []\n",
      "annotations imgids:  []\n",
      "annotations bbox:  []\n",
      "\n",
      ">> drill...\n",
      ">>>> #WARNING drill is missing from json annotations\n",
      "annotations datasets:  []\n",
      "annotations imgids:  []\n",
      "annotations bbox:  []\n",
      "\n",
      ">> drinking_fountain...\n",
      ">>>> #WARNING drinking_fountain is missing from json annotations\n",
      "annotations datasets:  []\n",
      "annotations imgids:  []\n",
      "annotations bbox:  []\n",
      "\n",
      ">> drone...\n",
      "TAO\n"
     ]
    },
    {
     "name": "stderr",
     "output_type": "stream",
     "text": [
      " 37%|███████████████████████████▋                                               | 483/1310 [1:28:05<06:23,  2.16it/s]"
     ]
    },
    {
     "name": "stdout",
     "output_type": "stream",
     "text": [
      "\n",
      ">> dropper...\n",
      ">>>> #WARNING dropper is missing from json annotations\n",
      "annotations datasets:  []\n",
      "annotations imgids:  []\n",
      "annotations bbox:  []\n",
      "\n",
      ">> drum_(musical_instrument)...\n",
      "TAO\n"
     ]
    },
    {
     "name": "stderr",
     "output_type": "stream",
     "text": [
      "\n",
      ">>> Finding TAO drum_(musical_instrument)...:   0%|                                          | 0/140 [00:00<?, ?it/s]\u001b[A"
     ]
    },
    {
     "name": "stdout",
     "output_type": "stream",
     "text": [
      "[Errno 2] No such file or directory: 'D:/external_datasets/TAO/TAO_DIR/frames/train/HACS/Drum_corps_v_4KBTeNdE66U_scene_0_0-4062/frame1051.jpg'\n"
     ]
    },
    {
     "name": "stderr",
     "output_type": "stream",
     "text": [
      "\n",
      " 37%|███████████████████████████▊                                               | 485/1310 [1:28:07<08:01,  1.71it/s]"
     ]
    },
    {
     "name": "stdout",
     "output_type": "stream",
     "text": [
      "\n",
      ">> drumstick...\n",
      "TAO\n"
     ]
    },
    {
     "name": "stderr",
     "output_type": "stream",
     "text": [
      "\n",
      ">>> Finding TAO drumstick...:   0%|                                                          | 0/185 [00:00<?, ?it/s]\u001b[A"
     ]
    },
    {
     "name": "stdout",
     "output_type": "stream",
     "text": [
      "[Errno 2] No such file or directory: 'D:/external_datasets/TAO/TAO_DIR/frames/val/HACS/Playing_bagpipes_v_t9X6Wenpyl4_scene_0_0-4176/frame0991.jpg'\n"
     ]
    },
    {
     "name": "stderr",
     "output_type": "stream",
     "text": [
      "\n",
      "\n",
      ">>> Finding TAO drumstick...:   1%|▎                                                 | 1/185 [00:00<00:10, 17.22it/s]\u001b[A"
     ]
    },
    {
     "name": "stdout",
     "output_type": "stream",
     "text": [
      "[Errno 2] No such file or directory: 'D:/external_datasets/TAO/TAO_DIR/frames/val/YFCC100M/v_4fb3b319e69a2b8dfcba866047b148b3/frame0331.jpeg'\n",
      "[Errno 2] No such file or directory: 'D:/external_datasets/TAO/TAO_DIR/frames/val/YFCC100M/v_4fb3b319e69a2b8dfcba866047b148b3/frame1261.jpeg'\n"
     ]
    },
    {
     "name": "stderr",
     "output_type": "stream",
     "text": [
      "\n",
      "\n",
      ">>> Finding TAO drumstick...:   1%|▌                                                 | 2/185 [00:00<00:04, 40.00it/s]\u001b[A\n",
      "\n",
      ">>> Finding TAO drumstick...:   2%|▊                                                 | 3/185 [00:00<00:03, 50.85it/s]\u001b[A\n"
     ]
    },
    {
     "name": "stdout",
     "output_type": "stream",
     "text": [
      "[Errno 2] No such file or directory: 'D:/external_datasets/TAO/TAO_DIR/frames/val/YFCC100M/v_4fb3b319e69a2b8dfcba866047b148b3/frame0511.jpeg'\n",
      "[Errno 2] No such file or directory: 'D:/external_datasets/TAO/TAO_DIR/frames/val/YFCC100M/v_4fb3b319e69a2b8dfcba866047b148b3/frame0481.jpeg'\n"
     ]
    },
    {
     "name": "stderr",
     "output_type": "stream",
     "text": [
      "\n",
      ">>> Finding TAO drumstick...:   2%|█                                                 | 4/185 [00:00<00:02, 74.07it/s]\u001b[A\n",
      "\n",
      ">>> Finding TAO drumstick...:   3%|█▎                                                | 5/185 [00:00<00:03, 54.09it/s]\u001b[A\n"
     ]
    },
    {
     "name": "stdout",
     "output_type": "stream",
     "text": [
      "[Errno 2] No such file or directory: 'D:/external_datasets/TAO/TAO_DIR/frames/val/YFCC100M/v_4fb3b319e69a2b8dfcba866047b148b3/frame1321.jpeg'\n",
      "[Errno 2] No such file or directory: 'D:/external_datasets/TAO/TAO_DIR/frames/val/YFCC100M/v_4fb3b319e69a2b8dfcba866047b148b3/frame1051.jpeg'\n"
     ]
    },
    {
     "name": "stderr",
     "output_type": "stream",
     "text": [
      "\n",
      ">>> Finding TAO drumstick...:   3%|█▌                                                | 6/185 [00:00<00:02, 82.18it/s]\u001b[A\n",
      "\n",
      ">>> Finding TAO drumstick...:   4%|█▉                                                | 7/185 [00:00<00:01, 95.91it/s]\u001b[A"
     ]
    },
    {
     "name": "stdout",
     "output_type": "stream",
     "text": [
      "[Errno 2] No such file or directory: 'D:/external_datasets/TAO/TAO_DIR/frames/val/YFCC100M/v_4fb3b319e69a2b8dfcba866047b148b3/frame0571.jpeg'\n",
      "[Errno 2] No such file or directory: 'D:/external_datasets/TAO/TAO_DIR/frames/val/YFCC100M/v_4fb3b319e69a2b8dfcba866047b148b3/frame0991.jpeg'\n"
     ]
    },
    {
     "name": "stderr",
     "output_type": "stream",
     "text": [
      "\n",
      "\n",
      ">>> Finding TAO drumstick...:   4%|██                                               | 8/185 [00:00<00:01, 124.95it/s]\u001b[A\n",
      " 37%|███████████████████████████▊                                               | 486/1310 [1:28:09<13:36,  1.01it/s]\n",
      ">>> Finding TAO duck...: 100%|██████████████████████████████████████████████████████| 40/40 [00:00<00:00, 416.65it/s]\u001b[A\n",
      "\n",
      ">>> Finding TAO duck...:   0%|                                                                | 0/40 [00:00<?, ?it/s]\u001b[A"
     ]
    },
    {
     "name": "stdout",
     "output_type": "stream",
     "text": [
      "\n",
      ">> duck...\n",
      "TAO\n",
      "[Errno 2] No such file or directory: 'D:/external_datasets/TAO/TAO_DIR/frames/val/YFCC100M/v_d389d21ddef286b3febd14de1db31615/frame0991.jpeg'\n",
      ">>>> #WARNING: No file found for: TAO duck...\n",
      "[Errno 2] No such file or directory: 'D:/external_datasets/TAO/TAO_DIR/frames/val/YFCC100M/v_d389d21ddef286b3febd14de1db31615/frame1411.jpeg'\n"
     ]
    },
    {
     "name": "stderr",
     "output_type": "stream",
     "text": [
      "\n",
      ">>> Finding TAO duck...: 100%|██████████████████████████████████████████████████████| 40/40 [00:00<00:00, 347.80it/s]\u001b[A\n",
      "\n",
      ">>> Finding TAO duck...: 100%|██████████████████████████████████████████████████████| 40/40 [00:00<00:00, 403.91it/s]\u001b[A\n",
      "\n",
      ">>> Finding TAO duck...: 100%|██████████████████████████████████████████████████████| 40/40 [00:00<00:00, 408.18it/s]\u001b[A"
     ]
    },
    {
     "name": "stdout",
     "output_type": "stream",
     "text": [
      ">>>> #WARNING: No file found for: TAO duck...\n",
      "[Errno 2] No such file or directory: 'D:/external_datasets/TAO/TAO_DIR/frames/val/YFCC100M/v_d389d21ddef286b3febd14de1db31615/frame1561.jpeg'\n",
      ">>>> #WARNING: No file found for: TAO duck...\n",
      "[Errno 2] No such file or directory: 'D:/external_datasets/TAO/TAO_DIR/frames/val/YFCC100M/v_d389d21ddef286b3febd14de1db31615/frame0781.jpeg'\n"
     ]
    },
    {
     "name": "stderr",
     "output_type": "stream",
     "text": [
      "\n",
      "\n",
      ">>> Finding TAO duck...: 100%|██████████████████████████████████████████████████████| 40/40 [00:00<00:00, 400.03it/s]\u001b[A\n",
      "\n",
      ">>> Finding TAO duck...:   0%|                                                                | 0/40 [00:00<?, ?it/s]\u001b[A"
     ]
    },
    {
     "name": "stdout",
     "output_type": "stream",
     "text": [
      ">>>> #WARNING: No file found for: TAO duck...\n",
      "[Errno 2] No such file or directory: 'D:/external_datasets/TAO/TAO_DIR/frames/val/YFCC100M/v_d389d21ddef286b3febd14de1db31615/frame1531.jpeg'\n",
      ">>>> #WARNING: No file found for: TAO duck...\n",
      "[Errno 2] No such file or directory: 'D:/external_datasets/TAO/TAO_DIR/frames/val/YFCC100M/v_d389d21ddef286b3febd14de1db31615/frame0811.jpeg'\n"
     ]
    },
    {
     "name": "stderr",
     "output_type": "stream",
     "text": [
      ">>> Finding TAO duck...: 100%|██████████████████████████████████████████████████████| 40/40 [00:00<00:00, 421.08it/s]\n",
      "\n",
      ">>> Finding TAO duck...: 100%|██████████████████████████████████████████████████████| 40/40 [00:00<00:00, 408.14it/s]\u001b[A\n",
      "\n",
      ">>> Finding TAO duck...:   0%|                                                                | 0/40 [00:00<?, ?it/s]\u001b[A"
     ]
    },
    {
     "name": "stdout",
     "output_type": "stream",
     "text": [
      ">>>> #WARNING: No file found for: TAO duck...\n",
      "[Errno 2] No such file or directory: 'D:/external_datasets/TAO/TAO_DIR/frames/val/YFCC100M/v_d389d21ddef286b3febd14de1db31615/frame0421.jpeg'\n",
      ">>>> #WARNING: No file found for: TAO duck...\n",
      "[Errno 2] No such file or directory: 'D:/external_datasets/TAO/TAO_DIR/frames/val/YFCC100M/v_d389d21ddef286b3febd14de1db31615/frame0391.jpeg'\n"
     ]
    },
    {
     "name": "stderr",
     "output_type": "stream",
     "text": [
      "\n",
      ">>> Finding TAO duck...: 100%|██████████████████████████████████████████████████████| 40/40 [00:00<00:00, 344.79it/s]\u001b[A\n",
      "\n",
      ">>> Finding TAO duck...:   0%|                                                                | 0/40 [00:00<?, ?it/s]\u001b[A\n",
      ">>> Finding TAO duck...: 100%|██████████████████████████████████████████████████████| 40/40 [00:00<00:00, 357.16it/s]\u001b[A\n",
      "\n",
      ">>> Finding TAO duck...:   0%|                                                                | 0/40 [00:00<?, ?it/s]\u001b[A"
     ]
    },
    {
     "name": "stdout",
     "output_type": "stream",
     "text": [
      ">>>> #WARNING: No file found for: TAO duck...\n",
      "[Errno 2] No such file or directory: 'D:/external_datasets/TAO/TAO_DIR/frames/val/YFCC100M/v_d389d21ddef286b3febd14de1db31615/frame1111.jpeg'\n",
      ">>>> #WARNING: No file found for: TAO duck...\n",
      "[Errno 2] No such file or directory: 'D:/external_datasets/TAO/TAO_DIR/frames/val/YFCC100M/v_d389d21ddef286b3febd14de1db31615/frame0721.jpeg'\n"
     ]
    },
    {
     "name": "stderr",
     "output_type": "stream",
     "text": [
      "\n",
      ">>> Finding TAO duck...: 100%|██████████████████████████████████████████████████████| 40/40 [00:00<00:00, 373.84it/s]\u001b[A\n",
      " 37%|███████████████████████████▉                                               | 487/1310 [1:28:10<14:09,  1.03s/it]"
     ]
    },
    {
     "name": "stdout",
     "output_type": "stream",
     "text": [
      ">>>> #WARNING: No file found for: TAO duck...\n",
      "\n",
      ">> duckling...\n",
      ">>>> #WARNING duckling is missing from json annotations\n",
      "annotations datasets:  []\n",
      "annotations imgids:  []\n",
      "annotations bbox:  []\n",
      "\n",
      ">> duct_tape...\n",
      ">>>> #WARNING duct_tape is missing from json annotations\n",
      "annotations datasets:  []\n",
      "annotations imgids:  []\n",
      "annotations bbox:  []\n",
      "\n",
      ">> duffel_bag...\n",
      "TAO\n"
     ]
    },
    {
     "name": "stderr",
     "output_type": "stream",
     "text": [
      " 37%|████████████████████████████                                               | 490/1310 [1:28:12<12:06,  1.13it/s]\n",
      ">>> Finding TAO dustpan...: 100%|███████████████████████████████████████████████████| 30/30 [00:00<00:00, 461.27it/s]\u001b[A\n",
      "\n",
      ">>> Finding TAO dustpan...: 100%|███████████████████████████████████████████████████| 30/30 [00:00<00:00, 475.95it/s]\u001b[A"
     ]
    },
    {
     "name": "stdout",
     "output_type": "stream",
     "text": [
      "\n",
      ">> dumbbell...\n",
      ">>>> #WARNING dumbbell is missing from json annotations\n",
      "annotations datasets:  []\n",
      "annotations imgids:  []\n",
      "annotations bbox:  []\n",
      "\n",
      ">> dumpster...\n",
      ">>>> #WARNING dumpster is missing from json annotations\n",
      "annotations datasets:  []\n",
      "annotations imgids:  []\n",
      "annotations bbox:  []\n",
      "\n",
      ">> dustpan...\n",
      "TAO\n",
      "[Errno 2] No such file or directory: 'D:/external_datasets/TAO/TAO_DIR/frames/val/YFCC100M/v_2679deb09deb203ccb68dd832ac6572/frame0631.jpeg'\n",
      ">>>> #WARNING: No file found for: TAO dustpan...\n",
      "[Errno 2] No such file or directory: 'D:/external_datasets/TAO/TAO_DIR/frames/val/YFCC100M/v_2679deb09deb203ccb68dd832ac6572/frame0421.jpeg'\n"
     ]
    },
    {
     "name": "stderr",
     "output_type": "stream",
     "text": [
      "\n",
      "\n",
      ">>> Finding TAO dustpan...: 100%|███████████████████████████████████████████████████| 30/30 [00:00<00:00, 483.68it/s]\u001b[A\n",
      "\n",
      ">>> Finding TAO dustpan...: 100%|███████████████████████████████████████████████████| 30/30 [00:00<00:00, 475.94it/s]\u001b[A\n",
      "\n",
      ">>> Finding TAO dustpan...:   0%|                                                             | 0/30 [00:00<?, ?it/s]\u001b[A"
     ]
    },
    {
     "name": "stdout",
     "output_type": "stream",
     "text": [
      ">>>> #WARNING: No file found for: TAO dustpan...\n",
      "[Errno 2] No such file or directory: 'D:/external_datasets/TAO/TAO_DIR/frames/val/YFCC100M/v_2679deb09deb203ccb68dd832ac6572/frame0271.jpeg'\n",
      ">>>> #WARNING: No file found for: TAO dustpan...\n",
      "[Errno 2] No such file or directory: 'D:/external_datasets/TAO/TAO_DIR/frames/val/YFCC100M/v_2679deb09deb203ccb68dd832ac6572/frame0571.jpeg'\n",
      ">>>> #WARNING: No file found for: TAO dustpan...\n",
      "[Errno 2] No such file or directory: 'D:/external_datasets/TAO/TAO_DIR/frames/val/YFCC100M/v_2679deb09deb203ccb68dd832ac6572/frame1321.jpeg'\n"
     ]
    },
    {
     "name": "stderr",
     "output_type": "stream",
     "text": [
      ">>> Finding TAO dustpan...: 100%|███████████████████████████████████████████████████| 30/30 [00:00<00:00, 499.80it/s]\n",
      "\n",
      ">>> Finding TAO dustpan...: 100%|███████████████████████████████████████████████████| 30/30 [00:00<00:00, 517.05it/s]\u001b[A\n",
      "\n",
      ">>> Finding TAO dustpan...: 100%|███████████████████████████████████████████████████| 30/30 [00:00<00:00, 491.67it/s]\u001b[A\n",
      "\n",
      ">>> Finding TAO dustpan...:   0%|                                                             | 0/30 [00:00<?, ?it/s]\u001b[A"
     ]
    },
    {
     "name": "stdout",
     "output_type": "stream",
     "text": [
      ">>>> #WARNING: No file found for: TAO dustpan...\n",
      "[Errno 2] No such file or directory: 'D:/external_datasets/TAO/TAO_DIR/frames/val/YFCC100M/v_2679deb09deb203ccb68dd832ac6572/frame1021.jpeg'\n",
      ">>>> #WARNING: No file found for: TAO dustpan...\n",
      "[Errno 2] No such file or directory: 'D:/external_datasets/TAO/TAO_DIR/frames/val/YFCC100M/v_2679deb09deb203ccb68dd832ac6572/frame1141.jpeg'\n",
      ">>>> #WARNING: No file found for: TAO dustpan...\n",
      "[Errno 2] No such file or directory: 'D:/external_datasets/TAO/TAO_DIR/frames/val/YFCC100M/v_2679deb09deb203ccb68dd832ac6572/frame1381.jpeg'\n"
     ]
    },
    {
     "name": "stderr",
     "output_type": "stream",
     "text": [
      ">>> Finding TAO dustpan...: 100%|███████████████████████████████████████████████████| 30/30 [00:00<00:00, 517.14it/s]\n",
      "\n",
      ">>> Finding TAO dustpan...: 100%|███████████████████████████████████████████████████| 30/30 [00:00<00:00, 535.71it/s]\u001b[A\n",
      "\n",
      ">>> Finding TAO dustpan...: 100%|███████████████████████████████████████████████████| 30/30 [00:00<00:00, 468.72it/s]\u001b[A\n",
      " 38%|████████████████████████████▏                                              | 493/1310 [1:28:12<09:25,  1.44it/s]"
     ]
    },
    {
     "name": "stdout",
     "output_type": "stream",
     "text": [
      ">>>> #WARNING: No file found for: TAO dustpan...\n",
      "[Errno 2] No such file or directory: 'D:/external_datasets/TAO/TAO_DIR/frames/val/YFCC100M/v_2679deb09deb203ccb68dd832ac6572/frame1201.jpeg'\n",
      ">>>> #WARNING: No file found for: TAO dustpan...\n",
      "[Errno 2] No such file or directory: 'D:/external_datasets/TAO/TAO_DIR/frames/val/YFCC100M/v_2679deb09deb203ccb68dd832ac6572/frame0361.jpeg'\n",
      ">>>> #WARNING: No file found for: TAO dustpan...\n",
      "\n",
      ">> Dutch_oven...\n",
      ">>>> #WARNING Dutch_oven is missing from json annotations\n",
      "annotations datasets:  []\n",
      "annotations imgids:  []\n",
      "annotations bbox:  []\n",
      "\n",
      ">> eagle...\n",
      "TAO\n"
     ]
    },
    {
     "name": "stderr",
     "output_type": "stream",
     "text": [
      " 38%|████████████████████████████▎                                              | 495/1310 [1:28:14<09:49,  1.38it/s]"
     ]
    },
    {
     "name": "stdout",
     "output_type": "stream",
     "text": [
      "\n",
      ">> earphone...\n",
      "TAO\n"
     ]
    },
    {
     "name": "stderr",
     "output_type": "stream",
     "text": [
      "\n",
      ">>> Finding TAO earphone...:   0%|                                                            | 0/56 [00:00<?, ?it/s]\u001b[A"
     ]
    },
    {
     "name": "stdout",
     "output_type": "stream",
     "text": [
      "[Errno 2] No such file or directory: 'D:/external_datasets/TAO/TAO_DIR/frames/val/Charades/OU3HS/frame1111.jpg'\n"
     ]
    },
    {
     "name": "stderr",
     "output_type": "stream",
     "text": [
      "\n",
      " 38%|████████████████████████████▍                                              | 496/1310 [1:28:16<14:04,  1.04s/it]\n",
      ">>> Finding TAO egg...:   0%|                                                                | 0/103 [00:00<?, ?it/s]\u001b[A\n",
      "\n",
      ">>> Finding TAO egg...:   1%|▌                                                      | 1/103 [00:00<00:00, 124.99it/s]\u001b[A\n"
     ]
    },
    {
     "name": "stdout",
     "output_type": "stream",
     "text": [
      "\n",
      ">> earplug...\n",
      ">>>> #WARNING earplug is missing from json annotations\n",
      "annotations datasets:  []\n",
      "annotations imgids:  []\n",
      "annotations bbox:  []\n",
      "\n",
      ">> earring...\n",
      ">>>> #WARNING earring is missing from json annotations\n",
      "annotations datasets:  []\n",
      "annotations imgids:  []\n",
      "annotations bbox:  []\n",
      "\n",
      ">> easel...\n",
      ">>>> #WARNING easel is missing from json annotations\n",
      "annotations datasets:  []\n",
      "annotations imgids:  []\n",
      "annotations bbox:  []\n",
      "\n",
      ">> eclair...\n",
      ">>>> #WARNING eclair is missing from json annotations\n",
      "annotations datasets:  []\n",
      "annotations imgids:  []\n",
      "annotations bbox:  []\n",
      "\n",
      ">> eel...\n",
      ">>>> #WARNING eel is missing from json annotations\n",
      "annotations datasets:  []\n",
      "annotations imgids:  []\n",
      "annotations bbox:  []\n",
      "\n",
      ">> egg...\n",
      "TAO\n",
      "[Errno 2] No such file or directory: 'D:/external_datasets/TAO/TAO_DIR/frames/train/YFCC100M/v_ea33c680e1f18d71543b8f80815beec/frame1021.jpg'\n",
      "[Errno 2] No such file or directory: 'D:/external_datasets/TAO/TAO_DIR/frames/train/YFCC100M/v_ea33c680e1f18d71543b8f80815beec/frame1231.jpg'\n"
     ]
    },
    {
     "name": "stderr",
     "output_type": "stream",
     "text": [
      "\n",
      ">>> Finding TAO egg...:   2%|█                                                      | 2/103 [00:00<00:00, 250.23it/s]\u001b[A\n",
      "\n",
      ">>> Finding TAO egg...:   3%|█▋                                                      | 3/103 [00:00<00:01, 65.26it/s]\u001b[A"
     ]
    },
    {
     "name": "stdout",
     "output_type": "stream",
     "text": [
      "[Errno 2] No such file or directory: 'D:/external_datasets/TAO/TAO_DIR/frames/train/YFCC100M/v_ea33c680e1f18d71543b8f80815beec/frame1051.jpg'\n",
      "[Errno 2] No such file or directory: 'D:/external_datasets/TAO/TAO_DIR/frames/train/YFCC100M/v_ea33c680e1f18d71543b8f80815beec/frame1171.jpg'\n"
     ]
    },
    {
     "name": "stderr",
     "output_type": "stream",
     "text": [
      "\n",
      "\n",
      ">>> Finding TAO egg...:   4%|██▏                                                    | 4/103 [00:00<00:00, 501.26it/s]\u001b[A\n",
      " 38%|████████████████████████████▋                                              | 502/1310 [1:28:17<10:25,  1.29it/s]\n",
      ">>> Finding TAO eggbeater...:   0%|                                                           | 0/36 [00:00<?, ?it/s]\u001b[A"
     ]
    },
    {
     "name": "stdout",
     "output_type": "stream",
     "text": [
      "[Errno 2] No such file or directory: 'D:/external_datasets/TAO/TAO_DIR/frames/train/YFCC100M/v_ea33c680e1f18d71543b8f80815beec/frame1081.jpg'\n",
      "\n",
      ">> egg_roll...\n",
      ">>>> #WARNING egg_roll is missing from json annotations\n",
      "annotations datasets:  []\n",
      "annotations imgids:  []\n",
      "annotations bbox:  []\n",
      "\n",
      ">> egg_yolk...\n",
      ">>>> #WARNING egg_yolk is missing from json annotations\n",
      "annotations datasets:  []\n",
      "annotations imgids:  []\n",
      "annotations bbox:  []\n",
      "\n",
      ">> eggbeater...\n",
      "TAO\n",
      "[Errno 2] No such file or directory: 'D:/external_datasets/TAO/TAO_DIR/frames/val/YFCC100M/v_460a1314da9bd32cbd14a2b3414f30/frame0625.jpeg'\n"
     ]
    },
    {
     "name": "stderr",
     "output_type": "stream",
     "text": [
      ">>> Finding TAO eggbeater...: 100%|█████████████████████████████████████████████████| 36/36 [00:00<00:00, 413.79it/s]\n",
      "\n",
      ">>> Finding TAO eggbeater...: 100%|█████████████████████████████████████████████████| 36/36 [00:00<00:00, 371.24it/s]\u001b[A\n",
      "\n",
      ">>> Finding TAO eggbeater...:   0%|                                                           | 0/36 [00:00<?, ?it/s]\u001b[A"
     ]
    },
    {
     "name": "stdout",
     "output_type": "stream",
     "text": [
      ">>>> #WARNING: No file found for: TAO eggbeater...\n",
      "[Errno 2] No such file or directory: 'D:/external_datasets/TAO/TAO_DIR/frames/val/YFCC100M/v_460a1314da9bd32cbd14a2b3414f30/frame1225.jpeg'\n",
      ">>>> #WARNING: No file found for: TAO eggbeater...\n",
      "[Errno 2] No such file or directory: 'D:/external_datasets/TAO/TAO_DIR/frames/val/YFCC100M/v_460a1314da9bd32cbd14a2b3414f30/frame1009.jpeg'\n"
     ]
    },
    {
     "name": "stderr",
     "output_type": "stream",
     "text": [
      ">>> Finding TAO eggbeater...: 100%|█████████████████████████████████████████████████| 36/36 [00:00<00:00, 374.98it/s]\n",
      "\n",
      ">>> Finding TAO eggbeater...: 100%|█████████████████████████████████████████████████| 36/36 [00:00<00:00, 473.67it/s]\u001b[A\n",
      "\n",
      ">>> Finding TAO eggbeater...: 100%|█████████████████████████████████████████████████| 36/36 [00:00<00:00, 467.58it/s]\u001b[A\n",
      "\n",
      ">>> Finding TAO eggbeater...:   0%|                                                           | 0/36 [00:00<?, ?it/s]\u001b[A"
     ]
    },
    {
     "name": "stdout",
     "output_type": "stream",
     "text": [
      ">>>> #WARNING: No file found for: TAO eggbeater...\n",
      "[Errno 2] No such file or directory: 'D:/external_datasets/TAO/TAO_DIR/frames/val/YFCC100M/v_460a1314da9bd32cbd14a2b3414f30/frame1177.jpeg'\n",
      ">>>> #WARNING: No file found for: TAO eggbeater...\n",
      "[Errno 2] No such file or directory: 'D:/external_datasets/TAO/TAO_DIR/frames/val/YFCC100M/v_460a1314da9bd32cbd14a2b3414f30/frame0673.jpeg'\n",
      ">>>> #WARNING: No file found for: TAO eggbeater...\n",
      "[Errno 2] No such file or directory: 'D:/external_datasets/TAO/TAO_DIR/frames/val/YFCC100M/v_460a1314da9bd32cbd14a2b3414f30/frame0817.jpeg'\n"
     ]
    },
    {
     "name": "stderr",
     "output_type": "stream",
     "text": [
      ">>> Finding TAO eggbeater...: 100%|█████████████████████████████████████████████████| 36/36 [00:00<00:00, 480.02it/s]\n",
      "\n",
      ">>> Finding TAO eggbeater...: 100%|█████████████████████████████████████████████████| 36/36 [00:00<00:00, 473.46it/s]\u001b[A\n",
      "\n",
      ">>> Finding TAO eggbeater...: 100%|█████████████████████████████████████████████████| 36/36 [00:00<00:00, 473.73it/s]\u001b[A\n",
      "\n",
      ">>> Finding TAO eggbeater...:   0%|                                                           | 0/36 [00:00<?, ?it/s]\u001b[A"
     ]
    },
    {
     "name": "stdout",
     "output_type": "stream",
     "text": [
      ">>>> #WARNING: No file found for: TAO eggbeater...\n",
      "[Errno 2] No such file or directory: 'D:/external_datasets/TAO/TAO_DIR/frames/val/YFCC100M/v_460a1314da9bd32cbd14a2b3414f30/frame1105.jpeg'\n",
      ">>>> #WARNING: No file found for: TAO eggbeater...\n",
      "[Errno 2] No such file or directory: 'D:/external_datasets/TAO/TAO_DIR/frames/val/YFCC100M/v_460a1314da9bd32cbd14a2b3414f30/frame0889.jpeg'\n",
      ">>>> #WARNING: No file found for: TAO eggbeater...\n",
      "[Errno 2] No such file or directory: 'D:/external_datasets/TAO/TAO_DIR/frames/val/YFCC100M/v_460a1314da9bd32cbd14a2b3414f30/frame0745.jpeg'\n"
     ]
    },
    {
     "name": "stderr",
     "output_type": "stream",
     "text": [
      ">>> Finding TAO eggbeater...: 100%|█████████████████████████████████████████████████| 36/36 [00:00<00:00, 455.52it/s]\n",
      "\n",
      ">>> Finding TAO eggbeater...: 100%|█████████████████████████████████████████████████| 36/36 [00:00<00:00, 455.40it/s]\u001b[A\n",
      " 39%|████████████████████████████▉                                              | 505/1310 [1:28:18<08:29,  1.58it/s]"
     ]
    },
    {
     "name": "stdout",
     "output_type": "stream",
     "text": [
      ">>>> #WARNING: No file found for: TAO eggbeater...\n",
      "[Errno 2] No such file or directory: 'D:/external_datasets/TAO/TAO_DIR/frames/val/YFCC100M/v_460a1314da9bd32cbd14a2b3414f30/frame0649.jpeg'\n",
      ">>>> #WARNING: No file found for: TAO eggbeater...\n",
      "\n",
      ">> eggplant...\n",
      ">>>> #WARNING eggplant is missing from json annotations\n",
      "annotations datasets:  []\n",
      "annotations imgids:  []\n",
      "annotations bbox:  []\n",
      "\n",
      ">> electric_chair...\n",
      ">>>> #WARNING electric_chair is missing from json annotations\n",
      "annotations datasets:  []\n",
      "annotations imgids:  []\n",
      "annotations bbox:  []\n",
      "\n",
      ">> refrigerator...\n",
      "TAO\n"
     ]
    },
    {
     "name": "stderr",
     "output_type": "stream",
     "text": [
      " 39%|█████████████████████████████                                              | 508/1310 [1:28:20<08:41,  1.54it/s]"
     ]
    },
    {
     "name": "stdout",
     "output_type": "stream",
     "text": [
      "\n",
      ">> elephant...\n",
      "TAO\n"
     ]
    },
    {
     "name": "stderr",
     "output_type": "stream",
     "text": [
      " 39%|█████████████████████████████▏                                             | 509/1310 [1:28:21<12:35,  1.06it/s]"
     ]
    },
    {
     "name": "stdout",
     "output_type": "stream",
     "text": [
      "\n",
      ">> elk...\n",
      ">>>> #WARNING elk is missing from json annotations\n",
      "annotations datasets:  []\n",
      "annotations imgids:  []\n",
      "annotations bbox:  []\n",
      "\n",
      ">> envelope...\n",
      "TAO\n"
     ]
    },
    {
     "name": "stderr",
     "output_type": "stream",
     "text": [
      " 39%|█████████████████████████████▎                                             | 511/1310 [1:28:23<12:07,  1.10it/s]\n",
      ">>> Finding TAO fan...:   0%|                                                                 | 0/80 [00:00<?, ?it/s]\u001b[A\n"
     ]
    },
    {
     "name": "stdout",
     "output_type": "stream",
     "text": [
      "\n",
      ">> eraser...\n",
      ">>>> #WARNING eraser is missing from json annotations\n",
      "annotations datasets:  []\n",
      "annotations imgids:  []\n",
      "annotations bbox:  []\n",
      "\n",
      ">> escargot...\n",
      ">>>> #WARNING escargot is missing from json annotations\n",
      "annotations datasets:  []\n",
      "annotations imgids:  []\n",
      "annotations bbox:  []\n",
      "\n",
      ">> eyepatch...\n",
      ">>>> #WARNING eyepatch is missing from json annotations\n",
      "annotations datasets:  []\n",
      "annotations imgids:  []\n",
      "annotations bbox:  []\n",
      "\n",
      ">> falcon...\n",
      ">>>> #WARNING falcon is missing from json annotations\n",
      "annotations datasets:  []\n",
      "annotations imgids:  []\n",
      "annotations bbox:  []\n",
      "\n",
      ">> fan...\n",
      "TAO\n",
      "[Errno 2] No such file or directory: 'D:/external_datasets/TAO/TAO_DIR/frames/train/HACS/Doing_step_aerobics_v_8QyDjT0ZsHE_scene_0_0-3823/frame1171.jpg'\n"
     ]
    },
    {
     "name": "stderr",
     "output_type": "stream",
     "text": [
      " 39%|█████████████████████████████▌                                             | 516/1310 [1:28:25<09:47,  1.35it/s]"
     ]
    },
    {
     "name": "stdout",
     "output_type": "stream",
     "text": [
      "\n",
      ">> faucet...\n",
      "TAO\n"
     ]
    },
    {
     "name": "stderr",
     "output_type": "stream",
     "text": [
      "\n",
      ">>> Finding TAO faucet...:   0%|                                                             | 0/149 [00:00<?, ?it/s]\u001b[A\n",
      "\n",
      ">>> Finding TAO faucet...:   1%|▎                                                    | 1/149 [00:00<00:07, 18.52it/s]\u001b[A"
     ]
    },
    {
     "name": "stdout",
     "output_type": "stream",
     "text": [
      "[Errno 2] No such file or directory: 'D:/external_datasets/TAO/TAO_DIR/frames/val/HACS/Hand_washing_clothes_v_jLIcguu29qM/frame1261.jpg'\n",
      "[Errno 2] No such file or directory: 'D:/external_datasets/TAO/TAO_DIR/frames/val/HACS/Hand_washing_clothes_v_jLIcguu29qM/frame1321.jpg'\n"
     ]
    },
    {
     "name": "stderr",
     "output_type": "stream",
     "text": [
      "\n",
      " 39%|█████████████████████████████▌                                             | 517/1310 [1:28:27<13:59,  1.06s/it]\n",
      ">>> Finding TAO file_(tool)...: 100%|██████████████████████████████████████████████| 12/12 [00:00<00:00, 1703.44it/s]\u001b[A\n",
      "\n",
      ">>> Finding TAO file_(tool)...: 100%|██████████████████████████████████████████████| 12/12 [00:00<00:00, 1494.01it/s]\u001b[A\n",
      "\n",
      ">>> Finding TAO file_(tool)...: 100%|██████████████████████████████████████████████| 12/12 [00:00<00:00, 1714.29it/s]\u001b[A\n",
      "\n",
      ">>> Finding TAO file_(tool)...: 100%|██████████████████████████████████████████████| 12/12 [00:00<00:00, 1703.79it/s]\u001b[A\n",
      "\n",
      ">>> Finding TAO file_(tool)...: 100%|██████████████████████████████████████████████| 12/12 [00:00<00:00, 2013.02it/s]\u001b[A\n",
      "\n",
      ">>> Finding TAO file_(tool)...: 100%|██████████████████████████████████████████████| 12/12 [00:00<00:00, 2402.35it/s]\u001b[A\n",
      "\n",
      ">>> Finding TAO file_(tool)...: 100%|██████████████████████████████████████████████| 12/12 [00:00<00:00, 1500.69it/s]\u001b[A\n",
      "\n",
      ">>> Finding TAO file_(tool)...: 100%|██████████████████████████████████████████████| 12/12 [00:00<00:00, 2008.93it/s]\u001b[A\n",
      "\n",
      ">>> Finding TAO file_(tool)...: 100%|██████████████████████████████████████████████| 12/12 [00:00<00:00, 1714.70it/s]\u001b[A\n",
      "\n",
      ">>> Finding TAO file_(tool)...: 100%|██████████████████████████████████████████████| 12/12 [00:00<00:00, 1994.83it/s]\u001b[A\n",
      " 40%|██████████████████████████████                                             | 526/1310 [1:28:27<09:45,  1.34it/s]"
     ]
    },
    {
     "name": "stdout",
     "output_type": "stream",
     "text": [
      "\n",
      ">> fedora...\n",
      ">>>> #WARNING fedora is missing from json annotations\n",
      "annotations datasets:  []\n",
      "annotations imgids:  []\n",
      "annotations bbox:  []\n",
      "\n",
      ">> ferret...\n",
      ">>>> #WARNING ferret is missing from json annotations\n",
      "annotations datasets:  []\n",
      "annotations imgids:  []\n",
      "annotations bbox:  []\n",
      "\n",
      ">> Ferris_wheel...\n",
      ">>>> #WARNING Ferris_wheel is missing from json annotations\n",
      "annotations datasets:  []\n",
      "annotations imgids:  []\n",
      "annotations bbox:  []\n",
      "\n",
      ">> ferry...\n",
      ">>>> #WARNING ferry is missing from json annotations\n",
      "annotations datasets:  []\n",
      "annotations imgids:  []\n",
      "annotations bbox:  []\n",
      "\n",
      ">> fig_(fruit)...\n",
      ">>>> #WARNING fig_(fruit) is missing from json annotations\n",
      "annotations datasets:  []\n",
      "annotations imgids:  []\n",
      "annotations bbox:  []\n",
      "\n",
      ">> fighter_jet...\n",
      ">>>> #WARNING fighter_jet is missing from json annotations\n",
      "annotations datasets:  []\n",
      "annotations imgids:  []\n",
      "annotations bbox:  []\n",
      "\n",
      ">> figurine...\n",
      ">>>> #WARNING figurine is missing from json annotations\n",
      "annotations datasets:  []\n",
      "annotations imgids:  []\n",
      "annotations bbox:  []\n",
      "\n",
      ">> file_cabinet...\n",
      ">>>> #WARNING file_cabinet is missing from json annotations\n",
      "annotations datasets:  []\n",
      "annotations imgids:  []\n",
      "annotations bbox:  []\n",
      "\n",
      ">> file_(tool)...\n",
      "TAO\n",
      "[Errno 2] No such file or directory: 'D:/external_datasets/TAO/TAO_DIR/frames/train/YFCC100M/v_23584c2660351f12cffe1399c47ce870/frame1801.jpeg'\n",
      ">>>> #WARNING: No file found for: TAO file_(tool)...\n",
      "[Errno 2] No such file or directory: 'D:/external_datasets/TAO/TAO_DIR/frames/train/YFCC100M/v_23584c2660351f12cffe1399c47ce870/frame1831.jpeg'\n",
      ">>>> #WARNING: No file found for: TAO file_(tool)...\n",
      "[Errno 2] No such file or directory: 'D:/external_datasets/TAO/TAO_DIR/frames/train/YFCC100M/v_23584c2660351f12cffe1399c47ce870/frame1261.jpeg'\n",
      ">>>> #WARNING: No file found for: TAO file_(tool)...\n",
      "[Errno 2] No such file or directory: 'D:/external_datasets/TAO/TAO_DIR/frames/train/YFCC100M/v_23584c2660351f12cffe1399c47ce870/frame1891.jpeg'\n",
      ">>>> #WARNING: No file found for: TAO file_(tool)...\n",
      "[Errno 2] No such file or directory: 'D:/external_datasets/TAO/TAO_DIR/frames/train/YFCC100M/v_23584c2660351f12cffe1399c47ce870/frame1921.jpeg'\n",
      ">>>> #WARNING: No file found for: TAO file_(tool)...\n",
      "[Errno 2] No such file or directory: 'D:/external_datasets/TAO/TAO_DIR/frames/train/YFCC100M/v_23584c2660351f12cffe1399c47ce870/frame1201.jpeg'\n",
      ">>>> #WARNING: No file found for: TAO file_(tool)...\n",
      "[Errno 2] No such file or directory: 'D:/external_datasets/TAO/TAO_DIR/frames/train/YFCC100M/v_23584c2660351f12cffe1399c47ce870/frame1291.jpeg'\n",
      ">>>> #WARNING: No file found for: TAO file_(tool)...\n",
      "[Errno 2] No such file or directory: 'D:/external_datasets/TAO/TAO_DIR/frames/train/YFCC100M/v_23584c2660351f12cffe1399c47ce870/frame1231.jpeg'\n",
      ">>>> #WARNING: No file found for: TAO file_(tool)...\n",
      "[Errno 2] No such file or directory: 'D:/external_datasets/TAO/TAO_DIR/frames/train/YFCC100M/v_23584c2660351f12cffe1399c47ce870/frame1861.jpeg'\n",
      ">>>> #WARNING: No file found for: TAO file_(tool)...\n",
      "[Errno 2] No such file or directory: 'D:/external_datasets/TAO/TAO_DIR/frames/train/YFCC100M/v_23584c2660351f12cffe1399c47ce870/frame1111.jpeg'\n",
      ">>>> #WARNING: No file found for: TAO file_(tool)...\n",
      "\n",
      ">> fire_alarm...\n",
      ">>>> #WARNING fire_alarm is missing from json annotations\n",
      "annotations datasets:  []\n",
      "annotations imgids:  []\n",
      "annotations bbox:  []\n",
      "\n",
      ">> fire_engine...\n",
      ">>>> #WARNING fire_engine is missing from json annotations\n",
      "annotations datasets:  []\n",
      "annotations imgids:  []\n",
      "annotations bbox:  []\n",
      "\n",
      ">> fire_extinguisher...\n",
      ">>>> #WARNING fire_extinguisher is missing from json annotations\n",
      "annotations datasets:  []\n",
      "annotations imgids:  []\n",
      "annotations bbox:  []\n",
      "\n",
      ">> fire_hose...\n",
      ">>>> #WARNING fire_hose is missing from json annotations\n",
      "annotations datasets:  []\n",
      "annotations imgids:  []\n",
      "annotations bbox:  []\n",
      "\n",
      ">> fireplace...\n",
      ">>>> #WARNING fireplace is missing from json annotations\n",
      "annotations datasets:  []\n",
      "annotations imgids:  []\n",
      "annotations bbox:  []\n",
      "\n",
      ">> fireplug...\n",
      ">>>> #WARNING fireplug is missing from json annotations\n",
      "annotations datasets:  []\n",
      "annotations imgids:  []\n",
      "annotations bbox:  []\n",
      "\n",
      ">> fish...\n",
      "TAO\n"
     ]
    },
    {
     "name": "stderr",
     "output_type": "stream",
     "text": [
      " 41%|██████████████████████████████▌                                            | 533/1310 [1:28:29<07:49,  1.65it/s]"
     ]
    },
    {
     "name": "stdout",
     "output_type": "stream",
     "text": [
      "\n",
      ">> fish_(food)...\n",
      ">>>> #WARNING fish_(food) is missing from json annotations\n",
      "annotations datasets:  []\n",
      "annotations imgids:  []\n",
      "annotations bbox:  []\n",
      "\n",
      ">> fishbowl...\n",
      ">>>> #WARNING fishbowl is missing from json annotations\n",
      "annotations datasets:  []\n",
      "annotations imgids:  []\n",
      "annotations bbox:  []\n",
      "\n",
      ">> fishing_boat...\n",
      ">>>> #WARNING fishing_boat is missing from json annotations\n",
      "annotations datasets:  []\n",
      "annotations imgids:  []\n",
      "annotations bbox:  []\n",
      "\n",
      ">> fishing_rod...\n",
      "TAO\n"
     ]
    },
    {
     "name": "stderr",
     "output_type": "stream",
     "text": [
      " 41%|██████████████████████████████▋                                            | 537/1310 [1:28:32<08:13,  1.56it/s]"
     ]
    },
    {
     "name": "stdout",
     "output_type": "stream",
     "text": [
      "\n",
      ">> flag...\n",
      "TAO\n"
     ]
    },
    {
     "name": "stderr",
     "output_type": "stream",
     "text": [
      "\n",
      ">>> Finding TAO flag...:   0%|                                                               | 0/520 [00:00<?, ?it/s]\u001b[A"
     ]
    },
    {
     "name": "stdout",
     "output_type": "stream",
     "text": [
      "[Errno 2] No such file or directory: 'D:/external_datasets/TAO/TAO_DIR/frames/val/ArgoVerse/33737504-3373-3373-3373-633738571776/ring_front_center_315968428000068528.jpg'\n"
     ]
    },
    {
     "name": "stderr",
     "output_type": "stream",
     "text": [
      "\n",
      " 41%|██████████████████████████████▊                                            | 538/1310 [1:28:33<12:44,  1.01it/s]"
     ]
    },
    {
     "name": "stdout",
     "output_type": "stream",
     "text": [
      "\n",
      ">> flagpole...\n",
      ">>>> #WARNING flagpole is missing from json annotations\n",
      "annotations datasets:  []\n",
      "annotations imgids:  []\n",
      "annotations bbox:  []\n",
      "\n",
      ">> flamingo...\n",
      ">>>> #WARNING flamingo is missing from json annotations\n",
      "annotations datasets:  []\n",
      "annotations imgids:  []\n",
      "annotations bbox:  []\n",
      "\n",
      ">> flannel...\n",
      ">>>> #WARNING flannel is missing from json annotations\n",
      "annotations datasets:  []\n",
      "annotations imgids:  []\n",
      "annotations bbox:  []\n",
      "\n",
      ">> flash...\n",
      ">>>> #WARNING flash is missing from json annotations\n",
      "annotations datasets:  []\n",
      "annotations imgids:  []\n",
      "annotations bbox:  []\n",
      "\n",
      ">> flashlight...\n",
      ">>>> #WARNING flashlight is missing from json annotations\n",
      "annotations datasets:  []\n",
      "annotations imgids:  []\n",
      "annotations bbox:  []\n",
      "\n",
      ">> fleece...\n",
      ">>>> #WARNING fleece is missing from json annotations\n",
      "annotations datasets:  []\n",
      "annotations imgids:  []\n",
      "annotations bbox:  []\n",
      "\n",
      ">> flip-flop_(sandal)...\n",
      ">>>> #WARNING flip-flop_(sandal) is missing from json annotations\n",
      "annotations datasets:  []\n",
      "annotations imgids:  []\n",
      "annotations bbox:  []\n",
      "\n",
      ">> flipper_(footwear)...\n",
      ">>>> #WARNING flipper_(footwear) is missing from json annotations\n",
      "annotations datasets:  []\n",
      "annotations imgids:  []\n",
      "annotations bbox:  []\n",
      "\n",
      ">> flower_arrangement...\n",
      ">>>> #WARNING flower_arrangement is missing from json annotations\n",
      "annotations datasets:  []\n",
      "annotations imgids:  []\n",
      "annotations bbox:  []\n",
      "\n",
      ">> flute_glass...\n",
      "TAO\n"
     ]
    },
    {
     "name": "stderr",
     "output_type": "stream",
     "text": [
      "\n",
      ">>> Finding TAO flute_glass...:   0%|                                                         | 0/80 [00:00<?, ?it/s]\u001b[A"
     ]
    },
    {
     "name": "stdout",
     "output_type": "stream",
     "text": [
      "[Errno 2] No such file or directory: 'D:/external_datasets/TAO/TAO_DIR/frames/val/AVA/lWXhqIAvarw_scene_3_30264-31871/frame1101.jpg'\n"
     ]
    },
    {
     "name": "stderr",
     "output_type": "stream",
     "text": [
      "\n",
      "\n",
      ">>> Finding TAO flute_glass...:   1%|▌                                                | 1/80 [00:00<00:02, 33.34it/s]\u001b[A"
     ]
    },
    {
     "name": "stdout",
     "output_type": "stream",
     "text": [
      "[Errno 2] No such file or directory: 'D:/external_datasets/TAO/TAO_DIR/frames/val/AVA/lWXhqIAvarw_scene_3_30264-31871/frame1026.jpg'\n"
     ]
    },
    {
     "name": "stderr",
     "output_type": "stream",
     "text": [
      "\n",
      "\n",
      ">>> Finding TAO flute_glass...:   2%|█▏                                               | 2/80 [00:00<00:02, 28.17it/s]\u001b[A"
     ]
    },
    {
     "name": "stdout",
     "output_type": "stream",
     "text": [
      "[Errno 2] No such file or directory: 'D:/external_datasets/TAO/TAO_DIR/frames/val/AVA/lWXhqIAvarw_scene_3_30264-31871/frame1051.jpg'\n"
     ]
    },
    {
     "name": "stderr",
     "output_type": "stream",
     "text": [
      "\n",
      " 42%|███████████████████████████████▎                                           | 548/1310 [1:28:36<09:49,  1.29it/s]"
     ]
    },
    {
     "name": "stdout",
     "output_type": "stream",
     "text": [
      "\n",
      ">> foal...\n",
      ">>>> #WARNING foal is missing from json annotations\n",
      "annotations datasets:  []\n",
      "annotations imgids:  []\n",
      "annotations bbox:  []\n",
      "\n",
      ">> folding_chair...\n",
      ">>>> #WARNING folding_chair is missing from json annotations\n",
      "annotations datasets:  []\n",
      "annotations imgids:  []\n",
      "annotations bbox:  []\n",
      "\n",
      ">> food_processor...\n",
      ">>>> #WARNING food_processor is missing from json annotations\n",
      "annotations datasets:  []\n",
      "annotations imgids:  []\n",
      "annotations bbox:  []\n",
      "\n",
      ">> football_(American)...\n",
      ">>>> #WARNING football_(American) is missing from json annotations\n",
      "annotations datasets:  []\n",
      "annotations imgids:  []\n",
      "annotations bbox:  []\n",
      "\n",
      ">> football_helmet...\n",
      "TAO\n"
     ]
    },
    {
     "name": "stderr",
     "output_type": "stream",
     "text": [
      " 42%|███████████████████████████████▋                                           | 553/1310 [1:28:38<08:04,  1.56it/s]\n",
      ">>> Finding TAO fork...:   0%|                                                               | 0/167 [00:00<?, ?it/s]\u001b[A\n",
      ">>> Finding TAO fork...:  11%|██████                                               | 19/167 [00:00<00:00, 189.99it/s]\u001b[A"
     ]
    },
    {
     "name": "stdout",
     "output_type": "stream",
     "text": [
      "\n",
      ">> footstool...\n",
      ">>>> #WARNING footstool is missing from json annotations\n",
      "annotations datasets:  []\n",
      "annotations imgids:  []\n",
      "annotations bbox:  []\n",
      "\n",
      ">> fork...\n",
      "TAO\n",
      "[Errno 2] No such file or directory: 'D:/external_datasets/TAO/TAO_DIR/frames/val/YFCC100M/v_f98739249efe1830f81eb02e6d756d15/frame1141.jpeg'\n"
     ]
    },
    {
     "name": "stderr",
     "output_type": "stream",
     "text": [
      ">>> Finding TAO fork...:  17%|████████▉                                            | 28/167 [00:00<00:01, 126.69it/s]\n",
      "\n",
      ">>> Finding TAO fork...:  17%|█████████▏                                           | 29/167 [00:00<00:00, 273.91it/s]\u001b[A"
     ]
    },
    {
     "name": "stdout",
     "output_type": "stream",
     "text": [
      "[Errno 2] No such file or directory: 'D:/external_datasets/TAO/TAO_DIR/frames/train/YFCC100M/v_178d5e91768b9c42488ff879c1fa54/frame1261.jpeg'\n"
     ]
    },
    {
     "name": "stderr",
     "output_type": "stream",
     "text": [
      "\n",
      "\n",
      ">>> Finding TAO fork...:  18%|█████████▌                                           | 30/167 [00:00<00:00, 227.09it/s]\u001b[A"
     ]
    },
    {
     "name": "stdout",
     "output_type": "stream",
     "text": [
      "[Errno 2] No such file or directory: 'D:/external_datasets/TAO/TAO_DIR/frames/val/YFCC100M/v_f98739249efe1830f81eb02e6d756d15/frame1381.jpeg'\n"
     ]
    },
    {
     "name": "stderr",
     "output_type": "stream",
     "text": [
      "\n",
      " 42%|███████████████████████████████▊                                           | 555/1310 [1:28:40<10:12,  1.23it/s]"
     ]
    },
    {
     "name": "stdout",
     "output_type": "stream",
     "text": [
      "\n",
      ">> forklift...\n",
      ">>>> #WARNING forklift is missing from json annotations\n",
      "annotations datasets:  []\n",
      "annotations imgids:  []\n",
      "annotations bbox:  []\n",
      "\n",
      ">> freight_car...\n",
      ">>>> #WARNING freight_car is missing from json annotations\n",
      "annotations datasets:  []\n",
      "annotations imgids:  []\n",
      "annotations bbox:  []\n",
      "\n",
      ">> French_toast...\n",
      ">>>> #WARNING French_toast is missing from json annotations\n",
      "annotations datasets:  []\n",
      "annotations imgids:  []\n",
      "annotations bbox:  []\n",
      "\n",
      ">> freshener...\n",
      ">>>> #WARNING freshener is missing from json annotations\n",
      "annotations datasets:  []\n",
      "annotations imgids:  []\n",
      "annotations bbox:  []\n",
      "\n",
      ">> frisbee...\n",
      "TAO\n"
     ]
    },
    {
     "name": "stderr",
     "output_type": "stream",
     "text": [
      "\n",
      ">>> Finding TAO frisbee...:   4%|██▎                                                  | 1/23 [00:00<00:01, 15.15it/s]\u001b[A"
     ]
    },
    {
     "name": "stdout",
     "output_type": "stream",
     "text": [
      "[Errno 2] No such file or directory: 'D:/external_datasets/TAO/TAO_DIR/frames/val/HACS/Playing_ice_hockey_v_NGeXc5aUqX4_scene_0_0-1136/frame1081.jpg'\n"
     ]
    },
    {
     "name": "stderr",
     "output_type": "stream",
     "text": [
      "\n",
      "\n",
      ">>> Finding TAO frisbee...:   9%|████▌                                                | 2/23 [00:00<00:00, 28.17it/s]\u001b[A"
     ]
    },
    {
     "name": "stdout",
     "output_type": "stream",
     "text": [
      "[Errno 2] No such file or directory: 'D:/external_datasets/TAO/TAO_DIR/frames/val/HACS/Discus_throw_v_uf1qMhzjHAc/frame4111.jpg'\n",
      "[Errno 2] No such file or directory: 'D:/external_datasets/TAO/TAO_DIR/frames/val/HACS/Playing_ice_hockey_v_NGeXc5aUqX4_scene_0_0-1136/frame1021.jpg'\n"
     ]
    },
    {
     "name": "stderr",
     "output_type": "stream",
     "text": [
      "\n",
      "\n",
      ">>> Finding TAO frisbee...:  13%|██████▉                                              | 3/23 [00:00<00:00, 34.08it/s]\u001b[A"
     ]
    },
    {
     "name": "stdout",
     "output_type": "stream",
     "text": [
      "[Errno 2] No such file or directory: 'D:/external_datasets/TAO/TAO_DIR/frames/val/HACS/Playing_ice_hockey_v_NGeXc5aUqX4_scene_0_0-1136/frame1051.jpg'\n"
     ]
    },
    {
     "name": "stderr",
     "output_type": "stream",
     "text": [
      "\n",
      "\n",
      ">>> Finding TAO frisbee...:  17%|█████████▏                                           | 4/23 [00:00<00:00, 59.70it/s]\u001b[A\n",
      "\n",
      ">>> Finding TAO frisbee...:  26%|█████████████▌                                      | 6/23 [00:00<00:00, 111.11it/s]\u001b[A"
     ]
    },
    {
     "name": "stdout",
     "output_type": "stream",
     "text": [
      "[Errno 2] No such file or directory: 'D:/external_datasets/TAO/TAO_DIR/frames/val/HACS/Discus_throw_v_uf1qMhzjHAc/frame3961.jpg'\n",
      "[Errno 2] No such file or directory: 'D:/external_datasets/TAO/TAO_DIR/frames/val/HACS/Discus_throw_v_uf1qMhzjHAc/frame3991.jpg'\n"
     ]
    },
    {
     "name": "stderr",
     "output_type": "stream",
     "text": [
      "\n",
      "\n",
      ">>> Finding TAO frisbee...:  30%|███████████████▊                                    | 7/23 [00:00<00:00, 104.49it/s]\u001b[A\n",
      " 43%|████████████████████████████████                                           | 560/1310 [1:28:42<08:34,  1.46it/s]"
     ]
    },
    {
     "name": "stdout",
     "output_type": "stream",
     "text": [
      "\n",
      ">> frog...\n",
      "TAO\n"
     ]
    },
    {
     "name": "stderr",
     "output_type": "stream",
     "text": [
      " 43%|████████████████████████████████                                           | 561/1310 [1:28:44<12:55,  1.04s/it]"
     ]
    },
    {
     "name": "stdout",
     "output_type": "stream",
     "text": [
      "\n",
      ">> fruit_juice...\n",
      ">>>> #WARNING fruit_juice is missing from json annotations\n",
      "annotations datasets:  []\n",
      "annotations imgids:  []\n",
      "annotations bbox:  []\n",
      "\n",
      ">> fruit_salad...\n",
      ">>>> #WARNING fruit_salad is missing from json annotations\n",
      "annotations datasets:  []\n",
      "annotations imgids:  []\n",
      "annotations bbox:  []\n",
      "\n",
      ">> frying_pan...\n",
      ">>>> #WARNING frying_pan is missing from json annotations\n",
      "annotations datasets:  []\n",
      "annotations imgids:  []\n",
      "annotations bbox:  []\n",
      "\n",
      ">> fudge...\n",
      ">>>> #WARNING fudge is missing from json annotations\n",
      "annotations datasets:  []\n",
      "annotations imgids:  []\n",
      "annotations bbox:  []\n",
      "\n",
      ">> funnel...\n",
      ">>>> #WARNING funnel is missing from json annotations\n",
      "annotations datasets:  []\n",
      "annotations imgids:  []\n",
      "annotations bbox:  []\n",
      "\n",
      ">> futon...\n",
      ">>>> #WARNING futon is missing from json annotations\n",
      "annotations datasets:  []\n",
      "annotations imgids:  []\n",
      "annotations bbox:  []\n",
      "\n",
      ">> gag...\n",
      ">>>> #WARNING gag is missing from json annotations\n",
      "annotations datasets:  []\n",
      "annotations imgids:  []\n",
      "annotations bbox:  []\n",
      "\n",
      ">> garbage...\n",
      "TAO\n"
     ]
    },
    {
     "name": "stderr",
     "output_type": "stream",
     "text": [
      " 43%|████████████████████████████████▌                                          | 569/1310 [1:28:44<09:06,  1.36it/s]"
     ]
    },
    {
     "name": "stdout",
     "output_type": "stream",
     "text": [
      "\n",
      ">> garbage_truck...\n",
      "TAO\n"
     ]
    },
    {
     "name": "stderr",
     "output_type": "stream",
     "text": [
      " 44%|████████████████████████████████▋                                          | 570/1310 [1:28:45<10:12,  1.21it/s]"
     ]
    },
    {
     "name": "stdout",
     "output_type": "stream",
     "text": [
      "\n",
      ">> garden_hose...\n",
      ">>>> #WARNING garden_hose is missing from json annotations\n",
      "annotations datasets:  []\n",
      "annotations imgids:  []\n",
      "annotations bbox:  []\n",
      "\n",
      ">> gargle...\n",
      ">>>> #WARNING gargle is missing from json annotations\n",
      "annotations datasets:  []\n",
      "annotations imgids:  []\n",
      "annotations bbox:  []\n",
      "\n",
      ">> gargoyle...\n",
      ">>>> #WARNING gargoyle is missing from json annotations\n",
      "annotations datasets:  []\n",
      "annotations imgids:  []\n",
      "annotations bbox:  []\n",
      "\n",
      ">> garlic...\n",
      ">>>> #WARNING garlic is missing from json annotations\n",
      "annotations datasets:  []\n",
      "annotations imgids:  []\n",
      "annotations bbox:  []\n",
      "\n",
      ">> gasmask...\n",
      "TAO\n"
     ]
    },
    {
     "name": "stderr",
     "output_type": "stream",
     "text": [
      "\n",
      ">>> Finding TAO gasmask...:   0%|                                                             | 0/36 [00:00<?, ?it/s]\u001b[A"
     ]
    },
    {
     "name": "stdout",
     "output_type": "stream",
     "text": [
      "[Errno 2] No such file or directory: 'D:/external_datasets/TAO/TAO_DIR/frames/train/HACS/Painting_furniture_v_xNxxM-OOMfw_scene_0_0-1910/frame0991.jpg'\n"
     ]
    },
    {
     "name": "stderr",
     "output_type": "stream",
     "text": [
      "\n",
      "\n",
      ">>> Finding TAO gasmask...:   6%|██▉                                                  | 2/36 [00:00<00:00, 37.73it/s]\u001b[A"
     ]
    },
    {
     "name": "stdout",
     "output_type": "stream",
     "text": [
      "[Errno 2] No such file or directory: 'D:/external_datasets/TAO/TAO_DIR/frames/train/HACS/Painting_furniture_v_xNxxM-OOMfw_scene_0_0-1910/frame1081.jpg'\n"
     ]
    },
    {
     "name": "stderr",
     "output_type": "stream",
     "text": [
      "\n",
      " 44%|████████████████████████████████▉                                          | 575/1310 [1:28:47<08:17,  1.48it/s]"
     ]
    },
    {
     "name": "stdout",
     "output_type": "stream",
     "text": [
      "\n",
      ">> gazelle...\n",
      ">>>> #WARNING gazelle is missing from json annotations\n",
      "annotations datasets:  []\n",
      "annotations imgids:  []\n",
      "annotations bbox:  []\n",
      "\n",
      ">> gelatin...\n",
      ">>>> #WARNING gelatin is missing from json annotations\n",
      "annotations datasets:  []\n",
      "annotations imgids:  []\n",
      "annotations bbox:  []\n",
      "\n",
      ">> gemstone...\n",
      ">>>> #WARNING gemstone is missing from json annotations\n",
      "annotations datasets:  []\n",
      "annotations imgids:  []\n",
      "annotations bbox:  []\n",
      "\n",
      ">> giant_panda...\n",
      "TAO\n"
     ]
    },
    {
     "name": "stderr",
     "output_type": "stream",
     "text": [
      " 44%|█████████████████████████████████▏                                         | 579/1310 [1:28:49<07:24,  1.64it/s]\n",
      ">>> Finding TAO gift_wrap...:   0%|                                                           | 0/64 [00:00<?, ?it/s]\u001b[A\n"
     ]
    },
    {
     "name": "stdout",
     "output_type": "stream",
     "text": [
      "\n",
      ">> gift_wrap...\n",
      "TAO\n",
      "[Errno 2] No such file or directory: 'D:/external_datasets/TAO/TAO_DIR/frames/val/YFCC100M/v_68ecc17c75df204856d396f18efcfc/frame0421.jpeg'\n"
     ]
    },
    {
     "name": "stderr",
     "output_type": "stream",
     "text": [
      "\n",
      ">>> Finding TAO gift_wrap...:   2%|▊                                                  | 1/64 [00:00<00:05, 11.90it/s]\u001b[A"
     ]
    },
    {
     "name": "stdout",
     "output_type": "stream",
     "text": [
      "[Errno 2] No such file or directory: 'D:/external_datasets/TAO/TAO_DIR/frames/val/YFCC100M/v_6e13bedfe418b88fc7f43b5df7eb768/frame1861.jpg'\n"
     ]
    },
    {
     "name": "stderr",
     "output_type": "stream",
     "text": [
      "\n",
      "\n",
      ">>> Finding TAO gift_wrap...:   3%|█▌                                                 | 2/64 [00:00<00:01, 37.08it/s]\u001b[A"
     ]
    },
    {
     "name": "stdout",
     "output_type": "stream",
     "text": [
      "[Errno 2] No such file or directory: 'D:/external_datasets/TAO/TAO_DIR/frames/val/YFCC100M/v_6e13bedfe418b88fc7f43b5df7eb768/frame1531.jpg'\n"
     ]
    },
    {
     "name": "stderr",
     "output_type": "stream",
     "text": [
      "\n",
      "\n",
      ">>> Finding TAO gift_wrap...:   5%|██▍                                                | 3/64 [00:00<00:01, 49.18it/s]\u001b[A"
     ]
    },
    {
     "name": "stdout",
     "output_type": "stream",
     "text": [
      "[Errno 2] No such file or directory: 'D:/external_datasets/TAO/TAO_DIR/frames/train/HACS/Wrapping_presents_v_sRd38UFfp6c_scene_0_810-1950/frame1111.jpg'\n"
     ]
    },
    {
     "name": "stderr",
     "output_type": "stream",
     "text": [
      "\n",
      " 44%|█████████████████████████████████▏                                         | 580/1310 [1:28:50<11:32,  1.05it/s]"
     ]
    },
    {
     "name": "stdout",
     "output_type": "stream",
     "text": [
      "\n",
      ">> ginger...\n",
      ">>>> #WARNING ginger is missing from json annotations\n",
      "annotations datasets:  []\n",
      "annotations imgids:  []\n",
      "annotations bbox:  []\n",
      "\n",
      ">> giraffe...\n",
      "TAO\n"
     ]
    },
    {
     "name": "stderr",
     "output_type": "stream",
     "text": [
      " 44%|█████████████████████████████████▎                                         | 582/1310 [1:28:52<11:20,  1.07it/s]"
     ]
    },
    {
     "name": "stdout",
     "output_type": "stream",
     "text": [
      "\n",
      ">> cincture...\n",
      ">>>> #WARNING cincture is missing from json annotations\n",
      "annotations datasets:  []\n",
      "annotations imgids:  []\n",
      "annotations bbox:  []\n",
      "\n",
      ">> glass_(drink_container)...\n",
      ">>>> #WARNING glass_(drink_container) is missing from json annotations\n",
      "annotations datasets:  []\n",
      "annotations imgids:  []\n",
      "annotations bbox:  []\n",
      "\n",
      ">> globe...\n",
      ">>>> #WARNING globe is missing from json annotations\n",
      "annotations datasets:  []\n",
      "annotations imgids:  []\n",
      "annotations bbox:  []\n",
      "\n",
      ">> glove...\n",
      ">>>> #WARNING glove is missing from json annotations\n",
      "annotations datasets:  []\n",
      "annotations imgids:  []\n",
      "annotations bbox:  []\n",
      "\n",
      ">> goat...\n",
      "TAO\n"
     ]
    },
    {
     "name": "stderr",
     "output_type": "stream",
     "text": [
      " 45%|█████████████████████████████████▌                                         | 587/1310 [1:28:54<09:08,  1.32it/s]"
     ]
    },
    {
     "name": "stdout",
     "output_type": "stream",
     "text": [
      "\n",
      ">> goggles...\n",
      ">>>> #WARNING goggles is missing from json annotations\n",
      "annotations datasets:  []\n",
      "annotations imgids:  []\n",
      "annotations bbox:  []\n",
      "\n",
      ">> goldfish...\n",
      ">>>> #WARNING goldfish is missing from json annotations\n",
      "annotations datasets:  []\n",
      "annotations imgids:  []\n",
      "annotations bbox:  []\n",
      "\n",
      ">> golf_club...\n",
      "TAO\n"
     ]
    },
    {
     "name": "stderr",
     "output_type": "stream",
     "text": [
      " 45%|█████████████████████████████████▊                                         | 590/1310 [1:28:55<07:40,  1.56it/s]"
     ]
    },
    {
     "name": "stdout",
     "output_type": "stream",
     "text": [
      "\n",
      ">> golfcart...\n",
      ">>>> #WARNING golfcart is missing from json annotations\n",
      "annotations datasets:  []\n",
      "annotations imgids:  []\n",
      "annotations bbox:  []\n",
      "\n",
      ">> gondola_(boat)...\n",
      ">>>> #WARNING gondola_(boat) is missing from json annotations\n",
      "annotations datasets:  []\n",
      "annotations imgids:  []\n",
      "annotations bbox:  []\n",
      "\n",
      ">> goose...\n",
      "TAO\n"
     ]
    },
    {
     "name": "stderr",
     "output_type": "stream",
     "text": [
      " 45%|█████████████████████████████████▉                                         | 593/1310 [1:28:57<07:13,  1.65it/s]"
     ]
    },
    {
     "name": "stdout",
     "output_type": "stream",
     "text": [
      "\n",
      ">> gorilla...\n",
      "TAO\n"
     ]
    },
    {
     "name": "stderr",
     "output_type": "stream",
     "text": [
      " 45%|██████████████████████████████████                                         | 594/1310 [1:28:58<10:48,  1.10it/s]"
     ]
    },
    {
     "name": "stdout",
     "output_type": "stream",
     "text": [
      "\n",
      ">> gourd...\n",
      ">>>> #WARNING gourd is missing from json annotations\n",
      "annotations datasets:  []\n",
      "annotations imgids:  []\n",
      "annotations bbox:  []\n",
      "\n",
      ">> surgical_gown...\n",
      ">>>> #WARNING surgical_gown is missing from json annotations\n",
      "annotations datasets:  []\n",
      "annotations imgids:  []\n",
      "annotations bbox:  []\n",
      "\n",
      ">> grape...\n",
      ">>>> #WARNING grape is missing from json annotations\n",
      "annotations datasets:  []\n",
      "annotations imgids:  []\n",
      "annotations bbox:  []\n",
      "\n",
      ">> grasshopper...\n",
      ">>>> #WARNING grasshopper is missing from json annotations\n",
      "annotations datasets:  []\n",
      "annotations imgids:  []\n",
      "annotations bbox:  []\n",
      "\n",
      ">> grater...\n",
      ">>>> #WARNING grater is missing from json annotations\n",
      "annotations datasets:  []\n",
      "annotations imgids:  []\n",
      "annotations bbox:  []\n",
      "\n",
      ">> gravestone...\n",
      ">>>> #WARNING gravestone is missing from json annotations\n",
      "annotations datasets:  []\n",
      "annotations imgids:  []\n",
      "annotations bbox:  []\n",
      "\n",
      ">> gravy_boat...\n",
      ">>>> #WARNING gravy_boat is missing from json annotations\n",
      "annotations datasets:  []\n",
      "annotations imgids:  []\n",
      "annotations bbox:  []\n",
      "\n",
      ">> green_bean...\n",
      ">>>> #WARNING green_bean is missing from json annotations\n",
      "annotations datasets:  []\n",
      "annotations imgids:  []\n",
      "annotations bbox:  []\n",
      "\n",
      ">> green_onion...\n",
      ">>>> #WARNING green_onion is missing from json annotations\n",
      "annotations datasets:  []\n",
      "annotations imgids:  []\n",
      "annotations bbox:  []\n",
      "\n",
      ">> griddle...\n",
      ">>>> #WARNING griddle is missing from json annotations\n",
      "annotations datasets:  []\n",
      "annotations imgids:  []\n",
      "annotations bbox:  []\n",
      "\n",
      ">> grillroom...\n",
      ">>>> #WARNING grillroom is missing from json annotations\n",
      "annotations datasets:  []\n",
      "annotations imgids:  []\n",
      "annotations bbox:  []\n",
      "\n",
      ">> grinder_(tool)...\n",
      ">>>> #WARNING grinder_(tool) is missing from json annotations\n",
      "annotations datasets:  []\n",
      "annotations imgids:  []\n",
      "annotations bbox:  []\n",
      "\n",
      ">> grits...\n",
      ">>>> #WARNING grits is missing from json annotations\n",
      "annotations datasets:  []\n",
      "annotations imgids:  []\n",
      "annotations bbox:  []\n",
      "\n",
      ">> grizzly...\n",
      ">>>> #WARNING grizzly is missing from json annotations\n",
      "annotations datasets:  []\n",
      "annotations imgids:  []\n",
      "annotations bbox:  []\n",
      "\n",
      ">> grocery_bag...\n",
      "TAO\n"
     ]
    },
    {
     "name": "stderr",
     "output_type": "stream",
     "text": [
      "\n",
      ">>> Finding TAO grocery_bag...:   0%|                                                        | 0/940 [00:00<?, ?it/s]\u001b[A"
     ]
    },
    {
     "name": "stdout",
     "output_type": "stream",
     "text": [
      "[Errno 2] No such file or directory: 'D:/external_datasets/TAO/TAO_DIR/frames/val/Charades/9RX96/frame1141.jpg'\n",
      "[Errno 2] No such file or directory: 'D:/external_datasets/TAO/TAO_DIR/frames/val/YFCC100M/v_6e13bedfe418b88fc7f43b5df7eb768/frame1471.jpg'\n"
     ]
    },
    {
     "name": "stderr",
     "output_type": "stream",
     "text": [
      "\n",
      "\n",
      ">>> Finding TAO grocery_bag...:   1%|▌                                              | 10/940 [00:00<00:13, 68.03it/s]\u001b[A\n",
      "\n",
      ">>> Finding TAO grocery_bag...:   1%|▌                                             | 11/940 [00:00<00:08, 115.77it/s]\u001b[A"
     ]
    },
    {
     "name": "stdout",
     "output_type": "stream",
     "text": [
      "[Errno 2] No such file or directory: 'D:/external_datasets/TAO/TAO_DIR/frames/val/YFCC100M/v_6e13bedfe418b88fc7f43b5df7eb768/frame1891.jpg'\n"
     ]
    },
    {
     "name": "stderr",
     "output_type": "stream",
     "text": [
      "\n",
      " 46%|██████████████████████████████████▊                                        | 609/1310 [1:29:01<07:57,  1.47it/s]"
     ]
    },
    {
     "name": "stdout",
     "output_type": "stream",
     "text": [
      "\n",
      ">> guacamole...\n",
      ">>>> #WARNING guacamole is missing from json annotations\n",
      "annotations datasets:  []\n",
      "annotations imgids:  []\n",
      "annotations bbox:  []\n",
      "\n",
      ">> guitar...\n",
      "TAO\n"
     ]
    },
    {
     "name": "stderr",
     "output_type": "stream",
     "text": [
      "\n",
      ">>> Finding TAO guitar...:   0%|                                                             | 0/473 [00:00<?, ?it/s]\u001b[A"
     ]
    },
    {
     "name": "stdout",
     "output_type": "stream",
     "text": [
      "[Errno 2] No such file or directory: 'D:/external_datasets/TAO/TAO_DIR/frames/train/YFCC100M/v_3d84802a7129a8649f38d2bcf2debc3/frame1291.jpg'\n"
     ]
    },
    {
     "name": "stderr",
     "output_type": "stream",
     "text": [
      "\n",
      "\n",
      ">>> Finding TAO guitar...:   0%|                                                    | 1/473 [00:00<00:03, 142.84it/s]\u001b[A"
     ]
    },
    {
     "name": "stdout",
     "output_type": "stream",
     "text": [
      "[Errno 2] No such file or directory: 'D:/external_datasets/TAO/TAO_DIR/frames/val/YFCC100M/v_2e93ba54bf5ff94feff083c33ceafc38/frame0476.jpeg'\n"
     ]
    },
    {
     "name": "stderr",
     "output_type": "stream",
     "text": [
      "\n",
      " 47%|██████████████████████████████████▉                                        | 611/1310 [1:29:02<08:34,  1.36it/s]"
     ]
    },
    {
     "name": "stdout",
     "output_type": "stream",
     "text": [
      "\n",
      ">> gull...\n",
      ">>>> #WARNING gull is missing from json annotations\n",
      "annotations datasets:  []\n",
      "annotations imgids:  []\n",
      "annotations bbox:  []\n",
      "\n",
      ">> gun...\n",
      "TAO\n"
     ]
    },
    {
     "name": "stderr",
     "output_type": "stream",
     "text": [
      "\n",
      ">>> Finding TAO gun...:   0%|                                                                | 0/175 [00:00<?, ?it/s]\u001b[A"
     ]
    },
    {
     "name": "stdout",
     "output_type": "stream",
     "text": [
      "[Errno 2] No such file or directory: 'D:/external_datasets/TAO/TAO_DIR/frames/train/YFCC100M/v_39e0a6e2fd23c9796a7ac04ed257c461/frame1561.jpg'\n"
     ]
    },
    {
     "name": "stderr",
     "output_type": "stream",
     "text": [
      "\n",
      "\n",
      ">>> Finding TAO gun...:   1%|▎                                                       | 1/175 [00:00<00:11, 15.73it/s]\u001b[A\n",
      "\n",
      ">>> Finding TAO gun...:   1%|▋                                                       | 2/175 [00:00<00:05, 31.74it/s]\u001b[A"
     ]
    },
    {
     "name": "stdout",
     "output_type": "stream",
     "text": [
      "[Errno 2] No such file or directory: 'D:/external_datasets/TAO/TAO_DIR/frames/train/YFCC100M/v_39e0a6e2fd23c9796a7ac04ed257c461/frame1471.jpg'\n",
      "[Errno 2] No such file or directory: 'D:/external_datasets/TAO/TAO_DIR/frames/train/YFCC100M/v_39e0a6e2fd23c9796a7ac04ed257c461/frame1411.jpg'\n"
     ]
    },
    {
     "name": "stderr",
     "output_type": "stream",
     "text": [
      "\n",
      "\n",
      ">>> Finding TAO gun...:   2%|▉                                                       | 3/175 [00:00<00:03, 46.88it/s]\u001b[A\n",
      " 47%|███████████████████████████████████                                        | 613/1310 [1:29:04<09:22,  1.24it/s]"
     ]
    },
    {
     "name": "stdout",
     "output_type": "stream",
     "text": [
      "[Errno 2] No such file or directory: 'D:/external_datasets/TAO/TAO_DIR/frames/train/YFCC100M/v_39e0a6e2fd23c9796a7ac04ed257c461/frame1051.jpg'\n",
      "\n",
      ">> hair_spray...\n",
      ">>>> #WARNING hair_spray is missing from json annotations\n",
      "annotations datasets:  []\n",
      "annotations imgids:  []\n",
      "annotations bbox:  []\n",
      "\n",
      ">> hairbrush...\n",
      "TAO\n"
     ]
    },
    {
     "name": "stderr",
     "output_type": "stream",
     "text": [
      "\n",
      ">>> Finding TAO hairbrush...:   0%|                                                           | 0/36 [00:00<?, ?it/s]\u001b[A\n",
      "\n",
      ">>> Finding TAO hairbrush...:   0%|                                                           | 0/36 [00:00<?, ?it/s]\u001b[A"
     ]
    },
    {
     "name": "stdout",
     "output_type": "stream",
     "text": [
      "[Errno 2] No such file or directory: 'D:/external_datasets/TAO/TAO_DIR/frames/val/HACS/Blow-drying_hair_v_5Mal9lAFsCc/frame1201.jpg'\n",
      "[Errno 2] No such file or directory: 'D:/external_datasets/TAO/TAO_DIR/frames/val/HACS/Blow-drying_hair_v_5Mal9lAFsCc/frame1621.jpg'\n"
     ]
    },
    {
     "name": "stderr",
     "output_type": "stream",
     "text": [
      ">>> Finding TAO hairbrush...:   3%|█▍                                                 | 1/36 [00:00<00:02, 15.63it/s]\n",
      "\n",
      ">>> Finding TAO hairbrush...:   8%|████▎                                              | 3/36 [00:00<00:00, 66.67it/s]\u001b[A\n",
      "\n",
      ">>> Finding TAO hairbrush...:   0%|                                                           | 0/36 [00:00<?, ?it/s]\u001b[A"
     ]
    },
    {
     "name": "stdout",
     "output_type": "stream",
     "text": [
      "[Errno 2] No such file or directory: 'D:/external_datasets/TAO/TAO_DIR/frames/val/HACS/Blow-drying_hair_v_5Mal9lAFsCc/frame0991.jpg'\n",
      "[Errno 2] No such file or directory: 'D:/external_datasets/TAO/TAO_DIR/frames/val/HACS/Blow-drying_hair_v_5Mal9lAFsCc/frame1141.jpg'\n"
     ]
    },
    {
     "name": "stderr",
     "output_type": "stream",
     "text": [
      ">>> Finding TAO hairbrush...:  11%|█████▋                                             | 4/36 [00:00<00:00, 59.69it/s]\n",
      "\n",
      ">>> Finding TAO hairbrush...:  14%|███████                                            | 5/36 [00:00<00:00, 79.37it/s]\u001b[A\n",
      "\n",
      ">>> Finding TAO hairbrush...:   0%|                                                           | 0/36 [00:00<?, ?it/s]\u001b[A"
     ]
    },
    {
     "name": "stdout",
     "output_type": "stream",
     "text": [
      "[Errno 2] No such file or directory: 'D:/external_datasets/TAO/TAO_DIR/frames/val/HACS/Blow-drying_hair_v_5Mal9lAFsCc/frame1411.jpg'\n",
      "[Errno 2] No such file or directory: 'D:/external_datasets/TAO/TAO_DIR/frames/val/HACS/Blow-drying_hair_v_5Mal9lAFsCc/frame1321.jpg'\n"
     ]
    },
    {
     "name": "stderr",
     "output_type": "stream",
     "text": [
      ">>> Finding TAO hairbrush...:  17%|████████▎                                         | 6/36 [00:00<00:00, 122.34it/s]\n",
      " 47%|███████████████████████████████████▏                                       | 615/1310 [1:29:06<09:42,  1.19it/s]\n",
      ">>> Finding TAO hammer...: 100%|███████████████████████████████████████████████████████████████| 8/8 [00:00<?, ?it/s]\u001b[A\n"
     ]
    },
    {
     "name": "stdout",
     "output_type": "stream",
     "text": [
      "\n",
      ">> hairnet...\n",
      ">>>> #WARNING hairnet is missing from json annotations\n",
      "annotations datasets:  []\n",
      "annotations imgids:  []\n",
      "annotations bbox:  []\n",
      "\n",
      ">> hairpin...\n",
      ">>>> #WARNING hairpin is missing from json annotations\n",
      "annotations datasets:  []\n",
      "annotations imgids:  []\n",
      "annotations bbox:  []\n",
      "\n",
      ">> ham...\n",
      ">>>> #WARNING ham is missing from json annotations\n",
      "annotations datasets:  []\n",
      "annotations imgids:  []\n",
      "annotations bbox:  []\n",
      "\n",
      ">> hamburger...\n",
      ">>>> #WARNING hamburger is missing from json annotations\n",
      "annotations datasets:  []\n",
      "annotations imgids:  []\n",
      "annotations bbox:  []\n",
      "\n",
      ">> hammer...\n",
      "TAO\n",
      "[Errno 2] No such file or directory: 'D:/external_datasets/TAO/TAO_DIR/frames/val/YFCC100M/v_f082f297a09e147bb990b9cc89c7ad8e/frame0401.jpeg'\n",
      ">>>> #WARNING: No file found for: TAO hammer...\n"
     ]
    },
    {
     "name": "stderr",
     "output_type": "stream",
     "text": [
      "\n",
      ">>> Finding TAO hammer...: 100%|███████████████████████████████████████████████████████████████| 8/8 [00:00<?, ?it/s]\u001b[A"
     ]
    },
    {
     "name": "stdout",
     "output_type": "stream",
     "text": [
      "[Errno 2] No such file or directory: 'D:/external_datasets/TAO/TAO_DIR/frames/val/YFCC100M/v_f082f297a09e147bb990b9cc89c7ad8e/frame0376.jpeg'\n",
      ">>>> #WARNING: No file found for: TAO hammer...\n"
     ]
    },
    {
     "name": "stderr",
     "output_type": "stream",
     "text": [
      "\n",
      "\n",
      ">>> Finding TAO hammer...: 100%|███████████████████████████████████████████████████████████████| 8/8 [00:00<?, ?it/s]\u001b[A\n",
      " 47%|███████████████████████████████████▍                                       | 620/1310 [1:29:07<07:26,  1.55it/s]"
     ]
    },
    {
     "name": "stdout",
     "output_type": "stream",
     "text": [
      "[Errno 2] No such file or directory: 'D:/external_datasets/TAO/TAO_DIR/frames/val/YFCC100M/v_f082f297a09e147bb990b9cc89c7ad8e/frame0426.jpeg'\n",
      ">>>> #WARNING: No file found for: TAO hammer...\n",
      "\n",
      ">> hammock...\n",
      ">>>> #WARNING hammock is missing from json annotations\n",
      "annotations datasets:  []\n",
      "annotations imgids:  []\n",
      "annotations bbox:  []\n",
      "\n",
      ">> hamper...\n",
      ">>>> #WARNING hamper is missing from json annotations\n",
      "annotations datasets:  []\n",
      "annotations imgids:  []\n",
      "annotations bbox:  []\n",
      "\n",
      ">> hamster...\n",
      ">>>> #WARNING hamster is missing from json annotations\n",
      "annotations datasets:  []\n",
      "annotations imgids:  []\n",
      "annotations bbox:  []\n",
      "\n",
      ">> hair_dryer...\n",
      "TAO\n"
     ]
    },
    {
     "name": "stderr",
     "output_type": "stream",
     "text": [
      "\n",
      ">>> Finding TAO hair_dryer...:   0%|                                                          | 0/54 [00:00<?, ?it/s]\u001b[A"
     ]
    },
    {
     "name": "stdout",
     "output_type": "stream",
     "text": [
      "[Errno 2] No such file or directory: 'D:/external_datasets/TAO/TAO_DIR/frames/val/HACS/Blow-drying_hair_v_5Mal9lAFsCc/frame1501.jpg'\n"
     ]
    },
    {
     "name": "stderr",
     "output_type": "stream",
     "text": [
      "\n",
      " 48%|███████████████████████████████████▋                                       | 624/1310 [1:29:09<06:38,  1.72it/s]"
     ]
    },
    {
     "name": "stdout",
     "output_type": "stream",
     "text": [
      "\n",
      ">> hand_glass...\n",
      ">>>> #WARNING hand_glass is missing from json annotations\n",
      "annotations datasets:  []\n",
      "annotations imgids:  []\n",
      "annotations bbox:  []\n",
      "\n",
      ">> hand_towel...\n",
      ">>>> #WARNING hand_towel is missing from json annotations\n",
      "annotations datasets:  []\n",
      "annotations imgids:  []\n",
      "annotations bbox:  []\n",
      "\n",
      ">> handcart...\n",
      ">>>> #WARNING handcart is missing from json annotations\n",
      "annotations datasets:  []\n",
      "annotations imgids:  []\n",
      "annotations bbox:  []\n",
      "\n",
      ">> handcuff...\n",
      "TAO\n"
     ]
    },
    {
     "name": "stderr",
     "output_type": "stream",
     "text": [
      "\n",
      ">>> Finding TAO handcuff...:   5%|██▍                                                 | 1/21 [00:00<00:01, 11.30it/s]\u001b[A"
     ]
    },
    {
     "name": "stdout",
     "output_type": "stream",
     "text": [
      "[Errno 2] No such file or directory: 'D:/external_datasets/TAO/TAO_DIR/frames/val/AVA/G0gDuIVKiXg_scene_25_65010-66644/frame1225.jpg'\n"
     ]
    },
    {
     "name": "stderr",
     "output_type": "stream",
     "text": [
      "\n",
      "\n",
      ">>> Finding TAO handcuff...:  10%|████▉                                               | 2/21 [00:00<00:00, 26.67it/s]\u001b[A"
     ]
    },
    {
     "name": "stdout",
     "output_type": "stream",
     "text": [
      "[Errno 2] No such file or directory: 'D:/external_datasets/TAO/TAO_DIR/frames/val/AVA/G0gDuIVKiXg_scene_25_65010-66644/frame1249.jpg'\n"
     ]
    },
    {
     "name": "stderr",
     "output_type": "stream",
     "text": [
      "\n",
      "\n",
      ">>> Finding TAO handcuff...:  24%|████████████▍                                       | 5/21 [00:00<00:00, 46.29it/s]\u001b[A"
     ]
    },
    {
     "name": "stdout",
     "output_type": "stream",
     "text": [
      "[Errno 2] No such file or directory: 'D:/external_datasets/TAO/TAO_DIR/frames/val/AVA/G0gDuIVKiXg_scene_25_65010-66644/frame1057.jpg'\n"
     ]
    },
    {
     "name": "stderr",
     "output_type": "stream",
     "text": [
      "\n",
      "\n",
      ">>> Finding TAO handcuff...:  29%|██████████████▊                                     | 6/21 [00:00<00:00, 78.93it/s]\u001b[A"
     ]
    },
    {
     "name": "stdout",
     "output_type": "stream",
     "text": [
      "[Errno 2] No such file or directory: 'D:/external_datasets/TAO/TAO_DIR/frames/val/AVA/G0gDuIVKiXg_scene_25_65010-66644/frame0985.jpg'\n"
     ]
    },
    {
     "name": "stderr",
     "output_type": "stream",
     "text": [
      "\n",
      " 48%|███████████████████████████████████▉                                       | 628/1310 [1:29:12<07:19,  1.55it/s]\n",
      ">>> Finding TAO handle...:  34%|█████████████████▉                                  | 21/61 [00:00<00:00, 158.83it/s]\u001b[A\n"
     ]
    },
    {
     "name": "stdout",
     "output_type": "stream",
     "text": [
      "\n",
      ">> handkerchief...\n",
      ">>>> #WARNING handkerchief is missing from json annotations\n",
      "annotations datasets:  []\n",
      "annotations imgids:  []\n",
      "annotations bbox:  []\n",
      "\n",
      ">> handle...\n",
      "TAO\n",
      "[Errno 2] No such file or directory: 'D:/external_datasets/TAO/TAO_DIR/frames/train/YFCC100M/v_12238710b8f3e71839ffbf64f3d82f11/frame0811.jpeg'\n"
     ]
    },
    {
     "name": "stderr",
     "output_type": "stream",
     "text": [
      "\n",
      ">>> Finding TAO handle...:  36%|██████████████████▊                                 | 22/61 [00:00<00:00, 149.66it/s]\u001b[A"
     ]
    },
    {
     "name": "stdout",
     "output_type": "stream",
     "text": [
      "[Errno 2] No such file or directory: 'D:/external_datasets/TAO/TAO_DIR/frames/train/AVA/ZbeMNLwASVo_scene_7_92916-94849/frame1051.jpg'\n"
     ]
    },
    {
     "name": "stderr",
     "output_type": "stream",
     "text": [
      "\n",
      "\n",
      ">>> Finding TAO handle...:  38%|███████████████████▌                                | 23/61 [00:00<00:00, 188.53it/s]\u001b[A"
     ]
    },
    {
     "name": "stdout",
     "output_type": "stream",
     "text": [
      "[Errno 2] No such file or directory: 'D:/external_datasets/TAO/TAO_DIR/frames/train/AVA/ZbeMNLwASVo_scene_7_92916-94849/frame1471.jpg'\n"
     ]
    },
    {
     "name": "stderr",
     "output_type": "stream",
     "text": [
      "\n",
      "\n",
      ">>> Finding TAO handle...:  39%|████████████████████▍                               | 24/61 [00:00<00:00, 224.25it/s]\u001b[A"
     ]
    },
    {
     "name": "stdout",
     "output_type": "stream",
     "text": [
      "[Errno 2] No such file or directory: 'D:/external_datasets/TAO/TAO_DIR/frames/train/AVA/ZbeMNLwASVo_scene_7_92916-94849/frame1111.jpg'\n"
     ]
    },
    {
     "name": "stderr",
     "output_type": "stream",
     "text": [
      "\n",
      "\n",
      ">>> Finding TAO handle...:  43%|██████████████████████▏                             | 26/61 [00:00<00:00, 267.96it/s]\u001b[A"
     ]
    },
    {
     "name": "stdout",
     "output_type": "stream",
     "text": [
      "[Errno 2] No such file or directory: 'D:/external_datasets/TAO/TAO_DIR/frames/train/AVA/ZbeMNLwASVo_scene_7_92916-94849/frame1501.jpg'\n"
     ]
    },
    {
     "name": "stderr",
     "output_type": "stream",
     "text": [
      "\n",
      "\n",
      ">>> Finding TAO handle...:  44%|███████████████████████                             | 27/61 [00:00<00:00, 257.11it/s]\u001b[A"
     ]
    },
    {
     "name": "stdout",
     "output_type": "stream",
     "text": [
      "[Errno 2] No such file or directory: 'D:/external_datasets/TAO/TAO_DIR/frames/train/AVA/ZbeMNLwASVo_scene_7_92916-94849/frame1531.jpg'\n"
     ]
    },
    {
     "name": "stderr",
     "output_type": "stream",
     "text": [
      "\n",
      " 48%|████████████████████████████████████                                       | 630/1310 [1:29:14<08:37,  1.31it/s]\n",
      ">>> Finding TAO harmonium...:   0%|                                                           | 0/40 [00:00<?, ?it/s]\u001b[A\n"
     ]
    },
    {
     "name": "stdout",
     "output_type": "stream",
     "text": [
      "\n",
      ">> handsaw...\n",
      ">>>> #WARNING handsaw is missing from json annotations\n",
      "annotations datasets:  []\n",
      "annotations imgids:  []\n",
      "annotations bbox:  []\n",
      "\n",
      ">> hardback_book...\n",
      ">>>> #WARNING hardback_book is missing from json annotations\n",
      "annotations datasets:  []\n",
      "annotations imgids:  []\n",
      "annotations bbox:  []\n",
      "\n",
      ">> harmonium...\n",
      "TAO\n",
      "[Errno 2] No such file or directory: 'D:/external_datasets/TAO/TAO_DIR/frames/val/AVA/LIavUJVrXaI_scene_15_76804-79006/frame1321.jpg'\n"
     ]
    },
    {
     "name": "stderr",
     "output_type": "stream",
     "text": [
      "\n",
      ">>> Finding TAO harmonium...:   2%|█▎                                                 | 1/40 [00:00<00:02, 15.63it/s]\u001b[A\n",
      "\n",
      ">>> Finding TAO harmonium...:   0%|                                                           | 0/40 [00:00<?, ?it/s]\u001b[A"
     ]
    },
    {
     "name": "stdout",
     "output_type": "stream",
     "text": [
      "[Errno 2] No such file or directory: 'D:/external_datasets/TAO/TAO_DIR/frames/val/AVA/LIavUJVrXaI_scene_15_76804-79006/frame1681.jpg'\n",
      "[Errno 2] No such file or directory: 'D:/external_datasets/TAO/TAO_DIR/frames/val/AVA/LIavUJVrXaI_scene_15_76804-79006/frame1201.jpg'\n"
     ]
    },
    {
     "name": "stderr",
     "output_type": "stream",
     "text": [
      ">>> Finding TAO harmonium...:   5%|██▌                                                | 2/40 [00:00<00:01, 36.35it/s]\n",
      "\n",
      ">>> Finding TAO harmonium...:   8%|███▊                                               | 3/40 [00:00<00:00, 47.62it/s]\u001b[A"
     ]
    },
    {
     "name": "stdout",
     "output_type": "stream",
     "text": [
      "[Errno 2] No such file or directory: 'D:/external_datasets/TAO/TAO_DIR/frames/val/AVA/LIavUJVrXaI_scene_15_76804-79006/frame1231.jpg'\n",
      "[Errno 2] No such file or directory: 'D:/external_datasets/TAO/TAO_DIR/frames/val/AVA/LIavUJVrXaI_scene_15_76804-79006/frame1021.jpg'\n"
     ]
    },
    {
     "name": "stderr",
     "output_type": "stream",
     "text": [
      "\n",
      "\n",
      ">>> Finding TAO harmonium...:  10%|█████                                              | 4/40 [00:00<00:00, 56.34it/s]\u001b[A\n",
      "\n",
      ">>> Finding TAO harmonium...:  12%|██████▍                                            | 5/40 [00:00<00:00, 72.46it/s]\u001b[A\n",
      "\n",
      ">>> Finding TAO harmonium...:   0%|                                                           | 0/40 [00:00<?, ?it/s]\u001b[A"
     ]
    },
    {
     "name": "stdout",
     "output_type": "stream",
     "text": [
      "[Errno 2] No such file or directory: 'D:/external_datasets/TAO/TAO_DIR/frames/val/AVA/LIavUJVrXaI_scene_15_76804-79006/frame1561.jpg'\n",
      "[Errno 2] No such file or directory: 'D:/external_datasets/TAO/TAO_DIR/frames/val/AVA/LIavUJVrXaI_scene_15_76804-79006/frame1351.jpg'\n"
     ]
    },
    {
     "name": "stderr",
     "output_type": "stream",
     "text": [
      ">>> Finding TAO harmonium...:  15%|███████▋                                           | 6/40 [00:00<00:00, 82.18it/s]\n",
      " 48%|████████████████████████████████████▏                                      | 633/1310 [1:29:16<08:03,  1.40it/s]\n",
      ">>> Finding TAO hat...:   0%|                                                                | 0/195 [00:00<?, ?it/s]\u001b[A"
     ]
    },
    {
     "name": "stdout",
     "output_type": "stream",
     "text": [
      "\n",
      ">> hat...\n",
      "TAO\n",
      "[Errno 2] No such file or directory: 'D:/external_datasets/TAO/TAO_DIR/frames/val/YFCC100M/v_c9888e663a25da3cd60116792a0cc7/frame1171.jpg'\n"
     ]
    },
    {
     "name": "stderr",
     "output_type": "stream",
     "text": [
      ">>> Finding TAO hat...:   0%|                                                                | 0/195 [00:00<?, ?it/s]\n",
      "\n",
      ">>> Finding TAO hat...:   1%|▌                                                       | 2/195 [00:00<00:07, 25.32it/s]\u001b[A\n"
     ]
    },
    {
     "name": "stdout",
     "output_type": "stream",
     "text": [
      "[Errno 2] No such file or directory: 'D:/external_datasets/TAO/TAO_DIR/frames/train/AVA/XOe9GeojzCs_scene_33_132653-134022/frame1171.jpg'\n"
     ]
    },
    {
     "name": "stderr",
     "output_type": "stream",
     "text": [
      "\n",
      ">>> Finding TAO hat...:   2%|▊                                                       | 3/195 [00:00<00:03, 48.39it/s]\u001b[A\n",
      "\n",
      ">>> Finding TAO hat...:   0%|                                                                | 0/195 [00:00<?, ?it/s]\u001b[A"
     ]
    },
    {
     "name": "stdout",
     "output_type": "stream",
     "text": [
      "[Errno 2] No such file or directory: 'D:/external_datasets/TAO/TAO_DIR/frames/val/YFCC100M/v_8d9acade6c74d4212bc148c54c2c3b20/frame0376.jpeg'\n",
      "[Errno 2] No such file or directory: 'D:/external_datasets/TAO/TAO_DIR/frames/val/YFCC100M/v_c9888e663a25da3cd60116792a0cc7/frame1081.jpg'\n"
     ]
    },
    {
     "name": "stderr",
     "output_type": "stream",
     "text": [
      ">>> Finding TAO hat...:   2%|█▏                                                      | 4/195 [00:00<00:03, 63.49it/s]\n",
      "\n",
      ">>> Finding TAO hat...:   3%|█▍                                                      | 5/195 [00:00<00:02, 90.89it/s]\u001b[A"
     ]
    },
    {
     "name": "stdout",
     "output_type": "stream",
     "text": [
      "[Errno 2] No such file or directory: 'D:/external_datasets/TAO/TAO_DIR/frames/val/YFCC100M/v_c9888e663a25da3cd60116792a0cc7/frame1141.jpg'\n"
     ]
    },
    {
     "name": "stderr",
     "output_type": "stream",
     "text": [
      "\n",
      "\n",
      ">>> Finding TAO hat...:   3%|█▋                                                     | 6/195 [00:00<00:01, 100.01it/s]\u001b[A\n",
      " 48%|████████████████████████████████████▎                                      | 634/1310 [1:29:17<10:20,  1.09it/s]"
     ]
    },
    {
     "name": "stdout",
     "output_type": "stream",
     "text": [
      "[Errno 2] No such file or directory: 'D:/external_datasets/TAO/TAO_DIR/frames/val/YFCC100M/v_5caf226a1c6c42e428f236ace34f719f/frame1501.jpeg'\n",
      "\n",
      ">> hatbox...\n",
      ">>>> #WARNING hatbox is missing from json annotations\n",
      "annotations datasets:  []\n",
      "annotations imgids:  []\n",
      "annotations bbox:  []\n",
      "\n",
      ">> hatch...\n",
      ">>>> #WARNING hatch is missing from json annotations\n",
      "annotations datasets:  []\n",
      "annotations imgids:  []\n",
      "annotations bbox:  []\n",
      "\n",
      ">> veil...\n",
      ">>>> #WARNING veil is missing from json annotations\n",
      "annotations datasets:  []\n",
      "annotations imgids:  []\n",
      "annotations bbox:  []\n",
      "\n",
      ">> headband...\n",
      ">>>> #WARNING headband is missing from json annotations\n",
      "annotations datasets:  []\n",
      "annotations imgids:  []\n",
      "annotations bbox:  []\n",
      "\n",
      ">> headboard...\n",
      ">>>> #WARNING headboard is missing from json annotations\n",
      "annotations datasets:  []\n",
      "annotations imgids:  []\n",
      "annotations bbox:  []\n",
      "\n",
      ">> headlight...\n",
      ">>>> #WARNING headlight is missing from json annotations\n",
      "annotations datasets:  []\n",
      "annotations imgids:  []\n",
      "annotations bbox:  []\n",
      "\n",
      ">> headscarf...\n",
      "TAO\n"
     ]
    },
    {
     "name": "stderr",
     "output_type": "stream",
     "text": [
      " 49%|████████████████████████████████████▋                                      | 641/1310 [1:29:19<08:00,  1.39it/s]"
     ]
    },
    {
     "name": "stdout",
     "output_type": "stream",
     "text": [
      "\n",
      ">> headset...\n",
      ">>>> #WARNING headset is missing from json annotations\n",
      "annotations datasets:  []\n",
      "annotations imgids:  []\n",
      "annotations bbox:  []\n",
      "\n",
      ">> headstall_(for_horses)...\n",
      ">>>> #WARNING headstall_(for_horses) is missing from json annotations\n",
      "annotations datasets:  []\n",
      "annotations imgids:  []\n",
      "annotations bbox:  []\n",
      "\n",
      ">> hearing_aid...\n",
      ">>>> #WARNING hearing_aid is missing from json annotations\n",
      "annotations datasets:  []\n",
      "annotations imgids:  []\n",
      "annotations bbox:  []\n",
      "\n",
      ">> heart...\n",
      ">>>> #WARNING heart is missing from json annotations\n",
      "annotations datasets:  []\n",
      "annotations imgids:  []\n",
      "annotations bbox:  []\n",
      "\n",
      ">> heater...\n",
      ">>>> #WARNING heater is missing from json annotations\n",
      "annotations datasets:  []\n",
      "annotations imgids:  []\n",
      "annotations bbox:  []\n",
      "\n",
      ">> helicopter...\n",
      "TAO\n"
     ]
    },
    {
     "name": "stderr",
     "output_type": "stream",
     "text": [
      " 49%|█████████████████████████████████████                                      | 647/1310 [1:29:21<06:30,  1.70it/s]\n",
      ">>> Finding TAO helmet...: 100%|███████████████████████████████████████████████████████████████| 7/7 [00:00<?, ?it/s]\u001b[A\n",
      "\n",
      ">>> Finding TAO helmet...: 100%|███████████████████████████████████████████████████████████████| 7/7 [00:00<?, ?it/s]\u001b[A\n",
      "\n",
      ">>> Finding TAO helmet...: 100%|███████████████████████████████████████████████████████████████| 7/7 [00:00<?, ?it/s]\u001b[A\n",
      "\n",
      ">>> Finding TAO helmet...: 100%|███████████████████████████████████████████████████████████████| 7/7 [00:00<?, ?it/s]\u001b[A\n",
      "\n",
      ">>> Finding TAO helmet...: 100%|███████████████████████████████████████████████████████████████| 7/7 [00:00<?, ?it/s]\u001b[A\n",
      "\n",
      ">>> Finding TAO helmet...: 100%|███████████████████████████████████████████████████████████████| 7/7 [00:00<?, ?it/s]\u001b[A\n",
      "\n",
      ">>> Finding TAO helmet...: 100%|███████████████████████████████████████████████████████████████| 7/7 [00:00<?, ?it/s]\u001b[A\n"
     ]
    },
    {
     "name": "stdout",
     "output_type": "stream",
     "text": [
      "\n",
      ">> helmet...\n",
      "TAO\n",
      "[Errno 2] No such file or directory: 'D:/external_datasets/TAO/TAO_DIR/frames/val/HACS/Horseback_riding_v_prQDcmyY04s/frame1051.jpg'\n",
      ">>>> #WARNING: No file found for: TAO helmet...\n",
      "[Errno 2] No such file or directory: 'D:/external_datasets/TAO/TAO_DIR/frames/val/HACS/Horseback_riding_v_prQDcmyY04s/frame1921.jpg'\n",
      ">>>> #WARNING: No file found for: TAO helmet...\n",
      "[Errno 2] No such file or directory: 'D:/external_datasets/TAO/TAO_DIR/frames/val/HACS/Horseback_riding_v_prQDcmyY04s/frame1981.jpg'\n",
      ">>>> #WARNING: No file found for: TAO helmet...\n",
      "[Errno 2] No such file or directory: 'D:/external_datasets/TAO/TAO_DIR/frames/val/HACS/Horseback_riding_v_prQDcmyY04s/frame1861.jpg'\n",
      ">>>> #WARNING: No file found for: TAO helmet...\n",
      "[Errno 2] No such file or directory: 'D:/external_datasets/TAO/TAO_DIR/frames/val/HACS/Horseback_riding_v_prQDcmyY04s/frame1831.jpg'\n",
      ">>>> #WARNING: No file found for: TAO helmet...\n",
      "[Errno 2] No such file or directory: 'D:/external_datasets/TAO/TAO_DIR/frames/val/HACS/Horseback_riding_v_prQDcmyY04s/frame1891.jpg'\n",
      ">>>> #WARNING: No file found for: TAO helmet...\n",
      "[Errno 2] No such file or directory: 'D:/external_datasets/TAO/TAO_DIR/frames/val/HACS/Horseback_riding_v_prQDcmyY04s/frame1951.jpg'\n",
      ">>>> #WARNING: No file found for: TAO helmet...\n",
      "\n",
      ">> heron...\n",
      "TAO\n"
     ]
    },
    {
     "name": "stderr",
     "output_type": "stream",
     "text": [
      " 50%|█████████████████████████████████████▏                                     | 649/1310 [1:29:22<07:28,  1.47it/s]"
     ]
    },
    {
     "name": "stdout",
     "output_type": "stream",
     "text": [
      "\n",
      ">> highchair...\n",
      ">>>> #WARNING highchair is missing from json annotations\n",
      "annotations datasets:  []\n",
      "annotations imgids:  []\n",
      "annotations bbox:  []\n",
      "\n",
      ">> hinge...\n",
      ">>>> #WARNING hinge is missing from json annotations\n",
      "annotations datasets:  []\n",
      "annotations imgids:  []\n",
      "annotations bbox:  []\n",
      "\n",
      ">> hippopotamus...\n",
      "TAO\n"
     ]
    },
    {
     "name": "stderr",
     "output_type": "stream",
     "text": [
      " 50%|█████████████████████████████████████▎                                     | 652/1310 [1:29:24<07:09,  1.53it/s]"
     ]
    },
    {
     "name": "stdout",
     "output_type": "stream",
     "text": [
      "\n",
      ">> hockey_stick...\n",
      "TAO\n"
     ]
    },
    {
     "name": "stderr",
     "output_type": "stream",
     "text": [
      " 50%|█████████████████████████████████████▍                                     | 653/1310 [1:29:26<10:25,  1.05it/s]"
     ]
    },
    {
     "name": "stdout",
     "output_type": "stream",
     "text": [
      "\n",
      ">> hog...\n",
      "TAO\n"
     ]
    },
    {
     "name": "stderr",
     "output_type": "stream",
     "text": [
      " 50%|█████████████████████████████████████▍                                     | 654/1310 [1:29:28<12:35,  1.15s/it]"
     ]
    },
    {
     "name": "stdout",
     "output_type": "stream",
     "text": [
      "\n",
      ">> home_plate_(baseball)...\n",
      ">>>> #WARNING home_plate_(baseball) is missing from json annotations\n",
      "annotations datasets:  []\n",
      "annotations imgids:  []\n",
      "annotations bbox:  []\n",
      "\n",
      ">> honey...\n",
      ">>>> #WARNING honey is missing from json annotations\n",
      "annotations datasets:  []\n",
      "annotations imgids:  []\n",
      "annotations bbox:  []\n",
      "\n",
      ">> fume_hood...\n",
      ">>>> #WARNING fume_hood is missing from json annotations\n",
      "annotations datasets:  []\n",
      "annotations imgids:  []\n",
      "annotations bbox:  []\n",
      "\n",
      ">> hook...\n",
      ">>>> #WARNING hook is missing from json annotations\n",
      "annotations datasets:  []\n",
      "annotations imgids:  []\n",
      "annotations bbox:  []\n",
      "\n",
      ">> horse...\n",
      "TAO\n"
     ]
    },
    {
     "name": "stderr",
     "output_type": "stream",
     "text": [
      "\n",
      ">>> Finding TAO horse...:   0%|                                                             | 0/1225 [00:00<?, ?it/s]\u001b[A"
     ]
    },
    {
     "name": "stdout",
     "output_type": "stream",
     "text": [
      "[Errno 2] No such file or directory: 'D:/external_datasets/TAO/TAO_DIR/frames/val/HACS/Grooming_horse_v_ANnFXWVJ_x0_scene_0_0-5143/frame1141.jpg'\n"
     ]
    },
    {
     "name": "stderr",
     "output_type": "stream",
     "text": [
      "\n",
      " 50%|█████████████████████████████████████▋                                     | 659/1310 [1:29:30<10:03,  1.08it/s]"
     ]
    },
    {
     "name": "stdout",
     "output_type": "stream",
     "text": [
      "\n",
      ">> hose...\n",
      "TAO\n"
     ]
    },
    {
     "name": "stderr",
     "output_type": "stream",
     "text": [
      " 50%|█████████████████████████████████████▊                                     | 660/1310 [1:29:31<12:15,  1.13s/it]"
     ]
    },
    {
     "name": "stdout",
     "output_type": "stream",
     "text": [
      "\n",
      ">> hot-air_balloon...\n",
      ">>>> #WARNING hot-air_balloon is missing from json annotations\n",
      "annotations datasets:  []\n",
      "annotations imgids:  []\n",
      "annotations bbox:  []\n",
      "\n",
      ">> hotplate...\n",
      ">>>> #WARNING hotplate is missing from json annotations\n",
      "annotations datasets:  []\n",
      "annotations imgids:  []\n",
      "annotations bbox:  []\n",
      "\n",
      ">> hot_sauce...\n",
      ">>>> #WARNING hot_sauce is missing from json annotations\n",
      "annotations datasets:  []\n",
      "annotations imgids:  []\n",
      "annotations bbox:  []\n",
      "\n",
      ">> hourglass...\n",
      ">>>> #WARNING hourglass is missing from json annotations\n",
      "annotations datasets:  []\n",
      "annotations imgids:  []\n",
      "annotations bbox:  []\n",
      "\n",
      ">> houseboat...\n",
      ">>>> #WARNING houseboat is missing from json annotations\n",
      "annotations datasets:  []\n",
      "annotations imgids:  []\n",
      "annotations bbox:  []\n",
      "\n",
      ">> hummingbird...\n",
      ">>>> #WARNING hummingbird is missing from json annotations\n",
      "annotations datasets:  []\n",
      "annotations imgids:  []\n",
      "annotations bbox:  []\n",
      "\n",
      ">> hummus...\n",
      ">>>> #WARNING hummus is missing from json annotations\n",
      "annotations datasets:  []\n",
      "annotations imgids:  []\n",
      "annotations bbox:  []\n",
      "\n",
      ">> polar_bear...\n",
      "TAO\n"
     ]
    },
    {
     "name": "stderr",
     "output_type": "stream",
     "text": [
      " 51%|██████████████████████████████████████▏                                    | 668/1310 [1:29:34<09:27,  1.13it/s]\n",
      ">>> Finding TAO icecream...:   0%|                                                            | 0/99 [00:00<?, ?it/s]\u001b[A\n"
     ]
    },
    {
     "name": "stdout",
     "output_type": "stream",
     "text": [
      "\n",
      ">> icecream...\n",
      "TAO\n",
      "[Errno 2] No such file or directory: 'D:/external_datasets/TAO/TAO_DIR/frames/val/HACS/Removing_ice_from_car_v_Ybb57frsdKk_scene_0_0-4707/frame1171.jpg'\n"
     ]
    },
    {
     "name": "stderr",
     "output_type": "stream",
     "text": [
      " 51%|██████████████████████████████████████▎                                    | 669/1310 [1:29:35<12:03,  1.13s/it]"
     ]
    },
    {
     "name": "stdout",
     "output_type": "stream",
     "text": [
      "\n",
      ">> popsicle...\n",
      ">>>> #WARNING popsicle is missing from json annotations\n",
      "annotations datasets:  []\n",
      "annotations imgids:  []\n",
      "annotations bbox:  []\n",
      "\n",
      ">> ice_maker...\n",
      ">>>> #WARNING ice_maker is missing from json annotations\n",
      "annotations datasets:  []\n",
      "annotations imgids:  []\n",
      "annotations bbox:  []\n",
      "\n",
      ">> ice_pack...\n",
      ">>>> #WARNING ice_pack is missing from json annotations\n",
      "annotations datasets:  []\n",
      "annotations imgids:  []\n",
      "annotations bbox:  []\n",
      "\n",
      ">> ice_skate...\n",
      ">>>> #WARNING ice_skate is missing from json annotations\n",
      "annotations datasets:  []\n",
      "annotations imgids:  []\n",
      "annotations bbox:  []\n",
      "\n",
      ">> ice_tea...\n",
      ">>>> #WARNING ice_tea is missing from json annotations\n",
      "annotations datasets:  []\n",
      "annotations imgids:  []\n",
      "annotations bbox:  []\n",
      "\n",
      ">> igniter...\n",
      "TAO\n"
     ]
    },
    {
     "name": "stderr",
     "output_type": "stream",
     "text": [
      "\n",
      ">>> Finding TAO igniter...:   0%|                                                             | 0/75 [00:00<?, ?it/s]\u001b[A\n",
      " 52%|██████████████████████████████████████▋                                    | 675/1310 [1:29:37<09:06,  1.16it/s]"
     ]
    },
    {
     "name": "stdout",
     "output_type": "stream",
     "text": [
      "[Errno 2] No such file or directory: 'D:/external_datasets/TAO/TAO_DIR/frames/train/AVA/XOe9GeojzCs_scene_19_83881-85612/frame1081.jpg'\n",
      "\n",
      ">> incense...\n",
      ">>>> #WARNING incense is missing from json annotations\n",
      "annotations datasets:  []\n",
      "annotations imgids:  []\n",
      "annotations bbox:  []\n",
      "\n",
      ">> inhaler...\n",
      ">>>> #WARNING inhaler is missing from json annotations\n",
      "annotations datasets:  []\n",
      "annotations imgids:  []\n",
      "annotations bbox:  []\n",
      "\n",
      ">> iPod...\n",
      ">>>> #WARNING iPod is missing from json annotations\n",
      "annotations datasets:  []\n",
      "annotations imgids:  []\n",
      "annotations bbox:  []\n",
      "\n",
      ">> iron_(for_clothing)...\n",
      "TAO\n"
     ]
    },
    {
     "name": "stderr",
     "output_type": "stream",
     "text": [
      "\n",
      ">>> Finding TAO iron_(for_clothing)...:   0%|                                                 | 0/40 [00:00<?, ?it/s]\u001b[A"
     ]
    },
    {
     "name": "stdout",
     "output_type": "stream",
     "text": [
      "[Errno 2] No such file or directory: 'D:/external_datasets/TAO/TAO_DIR/frames/val/HACS/Ironing_clothes_v_o03Adr3laMA_scene_0_1736-3822/frame1051.jpg'\n"
     ]
    },
    {
     "name": "stderr",
     "output_type": "stream",
     "text": [
      "\n",
      "\n",
      ">>> Finding TAO iron_(for_clothing)...:   2%|█                                        | 1/40 [00:00<00:02, 16.93it/s]\u001b[A"
     ]
    },
    {
     "name": "stdout",
     "output_type": "stream",
     "text": [
      "[Errno 2] No such file or directory: 'D:/external_datasets/TAO/TAO_DIR/frames/val/HACS/Ironing_clothes_v_o03Adr3laMA_scene_0_1736-3822/frame0991.jpg'\n"
     ]
    },
    {
     "name": "stderr",
     "output_type": "stream",
     "text": [
      "\n",
      " 52%|██████████████████████████████████████▊                                    | 679/1310 [1:29:38<07:38,  1.38it/s]"
     ]
    },
    {
     "name": "stdout",
     "output_type": "stream",
     "text": [
      "\n",
      ">> ironing_board...\n",
      ">>>> #WARNING ironing_board is missing from json annotations\n",
      "annotations datasets:  []\n",
      "annotations imgids:  []\n",
      "annotations bbox:  []\n",
      "\n",
      ">> jacket...\n",
      "TAO\n"
     ]
    },
    {
     "name": "stderr",
     "output_type": "stream",
     "text": [
      " 52%|██████████████████████████████████████▉                                    | 681/1310 [1:29:40<08:06,  1.29it/s]"
     ]
    },
    {
     "name": "stdout",
     "output_type": "stream",
     "text": [
      "\n",
      ">> jam...\n",
      ">>>> #WARNING jam is missing from json annotations\n",
      "annotations datasets:  []\n",
      "annotations imgids:  []\n",
      "annotations bbox:  []\n",
      "\n",
      ">> jean...\n",
      "TAO\n"
     ]
    },
    {
     "name": "stderr",
     "output_type": "stream",
     "text": [
      " 52%|███████████████████████████████████████                                    | 683/1310 [1:29:42<08:18,  1.26it/s]\n",
      ">>> Finding TAO jeep...: 100%|█████████████████████████████████████████████████████████████████| 5/5 [00:00<?, ?it/s]\u001b[A\n",
      "\n",
      ">>> Finding TAO jeep...: 100%|███████████████████████████████████████████████████████| 5/5 [00:00<00:00, 4995.60it/s]\u001b[A\n",
      "\n",
      ">>> Finding TAO jeep...: 100%|█████████████████████████████████████████████████████████████████| 5/5 [00:00<?, ?it/s]\u001b[A\n",
      "\n",
      ">>> Finding TAO jeep...: 100%|█████████████████████████████████████████████████████████████████| 5/5 [00:00<?, ?it/s]\u001b[A\n",
      "\n",
      ">>> Finding TAO jeep...: 100%|█████████████████████████████████████████████████████████████████| 5/5 [00:00<?, ?it/s]\u001b[A\n",
      "\n",
      ">>> Finding TAO jersey...: 100%|████████████████████████████████████████████████████| 28/28 [00:00<00:00, 491.02it/s]\u001b[A\n",
      "\n",
      ">>> Finding TAO jersey...: 100%|████████████████████████████████████████████████████| 28/28 [00:00<00:00, 538.30it/s]\u001b[A\n",
      "\n",
      ">>> Finding TAO jersey...:   0%|                                                              | 0/28 [00:00<?, ?it/s]\u001b[A"
     ]
    },
    {
     "name": "stdout",
     "output_type": "stream",
     "text": [
      "\n",
      ">> jeep...\n",
      "TAO\n",
      "[Errno 2] No such file or directory: 'D:/external_datasets/TAO/TAO_DIR/frames/train/ArgoVerse/aeb73d7a-8257-3225-972e-99307b3a5cb0/ring_front_center_315969044009488456.jpg'\n",
      ">>>> #WARNING: No file found for: TAO jeep...\n",
      "[Errno 2] No such file or directory: 'D:/external_datasets/TAO/TAO_DIR/frames/train/ArgoVerse/aeb73d7a-8257-3225-972e-99307b3a5cb0/ring_front_center_315969045008502136.jpg'\n",
      ">>>> #WARNING: No file found for: TAO jeep...\n",
      "[Errno 2] No such file or directory: 'D:/external_datasets/TAO/TAO_DIR/frames/train/ArgoVerse/aeb73d7a-8257-3225-972e-99307b3a5cb0/ring_front_center_315969047006447168.jpg'\n",
      ">>>> #WARNING: No file found for: TAO jeep...\n",
      "[Errno 2] No such file or directory: 'D:/external_datasets/TAO/TAO_DIR/frames/train/ArgoVerse/aeb73d7a-8257-3225-972e-99307b3a5cb0/ring_front_center_315969048005428928.jpg'\n",
      ">>>> #WARNING: No file found for: TAO jeep...\n",
      "[Errno 2] No such file or directory: 'D:/external_datasets/TAO/TAO_DIR/frames/train/ArgoVerse/aeb73d7a-8257-3225-972e-99307b3a5cb0/ring_front_center_315969046007516056.jpg'\n",
      ">>>> #WARNING: No file found for: TAO jeep...\n",
      "\n",
      ">> jelly_bean...\n",
      ">>>> #WARNING jelly_bean is missing from json annotations\n",
      "annotations datasets:  []\n",
      "annotations imgids:  []\n",
      "annotations bbox:  []\n",
      "\n",
      ">> jersey...\n",
      "TAO\n",
      "[Errno 2] No such file or directory: 'D:/external_datasets/TAO/TAO_DIR/frames/val/YFCC100M/v_6e13bedfe418b88fc7f43b5df7eb768/frame1381.jpg'\n",
      ">>>> #WARNING: No file found for: TAO jersey...\n",
      "[Errno 2] No such file or directory: 'D:/external_datasets/TAO/TAO_DIR/frames/val/YFCC100M/v_6e13bedfe418b88fc7f43b5df7eb768/frame1261.jpg'\n",
      ">>>> #WARNING: No file found for: TAO jersey...\n",
      "[Errno 2] No such file or directory: 'D:/external_datasets/TAO/TAO_DIR/frames/val/YFCC100M/v_6e13bedfe418b88fc7f43b5df7eb768/frame1621.jpg'\n"
     ]
    },
    {
     "name": "stderr",
     "output_type": "stream",
     "text": [
      ">>> Finding TAO jersey...: 100%|████████████████████████████████████████████████████| 28/28 [00:00<00:00, 451.54it/s]\n",
      "\n",
      ">>> Finding TAO jersey...: 100%|████████████████████████████████████████████████████| 28/28 [00:00<00:00, 411.77it/s]\u001b[A\n",
      "\n",
      ">>> Finding TAO jersey...: 100%|████████████████████████████████████████████████████| 28/28 [00:00<00:00, 405.81it/s]\u001b[A\n",
      "\n",
      ">>> Finding TAO jersey...: 100%|████████████████████████████████████████████████████| 28/28 [00:00<00:00, 549.07it/s]\u001b[A"
     ]
    },
    {
     "name": "stdout",
     "output_type": "stream",
     "text": [
      ">>>> #WARNING: No file found for: TAO jersey...\n",
      "[Errno 2] No such file or directory: 'D:/external_datasets/TAO/TAO_DIR/frames/val/YFCC100M/v_6e13bedfe418b88fc7f43b5df7eb768/frame1351.jpg'\n",
      ">>>> #WARNING: No file found for: TAO jersey...\n",
      "[Errno 2] No such file or directory: 'D:/external_datasets/TAO/TAO_DIR/frames/val/YFCC100M/v_6e13bedfe418b88fc7f43b5df7eb768/frame1651.jpg'\n",
      ">>>> #WARNING: No file found for: TAO jersey...\n",
      "[Errno 2] No such file or directory: 'D:/external_datasets/TAO/TAO_DIR/frames/val/YFCC100M/v_6e13bedfe418b88fc7f43b5df7eb768/frame1411.jpg'\n"
     ]
    },
    {
     "name": "stderr",
     "output_type": "stream",
     "text": [
      "\n",
      "\n",
      ">>> Finding TAO jersey...: 100%|████████████████████████████████████████████████████| 28/28 [00:00<00:00, 537.92it/s]\u001b[A\n",
      "\n",
      ">>> Finding TAO jersey...: 100%|████████████████████████████████████████████████████| 28/28 [00:00<00:00, 559.75it/s]\u001b[A\n",
      "\n",
      ">>> Finding TAO jersey...: 100%|████████████████████████████████████████████████████| 28/28 [00:00<00:00, 528.31it/s]\u001b[A\n",
      "\n",
      ">>> Finding TAO jersey...:   0%|                                                              | 0/28 [00:00<?, ?it/s]\u001b[A"
     ]
    },
    {
     "name": "stdout",
     "output_type": "stream",
     "text": [
      ">>>> #WARNING: No file found for: TAO jersey...\n",
      "[Errno 2] No such file or directory: 'D:/external_datasets/TAO/TAO_DIR/frames/val/YFCC100M/v_6e13bedfe418b88fc7f43b5df7eb768/frame1771.jpg'\n",
      ">>>> #WARNING: No file found for: TAO jersey...\n",
      "[Errno 2] No such file or directory: 'D:/external_datasets/TAO/TAO_DIR/frames/val/YFCC100M/v_6e13bedfe418b88fc7f43b5df7eb768/frame1381.jpg'\n",
      ">>>> #WARNING: No file found for: TAO jersey...\n",
      "[Errno 2] No such file or directory: 'D:/external_datasets/TAO/TAO_DIR/frames/val/YFCC100M/v_6e13bedfe418b88fc7f43b5df7eb768/frame1351.jpg'\n",
      ">>>> #WARNING: No file found for: TAO jersey...\n",
      "[Errno 2] No such file or directory: 'D:/external_datasets/TAO/TAO_DIR/frames/val/YFCC100M/v_6e13bedfe418b88fc7f43b5df7eb768/frame1831.jpg'\n"
     ]
    },
    {
     "name": "stderr",
     "output_type": "stream",
     "text": [
      ">>> Finding TAO jersey...: 100%|████████████████████████████████████████████████████| 28/28 [00:00<00:00, 548.70it/s]\n",
      " 52%|███████████████████████████████████████▎                                   | 686/1310 [1:29:42<06:28,  1.61it/s]"
     ]
    },
    {
     "name": "stdout",
     "output_type": "stream",
     "text": [
      ">>>> #WARNING: No file found for: TAO jersey...\n",
      "\n",
      ">> jet_plane...\n",
      ">>>> #WARNING jet_plane is missing from json annotations\n",
      "annotations datasets:  []\n",
      "annotations imgids:  []\n",
      "annotations bbox:  []\n",
      "\n",
      ">> jewelry...\n",
      ">>>> #WARNING jewelry is missing from json annotations\n",
      "annotations datasets:  []\n",
      "annotations imgids:  []\n",
      "annotations bbox:  []\n",
      "\n",
      ">> joystick...\n",
      ">>>> #WARNING joystick is missing from json annotations\n",
      "annotations datasets:  []\n",
      "annotations imgids:  []\n",
      "annotations bbox:  []\n",
      "\n",
      ">> jumpsuit...\n",
      ">>>> #WARNING jumpsuit is missing from json annotations\n",
      "annotations datasets:  []\n",
      "annotations imgids:  []\n",
      "annotations bbox:  []\n",
      "\n",
      ">> kayak...\n",
      "TAO\n"
     ]
    },
    {
     "name": "stderr",
     "output_type": "stream",
     "text": [
      " 53%|███████████████████████████████████████▌                                   | 691/1310 [1:29:44<05:29,  1.88it/s]"
     ]
    },
    {
     "name": "stdout",
     "output_type": "stream",
     "text": [
      "\n",
      ">> keg...\n",
      ">>>> #WARNING keg is missing from json annotations\n",
      "annotations datasets:  []\n",
      "annotations imgids:  []\n",
      "annotations bbox:  []\n",
      "\n",
      ">> kennel...\n",
      ">>>> #WARNING kennel is missing from json annotations\n",
      "annotations datasets:  []\n",
      "annotations imgids:  []\n",
      "annotations bbox:  []\n",
      "\n",
      ">> kettle...\n",
      "TAO\n"
     ]
    },
    {
     "name": "stderr",
     "output_type": "stream",
     "text": [
      " 53%|███████████████████████████████████████▋                                   | 694/1310 [1:29:44<04:10,  2.45it/s]"
     ]
    },
    {
     "name": "stdout",
     "output_type": "stream",
     "text": [
      "\n",
      ">> key...\n",
      ">>>> #WARNING key is missing from json annotations\n",
      "annotations datasets:  []\n",
      "annotations imgids:  []\n",
      "annotations bbox:  []\n",
      "\n",
      ">> keycard...\n",
      ">>>> #WARNING keycard is missing from json annotations\n",
      "annotations datasets:  []\n",
      "annotations imgids:  []\n",
      "annotations bbox:  []\n",
      "\n",
      ">> kilt...\n",
      ">>>> #WARNING kilt is missing from json annotations\n",
      "annotations datasets:  []\n",
      "annotations imgids:  []\n",
      "annotations bbox:  []\n",
      "\n",
      ">> kimono...\n",
      ">>>> #WARNING kimono is missing from json annotations\n",
      "annotations datasets:  []\n",
      "annotations imgids:  []\n",
      "annotations bbox:  []\n",
      "\n",
      ">> kitchen_sink...\n",
      ">>>> #WARNING kitchen_sink is missing from json annotations\n",
      "annotations datasets:  []\n",
      "annotations imgids:  []\n",
      "annotations bbox:  []\n",
      "\n",
      ">> kitchen_table...\n",
      ">>>> #WARNING kitchen_table is missing from json annotations\n",
      "annotations datasets:  []\n",
      "annotations imgids:  []\n",
      "annotations bbox:  []\n",
      "\n",
      ">> kite...\n",
      "TAO\n"
     ]
    },
    {
     "name": "stderr",
     "output_type": "stream",
     "text": [
      "\n",
      ">>> Finding TAO kite...:   0%|                                                               | 0/116 [00:00<?, ?it/s]\u001b[A"
     ]
    },
    {
     "name": "stdout",
     "output_type": "stream",
     "text": [
      "[Errno 2] No such file or directory: 'D:/external_datasets/TAO/TAO_DIR/frames/val/HACS/Kite_flying_v_Oz3pnUluJR8_scene_0_470-4389/frame1051.jpg'\n"
     ]
    },
    {
     "name": "stderr",
     "output_type": "stream",
     "text": [
      "\n",
      " 54%|████████████████████████████████████████▏                                  | 701/1310 [1:29:46<03:36,  2.81it/s]"
     ]
    },
    {
     "name": "stdout",
     "output_type": "stream",
     "text": [
      "\n",
      ">> kitten...\n",
      ">>>> #WARNING kitten is missing from json annotations\n",
      "annotations datasets:  []\n",
      "annotations imgids:  []\n",
      "annotations bbox:  []\n",
      "\n",
      ">> kiwi_fruit...\n",
      ">>>> #WARNING kiwi_fruit is missing from json annotations\n",
      "annotations datasets:  []\n",
      "annotations imgids:  []\n",
      "annotations bbox:  []\n",
      "\n",
      ">> knee_pad...\n",
      ">>>> #WARNING knee_pad is missing from json annotations\n",
      "annotations datasets:  []\n",
      "annotations imgids:  []\n",
      "annotations bbox:  []\n",
      "\n",
      ">> knife...\n",
      "TAO\n"
     ]
    },
    {
     "name": "stderr",
     "output_type": "stream",
     "text": [
      "\n",
      ">>> Finding TAO knife...:   5%|██▍                                                 | 14/294 [00:00<00:02, 119.69it/s]\u001b[A"
     ]
    },
    {
     "name": "stdout",
     "output_type": "stream",
     "text": [
      "[Errno 2] No such file or directory: 'D:/external_datasets/TAO/TAO_DIR/frames/train/YFCC100M/v_23584c2660351f12cffe1399c47ce870/frame1201.jpeg'\n",
      "[Errno 2] No such file or directory: 'D:/external_datasets/TAO/TAO_DIR/frames/train/AVA/XOe9GeojzCs_scene_13_62523-64711/frame1111.jpg'\n"
     ]
    },
    {
     "name": "stderr",
     "output_type": "stream",
     "text": [
      "\n",
      "\n",
      ">>> Finding TAO knife...:   5%|██▋                                                 | 15/294 [00:00<00:01, 202.71it/s]\u001b[A\n",
      " 54%|████████████████████████████████████████▎                                  | 705/1310 [1:29:48<04:05,  2.47it/s]"
     ]
    },
    {
     "name": "stdout",
     "output_type": "stream",
     "text": [
      "\n",
      ">> knight_(chess_piece)...\n",
      ">>>> #WARNING knight_(chess_piece) is missing from json annotations\n",
      "annotations datasets:  []\n",
      "annotations imgids:  []\n",
      "annotations bbox:  []\n",
      "\n",
      ">> knitting_needle...\n",
      "TAO\n"
     ]
    },
    {
     "name": "stderr",
     "output_type": "stream",
     "text": [
      "\n",
      ">>> Finding TAO knitting_needle...:   0%|                                                    | 0/238 [00:00<?, ?it/s]\u001b[A"
     ]
    },
    {
     "name": "stdout",
     "output_type": "stream",
     "text": [
      "[Errno 2] No such file or directory: 'D:/external_datasets/TAO/TAO_DIR/frames/train/HACS/Knitting_v_mq7Wv-5qJwc/frame3691.jpg'\n"
     ]
    },
    {
     "name": "stderr",
     "output_type": "stream",
     "text": [
      "\n",
      "\n",
      ">>> Finding TAO knitting_needle...:   0%|▏                                           | 1/238 [00:00<00:04, 52.51it/s]\u001b[A"
     ]
    },
    {
     "name": "stdout",
     "output_type": "stream",
     "text": [
      "[Errno 2] No such file or directory: 'D:/external_datasets/TAO/TAO_DIR/frames/train/HACS/Knitting_v_mq7Wv-5qJwc/frame3631.jpg'\n"
     ]
    },
    {
     "name": "stderr",
     "output_type": "stream",
     "text": [
      "\n",
      "\n",
      ">>> Finding TAO knitting_needle...:   1%|▎                                           | 2/238 [00:00<00:06, 39.21it/s]\u001b[A\n",
      " 54%|████████████████████████████████████████▍                                  | 707/1310 [1:29:50<05:12,  1.93it/s]"
     ]
    },
    {
     "name": "stdout",
     "output_type": "stream",
     "text": [
      "[Errno 2] No such file or directory: 'D:/external_datasets/TAO/TAO_DIR/frames/train/HACS/Knitting_v_mq7Wv-5qJwc/frame3481.jpg'\n",
      "\n",
      ">> knob...\n",
      "TAO\n"
     ]
    },
    {
     "name": "stderr",
     "output_type": "stream",
     "text": [
      " 54%|████████████████████████████████████████▌                                  | 708/1310 [1:29:51<08:13,  1.22it/s]"
     ]
    },
    {
     "name": "stdout",
     "output_type": "stream",
     "text": [
      "\n",
      ">> knocker_(on_a_door)...\n",
      ">>>> #WARNING knocker_(on_a_door) is missing from json annotations\n",
      "annotations datasets:  []\n",
      "annotations imgids:  []\n",
      "annotations bbox:  []\n",
      "\n",
      ">> koala...\n",
      ">>>> #WARNING koala is missing from json annotations\n",
      "annotations datasets:  []\n",
      "annotations imgids:  []\n",
      "annotations bbox:  []\n",
      "\n",
      ">> lab_coat...\n",
      ">>>> #WARNING lab_coat is missing from json annotations\n",
      "annotations datasets:  []\n",
      "annotations imgids:  []\n",
      "annotations bbox:  []\n",
      "\n",
      ">> ladder...\n",
      ">>>> #WARNING ladder is missing from json annotations\n",
      "annotations datasets:  []\n",
      "annotations imgids:  []\n",
      "annotations bbox:  []\n",
      "\n",
      ">> ladle...\n",
      "TAO\n"
     ]
    },
    {
     "name": "stderr",
     "output_type": "stream",
     "text": [
      "\n",
      ">>> Finding TAO ladle...:   0%|                                                              | 0/285 [00:00<?, ?it/s]\u001b[A"
     ]
    },
    {
     "name": "stdout",
     "output_type": "stream",
     "text": [
      "[Errno 2] No such file or directory: 'D:/external_datasets/TAO/TAO_DIR/frames/train/HACS/Washing_dishes_v_7SFkVnnp_eE/frame1261.jpg'\n"
     ]
    },
    {
     "name": "stderr",
     "output_type": "stream",
     "text": [
      "\n",
      "\n",
      ">>> Finding TAO ladle...:   0%|▏                                                     | 1/285 [00:00<00:17, 16.13it/s]\u001b[A\n",
      "\n",
      ">>> Finding TAO ladle...:   0%|                                                              | 0/285 [00:00<?, ?it/s]\u001b[A"
     ]
    },
    {
     "name": "stdout",
     "output_type": "stream",
     "text": [
      "[Errno 2] No such file or directory: 'D:/external_datasets/TAO/TAO_DIR/frames/val/HACS/Washing_hands_v_vvRlK1oeAow/frame1201.jpg'\n",
      "[Errno 2] No such file or directory: 'D:/external_datasets/TAO/TAO_DIR/frames/val/HACS/Washing_hands_v_vvRlK1oeAow/frame1261.jpg'\n"
     ]
    },
    {
     "name": "stderr",
     "output_type": "stream",
     "text": [
      ">>> Finding TAO ladle...:   1%|▌                                                     | 3/285 [00:00<00:07, 38.93it/s]\n",
      "\n",
      ">>> Finding TAO ladle...:   1%|▊                                                     | 4/285 [00:00<00:04, 63.46it/s]\u001b[A\n"
     ]
    },
    {
     "name": "stdout",
     "output_type": "stream",
     "text": [
      "[Errno 2] No such file or directory: 'D:/external_datasets/TAO/TAO_DIR/frames/train/HACS/Washing_dishes_v_7SFkVnnp_eE/frame1141.jpg'\n"
     ]
    },
    {
     "name": "stderr",
     "output_type": "stream",
     "text": [
      " 54%|████████████████████████████████████████▊                                  | 713/1310 [1:29:53<06:48,  1.46it/s]"
     ]
    },
    {
     "name": "stdout",
     "output_type": "stream",
     "text": [
      "\n",
      ">> ladybug...\n",
      ">>>> #WARNING ladybug is missing from json annotations\n",
      "annotations datasets:  []\n",
      "annotations imgids:  []\n",
      "annotations bbox:  []\n",
      "\n",
      ">> lamb_(animal)...\n",
      ">>>> #WARNING lamb_(animal) is missing from json annotations\n",
      "annotations datasets:  []\n",
      "annotations imgids:  []\n",
      "annotations bbox:  []\n",
      "\n",
      ">> lamb-chop...\n",
      ">>>> #WARNING lamb-chop is missing from json annotations\n",
      "annotations datasets:  []\n",
      "annotations imgids:  []\n",
      "annotations bbox:  []\n",
      "\n",
      ">> lamp...\n",
      "TAO\n"
     ]
    },
    {
     "name": "stderr",
     "output_type": "stream",
     "text": [
      " 55%|█████████████████████████████████████████                                  | 717/1310 [1:29:55<05:59,  1.65it/s]"
     ]
    },
    {
     "name": "stdout",
     "output_type": "stream",
     "text": [
      "\n",
      ">> lamppost...\n",
      ">>>> #WARNING lamppost is missing from json annotations\n",
      "annotations datasets:  []\n",
      "annotations imgids:  []\n",
      "annotations bbox:  []\n",
      "\n",
      ">> lampshade...\n",
      ">>>> #WARNING lampshade is missing from json annotations\n",
      "annotations datasets:  []\n",
      "annotations imgids:  []\n",
      "annotations bbox:  []\n",
      "\n",
      ">> lantern...\n",
      ">>>> #WARNING lantern is missing from json annotations\n",
      "annotations datasets:  []\n",
      "annotations imgids:  []\n",
      "annotations bbox:  []\n",
      "\n",
      ">> lanyard...\n",
      "TAO\n"
     ]
    },
    {
     "name": "stderr",
     "output_type": "stream",
     "text": [
      " 55%|█████████████████████████████████████████▎                                 | 721/1310 [1:29:57<05:35,  1.76it/s]"
     ]
    },
    {
     "name": "stdout",
     "output_type": "stream",
     "text": [
      "\n",
      ">> laptop_computer...\n",
      "TAO\n"
     ]
    },
    {
     "name": "stderr",
     "output_type": "stream",
     "text": [
      "\n",
      ">>> Finding TAO laptop_computer...:   0%|                                                    | 0/305 [00:00<?, ?it/s]\u001b[A"
     ]
    },
    {
     "name": "stdout",
     "output_type": "stream",
     "text": [
      "[Errno 2] No such file or directory: 'D:/external_datasets/TAO/TAO_DIR/frames/val/Charades/0J1AQ/frame1161.jpg'\n"
     ]
    },
    {
     "name": "stderr",
     "output_type": "stream",
     "text": [
      "\n",
      " 55%|█████████████████████████████████████████▎                                 | 722/1310 [1:29:58<08:49,  1.11it/s]"
     ]
    },
    {
     "name": "stdout",
     "output_type": "stream",
     "text": [
      "\n",
      ">> lasagna...\n",
      ">>>> #WARNING lasagna is missing from json annotations\n",
      "annotations datasets:  []\n",
      "annotations imgids:  []\n",
      "annotations bbox:  []\n",
      "\n",
      ">> latch...\n",
      "TAO\n"
     ]
    },
    {
     "name": "stderr",
     "output_type": "stream",
     "text": [
      " 55%|█████████████████████████████████████████▍                                 | 724/1310 [1:30:00<08:21,  1.17it/s]"
     ]
    },
    {
     "name": "stdout",
     "output_type": "stream",
     "text": [
      "\n",
      ">> lawn_mower...\n",
      "TAO\n"
     ]
    },
    {
     "name": "stderr",
     "output_type": "stream",
     "text": [
      "\n",
      ">>> Finding TAO lawn_mower...:   0%|                                                         | 0/326 [00:00<?, ?it/s]\u001b[A"
     ]
    },
    {
     "name": "stdout",
     "output_type": "stream",
     "text": [
      "[Errno 2] No such file or directory: 'D:/external_datasets/TAO/TAO_DIR/frames/val/HACS/Cutting_the_grass_v_li9f-O7SSmo_scene_0_0-5587/frame1081.jpg'\n"
     ]
    },
    {
     "name": "stderr",
     "output_type": "stream",
     "text": [
      "\n",
      " 55%|█████████████████████████████████████████▌                                 | 725/1310 [1:30:02<11:02,  1.13s/it]"
     ]
    },
    {
     "name": "stdout",
     "output_type": "stream",
     "text": [
      "\n",
      ">> leather...\n",
      ">>>> #WARNING leather is missing from json annotations\n",
      "annotations datasets:  []\n",
      "annotations imgids:  []\n",
      "annotations bbox:  []\n",
      "\n",
      ">> legging_(clothing)...\n",
      ">>>> #WARNING legging_(clothing) is missing from json annotations\n",
      "annotations datasets:  []\n",
      "annotations imgids:  []\n",
      "annotations bbox:  []\n",
      "\n",
      ">> Lego...\n",
      ">>>> #WARNING Lego is missing from json annotations\n",
      "annotations datasets:  []\n",
      "annotations imgids:  []\n",
      "annotations bbox:  []\n",
      "\n",
      ">> lemon...\n",
      "TAO\n"
     ]
    },
    {
     "name": "stderr",
     "output_type": "stream",
     "text": [
      " 56%|█████████████████████████████████████████▋                                 | 729/1310 [1:30:03<08:47,  1.10it/s]"
     ]
    },
    {
     "name": "stdout",
     "output_type": "stream",
     "text": [
      "\n",
      ">> lemonade...\n",
      ">>>> #WARNING lemonade is missing from json annotations\n",
      "annotations datasets:  []\n",
      "annotations imgids:  []\n",
      "annotations bbox:  []\n",
      "\n",
      ">> lettuce...\n",
      "TAO\n"
     ]
    },
    {
     "name": "stderr",
     "output_type": "stream",
     "text": [
      " 56%|█████████████████████████████████████████▊                                 | 731/1310 [1:30:04<06:33,  1.47it/s]"
     ]
    },
    {
     "name": "stdout",
     "output_type": "stream",
     "text": [
      "\n",
      ">> license_plate...\n",
      ">>>> #WARNING license_plate is missing from json annotations\n",
      "annotations datasets:  []\n",
      "annotations imgids:  []\n",
      "annotations bbox:  []\n",
      "\n",
      ">> life_buoy...\n",
      "TAO\n"
     ]
    },
    {
     "name": "stderr",
     "output_type": "stream",
     "text": [
      "\n",
      ">>> Finding TAO life_buoy...:   0%|                                                           | 0/26 [00:00<?, ?it/s]\u001b[A"
     ]
    },
    {
     "name": "stdout",
     "output_type": "stream",
     "text": [
      "[Errno 2] No such file or directory: 'D:/external_datasets/TAO/TAO_DIR/frames/val/HACS/Playing_pool_v_Ezp2mNlD1S8_scene_0_0-5428/frame1051.jpg'\n"
     ]
    },
    {
     "name": "stderr",
     "output_type": "stream",
     "text": [
      "\n",
      " 56%|█████████████████████████████████████████▉                                 | 733/1310 [1:30:05<06:59,  1.37it/s]"
     ]
    },
    {
     "name": "stdout",
     "output_type": "stream",
     "text": [
      "\n",
      ">> life_jacket...\n",
      ">>>> #WARNING life_jacket is missing from json annotations\n",
      "annotations datasets:  []\n",
      "annotations imgids:  []\n",
      "annotations bbox:  []\n",
      "\n",
      ">> lightbulb...\n",
      ">>>> #WARNING lightbulb is missing from json annotations\n",
      "annotations datasets:  []\n",
      "annotations imgids:  []\n",
      "annotations bbox:  []\n",
      "\n",
      ">> lightning_rod...\n",
      ">>>> #WARNING lightning_rod is missing from json annotations\n",
      "annotations datasets:  []\n",
      "annotations imgids:  []\n",
      "annotations bbox:  []\n",
      "\n",
      ">> lime...\n",
      ">>>> #WARNING lime is missing from json annotations\n",
      "annotations datasets:  []\n",
      "annotations imgids:  []\n",
      "annotations bbox:  []\n",
      "\n",
      ">> limousine...\n",
      ">>>> #WARNING limousine is missing from json annotations\n",
      "annotations datasets:  []\n",
      "annotations imgids:  []\n",
      "annotations bbox:  []\n",
      "\n",
      ">> linen_paper...\n",
      ">>>> #WARNING linen_paper is missing from json annotations\n",
      "annotations datasets:  []\n",
      "annotations imgids:  []\n",
      "annotations bbox:  []\n",
      "\n",
      ">> lion...\n",
      "TAO\n"
     ]
    },
    {
     "name": "stderr",
     "output_type": "stream",
     "text": [
      " 56%|██████████████████████████████████████████▎                                | 740/1310 [1:30:07<05:29,  1.73it/s]"
     ]
    },
    {
     "name": "stdout",
     "output_type": "stream",
     "text": [
      "\n",
      ">> lip_balm...\n",
      ">>>> #WARNING lip_balm is missing from json annotations\n",
      "annotations datasets:  []\n",
      "annotations imgids:  []\n",
      "annotations bbox:  []\n",
      "\n",
      ">> lipstick...\n",
      ">>>> #WARNING lipstick is missing from json annotations\n",
      "annotations datasets:  []\n",
      "annotations imgids:  []\n",
      "annotations bbox:  []\n",
      "\n",
      ">> liquor...\n",
      ">>>> #WARNING liquor is missing from json annotations\n",
      "annotations datasets:  []\n",
      "annotations imgids:  []\n",
      "annotations bbox:  []\n",
      "\n",
      ">> lizard...\n",
      "TAO\n"
     ]
    },
    {
     "name": "stderr",
     "output_type": "stream",
     "text": [
      " 57%|██████████████████████████████████████████▌                                | 744/1310 [1:30:09<05:02,  1.87it/s]"
     ]
    },
    {
     "name": "stdout",
     "output_type": "stream",
     "text": [
      "\n",
      ">> Loafer_(type_of_shoe)...\n",
      ">>>> #WARNING Loafer_(type_of_shoe) is missing from json annotations\n",
      "annotations datasets:  []\n",
      "annotations imgids:  []\n",
      "annotations bbox:  []\n",
      "\n",
      ">> log...\n",
      "TAO\n"
     ]
    },
    {
     "name": "stderr",
     "output_type": "stream",
     "text": [
      "\n",
      ">>> Finding TAO log...:   0%|                                                                 | 0/78 [00:00<?, ?it/s]\u001b[A"
     ]
    },
    {
     "name": "stdout",
     "output_type": "stream",
     "text": [
      "[Errno 2] No such file or directory: 'D:/external_datasets/TAO/TAO_DIR/frames/val/HACS/Chopping_wood_v_DNInECGcDUU_scene_0_24-1413/frame1051.jpg'\n"
     ]
    },
    {
     "name": "stderr",
     "output_type": "stream",
     "text": [
      "\n",
      " 57%|██████████████████████████████████████████▋                                | 746/1310 [1:30:10<06:08,  1.53it/s]"
     ]
    },
    {
     "name": "stdout",
     "output_type": "stream",
     "text": [
      "\n",
      ">> lollipop...\n",
      ">>>> #WARNING lollipop is missing from json annotations\n",
      "annotations datasets:  []\n",
      "annotations imgids:  []\n",
      "annotations bbox:  []\n",
      "\n",
      ">> lotion...\n",
      ">>>> #WARNING lotion is missing from json annotations\n",
      "annotations datasets:  []\n",
      "annotations imgids:  []\n",
      "annotations bbox:  []\n",
      "\n",
      ">> speaker_(stero_equipment)...\n",
      ">>>> #WARNING speaker_(stero_equipment) is missing from json annotations\n",
      "annotations datasets:  []\n",
      "annotations imgids:  []\n",
      "annotations bbox:  []\n",
      "\n",
      ">> loveseat...\n",
      ">>>> #WARNING loveseat is missing from json annotations\n",
      "annotations datasets:  []\n",
      "annotations imgids:  []\n",
      "annotations bbox:  []\n",
      "\n",
      ">> machine_gun...\n",
      ">>>> #WARNING machine_gun is missing from json annotations\n",
      "annotations datasets:  []\n",
      "annotations imgids:  []\n",
      "annotations bbox:  []\n",
      "\n",
      ">> magazine...\n",
      "TAO\n"
     ]
    },
    {
     "name": "stderr",
     "output_type": "stream",
     "text": [
      "\n",
      ">>> Finding TAO magazine...:   0%|                                                           | 0/137 [00:00<?, ?it/s]\u001b[A"
     ]
    },
    {
     "name": "stdout",
     "output_type": "stream",
     "text": [
      "[Errno 2] No such file or directory: 'D:/external_datasets/TAO/TAO_DIR/frames/val/AVA/keUOiCcHtoQ_scene_1_2743-3823/frame1001.jpg'\n"
     ]
    },
    {
     "name": "stderr",
     "output_type": "stream",
     "text": [
      "\n",
      " 57%|███████████████████████████████████████████                                | 752/1310 [1:30:12<05:05,  1.82it/s]"
     ]
    },
    {
     "name": "stdout",
     "output_type": "stream",
     "text": [
      "\n",
      ">> magnet...\n",
      ">>>> #WARNING magnet is missing from json annotations\n",
      "annotations datasets:  []\n",
      "annotations imgids:  []\n",
      "annotations bbox:  []\n",
      "\n",
      ">> mail_slot...\n",
      ">>>> #WARNING mail_slot is missing from json annotations\n",
      "annotations datasets:  []\n",
      "annotations imgids:  []\n",
      "annotations bbox:  []\n",
      "\n",
      ">> mailbox_(at_home)...\n",
      ">>>> #WARNING mailbox_(at_home) is missing from json annotations\n",
      "annotations datasets:  []\n",
      "annotations imgids:  []\n",
      "annotations bbox:  []\n",
      "\n",
      ">> mallet...\n",
      "TAO\n"
     ]
    },
    {
     "name": "stderr",
     "output_type": "stream",
     "text": [
      "\n",
      ">>> Finding TAO mallet...:   0%|                                                             | 0/156 [00:00<?, ?it/s]\u001b[A"
     ]
    },
    {
     "name": "stdout",
     "output_type": "stream",
     "text": [
      "[Errno 2] No such file or directory: 'D:/external_datasets/TAO/TAO_DIR/frames/train/HACS/Croquet_v_vrWYdPeIUqw_scene_0_0-1779/frame1051.jpg'\n"
     ]
    },
    {
     "name": "stderr",
     "output_type": "stream",
     "text": [
      "\n",
      " 58%|███████████████████████████████████████████▎                               | 756/1310 [1:30:14<04:49,  1.91it/s]"
     ]
    },
    {
     "name": "stdout",
     "output_type": "stream",
     "text": [
      "\n",
      ">> mammoth...\n",
      ">>>> #WARNING mammoth is missing from json annotations\n",
      "annotations datasets:  []\n",
      "annotations imgids:  []\n",
      "annotations bbox:  []\n",
      "\n",
      ">> mandarin_orange...\n",
      ">>>> #WARNING mandarin_orange is missing from json annotations\n",
      "annotations datasets:  []\n",
      "annotations imgids:  []\n",
      "annotations bbox:  []\n",
      "\n",
      ">> manger...\n",
      ">>>> #WARNING manger is missing from json annotations\n",
      "annotations datasets:  []\n",
      "annotations imgids:  []\n",
      "annotations bbox:  []\n",
      "\n",
      ">> manhole...\n",
      ">>>> #WARNING manhole is missing from json annotations\n",
      "annotations datasets:  []\n",
      "annotations imgids:  []\n",
      "annotations bbox:  []\n",
      "\n",
      ">> map...\n",
      ">>>> #WARNING map is missing from json annotations\n",
      "annotations datasets:  []\n",
      "annotations imgids:  []\n",
      "annotations bbox:  []\n",
      "\n",
      ">> marker...\n",
      "TAO\n"
     ]
    },
    {
     "name": "stderr",
     "output_type": "stream",
     "text": [
      "\n",
      ">>> Finding TAO marker...:   0%|                                                              | 0/85 [00:00<?, ?it/s]\u001b[A"
     ]
    },
    {
     "name": "stdout",
     "output_type": "stream",
     "text": [
      "[Errno 2] No such file or directory: 'D:/external_datasets/TAO/TAO_DIR/frames/val/HACS/Playing_rubik_cube_v_7GZd2e9g95A/frame1771.jpg'\n",
      "[Errno 2] No such file or directory: 'D:/external_datasets/TAO/TAO_DIR/frames/val/HACS/Playing_rubik_cube_v_7GZd2e9g95A/frame2251.jpg'\n"
     ]
    },
    {
     "name": "stderr",
     "output_type": "stream",
     "text": [
      "\n",
      "\n",
      ">>> Finding TAO marker...:   1%|▋                                                     | 1/85 [00:00<00:03, 25.04it/s]\u001b[A\n",
      "\n",
      ">>> Finding TAO marker...:   2%|█▎                                                    | 2/85 [00:00<00:01, 48.77it/s]\u001b[A\n"
     ]
    },
    {
     "name": "stdout",
     "output_type": "stream",
     "text": [
      "[Errno 2] No such file or directory: 'D:/external_datasets/TAO/TAO_DIR/frames/val/HACS/Playing_rubik_cube_v_7GZd2e9g95A/frame2221.jpg'\n"
     ]
    },
    {
     "name": "stderr",
     "output_type": "stream",
     "text": [
      "\n",
      ">>> Finding TAO marker...:   4%|█▉                                                    | 3/85 [00:00<00:04, 17.03it/s]\u001b[A"
     ]
    },
    {
     "name": "stdout",
     "output_type": "stream",
     "text": [
      "[Errno 2] No such file or directory: 'D:/external_datasets/TAO/TAO_DIR/frames/val/HACS/Wrapping_presents_v_PSv5Pq16K3w_scene_0_0-4494/frame1111.jpg'\n"
     ]
    },
    {
     "name": "stderr",
     "output_type": "stream",
     "text": [
      "\n",
      "\n",
      ">>> Finding TAO marker...:   5%|██▌                                                   | 4/85 [00:00<00:01, 61.53it/s]\u001b[A\n",
      "\n",
      ">>> Finding TAO marker...:   0%|                                                              | 0/85 [00:00<?, ?it/s]\u001b[A"
     ]
    },
    {
     "name": "stdout",
     "output_type": "stream",
     "text": [
      "[Errno 2] No such file or directory: 'D:/external_datasets/TAO/TAO_DIR/frames/val/HACS/Wrapping_presents_v_PSv5Pq16K3w_scene_0_0-4494/frame1021.jpg'\n",
      "[Errno 2] No such file or directory: 'D:/external_datasets/TAO/TAO_DIR/frames/val/HACS/Playing_rubik_cube_v_7GZd2e9g95A/frame2581.jpg'\n"
     ]
    },
    {
     "name": "stderr",
     "output_type": "stream",
     "text": [
      ">>> Finding TAO marker...:   6%|███                                                  | 5/85 [00:00<00:00, 111.24it/s]\n",
      "\n",
      ">>> Finding TAO marker...:   7%|███▋                                                 | 6/85 [00:00<00:00, 122.45it/s]\u001b[A\n",
      "\n",
      ">>> Finding TAO marker...:   0%|                                                              | 0/85 [00:00<?, ?it/s]\u001b[A"
     ]
    },
    {
     "name": "stdout",
     "output_type": "stream",
     "text": [
      "[Errno 2] No such file or directory: 'D:/external_datasets/TAO/TAO_DIR/frames/val/HACS/Playing_rubik_cube_v_7GZd2e9g95A/frame1801.jpg'\n",
      "[Errno 2] No such file or directory: 'D:/external_datasets/TAO/TAO_DIR/frames/val/HACS/Playing_rubik_cube_v_7GZd2e9g95A/frame2041.jpg'\n"
     ]
    },
    {
     "name": "stderr",
     "output_type": "stream",
     "text": [
      ">>> Finding TAO marker...:   8%|████▎                                                | 7/85 [00:00<00:00, 142.85it/s]\n",
      " 58%|███████████████████████████████████████████▋                               | 762/1310 [1:30:16<04:16,  2.14it/s]"
     ]
    },
    {
     "name": "stdout",
     "output_type": "stream",
     "text": [
      "\n",
      ">> martini...\n",
      ">>>> #WARNING martini is missing from json annotations\n",
      "annotations datasets:  []\n",
      "annotations imgids:  []\n",
      "annotations bbox:  []\n",
      "\n",
      ">> mascot...\n",
      ">>>> #WARNING mascot is missing from json annotations\n",
      "annotations datasets:  []\n",
      "annotations imgids:  []\n",
      "annotations bbox:  []\n",
      "\n",
      ">> mashed_potato...\n",
      ">>>> #WARNING mashed_potato is missing from json annotations\n",
      "annotations datasets:  []\n",
      "annotations imgids:  []\n",
      "annotations bbox:  []\n",
      "\n",
      ">> masher...\n",
      ">>>> #WARNING masher is missing from json annotations\n",
      "annotations datasets:  []\n",
      "annotations imgids:  []\n",
      "annotations bbox:  []\n",
      "\n",
      ">> mask...\n",
      ">>>> #WARNING mask is missing from json annotations\n",
      "annotations datasets:  []\n",
      "annotations imgids:  []\n",
      "annotations bbox:  []\n",
      "\n",
      ">> mast...\n",
      ">>>> #WARNING mast is missing from json annotations\n",
      "annotations datasets:  []\n",
      "annotations imgids:  []\n",
      "annotations bbox:  []\n",
      "\n",
      ">> mat_(gym_equipment)...\n",
      ">>>> #WARNING mat_(gym_equipment) is missing from json annotations\n",
      "annotations datasets:  []\n",
      "annotations imgids:  []\n",
      "annotations bbox:  []\n",
      "\n",
      ">> matchbox...\n",
      "TAO\n"
     ]
    },
    {
     "name": "stderr",
     "output_type": "stream",
     "text": [
      " 59%|████████████████████████████████████████████                               | 770/1310 [1:30:18<03:42,  2.42it/s]"
     ]
    },
    {
     "name": "stdout",
     "output_type": "stream",
     "text": [
      "\n",
      ">> mattress...\n",
      "TAO\n"
     ]
    },
    {
     "name": "stderr",
     "output_type": "stream",
     "text": [
      " 59%|████████████████████████████████████████████▏                              | 771/1310 [1:30:21<09:29,  1.06s/it]"
     ]
    },
    {
     "name": "stdout",
     "output_type": "stream",
     "text": [
      "\n",
      ">> measuring_cup...\n",
      "TAO\n"
     ]
    },
    {
     "name": "stderr",
     "output_type": "stream",
     "text": [
      "\n",
      ">>> Finding TAO measuring_cup...:   0%|                                                       | 0/40 [00:00<?, ?it/s]\u001b[A"
     ]
    },
    {
     "name": "stdout",
     "output_type": "stream",
     "text": [
      "[Errno 2] No such file or directory: 'D:/external_datasets/TAO/TAO_DIR/frames/val/HACS/Baking_cookies_v_dhLfw18EP8E_scene_0_0-2102/frame1081.jpg'\n"
     ]
    },
    {
     "name": "stderr",
     "output_type": "stream",
     "text": [
      "\n",
      "\n",
      ">>> Finding TAO measuring_cup...:   2%|█▏                                             | 1/40 [00:00<00:01, 31.25it/s]\u001b[A\n",
      " 59%|████████████████████████████████████████████▏                              | 772/1310 [1:30:22<10:50,  1.21s/it]"
     ]
    },
    {
     "name": "stdout",
     "output_type": "stream",
     "text": [
      "[Errno 2] No such file or directory: 'D:/external_datasets/TAO/TAO_DIR/frames/val/HACS/Baking_cookies_v_dhLfw18EP8E_scene_0_0-2102/frame1051.jpg'\n",
      "\n",
      ">> measuring_stick...\n",
      ">>>> #WARNING measuring_stick is missing from json annotations\n",
      "annotations datasets:  []\n",
      "annotations imgids:  []\n",
      "annotations bbox:  []\n",
      "\n",
      ">> meatball...\n",
      ">>>> #WARNING meatball is missing from json annotations\n",
      "annotations datasets:  []\n",
      "annotations imgids:  []\n",
      "annotations bbox:  []\n",
      "\n",
      ">> medicine...\n",
      "TAO\n"
     ]
    },
    {
     "name": "stderr",
     "output_type": "stream",
     "text": [
      " 59%|████████████████████████████████████████████▎                              | 775/1310 [1:30:24<08:27,  1.05it/s]"
     ]
    },
    {
     "name": "stdout",
     "output_type": "stream",
     "text": [
      "\n",
      ">> melon...\n",
      ">>>> #WARNING melon is missing from json annotations\n",
      "annotations datasets:  []\n",
      "annotations imgids:  []\n",
      "annotations bbox:  []\n",
      "\n",
      ">> microphone...\n",
      "TAO\n"
     ]
    },
    {
     "name": "stderr",
     "output_type": "stream",
     "text": [
      "\n",
      ">>> Finding TAO microphone...:   0%|                                                         | 0/358 [00:00<?, ?it/s]\u001b[A"
     ]
    },
    {
     "name": "stdout",
     "output_type": "stream",
     "text": [
      "[Errno 2] No such file or directory: 'D:/external_datasets/TAO/TAO_DIR/frames/val/YFCC100M/v_14b627ec7de293323bc829aefc33b/frame1081.jpg'\n"
     ]
    },
    {
     "name": "stderr",
     "output_type": "stream",
     "text": [
      "\n",
      "\n",
      ">>> Finding TAO microphone...:   0%|▏                                                | 1/358 [00:00<00:23, 15.38it/s]\u001b[A"
     ]
    },
    {
     "name": "stdout",
     "output_type": "stream",
     "text": [
      "[Errno 2] No such file or directory: 'D:/external_datasets/TAO/TAO_DIR/frames/val/YFCC100M/v_14b627ec7de293323bc829aefc33b/frame1261.jpg'\n"
     ]
    },
    {
     "name": "stderr",
     "output_type": "stream",
     "text": [
      "\n",
      " 59%|████████████████████████████████████████████▍                              | 777/1310 [1:30:25<08:22,  1.06it/s]"
     ]
    },
    {
     "name": "stdout",
     "output_type": "stream",
     "text": [
      "\n",
      ">> microscope...\n",
      ">>>> #WARNING microscope is missing from json annotations\n",
      "annotations datasets:  []\n",
      "annotations imgids:  []\n",
      "annotations bbox:  []\n",
      "\n",
      ">> microwave_oven...\n",
      ">>>> #WARNING microwave_oven is missing from json annotations\n",
      "annotations datasets:  []\n",
      "annotations imgids:  []\n",
      "annotations bbox:  []\n",
      "\n",
      ">> milestone...\n",
      ">>>> #WARNING milestone is missing from json annotations\n",
      "annotations datasets:  []\n",
      "annotations imgids:  []\n",
      "annotations bbox:  []\n",
      "\n",
      ">> milk...\n",
      ">>>> #WARNING milk is missing from json annotations\n",
      "annotations datasets:  []\n",
      "annotations imgids:  []\n",
      "annotations bbox:  []\n",
      "\n",
      ">> minivan...\n",
      "TAO\n"
     ]
    },
    {
     "name": "stderr",
     "output_type": "stream",
     "text": [
      "\n",
      ">>> Finding TAO minivan...:   0%|                                                             | 0/16 [00:00<?, ?it/s]\u001b[A"
     ]
    },
    {
     "name": "stdout",
     "output_type": "stream",
     "text": [
      "[Errno 2] No such file or directory: 'D:/external_datasets/TAO/TAO_DIR/frames/val/ArgoVerse/side_right_aebe6aaa-6a95-39e6-9a8d-06103141fcde/ring_side_right_315971779001626672.jpg'\n"
     ]
    },
    {
     "name": "stderr",
     "output_type": "stream",
     "text": [
      "\n",
      "\n",
      ">>> Finding TAO minivan...:   6%|███▎                                                 | 1/16 [00:00<00:00, 20.39it/s]\u001b[A"
     ]
    },
    {
     "name": "stdout",
     "output_type": "stream",
     "text": [
      "[Errno 2] No such file or directory: 'D:/external_datasets/TAO/TAO_DIR/frames/val/ArgoVerse/side_right_aebe6aaa-6a95-39e6-9a8d-06103141fcde/ring_side_right_315971780000622672.jpg'\n"
     ]
    },
    {
     "name": "stderr",
     "output_type": "stream",
     "text": [
      "\n",
      " 60%|████████████████████████████████████████████▊                              | 782/1310 [1:30:27<06:40,  1.32it/s]"
     ]
    },
    {
     "name": "stdout",
     "output_type": "stream",
     "text": [
      "\n",
      ">> mint_candy...\n",
      ">>>> #WARNING mint_candy is missing from json annotations\n",
      "annotations datasets:  []\n",
      "annotations imgids:  []\n",
      "annotations bbox:  []\n",
      "\n",
      ">> mirror...\n",
      "TAO\n"
     ]
    },
    {
     "name": "stderr",
     "output_type": "stream",
     "text": [
      " 60%|████████████████████████████████████████████▉                              | 784/1310 [1:30:29<06:57,  1.26it/s]"
     ]
    },
    {
     "name": "stdout",
     "output_type": "stream",
     "text": [
      "\n",
      ">> mitten...\n",
      ">>>> #WARNING mitten is missing from json annotations\n",
      "annotations datasets:  []\n",
      "annotations imgids:  []\n",
      "annotations bbox:  []\n",
      "\n",
      ">> mixer_(kitchen_tool)...\n",
      "TAO\n"
     ]
    },
    {
     "name": "stderr",
     "output_type": "stream",
     "text": [
      " 60%|█████████████████████████████████████████████                              | 786/1310 [1:30:30<07:05,  1.23it/s]"
     ]
    },
    {
     "name": "stdout",
     "output_type": "stream",
     "text": [
      "\n",
      ">> money...\n",
      "TAO\n"
     ]
    },
    {
     "name": "stderr",
     "output_type": "stream",
     "text": [
      " 60%|█████████████████████████████████████████████                              | 787/1310 [1:30:33<10:33,  1.21s/it]"
     ]
    },
    {
     "name": "stdout",
     "output_type": "stream",
     "text": [
      "\n",
      ">> monitor_(computer_equipment) computer_monitor...\n",
      "TAO\n"
     ]
    },
    {
     "name": "stderr",
     "output_type": "stream",
     "text": [
      "\n",
      ">>> Finding TAO monitor_(computer_equipment) computer_monitor...:   0%|                       | 0/39 [00:00<?, ?it/s]\u001b[A"
     ]
    },
    {
     "name": "stdout",
     "output_type": "stream",
     "text": [
      "[Errno 2] No such file or directory: 'D:/external_datasets/TAO/TAO_DIR/frames/val/Charades/KRT78/frame1111.jpg'\n"
     ]
    },
    {
     "name": "stderr",
     "output_type": "stream",
     "text": [
      "\n",
      "\n",
      ">>> Finding TAO monitor_(computer_equipment) computer_monitor...:   3%|▍              | 1/39 [00:00<00:01, 29.41it/s]\u001b[A"
     ]
    },
    {
     "name": "stdout",
     "output_type": "stream",
     "text": [
      "[Errno 2] No such file or directory: 'D:/external_datasets/TAO/TAO_DIR/frames/val/Charades/KRT78/frame1021.jpg'\n"
     ]
    },
    {
     "name": "stderr",
     "output_type": "stream",
     "text": [
      "\n",
      "\n",
      ">>> Finding TAO monitor_(computer_equipment) computer_monitor...:   5%|▊              | 2/39 [00:00<00:01, 25.97it/s]\u001b[A"
     ]
    },
    {
     "name": "stdout",
     "output_type": "stream",
     "text": [
      "[Errno 2] No such file or directory: 'D:/external_datasets/TAO/TAO_DIR/frames/val/Charades/KRT78/frame1141.jpg'\n",
      "[Errno 2] No such file or directory: 'D:/external_datasets/TAO/TAO_DIR/frames/val/Charades/KRT78/frame1051.jpg'"
     ]
    },
    {
     "name": "stderr",
     "output_type": "stream",
     "text": [
      "\n",
      "\n",
      ">>> Finding TAO monitor_(computer_equipment) computer_monitor...:   8%|█▏             | 3/39 [00:00<00:00, 53.57it/s]\u001b[A\n"
     ]
    },
    {
     "name": "stdout",
     "output_type": "stream",
     "text": [
      "\n"
     ]
    },
    {
     "name": "stderr",
     "output_type": "stream",
     "text": [
      " 60%|███████████████████████████████████████████▉                             | 788/1310 [1:31:13<1:51:40, 12.84s/it]"
     ]
    },
    {
     "name": "stdout",
     "output_type": "stream",
     "text": [
      "\n",
      ">> monkey...\n",
      "TAO\n"
     ]
    },
    {
     "name": "stderr",
     "output_type": "stream",
     "text": [
      " 60%|███████████████████████████████████████████▉                             | 789/1310 [1:31:15<1:23:02,  9.56s/it]"
     ]
    },
    {
     "name": "stdout",
     "output_type": "stream",
     "text": [
      "\n",
      ">> motor...\n",
      ">>>> #WARNING motor is missing from json annotations\n",
      "annotations datasets:  []\n",
      "annotations imgids:  []\n",
      "annotations bbox:  []\n",
      "\n",
      ">> motor_scooter...\n",
      "TAO\n"
     ]
    },
    {
     "name": "stderr",
     "output_type": "stream",
     "text": [
      " 60%|████████████████████████████████████████████                             | 791/1310 [1:31:16<1:00:24,  6.98s/it]"
     ]
    },
    {
     "name": "stdout",
     "output_type": "stream",
     "text": [
      "\n",
      ">> motor_vehicle...\n",
      ">>>> #WARNING motor_vehicle is missing from json annotations\n",
      "annotations datasets:  []\n",
      "annotations imgids:  []\n",
      "annotations bbox:  []\n",
      "\n",
      ">> motorboat...\n",
      "TAO\n"
     ]
    },
    {
     "name": "stderr",
     "output_type": "stream",
     "text": [
      " 61%|█████████████████████████████████████████████▍                             | 793/1310 [1:31:18<44:19,  5.14s/it]"
     ]
    },
    {
     "name": "stdout",
     "output_type": "stream",
     "text": [
      "\n",
      ">> motorcycle...\n",
      "TAO\n"
     ]
    },
    {
     "name": "stderr",
     "output_type": "stream",
     "text": [
      " 61%|█████████████████████████████████████████████▍                             | 794/1310 [1:31:20<35:40,  4.15s/it]"
     ]
    },
    {
     "name": "stdout",
     "output_type": "stream",
     "text": [
      "\n",
      ">> mound_(baseball)...\n",
      ">>>> #WARNING mound_(baseball) is missing from json annotations\n",
      "annotations datasets:  []\n",
      "annotations imgids:  []\n",
      "annotations bbox:  []\n",
      "\n",
      ">> mouse_(animal_rodent)...\n",
      ">>>> #WARNING mouse_(animal_rodent) is missing from json annotations\n",
      "annotations datasets:  []\n",
      "annotations imgids:  []\n",
      "annotations bbox:  []\n",
      "\n",
      ">> mouse_(computer_equipment)...\n",
      "TAO\n"
     ]
    },
    {
     "name": "stderr",
     "output_type": "stream",
     "text": [
      " 61%|█████████████████████████████████████████████▋                             | 797/1310 [1:31:22<26:15,  3.07s/it]\n",
      ">>> Finding TAO musical_instrument...: 100%|███████████████████████████████████████████████████| 7/7 [00:00<?, ?it/s]\u001b[A\n",
      "\n",
      ">>> Finding TAO musical_instrument...: 100%|███████████████████████████████████████████████████| 7/7 [00:00<?, ?it/s]\u001b[A\n",
      "\n",
      ">>> Finding TAO musical_instrument...: 100%|███████████████████████████████████████████████████| 7/7 [00:00<?, ?it/s]\u001b[A\n",
      "\n",
      ">>> Finding TAO musical_instrument...: 100%|███████████████████████████████████████████████████| 7/7 [00:00<?, ?it/s]\u001b[A\n",
      "\n",
      ">>> Finding TAO musical_instrument...: 100%|█████████████████████████████████████████| 7/7 [00:00<00:00, 7022.27it/s]\u001b[A\n",
      "\n",
      ">>> Finding TAO musical_instrument...: 100%|███████████████████████████████████████████████████| 7/7 [00:00<?, ?it/s]\u001b[A\n",
      "\n",
      ">>> Finding TAO musical_instrument...: 100%|█████████████████████████████████████████| 7/7 [00:00<00:00, 3491.93it/s]\u001b[A\n"
     ]
    },
    {
     "name": "stdout",
     "output_type": "stream",
     "text": [
      "\n",
      ">> mousepad...\n",
      ">>>> #WARNING mousepad is missing from json annotations\n",
      "annotations datasets:  []\n",
      "annotations imgids:  []\n",
      "annotations bbox:  []\n",
      "\n",
      ">> muffin...\n",
      ">>>> #WARNING muffin is missing from json annotations\n",
      "annotations datasets:  []\n",
      "annotations imgids:  []\n",
      "annotations bbox:  []\n",
      "\n",
      ">> mug...\n",
      ">>>> #WARNING mug is missing from json annotations\n",
      "annotations datasets:  []\n",
      "annotations imgids:  []\n",
      "annotations bbox:  []\n",
      "\n",
      ">> mushroom...\n",
      ">>>> #WARNING mushroom is missing from json annotations\n",
      "annotations datasets:  []\n",
      "annotations imgids:  []\n",
      "annotations bbox:  []\n",
      "\n",
      ">> music_stool...\n",
      ">>>> #WARNING music_stool is missing from json annotations\n",
      "annotations datasets:  []\n",
      "annotations imgids:  []\n",
      "annotations bbox:  []\n",
      "\n",
      ">> musical_instrument...\n",
      "TAO\n",
      "[Errno 2] No such file or directory: 'D:/external_datasets/TAO/TAO_DIR/frames/val/HACS/Playing_drums_v_jir62k3ZUG4_scene_0_0-6104/frame0991.jpg'\n",
      ">>>> #WARNING: No file found for: TAO musical_instrument...\n",
      "[Errno 2] No such file or directory: 'D:/external_datasets/TAO/TAO_DIR/frames/val/HACS/Playing_drums_v_jir62k3ZUG4_scene_0_0-6104/frame1111.jpg'\n",
      ">>>> #WARNING: No file found for: TAO musical_instrument...\n",
      "[Errno 2] No such file or directory: 'D:/external_datasets/TAO/TAO_DIR/frames/val/HACS/Playing_drums_v_jir62k3ZUG4_scene_0_0-6104/frame1021.jpg'\n",
      ">>>> #WARNING: No file found for: TAO musical_instrument...\n",
      "[Errno 2] No such file or directory: 'D:/external_datasets/TAO/TAO_DIR/frames/val/HACS/Playing_drums_v_jir62k3ZUG4_scene_0_0-6104/frame1171.jpg'\n",
      ">>>> #WARNING: No file found for: TAO musical_instrument...\n",
      "[Errno 2] No such file or directory: 'D:/external_datasets/TAO/TAO_DIR/frames/val/HACS/Playing_drums_v_jir62k3ZUG4_scene_0_0-6104/frame1051.jpg'\n",
      ">>>> #WARNING: No file found for: TAO musical_instrument...\n",
      "[Errno 2] No such file or directory: 'D:/external_datasets/TAO/TAO_DIR/frames/val/HACS/Playing_drums_v_jir62k3ZUG4_scene_0_0-6104/frame1141.jpg'\n",
      ">>>> #WARNING: No file found for: TAO musical_instrument...\n",
      "[Errno 2] No such file or directory: 'D:/external_datasets/TAO/TAO_DIR/frames/val/HACS/Playing_drums_v_jir62k3ZUG4_scene_0_0-6104/frame1081.jpg'\n",
      ">>>> #WARNING: No file found for: TAO musical_instrument...\n",
      "\n",
      ">> nailfile...\n",
      ">>>> #WARNING nailfile is missing from json annotations\n",
      "annotations datasets:  []\n",
      "annotations imgids:  []\n",
      "annotations bbox:  []\n",
      "\n",
      ">> nameplate...\n",
      ">>>> #WARNING nameplate is missing from json annotations\n",
      "annotations datasets:  []\n",
      "annotations imgids:  []\n",
      "annotations bbox:  []\n",
      "\n",
      ">> napkin...\n",
      "TAO\n"
     ]
    },
    {
     "name": "stderr",
     "output_type": "stream",
     "text": [
      " 62%|██████████████████████████████████████████████▏                            | 806/1310 [1:31:24<18:36,  2.22s/it]\n",
      ">>> Finding TAO necklace...:   0%|                                                            | 0/46 [00:00<?, ?it/s]\u001b[A"
     ]
    },
    {
     "name": "stdout",
     "output_type": "stream",
     "text": [
      "\n",
      ">> neckerchief...\n",
      ">>>> #WARNING neckerchief is missing from json annotations\n",
      "annotations datasets:  []\n",
      "annotations imgids:  []\n",
      "annotations bbox:  []\n",
      "\n",
      ">> necklace...\n",
      "TAO\n",
      "[Errno 2] No such file or directory: 'D:/external_datasets/TAO/TAO_DIR/frames/val/YFCC100M/v_5c499a3be51f27d537c8e429840e760/frame1321.jpeg'\n"
     ]
    },
    {
     "name": "stderr",
     "output_type": "stream",
     "text": [
      "\n",
      "\n",
      ">>> Finding TAO necklace...:   2%|█▏                                                  | 1/46 [00:00<00:02, 16.67it/s]\u001b[A"
     ]
    },
    {
     "name": "stdout",
     "output_type": "stream",
     "text": [
      "[Errno 2] No such file or directory: 'D:/external_datasets/TAO/TAO_DIR/frames/val/YFCC100M/v_5c499a3be51f27d537c8e429840e760/frame0961.jpeg'\n",
      "[Errno 2] No such file or directory: 'D:/external_datasets/TAO/TAO_DIR/frames/val/YFCC100M/v_5c499a3be51f27d537c8e429840e760/frame0541.jpeg'"
     ]
    },
    {
     "name": "stderr",
     "output_type": "stream",
     "text": [
      "\n",
      "\n",
      ">>> Finding TAO necklace...:   4%|██▎                                                 | 2/46 [00:00<00:01, 40.81it/s]\u001b[A\n"
     ]
    },
    {
     "name": "stdout",
     "output_type": "stream",
     "text": [
      "\n"
     ]
    },
    {
     "name": "stderr",
     "output_type": "stream",
     "text": [
      "\n",
      ">>> Finding TAO necklace...:  11%|█████▋                                              | 5/46 [00:00<00:00, 70.44it/s]\u001b[A"
     ]
    },
    {
     "name": "stdout",
     "output_type": "stream",
     "text": [
      "[Errno 2] No such file or directory: 'D:/external_datasets/TAO/TAO_DIR/frames/val/YFCC100M/v_5c499a3be51f27d537c8e429840e760/frame0901.jpeg'\n"
     ]
    },
    {
     "name": "stderr",
     "output_type": "stream",
     "text": [
      "\n",
      "\n",
      ">>> Finding TAO necklace...:  13%|██████▊                                             | 6/46 [00:00<00:00, 82.21it/s]\u001b[A\n",
      " 62%|██████████████████████████████████████████████▎                            | 808/1310 [1:31:26<15:24,  1.84s/it]"
     ]
    },
    {
     "name": "stdout",
     "output_type": "stream",
     "text": [
      "[Errno 2] No such file or directory: 'D:/external_datasets/TAO/TAO_DIR/frames/val/YFCC100M/v_5c499a3be51f27d537c8e429840e760/frame1621.jpeg'\n",
      "\n",
      ">> necktie...\n",
      ">>>> #WARNING necktie is missing from json annotations\n",
      "annotations datasets:  []\n",
      "annotations imgids:  []\n",
      "annotations bbox:  []\n",
      "\n",
      ">> needle...\n"
     ]
    },
    {
     "name": "stderr",
     "output_type": "stream",
     "text": [
      "\n",
      ">>> Finding TAO newsstand...: 100%|████████████████████████████████████████████████| 14/14 [00:00<00:00, 1166.57it/s]\u001b[A\n",
      "\n",
      ">>> Finding TAO newsstand...: 100%|████████████████████████████████████████████████| 14/14 [00:00<00:00, 1076.80it/s]\u001b[A\n",
      "\n",
      ">>> Finding TAO newsstand...: 100%|████████████████████████████████████████████████| 14/14 [00:00<00:00, 1000.35it/s]\u001b[A\n",
      "\n",
      ">>> Finding TAO newsstand...: 100%|████████████████████████████████████████████████| 14/14 [00:00<00:00, 1078.60it/s]\u001b[A\n",
      "\n",
      ">>> Finding TAO newsstand...: 100%|████████████████████████████████████████████████| 14/14 [00:00<00:00, 1077.00it/s]\u001b[A\n",
      "\n",
      ">>> Finding TAO newsstand...: 100%|████████████████████████████████████████████████| 14/14 [00:00<00:00, 1273.10it/s]\u001b[A\n",
      "\n",
      ">>> Finding TAO newsstand...: 100%|█████████████████████████████████████████████████| 14/14 [00:00<00:00, 933.31it/s]\u001b[A\n",
      "\n",
      ">>> Finding TAO newsstand...: 100%|████████████████████████████████████████████████| 14/14 [00:00<00:00, 1272.96it/s]\u001b[A\n",
      "\n",
      ">>> Finding TAO newsstand...:   0%|                                                           | 0/14 [00:00<?, ?it/s]\u001b[A"
     ]
    },
    {
     "name": "stdout",
     "output_type": "stream",
     "text": [
      ">>>> #WARNING needle is missing from json annotations\n",
      "annotations datasets:  []\n",
      "annotations imgids:  []\n",
      "annotations bbox:  []\n",
      "\n",
      ">> nest...\n",
      ">>>> #WARNING nest is missing from json annotations\n",
      "annotations datasets:  []\n",
      "annotations imgids:  []\n",
      "annotations bbox:  []\n",
      "\n",
      ">> newsstand...\n",
      "TAO\n",
      "[Errno 2] No such file or directory: 'D:/external_datasets/TAO/TAO_DIR/frames/train/ArgoVerse/side_right_a64c1df5-9ad2-3f9e-9117-83ef0f8f3072/ring_side_right_315972634026636200.jpg'\n",
      ">>>> #WARNING: No file found for: TAO newsstand...\n",
      "[Errno 2] No such file or directory: 'D:/external_datasets/TAO/TAO_DIR/frames/train/ArgoVerse/side_right_a64c1df5-9ad2-3f9e-9117-83ef0f8f3072/ring_side_right_315972638022636704.jpg'\n",
      ">>>> #WARNING: No file found for: TAO newsstand...\n",
      "[Errno 2] No such file or directory: 'D:/external_datasets/TAO/TAO_DIR/frames/train/ArgoVerse/side_right_a64c1df5-9ad2-3f9e-9117-83ef0f8f3072/ring_side_right_315972637023635704.jpg'\n",
      ">>>> #WARNING: No file found for: TAO newsstand...\n",
      "[Errno 2] No such file or directory: 'D:/external_datasets/TAO/TAO_DIR/frames/train/ArgoVerse/side_right_a64c1df5-9ad2-3f9e-9117-83ef0f8f3072/ring_side_right_315972627033637824.jpg'\n",
      ">>>> #WARNING: No file found for: TAO newsstand...\n",
      "[Errno 2] No such file or directory: 'D:/external_datasets/TAO/TAO_DIR/frames/train/ArgoVerse/side_right_a64c1df5-9ad2-3f9e-9117-83ef0f8f3072/ring_side_right_315972625035636848.jpg'\n",
      ">>>> #WARNING: No file found for: TAO newsstand...\n",
      "[Errno 2] No such file or directory: 'D:/external_datasets/TAO/TAO_DIR/frames/train/ArgoVerse/side_right_a64c1df5-9ad2-3f9e-9117-83ef0f8f3072/ring_side_right_315972628032635584.jpg'\n",
      ">>>> #WARNING: No file found for: TAO newsstand...\n",
      "[Errno 2] No such file or directory: 'D:/external_datasets/TAO/TAO_DIR/frames/train/ArgoVerse/side_right_a64c1df5-9ad2-3f9e-9117-83ef0f8f3072/ring_side_right_315972632028637208.jpg'\n",
      ">>>> #WARNING: No file found for: TAO newsstand...\n",
      "[Errno 2] No such file or directory: 'D:/external_datasets/TAO/TAO_DIR/frames/train/ArgoVerse/side_right_a64c1df5-9ad2-3f9e-9117-83ef0f8f3072/ring_side_right_315972633027638360.jpg'\n",
      ">>>> #WARNING: No file found for: TAO newsstand...\n",
      "[Errno 2] No such file or directory: 'D:/external_datasets/TAO/TAO_DIR/frames/train/ArgoVerse/side_right_a64c1df5-9ad2-3f9e-9117-83ef0f8f3072/ring_side_right_315972630030638656.jpg'\n"
     ]
    },
    {
     "name": "stderr",
     "output_type": "stream",
     "text": [
      ">>> Finding TAO newsstand...: 100%|████████████████████████████████████████████████| 14/14 [00:00<00:00, 1272.82it/s]\n",
      "\n",
      ">>> Finding TAO newsstand...: 100%|████████████████████████████████████████████████| 14/14 [00:00<00:00, 1076.84it/s]\u001b[A\n",
      " 62%|██████████████████████████████████████████████▍                            | 812/1310 [1:31:26<10:49,  1.31s/it]"
     ]
    },
    {
     "name": "stdout",
     "output_type": "stream",
     "text": [
      ">>>> #WARNING: No file found for: TAO newsstand...\n",
      "[Errno 2] No such file or directory: 'D:/external_datasets/TAO/TAO_DIR/frames/train/ArgoVerse/side_right_a64c1df5-9ad2-3f9e-9117-83ef0f8f3072/ring_side_right_315972629031636008.jpg'\n",
      ">>>> #WARNING: No file found for: TAO newsstand...\n",
      "\n",
      ">> nightshirt...\n",
      ">>>> #WARNING nightshirt is missing from json annotations\n",
      "annotations datasets:  []\n",
      "annotations imgids:  []\n",
      "annotations bbox:  []\n",
      "\n",
      ">> nosebag_(for_animals)...\n",
      ">>>> #WARNING nosebag_(for_animals) is missing from json annotations\n",
      "annotations datasets:  []\n",
      "annotations imgids:  []\n",
      "annotations bbox:  []\n",
      "\n",
      ">> noseband_(for_animals)...\n",
      ">>>> #WARNING noseband_(for_animals) is missing from json annotations\n",
      "annotations datasets:  []\n",
      "annotations imgids:  []\n",
      "annotations bbox:  []\n",
      "\n",
      ">> notebook...\n",
      "TAO\n"
     ]
    },
    {
     "name": "stderr",
     "output_type": "stream",
     "text": [
      " 62%|██████████████████████████████████████████████▋                            | 816/1310 [1:31:28<09:02,  1.10s/it]"
     ]
    },
    {
     "name": "stdout",
     "output_type": "stream",
     "text": [
      "\n",
      ">> notepad...\n",
      "TAO\n"
     ]
    },
    {
     "name": "stderr",
     "output_type": "stream",
     "text": [
      " 62%|██████████████████████████████████████████████▊                            | 817/1310 [1:31:30<10:43,  1.31s/it]\n",
      ">>> Finding TAO nut...: 100%|██████████████████████████████████████████████████████████████████| 3/3 [00:00<?, ?it/s]\u001b[A\n",
      "\n",
      ">>> Finding TAO nut...: 100%|██████████████████████████████████████████████████████████████████| 3/3 [00:00<?, ?it/s]\u001b[A\n",
      "\n",
      ">>> Finding TAO nut...: 100%|██████████████████████████████████████████████████████████████████| 3/3 [00:00<?, ?it/s]\u001b[A\n"
     ]
    },
    {
     "name": "stdout",
     "output_type": "stream",
     "text": [
      "\n",
      ">> nut...\n",
      "TAO\n",
      "[Errno 2] No such file or directory: 'D:/external_datasets/TAO/TAO_DIR/frames/val/HACS/Tumbling_v_OvrAlAqICIQ/frame2731.jpg'\n",
      ">>>> #WARNING: No file found for: TAO nut...\n",
      "[Errno 2] No such file or directory: 'D:/external_datasets/TAO/TAO_DIR/frames/val/HACS/Tumbling_v_OvrAlAqICIQ/frame2761.jpg'\n",
      ">>>> #WARNING: No file found for: TAO nut...\n",
      "[Errno 2] No such file or directory: 'D:/external_datasets/TAO/TAO_DIR/frames/val/HACS/Tumbling_v_OvrAlAqICIQ/frame2701.jpg'\n",
      ">>>> #WARNING: No file found for: TAO nut...\n",
      "\n",
      ">> nutcracker...\n",
      ">>>> #WARNING nutcracker is missing from json annotations\n",
      "annotations datasets:  []\n",
      "annotations imgids:  []\n",
      "annotations bbox:  []\n",
      "\n",
      ">> oar...\n",
      "TAO\n"
     ]
    },
    {
     "name": "stderr",
     "output_type": "stream",
     "text": [
      " 63%|██████████████████████████████████████████████▉                            | 820/1310 [1:31:32<08:47,  1.08s/it]"
     ]
    },
    {
     "name": "stdout",
     "output_type": "stream",
     "text": [
      "\n",
      ">> octopus_(food)...\n",
      ">>>> #WARNING octopus_(food) is missing from json annotations\n",
      "annotations datasets:  []\n",
      "annotations imgids:  []\n",
      "annotations bbox:  []\n",
      "\n",
      ">> octopus_(animal)...\n",
      ">>>> #WARNING octopus_(animal) is missing from json annotations\n",
      "annotations datasets:  []\n",
      "annotations imgids:  []\n",
      "annotations bbox:  []\n",
      "\n",
      ">> oil_lamp...\n",
      ">>>> #WARNING oil_lamp is missing from json annotations\n",
      "annotations datasets:  []\n",
      "annotations imgids:  []\n",
      "annotations bbox:  []\n",
      "\n",
      ">> olive_oil...\n",
      ">>>> #WARNING olive_oil is missing from json annotations\n",
      "annotations datasets:  []\n",
      "annotations imgids:  []\n",
      "annotations bbox:  []\n",
      "\n",
      ">> omelet...\n",
      ">>>> #WARNING omelet is missing from json annotations\n",
      "annotations datasets:  []\n",
      "annotations imgids:  []\n",
      "annotations bbox:  []\n",
      "\n",
      ">> onion...\n",
      ">>>> #WARNING onion is missing from json annotations\n",
      "annotations datasets:  []\n",
      "annotations imgids:  []\n",
      "annotations bbox:  []\n",
      "\n",
      ">> orange_(fruit)...\n",
      "TAO\n"
     ]
    },
    {
     "name": "stderr",
     "output_type": "stream",
     "text": [
      " 63%|███████████████████████████████████████████████▎                           | 827/1310 [1:31:33<06:39,  1.21it/s]"
     ]
    },
    {
     "name": "stdout",
     "output_type": "stream",
     "text": [
      "\n",
      ">> orange_juice...\n",
      ">>>> #WARNING orange_juice is missing from json annotations\n",
      "annotations datasets:  []\n",
      "annotations imgids:  []\n",
      "annotations bbox:  []\n",
      "\n",
      ">> oregano...\n",
      ">>>> #WARNING oregano is missing from json annotations\n",
      "annotations datasets:  []\n",
      "annotations imgids:  []\n",
      "annotations bbox:  []\n",
      "\n",
      ">> ostrich...\n",
      ">>>> #WARNING ostrich is missing from json annotations\n",
      "annotations datasets:  []\n",
      "annotations imgids:  []\n",
      "annotations bbox:  []\n",
      "\n",
      ">> ottoman...\n",
      ">>>> #WARNING ottoman is missing from json annotations\n",
      "annotations datasets:  []\n",
      "annotations imgids:  []\n",
      "annotations bbox:  []\n",
      "\n",
      ">> overalls_(clothing)...\n",
      ">>>> #WARNING overalls_(clothing) is missing from json annotations\n",
      "annotations datasets:  []\n",
      "annotations imgids:  []\n",
      "annotations bbox:  []\n",
      "\n",
      ">> owl...\n",
      ">>>> #WARNING owl is missing from json annotations\n",
      "annotations datasets:  []\n",
      "annotations imgids:  []\n",
      "annotations bbox:  []\n",
      "\n",
      ">> packet...\n",
      "TAO\n"
     ]
    },
    {
     "name": "stderr",
     "output_type": "stream",
     "text": [
      "\n",
      ">>> Finding TAO packet...:   0%|                                                     | 1/442 [00:00<00:29, 14.93it/s]\u001b[A\n",
      " 64%|███████████████████████████████████████████████▋                           | 834/1310 [1:31:35<05:10,  1.53it/s]"
     ]
    },
    {
     "name": "stdout",
     "output_type": "stream",
     "text": [
      "[Errno 2] No such file or directory: 'D:/external_datasets/TAO/TAO_DIR/frames/val/Charades/DOQ9Y/frame1201.jpg'\n",
      "\n",
      ">> inkpad...\n",
      ">>>> #WARNING inkpad is missing from json annotations\n",
      "annotations datasets:  []\n",
      "annotations imgids:  []\n",
      "annotations bbox:  []\n",
      "\n",
      ">> pad...\n",
      ">>>> #WARNING pad is missing from json annotations\n",
      "annotations datasets:  []\n",
      "annotations imgids:  []\n",
      "annotations bbox:  []\n",
      "\n",
      ">> paddle...\n",
      "TAO\n"
     ]
    },
    {
     "name": "stderr",
     "output_type": "stream",
     "text": [
      "\n",
      ">>> Finding TAO paddle...:   0%|                                                             | 0/262 [00:00<?, ?it/s]\u001b[A"
     ]
    },
    {
     "name": "stdout",
     "output_type": "stream",
     "text": [
      "[Errno 2] No such file or directory: 'D:/external_datasets/TAO/TAO_DIR/frames/train/HACS/River_tubing_v_cB83GjrvoeE_scene_0_0-6170/frame1141.jpg'\n"
     ]
    },
    {
     "name": "stderr",
     "output_type": "stream",
     "text": [
      "\n",
      "\n",
      ">>> Finding TAO paddle...:   0%|▏                                                   | 1/262 [00:00<00:02, 111.05it/s]\u001b[A\n",
      " 64%|███████████████████████████████████████████████▉                           | 837/1310 [1:31:37<04:48,  1.64it/s]"
     ]
    },
    {
     "name": "stdout",
     "output_type": "stream",
     "text": [
      "[Errno 2] No such file or directory: 'D:/external_datasets/TAO/TAO_DIR/frames/train/YFCC100M/v_a556a65c3a85d0de0717b8cef2f219c/frame0991.jpg'\n",
      "\n",
      ">> padlock...\n",
      ">>>> #WARNING padlock is missing from json annotations\n",
      "annotations datasets:  []\n",
      "annotations imgids:  []\n",
      "annotations bbox:  []\n",
      "\n",
      ">> paintbox...\n",
      ">>>> #WARNING paintbox is missing from json annotations\n",
      "annotations datasets:  []\n",
      "annotations imgids:  []\n",
      "annotations bbox:  []\n",
      "\n",
      ">> paintbrush...\n",
      "TAO\n"
     ]
    },
    {
     "name": "stderr",
     "output_type": "stream",
     "text": [
      " 64%|████████████████████████████████████████████████                           | 840/1310 [1:31:38<04:32,  1.73it/s]"
     ]
    },
    {
     "name": "stdout",
     "output_type": "stream",
     "text": [
      "\n",
      ">> painting...\n",
      ">>>> #WARNING painting is missing from json annotations\n",
      "annotations datasets:  []\n",
      "annotations imgids:  []\n",
      "annotations bbox:  []\n",
      "\n",
      ">> pajamas...\n",
      ">>>> #WARNING pajamas is missing from json annotations\n",
      "annotations datasets:  []\n",
      "annotations imgids:  []\n",
      "annotations bbox:  []\n",
      "\n",
      ">> palette...\n",
      ">>>> #WARNING palette is missing from json annotations\n",
      "annotations datasets:  []\n",
      "annotations imgids:  []\n",
      "annotations bbox:  []\n",
      "\n",
      ">> pan_(for_cooking)...\n",
      "TAO\n"
     ]
    },
    {
     "name": "stderr",
     "output_type": "stream",
     "text": [
      " 64%|████████████████████████████████████████████████▎                          | 844/1310 [1:31:40<04:03,  1.91it/s]\n",
      ">>> Finding TAO paper_towel...:   0%|                                                         | 0/39 [00:00<?, ?it/s]\u001b[A\n"
     ]
    },
    {
     "name": "stdout",
     "output_type": "stream",
     "text": [
      "\n",
      ">> pan_(metal_container)...\n",
      ">>>> #WARNING pan_(metal_container) is missing from json annotations\n",
      "annotations datasets:  []\n",
      "annotations imgids:  []\n",
      "annotations bbox:  []\n",
      "\n",
      ">> pancake...\n",
      ">>>> #WARNING pancake is missing from json annotations\n",
      "annotations datasets:  []\n",
      "annotations imgids:  []\n",
      "annotations bbox:  []\n",
      "\n",
      ">> pantyhose...\n",
      ">>>> #WARNING pantyhose is missing from json annotations\n",
      "annotations datasets:  []\n",
      "annotations imgids:  []\n",
      "annotations bbox:  []\n",
      "\n",
      ">> papaya...\n",
      ">>>> #WARNING papaya is missing from json annotations\n",
      "annotations datasets:  []\n",
      "annotations imgids:  []\n",
      "annotations bbox:  []\n",
      "\n",
      ">> paperclip...\n",
      ">>>> #WARNING paperclip is missing from json annotations\n",
      "annotations datasets:  []\n",
      "annotations imgids:  []\n",
      "annotations bbox:  []\n",
      "\n",
      ">> paper_plate...\n",
      ">>>> #WARNING paper_plate is missing from json annotations\n",
      "annotations datasets:  []\n",
      "annotations imgids:  []\n",
      "annotations bbox:  []\n",
      "\n",
      ">> paper_towel...\n",
      "TAO\n",
      "[Errno 2] No such file or directory: 'D:/external_datasets/TAO/TAO_DIR/frames/val/HACS/Tumbling_v_OvrAlAqICIQ/frame3301.jpg'\n"
     ]
    },
    {
     "name": "stderr",
     "output_type": "stream",
     "text": [
      "\n",
      ">>> Finding TAO paper_towel...:   3%|█▎                                               | 1/39 [00:00<00:02, 17.24it/s]\u001b[A\n",
      "\n",
      ">>> Finding TAO paper_towel...:   0%|                                                         | 0/39 [00:00<?, ?it/s]\u001b[A"
     ]
    },
    {
     "name": "stdout",
     "output_type": "stream",
     "text": [
      "[Errno 2] No such file or directory: 'D:/external_datasets/TAO/TAO_DIR/frames/val/HACS/Tumbling_v_OvrAlAqICIQ/frame3331.jpg'\n",
      "[Errno 2] No such file or directory: 'D:/external_datasets/TAO/TAO_DIR/frames/val/HACS/Tumbling_v_OvrAlAqICIQ/frame2911.jpg'\n"
     ]
    },
    {
     "name": "stderr",
     "output_type": "stream",
     "text": [
      ">>> Finding TAO paper_towel...:   5%|██▌                                              | 2/39 [00:00<00:00, 40.00it/s]\n",
      "\n",
      ">>> Finding TAO paper_towel...:  10%|█████                                            | 4/39 [00:00<00:00, 89.00it/s]\u001b[A\n",
      " 65%|████████████████████████████████████████████████▋                          | 851/1310 [1:31:41<03:17,  2.32it/s]"
     ]
    },
    {
     "name": "stdout",
     "output_type": "stream",
     "text": [
      "[Errno 2] No such file or directory: 'D:/external_datasets/TAO/TAO_DIR/frames/val/HACS/Tumbling_v_OvrAlAqICIQ/frame3841.jpg'\n",
      "\n",
      ">> paperback_book...\n",
      ">>>> #WARNING paperback_book is missing from json annotations\n",
      "annotations datasets:  []\n",
      "annotations imgids:  []\n",
      "annotations bbox:  []\n",
      "\n",
      ">> paperweight...\n",
      ">>>> #WARNING paperweight is missing from json annotations\n",
      "annotations datasets:  []\n",
      "annotations imgids:  []\n",
      "annotations bbox:  []\n",
      "\n",
      ">> parachute...\n",
      "TAO\n"
     ]
    },
    {
     "name": "stderr",
     "output_type": "stream",
     "text": [
      "\n",
      ">>> Finding TAO parachute...:   1%|▍                                                 | 1/110 [00:00<00:05, 18.87it/s]\u001b[A\n",
      "\n",
      ">>> Finding TAO parachute...:   2%|▉                                                 | 2/110 [00:00<00:03, 35.72it/s]\u001b[A"
     ]
    },
    {
     "name": "stdout",
     "output_type": "stream",
     "text": [
      "[Errno 2] No such file or directory: 'D:/external_datasets/TAO/TAO_DIR/frames/val/YFCC100M/v_b74458f740348cd7c26b4c4339e0c5d6/frame1021.jpg'\n",
      "[Errno 2] No such file or directory: 'D:/external_datasets/TAO/TAO_DIR/frames/val/YFCC100M/v_b74458f740348cd7c26b4c4339e0c5d6/frame1081.jpg'\n"
     ]
    },
    {
     "name": "stderr",
     "output_type": "stream",
     "text": [
      "\n",
      "\n",
      ">>> Finding TAO parachute...:   3%|█▎                                                | 3/110 [00:00<00:01, 57.66it/s]\u001b[A\n",
      " 65%|████████████████████████████████████████████████▉                          | 854/1310 [1:31:43<03:18,  2.29it/s]"
     ]
    },
    {
     "name": "stdout",
     "output_type": "stream",
     "text": [
      "[Errno 2] No such file or directory: 'D:/external_datasets/TAO/TAO_DIR/frames/val/YFCC100M/v_b74458f740348cd7c26b4c4339e0c5d6/frame1321.jpg'\n",
      "\n",
      ">> parakeet...\n",
      ">>>> #WARNING parakeet is missing from json annotations\n",
      "annotations datasets:  []\n",
      "annotations imgids:  []\n",
      "annotations bbox:  []\n",
      "\n",
      ">> parasail_(sports)...\n",
      ">>>> #WARNING parasail_(sports) is missing from json annotations\n",
      "annotations datasets:  []\n",
      "annotations imgids:  []\n",
      "annotations bbox:  []\n",
      "\n",
      ">> parchment...\n",
      ">>>> #WARNING parchment is missing from json annotations\n",
      "annotations datasets:  []\n",
      "annotations imgids:  []\n",
      "annotations bbox:  []\n",
      "\n",
      ">> parka...\n",
      ">>>> #WARNING parka is missing from json annotations\n",
      "annotations datasets:  []\n",
      "annotations imgids:  []\n",
      "annotations bbox:  []\n",
      "\n",
      ">> parking_meter...\n",
      ">>>> #WARNING parking_meter is missing from json annotations\n",
      "annotations datasets:  []\n",
      "annotations imgids:  []\n",
      "annotations bbox:  []\n",
      "\n",
      ">> parrot...\n",
      "TAO\n"
     ]
    },
    {
     "name": "stderr",
     "output_type": "stream",
     "text": [
      " 66%|█████████████████████████████████████████████████▏                         | 860/1310 [1:31:44<02:51,  2.62it/s]\n",
      ">>> Finding TAO peeler_(tool_for_fruit_and_vegetables)...:   0%|                              | 0/40 [00:00<?, ?it/s]\u001b[A\n"
     ]
    },
    {
     "name": "stdout",
     "output_type": "stream",
     "text": [
      "\n",
      ">> passenger_car_(part_of_a_train)...\n",
      ">>>> #WARNING passenger_car_(part_of_a_train) is missing from json annotations\n",
      "annotations datasets:  []\n",
      "annotations imgids:  []\n",
      "annotations bbox:  []\n",
      "\n",
      ">> passenger_ship...\n",
      ">>>> #WARNING passenger_ship is missing from json annotations\n",
      "annotations datasets:  []\n",
      "annotations imgids:  []\n",
      "annotations bbox:  []\n",
      "\n",
      ">> passport...\n",
      ">>>> #WARNING passport is missing from json annotations\n",
      "annotations datasets:  []\n",
      "annotations imgids:  []\n",
      "annotations bbox:  []\n",
      "\n",
      ">> pastry...\n",
      ">>>> #WARNING pastry is missing from json annotations\n",
      "annotations datasets:  []\n",
      "annotations imgids:  []\n",
      "annotations bbox:  []\n",
      "\n",
      ">> patty_(food)...\n",
      ">>>> #WARNING patty_(food) is missing from json annotations\n",
      "annotations datasets:  []\n",
      "annotations imgids:  []\n",
      "annotations bbox:  []\n",
      "\n",
      ">> pea_(food)...\n",
      ">>>> #WARNING pea_(food) is missing from json annotations\n",
      "annotations datasets:  []\n",
      "annotations imgids:  []\n",
      "annotations bbox:  []\n",
      "\n",
      ">> peach...\n",
      ">>>> #WARNING peach is missing from json annotations\n",
      "annotations datasets:  []\n",
      "annotations imgids:  []\n",
      "annotations bbox:  []\n",
      "\n",
      ">> peanut_butter...\n",
      ">>>> #WARNING peanut_butter is missing from json annotations\n",
      "annotations datasets:  []\n",
      "annotations imgids:  []\n",
      "annotations bbox:  []\n",
      "\n",
      ">> pear...\n",
      ">>>> #WARNING pear is missing from json annotations\n",
      "annotations datasets:  []\n",
      "annotations imgids:  []\n",
      "annotations bbox:  []\n",
      "\n",
      ">> peeler_(tool_for_fruit_and_vegetables)...\n",
      "TAO\n",
      "[Errno 2] No such file or directory: 'D:/external_datasets/TAO/TAO_DIR/frames/val/HACS/Making_a_sandwich_v_SMk4troNhwE_scene_0_0-2482/frame0987.jpg'\n"
     ]
    },
    {
     "name": "stderr",
     "output_type": "stream",
     "text": [
      "\n",
      ">>> Finding TAO peeler_(tool_for_fruit_and_vegetables)...:   2%|▌                     | 1/40 [00:00<00:02, 13.52it/s]\u001b[A"
     ]
    },
    {
     "name": "stdout",
     "output_type": "stream",
     "text": [
      "[Errno 2] No such file or directory: 'D:/external_datasets/TAO/TAO_DIR/frames/val/HACS/Making_a_sandwich_v_SMk4troNhwE_scene_0_0-2482/frame1132.jpg'\n",
      "[Errno 2] No such file or directory: 'D:/external_datasets/TAO/TAO_DIR/frames/val/HACS/Making_a_sandwich_v_SMk4troNhwE_scene_0_0-2482/frame1016.jpg'\n"
     ]
    },
    {
     "name": "stderr",
     "output_type": "stream",
     "text": [
      "\n",
      "\n",
      ">>> Finding TAO peeler_(tool_for_fruit_and_vegetables)...:   5%|█                     | 2/40 [00:00<00:00, 39.22it/s]\u001b[A\n",
      "\n",
      ">>> Finding TAO peeler_(tool_for_fruit_and_vegetables)...:  10%|██▏                   | 4/40 [00:00<00:00, 66.67it/s]\u001b[A"
     ]
    },
    {
     "name": "stdout",
     "output_type": "stream",
     "text": [
      "[Errno 2] No such file or directory: 'D:/external_datasets/TAO/TAO_DIR/frames/val/HACS/Making_a_sandwich_v_SMk4troNhwE_scene_0_0-2482/frame1045.jpg'\n"
     ]
    },
    {
     "name": "stderr",
     "output_type": "stream",
     "text": [
      "\n",
      " 66%|█████████████████████████████████████████████████▊                         | 870/1310 [1:31:46<02:22,  3.09it/s]"
     ]
    },
    {
     "name": "stdout",
     "output_type": "stream",
     "text": [
      "\n",
      ">> pegboard...\n",
      ">>>> #WARNING pegboard is missing from json annotations\n",
      "annotations datasets:  []\n",
      "annotations imgids:  []\n",
      "annotations bbox:  []\n",
      "\n",
      ">> pelican...\n",
      "TAO\n"
     ]
    },
    {
     "name": "stderr",
     "output_type": "stream",
     "text": [
      " 67%|█████████████████████████████████████████████████▉                         | 872/1310 [1:31:49<04:34,  1.59it/s]"
     ]
    },
    {
     "name": "stdout",
     "output_type": "stream",
     "text": [
      "\n",
      ">> pen...\n",
      "TAO\n"
     ]
    },
    {
     "name": "stderr",
     "output_type": "stream",
     "text": [
      "\n",
      ">>> Finding TAO pen...:   0%|                                                                | 0/401 [00:00<?, ?it/s]\u001b[A\n",
      "\n",
      ">>> Finding TAO pen...:   0%|                                                                | 0/401 [00:00<?, ?it/s]\u001b[A"
     ]
    },
    {
     "name": "stdout",
     "output_type": "stream",
     "text": [
      "[Errno 2] No such file or directory: 'D:/external_datasets/TAO/TAO_DIR/frames/train/HACS/Getting_a_tattoo_v_G5hzcxkcAvM/frame3331.jpg'\n",
      "[Errno 2] No such file or directory: 'D:/external_datasets/TAO/TAO_DIR/frames/train/HACS/Getting_a_tattoo_v_G5hzcxkcAvM/frame3121.jpg'\n"
     ]
    },
    {
     "name": "stderr",
     "output_type": "stream",
     "text": [
      ">>> Finding TAO pen...:   0%|▏                                                       | 1/401 [00:00<00:10, 39.99it/s]\n",
      " 67%|█████████████████████████████████████████████████▉                         | 873/1310 [1:31:50<07:06,  1.02it/s]\n",
      ">>> Finding TAO pencil...:   0%|                                                              | 0/43 [00:00<?, ?it/s]\u001b[A\n",
      ">>> Finding TAO pencil...: 100%|████████████████████████████████████████████████████| 43/43 [00:00<00:00, 265.44it/s]\u001b[A"
     ]
    },
    {
     "name": "stdout",
     "output_type": "stream",
     "text": [
      "\n",
      ">> pencil...\n",
      "TAO\n",
      "[Errno 2] No such file or directory: 'D:/external_datasets/TAO/TAO_DIR/frames/val/YFCC100M/v_2f3e9923a9c9ff4b95986ca8d2a51f/frame0961.jpeg'\n"
     ]
    },
    {
     "name": "stderr",
     "output_type": "stream",
     "text": [
      "\n",
      "\n",
      ">>> Finding TAO pencil...: 100%|████████████████████████████████████████████████████| 43/43 [00:00<00:00, 434.37it/s]\u001b[A\n",
      "\n",
      ">>> Finding TAO pencil...:   0%|                                                              | 0/43 [00:00<?, ?it/s]\u001b[A"
     ]
    },
    {
     "name": "stdout",
     "output_type": "stream",
     "text": [
      ">>>> #WARNING: No file found for: TAO pencil...\n",
      "[Errno 2] No such file or directory: 'D:/external_datasets/TAO/TAO_DIR/frames/val/YFCC100M/v_e3919198858e7ac1a61aae1e486c7664/frame0781.jpeg'\n",
      ">>>> #WARNING: No file found for: TAO pencil...\n",
      "[Errno 2] No such file or directory: 'D:/external_datasets/TAO/TAO_DIR/frames/val/YFCC100M/v_2f3e9923a9c9ff4b95986ca8d2a51f/frame0841.jpeg'\n"
     ]
    },
    {
     "name": "stderr",
     "output_type": "stream",
     "text": [
      "\n",
      ">>> Finding TAO pencil...: 100%|████████████████████████████████████████████████████| 43/43 [00:00<00:00, 377.20it/s]\u001b[A\n",
      "\n",
      ">>> Finding TAO pencil...:   0%|                                                              | 0/43 [00:00<?, ?it/s]\u001b[A\n",
      ">>> Finding TAO pencil...: 100%|████████████████████████████████████████████████████| 43/43 [00:00<00:00, 383.93it/s]\u001b[A\n",
      "\n",
      ">>> Finding TAO pencil...:   0%|                                                              | 0/43 [00:00<?, ?it/s]\u001b[A"
     ]
    },
    {
     "name": "stdout",
     "output_type": "stream",
     "text": [
      ">>>> #WARNING: No file found for: TAO pencil...\n",
      "[Errno 2] No such file or directory: 'D:/external_datasets/TAO/TAO_DIR/frames/val/YFCC100M/v_2f3e9923a9c9ff4b95986ca8d2a51f/frame0793.jpeg'\n",
      ">>>> #WARNING: No file found for: TAO pencil...\n",
      "[Errno 2] No such file or directory: 'D:/external_datasets/TAO/TAO_DIR/frames/val/YFCC100M/v_2f3e9923a9c9ff4b95986ca8d2a51f/frame0697.jpeg'\n"
     ]
    },
    {
     "name": "stderr",
     "output_type": "stream",
     "text": [
      "\n",
      ">>> Finding TAO pencil...: 100%|████████████████████████████████████████████████████| 43/43 [00:00<00:00, 398.16it/s]\u001b[A\n",
      "\n",
      ">>> Finding TAO pencil...:   0%|                                                              | 0/43 [00:00<?, ?it/s]\u001b[A\n",
      ">>> Finding TAO pencil...: 100%|████████████████████████████████████████████████████| 43/43 [00:00<00:00, 380.40it/s]\u001b[A\n",
      "\n",
      ">>> Finding TAO pencil...:   0%|                                                              | 0/43 [00:00<?, ?it/s]\u001b[A"
     ]
    },
    {
     "name": "stdout",
     "output_type": "stream",
     "text": [
      ">>>> #WARNING: No file found for: TAO pencil...\n",
      "[Errno 2] No such file or directory: 'D:/external_datasets/TAO/TAO_DIR/frames/val/YFCC100M/v_2f3e9923a9c9ff4b95986ca8d2a51f/frame0625.jpeg'\n",
      ">>>> #WARNING: No file found for: TAO pencil...\n",
      "[Errno 2] No such file or directory: 'D:/external_datasets/TAO/TAO_DIR/frames/val/YFCC100M/v_e3919198858e7ac1a61aae1e486c7664/frame1831.jpeg'\n"
     ]
    },
    {
     "name": "stderr",
     "output_type": "stream",
     "text": [
      "\n",
      ">>> Finding TAO pencil...: 100%|████████████████████████████████████████████████████| 43/43 [00:00<00:00, 320.91it/s]\u001b[A\n",
      "\n",
      ">>> Finding TAO pencil...:   0%|                                                              | 0/43 [00:00<?, ?it/s]\u001b[A\n",
      ">>> Finding TAO pencil...: 100%|████████████████████████████████████████████████████| 43/43 [00:00<00:00, 344.02it/s]\u001b[A\n",
      "\n",
      ">>> Finding TAO pencil...:   0%|                                                              | 0/43 [00:00<?, ?it/s]\u001b[A"
     ]
    },
    {
     "name": "stdout",
     "output_type": "stream",
     "text": [
      ">>>> #WARNING: No file found for: TAO pencil...\n",
      "[Errno 2] No such file or directory: 'D:/external_datasets/TAO/TAO_DIR/frames/val/YFCC100M/v_2f3e9923a9c9ff4b95986ca8d2a51f/frame0889.jpeg'\n",
      ">>>> #WARNING: No file found for: TAO pencil...\n",
      "[Errno 2] No such file or directory: 'D:/external_datasets/TAO/TAO_DIR/frames/val/YFCC100M/v_2f3e9923a9c9ff4b95986ca8d2a51f/frame1321.jpeg'\n"
     ]
    },
    {
     "name": "stderr",
     "output_type": "stream",
     "text": [
      "\n",
      ">>> Finding TAO pencil...: 100%|████████████████████████████████████████████████████| 43/43 [00:00<00:00, 380.54it/s]\u001b[A\n",
      "\n",
      ">>> Finding TAO pencil...:   0%|                                                              | 0/43 [00:00<?, ?it/s]\u001b[A\n",
      ">>> Finding TAO pencil...: 100%|████████████████████████████████████████████████████| 43/43 [00:00<00:00, 394.43it/s]\u001b[A\n",
      " 67%|██████████████████████████████████████████████████                         | 874/1310 [1:31:52<07:49,  1.08s/it]"
     ]
    },
    {
     "name": "stdout",
     "output_type": "stream",
     "text": [
      ">>>> #WARNING: No file found for: TAO pencil...\n",
      "[Errno 2] No such file or directory: 'D:/external_datasets/TAO/TAO_DIR/frames/val/YFCC100M/v_2f3e9923a9c9ff4b95986ca8d2a51f/frame1393.jpeg'\n",
      ">>>> #WARNING: No file found for: TAO pencil...\n",
      "\n",
      ">> pencil_box...\n",
      ">>>> #WARNING pencil_box is missing from json annotations\n",
      "annotations datasets:  []\n",
      "annotations imgids:  []\n",
      "annotations bbox:  []\n",
      "\n",
      ">> pencil_sharpener...\n",
      ">>>> #WARNING pencil_sharpener is missing from json annotations\n",
      "annotations datasets:  []\n",
      "annotations imgids:  []\n",
      "annotations bbox:  []\n",
      "\n",
      ">> pendulum...\n",
      ">>>> #WARNING pendulum is missing from json annotations\n",
      "annotations datasets:  []\n",
      "annotations imgids:  []\n",
      "annotations bbox:  []\n",
      "\n",
      ">> penguin...\n",
      "TAO\n"
     ]
    },
    {
     "name": "stderr",
     "output_type": "stream",
     "text": [
      " 67%|██████████████████████████████████████████████████▎                        | 878/1310 [1:31:53<06:17,  1.14it/s]\n",
      ">>> Finding TAO persimmon...: 100%|████████████████████████████████████████████████████████████| 6/6 [00:00<?, ?it/s]\u001b[A\n",
      "\n",
      ">>> Finding TAO persimmon...: 100%|████████████████████████████████████████████████████████████| 6/6 [00:00<?, ?it/s]\u001b[A\n",
      "\n",
      ">>> Finding TAO persimmon...: 100%|████████████████████████████████████████████████████████████| 6/6 [00:00<?, ?it/s]\u001b[A\n",
      "\n",
      ">>> Finding TAO persimmon...: 100%|██████████████████████████████████████████████████| 6/6 [00:00<00:00, 5983.32it/s]\u001b[A\n",
      "\n",
      ">>> Finding TAO persimmon...: 100%|██████████████████████████████████████████████████| 6/6 [00:00<00:00, 5993.29it/s]\u001b[A\n",
      "\n",
      ">>> Finding TAO persimmon...: 100%|████████████████████████████████████████████████████████████| 6/6 [00:00<?, ?it/s]\u001b[A\n",
      "\n",
      ">>> Finding TAO baby...:   0%|                                                             | 0/86681 [00:00<?, ?it/s]\u001b[A\n"
     ]
    },
    {
     "name": "stdout",
     "output_type": "stream",
     "text": [
      "\n",
      ">> pennant...\n",
      ">>>> #WARNING pennant is missing from json annotations\n",
      "annotations datasets:  []\n",
      "annotations imgids:  []\n",
      "annotations bbox:  []\n",
      "\n",
      ">> penny_(coin)...\n",
      ">>>> #WARNING penny_(coin) is missing from json annotations\n",
      "annotations datasets:  []\n",
      "annotations imgids:  []\n",
      "annotations bbox:  []\n",
      "\n",
      ">> pepper...\n",
      ">>>> #WARNING pepper is missing from json annotations\n",
      "annotations datasets:  []\n",
      "annotations imgids:  []\n",
      "annotations bbox:  []\n",
      "\n",
      ">> pepper_mill...\n",
      ">>>> #WARNING pepper_mill is missing from json annotations\n",
      "annotations datasets:  []\n",
      "annotations imgids:  []\n",
      "annotations bbox:  []\n",
      "\n",
      ">> perfume...\n",
      ">>>> #WARNING perfume is missing from json annotations\n",
      "annotations datasets:  []\n",
      "annotations imgids:  []\n",
      "annotations bbox:  []\n",
      "\n",
      ">> persimmon...\n",
      "TAO\n",
      "[Errno 2] No such file or directory: 'D:/external_datasets/TAO/TAO_DIR/frames/train/ArgoVerse/26d141ec-f952-3908-b4cc-ae359377424e/ring_front_center_315970954111500256.jpg'\n",
      ">>>> #WARNING: No file found for: TAO persimmon...\n",
      "[Errno 2] No such file or directory: 'D:/external_datasets/TAO/TAO_DIR/frames/train/ArgoVerse/26d141ec-f952-3908-b4cc-ae359377424e/ring_front_center_315970949116503560.jpg'\n",
      ">>>> #WARNING: No file found for: TAO persimmon...\n",
      "[Errno 2] No such file or directory: 'D:/external_datasets/TAO/TAO_DIR/frames/train/ArgoVerse/26d141ec-f952-3908-b4cc-ae359377424e/ring_front_center_315970951114503224.jpg'\n",
      ">>>> #WARNING: No file found for: TAO persimmon...\n",
      "[Errno 2] No such file or directory: 'D:/external_datasets/TAO/TAO_DIR/frames/train/ArgoVerse/26d141ec-f952-3908-b4cc-ae359377424e/ring_front_center_315970953112504016.jpg'\n",
      ">>>> #WARNING: No file found for: TAO persimmon...\n",
      "[Errno 2] No such file or directory: 'D:/external_datasets/TAO/TAO_DIR/frames/train/ArgoVerse/26d141ec-f952-3908-b4cc-ae359377424e/ring_front_center_315970952113504496.jpg'\n",
      ">>>> #WARNING: No file found for: TAO persimmon...\n",
      "[Errno 2] No such file or directory: 'D:/external_datasets/TAO/TAO_DIR/frames/train/ArgoVerse/26d141ec-f952-3908-b4cc-ae359377424e/ring_front_center_315970950115503624.jpg'\n",
      ">>>> #WARNING: No file found for: TAO persimmon...\n",
      "\n",
      ">> baby...\n",
      "TAO\n",
      "[Errno 2] No such file or directory: 'D:/external_datasets/TAO/TAO_DIR/frames/val/YFCC100M/v_4fb3b319e69a2b8dfcba866047b148b3/frame0841.jpeg'\n"
     ]
    },
    {
     "name": "stderr",
     "output_type": "stream",
     "text": [
      "\n",
      ">>> Finding TAO baby...:   0%|                                                    | 1/86681 [00:00<11:31, 125.37it/s]\u001b[A"
     ]
    },
    {
     "name": "stdout",
     "output_type": "stream",
     "text": [
      "[Errno 2] No such file or directory: 'D:/external_datasets/TAO/TAO_DIR/frames/val/HACS/Discus_throw_v_uf1qMhzjHAc/frame3151.jpg'\n"
     ]
    },
    {
     "name": "stderr",
     "output_type": "stream",
     "text": [
      "\n",
      "\n",
      ">>> Finding TAO baby...:   0%|                                                    | 2/86681 [00:00<06:28, 223.02it/s]\u001b[A"
     ]
    },
    {
     "name": "stdout",
     "output_type": "stream",
     "text": [
      "[Errno 2] No such file or directory: 'D:/external_datasets/TAO/TAO_DIR/frames/val/AVA/G0gDuIVKiXg_scene_17_48285-50094/frame1345.jpg'\n"
     ]
    },
    {
     "name": "stderr",
     "output_type": "stream",
     "text": [
      "\n",
      " 68%|██████████████████████████████████████████████████▋                        | 885/1310 [1:31:55<04:49,  1.47it/s]"
     ]
    },
    {
     "name": "stdout",
     "output_type": "stream",
     "text": [
      "\n",
      ">> pet...\n",
      ">>>> #WARNING pet is missing from json annotations\n",
      "annotations datasets:  []\n",
      "annotations imgids:  []\n",
      "annotations bbox:  []\n",
      "\n",
      ">> petfood...\n",
      "TAO\n"
     ]
    },
    {
     "name": "stderr",
     "output_type": "stream",
     "text": [
      " 68%|██████████████████████████████████████████████████▊                        | 887/1310 [1:31:55<03:42,  1.90it/s]"
     ]
    },
    {
     "name": "stdout",
     "output_type": "stream",
     "text": [
      "\n",
      ">> pew_(church_bench)...\n",
      ">>>> #WARNING pew_(church_bench) is missing from json annotations\n",
      "annotations datasets:  []\n",
      "annotations imgids:  []\n",
      "annotations bbox:  []\n",
      "\n",
      ">> phonebook...\n",
      ">>>> #WARNING phonebook is missing from json annotations\n",
      "annotations datasets:  []\n",
      "annotations imgids:  []\n",
      "annotations bbox:  []\n",
      "\n",
      ">> phonograph_record...\n",
      ">>>> #WARNING phonograph_record is missing from json annotations\n",
      "annotations datasets:  []\n",
      "annotations imgids:  []\n",
      "annotations bbox:  []\n",
      "\n",
      ">> piano...\n",
      "TAO\n"
     ]
    },
    {
     "name": "stderr",
     "output_type": "stream",
     "text": [
      "\n",
      ">>> Finding TAO piano...:   0%|                                                              | 0/116 [00:00<?, ?it/s]\u001b[A"
     ]
    },
    {
     "name": "stdout",
     "output_type": "stream",
     "text": [
      "[Errno 2] No such file or directory: 'D:/external_datasets/TAO/TAO_DIR/frames/val/YFCC100M/v_347a2e9955985b52cb8b4c63f5765280/frame1531.jpeg'\n"
     ]
    },
    {
     "name": "stderr",
     "output_type": "stream",
     "text": [
      "\n",
      "\n",
      ">>> Finding TAO piano...:   1%|▍                                                     | 1/116 [00:00<00:06, 17.53it/s]\u001b[A"
     ]
    },
    {
     "name": "stdout",
     "output_type": "stream",
     "text": [
      "[Errno 2] No such file or directory: 'D:/external_datasets/TAO/TAO_DIR/frames/val/YFCC100M/v_347a2e9955985b52cb8b4c63f5765280/frame0931.jpeg'\n"
     ]
    },
    {
     "name": "stderr",
     "output_type": "stream",
     "text": [
      "\n",
      "\n",
      ">>> Finding TAO piano...:   2%|▉                                                     | 2/116 [00:00<00:02, 41.67it/s]\u001b[A"
     ]
    },
    {
     "name": "stdout",
     "output_type": "stream",
     "text": [
      "[Errno 2] No such file or directory: 'D:/external_datasets/TAO/TAO_DIR/frames/val/YFCC100M/v_347a2e9955985b52cb8b4c63f5765280/frame1591.jpeg'\n"
     ]
    },
    {
     "name": "stderr",
     "output_type": "stream",
     "text": [
      "\n",
      "\n",
      ">>> Finding TAO piano...:   3%|█▍                                                    | 3/116 [00:00<00:01, 56.61it/s]\u001b[A\n",
      " 68%|███████████████████████████████████████████████████                        | 891/1310 [1:31:57<03:30,  1.99it/s]"
     ]
    },
    {
     "name": "stdout",
     "output_type": "stream",
     "text": [
      "[Errno 2] No such file or directory: 'D:/external_datasets/TAO/TAO_DIR/frames/val/YFCC100M/v_347a2e9955985b52cb8b4c63f5765280/frame1201.jpeg'\n",
      "\n",
      ">> pickle...\n",
      "TAO\n"
     ]
    },
    {
     "name": "stderr",
     "output_type": "stream",
     "text": [
      " 68%|███████████████████████████████████████████████████                        | 892/1310 [1:31:58<03:54,  1.79it/s]"
     ]
    },
    {
     "name": "stdout",
     "output_type": "stream",
     "text": [
      "\n",
      ">> pickup_truck...\n",
      "TAO\n",
      "[Errno 2] No such file or directory: 'D:/external_datasets/TAO/TAO_DIR/frames/val/ArgoVerse/273c1883-673a-36bf-b124-88311b1a80be/ring_front_center_315975653002632136.jpg'\n"
     ]
    },
    {
     "name": "stderr",
     "output_type": "stream",
     "text": [
      "\n",
      ">>> Finding TAO pickup_truck...:   0%|                                                       | 0/432 [00:00<?, ?it/s]\u001b[A\n",
      "\n",
      ">>> Finding TAO pickup_truck...:   0%|                                               | 1/432 [00:00<00:19, 22.23it/s]\u001b[A\n",
      "\n",
      ">>> Finding TAO pickup_truck...:   0%|▏                                              | 2/432 [00:00<00:16, 25.96it/s]\u001b[A\n"
     ]
    },
    {
     "name": "stdout",
     "output_type": "stream",
     "text": [
      "[Errno 2] No such file or directory: 'D:/external_datasets/TAO/TAO_DIR/frames/train/ArgoVerse/aeb73d7a-8257-3225-972e-99307b3a5cb0/ring_front_center_315969072980451360.jpg'\n",
      "[Errno 2] No such file or directory: 'D:/external_datasets/TAO/TAO_DIR/frames/train/ArgoVerse/af706af1-a226-3f6f-8d65-b1f4b9457c48/ring_front_center_315968546132152704.jpg'\n"
     ]
    },
    {
     "name": "stderr",
     "output_type": "stream",
     "text": [
      "\n",
      ">>> Finding TAO pickup_truck...:   1%|▎                                              | 3/432 [00:00<00:10, 40.00it/s]\u001b[A"
     ]
    },
    {
     "name": "stdout",
     "output_type": "stream",
     "text": [
      "[Errno 2] No such file or directory: 'D:/external_datasets/TAO/TAO_DIR/frames/train/ArgoVerse/aeb73d7a-8257-3225-972e-99307b3a5cb0/ring_front_center_315969072980451360.jpg'\n"
     ]
    },
    {
     "name": "stderr",
     "output_type": "stream",
     "text": [
      "\n",
      "\n",
      ">>> Finding TAO pickup_truck...:   1%|▍                                              | 4/432 [00:00<00:08, 49.45it/s]\u001b[A"
     ]
    },
    {
     "name": "stdout",
     "output_type": "stream",
     "text": [
      "[Errno 2] No such file or directory: 'D:/external_datasets/TAO/TAO_DIR/frames/train/ArgoVerse/4518c79d-10fb-300e-83bb-6174d5b24a45/ring_front_center_315969132016773240.jpg'\n"
     ]
    },
    {
     "name": "stderr",
     "output_type": "stream",
     "text": [
      "\n",
      " 68%|███████████████████████████████████████████████████▏                       | 893/1310 [1:32:00<06:19,  1.10it/s]\n",
      ">>> Finding TAO pigeon...:   0%|                                                             | 0/204 [00:00<?, ?it/s]\u001b[A\n",
      "\n",
      ">>> Finding TAO pigeon...:   0%|▎                                                    | 1/204 [00:00<00:02, 99.54it/s]\u001b[A\n"
     ]
    },
    {
     "name": "stdout",
     "output_type": "stream",
     "text": [
      "\n",
      ">> pie...\n",
      ">>>> #WARNING pie is missing from json annotations\n",
      "annotations datasets:  []\n",
      "annotations imgids:  []\n",
      "annotations bbox:  []\n",
      "\n",
      ">> pigeon...\n",
      "TAO\n",
      "[Errno 2] No such file or directory: 'D:/external_datasets/TAO/TAO_DIR/frames/val/YFCC100M/v_d389d21ddef286b3febd14de1db31615/frame0541.jpeg'\n",
      "[Errno 2] No such file or directory: 'D:/external_datasets/TAO/TAO_DIR/frames/train/YFCC100M/v_df4744928b9b4199b5c73344efdce65/frame1261.jpg'\n"
     ]
    },
    {
     "name": "stderr",
     "output_type": "stream",
     "text": [
      "\n",
      ">>> Finding TAO pigeon...:   1%|▌                                                   | 2/204 [00:00<00:01, 181.10it/s]\u001b[A\n",
      "\n",
      ">>> Finding TAO pigeon...:   1%|▊                                                   | 3/204 [00:00<00:02, 100.01it/s]\u001b[A\n"
     ]
    },
    {
     "name": "stdout",
     "output_type": "stream",
     "text": [
      "[Errno 2] No such file or directory: 'D:/external_datasets/TAO/TAO_DIR/frames/val/YFCC100M/v_d389d21ddef286b3febd14de1db31615/frame0571.jpeg'\n",
      "[Errno 2] No such file or directory: 'D:/external_datasets/TAO/TAO_DIR/frames/train/YFCC100M/v_df4744928b9b4199b5c73344efdce65/frame1141.jpg'\n"
     ]
    },
    {
     "name": "stderr",
     "output_type": "stream",
     "text": [
      "\n",
      ">>> Finding TAO pigeon...:   2%|█                                                   | 4/204 [00:00<00:00, 444.39it/s]\u001b[A\n",
      "\n",
      ">>> Finding TAO pigeon...:   2%|█▎                                                  | 5/204 [00:00<00:00, 553.16it/s]\u001b[A\n",
      "\n",
      ">>> Finding TAO pigeon...:   3%|█▌                                                  | 6/204 [00:00<00:00, 399.78it/s]\u001b[A\n"
     ]
    },
    {
     "name": "stdout",
     "output_type": "stream",
     "text": [
      "[Errno 2] No such file or directory: 'D:/external_datasets/TAO/TAO_DIR/frames/train/YFCC100M/v_df4744928b9b4199b5c73344efdce65/frame1171.jpg'\n",
      "[Errno 2] No such file or directory: 'D:/external_datasets/TAO/TAO_DIR/frames/val/YFCC100M/v_d389d21ddef286b3febd14de1db31615/frame1231.jpeg'\n",
      "[Errno 2] No such file or directory: 'D:/external_datasets/TAO/TAO_DIR/frames/val/YFCC100M/v_d389d21ddef286b3febd14de1db31615/frame0481.jpeg'\n"
     ]
    },
    {
     "name": "stderr",
     "output_type": "stream",
     "text": [
      "\n",
      ">>> Finding TAO pigeon...:   3%|█▊                                                  | 7/204 [00:00<00:00, 777.15it/s]\u001b[A\n",
      "\n",
      ">>> Finding TAO pigeon...:   4%|██                                                  | 8/204 [00:00<00:00, 888.93it/s]\u001b[A\n",
      " 68%|███████████████████████████████████████████████████▏                       | 895/1310 [1:32:00<05:13,  1.33it/s]"
     ]
    },
    {
     "name": "stdout",
     "output_type": "stream",
     "text": [
      "[Errno 2] No such file or directory: 'D:/external_datasets/TAO/TAO_DIR/frames/val/YFCC100M/v_d389d21ddef286b3febd14de1db31615/frame0661.jpeg'\n",
      "[Errno 2] No such file or directory: 'D:/external_datasets/TAO/TAO_DIR/frames/train/YFCC100M/v_df4744928b9b4199b5c73344efdce65/frame1681.jpg'\n",
      "\n",
      ">> piggy_bank...\n",
      ">>>> #WARNING piggy_bank is missing from json annotations\n",
      "annotations datasets:  []\n",
      "annotations imgids:  []\n",
      "annotations bbox:  []\n",
      "\n",
      ">> pillow...\n",
      "TAO\n"
     ]
    },
    {
     "name": "stderr",
     "output_type": "stream",
     "text": [
      " 68%|███████████████████████████████████████████████████▎                       | 897/1310 [1:32:02<05:45,  1.20it/s]"
     ]
    },
    {
     "name": "stdout",
     "output_type": "stream",
     "text": [
      "\n",
      ">> pin_(non_jewelry)...\n",
      ">>>> #WARNING pin_(non_jewelry) is missing from json annotations\n",
      "annotations datasets:  []\n",
      "annotations imgids:  []\n",
      "annotations bbox:  []\n",
      "\n",
      ">> pineapple...\n",
      ">>>> #WARNING pineapple is missing from json annotations\n",
      "annotations datasets:  []\n",
      "annotations imgids:  []\n",
      "annotations bbox:  []\n",
      "\n",
      ">> pinecone...\n",
      ">>>> #WARNING pinecone is missing from json annotations\n",
      "annotations datasets:  []\n",
      "annotations imgids:  []\n",
      "annotations bbox:  []\n",
      "\n",
      ">> ping-pong_ball...\n",
      "TAO\n"
     ]
    },
    {
     "name": "stderr",
     "output_type": "stream",
     "text": [
      "\n",
      ">>> Finding TAO ping-pong_ball...:   0%|                                                      | 0/44 [00:00<?, ?it/s]\u001b[A"
     ]
    },
    {
     "name": "stdout",
     "output_type": "stream",
     "text": [
      "[Errno 2] No such file or directory: 'D:/external_datasets/TAO/TAO_DIR/frames/train/HACS/Beer_pong_v_bFTTE4TV-ek_scene_0_173-3004/frame0991.jpg'\n"
     ]
    },
    {
     "name": "stderr",
     "output_type": "stream",
     "text": [
      "\n",
      " 69%|███████████████████████████████████████████████████▌                       | 901/1310 [1:32:04<04:42,  1.45it/s]"
     ]
    },
    {
     "name": "stdout",
     "output_type": "stream",
     "text": [
      "\n",
      ">> pinwheel...\n",
      ">>>> #WARNING pinwheel is missing from json annotations\n",
      "annotations datasets:  []\n",
      "annotations imgids:  []\n",
      "annotations bbox:  []\n",
      "\n",
      ">> tobacco_pipe...\n",
      ">>>> #WARNING tobacco_pipe is missing from json annotations\n",
      "annotations datasets:  []\n",
      "annotations imgids:  []\n",
      "annotations bbox:  []\n",
      "\n",
      ">> pipe...\n",
      "TAO\n"
     ]
    },
    {
     "name": "stderr",
     "output_type": "stream",
     "text": [
      "\n",
      ">>> Finding TAO pipe...:   0%|                                                                | 0/34 [00:00<?, ?it/s]\u001b[A"
     ]
    },
    {
     "name": "stdout",
     "output_type": "stream",
     "text": [
      "[Errno 2] No such file or directory: 'D:/external_datasets/TAO/TAO_DIR/frames/train/HACS/Painting_furniture_v_xNxxM-OOMfw_scene_0_0-1910/frame1021.jpg'\n"
     ]
    },
    {
     "name": "stderr",
     "output_type": "stream",
     "text": [
      "\n",
      " 69%|███████████████████████████████████████████████████▊                       | 904/1310 [1:32:05<04:15,  1.59it/s]"
     ]
    },
    {
     "name": "stdout",
     "output_type": "stream",
     "text": [
      "\n",
      ">> pistol...\n",
      "TAO\n"
     ]
    },
    {
     "name": "stderr",
     "output_type": "stream",
     "text": [
      " 69%|███████████████████████████████████████████████████▊                       | 905/1310 [1:32:07<06:06,  1.11it/s]"
     ]
    },
    {
     "name": "stdout",
     "output_type": "stream",
     "text": [
      "\n",
      ">> pita_(bread)...\n",
      ">>>> #WARNING pita_(bread) is missing from json annotations\n",
      "annotations datasets:  []\n",
      "annotations imgids:  []\n",
      "annotations bbox:  []\n",
      "\n",
      ">> pitcher_(vessel_for_liquid)...\n",
      "TAO\n"
     ]
    },
    {
     "name": "stderr",
     "output_type": "stream",
     "text": [
      "\n",
      ">>> Finding TAO pitcher_(vessel_for_liquid)...:   0%|                                        | 0/108 [00:00<?, ?it/s]\u001b[A"
     ]
    },
    {
     "name": "stdout",
     "output_type": "stream",
     "text": [
      "[Errno 2] No such file or directory: 'D:/external_datasets/TAO/TAO_DIR/frames/val/YFCC100M/v_90d3b815a3e7eeef2375c1ec8bd2a0ff/frame1351.jpg'\n"
     ]
    },
    {
     "name": "stderr",
     "output_type": "stream",
     "text": [
      "\n",
      " 69%|███████████████████████████████████████████████████▉                       | 907/1310 [1:32:08<05:43,  1.17it/s]"
     ]
    },
    {
     "name": "stdout",
     "output_type": "stream",
     "text": [
      "\n",
      ">> pitchfork...\n",
      ">>>> #WARNING pitchfork is missing from json annotations\n",
      "annotations datasets:  []\n",
      "annotations imgids:  []\n",
      "annotations bbox:  []\n",
      "\n",
      ">> pizza...\n",
      "TAO\n"
     ]
    },
    {
     "name": "stderr",
     "output_type": "stream",
     "text": [
      " 69%|████████████████████████████████████████████████████                       | 909/1310 [1:32:10<05:36,  1.19it/s]"
     ]
    },
    {
     "name": "stdout",
     "output_type": "stream",
     "text": [
      "\n",
      ">> place_mat...\n",
      ">>>> #WARNING place_mat is missing from json annotations\n",
      "annotations datasets:  []\n",
      "annotations imgids:  []\n",
      "annotations bbox:  []\n",
      "\n",
      ">> plate...\n",
      "TAO\n"
     ]
    },
    {
     "name": "stderr",
     "output_type": "stream",
     "text": [
      " 70%|████████████████████████████████████████████████████▏                      | 911/1310 [1:32:12<06:22,  1.04it/s]"
     ]
    },
    {
     "name": "stdout",
     "output_type": "stream",
     "text": [
      "\n",
      ">> platter...\n",
      ">>>> #WARNING platter is missing from json annotations\n",
      "annotations datasets:  []\n",
      "annotations imgids:  []\n",
      "annotations bbox:  []\n",
      "\n",
      ">> playing_card...\n",
      ">>>> #WARNING playing_card is missing from json annotations\n",
      "annotations datasets:  []\n",
      "annotations imgids:  []\n",
      "annotations bbox:  []\n",
      "\n",
      ">> playpen...\n",
      ">>>> #WARNING playpen is missing from json annotations\n",
      "annotations datasets:  []\n",
      "annotations imgids:  []\n",
      "annotations bbox:  []\n",
      "\n",
      ">> pliers...\n",
      "TAO\n"
     ]
    },
    {
     "name": "stderr",
     "output_type": "stream",
     "text": [
      "\n",
      ">>> Finding TAO pliers...:   0%|                                                              | 0/41 [00:00<?, ?it/s]\u001b[A"
     ]
    },
    {
     "name": "stdout",
     "output_type": "stream",
     "text": [
      "[Errno 2] No such file or directory: 'D:/external_datasets/TAO/TAO_DIR/frames/train/HACS/Welding_v_QlXEyPOUMUg/frame1021.jpg'\n"
     ]
    },
    {
     "name": "stderr",
     "output_type": "stream",
     "text": [
      "\n",
      "\n",
      ">>> Finding TAO pliers...:   5%|██▋                                                   | 2/41 [00:00<00:01, 27.79it/s]\u001b[A\n",
      "\n",
      ">>> Finding TAO pliers...:   0%|                                                              | 0/41 [00:00<?, ?it/s]\u001b[A"
     ]
    },
    {
     "name": "stdout",
     "output_type": "stream",
     "text": [
      "[Errno 2] No such file or directory: 'D:/external_datasets/TAO/TAO_DIR/frames/val/HACS/Wrapping_presents_v_yahzWfkLMR4_scene_0_196-4597/frame1021.jpg'\n",
      "[Errno 2] No such file or directory: 'D:/external_datasets/TAO/TAO_DIR/frames/train/HACS/Welding_v_QlXEyPOUMUg/frame1051.jpg'\n"
     ]
    },
    {
     "name": "stderr",
     "output_type": "stream",
     "text": [
      ">>> Finding TAO pliers...:   7%|███▉                                                  | 3/41 [00:00<00:00, 69.76it/s]\n",
      " 70%|████████████████████████████████████████████████████▍                      | 915/1310 [1:32:14<05:14,  1.26it/s]"
     ]
    },
    {
     "name": "stdout",
     "output_type": "stream",
     "text": [
      "\n",
      ">> plow_(farm_equipment)...\n",
      ">>>> #WARNING plow_(farm_equipment) is missing from json annotations\n",
      "annotations datasets:  []\n",
      "annotations imgids:  []\n",
      "annotations bbox:  []\n",
      "\n",
      ">> pocket_watch...\n",
      ">>>> #WARNING pocket_watch is missing from json annotations\n",
      "annotations datasets:  []\n",
      "annotations imgids:  []\n",
      "annotations bbox:  []\n",
      "\n",
      ">> pocketknife...\n",
      ">>>> #WARNING pocketknife is missing from json annotations\n",
      "annotations datasets:  []\n",
      "annotations imgids:  []\n",
      "annotations bbox:  []\n",
      "\n",
      ">> poker_(fire_stirring_tool)...\n",
      ">>>> #WARNING poker_(fire_stirring_tool) is missing from json annotations\n",
      "annotations datasets:  []\n",
      "annotations imgids:  []\n",
      "annotations bbox:  []\n",
      "\n",
      ">> pole...\n",
      "TAO\n"
     ]
    },
    {
     "name": "stderr",
     "output_type": "stream",
     "text": [
      "\n",
      ">>> Finding TAO pole...:   0%|                                                                | 0/40 [00:00<?, ?it/s]\u001b[A"
     ]
    },
    {
     "name": "stdout",
     "output_type": "stream",
     "text": [
      "[Errno 2] No such file or directory: 'D:/external_datasets/TAO/TAO_DIR/frames/val/HACS/Shot_put_v_gqR1J68CwyI_scene_0_0-2994/frame0991.jpg'\n"
     ]
    },
    {
     "name": "stderr",
     "output_type": "stream",
     "text": [
      "\n",
      "\n",
      ">>> Finding TAO pole...:   2%|█▍                                                      | 1/40 [00:00<00:02, 16.12it/s]\u001b[A"
     ]
    },
    {
     "name": "stdout",
     "output_type": "stream",
     "text": [
      "[Errno 2] No such file or directory: 'D:/external_datasets/TAO/TAO_DIR/frames/val/HACS/Shot_put_v_gqR1J68CwyI_scene_0_0-2994/frame1141.jpg'\n"
     ]
    },
    {
     "name": "stderr",
     "output_type": "stream",
     "text": [
      "\n",
      "\n",
      ">>> Finding TAO pole...:   5%|██▊                                                     | 2/40 [00:00<00:01, 32.78it/s]\u001b[A"
     ]
    },
    {
     "name": "stdout",
     "output_type": "stream",
     "text": [
      "[Errno 2] No such file or directory: 'D:/external_datasets/TAO/TAO_DIR/frames/val/HACS/Shot_put_v_gqR1J68CwyI_scene_0_0-2994/frame1081.jpg'\n",
      "[Errno 2] No such file or directory: 'D:/external_datasets/TAO/TAO_DIR/frames/val/HACS/Shot_put_v_gqR1J68CwyI_scene_0_0-2994/frame1171.jpg'\n"
     ]
    },
    {
     "name": "stderr",
     "output_type": "stream",
     "text": [
      "\n",
      "\n",
      ">>> Finding TAO pole...:   8%|████▏                                                   | 3/40 [00:00<00:01, 27.28it/s]\u001b[A\n",
      " 70%|████████████████████████████████████████████████████▋                      | 920/1310 [1:32:16<04:17,  1.52it/s]"
     ]
    },
    {
     "name": "stdout",
     "output_type": "stream",
     "text": [
      "\n",
      ">> police_van...\n",
      ">>>> #WARNING police_van is missing from json annotations\n",
      "annotations datasets:  []\n",
      "annotations imgids:  []\n",
      "annotations bbox:  []\n",
      "\n",
      ">> polo_shirt...\n",
      ">>>> #WARNING polo_shirt is missing from json annotations\n",
      "annotations datasets:  []\n",
      "annotations imgids:  []\n",
      "annotations bbox:  []\n",
      "\n",
      ">> poncho...\n",
      ">>>> #WARNING poncho is missing from json annotations\n",
      "annotations datasets:  []\n",
      "annotations imgids:  []\n",
      "annotations bbox:  []\n",
      "\n",
      ">> pony...\n",
      ">>>> #WARNING pony is missing from json annotations\n",
      "annotations datasets:  []\n",
      "annotations imgids:  []\n",
      "annotations bbox:  []\n",
      "\n",
      ">> pool_table...\n",
      ">>>> #WARNING pool_table is missing from json annotations\n",
      "annotations datasets:  []\n",
      "annotations imgids:  []\n",
      "annotations bbox:  []\n",
      "\n",
      ">> pop_(soda)...\n",
      ">>>> #WARNING pop_(soda) is missing from json annotations\n",
      "annotations datasets:  []\n",
      "annotations imgids:  []\n",
      "annotations bbox:  []\n",
      "\n",
      ">> portrait...\n",
      ">>>> #WARNING portrait is missing from json annotations\n",
      "annotations datasets:  []\n",
      "annotations imgids:  []\n",
      "annotations bbox:  []\n",
      "\n",
      ">> postbox_(public)...\n",
      ">>>> #WARNING postbox_(public) is missing from json annotations\n",
      "annotations datasets:  []\n",
      "annotations imgids:  []\n",
      "annotations bbox:  []\n",
      "\n",
      ">> postcard...\n",
      ">>>> #WARNING postcard is missing from json annotations\n",
      "annotations datasets:  []\n",
      "annotations imgids:  []\n",
      "annotations bbox:  []\n",
      "\n",
      ">> poster...\n",
      "TAO\n"
     ]
    },
    {
     "name": "stderr",
     "output_type": "stream",
     "text": [
      "\n",
      ">>> Finding TAO poster...:   0%|                                                              | 0/31 [00:00<?, ?it/s]\u001b[A"
     ]
    },
    {
     "name": "stdout",
     "output_type": "stream",
     "text": [
      "[Errno 2] No such file or directory: 'D:/external_datasets/TAO/TAO_DIR/frames/train/AVA/XOe9GeojzCs_scene_30_117850-118975/frame1051.jpg'\n"
     ]
    },
    {
     "name": "stderr",
     "output_type": "stream",
     "text": [
      "\n",
      "\n",
      ">>> Finding TAO poster...:   3%|█▋                                                    | 1/31 [00:00<00:01, 17.54it/s]\u001b[A\n"
     ]
    },
    {
     "name": "stdout",
     "output_type": "stream",
     "text": [
      "[Errno 2] No such file or directory: 'D:/external_datasets/TAO/TAO_DIR/frames/train/AVA/XOe9GeojzCs_scene_30_117850-118975/frame0991.jpg'\n"
     ]
    },
    {
     "name": "stderr",
     "output_type": "stream",
     "text": [
      "\n",
      ">>> Finding TAO poster...:   6%|███▍                                                  | 2/31 [00:00<00:00, 45.46it/s]\u001b[A\n",
      " 71%|█████████████████████████████████████████████████████▏                     | 930/1310 [1:32:17<03:14,  1.95it/s]\n",
      ">>> Finding TAO pot...:   0%|                                                                | 0/357 [00:00<?, ?it/s]\u001b[A"
     ]
    },
    {
     "name": "stdout",
     "output_type": "stream",
     "text": [
      "[Errno 2] No such file or directory: 'D:/external_datasets/TAO/TAO_DIR/frames/train/AVA/XOe9GeojzCs_scene_30_117850-118975/frame1111.jpg'\n",
      "\n",
      ">> pot...\n",
      "TAO\n",
      "[Errno 2] No such file or directory: 'D:/external_datasets/TAO/TAO_DIR/frames/train/HACS/Preparing_salad_v_AjH8TFfZIGY/frame3001.jpg'\n"
     ]
    },
    {
     "name": "stderr",
     "output_type": "stream",
     "text": [
      ">>> Finding TAO pot...:   0%|                                                                | 0/357 [00:00<?, ?it/s]\n",
      "\n",
      ">>> Finding TAO pot...:   0%|▏                                                       | 1/357 [00:00<00:16, 21.28it/s]\u001b[A\n",
      "\n",
      ">>> Finding TAO pot...:   0%|                                                                | 0/357 [00:00<?, ?it/s]\u001b[A"
     ]
    },
    {
     "name": "stdout",
     "output_type": "stream",
     "text": [
      "[Errno 2] No such file or directory: 'D:/external_datasets/TAO/TAO_DIR/frames/train/HACS/Preparing_salad_v_AjH8TFfZIGY/frame3331.jpg'\n",
      "[Errno 2] No such file or directory: 'D:/external_datasets/TAO/TAO_DIR/frames/train/HACS/Preparing_salad_v_AjH8TFfZIGY/frame3811.jpg'\n"
     ]
    },
    {
     "name": "stderr",
     "output_type": "stream",
     "text": [
      ">>> Finding TAO pot...:   1%|▎                                                       | 2/357 [00:00<00:09, 37.73it/s]\n",
      " 71%|█████████████████████████████████████████████████████▎                     | 931/1310 [1:32:20<06:49,  1.08s/it]"
     ]
    },
    {
     "name": "stdout",
     "output_type": "stream",
     "text": [
      "\n",
      ">> flowerpot...\n",
      ">>>> #WARNING flowerpot is missing from json annotations\n",
      "annotations datasets:  []\n",
      "annotations imgids:  []\n",
      "annotations bbox:  []\n",
      "\n",
      ">> potato...\n",
      "TAO\n"
     ]
    },
    {
     "name": "stderr",
     "output_type": "stream",
     "text": [
      "\n",
      ">>> Finding TAO potato...:   0%|                                                              | 0/26 [00:00<?, ?it/s]\u001b[A"
     ]
    },
    {
     "name": "stdout",
     "output_type": "stream",
     "text": [
      "[Errno 2] No such file or directory: 'D:/external_datasets/TAO/TAO_DIR/frames/val/HACS/Peeling_potatoes_v_xCDAXbnXpU0_scene_0_0-3050/frame0989.jpg'\n"
     ]
    },
    {
     "name": "stderr",
     "output_type": "stream",
     "text": [
      "\n",
      "\n",
      ">>> Finding TAO potato...:  12%|██████                                               | 3/26 [00:00<00:00, 176.46it/s]\u001b[A"
     ]
    },
    {
     "name": "stdout",
     "output_type": "stream",
     "text": [
      "[Errno 2] No such file or directory: 'D:/external_datasets/TAO/TAO_DIR/frames/val/HACS/Peeling_potatoes_v_xCDAXbnXpU0_scene_0_0-3050/frame1015.jpg'\n"
     ]
    },
    {
     "name": "stderr",
     "output_type": "stream",
     "text": [
      "\n",
      " 71%|█████████████████████████████████████████████████████▍                     | 933/1310 [1:32:21<06:13,  1.01it/s]"
     ]
    },
    {
     "name": "stdout",
     "output_type": "stream",
     "text": [
      "\n",
      ">> potholder...\n",
      ">>>> #WARNING potholder is missing from json annotations\n",
      "annotations datasets:  []\n",
      "annotations imgids:  []\n",
      "annotations bbox:  []\n",
      "\n",
      ">> pottery...\n",
      ">>>> #WARNING pottery is missing from json annotations\n",
      "annotations datasets:  []\n",
      "annotations imgids:  []\n",
      "annotations bbox:  []\n",
      "\n",
      ">> pouch...\n",
      ">>>> #WARNING pouch is missing from json annotations\n",
      "annotations datasets:  []\n",
      "annotations imgids:  []\n",
      "annotations bbox:  []\n",
      "\n",
      ">> power_shovel...\n",
      ">>>> #WARNING power_shovel is missing from json annotations\n",
      "annotations datasets:  []\n",
      "annotations imgids:  []\n",
      "annotations bbox:  []\n",
      "\n",
      ">> prawn...\n",
      ">>>> #WARNING prawn is missing from json annotations\n",
      "annotations datasets:  []\n",
      "annotations imgids:  []\n",
      "annotations bbox:  []\n",
      "\n",
      ">> printer...\n",
      ">>>> #WARNING printer is missing from json annotations\n",
      "annotations datasets:  []\n",
      "annotations imgids:  []\n",
      "annotations bbox:  []\n",
      "\n",
      ">> projectile_(weapon)...\n",
      ">>>> #WARNING projectile_(weapon) is missing from json annotations\n",
      "annotations datasets:  []\n",
      "annotations imgids:  []\n",
      "annotations bbox:  []\n",
      "\n",
      ">> projector...\n",
      ">>>> #WARNING projector is missing from json annotations\n",
      "annotations datasets:  []\n",
      "annotations imgids:  []\n",
      "annotations bbox:  []\n",
      "\n",
      ">> propeller...\n",
      ">>>> #WARNING propeller is missing from json annotations\n",
      "annotations datasets:  []\n",
      "annotations imgids:  []\n",
      "annotations bbox:  []\n",
      "\n",
      ">> prune...\n",
      ">>>> #WARNING prune is missing from json annotations\n",
      "annotations datasets:  []\n",
      "annotations imgids:  []\n",
      "annotations bbox:  []\n",
      "\n",
      ">> pudding...\n",
      ">>>> #WARNING pudding is missing from json annotations\n",
      "annotations datasets:  []\n",
      "annotations imgids:  []\n",
      "annotations bbox:  []\n",
      "\n",
      ">> puffer_(fish)...\n",
      ">>>> #WARNING puffer_(fish) is missing from json annotations\n",
      "annotations datasets:  []\n",
      "annotations imgids:  []\n",
      "annotations bbox:  []\n",
      "\n",
      ">> puffin...\n",
      ">>>> #WARNING puffin is missing from json annotations\n",
      "annotations datasets:  []\n",
      "annotations imgids:  []\n",
      "annotations bbox:  []\n",
      "\n",
      ">> pug-dog...\n",
      ">>>> #WARNING pug-dog is missing from json annotations\n",
      "annotations datasets:  []\n",
      "annotations imgids:  []\n",
      "annotations bbox:  []\n",
      "\n",
      ">> pumpkin...\n",
      "TAO\n"
     ]
    },
    {
     "name": "stderr",
     "output_type": "stream",
     "text": [
      "\n",
      ">>> Finding TAO pumpkin...:   0%|                                                             | 0/40 [00:00<?, ?it/s]\u001b[A\n",
      "\n",
      ">>> Finding TAO pumpkin...:   0%|                                                             | 0/40 [00:00<?, ?it/s]\u001b[A"
     ]
    },
    {
     "name": "stdout",
     "output_type": "stream",
     "text": [
      "[Errno 2] No such file or directory: 'D:/external_datasets/TAO/TAO_DIR/frames/train/HACS/Carving_jack-o-lanterns_v_mThUfYcea3I_scene_0_0-2594/frame1141.jpg'\n",
      "[Errno 2] No such file or directory: 'D:/external_datasets/TAO/TAO_DIR/frames/train/HACS/Carving_jack-o-lanterns_v_mThUfYcea3I_scene_0_0-2594/frame1081.jpg'\n"
     ]
    },
    {
     "name": "stderr",
     "output_type": "stream",
     "text": [
      ">>> Finding TAO pumpkin...:   2%|█▎                                                   | 1/40 [00:00<00:00, 45.45it/s]\n",
      " 72%|██████████████████████████████████████████████████████▎                    | 948/1310 [1:32:23<04:24,  1.37it/s]"
     ]
    },
    {
     "name": "stdout",
     "output_type": "stream",
     "text": [
      "\n",
      ">> puncher...\n",
      ">>>> #WARNING puncher is missing from json annotations\n",
      "annotations datasets:  []\n",
      "annotations imgids:  []\n",
      "annotations bbox:  []\n",
      "\n",
      ">> puppet...\n",
      ">>>> #WARNING puppet is missing from json annotations\n",
      "annotations datasets:  []\n",
      "annotations imgids:  []\n",
      "annotations bbox:  []\n",
      "\n",
      ">> puppy...\n",
      ">>>> #WARNING puppy is missing from json annotations\n",
      "annotations datasets:  []\n",
      "annotations imgids:  []\n",
      "annotations bbox:  []\n",
      "\n",
      ">> quesadilla...\n",
      ">>>> #WARNING quesadilla is missing from json annotations\n",
      "annotations datasets:  []\n",
      "annotations imgids:  []\n",
      "annotations bbox:  []\n",
      "\n",
      ">> quiche...\n",
      ">>>> #WARNING quiche is missing from json annotations\n",
      "annotations datasets:  []\n",
      "annotations imgids:  []\n",
      "annotations bbox:  []\n",
      "\n",
      ">> quilt...\n",
      ">>>> #WARNING quilt is missing from json annotations\n",
      "annotations datasets:  []\n",
      "annotations imgids:  []\n",
      "annotations bbox:  []\n",
      "\n",
      ">> rabbit...\n",
      "TAO\n"
     ]
    },
    {
     "name": "stderr",
     "output_type": "stream",
     "text": [
      " 73%|██████████████████████████████████████████████████████▋                    | 955/1310 [1:32:25<03:27,  1.71it/s]"
     ]
    },
    {
     "name": "stdout",
     "output_type": "stream",
     "text": [
      "\n",
      ">> race_car...\n",
      "TAO\n"
     ]
    },
    {
     "name": "stderr",
     "output_type": "stream",
     "text": [
      " 73%|██████████████████████████████████████████████████████▋                    | 956/1310 [1:32:26<05:07,  1.15it/s]"
     ]
    },
    {
     "name": "stdout",
     "output_type": "stream",
     "text": [
      "\n",
      ">> racket...\n",
      "TAO\n"
     ]
    },
    {
     "name": "stderr",
     "output_type": "stream",
     "text": [
      " 73%|██████████████████████████████████████████████████████▊                    | 957/1310 [1:32:28<06:44,  1.15s/it]"
     ]
    },
    {
     "name": "stdout",
     "output_type": "stream",
     "text": [
      "\n",
      ">> radar...\n",
      ">>>> #WARNING radar is missing from json annotations\n",
      "annotations datasets:  []\n",
      "annotations imgids:  []\n",
      "annotations bbox:  []\n",
      "\n",
      ">> radiator...\n",
      ">>>> #WARNING radiator is missing from json annotations\n",
      "annotations datasets:  []\n",
      "annotations imgids:  []\n",
      "annotations bbox:  []\n",
      "\n",
      ">> radio_receiver...\n",
      ">>>> #WARNING radio_receiver is missing from json annotations\n",
      "annotations datasets:  []\n",
      "annotations imgids:  []\n",
      "annotations bbox:  []\n",
      "\n",
      ">> radish...\n",
      ">>>> #WARNING radish is missing from json annotations\n",
      "annotations datasets:  []\n",
      "annotations imgids:  []\n",
      "annotations bbox:  []\n",
      "\n",
      ">> raft...\n",
      "TAO\n"
     ]
    },
    {
     "name": "stderr",
     "output_type": "stream",
     "text": [
      "\n",
      ">>> Finding TAO raft...:   0%|                                                                | 0/63 [00:00<?, ?it/s]\u001b[A"
     ]
    },
    {
     "name": "stdout",
     "output_type": "stream",
     "text": [
      "[Errno 2] No such file or directory: 'D:/external_datasets/TAO/TAO_DIR/frames/train/HACS/Rafting_v_EOSzItLkZQQ_scene_0_1057-2357/frame1171.jpg'\n",
      "[Errno 2] No such file or directory: 'D:/external_datasets/TAO/TAO_DIR/frames/train/HACS/Rafting_v_EOSzItLkZQQ_scene_0_1057-2357/frame1081.jpg'\n"
     ]
    },
    {
     "name": "stderr",
     "output_type": "stream",
     "text": [
      "\n",
      "\n",
      ">>> Finding TAO raft...:   3%|█▊                                                      | 2/63 [00:00<00:01, 37.05it/s]\u001b[A\n",
      " 73%|███████████████████████████████████████████████████████                    | 962/1310 [1:32:30<05:15,  1.10it/s]"
     ]
    },
    {
     "name": "stdout",
     "output_type": "stream",
     "text": [
      "\n",
      ">> rag_doll...\n",
      "TAO\n"
     ]
    },
    {
     "name": "stderr",
     "output_type": "stream",
     "text": [
      " 74%|███████████████████████████████████████████████████████▏                   | 963/1310 [1:32:32<06:42,  1.16s/it]"
     ]
    },
    {
     "name": "stdout",
     "output_type": "stream",
     "text": [
      "\n",
      ">> raincoat...\n",
      ">>>> #WARNING raincoat is missing from json annotations\n",
      "annotations datasets:  []\n",
      "annotations imgids:  []\n",
      "annotations bbox:  []\n",
      "\n",
      ">> ram_(animal)...\n",
      ">>>> #WARNING ram_(animal) is missing from json annotations\n",
      "annotations datasets:  []\n",
      "annotations imgids:  []\n",
      "annotations bbox:  []\n",
      "\n",
      ">> raspberry...\n",
      ">>>> #WARNING raspberry is missing from json annotations\n",
      "annotations datasets:  []\n",
      "annotations imgids:  []\n",
      "annotations bbox:  []\n",
      "\n",
      ">> rat...\n",
      "TAO\n"
     ]
    },
    {
     "name": "stderr",
     "output_type": "stream",
     "text": [
      " 74%|███████████████████████████████████████████████████████▎                   | 967/1310 [1:32:33<05:21,  1.07it/s]"
     ]
    },
    {
     "name": "stdout",
     "output_type": "stream",
     "text": [
      "\n",
      ">> razorblade...\n",
      ">>>> #WARNING razorblade is missing from json annotations\n",
      "annotations datasets:  []\n",
      "annotations imgids:  []\n",
      "annotations bbox:  []\n",
      "\n",
      ">> reamer_(juicer)...\n",
      ">>>> #WARNING reamer_(juicer) is missing from json annotations\n",
      "annotations datasets:  []\n",
      "annotations imgids:  []\n",
      "annotations bbox:  []\n",
      "\n",
      ">> rearview_mirror...\n",
      ">>>> #WARNING rearview_mirror is missing from json annotations\n",
      "annotations datasets:  []\n",
      "annotations imgids:  []\n",
      "annotations bbox:  []\n",
      "\n",
      ">> receipt...\n",
      ">>>> #WARNING receipt is missing from json annotations\n",
      "annotations datasets:  []\n",
      "annotations imgids:  []\n",
      "annotations bbox:  []\n",
      "\n",
      ">> recliner...\n",
      ">>>> #WARNING recliner is missing from json annotations\n",
      "annotations datasets:  []\n",
      "annotations imgids:  []\n",
      "annotations bbox:  []\n",
      "\n",
      ">> record_player...\n",
      "TAO\n"
     ]
    },
    {
     "name": "stderr",
     "output_type": "stream",
     "text": [
      "\n",
      ">>> Finding TAO record_player...:   3%|█▍                                             | 1/34 [00:00<00:03, 10.42it/s]\u001b[A"
     ]
    },
    {
     "name": "stdout",
     "output_type": "stream",
     "text": [
      "[Errno 2] No such file or directory: 'D:/external_datasets/TAO/TAO_DIR/frames/val/AVA/lWXhqIAvarw_scene_1_13798-14930/frame1001.jpg'\n"
     ]
    },
    {
     "name": "stderr",
     "output_type": "stream",
     "text": [
      "\n",
      " 74%|███████████████████████████████████████████████████████▋                   | 973/1310 [1:32:36<04:32,  1.24it/s]"
     ]
    },
    {
     "name": "stdout",
     "output_type": "stream",
     "text": [
      "\n",
      ">> red_cabbage...\n",
      ">>>> #WARNING red_cabbage is missing from json annotations\n",
      "annotations datasets:  []\n",
      "annotations imgids:  []\n",
      "annotations bbox:  []\n",
      "\n",
      ">> reflector...\n",
      ">>>> #WARNING reflector is missing from json annotations\n",
      "annotations datasets:  []\n",
      "annotations imgids:  []\n",
      "annotations bbox:  []\n",
      "\n",
      ">> remote_control...\n",
      "TAO\n"
     ]
    },
    {
     "name": "stderr",
     "output_type": "stream",
     "text": [
      "\n",
      ">>> Finding TAO remote_control...:   0%|                                                     | 0/200 [00:00<?, ?it/s]\u001b[A"
     ]
    },
    {
     "name": "stdout",
     "output_type": "stream",
     "text": [
      "[Errno 2] No such file or directory: 'D:/external_datasets/TAO/TAO_DIR/frames/val/Charades/OU3HS/frame1021.jpg'\n",
      "[Errno 2] No such file or directory: 'D:/external_datasets/TAO/TAO_DIR/frames/val/Charades/OU3HS/frame1141.jpg'\n"
     ]
    },
    {
     "name": "stderr",
     "output_type": "stream",
     "text": [
      "\n",
      "\n",
      ">>> Finding TAO remote_control...:   0%|▏                                            | 1/200 [00:00<00:10, 18.87it/s]\u001b[A\n",
      " 75%|███████████████████████████████████████████████████████▉                   | 976/1310 [1:32:38<04:06,  1.35it/s]"
     ]
    },
    {
     "name": "stdout",
     "output_type": "stream",
     "text": [
      "\n",
      ">> rhinoceros...\n",
      "TAO\n"
     ]
    },
    {
     "name": "stderr",
     "output_type": "stream",
     "text": [
      " 75%|███████████████████████████████████████████████████████▉                   | 977/1310 [1:32:40<06:16,  1.13s/it]"
     ]
    },
    {
     "name": "stdout",
     "output_type": "stream",
     "text": [
      "\n",
      ">> rib_(food)...\n",
      ">>>> #WARNING rib_(food) is missing from json annotations\n",
      "annotations datasets:  []\n",
      "annotations imgids:  []\n",
      "annotations bbox:  []\n",
      "\n",
      ">> rifle...\n",
      "TAO\n"
     ]
    },
    {
     "name": "stderr",
     "output_type": "stream",
     "text": [
      " 75%|████████████████████████████████████████████████████████                   | 979/1310 [1:32:42<05:42,  1.03s/it]"
     ]
    },
    {
     "name": "stdout",
     "output_type": "stream",
     "text": [
      "\n",
      ">> ring...\n",
      ">>>> #WARNING ring is missing from json annotations\n",
      "annotations datasets:  []\n",
      "annotations imgids:  []\n",
      "annotations bbox:  []\n",
      "\n",
      ">> river_boat...\n",
      ">>>> #WARNING river_boat is missing from json annotations\n",
      "annotations datasets:  []\n",
      "annotations imgids:  []\n",
      "annotations bbox:  []\n",
      "\n",
      ">> road_map...\n",
      ">>>> #WARNING road_map is missing from json annotations\n",
      "annotations datasets:  []\n",
      "annotations imgids:  []\n",
      "annotations bbox:  []\n",
      "\n",
      ">> robe...\n",
      ">>>> #WARNING robe is missing from json annotations\n",
      "annotations datasets:  []\n",
      "annotations imgids:  []\n",
      "annotations bbox:  []\n",
      "\n",
      ">> rocking_chair...\n",
      ">>>> #WARNING rocking_chair is missing from json annotations\n",
      "annotations datasets:  []\n",
      "annotations imgids:  []\n",
      "annotations bbox:  []\n",
      "\n",
      ">> roller_skate...\n",
      ">>>> #WARNING roller_skate is missing from json annotations\n",
      "annotations datasets:  []\n",
      "annotations imgids:  []\n",
      "annotations bbox:  []\n",
      "\n",
      ">> Rollerblade...\n",
      ">>>> #WARNING Rollerblade is missing from json annotations\n",
      "annotations datasets:  []\n",
      "annotations imgids:  []\n",
      "annotations bbox:  []\n",
      "\n",
      ">> rolling_pin...\n",
      ">>>> #WARNING rolling_pin is missing from json annotations\n",
      "annotations datasets:  []\n",
      "annotations imgids:  []\n",
      "annotations bbox:  []\n",
      "\n",
      ">> root_beer...\n",
      ">>>> #WARNING root_beer is missing from json annotations\n",
      "annotations datasets:  []\n",
      "annotations imgids:  []\n",
      "annotations bbox:  []\n",
      "\n",
      ">> router_(computer_equipment)...\n",
      ">>>> #WARNING router_(computer_equipment) is missing from json annotations\n",
      "annotations datasets:  []\n",
      "annotations imgids:  []\n",
      "annotations bbox:  []\n",
      "\n",
      ">> rubber_band...\n",
      ">>>> #WARNING rubber_band is missing from json annotations\n",
      "annotations datasets:  []\n",
      "annotations imgids:  []\n",
      "annotations bbox:  []\n",
      "\n",
      ">> runner_(carpet)...\n",
      ">>>> #WARNING runner_(carpet) is missing from json annotations\n",
      "annotations datasets:  []\n",
      "annotations imgids:  []\n",
      "annotations bbox:  []\n",
      "\n",
      ">> plastic_bag...\n",
      ">>>> #WARNING plastic_bag is missing from json annotations\n",
      "annotations datasets:  []\n",
      "annotations imgids:  []\n",
      "annotations bbox:  []\n",
      "\n",
      ">> saddle_(on_an_animal)...\n",
      ">>>> #WARNING saddle_(on_an_animal) is missing from json annotations\n",
      "annotations datasets:  []\n",
      "annotations imgids:  []\n",
      "annotations bbox:  []\n",
      "\n",
      ">> saddle_blanket...\n",
      "TAO\n"
     ]
    },
    {
     "name": "stderr",
     "output_type": "stream",
     "text": [
      " 76%|████████████████████████████████████████████████████████▉                  | 994/1310 [1:32:43<03:58,  1.32it/s]\n",
      ">>> Finding TAO sandal_(type_of_shoe)...:   0%|                                               | 0/60 [00:00<?, ?it/s]\u001b[A\n",
      ">>> Finding TAO sandal_(type_of_shoe)...:  52%|███████████████████                  | 31/60 [00:00<00:00, 308.38it/s]\u001b[A"
     ]
    },
    {
     "name": "stdout",
     "output_type": "stream",
     "text": [
      "\n",
      ">> saddlebag...\n",
      ">>>> #WARNING saddlebag is missing from json annotations\n",
      "annotations datasets:  []\n",
      "annotations imgids:  []\n",
      "annotations bbox:  []\n",
      "\n",
      ">> safety_pin...\n",
      ">>>> #WARNING safety_pin is missing from json annotations\n",
      "annotations datasets:  []\n",
      "annotations imgids:  []\n",
      "annotations bbox:  []\n",
      "\n",
      ">> sail...\n",
      ">>>> #WARNING sail is missing from json annotations\n",
      "annotations datasets:  []\n",
      "annotations imgids:  []\n",
      "annotations bbox:  []\n",
      "\n",
      ">> salad...\n",
      ">>>> #WARNING salad is missing from json annotations\n",
      "annotations datasets:  []\n",
      "annotations imgids:  []\n",
      "annotations bbox:  []\n",
      "\n",
      ">> salad_plate...\n",
      ">>>> #WARNING salad_plate is missing from json annotations\n",
      "annotations datasets:  []\n",
      "annotations imgids:  []\n",
      "annotations bbox:  []\n",
      "\n",
      ">> salami...\n",
      ">>>> #WARNING salami is missing from json annotations\n",
      "annotations datasets:  []\n",
      "annotations imgids:  []\n",
      "annotations bbox:  []\n",
      "\n",
      ">> salmon_(fish)...\n",
      ">>>> #WARNING salmon_(fish) is missing from json annotations\n",
      "annotations datasets:  []\n",
      "annotations imgids:  []\n",
      "annotations bbox:  []\n",
      "\n",
      ">> salmon_(food)...\n",
      ">>>> #WARNING salmon_(food) is missing from json annotations\n",
      "annotations datasets:  []\n",
      "annotations imgids:  []\n",
      "annotations bbox:  []\n",
      "\n",
      ">> salsa...\n",
      ">>>> #WARNING salsa is missing from json annotations\n",
      "annotations datasets:  []\n",
      "annotations imgids:  []\n",
      "annotations bbox:  []\n",
      "\n",
      ">> saltshaker...\n",
      ">>>> #WARNING saltshaker is missing from json annotations\n",
      "annotations datasets:  []\n",
      "annotations imgids:  []\n",
      "annotations bbox:  []\n",
      "\n",
      ">> sandal_(type_of_shoe)...\n",
      "TAO\n",
      "[Errno 2] No such file or directory: 'D:/external_datasets/TAO/TAO_DIR/frames/val/YFCC100M/v_5c499a3be51f27d537c8e429840e760/frame0781.jpeg'\n"
     ]
    },
    {
     "name": "stderr",
     "output_type": "stream",
     "text": [
      "\n",
      ">>> Finding TAO sandal_(type_of_shoe)...: 100%|█████████████████████████████████████| 60/60 [00:00<00:00, 290.50it/s]\u001b[A\n",
      "\n",
      ">>> Finding TAO sandal_(type_of_shoe)...:   0%|                                               | 0/60 [00:00<?, ?it/s]\u001b[A\n",
      ">>> Finding TAO sandal_(type_of_shoe)...: 100%|█████████████████████████████████████| 60/60 [00:00<00:00, 329.69it/s]\u001b[A"
     ]
    },
    {
     "name": "stdout",
     "output_type": "stream",
     "text": [
      ">>>> #WARNING: No file found for: TAO sandal_(type_of_shoe)...\n",
      "[Errno 2] No such file or directory: 'D:/external_datasets/TAO/TAO_DIR/frames/val/YFCC100M/v_5c499a3be51f27d537c8e429840e760/frame1321.jpeg'\n"
     ]
    },
    {
     "name": "stderr",
     "output_type": "stream",
     "text": [
      "\n",
      "\n",
      ">>> Finding TAO sandal_(type_of_shoe)...:   0%|                                               | 0/60 [00:00<?, ?it/s]\u001b[A\n",
      ">>> Finding TAO sandal_(type_of_shoe)...:  62%|██████████████████████▊              | 37/60 [00:00<00:00, 359.17it/s]\u001b[A"
     ]
    },
    {
     "name": "stdout",
     "output_type": "stream",
     "text": [
      ">>>> #WARNING: No file found for: TAO sandal_(type_of_shoe)...\n",
      "[Errno 2] No such file or directory: 'D:/external_datasets/TAO/TAO_DIR/frames/val/YFCC100M/v_5c499a3be51f27d537c8e429840e760/frame1051.jpeg'\n"
     ]
    },
    {
     "name": "stderr",
     "output_type": "stream",
     "text": [
      ">>> Finding TAO sandal_(type_of_shoe)...: 100%|█████████████████████████████████████| 60/60 [00:00<00:00, 331.50it/s]\n",
      "\n",
      ">>> Finding TAO sandal_(type_of_shoe)...:   0%|                                               | 0/60 [00:00<?, ?it/s]\u001b[A\n",
      ">>> Finding TAO sandal_(type_of_shoe)...: 100%|█████████████████████████████████████| 60/60 [00:00<00:00, 364.47it/s]\u001b[A\n",
      "\n",
      ">>> Finding TAO sandal_(type_of_shoe)...:   0%|                                               | 0/60 [00:00<?, ?it/s]\u001b[A"
     ]
    },
    {
     "name": "stdout",
     "output_type": "stream",
     "text": [
      ">>>> #WARNING: No file found for: TAO sandal_(type_of_shoe)...\n",
      "[Errno 2] No such file or directory: 'D:/external_datasets/TAO/TAO_DIR/frames/val/YFCC100M/v_5c499a3be51f27d537c8e429840e760/frame1141.jpeg'\n",
      ">>>> #WARNING: No file found for: TAO sandal_(type_of_shoe)...\n",
      "[Errno 2] No such file or directory: 'D:/external_datasets/TAO/TAO_DIR/frames/val/YFCC100M/v_5c499a3be51f27d537c8e429840e760/frame0931.jpeg'\n"
     ]
    },
    {
     "name": "stderr",
     "output_type": "stream",
     "text": [
      "\n",
      ">>> Finding TAO sandal_(type_of_shoe)...: 100%|█████████████████████████████████████| 60/60 [00:00<00:00, 342.86it/s]\u001b[A\n",
      "\n",
      ">>> Finding TAO sandal_(type_of_shoe)...:   0%|                                               | 0/60 [00:00<?, ?it/s]\u001b[A\n",
      ">>> Finding TAO sandal_(type_of_shoe)...: 100%|█████████████████████████████████████| 60/60 [00:00<00:00, 359.31it/s]\u001b[A\n",
      "\n",
      ">>> Finding TAO sandal_(type_of_shoe)...:   0%|                                               | 0/60 [00:00<?, ?it/s]\u001b[A"
     ]
    },
    {
     "name": "stdout",
     "output_type": "stream",
     "text": [
      ">>>> #WARNING: No file found for: TAO sandal_(type_of_shoe)...\n",
      "[Errno 2] No such file or directory: 'D:/external_datasets/TAO/TAO_DIR/frames/val/YFCC100M/v_5c499a3be51f27d537c8e429840e760/frame0781.jpeg'\n",
      ">>>> #WARNING: No file found for: TAO sandal_(type_of_shoe)...\n",
      "[Errno 2] No such file or directory: 'D:/external_datasets/TAO/TAO_DIR/frames/val/YFCC100M/v_5c499a3be51f27d537c8e429840e760/frame0691.jpeg'\n"
     ]
    },
    {
     "name": "stderr",
     "output_type": "stream",
     "text": [
      "\n",
      ">>> Finding TAO sandal_(type_of_shoe)...: 100%|█████████████████████████████████████| 60/60 [00:00<00:00, 370.36it/s]\u001b[A\n",
      "\n",
      ">>> Finding TAO sandal_(type_of_shoe)...:   0%|                                               | 0/60 [00:00<?, ?it/s]\u001b[A\n",
      ">>> Finding TAO sandal_(type_of_shoe)...: 100%|█████████████████████████████████████| 60/60 [00:00<00:00, 384.62it/s]\u001b[A\n",
      "\n",
      ">>> Finding TAO sandal_(type_of_shoe)...:   0%|                                               | 0/60 [00:00<?, ?it/s]\u001b[A"
     ]
    },
    {
     "name": "stdout",
     "output_type": "stream",
     "text": [
      ">>>> #WARNING: No file found for: TAO sandal_(type_of_shoe)...\n",
      "[Errno 2] No such file or directory: 'D:/external_datasets/TAO/TAO_DIR/frames/val/YFCC100M/v_5c499a3be51f27d537c8e429840e760/frame0541.jpeg'\n",
      ">>>> #WARNING: No file found for: TAO sandal_(type_of_shoe)...\n",
      "[Errno 2] No such file or directory: 'D:/external_datasets/TAO/TAO_DIR/frames/val/YFCC100M/v_5c499a3be51f27d537c8e429840e760/frame0571.jpeg'\n"
     ]
    },
    {
     "name": "stderr",
     "output_type": "stream",
     "text": [
      "\n",
      ">>> Finding TAO sandal_(type_of_shoe)...: 100%|█████████████████████████████████████| 60/60 [00:00<00:00, 340.72it/s]\u001b[A\n",
      "\n",
      ">>> Finding TAO sandal_(type_of_shoe)...:   0%|                                               | 0/60 [00:00<?, ?it/s]\u001b[A\n",
      ">>> Finding TAO sandal_(type_of_shoe)...: 100%|█████████████████████████████████████| 60/60 [00:00<00:00, 350.88it/s]\u001b[A\n",
      " 77%|████████████████████████████████████████████████████████▊                 | 1005/1310 [1:32:45<02:56,  1.72it/s]"
     ]
    },
    {
     "name": "stdout",
     "output_type": "stream",
     "text": [
      ">>>> #WARNING: No file found for: TAO sandal_(type_of_shoe)...\n",
      "[Errno 2] No such file or directory: 'D:/external_datasets/TAO/TAO_DIR/frames/val/YFCC100M/v_5c499a3be51f27d537c8e429840e760/frame0661.jpeg'\n",
      ">>>> #WARNING: No file found for: TAO sandal_(type_of_shoe)...\n",
      "\n",
      ">> sandwich...\n",
      "TAO\n"
     ]
    },
    {
     "name": "stderr",
     "output_type": "stream",
     "text": [
      "\n",
      ">>> Finding TAO sandwich...:   0%|                                                           | 0/387 [00:00<?, ?it/s]\u001b[A"
     ]
    },
    {
     "name": "stdout",
     "output_type": "stream",
     "text": [
      "[Errno 2] No such file or directory: 'D:/external_datasets/TAO/TAO_DIR/frames/val/Charades/3YVPG/frame1231.jpg'\n"
     ]
    },
    {
     "name": "stderr",
     "output_type": "stream",
     "text": [
      "\n",
      "\n",
      ">>> Finding TAO sandwich...:   0%|▏                                                 | 1/387 [00:00<00:03, 125.21it/s]\u001b[A"
     ]
    },
    {
     "name": "stdout",
     "output_type": "stream",
     "text": [
      "[Errno 2] No such file or directory: 'D:/external_datasets/TAO/TAO_DIR/frames/train/YFCC100M/v_5b8014f2ebc4628f33a9dcc2d1fbc3b/frame1021.jpg'\n"
     ]
    },
    {
     "name": "stderr",
     "output_type": "stream",
     "text": [
      "\n",
      " 77%|████████████████████████████████████████████████████████▊                 | 1006/1310 [1:32:47<04:29,  1.13it/s]\n",
      ">>> Finding TAO saxophone...:   0%|                                                           | 0/60 [00:00<?, ?it/s]\u001b[A"
     ]
    },
    {
     "name": "stdout",
     "output_type": "stream",
     "text": [
      "\n",
      ">> satchel...\n",
      ">>>> #WARNING satchel is missing from json annotations\n",
      "annotations datasets:  []\n",
      "annotations imgids:  []\n",
      "annotations bbox:  []\n",
      "\n",
      ">> saucepan...\n",
      ">>>> #WARNING saucepan is missing from json annotations\n",
      "annotations datasets:  []\n",
      "annotations imgids:  []\n",
      "annotations bbox:  []\n",
      "\n",
      ">> saucer...\n",
      ">>>> #WARNING saucer is missing from json annotations\n",
      "annotations datasets:  []\n",
      "annotations imgids:  []\n",
      "annotations bbox:  []\n",
      "\n",
      ">> sausage...\n",
      ">>>> #WARNING sausage is missing from json annotations\n",
      "annotations datasets:  []\n",
      "annotations imgids:  []\n",
      "annotations bbox:  []\n",
      "\n",
      ">> sawhorse...\n",
      ">>>> #WARNING sawhorse is missing from json annotations\n",
      "annotations datasets:  []\n",
      "annotations imgids:  []\n",
      "annotations bbox:  []\n",
      "\n",
      ">> saxophone...\n",
      "TAO\n",
      "[Errno 2] No such file or directory: 'D:/external_datasets/TAO/TAO_DIR/frames/val/HACS/Playing_saxophone_v_Ll1361jhJLQ_scene_0_0-1805/frame1081.jpg'\n"
     ]
    },
    {
     "name": "stderr",
     "output_type": "stream",
     "text": [
      ">>> Finding TAO saxophone...:   0%|                                                           | 0/60 [00:00<?, ?it/s]\n",
      " 77%|█████████████████████████████████████████████████████████▏                | 1012/1310 [1:32:49<03:31,  1.41it/s]"
     ]
    },
    {
     "name": "stdout",
     "output_type": "stream",
     "text": [
      "\n",
      ">> scale_(measuring_instrument)...\n",
      ">>>> #WARNING scale_(measuring_instrument) is missing from json annotations\n",
      "annotations datasets:  []\n",
      "annotations imgids:  []\n",
      "annotations bbox:  []\n",
      "\n",
      ">> scarecrow...\n",
      ">>>> #WARNING scarecrow is missing from json annotations\n",
      "annotations datasets:  []\n",
      "annotations imgids:  []\n",
      "annotations bbox:  []\n",
      "\n",
      ">> scarf...\n",
      ">>>> #WARNING scarf is missing from json annotations\n",
      "annotations datasets:  []\n",
      "annotations imgids:  []\n",
      "annotations bbox:  []\n",
      "\n",
      ">> school_bus...\n",
      "TAO\n"
     ]
    },
    {
     "name": "stderr",
     "output_type": "stream",
     "text": [
      " 78%|█████████████████████████████████████████████████████████▍                | 1016/1310 [1:32:51<03:07,  1.56it/s]\n",
      ">>> Finding TAO scissors...:   0%|                                                            | 0/95 [00:00<?, ?it/s]\u001b[A\n"
     ]
    },
    {
     "name": "stdout",
     "output_type": "stream",
     "text": [
      "\n",
      ">> scissors...\n",
      "TAO\n",
      "[Errno 2] No such file or directory: 'D:/external_datasets/TAO/TAO_DIR/frames/val/HACS/Throwing_darts_v_tS8_PFJtWOU/frame3901.jpg'\n"
     ]
    },
    {
     "name": "stderr",
     "output_type": "stream",
     "text": [
      "\n",
      ">>> Finding TAO scissors...:   1%|▌                                                   | 1/95 [00:00<00:07, 12.05it/s]\u001b[A"
     ]
    },
    {
     "name": "stdout",
     "output_type": "stream",
     "text": [
      "[Errno 2] No such file or directory: 'D:/external_datasets/TAO/TAO_DIR/frames/val/HACS/Throwing_darts_v_tS8_PFJtWOU/frame3421.jpg'\n"
     ]
    },
    {
     "name": "stderr",
     "output_type": "stream",
     "text": [
      "\n",
      "\n",
      ">>> Finding TAO scissors...:   2%|█                                                   | 2/95 [00:00<00:02, 32.81it/s]\u001b[A"
     ]
    },
    {
     "name": "stdout",
     "output_type": "stream",
     "text": [
      "[Errno 2] No such file or directory: 'D:/external_datasets/TAO/TAO_DIR/frames/val/HACS/Throwing_darts_v_tS8_PFJtWOU/frame3451.jpg'\n"
     ]
    },
    {
     "name": "stderr",
     "output_type": "stream",
     "text": [
      "\n",
      "\n",
      ">>> Finding TAO scissors...:   3%|█▋                                                  | 3/95 [00:00<00:01, 46.85it/s]\u001b[A"
     ]
    },
    {
     "name": "stdout",
     "output_type": "stream",
     "text": [
      "[Errno 2] No such file or directory: 'D:/external_datasets/TAO/TAO_DIR/frames/val/HACS/Throwing_darts_v_tS8_PFJtWOU/frame2731.jpg'\n",
      "[Errno 2] No such file or directory: 'D:/external_datasets/TAO/TAO_DIR/frames/val/HACS/Throwing_darts_v_tS8_PFJtWOU/frame2791.jpg'\n"
     ]
    },
    {
     "name": "stderr",
     "output_type": "stream",
     "text": [
      "\n",
      "\n",
      ">>> Finding TAO scissors...:   4%|██▏                                                 | 4/95 [00:00<00:01, 72.69it/s]\u001b[A\n",
      "\n",
      ">>> Finding TAO scissors...:   5%|██▋                                                 | 5/95 [00:00<00:01, 78.13it/s]\u001b[A\n",
      " 78%|█████████████████████████████████████████████████████████▍                | 1017/1310 [1:32:52<04:50,  1.01it/s]"
     ]
    },
    {
     "name": "stdout",
     "output_type": "stream",
     "text": [
      "[Errno 2] No such file or directory: 'D:/external_datasets/TAO/TAO_DIR/frames/val/AVA/4Y5qi1gD2Sw_scene_1_28435-31083/frame1021.jpg'\n",
      "\n",
      ">> scoreboard...\n",
      "TAO\n",
      "[Errno 2] No such file or directory: 'D:/external_datasets/TAO/TAO_DIR/frames/train/YFCC100M/v_ae4c865e2aff9a1fd3435ac885b45c/frame0061.jpeg'\n"
     ]
    },
    {
     "name": "stderr",
     "output_type": "stream",
     "text": [
      "\n",
      ">>> Finding TAO scoreboard...: 100%|███████████████████████████████████████████████| 14/14 [00:00<00:00, 1167.05it/s]\u001b[A\n",
      "\n",
      ">>> Finding TAO scoreboard...: 100%|███████████████████████████████████████████████| 14/14 [00:00<00:00, 1273.48it/s]\u001b[A\n",
      "\n",
      ">>> Finding TAO scoreboard...: 100%|███████████████████████████████████████████████| 14/14 [00:00<00:00, 1000.62it/s]\u001b[A\n",
      "\n",
      ">>> Finding TAO scoreboard...: 100%|███████████████████████████████████████████████| 14/14 [00:00<00:00, 1272.08it/s]\u001b[A\n",
      "\n",
      ">>> Finding TAO scoreboard...: 100%|███████████████████████████████████████████████| 14/14 [00:00<00:00, 1076.67it/s]\u001b[A\n",
      "\n",
      ">>> Finding TAO scoreboard...: 100%|███████████████████████████████████████████████| 14/14 [00:00<00:00, 1077.20it/s]\u001b[A\n",
      "\n",
      ">>> Finding TAO scoreboard...: 100%|███████████████████████████████████████████████| 14/14 [00:00<00:00, 1162.73it/s]\u001b[A\n",
      "\n",
      ">>> Finding TAO scoreboard...: 100%|███████████████████████████████████████████████| 14/14 [00:00<00:00, 1272.99it/s]\u001b[A\n",
      "\n",
      ">>> Finding TAO scoreboard...: 100%|███████████████████████████████████████████████| 14/14 [00:00<00:00, 1166.24it/s]\u001b[A\n",
      "\n",
      ">>> Finding TAO scoreboard...: 100%|███████████████████████████████████████████████| 14/14 [00:00<00:00, 1268.50it/s]\u001b[A\n",
      " 78%|█████████████████████████████████████████████████████████▌                | 1018/1310 [1:32:53<03:42,  1.31it/s]"
     ]
    },
    {
     "name": "stdout",
     "output_type": "stream",
     "text": [
      ">>>> #WARNING: No file found for: TAO scoreboard...\n",
      "[Errno 2] No such file or directory: 'D:/external_datasets/TAO/TAO_DIR/frames/train/YFCC100M/v_ae4c865e2aff9a1fd3435ac885b45c/frame0241.jpeg'\n",
      ">>>> #WARNING: No file found for: TAO scoreboard...\n",
      "[Errno 2] No such file or directory: 'D:/external_datasets/TAO/TAO_DIR/frames/train/YFCC100M/v_ae4c865e2aff9a1fd3435ac885b45c/frame0481.jpeg'\n",
      ">>>> #WARNING: No file found for: TAO scoreboard...\n",
      "[Errno 2] No such file or directory: 'D:/external_datasets/TAO/TAO_DIR/frames/train/YFCC100M/v_ae4c865e2aff9a1fd3435ac885b45c/frame0451.jpeg'\n",
      ">>>> #WARNING: No file found for: TAO scoreboard...\n",
      "[Errno 2] No such file or directory: 'D:/external_datasets/TAO/TAO_DIR/frames/train/YFCC100M/v_ae4c865e2aff9a1fd3435ac885b45c/frame0361.jpeg'\n",
      ">>>> #WARNING: No file found for: TAO scoreboard...\n",
      "[Errno 2] No such file or directory: 'D:/external_datasets/TAO/TAO_DIR/frames/train/YFCC100M/v_ae4c865e2aff9a1fd3435ac885b45c/frame0091.jpeg'\n",
      ">>>> #WARNING: No file found for: TAO scoreboard...\n",
      "[Errno 2] No such file or directory: 'D:/external_datasets/TAO/TAO_DIR/frames/train/YFCC100M/v_ae4c865e2aff9a1fd3435ac885b45c/frame1201.jpeg'\n",
      ">>>> #WARNING: No file found for: TAO scoreboard...\n",
      "[Errno 2] No such file or directory: 'D:/external_datasets/TAO/TAO_DIR/frames/train/YFCC100M/v_ae4c865e2aff9a1fd3435ac885b45c/frame0211.jpeg'\n",
      ">>>> #WARNING: No file found for: TAO scoreboard...\n",
      "[Errno 2] No such file or directory: 'D:/external_datasets/TAO/TAO_DIR/frames/train/YFCC100M/v_ae4c865e2aff9a1fd3435ac885b45c/frame0031.jpeg'\n",
      ">>>> #WARNING: No file found for: TAO scoreboard...\n",
      "[Errno 2] No such file or directory: 'D:/external_datasets/TAO/TAO_DIR/frames/train/YFCC100M/v_ae4c865e2aff9a1fd3435ac885b45c/frame0601.jpeg'\n",
      ">>>> #WARNING: No file found for: TAO scoreboard...\n",
      "\n",
      ">> scrambled_eggs...\n",
      ">>>> #WARNING scrambled_eggs is missing from json annotations\n",
      "annotations datasets:  []\n",
      "annotations imgids:  []\n",
      "annotations bbox:  []\n",
      "\n",
      ">> scraper...\n",
      "TAO\n"
     ]
    },
    {
     "name": "stderr",
     "output_type": "stream",
     "text": [
      "\n",
      ">>> Finding TAO scraper...:   0%|                                                            | 0/107 [00:00<?, ?it/s]\u001b[A\n"
     ]
    },
    {
     "name": "stdout",
     "output_type": "stream",
     "text": [
      "[Errno 2] No such file or directory: 'D:/external_datasets/TAO/TAO_DIR/frames/val/HACS/Plastering_v_RfoNQwyqvr8_scene_0_18-5165/frame1021.jpg'\n"
     ]
    },
    {
     "name": "stderr",
     "output_type": "stream",
     "text": [
      " 78%|█████████████████████████████████████████████████████████▌                | 1020/1310 [1:32:54<03:36,  1.34it/s]"
     ]
    },
    {
     "name": "stdout",
     "output_type": "stream",
     "text": [
      "\n",
      ">> scratcher...\n",
      ">>>> #WARNING scratcher is missing from json annotations\n",
      "annotations datasets:  []\n",
      "annotations imgids:  []\n",
      "annotations bbox:  []\n",
      "\n",
      ">> screwdriver...\n",
      "TAO\n"
     ]
    },
    {
     "name": "stderr",
     "output_type": "stream",
     "text": [
      " 78%|█████████████████████████████████████████████████████████▋                | 1022/1310 [1:32:54<02:48,  1.71it/s]\n",
      ">>> Finding TAO scrubbing_brush...:   0%|                                                    | 0/120 [00:00<?, ?it/s]\u001b[A\n"
     ]
    },
    {
     "name": "stdout",
     "output_type": "stream",
     "text": [
      "\n",
      ">> scrubbing_brush...\n",
      "TAO\n",
      "[Errno 2] No such file or directory: 'D:/external_datasets/TAO/TAO_DIR/frames/val/HACS/Polishing_forniture_v_rddydGwdUDk/frame1021.jpg'\n"
     ]
    },
    {
     "name": "stderr",
     "output_type": "stream",
     "text": [
      "\n",
      ">>> Finding TAO scrubbing_brush...:   1%|▎                                           | 1/120 [00:00<00:07, 16.14it/s]\u001b[A"
     ]
    },
    {
     "name": "stdout",
     "output_type": "stream",
     "text": [
      "[Errno 2] No such file or directory: 'D:/external_datasets/TAO/TAO_DIR/frames/val/HACS/Grooming_horse_v_XQxW_Zyhahg_scene_0_0-3209/frame1171.jpg'\n"
     ]
    },
    {
     "name": "stderr",
     "output_type": "stream",
     "text": [
      "\n",
      "\n",
      ">>> Finding TAO scrubbing_brush...:   2%|█                                           | 3/120 [00:00<00:02, 45.47it/s]\u001b[A"
     ]
    },
    {
     "name": "stdout",
     "output_type": "stream",
     "text": [
      "[Errno 2] No such file or directory: 'D:/external_datasets/TAO/TAO_DIR/frames/val/YFCC100M/v_2679deb09deb203ccb68dd832ac6572/frame1231.jpeg'\n",
      "[Errno 2] No such file or directory: 'D:/external_datasets/TAO/TAO_DIR/frames/val/YFCC100M/v_2679deb09deb203ccb68dd832ac6572/frame1411.jpeg'\n"
     ]
    },
    {
     "name": "stderr",
     "output_type": "stream",
     "text": [
      "\n",
      "\n",
      ">>> Finding TAO scrubbing_brush...:   3%|█▍                                          | 4/120 [00:00<00:02, 57.15it/s]\u001b[A\n",
      "\n",
      ">>> Finding TAO scrubbing_brush...:   4%|█▊                                          | 5/120 [00:00<00:01, 66.66it/s]\u001b[A\n",
      " 78%|█████████████████████████████████████████████████████████▊                | 1023/1310 [1:32:56<04:34,  1.04it/s]"
     ]
    },
    {
     "name": "stdout",
     "output_type": "stream",
     "text": [
      "[Errno 2] No such file or directory: 'D:/external_datasets/TAO/TAO_DIR/frames/val/YFCC100M/v_2679deb09deb203ccb68dd832ac6572/frame1081.jpeg'\n",
      "\n",
      ">> sculpture...\n",
      "TAO\n"
     ]
    },
    {
     "name": "stderr",
     "output_type": "stream",
     "text": [
      "\n",
      ">>> Finding TAO sculpture...:   0%|                                                          | 0/110 [00:00<?, ?it/s]\u001b[A"
     ]
    },
    {
     "name": "stdout",
     "output_type": "stream",
     "text": [
      "[Errno 2] No such file or directory: 'D:/external_datasets/TAO/TAO_DIR/frames/val/HACS/Polishing_forniture_v_rddydGwdUDk/frame1021.jpg'\n"
     ]
    },
    {
     "name": "stderr",
     "output_type": "stream",
     "text": [
      "\n",
      " 78%|█████████████████████████████████████████████████████████▊                | 1024/1310 [1:32:58<05:41,  1.19s/it]"
     ]
    },
    {
     "name": "stdout",
     "output_type": "stream",
     "text": [
      "\n",
      ">> seabird...\n",
      ">>>> #WARNING seabird is missing from json annotations\n",
      "annotations datasets:  []\n",
      "annotations imgids:  []\n",
      "annotations bbox:  []\n",
      "\n",
      ">> seahorse...\n",
      ">>>> #WARNING seahorse is missing from json annotations\n",
      "annotations datasets:  []\n",
      "annotations imgids:  []\n",
      "annotations bbox:  []\n",
      "\n",
      ">> seaplane...\n",
      ">>>> #WARNING seaplane is missing from json annotations\n",
      "annotations datasets:  []\n",
      "annotations imgids:  []\n",
      "annotations bbox:  []\n",
      "\n",
      ">> seashell...\n",
      ">>>> #WARNING seashell is missing from json annotations\n",
      "annotations datasets:  []\n",
      "annotations imgids:  []\n",
      "annotations bbox:  []\n",
      "\n",
      ">> seedling...\n",
      ">>>> #WARNING seedling is missing from json annotations\n",
      "annotations datasets:  []\n",
      "annotations imgids:  []\n",
      "annotations bbox:  []\n",
      "\n",
      ">> serving_dish...\n",
      ">>>> #WARNING serving_dish is missing from json annotations\n",
      "annotations datasets:  []\n",
      "annotations imgids:  []\n",
      "annotations bbox:  []\n",
      "\n",
      ">> sewing_machine...\n",
      ">>>> #WARNING sewing_machine is missing from json annotations\n",
      "annotations datasets:  []\n",
      "annotations imgids:  []\n",
      "annotations bbox:  []\n",
      "\n",
      ">> shaker...\n",
      "TAO\n"
     ]
    },
    {
     "name": "stderr",
     "output_type": "stream",
     "text": [
      " 79%|██████████████████████████████████████████████████████████▎               | 1032/1310 [1:32:59<04:07,  1.12it/s]"
     ]
    },
    {
     "name": "stdout",
     "output_type": "stream",
     "text": [
      "\n",
      ">> shampoo...\n",
      "TAO\n"
     ]
    },
    {
     "name": "stderr",
     "output_type": "stream",
     "text": [
      " 79%|██████████████████████████████████████████████████████████▎               | 1033/1310 [1:33:01<05:27,  1.18s/it]"
     ]
    },
    {
     "name": "stdout",
     "output_type": "stream",
     "text": [
      "\n",
      ">> shark...\n",
      "TAO\n"
     ]
    },
    {
     "name": "stderr",
     "output_type": "stream",
     "text": [
      " 79%|██████████████████████████████████████████████████████████▍               | 1034/1310 [1:33:03<05:48,  1.26s/it]"
     ]
    },
    {
     "name": "stdout",
     "output_type": "stream",
     "text": [
      "\n",
      ">> sharpener...\n",
      ">>>> #WARNING sharpener is missing from json annotations\n",
      "annotations datasets:  []\n",
      "annotations imgids:  []\n",
      "annotations bbox:  []\n",
      "\n",
      ">> Sharpie...\n",
      ">>>> #WARNING Sharpie is missing from json annotations\n",
      "annotations datasets:  []\n",
      "annotations imgids:  []\n",
      "annotations bbox:  []\n",
      "\n",
      ">> shaver_(electric)...\n",
      "TAO\n"
     ]
    },
    {
     "name": "stderr",
     "output_type": "stream",
     "text": [
      " 79%|██████████████████████████████████████████████████████████▌               | 1037/1310 [1:33:04<04:46,  1.05s/it]"
     ]
    },
    {
     "name": "stdout",
     "output_type": "stream",
     "text": [
      "\n",
      ">> shaving_cream...\n",
      ">>>> #WARNING shaving_cream is missing from json annotations\n",
      "annotations datasets:  []\n",
      "annotations imgids:  []\n",
      "annotations bbox:  []\n",
      "\n",
      ">> shawl...\n",
      "TAO\n"
     ]
    },
    {
     "name": "stderr",
     "output_type": "stream",
     "text": [
      " 79%|██████████████████████████████████████████████████████████▋               | 1039/1310 [1:33:06<04:20,  1.04it/s]"
     ]
    },
    {
     "name": "stdout",
     "output_type": "stream",
     "text": [
      "\n",
      ">> shears...\n",
      "TAO\n"
     ]
    },
    {
     "name": "stderr",
     "output_type": "stream",
     "text": [
      "\n",
      ">>> Finding TAO shears...:   5%|██▍                                                   | 1/22 [00:00<00:01, 12.50it/s]\u001b[A\n",
      "\n",
      ">>> Finding TAO shears...:   0%|                                                              | 0/22 [00:00<?, ?it/s]\u001b[A"
     ]
    },
    {
     "name": "stdout",
     "output_type": "stream",
     "text": [
      "[Errno 2] No such file or directory: 'D:/external_datasets/TAO/TAO_DIR/frames/train/HACS/Clipping_cat_claws_v_1mPd_3N5gNQ/frame1076.jpg'\n",
      "[Errno 2] No such file or directory: 'D:/external_datasets/TAO/TAO_DIR/frames/train/HACS/Clipping_cat_claws_v_1mPd_3N5gNQ/frame1301.jpg'\n"
     ]
    },
    {
     "name": "stderr",
     "output_type": "stream",
     "text": [
      ">>> Finding TAO shears...: 100%|████████████████████████████████████████████████████| 22/22 [00:00<00:00, 579.39it/s]\n"
     ]
    },
    {
     "name": "stdout",
     "output_type": "stream",
     "text": [
      ">>>> #WARNING: No file found for: TAO shears...\n"
     ]
    },
    {
     "name": "stderr",
     "output_type": "stream",
     "text": [
      "\n",
      ">>> Finding TAO shears...: 100%|████████████████████████████████████████████████████| 22/22 [00:00<00:00, 611.09it/s]\u001b[A\n",
      "\n",
      ">>> Finding TAO shears...: 100%|████████████████████████████████████████████████████| 22/22 [00:00<00:00, 579.29it/s]\u001b[A\n",
      "\n",
      ">>> Finding TAO shears...: 100%|████████████████████████████████████████████████████| 22/22 [00:00<00:00, 687.54it/s]\u001b[A"
     ]
    },
    {
     "name": "stdout",
     "output_type": "stream",
     "text": [
      "[Errno 2] No such file or directory: 'D:/external_datasets/TAO/TAO_DIR/frames/train/HACS/Clipping_cat_claws_v_1mPd_3N5gNQ/frame1501.jpg'\n",
      ">>>> #WARNING: No file found for: TAO shears...\n",
      "[Errno 2] No such file or directory: 'D:/external_datasets/TAO/TAO_DIR/frames/train/HACS/Clipping_cat_claws_v_1mPd_3N5gNQ/frame1451.jpg'\n",
      ">>>> #WARNING: No file found for: TAO shears...\n",
      "[Errno 2] No such file or directory: 'D:/external_datasets/TAO/TAO_DIR/frames/train/HACS/Clipping_cat_claws_v_1mPd_3N5gNQ/frame1476.jpg'\n",
      ">>>> #WARNING: No file found for: TAO shears...\n"
     ]
    },
    {
     "name": "stderr",
     "output_type": "stream",
     "text": [
      "\n",
      " 79%|██████████████████████████████████████████████████████████▋               | 1040/1310 [1:33:07<05:03,  1.12s/it]"
     ]
    },
    {
     "name": "stdout",
     "output_type": "stream",
     "text": [
      "\n",
      ">> sheep...\n",
      "TAO\n"
     ]
    },
    {
     "name": "stderr",
     "output_type": "stream",
     "text": [
      "\n",
      ">>> Finding TAO sheep...:   0%|                                                             | 0/1388 [00:00<?, ?it/s]\u001b[A"
     ]
    },
    {
     "name": "stdout",
     "output_type": "stream",
     "text": [
      "[Errno 2] No such file or directory: 'D:/external_datasets/TAO/TAO_DIR/frames/val/YFCC100M/v_b85bf1321a40f6cee0c6537fdf7d51d3/frame0991.jpg'\n"
     ]
    },
    {
     "name": "stderr",
     "output_type": "stream",
     "text": [
      "\n",
      " 79%|██████████████████████████████████████████████████████████▊               | 1041/1310 [1:33:09<05:38,  1.26s/it]"
     ]
    },
    {
     "name": "stdout",
     "output_type": "stream",
     "text": [
      "\n",
      ">> shepherd_dog...\n",
      ">>>> #WARNING shepherd_dog is missing from json annotations\n",
      "annotations datasets:  []\n",
      "annotations imgids:  []\n",
      "annotations bbox:  []\n",
      "\n",
      ">> sherbert...\n",
      ">>>> #WARNING sherbert is missing from json annotations\n",
      "annotations datasets:  []\n",
      "annotations imgids:  []\n",
      "annotations bbox:  []\n",
      "\n",
      ">> shield...\n",
      ">>>> #WARNING shield is missing from json annotations\n",
      "annotations datasets:  []\n",
      "annotations imgids:  []\n",
      "annotations bbox:  []\n",
      "\n",
      ">> shirt...\n",
      "TAO\n"
     ]
    },
    {
     "name": "stderr",
     "output_type": "stream",
     "text": [
      " 80%|███████████████████████████████████████████████████████████               | 1045/1310 [1:33:11<04:26,  1.01s/it]"
     ]
    },
    {
     "name": "stdout",
     "output_type": "stream",
     "text": [
      "\n",
      ">> shoe...\n",
      "TAO\n"
     ]
    },
    {
     "name": "stderr",
     "output_type": "stream",
     "text": [
      "\n",
      ">>> Finding TAO shoe...:   0%|▏                                                      | 1/310 [00:00<00:24, 12.81it/s]\u001b[A"
     ]
    },
    {
     "name": "stdout",
     "output_type": "stream",
     "text": [
      "[Errno 2] No such file or directory: 'D:/external_datasets/TAO/TAO_DIR/frames/val/Charades/S3TR3/frame1141.jpg'\n"
     ]
    },
    {
     "name": "stderr",
     "output_type": "stream",
     "text": [
      "\n",
      "\n",
      ">>> Finding TAO shoe...:   0%|                                                               | 0/310 [00:00<?, ?it/s]\u001b[A"
     ]
    },
    {
     "name": "stdout",
     "output_type": "stream",
     "text": [
      "[Errno 2] No such file or directory: 'D:/external_datasets/TAO/TAO_DIR/frames/val/HACS/Cleaning_shoes_v_2XkKhZrXrm4/frame1426.jpg'\n"
     ]
    },
    {
     "name": "stderr",
     "output_type": "stream",
     "text": [
      ">>> Finding TAO shoe...:   1%|▎                                                      | 2/310 [00:00<00:53,  5.81it/s]\n",
      "\n",
      ">>> Finding TAO shoe...:   1%|▌                                                     | 3/310 [00:00<00:01, 176.67it/s]\u001b[A\n"
     ]
    },
    {
     "name": "stdout",
     "output_type": "stream",
     "text": [
      "[Errno 2] No such file or directory: 'D:/external_datasets/TAO/TAO_DIR/frames/val/Charades/S3TR3/frame1201.jpg'\n"
     ]
    },
    {
     "name": "stderr",
     "output_type": "stream",
     "text": [
      " 80%|███████████████████████████████████████████████████████████               | 1046/1310 [1:33:13<05:32,  1.26s/it]"
     ]
    },
    {
     "name": "stdout",
     "output_type": "stream",
     "text": [
      "\n",
      ">> shopping_bag...\n",
      ">>>> #WARNING shopping_bag is missing from json annotations\n",
      "annotations datasets:  []\n",
      "annotations imgids:  []\n",
      "annotations bbox:  []\n",
      "\n",
      ">> shopping_cart...\n",
      ">>>> #WARNING shopping_cart is missing from json annotations\n",
      "annotations datasets:  []\n",
      "annotations imgids:  []\n",
      "annotations bbox:  []\n",
      "\n",
      ">> short_pants...\n",
      "TAO\n"
     ]
    },
    {
     "name": "stderr",
     "output_type": "stream",
     "text": [
      " 80%|███████████████████████████████████████████████████████████▎              | 1049/1310 [1:33:13<04:14,  1.02it/s]"
     ]
    },
    {
     "name": "stdout",
     "output_type": "stream",
     "text": [
      "\n",
      ">> shot_glass...\n",
      ">>>> #WARNING shot_glass is missing from json annotations\n",
      "annotations datasets:  []\n",
      "annotations imgids:  []\n",
      "annotations bbox:  []\n",
      "\n",
      ">> shoulder_bag...\n",
      "TAO\n"
     ]
    },
    {
     "name": "stderr",
     "output_type": "stream",
     "text": [
      "\n",
      ">>> Finding TAO shoulder_bag...:   0%|                                                        | 0/81 [00:00<?, ?it/s]\u001b[A\n",
      "\n",
      ">>> Finding TAO shoulder_bag...:   0%|                                                        | 0/81 [00:00<?, ?it/s]\u001b[A"
     ]
    },
    {
     "name": "stdout",
     "output_type": "stream",
     "text": [
      "[Errno 2] No such file or directory: 'D:/external_datasets/TAO/TAO_DIR/frames/val/AVA/keUOiCcHtoQ_scene_14_63540-65746/frame1576.jpg'\n",
      "[Errno 2] No such file or directory: 'D:/external_datasets/TAO/TAO_DIR/frames/val/AVA/keUOiCcHtoQ_scene_14_63540-65746/frame1501.jpg'\n"
     ]
    },
    {
     "name": "stderr",
     "output_type": "stream",
     "text": [
      ">>> Finding TAO shoulder_bag...:   1%|▌                                               | 1/81 [00:00<00:06, 12.99it/s]\n",
      " 80%|███████████████████████████████████████████████████████████▎              | 1051/1310 [1:33:16<04:24,  1.02s/it]"
     ]
    },
    {
     "name": "stdout",
     "output_type": "stream",
     "text": [
      "\n",
      ">> shovel...\n",
      "TAO\n"
     ]
    },
    {
     "name": "stderr",
     "output_type": "stream",
     "text": [
      " 80%|███████████████████████████████████████████████████████████▍              | 1052/1310 [1:33:18<05:22,  1.25s/it]"
     ]
    },
    {
     "name": "stdout",
     "output_type": "stream",
     "text": [
      "\n",
      ">> shower_head...\n",
      ">>>> #WARNING shower_head is missing from json annotations\n",
      "annotations datasets:  []\n",
      "annotations imgids:  []\n",
      "annotations bbox:  []\n",
      "\n",
      ">> shower_curtain...\n",
      ">>>> #WARNING shower_curtain is missing from json annotations\n",
      "annotations datasets:  []\n",
      "annotations imgids:  []\n",
      "annotations bbox:  []\n",
      "\n",
      ">> shredder_(for_paper)...\n",
      ">>>> #WARNING shredder_(for_paper) is missing from json annotations\n",
      "annotations datasets:  []\n",
      "annotations imgids:  []\n",
      "annotations bbox:  []\n",
      "\n",
      ">> sieve...\n",
      "TAO\n"
     ]
    },
    {
     "name": "stderr",
     "output_type": "stream",
     "text": [
      " 81%|███████████████████████████████████████████████████████████▋              | 1056/1310 [1:33:19<04:13,  1.00it/s]"
     ]
    },
    {
     "name": "stdout",
     "output_type": "stream",
     "text": [
      "\n",
      ">> signboard...\n",
      ">>>> #WARNING signboard is missing from json annotations\n",
      "annotations datasets:  []\n",
      "annotations imgids:  []\n",
      "annotations bbox:  []\n",
      "\n",
      ">> silo...\n",
      ">>>> #WARNING silo is missing from json annotations\n",
      "annotations datasets:  []\n",
      "annotations imgids:  []\n",
      "annotations bbox:  []\n",
      "\n",
      ">> sink...\n",
      ">>>> #WARNING sink is missing from json annotations\n",
      "annotations datasets:  []\n",
      "annotations imgids:  []\n",
      "annotations bbox:  []\n",
      "\n",
      ">> skateboard...\n",
      "TAO\n"
     ]
    },
    {
     "name": "stderr",
     "output_type": "stream",
     "text": [
      " 81%|███████████████████████████████████████████████████████████▉              | 1060/1310 [1:33:21<03:27,  1.20it/s]"
     ]
    },
    {
     "name": "stdout",
     "output_type": "stream",
     "text": [
      "\n",
      ">> skewer...\n",
      ">>>> #WARNING skewer is missing from json annotations\n",
      "annotations datasets:  []\n",
      "annotations imgids:  []\n",
      "annotations bbox:  []\n",
      "\n",
      ">> ski...\n",
      "TAO\n"
     ]
    },
    {
     "name": "stderr",
     "output_type": "stream",
     "text": [
      "\n",
      ">>> Finding TAO ski...:   1%|▋                                                        | 1/80 [00:00<00:01, 52.53it/s]\u001b[A"
     ]
    },
    {
     "name": "stdout",
     "output_type": "stream",
     "text": [
      "[Errno 2] No such file or directory: 'D:/external_datasets/TAO/TAO_DIR/frames/train/HACS/Skiing_v_HtaNMyVa260_scene_0_99-1308/frame1171.jpg'\n"
     ]
    },
    {
     "name": "stderr",
     "output_type": "stream",
     "text": [
      "\n",
      "\n",
      ">>> Finding TAO ski...:   2%|█▍                                                       | 2/80 [00:00<00:03, 22.22it/s]\u001b[A"
     ]
    },
    {
     "name": "stdout",
     "output_type": "stream",
     "text": [
      "[Errno 2] No such file or directory: 'D:/external_datasets/TAO/TAO_DIR/frames/train/HACS/Skiing_v_HtaNMyVa260_scene_0_99-1308/frame0991.jpg'\n"
     ]
    },
    {
     "name": "stderr",
     "output_type": "stream",
     "text": [
      "\n",
      " 81%|███████████████████████████████████████████████████████████▉              | 1062/1310 [1:33:23<03:28,  1.19it/s]"
     ]
    },
    {
     "name": "stdout",
     "output_type": "stream",
     "text": [
      "\n",
      ">> ski_boot...\n",
      ">>>> #WARNING ski_boot is missing from json annotations\n",
      "annotations datasets:  []\n",
      "annotations imgids:  []\n",
      "annotations bbox:  []\n",
      "\n",
      ">> ski_parka...\n",
      ">>>> #WARNING ski_parka is missing from json annotations\n",
      "annotations datasets:  []\n",
      "annotations imgids:  []\n",
      "annotations bbox:  []\n",
      "\n",
      ">> ski_pole...\n",
      "TAO\n"
     ]
    },
    {
     "name": "stderr",
     "output_type": "stream",
     "text": [
      "\n",
      ">>> Finding TAO ski_pole...:  31%|███████████████▊                                   | 9/29 [00:00<00:00, 179.99it/s]\u001b[A"
     ]
    },
    {
     "name": "stdout",
     "output_type": "stream",
     "text": [
      "[Errno 2] No such file or directory: 'D:/external_datasets/TAO/TAO_DIR/frames/val/YFCC100M/v_4820d24fe4c4cb43cb3efabfca5d26e/frame1021.jpg'\n"
     ]
    },
    {
     "name": "stderr",
     "output_type": "stream",
     "text": [
      "\n",
      "\n",
      ">>> Finding TAO ski_pole...:  34%|█████████████████▏                                | 10/29 [00:00<00:00, 161.20it/s]\u001b[A\n",
      " 81%|████████████████████████████████████████████████████████████▏             | 1065/1310 [1:33:24<02:55,  1.39it/s]"
     ]
    },
    {
     "name": "stdout",
     "output_type": "stream",
     "text": [
      "[Errno 2] No such file or directory: 'D:/external_datasets/TAO/TAO_DIR/frames/train/HACS/Skiing_v_HtaNMyVa260_scene_0_99-1308/frame0991.jpg'\n",
      "\n",
      ">> skirt...\n",
      "TAO\n"
     ]
    },
    {
     "name": "stderr",
     "output_type": "stream",
     "text": [
      " 81%|████████████████████████████████████████████████████████████▏             | 1066/1310 [1:33:26<03:58,  1.02it/s]"
     ]
    },
    {
     "name": "stdout",
     "output_type": "stream",
     "text": [
      "\n",
      ">> sled...\n",
      "TAO\n"
     ]
    },
    {
     "name": "stderr",
     "output_type": "stream",
     "text": [
      " 81%|████████████████████████████████████████████████████████████▎             | 1067/1310 [1:33:27<04:42,  1.16s/it]"
     ]
    },
    {
     "name": "stdout",
     "output_type": "stream",
     "text": [
      "\n",
      ">> sleeping_bag...\n",
      ">>>> #WARNING sleeping_bag is missing from json annotations\n",
      "annotations datasets:  []\n",
      "annotations imgids:  []\n",
      "annotations bbox:  []\n",
      "\n",
      ">> sling_(bandage)...\n",
      ">>>> #WARNING sling_(bandage) is missing from json annotations\n",
      "annotations datasets:  []\n",
      "annotations imgids:  []\n",
      "annotations bbox:  []\n",
      "\n",
      ">> slipper_(footwear)...\n",
      "TAO\n"
     ]
    },
    {
     "name": "stderr",
     "output_type": "stream",
     "text": [
      " 82%|████████████████████████████████████████████████████████████▍             | 1070/1310 [1:33:29<04:07,  1.03s/it]"
     ]
    },
    {
     "name": "stdout",
     "output_type": "stream",
     "text": [
      "\n",
      ">> smoothie...\n",
      ">>>> #WARNING smoothie is missing from json annotations\n",
      "annotations datasets:  []\n",
      "annotations imgids:  []\n",
      "annotations bbox:  []\n",
      "\n",
      ">> snake...\n",
      ">>>> #WARNING snake is missing from json annotations\n",
      "annotations datasets:  []\n",
      "annotations imgids:  []\n",
      "annotations bbox:  []\n",
      "\n",
      ">> snowboard...\n",
      ">>>> #WARNING snowboard is missing from json annotations\n",
      "annotations datasets:  []\n",
      "annotations imgids:  []\n",
      "annotations bbox:  []\n",
      "\n",
      ">> snowman...\n",
      ">>>> #WARNING snowman is missing from json annotations\n",
      "annotations datasets:  []\n",
      "annotations imgids:  []\n",
      "annotations bbox:  []\n",
      "\n",
      ">> snowmobile...\n",
      ">>>> #WARNING snowmobile is missing from json annotations\n",
      "annotations datasets:  []\n",
      "annotations imgids:  []\n",
      "annotations bbox:  []\n",
      "\n",
      ">> soap...\n",
      "TAO\n"
     ]
    },
    {
     "name": "stderr",
     "output_type": "stream",
     "text": [
      " 82%|████████████████████████████████████████████████████████████▊             | 1076/1310 [1:33:30<03:01,  1.29it/s]"
     ]
    },
    {
     "name": "stdout",
     "output_type": "stream",
     "text": [
      "\n",
      ">> soccer_ball...\n",
      ">>>> #WARNING soccer_ball is missing from json annotations\n",
      "annotations datasets:  []\n",
      "annotations imgids:  []\n",
      "annotations bbox:  []\n",
      "\n",
      ">> sock...\n",
      ">>>> #WARNING sock is missing from json annotations\n",
      "annotations datasets:  []\n",
      "annotations imgids:  []\n",
      "annotations bbox:  []\n",
      "\n",
      ">> soda_fountain...\n",
      ">>>> #WARNING soda_fountain is missing from json annotations\n",
      "annotations datasets:  []\n",
      "annotations imgids:  []\n",
      "annotations bbox:  []\n",
      "\n",
      ">> carbonated_water...\n",
      ">>>> #WARNING carbonated_water is missing from json annotations\n",
      "annotations datasets:  []\n",
      "annotations imgids:  []\n",
      "annotations bbox:  []\n",
      "\n",
      ">> sofa...\n",
      "TAO\n"
     ]
    },
    {
     "name": "stderr",
     "output_type": "stream",
     "text": [
      "\n",
      ">>> Finding TAO sofa...:   0%|                                                                | 0/66 [00:00<?, ?it/s]\u001b[A"
     ]
    },
    {
     "name": "stdout",
     "output_type": "stream",
     "text": [
      "[Errno 2] No such file or directory: 'D:/external_datasets/TAO/TAO_DIR/frames/train/Charades/TQO6O/frame0991.jpg'\n"
     ]
    },
    {
     "name": "stderr",
     "output_type": "stream",
     "text": [
      "\n",
      " 83%|█████████████████████████████████████████████████████████████             | 1081/1310 [1:33:32<02:26,  1.56it/s]"
     ]
    },
    {
     "name": "stdout",
     "output_type": "stream",
     "text": [
      "\n",
      ">> softball...\n",
      ">>>> #WARNING softball is missing from json annotations\n",
      "annotations datasets:  []\n",
      "annotations imgids:  []\n",
      "annotations bbox:  []\n",
      "\n",
      ">> solar_array...\n",
      ">>>> #WARNING solar_array is missing from json annotations\n",
      "annotations datasets:  []\n",
      "annotations imgids:  []\n",
      "annotations bbox:  []\n",
      "\n",
      ">> sombrero...\n",
      ">>>> #WARNING sombrero is missing from json annotations\n",
      "annotations datasets:  []\n",
      "annotations imgids:  []\n",
      "annotations bbox:  []\n",
      "\n",
      ">> soup...\n",
      ">>>> #WARNING soup is missing from json annotations\n",
      "annotations datasets:  []\n",
      "annotations imgids:  []\n",
      "annotations bbox:  []\n",
      "\n",
      ">> soup_bowl...\n",
      ">>>> #WARNING soup_bowl is missing from json annotations\n",
      "annotations datasets:  []\n",
      "annotations imgids:  []\n",
      "annotations bbox:  []\n",
      "\n",
      ">> soupspoon...\n",
      ">>>> #WARNING soupspoon is missing from json annotations\n",
      "annotations datasets:  []\n",
      "annotations imgids:  []\n",
      "annotations bbox:  []\n",
      "\n",
      ">> sour_cream...\n",
      ">>>> #WARNING sour_cream is missing from json annotations\n",
      "annotations datasets:  []\n",
      "annotations imgids:  []\n",
      "annotations bbox:  []\n",
      "\n",
      ">> soya_milk...\n",
      ">>>> #WARNING soya_milk is missing from json annotations\n",
      "annotations datasets:  []\n",
      "annotations imgids:  []\n",
      "annotations bbox:  []\n",
      "\n",
      ">> space_shuttle...\n",
      ">>>> #WARNING space_shuttle is missing from json annotations\n",
      "annotations datasets:  []\n",
      "annotations imgids:  []\n",
      "annotations bbox:  []\n",
      "\n",
      ">> sparkler_(fireworks)...\n",
      ">>>> #WARNING sparkler_(fireworks) is missing from json annotations\n",
      "annotations datasets:  []\n",
      "annotations imgids:  []\n",
      "annotations bbox:  []\n",
      "\n",
      ">> spatula...\n",
      "TAO\n"
     ]
    },
    {
     "name": "stderr",
     "output_type": "stream",
     "text": [
      "\n",
      ">>> Finding TAO spatula...:   0%|                                                            | 0/201 [00:00<?, ?it/s]\u001b[A"
     ]
    },
    {
     "name": "stdout",
     "output_type": "stream",
     "text": [
      "[Errno 2] No such file or directory: 'D:/external_datasets/TAO/TAO_DIR/frames/val/YFCC100M/v_b4fbb0da6968177ee3d7f31aa3f6648/frame1051.jpg'\n"
     ]
    },
    {
     "name": "stderr",
     "output_type": "stream",
     "text": [
      "\n",
      "\n",
      ">>> Finding TAO spatula...:   0%|▎                                                   | 1/201 [00:00<00:14, 13.70it/s]\u001b[A"
     ]
    },
    {
     "name": "stdout",
     "output_type": "stream",
     "text": [
      "[Errno 2] No such file or directory: 'D:/external_datasets/TAO/TAO_DIR/frames/val/HACS/Removing_ice_from_car_v_Ybb57frsdKk_scene_0_0-4707/frame1051.jpg'\n"
     ]
    },
    {
     "name": "stderr",
     "output_type": "stream",
     "text": [
      "\n",
      " 83%|█████████████████████████████████████████████████████████████▋            | 1092/1310 [1:33:34<01:49,  1.99it/s]"
     ]
    },
    {
     "name": "stdout",
     "output_type": "stream",
     "text": [
      "\n",
      ">> spear...\n",
      ">>>> #WARNING spear is missing from json annotations\n",
      "annotations datasets:  []\n",
      "annotations imgids:  []\n",
      "annotations bbox:  []\n",
      "\n",
      ">> spectacles...\n",
      "TAO\n"
     ]
    },
    {
     "name": "stderr",
     "output_type": "stream",
     "text": [
      " 84%|█████████████████████████████████████████████████████████████▊            | 1094/1310 [1:33:36<02:17,  1.57it/s]"
     ]
    },
    {
     "name": "stdout",
     "output_type": "stream",
     "text": [
      "\n",
      ">> spice_rack...\n",
      ">>>> #WARNING spice_rack is missing from json annotations\n",
      "annotations datasets:  []\n",
      "annotations imgids:  []\n",
      "annotations bbox:  []\n",
      "\n",
      ">> spider...\n",
      "TAO\n"
     ]
    },
    {
     "name": "stderr",
     "output_type": "stream",
     "text": [
      " 84%|█████████████████████████████████████████████████████████████▉            | 1096/1310 [1:33:38<02:29,  1.43it/s]"
     ]
    },
    {
     "name": "stdout",
     "output_type": "stream",
     "text": [
      "\n",
      ">> sponge...\n",
      "TAO\n"
     ]
    },
    {
     "name": "stderr",
     "output_type": "stream",
     "text": [
      " 84%|█████████████████████████████████████████████████████████████▉            | 1097/1310 [1:33:40<03:50,  1.08s/it]"
     ]
    },
    {
     "name": "stdout",
     "output_type": "stream",
     "text": [
      "\n",
      ">> spoon...\n",
      "TAO\n"
     ]
    },
    {
     "name": "stderr",
     "output_type": "stream",
     "text": [
      "\n",
      ">>> Finding TAO spoon...:   0%|                                                              | 0/257 [00:00<?, ?it/s]\u001b[A"
     ]
    },
    {
     "name": "stdout",
     "output_type": "stream",
     "text": [
      "[Errno 2] No such file or directory: 'D:/external_datasets/TAO/TAO_DIR/frames/val/HACS/Making_a_lemonade_v_LWbt2xGpkJA_scene_0_0-1542/frame1141.jpg'\n"
     ]
    },
    {
     "name": "stderr",
     "output_type": "stream",
     "text": [
      "\n",
      " 84%|██████████████████████████████████████████████████████████████            | 1098/1310 [1:33:41<04:29,  1.27s/it]"
     ]
    },
    {
     "name": "stdout",
     "output_type": "stream",
     "text": [
      "\n",
      ">> sportswear...\n",
      ">>>> #WARNING sportswear is missing from json annotations\n",
      "annotations datasets:  []\n",
      "annotations imgids:  []\n",
      "annotations bbox:  []\n",
      "\n",
      ">> spotlight...\n",
      ">>>> #WARNING spotlight is missing from json annotations\n",
      "annotations datasets:  []\n",
      "annotations imgids:  []\n",
      "annotations bbox:  []\n",
      "\n",
      ">> squirrel...\n",
      "TAO\n"
     ]
    },
    {
     "name": "stderr",
     "output_type": "stream",
     "text": [
      " 84%|██████████████████████████████████████████████████████████████▏           | 1101/1310 [1:33:43<03:44,  1.07s/it]"
     ]
    },
    {
     "name": "stdout",
     "output_type": "stream",
     "text": [
      "\n",
      ">> stapler_(stapling_machine)...\n",
      ">>>> #WARNING stapler_(stapling_machine) is missing from json annotations\n",
      "annotations datasets:  []\n",
      "annotations imgids:  []\n",
      "annotations bbox:  []\n",
      "\n",
      ">> starfish...\n",
      ">>>> #WARNING starfish is missing from json annotations\n",
      "annotations datasets:  []\n",
      "annotations imgids:  []\n",
      "annotations bbox:  []\n",
      "\n",
      ">> statue_(sculpture)...\n",
      "TAO\n"
     ]
    },
    {
     "name": "stderr",
     "output_type": "stream",
     "text": [
      " 84%|██████████████████████████████████████████████████████████████▎           | 1104/1310 [1:33:46<03:30,  1.02s/it]"
     ]
    },
    {
     "name": "stdout",
     "output_type": "stream",
     "text": [
      "\n",
      ">> steak_(food)...\n",
      ">>>> #WARNING steak_(food) is missing from json annotations\n",
      "annotations datasets:  []\n",
      "annotations imgids:  []\n",
      "annotations bbox:  []\n",
      "\n",
      ">> steak_knife...\n",
      ">>>> #WARNING steak_knife is missing from json annotations\n",
      "annotations datasets:  []\n",
      "annotations imgids:  []\n",
      "annotations bbox:  []\n",
      "\n",
      ">> steamer_(kitchen_appliance)...\n",
      ">>>> #WARNING steamer_(kitchen_appliance) is missing from json annotations\n",
      "annotations datasets:  []\n",
      "annotations imgids:  []\n",
      "annotations bbox:  []\n",
      "\n",
      ">> steering_wheel...\n",
      "TAO\n"
     ]
    },
    {
     "name": "stderr",
     "output_type": "stream",
     "text": [
      " 85%|██████████████████████████████████████████████████████████████▌           | 1108/1310 [1:33:48<03:05,  1.09it/s]\n",
      ">>> Finding TAO step_stool...:   0%|                                                         | 0/409 [00:00<?, ?it/s]\u001b[A"
     ]
    },
    {
     "name": "stdout",
     "output_type": "stream",
     "text": [
      "\n",
      ">> stencil...\n",
      ">>>> #WARNING stencil is missing from json annotations\n",
      "annotations datasets:  []\n",
      "annotations imgids:  []\n",
      "annotations bbox:  []\n",
      "\n",
      ">> stepladder...\n",
      ">>>> #WARNING stepladder is missing from json annotations\n",
      "annotations datasets:  []\n",
      "annotations imgids:  []\n",
      "annotations bbox:  []\n",
      "\n",
      ">> step_stool...\n",
      "TAO\n",
      "[Errno 2] No such file or directory: 'D:/external_datasets/TAO/TAO_DIR/frames/val/HACS/Doing_step_aerobics_v_q4l5wyF46lU_scene_0_1460-6885/frame1171.jpg'\n"
     ]
    },
    {
     "name": "stderr",
     "output_type": "stream",
     "text": [
      ">>> Finding TAO step_stool...:   0%|                                                         | 0/409 [00:00<?, ?it/s]\n",
      "\n",
      ">>> Finding TAO step_stool...:   0%|                                                 | 1/409 [00:00<00:07, 55.58it/s]\u001b[A\n",
      " 85%|██████████████████████████████████████████████████████████████▊           | 1111/1310 [1:33:51<02:48,  1.18it/s]"
     ]
    },
    {
     "name": "stdout",
     "output_type": "stream",
     "text": [
      "[Errno 2] No such file or directory: 'D:/external_datasets/TAO/TAO_DIR/frames/val/HACS/Doing_step_aerobics_v_q4l5wyF46lU_scene_0_1460-6885/frame1051.jpg'\n",
      "\n",
      ">> stereo_(sound_system)...\n",
      ">>>> #WARNING stereo_(sound_system) is missing from json annotations\n",
      "annotations datasets:  []\n",
      "annotations imgids:  []\n",
      "annotations bbox:  []\n",
      "\n",
      ">> stew...\n",
      ">>>> #WARNING stew is missing from json annotations\n",
      "annotations datasets:  []\n",
      "annotations imgids:  []\n",
      "annotations bbox:  []\n",
      "\n",
      ">> stirrer...\n",
      ">>>> #WARNING stirrer is missing from json annotations\n",
      "annotations datasets:  []\n",
      "annotations imgids:  []\n",
      "annotations bbox:  []\n",
      "\n",
      ">> stirrup...\n",
      ">>>> #WARNING stirrup is missing from json annotations\n",
      "annotations datasets:  []\n",
      "annotations imgids:  []\n",
      "annotations bbox:  []\n",
      "\n",
      ">> stockings_(leg_wear)...\n",
      ">>>> #WARNING stockings_(leg_wear) is missing from json annotations\n",
      "annotations datasets:  []\n",
      "annotations imgids:  []\n",
      "annotations bbox:  []\n",
      "\n",
      ">> stool...\n",
      "TAO\n"
     ]
    },
    {
     "name": "stderr",
     "output_type": "stream",
     "text": [
      "\n",
      ">>> Finding TAO stool...:   0%|                                                               | 0/60 [00:00<?, ?it/s]\u001b[A"
     ]
    },
    {
     "name": "stdout",
     "output_type": "stream",
     "text": [
      "[Errno 2] No such file or directory: 'D:/external_datasets/TAO/TAO_DIR/frames/val/AVA/Ic0LMbDyc9Y_scene_7_61166-62253/frame0985.jpg'\n"
     ]
    },
    {
     "name": "stderr",
     "output_type": "stream",
     "text": [
      "\n",
      " 85%|███████████████████████████████████████████████████████████████           | 1117/1310 [1:33:53<02:16,  1.41it/s]"
     ]
    },
    {
     "name": "stdout",
     "output_type": "stream",
     "text": [
      "\n",
      ">> stop_sign...\n",
      ">>>> #WARNING stop_sign is missing from json annotations\n",
      "annotations datasets:  []\n",
      "annotations imgids:  []\n",
      "annotations bbox:  []\n",
      "\n",
      ">> brake_light...\n",
      ">>>> #WARNING brake_light is missing from json annotations\n",
      "annotations datasets:  []\n",
      "annotations imgids:  []\n",
      "annotations bbox:  []\n",
      "\n",
      ">> stove...\n",
      "TAO\n"
     ]
    },
    {
     "name": "stderr",
     "output_type": "stream",
     "text": [
      " 85%|███████████████████████████████████████████████████████████████▎          | 1120/1310 [1:33:55<02:07,  1.50it/s]"
     ]
    },
    {
     "name": "stdout",
     "output_type": "stream",
     "text": [
      "\n",
      ">> strainer...\n",
      ">>>> #WARNING strainer is missing from json annotations\n",
      "annotations datasets:  []\n",
      "annotations imgids:  []\n",
      "annotations bbox:  []\n",
      "\n",
      ">> strap...\n",
      ">>>> #WARNING strap is missing from json annotations\n",
      "annotations datasets:  []\n",
      "annotations imgids:  []\n",
      "annotations bbox:  []\n",
      "\n",
      ">> straw_(for_drinking)...\n",
      "TAO\n"
     ]
    },
    {
     "name": "stderr",
     "output_type": "stream",
     "text": [
      " 86%|███████████████████████████████████████████████████████████████▍          | 1123/1310 [1:33:57<02:18,  1.35it/s]\n",
      ">>> Finding TAO street_sign...: 100%|██████████████████████████████████████████████| 16/16 [00:00<00:00, 1142.96it/s]\u001b[A\n",
      "\n",
      ">>> Finding TAO street_sign...: 100%|███████████████████████████████████████████████| 16/16 [00:00<00:00, 939.47it/s]\u001b[A\n",
      "\n",
      ">>> Finding TAO street_sign...: 100%|███████████████████████████████████████████████| 16/16 [00:00<00:00, 998.99it/s]\u001b[A\n",
      "\n",
      ">>> Finding TAO street_sign...: 100%|███████████████████████████████████████████████| 16/16 [00:00<00:00, 799.80it/s]\u001b[A\n",
      "\n",
      ">>> Finding TAO street_sign...: 100%|██████████████████████████████████████████████| 16/16 [00:00<00:00, 1000.65it/s]\u001b[A\n",
      "\n",
      ">>> Finding TAO street_sign...: 100%|██████████████████████████████████████████████| 16/16 [00:00<00:00, 1000.48it/s]\u001b[A\n",
      "\n",
      ">>> Finding TAO street_sign...: 100%|███████████████████████████████████████████████| 16/16 [00:00<00:00, 997.26it/s]\u001b[A\n",
      "\n",
      ">>> Finding TAO street_sign...:   0%|                                                         | 0/16 [00:00<?, ?it/s]\u001b[A"
     ]
    },
    {
     "name": "stdout",
     "output_type": "stream",
     "text": [
      "\n",
      ">> strawberry...\n",
      ">>>> #WARNING strawberry is missing from json annotations\n",
      "annotations datasets:  []\n",
      "annotations imgids:  []\n",
      "annotations bbox:  []\n",
      "\n",
      ">> street_sign...\n",
      "TAO\n",
      "[Errno 2] No such file or directory: 'D:/external_datasets/TAO/TAO_DIR/frames/train/ArgoVerse/side_right_a64c1df5-9ad2-3f9e-9117-83ef0f8f3072/ring_side_right_315972631029636696.jpg'\n",
      ">>>> #WARNING: No file found for: TAO street_sign...\n",
      "[Errno 2] No such file or directory: 'D:/external_datasets/TAO/TAO_DIR/frames/train/ArgoVerse/side_right_a64c1df5-9ad2-3f9e-9117-83ef0f8f3072/ring_side_right_315972634026636200.jpg'\n",
      ">>>> #WARNING: No file found for: TAO street_sign...\n",
      "[Errno 2] No such file or directory: 'D:/external_datasets/TAO/TAO_DIR/frames/train/ArgoVerse/side_right_a64c1df5-9ad2-3f9e-9117-83ef0f8f3072/ring_side_right_315972627033637824.jpg'\n",
      ">>>> #WARNING: No file found for: TAO street_sign...\n",
      "[Errno 2] No such file or directory: 'D:/external_datasets/TAO/TAO_DIR/frames/train/ArgoVerse/side_right_a64c1df5-9ad2-3f9e-9117-83ef0f8f3072/ring_side_right_315972633027638360.jpg'\n",
      ">>>> #WARNING: No file found for: TAO street_sign...\n",
      "[Errno 2] No such file or directory: 'D:/external_datasets/TAO/TAO_DIR/frames/train/ArgoVerse/side_right_a64c1df5-9ad2-3f9e-9117-83ef0f8f3072/ring_side_right_315972635025636936.jpg'\n",
      ">>>> #WARNING: No file found for: TAO street_sign...\n",
      "[Errno 2] No such file or directory: 'D:/external_datasets/TAO/TAO_DIR/frames/train/ArgoVerse/side_right_a64c1df5-9ad2-3f9e-9117-83ef0f8f3072/ring_side_right_315972626034637040.jpg'\n",
      ">>>> #WARNING: No file found for: TAO street_sign...\n",
      "[Errno 2] No such file or directory: 'D:/external_datasets/TAO/TAO_DIR/frames/train/ArgoVerse/side_right_a64c1df5-9ad2-3f9e-9117-83ef0f8f3072/ring_side_right_315972639021640496.jpg'\n",
      ">>>> #WARNING: No file found for: TAO street_sign...\n",
      "[Errno 2] No such file or directory: 'D:/external_datasets/TAO/TAO_DIR/frames/train/ArgoVerse/side_right_a64c1df5-9ad2-3f9e-9117-83ef0f8f3072/ring_side_right_315972630030638656.jpg'\n"
     ]
    },
    {
     "name": "stderr",
     "output_type": "stream",
     "text": [
      ">>> Finding TAO street_sign...: 100%|███████████████████████████████████████████████| 16/16 [00:00<00:00, 997.52it/s]\n",
      "\n",
      ">>> Finding TAO street_sign...: 100%|███████████████████████████████████████████████| 16/16 [00:00<00:00, 888.85it/s]\u001b[A\n",
      "\n",
      ">>> Finding TAO street_sign...: 100%|██████████████████████████████████████████████| 16/16 [00:00<00:00, 1067.25it/s]\u001b[A\n",
      " 86%|███████████████████████████████████████████████████████████████▌          | 1125/1310 [1:33:58<01:42,  1.80it/s]"
     ]
    },
    {
     "name": "stdout",
     "output_type": "stream",
     "text": [
      ">>>> #WARNING: No file found for: TAO street_sign...\n",
      "[Errno 2] No such file or directory: 'D:/external_datasets/TAO/TAO_DIR/frames/train/ArgoVerse/side_right_a64c1df5-9ad2-3f9e-9117-83ef0f8f3072/ring_side_right_315972636024639224.jpg'\n",
      ">>>> #WARNING: No file found for: TAO street_sign...\n",
      "[Errno 2] No such file or directory: 'D:/external_datasets/TAO/TAO_DIR/frames/train/ArgoVerse/side_right_a64c1df5-9ad2-3f9e-9117-83ef0f8f3072/ring_side_right_315972638022636704.jpg'\n",
      ">>>> #WARNING: No file found for: TAO street_sign...\n",
      "\n",
      ">> streetlight...\n",
      ">>>> #WARNING streetlight is missing from json annotations\n",
      "annotations datasets:  []\n",
      "annotations imgids:  []\n",
      "annotations bbox:  []\n",
      "\n",
      ">> string_cheese...\n",
      ">>>> #WARNING string_cheese is missing from json annotations\n",
      "annotations datasets:  []\n",
      "annotations imgids:  []\n",
      "annotations bbox:  []\n",
      "\n",
      ">> stylus...\n",
      ">>>> #WARNING stylus is missing from json annotations\n",
      "annotations datasets:  []\n",
      "annotations imgids:  []\n",
      "annotations bbox:  []\n",
      "\n",
      ">> subwoofer...\n",
      ">>>> #WARNING subwoofer is missing from json annotations\n",
      "annotations datasets:  []\n",
      "annotations imgids:  []\n",
      "annotations bbox:  []\n",
      "\n",
      ">> sugar_bowl...\n",
      "TAO\n"
     ]
    },
    {
     "name": "stderr",
     "output_type": "stream",
     "text": [
      "\n",
      ">>> Finding TAO sugar_bowl...:   6%|███▏                                              | 1/16 [00:00<00:01, 10.00it/s]\u001b[A"
     ]
    },
    {
     "name": "stdout",
     "output_type": "stream",
     "text": [
      "[Errno 2] No such file or directory: 'D:/external_datasets/TAO/TAO_DIR/frames/val/AVA/J4bt4y9ShTA_scene_8_41065-42264/frame1051.jpg'\n"
     ]
    },
    {
     "name": "stderr",
     "output_type": "stream",
     "text": [
      "\n",
      "\n",
      ">>> Finding TAO sugar_bowl...:  19%|█████████▍                                        | 3/16 [00:00<00:00, 45.45it/s]\u001b[A"
     ]
    },
    {
     "name": "stdout",
     "output_type": "stream",
     "text": [
      "[Errno 2] No such file or directory: 'D:/external_datasets/TAO/TAO_DIR/frames/val/AVA/J4bt4y9ShTA_scene_8_41065-42264/frame1076.jpg'\n"
     ]
    },
    {
     "name": "stderr",
     "output_type": "stream",
     "text": [
      "\n",
      "\n",
      ">>> Finding TAO sugar_bowl...:  31%|███████████████▋                                  | 5/16 [00:00<00:00, 60.27it/s]\u001b[A"
     ]
    },
    {
     "name": "stdout",
     "output_type": "stream",
     "text": [
      "[Errno 2] No such file or directory: 'D:/external_datasets/TAO/TAO_DIR/frames/val/AVA/J4bt4y9ShTA_scene_8_41065-42264/frame1026.jpg'\n"
     ]
    },
    {
     "name": "stderr",
     "output_type": "stream",
     "text": [
      "\n",
      " 86%|███████████████████████████████████████████████████████████████▊          | 1130/1310 [1:34:01<01:43,  1.74it/s]"
     ]
    },
    {
     "name": "stdout",
     "output_type": "stream",
     "text": [
      "\n",
      ">> sugarcane_(plant)...\n",
      ">>>> #WARNING sugarcane_(plant) is missing from json annotations\n",
      "annotations datasets:  []\n",
      "annotations imgids:  []\n",
      "annotations bbox:  []\n",
      "\n",
      ">> suit_(clothing)...\n",
      ">>>> #WARNING suit_(clothing) is missing from json annotations\n",
      "annotations datasets:  []\n",
      "annotations imgids:  []\n",
      "annotations bbox:  []\n",
      "\n",
      ">> sunflower...\n",
      ">>>> #WARNING sunflower is missing from json annotations\n",
      "annotations datasets:  []\n",
      "annotations imgids:  []\n",
      "annotations bbox:  []\n",
      "\n",
      ">> sunglasses...\n",
      "TAO\n"
     ]
    },
    {
     "name": "stderr",
     "output_type": "stream",
     "text": [
      "\n",
      ">>> Finding TAO sunglasses...:  14%|██████▍                                         | 10/74 [00:00<00:00, 104.14it/s]\u001b[A"
     ]
    },
    {
     "name": "stdout",
     "output_type": "stream",
     "text": [
      "[Errno 2] No such file or directory: 'D:/external_datasets/TAO/TAO_DIR/frames/val/AVA/4Y5qi1gD2Sw_scene_7_114751-116198/frame1201.jpg'\n"
     ]
    },
    {
     "name": "stderr",
     "output_type": "stream",
     "text": [
      "\n",
      "\n",
      ">>> Finding TAO sunglasses...:  15%|███████▎                                         | 11/74 [00:00<00:00, 99.07it/s]\u001b[A"
     ]
    },
    {
     "name": "stdout",
     "output_type": "stream",
     "text": [
      "[Errno 2] No such file or directory: 'D:/external_datasets/TAO/TAO_DIR/frames/val/AVA/4Y5qi1gD2Sw_scene_7_114751-116198/frame1231.jpg'\n"
     ]
    },
    {
     "name": "stderr",
     "output_type": "stream",
     "text": [
      "\n",
      "\n",
      ">>> Finding TAO sunglasses...:  16%|███████▊                                        | 12/74 [00:00<00:00, 107.10it/s]\u001b[A"
     ]
    },
    {
     "name": "stdout",
     "output_type": "stream",
     "text": [
      "[Errno 2] No such file or directory: 'D:/external_datasets/TAO/TAO_DIR/frames/val/AVA/AYebXQ8eUkM_scene_4_45903-47047/frame1001.jpg'\n"
     ]
    },
    {
     "name": "stderr",
     "output_type": "stream",
     "text": [
      "\n",
      " 87%|████████████████████████████████████████████████████████████████          | 1134/1310 [1:34:04<01:50,  1.59it/s]\n",
      ">>> Finding TAO sunscreen...: 100%|█████████████████████████████████████████████████| 36/36 [00:00<00:00, 444.42it/s]\u001b[A\n",
      "\n",
      ">>> Finding TAO sunscreen...: 100%|█████████████████████████████████████████████████| 36/36 [00:00<00:00, 439.10it/s]\u001b[A"
     ]
    },
    {
     "name": "stdout",
     "output_type": "stream",
     "text": [
      "\n",
      ">> sunhat...\n",
      ">>>> #WARNING sunhat is missing from json annotations\n",
      "annotations datasets:  []\n",
      "annotations imgids:  []\n",
      "annotations bbox:  []\n",
      "\n",
      ">> sunscreen...\n",
      "TAO\n",
      "[Errno 2] No such file or directory: 'D:/external_datasets/TAO/TAO_DIR/frames/train/HACS/Applying_sunscreen_v_pI8tpZLBcFk/frame1489.jpg'\n",
      ">>>> #WARNING: No file found for: TAO sunscreen...\n",
      "[Errno 2] No such file or directory: 'D:/external_datasets/TAO/TAO_DIR/frames/train/HACS/Applying_sunscreen_v_pI8tpZLBcFk/frame2089.jpg'\n"
     ]
    },
    {
     "name": "stderr",
     "output_type": "stream",
     "text": [
      "\n",
      "\n",
      ">>> Finding TAO sunscreen...: 100%|█████████████████████████████████████████████████| 36/36 [00:00<00:00, 479.85it/s]\u001b[A\n",
      "\n",
      ">>> Finding TAO sunscreen...: 100%|█████████████████████████████████████████████████| 36/36 [00:00<00:00, 433.83it/s]\u001b[A\n",
      "\n",
      ">>> Finding TAO sunscreen...:   0%|                                                           | 0/36 [00:00<?, ?it/s]\u001b[A"
     ]
    },
    {
     "name": "stdout",
     "output_type": "stream",
     "text": [
      ">>>> #WARNING: No file found for: TAO sunscreen...\n",
      "[Errno 2] No such file or directory: 'D:/external_datasets/TAO/TAO_DIR/frames/train/HACS/Applying_sunscreen_v_pI8tpZLBcFk/frame1849.jpg'\n",
      ">>>> #WARNING: No file found for: TAO sunscreen...\n",
      "[Errno 2] No such file or directory: 'D:/external_datasets/TAO/TAO_DIR/frames/train/HACS/Applying_sunscreen_v_pI8tpZLBcFk/frame1585.jpg'\n",
      ">>>> #WARNING: No file found for: TAO sunscreen...\n",
      "[Errno 2] No such file or directory: 'D:/external_datasets/TAO/TAO_DIR/frames/train/HACS/Applying_sunscreen_v_pI8tpZLBcFk/frame1513.jpg'\n"
     ]
    },
    {
     "name": "stderr",
     "output_type": "stream",
     "text": [
      ">>> Finding TAO sunscreen...: 100%|█████████████████████████████████████████████████| 36/36 [00:00<00:00, 428.43it/s]\n",
      "\n",
      ">>> Finding TAO sunscreen...: 100%|█████████████████████████████████████████████████| 36/36 [00:00<00:00, 473.71it/s]\u001b[A\n",
      "\n",
      ">>> Finding TAO sunscreen...: 100%|█████████████████████████████████████████████████| 36/36 [00:00<00:00, 455.45it/s]\u001b[A\n",
      "\n",
      ">>> Finding TAO sunscreen...:   0%|                                                           | 0/36 [00:00<?, ?it/s]\u001b[A"
     ]
    },
    {
     "name": "stdout",
     "output_type": "stream",
     "text": [
      ">>>> #WARNING: No file found for: TAO sunscreen...\n",
      "[Errno 2] No such file or directory: 'D:/external_datasets/TAO/TAO_DIR/frames/train/HACS/Applying_sunscreen_v_pI8tpZLBcFk/frame2329.jpg'\n",
      ">>>> #WARNING: No file found for: TAO sunscreen...\n",
      "[Errno 2] No such file or directory: 'D:/external_datasets/TAO/TAO_DIR/frames/train/HACS/Applying_sunscreen_v_pI8tpZLBcFk/frame1777.jpg'\n",
      ">>>> #WARNING: No file found for: TAO sunscreen...\n",
      "[Errno 2] No such file or directory: 'D:/external_datasets/TAO/TAO_DIR/frames/train/HACS/Applying_sunscreen_v_pI8tpZLBcFk/frame2161.jpg'\n"
     ]
    },
    {
     "name": "stderr",
     "output_type": "stream",
     "text": [
      ">>> Finding TAO sunscreen...: 100%|█████████████████████████████████████████████████| 36/36 [00:00<00:00, 473.69it/s]\n",
      "\n",
      ">>> Finding TAO sunscreen...: 100%|█████████████████████████████████████████████████| 36/36 [00:00<00:00, 461.56it/s]\u001b[A\n",
      "\n",
      ">>> Finding TAO sunscreen...: 100%|█████████████████████████████████████████████████| 36/36 [00:00<00:00, 513.98it/s]\u001b[A\n",
      " 87%|████████████████████████████████████████████████████████████████▏         | 1136/1310 [1:34:05<01:38,  1.76it/s]"
     ]
    },
    {
     "name": "stdout",
     "output_type": "stream",
     "text": [
      ">>>> #WARNING: No file found for: TAO sunscreen...\n",
      "[Errno 2] No such file or directory: 'D:/external_datasets/TAO/TAO_DIR/frames/train/HACS/Applying_sunscreen_v_pI8tpZLBcFk/frame1969.jpg'\n",
      ">>>> #WARNING: No file found for: TAO sunscreen...\n",
      "[Errno 2] No such file or directory: 'D:/external_datasets/TAO/TAO_DIR/frames/train/HACS/Applying_sunscreen_v_pI8tpZLBcFk/frame1873.jpg'\n",
      ">>>> #WARNING: No file found for: TAO sunscreen...\n",
      "\n",
      ">> surfboard...\n",
      "TAO\n"
     ]
    },
    {
     "name": "stderr",
     "output_type": "stream",
     "text": [
      " 87%|████████████████████████████████████████████████████████████████▏         | 1137/1310 [1:34:06<02:43,  1.06it/s]"
     ]
    },
    {
     "name": "stdout",
     "output_type": "stream",
     "text": [
      "\n",
      ">> sushi...\n",
      ">>>> #WARNING sushi is missing from json annotations\n",
      "annotations datasets:  []\n",
      "annotations imgids:  []\n",
      "annotations bbox:  []\n",
      "\n",
      ">> mop...\n",
      "TAO\n"
     ]
    },
    {
     "name": "stderr",
     "output_type": "stream",
     "text": [
      "\n",
      ">>> Finding TAO mop...:   0%|                                                                 | 0/61 [00:00<?, ?it/s]\u001b[A\n",
      "\n",
      ">>> Finding TAO mop...:   0%|                                                                 | 0/61 [00:00<?, ?it/s]\u001b[A"
     ]
    },
    {
     "name": "stdout",
     "output_type": "stream",
     "text": [
      "[Errno 2] No such file or directory: 'D:/external_datasets/TAO/TAO_DIR/frames/val/HACS/Mooping_floor_v_f23CmkPr38w_scene_0_19-4664/frame0991.jpg'\n",
      "[Errno 2] No such file or directory: 'D:/external_datasets/TAO/TAO_DIR/frames/val/HACS/Mooping_floor_v_f23CmkPr38w_scene_0_19-4664/frame1141.jpg'\n"
     ]
    },
    {
     "name": "stderr",
     "output_type": "stream",
     "text": [
      ">>> Finding TAO mop...:   2%|▉                                                        | 1/61 [00:00<00:03, 16.95it/s]\n",
      " 87%|████████████████████████████████████████████████████████████████▎         | 1139/1310 [1:34:08<02:34,  1.11it/s]"
     ]
    },
    {
     "name": "stdout",
     "output_type": "stream",
     "text": [
      "\n",
      ">> sweat_pants...\n",
      ">>>> #WARNING sweat_pants is missing from json annotations\n",
      "annotations datasets:  []\n",
      "annotations imgids:  []\n",
      "annotations bbox:  []\n",
      "\n",
      ">> sweatband...\n",
      ">>>> #WARNING sweatband is missing from json annotations\n",
      "annotations datasets:  []\n",
      "annotations imgids:  []\n",
      "annotations bbox:  []\n",
      "\n",
      ">> sweater...\n",
      "TAO\n"
     ]
    },
    {
     "name": "stderr",
     "output_type": "stream",
     "text": [
      " 87%|████████████████████████████████████████████████████████████████▌         | 1142/1310 [1:34:10<02:13,  1.26it/s]"
     ]
    },
    {
     "name": "stdout",
     "output_type": "stream",
     "text": [
      "\n",
      ">> sweatshirt...\n",
      ">>>> #WARNING sweatshirt is missing from json annotations\n",
      "annotations datasets:  []\n",
      "annotations imgids:  []\n",
      "annotations bbox:  []\n",
      "\n",
      ">> sweet_potato...\n",
      ">>>> #WARNING sweet_potato is missing from json annotations\n",
      "annotations datasets:  []\n",
      "annotations imgids:  []\n",
      "annotations bbox:  []\n",
      "\n",
      ">> swimsuit...\n",
      ">>>> #WARNING swimsuit is missing from json annotations\n",
      "annotations datasets:  []\n",
      "annotations imgids:  []\n",
      "annotations bbox:  []\n",
      "\n",
      ">> sword...\n",
      "TAO\n"
     ]
    },
    {
     "name": "stderr",
     "output_type": "stream",
     "text": [
      "\n",
      ">>> Finding TAO sword...:   0%|                                                              | 0/197 [00:00<?, ?it/s]\u001b[A"
     ]
    },
    {
     "name": "stdout",
     "output_type": "stream",
     "text": [
      "[Errno 2] No such file or directory: 'D:/external_datasets/TAO/TAO_DIR/frames/train/HACS/Tai_chi_v_87ksUt7mO3o_scene_0_0-1298/frame1065.jpg'\n"
     ]
    },
    {
     "name": "stderr",
     "output_type": "stream",
     "text": [
      "\n",
      " 87%|████████████████████████████████████████████████████████████████▋         | 1146/1310 [1:34:12<01:57,  1.39it/s]"
     ]
    },
    {
     "name": "stdout",
     "output_type": "stream",
     "text": [
      "\n",
      ">> syringe...\n",
      ">>>> #WARNING syringe is missing from json annotations\n",
      "annotations datasets:  []\n",
      "annotations imgids:  []\n",
      "annotations bbox:  []\n",
      "\n",
      ">> Tabasco_sauce...\n",
      ">>>> #WARNING Tabasco_sauce is missing from json annotations\n",
      "annotations datasets:  []\n",
      "annotations imgids:  []\n",
      "annotations bbox:  []\n",
      "\n",
      ">> table-tennis_table...\n",
      ">>>> #WARNING table-tennis_table is missing from json annotations\n",
      "annotations datasets:  []\n",
      "annotations imgids:  []\n",
      "annotations bbox:  []\n",
      "\n",
      ">> table...\n",
      ">>>> #WARNING table is missing from json annotations\n",
      "annotations datasets:  []\n",
      "annotations imgids:  []\n",
      "annotations bbox:  []\n",
      "\n",
      ">> table_lamp...\n",
      "TAO\n"
     ]
    },
    {
     "name": "stderr",
     "output_type": "stream",
     "text": [
      "\n",
      ">>> Finding TAO table_lamp...:   8%|███▊                                              | 3/39 [00:00<00:00, 51.74it/s]\u001b[A"
     ]
    },
    {
     "name": "stdout",
     "output_type": "stream",
     "text": [
      "[Errno 2] No such file or directory: 'D:/external_datasets/TAO/TAO_DIR/frames/train/HACS/Welding_v_QlXEyPOUMUg/frame1111.jpg'\n"
     ]
    },
    {
     "name": "stderr",
     "output_type": "stream",
     "text": [
      "\n",
      " 88%|█████████████████████████████████████████████████████████████████         | 1151/1310 [1:34:13<01:35,  1.67it/s]"
     ]
    },
    {
     "name": "stdout",
     "output_type": "stream",
     "text": [
      "\n",
      ">> tablecloth...\n",
      ">>>> #WARNING tablecloth is missing from json annotations\n",
      "annotations datasets:  []\n",
      "annotations imgids:  []\n",
      "annotations bbox:  []\n",
      "\n",
      ">> tachometer...\n",
      ">>>> #WARNING tachometer is missing from json annotations\n",
      "annotations datasets:  []\n",
      "annotations imgids:  []\n",
      "annotations bbox:  []\n",
      "\n",
      ">> taco...\n",
      ">>>> #WARNING taco is missing from json annotations\n",
      "annotations datasets:  []\n",
      "annotations imgids:  []\n",
      "annotations bbox:  []\n",
      "\n",
      ">> tag...\n",
      ">>>> #WARNING tag is missing from json annotations\n",
      "annotations datasets:  []\n",
      "annotations imgids:  []\n",
      "annotations bbox:  []\n",
      "\n",
      ">> taillight...\n",
      ">>>> #WARNING taillight is missing from json annotations\n",
      "annotations datasets:  []\n",
      "annotations imgids:  []\n",
      "annotations bbox:  []\n",
      "\n",
      ">> tambourine...\n",
      ">>>> #WARNING tambourine is missing from json annotations\n",
      "annotations datasets:  []\n",
      "annotations imgids:  []\n",
      "annotations bbox:  []\n",
      "\n",
      ">> army_tank...\n",
      "TAO\n"
     ]
    },
    {
     "name": "stderr",
     "output_type": "stream",
     "text": [
      " 88%|█████████████████████████████████████████████████████████████████▍        | 1158/1310 [1:34:15<01:15,  2.02it/s]"
     ]
    },
    {
     "name": "stdout",
     "output_type": "stream",
     "text": [
      "\n",
      ">> tank_(storage_vessel)...\n",
      ">>>> #WARNING tank_(storage_vessel) is missing from json annotations\n",
      "annotations datasets:  []\n",
      "annotations imgids:  []\n",
      "annotations bbox:  []\n",
      "\n",
      ">> tank_top_(clothing)...\n",
      ">>>> #WARNING tank_top_(clothing) is missing from json annotations\n",
      "annotations datasets:  []\n",
      "annotations imgids:  []\n",
      "annotations bbox:  []\n",
      "\n",
      ">> tape_(sticky_cloth_or_paper)...\n",
      "TAO\n"
     ]
    },
    {
     "name": "stderr",
     "output_type": "stream",
     "text": [
      " 89%|█████████████████████████████████████████████████████████████████▌        | 1161/1310 [1:34:17<01:21,  1.83it/s]"
     ]
    },
    {
     "name": "stdout",
     "output_type": "stream",
     "text": [
      "\n",
      ">> tape_measure...\n",
      ">>>> #WARNING tape_measure is missing from json annotations\n",
      "annotations datasets:  []\n",
      "annotations imgids:  []\n",
      "annotations bbox:  []\n",
      "\n",
      ">> tapestry...\n",
      ">>>> #WARNING tapestry is missing from json annotations\n",
      "annotations datasets:  []\n",
      "annotations imgids:  []\n",
      "annotations bbox:  []\n",
      "\n",
      ">> tarp...\n",
      "TAO\n"
     ]
    },
    {
     "name": "stderr",
     "output_type": "stream",
     "text": [
      " 89%|█████████████████████████████████████████████████████████████████▊        | 1164/1310 [1:34:19<01:22,  1.78it/s]"
     ]
    },
    {
     "name": "stdout",
     "output_type": "stream",
     "text": [
      "\n",
      ">> tartan...\n",
      ">>>> #WARNING tartan is missing from json annotations\n",
      "annotations datasets:  []\n",
      "annotations imgids:  []\n",
      "annotations bbox:  []\n",
      "\n",
      ">> tassel...\n",
      ">>>> #WARNING tassel is missing from json annotations\n",
      "annotations datasets:  []\n",
      "annotations imgids:  []\n",
      "annotations bbox:  []\n",
      "\n",
      ">> tea_bag...\n",
      ">>>> #WARNING tea_bag is missing from json annotations\n",
      "annotations datasets:  []\n",
      "annotations imgids:  []\n",
      "annotations bbox:  []\n",
      "\n",
      ">> teacup...\n",
      "TAO\n"
     ]
    },
    {
     "name": "stderr",
     "output_type": "stream",
     "text": [
      " 89%|█████████████████████████████████████████████████████████████████▉        | 1168/1310 [1:34:21<01:14,  1.90it/s]\n",
      ">>> Finding TAO teakettle...: 100%|████████████████████████████████████████████████████████████| 5/5 [00:00<?, ?it/s]\u001b[A\n",
      "\n",
      ">>> Finding TAO teakettle...: 100%|████████████████████████████████████████████████████████████| 5/5 [00:00<?, ?it/s]\u001b[A\n"
     ]
    },
    {
     "name": "stdout",
     "output_type": "stream",
     "text": [
      "\n",
      ">> teakettle...\n",
      "TAO\n",
      "[Errno 2] No such file or directory: 'D:/external_datasets/TAO/TAO_DIR/frames/val/AVA/P60OxWahxBQ_scene_2_41000-42115/frame1051.jpg'\n",
      ">>>> #WARNING: No file found for: TAO teakettle...\n",
      "[Errno 2] No such file or directory: 'D:/external_datasets/TAO/TAO_DIR/frames/val/AVA/P60OxWahxBQ_scene_2_41000-42115/frame1081.jpg'\n",
      ">>>> #WARNING: No file found for: TAO teakettle...\n"
     ]
    },
    {
     "name": "stderr",
     "output_type": "stream",
     "text": [
      "\n",
      ">>> Finding TAO teakettle...: 100%|████████████████████████████████████████████████████████████| 5/5 [00:00<?, ?it/s]\u001b[A"
     ]
    },
    {
     "name": "stdout",
     "output_type": "stream",
     "text": [
      "[Errno 2] No such file or directory: 'D:/external_datasets/TAO/TAO_DIR/frames/val/AVA/P60OxWahxBQ_scene_2_41000-42115/frame1111.jpg'\n",
      ">>>> #WARNING: No file found for: TAO teakettle...\n"
     ]
    },
    {
     "name": "stderr",
     "output_type": "stream",
     "text": [
      "\n",
      " 89%|██████████████████████████████████████████████████████████████████        | 1169/1310 [1:34:21<01:17,  1.83it/s]"
     ]
    },
    {
     "name": "stdout",
     "output_type": "stream",
     "text": [
      "\n",
      ">> teapot...\n",
      "TAO\n"
     ]
    },
    {
     "name": "stderr",
     "output_type": "stream",
     "text": [
      " 89%|██████████████████████████████████████████████████████████████████        | 1170/1310 [1:34:23<02:12,  1.06it/s]"
     ]
    },
    {
     "name": "stdout",
     "output_type": "stream",
     "text": [
      "\n",
      ">> teddy_bear...\n",
      ">>>> #WARNING teddy_bear is missing from json annotations\n",
      "annotations datasets:  []\n",
      "annotations imgids:  []\n",
      "annotations bbox:  []\n",
      "\n",
      ">> telephone...\n",
      "TAO\n"
     ]
    },
    {
     "name": "stderr",
     "output_type": "stream",
     "text": [
      " 89%|██████████████████████████████████████████████████████████████████▏       | 1172/1310 [1:34:25<02:14,  1.02it/s]"
     ]
    },
    {
     "name": "stdout",
     "output_type": "stream",
     "text": [
      "\n",
      ">> telephone_booth...\n",
      ">>>> #WARNING telephone_booth is missing from json annotations\n",
      "annotations datasets:  []\n",
      "annotations imgids:  []\n",
      "annotations bbox:  []\n",
      "\n",
      ">> telephone_pole...\n",
      ">>>> #WARNING telephone_pole is missing from json annotations\n",
      "annotations datasets:  []\n",
      "annotations imgids:  []\n",
      "annotations bbox:  []\n",
      "\n",
      ">> telephoto_lens...\n",
      ">>>> #WARNING telephoto_lens is missing from json annotations\n",
      "annotations datasets:  []\n",
      "annotations imgids:  []\n",
      "annotations bbox:  []\n",
      "\n",
      ">> television_camera...\n",
      ">>>> #WARNING television_camera is missing from json annotations\n",
      "annotations datasets:  []\n",
      "annotations imgids:  []\n",
      "annotations bbox:  []\n",
      "\n",
      ">> television_set...\n",
      "TAO\n"
     ]
    },
    {
     "name": "stderr",
     "output_type": "stream",
     "text": [
      " 90%|██████████████████████████████████████████████████████████████████▍       | 1177/1310 [1:34:27<01:44,  1.27it/s]"
     ]
    },
    {
     "name": "stdout",
     "output_type": "stream",
     "text": [
      "\n",
      ">> tennis_ball...\n",
      ">>>> #WARNING tennis_ball is missing from json annotations\n",
      "annotations datasets:  []\n",
      "annotations imgids:  []\n",
      "annotations bbox:  []\n",
      "\n",
      ">> tennis_racket...\n",
      "TAO\n"
     ]
    },
    {
     "name": "stderr",
     "output_type": "stream",
     "text": [
      " 90%|██████████████████████████████████████████████████████████████████▌       | 1179/1310 [1:34:29<01:43,  1.27it/s]"
     ]
    },
    {
     "name": "stdout",
     "output_type": "stream",
     "text": [
      "\n",
      ">> tequila...\n",
      ">>>> #WARNING tequila is missing from json annotations\n",
      "annotations datasets:  []\n",
      "annotations imgids:  []\n",
      "annotations bbox:  []\n",
      "\n",
      ">> thermometer...\n",
      "TAO\n"
     ]
    },
    {
     "name": "stderr",
     "output_type": "stream",
     "text": [
      " 90%|██████████████████████████████████████████████████████████████████▋       | 1181/1310 [1:34:30<01:30,  1.43it/s]"
     ]
    },
    {
     "name": "stdout",
     "output_type": "stream",
     "text": [
      "\n",
      ">> thermos_bottle...\n",
      ">>>> #WARNING thermos_bottle is missing from json annotations\n",
      "annotations datasets:  []\n",
      "annotations imgids:  []\n",
      "annotations bbox:  []\n",
      "\n",
      ">> thermostat...\n",
      ">>>> #WARNING thermostat is missing from json annotations\n",
      "annotations datasets:  []\n",
      "annotations imgids:  []\n",
      "annotations bbox:  []\n",
      "\n",
      ">> thimble...\n",
      ">>>> #WARNING thimble is missing from json annotations\n",
      "annotations datasets:  []\n",
      "annotations imgids:  []\n",
      "annotations bbox:  []\n",
      "\n",
      ">> thread...\n",
      "TAO\n"
     ]
    },
    {
     "name": "stderr",
     "output_type": "stream",
     "text": [
      " 90%|██████████████████████████████████████████████████████████████████▉       | 1185/1310 [1:34:57<05:19,  2.55s/it]"
     ]
    },
    {
     "name": "stdout",
     "output_type": "stream",
     "text": [
      "\n",
      ">> thumbtack...\n",
      ">>>> #WARNING thumbtack is missing from json annotations\n",
      "annotations datasets:  []\n",
      "annotations imgids:  []\n",
      "annotations bbox:  []\n",
      "\n",
      ">> tiara...\n",
      ">>>> #WARNING tiara is missing from json annotations\n",
      "annotations datasets:  []\n",
      "annotations imgids:  []\n",
      "annotations bbox:  []\n",
      "\n",
      ">> tiger...\n",
      "TAO\n"
     ]
    },
    {
     "name": "stderr",
     "output_type": "stream",
     "text": [
      " 91%|███████████████████████████████████████████████████████████████████       | 1188/1310 [1:34:59<04:00,  1.98s/it]\n",
      ">>> Finding TAO tissue_paper...:  87%|████████████████████████████████████████      | 27/31 [00:00<00:00, 172.21it/s]\u001b[A\n"
     ]
    },
    {
     "name": "stdout",
     "output_type": "stream",
     "text": [
      "\n",
      ">> tights_(clothing)...\n",
      ">>>> #WARNING tights_(clothing) is missing from json annotations\n",
      "annotations datasets:  []\n",
      "annotations imgids:  []\n",
      "annotations bbox:  []\n",
      "\n",
      ">> timer...\n",
      ">>>> #WARNING timer is missing from json annotations\n",
      "annotations datasets:  []\n",
      "annotations imgids:  []\n",
      "annotations bbox:  []\n",
      "\n",
      ">> tinfoil...\n",
      ">>>> #WARNING tinfoil is missing from json annotations\n",
      "annotations datasets:  []\n",
      "annotations imgids:  []\n",
      "annotations bbox:  []\n",
      "\n",
      ">> tinsel...\n",
      ">>>> #WARNING tinsel is missing from json annotations\n",
      "annotations datasets:  []\n",
      "annotations imgids:  []\n",
      "annotations bbox:  []\n",
      "\n",
      ">> tissue_paper...\n",
      "TAO\n",
      "[Errno 2] No such file or directory: 'D:/external_datasets/TAO/TAO_DIR/frames/val/HACS/Cleaning_sink_v_OvrAlAqICIQ/frame3271.jpg'\n"
     ]
    },
    {
     "name": "stderr",
     "output_type": "stream",
     "text": [
      "\n",
      ">>> Finding TAO tissue_paper...:  90%|█████████████████████████████████████████▌    | 28/31 [00:00<00:00, 194.20it/s]\u001b[A"
     ]
    },
    {
     "name": "stdout",
     "output_type": "stream",
     "text": [
      "[Errno 2] No such file or directory: 'D:/external_datasets/TAO/TAO_DIR/frames/val/HACS/Cleaning_sink_v_OvrAlAqICIQ/frame3811.jpg'\n"
     ]
    },
    {
     "name": "stderr",
     "output_type": "stream",
     "text": [
      "\n",
      "\n",
      ">>> Finding TAO tissue_paper...:  94%|███████████████████████████████████████████   | 29/31 [00:00<00:00, 202.80it/s]\u001b[A"
     ]
    },
    {
     "name": "stdout",
     "output_type": "stream",
     "text": [
      "[Errno 2] No such file or directory: 'D:/external_datasets/TAO/TAO_DIR/frames/val/HACS/Cleaning_sink_v_OvrAlAqICIQ/frame3841.jpg'\n"
     ]
    },
    {
     "name": "stderr",
     "output_type": "stream",
     "text": [
      "\n",
      "\n",
      ">>> Finding TAO tissue_paper...:  97%|████████████████████████████████████████████▌ | 30/31 [00:00<00:00, 197.36it/s]\u001b[A"
     ]
    },
    {
     "name": "stdout",
     "output_type": "stream",
     "text": [
      "[Errno 2] No such file or directory: 'D:/external_datasets/TAO/TAO_DIR/frames/val/HACS/Cleaning_sink_v_OvrAlAqICIQ/frame3211.jpg'\n"
     ]
    },
    {
     "name": "stderr",
     "output_type": "stream",
     "text": [
      "\n",
      "\n",
      ">>> Finding TAO tissue_paper...: 100%|██████████████████████████████████████████████| 31/31 [00:00<00:00, 430.56it/s]\u001b[A\n",
      "\n",
      ">>> Finding TAO tissue_paper...: 100%|██████████████████████████████████████████████| 31/31 [00:00<00:00, 407.93it/s]\u001b[A\n",
      "\n",
      ">>> Finding TAO tissue_paper...:   0%|                                                        | 0/31 [00:00<?, ?it/s]\u001b[A"
     ]
    },
    {
     "name": "stdout",
     "output_type": "stream",
     "text": [
      "[Errno 2] No such file or directory: 'D:/external_datasets/TAO/TAO_DIR/frames/val/HACS/Cleaning_sink_v_OvrAlAqICIQ/frame2941.jpg'\n",
      ">>>> #WARNING: No file found for: TAO tissue_paper...\n",
      "[Errno 2] No such file or directory: 'D:/external_datasets/TAO/TAO_DIR/frames/val/HACS/Cleaning_sink_v_OvrAlAqICIQ/frame2851.jpg'\n",
      ">>>> #WARNING: No file found for: TAO tissue_paper...\n",
      "[Errno 2] No such file or directory: 'D:/external_datasets/TAO/TAO_DIR/frames/val/HACS/Cleaning_sink_v_OvrAlAqICIQ/frame3091.jpg'\n"
     ]
    },
    {
     "name": "stderr",
     "output_type": "stream",
     "text": [
      ">>> Finding TAO tissue_paper...: 100%|██████████████████████████████████████████████| 31/31 [00:00<00:00, 413.11it/s]\n",
      "\n",
      ">>> Finding TAO tissue_paper...: 100%|██████████████████████████████████████████████| 31/31 [00:00<00:00, 413.33it/s]\u001b[A\n"
     ]
    },
    {
     "name": "stdout",
     "output_type": "stream",
     "text": [
      ">>>> #WARNING: No file found for: TAO tissue_paper...\n",
      "[Errno 2] No such file or directory: 'D:/external_datasets/TAO/TAO_DIR/frames/val/HACS/Cleaning_sink_v_OvrAlAqICIQ/frame3031.jpg'\n",
      ">>>> #WARNING: No file found for: TAO tissue_paper...\n"
     ]
    },
    {
     "name": "stderr",
     "output_type": "stream",
     "text": [
      "\n",
      ">>> Finding TAO tissue_paper...: 100%|██████████████████████████████████████████████| 31/31 [00:00<00:00, 413.30it/s]\u001b[A\n",
      " 91%|███████████████████████████████████████████████████████████████████▍      | 1193/1310 [1:35:01<02:53,  1.48s/it]"
     ]
    },
    {
     "name": "stdout",
     "output_type": "stream",
     "text": [
      "[Errno 2] No such file or directory: 'D:/external_datasets/TAO/TAO_DIR/frames/val/HACS/Cleaning_sink_v_OvrAlAqICIQ/frame3301.jpg'\n",
      ">>>> #WARNING: No file found for: TAO tissue_paper...\n",
      "\n",
      ">> toast_(food)...\n",
      "TAO\n"
     ]
    },
    {
     "name": "stderr",
     "output_type": "stream",
     "text": [
      "\n",
      ">>> Finding TAO toast_(food)...:   0%|                                                        | 0/47 [00:00<?, ?it/s]\u001b[A"
     ]
    },
    {
     "name": "stdout",
     "output_type": "stream",
     "text": [
      "[Errno 2] No such file or directory: 'D:/external_datasets/TAO/TAO_DIR/frames/val/YFCC100M/v_8a481fa1d5cda4559e288d2a2d876b/frame0991.jpg'\n"
     ]
    },
    {
     "name": "stderr",
     "output_type": "stream",
     "text": [
      "\n",
      "\n",
      ">>> Finding TAO toast_(food)...:   2%|█                                               | 1/47 [00:00<00:03, 14.93it/s]\u001b[A\n",
      "\n",
      ">>> Finding TAO toast_(food)...:   4%|██                                              | 2/47 [00:00<00:01, 39.99it/s]\u001b[A"
     ]
    },
    {
     "name": "stdout",
     "output_type": "stream",
     "text": [
      "[Errno 2] No such file or directory: 'D:/external_datasets/TAO/TAO_DIR/frames/val/YFCC100M/v_8a481fa1d5cda4559e288d2a2d876b/frame1111.jpg'\n",
      "[Errno 2] No such file or directory: 'D:/external_datasets/TAO/TAO_DIR/frames/val/YFCC100M/v_8a481fa1d5cda4559e288d2a2d876b/frame1141.jpg'\n"
     ]
    },
    {
     "name": "stderr",
     "output_type": "stream",
     "text": [
      "\n",
      "\n",
      ">>> Finding TAO toast_(food)...:  51%|███████████████████████▍                      | 24/47 [00:00<00:00, 199.84it/s]\u001b[A\n"
     ]
    },
    {
     "name": "stdout",
     "output_type": "stream",
     "text": [
      "[Errno 2] No such file or directory: 'D:/external_datasets/TAO/TAO_DIR/frames/val/YFCC100M/v_8a481fa1d5cda4559e288d2a2d876b/frame1381.jpg'\n"
     ]
    },
    {
     "name": "stderr",
     "output_type": "stream",
     "text": [
      "\n",
      ">>> Finding TAO toast_(food)...:  53%|████████████████████████▍                     | 25/47 [00:00<00:00, 192.22it/s]\u001b[A"
     ]
    },
    {
     "name": "stdout",
     "output_type": "stream",
     "text": [
      "[Errno 2] No such file or directory: 'D:/external_datasets/TAO/TAO_DIR/frames/val/YFCC100M/v_8a481fa1d5cda4559e288d2a2d876b/frame1561.jpg'\n"
     ]
    },
    {
     "name": "stderr",
     "output_type": "stream",
     "text": [
      "\n",
      " 91%|███████████████████████████████████████████████████████████████████▍      | 1194/1310 [1:35:03<03:15,  1.68s/it]"
     ]
    },
    {
     "name": "stdout",
     "output_type": "stream",
     "text": [
      "\n",
      ">> toaster...\n",
      ">>>> #WARNING toaster is missing from json annotations\n",
      "annotations datasets:  []\n",
      "annotations imgids:  []\n",
      "annotations bbox:  []\n",
      "\n",
      ">> toaster_oven...\n",
      ">>>> #WARNING toaster_oven is missing from json annotations\n",
      "annotations datasets:  []\n",
      "annotations imgids:  []\n",
      "annotations bbox:  []\n",
      "\n",
      ">> toilet...\n",
      ">>>> #WARNING toilet is missing from json annotations\n",
      "annotations datasets:  []\n",
      "annotations imgids:  []\n",
      "annotations bbox:  []\n",
      "\n",
      ">> toilet_tissue...\n",
      ">>>> #WARNING toilet_tissue is missing from json annotations\n",
      "annotations datasets:  []\n",
      "annotations imgids:  []\n",
      "annotations bbox:  []\n",
      "\n",
      ">> tomato...\n",
      ">>>> #WARNING tomato is missing from json annotations\n",
      "annotations datasets:  []\n",
      "annotations imgids:  []\n",
      "annotations bbox:  []\n",
      "\n",
      ">> tongs...\n",
      ">>>> #WARNING tongs is missing from json annotations\n",
      "annotations datasets:  []\n",
      "annotations imgids:  []\n",
      "annotations bbox:  []\n",
      "\n",
      ">> toolbox...\n",
      "TAO\n"
     ]
    },
    {
     "name": "stderr",
     "output_type": "stream",
     "text": [
      " 92%|███████████████████████████████████████████████████████████████████▊      | 1201/1310 [1:35:04<02:16,  1.25s/it]"
     ]
    },
    {
     "name": "stdout",
     "output_type": "stream",
     "text": [
      "\n",
      ">> toothbrush...\n",
      "TAO\n"
     ]
    },
    {
     "name": "stderr",
     "output_type": "stream",
     "text": [
      "\n",
      ">>> Finding TAO toothbrush...:   0%|                                                         | 0/172 [00:00<?, ?it/s]\u001b[A"
     ]
    },
    {
     "name": "stdout",
     "output_type": "stream",
     "text": [
      "[Errno 2] No such file or directory: 'D:/external_datasets/TAO/TAO_DIR/frames/train/HACS/Brushing_teeth_v_c0FxOPxBaac_scene_0_0-3689/frame0991.jpg'\n"
     ]
    },
    {
     "name": "stderr",
     "output_type": "stream",
     "text": [
      "\n",
      " 92%|███████████████████████████████████████████████████████████████████▉      | 1202/1310 [1:35:06<02:31,  1.40s/it]\n",
      ">>> Finding TAO toothpaste...:   0%|                                                          | 0/32 [00:00<?, ?it/s]\u001b[A"
     ]
    },
    {
     "name": "stdout",
     "output_type": "stream",
     "text": [
      "\n",
      ">> toothpaste...\n",
      "TAO\n",
      "[Errno 2] No such file or directory: 'D:/external_datasets/TAO/TAO_DIR/frames/train/HACS/Brushing_teeth_v_ghzmn2V-SDE/frame1801.jpg'\n"
     ]
    },
    {
     "name": "stderr",
     "output_type": "stream",
     "text": [
      ">>> Finding TAO toothpaste...:  81%|███████████████████████████████████████         | 26/32 [00:00<00:00, 204.73it/s]\n",
      "\n",
      ">>> Finding TAO toothpaste...:  88%|██████████████████████████████████████████      | 28/32 [00:00<00:00, 325.55it/s]\u001b[A"
     ]
    },
    {
     "name": "stdout",
     "output_type": "stream",
     "text": [
      "[Errno 2] No such file or directory: 'D:/external_datasets/TAO/TAO_DIR/frames/train/HACS/Brushing_teeth_v_ghzmn2V-SDE/frame1777.jpg'\n",
      "[Errno 2] No such file or directory: 'D:/external_datasets/TAO/TAO_DIR/frames/train/HACS/Brushing_teeth_v_ghzmn2V-SDE/frame1273.jpg'"
     ]
    },
    {
     "name": "stderr",
     "output_type": "stream",
     "text": [
      "\n",
      "\n",
      ">>> Finding TAO toothpaste...:  94%|█████████████████████████████████████████████   | 30/32 [00:00<00:00, 241.93it/s]\u001b[A"
     ]
    },
    {
     "name": "stdout",
     "output_type": "stream",
     "text": [
      "\n"
     ]
    },
    {
     "name": "stderr",
     "output_type": "stream",
     "text": [
      "\n",
      "\n",
      ">>> Finding TAO toothpaste...:  97%|██████████████████████████████████████████████▌ | 31/32 [00:00<00:00, 322.92it/s]\u001b[A"
     ]
    },
    {
     "name": "stdout",
     "output_type": "stream",
     "text": [
      "[Errno 2] No such file or directory: 'D:/external_datasets/TAO/TAO_DIR/frames/train/HACS/Brushing_teeth_v_ghzmn2V-SDE/frame1153.jpg'\n",
      "[Errno 2] No such file or directory: 'D:/external_datasets/TAO/TAO_DIR/frames/train/HACS/Brushing_teeth_v_ghzmn2V-SDE/frame1417.jpg'\n"
     ]
    },
    {
     "name": "stderr",
     "output_type": "stream",
     "text": [
      "\n",
      "\n",
      ">>> Finding TAO toothpaste...: 100%|████████████████████████████████████████████████| 32/32 [00:00<00:00, 524.59it/s]\u001b[A\n",
      "\n",
      ">>> Finding TAO toothpaste...: 100%|████████████████████████████████████████████████| 32/32 [00:00<00:00, 551.70it/s]\u001b[A\n"
     ]
    },
    {
     "name": "stdout",
     "output_type": "stream",
     "text": [
      ">>>> #WARNING: No file found for: TAO toothpaste...\n",
      "[Errno 2] No such file or directory: 'D:/external_datasets/TAO/TAO_DIR/frames/train/HACS/Brushing_teeth_v_ghzmn2V-SDE/frame1753.jpg'\n",
      ">>>> #WARNING: No file found for: TAO toothpaste...\n"
     ]
    },
    {
     "name": "stderr",
     "output_type": "stream",
     "text": [
      "\n",
      ">>> Finding TAO toothpaste...: 100%|████████████████████████████████████████████████| 32/32 [00:00<00:00, 390.09it/s]\u001b[A\n",
      "\n",
      ">>> Finding TAO toothpaste...: 100%|████████████████████████████████████████████████| 32/32 [00:00<00:00, 421.06it/s]\u001b[A\n",
      " 92%|███████████████████████████████████████████████████████████████████▉      | 1203/1310 [1:35:08<02:38,  1.49s/it]"
     ]
    },
    {
     "name": "stdout",
     "output_type": "stream",
     "text": [
      "[Errno 2] No such file or directory: 'D:/external_datasets/TAO/TAO_DIR/frames/train/HACS/Brushing_teeth_v_ghzmn2V-SDE/frame1177.jpg'\n",
      ">>>> #WARNING: No file found for: TAO toothpaste...\n",
      "[Errno 2] No such file or directory: 'D:/external_datasets/TAO/TAO_DIR/frames/train/HACS/Brushing_teeth_v_ghzmn2V-SDE/frame1465.jpg'\n",
      ">>>> #WARNING: No file found for: TAO toothpaste...\n",
      "\n",
      ">> toothpick...\n",
      ">>>> #WARNING toothpick is missing from json annotations\n",
      "annotations datasets:  []\n",
      "annotations imgids:  []\n",
      "annotations bbox:  []\n",
      "\n",
      ">> cover...\n",
      "TAO\n"
     ]
    },
    {
     "name": "stderr",
     "output_type": "stream",
     "text": [
      "\n",
      ">>> Finding TAO cover...:  13%|███████▏                                               | 7/54 [00:00<00:00, 85.70it/s]\u001b[A"
     ]
    },
    {
     "name": "stdout",
     "output_type": "stream",
     "text": [
      "[Errno 2] No such file or directory: 'D:/external_datasets/TAO/TAO_DIR/frames/train/YFCC100M/v_2501d6da0cfca808ee42aceeeb45bf5/frame0361.jpeg'\n"
     ]
    },
    {
     "name": "stderr",
     "output_type": "stream",
     "text": [
      "\n",
      "\n",
      ">>> Finding TAO cover...:  15%|████████                                              | 8/54 [00:00<00:00, 111.10it/s]\u001b[A"
     ]
    },
    {
     "name": "stdout",
     "output_type": "stream",
     "text": [
      "[Errno 2] No such file or directory: 'D:/external_datasets/TAO/TAO_DIR/frames/train/YFCC100M/v_2501d6da0cfca808ee42aceeeb45bf5/frame0631.jpeg'\n"
     ]
    },
    {
     "name": "stderr",
     "output_type": "stream",
     "text": [
      "\n",
      " 92%|████████████████████████████████████████████████████████████████████      | 1205/1310 [1:35:10<02:19,  1.33s/it]"
     ]
    },
    {
     "name": "stdout",
     "output_type": "stream",
     "text": [
      "\n",
      ">> tortilla...\n",
      ">>>> #WARNING tortilla is missing from json annotations\n",
      "annotations datasets:  []\n",
      "annotations imgids:  []\n",
      "annotations bbox:  []\n",
      "\n",
      ">> tow_truck...\n",
      ">>>> #WARNING tow_truck is missing from json annotations\n",
      "annotations datasets:  []\n",
      "annotations imgids:  []\n",
      "annotations bbox:  []\n",
      "\n",
      ">> towel...\n",
      "TAO\n"
     ]
    },
    {
     "name": "stderr",
     "output_type": "stream",
     "text": [
      " 92%|████████████████████████████████████████████████████████████████████▏     | 1208/1310 [1:35:12<01:53,  1.11s/it]"
     ]
    },
    {
     "name": "stdout",
     "output_type": "stream",
     "text": [
      "\n",
      ">> towel_rack...\n",
      ">>>> #WARNING towel_rack is missing from json annotations\n",
      "annotations datasets:  []\n",
      "annotations imgids:  []\n",
      "annotations bbox:  []\n",
      "\n",
      ">> toy...\n",
      "TAO\n"
     ]
    },
    {
     "name": "stderr",
     "output_type": "stream",
     "text": [
      "\n",
      ">>> Finding TAO toy...:   0%|                                                                | 0/579 [00:00<?, ?it/s]\u001b[A\n",
      ">>> Finding TAO toy...:   3%|█▊                                                    | 20/579 [00:00<00:02, 192.40it/s]\u001b[A"
     ]
    },
    {
     "name": "stdout",
     "output_type": "stream",
     "text": [
      "[Errno 2] No such file or directory: 'D:/external_datasets/TAO/TAO_DIR/frames/val/HACS/Putting_on_shoes_v_Wnhlt-7Kd-Q/frame2251.jpg'\n"
     ]
    },
    {
     "name": "stderr",
     "output_type": "stream",
     "text": [
      ">>> Finding TAO toy...:   7%|███▊                                                  | 41/579 [00:00<00:03, 169.45it/s]\n",
      "\n",
      ">>> Finding TAO toy...:   0%|                                                                | 0/579 [00:00<?, ?it/s]\u001b[A\n",
      ">>> Finding TAO toy...:   7%|████                                                  | 43/579 [00:00<00:01, 268.74it/s]\u001b[A"
     ]
    },
    {
     "name": "stdout",
     "output_type": "stream",
     "text": [
      "[Errno 2] No such file or directory: 'D:/external_datasets/TAO/TAO_DIR/frames/val/YFCC100M/v_c71cb089ec74b978d1b6fe5b3a6f5f/frame0901.jpeg'\n"
     ]
    },
    {
     "name": "stderr",
     "output_type": "stream",
     "text": [
      "\n",
      "\n",
      ">>> Finding TAO toy...:   0%|                                                                | 0/579 [00:00<?, ?it/s]\u001b[A\n",
      ">>> Finding TAO toy...:   6%|███▍                                                  | 37/579 [00:00<00:01, 366.33it/s]\u001b[A"
     ]
    },
    {
     "name": "stdout",
     "output_type": "stream",
     "text": [
      "[Errno 2] No such file or directory: 'D:/external_datasets/TAO/TAO_DIR/frames/val/YFCC100M/v_68ecc17c75df204856d396f18efcfc/frame1471.jpeg'\n"
     ]
    },
    {
     "name": "stderr",
     "output_type": "stream",
     "text": [
      ">>> Finding TAO toy...:   8%|████                                                  | 44/579 [00:00<00:02, 225.64it/s]\n",
      "\n",
      ">>> Finding TAO toy...:   0%|                                                                | 0/579 [00:00<?, ?it/s]\u001b[A\n",
      ">>> Finding TAO toy...:   8%|████▏                                                 | 45/579 [00:00<00:02, 230.77it/s]\u001b[A"
     ]
    },
    {
     "name": "stdout",
     "output_type": "stream",
     "text": [
      "[Errno 2] No such file or directory: 'D:/external_datasets/TAO/TAO_DIR/frames/val/YFCC100M/v_460a1314da9bd32cbd14a2b3414f30/frame1225.jpeg'\n"
     ]
    },
    {
     "name": "stderr",
     "output_type": "stream",
     "text": [
      "\n",
      "\n",
      ">>> Finding TAO toy...:   0%|                                                                | 0/579 [00:00<?, ?it/s]\u001b[A\n",
      ">>> Finding TAO toy...:   8%|████▎                                                 | 46/579 [00:00<00:02, 264.37it/s]\u001b[A"
     ]
    },
    {
     "name": "stdout",
     "output_type": "stream",
     "text": [
      "[Errno 2] No such file or directory: 'D:/external_datasets/TAO/TAO_DIR/frames/val/HACS/Putting_on_shoes_v_Wnhlt-7Kd-Q/frame2371.jpg'\n"
     ]
    },
    {
     "name": "stderr",
     "output_type": "stream",
     "text": [
      "\n",
      "\n",
      ">>> Finding TAO toy...:   0%|                                                                | 0/579 [00:00<?, ?it/s]\u001b[A\n",
      ">>> Finding TAO toy...:   6%|███▎                                                  | 36/579 [00:00<00:01, 356.35it/s]\u001b[A"
     ]
    },
    {
     "name": "stdout",
     "output_type": "stream",
     "text": [
      "[Errno 2] No such file or directory: 'D:/external_datasets/TAO/TAO_DIR/frames/val/HACS/Putting_on_shoes_v_Wnhlt-7Kd-Q/frame1351.jpg'\n"
     ]
    },
    {
     "name": "stderr",
     "output_type": "stream",
     "text": [
      ">>> Finding TAO toy...:   8%|████▍                                                 | 47/579 [00:00<00:01, 267.03it/s]\n",
      "\n",
      ">>> Finding TAO toy...:   0%|                                                                | 0/579 [00:00<?, ?it/s]\u001b[A\n",
      ">>> Finding TAO toy...:   8%|████▍                                                 | 48/579 [00:00<00:02, 242.37it/s]\u001b[A"
     ]
    },
    {
     "name": "stdout",
     "output_type": "stream",
     "text": [
      "[Errno 2] No such file or directory: 'D:/external_datasets/TAO/TAO_DIR/frames/train/YFCC100M/v_4a3feaf750f9ca8ed67a8461deb0a8f0/frame0451.jpeg'\n"
     ]
    },
    {
     "name": "stderr",
     "output_type": "stream",
     "text": [
      "\n",
      " 92%|████████████████████████████████████████████████████████████████████▎     | 1210/1310 [1:35:15<02:06,  1.26s/it]\n",
      ">>> Finding TAO tractor_(farm_equipment)...:   0%|                                            | 0/40 [00:00<?, ?it/s]\u001b[A\n"
     ]
    },
    {
     "name": "stdout",
     "output_type": "stream",
     "text": [
      "\n",
      ">> tractor_(farm_equipment)...\n",
      "TAO\n",
      "[Errno 2] No such file or directory: 'D:/external_datasets/TAO/TAO_DIR/frames/train/HACS/Raking_leaves_v_KUdBvuRaAbk_scene_0_0-6975/frame1171.jpg'\n"
     ]
    },
    {
     "name": "stderr",
     "output_type": "stream",
     "text": [
      "\n",
      ">>> Finding TAO tractor_(farm_equipment)...:   2%|▉                                   | 1/40 [00:00<00:01, 20.41it/s]\u001b[A"
     ]
    },
    {
     "name": "stdout",
     "output_type": "stream",
     "text": [
      "[Errno 2] No such file or directory: 'D:/external_datasets/TAO/TAO_DIR/frames/train/HACS/Raking_leaves_v_KUdBvuRaAbk_scene_0_0-6975/frame0991.jpg'\n"
     ]
    },
    {
     "name": "stderr",
     "output_type": "stream",
     "text": [
      "\n",
      " 92%|████████████████████████████████████████████████████████████████████▍     | 1211/1310 [1:35:17<02:19,  1.41s/it]"
     ]
    },
    {
     "name": "stdout",
     "output_type": "stream",
     "text": [
      "\n",
      ">> traffic_light...\n",
      ">>>> #WARNING traffic_light is missing from json annotations\n",
      "annotations datasets:  []\n",
      "annotations imgids:  []\n",
      "annotations bbox:  []\n",
      "\n",
      ">> dirt_bike...\n",
      "TAO\n"
     ]
    },
    {
     "name": "stderr",
     "output_type": "stream",
     "text": [
      " 93%|████████████████████████████████████████████████████████████████████▌     | 1213/1310 [1:35:18<01:59,  1.23s/it]"
     ]
    },
    {
     "name": "stdout",
     "output_type": "stream",
     "text": [
      "\n",
      ">> trailer_truck...\n",
      "TAO\n"
     ]
    },
    {
     "name": "stderr",
     "output_type": "stream",
     "text": [
      " 93%|████████████████████████████████████████████████████████████████████▌     | 1214/1310 [1:35:20<02:16,  1.43s/it]\n",
      ">>> Finding TAO tray...:   0%|                                                                | 0/75 [00:00<?, ?it/s]\u001b[A"
     ]
    },
    {
     "name": "stdout",
     "output_type": "stream",
     "text": [
      "\n",
      ">> train_(railroad_vehicle)...\n",
      ">>>> #WARNING train_(railroad_vehicle) is missing from json annotations\n",
      "annotations datasets:  []\n",
      "annotations imgids:  []\n",
      "annotations bbox:  []\n",
      "\n",
      ">> trampoline...\n",
      ">>>> #WARNING trampoline is missing from json annotations\n",
      "annotations datasets:  []\n",
      "annotations imgids:  []\n",
      "annotations bbox:  []\n",
      "\n",
      ">> tray...\n",
      "TAO\n",
      "[Errno 2] No such file or directory: 'D:/external_datasets/TAO/TAO_DIR/frames/train/YFCC100M/v_178d5e91768b9c42488ff879c1fa54/frame0541.jpeg'\n"
     ]
    },
    {
     "name": "stderr",
     "output_type": "stream",
     "text": [
      ">>> Finding TAO tray...:  41%|██████████████████████▎                               | 31/75 [00:00<00:00, 200.24it/s]\n",
      "\n",
      ">>> Finding TAO tray...:  43%|███████████████████████                               | 32/75 [00:00<00:00, 235.28it/s]\u001b[A"
     ]
    },
    {
     "name": "stdout",
     "output_type": "stream",
     "text": [
      "[Errno 2] No such file or directory: 'D:/external_datasets/TAO/TAO_DIR/frames/train/YFCC100M/v_178d5e91768b9c42488ff879c1fa54/frame1171.jpeg'\n"
     ]
    },
    {
     "name": "stderr",
     "output_type": "stream",
     "text": [
      "\n",
      "\n",
      ">>> Finding TAO tray...:  44%|███████████████████████▊                              | 33/75 [00:00<00:00, 235.67it/s]\u001b[A"
     ]
    },
    {
     "name": "stdout",
     "output_type": "stream",
     "text": [
      "[Errno 2] No such file or directory: 'D:/external_datasets/TAO/TAO_DIR/frames/val/AVA/t1LXrJOvPDg_scene_7_56366-57875/frame1126.jpg'\n"
     ]
    },
    {
     "name": "stderr",
     "output_type": "stream",
     "text": [
      "\n",
      "\n",
      ">>> Finding TAO tray...:  45%|████████████████████████▍                             | 34/75 [00:00<00:00, 241.19it/s]\u001b[A"
     ]
    },
    {
     "name": "stdout",
     "output_type": "stream",
     "text": [
      "[Errno 2] No such file or directory: 'D:/external_datasets/TAO/TAO_DIR/frames/train/YFCC100M/v_178d5e91768b9c42488ff879c1fa54/frame0661.jpeg'\n"
     ]
    },
    {
     "name": "stderr",
     "output_type": "stream",
     "text": [
      "\n",
      "\n",
      ">>> Finding TAO tray...:  47%|█████████████████████████▏                            | 35/75 [00:00<00:00, 218.68it/s]\u001b[A"
     ]
    },
    {
     "name": "stdout",
     "output_type": "stream",
     "text": [
      "[Errno 2] No such file or directory: 'D:/external_datasets/TAO/TAO_DIR/frames/train/YFCC100M/v_178d5e91768b9c42488ff879c1fa54/frame0451.jpeg'\n"
     ]
    },
    {
     "name": "stderr",
     "output_type": "stream",
     "text": [
      "\n",
      "\n",
      ">>> Finding TAO tray...:  48%|█████████████████████████▉                            | 36/75 [00:00<00:00, 224.95it/s]\u001b[A"
     ]
    },
    {
     "name": "stdout",
     "output_type": "stream",
     "text": [
      "[Errno 2] No such file or directory: 'D:/external_datasets/TAO/TAO_DIR/frames/val/AVA/t1LXrJOvPDg_scene_7_56366-57875/frame1151.jpg'\n"
     ]
    },
    {
     "name": "stderr",
     "output_type": "stream",
     "text": [
      "\n",
      " 93%|████████████████████████████████████████████████████████████████████▋     | 1217/1310 [1:35:23<02:01,  1.30s/it]"
     ]
    },
    {
     "name": "stdout",
     "output_type": "stream",
     "text": [
      "\n",
      ">> tree_house...\n",
      ">>>> #WARNING tree_house is missing from json annotations\n",
      "annotations datasets:  []\n",
      "annotations imgids:  []\n",
      "annotations bbox:  []\n",
      "\n",
      ">> trench_coat...\n",
      ">>>> #WARNING trench_coat is missing from json annotations\n",
      "annotations datasets:  []\n",
      "annotations imgids:  []\n",
      "annotations bbox:  []\n",
      "\n",
      ">> triangle_(musical_instrument)...\n",
      ">>>> #WARNING triangle_(musical_instrument) is missing from json annotations\n",
      "annotations datasets:  []\n",
      "annotations imgids:  []\n",
      "annotations bbox:  []\n",
      "\n",
      ">> tricycle...\n",
      ">>>> #WARNING tricycle is missing from json annotations\n",
      "annotations datasets:  []\n",
      "annotations imgids:  []\n",
      "annotations bbox:  []\n",
      "\n",
      ">> tripod...\n",
      "TAO\n"
     ]
    },
    {
     "name": "stderr",
     "output_type": "stream",
     "text": [
      " 93%|█████████████████████████████████████████████████████████████████████     | 1222/1310 [1:35:25<01:29,  1.01s/it]"
     ]
    },
    {
     "name": "stdout",
     "output_type": "stream",
     "text": [
      "\n",
      ">> trousers...\n",
      "TAO\n"
     ]
    },
    {
     "name": "stderr",
     "output_type": "stream",
     "text": [
      "\n",
      ">>> Finding TAO trousers...:   0%|                                                           | 0/145 [00:00<?, ?it/s]\u001b[A"
     ]
    },
    {
     "name": "stdout",
     "output_type": "stream",
     "text": [
      "[Errno 2] No such file or directory: 'D:/external_datasets/TAO/TAO_DIR/frames/val/AVA/keUOiCcHtoQ_scene_14_63540-65746/frame1551.jpg'\n"
     ]
    },
    {
     "name": "stderr",
     "output_type": "stream",
     "text": [
      "\n",
      "\n",
      ">>> Finding TAO trousers...:   1%|▎                                                  | 1/145 [00:00<00:11, 12.04it/s]\u001b[A"
     ]
    },
    {
     "name": "stdout",
     "output_type": "stream",
     "text": [
      "[Errno 2] No such file or directory: 'D:/external_datasets/TAO/TAO_DIR/frames/val/AVA/keUOiCcHtoQ_scene_14_63540-65746/frame1251.jpg'\n"
     ]
    },
    {
     "name": "stderr",
     "output_type": "stream",
     "text": [
      "\n",
      " 93%|█████████████████████████████████████████████████████████████████████     | 1223/1310 [1:35:26<01:43,  1.19s/it]\n",
      ">>> Finding TAO truck...:   0%|                                                             | 0/1671 [00:00<?, ?it/s]\u001b[A\n"
     ]
    },
    {
     "name": "stdout",
     "output_type": "stream",
     "text": [
      "\n",
      ">> truck...\n",
      "TAO\n",
      "[Errno 2] No such file or directory: 'D:/external_datasets/TAO/TAO_DIR/frames/val/ArgoVerse/de777454-df62-3d5a-a1ce-2edb5e5d4922/ring_front_center_315969230024776648.jpg'\n"
     ]
    },
    {
     "name": "stderr",
     "output_type": "stream",
     "text": [
      "\n",
      ">>> Finding TAO truck...:   0%|                                                     | 1/1671 [00:00<00:50, 33.30it/s]\u001b[A\n"
     ]
    },
    {
     "name": "stdout",
     "output_type": "stream",
     "text": [
      "[Errno 2] No such file or directory: 'D:/external_datasets/TAO/TAO_DIR/frames/val/ArgoVerse/side_right_1cf38cbe-deec-3675-9313-d736e02d1b58/ring_side_right_315970553096192160.jpg'\n"
     ]
    },
    {
     "name": "stderr",
     "output_type": "stream",
     "text": [
      "\n",
      ">>> Finding TAO truck...:   0%|                                                     | 2/1671 [00:00<00:25, 66.67it/s]\u001b[A"
     ]
    },
    {
     "name": "stdout",
     "output_type": "stream",
     "text": [
      "[Errno 2] No such file or directory: 'D:/external_datasets/TAO/TAO_DIR/frames/val/ArgoVerse/7dd530ed-80d9-30b7-80a6-57e7d334f302/ring_front_center_315968751089189712.jpg'\n"
     ]
    },
    {
     "name": "stderr",
     "output_type": "stream",
     "text": [
      "\n",
      "\n",
      ">>> Finding TAO truck...:   0%|                                                     | 3/1671 [00:00<00:21, 78.96it/s]\u001b[A"
     ]
    },
    {
     "name": "stdout",
     "output_type": "stream",
     "text": [
      "[Errno 2] No such file or directory: 'D:/external_datasets/TAO/TAO_DIR/frames/train/ArgoVerse/6725b340-0cf9-326e-a243-631ffc768df2/ring_front_center_315972305009675784.jpg'\n"
     ]
    },
    {
     "name": "stderr",
     "output_type": "stream",
     "text": [
      "\n",
      " 93%|█████████████████████████████████████████████████████████████████████▏    | 1224/1310 [1:35:28<01:58,  1.38s/it]"
     ]
    },
    {
     "name": "stdout",
     "output_type": "stream",
     "text": [
      "\n",
      ">> truffle_(chocolate)...\n",
      ">>>> #WARNING truffle_(chocolate) is missing from json annotations\n",
      "annotations datasets:  []\n",
      "annotations imgids:  []\n",
      "annotations bbox:  []\n",
      "\n",
      ">> trunk...\n",
      ">>>> #WARNING trunk is missing from json annotations\n",
      "annotations datasets:  []\n",
      "annotations imgids:  []\n",
      "annotations bbox:  []\n",
      "\n",
      ">> vat...\n",
      ">>>> #WARNING vat is missing from json annotations\n",
      "annotations datasets:  []\n",
      "annotations imgids:  []\n",
      "annotations bbox:  []\n",
      "\n",
      ">> turban...\n",
      ">>>> #WARNING turban is missing from json annotations\n",
      "annotations datasets:  []\n",
      "annotations imgids:  []\n",
      "annotations bbox:  []\n",
      "\n",
      ">> turkey_(bird)...\n",
      "TAO\n"
     ]
    },
    {
     "name": "stderr",
     "output_type": "stream",
     "text": [
      " 94%|█████████████████████████████████████████████████████████████████████▍    | 1229/1310 [1:35:30<01:28,  1.09s/it]"
     ]
    },
    {
     "name": "stdout",
     "output_type": "stream",
     "text": [
      "\n",
      ">> turkey_(food)...\n",
      ">>>> #WARNING turkey_(food) is missing from json annotations\n",
      "annotations datasets:  []\n",
      "annotations imgids:  []\n",
      "annotations bbox:  []\n",
      "\n",
      ">> turnip...\n",
      ">>>> #WARNING turnip is missing from json annotations\n",
      "annotations datasets:  []\n",
      "annotations imgids:  []\n",
      "annotations bbox:  []\n",
      "\n",
      ">> turtle...\n",
      "TAO\n"
     ]
    },
    {
     "name": "stderr",
     "output_type": "stream",
     "text": [
      " 94%|█████████████████████████████████████████████████████████████████████▌    | 1232/1310 [1:35:32<01:12,  1.07it/s]"
     ]
    },
    {
     "name": "stdout",
     "output_type": "stream",
     "text": [
      "\n",
      ">> turtleneck_(clothing)...\n",
      ">>>> #WARNING turtleneck_(clothing) is missing from json annotations\n",
      "annotations datasets:  []\n",
      "annotations imgids:  []\n",
      "annotations bbox:  []\n",
      "\n",
      ">> typewriter...\n",
      ">>>> #WARNING typewriter is missing from json annotations\n",
      "annotations datasets:  []\n",
      "annotations imgids:  []\n",
      "annotations bbox:  []\n",
      "\n",
      ">> umbrella...\n",
      "TAO\n"
     ]
    },
    {
     "name": "stderr",
     "output_type": "stream",
     "text": [
      "\n",
      ">>> Finding TAO umbrella...:   0%|                                                           | 0/374 [00:00<?, ?it/s]\u001b[A"
     ]
    },
    {
     "name": "stdout",
     "output_type": "stream",
     "text": [
      "[Errno 2] No such file or directory: 'D:/external_datasets/TAO/TAO_DIR/frames/val/YFCC100M/v_7d1d97829893a11c153f4134969dd16d/frame1021.jpg'\n"
     ]
    },
    {
     "name": "stderr",
     "output_type": "stream",
     "text": [
      "\n",
      " 94%|█████████████████████████████████████████████████████████████████████▊    | 1235/1310 [1:35:34<01:01,  1.23it/s]\n",
      ">>> Finding TAO underwear...:   0%|                                                           | 0/21 [00:00<?, ?it/s]\u001b[A\n"
     ]
    },
    {
     "name": "stdout",
     "output_type": "stream",
     "text": [
      "\n",
      ">> underwear...\n",
      "TAO\n",
      "[Errno 2] No such file or directory: 'D:/external_datasets/TAO/TAO_DIR/frames/val/AVA/4Y5qi1gD2Sw_scene_1_28435-31083/frame1111.jpg'\n",
      "[Errno 2] No such file or directory: 'D:/external_datasets/TAO/TAO_DIR/frames/val/AVA/4Y5qi1gD2Sw_scene_1_28435-31083/frame1021.jpg'\n"
     ]
    },
    {
     "name": "stderr",
     "output_type": "stream",
     "text": [
      "\n",
      ">>> Finding TAO underwear...:   5%|██▍                                                | 1/21 [00:00<00:00, 22.73it/s]\u001b[A\n",
      "\n",
      ">>> Finding TAO underwear...:  14%|███████▎                                           | 3/21 [00:00<00:00, 44.77it/s]\u001b[A"
     ]
    },
    {
     "name": "stdout",
     "output_type": "stream",
     "text": [
      "[Errno 2] No such file or directory: 'D:/external_datasets/TAO/TAO_DIR/frames/val/AVA/4Y5qi1gD2Sw_scene_1_28435-31083/frame1081.jpg'\n"
     ]
    },
    {
     "name": "stderr",
     "output_type": "stream",
     "text": [
      "\n",
      "\n",
      ">>> Finding TAO underwear...:  24%|███████████▉                                      | 5/21 [00:00<00:00, 125.00it/s]\u001b[A\n",
      "\n",
      ">>> Finding TAO underwear...:  29%|██████████████▎                                   | 6/21 [00:00<00:00, 124.91it/s]\u001b[A"
     ]
    },
    {
     "name": "stdout",
     "output_type": "stream",
     "text": [
      "[Errno 2] No such file or directory: 'D:/external_datasets/TAO/TAO_DIR/frames/val/AVA/4Y5qi1gD2Sw_scene_1_28435-31083/frame1051.jpg'\n",
      "[Errno 2] No such file or directory: 'D:/external_datasets/TAO/TAO_DIR/frames/val/AVA/4Y5qi1gD2Sw_scene_1_28435-31083/frame1261.jpg'\n"
     ]
    },
    {
     "name": "stderr",
     "output_type": "stream",
     "text": [
      "\n",
      "\n",
      ">>> Finding TAO underwear...:  33%|████████████████▋                                 | 7/21 [00:00<00:00, 129.79it/s]\u001b[A\n",
      "\n",
      ">>> Finding TAO underwear...:   0%|                                                           | 0/21 [00:00<?, ?it/s]\u001b[A"
     ]
    },
    {
     "name": "stdout",
     "output_type": "stream",
     "text": [
      "[Errno 2] No such file or directory: 'D:/external_datasets/TAO/TAO_DIR/frames/val/AVA/4Y5qi1gD2Sw_scene_1_28435-31083/frame1231.jpg'\n",
      "[Errno 2] No such file or directory: 'D:/external_datasets/TAO/TAO_DIR/frames/val/AVA/4Y5qi1gD2Sw_scene_1_28435-31083/frame1171.jpg'\n"
     ]
    },
    {
     "name": "stderr",
     "output_type": "stream",
     "text": [
      ">>> Finding TAO underwear...: 100%|█████████████████████████████████████████████████| 21/21 [00:00<00:00, 583.12it/s]\n",
      " 94%|█████████████████████████████████████████████████████████████████████▊    | 1236/1310 [1:35:35<01:13,  1.01it/s]"
     ]
    },
    {
     "name": "stdout",
     "output_type": "stream",
     "text": [
      ">>>> #WARNING: No file found for: TAO underwear...\n",
      "\n",
      ">> unicycle...\n",
      ">>>> #WARNING unicycle is missing from json annotations\n",
      "annotations datasets:  []\n",
      "annotations imgids:  []\n",
      "annotations bbox:  []\n",
      "\n",
      ">> urinal...\n",
      ">>>> #WARNING urinal is missing from json annotations\n",
      "annotations datasets:  []\n",
      "annotations imgids:  []\n",
      "annotations bbox:  []\n",
      "\n",
      ">> urn...\n",
      ">>>> #WARNING urn is missing from json annotations\n",
      "annotations datasets:  []\n",
      "annotations imgids:  []\n",
      "annotations bbox:  []\n",
      "\n",
      ">> vacuum_cleaner...\n",
      "TAO\n"
     ]
    },
    {
     "name": "stderr",
     "output_type": "stream",
     "text": [
      "\n",
      ">>> Finding TAO vacuum_cleaner...:   0%|                                                     | 0/277 [00:00<?, ?it/s]\u001b[A"
     ]
    },
    {
     "name": "stdout",
     "output_type": "stream",
     "text": [
      "[Errno 2] No such file or directory: 'D:/external_datasets/TAO/TAO_DIR/frames/val/YFCC100M/v_a3350f862828226813c4d79185b7111/frame1001.jpeg'\n"
     ]
    },
    {
     "name": "stderr",
     "output_type": "stream",
     "text": [
      "\n",
      " 95%|██████████████████████████████████████████████████████████████████████    | 1240/1310 [1:35:37<00:57,  1.21it/s]\n",
      ">>> Finding TAO violin...: 100%|████████████████████████████████████████████████████| 40/40 [00:00<00:00, 421.05it/s]\u001b[A\n",
      "\n",
      ">>> Finding TAO violin...:   0%|                                                              | 0/40 [00:00<?, ?it/s]\u001b[A"
     ]
    },
    {
     "name": "stdout",
     "output_type": "stream",
     "text": [
      "\n",
      ">> valve...\n",
      ">>>> #WARNING valve is missing from json annotations\n",
      "annotations datasets:  []\n",
      "annotations imgids:  []\n",
      "annotations bbox:  []\n",
      "\n",
      ">> vase...\n",
      ">>>> #WARNING vase is missing from json annotations\n",
      "annotations datasets:  []\n",
      "annotations imgids:  []\n",
      "annotations bbox:  []\n",
      "\n",
      ">> vending_machine...\n",
      ">>>> #WARNING vending_machine is missing from json annotations\n",
      "annotations datasets:  []\n",
      "annotations imgids:  []\n",
      "annotations bbox:  []\n",
      "\n",
      ">> vent...\n",
      ">>>> #WARNING vent is missing from json annotations\n",
      "annotations datasets:  []\n",
      "annotations imgids:  []\n",
      "annotations bbox:  []\n",
      "\n",
      ">> videotape...\n",
      ">>>> #WARNING videotape is missing from json annotations\n",
      "annotations datasets:  []\n",
      "annotations imgids:  []\n",
      "annotations bbox:  []\n",
      "\n",
      ">> vinegar...\n",
      ">>>> #WARNING vinegar is missing from json annotations\n",
      "annotations datasets:  []\n",
      "annotations imgids:  []\n",
      "annotations bbox:  []\n",
      "\n",
      ">> violin...\n",
      "TAO\n",
      "[Errno 2] No such file or directory: 'D:/external_datasets/TAO/TAO_DIR/frames/train/HACS/Playing_violin_v_Z11ALGaUmH0/frame2176.jpg'\n",
      ">>>> #WARNING: No file found for: TAO violin...\n",
      "[Errno 2] No such file or directory: 'D:/external_datasets/TAO/TAO_DIR/frames/train/HACS/Playing_violin_v_Z11ALGaUmH0/frame2051.jpg'\n"
     ]
    },
    {
     "name": "stderr",
     "output_type": "stream",
     "text": [
      ">>> Finding TAO violin...: 100%|████████████████████████████████████████████████████| 40/40 [00:00<00:00, 444.42it/s]\n",
      "\n",
      ">>> Finding TAO violin...: 100%|████████████████████████████████████████████████████| 40/40 [00:00<00:00, 506.18it/s]\u001b[A\n",
      "\n",
      ">>> Finding TAO violin...: 100%|████████████████████████████████████████████████████| 40/40 [00:00<00:00, 465.25it/s]\u001b[A"
     ]
    },
    {
     "name": "stdout",
     "output_type": "stream",
     "text": [
      ">>>> #WARNING: No file found for: TAO violin...\n",
      "[Errno 2] No such file or directory: 'D:/external_datasets/TAO/TAO_DIR/frames/train/HACS/Playing_violin_v_Z11ALGaUmH0/frame1451.jpg'\n",
      ">>>> #WARNING: No file found for: TAO violin...\n",
      "[Errno 2] No such file or directory: 'D:/external_datasets/TAO/TAO_DIR/frames/train/HACS/Playing_violin_v_Z11ALGaUmH0/frame1976.jpg'\n",
      ">>>> #WARNING: No file found for: TAO violin...\n",
      "[Errno 2] No such file or directory: 'D:/external_datasets/TAO/TAO_DIR/frames/train/HACS/Playing_violin_v_Z11ALGaUmH0/frame1851.jpg'"
     ]
    },
    {
     "name": "stderr",
     "output_type": "stream",
     "text": [
      "\n",
      "\n",
      ">>> Finding TAO violin...: 100%|████████████████████████████████████████████████████| 40/40 [00:00<00:00, 449.30it/s]\u001b[A\n",
      "\n",
      ">>> Finding TAO violin...: 100%|████████████████████████████████████████████████████| 40/40 [00:00<00:00, 430.10it/s]\u001b[A"
     ]
    },
    {
     "name": "stdout",
     "output_type": "stream",
     "text": [
      "\n",
      ">>>> #WARNING: No file found for: TAO violin...\n",
      "[Errno 2] No such file or directory: 'D:/external_datasets/TAO/TAO_DIR/frames/train/HACS/Playing_violin_v_Z11ALGaUmH0/frame1626.jpg'\n"
     ]
    },
    {
     "name": "stderr",
     "output_type": "stream",
     "text": [
      "\n",
      "\n",
      ">>> Finding TAO violin...: 100%|████████████████████████████████████████████████████| 40/40 [00:00<00:00, 412.43it/s]\u001b[A\n",
      "\n",
      ">>> Finding TAO violin...:   0%|                                                              | 0/40 [00:00<?, ?it/s]\u001b[A"
     ]
    },
    {
     "name": "stdout",
     "output_type": "stream",
     "text": [
      ">>>> #WARNING: No file found for: TAO violin...\n",
      "[Errno 2] No such file or directory: 'D:/external_datasets/TAO/TAO_DIR/frames/train/HACS/Playing_violin_v_Z11ALGaUmH0/frame1551.jpg'\n",
      ">>>> #WARNING: No file found for: TAO violin...\n",
      "[Errno 2] No such file or directory: 'D:/external_datasets/TAO/TAO_DIR/frames/train/HACS/Playing_violin_v_Z11ALGaUmH0/frame1776.jpg'\n"
     ]
    },
    {
     "name": "stderr",
     "output_type": "stream",
     "text": [
      "\n",
      ">>> Finding TAO violin...: 100%|████████████████████████████████████████████████████| 40/40 [00:00<00:00, 384.60it/s]\u001b[A\n",
      "\n",
      ">>> Finding TAO violin...: 100%|████████████████████████████████████████████████████| 40/40 [00:00<00:00, 421.09it/s]\u001b[A\n",
      "\n",
      ">>> Finding TAO violin...:   0%|                                                              | 0/40 [00:00<?, ?it/s]\u001b[A"
     ]
    },
    {
     "name": "stdout",
     "output_type": "stream",
     "text": [
      ">>>> #WARNING: No file found for: TAO violin...\n",
      "[Errno 2] No such file or directory: 'D:/external_datasets/TAO/TAO_DIR/frames/train/HACS/Playing_violin_v_Z11ALGaUmH0/frame2001.jpg'\n",
      ">>>> #WARNING: No file found for: TAO violin...\n",
      "[Errno 2] No such file or directory: 'D:/external_datasets/TAO/TAO_DIR/frames/train/HACS/Playing_violin_v_Z11ALGaUmH0/frame2276.jpg'\n"
     ]
    },
    {
     "name": "stderr",
     "output_type": "stream",
     "text": [
      ">>> Finding TAO violin...: 100%|████████████████████████████████████████████████████| 40/40 [00:00<00:00, 408.14it/s]\n",
      " 95%|██████████████████████████████████████████████████████████████████████▍   | 1247/1310 [1:35:38<00:39,  1.61it/s]"
     ]
    },
    {
     "name": "stdout",
     "output_type": "stream",
     "text": [
      ">>>> #WARNING: No file found for: TAO violin...\n",
      "\n",
      ">> vodka...\n",
      ">>>> #WARNING vodka is missing from json annotations\n",
      "annotations datasets:  []\n",
      "annotations imgids:  []\n",
      "annotations bbox:  []\n",
      "\n",
      ">> volleyball...\n",
      "TAO\n"
     ]
    },
    {
     "name": "stderr",
     "output_type": "stream",
     "text": [
      " 95%|██████████████████████████████████████████████████████████████████████▌   | 1249/1310 [1:35:39<00:40,  1.52it/s]\n",
      ">>> Finding TAO walking_stick...:   1%|▌                                              | 1/78 [00:00<00:04, 16.40it/s]\u001b[A\n"
     ]
    },
    {
     "name": "stdout",
     "output_type": "stream",
     "text": [
      "\n",
      ">> vulture...\n",
      ">>>> #WARNING vulture is missing from json annotations\n",
      "annotations datasets:  []\n",
      "annotations imgids:  []\n",
      "annotations bbox:  []\n",
      "\n",
      ">> waffle...\n",
      ">>>> #WARNING waffle is missing from json annotations\n",
      "annotations datasets:  []\n",
      "annotations imgids:  []\n",
      "annotations bbox:  []\n",
      "\n",
      ">> waffle_iron...\n",
      ">>>> #WARNING waffle_iron is missing from json annotations\n",
      "annotations datasets:  []\n",
      "annotations imgids:  []\n",
      "annotations bbox:  []\n",
      "\n",
      ">> wagon...\n",
      ">>>> #WARNING wagon is missing from json annotations\n",
      "annotations datasets:  []\n",
      "annotations imgids:  []\n",
      "annotations bbox:  []\n",
      "\n",
      ">> wagon_wheel...\n",
      ">>>> #WARNING wagon_wheel is missing from json annotations\n",
      "annotations datasets:  []\n",
      "annotations imgids:  []\n",
      "annotations bbox:  []\n",
      "\n",
      ">> walking_stick...\n",
      "TAO\n",
      "[Errno 2] No such file or directory: 'D:/external_datasets/TAO/TAO_DIR/frames/train/AVA/uwW0ejeosmk_scene_3_50442-52200/frame1151.jpg'\n"
     ]
    },
    {
     "name": "stderr",
     "output_type": "stream",
     "text": [
      "\n",
      ">>> Finding TAO walking_stick...:   3%|█▏                                             | 2/78 [00:00<00:03, 25.00it/s]\u001b[A"
     ]
    },
    {
     "name": "stdout",
     "output_type": "stream",
     "text": [
      "[Errno 2] No such file or directory: 'D:/external_datasets/TAO/TAO_DIR/frames/val/YFCC100M/v_a8527f6556714827bb5a2cf724562d/frame0541.jpeg'\n"
     ]
    },
    {
     "name": "stderr",
     "output_type": "stream",
     "text": [
      "\n",
      "\n",
      ">>> Finding TAO walking_stick...:   4%|█▊                                             | 3/78 [00:00<00:00, 93.76it/s]\u001b[A"
     ]
    },
    {
     "name": "stdout",
     "output_type": "stream",
     "text": [
      "[Errno 2] No such file or directory: 'D:/external_datasets/TAO/TAO_DIR/frames/train/AVA/uwW0ejeosmk_scene_3_50442-52200/frame1201.jpg'\n"
     ]
    },
    {
     "name": "stderr",
     "output_type": "stream",
     "text": [
      "\n",
      "\n",
      ">>> Finding TAO walking_stick...:   5%|██▍                                            | 4/78 [00:00<00:01, 45.98it/s]\u001b[A"
     ]
    },
    {
     "name": "stdout",
     "output_type": "stream",
     "text": [
      "[Errno 2] No such file or directory: 'D:/external_datasets/TAO/TAO_DIR/frames/val/YFCC100M/v_a8527f6556714827bb5a2cf724562d/frame1411.jpeg'\n"
     ]
    },
    {
     "name": "stderr",
     "output_type": "stream",
     "text": [
      "\n",
      "\n",
      ">>> Finding TAO walking_stick...:   6%|██▉                                           | 5/78 [00:00<00:00, 151.52it/s]\u001b[A"
     ]
    },
    {
     "name": "stdout",
     "output_type": "stream",
     "text": [
      "[Errno 2] No such file or directory: 'D:/external_datasets/TAO/TAO_DIR/frames/val/YFCC100M/v_a8527f6556714827bb5a2cf724562d/frame0631.jpeg'\n"
     ]
    },
    {
     "name": "stderr",
     "output_type": "stream",
     "text": [
      "\n",
      "\n",
      ">>> Finding TAO walking_stick...:  10%|████▋                                         | 8/78 [00:00<00:00, 100.04it/s]\u001b[A"
     ]
    },
    {
     "name": "stdout",
     "output_type": "stream",
     "text": [
      "[Errno 2] No such file or directory: 'D:/external_datasets/TAO/TAO_DIR/frames/train/AVA/uwW0ejeosmk_scene_3_50442-52200/frame1176.jpg'\n"
     ]
    },
    {
     "name": "stderr",
     "output_type": "stream",
     "text": [
      "\n",
      "\n",
      ">>> Finding TAO walking_stick...:  12%|█████▎                                        | 9/78 [00:00<00:00, 112.50it/s]\u001b[A"
     ]
    },
    {
     "name": "stdout",
     "output_type": "stream",
     "text": [
      "[Errno 2] No such file or directory: 'D:/external_datasets/TAO/TAO_DIR/frames/train/AVA/uwW0ejeosmk_scene_3_50442-52200/frame1251.jpg'\n"
     ]
    },
    {
     "name": "stderr",
     "output_type": "stream",
     "text": [
      "\n",
      " 96%|██████████████████████████████████████████████████████████████████████▉   | 1255/1310 [1:35:43<00:34,  1.61it/s]\n",
      ">>> Finding TAO wallet...:   0%|                                                              | 0/12 [00:00<?, ?it/s]\u001b[A\n"
     ]
    },
    {
     "name": "stdout",
     "output_type": "stream",
     "text": [
      "\n",
      ">> wall_clock...\n",
      ">>>> #WARNING wall_clock is missing from json annotations\n",
      "annotations datasets:  []\n",
      "annotations imgids:  []\n",
      "annotations bbox:  []\n",
      "\n",
      ">> wall_socket...\n",
      ">>>> #WARNING wall_socket is missing from json annotations\n",
      "annotations datasets:  []\n",
      "annotations imgids:  []\n",
      "annotations bbox:  []\n",
      "\n",
      ">> wallet...\n",
      "TAO\n",
      "[Errno 2] No such file or directory: 'D:/external_datasets/TAO/TAO_DIR/frames/val/AVA/4Y5qi1gD2Sw_scene_1_28435-31083/frame1801.jpg'\n"
     ]
    },
    {
     "name": "stderr",
     "output_type": "stream",
     "text": [
      "\n",
      ">>> Finding TAO wallet...: 100%|███████████████████████████████████████████████████| 12/12 [00:00<00:00, 1497.03it/s]\u001b[A\n",
      "\n",
      ">>> Finding TAO wallet...: 100%|███████████████████████████████████████████████████| 12/12 [00:00<00:00, 1713.30it/s]\u001b[A\n",
      "\n",
      ">>> Finding TAO wallet...: 100%|███████████████████████████████████████████████████| 12/12 [00:00<00:00, 1503.60it/s]\u001b[A"
     ]
    },
    {
     "name": "stdout",
     "output_type": "stream",
     "text": [
      "[Errno 2] No such file or directory: 'D:/external_datasets/TAO/TAO_DIR/frames/val/AVA/4Y5qi1gD2Sw_scene_1_28435-31083/frame1711.jpg'\n",
      ">>>> #WARNING: No file found for: TAO wallet...\n",
      "[Errno 2] No such file or directory: 'D:/external_datasets/TAO/TAO_DIR/frames/val/AVA/4Y5qi1gD2Sw_scene_1_28435-31083/frame1771.jpg'\n",
      ">>>> #WARNING: No file found for: TAO wallet...\n",
      "[Errno 2] No such file or directory: 'D:/external_datasets/TAO/TAO_DIR/frames/val/AVA/4Y5qi1gD2Sw_scene_1_28435-31083/frame1741.jpg'\n",
      ">>>> #WARNING: No file found for: TAO wallet...\n"
     ]
    },
    {
     "name": "stderr",
     "output_type": "stream",
     "text": [
      "\n",
      " 96%|███████████████████████████████████████████████████████████████████████   | 1258/1310 [1:35:44<00:28,  1.82it/s]"
     ]
    },
    {
     "name": "stdout",
     "output_type": "stream",
     "text": [
      "\n",
      ">> walrus...\n",
      "TAO\n"
     ]
    },
    {
     "name": "stderr",
     "output_type": "stream",
     "text": [
      " 96%|███████████████████████████████████████████████████████████████████████   | 1259/1310 [1:35:45<00:43,  1.18it/s]"
     ]
    },
    {
     "name": "stdout",
     "output_type": "stream",
     "text": [
      "\n",
      ">> wardrobe...\n",
      ">>>> #WARNING wardrobe is missing from json annotations\n",
      "annotations datasets:  []\n",
      "annotations imgids:  []\n",
      "annotations bbox:  []\n",
      "\n",
      ">> wasabi...\n",
      ">>>> #WARNING wasabi is missing from json annotations\n",
      "annotations datasets:  []\n",
      "annotations imgids:  []\n",
      "annotations bbox:  []\n",
      "\n",
      ">> automatic_washer...\n",
      "TAO\n"
     ]
    },
    {
     "name": "stderr",
     "output_type": "stream",
     "text": [
      "\n",
      ">>> Finding TAO automatic_washer...:   0%|                                                    | 0/83 [00:00<?, ?it/s]\u001b[A"
     ]
    },
    {
     "name": "stdout",
     "output_type": "stream",
     "text": [
      "[Errno 2] No such file or directory: 'D:/external_datasets/TAO/TAO_DIR/frames/val/Charades/PQYWB/frame1261.jpg'\n"
     ]
    },
    {
     "name": "stderr",
     "output_type": "stream",
     "text": [
      "\n",
      " 96%|███████████████████████████████████████████████████████████████████████▎  | 1262/1310 [1:35:47<00:37,  1.29it/s]"
     ]
    },
    {
     "name": "stdout",
     "output_type": "stream",
     "text": [
      "\n",
      ">> watch...\n",
      "TAO\n"
     ]
    },
    {
     "name": "stderr",
     "output_type": "stream",
     "text": [
      " 96%|███████████████████████████████████████████████████████████████████████▎  | 1263/1310 [1:35:49<00:47,  1.00s/it]"
     ]
    },
    {
     "name": "stdout",
     "output_type": "stream",
     "text": [
      "\n",
      ">> water_bottle...\n",
      "TAO\n"
     ]
    },
    {
     "name": "stderr",
     "output_type": "stream",
     "text": [
      " 96%|███████████████████████████████████████████████████████████████████████▍  | 1264/1310 [1:35:51<01:07,  1.46s/it]"
     ]
    },
    {
     "name": "stdout",
     "output_type": "stream",
     "text": [
      "\n",
      ">> water_cooler...\n"
     ]
    },
    {
     "name": "stderr",
     "output_type": "stream",
     "text": [
      " 97%|███████████████████████████████████████████████████████████████████████▍  | 1265/1310 [1:35:51<00:49,  1.09s/it]"
     ]
    },
    {
     "name": "stdout",
     "output_type": "stream",
     "text": [
      ">>>> #WARNING water_cooler is missing from json annotations\n",
      "annotations datasets:  []\n",
      "annotations imgids:  []\n",
      "annotations bbox:  []\n",
      "\n",
      ">> water_faucet...\n",
      ">>>> #WARNING water_faucet is missing from json annotations\n",
      "annotations datasets:  []\n",
      "annotations imgids:  []\n",
      "annotations bbox:  []\n",
      "\n",
      ">> water_filter...\n",
      ">>>> #WARNING water_filter is missing from json annotations\n",
      "annotations datasets:  []\n",
      "annotations imgids:  []\n",
      "annotations bbox:  []\n",
      "\n",
      ">> water_heater...\n",
      ">>>> #WARNING water_heater is missing from json annotations\n",
      "annotations datasets:  []\n",
      "annotations imgids:  []\n",
      "annotations bbox:  []\n",
      "\n",
      ">> water_jug...\n",
      "TAO\n"
     ]
    },
    {
     "name": "stderr",
     "output_type": "stream",
     "text": [
      " 97%|███████████████████████████████████████████████████████████████████████▋  | 1269/1310 [1:35:52<00:32,  1.25it/s]"
     ]
    },
    {
     "name": "stdout",
     "output_type": "stream",
     "text": [
      "\n",
      ">> water_gun...\n",
      ">>>> #WARNING water_gun is missing from json annotations\n",
      "annotations datasets:  []\n",
      "annotations imgids:  []\n",
      "annotations bbox:  []\n",
      "\n",
      ">> water_scooter...\n",
      "TAO\n"
     ]
    },
    {
     "name": "stderr",
     "output_type": "stream",
     "text": [
      " 97%|███████████████████████████████████████████████████████████████████████▊  | 1271/1310 [1:35:54<00:31,  1.23it/s]"
     ]
    },
    {
     "name": "stdout",
     "output_type": "stream",
     "text": [
      "\n",
      ">> water_ski...\n",
      "TAO\n"
     ]
    },
    {
     "name": "stderr",
     "output_type": "stream",
     "text": [
      " 97%|███████████████████████████████████████████████████████████████████████▊  | 1272/1310 [1:35:55<00:37,  1.02it/s]"
     ]
    },
    {
     "name": "stdout",
     "output_type": "stream",
     "text": [
      "\n",
      ">> water_tower...\n",
      ">>>> #WARNING water_tower is missing from json annotations\n",
      "annotations datasets:  []\n",
      "annotations imgids:  []\n",
      "annotations bbox:  []\n",
      "\n",
      ">> watering_can...\n",
      ">>>> #WARNING watering_can is missing from json annotations\n",
      "annotations datasets:  []\n",
      "annotations imgids:  []\n",
      "annotations bbox:  []\n",
      "\n",
      ">> watermelon...\n",
      ">>>> #WARNING watermelon is missing from json annotations\n",
      "annotations datasets:  []\n",
      "annotations imgids:  []\n",
      "annotations bbox:  []\n",
      "\n",
      ">> weathervane...\n",
      ">>>> #WARNING weathervane is missing from json annotations\n",
      "annotations datasets:  []\n",
      "annotations imgids:  []\n",
      "annotations bbox:  []\n",
      "\n",
      ">> webcam...\n",
      ">>>> #WARNING webcam is missing from json annotations\n",
      "annotations datasets:  []\n",
      "annotations imgids:  []\n",
      "annotations bbox:  []\n",
      "\n",
      ">> wedding_cake...\n",
      ">>>> #WARNING wedding_cake is missing from json annotations\n",
      "annotations datasets:  []\n",
      "annotations imgids:  []\n",
      "annotations bbox:  []\n",
      "\n",
      ">> wedding_ring...\n",
      ">>>> #WARNING wedding_ring is missing from json annotations\n",
      "annotations datasets:  []\n",
      "annotations imgids:  []\n",
      "annotations bbox:  []\n",
      "\n",
      ">> wet_suit...\n",
      ">>>> #WARNING wet_suit is missing from json annotations\n",
      "annotations datasets:  []\n",
      "annotations imgids:  []\n",
      "annotations bbox:  []\n",
      "\n",
      ">> wheel...\n",
      ">>>> #WARNING wheel is missing from json annotations\n",
      "annotations datasets:  []\n",
      "annotations imgids:  []\n",
      "annotations bbox:  []\n",
      "\n",
      ">> wheelchair...\n",
      ">>>> #WARNING wheelchair is missing from json annotations\n",
      "annotations datasets:  []\n",
      "annotations imgids:  []\n",
      "annotations bbox:  []\n",
      "\n",
      ">> whipped_cream...\n",
      ">>>> #WARNING whipped_cream is missing from json annotations\n",
      "annotations datasets:  []\n",
      "annotations imgids:  []\n",
      "annotations bbox:  []\n",
      "\n",
      ">> whiskey...\n",
      ">>>> #WARNING whiskey is missing from json annotations\n",
      "annotations datasets:  []\n",
      "annotations imgids:  []\n",
      "annotations bbox:  []\n",
      "\n",
      ">> whistle...\n",
      ">>>> #WARNING whistle is missing from json annotations\n",
      "annotations datasets:  []\n",
      "annotations imgids:  []\n",
      "annotations bbox:  []\n",
      "\n",
      ">> wick...\n",
      ">>>> #WARNING wick is missing from json annotations\n",
      "annotations datasets:  []\n",
      "annotations imgids:  []\n",
      "annotations bbox:  []\n",
      "\n",
      ">> wig...\n",
      "TAO\n",
      "[Errno 2] No such file or directory: 'D:/external_datasets/TAO/TAO_DIR/frames/train/AVA/XOe9GeojzCs_scene_3_8538-9883/frame1021.jpg'\n"
     ]
    },
    {
     "name": "stderr",
     "output_type": "stream",
     "text": [
      "\n",
      ">>> Finding TAO wig...: 100%|██████████████████████████████████████████████████████████████████| 8/8 [00:00<?, ?it/s]\u001b[A\n",
      "\n",
      ">>> Finding TAO wig...: 100%|████████████████████████████████████████████████████████| 8/8 [00:00<00:00, 8248.39it/s]\u001b[A\n"
     ]
    },
    {
     "name": "stdout",
     "output_type": "stream",
     "text": [
      ">>>> #WARNING: No file found for: TAO wig...\n",
      "[Errno 2] No such file or directory: 'D:/external_datasets/TAO/TAO_DIR/frames/train/AVA/XOe9GeojzCs_scene_3_8538-9883/frame0991.jpg'\n",
      ">>>> #WARNING: No file found for: TAO wig...\n"
     ]
    },
    {
     "name": "stderr",
     "output_type": "stream",
     "text": [
      " 98%|████████████████████████████████████████████████████████████████████████▋ | 1287/1310 [1:35:56<00:16,  1.42it/s]"
     ]
    },
    {
     "name": "stdout",
     "output_type": "stream",
     "text": [
      "\n",
      ">> wind_chime...\n",
      ">>>> #WARNING wind_chime is missing from json annotations\n",
      "annotations datasets:  []\n",
      "annotations imgids:  []\n",
      "annotations bbox:  []\n",
      "\n",
      ">> windmill...\n",
      ">>>> #WARNING windmill is missing from json annotations\n",
      "annotations datasets:  []\n",
      "annotations imgids:  []\n",
      "annotations bbox:  []\n",
      "\n",
      ">> window_box_(for_plants)...\n",
      ">>>> #WARNING window_box_(for_plants) is missing from json annotations\n",
      "annotations datasets:  []\n",
      "annotations imgids:  []\n",
      "annotations bbox:  []\n",
      "\n",
      ">> windshield_wiper...\n",
      "TAO\n"
     ]
    },
    {
     "name": "stderr",
     "output_type": "stream",
     "text": [
      " 99%|████████████████████████████████████████████████████████████████████████▉ | 1291/1310 [1:35:58<00:11,  1.60it/s]\n",
      ">>> Finding TAO wine_bottle...: 100%|██████████████████████████████████████████████████████████| 9/9 [00:00<?, ?it/s]\u001b[A\n",
      "\n",
      ">>> Finding TAO wine_bottle...: 100%|██████████████████████████████████████████████████████████| 9/9 [00:00<?, ?it/s]\u001b[A\n",
      "\n",
      ">>> Finding TAO wine_bottle...: 100%|██████████████████████████████████████████████████████████| 9/9 [00:00<?, ?it/s]\u001b[A\n",
      "\n",
      ">>> Finding TAO wine_bottle...: 100%|██████████████████████████████████████████████████████████| 9/9 [00:00<?, ?it/s]\u001b[A\n",
      "\n",
      ">>> Finding TAO wine_bottle...: 100%|██████████████████████████████████████████████████████████| 9/9 [00:00<?, ?it/s]\u001b[A\n",
      "\n",
      ">>> Finding TAO wine_bottle...: 100%|██████████████████████████████████████████████████████████| 9/9 [00:00<?, ?it/s]\u001b[A\n",
      "\n",
      ">>> Finding TAO wine_bottle...: 100%|██████████████████████████████████████████████████████████| 9/9 [00:00<?, ?it/s]\u001b[A\n",
      "\n",
      ">>> Finding TAO wine_bottle...: 100%|██████████████████████████████████████████████████████████| 9/9 [00:00<?, ?it/s]\u001b[A\n",
      "\n",
      ">>> Finding TAO wine_bottle...: 100%|████████████████████████████████████████████████| 9/9 [00:00<00:00, 8970.71it/s]\u001b[A\n"
     ]
    },
    {
     "name": "stdout",
     "output_type": "stream",
     "text": [
      "\n",
      ">> windsock...\n",
      ">>>> #WARNING windsock is missing from json annotations\n",
      "annotations datasets:  []\n",
      "annotations imgids:  []\n",
      "annotations bbox:  []\n",
      "\n",
      ">> wine_bottle...\n",
      "TAO\n",
      "[Errno 2] No such file or directory: 'D:/external_datasets/TAO/TAO_DIR/frames/train/AVA/XOe9GeojzCs_scene_8_44057-45561/frame1231.jpg'\n",
      ">>>> #WARNING: No file found for: TAO wine_bottle...\n",
      "[Errno 2] No such file or directory: 'D:/external_datasets/TAO/TAO_DIR/frames/train/AVA/XOe9GeojzCs_scene_8_44057-45561/frame1141.jpg'\n",
      ">>>> #WARNING: No file found for: TAO wine_bottle...\n",
      "[Errno 2] No such file or directory: 'D:/external_datasets/TAO/TAO_DIR/frames/train/AVA/XOe9GeojzCs_scene_8_44057-45561/frame1021.jpg'\n",
      ">>>> #WARNING: No file found for: TAO wine_bottle...\n",
      "[Errno 2] No such file or directory: 'D:/external_datasets/TAO/TAO_DIR/frames/train/AVA/XOe9GeojzCs_scene_8_44057-45561/frame1261.jpg'\n",
      ">>>> #WARNING: No file found for: TAO wine_bottle...\n",
      "[Errno 2] No such file or directory: 'D:/external_datasets/TAO/TAO_DIR/frames/train/AVA/XOe9GeojzCs_scene_8_44057-45561/frame1081.jpg'\n",
      ">>>> #WARNING: No file found for: TAO wine_bottle...\n",
      "[Errno 2] No such file or directory: 'D:/external_datasets/TAO/TAO_DIR/frames/train/AVA/XOe9GeojzCs_scene_8_44057-45561/frame1051.jpg'\n",
      ">>>> #WARNING: No file found for: TAO wine_bottle...\n",
      "[Errno 2] No such file or directory: 'D:/external_datasets/TAO/TAO_DIR/frames/train/AVA/XOe9GeojzCs_scene_8_44057-45561/frame1111.jpg'\n",
      ">>>> #WARNING: No file found for: TAO wine_bottle...\n",
      "[Errno 2] No such file or directory: 'D:/external_datasets/TAO/TAO_DIR/frames/train/AVA/XOe9GeojzCs_scene_8_44057-45561/frame1201.jpg'\n",
      ">>>> #WARNING: No file found for: TAO wine_bottle...\n",
      "[Errno 2] No such file or directory: 'D:/external_datasets/TAO/TAO_DIR/frames/train/AVA/XOe9GeojzCs_scene_8_44057-45561/frame1171.jpg'\n",
      ">>>> #WARNING: No file found for: TAO wine_bottle...\n",
      "\n",
      ">> wine_bucket...\n",
      ">>>> #WARNING wine_bucket is missing from json annotations\n",
      "annotations datasets:  []\n",
      "annotations imgids:  []\n",
      "annotations bbox:  []\n",
      "\n",
      ">> wineglass...\n",
      "TAO\n"
     ]
    },
    {
     "name": "stderr",
     "output_type": "stream",
     "text": [
      "\n",
      ">>> Finding TAO wineglass...:   0%|                                                          | 0/175 [00:00<?, ?it/s]\u001b[A\n"
     ]
    },
    {
     "name": "stdout",
     "output_type": "stream",
     "text": [
      "[Errno 2] No such file or directory: 'D:/external_datasets/TAO/TAO_DIR/frames/val/Charades/5ACD3/frame1141.jpg'\n"
     ]
    },
    {
     "name": "stderr",
     "output_type": "stream",
     "text": [
      "\n",
      ">>> Finding TAO wineglass...:   1%|▎                                                 | 1/175 [00:00<00:05, 33.34it/s]\u001b[A"
     ]
    },
    {
     "name": "stdout",
     "output_type": "stream",
     "text": [
      "[Errno 2] No such file or directory: 'D:/external_datasets/TAO/TAO_DIR/frames/val/Charades/3YVPG/frame1081.jpg'\n"
     ]
    },
    {
     "name": "stderr",
     "output_type": "stream",
     "text": [
      "\n",
      "\n",
      ">>> Finding TAO wineglass...:   1%|▌                                                 | 2/175 [00:00<00:03, 51.28it/s]\u001b[A\n",
      "\n",
      ">>> Finding TAO wineglass...:   2%|▊                                                 | 3/175 [00:00<00:02, 73.17it/s]\u001b[A"
     ]
    },
    {
     "name": "stdout",
     "output_type": "stream",
     "text": [
      "[Errno 2] No such file or directory: 'D:/external_datasets/TAO/TAO_DIR/frames/val/Charades/3YVPG/frame1171.jpg'\n",
      "[Errno 2] No such file or directory: 'D:/external_datasets/TAO/TAO_DIR/frames/val/Charades/3YVPG/frame0991.jpg'\n"
     ]
    },
    {
     "name": "stderr",
     "output_type": "stream",
     "text": [
      "\n",
      " 99%|█████████████████████████████████████████████████████████████████████████▏| 1295/1310 [1:35:59<00:08,  1.77it/s]"
     ]
    },
    {
     "name": "stdout",
     "output_type": "stream",
     "text": [
      "\n",
      ">> wing_chair...\n",
      ">>>> #WARNING wing_chair is missing from json annotations\n",
      "annotations datasets:  []\n",
      "annotations imgids:  []\n",
      "annotations bbox:  []\n",
      "\n",
      ">> blinder_(for_horses)...\n",
      ">>>> #WARNING blinder_(for_horses) is missing from json annotations\n",
      "annotations datasets:  []\n",
      "annotations imgids:  []\n",
      "annotations bbox:  []\n",
      "\n",
      ">> wok...\n",
      ">>>> #WARNING wok is missing from json annotations\n",
      "annotations datasets:  []\n",
      "annotations imgids:  []\n",
      "annotations bbox:  []\n",
      "\n",
      ">> wolf...\n",
      ">>>> #WARNING wolf is missing from json annotations\n",
      "annotations datasets:  []\n",
      "annotations imgids:  []\n",
      "annotations bbox:  []\n",
      "\n",
      ">> wooden_spoon...\n",
      "TAO\n"
     ]
    },
    {
     "name": "stderr",
     "output_type": "stream",
     "text": [
      "\n",
      ">>> Finding TAO wooden_spoon...:  72%|█████████████████████████████████▏            | 26/36 [00:00<00:00, 227.99it/s]\u001b[A"
     ]
    },
    {
     "name": "stdout",
     "output_type": "stream",
     "text": [
      "[Errno 2] No such file or directory: 'D:/external_datasets/TAO/TAO_DIR/frames/val/YFCC100M/v_460a1314da9bd32cbd14a2b3414f30/frame0649.jpeg'\n"
     ]
    },
    {
     "name": "stderr",
     "output_type": "stream",
     "text": [
      "\n",
      "\n",
      ">>> Finding TAO wooden_spoon...:  78%|███████████████████████████████████▊          | 28/36 [00:00<00:00, 213.74it/s]\u001b[A"
     ]
    },
    {
     "name": "stdout",
     "output_type": "stream",
     "text": [
      "[Errno 2] No such file or directory: 'D:/external_datasets/TAO/TAO_DIR/frames/val/YFCC100M/v_460a1314da9bd32cbd14a2b3414f30/frame1129.jpeg'\n"
     ]
    },
    {
     "name": "stderr",
     "output_type": "stream",
     "text": [
      "\n",
      "\n",
      ">>> Finding TAO wooden_spoon...:  81%|█████████████████████████████████████         | 29/36 [00:00<00:00, 247.79it/s]\u001b[A"
     ]
    },
    {
     "name": "stdout",
     "output_type": "stream",
     "text": [
      "[Errno 2] No such file or directory: 'D:/external_datasets/TAO/TAO_DIR/frames/val/YFCC100M/v_460a1314da9bd32cbd14a2b3414f30/frame1081.jpeg'\n"
     ]
    },
    {
     "name": "stderr",
     "output_type": "stream",
     "text": [
      "\n",
      "\n",
      ">>> Finding TAO wooden_spoon...:  83%|██████████████████████████████████████▎       | 30/36 [00:00<00:00, 227.28it/s]\u001b[A"
     ]
    },
    {
     "name": "stdout",
     "output_type": "stream",
     "text": [
      "[Errno 2] No such file or directory: 'D:/external_datasets/TAO/TAO_DIR/frames/val/YFCC100M/v_460a1314da9bd32cbd14a2b3414f30/frame1321.jpeg'\n"
     ]
    },
    {
     "name": "stderr",
     "output_type": "stream",
     "text": [
      "\n",
      "\n",
      ">>> Finding TAO wooden_spoon...:  86%|███████████████████████████████████████▌      | 31/36 [00:00<00:00, 229.62it/s]\u001b[A"
     ]
    },
    {
     "name": "stdout",
     "output_type": "stream",
     "text": [
      "[Errno 2] No such file or directory: 'D:/external_datasets/TAO/TAO_DIR/frames/val/YFCC100M/v_460a1314da9bd32cbd14a2b3414f30/frame1105.jpeg'\n"
     ]
    },
    {
     "name": "stderr",
     "output_type": "stream",
     "text": [
      "\n",
      "\n",
      ">>> Finding TAO wooden_spoon...:  89%|████████████████████████████████████████▉     | 32/36 [00:00<00:00, 264.46it/s]\u001b[A"
     ]
    },
    {
     "name": "stdout",
     "output_type": "stream",
     "text": [
      "[Errno 2] No such file or directory: 'D:/external_datasets/TAO/TAO_DIR/frames/val/YFCC100M/v_460a1314da9bd32cbd14a2b3414f30/frame0889.jpeg'\n"
     ]
    },
    {
     "name": "stderr",
     "output_type": "stream",
     "text": [
      "\n",
      "\n",
      ">>> Finding TAO wooden_spoon...:  94%|███████████████████████████████████████████▍  | 34/36 [00:00<00:00, 237.71it/s]\u001b[A"
     ]
    },
    {
     "name": "stdout",
     "output_type": "stream",
     "text": [
      "[Errno 2] No such file or directory: 'D:/external_datasets/TAO/TAO_DIR/frames/val/YFCC100M/v_460a1314da9bd32cbd14a2b3414f30/frame0913.jpeg'\n"
     ]
    },
    {
     "name": "stderr",
     "output_type": "stream",
     "text": [
      "\n",
      "\n",
      ">>> Finding TAO wooden_spoon...: 100%|██████████████████████████████████████████████| 36/36 [00:00<00:00, 418.69it/s]\u001b[A\n",
      " 99%|█████████████████████████████████████████████████████████████████████████▍| 1300/1310 [1:36:01<00:05,  1.89it/s]"
     ]
    },
    {
     "name": "stdout",
     "output_type": "stream",
     "text": [
      "[Errno 2] No such file or directory: 'D:/external_datasets/TAO/TAO_DIR/frames/val/YFCC100M/v_460a1314da9bd32cbd14a2b3414f30/frame1273.jpeg'\n",
      ">>>> #WARNING: No file found for: TAO wooden_spoon...\n",
      "\n",
      ">> wreath...\n",
      ">>>> #WARNING wreath is missing from json annotations\n",
      "annotations datasets:  []\n",
      "annotations imgids:  []\n",
      "annotations bbox:  []\n",
      "\n",
      ">> wrench...\n",
      ">>>> #WARNING wrench is missing from json annotations\n",
      "annotations datasets:  []\n",
      "annotations imgids:  []\n",
      "annotations bbox:  []\n",
      "\n",
      ">> wristband...\n",
      ">>>> #WARNING wristband is missing from json annotations\n",
      "annotations datasets:  []\n",
      "annotations imgids:  []\n",
      "annotations bbox:  []\n",
      "\n",
      ">> wristlet...\n",
      ">>>> #WARNING wristlet is missing from json annotations\n",
      "annotations datasets:  []\n",
      "annotations imgids:  []\n",
      "annotations bbox:  []\n",
      "\n",
      ">> yacht...\n",
      ">>>> #WARNING yacht is missing from json annotations\n",
      "annotations datasets:  []\n",
      "annotations imgids:  []\n",
      "annotations bbox:  []\n",
      "\n",
      ">> yak...\n",
      ">>>> #WARNING yak is missing from json annotations\n",
      "annotations datasets:  []\n",
      "annotations imgids:  []\n",
      "annotations bbox:  []\n",
      "\n",
      ">> yogurt...\n",
      ">>>> #WARNING yogurt is missing from json annotations\n",
      "annotations datasets:  []\n",
      "annotations imgids:  []\n",
      "annotations bbox:  []\n",
      "\n",
      ">> yoke_(animal_equipment)...\n",
      ">>>> #WARNING yoke_(animal_equipment) is missing from json annotations\n",
      "annotations datasets:  []\n",
      "annotations imgids:  []\n",
      "annotations bbox:  []\n",
      "\n",
      ">> zebra...\n",
      "TAO\n"
     ]
    },
    {
     "name": "stderr",
     "output_type": "stream",
     "text": [
      "100%|██████████████████████████████████████████████████████████████████████████| 1310/1310 [1:36:04<00:00,  4.40s/it]\n"
     ]
    },
    {
     "name": "stdout",
     "output_type": "stream",
     "text": [
      "\n",
      ">> zucchini...\n",
      ">>>> #WARNING zucchini is missing from json annotations\n",
      "annotations datasets:  []\n",
      "annotations imgids:  []\n",
      "annotations bbox:  []\n"
     ]
    }
   ],
   "source": [
    "classtomix_l=[]\n",
    "classtomix_l_catid=[]\n",
    "method=\"save_images\"\n",
    "if method==\"save_images\": # save images to folder for manual check with \n",
    "    datadir=\"mixers\"\n",
    "    folder=mixer_method+'/' #folder\n",
    "    showimage=False #show images\n",
    "    startidx=0 # start index of image to save from each dataset\n",
    "    imgnr=10 # total number of images to save from each dataset\n",
    "    imgstep='random' # step between images: int | 'random' - int steps between images; 'rand' gets random list\n",
    "    path=os.path.join(rdir,datadir,folder)\n",
    "    assure_path_exists(path) \n",
    "    df=pd.DataFrame({'mixers_l': mixers_l,'mixers_l_catid': mixers_l_catid, 'mixers_l_catdset': mixers_l_catdset, 'classtomix_l': np.nan, 'classtomix_l_catid':np.nan, 'rules':np.nan })\n",
    "    df.loc[0, 'rules']=\"To fix classes: 1) You need to fill the column classtomix_l and/or classtomix_l_catid with the information from the respective mixer columns; 2) When copy/pasting or changing, make sure the same structure maintains:  ['car', 'carrot'], [3, 52], beware of the spaces ['car', '  and always maintain the first class in the list;  3) You have 3 possibilities of filling the columns : 1-the 2 columns empty, meaning the row will not be used for classtomix; 2-only one column empty, e.g. fill the classtotix_l row with the class labels from mixers_l, then during the importing the classtomix_l_catid is filled, and vice-versa; 3-If you want to change the name of the first class in the list,e.g ['car', 'carrot'] for ['automobile', 'carrot'] you need to provide the ids to classtomix_l_catid.\"\n",
    "    excelpath=path+mixer_method+\"_classtomix_report.xlsx\"\n",
    "    df['annotations_missing'] = np.empty((len(df), 0)).tolist()\n",
    "    df['images_missing'] = np.empty((len(df), 0)).tolist()\n",
    "    #save image for each mixer\n",
    "    for i, mixer in enumerate(tqdm(mixers_l)): #run for each mixer category\n",
    "        minclass=mixer\n",
    "        if isinstance(minclass, list): minclass=minclass[0]\n",
    "        print('\\n>> '+minclass+'...') #class\n",
    "        classpath=os.path.join(path, minclass) # folder for images of this class\n",
    "        classpath=parse_path(classpath)+'/' #make it a folder\n",
    "        assure_path_exists(classpath)\n",
    "        df=save_imgs(df, rdir, classpath, i, dset_l, mixers_l, mixers_l_catid, mixers_l_bbox, mixers_l_dset,\n",
    "              mixers_l_imgid, img_l, img_l_id, startidx=startidx, imgnr=imgnr, imgstep=imgstep, showimage=showimage)    \n",
    "    df.to_excel(excelpath, index=False)   "
   ]
  },
  {
   "cell_type": "code",
   "execution_count": 24,
   "metadata": {},
   "outputs": [
    {
     "data": {
      "text/html": [
       "<div>\n",
       "<style scoped>\n",
       "    .dataframe tbody tr th:only-of-type {\n",
       "        vertical-align: middle;\n",
       "    }\n",
       "\n",
       "    .dataframe tbody tr th {\n",
       "        vertical-align: top;\n",
       "    }\n",
       "\n",
       "    .dataframe thead th {\n",
       "        text-align: right;\n",
       "    }\n",
       "</style>\n",
       "<table border=\"1\" class=\"dataframe\">\n",
       "  <thead>\n",
       "    <tr style=\"text-align: right;\">\n",
       "      <th></th>\n",
       "      <th>mixers_l</th>\n",
       "      <th>mixers_l_catid</th>\n",
       "      <th>mixers_l_catdset</th>\n",
       "      <th>classtomix_l</th>\n",
       "      <th>classtomix_l_catid</th>\n",
       "      <th>rules</th>\n",
       "      <th>annotations_missing</th>\n",
       "      <th>images_missing</th>\n",
       "    </tr>\n",
       "  </thead>\n",
       "  <tbody>\n",
       "    <tr>\n",
       "      <th>0</th>\n",
       "      <td>person</td>\n",
       "      <td>[1]</td>\n",
       "      <td>['COCO']</td>\n",
       "      <td>aggressive</td>\n",
       "      <td>[40, 43, 44, 45]</td>\n",
       "      <td>To fix classes: 1) You need to fill the column...</td>\n",
       "      <td>[0]</td>\n",
       "      <td>[0]</td>\n",
       "    </tr>\n",
       "    <tr>\n",
       "      <th>1</th>\n",
       "      <td>bicycle</td>\n",
       "      <td>[2]</td>\n",
       "      <td>['COCO']</td>\n",
       "      <td>nonaggresive</td>\n",
       "      <td>[15, 16, 17]</td>\n",
       "      <td>NaN</td>\n",
       "      <td>[0]</td>\n",
       "      <td>[0]</td>\n",
       "    </tr>\n",
       "    <tr>\n",
       "      <th>2</th>\n",
       "      <td>car</td>\n",
       "      <td>[3]</td>\n",
       "      <td>['COCO']</td>\n",
       "      <td>NaN</td>\n",
       "      <td>NaN</td>\n",
       "      <td>NaN</td>\n",
       "      <td>[0]</td>\n",
       "      <td>[0]</td>\n",
       "    </tr>\n",
       "    <tr>\n",
       "      <th>3</th>\n",
       "      <td>motorcycle</td>\n",
       "      <td>[4]</td>\n",
       "      <td>['COCO']</td>\n",
       "      <td>NaN</td>\n",
       "      <td>NaN</td>\n",
       "      <td>NaN</td>\n",
       "      <td>[0]</td>\n",
       "      <td>[0]</td>\n",
       "    </tr>\n",
       "    <tr>\n",
       "      <th>4</th>\n",
       "      <td>airplane</td>\n",
       "      <td>[5]</td>\n",
       "      <td>['COCO']</td>\n",
       "      <td>NaN</td>\n",
       "      <td>NaN</td>\n",
       "      <td>NaN</td>\n",
       "      <td>[0]</td>\n",
       "      <td>[0]</td>\n",
       "    </tr>\n",
       "    <tr>\n",
       "      <th>...</th>\n",
       "      <td>...</td>\n",
       "      <td>...</td>\n",
       "      <td>...</td>\n",
       "      <td>...</td>\n",
       "      <td>...</td>\n",
       "      <td>...</td>\n",
       "      <td>...</td>\n",
       "      <td>...</td>\n",
       "    </tr>\n",
       "    <tr>\n",
       "      <th>1305</th>\n",
       "      <td>yak</td>\n",
       "      <td>[1306]</td>\n",
       "      <td>['TAO']</td>\n",
       "      <td>NaN</td>\n",
       "      <td>NaN</td>\n",
       "      <td>NaN</td>\n",
       "      <td>[1]</td>\n",
       "      <td>[0]</td>\n",
       "    </tr>\n",
       "    <tr>\n",
       "      <th>1306</th>\n",
       "      <td>yogurt</td>\n",
       "      <td>[1307]</td>\n",
       "      <td>['TAO']</td>\n",
       "      <td>NaN</td>\n",
       "      <td>NaN</td>\n",
       "      <td>NaN</td>\n",
       "      <td>[1]</td>\n",
       "      <td>[0]</td>\n",
       "    </tr>\n",
       "    <tr>\n",
       "      <th>1307</th>\n",
       "      <td>yoke_(animal_equipment)</td>\n",
       "      <td>[1308]</td>\n",
       "      <td>['TAO']</td>\n",
       "      <td>NaN</td>\n",
       "      <td>NaN</td>\n",
       "      <td>NaN</td>\n",
       "      <td>[1]</td>\n",
       "      <td>[0]</td>\n",
       "    </tr>\n",
       "    <tr>\n",
       "      <th>1308</th>\n",
       "      <td>zebra</td>\n",
       "      <td>[1309]</td>\n",
       "      <td>['TAO']</td>\n",
       "      <td>NaN</td>\n",
       "      <td>NaN</td>\n",
       "      <td>NaN</td>\n",
       "      <td>[0]</td>\n",
       "      <td>[0]</td>\n",
       "    </tr>\n",
       "    <tr>\n",
       "      <th>1309</th>\n",
       "      <td>zucchini</td>\n",
       "      <td>[1310]</td>\n",
       "      <td>['TAO']</td>\n",
       "      <td>NaN</td>\n",
       "      <td>NaN</td>\n",
       "      <td>NaN</td>\n",
       "      <td>[1]</td>\n",
       "      <td>[0]</td>\n",
       "    </tr>\n",
       "  </tbody>\n",
       "</table>\n",
       "<p>1310 rows × 8 columns</p>\n",
       "</div>"
      ],
      "text/plain": [
       "                     mixers_l mixers_l_catid mixers_l_catdset  classtomix_l  \\\n",
       "0                      person            [1]         ['COCO']    aggressive   \n",
       "1                     bicycle            [2]         ['COCO']  nonaggresive   \n",
       "2                         car            [3]         ['COCO']           NaN   \n",
       "3                  motorcycle            [4]         ['COCO']           NaN   \n",
       "4                    airplane            [5]         ['COCO']           NaN   \n",
       "...                       ...            ...              ...           ...   \n",
       "1305                      yak         [1306]          ['TAO']           NaN   \n",
       "1306                   yogurt         [1307]          ['TAO']           NaN   \n",
       "1307  yoke_(animal_equipment)         [1308]          ['TAO']           NaN   \n",
       "1308                    zebra         [1309]          ['TAO']           NaN   \n",
       "1309                 zucchini         [1310]          ['TAO']           NaN   \n",
       "\n",
       "     classtomix_l_catid                                              rules  \\\n",
       "0      [40, 43, 44, 45]  To fix classes: 1) You need to fill the column...   \n",
       "1          [15, 16, 17]                                                NaN   \n",
       "2                   NaN                                                NaN   \n",
       "3                   NaN                                                NaN   \n",
       "4                   NaN                                                NaN   \n",
       "...                 ...                                                ...   \n",
       "1305                NaN                                                NaN   \n",
       "1306                NaN                                                NaN   \n",
       "1307                NaN                                                NaN   \n",
       "1308                NaN                                                NaN   \n",
       "1309                NaN                                                NaN   \n",
       "\n",
       "     annotations_missing images_missing  \n",
       "0                    [0]            [0]  \n",
       "1                    [0]            [0]  \n",
       "2                    [0]            [0]  \n",
       "3                    [0]            [0]  \n",
       "4                    [0]            [0]  \n",
       "...                  ...            ...  \n",
       "1305                 [1]            [0]  \n",
       "1306                 [1]            [0]  \n",
       "1307                 [1]            [0]  \n",
       "1308                 [0]            [0]  \n",
       "1309                 [1]            [0]  \n",
       "\n",
       "[1310 rows x 8 columns]"
      ]
     },
     "metadata": {},
     "output_type": "display_data"
    }
   ],
   "source": [
    "# WARNING: CHECK EXCEL FIRST\n",
    "if method==\"save_images\": # reading classtomix from excel\n",
    "    classtomix_l=[]\n",
    "    classtomix_l_catid=[]\n",
    "    df=pd.read_excel(excelpath)\n",
    "    classtomix_df=df.loc[:,'classtomix_l']\n",
    "    classtomix_df_catid=df.loc[:,'classtomix_l_catid']\n",
    "    display(df)\n",
    "    # PARSE COLUMNS TO FIX\n",
    "    classtomix_l=classtomix_df.tolist()\n",
    "    classtomix_l_catid=classtomix_df_catid.tolist()\n",
    "    #print(classtomix_l_catid)\n",
    "    #convert strings to lists\n",
    "    for icl, cl in enumerate(classtomix_l): \n",
    "        if isinstance(classtomix_l[icl], str): classtomix_l[icl]=convert_unicode(classtomix_l[icl], method='liststr')\n",
    "        if isinstance(classtomix_l_catid[icl], str): classtomix_l_catid[icl]=convert_unicode(classtomix_l_catid[icl], method='listnum')\n",
    "    #print(classtomix_l_catid)\n",
    "    #parse the columns based on the rules    \n",
    "    for ic, classes in enumerate(classtomix_df):\n",
    "        #1. Two columns empty - do nothing, maintain\n",
    "        if  pd.isnull(classtomix_df.iloc[ic]) and pd.isnull(classtomix_df_catid.iloc[ic]): continue\n",
    "        #2. if only classtomix_l_catid empty - get \n",
    "        if not pd.isnull(classtomix_df.iloc[ic]) and pd.isnull(classtomix_df_catid.iloc[ic]):\n",
    "            classes=convert_unicode(classes, method='liststr')\n",
    "            cids=[]\n",
    "            for c in classes:\n",
    "                cidx=mixers_l[ic].index(c)\n",
    "                cid=mixers_l_catid[ic][cidx]\n",
    "                cids.append(cid)\n",
    "            classtomix_l_catid[ic]=cids\n",
    "            #print(classtomix_l_catid)\n",
    "        #2. if only classtomix_l empty - get\n",
    "        if pd.isnull(classtomix_df.iloc[ic]) and not pd.isnull(classtomix_df_catid.iloc[ic]): \n",
    "            classes=[]\n",
    "            cids=classtomix_l_catid[ic]\n",
    "            for c in cids:\n",
    "                cidx=mixers_l_catid[ic].index(c)\n",
    "                clas=mixers_l[ic][cidx]\n",
    "                classes.append(clas)\n",
    "            classtomix_l[ic]=classes\n",
    "        #3. if both columns not empty - do nothing\n",
    "        if not pd.isnull(classtomix_df.iloc[ic]) and not pd.isnull(classtomix_df_catid.iloc[ic]): continue"
   ]
  },
  {
   "cell_type": "code",
   "execution_count": 25,
   "metadata": {},
   "outputs": [
    {
     "name": "stdout",
     "output_type": "stream",
     "text": [
      ">> Make sure everything is correct: 1.Drop NaN if exist, but make sure the index is the same for the two! \n",
      "\n",
      "[['aggressive'], ['nonaggresive']]\n",
      "[[40, 43, 44, 45], [15, 16, 17]]\n"
     ]
    }
   ],
   "source": [
    "print('>> Make sure everything is correct: 1.Drop NaN if exist, but make sure the index is the same for the two! \\n')\n",
    "fixempty=True\n",
    "if fixempty:\n",
    "    classtomix_l=[x for x in classtomix_l if str(x) != 'nan' and str(x) !='[]']\n",
    "    classtomix_l_catid=[x for x in classtomix_l_catid if str(x) != 'nan' and str(x) !='[]']\n",
    "print(classtomix_l)\n",
    "print(classtomix_l_catid)"
   ]
  },
  {
   "cell_type": "markdown",
   "metadata": {},
   "source": [
    "## 4. Mix classes"
   ]
  },
  {
   "cell_type": "code",
   "execution_count": 26,
   "metadata": {},
   "outputs": [],
   "source": [
    "# slow # newjson=copy.deepcopy(mlabjson) #do deepcopy to compare\n",
    "# fast\n",
    "newjson={'categories':[],'annotations':[] }\n",
    "newjson['categories']=copy.copy(mlabjson['categories'])\n",
    "newjson['annotations']=copy.copy(mlabjson['annotations'])"
   ]
  },
  {
   "cell_type": "code",
   "execution_count": 27,
   "metadata": {},
   "outputs": [
    {
     "name": "stdout",
     "output_type": "stream",
     "text": [
      "[[39, 42, 43, 44], [14, 15, 16]]\n"
     ]
    }
   ],
   "source": [
    "classtomix_l_catidx=[[cat_l_id.index(id) for id in id_l] for id_l in classtomix_l_catid]\n",
    "#print(classtomix_l_catidx) # they should be less one, becacuse it is ordered\n",
    "print((classtomix_l_catidx))"
   ]
  },
  {
   "cell_type": "markdown",
   "metadata": {},
   "source": [
    "#### Change mlabjson['categories']: [{name: , id: }]  \n",
    "=>  1. use first index cat id; 2. change name and change id;  remove the other categories (!!!Without ordering again the category id!!!)"
   ]
  },
  {
   "cell_type": "code",
   "execution_count": 28,
   "metadata": {},
   "outputs": [
    {
     "name": "stderr",
     "output_type": "stream",
     "text": [
      "100%|██████████████████████████████████████████████████████████████████████████████████████████| 2/2 [00:00<?, ?it/s]"
     ]
    },
    {
     "name": "stdout",
     "output_type": "stream",
     "text": [
      "1310\n",
      "1308\n",
      "False\n"
     ]
    },
    {
     "name": "stderr",
     "output_type": "stream",
     "text": [
      "\n"
     ]
    }
   ],
   "source": [
    "# CHANGE NAME  & GET REMOVE List\n",
    "keepidx_l=[]\n",
    "keepid_l=[]\n",
    "firstidx=0 # get first category id\n",
    "for i,id_l in enumerate(tqdm(classtomix_l_catid)): #for each classtomix\n",
    "    firstcatid=id_l[firstidx] # #category id \n",
    "    firstcatidx=classtomix_l_catidx[i][firstidx]# get cat index of first catid\n",
    "    if isinstance(classtomix_l[i], list): newjson['categories'][firstcatidx]['name']=classtomix_l[i][firstidx] #change name of first id \n",
    "    else: newjson['categories'][firstcatidx]['name']=classtomix_l[i]\n",
    "    assert newjson['categories'][firstcatidx]['id']==firstcatid #assert id - it should be the same\n",
    "    keepidx_l.append(firstcatidx) #catidx to keep\n",
    "    keepid_l.append(firstcatid) #catid to keep\n",
    "keepidx_l=list(dict.fromkeys(keepidx_l)) # remove duplicates in the keep list\n",
    "allidx_l=[index for index, value in enumerate(mlabjson['categories'])] # allidx in categories\n",
    "removeidx_l=[idx for idx in allidx_l if idx not in keepidx_l] # remove idx \n",
    "removeitem_l=[newjson['categories'][removeidx] for removeidx in removeidx_l] #remove items #WARNING NECESSARY BECAUSE THE INDEX WILL CHANGE\n",
    "print(len(allidx_l))\n",
    "print(len(removeidx_l))\n",
    "print(keepidx_l in removeidx_l)"
   ]
  },
  {
   "cell_type": "code",
   "execution_count": 29,
   "metadata": {},
   "outputs": [],
   "source": [
    "# REMOVE - newjson will be changed\n",
    "for removeitem in removeitem_l: newjson['categories'].remove(removeitem)"
   ]
  },
  {
   "cell_type": "code",
   "execution_count": 30,
   "metadata": {},
   "outputs": [
    {
     "name": "stdout",
     "output_type": "stream",
     "text": [
      "[{'supercategory': 'animal', 'id': 15, 'name': 'nonaggresive', 'dataset': 1}, {'supercategory': 'kitchen', 'id': 40, 'name': 'aggressive', 'dataset': 1}]\n"
     ]
    }
   ],
   "source": [
    "print(newjson['categories'])"
   ]
  },
  {
   "cell_type": "code",
   "execution_count": 31,
   "metadata": {},
   "outputs": [
    {
     "name": "stderr",
     "output_type": "stream",
     "text": [
      "100%|████████████████████████████████████████████████████████████████████████████████| 2/2 [00:00<00:00, 1960.41it/s]"
     ]
    },
    {
     "name": "stdout",
     "output_type": "stream",
     "text": [
      "[40, 15]\n",
      "[1, 0]\n",
      "[1, 2]\n"
     ]
    },
    {
     "name": "stderr",
     "output_type": "stream",
     "text": [
      "\n"
     ]
    }
   ],
   "source": [
    "# GET NEW IDs - #WARNING after remove\n",
    "ct_l_id=[]\n",
    "for i,c in enumerate(tqdm(newjson['categories'])):\n",
    "    ct_l_id.append(c['id'])\n",
    "newidx_l=[ct_l_id.index(id) for id in keepid_l] # make sure same sequence of keepid_l #SAME ORDER AS EXCEL\n",
    "newid_l=[i+1 for i in range(len(keepid_l))] #same sequence of keepid_l\n",
    "print(keepid_l)\n",
    "print(newidx_l)\n",
    "print(newid_l)"
   ]
  },
  {
   "cell_type": "code",
   "execution_count": 32,
   "metadata": {},
   "outputs": [],
   "source": [
    "# SORT IDS - Excel order - newjson will be changed\n",
    "categories_l=copy.copy(newjson['categories'])\n",
    "for i,idx in enumerate(newidx_l):\n",
    "    categories_l[idx]['id']=newid_l[i]\n",
    "for i,idx in enumerate(newidx_l):\n",
    "    newjson['categories'][i]=categories_l[idx] #TODO sort the id in the correct sequence"
   ]
  },
  {
   "cell_type": "code",
   "execution_count": 33,
   "metadata": {},
   "outputs": [
    {
     "name": "stdout",
     "output_type": "stream",
     "text": [
      "[{'supercategory': 'animal', 'id': 2, 'name': 'nonaggresive', 'dataset': 1}, {'supercategory': 'kitchen', 'id': 1, 'name': 'aggressive', 'dataset': 1}]\n",
      "[{'supercategory': 'kitchen', 'id': 1, 'name': 'aggressive', 'dataset': 1}, {'supercategory': 'animal', 'id': 2, 'name': 'nonaggresive', 'dataset': 1}]\n",
      "1310\n"
     ]
    }
   ],
   "source": [
    "#TEST\n",
    "print(categories_l)\n",
    "print(newjson['categories'])\n",
    "print(len(mlabjson['categories']))"
   ]
  },
  {
   "cell_type": "markdown",
   "metadata": {},
   "source": [
    "### QUESTION TO JOAO: REMOVE HYPERPARAMETERS? Mantain only id and NAME? OR irrelevant?"
   ]
  },
  {
   "cell_type": "markdown",
   "metadata": {},
   "source": [
    "#### change mlabjson['annotations']: [{category_id: , }] \n",
    "=> 1.get annotation idx from catid; 2.update annotations id ; 3. update newjson['annotations']"
   ]
  },
  {
   "cell_type": "code",
   "execution_count": 34,
   "metadata": {},
   "outputs": [
    {
     "name": "stdout",
     "output_type": "stream",
     "text": [
      "[['aggressive'], ['nonaggresive']]\n",
      "[[40, 43, 44, 45], [15, 16, 17]]\n",
      "[40, 15]\n",
      "[1, 2]\n",
      "4\n"
     ]
    }
   ],
   "source": [
    "# 1.get annotation idx from catid\n",
    "ann_catid_np=np.array(ann_catid)\n",
    "classtomix_l_ann_catidx=[[np.where(ann_catid_np==id)[0].tolist()  for id in id_l] for id_l in classtomix_l_catid]\n",
    "print(classtomix_l)\n",
    "print(classtomix_l_catid)\n",
    "print(keepid_l)\n",
    "print(newid_l)\n",
    "print(len(classtomix_l_ann_catidx[0]))"
   ]
  },
  {
   "cell_type": "code",
   "execution_count": 46,
   "metadata": {},
   "outputs": [
    {
     "name": "stdout",
     "output_type": "stream",
     "text": [
      "67517\n"
     ]
    }
   ],
   "source": [
    "#2.update annotations id & 3. update newjson['annotations']\n",
    "newjson['annotations']=copy.copy(mlabjson['annotations']) #reset annotations\n",
    "copy_ann_l=copy.copy(newjson['annotations'])\n",
    "newjson['annotations']=[] #clear\n",
    "for i, ann_catidx_l in enumerate(classtomix_l_ann_catidx): \n",
    "    for catidx_l in ann_catidx_l:\n",
    "        for catidx in catidx_l:\n",
    "            copy_ann_l[catidx]['category_id']=newid_l[i] # update catid\n",
    "            newjson['annotations'].append(copy_ann_l[catidx]) #update newjson (annotations sequence id will be lost\n",
    "print(len(newjson['annotations']))"
   ]
  },
  {
   "cell_type": "code",
   "execution_count": 48,
   "metadata": {},
   "outputs": [
    {
     "name": "stdout",
     "output_type": "stream",
     "text": [
      "{'segmentation': [[20.95, 105.11, 20.95, 87.58, 8.43, 80.69, 8.43, 75.06, 38.48, 74.43, 40.35, 66.92, 32.22, 63.79, 39.1, 35.62, 135.51, 37.5, 130.5, 65.04, 128.0, 70.05, 124.87, 108.86, 119.86, 102.6, 119.23, 86.95, 111.72, 86.95, 106.08, 107.61, 104.83, 107.61, 98.57, 90.71, 77.91, 86.33, 64.77, 86.33, 55.38, 90.08, 45.99, 100.73, 45.36, 109.49, 41.61, 110.12, 40.35, 97.6, 35.97, 89.46, 29.71, 86.95, 24.7, 93.84, 24.7, 105.73]], 'area': 5697.957150000001, 'iscrowd': 0, 'image_id': 26929, 'bbox': [8.43, 35.62, 127.08, 74.5], 'category_id': 14, 'id': 8876, 'dataset': 1}\n",
      "{'segmentation': [[163.18, 86.34, 165.19, 114.48, 160.5, 137.93, 151.12, 170.09, 155.14, 213.64, 175.91, 216.32, 191.32, 226.37, 195.34, 222.35, 198.02, 189.52, 198.02, 158.03, 194.0, 145.97, 188.64, 137.93, 185.29, 123.86, 183.28, 99.07, 183.28, 85.67, 181.94, 85.0, 163.85, 85.0]], 'area': 4522.6675, 'iscrowd': 0, 'image_id': 65785, 'bbox': [151.12, 85.0, 46.9, 141.37], 'category_id': 1, 'id': 281397, 'dataset': 1}\n"
     ]
    }
   ],
   "source": [
    "#TEST\n",
    "print(mlabjson['annotations'][8875])\n",
    "print(newjson['annotations'][8875])"
   ]
  },
  {
   "cell_type": "markdown",
   "metadata": {},
   "source": [
    "### 4. Save mixed json"
   ]
  },
  {
   "cell_type": "code",
   "execution_count": 50,
   "metadata": {},
   "outputs": [],
   "source": [
    "# fast\n",
    "mlabjson['categories']=copy.copy(newjson['categories'])\n",
    "mlabjson['annotations']=copy.copy(newjson['annotations'])"
   ]
  },
  {
   "cell_type": "code",
   "execution_count": 51,
   "metadata": {},
   "outputs": [
    {
     "name": "stdout",
     "output_type": "stream",
     "text": [
      "\n",
      " >> SAVING...\n",
      "JSON SAVED : D:/external_datasets/mlabmix_aggressive.json \n",
      "\n"
     ]
    }
   ],
   "source": [
    "# save\n",
    "print('\\n >> SAVING...')\n",
    "jsonfile=rdir+'mlab_mix_aggressive.json'\n",
    "with open(jsonfile, 'w') as f:\n",
    "    json.dump(newjson, f)\n",
    "print(\"JSON SAVED : {} \\n\".format(jsonfile))"
   ]
  },
  {
   "cell_type": "code",
   "execution_count": null,
   "metadata": {},
   "outputs": [],
   "source": []
  }
 ],
 "metadata": {
  "kernelspec": {
   "display_name": "Python 3",
   "language": "python",
   "name": "python3"
  },
  "language_info": {
   "codemirror_mode": {
    "name": "ipython",
    "version": 3
   },
   "file_extension": ".py",
   "mimetype": "text/x-python",
   "name": "python",
   "nbconvert_exporter": "python",
   "pygments_lexer": "ipython3",
   "version": "3.8.3"
  }
 },
 "nbformat": 4,
 "nbformat_minor": 4
}
