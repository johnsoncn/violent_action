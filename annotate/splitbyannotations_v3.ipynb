{
 "cells": [
  {
   "cell_type": "markdown",
   "metadata": {},
   "source": [
    "# split datasets\n",
    "version: 3\n",
    "\n",
    "info:\n",
    "- split json into train.json, val.json and test.json \n",
    "\n",
    "author: nuno costa"
   ]
  },
  {
   "cell_type": "code",
   "execution_count": 39,
   "metadata": {},
   "outputs": [],
   "source": [
    "from annotate_v5 import *\n",
    "import platform \n",
    "import numpy as np\n",
    "import time\n",
    "import pandas as pd\n",
    "from IPython.display import Image, display\n",
    "import copy\n",
    "import os\n",
    "from shutil import copyfile\n",
    "import matplotlib.pyplot as plt\n",
    "from matplotlib.image import imread\n",
    "from matplotlib.patches import Rectangle\n",
    "import random"
   ]
  },
  {
   "cell_type": "code",
   "execution_count": 40,
   "metadata": {},
   "outputs": [
    {
     "name": "stdout",
     "output_type": "stream",
     "text": [
      "OS: Linux-5.11.0-37-generic-x86_64-with-glibc2.10\n",
      "root dir: /mnt/Data/Work/EASYRIDE/P19/NC/yolov5/JSONS/annotations/\n"
     ]
    }
   ],
   "source": [
    "#Define root dir dependent on OS\n",
    "rdir='D:/external_datasets/MOLA/annotations/' \n",
    "if str(platform.platform()).find('Linux')>-1:\n",
    "    rdir=rdir.replace('D:/external_datasets/MOLA/annotations/','/mnt/Data/Work/EASYRIDE/P19/NC/yolov5/JSONS/annotations/')\n",
    "print('OS: {}'.format(platform.platform()))\n",
    "print('root dir: {}'.format(rdir))"
   ]
  },
  {
   "cell_type": "markdown",
   "metadata": {},
   "source": [
    "## 1. Init vars"
   ]
  },
  {
   "cell_type": "code",
   "execution_count": 41,
   "metadata": {},
   "outputs": [],
   "source": [
    "train=70\n",
    "val=20\n",
    "test=100-(train+val)\n",
    "injsonfile='cocotaolbo_fix_equal_reorder_cleanclass_cleanimg.json'\n",
    "infilename=injsonfile.split('.')[0]"
   ]
  },
  {
   "cell_type": "code",
   "execution_count": 42,
   "metadata": {},
   "outputs": [
    {
     "name": "stdout",
     "output_type": "stream",
     "text": [
      "info 5\n",
      "licenses 9\n",
      "categories 1298\n",
      "videos 1488\n",
      "images 194943\n",
      "tracks 8132\n",
      "segment_info 0\n",
      "annotations 1348451\n",
      "datasets 3\n"
     ]
    }
   ],
   "source": [
    "# init json\n",
    "molajson =  json.load(open(rdir+injsonfile))\n",
    "for k in molajson:\n",
    "    print(k, len(molajson[k]))"
   ]
  },
  {
   "cell_type": "markdown",
   "metadata": {},
   "source": [
    "## 2. Import ids\n",
    "#### #NOTE: work with ids and index so you can use numpy for faster operations"
   ]
  },
  {
   "cell_type": "code",
   "execution_count": 43,
   "metadata": {},
   "outputs": [
    {
     "name": "stdout",
     "output_type": "stream",
     "text": [
      "['person', 'bicycle', 'car', 'motorcycle', 'airplane', 'bus', 'train', 'truck', 'boat', 'traffic light', 'fire hydrant', 'stop sign', 'parking meter', 'bench', 'bird', 'cat', 'dog', 'horse', 'sheep', 'cow', 'elephant', 'bear', 'zebra', 'giraffe', 'backpack', 'umbrella', 'handbag', 'tie', 'suitcase', 'frisbee', 'skis', 'snowboard', 'sports ball', 'kite', 'baseball bat', 'baseball glove', 'skateboard', 'surfboard', 'tennis racket', 'bottle', 'wine glass', 'cup', 'fork', 'knife', 'spoon', 'bowl', 'banana', 'apple', 'sandwich', 'orange', 'broccoli', 'carrot', 'hot dog', 'pizza', 'donut', 'cake', 'chair', 'couch', 'potted plant', 'bed', 'dining table', 'toilet', 'tv', 'laptop', 'mouse', 'remote', 'keyboard', 'cell phone', 'microwave', 'oven', 'toaster', 'sink', 'refrigerator', 'book', 'clock', 'vase', 'scissors', 'teddy bear', 'hair drier', 'toothbrush', 'aerosol_can', 'apricot', 'armchair', 'atomizer', 'ax', 'baby_buggy', 'bagpipe', 'ball', 'balloon', 'barbell', 'baseball', 'baseball_bat', 'baseball_glove', 'basket', 'basketball_hoop', 'basketball', 'battery', 'beaker', 'beanie', 'bedspread', 'beeper', 'beer_bottle', 'bell', 'belt', 'binder', 'binoculars', 'birdfeeder', 'birdcage', 'birdhouse', 'biscuit_(bread)', 'black_sheep', 'blanket', 'booklet', 'boot', 'bow_(weapon)', 'bracelet', 'briefcase', 'broom', 'bucket', 'bull', 'bun', 'buoy', 'bus_(vehicle)', 'business_card', 'butcher_knife', 'button', 'cab_(taxi)', 'calculator', 'calendar', 'calf', 'camel', 'camera', 'camera_lens', 'can', 'candle', 'walking_cane', 'canister', 'canoe', 'bottle_cap', 'cape', 'car_(automobile)', 'railcar_(part_of_a_train)', 'car_battery', 'card', 'carnation', 'carton', 'cellular_telephone', 'chain_mail', 'chessboard', 'chicken_(animal)', 'crisp_(potato_chip)', 'chopstick', 'cigar_box', 'cigarette', 'cigarette_case', 'clip', 'clipboard', 'clutch_bag', 'coat', 'coat_hanger', 'coffee_table', 'coffeepot', 'coin', 'pacifier', 'comic_book', 'computer_keyboard', 'cone', 'control', 'convertible_(automobile)', 'cooler_(for_food)', 'cornet', 'crab_(animal)', 'cracker', 'crow', 'crumb', 'crutch', 'cube', 'curtain', 'cushion', 'cutting_tool', 'cylinder', 'cymbal', 'deer', 'die', 'dish', 'dispenser', 'doll', 'doormat', 'drawer', 'dress_hat', 'drone', 'drum_(musical_instrument)', 'drumstick', 'duck', 'duffel_bag', 'dustpan', 'eagle', 'earphone', 'earring', 'egg', 'eggbeater', 'envelope', 'fan', 'faucet', 'file_(tool)', 'fish', 'fishing_rod', 'flag', 'flashlight', 'flower_arrangement', 'flute_glass', 'football_helmet', 'frog', 'garbage', 'garbage_truck', 'gasmask', 'giant_panda', 'gift_wrap', 'glove', 'goat', 'golf_club', 'goose', 'gorilla', 'grater', 'grocery_bag', 'guitar', 'gun', 'hairbrush', 'hammer', 'hair_dryer', 'handcuff', 'handkerchief', 'handle', 'harmonium', 'hat', 'headband', 'headscarf', 'headset', 'helicopter', 'helmet', 'heron', 'hippopotamus', 'hockey_stick', 'hog', 'hose', 'polar_bear', 'icecream', 'igniter', 'iron_(for_clothing)', 'jacket', 'jean', 'jeep', 'jersey', 'kayak', 'kettle', 'key', 'knitting_needle', 'knob', 'ladle', 'lamp', 'lantern', 'lanyard', 'laptop_computer', 'latch', 'lawn_mower', 'lemon', 'lettuce', 'license_plate', 'life_buoy', 'lime', 'lion', 'lipstick', 'lizard', 'log', 'lotion', 'magazine', 'mallet', 'marker', 'mask', 'matchbox', 'mattress', 'measuring_cup', 'medicine', 'microphone', 'minivan', 'mirror', 'mixer_(kitchen_tool)', 'money', 'monitor_(computer_equipment) computer_monitor', 'monkey', 'motor_scooter', 'motorboat', 'mouse_(computer_equipment)', 'mug', 'musical_instrument', 'napkin', 'necklace', 'newsstand', 'notebook', 'notepad', 'nut', 'oar', 'orange_(fruit)', 'packet', 'paddle', 'paintbrush', 'pan_(for_cooking)', 'paper_towel', 'parachute', 'parrot', 'passport', 'peeler_(tool_for_fruit_and_vegetables)', 'pelican', 'pen', 'pencil', 'penguin', 'perfume', 'persimmon', 'baby', 'petfood', 'piano', 'pickle', 'pickup_truck', 'pigeon', 'pillow', 'ping-pong_ball', 'pipe', 'pistol', 'pitcher_(vessel_for_liquid)', 'plate', 'pliers', 'pole', 'pony', 'poster', 'pot', 'potato', 'printer', 'pumpkin', 'rabbit', 'race_car', 'racket', 'raft', 'rag_doll', 'rat', 'receipt', 'record_player', 'remote_control', 'rhinoceros', 'rifle', 'ring', 'rubber_band', 'plastic_bag', 'saddle_blanket', 'sandal_(type_of_shoe)', 'saxophone', 'scarf', 'school_bus', 'scoreboard', 'scraper', 'screwdriver', 'scrubbing_brush', 'sculpture', 'shaker', 'shampoo', 'shark', 'shaver_(electric)', 'shawl', 'shears', 'shirt', 'shoe', 'shopping_bag', 'short_pants', 'shoulder_bag', 'shovel', 'sieve', 'ski', 'ski_pole', 'skirt', 'sled', 'slipper_(footwear)', 'soap', 'sock', 'sofa', 'spatula', 'spectacles', 'spider', 'sponge', 'squirrel', 'statue_(sculpture)', 'steering_wheel', 'step_stool', 'stool', 'stove', 'strap', 'straw_(for_drinking)', 'street_sign', 'sugar_bowl', 'sunglasses', 'sunscreen', 'mop', 'sweat_pants', 'sweater', 'sword', 'table_lamp', 'tag', 'army_tank', 'tape_(sticky_cloth_or_paper)', 'tarp', 'tea_bag', 'teacup', 'teakettle', 'teapot', 'telephone', 'television_set', 'tennis_ball', 'tennis_racket', 'thermometer', 'thermos_bottle', 'thread', 'tiger', 'tissue_paper', 'toast_(food)', 'toolbox', 'toothpaste', 'cover', 'towel', 'toy', 'tractor_(farm_equipment)', 'dirt_bike', 'trailer_truck', 'tray', 'tripod', 'trousers', 'turkey_(bird)', 'turtle', 'underwear', 'vacuum_cleaner', 'violin', 'volleyball', 'walking_stick', 'wallet', 'walrus', 'automatic_washer', 'watch', 'water_bottle', 'water_jug', 'water_scooter', 'water_ski', 'webcam', 'wig', 'windshield_wiper', 'wine_bottle', 'wineglass', 'wooden_spoon', 'cable', 'others', 'cellphone', 'sports_bottle', 'toy_hammer', 'cloth', 'comicbooks', 'gloves', 'pccharger', 'headphones', 'keys', 'Electronic Device', 'keychain', 'cables', 'bag', 'gym_bag', '5euro_note', 'Bag', 'Others', 'Drink Recipient', 'flextape', 'usb_cable', 'coins', 'car_key', 'id', 'pencilcase', 'comb', 'box', 'paper', 'pills', 'plasticbag', 'paper tag', 'jewel', 'other', 'earphones', 'soda_bottle', 'pants', 'coin_holder', 'bubblewrap', 'portable_knife', 'soda_can', 'toy_girl', 'crumpled_paper', 'glasses', 'tshirt', 'pingpong_racket', 'cane', 'note', '50cent_coin', 'glassesbox', 'phonecase', 'plastic', 'toy_animal', 'pack_of_cigarettes', 'car lighter', 'card deck', 'hair clip', 'protein_shake_cup', 'bezel', 'pin', 'toycar', 'plastic_cup', 'hair_brush', 'Trash', 'coathanger', 'bank_notes', 'sun_glasses', 'carkey', 'projector_cable', 'stuffed_animal_dog', 'folder', 't-shirt', 'boxers_v', 'cloth_v', 'toy_car_v', 'swimming_trunks', 'shampoo_bottle', 'product_hanger', 'gps_holder', 'toy_car', 'toyhammer', 'pills_tablet', 'silk_cloth', 'cent_coin', 'paper_trash', 'brush', 'cable_v', 'wallet_v', 'lighter', 'hand_sanitizer', 'sao_joao_hammer', 'board', 'electronic_device_others', 'pc_mouse', 'measuring_tape', 'box_cuter', 'teabag', 'sleeve', 'purse', 'waterbottle', 'eletric_socktet', 'tablet', 'trash', 'trash_paper', 'watches', 'Personal', 'paper_bag', 'grocery bag', 'lady_purse', 'bag_of_chips', 'headphones box', 'drinking_cup', 'toy_rubber_duck', 'tampons', 'plasticpack', 'earbuds', 'smartphones', 'usbcable', 'plastic wrap', 'backpack_v', 'deodorant', 'personal_bag', 'glasscase', 'grocerybag', 'lunchbag', 'tupperware', 'neckstrap', 'toy_plate', 'handcuffs', 'newspaper', 'boxers', 'phone', 'plushie', 'nail_rasp', 'cookies', 'scarf_v', 'jewel_v', 'folder_v', 'volleyball_ball', 'toy_plushie', 'corn', 'plastic_folder', 'bank_card', 'stuffedanimal', '10cent_coin_v', 'bezel_v', 'trash_plastic_cup_nv', 'toy_duck', 'shoes', 'toy_gun', 'cloth_nv', 'cologne', 'earring ', 'gymbag', 'hat_v', 'glasses_v', 'pills_v', 'pendrive', 'hairband', 'stapler', 'protection_glasses', 'cigarette_pack', 'cans', 'Money', 'container', 'razer_blade', 'paperfolder', 'botle', 'plastic_wrap', 'bow tie', 'hair clipper', 'coin holder', 'eyebrow_makeup', 'palstic_folder', 'charger', 'ballet_shoes', 'milk_bread', 'bank_card_v', 'sunglasses_v', 'lighter_v', 'toy_bike', 'plushie_dog', 'cellphone_v', 'bra_v', 'flip_flop', 'keychain_v', 'baseball_v', 'cosmetic_bottle', 'switch', 'toy_plushie_dog', 'phones', 'Box', 'starbucks_cup', 'recipient', 'cellphone_charger', 'medication_box', 'glassescase', 'electronic_device_box', 'shrit', 'shoppingbag', 'ping_pong_racket', 'hoodie', 'ribbon', 'tweezers', 'nail_lime', 'bank note', 'drink_cup', 'football_ball', 'fisherman_hat', 'medal', 'multiple_boxes', 'popcorns', 'glasses_case', 'key_chain', 'footwear', 'personal_cup', 'paper_folder', 'bagpack', 'luggage', 'cigarettes', 'milk shake', 'beach_racket', 'pills_jar', 'medical_bottle', 'bike_helmet', 'chargercable', 'small_purse', 'plastic_pack', 'toy_pistol', 'hair_elastic', 'bike_bottle_holder', 'seat', 'glasscase_v', 'brush_v', 'coathanger_v', 'shoppingbag_nv', 'cap', 'chips_bag', 'hex_key', 'makeup_block', 'coffee_cup', 'controller', 'tissue', 'toy_sunglasses_v', 'wrapper_trash', 'nail_polish', 'fast_food_cup_lid', 'thermal_bottle', 'cigarettepacket', 'bra', 'toy_bowling_pin', 'glue_stick', 'other_box', 'tape', 'paperbag', 'basket_others', 'post_its', 'plushie_doll', 'fast_food_wrapper', 'bottlecap', 'car_keys', 'sleepingbag', 'remote Device', 'badminton', 'medicine_box', 'powerbank', 'package', 'cigarette_packet', 'pack', 'card_with_strap', 'plastic cup', 'toiletpaper', 'metal_others', 'plastic_bottle', 'wallets', 'cofee_cup', 'highlight_pen', 'unicorn', 'small_bag', 'key_chains', 'toy_ammunition', 'gym bag', 'eletric_socket', 'toy_ball', 'pack_of_condoms', 'pc_charger', 'doritos_bag', 'toy_weapon', 'carnival_toy', 'Cable', 'dollar_note', 'hardware', 'pack_of_band_aids', 'baseball_ball', 'box_trash', 'hair_clipper', 'flipflops', 'glass_case', 'sun_cream', 'toy_others', 'keys ', 'banknote', 'matress', 'underpants', 'eyeglassescase', 'eyeglasses', 'paper tissue', 'pill', 'slippers', 'case', 'coin_v', 'computer_charger', 'personal_mirror', 'makeup_others', 'papertrash', 'chain', 'chocolate bar', 'bankcard_v', 'earrings', 'meal_box', 'makeup_bottle', 'higiene_others', 'cereal_bar', 'gum_pack', 'playstation_controller', 'bandaid', 'shorts', 'protectiveglasses', 'flextapeholder', 'lanynard', 'tissuespacket', 'wrist_band', 'tampon', 'Eyewear', 'gym_belt', 'hygiene_box', '20_euro_note', 'match box', 'vr_headset', 'post-it', 'stuffed animal', 'hangcoat', 'straw_paper', 'others_v', 'cane_v', 'rubber_duck', 'bank_note', 'fake_food', 'usb_adapter', 'ball_toy', 'empty_food_box', 'band_aid', 'control_of_rc_car', '1euro_coin_v', 'plastic bag', 'ethernet_cable', 'makeup_pen', 'pringle_can', 'cosmetic_others', 'skate', 'documentlayer', 'vape', 'cellphone_case', 'neck strap', 'beauty powder', 'bubblegum_pack', 'candy_package', 'fodler', 'electronic_device_other', 'broken_usb_cable', 'compassbox', 'spray', 'toygun', 'nail polish', 'plastic_trash', 'flex_tape', 'thing', 'handsanatizer', 'bill', 'razor_blade', 'markerpen', 'pills_bottle', 'money_note', 'chicken_nuggets_box', 'panties', 'plastic_cup_trash', 'wallet ', 'cigarrette_packet', 'spray_can', 'work_tool', 'hygiene_others', 'lunchbox', 'condom', 'drinking_can', 'wrapper', 'park_ticket', 'paper_roll', 'bottle_v', 'noodles_cup', 'snack_bag', 'ducktape', 'chapstick', 'first_aid_box', 'toy_knife', 'paper_role', 'cups', 'muffin wrap', 'sports_shoe', 'toy_plushie_squirrel', 'schoolbag', 'doll_dress', 'doritos_pack', 'office_folder', 'hand_cuffs', 'electronic_devices_box', 'carnival_mask', 'hanger', 'bottle ', 'makeup_box', 'box_v', 'cup_v', 'envelope_v', 'fisherman_hat_v', 'tool_box', 'box_with_stuff', 'basket_ball', 'store_bag', 'paperrole', 'toy_action_figure', 'marker_pen', 'candy_bag', 'food_pack', 'toy_glasses', 'Office Supply', 'lid', '5euro_bill', 'plushie_dog_v', 'potato_chips', 'trash_bag', 'pingpongrackets', 'makeup_container', 'yogurt_cup', 'crackers', 'swimming_goggles', 'makeup_powder', 'hygiene_tube', 'pills tablet', 'toy car', '50_cent_coin', 'notebox', 'lays_pack', 'cosmetic_cream', 'iron_bar', 'electronic_board', 'health_others', 'cream_bottle', 'headphone_cable', 'health_box', 'personal_others', 'bluetooth_earpiece', 'papertissue', 'pen_drive', 'post it', 'smashed_plastic_cup', 'star', 'mcdonalds_bag', 'makeup_mirror', 'electronic_box', 'popcorn', 'milk_jug', 'snacks_bag', 'candies', 'dollar_notes', 'plastic_trash_nv', 'paper_tag', 'tools', '50cent_coin_v', 'toy_gun_v', 'cosmetic_pen', 'metal_thing', 'jeans', 'burger_wrap', 'extension_cord', 'food_trash', 'plastic_cover', 'jump_cables', 'maltesers', 'plastic_water_bottle', 'personal_bottle', 'suplements', 'christmas_box', 'trash_nv', 'rug', 'tool_others', 'rackets', 'toilet_paper_pack', 'straw_plastic', 'pen_nv', 'suplements_bottle', 'deckcards', 'action_man', 'cotton_swab', 'toy_watch', 'lego_brick', 'milkbread_v', 'toy_sunglasses', 'paper_receipt', 'pills_box', '50_euro_note', 'drink_box', '10_euro_note', 'bills', 'paper tissues', 'rubix_cube', 'pingponpaddle', 'hardware_drive', 'cigarrete_box', '10euro_note', 'tennis_ball_v', 'gummy_bear_pack', 'gummy_bears', 'personal_bag_v', 'toy_duck_v', 'Clothing', 'toy_plushie_rabbit', 'paper_wrap', 'office_supply_others', 'collar', 'pocket_tissues', 'labcoat', 'health_pen', '5euro_coin', 'food_box', 'electronic device_others', 'smoking_others', 'lighters', 'leaf', 'iphone', 'toy_plushie_superman', 'toy_hammer_v', 'cardboard', 'toyduck', 'side_bag', 'hammer ', 'wipes', 'puzzle_piece', 'hair_spring', 'pill_tablet', 'hard_drive', 'reindeer_plushie', 'sports_shoes', 'boots', 'silk', 'toy_plushie_bunny', 'electronic_device_charger', 'cigarettes_pack', 'Food', 'Health', 'cosmetics_cream', 'laptop_bag', 'euro_note', 'hair_hands', 'butterfly_knife', 'bubble wrap', 'files', 'electric_board', 'jewelry_others', 'fast_food_cup', 'button ', 'leash', 'coin saver', 'soda_cup', 'fast_food_bag', 'eletronic_device_box', 'bowling pins', 'sunglassescase', 'paper_straw', 'dollar_bill', 'soldering_iron', 'wristwear', 'sunglassecase', 'spring', 'earring_v', 'id_card', 'work_tools', 'crackers_bag', 'cloth_others', 'pringles_can', 'bowling pin', 'bowling_pin_toy', 'toy_plushie_small_giraffe', 'clothes', 'highlight_marker', 'eyewear', 'rings', 'cosmetics_others', 'key chain', 'bandaids', 'football', 'books', 'beam', 'snacks', 'fishing_hat', 'juice_bottle', 'Hygiene', 'hygiene_bag', 'shopingbag_nv', 'boxer', 'mcdonalds_cup', 'cellphone_cover', 'watter_bottle', 'bag_of_chips_empty', 'headphone_cable_connector', 'duck ', 'wacth', '50cent_key_v', 'palstic_bottle', 'soft toy', 'rc_car', 'ruler', 'blade', 'company_card', 'animals', 'box_nv', 'candy_wrapper_empty', 'ssd_box', 'skitles_bag', 'sutffed animal', 'makeup_stick', 'hygiene_other', 'protein_shake_bottle', 'eyedrops_bottle', 'clothing_others', 'smoking_pack', 'gummies_pack', 'smartphone', 'cellphone_ghost', 'pills_daily_tablet', 'watcg', 'Boxmultiple_boxes', 'popcorn_bag', 'hair_acessory', 'sports_bag', '20euro_note', 'waterbotte', 'cigarette_package', 'sport_others', 'descartable_plastic_cup', 'makeupcase_v', 'key_v', 'socks', 'toy_reindeer_plushie', 'povidone-iodine_bottle', 'pills_pack', 'drink_can', 'cycle_helmet', 'milk_bread_nv', 'fist_aid_box', 'emergency_vest', 'notes', 'toy_bowling_pin_v', 'coffee_paper_cup', 'leggings', 'electronic_vape', 'electronics_box', 'makeup_pencil_v', 'higyene_others', 'badminton_shuttlecock', 'makeup_thing', 'higiene_and_beauty_others', 'badminton_racket', 'jewelery_others', 'paper_bag_trash', 'neckalce', 'plastic_fork', 'empty_candy_package', 'kays', 'razor', 'cigarrete_box_v', 'super_glue', 'airbruch', '5euro_banknote', 'ring_gummy', 'milk_bread_v', 'chicken_nugget_box', 'deodorant_v', 'tissues', 'plushie_squirrel', 'computer_mouse', 'foam_others', 'phonecase_v', 'cardboard_package', 'something_sensor', 'macdonalds_box', 'medallion', 'shopping_bag_v', 'rose', 'cosmetics_pen', 'kacket', 'Smoking', 'papers', 'rope_knot', 'plastic_straws', 'beach_racket_ball', 'action_figure', 'car_jump_kit', 'squirrel_plushie', 'eletric_board', 'deck card', 'toy_motorcicle', 'usb_ports', 'foam', 'toy_horse', 'yellow_box', 'candy_wrapper', 'bottle_nv', 'bread', 'electronic_devices_other', 'baby_bottle', '10_dollar_bill', 'ligher', 'handsanitizer', 'beauty_others', 'toy_bowling_pins', 'collar_bill', 'paper_envelope', 'paper_advertisement', 'security_vest', 'bottlecap ', 'calbe', 'paper_napkin', 'plushie_fox', 'sensor', 'air_freshener', 'platic_cup_v', 'snack_pack', 'rubberduck', 'cards', 'whiteboard_marker', 'wires', 'mirror_case', 'underwear_v', 'makeup_circle', 'box ', 'toy_arrow', 'lego_piece', 'food_package', 'ipod', 'makeup_sponge', 'band aid', 'paper_documents', 'toy_dice', 'trash_box', 'basketball_ball', 'milkbread', 'screen', 'suncream', 'gem', 'string', 'plushie_toy_reindeer', 'bubble_wrap', 'drinking_cup_personal', 'skittles_bag', 'office_supplies_others', 'pape_trash', 'snack_wrapper', 'tissue_pack', 'usb_able', 'charger_cable', 'thermic_bag', 'personal_cup_v', 'storage_card', 'thermal_cup', 'toy_mouse', 'toys_others', 'metal_parts', 'syrup_bottle', 'creditcard', 'highlighter_pen', 'candy_wrap', 'paper wrap', 'document_paper', 'supplements_bottle', 'ticket', 'health_syringe', 'hygiene_bottle', 'one_euro_coin_v', 'peanuts', 'lacrosse_tool', 'office_supplies_other', 'cigarrette_pack', 'fishermans_hat', 'traffic_cone', 'kindle', 'plushie_animals', '10_dollar_note', 'hygiene_tweezers', 'wtaerbottle', 'sports_ball', 'trash_plastic_cup_v', 'gummy_bears_bag', 'bottle_of_hydrogen_peroxide', 'card_bank_v', 'package_trash', 'headphones_cable', 'cosmetics_bottle', 'Jewelry', 'iron_ingot', 'card_holder', 'glasses_box', 'filter_pack', 'cellphone_sock', 'red_pen', 'eletronic_device_others', 'pingpong_racketd', 'hygiene_bandaids', 'pcmouse_rug', 'pringle_cans', 'charger_pen', 'dock_box', 'label', 'underpant', 'personalbag', 'chip', 'paper_cup', 'clippers', 'drink_recipient_other', 'lacrosse_gear', 'supplements_pills', '20_dollar_bill', 'deadorant', 'rubber_deck', 'rope', 'hdmi_cable', 'cents_coin_v', 'power_bank', 'mcdonalds_trash', 'cosmeic_pen', 'bag_others', 'jewel_others', 'cellphone_charger_with_cable', 'little_bottle', 'usb_charger', 'console_controller']\n"
     ]
    }
   ],
   "source": [
    "# categories id\n",
    "catids=[]\n",
    "cats=[]\n",
    "for c in molajson['categories']:\n",
    "    catids.append(c['id'])\n",
    "    cats.append(c['name'])\n",
    "print(cats)"
   ]
  },
  {
   "cell_type": "code",
   "execution_count": 44,
   "metadata": {},
   "outputs": [
    {
     "name": "stderr",
     "output_type": "stream",
     "text": [
      "100%|██████████| 1348451/1348451 [00:00<00:00, 1831337.64it/s]"
     ]
    },
    {
     "name": "stdout",
     "output_type": "stream",
     "text": [
      "1348451\n"
     ]
    },
    {
     "name": "stderr",
     "output_type": "stream",
     "text": [
      "\n"
     ]
    }
   ],
   "source": [
    "# annotations category_id\n",
    "ann_catids=[]\n",
    "ann_ids=[]\n",
    "for an in tqdm(molajson['annotations']):\n",
    "    ann_catids.append(an['category_id'])\n",
    "    ann_ids.append(an['id'])\n",
    "print(len(ann_ids))"
   ]
  },
  {
   "cell_type": "code",
   "execution_count": 45,
   "metadata": {},
   "outputs": [
    {
     "name": "stdout",
     "output_type": "stream",
     "text": [
      "0\n",
      "0\n"
     ]
    }
   ],
   "source": [
    "#TEST dupplicates v1 - slow\n",
    "# duplicates_l=list(set([x for x in ann_ids if ann_ids.count(x) > 1])) # duplicates l \n",
    "#TEST dupplicates v2 - fast\n",
    "#from collections import Counter\n",
    "#duplicates_l=[item for item, count in Counter(ann_ids).items() if count > 1]\n",
    "#TEST duplicates v3 -faster\n",
    "u, c = np.unique(np.array(ann_ids), return_counts=True)\n",
    "duplicates_l= u[c > 1].tolist()\n",
    "print(len(duplicates_l))\n",
    "u, c = np.unique(np.array(catids), return_counts=True)\n",
    "duplicates_l= u[c > 1].tolist()\n",
    "print(len(duplicates_l))"
   ]
  },
  {
   "cell_type": "markdown",
   "metadata": {
    "tags": []
   },
   "source": [
    "## 3. split by annotations\n",
    "#QUESTION Seeded random or not?"
   ]
  },
  {
   "cell_type": "code",
   "execution_count": 46,
   "metadata": {},
   "outputs": [
    {
     "name": "stderr",
     "output_type": "stream",
     "text": [
      "100%|██████████| 1298/1298 [02:23<00:00,  9.05it/s]"
     ]
    },
    {
     "name": "stdout",
     "output_type": "stream",
     "text": [
      "69.95434020220237\n",
      "19.85848948163485\n",
      "9.918788298573697\n"
     ]
    },
    {
     "name": "stderr",
     "output_type": "stream",
     "text": [
      "\n"
     ]
    }
   ],
   "source": [
    "ann_catids_np=np.array(ann_catids)\n",
    "train_ann_catidx=[]\n",
    "val_ann_catidx=[]\n",
    "test_ann_catidx=[]\n",
    "for catid in tqdm(catids):\n",
    "    ann_idx_np = np.where(ann_catids_np==catid)[0] #annotation index of ids\n",
    "    if not ann_idx_np.any(): continue\n",
    "    #print(\"\\n>> \", catid)\n",
    "    \n",
    "    #assert ann_idx_np\n",
    "    u, c = np.unique(ann_idx_np, return_counts=True)\n",
    "    duplicates_l= u[c > 1].tolist()\n",
    "    assert len(duplicates_l)==0 #assert duplicates (above is already)\n",
    "    assert all([True if ann_catids[i]==catid else False for i in ann_idx_np] ) #assert index belongs to catid\n",
    "    \n",
    "    #parameters\n",
    "    train_size=len(ann_idx_np) * train // 100 #floor division\n",
    "    val_size=len(ann_idx_np) * val // 100\n",
    "    test_size=len(ann_idx_np) * test // 100\n",
    "    \n",
    "    #select data\n",
    "    random.shuffle(ann_idx_np) \n",
    "    train_ann_catidx.extend(ann_idx_np[:train_size].tolist())\n",
    "    val_ann_catidx.extend(ann_idx_np[train_size+1:train_size+val_size-1].tolist())\n",
    "    test_ann_catidx.extend(ann_idx_np[train_size+val_size+1:train_size+val_size+test_size].tolist())\n",
    "    #assert \n",
    "    u, c = np.unique(train_ann_catidx, return_counts=True)\n",
    "    duplicates_l= u[c > 1].tolist()\n",
    "    assert len(duplicates_l)==0 #assert duplicates (above is already)\n",
    "\n",
    "\n",
    "\n",
    "print((len(train_ann_catidx)/len(ann_catids))*100)\n",
    "print((len(val_ann_catidx)/len(ann_catids))*100)\n",
    "print((len(test_ann_catidx)/len(ann_catids))*100)"
   ]
  },
  {
   "cell_type": "code",
   "execution_count": 47,
   "metadata": {},
   "outputs": [
    {
     "name": "stdout",
     "output_type": "stream",
     "text": [
      "original:  943300\n",
      "duplicate:  0\n",
      "original:  267782\n",
      "duplicate:  0\n",
      "original:  133750\n",
      "duplicate:  0\n"
     ]
    }
   ],
   "source": [
    "l_dup=[train_ann_catidx, val_ann_catidx,test_ann_catidx ]\n",
    "for i in l_dup:\n",
    "    print('original: ', len(i))\n",
    "    u, c = np.unique(np.array(i), return_counts=True)\n",
    "    duplicates_l= u[c > 1].tolist()\n",
    "    print('duplicate: ',len(duplicates_l))"
   ]
  },
  {
   "cell_type": "markdown",
   "metadata": {},
   "source": [
    "### 4. Save splited jsons"
   ]
  },
  {
   "cell_type": "code",
   "execution_count": 48,
   "metadata": {},
   "outputs": [],
   "source": [
    "percent_idx=[train_ann_catidx,val_ann_catidx, test_ann_catidx]\n",
    "percent_names=['train', 'val', 'test']"
   ]
  },
  {
   "cell_type": "code",
   "execution_count": 49,
   "metadata": {},
   "outputs": [],
   "source": [
    "newjson=copy.copy(molajson)"
   ]
  },
  {
   "cell_type": "code",
   "execution_count": 50,
   "metadata": {},
   "outputs": [
    {
     "name": "stderr",
     "output_type": "stream",
     "text": [
      "  0%|          | 0/3 [00:00<?, ?it/s]"
     ]
    },
    {
     "name": "stdout",
     "output_type": "stream",
     "text": [
      "\n",
      " >> SAVING train...\n"
     ]
    },
    {
     "name": "stderr",
     "output_type": "stream",
     "text": [
      " 33%|███▎      | 1/3 [00:58<01:57, 58.87s/it]"
     ]
    },
    {
     "name": "stdout",
     "output_type": "stream",
     "text": [
      "JSON SAVED : /mnt/Data/Work/EASYRIDE/P19/NC/yolov5/JSONS/annotations/splitann_cocotaolbo_fix_equal_reorder_cleanclass_cleanimg/train.json \n",
      "\n",
      "info 5\n",
      "licenses 9\n",
      "categories 1298\n",
      "videos 1488\n",
      "images 194943\n",
      "tracks 8132\n",
      "segment_info 0\n",
      "annotations 943300\n",
      "datasets 3\n",
      "\n",
      " >> SAVING val...\n"
     ]
    },
    {
     "name": "stderr",
     "output_type": "stream",
     "text": [
      " 67%|██████▋   | 2/3 [01:18<00:36, 36.01s/it]"
     ]
    },
    {
     "name": "stdout",
     "output_type": "stream",
     "text": [
      "JSON SAVED : /mnt/Data/Work/EASYRIDE/P19/NC/yolov5/JSONS/annotations/splitann_cocotaolbo_fix_equal_reorder_cleanclass_cleanimg/val.json \n",
      "\n",
      "info 5\n",
      "licenses 9\n",
      "categories 1298\n",
      "videos 1488\n",
      "images 194943\n",
      "tracks 8132\n",
      "segment_info 0\n",
      "annotations 267782\n",
      "datasets 3\n",
      "\n",
      " >> SAVING test...\n"
     ]
    },
    {
     "name": "stderr",
     "output_type": "stream",
     "text": [
      "100%|██████████| 3/3 [01:30<00:00, 30.20s/it]"
     ]
    },
    {
     "name": "stdout",
     "output_type": "stream",
     "text": [
      "JSON SAVED : /mnt/Data/Work/EASYRIDE/P19/NC/yolov5/JSONS/annotations/splitann_cocotaolbo_fix_equal_reorder_cleanclass_cleanimg/test.json \n",
      "\n",
      "info 5\n",
      "licenses 9\n",
      "categories 1298\n",
      "videos 1488\n",
      "images 194943\n",
      "tracks 8132\n",
      "segment_info 0\n",
      "annotations 133750\n",
      "datasets 3\n"
     ]
    },
    {
     "name": "stderr",
     "output_type": "stream",
     "text": [
      "\n"
     ]
    }
   ],
   "source": [
    "annotations=copy.copy(molajson['annotations']) \n",
    "for i, percent_i in enumerate(tqdm(percent_idx)):\n",
    "    #get new annotations\n",
    "    newjson['annotations']=[annotations[index] for index in percent_i]\n",
    "    # save\n",
    "    print('\\n >> SAVING {}...'.format(percent_names[i]))\n",
    "    outpath=rdir+'splitann_{}/'.format(infilename)\n",
    "    assure_path_exists(outpath)\n",
    "    outjsonfile=outpath+'{}.json'.format(percent_names[i]) #rdir+'{}_{}.json'.format(percent_names[i],infilename)\n",
    "    with open(outjsonfile, 'w') as f:\n",
    "        json.dump(newjson, f)\n",
    "    print(\"JSON SAVED : {} \\n\".format(outjsonfile))\n",
    "    for k in molajson:\n",
    "        print(k, len(newjson[k]))"
   ]
  },
  {
   "cell_type": "markdown",
   "metadata": {},
   "source": [
    "### 5. TEST SPLIT ANNOTATIONS DUPLICATES"
   ]
  },
  {
   "cell_type": "code",
   "execution_count": 51,
   "metadata": {},
   "outputs": [
    {
     "name": "stdout",
     "output_type": "stream",
     "text": [
      "info 5\n",
      "licenses 9\n",
      "categories 1298\n",
      "videos 1488\n",
      "images 194943\n",
      "tracks 8132\n",
      "segment_info 0\n",
      "annotations 133750\n",
      "datasets 3\n"
     ]
    }
   ],
   "source": [
    "outjsonfile=rdir+'splitann_{}/'.format(infilename)+'test.json'\n",
    "# init json\n",
    "molajson =  json.load(open(outjsonfile))\n",
    "for k in molajson:\n",
    "    print(k, len(molajson[k]))"
   ]
  },
  {
   "cell_type": "code",
   "execution_count": 52,
   "metadata": {},
   "outputs": [
    {
     "name": "stderr",
     "output_type": "stream",
     "text": [
      "100%|██████████| 133750/133750 [00:00<00:00, 1980323.99it/s]"
     ]
    },
    {
     "name": "stdout",
     "output_type": "stream",
     "text": [
      "133750\n",
      "0\n"
     ]
    },
    {
     "name": "stderr",
     "output_type": "stream",
     "text": [
      "\n"
     ]
    }
   ],
   "source": [
    "# annotations category_id\n",
    "ann_ids=[]\n",
    "for an in tqdm(molajson['annotations']):\n",
    "    ann_ids.append(an['id'])\n",
    "print(len(ann_ids))\n",
    "\n",
    "#TEST duplicates v3 -faster\n",
    "u, c = np.unique(np.array(ann_ids), return_counts=True)\n",
    "duplicates_l= u[c > 1].tolist()\n",
    "print(len(duplicates_l))"
   ]
  },
  {
   "cell_type": "code",
   "execution_count": null,
   "metadata": {},
   "outputs": [],
   "source": []
  }
 ],
 "metadata": {
  "kernelspec": {
   "display_name": "Python 3 (ipykernel)",
   "language": "python",
   "name": "python3"
  },
  "language_info": {
   "codemirror_mode": {
    "name": "ipython",
    "version": 3
   },
   "file_extension": ".py",
   "mimetype": "text/x-python",
   "name": "python",
   "nbconvert_exporter": "python",
   "pygments_lexer": "ipython3",
   "version": "3.8.10"
  }
 },
 "nbformat": 4,
 "nbformat_minor": 4
}
