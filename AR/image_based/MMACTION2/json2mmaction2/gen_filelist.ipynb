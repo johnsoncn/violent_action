{
 "cells": [
  {
   "cell_type": "code",
   "execution_count": null,
   "id": "changing-colleague",
   "metadata": {},
   "outputs": [],
   "source": [
    "import json\n",
    "import os\n",
    "from pathlib import Path"
   ]
  },
  {
   "cell_type": "markdown",
   "id": "pharmaceutical-education",
   "metadata": {},
   "source": [
    "### CONVERT FILELIST"
   ]
  },
  {
   "cell_type": "code",
   "execution_count": null,
   "id": "legitimate-intervention",
   "metadata": {},
   "outputs": [],
   "source": [
    "#TODO: Convert rawframe filelist to video filelist -remove the total_frames from .txt line \n",
    "#WARNING: use it if you sure that all the videos were converted\n",
    "dataset='INCAR'\n",
    "dataset_type='videos' \n",
    "datadir='/home/administrator/Z/Algorithms/mmaction2/data/INCAR/'\n",
    "outdir=datadir\n",
    "\n",
    "a_file=open(datadir+f'{dataset}_total_rawframes.txt','r')\n",
    "filelist=[]\n",
    "for l in a_file:\n",
    "    strip_line=l.strip()\n",
    "    line_list=strip_line.split()\n",
    "    del line_list[-2]\n",
    "    line_list[0]=line_list[0]+'.mp4'\n",
    "    line=' '.join([ll for ll in line_list])+'\\n'\n",
    "    filelist.append(line)\n",
    "a_file.close() \n",
    "#print(filelist)\n",
    "    \n",
    "   \n",
    "    \n",
    "filename=f'{dataset}_total1_{dataset_type}.txt'\n",
    "with open(outdir + filename, 'w') as f:\n",
    "    f.writelines(filelist)"
   ]
  },
  {
   "cell_type": "markdown",
   "id": "large-notice",
   "metadata": {},
   "source": [
    "### GENERATE FILELIST"
   ]
  },
  {
   "cell_type": "code",
   "execution_count": null,
   "id": "historic-portfolio",
   "metadata": {},
   "outputs": [],
   "source": [
    "classdir=os.getcwd()\n",
    "cls2id = json.load(open(os.path.join(classdir,'cls2id.txt')))\n",
    "id2cls = json.load(open(os.path.join(classdir,'id2cls.txt')))\n",
    "correctedDict = {}\n",
    "for key, value in id2cls.items():\n",
    "\ttry:\n",
    "\t\tkey = int(key)\n",
    "\texcept Exception as ex:\n",
    "\t\tpass\n",
    "\tcorrectedDict[key] = value\n",
    "id2cls = correctedDict #id2cls needs to be int keys"
   ]
  },
  {
   "cell_type": "code",
   "execution_count": null,
   "id": "comfortable-invasion",
   "metadata": {
    "tags": []
   },
   "outputs": [],
   "source": [
    "def list_files(startpath, method=\"videos\", level=2):\n",
    "    #WARNING: For now only works for level 2; \n",
    "    #TODO: For level 1, the annotation json file is needed to extract video and rawframe labels\n",
    "    if level==1: raise \n",
    "    \n",
    "    filelist=[]\n",
    "    first=True\n",
    "    for root, dirs, files in os.walk(startpath):\n",
    "        if first: #don't use the first root\n",
    "            first=False\n",
    "            continue \n",
    "        label=''\n",
    "        if level==2: \n",
    "            category=os.path.basename(root)\n",
    "            label=cls2id[category]\n",
    "        if method==\"videos\":\n",
    "            for f in files:\n",
    "                # video annotation file list: json to txt [video_path label]\n",
    "                video_fn=f\n",
    "                vidline = f'{video_fn} {label}\\n'\n",
    "                if level==2: vidline = f'{category}/{video_fn} {label}\\n' \n",
    "                filelist.append(vidline) \n",
    "        if method==\"rawframes\": \n",
    "            for d in dirs:\n",
    "                # rawframe annotation file list: json to txt [frame_directory total_frames label]\n",
    "                video_fn=d\n",
    "                total_frames=len(files)\n",
    "                frameline = f'{video_fn} {total_frames} {label}\\n'\n",
    "                if level==2: vidline = f'{category}/{video_fn} {total_frames} {label}\\n' \n",
    "                filelist.append(frameline) \n",
    "    return filelist\n",
    "#dataset_type='videos' #\n",
    "#datadir='/home/administrator/Z/Algorithms/mmaction2/data/INCAR/'\n",
    "#list_files(datadir+dataset_type+'/', method=dataset_type, level=2)"
   ]
  },
  {
   "cell_type": "code",
   "execution_count": null,
   "id": "ethical-drawing",
   "metadata": {},
   "outputs": [],
   "source": [
    "# GENERATE FILELISTS\n",
    "#save imglist : mola_{train,val}_rawframes.txt\n",
    "dataset='INCAR'\n",
    "dataset_type='videos' #\n",
    "datadir='/home/administrator/Z/Algorithms/mmaction2/data/INCAR/'\n",
    "outdir=datadir\n",
    "filelist=list_files(datadir+dataset_type+'/', method=dataset_type, level=2)\n",
    "\n",
    "filename=f'{dataset}_total_{dataset_type}.txt'\n",
    "with open(outdir + filename, 'w') as f:\n",
    "    f.writelines(filelist)"
   ]
  },
  {
   "cell_type": "markdown",
   "id": "theoretical-death",
   "metadata": {},
   "source": [
    "### SPLIT FILELIST"
   ]
  },
  {
   "cell_type": "code",
   "execution_count": null,
   "id": "certain-pitch",
   "metadata": {},
   "outputs": [],
   "source": [
    "def split_filelist(path):\n",
    "    filelist=[]\n",
    "    with open(path) as f:\n",
    "        filelist=f.readlines()\n",
    "    split=['train','val','test']\n",
    "    for s in split:\n",
    "        ps=[]\n",
    "        if s==\"train\": ps=['P'+str(i+1)+'_' for i in range(8)]\n",
    "        if s==\"val\": ps=['P'+str(i+1)+'_' for i in range(8,12)]\n",
    "        if s==\"test\": ps=['P'+str(i+1)+'_' for i in range(12,16)]\n",
    "        filelist_split=[l for l in filelist for p in ps if l.find(p)>-1]\n",
    "        filelist_split=list(dict.fromkeys(filelist_split))\n",
    "        fn_split=Path(path).stem.split('_')\n",
    "        fn_split[-2]=s\n",
    "        fn_split='_'.join(fn_split)\n",
    "        \n",
    "        with open(os.path.join(os.path.dirname(path),fn_split+'.txt'), 'w') as f:\n",
    "            f.writelines(filelist_split)\n",
    "    return\n",
    "split_filelist(\"/home/administrator/Z/Algorithms/mmaction2/data/INCAR/INCAR_total_videos.txt\")"
   ]
  },
  {
   "cell_type": "code",
   "execution_count": null,
   "id": "included-pointer",
   "metadata": {},
   "outputs": [],
   "source": []
  },
  {
   "cell_type": "code",
   "execution_count": null,
   "id": "unknown-structure",
   "metadata": {},
   "outputs": [],
   "source": []
  }
 ],
 "metadata": {
  "kernelspec": {
   "display_name": "Python 3",
   "language": "python",
   "name": "python3"
  },
  "language_info": {
   "codemirror_mode": {
    "name": "ipython",
    "version": 3
   },
   "file_extension": ".py",
   "mimetype": "text/x-python",
   "name": "python",
   "nbconvert_exporter": "python",
   "pygments_lexer": "ipython3",
   "version": "3.8.8"
  }
 },
 "nbformat": 4,
 "nbformat_minor": 5
}
