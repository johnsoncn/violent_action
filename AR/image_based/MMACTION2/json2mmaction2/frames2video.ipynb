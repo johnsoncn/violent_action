{
 "cells": [
  {
   "cell_type": "markdown",
   "metadata": {},
   "source": [
    "## mmaction2 implementation\n",
    "Only works on linux - for windows use full implementation"
   ]
  },
  {
   "cell_type": "code",
   "execution_count": null,
   "metadata": {},
   "outputs": [],
   "source": [
    "mmadir='/home/administrator/Z/Algorithms/mmaction2/'\n",
    "src_dir=mmadir+'data/INCAR/rawframes/'#'C:/Users/nmc_costa/Desktop/Desk/mmaction2/data/kinetics_INCAR/rawframes/'\n",
    "out_dir=mmadir+'data/INCAR/videos/'#'C:/Users/nmc_costa/Desktop/Desk/mmaction2/data/kinetics_INCAR/videos/'\n",
    "print(src_dir)\n",
    "print(out_dir)"
   ]
  },
  {
   "cell_type": "code",
   "execution_count": null,
   "metadata": {},
   "outputs": [],
   "source": [
    "!which python"
   ]
  },
  {
   "cell_type": "code",
   "execution_count": null,
   "metadata": {},
   "outputs": [],
   "source": [
    "mma_build_vids_dir=mmadir+'tools/data/' #\"C:\\Users\\nmc_costa\\Desktop\\Desk\\mmaction2\\tools\\data\""
   ]
  },
  {
   "cell_type": "code",
   "execution_count": null,
   "metadata": {
    "tags": []
   },
   "outputs": [],
   "source": [
    "%cd $mma_build_vids_dir"
   ]
  },
  {
   "cell_type": "code",
   "execution_count": null,
   "metadata": {
    "tags": []
   },
   "outputs": [],
   "source": [
    "!python build_videos.py $src_dir $out_dir --fps 30 --level 2 --num-worker 8 --in-format png --start-idx 0 --filename-tmpl img_%05d --ext mp4"
   ]
  },
  {
   "cell_type": "markdown",
   "metadata": {},
   "source": [
    "## Full implementation"
   ]
  },
  {
   "cell_type": "code",
   "execution_count": null,
   "metadata": {},
   "outputs": [],
   "source": [
    "src_dir='C:/Users/nmc_costa/Desktop/Desk/mmaction2/data/kinetics_INCAR/rawframes/'\n",
    "out_dir='C:/Users/nmc_costa/Desktop/Desk/mmaction2/data/kinetics_INCAR/videos/'\n",
    "print(src_dir)\n",
    "print(out_dir)"
   ]
  },
  {
   "cell_type": "code",
   "execution_count": null,
   "metadata": {},
   "outputs": [],
   "source": [
    "import argparse\n",
    "import glob\n",
    "import os\n",
    "import os.path as osp\n",
    "import sys\n",
    "from multiprocessing import Pool\n",
    "import multiprocessing, logging\n",
    "\n",
    "FORMAT = '%(asctime)-15s %(clientip)s %(user)-8s %(message)s'\n",
    "logging.basicConfig(format=FORMAT)\n",
    "mpl = multiprocessing.log_to_stderr()\n",
    "mpl.setLevel(logging.INFO)"
   ]
  },
  {
   "cell_type": "code",
   "execution_count": null,
   "metadata": {},
   "outputs": [],
   "source": [
    "def encode_video(frame_dir_item):\n",
    "    \"\"\"Encode frames to video using ffmpeg.\n",
    "\n",
    "    Args:\n",
    "        frame_dir_item (list): Rawframe item containing raw frame directory\n",
    "            full path, rawframe directory (short) path, rawframe directory id.\n",
    "\n",
    "    Returns:\n",
    "        bool: Whether synthesize video successfully.\n",
    "    \"\"\"\n",
    "    print(\"start encoding...\")\n",
    "    full_path, frame_dir_path, frame_dir_id = frame_dir_item\n",
    "    out_full_path = args.out_dir\n",
    "\n",
    "    img_name_tmpl = args.filename_tmpl + '.' + args.in_format\n",
    "    img_path = osp.join(full_path, img_name_tmpl)\n",
    "\n",
    "    out_vid_name = frame_dir_path + '.' + args.ext\n",
    "    out_vid_path = osp.join(out_full_path, out_vid_name)\n",
    "    \n",
    "    print('img_path:', img_path)\n",
    "    print('out_vid_path:', out_vid_path)\n",
    "\n",
    "    cmd = osp.join(\n",
    "        f\"ffmpeg -start_number {args.start_idx} -r {args.fps} -i '{img_path}' \"\n",
    "        f\"-vcodec {args.vcodec} '{out_vid_path}'\")\n",
    "    os.system(cmd)\n",
    "\n",
    "    print(f'{frame_dir_id} {frame_dir_path} done')\n",
    "    sys.stdout.flush()\n",
    "    return True"
   ]
  },
  {
   "cell_type": "code",
   "execution_count": null,
   "metadata": {},
   "outputs": [],
   "source": [
    "class Namespace:\n",
    "    def __init__(self, **kwargs):\n",
    "        self.__dict__.update(kwargs)\n",
    "args = {\"level\": 2, \n",
    "        \"fps\": 30, \n",
    "        \"num_worker\": 8, \n",
    "        \"in_format\": 'png', \n",
    "        \"start_idx\": 1,\n",
    "        \"filename_tmpl\": 'img_%05d', \n",
    "        \"vcodec\":'mpeg4',\n",
    "        \"ext\":'mp4',\n",
    "        \"resume\":False\n",
    "       } \n",
    "args[\"src_dir\"]=src_dir\n",
    "args[\"out_dir\"]=out_dir\n",
    "args = Namespace(**args)"
   ]
  },
  {
   "cell_type": "code",
   "execution_count": null,
   "metadata": {},
   "outputs": [],
   "source": [
    "if not osp.isdir(args.out_dir):\n",
    "    print(f'Creating folder: {args.out_dir}')\n",
    "    os.makedirs(args.out_dir)\n",
    "\n",
    "if args.level == 2:\n",
    "    classes = os.listdir(args.src_dir)\n",
    "    for classname in classes:\n",
    "        new_dir = osp.join(args.out_dir, classname)\n",
    "        if not osp.isdir(new_dir):\n",
    "            print(f'Creating folder: {new_dir}')\n",
    "            os.makedirs(new_dir)\n",
    "\n",
    "print('Reading rgb frames from folder: ', args.src_dir)\n",
    "print('Input format of rgb frames: ', args.in_format)\n",
    "fullpath_list = glob.glob(args.src_dir + '/*' * args.level)\n",
    "done_fullpath_list = glob.glob(args.src_dir + '/*' * args.level + '.' +\n",
    "                               args.ext)\n",
    "print('Total number of rgb frame folders found: ', len(fullpath_list))\n",
    "\n",
    "if args.resume:\n",
    "    fullpath_list = set(fullpath_list).difference(set(done_fullpath_list))\n",
    "    fullpath_list = list(fullpath_list)\n",
    "    print('Resuming. number of videos to be synthesized: ',\n",
    "          len(fullpath_list))\n",
    "\n",
    "if args.level == 2:\n",
    "    frame_dir_list = list(\n",
    "        map(\n",
    "            lambda p: osp.join(\n",
    "                osp.basename(osp.dirname(p)), osp.basename(p)),\n",
    "            fullpath_list))\n",
    "elif args.level == 1:\n",
    "    frame_dir_list = list(map(lambda p: osp.basename(p), fullpath_list))\n",
    "\n",
    "print(\"frame_dir_list:\", len(frame_dir_list) )\n",
    "print(\"fullpath_list:\", len(fullpath_list) )\n",
    "print(\"start pool...\")\n",
    "\n",
    "method=\"for\"\n",
    "if method==\"multiprocessing\": #works in linux\n",
    "    pool = Pool(args.num_worker)\n",
    "    pool.map(encode_video,\n",
    "             zip(fullpath_list, frame_dir_list, range(len(frame_dir_list))))\n",
    "if method==\"for\":\n",
    "    for i in range(len(frame_dir_list)):\n",
    "        frame_dir_item = fullpath_list[i], frame_dir_list[i] , i\n",
    "        encode_video( frame_dir_item )\n",
    "        "
   ]
  }
 ],
 "metadata": {
  "kernelspec": {
   "display_name": "Python 3",
   "language": "python",
   "name": "python3"
  },
  "language_info": {
   "codemirror_mode": {
    "name": "ipython",
    "version": 3
   },
   "file_extension": ".py",
   "mimetype": "text/x-python",
   "name": "python",
   "nbconvert_exporter": "python",
   "pygments_lexer": "ipython3",
   "version": "3.8.8"
  }
 },
 "nbformat": 4,
 "nbformat_minor": 4
}
