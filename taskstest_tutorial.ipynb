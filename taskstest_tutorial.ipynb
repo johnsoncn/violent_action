{
 "cells": [
  {
   "cell_type": "markdown",
   "metadata": {},
   "source": [
    "# TEST TASKS\n",
    "\n",
    "author: nmc-costa\n",
    "\n",
    "info: completed P19 tasks\n"
   ]
  },
  {
   "cell_type": "markdown",
   "metadata": {},
   "source": [
    "# SETUP"
   ]
  },
  {
   "cell_type": "code",
   "execution_count": null,
   "metadata": {},
   "outputs": [],
   "source": [
    "!git https://github.com/nmc-costa/violent_action.git  # clone repo\n",
    "!conda env create -f violent_action/conda/win_env.yml #current windows build (there is also anyOS_env.yml, but for windows may not work)\n",
    "#!pip install -qr violent_action/requirements.txt  # install dependencies using pip instead of conda (ignore errors)\n",
    "#TODO setup.py installation with all dependencies"
   ]
  },
  {
   "cell_type": "markdown",
   "metadata": {},
   "source": [
    "# TODO"
   ]
  },
  {
   "cell_type": "markdown",
   "metadata": {},
   "source": [
    "- Create annotate method (mlabjson): pointer? or merger? (look at TAO)\n",
    "- Validate annotation (create test)\n",
    "- Update: yolov5 clone; Requirements;"
   ]
  },
  {
   "cell_type": "markdown",
   "metadata": {
    "colab_type": "text",
    "id": "7mGmQbAO5pQb"
   },
   "source": [
    "# COMPLETED"
   ]
  },
  {
   "cell_type": "markdown",
   "metadata": {},
   "source": [
    "## 5. TAO yolov5 validation Test"
   ]
  },
  {
   "cell_type": "markdown",
   "metadata": {},
   "source": [
    "    5.1. (json2yolo) Annotations=> YOLO FORMAT : test json2yolo/json2yolo.py"
   ]
  },
  {
   "cell_type": "code",
   "execution_count": null,
   "metadata": {},
   "outputs": [],
   "source": [
    "from yolo.json2yolo.json2yolo import convert_tao_json\n",
    "\n",
    "#CREATE LABELS and IMAGES FOLDER\n",
    "convert_tao_json(json_dir='D:/external_datasets/TAO/TAO_DIR/annotations/', \n",
    "                 outdir=\"D:/external_datasets/yoloformat/tao128/\", img_number=128)"
   ]
  },
  {
   "cell_type": "markdown",
   "metadata": {},
   "source": [
    "    5.2. TAO yolov5 validation test: test yolo/yolov5_v2_tao128test.ipynb"
   ]
  },
  {
   "cell_type": "markdown",
   "metadata": {},
   "source": [
    "        5.2.1 Check yolo/tao128_external.yaml paths\n",
    "        5.2.2 Check yolo/yolov5/models/yolov5s.yaml 'nc:1230' number of class parameter\n",
    "        5.2.3 Delete yolo/yolov5/runs/exp0 ->in windows exp0 doens't increment, so it is implemented !rm -rfv runs/exp0"
   ]
  },
  {
   "cell_type": "code",
   "execution_count": null,
   "metadata": {},
   "outputs": [],
   "source": [
    "run yolo/yolov5_v2_tao128test.ipynb"
   ]
  },
  {
   "cell_type": "markdown",
   "metadata": {},
   "source": [
    "## 4. yolov5 validation test: test yolo/yolov5_v2_coco128test.ipynb\n",
    "    - train, test and inference(detect) working in Windows and WSL2\n",
    "    - #TODO #BUG WINDOWS jupyter don't print in realtime to console; macOS and WSL works in real time "
   ]
  },
  {
   "cell_type": "markdown",
   "metadata": {},
   "source": [
    "    4.1 Check yolo/coco128_external.yaml paths\n",
    "    4.2 Check yolo/yolov5/models/yolov5s.yaml 'nc:80' number of class parameter"
   ]
  },
  {
   "cell_type": "code",
   "execution_count": null,
   "metadata": {},
   "outputs": [],
   "source": [
    "run yolo/yolov5_v2_coco128test.ipynb"
   ]
  },
  {
   "cell_type": "markdown",
   "metadata": {},
   "source": [
    "## 3. Resolve yolov5 faulty installation: test requirements.txt \n",
    "    - (Below the requirement FAQs)"
   ]
  },
  {
   "cell_type": "code",
   "execution_count": null,
   "metadata": {},
   "outputs": [],
   "source": [
    "# FAQs\n",
    "#------\n",
    "\n",
    "# #WARNING windows : pycocotools fails - use pip install git+https://github.com/cocodataset/cocoapi.git#subdirectory=PythonAPI\n",
    "# #WARNING windows : gives pip errors ; #SOLUTION installing individually with conda \n",
    "# #WARNING windows : has path problems - see below\n",
    "# #WARNING (WSL-windows subsystem for linux) : pytorch problems \n",
    "# #WARNING WSL : gives pip errors ; #SOLUTION installing with conda \n",
    "# #WARNING WSL : CUDA LIMITATIONS ; #SOLUTION 1) update wsl to wsl 2 kernel: https://docs.microsoft.com/en-us/windows/wsl/install-win10#update-to-wsl-2  ; 2) install windows dev insider build >20150, install cuda-toolkit by following: https://docs.nvidia.com/cuda/wsl-user-guide/index.html #NOTE if ubuntu 2004, just change 1804 in paths; check using torch: import torch torch.cuda.is_available(); #NOTE Performance on GTX 1070: https://developer.nvidia.com/blog/announcing-cuda-on-windows-subsystem-for-linux-2/\n",
    "# #WARNING WSL : spyder needs GUI to work: #SOLUTION https://medium.com/@macasaetjohn/setting-up-a-spyder-environment-with-wsl-bb83716a44f3\n",
    "# #WARNING yolov5: runs are saved inside yolov5/runs/\n",
    "\n",
    "\n",
    "# #BUG WINDOWS yolov5 1 : yolov5.utils.increment_dir function error in windows path ; #SOLVED use (try: except: pass)\n",
    "# #BUG yolov5 2 : zip(*[cache[x] for x in self.img_files]) in yolov5.utils.datasets gives keyerror; #SOLUTION delete cache in dataset, e.g. if img_files='/mnt/d/external_datasets/coco128/images/train2017/000000000073.jpg' and cache key = '/Volumes/Seagate/p19/external_datasets/coco128/images/train2017/000000000073.jpg' you will have a keyerror\n",
    "# #BUG CODE yolov5 : they use 'opt' var declared in if __name__ == '__main__': as a global var : #WARNING can only debug inside script, or you need to recreate the opt as global in your script; pip install -e will be the last resort\n",
    "# #BUG yolov5 pytorch: needs torch==1.5.1 and torchvisio==0.6.1: #SOLVED WSL with cuda: pip install torch==1.5.1+cu101 torchvision==0.6.1+cu101 -f https://download.pytorch.org/whl/torch_stable.html "
   ]
  },
  {
   "cell_type": "markdown",
   "metadata": {},
   "source": [
    "## 2. datasets for human action traking: test datasets/datasets_actiontracking_v4.ipynb"
   ]
  },
  {
   "cell_type": "markdown",
   "metadata": {},
   "source": [
    "## 1. datasets for object tracking: test datasets/datasets_objecttracking_v2.ipynb"
   ]
  },
  {
   "cell_type": "code",
   "execution_count": null,
   "metadata": {},
   "outputs": [],
   "source": []
  }
 ],
 "metadata": {
  "kernelspec": {
   "display_name": "Python 3",
   "language": "python",
   "name": "python3"
  },
  "language_info": {
   "codemirror_mode": {
    "name": "ipython",
    "version": 3
   },
   "file_extension": ".py",
   "mimetype": "text/x-python",
   "name": "python",
   "nbconvert_exporter": "python",
   "pygments_lexer": "ipython3",
   "version": "3.8.3"
  }
 },
 "nbformat": 4,
 "nbformat_minor": 4
}
