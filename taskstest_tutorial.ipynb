{
 "cells": [
  {
   "cell_type": "markdown",
   "metadata": {},
   "source": [
    "# TEST TASKS\n",
    "\n",
    "author: nmc-costa\n",
    "\n",
    "info: completed P19 tasks\n"
   ]
  },
  {
   "cell_type": "markdown",
   "metadata": {},
   "source": [
    "# SETUP"
   ]
  },
  {
   "cell_type": "code",
   "execution_count": null,
   "metadata": {},
   "outputs": [],
   "source": [
    "!git https://github.com/nmc-costa/violent_action.git  # clone repo\n",
    "!conda env create -f violent_action/conda/win_env.yml #current windows build (there is also anyOS_env.yml, but for windows may not work)\n",
    "#!pip install -qr violent_action/requirements.txt  # install dependencies using pip instead of conda (ignore errors)\n",
    "#TODO setup.py installation with all dependencies"
   ]
  },
  {
   "cell_type": "markdown",
   "metadata": {},
   "source": [
    "# TODO"
   ]
  },
  {
   "cell_type": "markdown",
   "metadata": {},
   "source": [
    "- Create annotate method (mlabjson): pointer? or merger? (look at TAO)\n",
    "- Validate annotation (create test)\n",
    "- Update: yolov5 clone; Requirements;"
   ]
  },
  {
   "cell_type": "markdown",
   "metadata": {},
   "source": [
    "## 7. Annotate method (mlabjson): pointer? or merger? (look at TAO)"
   ]
  },
  {
   "cell_type": "markdown",
   "metadata": {},
   "source": [
    "##### Pointer"
   ]
  },
  {
   "cell_type": "code",
   "execution_count": 23,
   "metadata": {},
   "outputs": [],
   "source": [
    "jsonPointer = {\n",
    "                \"TAO\" : \n",
    "                    {\n",
    "                        \"annotations_dir\": \"TAO/TAO_DIR/annotations/\",\n",
    "                        \"API\" : \"https://github.com/TAO-Dataset/tao\",\n",
    "                        \"info\" : \"info\",\n",
    "                        \"images\" : \"images\",\n",
    "                        \"videos\": \"videos\",\n",
    "                        \"tracks\" : \"tracks\",\n",
    "                        \"annotations\" : \"annotations\",\n",
    "                        \"categories\": \"categories\",\n",
    "                        \"licenses\" : \"licenses\",\n",
    "                    },\n",
    "                \"COCO\" :\n",
    "                    {\n",
    "                        \"annotations_dir\": \"coco/annotations/\",\n",
    "                        \"API\" : \"https://github.com/cocodataset/cocoapi\",\n",
    "                        \"info\" : \"info\",\n",
    "                        \"images\" : \"images\",\n",
    "                        \"videos\": \"videos\",\n",
    "                        \"tracks\" : \"tracks\",\n",
    "                        \"annotations\" : \"annotations\",\n",
    "                        \"categories\": \"categories\",\n",
    "                        \"licenses\" : \"licenses\",\n",
    "                    }\n",
    "}"
   ]
  },
  {
   "cell_type": "code",
   "execution_count": 49,
   "metadata": {},
   "outputs": [
    {
     "name": "stdout",
     "output_type": "stream",
     "text": [
      "/mnt/d/external_datasets/TAO/TAO_DIR/annotations/train.json\n",
      "CAT_EXAMPLE:  {\n",
      "    \"def\": \"nut from an oak tree\",\n",
      "    \"frequency\": \"r\",\n",
      "    \"id\": 1,\n",
      "    \"image_count\": 0,\n",
      "    \"instance_count\": 0,\n",
      "    \"name\": \"acorn\",\n",
      "    \"synonyms\": [\n",
      "        \"acorn\"\n",
      "    ],\n",
      "    \"synset\": \"acorn.n.01\"\n",
      "}\n",
      "IMG_EXAMPLE:  {\n",
      "    \"_scale_task_id\": \"5de800eddb2c18001a56aa11\",\n",
      "    \"file_name\": \"train/YFCC100M/v_f69ebe5b731d3e87c1a3992ee39c3b7e/frame0391.jpg\",\n",
      "    \"frame_index\": 390,\n",
      "    \"height\": 480,\n",
      "    \"id\": 0,\n",
      "    \"license\": 0,\n",
      "    \"video\": \"train/YFCC100M/v_f69ebe5b731d3e87c1a3992ee39c3b7e\",\n",
      "    \"video_id\": 0,\n",
      "    \"width\": 640\n",
      "}\n"
     ]
    }
   ],
   "source": [
    "root_dir = \"/mnt/d/external_datasets/\"\n",
    "annotations_dir=root_dir+jsonPointer['TAO']['annotations_dir']\n",
    "cat_key=jsonPointer['TAO']['categories']\n",
    "img_key=jsonPointer['TAO']['images']\n",
    "taofile=annotations_dir+\"train.json\"\n",
    "print(taofile)\n",
    "import json\n",
    "with open(taofile,'r') as f:\n",
    "    js = json.loads(f.read())\n",
    "print(\"CAT_EXAMPLE: \", json.dumps(js[cat_key][0],sort_keys=True, indent=4))\n",
    "print(\"IMG_EXAMPLE: \",json.dumps(js[img_key][0],sort_keys=True, indent=4))"
   ]
  },
  {
   "cell_type": "markdown",
   "metadata": {},
   "source": [
    "##### Merger"
   ]
  },
  {
   "cell_type": "code",
   "execution_count": null,
   "metadata": {},
   "outputs": [],
   "source": [
    "\"TAO\" : {\n",
    "    \"images\": [\n",
    "        {\n",
    "          \"id\": 0,\n",
    "          \"video\": \"train/YFCC100M/v_f69ebe5b731d3e87c1a3992ee39c3b7e\",\n",
    "          \"_scale_task_id\": \"5de800eddb2c18001a56aa11\",\n",
    "          \"width\": 640,\n",
    "          \"height\": 480,\n",
    "          \"file_name\": \"train/YFCC100M/v_f69ebe5b731d3e87c1a3992ee39c3b7e/frame0391.jpg\",\n",
    "          \"frame_index\": 390,\n",
    "          \"license\": 0,\n",
    "          \"video_id\": 0\n",
    "        },\n",
    "    ]\n",
    "}\n",
    "\"COCO\" : {\n",
    "    \"images\": [\n",
    "        {\n",
    "          \"license\": 4,\n",
    "          \"file_name\": \"000000397133.jpg\",\n",
    "          \"coco_url\": \"http://images.cocodataset.org/val2017/000000397133.jpg\",\n",
    "          \"height\": 427,\n",
    "          \"width\": 640,\n",
    "          \"date_captured\": \"2013-11-14 17:02:52\",\n",
    "          \"flickr_url\": \"http://farm7.staticflickr.com/6116/6255196340_da26cf2c9e_z.jpg\",\n",
    "          \"id\": 397133\n",
    "        },\n",
    "    ]\n",
    "}\n",
    "        "
   ]
  },
  {
   "cell_type": "markdown",
   "metadata": {},
   "source": [
    "### #WARNING \n",
    "- Merge, one will need to redo ids, checking in each dataset what type of ids are changing\n",
    "\n",
    "- Pointer, one only updates what is needed in the code, for example saving the image from TAO has 0.jpg and from COCO has 1.jpg"
   ]
  },
  {
   "cell_type": "markdown",
   "metadata": {
    "colab_type": "text",
    "id": "7mGmQbAO5pQb"
   },
   "source": [
    "# COMPLETED"
   ]
  },
  {
   "cell_type": "markdown",
   "metadata": {},
   "source": [
    "## 6. TAO yolov5 validation Test"
   ]
  },
  {
   "cell_type": "markdown",
   "metadata": {},
   "source": [
    "    6.1. (json2yolo) Annotations=> YOLO FORMAT : test json2yolo/json2yolo.py"
   ]
  },
  {
   "cell_type": "code",
   "execution_count": 11,
   "metadata": {},
   "outputs": [
    {
     "name": "stderr",
     "output_type": "stream",
     "text": [
      "Annotations /mnt/d/external_datasets/TAO/TAO_DIR/annotations/train.json:   0%|          | 21/54639 [00:00<21:57, 41.44it/s]\n",
      "Annotations /mnt/d/external_datasets/TAO/TAO_DIR/annotations/val.json:   0%|          | 40/113112 [00:00<29:29, 63.91it/s]\n"
     ]
    }
   ],
   "source": [
    "from yolo.json2yolo.json2yolo import convert_tao_json\n",
    "\n",
    "#CREATE LABELS and IMAGES FOLDER (D:/ or /mnt/d/ WSL)\n",
    "convert_tao_json(json_dir='/mnt/d/external_datasets/TAO/TAO_DIR/annotations/', \n",
    "                 outdir=\"/mnt/d/external_datasets/yoloformat/tao8/\", img_number=8)"
   ]
  },
  {
   "cell_type": "markdown",
   "metadata": {},
   "source": [
    "###### #BUG MISSING TAO FILES - Download problems; or TAO staff removed images that are in the annotations"
   ]
  },
  {
   "cell_type": "markdown",
   "metadata": {},
   "source": [
    "    6.2. TAO yolov5 validation test: test yolo/yolov5_v2_tao128test.ipynb"
   ]
  },
  {
   "cell_type": "markdown",
   "metadata": {},
   "source": [
    "        6.2.1 Check yolo/tao128_external.yaml paths\n",
    "        6.2.2 Check yolo/yolov5/models/yolov5s.yaml 'nc:1230' number of class parameter\n",
    "        6.2.3 Delete yolo/yolov5/runs/exp0 ->in windows exp0 doens't increment, so it is implemented !rm -rfv runs/exp0"
   ]
  },
  {
   "cell_type": "code",
   "execution_count": null,
   "metadata": {},
   "outputs": [],
   "source": [
    "run yolo/yolov5_v2_tao128test.ipynb"
   ]
  },
  {
   "cell_type": "markdown",
   "metadata": {},
   "source": [
    "## 5. yolov5 validation test: test yolo/yolov5_v2_coco128test.ipynb\n",
    "    - train, test and inference(detect) working in Windows and WSL2\n",
    "    - #TODO #BUG WINDOWS jupyter don't print in realtime to console; macOS and WSL works in real time "
   ]
  },
  {
   "cell_type": "markdown",
   "metadata": {},
   "source": [
    "    5.1 Check yolo/coco128_external.yaml paths\n",
    "    5.2 Check yolo/yolov5/models/yolov5s.yaml 'nc:80' number of class parameter"
   ]
  },
  {
   "cell_type": "code",
   "execution_count": null,
   "metadata": {},
   "outputs": [],
   "source": [
    "run yolo/yolov5_v2_coco128test.ipynb"
   ]
  },
  {
   "cell_type": "markdown",
   "metadata": {},
   "source": [
    "## 4. Resolve yolov5 faulty installation: test requirements.txt \n",
    "    - (Below the requirement FAQs)"
   ]
  },
  {
   "cell_type": "code",
   "execution_count": 10,
   "metadata": {},
   "outputs": [],
   "source": [
    "# FAQs\n",
    "#------\n",
    "\n",
    "# #WARNING windows : pycocotools fails - use pip install git+https://github.com/cocodataset/cocoapi.git#subdirectory=PythonAPI\n",
    "# #WARNING windows : gives pip errors ; #SOLUTION installing individually with conda \n",
    "# #WARNING windows : has path problems - see below\n",
    "# #WARNING (WSL-windows subsystem for linux) : pytorch problems \n",
    "# #WARNING WSL : gives pip errors ; #SOLUTION installing with conda \n",
    "# #WARNING WSL : CUDA LIMITATIONS ; #SOLUTION 1) update wsl to wsl 2 kernel: https://docs.microsoft.com/en-us/windows/wsl/install-win10#update-to-wsl-2  ; 2) install windows dev insider build >20150, install cuda-toolkit by following: https://docs.nvidia.com/cuda/wsl-user-guide/index.html #NOTE if ubuntu 2004, just change 1804 in paths; check using torch: import torch torch.cuda.is_available(); #NOTE Performance on GTX 1070: https://developer.nvidia.com/blog/announcing-cuda-on-windows-subsystem-for-linux-2/\n",
    "# #WARNING WSL : spyder needs GUI to work: #SOLUTION https://medium.com/@macasaetjohn/setting-up-a-spyder-environment-with-wsl-bb83716a44f3\n",
    "# #WARNING yolov5: runs are saved inside yolov5/runs/\n",
    "\n",
    "\n",
    "# #BUG WINDOWS yolov5 1 : yolov5.utils.increment_dir function error in windows path ; #SOLVED use (try: except: pass)\n",
    "# #BUG yolov5 2 : zip(*[cache[x] for x in self.img_files]) in yolov5.utils.datasets gives keyerror; #SOLUTION delete cache in dataset, e.g. if img_files='/mnt/d/external_datasets/coco128/images/train2017/000000000073.jpg' and cache key = '/Volumes/Seagate/p19/external_datasets/coco128/images/train2017/000000000073.jpg' you will have a keyerror\n",
    "# #BUG CODE yolov5 : they use 'opt' var declared in if __name__ == '__main__': as a global var : #WARNING can only debug inside script, or you need to recreate the opt as global in your script; pip install -e will be the last resort\n",
    "# #BUG yolov5 pytorch: needs torch==1.5.1 and torchvisio==0.6.1: #SOLVED WSL with cuda: pip install torch==1.5.1+cu101 torchvision==0.6.1+cu101 -f https://download.pytorch.org/whl/torch_stable.html "
   ]
  },
  {
   "cell_type": "markdown",
   "metadata": {},
   "source": [
    "# 3. Create sharable project in Github\n",
    "Link: https://github.com/nmc-costa/violent_action"
   ]
  },
  {
   "cell_type": "markdown",
   "metadata": {},
   "source": [
    "## 2. datasets for human action traking: test datasets/datasets_actiontracking_v4.ipynb"
   ]
  },
  {
   "cell_type": "markdown",
   "metadata": {},
   "source": [
    "## 1. datasets for object tracking: test datasets/datasets_objecttracking_v2.ipynb"
   ]
  },
  {
   "cell_type": "code",
   "execution_count": null,
   "metadata": {},
   "outputs": [],
   "source": []
  }
 ],
 "metadata": {
  "kernelspec": {
   "display_name": "Python 3",
   "language": "python",
   "name": "python3"
  },
  "language_info": {
   "codemirror_mode": {
    "name": "ipython",
    "version": 3
   },
   "file_extension": ".py",
   "mimetype": "text/x-python",
   "name": "python",
   "nbconvert_exporter": "python",
   "pygments_lexer": "ipython3",
   "version": "3.7.7"
  }
 },
 "nbformat": 4,
 "nbformat_minor": 4
}
